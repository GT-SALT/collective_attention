{
 "cells": [
  {
   "cell_type": "markdown",
   "metadata": {},
   "source": [
    "# Test anchor detection on FB data\n",
    "Let's try to detect anchors using the basic strategies:\n",
    "\n",
    "- CITY, MUNICPALITY\n",
    "- LOC + DESCRIPTOR + ANCHOR"
   ]
  },
  {
   "cell_type": "code",
   "execution_count": 53,
   "metadata": {},
   "outputs": [],
   "source": [
    "import pandas as pd\n",
    "import numpy as np\n",
    "from ast import literal_eval"
   ]
  },
  {
   "cell_type": "code",
   "execution_count": 54,
   "metadata": {},
   "outputs": [
    {
     "name": "stdout",
     "output_type": "stream",
     "text": [
      "9389/25435 valid NEs\n"
     ]
    },
    {
     "data": {
      "text/html": [
       "<div>\n",
       "<style scoped>\n",
       "    .dataframe tbody tr th:only-of-type {\n",
       "        vertical-align: middle;\n",
       "    }\n",
       "\n",
       "    .dataframe tbody tr th {\n",
       "        vertical-align: top;\n",
       "    }\n",
       "\n",
       "    .dataframe thead th {\n",
       "        text-align: right;\n",
       "    }\n",
       "</style>\n",
       "<table border=\"1\" class=\"dataframe\">\n",
       "  <thead>\n",
       "    <tr style=\"text-align: right;\">\n",
       "      <th></th>\n",
       "      <th>group_id</th>\n",
       "      <th>status_author_id</th>\n",
       "      <th>status_message</th>\n",
       "      <th>status_lang</th>\n",
       "      <th>status_id</th>\n",
       "      <th>status_published</th>\n",
       "      <th>status_message_clean</th>\n",
       "      <th>status_message_tags</th>\n",
       "      <th>status_message_tags_ne</th>\n",
       "      <th>status_len</th>\n",
       "      <th>status_message_tags_ne_LOC</th>\n",
       "      <th>LOC_GN</th>\n",
       "      <th>LOC_OSM</th>\n",
       "      <th>NE</th>\n",
       "      <th>valid_loc</th>\n",
       "    </tr>\n",
       "  </thead>\n",
       "  <tbody>\n",
       "    <tr>\n",
       "      <th>0</th>\n",
       "      <td>351272391991842</td>\n",
       "      <td>10159623474155515</td>\n",
       "      <td>Estoy preocupada por mi tia vicky vazquez que ...</td>\n",
       "      <td>es</td>\n",
       "      <td>351272391991842_362333787552369</td>\n",
       "      <td>2017-10-19 18:25:23</td>\n",
       "      <td>Estoy preocupada por mi tia vicky vazquez que ...</td>\n",
       "      <td>[(Estoy, O), (preocupada, O), (por, O), (mi, O...</td>\n",
       "      <td>[('asma', 'CAUSE_OF_DEATH'), ('Dorado', 'ORGAN...</td>\n",
       "      <td>579</td>\n",
       "      <td>['Dorado']</td>\n",
       "      <td>1</td>\n",
       "      <td>1</td>\n",
       "      <td>Dorado</td>\n",
       "      <td>1</td>\n",
       "    </tr>\n",
       "    <tr>\n",
       "      <th>1</th>\n",
       "      <td>351272391991842</td>\n",
       "      <td>1716175958400853</td>\n",
       "      <td>En apoyo al alcalde Carlos Lopez y al municipi...</td>\n",
       "      <td>es</td>\n",
       "      <td>351272391991842_361453717640376</td>\n",
       "      <td>2017-10-17 17:38:08</td>\n",
       "      <td>En apoyo al alcalde Carlos Lopez y al municipi...</td>\n",
       "      <td>[(En, O), (apoyo, O), (a, O), (el, O), (alcald...</td>\n",
       "      <td>[('alcalde', 'TITLE'), ('Carlos Lopez', 'PERSO...</td>\n",
       "      <td>74</td>\n",
       "      <td>['Dorado Dorado']</td>\n",
       "      <td>0</td>\n",
       "      <td>0</td>\n",
       "      <td>Dorado Dorado</td>\n",
       "      <td>0</td>\n",
       "    </tr>\n",
       "    <tr>\n",
       "      <th>2</th>\n",
       "      <td>351272391991842</td>\n",
       "      <td>141039043205101</td>\n",
       "      <td>Pueblo de Puerto Rico no se monten en las gran...</td>\n",
       "      <td>es</td>\n",
       "      <td>351272391991842_358929311226150</td>\n",
       "      <td>2017-10-11 14:14:22</td>\n",
       "      <td>Pueblo de Puerto Rico no se monten en las gran...</td>\n",
       "      <td>[(Pueblo, O), (de, O), (Puerto, COUNTRY), (Ric...</td>\n",
       "      <td>[('Puerto Rico', 'COUNTRY'), ('America', 'MISC...</td>\n",
       "      <td>356</td>\n",
       "      <td>['shelter']</td>\n",
       "      <td>0</td>\n",
       "      <td>1</td>\n",
       "      <td>shelter</td>\n",
       "      <td>1</td>\n",
       "    </tr>\n",
       "    <tr>\n",
       "      <th>3</th>\n",
       "      <td>351272391991842</td>\n",
       "      <td>2060154724214607</td>\n",
       "      <td>Guayama, Dorado, y Piñones</td>\n",
       "      <td>es</td>\n",
       "      <td>351272391991842_357797888005959</td>\n",
       "      <td>2017-10-08 14:52:49</td>\n",
       "      <td>Guayama, Dorado, y Piñones</td>\n",
       "      <td>[(Guayama, LOCATION), (,, O), (Dorado, O), (,,...</td>\n",
       "      <td>[('Guayama', 'LOCATION')]</td>\n",
       "      <td>26</td>\n",
       "      <td>['Guayama']</td>\n",
       "      <td>1</td>\n",
       "      <td>1</td>\n",
       "      <td>Guayama</td>\n",
       "      <td>1</td>\n",
       "    </tr>\n",
       "    <tr>\n",
       "      <th>4</th>\n",
       "      <td>351272391991842</td>\n",
       "      <td>10155779649437154</td>\n",
       "      <td>Estoy buscando mi tío, Ivan J. Porrata. Su her...</td>\n",
       "      <td>es</td>\n",
       "      <td>351272391991842_355121381606943</td>\n",
       "      <td>2017-10-01 21:46:29</td>\n",
       "      <td>Estoy buscando mi tío, Ivan J. Porrata. Su her...</td>\n",
       "      <td>[(Estoy, O), (buscando, O), (mi, O), (tío, O),...</td>\n",
       "      <td>[('Ivan J. Porrata', 'PERSON'), ('Tulio', 'PER...</td>\n",
       "      <td>309</td>\n",
       "      <td>['Utuado', 'Toa', 'Baja', 'P.O. Box', 'Dorado'...</td>\n",
       "      <td>1</td>\n",
       "      <td>1</td>\n",
       "      <td>Utuado</td>\n",
       "      <td>1</td>\n",
       "    </tr>\n",
       "  </tbody>\n",
       "</table>\n",
       "</div>"
      ],
      "text/plain": [
       "          group_id   status_author_id  \\\n",
       "0  351272391991842  10159623474155515   \n",
       "1  351272391991842   1716175958400853   \n",
       "2  351272391991842    141039043205101   \n",
       "3  351272391991842   2060154724214607   \n",
       "4  351272391991842  10155779649437154   \n",
       "\n",
       "                                      status_message status_lang  \\\n",
       "0  Estoy preocupada por mi tia vicky vazquez que ...          es   \n",
       "1  En apoyo al alcalde Carlos Lopez y al municipi...          es   \n",
       "2  Pueblo de Puerto Rico no se monten en las gran...          es   \n",
       "3                         Guayama, Dorado, y Piñones          es   \n",
       "4  Estoy buscando mi tío, Ivan J. Porrata. Su her...          es   \n",
       "\n",
       "                         status_id     status_published  \\\n",
       "0  351272391991842_362333787552369  2017-10-19 18:25:23   \n",
       "1  351272391991842_361453717640376  2017-10-17 17:38:08   \n",
       "2  351272391991842_358929311226150  2017-10-11 14:14:22   \n",
       "3  351272391991842_357797888005959  2017-10-08 14:52:49   \n",
       "4  351272391991842_355121381606943  2017-10-01 21:46:29   \n",
       "\n",
       "                                status_message_clean  \\\n",
       "0  Estoy preocupada por mi tia vicky vazquez que ...   \n",
       "1  En apoyo al alcalde Carlos Lopez y al municipi...   \n",
       "2  Pueblo de Puerto Rico no se monten en las gran...   \n",
       "3                         Guayama, Dorado, y Piñones   \n",
       "4  Estoy buscando mi tío, Ivan J. Porrata. Su her...   \n",
       "\n",
       "                                 status_message_tags  \\\n",
       "0  [(Estoy, O), (preocupada, O), (por, O), (mi, O...   \n",
       "1  [(En, O), (apoyo, O), (a, O), (el, O), (alcald...   \n",
       "2  [(Pueblo, O), (de, O), (Puerto, COUNTRY), (Ric...   \n",
       "3  [(Guayama, LOCATION), (,, O), (Dorado, O), (,,...   \n",
       "4  [(Estoy, O), (buscando, O), (mi, O), (tío, O),...   \n",
       "\n",
       "                              status_message_tags_ne  status_len  \\\n",
       "0  [('asma', 'CAUSE_OF_DEATH'), ('Dorado', 'ORGAN...         579   \n",
       "1  [('alcalde', 'TITLE'), ('Carlos Lopez', 'PERSO...          74   \n",
       "2  [('Puerto Rico', 'COUNTRY'), ('America', 'MISC...         356   \n",
       "3                          [('Guayama', 'LOCATION')]          26   \n",
       "4  [('Ivan J. Porrata', 'PERSON'), ('Tulio', 'PER...         309   \n",
       "\n",
       "                          status_message_tags_ne_LOC  LOC_GN  LOC_OSM  \\\n",
       "0                                         ['Dorado']       1        1   \n",
       "1                                  ['Dorado Dorado']       0        0   \n",
       "2                                        ['shelter']       0        1   \n",
       "3                                        ['Guayama']       1        1   \n",
       "4  ['Utuado', 'Toa', 'Baja', 'P.O. Box', 'Dorado'...       1        1   \n",
       "\n",
       "              NE  valid_loc  \n",
       "0         Dorado          1  \n",
       "1  Dorado Dorado          0  \n",
       "2        shelter          1  \n",
       "3        Guayama          1  \n",
       "4         Utuado          1  "
      ]
     },
     "metadata": {},
     "output_type": "display_data"
    }
   ],
   "source": [
    "# load data\n",
    "data = pd.read_csv('../../data/facebook-maria/combined_group_data_es_tagged_valid.tsv', sep='\\t', index_col=False, converters={'status_message_tags' : literal_eval})\n",
    "data = data.assign(**{'valid_loc' : data.loc[:, ['LOC_GN', 'LOC_OSM']].max(axis=1)})\n",
    "data_valid = data[data.loc[:, 'valid_loc']==1]\n",
    "print('%d/%d valid NEs'%(data_valid.shape[0], data.shape[0]))\n",
    "display(data.head())"
   ]
  },
  {
   "cell_type": "code",
   "execution_count": 7,
   "metadata": {
    "scrolled": true
   },
   "outputs": [
    {
     "data": {
      "text/plain": [
       "Guayama                      712\n",
       "Coamo                        419\n",
       "Barranquitas                 410\n",
       "Quebradillas                 289\n",
       "Yabucoa                      258\n",
       "Corozal                      211\n",
       "Cayey                        200\n",
       "Cidra                        193\n",
       "Utuado                       139\n",
       "Walmart                      129\n",
       "San Juan                     127\n",
       "Ponce                        119\n",
       "Lajas                        110\n",
       "Patillas                      99\n",
       "Isabela                       84\n",
       "San Antonio                   84\n",
       "Caguas                        77\n",
       "Naranjito                     77\n",
       "Barrancas                     74\n",
       "Arroyo                        65\n",
       "Sabana                        57\n",
       "el Pueblo                     54\n",
       "Llanos                        53\n",
       "Palmarejo                     53\n",
       "Bayamon                       51\n",
       "Helechal                      51\n",
       "el Carmen                     45\n",
       "Aguadilla                     44\n",
       "Mayaguez                      42\n",
       "USPS                          40\n",
       "                            ... \n",
       "Ramos antonini                 1\n",
       "Vidal                          1\n",
       "Calle Zorzal                   1\n",
       "Sabana Grande                  1\n",
       "Matón Arriba                   1\n",
       "Sector Moreno                  1\n",
       "MARÍA                          1\n",
       "brasilia                       1\n",
       "Piña                           1\n",
       "Solimar                        1\n",
       "Lago Toa Vaca                  1\n",
       "Supermercados Mr. Special      1\n",
       "Paseo Torre Alta               1\n",
       "Guanabano                      1\n",
       "Carretera 183                  1\n",
       "Sector Sapera                  1\n",
       "Apartment                      1\n",
       "San Fernando                   1\n",
       "Florida                        1\n",
       "La Quinta                      1\n",
       "Sector Caribe                  1\n",
       "Pollera                        1\n",
       "ss                             1\n",
       "las Delicias                   1\n",
       "Calle Yuyo Pérez               1\n",
       "Bella vista                    1\n",
       "Calle 4                        1\n",
       "Terralinda                     1\n",
       "Corral Viejo                   1\n",
       "Pandora                        1\n",
       "Name: NE, Length: 1025, dtype: int64"
      ]
     },
     "metadata": {},
     "output_type": "display_data"
    },
    {
     "data": {
      "text/plain": [
       "Barrio Limones         9\n",
       "Barrio Nuevo           3\n",
       "Quebradillas Barrio    3\n",
       "Barrio Yaurel          3\n",
       "Barrio Pueblo          3\n",
       "Helechal Barrio        1\n",
       "quebradillas barrio    1\n",
       "Barrio Santa Ana       1\n",
       "Barrio Belgica         1\n",
       "Name: NE, dtype: int64"
      ]
     },
     "metadata": {},
     "output_type": "display_data"
    },
    {
     "data": {
      "text/plain": [
       "Calle                      33\n",
       "Calle Abajo                 4\n",
       "Calle Barcelona             2\n",
       "Calle 9                     2\n",
       "Calle I                     2\n",
       "Calle Union                 2\n",
       "Callejón Bravo              2\n",
       "Calle Baldorioty            2\n",
       "Calle Crisantemo            2\n",
       "Cuatro Calles               2\n",
       "Calle Morse                 2\n",
       "Calle Cruz Torres           1\n",
       "Calle Almagro               1\n",
       "Calle Orquídea              1\n",
       "Calle Alturas               1\n",
       "Calle Grand Stand           1\n",
       "Calle Sagitario             1\n",
       "Calle Teodomiro Ramírez     1\n",
       "Calle Guaraguao             1\n",
       "Calle San Judas             1\n",
       "Calle Domenech              1\n",
       "Calle San Jose              1\n",
       "Calle Unión                 1\n",
       "calle                       1\n",
       "Calle Opal                  1\n",
       "Calle Luna                  1\n",
       "Calle Esmeralda             1\n",
       "Calle Violetas              1\n",
       "Calle Comercio              1\n",
       "Calle José                  1\n",
       "Calle Flamboyan             1\n",
       "Calle Ruiz Belvis           1\n",
       "Calle Aleli                 1\n",
       "Calle Villa                 1\n",
       "Calle D                     1\n",
       "Calle Ceiba                 1\n",
       "Calle Camelia               1\n",
       "Calle Zorzal                1\n",
       "Calle Yuyo Pérez            1\n",
       "Calle 4                     1\n",
       "Name: NE, dtype: int64"
      ]
     },
     "metadata": {},
     "output_type": "display_data"
    }
   ],
   "source": [
    "import re\n",
    "NE_counts = data_valid.loc[:, 'NE'].value_counts()\n",
    "display(NE_counts)\n",
    "city_matcher = re.compile('barrio')\n",
    "street_matcher = re.compile('calle')\n",
    "# neighborhood counts\n",
    "display(NE_counts.loc[[x for x in NE_counts.index if city_matcher.search(x.lower()) is not None]])\n",
    "# street counts\n",
    "display(NE_counts.loc[[x for x in NE_counts.index if street_matcher.search(x.lower()) is not None]])"
   ]
  },
  {
   "cell_type": "markdown",
   "metadata": {},
   "source": [
    "Not as many cities/streets as I thought! This means we'll have to try using everything...yikes."
   ]
  },
  {
   "cell_type": "markdown",
   "metadata": {},
   "source": [
    "## Test pattern matching"
   ]
  },
  {
   "cell_type": "markdown",
   "metadata": {},
   "source": [
    "Let's set up the pattern matcher for the CITY, MUNICIPALITY pattern. This requires a list of all municipalities which we can get from the gazetteer."
   ]
  },
  {
   "cell_type": "code",
   "execution_count": 8,
   "metadata": {},
   "outputs": [],
   "source": [
    "geonames_data = pd.read_csv('/hg190/corpora/GeoNames/allCountriesSimplified.tsv', sep='\\t', index_col=False)\n",
    "geonames_data_PR = geonames_data[geonames_data.loc[:, 'country']=='PR']\n",
    "geonames_data_PR_muni = geonames_data_PR[geonames_data_PR.loc[:, 'feature_code']=='ADM1']"
   ]
  },
  {
   "cell_type": "code",
   "execution_count": 21,
   "metadata": {},
   "outputs": [
    {
     "data": {
      "text/plain": [
       "array(['Mi gente a pesar de tanta desgracia en nuestra isla ya gracias a Dios muchas personas de Corozal se han podido comunicar con sus Familiares desde Río hondo, Cataño, por los filtros en fin estamos bien contentos de poder ayudarnos unos a los otros por esta página y por Zello todos los que estamos fuera de PR estamos recopilando información que nos dan nuestros Familiares y se las estamos haciendo llegar lo hacemos con mucho cariño esto ha hecho que estemos muchas personas unidas de distintas partes de los Estados Unidos mi gente la unión hace la fuerza!!!!!!! 🇵🇷♥️🇵🇷♥️🇵🇷si reciben una llamada de un número desconocido contesten por favor ya están pasando por los distintos barrios con teléfonos civiles!para que los familiares tengan contacto con nosotros que estamos fuera de PR',\n",
       "       'Río hondo'], dtype=object)"
      ]
     },
     "execution_count": 21,
     "metadata": {},
     "output_type": "execute_result"
    }
   ],
   "source": [
    "data_valid.iloc[300, :].loc[['status_message', 'NE']].values"
   ]
  },
  {
   "cell_type": "code",
   "execution_count": 36,
   "metadata": {},
   "outputs": [
    {
     "name": "stdout",
     "output_type": "stream",
     "text": [
      "True\n"
     ]
    }
   ],
   "source": [
    "import re\n",
    "from unidecode import unidecode\n",
    "def clean_txt(x):\n",
    "    return unidecode(x.lower())\n",
    "PR_muni_names = [clean_txt(x.replace(' Municipio', '')) for x in geonames_data_PR_muni.loc[:, 'name'].unique()]\n",
    "\n",
    "def match_city_loc_pattern(NE, txt, loc_names):\n",
    "    NE_matcher = re.compile('|'.join(['%s,?\\s?%s|%s,?\\s?%s'%(clean_txt(NE), x, x, clean_txt(NE)) for x in loc_names]))\n",
    "    city_loc_match = NE_matcher.search(clean_txt(txt))\n",
    "    return city_loc_match is not None\n",
    "NE_test = 'Río hondo'\n",
    "txt_test = \"\"\"\n",
    "Mi gente a pesar de tanta desgracia en nuestra isla ya gracias a Dios muchas personas de Corozal se han podido comunicar con sus Familiares desde Río hondo, Cataño, por los filtros en fin estamos bien contentos de poder ayudarnos unos a los otros por esta página y por Zello todos los que estamos fuera de PR estamos recopilando información que nos dan nuestros Familiares y se las estamos haciendo llegar lo hacemos con mucho cariño esto ha hecho que estemos muchas personas unidas de distintas partes de los Estados Unidos mi gente la unión hace la fuerza!!!!!!! 🇵🇷♥️🇵🇷♥️🇵🇷si reciben una llamada de un número desconocido contesten por favor ya están pasando por los distintos barrios con teléfonos civiles!para que los familiares tengan contacto con nosotros que estamos fuera de PR\n",
    "\"\"\"\n",
    "print(match_city_loc_pattern(NE_test, txt_test, PR_muni_names))"
   ]
  },
  {
   "cell_type": "code",
   "execution_count": 125,
   "metadata": {},
   "outputs": [
    {
     "name": "stdout",
     "output_type": "stream",
     "text": [
      "\"Adjuntas\",\"Aguada\",\"Aguadilla\",\"Aguas Buenas\",\"Aibonito\",\"Añasco\",\"Arecibo\",\"Arroyo\",\"Barceloneta\",\"Barranquitas\",\"Bayamón\",\"Cabo Rojo\",\"Caguas\",\"Camuy\",\"Canóvanas\",\"Carolina\",\"Cataño\",\"Cayey\",\"Ceiba\",\"Ciales\",\"Cidra\",\"Coamo\",\"Comerío\",\"Corozal\",\"Culebra\",\"Dorado\",\"Fajardo\",\"Florida\",\"Guánica\",\"Guayama\",\"Guayanilla\",\"Guaynabo\",\"Gurabo\",\"Hatillo\",\"Hormigueros\",\"Humacao\",\"Municipio de Isabela\",\"Municipio de Jayuya\",\"Juana Díaz\",\"Municipio de Juncos\",\"Lajas\",\"Lares\",\"Las Marías\",\"Las Piedras\",\"Loíza\",\"Luquillo\",\"Manatí\",\"Maricao\",\"Maunabo\",\"Mayagüez\",\"Moca\",\"Morovis\",\"Naguabo\",\"Naranjito\",\"Orocovis\",\"Patillas\",\"Peñuelas\",\"Ponce\",\"Rincón\",\"Quebradillas\",\"Río Grande\",\"Sabana Grande\",\"Salinas\",\"San Germán\",\"San Juan\",\"San Lorenzo\",\"San Sebastián\",\"Santa Isabel\",\"Toa Alta\",\"Toa Baja\",\"Trujillo Alto\",\"Utuado\",\"Vega Alta\",\"Vega Baja\",\"Villalba\",\"Yabucoa\",\"Yauco\",\"Vieques Municipality\"\n"
     ]
    }
   ],
   "source": [
    "print(','.join(['\"%s\"'%(x.replace(' Municipio', '')) for x in geonames_data_PR_muni.loc[:, 'name'].unique()]))"
   ]
  },
  {
   "cell_type": "markdown",
   "metadata": {},
   "source": [
    "How much coverage do we get through this matching alone?"
   ]
  },
  {
   "cell_type": "code",
   "execution_count": 55,
   "metadata": {},
   "outputs": [],
   "source": [
    "def tags_to_txt(x):\n",
    "    return ' '.join([y[0] for y in x])\n",
    "PR_state_names = ['PR ', 'Puerto Rico ']\n",
    "PR_state_names = [clean_txt(x) for x in PR_state_names]\n",
    "data_valid = data_valid.assign(**{'has_state_descriptor' : data_valid.apply(lambda x: match_city_loc_pattern(x.loc['NE'], tags_to_txt(x.loc['status_message_tags']), PR_state_names), axis=1)})\n",
    "data_valid = data_valid.assign(**{'has_muni_descriptor' : data_valid.apply(lambda x: match_city_loc_pattern(x.loc['NE'], x.loc['status_message'], PR_muni_names), axis=1)})"
   ]
  },
  {
   "cell_type": "code",
   "execution_count": 56,
   "metadata": {},
   "outputs": [
    {
     "name": "stdout",
     "output_type": "stream",
     "text": [
      "353/9389 NEs with muni descriptor\n",
      "72/9389 NEs with state descriptor\n"
     ]
    }
   ],
   "source": [
    "print('%d/%d NEs with muni descriptor'%(data_valid.loc[:, 'has_muni_descriptor'].sum(), data_valid.shape[0]))\n",
    "print('%d/%d NEs with state descriptor'%(data_valid.loc[:, 'has_state_descriptor'].sum(), data_valid.shape[0]))"
   ]
  },
  {
   "cell_type": "code",
   "execution_count": 57,
   "metadata": {
    "scrolled": true
   },
   "outputs": [
    {
     "data": {
      "text/plain": [
       "array([['Mi gente tenemos que ayudar a florecer a nuestra Isla Bella. Dejemos de criticar y actuemos unamonos, para levantar a nuestra Isla, Adopten a una Familia en Puerto Rico y envíen una caja de comida todos los meses. Mi gente de Puerto Rico vamos a ayudarlos. Mi gente de Corozal estamos aquí, nos hemos unidos en Zellow en el Canal Corozal PR los invitos juntos a la pagina en Facebook Corozal Huracán Maria a que trabajemos por Puerto Rico. Nosotros desde los Estados Unidos podemos hacer la diferencia. Mi gente hermosa de Puerto Rico y Corozal estamos con ustedes. #Puertoricoselevanta',\n",
       "        'Corozal'],\n",
       "       ['Mi gente tenemos que ayudar a florecer a nuestra Isla Bella. Dejemos de criticar y actuemos unamonos, para levantar a nuestra Isla, Adopten a una Familia en Puerto Rico y envíen una caja de comida todos los meses. Mi gente de Puerto Rico vamos a ayudarlos. Mi gente de Corozal estamos aquí, nos hemos unidos en Zellow en el Canal Corozal PR los invitos juntos a la pagina en Facebook Corozal Huracán Maria a que trabajemos por Puerto Rico. Nosotros desde los Estados Unidos podemos hacer la diferencia. Mi gente hermosa de Puerto Rico y Corozal estamos con ustedes. #Puertoricoselevanta',\n",
       "        'Corozal'],\n",
       "       ['Por favor,  necesitamos comunicarnos o tener noticias del niño “Carlos Randelle Rivera Hernandez”,  vive con su padre Norberto Rivera Rivera y esposa de este Julissa Calderón en dirección Hc 03 Box 14 764 Corozal Puerto Rico Sector Naranjito.  Su madre, Yomilis Hernandez, su abuela Candy Rosy, hermanos y sus tíos estamos desesperados en Rep. Dominicana sin saber nada de él desde el paso del huracán. Si tienen noticias por favor comunicarse 829 642 9187. O escribirme a mi Facebook Jonck Díaz … lo agradeceré en el alma.',\n",
       "        'Corozal'],\n",
       "       ['Hola Buenas Tardes por casualidad alguien saben algo de Los Condominios  Las Lomas en San Juan Puerto Rico vi en el google map es cerca de la Avenida San Patricio es que no sé nada de mi familia todavía si tienen alguna info se lo agradecería gracias y Dios les bendiga',\n",
       "        'San Juan'],\n",
       "       ['Making our people happy at a shelter, 20 days after the hurricane - Yabucoa PR. Con nuestra gente de Yabucoa en el refugio de la high school. We took some Ice, Pepsi and cookies.',\n",
       "        'Yabucoa'],\n",
       "       ['Humacao Puerto Rico- 2.00 por bolsa de hielo. Solo una borsa por persona',\n",
       "        'Humacao'],\n",
       "       ['Making our people happy at a shelter, 20 days after the hurricane - Yabucoa PR. Con nuestra gente de Yabucoa en el refugio de la high school. We took some Ice, Pepsi and cookies.',\n",
       "        'Yabucoa'],\n",
       "       ['Making our people happy at a shelter, 20 days after the hurricane - Yabucoa PR. Con nuestra gente de Yabucoa en el refugio de la high school. We took some Ice, Pepsi and cookies.',\n",
       "        'Yabucoa'],\n",
       "       ['Urb. Jaime C. RodriguezCalle 6 K-39 Yabucoa PR 00767,quiero saber de mi hermano,Osvaldo Rivera y esposa Maritza Burgos,vracias',\n",
       "        'Yabucoa'],\n",
       "       ['NECESITO tu ayuda para una familia desesperada Si conoce alguien en PonceEstamos buscando un viejito de 93 años Luis Rodriguez Costa Coral 2932 Ponce PR 00717Su teléfono 787-908-6178Favor de llamar al 914-844-5700Este Señor es conocido por todos como CasimiroSus familiares están angustiados 😢😢❤️',\n",
       "        'Ponce']], dtype=object)"
      ]
     },
     "execution_count": 57,
     "metadata": {},
     "output_type": "execute_result"
    }
   ],
   "source": [
    "data_valid[data_valid.loc[:, 'has_state_descriptor']].loc[:, ['status_message', 'NE']].head(10).values"
   ]
  },
  {
   "cell_type": "code",
   "execution_count": 60,
   "metadata": {},
   "outputs": [
    {
     "data": {
      "text/plain": [
       "array([['Barrio Nuevo',\n",
       "        'Hola.. Estamos buscando noticias sobre el pueblo Barrio Nuevo.. sector Bunker Hill. Mi tío Primitivo Rivera vive ahí y hasta la hora no hemos podido comunicarnos con el. El tiene 80 años. Es diabético y su esposa está enferma. Ya han pasado 10 días sin oír si está bien.. si tiene comida y sus medicina. Les suplico, si alguien sabe algo...',\n",
       "        list([('Hola', 'O'), ('.', 'O'), ('.', 'O'), ('Estamos', 'O'), ('buscando', 'O'), ('noticias', 'O'), ('sobre', 'O'), ('el', 'O'), ('pueblo', 'O'), ('Barrio', 'LOCATION'), ('Nuevo', 'LOCATION'), ('.', 'O'), ('.', 'O'), ('sector', 'O'), ('Bunker', 'PERSON'), ('Hill', 'PERSON'), ('.', 'O'), ('Mi', 'O'), ('tío', 'O'), ('Primitivo', 'ORGANIZATION'), ('Rivera', 'ORGANIZATION'), ('vive', 'O'), ('ahí', 'O'), ('y', 'O'), ('hasta', 'O'), ('la', 'O'), ('hora', 'O'), ('no', 'O'), ('hemos', 'O'), ('podido', 'O'), ('comunicar', 'O'), ('nos', 'O'), ('con', 'O'), ('el', 'O'), ('.', 'O'), ('El', 'O'), ('tiene', 'O'), ('80', 'NUMBER'), ('años', 'O'), ('.', 'O'), ('Es', 'O'), ('diabético', 'O'), ('y', 'O'), ('su', 'O'), ('esposa', 'O'), ('está', 'O'), ('enferma', 'O'), ('.', 'O'), ('Ya', 'O'), ('han', 'O'), ('pasado', 'O'), ('10', 'NUMBER'), ('días', 'O'), ('sin', 'O'), ('oír', 'O'), ('si', 'O'), ('está', 'O'), ('bien', 'O'), ('.', 'O'), ('.', 'O'), ('si', 'O'), ('tiene', 'O'), ('comida', 'O'), ('y', 'O'), ('sus', 'O'), ('medicina', 'O'), ('.', 'O'), ('Les', 'O'), ('suplico', 'O'), (',', 'O'), ('si', 'O'), ('alguien', 'O'), ('sabe', 'O'), ('algo', 'O'), ('...', 'O')])],\n",
       "       ['Barrio Nuevo',\n",
       "        'Dios los Bendiga, mucha fortaleza para todos!Estoy buscando información de Vilma Rivera Cruz, y su familia, ella es de Barrio Nuevo y es maestra de arte de la escuela Don Manolo de Naranjito. Soy una de sus amigas/hermanas de NY.Les agradezco toda información!',\n",
       "        list([('Di', 'O'), ('os', 'O'), ('los', 'O'), ('Bendiga', 'ORGANIZATION'), (',', 'O'), ('mucha', 'O'), ('fortaleza', 'O'), ('para', 'O'), ('todos', 'O'), ('!', 'O'), ('Estoy', 'O'), ('buscando', 'O'), ('información', 'O'), ('de', 'O'), ('Vilma', 'PERSON'), ('Rivera', 'PERSON'), ('Cruz', 'PERSON'), (',', 'O'), ('y', 'O'), ('su', 'O'), ('familia', 'O'), (',', 'O'), ('ella', 'O'), ('es', 'O'), ('de', 'O'), ('Barrio', 'LOCATION'), ('Nuevo', 'LOCATION'), ('y', 'O'), ('es', 'O'), ('maestra', 'TITLE'), ('de', 'O'), ('arte', 'O'), ('de', 'O'), ('la', 'O'), ('escuela', 'O'), ('Don', 'ORGANIZATION'), ('Manolo', 'ORGANIZATION'), ('de', 'O'), ('Naranjito', 'CITY'), ('.', 'O'), ('Soy', 'O'), ('una', 'O'), ('de', 'O'), ('sus', 'O'), ('amigas', 'O'), ('/', 'O'), ('hermanas', 'O'), ('de', 'O'), ('NY', 'ORGANIZATION'), ('.', 'O'), ('Les', 'O'), ('agradezco', 'O'), ('toda', 'O'), ('información', 'O'), ('!', 'O')])],\n",
       "       ['Naranjito',\n",
       "        'Dios los Bendiga, mucha fortaleza para todos!Estoy buscando información de Vilma Rivera Cruz, y su familia, ella es de Barrio Nuevo y es maestra de arte de la escuela Don Manolo de Naranjito. Soy una de sus amigas/hermanas de NY.Les agradezco toda información!',\n",
       "        list([('Di', 'O'), ('os', 'O'), ('los', 'O'), ('Bendiga', 'ORGANIZATION'), (',', 'O'), ('mucha', 'O'), ('fortaleza', 'O'), ('para', 'O'), ('todos', 'O'), ('!', 'O'), ('Estoy', 'O'), ('buscando', 'O'), ('información', 'O'), ('de', 'O'), ('Vilma', 'PERSON'), ('Rivera', 'PERSON'), ('Cruz', 'PERSON'), (',', 'O'), ('y', 'O'), ('su', 'O'), ('familia', 'O'), (',', 'O'), ('ella', 'O'), ('es', 'O'), ('de', 'O'), ('Barrio', 'LOCATION'), ('Nuevo', 'LOCATION'), ('y', 'O'), ('es', 'O'), ('maestra', 'TITLE'), ('de', 'O'), ('arte', 'O'), ('de', 'O'), ('la', 'O'), ('escuela', 'O'), ('Don', 'ORGANIZATION'), ('Manolo', 'ORGANIZATION'), ('de', 'O'), ('Naranjito', 'CITY'), ('.', 'O'), ('Soy', 'O'), ('una', 'O'), ('de', 'O'), ('sus', 'O'), ('amigas', 'O'), ('/', 'O'), ('hermanas', 'O'), ('de', 'O'), ('NY', 'ORGANIZATION'), ('.', 'O'), ('Les', 'O'), ('agradezco', 'O'), ('toda', 'O'), ('información', 'O'), ('!', 'O')])],\n",
       "       ['Cedro Abajo',\n",
       "        'Por favor gente de Cedro Abajo que conozcan alguna información sobre José A Colón Rodríguez conocido como Cheo, su esposa trabaja en el Gobierno conocida como Titi, su hija aún no tienen ninguna información sobre él. Esta es la dirección q ella tiene BO. Cedro Abajo Carr 811 Int K O.5 Por favor será bien apreciada cualquier información dada, Gracias!',\n",
       "        list([('Por', 'O'), ('favor', 'O'), ('gente', 'O'), ('de', 'O'), ('Cedro', 'ORGANIZATION'), ('Abajo', 'ORGANIZATION'), ('que', 'O'), ('conozcan', 'O'), ('alguna', 'O'), ('información', 'O'), ('sobre', 'O'), ('José', 'PERSON'), ('A', 'PERSON'), ('Colón', 'PERSON'), ('Rodríguez', 'PERSON'), ('conocido', 'O'), ('como', 'O'), ('Cheo', 'PERSON'), (',', 'O'), ('su', 'O'), ('esposa', 'O'), ('trabaja', 'O'), ('en', 'O'), ('el', 'O'), ('Gobierno', 'ORGANIZATION'), ('conocida', 'O'), ('como', 'O'), ('Titi', 'PERSON'), (',', 'O'), ('su', 'O'), ('hija', 'O'), ('aún', 'O'), ('no', 'O'), ('tienen', 'O'), ('ninguna', 'O'), ('información', 'O'), ('sobre', 'O'), ('él', 'O'), ('.', 'O'), ('Esta', 'O'), ('es', 'O'), ('la', 'O'), ('dirección', 'O'), ('q', 'O'), ('ella', 'O'), ('tiene', 'O'), ('BO', 'O'), ('.', 'O'), ('Cedro', 'ORGANIZATION'), ('Abajo', 'ORGANIZATION'), ('Carretera811', 'ORGANIZATION'), ('Int', 'ORGANIZATION'), ('K', 'ORGANIZATION'), ('O.5', 'O'), ('Por', 'O'), ('favor', 'O'), ('será', 'O'), ('bien', 'O'), ('apreciada', 'O'), ('cualquier', 'O'), ('información', 'O'), ('dada', 'O'), (',', 'O'), ('Gracias', 'MISC'), ('!', 'O')])],\n",
       "       ['Naranjito',\n",
       "        'Buenos Dias. En el dia de hoy la Sra. Lennis E. Gonzalez estara en Naranjito visitando personas de EDAD AVANZADA, si tiene familiares que tengan una emergencia y necesiten alguna ayuda,repito SOLO EMERGENCIAS,viva solo y no tengan comunicacion,pueden compartir su información aqui. POR FAVOR, den la dirreccion especifica,Nombre completo y apoyo si tiene alguno, edad y muy importante FOTO. Añada algun telefono de la persona o el suyo. Den direccion especifica, algun negocio cerca para mejor descripcion, barrio, sector, cerca de alguien conocido, negocio, etc.',\n",
       "        list([('Buenos', 'O'), ('Dias', 'MISC'), ('.', 'O'), ('En', 'O'), ('el', 'O'), ('dia', 'O'), ('de', 'O'), ('hoy', 'DATE'), ('la', 'O'), ('Señora', 'PERSON'), ('Lennis', 'PERSON'), ('E.', 'PERSON'), ('Gonzalez', 'PERSON'), ('estara', 'O'), ('en', 'O'), ('Naranjito', 'CITY'), ('visitando', 'O'), ('personas', 'O'), ('de', 'O'), ('EDAD', 'O'), ('AVANZADA', 'O'), (',', 'O'), ('si', 'O'), ('tiene', 'O'), ('familiares', 'O'), ('que', 'O'), ('tengan', 'O'), ('una', 'O'), ('emergencia', 'O'), ('y', 'O'), ('necesiten', 'O'), ('alguna', 'O'), ('ayuda', 'O'), (',', 'O'), ('repito', 'O'), ('SOLO', 'O'), ('EMERGENCIAS', 'O'), (',', 'O'), ('viva', 'O'), ('solo', 'O'), ('y', 'O'), ('no', 'O'), ('tengan', 'O'), ('comunicacion', 'O'), (',', 'O'), ('pueden', 'O'), ('compartir', 'O'), ('su', 'O'), ('información', 'O'), ('aqui', 'O'), ('.', 'O'), ('POR', 'O'), ('FAVOR', 'O'), (',', 'O'), ('den', 'O'), ('la', 'O'), ('dirreccion', 'O'), ('especifica', 'O'), (',', 'O'), ('Nombre', 'O'), ('completo', 'O'), ('y', 'O'), ('apoyo', 'O'), ('si', 'O'), ('tiene', 'O'), ('alguno', 'O'), (',', 'O'), ('edad', 'O'), ('y', 'O'), ('muy', 'O'), ('importante', 'O'), ('FOTO', 'O'), ('.', 'O'), ('Añada', 'O'), ('algun', 'O'), ('telefono', 'O'), ('de', 'O'), ('la', 'O'), ('persona', 'O'), ('o', 'O'), ('el', 'O'), ('suyo', 'O'), ('.', 'O'), ('Den', 'O'), ('direccion', 'O'), ('especifica', 'O'), (',', 'O'), ('algun', 'O'), ('negocio', 'O'), ('cerca', 'O'), ('para', 'O'), ('mejor', 'O'), ('descripcion', 'O'), (',', 'O'), ('barrio', 'O'), (',', 'O'), ('sector', 'O'), (',', 'O'), ('cerca', 'O'), ('de', 'O'), ('alguien', 'O'), ('conocido', 'O'), (',', 'O'), ('negocio', 'O'), (',', 'O'), ('etc', 'O'), ('.', 'O')])],\n",
       "       ['La Plata',\n",
       "        'Vista del Lago La Plata desde el Sector La Maravilla, Bo Achiote',\n",
       "        list([('Vista', 'O'), ('de', 'O'), ('el', 'O'), ('Lago', 'LOCATION'), ('La', 'CITY'), ('Plata', 'CITY'), ('desde', 'O'), ('el', 'O'), ('Sector', 'MISC'), ('La', 'O'), ('Maravilla', 'CITY'), (',', 'O'), ('BarrioAchiote', 'O')])],\n",
       "       ['Naranjito',\n",
       "        '¿Alguien sabe de Geovanny Torres Rivera y su familia d Naranjito?',\n",
       "        list([('¿', 'O'), ('Alguien', 'O'), ('sabe', 'O'), ('de', 'O'), ('Geovanny', 'PERSON'), ('Torres', 'PERSON'), ('Rivera', 'PERSON'), ('y', 'O'), ('su', 'O'), ('familia', 'O'), ('d', 'O'), ('Naranjito', 'CITY'), ('?', 'O')])],\n",
       "       ['NARANJITO',\n",
       "        'CENTRO DE COMIDA PARA DAMNIFICADOS EN NARANJITO , Iglesia Catolica del Carmen, Bo Lomas, Naranjito. CORRAN LA VOZ PARA LOS MAS NECESITADOS',\n",
       "        list([('CENTRO', 'O'), ('DE', 'O'), ('COMIDA', 'O'), ('PARA', 'O'), ('DAMNIFICADOS', 'O'), ('EN', 'O'), ('NARANJITO', 'CITY'), (',', 'O'), ('Iglesia', 'ORGANIZATION'), ('Catolica', 'ORGANIZATION'), ('de', 'O'), ('el', 'CITY'), ('Carmen', 'CITY'), (',', 'O'), ('BarrioLomas', 'LOCATION'), (',', 'O'), ('Naranjito', 'CITY'), ('.', 'O'), ('CORRAN', 'O'), ('LA', 'O'), ('VOZ', 'O'), ('PARA', 'O'), ('LOS', 'O'), ('MAS', 'O'), ('NECESITADOS', 'O')])],\n",
       "       ['Iglesia Catolica',\n",
       "        'CENTRO DE COMIDA PARA DAMNIFICADOS EN NARANJITO , Iglesia Catolica del Carmen, Bo Lomas, Naranjito. CORRAN LA VOZ PARA LOS MAS NECESITADOS',\n",
       "        list([('CENTRO', 'O'), ('DE', 'O'), ('COMIDA', 'O'), ('PARA', 'O'), ('DAMNIFICADOS', 'O'), ('EN', 'O'), ('NARANJITO', 'CITY'), (',', 'O'), ('Iglesia', 'ORGANIZATION'), ('Catolica', 'ORGANIZATION'), ('de', 'O'), ('el', 'CITY'), ('Carmen', 'CITY'), (',', 'O'), ('BarrioLomas', 'LOCATION'), (',', 'O'), ('Naranjito', 'CITY'), ('.', 'O'), ('CORRAN', 'O'), ('LA', 'O'), ('VOZ', 'O'), ('PARA', 'O'), ('LOS', 'O'), ('MAS', 'O'), ('NECESITADOS', 'O')])],\n",
       "       ['el Carmen',\n",
       "        'CENTRO DE COMIDA PARA DAMNIFICADOS EN NARANJITO , Iglesia Catolica del Carmen, Bo Lomas, Naranjito. CORRAN LA VOZ PARA LOS MAS NECESITADOS',\n",
       "        list([('CENTRO', 'O'), ('DE', 'O'), ('COMIDA', 'O'), ('PARA', 'O'), ('DAMNIFICADOS', 'O'), ('EN', 'O'), ('NARANJITO', 'CITY'), (',', 'O'), ('Iglesia', 'ORGANIZATION'), ('Catolica', 'ORGANIZATION'), ('de', 'O'), ('el', 'CITY'), ('Carmen', 'CITY'), (',', 'O'), ('BarrioLomas', 'LOCATION'), (',', 'O'), ('Naranjito', 'CITY'), ('.', 'O'), ('CORRAN', 'O'), ('LA', 'O'), ('VOZ', 'O'), ('PARA', 'O'), ('LOS', 'O'), ('MAS', 'O'), ('NECESITADOS', 'O')])],\n",
       "       ['Naranjito',\n",
       "        'CENTRO DE COMIDA PARA DAMNIFICADOS EN NARANJITO , Iglesia Catolica del Carmen, Bo Lomas, Naranjito. CORRAN LA VOZ PARA LOS MAS NECESITADOS',\n",
       "        list([('CENTRO', 'O'), ('DE', 'O'), ('COMIDA', 'O'), ('PARA', 'O'), ('DAMNIFICADOS', 'O'), ('EN', 'O'), ('NARANJITO', 'CITY'), (',', 'O'), ('Iglesia', 'ORGANIZATION'), ('Catolica', 'ORGANIZATION'), ('de', 'O'), ('el', 'CITY'), ('Carmen', 'CITY'), (',', 'O'), ('BarrioLomas', 'LOCATION'), (',', 'O'), ('Naranjito', 'CITY'), ('.', 'O'), ('CORRAN', 'O'), ('LA', 'O'), ('VOZ', 'O'), ('PARA', 'O'), ('LOS', 'O'), ('MAS', 'O'), ('NECESITADOS', 'O')])],\n",
       "       ['Naranjito',\n",
       "        'A que hora entregar an los suministros hoy,pusieron recacaudar suministros para la gente de Naranjito? Las ayudas aun no llegan a nuestro pueblo',\n",
       "        list([('A', 'O'), ('que', 'O'), ('hora', 'O'), ('entregar', 'O'), ('an', 'O'), ('los', 'O'), ('suministros', 'O'), ('hoy', 'DATE'), (',', 'O'), ('pusieron', 'O'), ('recacaudar', 'O'), ('suministros', 'O'), ('para', 'O'), ('la', 'O'), ('gente', 'O'), ('de', 'O'), ('Naranjito', 'CITY'), ('?', 'O'), ('Las', 'O'), ('ayudas', 'O'), ('aun', 'O'), ('no', 'O'), ('llegan', 'O'), ('a', 'O'), ('nuestro', 'O'), ('pueblo', 'O')])],\n",
       "       ['Naranjito',\n",
       "        'Mi Jente de Comerio y Naranjito cuando por favor cuando ,que angustia💔😢',\n",
       "        list([('Mi', 'O'), ('Jente', 'ORGANIZATION'), ('de', 'O'), ('Comerio', 'MISC'), ('y', 'O'), ('Naranjito', 'CITY'), ('cuando', 'O'), ('por', 'O'), ('favor', 'O'), ('cuando', 'O'), (',', 'O'), ('que', 'O'), ('angustia', 'O')])],\n",
       "       ['Bayamón',\n",
       "        'Gente no es para alarmarlos pero be safe ya me han dicho de dos pueblos diferentes personas muy allegadas a mi que están asaltando, robando, y hurtando en los hogares a mano armada, Bayamón, Caguas andan en las calles encapuchados haciendo estas fechorías. Estén alertas, tmbn los carros que dejan en las afueras  de sus hogares si tiene gasolina se las están quitando cn mangas.',\n",
       "        list([('Gente', 'O'), ('no', 'O'), ('es', 'O'), ('para', 'O'), ('alarmar', 'O'), ('los', 'O'), ('pero', 'O'), ('be', 'O'), ('safe', 'O'), ('ya', 'O'), ('me', 'O'), ('han', 'O'), ('dicho', 'O'), ('de', 'O'), ('dos', 'NUMBER'), ('pueblos', 'O'), ('diferentes', 'O'), ('personas', 'O'), ('muy', 'O'), ('allegadas', 'O'), ('a', 'O'), ('mi', 'O'), ('que', 'O'), ('están', 'O'), ('asaltando', 'O'), (',', 'O'), ('robando', 'O'), (',', 'O'), ('y', 'O'), ('hurtando', 'O'), ('en', 'O'), ('los', 'O'), ('hogares', 'O'), ('a', 'O'), ('mano', 'O'), ('armada', 'O'), (',', 'O'), ('Bayamón', 'LOCATION'), (',', 'O'), ('Caguas', 'ORGANIZATION'), ('andan', 'O'), ('en', 'O'), ('las', 'O'), ('calles', 'O'), ('encapuchados', 'O'), ('haciendo', 'O'), ('estas', 'O'), ('fechorías', 'O'), ('.', 'O'), ('Estén', 'O'), ('alertas', 'O'), (',', 'O'), ('tmbn', 'O'), ('los', 'O'), ('carros', 'O'), ('que', 'O'), ('dejan', 'O'), ('en', 'O'), ('las', 'O'), ('afueras', 'O'), ('de', 'O'), ('sus', 'O'), ('hogares', 'O'), ('si', 'O'), ('tiene', 'O'), ('gasolina', 'O'), ('se', 'O'), ('las', 'O'), ('están', 'O'), ('quitando', 'O'), ('cn', 'O'), ('mangas', 'O'), ('.', 'O')])],\n",
       "       ['Caguas',\n",
       "        'Gente no es para alarmarlos pero be safe ya me han dicho de dos pueblos diferentes personas muy allegadas a mi que están asaltando, robando, y hurtando en los hogares a mano armada, Bayamón, Caguas andan en las calles encapuchados haciendo estas fechorías. Estén alertas, tmbn los carros que dejan en las afueras  de sus hogares si tiene gasolina se las están quitando cn mangas.',\n",
       "        list([('Gente', 'O'), ('no', 'O'), ('es', 'O'), ('para', 'O'), ('alarmar', 'O'), ('los', 'O'), ('pero', 'O'), ('be', 'O'), ('safe', 'O'), ('ya', 'O'), ('me', 'O'), ('han', 'O'), ('dicho', 'O'), ('de', 'O'), ('dos', 'NUMBER'), ('pueblos', 'O'), ('diferentes', 'O'), ('personas', 'O'), ('muy', 'O'), ('allegadas', 'O'), ('a', 'O'), ('mi', 'O'), ('que', 'O'), ('están', 'O'), ('asaltando', 'O'), (',', 'O'), ('robando', 'O'), (',', 'O'), ('y', 'O'), ('hurtando', 'O'), ('en', 'O'), ('los', 'O'), ('hogares', 'O'), ('a', 'O'), ('mano', 'O'), ('armada', 'O'), (',', 'O'), ('Bayamón', 'LOCATION'), (',', 'O'), ('Caguas', 'ORGANIZATION'), ('andan', 'O'), ('en', 'O'), ('las', 'O'), ('calles', 'O'), ('encapuchados', 'O'), ('haciendo', 'O'), ('estas', 'O'), ('fechorías', 'O'), ('.', 'O'), ('Estén', 'O'), ('alertas', 'O'), (',', 'O'), ('tmbn', 'O'), ('los', 'O'), ('carros', 'O'), ('que', 'O'), ('dejan', 'O'), ('en', 'O'), ('las', 'O'), ('afueras', 'O'), ('de', 'O'), ('sus', 'O'), ('hogares', 'O'), ('si', 'O'), ('tiene', 'O'), ('gasolina', 'O'), ('se', 'O'), ('las', 'O'), ('están', 'O'), ('quitando', 'O'), ('cn', 'O'), ('mangas', 'O'), ('.', 'O')])],\n",
       "       ['Naranjito',\n",
       "        'Quiero darle las gracias a todos y cada uno de los que difundieron la información donde pedíamos ayuda emergente para la Sra. Luz Villagómez Vázquez perteneciente a el pueblo de Naranjito Lomas Garcias Sec. Guayabo. Al fin tuvimos noticias y se encuentra bien. Gracias nuevamente a todos, Dios es bueno y misericordioso. Gracias, Gracias! 🙏🏻',\n",
       "        list([('Quiero', 'O'), ('dar', 'O'), ('le', 'O'), ('las', 'O'), ('gracias', 'O'), ('a', 'O'), ('todos', 'O'), ('y', 'O'), ('cada', 'O'), ('uno', 'O'), ('de', 'O'), ('los', 'O'), ('que', 'O'), ('difundieron', 'O'), ('la', 'O'), ('información', 'O'), ('donde', 'O'), ('pedíamos', 'O'), ('ayuda', 'O'), ('emergente', 'O'), ('para', 'O'), ('la', 'O'), ('Señora', 'PERSON'), ('Luz', 'PERSON'), ('Villagómez', 'PERSON'), ('Vázquez', 'PERSON'), ('perteneciente', 'O'), ('a', 'O'), ('el', 'O'), ('pueblo', 'O'), ('de', 'O'), ('Naranjito', 'CITY'), ('Lomas', 'LOCATION'), ('Garcias', 'LOCATION'), ('Sec', 'LOCATION'), ('.', 'O'), ('Guayabo', 'LOCATION'), ('.', 'O'), ('A', 'O'), ('el', 'O'), ('fin', 'O'), ('tuvimos', 'O'), ('noticias', 'O'), ('y', 'O'), ('se', 'O'), ('encuentra', 'O'), ('bien', 'O'), ('.', 'O'), ('Gracias', 'O'), ('nuevamente', 'O'), ('a', 'O'), ('todos', 'O'), (',', 'O'), ('Di', 'O'), ('os', 'O'), ('es', 'O'), ('bueno', 'O'), ('y', 'O'), ('misericordioso', 'O'), ('.', 'O'), ('Gracias', 'MISC'), (',', 'O'), ('Gracias', 'O'), ('!', 'O')])],\n",
       "       ['Guayabo',\n",
       "        'Quiero darle las gracias a todos y cada uno de los que difundieron la información donde pedíamos ayuda emergente para la Sra. Luz Villagómez Vázquez perteneciente a el pueblo de Naranjito Lomas Garcias Sec. Guayabo. Al fin tuvimos noticias y se encuentra bien. Gracias nuevamente a todos, Dios es bueno y misericordioso. Gracias, Gracias! 🙏🏻',\n",
       "        list([('Quiero', 'O'), ('dar', 'O'), ('le', 'O'), ('las', 'O'), ('gracias', 'O'), ('a', 'O'), ('todos', 'O'), ('y', 'O'), ('cada', 'O'), ('uno', 'O'), ('de', 'O'), ('los', 'O'), ('que', 'O'), ('difundieron', 'O'), ('la', 'O'), ('información', 'O'), ('donde', 'O'), ('pedíamos', 'O'), ('ayuda', 'O'), ('emergente', 'O'), ('para', 'O'), ('la', 'O'), ('Señora', 'PERSON'), ('Luz', 'PERSON'), ('Villagómez', 'PERSON'), ('Vázquez', 'PERSON'), ('perteneciente', 'O'), ('a', 'O'), ('el', 'O'), ('pueblo', 'O'), ('de', 'O'), ('Naranjito', 'CITY'), ('Lomas', 'LOCATION'), ('Garcias', 'LOCATION'), ('Sec', 'LOCATION'), ('.', 'O'), ('Guayabo', 'LOCATION'), ('.', 'O'), ('A', 'O'), ('el', 'O'), ('fin', 'O'), ('tuvimos', 'O'), ('noticias', 'O'), ('y', 'O'), ('se', 'O'), ('encuentra', 'O'), ('bien', 'O'), ('.', 'O'), ('Gracias', 'O'), ('nuevamente', 'O'), ('a', 'O'), ('todos', 'O'), (',', 'O'), ('Di', 'O'), ('os', 'O'), ('es', 'O'), ('bueno', 'O'), ('y', 'O'), ('misericordioso', 'O'), ('.', 'O'), ('Gracias', 'MISC'), (',', 'O'), ('Gracias', 'O'), ('!', 'O')])],\n",
       "       ['NARANJITO',\n",
       "        'NARANJITO 🚨🚨🚨 Por favor urgente necesito ayuda urgente. Se necesita una ambulancia en casa de Arleen Vázquez, la mamá de Rosa Rivera está con fuertes dolores de pecho, ella utiliza un marcapaso. Vive por el Guayabo las Lomas la última casa antes del rió, Leyla es el apodo y su nombre es Luz Villagómez Vázquez. 🚨🚨🚨 POR FAVORDirección :Lomas Garcias Carretera 165 Sec. Guayabo Naranjito 00719',\n",
       "        list([('NARANJITO', 'ORGANIZATION'), ('Por', 'O'), ('favor', 'O'), ('urgente', 'O'), ('necesito', 'O'), ('ayuda', 'O'), ('urgente', 'O'), ('.', 'O'), ('Se', 'O'), ('necesita', 'O'), ('una', 'O'), ('ambulancia', 'O'), ('en', 'O'), ('casa', 'O'), ('de', 'O'), ('Arleen', 'PERSON'), ('Vázquez', 'PERSON'), (',', 'O'), ('la', 'O'), ('mamá', 'O'), ('de', 'O'), ('Rosa', 'PERSON'), ('Rivera', 'PERSON'), ('está', 'O'), ('con', 'O'), ('fuertes', 'O'), ('dolores', 'O'), ('de', 'O'), ('pecho', 'O'), (',', 'O'), ('ella', 'O'), ('utiliza', 'O'), ('un', 'O'), ('marcapaso', 'O'), ('.', 'O'), ('Vive', 'O'), ('por', 'O'), ('el', 'CITY'), ('Guayabo', 'CITY'), ('las', 'O'), ('Lomas', 'O'), ('la', 'O'), ('última', 'O'), ('casa', 'O'), ('antes', 'O'), ('de', 'O'), ('el', 'O'), ('rió', 'O'), (',', 'O'), ('Leyla', 'PERSON'), ('es', 'O'), ('el', 'O'), ('apodo', 'O'), ('y', 'O'), ('su', 'O'), ('nombre', 'O'), ('es', 'O'), ('Luz', 'PERSON'), ('Villagómez', 'PERSON'), ('Vázquez', 'PERSON'), ('.', 'O'), ('POR', 'O'), ('FAVORDirección', 'O'), (':', 'O'), ('Lomas', 'O'), ('Garcias', 'ORGANIZATION'), ('Carretera', 'ORGANIZATION'), ('165', 'ORGANIZATION'), ('Sec', 'ORGANIZATION'), ('.', 'O'), ('Guayabo', 'ORGANIZATION'), ('Naranjito', 'ORGANIZATION'), ('00719', 'ORGANIZATION')])],\n",
       "       ['el Guayabo',\n",
       "        'NARANJITO 🚨🚨🚨 Por favor urgente necesito ayuda urgente. Se necesita una ambulancia en casa de Arleen Vázquez, la mamá de Rosa Rivera está con fuertes dolores de pecho, ella utiliza un marcapaso. Vive por el Guayabo las Lomas la última casa antes del rió, Leyla es el apodo y su nombre es Luz Villagómez Vázquez. 🚨🚨🚨 POR FAVORDirección :Lomas Garcias Carretera 165 Sec. Guayabo Naranjito 00719',\n",
       "        list([('NARANJITO', 'ORGANIZATION'), ('Por', 'O'), ('favor', 'O'), ('urgente', 'O'), ('necesito', 'O'), ('ayuda', 'O'), ('urgente', 'O'), ('.', 'O'), ('Se', 'O'), ('necesita', 'O'), ('una', 'O'), ('ambulancia', 'O'), ('en', 'O'), ('casa', 'O'), ('de', 'O'), ('Arleen', 'PERSON'), ('Vázquez', 'PERSON'), (',', 'O'), ('la', 'O'), ('mamá', 'O'), ('de', 'O'), ('Rosa', 'PERSON'), ('Rivera', 'PERSON'), ('está', 'O'), ('con', 'O'), ('fuertes', 'O'), ('dolores', 'O'), ('de', 'O'), ('pecho', 'O'), (',', 'O'), ('ella', 'O'), ('utiliza', 'O'), ('un', 'O'), ('marcapaso', 'O'), ('.', 'O'), ('Vive', 'O'), ('por', 'O'), ('el', 'CITY'), ('Guayabo', 'CITY'), ('las', 'O'), ('Lomas', 'O'), ('la', 'O'), ('última', 'O'), ('casa', 'O'), ('antes', 'O'), ('de', 'O'), ('el', 'O'), ('rió', 'O'), (',', 'O'), ('Leyla', 'PERSON'), ('es', 'O'), ('el', 'O'), ('apodo', 'O'), ('y', 'O'), ('su', 'O'), ('nombre', 'O'), ('es', 'O'), ('Luz', 'PERSON'), ('Villagómez', 'PERSON'), ('Vázquez', 'PERSON'), ('.', 'O'), ('POR', 'O'), ('FAVORDirección', 'O'), (':', 'O'), ('Lomas', 'O'), ('Garcias', 'ORGANIZATION'), ('Carretera', 'ORGANIZATION'), ('165', 'ORGANIZATION'), ('Sec', 'ORGANIZATION'), ('.', 'O'), ('Guayabo', 'ORGANIZATION'), ('Naranjito', 'ORGANIZATION'), ('00719', 'ORGANIZATION')])],\n",
       "       ['Naranjito',\n",
       "        'Algún número de emergencia en Naranjito que si este funcionado? Dios mío por favor!',\n",
       "        list([('Algún', 'O'), ('número', 'O'), ('de', 'O'), ('emergencia', 'O'), ('en', 'O'), ('Naranjito', 'CITY'), ('que', 'O'), ('si', 'O'), ('este', 'O'), ('funcionado', 'O'), ('?', 'O'), ('Di', 'O'), ('os', 'O'), ('mío', 'O'), ('por', 'O'), ('favor', 'O'), ('!', 'O')])],\n",
       "       ['Guayabos',\n",
       "        'Necesito informacion:Jackie Villagomez (Ponce)Leyla Villagomez( Naranjito/Lomas, los Guayabos)',\n",
       "        list([('Necesito', 'O'), ('informacion', 'O'), (':', 'O'), ('Jackie', 'PERSON'), ('Villagomez', 'PERSON'), ('=LRB=', 'O'), ('Ponce', 'PERSON'), ('=RRB=', 'O'), ('Leyla', 'PERSON'), ('Villagomez', 'PERSON'), ('=LRB=', 'O'), ('Naranjito', 'ORGANIZATION'), ('/', 'ORGANIZATION'), ('Lomas', 'ORGANIZATION'), (',', 'O'), ('los', 'O'), ('Guayabos', 'ORGANIZATION'), ('=RRB=', 'O')])],\n",
       "       ['Naranjito',\n",
       "        'Mi Corazón es Zona de Desastre 💔 tener y no poder alludar porque no se puede todavía es tan difícil mis hermanos PUERTORIQUEÑO los Amo mi Naranjito querido lloro y pido a Dios de rodillas por ustedes,pues como comer sin saber si ustedes tienen aunque sea una migajita de pan, como beber sin saber si ustedes tienen un buchesito de agua fría o como dormil sin saber dónde sus cuerpos candados descansan con calor y mosquitos que difícil se me hase levantar mi cabeza miral al cielo y preguntar a mi Dios no porque si no para que 💔',\n",
       "        list([('Mi', 'O'), ('Corazón', 'ORGANIZATION'), ('es', 'ORGANIZATION'), ('Zona', 'ORGANIZATION'), ('de', 'O'), ('Desastre', 'CAUSE_OF_DEATH'), ('tener', 'O'), ('y', 'O'), ('no', 'O'), ('poder', 'O'), ('alludar', 'O'), ('porque', 'O'), ('no', 'O'), ('se', 'O'), ('puede', 'O'), ('todavía', 'O'), ('es', 'O'), ('tan', 'O'), ('difícil', 'O'), ('mis', 'O'), ('hermanos', 'O'), ('PUERTORIQUEÑO', 'O'), ('los', 'O'), ('Amo', 'O'), ('mi', 'O'), ('Naranjito', 'CITY'), ('querido', 'O'), ('lloro', 'O'), ('y', 'O'), ('pido', 'O'), ('a', 'O'), ('Di', 'O'), ('os', 'O'), ('de', 'O'), ('rodillas', 'O'), ('por', 'O'), ('ustedes', 'O'), (',', 'O'), ('pues', 'O'), ('como', 'O'), ('comer', 'O'), ('sin', 'O'), ('saber', 'O'), ('si', 'O'), ('ustedes', 'O'), ('tienen', 'O'), ('aunque', 'O'), ('sea', 'O'), ('una', 'O'), ('migajita', 'O'), ('de', 'O'), ('pan', 'O'), (',', 'O'), ('como', 'O'), ('beber', 'O'), ('sin', 'O'), ('saber', 'O'), ('si', 'O'), ('ustedes', 'O'), ('tienen', 'O'), ('un', 'O'), ('buchesito', 'O'), ('de', 'O'), ('agua', 'O'), ('fría', 'O'), ('o', 'O'), ('como', 'O'), ('dormil', 'O'), ('sin', 'O'), ('saber', 'O'), ('dónde', 'O'), ('sus', 'O'), ('cuerpos', 'O'), ('candados', 'O'), ('descansan', 'O'), ('con', 'O'), ('calor', 'O'), ('y', 'O'), ('mosquitos', 'O'), ('que', 'O'), ('difícil', 'O'), ('se', 'O'), ('me', 'O'), ('hase', 'O'), ('levantar', 'O'), ('mi', 'O'), ('cabeza', 'O'), ('miral', 'O'), ('a', 'O'), ('el', 'O'), ('cielo', 'O'), ('y', 'O'), ('preguntar', 'O'), ('a', 'O'), ('mi', 'O'), ('Di', 'O'), ('os', 'O'), ('no', 'O'), ('porque', 'O'), ('si', 'O'), ('no', 'O'), ('para', 'O'), ('que', 'O')])],\n",
       "       ['el Cano',\n",
       "        'Me acaba de llamar mi prima y me dice que mi Tío Jesus Nieves alias \" Chuquin \" el que tenía la agencia de Caballos cerca del negocio del Cano... El es diabético y necesita insulina y lancets para chequearse la azúcar. El estuvo atrapado en su casa en higuillales ahora está en casa de mi otro Tío Andreco Nieves por favor ayúdenlo la casa de mi Tío Andreco es cerca de la casa de mis abuelos Andrés Nieves y Agripina Padilla en loma de el llano de achiote',\n",
       "        list([('Me', 'O'), ('acaba', 'O'), ('de', 'O'), ('llamar', 'O'), ('mi', 'O'), ('prima', 'O'), ('y', 'O'), ('me', 'O'), ('dice', 'O'), ('que', 'O'), ('mi', 'O'), ('Tío', 'O'), ('Jesus', 'PERSON'), ('Nieves', 'PERSON'), ('alias', 'O'), ('\"', 'O'), ('Chuquin', 'PERSON'), ('\"', 'O'), ('el', 'O'), ('que', 'O'), ('tenía', 'O'), ('la', 'O'), ('agencia', 'O'), ('de', 'O'), ('Caballos', 'ORGANIZATION'), ('cerca', 'O'), ('de', 'O'), ('el', 'O'), ('negocio', 'O'), ('de', 'O'), ('el', 'CITY'), ('Cano', 'CITY'), ('...', 'O'), ('El', 'O'), ('es', 'O'), ('diabético', 'O'), ('y', 'O'), ('necesita', 'O'), ('insulina', 'O'), ('y', 'O'), ('lancets', 'O'), ('para', 'O'), ('chequearse', 'O'), ('la', 'O'), ('azúcar', 'O'), ('.', 'O'), ('El', 'O'), ('estuvo', 'O'), ('atrapado', 'O'), ('en', 'O'), ('su', 'O'), ('casa', 'O'), ('en', 'O'), ('higuillales', 'O'), ('ahora', 'O'), ('está', 'O'), ('en', 'O'), ('casa', 'O'), ('de', 'O'), ('mi', 'O'), ('otro', 'O'), ('Tío', 'ORGANIZATION'), ('Andreco', 'ORGANIZATION'), ('Nieves', 'ORGANIZATION'), ('por', 'O'), ('favor', 'O'), ('ayúden', 'O'), ('lo', 'O'), ('la', 'O'), ('casa', 'O'), ('de', 'O'), ('mi', 'O'), ('Tío', 'ORGANIZATION'), ('Andreco', 'ORGANIZATION'), ('es', 'O'), ('cerca', 'O'), ('de', 'O'), ('la', 'O'), ('casa', 'O'), ('de', 'O'), ('mis', 'O'), ('abuelos', 'O'), ('Andrés', 'PERSON'), ('Nieves', 'PERSON'), ('y', 'O'), ('Agripina', 'PERSON'), ('Padilla', 'PERSON'), ('en', 'O'), ('loma', 'O'), ('de', 'O'), ('el', 'O'), ('llano', 'O'), ('de', 'O'), ('achiote', 'O')])],\n",
       "       ['Naranjito',\n",
       "        'Sería buena idea y en la medida que se pueda por la limitación del disel que las guaguas escolares de Naranjito ayudaran con la movilización de suministros para nuestro pueblo....',\n",
       "        list([('Sería', 'O'), ('buena', 'O'), ('idea', 'O'), ('y', 'O'), ('en', 'O'), ('la', 'O'), ('medida', 'O'), ('que', 'O'), ('se', 'O'), ('pueda', 'O'), ('por', 'O'), ('la', 'O'), ('limitación', 'O'), ('de', 'O'), ('el', 'O'), ('disel', 'O'), ('que', 'O'), ('las', 'O'), ('guaguas', 'O'), ('escolares', 'O'), ('de', 'O'), ('Naranjito', 'CITY'), ('ayudaran', 'O'), ('con', 'O'), ('la', 'O'), ('movilización', 'O'), ('de', 'O'), ('suministros', 'O'), ('para', 'O'), ('nuestro', 'O'), ('pueblo', 'O'), ('...', 'O')])],\n",
       "       ['Naranjito',\n",
       "        'Numeros para intentar comunicarse con el Alcalde de Naranjito dejando mensaje',\n",
       "        list([('Numeros', 'O'), ('para', 'O'), ('intentar', 'O'), ('comunicar', 'O'), ('se', 'O'), ('con', 'O'), ('el', 'O'), ('Alcalde', 'ORGANIZATION'), ('de', 'O'), ('Naranjito', 'CITY'), ('dejando', 'O'), ('mensaje', 'O')])],\n",
       "       ['Naranjito', 'Al fin llegara ayuda a Naranjito!',\n",
       "        list([('A', 'O'), ('el', 'O'), ('fin', 'O'), ('llegara', 'O'), ('ayuda', 'O'), ('a', 'O'), ('Naranjito', 'CITY'), ('!', 'O')])],\n",
       "       ['Anones', 'Donde está El Alcalde 💔Anones te necesita 😢',\n",
       "        list([('Donde', 'O'), ('está', 'O'), ('El', 'O'), ('Alcalde', 'TITLE'), ('Anones', 'LOCATION'), ('te', 'O'), ('necesita', 'O')])],\n",
       "       ['Naranjito', 'Entre Naranjito y Barranquitas',\n",
       "        list([('Entre', 'O'), ('Naranjito', 'CITY'), ('y', 'O'), ('Barranquitas', 'LOCATION')])],\n",
       "       ['Naranjito',\n",
       "        'Vamos Naranjito, se me informa que el barrio ANONES Alto no tiene acceso a comida o agua!',\n",
       "        list([('Vamos', 'O'), ('Naranjito', 'CITY'), (',', 'O'), ('se', 'O'), ('me', 'O'), ('informa', 'O'), ('que', 'O'), ('el', 'O'), ('barrio', 'O'), ('ANONES', 'ORGANIZATION'), ('Alto', 'ORGANIZATION'), ('no', 'O'), ('tiene', 'O'), ('acceso', 'O'), ('a', 'O'), ('comida', 'O'), ('o', 'O'), ('agua', 'O'), ('!', 'O')])],\n",
       "       ['Higuillales',\n",
       "        'Colapso un pozomuro en Higuillales,en tierras malditas,la señora que vende pasteles y morcillas se llama Fina Alicea de 68 años necesita mascarillas, padece de eficema pulmonar. Vive  3 casas antes de llegar al Pozo de Higuillales,alguien cerca que pueda ayudar?',\n",
       "        list([('Colapso', 'O'), ('un', 'O'), ('pozomuro', 'O'), ('en', 'O'), ('Higuillales', 'LOCATION'), (',', 'O'), ('en', 'O'), ('tierras', 'O'), ('malditas', 'O'), (',', 'O'), ('la', 'O'), ('señora', 'O'), ('que', 'O'), ('vende', 'O'), ('paste', 'O'), ('les', 'O'), ('y', 'O'), ('morcillas', 'O'), ('se', 'O'), ('llama', 'O'), ('Fina', 'PERSON'), ('Alicea', 'PERSON'), ('de', 'O'), ('68', 'NUMBER'), ('años', 'O'), ('necesita', 'O'), ('mascarillas', 'O'), (',', 'O'), ('padece', 'O'), ('de', 'O'), ('eficema', 'O'), ('pulmonar', 'O'), ('.', 'O'), ('Vive', 'O'), ('3', 'NUMBER'), ('casas', 'O'), ('antes', 'O'), ('de', 'O'), ('llegar', 'O'), ('a', 'O'), ('el', 'O'), ('Pozo', 'LOCATION'), ('de', 'O'), ('Higuillales', 'LOCATION'), (',', 'O'), ('alguien', 'O'), ('cerca', 'O'), ('que', 'O'), ('pueda', 'O'), ('ayudar', 'O'), ('?', 'O')])]],\n",
       "      dtype=object)"
      ]
     },
     "metadata": {},
     "output_type": "display_data"
    }
   ],
   "source": [
    "display(data_valid.loc[:, ['NE', 'status_message', 'status_message_tags',]].iloc[550:580, :].values)"
   ]
  },
  {
   "cell_type": "markdown",
   "metadata": {},
   "source": [
    "## Test parses\n",
    "Let's see how much our coverage improves if we use the parse tree."
   ]
  },
  {
   "cell_type": "markdown",
   "metadata": {},
   "source": [
    "First we have to assign valid importance stats."
   ]
  },
  {
   "cell_type": "code",
   "execution_count": 67,
   "metadata": {},
   "outputs": [],
   "source": [
    "import pickle\n",
    "## add importance vars\n",
    "geonames_data = pickle.load(open('/hg190/corpora/GeoNames/allCountriesSimplified_lookup_US.pickle', 'rb'))\n",
    "# restrict to PR\n",
    "geonames_data_PR = {k : v[v.loc[:, 'country']=='PR'] for k,v in geonames_data.items()}\n",
    "geonames_data_PR = {k : v for k,v in geonames_data_PR.items() if v.shape[0] > 0}\n",
    "geonames_PR_max_pop = {k : v.loc[:, 'population'].max() for k,v in geonames_data_PR.items()}\n",
    "geonames_PR_max_alt_names = {k : v.loc[:, 'alternate_name_count'].max() for k,v in geonames_data_PR.items()}"
   ]
  },
  {
   "cell_type": "code",
   "execution_count": 70,
   "metadata": {},
   "outputs": [],
   "source": [
    "data_valid = data_valid.assign(**{\n",
    "    'NE_clean' : data_valid.loc[:, 'NE'].apply(lambda x: unidecode(str(x).replace('_', ' ').lower()))\n",
    "})\n",
    "data_valid = data_valid.assign(**{\n",
    "    'max_population' : data_valid.loc[:, 'NE_clean'].apply(lambda x: geonames_PR_max_pop[x] if x in geonames_PR_max_pop else 0.),\n",
    "    'max_alternate_names' : data_valid.loc[:, 'NE_clean'].apply(lambda x: geonames_PR_max_alt_names[x] if x in geonames_PR_max_alt_names else 0.),\n",
    "})"
   ]
  },
  {
   "cell_type": "code",
   "execution_count": 71,
   "metadata": {},
   "outputs": [
    {
     "data": {
      "text/html": [
       "<div>\n",
       "<style scoped>\n",
       "    .dataframe tbody tr th:only-of-type {\n",
       "        vertical-align: middle;\n",
       "    }\n",
       "\n",
       "    .dataframe tbody tr th {\n",
       "        vertical-align: top;\n",
       "    }\n",
       "\n",
       "    .dataframe thead th {\n",
       "        text-align: right;\n",
       "    }\n",
       "</style>\n",
       "<table border=\"1\" class=\"dataframe\">\n",
       "  <thead>\n",
       "    <tr style=\"text-align: right;\">\n",
       "      <th></th>\n",
       "      <th>group_id</th>\n",
       "      <th>status_author_id</th>\n",
       "      <th>status_message</th>\n",
       "      <th>status_lang</th>\n",
       "      <th>status_id</th>\n",
       "      <th>status_published</th>\n",
       "      <th>status_message_clean</th>\n",
       "      <th>status_message_tags</th>\n",
       "      <th>status_message_tags_ne</th>\n",
       "      <th>status_len</th>\n",
       "      <th>status_message_tags_ne_LOC</th>\n",
       "      <th>LOC_GN</th>\n",
       "      <th>LOC_OSM</th>\n",
       "      <th>NE</th>\n",
       "      <th>valid_loc</th>\n",
       "      <th>has_state_descriptor</th>\n",
       "      <th>has_muni_descriptor</th>\n",
       "      <th>NE_clean</th>\n",
       "      <th>max_population</th>\n",
       "      <th>max_alternate_names</th>\n",
       "    </tr>\n",
       "  </thead>\n",
       "  <tbody>\n",
       "    <tr>\n",
       "      <th>0</th>\n",
       "      <td>351272391991842</td>\n",
       "      <td>10159623474155515</td>\n",
       "      <td>Estoy preocupada por mi tia vicky vazquez que ...</td>\n",
       "      <td>es</td>\n",
       "      <td>351272391991842_362333787552369</td>\n",
       "      <td>2017-10-19 18:25:23</td>\n",
       "      <td>Estoy preocupada por mi tia vicky vazquez que ...</td>\n",
       "      <td>[(Estoy, O), (preocupada, O), (por, O), (mi, O...</td>\n",
       "      <td>[('asma', 'CAUSE_OF_DEATH'), ('Dorado', 'ORGAN...</td>\n",
       "      <td>579</td>\n",
       "      <td>['Dorado']</td>\n",
       "      <td>1</td>\n",
       "      <td>1</td>\n",
       "      <td>Dorado</td>\n",
       "      <td>1</td>\n",
       "      <td>False</td>\n",
       "      <td>False</td>\n",
       "      <td>dorado</td>\n",
       "      <td>38165.0</td>\n",
       "      <td>8.0</td>\n",
       "    </tr>\n",
       "    <tr>\n",
       "      <th>2</th>\n",
       "      <td>351272391991842</td>\n",
       "      <td>141039043205101</td>\n",
       "      <td>Pueblo de Puerto Rico no se monten en las gran...</td>\n",
       "      <td>es</td>\n",
       "      <td>351272391991842_358929311226150</td>\n",
       "      <td>2017-10-11 14:14:22</td>\n",
       "      <td>Pueblo de Puerto Rico no se monten en las gran...</td>\n",
       "      <td>[(Pueblo, O), (de, O), (Puerto, COUNTRY), (Ric...</td>\n",
       "      <td>[('Puerto Rico', 'COUNTRY'), ('America', 'MISC...</td>\n",
       "      <td>356</td>\n",
       "      <td>['shelter']</td>\n",
       "      <td>0</td>\n",
       "      <td>1</td>\n",
       "      <td>shelter</td>\n",
       "      <td>1</td>\n",
       "      <td>False</td>\n",
       "      <td>False</td>\n",
       "      <td>shelter</td>\n",
       "      <td>0.0</td>\n",
       "      <td>0.0</td>\n",
       "    </tr>\n",
       "    <tr>\n",
       "      <th>3</th>\n",
       "      <td>351272391991842</td>\n",
       "      <td>2060154724214607</td>\n",
       "      <td>Guayama, Dorado, y Piñones</td>\n",
       "      <td>es</td>\n",
       "      <td>351272391991842_357797888005959</td>\n",
       "      <td>2017-10-08 14:52:49</td>\n",
       "      <td>Guayama, Dorado, y Piñones</td>\n",
       "      <td>[(Guayama, LOCATION), (,, O), (Dorado, O), (,,...</td>\n",
       "      <td>[('Guayama', 'LOCATION')]</td>\n",
       "      <td>26</td>\n",
       "      <td>['Guayama']</td>\n",
       "      <td>1</td>\n",
       "      <td>1</td>\n",
       "      <td>Guayama</td>\n",
       "      <td>1</td>\n",
       "      <td>False</td>\n",
       "      <td>True</td>\n",
       "      <td>guayama</td>\n",
       "      <td>45362.0</td>\n",
       "      <td>11.0</td>\n",
       "    </tr>\n",
       "    <tr>\n",
       "      <th>4</th>\n",
       "      <td>351272391991842</td>\n",
       "      <td>10155779649437154</td>\n",
       "      <td>Estoy buscando mi tío, Ivan J. Porrata. Su her...</td>\n",
       "      <td>es</td>\n",
       "      <td>351272391991842_355121381606943</td>\n",
       "      <td>2017-10-01 21:46:29</td>\n",
       "      <td>Estoy buscando mi tío, Ivan J. Porrata. Su her...</td>\n",
       "      <td>[(Estoy, O), (buscando, O), (mi, O), (tío, O),...</td>\n",
       "      <td>[('Ivan J. Porrata', 'PERSON'), ('Tulio', 'PER...</td>\n",
       "      <td>309</td>\n",
       "      <td>['Utuado', 'Toa', 'Baja', 'P.O. Box', 'Dorado'...</td>\n",
       "      <td>1</td>\n",
       "      <td>1</td>\n",
       "      <td>Utuado</td>\n",
       "      <td>1</td>\n",
       "      <td>False</td>\n",
       "      <td>False</td>\n",
       "      <td>utuado</td>\n",
       "      <td>33149.0</td>\n",
       "      <td>7.0</td>\n",
       "    </tr>\n",
       "    <tr>\n",
       "      <th>8</th>\n",
       "      <td>351272391991842</td>\n",
       "      <td>10155779649437154</td>\n",
       "      <td>Estoy buscando mi tío, Ivan J. Porrata. Su her...</td>\n",
       "      <td>es</td>\n",
       "      <td>351272391991842_355121381606943</td>\n",
       "      <td>2017-10-01 21:46:29</td>\n",
       "      <td>Estoy buscando mi tío, Ivan J. Porrata. Su her...</td>\n",
       "      <td>[(Estoy, O), (buscando, O), (mi, O), (tío, O),...</td>\n",
       "      <td>[('Ivan J. Porrata', 'PERSON'), ('Tulio', 'PER...</td>\n",
       "      <td>309</td>\n",
       "      <td>['Utuado', 'Toa', 'Baja', 'P.O. Box', 'Dorado'...</td>\n",
       "      <td>1</td>\n",
       "      <td>1</td>\n",
       "      <td>Dorado</td>\n",
       "      <td>1</td>\n",
       "      <td>False</td>\n",
       "      <td>False</td>\n",
       "      <td>dorado</td>\n",
       "      <td>38165.0</td>\n",
       "      <td>8.0</td>\n",
       "    </tr>\n",
       "  </tbody>\n",
       "</table>\n",
       "</div>"
      ],
      "text/plain": [
       "          group_id   status_author_id  \\\n",
       "0  351272391991842  10159623474155515   \n",
       "2  351272391991842    141039043205101   \n",
       "3  351272391991842   2060154724214607   \n",
       "4  351272391991842  10155779649437154   \n",
       "8  351272391991842  10155779649437154   \n",
       "\n",
       "                                      status_message status_lang  \\\n",
       "0  Estoy preocupada por mi tia vicky vazquez que ...          es   \n",
       "2  Pueblo de Puerto Rico no se monten en las gran...          es   \n",
       "3                         Guayama, Dorado, y Piñones          es   \n",
       "4  Estoy buscando mi tío, Ivan J. Porrata. Su her...          es   \n",
       "8  Estoy buscando mi tío, Ivan J. Porrata. Su her...          es   \n",
       "\n",
       "                         status_id     status_published  \\\n",
       "0  351272391991842_362333787552369  2017-10-19 18:25:23   \n",
       "2  351272391991842_358929311226150  2017-10-11 14:14:22   \n",
       "3  351272391991842_357797888005959  2017-10-08 14:52:49   \n",
       "4  351272391991842_355121381606943  2017-10-01 21:46:29   \n",
       "8  351272391991842_355121381606943  2017-10-01 21:46:29   \n",
       "\n",
       "                                status_message_clean  \\\n",
       "0  Estoy preocupada por mi tia vicky vazquez que ...   \n",
       "2  Pueblo de Puerto Rico no se monten en las gran...   \n",
       "3                         Guayama, Dorado, y Piñones   \n",
       "4  Estoy buscando mi tío, Ivan J. Porrata. Su her...   \n",
       "8  Estoy buscando mi tío, Ivan J. Porrata. Su her...   \n",
       "\n",
       "                                 status_message_tags  \\\n",
       "0  [(Estoy, O), (preocupada, O), (por, O), (mi, O...   \n",
       "2  [(Pueblo, O), (de, O), (Puerto, COUNTRY), (Ric...   \n",
       "3  [(Guayama, LOCATION), (,, O), (Dorado, O), (,,...   \n",
       "4  [(Estoy, O), (buscando, O), (mi, O), (tío, O),...   \n",
       "8  [(Estoy, O), (buscando, O), (mi, O), (tío, O),...   \n",
       "\n",
       "                              status_message_tags_ne  status_len  \\\n",
       "0  [('asma', 'CAUSE_OF_DEATH'), ('Dorado', 'ORGAN...         579   \n",
       "2  [('Puerto Rico', 'COUNTRY'), ('America', 'MISC...         356   \n",
       "3                          [('Guayama', 'LOCATION')]          26   \n",
       "4  [('Ivan J. Porrata', 'PERSON'), ('Tulio', 'PER...         309   \n",
       "8  [('Ivan J. Porrata', 'PERSON'), ('Tulio', 'PER...         309   \n",
       "\n",
       "                          status_message_tags_ne_LOC  LOC_GN  LOC_OSM  \\\n",
       "0                                         ['Dorado']       1        1   \n",
       "2                                        ['shelter']       0        1   \n",
       "3                                        ['Guayama']       1        1   \n",
       "4  ['Utuado', 'Toa', 'Baja', 'P.O. Box', 'Dorado'...       1        1   \n",
       "8  ['Utuado', 'Toa', 'Baja', 'P.O. Box', 'Dorado'...       1        1   \n",
       "\n",
       "        NE  valid_loc  has_state_descriptor  has_muni_descriptor NE_clean  \\\n",
       "0   Dorado          1                 False                False   dorado   \n",
       "2  shelter          1                 False                False  shelter   \n",
       "3  Guayama          1                 False                 True  guayama   \n",
       "4   Utuado          1                 False                False   utuado   \n",
       "8   Dorado          1                 False                False   dorado   \n",
       "\n",
       "   max_population  max_alternate_names  \n",
       "0         38165.0                  8.0  \n",
       "2             0.0                  0.0  \n",
       "3         45362.0                 11.0  \n",
       "4         33149.0                  7.0  \n",
       "8         38165.0                  8.0  "
      ]
     },
     "execution_count": 71,
     "metadata": {},
     "output_type": "execute_result"
    }
   ],
   "source": [
    "data_valid.head()"
   ]
  },
  {
   "cell_type": "code",
   "execution_count": 164,
   "metadata": {},
   "outputs": [
    {
     "data": {
      "text/html": [
       "<div>\n",
       "<style scoped>\n",
       "    .dataframe tbody tr th:only-of-type {\n",
       "        vertical-align: middle;\n",
       "    }\n",
       "\n",
       "    .dataframe tbody tr th {\n",
       "        vertical-align: top;\n",
       "    }\n",
       "\n",
       "    .dataframe thead th {\n",
       "        text-align: right;\n",
       "    }\n",
       "</style>\n",
       "<table border=\"1\" class=\"dataframe\">\n",
       "  <thead>\n",
       "    <tr style=\"text-align: right;\">\n",
       "      <th></th>\n",
       "      <th>status_id</th>\n",
       "      <th>parse</th>\n",
       "    </tr>\n",
       "  </thead>\n",
       "  <tbody>\n",
       "    <tr>\n",
       "      <th>0</th>\n",
       "      <td>105121436871597_105122476871493</td>\n",
       "      <td>[[[Lo, DET, 1, det, 0], [que, PRON, 3, dobj, 1...</td>\n",
       "    </tr>\n",
       "    <tr>\n",
       "      <th>1</th>\n",
       "      <td>105121436871597_105140713536336</td>\n",
       "      <td>[[[Mi, PRON, 1, det, 0], [gente, NOUN, 2, attr...</td>\n",
       "    </tr>\n",
       "    <tr>\n",
       "      <th>2</th>\n",
       "      <td>105121436871597_105141490202925</td>\n",
       "      <td>[[[Artículos, NOUN, 0, root, 0], [que, PRON, 4...</td>\n",
       "    </tr>\n",
       "    <tr>\n",
       "      <th>3</th>\n",
       "      <td>105121436871597_105161620200912</td>\n",
       "      <td>[[[Por, ADP, 3, discourse, 0], [favor, NOUN, 0...</td>\n",
       "    </tr>\n",
       "    <tr>\n",
       "      <th>4</th>\n",
       "      <td>105121436871597_106853466698394</td>\n",
       "      <td>[[[Quisiera, VERB, 0, root, 0], [saber, VERB, ...</td>\n",
       "    </tr>\n",
       "  </tbody>\n",
       "</table>\n",
       "</div>"
      ],
      "text/plain": [
       "                         status_id  \\\n",
       "0  105121436871597_105122476871493   \n",
       "1  105121436871597_105140713536336   \n",
       "2  105121436871597_105141490202925   \n",
       "3  105121436871597_105161620200912   \n",
       "4  105121436871597_106853466698394   \n",
       "\n",
       "                                               parse  \n",
       "0  [[[Lo, DET, 1, det, 0], [que, PRON, 3, dobj, 1...  \n",
       "1  [[[Mi, PRON, 1, det, 0], [gente, NOUN, 2, attr...  \n",
       "2  [[[Artículos, NOUN, 0, root, 0], [que, PRON, 4...  \n",
       "3  [[[Por, ADP, 3, discourse, 0], [favor, NOUN, 0...  \n",
       "4  [[[Quisiera, VERB, 0, root, 0], [saber, VERB, ...  "
      ]
     },
     "metadata": {},
     "output_type": "display_data"
    }
   ],
   "source": [
    "from ast import literal_eval\n",
    "import re\n",
    "## load parse data\n",
    "parse_matcher = re.compile('(.+)/(.+)/(.+)/(.+)')\n",
    "def str_to_parse(x):\n",
    "    x_list = [y for y in x.split(' ') if y.strip() != '']\n",
    "#     for y in x_list:\n",
    "#         try:\n",
    "#             parse_matcher.search(y).group(0)\n",
    "#         except Exception as e:\n",
    "#             print('raw %s'%(x))\n",
    "#             print('error = %s in %s'%(y, str(x_list)))\n",
    "    x_list = [y for y in x_list if parse_matcher.search(y) is not None]\n",
    "    x_parse = [parse_matcher.search(y).group(0).split('/') for y in x_list]\n",
    "    x_parse = [y for y in x_parse if len(y)==4]\n",
    "#     for y in x_parse:\n",
    "#         try:\n",
    "#             [y[0], y[1], int(y[2]), y[3]]\n",
    "#         except Exception as e:\n",
    "#             print('error = %s'%(str(x_parse)))\n",
    "    x_parse = [[y[0], y[1], int(y[2]), y[3], i] for i, y in enumerate(x_parse)]\n",
    "    return x_parse\n",
    "data_parsed = pd.read_csv('../../data/facebook-maria/combined_group_data_es_tagged_parsed.txt', sep='\\t', index_col=False, header=None)\n",
    "data_parsed.columns = ['status_id', 'parse']\n",
    "data_parsed = data_parsed.assign(**{'parse' : data_parsed.loc[:, 'parse'].apply(lambda x: str_to_parse(x))})\n",
    "# stack parses\n",
    "data_parsed = pd.concat([pd.Series([i, [y for y in x.loc[:, 'parse'].values if len(y) > 0]], index=['status_id', 'parse']) for i,x in data_parsed.groupby('status_id')], axis=1).transpose()\n",
    "display(data_parsed.head())"
   ]
  },
  {
   "cell_type": "code",
   "execution_count": 167,
   "metadata": {},
   "outputs": [
    {
     "name": "stdout",
     "output_type": "stream",
     "text": [
      "9238/9389 data\n"
     ]
    }
   ],
   "source": [
    "data_valid_parse = pd.merge(data_valid, data_parsed, on='status_id', how='inner')\n",
    "print('%d/%d data'%(data_valid_parse.shape[0], data_valid.shape[0]))\n",
    "## add data name for anchor detection\n",
    "data_valid_parse = data_valid_parse.assign(**{'data_name' : 'maria_fb'})"
   ]
  },
  {
   "cell_type": "code",
   "execution_count": 166,
   "metadata": {},
   "outputs": [],
   "source": [
    "for i, data_i in data_valid_parse.iterrows():\n",
    "    for p in data_i.loc['parse']:\n",
    "        if(len(p) == 0):\n",
    "            print('error with data %s'%(data_i))"
   ]
  },
  {
   "cell_type": "code",
   "execution_count": 173,
   "metadata": {},
   "outputs": [
    {
     "data": {
      "text/plain": [
       "Index(['group_id', 'status_author_id', 'status_message', 'status_lang',\n",
       "       'status_id', 'status_published', 'status_message_clean',\n",
       "       'status_message_tags', 'status_message_tags_ne', 'status_len',\n",
       "       'status_message_tags_ne_LOC', 'LOC_GN', 'LOC_OSM', 'NE', 'valid_loc',\n",
       "       'has_state_descriptor', 'has_muni_descriptor', 'NE_clean',\n",
       "       'max_population', 'max_alternate_names', 'parse', 'data_name'],\n",
       "      dtype='object')"
      ]
     },
     "execution_count": 173,
     "metadata": {},
     "output_type": "execute_result"
    }
   ],
   "source": [
    "data_valid_parse.columns"
   ]
  },
  {
   "cell_type": "code",
   "execution_count": 176,
   "metadata": {},
   "outputs": [
    {
     "name": "stdout",
     "output_type": "stream",
     "text": [
      "           group_id   status_author_id  \\\n",
      "28  105121436871597  10155826475814621   \n",
      "\n",
      "                                       status_message status_lang  \\\n",
      "28  Lo que tengo entendido es que el puente de la ...          es   \n",
      "\n",
      "                          status_id     status_published  \\\n",
      "28  105121436871597_105122476871493  2017-09-21 11:27:50   \n",
      "\n",
      "                                 status_message_clean  \\\n",
      "28  Lo que tengo entendido es que el puente de la ...   \n",
      "\n",
      "                                  status_message_tags  \\\n",
      "28  [(Lo, O), (que, O), (tengo, O), (entendido, O)...   \n",
      "\n",
      "           status_message_tags_ne  status_len  ... LOC_OSM       NE  \\\n",
      "28  [('Maunabo', 'ORGANIZATION')]         130  ...       1  Maunabo   \n",
      "\n",
      "    valid_loc has_state_descriptor  has_muni_descriptor  NE_clean  \\\n",
      "28          1                False                False   maunabo   \n",
      "\n",
      "    max_population max_alternate_names  \\\n",
      "28         12225.0                 1.0   \n",
      "\n",
      "                                                parse  data_name  \n",
      "28  [[[Lo, DET, 1, det, 0], [que, PRON, 3, dobj, 1...   maria_fb  \n",
      "\n",
      "[1 rows x 22 columns]\n"
     ]
    }
   ],
   "source": [
    "a = list(data_valid_parse.groupby(id_var))\n",
    "print(a[0][1])"
   ]
  },
  {
   "cell_type": "code",
   "execution_count": 188,
   "metadata": {},
   "outputs": [],
   "source": [
    "from importlib import reload\n",
    "import data_helpers\n",
    "reload(data_helpers)\n",
    "from data_helpers import detect_anchor_by_type\n",
    "def detect_anchor(data, anchor_types_to_use=['state', 'descriptor']):\n",
    "#     print('processing %d data'%(data.shape[0]))\n",
    "    NE_var = 'NE'\n",
    "    data_name_var = 'data_name'\n",
    "    anchor_var = 'max_population'\n",
    "    txt_var = 'status_message'\n",
    "    anchor_types_all = ['state', 'descriptor', 'anchor_compound', 'anchor_list']\n",
    "    anchor_state, anchor_descriptor, anchor_compound, anchor_list = detect_anchor_by_type(data, NE_var=NE_var, data_name_var=data_name_var, anchor_var=anchor_var, txt_var=txt_var)\n",
    "#     print(data.loc[:, NE_var])\n",
    "#     print(anchors)\n",
    "#     print('anchor state %s'%(anchor_state))\n",
    "    anchors = pd.concat([anchor_state, anchor_descriptor, anchor_compound, anchor_list], axis=1)\n",
    "#     print(anchors)\n",
    "    anchors.columns = anchor_types_all\n",
    "#     print('final anchors %s'%(str(anchors)))\n",
    "    anchors = anchors.loc[:, anchor_types_to_use]\n",
    "    anchors = anchors.max(axis=1)\n",
    "    data = data.assign(**{'anchor' : anchors.values})\n",
    "    return data\n",
    "id_var = 'status_id'\n",
    "anchor_types_to_use = ['state', 'descriptor']\n",
    "# test_data = data_valid_parse[data_valid_parse.loc[:, id_var] == data_valid_parse.loc[:, id_var].iloc[10]]\n",
    "# print(detect_anchor(test_data, anchor_types_to_use=anchor_types_to_use))\n",
    "anchor_data = []\n",
    "for id_i, data_i in data_valid_parse.groupby(id_var):\n",
    "    anchor_data_i = detect_anchor(data_i, anchor_types_to_use=anchor_types_to_use)\n",
    "    anchor_data.append(anchor_data_i)\n",
    "anchor_data = pd.concat(anchor_data, axis=0)\n",
    "# data_valid_parse_anchor = pd.concat([x[1] for x in data_valid_parse.groupby(id_var).apply(lambda x: )], axis=0)"
   ]
  },
  {
   "cell_type": "code",
   "execution_count": 180,
   "metadata": {},
   "outputs": [
    {
     "name": "stdout",
     "output_type": "stream",
     "text": [
      "583/9238 anchors\n"
     ]
    }
   ],
   "source": [
    "print('%d/%d anchors'%(anchor_data.loc[:, 'anchor'].sum(), anchor_data.shape[0]))"
   ]
  },
  {
   "cell_type": "markdown",
   "metadata": {},
   "source": [
    "Let's see what these anchors caught."
   ]
  },
  {
   "cell_type": "code",
   "execution_count": 184,
   "metadata": {},
   "outputs": [
    {
     "data": {
      "text/plain": [
       "array([['Manati',\n",
       "        'Si alguien conoce a estas personas por favor déjennos saber la familia en Texas está preocupada(Magdalena) Por favor compártanlo para ver si logramos saber de ellos.Oskar Jimenez, Crr. 668 Cordova Davilla, Bz. 188 Manati, PR 00674'],\n",
       "       ['Buena Vista',\n",
       "        \"This is my niece's Grandfather Manuel Mendoza. We still haven’t heard from him. He lives in Buena Vista Humacao. We just want to know you’re okay ❤️ We will continue praying for your safety. Este es el abuelo de mis sobrinas,  Manuel Mendoza. Aún no hemos oído hablar de él. Vive en Buena Vista Humacao. Sólo queremos saber que estás bien ❤️ Seguiremos orando por tu seguridad.\"],\n",
       "       ['Buena Vista',\n",
       "        \"This is my niece's Grandfather Manuel Mendoza. We still haven’t heard from him. He lives in Buena Vista Humacao. We just want to know you’re okay ❤️ We will continue praying for your safety. Este es el abuelo de mis sobrinas,  Manuel Mendoza. Aún no hemos oído hablar de él. Vive en Buena Vista Humacao. Sólo queremos saber que estás bien ❤️ Seguiremos orando por tu seguridad.\"],\n",
       "       ['Walgreens',\n",
       "        'Alguien q este cerca del Walgreens del pueblo d Humacao q me ayude a contactar a mi suegra. Ella vive por ahí'],\n",
       "       ['San José',\n",
       "        'Buscamos noticias de Hector L Arriaga y Lilliam Cintron de San José en Utuado. Ellos no se desalojaron y allí se inunda. Mi mama y Papa Guillermo Arriaga y Belen Arriaga. Mi hermana Maria Arriaga, su esposo Jorge Villafañe. Sobrinos Iliení Mariie Villafañe y Diego Villafañe. Los Norisbel Valentin, Annie Valentín, Los amamos, estamos orando por ustedes!'],\n",
       "       ['Los Angeles',\n",
       "        'Alguien tiene información del barrio Los Angeles, Utuado?? Busco a Yesenia Yasmila Maldonado y sus hijas'],\n",
       "       ['Angeles',\n",
       "        'Buscando informacion de mi abuelo Ruberto marte Bermudez sector 702 mayingo naravaez Angeles, Utuado Si sabe algo tirame por mensaje gracias'],\n",
       "       ['Roncador', 'Alguien tiene informacion de Roncador, Utuado?'],\n",
       "       ['San José',\n",
       "        'Alguien que conozca o vea algunas de estas personas porfavor déjenme saber se los agradezco de todo corazón familia serrano de San José utuado'],\n",
       "       ['Palmas',\n",
       "        'POR FAVOR !!!!Estoy en buscando a JOSE LUIS CEDENO VEGA Y ELIZABETH COLLAZO CASTRO se encuentran en  Paso Palmas PR-140 km 16  necesito informacion si alguien sabe de ellos o informacion de esa area']],\n",
       "      dtype=object)"
      ]
     },
     "execution_count": 184,
     "metadata": {},
     "output_type": "execute_result"
    }
   ],
   "source": [
    "anchor_data[anchor_data.loc[:, 'anchor']==1].head(10).loc[:, ['NE', 'status_message']].values"
   ]
  },
  {
   "cell_type": "markdown",
   "metadata": {},
   "source": [
    "These look legit! Mostly CITY, LOC patterns but also a few descriptor phrases throughout."
   ]
  },
  {
   "cell_type": "markdown",
   "metadata": {},
   "source": [
    "## Check anchor coverage in groups\n",
    "Make sure that we have sufficient coverage across groups."
   ]
  },
  {
   "cell_type": "code",
   "execution_count": 186,
   "metadata": {},
   "outputs": [
    {
     "data": {
      "text/plain": [
       "group_id\n",
       "105121436871597       0\n",
       "117224992282301       3\n",
       "117445378946554      25\n",
       "117529462276443       0\n",
       "118787682128186      13\n",
       "119087272129297      28\n",
       "119132632075224       9\n",
       "119987445374151       0\n",
       "127217134598253      33\n",
       "128909594424200       0\n",
       "130010134396359       1\n",
       "130583424251881       2\n",
       "130913387550000      21\n",
       "132022090761950      13\n",
       "132392547395104      28\n",
       "132963337341347      27\n",
       "142680509678003      13\n",
       "185336475344755       6\n",
       "210130182858104       2\n",
       "228066954387757      10\n",
       "239379013253824      23\n",
       "239708553223790       1\n",
       "301495306993376       0\n",
       "311739902631820       3\n",
       "320205998443003      10\n",
       "351272391991842       3\n",
       "352124068563860       0\n",
       "477086339329141       1\n",
       "486819048360070       8\n",
       "505778186467207       2\n",
       "721270821393500      10\n",
       "727610640755618       2\n",
       "782660231920150       1\n",
       "803659183149847       5\n",
       "844368579056187       2\n",
       "871880559633183       0\n",
       "889808494515226       1\n",
       "891721064308258      48\n",
       "986662628142079       4\n",
       "1103661653103604      1\n",
       "1201507393289356      0\n",
       "1306772706118778      5\n",
       "1390525734396603      2\n",
       "1453581968094172      1\n",
       "1513874938700905      0\n",
       "1548641381825933      0\n",
       "1723084327997466     18\n",
       "1724474021195839      3\n",
       "1732562527048857      1\n",
       "1773209126315380    101\n",
       "1815374475420954     17\n",
       "1909452959306518      5\n",
       "1945917302354700      0\n",
       "1961676614046008      0\n",
       "1972572999632293     39\n",
       "1979604895658060     25\n",
       "1988415758095382      7\n",
       "dtype: int64"
      ]
     },
     "metadata": {},
     "output_type": "display_data"
    }
   ],
   "source": [
    "group_var = 'group_id'\n",
    "display(anchor_data.groupby(group_var).apply(lambda x: x.loc[:, 'anchor'].sum()))"
   ]
  },
  {
   "cell_type": "markdown",
   "metadata": {},
   "source": [
    "OK! Not great coverage but definitely better than nothing."
   ]
  },
  {
   "cell_type": "code",
   "execution_count": null,
   "metadata": {},
   "outputs": [],
   "source": []
  }
 ],
 "metadata": {
  "kernelspec": {
   "display_name": "Python 3",
   "language": "python",
   "name": "python3"
  },
  "language_info": {
   "codemirror_mode": {
    "name": "ipython",
    "version": 3
   },
   "file_extension": ".py",
   "mimetype": "text/x-python",
   "name": "python",
   "nbconvert_exporter": "python",
   "pygments_lexer": "ipython3",
   "version": "3.6.5"
  }
 },
 "nbformat": 4,
 "nbformat_minor": 2
}
