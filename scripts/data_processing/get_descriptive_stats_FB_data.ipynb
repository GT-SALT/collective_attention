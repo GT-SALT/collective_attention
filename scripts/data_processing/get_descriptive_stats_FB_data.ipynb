{
 "cells": [
  {
   "cell_type": "markdown",
   "metadata": {},
   "source": [
    "# Get descriptive stats for FB data"
   ]
  },
  {
   "cell_type": "code",
   "execution_count": 1,
   "metadata": {},
   "outputs": [],
   "source": [
    "import pandas as pd"
   ]
  },
  {
   "cell_type": "markdown",
   "metadata": {},
   "source": [
    "## Load data"
   ]
  },
  {
   "cell_type": "code",
   "execution_count": 5,
   "metadata": {},
   "outputs": [],
   "source": [
    "data = pd.read_csv('../../data/facebook-maria/combined_group_data.tsv', sep='\\t', index_col=False)"
   ]
  },
  {
   "cell_type": "code",
   "execution_count": 6,
   "metadata": {},
   "outputs": [
    {
     "data": {
      "text/html": [
       "<div>\n",
       "<style scoped>\n",
       "    .dataframe tbody tr th:only-of-type {\n",
       "        vertical-align: middle;\n",
       "    }\n",
       "\n",
       "    .dataframe tbody tr th {\n",
       "        vertical-align: top;\n",
       "    }\n",
       "\n",
       "    .dataframe thead th {\n",
       "        text-align: right;\n",
       "    }\n",
       "</style>\n",
       "<table border=\"1\" class=\"dataframe\">\n",
       "  <thead>\n",
       "    <tr style=\"text-align: right;\">\n",
       "      <th></th>\n",
       "      <th>group_id</th>\n",
       "      <th>status_author_id</th>\n",
       "      <th>status_message</th>\n",
       "      <th>status_lang</th>\n",
       "      <th>status_id</th>\n",
       "      <th>status_published</th>\n",
       "    </tr>\n",
       "  </thead>\n",
       "  <tbody>\n",
       "    <tr>\n",
       "      <td>0</td>\n",
       "      <td>351272391991842</td>\n",
       "      <td>10159623474155515</td>\n",
       "      <td>Estoy preocupada por mi tia vicky vazquez que ...</td>\n",
       "      <td>es</td>\n",
       "      <td>351272391991842_362333787552369</td>\n",
       "      <td>2017-10-19 18:25:23</td>\n",
       "    </tr>\n",
       "    <tr>\n",
       "      <td>1</td>\n",
       "      <td>351272391991842</td>\n",
       "      <td>10155877836122783</td>\n",
       "      <td>Para alguien que lo necesite... Dale Share..A ...</td>\n",
       "      <td>es</td>\n",
       "      <td>351272391991842_361695457616202</td>\n",
       "      <td>2017-10-18 06:47:34</td>\n",
       "    </tr>\n",
       "    <tr>\n",
       "      <td>2</td>\n",
       "      <td>351272391991842</td>\n",
       "      <td>10215020607489848</td>\n",
       "      <td>One unsafe well in Dorado on Carr 694 km 4.5</td>\n",
       "      <td>en</td>\n",
       "      <td>351272391991842_361487960970285</td>\n",
       "      <td>2017-10-17 20:20:03</td>\n",
       "    </tr>\n",
       "    <tr>\n",
       "      <td>3</td>\n",
       "      <td>351272391991842</td>\n",
       "      <td>1716175958400853</td>\n",
       "      <td>En apoyo al alcalde Carlos Lopez y al municipi...</td>\n",
       "      <td>es</td>\n",
       "      <td>351272391991842_361453717640376</td>\n",
       "      <td>2017-10-17 17:38:08</td>\n",
       "    </tr>\n",
       "    <tr>\n",
       "      <td>4</td>\n",
       "      <td>351272391991842</td>\n",
       "      <td>141039043205101</td>\n",
       "      <td>Pueblo de Puerto Rico no se monten en las gran...</td>\n",
       "      <td>es</td>\n",
       "      <td>351272391991842_358929311226150</td>\n",
       "      <td>2017-10-11 14:14:22</td>\n",
       "    </tr>\n",
       "  </tbody>\n",
       "</table>\n",
       "</div>"
      ],
      "text/plain": [
       "          group_id   status_author_id  \\\n",
       "0  351272391991842  10159623474155515   \n",
       "1  351272391991842  10155877836122783   \n",
       "2  351272391991842  10215020607489848   \n",
       "3  351272391991842   1716175958400853   \n",
       "4  351272391991842    141039043205101   \n",
       "\n",
       "                                      status_message status_lang  \\\n",
       "0  Estoy preocupada por mi tia vicky vazquez que ...          es   \n",
       "1  Para alguien que lo necesite... Dale Share..A ...          es   \n",
       "2       One unsafe well in Dorado on Carr 694 km 4.5          en   \n",
       "3  En apoyo al alcalde Carlos Lopez y al municipi...          es   \n",
       "4  Pueblo de Puerto Rico no se monten en las gran...          es   \n",
       "\n",
       "                         status_id     status_published  \n",
       "0  351272391991842_362333787552369  2017-10-19 18:25:23  \n",
       "1  351272391991842_361695457616202  2017-10-18 06:47:34  \n",
       "2  351272391991842_361487960970285  2017-10-17 20:20:03  \n",
       "3  351272391991842_361453717640376  2017-10-17 17:38:08  \n",
       "4  351272391991842_358929311226150  2017-10-11 14:14:22  "
      ]
     },
     "metadata": {},
     "output_type": "display_data"
    }
   ],
   "source": [
    "display(data.head())"
   ]
  },
  {
   "cell_type": "code",
   "execution_count": 7,
   "metadata": {},
   "outputs": [
    {
     "name": "stdout",
     "output_type": "stream",
     "text": [
      "31413\n"
     ]
    }
   ],
   "source": [
    "# total posts\n",
    "print(data.loc[:, 'status_id'].nunique())"
   ]
  },
  {
   "cell_type": "code",
   "execution_count": 8,
   "metadata": {},
   "outputs": [
    {
     "name": "stdout",
     "output_type": "stream",
     "text": [
      "60\n"
     ]
    }
   ],
   "source": [
    "# total groups\n",
    "print(data.loc[:, 'group_id'].nunique())"
   ]
  },
  {
   "cell_type": "code",
   "execution_count": null,
   "metadata": {},
   "outputs": [],
   "source": []
  }
 ],
 "metadata": {
  "kernelspec": {
   "display_name": "Python 3",
   "language": "python",
   "name": "python3"
  },
  "language_info": {
   "codemirror_mode": {
    "name": "ipython",
    "version": 3
   },
   "file_extension": ".py",
   "mimetype": "text/x-python",
   "name": "python",
   "nbconvert_exporter": "python",
   "pygments_lexer": "ipython3",
   "version": "3.6.7"
  }
 },
 "nbformat": 4,
 "nbformat_minor": 2
}
