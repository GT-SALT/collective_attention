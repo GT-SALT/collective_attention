{
 "cells": [
  {
   "cell_type": "markdown",
   "metadata": {},
   "source": [
    "# Determine toponym ambiguity\n",
    "In which we attempt to determine how much ambiguity there actually is within the Facebook data, according to how many anchor strings in the text point to ambiguous toponyms in OSM."
   ]
  },
  {
   "cell_type": "code",
   "execution_count": 28,
   "metadata": {},
   "outputs": [],
   "source": [
    "import pandas as pd\n",
    "from sklearn.feature_extraction.text import CountVectorizer\n",
    "import matplotlib\n",
    "%matplotlib inline\n",
    "import matplotlib.pyplot as plt"
   ]
  },
  {
   "cell_type": "markdown",
   "metadata": {},
   "source": [
    "## Load data"
   ]
  },
  {
   "cell_type": "code",
   "execution_count": 2,
   "metadata": {},
   "outputs": [],
   "source": [
    "entity_info = pd.read_csv('../../data/geo_files/PR_OSM/shp_files/combined_shp_data.tsv', sep='\\t', index_col=0)"
   ]
  },
  {
   "cell_type": "code",
   "execution_count": 3,
   "metadata": {},
   "outputs": [
    {
     "name": "stdout",
     "output_type": "stream",
     "text": [
      "                                                 geometry_type feature_class  \\\n",
      "name                                                                           \n",
      "Multipisos UPRRP                                       Polygon      building   \n",
      "Escuela de Arquitecura y Escuela de Bellas Artes       Polygon      building   \n",
      "Eugenio María de Hostos                                Polygon      building   \n",
      "Teatro UPR                                             Polygon      building   \n",
      "Complejo Deportivo Cosme Beitía Sálamo                 Polygon      building   \n",
      "\n",
      "                                                    osm_id        lat  \\\n",
      "name                                                                    \n",
      "Multipisos UPRRP                                  20885732 -66.044319   \n",
      "Escuela de Arquitecura y Escuela de Bellas Artes  20887004 -66.046165   \n",
      "Eugenio María de Hostos                           20887047 -66.047953   \n",
      "Teatro UPR                                        20887143 -66.048651   \n",
      "Complejo Deportivo Cosme Beitía Sálamo            20887609 -66.046724   \n",
      "\n",
      "                                                        lon   shp_type  \\\n",
      "name                                                                     \n",
      "Multipisos UPRRP                                  18.402406  buildings   \n",
      "Escuela de Arquitecura y Escuela de Bellas Artes  18.402295  buildings   \n",
      "Eugenio María de Hostos                           18.402395  buildings   \n",
      "Teatro UPR                                        18.402701  buildings   \n",
      "Complejo Deportivo Cosme Beitía Sálamo            18.407594  buildings   \n",
      "\n",
      "                                                 municipality  \n",
      "name                                                           \n",
      "Multipisos UPRRP                                     San Juan  \n",
      "Escuela de Arquitecura y Escuela de Bellas Artes     San Juan  \n",
      "Eugenio María de Hostos                              San Juan  \n",
      "Teatro UPR                                           San Juan  \n",
      "Complejo Deportivo Cosme Beitía Sálamo               San Juan  \n"
     ]
    }
   ],
   "source": [
    "print(entity_info.head())"
   ]
  },
  {
   "cell_type": "markdown",
   "metadata": {},
   "source": [
    "Drop nameless stuff!"
   ]
  },
  {
   "cell_type": "code",
   "execution_count": 19,
   "metadata": {},
   "outputs": [
    {
     "name": "stdout",
     "output_type": "stream",
     "text": [
      "66316\n"
     ]
    }
   ],
   "source": [
    "entity_info = entity_info.loc[~ entity_info.index.isna()]\n",
    "print(entity_info.shape[0])"
   ]
  },
  {
   "cell_type": "markdown",
   "metadata": {},
   "source": [
    "## Name ambiguity"
   ]
  },
  {
   "cell_type": "markdown",
   "metadata": {},
   "source": [
    "How many entities are referenced by multiple names?"
   ]
  },
  {
   "cell_type": "code",
   "execution_count": 21,
   "metadata": {},
   "outputs": [
    {
     "name": "stdout",
     "output_type": "stream",
     "text": [
      "1681/66316 entities with multiple names\n"
     ]
    }
   ],
   "source": [
    "e_duplicate_counts = entity_info.groupby('osm_id').apply(lambda x: x.shape[0])\n",
    "e_multi = e_duplicate_counts[e_duplicate_counts > 1]\n",
    "print('%d/%d entities with multiple names'%(len(e_multi), entity_info.shape[0]))"
   ]
  },
  {
   "cell_type": "code",
   "execution_count": 22,
   "metadata": {},
   "outputs": [
    {
     "name": "stdout",
     "output_type": "stream",
     "text": [
      "                                        geometry_type   feature_class  \\\n",
      "name                                                                    \n",
      "Cuartel de Ballajá                            Polygon          museum   \n",
      "Cuartel de Ballajá                            Polygon        building   \n",
      "Galería Nacional                              Polygon        building   \n",
      "Galería Nacional                              Polygon          museum   \n",
      "Paddle Paradise                               Polygon            park   \n",
      "Paddle Paradise                               Polygon            park   \n",
      "Reserva Natural Aguas Buenas                  Polygon  nature_reserve   \n",
      "Reserva Natural Aguas Buenas                  Polygon          forest   \n",
      "Robinson School                               Polygon        building   \n",
      "Robinson School                               Polygon          school   \n",
      "Estacionamiento Luis A. Ferré                 Polygon         parking   \n",
      "Estacionamiento Luis A. Ferré                 Polygon        building   \n",
      "Sheraton Convention Center               MultiPolygon        building   \n",
      "Sheraton Convention Center               MultiPolygon           hotel   \n",
      "ICDC Espinosa                                 Polygon        building   \n",
      "ICDC Espinosa                                 Polygon       christian   \n",
      "Área Recreativa Los Rosales i y III           Polygon            park   \n",
      "Área Recreativa Los Rosales i y III           Polygon            park   \n",
      "Reserva Natural Las Cabezas De San Juan       Polygon          forest   \n",
      "Reserva Natural Las Cabezas De San Juan       Polygon  nature_reserve   \n",
      "\n",
      "                                          osm_id        lat        lon  \\\n",
      "name                                                                     \n",
      "Cuartel de Ballajá                        929959 -66.119828  18.467834   \n",
      "Cuartel de Ballajá                        929959 -66.119828  18.467834   \n",
      "Galería Nacional                         3435178 -66.118352  18.467822   \n",
      "Galería Nacional                         3435178 -66.118352  18.467822   \n",
      "Paddle Paradise                          3440280 -66.017853  18.285920   \n",
      "Paddle Paradise                          3440280 -66.017853  18.285920   \n",
      "Reserva Natural Aguas Buenas             3595860 -66.107578  18.221236   \n",
      "Reserva Natural Aguas Buenas             3595860 -66.107578  18.221236   \n",
      "Robinson School                          3865979 -66.065274  18.453662   \n",
      "Robinson School                          3865979 -66.065274  18.453662   \n",
      "Estacionamiento Luis A. Ferré            3885914 -66.105310  18.465347   \n",
      "Estacionamiento Luis A. Ferré            3885914 -66.105310  18.465347   \n",
      "Sheraton Convention Center               3930428 -66.064947  18.456332   \n",
      "Sheraton Convention Center               3930428 -66.030895  18.092996   \n",
      "ICDC Espinosa                            3999908 -66.296550  18.404378   \n",
      "ICDC Espinosa                            3999908 -66.296550  18.404378   \n",
      "Área Recreativa Los Rosales i y III      4193568 -66.467661  18.433402   \n",
      "Área Recreativa Los Rosales i y III      4193568 -66.467661  18.433402   \n",
      "Reserva Natural Las Cabezas De San Juan  4432109 -65.621233  18.379010   \n",
      "Reserva Natural Las Cabezas De San Juan  4432109 -65.621233  18.379010   \n",
      "\n",
      "                                          shp_type  municipality  \n",
      "name                                                              \n",
      "Cuartel de Ballajá                            pois      San Juan  \n",
      "Cuartel de Ballajá                       buildings      San Juan  \n",
      "Galería Nacional                         buildings      San Juan  \n",
      "Galería Nacional                              pois      San Juan  \n",
      "Paddle Paradise                            landuse        Gurabo  \n",
      "Paddle Paradise                               pois        Gurabo  \n",
      "Reserva Natural Aguas Buenas               landuse  Aguas Buenas  \n",
      "Reserva Natural Aguas Buenas               landuse  Aguas Buenas  \n",
      "Robinson School                          buildings      San Juan  \n",
      "Robinson School                               pois      San Juan  \n",
      "Estacionamiento Luis A. Ferré              traffic      San Juan  \n",
      "Estacionamiento Luis A. Ferré            buildings      San Juan  \n",
      "Sheraton Convention Center               buildings      San Juan  \n",
      "Sheraton Convention Center                    pois      Patillas  \n",
      "ICDC Espinosa                            buildings        Dorado  \n",
      "ICDC Espinosa                                 pofw        Dorado  \n",
      "Área Recreativa Los Rosales i y III           pois        Manatí  \n",
      "Área Recreativa Los Rosales i y III        landuse        Manatí  \n",
      "Reserva Natural Las Cabezas De San Juan    landuse       Fajardo  \n",
      "Reserva Natural Las Cabezas De San Juan    landuse       Fajardo  \n"
     ]
    }
   ],
   "source": [
    "entity_info_multi_names = entity_info[entity_info.loc[:, 'osm_id'].isin(e_multi.index)].sort_values('osm_id', inplace=False)\n",
    "print(entity_info_multi_names.head(20))"
   ]
  },
  {
   "cell_type": "markdown",
   "metadata": {},
   "source": [
    "OK! It looks like all the duplicate entities are just classified under multiple feature classes.\n",
    "\n",
    "What about actual duplicates?"
   ]
  },
  {
   "cell_type": "code",
   "execution_count": 23,
   "metadata": {},
   "outputs": [
    {
     "name": "stdout",
     "output_type": "stream",
     "text": [
      "0/66316 entities have multiple names\n"
     ]
    }
   ],
   "source": [
    "e_name_counts = entity_info.groupby('osm_id').apply(lambda x: x.index.nunique())\n",
    "e_multi_names = e_name_counts[e_name_counts > 1]\n",
    "print('%d/%d entities have multiple names'%(len(e_multi_names), entity_info.shape[0]))"
   ]
  },
  {
   "cell_type": "code",
   "execution_count": 24,
   "metadata": {},
   "outputs": [
    {
     "name": "stdout",
     "output_type": "stream",
     "text": [
      "                                geometry_type   feature_class     osm_id  \\\n",
      "name                                                                       \n",
      "Cancha Urb. Jardines                  Polygon        building  204521460   \n",
      "Centro Urbano del Condado             Polygon        building  279217293   \n",
      "Lavander Urban Vintage Boutique       Polygon        building  358994701   \n",
      "Urbanización Ocean Park               Polygon        building  358996211   \n",
      "Escuela Superior Urbana Nueva         Polygon        building    7640406   \n",
      "Urb. Toaville                         Polygon     residential   55177504   \n",
      "Bosque Urbano de San Patricio         Polygon          forest   58064660   \n",
      "Bosque Urbano de San Patricio         Polygon  nature_reserve   58064660   \n",
      "Urb. Llanos de Providencia            Polygon     residential   60137991   \n",
      "Urb. Fajardo Gardens                  Polygon     residential   60397641   \n",
      "Urbanizacion Borinquen                Polygon     residential   60697750   \n",
      "Urbanización El Real                  Polygon     residential   60697999   \n",
      "Urbanización El Conquistador          Polygon     residential   60893210   \n",
      "Urbanización Villa Nevárez            Polygon     residential   61027855   \n",
      "Urbanization Villa Del Carmen         Polygon     residential   61110541   \n",
      "Urbanizacion Mayaguez Terrace         Polygon     residential   61274371   \n",
      "Urbanización La Concepción            Polygon     residential   73651091   \n",
      "Urb. Rexmanor                         Polygon     residential   78760426   \n",
      "Urbanización Las Colinas              Polygon     residential   84571595   \n",
      "Urbanización El Remanso               Polygon     residential   85445270   \n",
      "Urb. Villa Pinares                    Polygon     residential   85471343   \n",
      "Urb. Villas del Rio                   Polygon     residential  154736716   \n",
      "Yauco Urban Park                      Polygon            park  241736327   \n",
      "Bahía Urbana                          Polygon            park  256258027   \n",
      "Urb. Gran Vista 2                     Polygon     residential  261287237   \n",
      "Urb. Lucina Franco                    Polygon     residential  263858672   \n",
      "Bosque Urbano del Nuevo Milenio       Polygon          forest  266656512   \n",
      "Bosque Urbano del Nuevo Milenio       Polygon  nature_reserve  266656512   \n",
      "Bosque Urbano Doña Inés Mendoza       Polygon          forest  266675244   \n",
      "Urb Colinas Verdes                    Polygon     residential  288059147   \n",
      "...                                       ...             ...        ...   \n",
      "Avenida David Urbina               LineString        tertiary  287799103   \n",
      "Avenida David Urbina               LineString        tertiary  287799104   \n",
      "Avenida David Urbina               LineString        tertiary  287799105   \n",
      "Avenida David Urbina               LineString        tertiary  287799107   \n",
      "Avenida David Urbina               LineString        tertiary  287799108   \n",
      "Avenida David Urbina               LineString        tertiary  287799113   \n",
      "Avenida David Urbina               LineString        tertiary  287799163   \n",
      "Avenida David Urbina               LineString        tertiary  287799207   \n",
      "Avenida David Urbina               LineString        tertiary  287799231   \n",
      "Avenida David Urbina               LineString        tertiary  287799234   \n",
      "Avenida David Urbina               LineString        tertiary  287799236   \n",
      "Avenida David Urbina               LineString        tertiary  287799240   \n",
      "Calle Cecilio Urbina               LineString     residential  288129939   \n",
      "Calle Cecilio Urbina               LineString     residential  288129940   \n",
      "Calle Cecilio Urbina               LineString     residential  288130022   \n",
      "Calle Cecilio Urbina               LineString     residential  288130028   \n",
      "Calle Cecilio Urbina               LineString     residential  288130031   \n",
      "Calle Cecilio Urbina               LineString     residential  288130060   \n",
      "Calle Cecilio Urbina               LineString     residential  289800577   \n",
      "Calle Cecilio Urbina               LineString     residential  289800580   \n",
      "Calle Cecilio Urbina               LineString     residential  289800584   \n",
      "Calle Cecilio Urbina               LineString     residential  289800586   \n",
      "Avenida David Urbina               LineString        tertiary  292931135   \n",
      "Avenida David Urbina               LineString        tertiary  292931137   \n",
      "Avenida David Urbina               LineString        tertiary  292931139   \n",
      "Calle Cecilio Urbina               LineString     residential  494485364   \n",
      "Calle Cecilio Urbina               LineString     residential  494485365   \n",
      "Calle Cecilio Urbina               LineString     residential  494485368   \n",
      "Calle Cecilio Urbina               LineString     residential  494485369   \n",
      "Urb Palacious del Lago             LineString     residential  535802769   \n",
      "\n",
      "                                       lat        lon   shp_type  \\\n",
      "name                                                               \n",
      "Cancha Urb. Jardines            -65.876732  18.429875  buildings   \n",
      "Centro Urbano del Condado       -66.069460  18.454848  buildings   \n",
      "Lavander Urban Vintage Boutique -66.061250  18.451253  buildings   \n",
      "Urbanización Ocean Park         -66.055667  18.452676  buildings   \n",
      "Escuela Superior Urbana Nueva   -66.069059  17.974574  buildings   \n",
      "Urb. Toaville                   -66.243673  18.443655    landuse   \n",
      "Bosque Urbano de San Patricio   -66.092730  18.409629    landuse   \n",
      "Bosque Urbano de San Patricio   -66.092730  18.409629    landuse   \n",
      "Urb. Llanos de Providencia      -66.268895  17.995383    landuse   \n",
      "Urb. Fajardo Gardens            -65.667303  18.346357    landuse   \n",
      "Urbanizacion Borinquen          -67.152897  18.089340    landuse   \n",
      "Urbanización El Real            -67.045625  18.092463    landuse   \n",
      "Urbanización El Conquistador    -66.006640  18.345827    landuse   \n",
      "Urbanización Villa Nevárez      -66.067596  18.394957    landuse   \n",
      "Urbanization Villa Del Carmen   -66.605685  17.980050    landuse   \n",
      "Urbanizacion Mayaguez Terrace   -67.149338  18.215897    landuse   \n",
      "Urbanización La Concepción      -67.149214  18.084838    landuse   \n",
      "Urb. Rexmanor                   -66.104256  17.983619    landuse   \n",
      "Urbanización Las Colinas        -66.220863  18.408984    landuse   \n",
      "Urbanización El Remanso         -66.066356  18.365028    landuse   \n",
      "Urb. Villa Pinares              -66.393316  18.428962    landuse   \n",
      "Urb. Villas del Rio             -66.129443  18.383885    landuse   \n",
      "Yauco Urban Park                -66.855279  18.032346    landuse   \n",
      "Bahía Urbana                    -66.106716  18.464228    landuse   \n",
      "Urb. Gran Vista 2               -66.004996  18.233733    landuse   \n",
      "Urb. Lucina Franco              -65.450450  18.142849    landuse   \n",
      "Bosque Urbano del Nuevo Milenio -66.047084  18.385917    landuse   \n",
      "Bosque Urbano del Nuevo Milenio -66.047084  18.385917    landuse   \n",
      "Bosque Urbano Doña Inés Mendoza -66.022758  18.385791    landuse   \n",
      "Urb Colinas Verdes              -66.006098  18.386459    landuse   \n",
      "...                                    ...        ...        ...   \n",
      "Avenida David Urbina            -66.111082  18.349917      roads   \n",
      "Avenida David Urbina            -66.112748  18.349562      roads   \n",
      "Avenida David Urbina            -66.112779  18.349677      roads   \n",
      "Avenida David Urbina            -66.113954  18.349527      roads   \n",
      "Avenida David Urbina            -66.115428  18.349519      roads   \n",
      "Avenida David Urbina            -66.110170  18.350046      roads   \n",
      "Avenida David Urbina            -66.106062  18.349756      roads   \n",
      "Avenida David Urbina            -66.109867  18.350052      roads   \n",
      "Avenida David Urbina            -66.109909  18.350147      roads   \n",
      "Avenida David Urbina            -66.104991  18.349366      roads   \n",
      "Avenida David Urbina            -66.105000  18.349414      roads   \n",
      "Avenida David Urbina            -66.107712  18.350209      roads   \n",
      "Calle Cecilio Urbina            -66.114988  18.357725      roads   \n",
      "Calle Cecilio Urbina            -66.115038  18.357672      roads   \n",
      "Calle Cecilio Urbina            -66.115490  18.358091      roads   \n",
      "Calle Cecilio Urbina            -66.116400  18.360481      roads   \n",
      "Calle Cecilio Urbina            -66.116088  18.358863      roads   \n",
      "Calle Cecilio Urbina            -66.115550  18.358275      roads   \n",
      "Calle Cecilio Urbina            -66.116099  18.358750      roads   \n",
      "Calle Cecilio Urbina            -66.116313  18.360296      roads   \n",
      "Calle Cecilio Urbina            -66.116488  18.359765      roads   \n",
      "Calle Cecilio Urbina            -66.116366  18.359708      roads   \n",
      "Avenida David Urbina            -66.108307  18.350167      roads   \n",
      "Avenida David Urbina            -66.105359  18.349536      roads   \n",
      "Avenida David Urbina            -66.109095  18.350258      roads   \n",
      "Calle Cecilio Urbina            -66.113884  18.356753      roads   \n",
      "Calle Cecilio Urbina            -66.112430  18.355568      roads   \n",
      "Calle Cecilio Urbina            -66.114093  18.356905      roads   \n",
      "Calle Cecilio Urbina            -66.112269  18.355466      roads   \n",
      "Urb Palacious del Lago          -66.175878  18.336849      roads   \n",
      "\n",
      "                                  municipality  \n",
      "name                                            \n",
      "Cancha Urb. Jardines                     Loíza  \n",
      "Centro Urbano del Condado             San Juan  \n",
      "Lavander Urban Vintage Boutique       San Juan  \n",
      "Urbanización Ocean Park               San Juan  \n",
      "Escuela Superior Urbana Nueva           Arroyo  \n",
      "Urb. Toaville                         Toa Baja  \n",
      "Bosque Urbano de San Patricio         San Juan  \n",
      "Bosque Urbano de San Patricio         San Juan  \n",
      "Urb. Llanos de Providencia             Salinas  \n",
      "Urb. Fajardo Gardens                   Fajardo  \n",
      "Urbanizacion Borinquen               Cabo Rojo  \n",
      "Urbanización El Real                San Germán  \n",
      "Urbanización El Conquistador     Trujillo Alto  \n",
      "Urbanización Villa Nevárez            San Juan  \n",
      "Urbanization Villa Del Carmen            Ponce  \n",
      "Urbanizacion Mayaguez Terrace         Mayagüez  \n",
      "Urbanización La Concepción           Cabo Rojo  \n",
      "Urb. Rexmanor                          Guayama  \n",
      "Urbanización Las Colinas              Toa Baja  \n",
      "Urbanización El Remanso               San Juan  \n",
      "Urb. Villa Pinares                   Vega Baja  \n",
      "Urb. Villas del Rio                    Bayamón  \n",
      "Yauco Urban Park                         Yauco  \n",
      "Bahía Urbana                          San Juan  \n",
      "Urb. Gran Vista 2                       Gurabo  \n",
      "Urb. Lucina Franco                     Vieques  \n",
      "Bosque Urbano del Nuevo Milenio       San Juan  \n",
      "Bosque Urbano del Nuevo Milenio       San Juan  \n",
      "Bosque Urbano Doña Inés Mendoza       San Juan  \n",
      "Urb Colinas Verdes                    San Juan  \n",
      "...                                        ...  \n",
      "Avenida David Urbina                  Guaynabo  \n",
      "Avenida David Urbina                  Guaynabo  \n",
      "Avenida David Urbina                  Guaynabo  \n",
      "Avenida David Urbina                  Guaynabo  \n",
      "Avenida David Urbina                  Guaynabo  \n",
      "Avenida David Urbina                  Guaynabo  \n",
      "Avenida David Urbina                  Guaynabo  \n",
      "Avenida David Urbina                  Guaynabo  \n",
      "Avenida David Urbina                  Guaynabo  \n",
      "Avenida David Urbina                  Guaynabo  \n",
      "Avenida David Urbina                  Guaynabo  \n",
      "Avenida David Urbina                  Guaynabo  \n",
      "Calle Cecilio Urbina                  Guaynabo  \n",
      "Calle Cecilio Urbina                  Guaynabo  \n",
      "Calle Cecilio Urbina                  Guaynabo  \n",
      "Calle Cecilio Urbina                  Guaynabo  \n",
      "Calle Cecilio Urbina                  Guaynabo  \n",
      "Calle Cecilio Urbina                  Guaynabo  \n",
      "Calle Cecilio Urbina                  Guaynabo  \n",
      "Calle Cecilio Urbina                  Guaynabo  \n",
      "Calle Cecilio Urbina                  Guaynabo  \n",
      "Calle Cecilio Urbina                  Guaynabo  \n",
      "Avenida David Urbina                  Guaynabo  \n",
      "Avenida David Urbina                  Guaynabo  \n",
      "Avenida David Urbina                  Guaynabo  \n",
      "Calle Cecilio Urbina                  Guaynabo  \n",
      "Calle Cecilio Urbina                  Guaynabo  \n",
      "Calle Cecilio Urbina                  Guaynabo  \n",
      "Calle Cecilio Urbina                  Guaynabo  \n",
      "Urb Palacious del Lago                 Bayamón  \n",
      "\n",
      "[332 rows x 7 columns]\n"
     ]
    }
   ],
   "source": [
    "print(entity_info[entity_info.index.to_series().apply(lambda x: 'Urb' in x)])"
   ]
  },
  {
   "cell_type": "markdown",
   "metadata": {},
   "source": [
    "Ha! So there is actually no example of an entity corresponding to multiple names, although this is certainly happening in the data:\n",
    "\n",
    "- `Urb. Rexmanor` <=> `Urbanización Rexmanor`"
   ]
  },
  {
   "cell_type": "markdown",
   "metadata": {},
   "source": [
    "## Entity name ambiguity\n",
    "What is the average number of unique entities to which a name refers?"
   ]
  },
  {
   "cell_type": "code",
   "execution_count": 27,
   "metadata": {},
   "outputs": [
    {
     "name": "stdout",
     "output_type": "stream",
     "text": [
      "name\n",
      "Calle 1    1126\n",
      "Calle 2    1052\n",
      "Calle 3     976\n",
      "Calle 4     875\n",
      "Calle 5     745\n",
      "dtype: int64\n"
     ]
    }
   ],
   "source": [
    "entity_id_to_name_count = entity_info.groupby(entity_info.index).apply(lambda x: x.loc[:, 'osm_id'].nunique()).sort_values(inplace=False, ascending=False)\n",
    "print(entity_id_to_name_count.head())"
   ]
  },
  {
   "cell_type": "code",
   "execution_count": 33,
   "metadata": {},
   "outputs": [
    {
     "data": {
      "image/png": "[encoded data removed]",
      "text/plain": [
       "<matplotlib.figure.Figure at 0x7ff8a6fa9e90>"
      ]
     },
     "metadata": {},
     "output_type": "display_data"
    }
   ],
   "source": [
    "top_k = 20\n",
    "y_pos = pd.np.arange(top_k)[::-1]\n",
    "y_tick_labels = map(lambda x: x.decode('utf-8'), entity_id_to_name_count.index[:top_k])\n",
    "plt.barh(y_pos, entity_id_to_name_count.values[:top_k])\n",
    "plt.yticks(y_pos, y_tick_labels)\n",
    "plt.show()"
   ]
  },
  {
   "cell_type": "markdown",
   "metadata": {},
   "source": [
    "As expected, the most ambiguous entities are roads (`Calle` = \"road\", `Autopista` = \"highway\")."
   ]
  },
  {
   "cell_type": "markdown",
   "metadata": {},
   "source": [
    "## Entity name ambiguity (in data)\n",
    "Same thing but using our real data."
   ]
  },
  {
   "cell_type": "code",
   "execution_count": 50,
   "metadata": {},
   "outputs": [
    {
     "name": "stdout",
     "output_type": "stream",
     "text": [
      "  location_name          group_id  \\\n",
      "0        Aguada  1724474021195839   \n",
      "1     Aguadilla   117529462276443   \n",
      "2     Aguadilla  1390525734396603   \n",
      "3  Aguas Buenas  1723084327997466   \n",
      "4  Aguas Buenas   210130182858104   \n",
      "\n",
      "                                          group_name  \n",
      "0                      Huracan Maria Anasco y Aguada  \n",
      "1                            Huracan Maria Aguadilla  \n",
      "2  Huracan Maria - Aguadilla - Ceiba Baja y Guerrero  \n",
      "3                         Aguas Buenas Huracan Maria  \n",
      "4  Huracán María Comerío Bayamón Aguas Buenas, ar...  \n",
      "68\n"
     ]
    }
   ],
   "source": [
    "import os\n",
    "location_info = pd.read_csv('../../data/facebook-maria/location_group_data.tsv', sep='\\t', index_col=False)\n",
    "print(location_info.head())\n",
    "group_ids = location_info.loc[:, 'group_id']\n",
    "date_str = '2017-09-20_2017-10-20'\n",
    "data_dir = '../../data/facebook-maria/'\n",
    "file_base_str = os.path.join(data_dir,'%s_%s_facebook_posts.tsv')\n",
    "group_files = [file_base_str%(g, date_str) for g in group_ids]\n",
    "print(len(group_files))"
   ]
  },
  {
   "cell_type": "code",
   "execution_count": 51,
   "metadata": {},
   "outputs": [
    {
     "name": "stdout",
     "output_type": "stream",
     "text": [
      "62\n"
     ]
    }
   ],
   "source": [
    "import data_helpers\n",
    "reload(data_helpers)\n",
    "from data_helpers import get_all_group_files\n",
    "group_files = get_all_group_files()\n",
    "print(len(group_files))"
   ]
  },
  {
   "cell_type": "code",
   "execution_count": 58,
   "metadata": {},
   "outputs": [
    {
     "name": "stdout",
     "output_type": "stream",
     "text": [
      "31413\n",
      "0    Estoy preocupada por mi tia vicky vazquez que ...\n",
      "1    Para alguien que lo necesite... Dale Share..A ...\n",
      "2         One unsafe well in Dorado on Carr 694 km 4.5\n",
      "3    En apoyo al alcalde Carlos Lopez y al municipi...\n",
      "4    Pueblo de Puerto Rico no se monten en las gran...\n",
      "Name: status_message, dtype: object\n",
      "(31413,)\n"
     ]
    }
   ],
   "source": [
    "combined_txt = pd.concat([pd.read_csv(f, sep='\\t', index_col=False).loc[:, 'status_message'].dropna(inplace=False) for f in group_files])\n",
    "combined_txt.index = pd.np.arange(len(combined_txt))\n",
    "print(len(combined_txt))\n",
    "print(combined_txt.head())\n",
    "print(combined_txt.shape)"
   ]
  },
  {
   "cell_type": "code",
   "execution_count": 59,
   "metadata": {},
   "outputs": [
    {
     "data": {
      "text/plain": [
       "'Videos de Dorado dos semanas despues del Huracan Mar\\xc3\\xada'"
      ]
     },
     "execution_count": 59,
     "metadata": {},
     "output_type": "execute_result"
    }
   ],
   "source": [
    "combined_txt[10]"
   ]
  },
  {
   "cell_type": "code",
   "execution_count": 61,
   "metadata": {},
   "outputs": [],
   "source": [
    "min_df = 1\n",
    "ngram_range = (1,5)\n",
    "cv = CountVectorizer(min_df=min_df, lowercase=True, ngram_range=ngram_range)\n",
    "dtm = cv.fit_transform(combined_txt)"
   ]
  },
  {
   "cell_type": "code",
   "execution_count": 75,
   "metadata": {},
   "outputs": [],
   "source": [
    "ivoc = {v : k for k,v in cv.vocabulary_.iteritems()}"
   ]
  },
  {
   "cell_type": "code",
   "execution_count": 67,
   "metadata": {},
   "outputs": [
    {
     "name": "stdout",
     "output_type": "stream",
     "text": [
      "(31413, 2294394)\n"
     ]
    }
   ],
   "source": [
    "print(dtm.shape)\n",
    "out_file_name = '../../data/facebook-maria/combined_group_status_dtm.npz'\n",
    "pd.np.savez(out_file_name, dtm)\n",
    "# save vocab too!\n",
    "vocab_out_file_name = '../../data/facebook-maria/combined_group_status_dtm_vocab.csv'\n",
    "vocab_series = pd.Series(cv.vocabulary_)\n",
    "vocab_series.to_csv(vocab_out_file_name, encoding='utf-8')"
   ]
  },
  {
   "cell_type": "markdown",
   "metadata": {},
   "source": [
    "Now! Figure out the lexicon intersection."
   ]
  },
  {
   "cell_type": "code",
   "execution_count": 89,
   "metadata": {},
   "outputs": [
    {
     "name": "stdout",
     "output_type": "stream",
     "text": [
      "(31413, 1502)\n"
     ]
    }
   ],
   "source": [
    "MIN_CHAR_LEN = 3\n",
    "filter_lexicon_entry = lambda x: not x.isdigit() and len(x) >= MIN_CHAR_LEN\n",
    "lexicon = entity_info.index.tolist()\n",
    "lexicon_lower = map(lambda x: x.lower(), lexicon)\n",
    "lexicon_clean = filter(filter_lexicon_entry, lexicon_lower)\n",
    "lexicon_relevant = list(set(lexicon_clean) & set(cv.vocabulary_.keys()))\n",
    "lexicon_idx = sorted(vocab_series.loc[lexicon_relevant])\n",
    "dtm_entity = dtm[:, lexicon_idx]\n",
    "print(dtm_entity.shape)\n",
    "lexicon_full_dtm_idx_lookup = dict(zip(pd.np.arange(dtm_entity.shape[0]), lexicon_idx))"
   ]
  },
  {
   "cell_type": "code",
   "execution_count": 91,
   "metadata": {},
   "outputs": [
    {
     "name": "stdout",
     "output_type": "stream",
     "text": [
      "puerto rico     3076\n",
      "calle           2569\n",
      "pueblo          1768\n",
      "guayama         1560\n",
      "coamo           1088\n",
      "la familia      1003\n",
      "ponce            889\n",
      "vega alta        886\n",
      "barranquitas     799\n",
      "quebradillas     757\n",
      "correo           627\n",
      "camino           614\n",
      "san juan         600\n",
      "yabucoa          594\n",
      "vega baja        571\n",
      "patillas         559\n",
      "corozal          549\n",
      "cayey            532\n",
      "cidra            481\n",
      "arroyo           454\n",
      "parque           438\n",
      "florida          413\n",
      "walmart          403\n",
      "utuado           400\n",
      "escuela          391\n",
      "cancha           381\n",
      "lajas            363\n",
      "jardines         347\n",
      "quebrada         310\n",
      "angel            274\n",
      "                ... \n",
      "palmas           112\n",
      "toa baja         111\n",
      "capilla          111\n",
      "farmacia         110\n",
      "funeraria        110\n",
      "morovis          109\n",
      "ciales           109\n",
      "camuy            108\n",
      "house            107\n",
      "caribe           106\n",
      "aibonito         106\n",
      "delgado          106\n",
      "juanita          104\n",
      "edificio         104\n",
      "alicea           102\n",
      "res              102\n",
      "santa rita        98\n",
      "marta             97\n",
      "lares             96\n",
      "san jose          96\n",
      "oficina           95\n",
      "hostos            94\n",
      "supermercado      94\n",
      "santa isabel      93\n",
      "ponderosa         92\n",
      "el yunque         89\n",
      "jobos             88\n",
      "rincon            87\n",
      "cerro gordo       86\n",
      "la ceiba          85\n",
      "Length: 100, dtype: int64\n"
     ]
    }
   ],
   "source": [
    "# get sums\n",
    "dtm_entity_sums = pd.np.array(dtm_entity.sum(axis=0))[0]\n",
    "# convert to proper index\n",
    "new_idx = [lexicon_full_dtm_idx_lookup[i] for i in pd.np.arange(dtm_entity_sums.shape[0])]\n",
    "dtm_entity_sums = pd.Series(dtm_entity_sums, index=new_idx)\n",
    "dtm_entity_sums.index = [ivoc[i] for i in dtm_entity_sums.index]\n",
    "dtm_entity_sums.sort_values(inplace=True, ascending=False)\n",
    "print(dtm_entity_sums.head(100))"
   ]
  },
  {
   "cell_type": "markdown",
   "metadata": {},
   "source": [
    "Great. There's obviously a lot of noise here but how many of these mentions are ambiguous?"
   ]
  },
  {
   "cell_type": "code",
   "execution_count": 157,
   "metadata": {},
   "outputs": [
    {
     "name": "stdout",
     "output_type": "stream",
     "text": [
      "calle 10             398\n",
      "calle 11             282\n",
      "calle 12             274\n",
      "calle 13             250\n",
      "calle 14             210\n",
      "calle marginal       195\n",
      "calle 15             186\n",
      "calle 16             152\n",
      "calle 17             143\n",
      "calle principal      140\n",
      "calle 19             128\n",
      "calle 18             126\n",
      "calle 21             111\n",
      "calle amapola        105\n",
      "calle 22             103\n",
      "calle 23             101\n",
      "calle gardenia        86\n",
      "calle 24              77\n",
      "calle margarita       76\n",
      "calle ceiba           72\n",
      "calle 25              71\n",
      "calle azucena         69\n",
      "calle flamboyan       68\n",
      "burger king           68\n",
      "calle girasol         67\n",
      "calle esmeralda       67\n",
      "calle 26              66\n",
      "calle laurel          63\n",
      "camino vecinal        59\n",
      "calle 27              59\n",
      "                    ... \n",
      "puma                  31\n",
      "calle los robles      31\n",
      "calle geranio         30\n",
      "calle nueva           30\n",
      "calle rubi            30\n",
      "calle 3a              28\n",
      "calle san miguel      28\n",
      "calle perla           28\n",
      "calle venus           27\n",
      "shell                 27\n",
      "calle magnolia        26\n",
      "calle 42              26\n",
      "calle sauce           25\n",
      "calle caribe          25\n",
      "calle las palmas      24\n",
      "total                 24\n",
      "calle pino            23\n",
      "calle buena vista     23\n",
      "calle zorzal          23\n",
      "calle san antonio     23\n",
      "calle victoria        23\n",
      "kfc                   23\n",
      "calle del parque      22\n",
      "calle 8a              22\n",
      "calle 7a              22\n",
      "carretera 156         22\n",
      "calle 46              22\n",
      "calle guama           21\n",
      "calle caracol         21\n",
      "carretera 140         21\n",
      "Length: 100, dtype: int64\n",
      "sector la 50                1\n",
      "sector la charca            1\n",
      "plaza arenales              1\n",
      "barrio la torre             1\n",
      "la alhambra                 1\n",
      "la bodega                   1\n",
      "valle seco                  1\n",
      "el terminal                 1\n",
      "escuela betances            1\n",
      "miel                        1\n",
      "sector ortiz                1\n",
      "calle hera                  1\n",
      "academia santa teresita     1\n",
      "calle forestal              1\n",
      "topeka                      1\n",
      "calle fogos                 1\n",
      "calle florimar              1\n",
      "ace                         1\n",
      "wilderness                  1\n",
      "adriel toyota               1\n",
      "calle figueroa castro       1\n",
      "autoridad de los puertos    1\n",
      "aureola                     1\n",
      "bo pozo hondo               1\n",
      "calle c6                    1\n",
      "calle caviar                1\n",
      "calle 25 de enero           1\n",
      "calle francisco bruno       1\n",
      "unsure                      1\n",
      "the pink house              1\n",
      "                           ..\n",
      "calle d6                    1\n",
      "lechonera                   1\n",
      "calle los muchos            1\n",
      "sector las violetas         1\n",
      "jardines de montellano      1\n",
      "el faro                     1\n",
      "calle 66                    1\n",
      "sector acueducto            1\n",
      "sector arizona              1\n",
      "sector cachete              1\n",
      "dominos                     1\n",
      "departamento de justicia    1\n",
      "calle opal                  1\n",
      "las ramblas                 1\n",
      "marianne                    1\n",
      "calle gregorio              1\n",
      "academia san antonio        1\n",
      "las garzas                  1\n",
      "calle coronel irizarry      1\n",
      "parque interamericana       1\n",
      "calle coronel               1\n",
      "calle francisco arribi      1\n",
      "villa del caribe            1\n",
      "calle susano lasalle        1\n",
      "calle santiago torres       1\n",
      "calle marcelino             1\n",
      "the salvation army          1\n",
      "calle rio bairoa            1\n",
      "lomas del viento            1\n",
      "puerto rico                 1\n",
      "Length: 100, dtype: int64\n"
     ]
    }
   ],
   "source": [
    "# unique, then weighted\n",
    "entity_lower_name_to_id_count = entity_info.groupby(map(lambda x: x.lower(), entity_info.index)).apply(lambda x: x.loc[:, 'osm_id'].nunique())\n",
    "relevant_entity_names = dtm_entity_sums.index.tolist()\n",
    "relevant_name_counts = entity_lower_name_to_id_count.loc[relevant_entity_names].sort_values(inplace=False, ascending=False)\n",
    "print(relevant_name_counts.head(100))\n",
    "print(relevant_name_counts.tail(100))"
   ]
  },
  {
   "cell_type": "markdown",
   "metadata": {},
   "source": [
    "Ha! I knew it. Most of the ambiguous mentions in the data stem from street names."
   ]
  },
  {
   "cell_type": "code",
   "execution_count": 95,
   "metadata": {},
   "outputs": [
    {
     "data": {
      "image/png": "[encoded data removed]",
      "text/plain": [
       "<matplotlib.figure.Figure at 0x7ff7d754ef90>"
      ]
     },
     "metadata": {},
     "output_type": "display_data"
    }
   ],
   "source": [
    "bins = 100\n",
    "plt.hist(relevant_name_counts, bins=relevant_name_counts.nunique())\n",
    "plt.xlabel('Possible unique OSM IDs')\n",
    "plt.ylabel('Frequency')\n",
    "plt.show()"
   ]
  },
  {
   "cell_type": "markdown",
   "metadata": {},
   "source": [
    "Most of the anchor strings in the dataset only refer to one unique OSM entity."
   ]
  },
  {
   "cell_type": "code",
   "execution_count": 98,
   "metadata": {},
   "outputs": [
    {
     "name": "stdout",
     "output_type": "stream",
     "text": [
      "1      32838\n",
      "2       3217\n",
      "3       2680\n",
      "4        544\n",
      "5        399\n",
      "6        773\n",
      "7        572\n",
      "8       2050\n",
      "9        247\n",
      "10       137\n",
      "11        43\n",
      "12        38\n",
      "13        38\n",
      "14        12\n",
      "15        13\n",
      "16        17\n",
      "17       120\n",
      "18        32\n",
      "19         8\n",
      "20        16\n",
      "21        10\n",
      "22        31\n",
      "23        18\n",
      "24       134\n",
      "25         4\n",
      "26        13\n",
      "27        38\n",
      "28         6\n",
      "30         8\n",
      "31        81\n",
      "       ...  \n",
      "53         8\n",
      "57         1\n",
      "58        20\n",
      "59         2\n",
      "63         1\n",
      "66         1\n",
      "67         5\n",
      "68        24\n",
      "69         2\n",
      "71         1\n",
      "72         6\n",
      "76         3\n",
      "77         3\n",
      "86        11\n",
      "101        4\n",
      "103        4\n",
      "105        1\n",
      "111        1\n",
      "126       13\n",
      "128        8\n",
      "140       22\n",
      "143       10\n",
      "152        8\n",
      "186       17\n",
      "195       11\n",
      "210       31\n",
      "250        3\n",
      "274       12\n",
      "282       11\n",
      "398       30\n",
      "Length: 77, dtype: int64\n"
     ]
    }
   ],
   "source": [
    "relevant_name_counts_weighted = relevant_name_counts.groupby(relevant_name_counts.values).apply(lambda x: dtm_entity_sums.loc[x.index].sum())\n",
    "print(relevant_name_counts_weighted)"
   ]
  },
  {
   "cell_type": "code",
   "execution_count": 102,
   "metadata": {},
   "outputs": [
    {
     "data": {
      "image/png": "[encoded data removed]",
      "text/plain": [
       "<matplotlib.figure.Figure at 0x7ff8a6c9abd0>"
      ]
     },
     "metadata": {},
     "output_type": "display_data"
    }
   ],
   "source": [
    "plt.bar(relevant_name_counts_weighted.index, relevant_name_counts_weighted)\n",
    "plt.xlabel('Possible unique OSM IDs')\n",
    "plt.ylabel('Frequency (weighted)')\n",
    "plt.yscale('log')\n",
    "plt.show()"
   ]
  },
  {
   "cell_type": "markdown",
   "metadata": {},
   "source": [
    "What is the total count of ambiguous entity mentions?"
   ]
  },
  {
   "cell_type": "code",
   "execution_count": 103,
   "metadata": {},
   "outputs": [
    {
     "name": "stdout",
     "output_type": "stream",
     "text": [
      "11799/44637 mentions are potentially ambiguous\n"
     ]
    }
   ],
   "source": [
    "relevant_ambiguous_frequency = relevant_name_counts_weighted[relevant_name_counts_weighted.index > 1].sum()\n",
    "print('%d/%d mentions are potentially ambiguous'%(relevant_ambiguous_frequency, dtm_entity_sums.sum()))"
   ]
  },
  {
   "cell_type": "markdown",
   "metadata": {},
   "source": [
    "Actually not terrible! Unless the bulk of those mentions are easily disambiguated by the social group setting (e.g., only one `Calle 10` in Guayama)."
   ]
  },
  {
   "cell_type": "code",
   "execution_count": 106,
   "metadata": {},
   "outputs": [
    {
     "name": "stdout",
     "output_type": "stream",
     "text": [
      "calle 10           65\n",
      "calle 11           57\n",
      "calle 13           54\n",
      "calle 12           53\n",
      "calle amapola      47\n",
      "calle 15           47\n",
      "calle 14           47\n",
      "calle principal    42\n",
      "calle 16           42\n",
      "calle gardenia     40\n",
      "calle 18           39\n",
      "calle 17           39\n",
      "calle laurel       37\n",
      "calle ceiba        37\n",
      "calle girasol      37\n",
      "calle 19           36\n",
      "burger king        36\n",
      "calle azucena      36\n",
      "calle margarita    36\n",
      "calle marginal     35\n",
      "dtype: int64\n"
     ]
    }
   ],
   "source": [
    "entity_municipality_counts = entity_info.groupby(map(lambda x: x.lower(), entity_info.index)).apply(lambda x: x.loc[:, 'municipality'].nunique()).sort_values(inplace=False, ascending=False)\n",
    "relevant_municipality_counts = entity_municipality_counts.loc[relevant_entity_names].sort_values(inplace=False, ascending=False)\n",
    "print(relevant_municipality_counts.head(20))"
   ]
  },
  {
   "cell_type": "markdown",
   "metadata": {},
   "source": [
    "Some of these streets are common across municipalities. AWESOME."
   ]
  },
  {
   "cell_type": "markdown",
   "metadata": {},
   "source": [
    "### Within-municipality ambiguity\n",
    "How often does a toponym occur more than once within the same municipality? LET'S FIND OUT."
   ]
  },
  {
   "cell_type": "code",
   "execution_count": 118,
   "metadata": {},
   "outputs": [],
   "source": [
    "entity_info_lower = entity_info.copy()\n",
    "entity_lower_index = map(lambda x: x.lower(), entity_info.index)\n",
    "entity_info_lower.index = entity_lower_index"
   ]
  },
  {
   "cell_type": "code",
   "execution_count": 122,
   "metadata": {},
   "outputs": [
    {
     "name": "stdout",
     "output_type": "stream",
     "text": [
      "                                                 geometry_type feature_class  \\\n",
      "multipisos uprrp                                       Polygon      building   \n",
      "escuela de arquitecura y escuela de bellas artes       Polygon      building   \n",
      "eugenio maría de hostos                                Polygon      building   \n",
      "teatro upr                                             Polygon      building   \n",
      "complejo deportivo cosme beitía sálamo                 Polygon      building   \n",
      "\n",
      "                                                    osm_id        lat  \\\n",
      "multipisos uprrp                                  20885732 -66.044319   \n",
      "escuela de arquitecura y escuela de bellas artes  20887004 -66.046165   \n",
      "eugenio maría de hostos                           20887047 -66.047953   \n",
      "teatro upr                                        20887143 -66.048651   \n",
      "complejo deportivo cosme beitía sálamo            20887609 -66.046724   \n",
      "\n",
      "                                                        lon   shp_type  \\\n",
      "multipisos uprrp                                  18.402406  buildings   \n",
      "escuela de arquitecura y escuela de bellas artes  18.402295  buildings   \n",
      "eugenio maría de hostos                           18.402395  buildings   \n",
      "teatro upr                                        18.402701  buildings   \n",
      "complejo deportivo cosme beitía sálamo            18.407594  buildings   \n",
      "\n",
      "                                                 municipality  \n",
      "multipisos uprrp                                     San Juan  \n",
      "escuela de arquitecura y escuela de bellas artes     San Juan  \n",
      "eugenio maría de hostos                              San Juan  \n",
      "teatro upr                                           San Juan  \n",
      "complejo deportivo cosme beitía sálamo               San Juan  \n"
     ]
    }
   ],
   "source": [
    "print(entity_info_lower.head())"
   ]
  },
  {
   "cell_type": "code",
   "execution_count": 133,
   "metadata": {},
   "outputs": [
    {
     "name": "stdout",
     "output_type": "stream",
     "text": [
      "398\n",
      "0.861538461538\n"
     ]
    }
   ],
   "source": [
    "from __future__ import division\n",
    "def get_multi_occurrence_pct(municipality_counts):\n",
    "    if(len(municipality_counts) == 0):\n",
    "        print('error at counts\\n%s'%(municipality_counts))\n",
    "    multi_occurrence_pct = len(municipality_counts[municipality_counts > 1]) / len(municipality_counts)\n",
    "    return multi_occurrence_pct\n",
    "test_e_name = 'calle 10'\n",
    "test_df = entity_info_lower.loc[test_e_name]\n",
    "print(test_df.shape[0])\n",
    "test_df_multi_occurrence = get_multi_occurrence_pct(test_df.groupby('municipality').apply(lambda x: x.shape[0]))\n",
    "print(test_df_multi_occurrence)"
   ]
  },
  {
   "cell_type": "code",
   "execution_count": 137,
   "metadata": {},
   "outputs": [
    {
     "name": "stdout",
     "output_type": "stream",
     "text": [
      "                                           geometry_type   feature_class  \\\n",
      "faro de punta tuna                               Polygon        building   \n",
      "mooring posts                                    Polygon        building   \n",
      "mooring post                                     Polygon        building   \n",
      "ss                                               Polygon        building   \n",
      "vieques national wildlife refuge                 Polygon  nature_reserve   \n",
      "cayo ratón                                       Polygon  nature_reserve   \n",
      "cayos geniquí                                    Polygon  nature_reserve   \n",
      "cayo lobo                                        Polygon  nature_reserve   \n",
      "los gemelos                                      Polygon  nature_reserve   \n",
      "cayo tiburón                                     Polygon  nature_reserve   \n",
      "cayo botella                                     Polygon  nature_reserve   \n",
      "cayos geniquí                                    Polygon  nature_reserve   \n",
      "cayo yerba                                       Polygon  nature_reserve   \n",
      "cayo sombrerito                                  Polygon  nature_reserve   \n",
      "alcarraza                                        Polygon  nature_reserve   \n",
      "cayo lobito                                      Polygon  nature_reserve   \n",
      "piedra stevens                                   Polygon  nature_reserve   \n",
      "reserva natural arrecifes de la cordillera       Polygon  nature_reserve   \n",
      "cayo del agua                                    Polygon  nature_reserve   \n",
      "reserva natural arrecifes de la cordillera       Polygon  nature_reserve   \n",
      "reserva natural arrecifes de la cordillera       Polygon  nature_reserve   \n",
      "cayo diablo                                      Polygon  nature_reserve   \n",
      "reserva natural arrecifes de la cordillera       Polygon  nature_reserve   \n",
      "reserva natural arrecifes de la cordillera       Polygon  nature_reserve   \n",
      "reserva natural arrecifes de la cordillera       Polygon  nature_reserve   \n",
      "cayo ratones                                     Polygon  nature_reserve   \n",
      "reserva natural arrecifes de la cordillera       Polygon  nature_reserve   \n",
      "reserva natural arrecifes de la cordillera       Polygon  nature_reserve   \n",
      "reserva natural arrecifes de la cordillera       Polygon  nature_reserve   \n",
      "reserva natural arrecifes de la cordillera       Polygon  nature_reserve   \n",
      "...                                                  ...             ...   \n",
      "faro de punta tuna                               Polygon      lighthouse   \n",
      "faro de punta tuna                               Polygon          museum   \n",
      "parque nacional balneario de boquerón            Polygon            park   \n",
      "escuela josé gautier benitez                       Point          school   \n",
      "upr mayaguez - dept. ciencias marinas              Point          school   \n",
      "monumiento a o colon delgado                       Point            park   \n",
      "cayos de la cordillera nature reserve              Point            park   \n",
      "el morrillo                                        Point       viewpoint   \n",
      "muelle punta santiago                              Point       viewpoint   \n",
      "la cueva del indio                                 Point      attraction   \n",
      "la cueva del indio                                 Point  archaeological   \n",
      "el polvorín de san miguel arcangel                 Point           ruins   \n",
      "los siete arcos                                    Point      attraction   \n",
      "faro de isla cardona                               Point      lighthouse   \n",
      "faro de isla cardona                               Point      attraction   \n",
      "escuela franklin d. roosevelt                      Point          school   \n",
      "ballena                                            Point      attraction   \n",
      "pozo de jacinto                                    Point      attraction   \n",
      "guancha                                            Point       viewpoint   \n",
      "playita rosada                                     Point      attraction   \n",
      "puente de piedra                                   Point      attraction   \n",
      "avenida sol                                   LineString        tertiary   \n",
      "calle jaime bull                              LineString     residential   \n",
      "carretera 3                                   LineString        tertiary   \n",
      "avenida boca de cangrejos (pr-187)            LineString         primary   \n",
      "carretera 165                                 LineString       secondary   \n",
      "carretera 165                                 LineString       secondary   \n",
      "bulevar guanajibo                             LineString       secondary   \n",
      "bulevar guanajibo                             LineString       secondary   \n",
      "carretera 1                                   LineString       secondary   \n",
      "\n",
      "                                                osm_id        lat        lon  \\\n",
      "faro de punta tuna                           335831099 -65.885299  17.988379   \n",
      "mooring posts                                531512772 -66.762410  17.979668   \n",
      "mooring post                                 531512775 -66.762883  17.981969   \n",
      "ss                                           531516779 -66.742505  17.981357   \n",
      "vieques national wildlife refuge              28332762 -65.308028  18.122075   \n",
      "cayo ratón                                    44026832 -65.353229  18.314253   \n",
      "cayos geniquí                                 44026835 -65.230614  18.338070   \n",
      "cayo lobo                                     44026839 -65.377108  18.324191   \n",
      "los gemelos                                   44026842 -65.361442  18.358380   \n",
      "cayo tiburón                                  44026843 -65.237977  18.344883   \n",
      "cayo botella                                  44026845 -65.240772  18.325160   \n",
      "cayos geniquí                                 44026847 -65.232777  18.339651   \n",
      "cayo yerba                                    44026858 -65.353695  18.319032   \n",
      "cayo sombrerito                               44026867 -65.245269  18.337555   \n",
      "alcarraza                                     44026873 -65.369268  18.360952   \n",
      "cayo lobito                                   44026875 -65.391672  18.333469   \n",
      "piedra stevens                                44026877 -65.347476  18.358733   \n",
      "reserva natural arrecifes de la cordillera    44026892 -65.552871  18.371578   \n",
      "cayo del agua                                 44026908 -65.347880  18.311431   \n",
      "reserva natural arrecifes de la cordillera    44032343 -65.531553  18.364476   \n",
      "reserva natural arrecifes de la cordillera    44032344 -65.524586  18.361271   \n",
      "cayo diablo                                   44032345 -65.529331  18.362861   \n",
      "reserva natural arrecifes de la cordillera    44032347 -65.548749  18.367138   \n",
      "reserva natural arrecifes de la cordillera    44032349 -65.565807  18.376566   \n",
      "reserva natural arrecifes de la cordillera    44032352 -65.553578  18.372471   \n",
      "cayo ratones                                  44032353 -65.580050  18.382272   \n",
      "reserva natural arrecifes de la cordillera    44032354 -65.594738  18.391943   \n",
      "reserva natural arrecifes de la cordillera    44032355 -65.526265  18.362188   \n",
      "reserva natural arrecifes de la cordillera    44032356 -65.539588  18.367490   \n",
      "reserva natural arrecifes de la cordillera    44032358 -65.589855  18.390953   \n",
      "...                                                ...        ...        ...   \n",
      "faro de punta tuna                           335831099 -65.885299  17.988379   \n",
      "faro de punta tuna                           335831099 -65.885299  17.988379   \n",
      "parque nacional balneario de boquerón        425178108 -67.173691  18.013647   \n",
      "escuela josé gautier benitez                 357267179 -66.983515  17.964164   \n",
      "upr mayaguez - dept. ciencias marinas        357270329 -67.045733  17.970243   \n",
      "monumiento a o colon delgado                 357272291 -66.824899  18.491055   \n",
      "cayos de la cordillera nature reserve        357272787 -65.619563  18.339482   \n",
      "el morrillo                                 1579036595 -65.767238  18.144822   \n",
      "muelle punta santiago                       1579049879 -65.742670  18.163122   \n",
      "la cueva del indio                          2740829472 -66.641558  18.492756   \n",
      "la cueva del indio                          2740829472 -66.641558  18.492756   \n",
      "el polvorín de san miguel arcangel          2800286825 -66.712458  18.473119   \n",
      "los siete arcos                             4303309218 -66.640167  18.492848   \n",
      "faro de isla cardona                        4304898251 -66.635064  17.956841   \n",
      "faro de isla cardona                        4304898251 -66.635064  17.956841   \n",
      "escuela franklin d. roosevelt               4306468720 -65.444870  18.147490   \n",
      "ballena                                     4317737098 -66.865396  17.945242   \n",
      "pozo de jacinto                             4320220613 -67.073865  18.514974   \n",
      "guancha                                     4448379992 -66.618200  17.963528   \n",
      "playita rosada                              5103586894 -67.031503  17.971614   \n",
      "puente de piedra                            5104112581 -67.195640  17.933886   \n",
      "avenida sol                                   22187294 -66.454119  18.469980   \n",
      "calle jaime bull                              22254584 -66.409599  18.489349   \n",
      "carretera 3                                  202667388 -65.735287  18.179490   \n",
      "avenida boca de cangrejos (pr-187)           335102197 -66.000488  18.447740   \n",
      "carretera 165                                386431290 -66.199141  18.466719   \n",
      "carretera 165                                386431292 -66.198704  18.466504   \n",
      "bulevar guanajibo                            442658558 -67.170895  18.180079   \n",
      "bulevar guanajibo                            442658563 -67.170360  18.180772   \n",
      "carretera 1                                  492394784 -66.324974  17.976496   \n",
      "\n",
      "                                             shp_type municipality  \n",
      "faro de punta tuna                          buildings          NaN  \n",
      "mooring posts                               buildings          NaN  \n",
      "mooring post                                buildings          NaN  \n",
      "ss                                          buildings          NaN  \n",
      "vieques national wildlife refuge              landuse          NaN  \n",
      "cayo ratón                                    landuse          NaN  \n",
      "cayos geniquí                                 landuse          NaN  \n",
      "cayo lobo                                     landuse          NaN  \n",
      "los gemelos                                   landuse          NaN  \n",
      "cayo tiburón                                  landuse          NaN  \n",
      "cayo botella                                  landuse          NaN  \n",
      "cayos geniquí                                 landuse          NaN  \n",
      "cayo yerba                                    landuse          NaN  \n",
      "cayo sombrerito                               landuse          NaN  \n",
      "alcarraza                                     landuse          NaN  \n",
      "cayo lobito                                   landuse          NaN  \n",
      "piedra stevens                                landuse          NaN  \n",
      "reserva natural arrecifes de la cordillera    landuse          NaN  \n",
      "cayo del agua                                 landuse          NaN  \n",
      "reserva natural arrecifes de la cordillera    landuse          NaN  \n",
      "reserva natural arrecifes de la cordillera    landuse          NaN  \n",
      "cayo diablo                                   landuse          NaN  \n",
      "reserva natural arrecifes de la cordillera    landuse          NaN  \n",
      "reserva natural arrecifes de la cordillera    landuse          NaN  \n",
      "reserva natural arrecifes de la cordillera    landuse          NaN  \n",
      "cayo ratones                                  landuse          NaN  \n",
      "reserva natural arrecifes de la cordillera    landuse          NaN  \n",
      "reserva natural arrecifes de la cordillera    landuse          NaN  \n",
      "reserva natural arrecifes de la cordillera    landuse          NaN  \n",
      "reserva natural arrecifes de la cordillera    landuse          NaN  \n",
      "...                                               ...          ...  \n",
      "faro de punta tuna                               pois          NaN  \n",
      "faro de punta tuna                               pois          NaN  \n",
      "parque nacional balneario de boquerón            pois          NaN  \n",
      "escuela josé gautier benitez                     pois          NaN  \n",
      "upr mayaguez - dept. ciencias marinas            pois          NaN  \n",
      "monumiento a o colon delgado                     pois          NaN  \n",
      "cayos de la cordillera nature reserve            pois          NaN  \n",
      "el morrillo                                      pois          NaN  \n",
      "muelle punta santiago                            pois          NaN  \n",
      "la cueva del indio                               pois          NaN  \n",
      "la cueva del indio                               pois          NaN  \n",
      "el polvorín de san miguel arcangel               pois          NaN  \n",
      "los siete arcos                                  pois          NaN  \n",
      "faro de isla cardona                             pois          NaN  \n",
      "faro de isla cardona                             pois          NaN  \n",
      "escuela franklin d. roosevelt                    pois          NaN  \n",
      "ballena                                          pois          NaN  \n",
      "pozo de jacinto                                  pois          NaN  \n",
      "guancha                                          pois          NaN  \n",
      "playita rosada                                   pois          NaN  \n",
      "puente de piedra                                 pois          NaN  \n",
      "avenida sol                                     roads          NaN  \n",
      "calle jaime bull                                roads          NaN  \n",
      "carretera 3                                     roads          NaN  \n",
      "avenida boca de cangrejos (pr-187)              roads          NaN  \n",
      "carretera 165                                   roads          NaN  \n",
      "carretera 165                                   roads          NaN  \n",
      "bulevar guanajibo                               roads          NaN  \n",
      "bulevar guanajibo                               roads          NaN  \n",
      "carretera 1                                     roads          NaN  \n",
      "\n",
      "[468 rows x 7 columns]\n"
     ]
    }
   ],
   "source": [
    "print(entity_info_lower[entity_info_lower.loc[:, 'municipality'].isna()])"
   ]
  },
  {
   "cell_type": "code",
   "execution_count": 139,
   "metadata": {},
   "outputs": [],
   "source": [
    "entity_info_lower_non_na = entity_info_lower[~ entity_info_lower.loc[:, 'municipality'].isna()]\n",
    "entity_multi_occurrence_pct = entity_info_lower_non_na.groupby(entity_info_lower_non_na.index).apply(lambda x: get_multi_occurrence_pct(x.groupby('municipality').apply(lambda y: y.shape[0])))"
   ]
  },
  {
   "cell_type": "code",
   "execution_count": 142,
   "metadata": {},
   "outputs": [
    {
     "name": "stdout",
     "output_type": "stream",
     "text": [
      "calle enrique vázquez              1.0\n",
      "biblioteca josé m. lázaro          1.0\n",
      "blvd rio grande plantation         1.0\n",
      "bmx track                          1.0\n",
      "calle raul ruíz tollinchi          1.0\n",
      "calle realeza                      1.0\n",
      "sector la grüa                     1.0\n",
      "calle rebollo                      1.0\n",
      "biblioteca general                 1.0\n",
      "biblioteca juan de valdes          1.0\n",
      "calle reina sofía                  1.0\n",
      "calle via 7                        1.0\n",
      "sector las piedra                  1.0\n",
      "calle regina medina                1.0\n",
      "sector las lajas                   1.0\n",
      "biblioteca pura platti gonzáles    1.0\n",
      "sector las guaba                   1.0\n",
      "calle refugio                      1.0\n",
      "sector hector ruiz                 1.0\n",
      "sector herminio reyes              1.0\n",
      "dtype: float64\n"
     ]
    }
   ],
   "source": [
    "entity_multi_occurrence_pct.sort_values(inplace=True, ascending=False)\n",
    "print(entity_multi_occurrence_pct.head(20))"
   ]
  },
  {
   "cell_type": "code",
   "execution_count": 148,
   "metadata": {},
   "outputs": [
    {
     "name": "stdout",
     "output_type": "stream",
     "text": [
      "calle laureano           1.0\n",
      "la paz                   1.0\n",
      "parque forestal          1.0\n",
      "paseo de la princesa     1.0\n",
      "calle derkes             1.0\n",
      "calle gatty              1.0\n",
      "los gomez                1.0\n",
      "naguabo                  1.0\n",
      "sector asomante          1.0\n",
      "camino juan ramos        1.0\n",
      "estudiantes              1.0\n",
      "pirilo                   1.0\n",
      "the place                1.0\n",
      "the pink house           1.0\n",
      "iglesia bautista         1.0\n",
      "manejo de emergencias    1.0\n",
      "camino morcelo           1.0\n",
      "calle octavio rivera     1.0\n",
      "caoba                    1.0\n",
      "los balcones             1.0\n",
      "dtype: float64\n",
      "596/1502 entity strings have some amount of ambiguity within the same municipality\n"
     ]
    },
    {
     "name": "stderr",
     "output_type": "stream",
     "text": [
      "/hg190/istewart6/crisis_language/lib/python2.7/site-packages/ipykernel_launcher.py:1: FutureWarning: \n",
      "Passing list-likes to .loc or [] with any missing label will raise\n",
      "KeyError in the future, you can use .reindex() as an alternative.\n",
      "\n",
      "See the documentation here:\n",
      "http://pandas.pydata.org/pandas-docs/stable/indexing.html#deprecate-loc-reindex-listlike\n",
      "  \"\"\"Entry point for launching an IPython kernel.\n"
     ]
    }
   ],
   "source": [
    "relevant_entity_multi_occurrence_pct = entity_multi_occurrence_pct.loc[relevant_entity_names].sort_values(inplace=False, ascending=False)\n",
    "print(relevant_entity_multi_occurrence_pct.head(20))\n",
    "print('%d/%d entity strings have some amount of ambiguity within the same municipality'%\n",
    "     (len(relevant_entity_multi_occurrence_pct[relevant_entity_multi_occurrence_pct > 0.0]), \n",
    "      len(relevant_entity_names)))"
   ]
  },
  {
   "cell_type": "markdown",
   "metadata": {},
   "source": [
    "OK! More than a third of entity strings cannot be disambiguated by the municipality alone. Not a huge number but I'll take what I can get!"
   ]
  },
  {
   "cell_type": "code",
   "execution_count": 155,
   "metadata": {},
   "outputs": [
    {
     "data": {
      "image/png": "[encoded data removed]",
      "text/plain": [
       "<matplotlib.figure.Figure at 0x7ff7f46b1410>"
      ]
     },
     "metadata": {},
     "output_type": "display_data"
    }
   ],
   "source": [
    "relevant_entity_multi_occurrence_pct = relevant_entity_multi_occurrence_pct.fillna(0, inplace=False).sort_values(inplace=False, ascending=True)\n",
    "bins = 20\n",
    "values, base = pd.np.histogram(relevant_entity_multi_occurrence_pct, bins=bins)\n",
    "cumulative = pd.np.cumsum(values) / len(relevant_entity_multi_occurrence_pct)\n",
    "plt.plot(base[:-1], cumulative, color='b')\n",
    "plt.xlabel('Percent of municipalities with ambiguity\\n(per entity string)')\n",
    "plt.ylabel(\"Cumulative probability\")\n",
    "plt.show()"
   ]
  },
  {
   "cell_type": "markdown",
   "metadata": {},
   "source": [
    "Look at that! Steady increase in proportion of entities with ambiguity, with a big spike around 90%."
   ]
  },
  {
   "cell_type": "code",
   "execution_count": null,
   "metadata": {},
   "outputs": [],
   "source": []
  }
 ],
 "metadata": {
  "kernelspec": {
   "display_name": "Python 2",
   "language": "python",
   "name": "python2"
  },
  "language_info": {
   "codemirror_mode": {
    "name": "ipython",
    "version": 2
   },
   "file_extension": ".py",
   "mimetype": "text/x-python",
   "name": "python",
   "nbconvert_exporter": "python",
   "pygments_lexer": "ipython2",
   "version": "2.7.10"
  }
 },
 "nbformat": 4,
 "nbformat_minor": 2
}
