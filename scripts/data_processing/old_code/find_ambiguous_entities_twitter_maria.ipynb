{
 "cells": [
  {
   "cell_type": "markdown",
   "metadata": {},
   "source": [
    "# Find ambiguous entities in Twitter Maria data\n",
    "In which we look for ambiguous entities in the ~combined~ data for Hurricane Maria."
   ]
  },
  {
   "cell_type": "code",
   "execution_count": 19,
   "metadata": {
    "collapsed": true
   },
   "outputs": [],
   "source": [
    "import pandas as pd\n",
    "import matplotlib\n",
    "%matplotlib inline\n",
    "import matplotlib.pyplot as plt\n",
    "from nltk.tokenize.casual import TweetTokenizer\n",
    "from sklearn.feature_extraction.text import CountVectorizer\n",
    "import codecs\n",
    "from langid import classify"
   ]
  },
  {
   "cell_type": "markdown",
   "metadata": {},
   "source": [
    "## Load data"
   ]
  },
  {
   "cell_type": "code",
   "execution_count": 23,
   "metadata": {
    "collapsed": false
   },
   "outputs": [],
   "source": [
    "combined_maria = pd.read_csv('../../data/mined_tweets/maria_combined.tsv', sep='\\t', index_col=None)\n",
    "tokenizer = TweetTokenizer()\n",
    "combined_maria_txt = combined_maria.loc[:, 'text'].dropna(inplace=False).apply(lambda x: ' '.join(tokenizer.tokenize(x.strip())))\n",
    "# get languages\n",
    "combined_maria_lang = combined_maria_txt.apply(lambda x: classify(x)[0])\n",
    "# get spanish only\n",
    "combined_maria_spanish_txt = combined_maria_txt[combined_maria_lang == 'es']"
   ]
  },
  {
   "cell_type": "code",
   "execution_count": 24,
   "metadata": {
    "collapsed": false
   },
   "outputs": [
    {
     "data": {
      "image/png": "[encoded data removed]",
      "text/plain": [
       "<matplotlib.figure.Figure at 0x7f8fc82b80d0>"
      ]
     },
     "metadata": {},
     "output_type": "display_data"
    }
   ],
   "source": [
    "tweet_token_lengths = combined_maria_txt.apply(lambda x: len(tokenizer.tokenize(x)))\n",
    "plt.hist(tweet_token_lengths, bins=tweet_token_lengths.nunique())\n",
    "plt.ylabel('Tweet length (tokens)')\n",
    "plt.show()"
   ]
  },
  {
   "cell_type": "markdown",
   "metadata": {},
   "source": [
    "TODO: If memory is an issue, write only the short stuff to file?"
   ]
  },
  {
   "cell_type": "code",
   "execution_count": 25,
   "metadata": {
    "collapsed": true
   },
   "outputs": [],
   "source": [
    "with codecs.open('../../data/mined_tweets/maria_combined_tweets_es.txt', 'w', encoding='utf-8') as out_file:\n",
    "    for l in combined_maria_spanish_txt:\n",
    "        out_file.write('%s\\n'%(l))"
   ]
  },
  {
   "cell_type": "markdown",
   "metadata": {},
   "source": [
    "Run tagger on raw text:\n",
    "\n",
    "    bash tag_spanish_txt.sh"
   ]
  },
  {
   "cell_type": "code",
   "execution_count": null,
   "metadata": {
    "collapsed": true
   },
   "outputs": [],
   "source": [
    "combined_maria_tag_tagged = [l.strip() for l in open('../../data/mined_tweets/maria_combined_tweets_ner.txt')]"
   ]
  },
  {
   "cell_type": "code",
   "execution_count": 14,
   "metadata": {
    "collapsed": false
   },
   "outputs": [
    {
     "name": "stdout",
     "output_type": "stream",
     "text": [
      "[u'Every time he speaks it shows how stupid he is & how little he cares . #45 needs to chat with PR about expense of #Maria . I mean really ?', u'#HurricaneIrma & #HurricaneMaria : Emergency comms equipment has already been pushed down range and more on the way . https :/ / m.facebook.com/story.php?stor y_fbid = 10155798796 154711 & id = 4819654471 0 \\u2026', u'Our country will rebuild as soon as the government stops being cute for the press & actually helps my people . #HurricaneMaria', u'An urgent interview with @marisollebron - - discussing the multiple layers of violence of #HurricaneMaria including coerced migration . https :/ / twitter.com/jacobinmag/sta tus / 9138586147 3291468 9 \\u2026', u\"Kanye : Bush doesn't care about black people Me : Rosello doesn't care about poor people #HurricaneMaria #PrayForPuertoRico\", u'would be of for rebuild over and over , #MoveTheLineBack #HurricaneIrma #Redevastation #HurricaneMaria #GlobalWarming #FireRyan', u'Same in the #USVI but no one is reporting #HurricaneIrma AND #HurricaneMaria #forgottenUScitizens', u'10 days after #HurricaneMaria Mesage toTo Trump from Mayor of #PuertoRico ; pic.twitter.com/tsXB7R14W1', u'To all the bitchers and moaners who are ignorant of the actual help going into #PuertoRico . https://www . dvidshub.net/feature/Hurric aneMaria \\u2026', u'Meanwhile #HurricaneMaria #PuertoRico still needs help real #victims']\n"
     ]
    }
   ],
   "source": [
    "print(combined_maria_txt.values.tolist()[:10])"
   ]
  },
  {
   "cell_type": "code",
   "execution_count": 27,
   "metadata": {
    "collapsed": false
   },
   "outputs": [],
   "source": [
    "ngram_range = (1,5)\n",
    "maria_docs = combined_maria_spanish_txt.values.tolist()\n",
    "cv = CountVectorizer(min_df=1, tokenizer=tokenizer.tokenize, ngram_range=ngram_range)\n",
    "dtm = cv.fit_transform(maria_docs)"
   ]
  },
  {
   "cell_type": "markdown",
   "metadata": {},
   "source": [
    "## Compare with Wiki lexicon"
   ]
  },
  {
   "cell_type": "code",
   "execution_count": 28,
   "metadata": {
    "collapsed": true
   },
   "outputs": [],
   "source": [
    "from bz2 import BZ2File\n",
    "lexicon_file = '/hg190/corpora/crosswikis-data.tar.bz2/string_mention_counts.bz2'\n",
    "lexicon_dict_file = '/hg190/corpora/crosswikis-data.tar.bz2/dictionary.bz2'"
   ]
  },
  {
   "cell_type": "code",
   "execution_count": 29,
   "metadata": {
    "collapsed": false
   },
   "outputs": [
    {
     "name": "stdout",
     "output_type": "stream",
     "text": [
      "processed 1000000 anchor pairs\n",
      "processed 2000000 anchor pairs\n",
      "processed 3000000 anchor pairs\n",
      "processed 4000000 anchor pairs\n",
      "processed 5000000 anchor pairs\n",
      "processed 6000000 anchor pairs\n",
      "processed 7000000 anchor pairs\n",
      "processed 8000000 anchor pairs\n",
      "processed 9000000 anchor pairs\n",
      "processed 10000000 anchor pairs\n",
      "processed 11000000 anchor pairs\n",
      "processed 12000000 anchor pairs\n",
      "processed 13000000 anchor pairs\n",
      "processed 14000000 anchor pairs\n",
      "processed 15000000 anchor pairs\n",
      "processed 16000000 anchor pairs\n",
      "processed 17000000 anchor pairs\n",
      "processed 18000000 anchor pairs\n",
      "processed 19000000 anchor pairs\n",
      "processed 20000000 anchor pairs\n",
      "processed 21000000 anchor pairs\n",
      "processed 22000000 anchor pairs\n",
      "processed 23000000 anchor pairs\n",
      "processed 24000000 anchor pairs\n",
      "processed 25000000 anchor pairs\n",
      "processed 26000000 anchor pairs\n",
      "processed 27000000 anchor pairs\n",
      "processed 28000000 anchor pairs\n",
      "processed 29000000 anchor pairs\n",
      "processed 30000000 anchor pairs\n",
      "processed 31000000 anchor pairs\n",
      "processed 32000000 anchor pairs\n",
      "processed 33000000 anchor pairs\n",
      "processed 34000000 anchor pairs\n",
      "processed 35000000 anchor pairs\n",
      "processed 36000000 anchor pairs\n",
      "processed 37000000 anchor pairs\n",
      "processed 38000000 anchor pairs\n",
      "processed 39000000 anchor pairs\n",
      "processed 40000000 anchor pairs\n",
      "processed 41000000 anchor pairs\n",
      "processed 42000000 anchor pairs\n",
      "processed 43000000 anchor pairs\n",
      "processed 44000000 anchor pairs\n",
      "processed 45000000 anchor pairs\n",
      "processed 46000000 anchor pairs\n",
      "processed 47000000 anchor pairs\n",
      "processed 48000000 anchor pairs\n",
      "processed 49000000 anchor pairs\n",
      "processed 50000000 anchor pairs\n",
      "processed 51000000 anchor pairs\n",
      "processed 52000000 anchor pairs\n",
      "processed 53000000 anchor pairs\n",
      "processed 54000000 anchor pairs\n",
      "processed 55000000 anchor pairs\n",
      "processed 56000000 anchor pairs\n",
      "processed 57000000 anchor pairs\n",
      "processed 58000000 anchor pairs\n",
      "processed 59000000 anchor pairs\n",
      "processed 60000000 anchor pairs\n",
      "processed 61000000 anchor pairs\n",
      "processed 62000000 anchor pairs\n",
      "processed 63000000 anchor pairs\n",
      "processed 64000000 anchor pairs\n",
      "processed 65000000 anchor pairs\n",
      "processed 66000000 anchor pairs\n",
      "processed 67000000 anchor pairs\n",
      "processed 68000000 anchor pairs\n",
      "processed 69000000 anchor pairs\n",
      "processed 70000000 anchor pairs\n",
      "processed 71000000 anchor pairs\n",
      "processed 72000000 anchor pairs\n",
      "processed 73000000 anchor pairs\n",
      "processed 74000000 anchor pairs\n",
      "processed 75000000 anchor pairs\n",
      "processed 76000000 anchor pairs\n",
      "processed 77000000 anchor pairs\n",
      "processed 78000000 anchor pairs\n",
      "processed 79000000 anchor pairs\n",
      "processed 80000000 anchor pairs\n",
      "processed 81000000 anchor pairs\n",
      "processed 82000000 anchor pairs\n",
      "processed 83000000 anchor pairs\n",
      "processed 84000000 anchor pairs\n",
      "processed 85000000 anchor pairs\n",
      "processed 86000000 anchor pairs\n",
      "processed 87000000 anchor pairs\n",
      "processed 88000000 anchor pairs\n",
      "processed 89000000 anchor pairs\n",
      "processed 90000000 anchor pairs\n",
      "processed 91000000 anchor pairs\n",
      "processed 92000000 anchor pairs\n",
      "processed 93000000 anchor pairs\n",
      "processed 94000000 anchor pairs\n",
      "processed 95000000 anchor pairs\n",
      "processed 96000000 anchor pairs\n",
      "processed 97000000 anchor pairs\n",
      "processed 98000000 anchor pairs\n",
      "processed 99000000 anchor pairs\n",
      "processed 100000000 anchor pairs\n",
      "processed 101000000 anchor pairs\n",
      "processed 102000000 anchor pairs\n",
      "processed 103000000 anchor pairs\n",
      "processed 104000000 anchor pairs\n",
      "processed 105000000 anchor pairs\n",
      "processed 106000000 anchor pairs\n",
      "processed 107000000 anchor pairs\n",
      "processed 108000000 anchor pairs\n",
      "processed 109000000 anchor pairs\n",
      "processed 110000000 anchor pairs\n",
      "processed 111000000 anchor pairs\n",
      "processed 112000000 anchor pairs\n",
      "processed 113000000 anchor pairs\n",
      "processed 114000000 anchor pairs\n",
      "processed 115000000 anchor pairs\n",
      "processed 116000000 anchor pairs\n",
      "processed 117000000 anchor pairs\n",
      "processed 118000000 anchor pairs\n",
      "processed 119000000 anchor pairs\n",
      "processed 120000000 anchor pairs\n",
      "processed 121000000 anchor pairs\n",
      "processed 122000000 anchor pairs\n",
      "processed 123000000 anchor pairs\n",
      "processed 124000000 anchor pairs\n",
      "processed 125000000 anchor pairs\n",
      "processed 126000000 anchor pairs\n",
      "processed 127000000 anchor pairs\n",
      "processed 128000000 anchor pairs\n",
      "processed 129000000 anchor pairs\n",
      "processed 130000000 anchor pairs\n",
      "processed 131000000 anchor pairs\n",
      "processed 132000000 anchor pairs\n",
      "processed 133000000 anchor pairs\n",
      "processed 134000000 anchor pairs\n",
      "processed 135000000 anchor pairs\n",
      "processed 136000000 anchor pairs\n",
      "processed 137000000 anchor pairs\n",
      "processed 138000000 anchor pairs\n",
      "processed 139000000 anchor pairs\n",
      "processed 140000000 anchor pairs\n",
      "processed 141000000 anchor pairs\n",
      "processed 142000000 anchor pairs\n",
      "processed 143000000 anchor pairs\n",
      "processed 144000000 anchor pairs\n",
      "processed 145000000 anchor pairs\n",
      "processed 146000000 anchor pairs\n",
      "processed 147000000 anchor pairs\n",
      "processed 148000000 anchor pairs\n",
      "processed 149000000 anchor pairs\n",
      "processed 150000000 anchor pairs\n",
      "processed 151000000 anchor pairs\n",
      "processed 152000000 anchor pairs\n",
      "processed 153000000 anchor pairs\n",
      "processed 154000000 anchor pairs\n",
      "processed 155000000 anchor pairs\n",
      "processed 156000000 anchor pairs\n",
      "processed 157000000 anchor pairs\n",
      "processed 158000000 anchor pairs\n",
      "processed 159000000 anchor pairs\n",
      "processed 160000000 anchor pairs\n",
      "processed 161000000 anchor pairs\n",
      "processed 162000000 anchor pairs\n",
      "processed 163000000 anchor pairs\n",
      "processed 164000000 anchor pairs\n",
      "processed 165000000 anchor pairs\n",
      "processed 166000000 anchor pairs\n",
      "processed 167000000 anchor pairs\n",
      "processed 168000000 anchor pairs\n",
      "processed 169000000 anchor pairs\n",
      "processed 170000000 anchor pairs\n",
      "processed 171000000 anchor pairs\n",
      "processed 172000000 anchor pairs\n",
      "processed 173000000 anchor pairs\n",
      "processed 174000000 anchor pairs\n",
      "processed 175000000 anchor pairs\n",
      "processed 176000000 anchor pairs\n",
      "processed 177000000 anchor pairs\n",
      "processed 178000000 anchor pairs\n",
      "processed 179000000 anchor pairs\n",
      "processed 180000000 anchor pairs\n",
      "processed 181000000 anchor pairs\n",
      "processed 182000000 anchor pairs\n",
      "processed 183000000 anchor pairs\n",
      "processed 184000000 anchor pairs\n",
      "processed 185000000 anchor pairs\n",
      "processed 186000000 anchor pairs\n",
      "processed 187000000 anchor pairs\n",
      "processed 188000000 anchor pairs\n",
      "processed 189000000 anchor pairs\n",
      "processed 190000000 anchor pairs\n",
      "processed 191000000 anchor pairs\n",
      "processed 192000000 anchor pairs\n",
      "processed 193000000 anchor pairs\n",
      "processed 194000000 anchor pairs\n",
      "processed 195000000 anchor pairs\n",
      "processed 196000000 anchor pairs\n",
      "processed 197000000 anchor pairs\n",
      "processed 198000000 anchor pairs\n",
      "processed 199000000 anchor pairs\n",
      "processed 200000000 anchor pairs\n",
      "processed 201000000 anchor pairs\n",
      "processed 202000000 anchor pairs\n",
      "processed 203000000 anchor pairs\n",
      "processed 204000000 anchor pairs\n",
      "processed 205000000 anchor pairs\n",
      "processed 206000000 anchor pairs\n",
      "processed 207000000 anchor pairs\n",
      "processed 208000000 anchor pairs\n",
      "processed 209000000 anchor pairs\n",
      "processed 210000000 anchor pairs\n",
      "processed 211000000 anchor pairs\n",
      "processed 212000000 anchor pairs\n",
      "processed 213000000 anchor pairs\n",
      "processed 214000000 anchor pairs\n",
      "processed 215000000 anchor pairs\n",
      "processed 216000000 anchor pairs\n",
      "processed 217000000 anchor pairs\n",
      "processed 218000000 anchor pairs\n",
      "processed 219000000 anchor pairs\n",
      "processed 220000000 anchor pairs\n",
      "processed 221000000 anchor pairs\n",
      "processed 222000000 anchor pairs\n",
      "processed 223000000 anchor pairs\n",
      "processed 224000000 anchor pairs\n",
      "processed 225000000 anchor pairs\n",
      "processed 226000000 anchor pairs\n",
      "processed 227000000 anchor pairs\n",
      "processed 228000000 anchor pairs\n",
      "processed 229000000 anchor pairs\n",
      "processed 230000000 anchor pairs\n",
      "processed 231000000 anchor pairs\n",
      "processed 232000000 anchor pairs\n",
      "processed 233000000 anchor pairs\n",
      "processed 234000000 anchor pairs\n",
      "processed 235000000 anchor pairs\n",
      "processed 236000000 anchor pairs\n",
      "processed 237000000 anchor pairs\n",
      "processed 238000000 anchor pairs\n",
      "processed 239000000 anchor pairs\n",
      "processed 240000000 anchor pairs\n",
      "processed 241000000 anchor pairs\n",
      "processed 242000000 anchor pairs\n",
      "processed 243000000 anchor pairs\n",
      "processed 244000000 anchor pairs\n",
      "processed 245000000 anchor pairs\n",
      "processed 246000000 anchor pairs\n",
      "processed 247000000 anchor pairs\n",
      "processed 248000000 anchor pairs\n",
      "processed 249000000 anchor pairs\n",
      "processed 250000000 anchor pairs\n",
      "processed 251000000 anchor pairs\n",
      "processed 252000000 anchor pairs\n",
      "processed 253000000 anchor pairs\n",
      "processed 254000000 anchor pairs\n",
      "processed 255000000 anchor pairs\n",
      "processed 256000000 anchor pairs\n",
      "processed 257000000 anchor pairs\n",
      "processed 258000000 anchor pairs\n",
      "processed 259000000 anchor pairs\n",
      "processed 260000000 anchor pairs\n",
      "processed 261000000 anchor pairs\n",
      "processed 262000000 anchor pairs\n",
      "processed 263000000 anchor pairs\n",
      "processed 264000000 anchor pairs\n",
      "processed 265000000 anchor pairs\n",
      "processed 266000000 anchor pairs\n",
      "processed 267000000 anchor pairs\n",
      "processed 268000000 anchor pairs\n",
      "processed 269000000 anchor pairs\n",
      "processed 270000000 anchor pairs\n",
      "processed 271000000 anchor pairs\n",
      "processed 272000000 anchor pairs\n",
      "processed 273000000 anchor pairs\n",
      "processed 274000000 anchor pairs\n",
      "processed 275000000 anchor pairs\n",
      "processed 276000000 anchor pairs\n",
      "processed 277000000 anchor pairs\n",
      "processed 278000000 anchor pairs\n",
      "processed 279000000 anchor pairs\n",
      "processed 280000000 anchor pairs\n",
      "processed 281000000 anchor pairs\n",
      "processed 282000000 anchor pairs\n",
      "processed 283000000 anchor pairs\n",
      "processed 284000000 anchor pairs\n",
      "processed 285000000 anchor pairs\n",
      "processed 286000000 anchor pairs\n",
      "processed 287000000 anchor pairs\n",
      "processed 288000000 anchor pairs\n",
      "processed 289000000 anchor pairs\n",
      "processed 290000000 anchor pairs\n",
      "processed 291000000 anchor pairs\n",
      "processed 292000000 anchor pairs\n",
      "processed 293000000 anchor pairs\n",
      "processed 294000000 anchor pairs\n",
      "processed 295000000 anchor pairs\n",
      "processed 296000000 anchor pairs\n",
      "processed 297000000 anchor pairs\n",
      "297072767 anchor pairs collected\n"
     ]
    }
   ],
   "source": [
    "def get_lexicon_wiki_pair(l_split):\n",
    "    pair = (l_split[0], l_split[1].split(' ')[1])\n",
    "    return pair\n",
    "lexicon_pairs = []\n",
    "for i, l in enumerate(BZ2File(lexicon_dict_file, 'r')):\n",
    "    l_split = l.split('\\t')\n",
    "    if(len(l_split) > 1 and l_split[0] != ''):\n",
    "        lexicon_pair = get_lexicon_wiki_pair(l_split)\n",
    "        lexicon_pairs.append(lexicon_pair)\n",
    "        if(i % 1000000 == 0):\n",
    "            print('processed %d anchor pairs'%(i))\n",
    "# lexicon_pairs = [get_lexicon_wiki_pair(l) for l in BZ2File(lexicon_dict_file, 'r') if len(l.split('\\t')) > 1 and l.split('\\t')[0] != '']\n",
    "print('%d anchor pairs collected'%(len(lexicon_pairs)))"
   ]
  },
  {
   "cell_type": "code",
   "execution_count": null,
   "metadata": {
    "collapsed": true
   },
   "outputs": [],
   "source": []
  }
 ],
 "metadata": {
  "kernelspec": {
   "display_name": "Python 2",
   "language": "python",
   "name": "python2"
  },
  "language_info": {
   "codemirror_mode": {
    "name": "ipython",
    "version": 2
   },
   "file_extension": ".py",
   "mimetype": "text/x-python",
   "name": "python",
   "nbconvert_exporter": "python",
   "pygments_lexer": "ipython2",
   "version": "2.7.10"
  }
 },
 "nbformat": 4,
 "nbformat_minor": 0
}
