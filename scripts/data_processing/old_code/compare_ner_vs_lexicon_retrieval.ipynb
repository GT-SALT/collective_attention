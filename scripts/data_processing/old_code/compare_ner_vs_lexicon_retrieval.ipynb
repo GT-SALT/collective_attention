{
 "cells": [
  {
   "cell_type": "markdown",
   "metadata": {},
   "source": [
    "# Compare NER vs lexicon retrieval\n",
    "In which we determine whether NER or lexicon matching is a better method for toponym resolution."
   ]
  },
  {
   "cell_type": "code",
   "execution_count": 5,
   "metadata": {},
   "outputs": [],
   "source": [
    "import pandas as pd\n",
    "from nltk.tokenize.casual import TweetTokenizer\n",
    "from data_helpers import clean_raw_txt"
   ]
  },
  {
   "cell_type": "markdown",
   "metadata": {},
   "source": [
    "## Load data"
   ]
  },
  {
   "cell_type": "code",
   "execution_count": 66,
   "metadata": {},
   "outputs": [
    {
     "name": "stdout",
     "output_type": "stream",
     "text": [
      "          group_id   status_author_id  \\\n",
      "0  351272391991842  10159623474155515   \n",
      "1  351272391991842  10155877836122783   \n",
      "2  351272391991842  10215020607489848   \n",
      "3  351272391991842   1716175958400853   \n",
      "4  351272391991842    141039043205101   \n",
      "\n",
      "                                      status_message status_lang  \\\n",
      "0  Estoy preocupada por mi tia vicky vazquez que ...          es   \n",
      "1  Para alguien que lo necesite... Dale Share..A ...          es   \n",
      "2       One unsafe well in Dorado on Carr 694 km 4.5          en   \n",
      "3  En apoyo al alcalde Carlos Lopez y al municipi...          es   \n",
      "4  Pueblo de Puerto Rico no se monten en las gran...          es   \n",
      "\n",
      "                         status_id  \n",
      "0  351272391991842_362333787552369  \n",
      "1  351272391991842_361695457616202  \n",
      "2  351272391991842_361487960970285  \n",
      "3  351272391991842_361453717640376  \n",
      "4  351272391991842_358929311226150  \n"
     ]
    }
   ],
   "source": [
    "fb_group_data = pd.read_csv('../../data/facebook-maria/combined_group_data.tsv', sep='\\t', index_col=False)\n",
    "print(fb_group_data.head())"
   ]
  },
  {
   "cell_type": "code",
   "execution_count": 67,
   "metadata": {},
   "outputs": [
    {
     "name": "stdout",
     "output_type": "stream",
     "text": [
      "23662 es statuses\n"
     ]
    }
   ],
   "source": [
    "# limit to Spanish data\n",
    "lang = 'es'\n",
    "fb_group_data_es = fb_group_data[fb_group_data.loc[:, 'status_lang'] == lang]\n",
    "print('%d %s statuses'%(fb_group_data_es.shape[0], lang))"
   ]
  },
  {
   "cell_type": "code",
   "execution_count": 8,
   "metadata": {},
   "outputs": [
    {
     "name": "stdout",
     "output_type": "stream",
     "text": [
      "Estoy preocupada por mi tia vicky vazquez que desde el dia antes del huracan no se de ella pues ella es una mujer enferma tiene que usar oxijeno y ella me dijo el dia antes del huracan  que su oxijeno se avia acabado y que no se sentia bien pero que se estava dando terapias con la maquina del asma ella vive en higuillar en Dorado creo qye se llama arenar en la calle que vive al frente de su casa antes hera una vaqueria yo espero que ella este bien por favor si alguien del grupo es de esa aria y la conose digale que su sobrina la esta buscando gracias por favor de compartir\n",
      "Para alguien que lo necesite... Dale Share..A todos nuestros amigos, pacientes y al publico en general;Hipnoterapia Clínica Ericksoniana Sistémica se une al esfuerzo de recuperación que todos vivimos en Puerto Rico y reanuda sus servicios de Hipnosis desde 10 de octubre del 2017.Durante los meses de Octubre/2017 y Noviembre/2017 estaremos ofreciendo servicios de recuperación por la crisis del Huracán María, con una oferta especial en nuestros servicios de Hipnoterapia Individual a $25/hora ($40/h Hipnoterapia para parejas o familias), tratando de poner nuestro granito de arena en esta gigantesca envergadura que a todos nos ocupa. Como parte de estos servicios durante los meses antes mencionados, NO se están incluyendo los costos por cita inicial, honrando así la oferta en los servicios de recuperación de la crisis antes mencionada. Dicha oferta aplica a participantes activos, pasados y de nuevo ingreso a los servicios de Hipnoterapia.Estaremos aceptando personas sin cita previa en las facilidades de Caguas (\"homeoffice\") a razón de la problemática que existe en las comunicaciones del país donde se le atenderá lo antes posible, Los horarios son de Lunes a Sábado, de 11am a 630pm, durante los meses mencionados anteriormente. Para quienes tienen comunicación disponible, se pueden comunicar al 787-674-8802 o 787-470-3744, vía texto o llamada, se le responderá según la comunicación sea posible.Esperamos que todos estén bien, gracias por su patrocinio.-dirección: Urbanización Turabo Gardens, 5ta sección, calle 42 L5, Caguas. (frente a la farmacia Santa Ana y supermercado Famcoop).\n",
      "En apoyo al alcalde Carlos Lopez y al municipio de Dorado Dorado tiene voz\n",
      "Pueblo de Puerto Rico no se monten en las grandes naves de la cruz roja de America que llegará en estos días a la isla de Puerto Rico. No se metan en ningun shelter que les haga el fema de los Estados Unidos de America que estos levantenen en  la isla de Puerto Rico porque los matarán asi como estan matando aqui en los Estados Unidos en suelo americano .\n",
      "PUEBLO DE PUERTO RICO no esperan ninguna ayuda federal de los Estados Unidos que llegará a la isla de Puerto Rico por el desastre causado por los huracánes , esa ayuda no va a llegar .NADIE recibira ayuda federal para reconstruir sus casitas.PRONTO MUY PRONTO La isla de Puerto Rico quedará desaprotejida de los Estados Unidos. Y los Estados Unidos de America cortará los lazos que tiene con PUERTO RICO y en las condiciones criticas en que de esta Nacion Borincana. Me dijo nuestro Trino  Dios que no son 4 sismos más los  que entrarán en la isla de Puerto Rico,  sino aun 5 sismos mas.PUEBLO DE PUERTO RICO mis muy Amados Borincanos PRONTO MUY PRONTO PUERTO RICO quedará abandonado ; pero, así les dice Él Señor su TRINO DIOS que Él nunca los abandonará ,y que MUY PRONTO aparecerá Él Deseado de TODAS LAS NACIONES, y todo ojo le VERÁ, para llevarse a su amada iglesia que le espera allá en la isla de Puerto Rico,  la isla del Cordero de Dios. Me dijo nuestro Dios que El no dejará sufriendo mas a su pueblo a su amada iglesia en la isla de Puerto Rico. PRONTO MUY PRONTO y ya es en cualquier momento que el rapto de la iglesia surgirá en cualquier momento.\n",
      "Guayama, Dorado, y Piñones\n",
      "Videos de Dorado dos semanas despues del Huracan María\n",
      "🇵🇷....AVISO IMPORTANTEA todas las personas de Puerto Rico que quieran venir a la Florida tras el paso del huracán Maria, abrieron una oficina para brindarles ayuda mientras están acá. Las ayudas incluyen escuela para sus niños, sin necesidad de todos los papeles de requisito, empleó a maestros con la licencia de PR, no será requisito por el momento sacar la licencia del estado, ayuda de búsqueda de empleo, ya tienen unas compañías dispuestas a emplearlos y otras ayudas mas. La Florida, su gobernador y todos los boricuas acá están dispuestos a ayudarlos a echar pa' lante. El número telefónico de Centro de Ayuda y Servicio es el 407-895-0801. Pueden llamar para información.Dale Copy y Paste (Share) para que otros se beneficien\n",
      "Estoy buscando mi tío, Ivan J. Porrata. Su hermano Tulio, hermana Vicky e familia no sabemos de el. Es de Utuado pero vivía en Toa Baja, con un P.O. Box en Dorado. Si alguien tiene cualquier información sobre el favor de informarnos vía Facebook, texto o llamada. Su retrato, nombre y mí celular esta apañado.\n",
      "Alguien me puede decir si los paquetes están llegando a Dorado ya? Yo sé que el correo está abriendo para recibir paquetes para q la gente los busque, pero están llegando y se están recibiendo? Gracias anticipadas🙏🏼\n",
      "Hola alguien sabe para que es que FEMA va el sábado para Korea?\n",
      "Si alguien tiene informacion sobre Blas Concepcion. Es el visabuelo de mi amiga tiene años y no han escuchado de el. Vive en 480 ext Calle sur Dorado PR\n",
      "Dios, tú que escuchas nuestros ruegos, nuestras oraciones, nuestro dolor, nuestras ansiedades, desesperacion y vez nuestros corazones rotos con lo que está sucediendo en mi Puerto Rico... Por favor mi Dios, ayuda a toda mi familia, amistades y a toda mi gente en Puerto Rico a encontrar las fuerzas, la paz y la paciencia para poder lidear con esta pesadilla diaria....😔 Señor a ti te imploro con todo mi corazón y toda mi alma que levantes a mi isla querida de Puerto Rico!!!🇵🇷Que le des la fe y la esperanza para volver a empezar... en el nombre del Padre, del Hijo y del Espíritu Santo, Amen....🇵🇷🙏🏼😢💔🙏🏼🇵🇷\n",
      "Alguien sabe dónde y cuándo se va a estar repartiendo comida, agua, etc en Dorado?? Mi mama no guía y es mayor de edad y necesito saber el lugar por favor Gracias\n",
      "Buscando a mi familia que no se nada de ellos hacen 1 semana ellos viven entre vega alta y dorado en la 690 calle 6 por cerro gordo si alguien sabe se esa area porfavor mandame un mensaje oh por comment se llaman Mario Carrasquillo Cindy Del Valle Princess Desii Marie y Destiny Carrasquillo\n",
      "Como estan ustedes mi pueblo bello de Puerto Rico  .DIOS les continue bendiciendo a todos mis amados puertoriqueños , tambien a los de Mexico,  Santo Domingo,  Haití, Peru, Cuba,  Barbuda,  Y tambien por todos aquellas  lugares en donde pasaron las catastrophes y huracanes .DIOS les continue bendiciendo a todos. Anoche ataves de mis sueños me dijo nuestro Dios que quiere a toda la nacion de Puerto Rico que le den a nuestro Señor JEHOVÁ Dios un día de ayuno ,oración total HUMILLACIÓN  , vigilia , ,y que le PIDAN PERDON  a nuestro Dios y de Corazon,  para que asi nuestro Dios remueva aun otro desastre más que vendrá muy pronto SOBRE la isla de Puerto Rico. Anoche me decía nuestro Dios Señor y Rey de toda la Tierra,  nuestro Señor Jesucristo que Puerto Rico será muy pronto sacudido por in Teremoto,  que causará un FUERTE y DEVASTADOR TSUNAMI ; No tan solamente eso pronto sobre mi bella isla del Cordero vendrá otro más fuerte huracan llamando Lee, y que será peor que el huracán  Maria. TAMBIEN ME DIJO NUESTRO DIOS QUE a todas aquellas personas que perdieron sus viviendasque vayan ya caminando hacia adentro de la Cordillera Central de la isla de Puerto Rico refugiansen en las cuevas que estan adentro de las montañas de la Cordillera Central de la isla de Puerto Rico; me dijo nuestro Dios : Escribe y dile a mi pueblo que nada de lo que este adentro de las cuevas los molestará. Este mensaje es no tan solamente para mi pueblo muy amado  de Puerto Rico; tambien es para las otras islas del Caribe y tambien para aqui en los Estados Unidos de America. Las aguas que estan adentro de las cuevas pueden beber de ellas haciendo una oración por las aguas por supuesto.NUESTRO SEÑOR JEHOVÁ tiene a la Cordillera Central de la isla de Puerto Rico y de otras islas repletas de alimentos que ustedes yendran que casar y cocinar ,pueblo de nuestro Dios llevese lo nesesario para que puedan cocinar allí. Y tambien me dijo nuestro Dios que sus ropas unicas que unicas que tengan puestas lavenla y pongaselan de nueva hasta que llegue ayuda.\n",
      "Desde SA TX seguimos orando por los nuestros. 🇲🇽❤️🇵🇷\n",
      "😡😡😡😡Tomen fotos de los criminales/pillos y reportenlos a la policia!!!\n",
      "Ericka Arocho si alguin sabe de ella dejemen saver..      calle francisco garcia\n",
      "Buena's tarde mi gente .... Todavia nada de Dorado Calle Norte ?????\n",
      "Dios me los bendiga mi gente !!!! Gracias por recibirme !!!! Necesito saber si alguien aqui tiene alguna informaccion de Dorado Calle Norte ??? Pregunto por una buen amiga que todavia no sabe nada de su mama .... Se llama Nivia Pantoja ....\n",
      "Alguien q sepa de Jardines de Dorado, calle las Gladiolas... porfavor no sabemos NADA esa área.\n",
      "Buenas noches .. busco información del barrio higuillar en el area frente a granas lindas .. al lado del colmadito del difunto Pereda .. tengo una tía q vive ahí se llama carmín nieves .. agradeceré cualquier información de ella o de esa área en la q ella vive ... gracias\n",
      "Buenas noches! Estoy buscando informacion de Kelvin Esquilin, en DoraVille. Si alguien sabe algo de el, favor de comunicarse conmigo o con Loyda Guzman Aviles, su madre. Gracias!\n",
      "Alguien sabe de Mario Carrasquillo el es mi papa y el trabajaba en este salon alguien conose el salon?\n",
      "Alguien sabe como esta Haciendo Mi querido viejo?\n",
      "Alguien sabe algo de la urb. Jardin Dorado?Nadie de mi familia se ha podido contactar con mi hermano. Cualquier detalle sera agradecido. O algún voluntario que por lo menos pase por el area y diga si hay movimiento. Tiene un bebe de 7 meses.\n",
      "Alguien sabe de mi papa Mario Carrasquillo\n",
      "Copy and Paste! Hospitales en Puerto Rico:Funcionando salas de emergencia:•Hospital Pavia Santurce•Hospital Metropolitano en Río Piedras•Hospital San Francisco en Río Piedras•Hospital Pavia Arecibo•Hospital Pavia Yauco•Hospital Metropolitano San Germán•Hospital Perea, Mayagüez•Hima San Pablo, Bayamón Mantenga en mente que la luz en algunos de estos hospitales es intermitente y hay casos extremos que corren con prioridad. Sea paciente y gentil con el equipo que está haciendo lo posible por dar servicios.\n",
      "http://www.univision.com/temas/puerto-rico\n",
      "http://m.primerahora.com/videos/noticias/puertorico/nosestamospreparandoparalopeor-241768/\n",
      "http://www.radioisla1320.com/banco-santander-anuncia-horario-especial/?platform=hootsuite\n",
      "https://www.metro.pr/pr/noticias/2017/09/23/estos-son-los-pueblos-que-tienen-algo-de-comunicacion-celular.html\n",
      "https://www.metro.pr/pr/noticias/2017/09/23/banco-popular-permitira-todos-saquen-dinero-ath-sin-cobrar-tras-huracan.html\n",
      "https://www.metro.pr/pr/noticias/2017/09/23/pacientes-de-reforma-pueden-buscar-medicamentos-en-cualquier-farmacia.html\n",
      "http://m.primerahora.com/noticias/puerto-rico/nota/femamuevesusoperacionesaceibayaguadilla-1247059/\n",
      "https://infogram.com/pueblos-de-los-que-no-conocemos-informacion-1gk92exj56ovm16\n",
      "Deseo saber sobre el bienestar de mi hermano Armando Sánchez y su esposa Adela Le Ravén, de mi sobrino Ián Yarel Sánchez y su esposa Nancy. Residen en Bo. Higuillar en Hacienda mi Querido Viejo. Desconocemos su paradero. Si alguien sabe de ellos por favor déjenos saber. Estamos muy preocupados. Gracias.\n",
      "Ericka Arocho alguien sabe de mi hermana? Vive en dorado pero no se que parte.\n",
      "Señora Rosa Alba Cuervo, de Doraville si alguien sabe algo , por favor su hija damaris esta preocupada. Gracias\n",
      "https://www.yahoo.com/finance/news/powerless-puerto-ricos-storm-crisis-105204299.html\n",
      "Por favor alguien sabe de él??? Se llama Richard Castro, vive en Higuillar. Es el abuelo de mi novio Andres Rodriguez, por favor si alguien sabe algo de él avisenos, estamos bien preocupados 💔💔\n",
      "Update Dorado\n",
      "Telefonos manejo de emergencias gobierno de PR ..informacion por area!El mapa esta en los comentarios\n",
      "Alguien que viva en Dorado y pueda llegar hasta la urb Martorel y preguntar por Maria Ortiz Rivera ??\n",
      "Tengo amistades en Quintas, Higuillar, Santa Rosa y Mameyal. ¿Alguien sabe cómo están las cosas (en general) en esos sectores? Aquellos que sepan por favor escriban. ¡Vamo' arriba, Puerto Rico!\n",
      "Puerto Rico básicamente borrado del mapa...😔💔😢 Foto satelica... Rezando por mi isla...🙏🏼🙏🏼🙏🏼\n",
      "Tienen información sobre el sector Santa Rosa?\n",
      "Alguien que sepa más información de Mameyal, Dorado En especial mi Mamá Carmita en la calle principal y de la familia Navedo y Barroso por favor Se que mi mamá está bien pero no he tenido ninguna comunicación directa con ellos o nadie de la familia Por favor cualquier información será más que agradecida....😔💔😢\n",
      "http://www.univision.com/noticias/huracan-maria/encuentra-informacion-actualizada-de-tu-pueblo-en-este-buscador-de-puerto-rico?utm_source=facebook&utm_medium=social&utm_campaign=ed_noticias&utm_term=fenomenos_naturales&utm_content=tormentas_y_huracanes\n",
      "ESTO ESTÁ FUNCIONANDO!!!! Acabo de recibir una llamada de mi tia desde Levittown Ella trato varias veces pero no se oía Yo la llame para atrás y si salió!! Ella no sabía nada de este posting pero acababa de prender el teléfono y pudo hacer llamadas!!! POR FAVOR REGUEN LA VOZ!!!https://www.facebook.com/UltimoMinutoPR/posts/514233625589908\n",
      "HOY⛔️Esto fue a las 11:00pm del viernes....https://www.facebook.com/UltimoMinutoPR/posts/514233625589908\n",
      "https://www.elnuevodia.com/noticias/locales/nota/colapsaunpuentedelapr-165queconectaatoabajacondorado-2359822/\n",
      "#dorado\n",
      "Frente Amigo en Dorado\n",
      "http://www.primerahora.com/noticias/puerto-rico/nota/colapsaunpuentequeconectaatoabajacondorado-1247001/\n",
      "Alguien sabe algo de Dorado Beach East (125) la familia Rivas.  Tengo a mis padres ahi y no hemos sabido nada en 3 días.  Gracias.\n",
      "Buenas, alguien me puede dar info de la urb. Que está detrás de la shell en dorado. No soy de allá, pero mi tía vive allá y esta sola. Al no haber comunicación y no saber nada de Dorado, estoy desesperada!!!\n",
      "En la plaza del Pueblo de Dorado hay señal de telefono...y en Walgreens cerca de Quintas\n",
      "Buenas tardes alguien sabe cómo está el fraccionamiento mi querido viejo en dorado. Mi hermano vive en el fraccionamiento y no hemos podido contactarlo Su nombre es Gabriel Duchateau Si alguien sabe algo por favor informesLa dirección es 163 Guayacán , hacienda mi querido viejo , dorado puerto Rico.\n",
      "Buenos tarde quiero saber de la gente de puerto en dorado en especial de Daniel mena Álvarez  y mi ex suegra  si saben me deja saber\n",
      "Alguien sabe del area de San Carlos calle 3.\n",
      "Hola.  Alguien tiene noticias de Dorado del Mar. Villas de playa I?\n",
      "Alguien tiene informacion de Haciendas del Dorado hacia Corozal?\n",
      "Hola mi nombre es Johanna Garcia Martinez...busco a mi papa que tiene 80 a~os; se llama Juan Antonio Garcia Ramirez, su esposa se llama Alice. LA DIRECCION EXACTA ES: Calle 1 #50 Estancias Del Verde Bo. Malpica. Si alguien se comunica con el, por favor que su hija menor Johanna quiere que tan pronto pueda, le suplo lo que necesite ASAP y que vuele a los EEUU a Erie, PA. Gracias! Incomunicados.OFREZCO SERVICIOS DE INTERPRETE POR TELEFONO a gente que no hable espa~ol. Desde Erie, PA tan pronto se pueda. Gracias.\n",
      "Si alquien tiene alguna infomacion de mi hermano el es el sargento Garcia  de la Policia municipal de Dorado somos gemelos y estoy mui preocupado por el y la familya\n",
      "#losmontes\n",
      "Mi Familia vive en Urb Los Montes Ya he encontrado como 4 personas que dicen que elArea esta bien que solo muchosArboles derrumbados y bada de connecciom de celulares..luz o agua Si alguien sabe mas informacion dejenme saber por favor ! Bendiciones\n",
      "#LosMontes Dorado\n",
      "Lo que tengo entendido es que el puente de la central se fue y qué Maunabo está incomunicado pero a y qué verifica esa información\n",
      "Mi gente son las plazas públicas de Maunabo\n",
      "Artículos que podemos ir preparando para donar: Comida de bebé, pañales, artículos de primeros auxilio y baterías. Si sabes de agencias de servicios voluntarios que se dirigen a PR en los próximos días por favor comente aquí. Tenemos que enfocar nuestra angustia en como ayudar a nuestros hermanos en la isla, el proceso que viene va a ser uno muy largo.Gracias <3\n",
      "Amigos, acabo de hablar con mi cuñada de Maunabo quien me llamó desde Caguas. Esta es la información que tengo:¡Maunabo esta bién! Pese a los escombros y el daño a las estructuras, no hay daños mayores. Hasta al momento que hablé con ella hace 15 minutos no hay ninguna tragedia. Villa Navarro, San Pedro y el pueblo no están inundados como se ha dicho por aquí. Ella tubo la oportunidad de manejar desde el pueblo hasta Palo Seco lo cual indica que el puente de la central no está destruido. Ella me informó que no hay ningún puente destruído. Ya abrieron la gasolinera de el pueblo, pero como es de esperarse la fila es grande. También abrieron paso por Camino Nuevo. Entiendo yo que esto significa que las personas de Maunabo ya van a tener accesos a poder salir fuera de el area de Maunabo donde no hay señal telefónica y empezar a comunicarse.Estén confiados, mas información viene por ahi. Creo que nuestros seres queridos ya empezarán a llamar desde mañana si abrieron el paso y la gasolinera. Quiero exórtarlos a que sean más juiciosos con la información que comparten. No le den share a algo sin tener la absoluta certeza.\n",
      "Por favor si saben alguna info de matuyas alto déjelo saber... Me urge saber de mi abuelita 👵 😔\n",
      "Quisiera saber de mis abuelas en maunabo los nombres son maria morales y jacinta lebron\n",
      "En la Urbanización Monterrey, Quintas de Monte Rio y parte de Ponce de Leon en Mayaguez, tienen 💡GAD 😊\n",
      "Buenas tardes. Gracias por aceptarme\n",
      "https://www.facebook.com/elcheboricua/posts/10155781007200995\n",
      "https://www.facebook.com/noticiassangerman/posts/2198372637056055\n",
      "https://prunido.com/products/official-puertoricoselevanta%E2%84%A2-we-will-rise-fundraiser-t-shirt?variant=2700352159772\n",
      "Quiero informar que en Cabo Rojo ya llego la luz, en la Urb. Ana Maria y en algunas areas en el pueblo.\n",
      "Aqui estamos apoyando a los nuestros!!https://www.facebook.com/events/298376527308851??ti=ia\n",
      "Buena información para los que se preguntan que está pasando con el barco hospital USS Comfort https://www.facebook.com/108679513654/videos/10155241217298655/\n",
      "Tremendo espectáculo. Por favor, si querían ayudar, aquí hay una buena oportunidad. A donar. Aunque sea un dólar. Somos muchos!!! https://www.facebook.com/SomosUnaVoz/videos/222972194902705/\n",
      "No dejes que la crisis te paralice. No permitas que la tristeza te apabulle. No dejes que el miedo te intimide. Lo peor es no hacer nada. Y creer es lo máximo.  Así que ....MANTÉN LA CALMA Y SIGUE ADELANTE.Do not let the crisis paralyze you. Do not let sadness overwhelm you. Do not let fear intimidate you. The worst thing is to do nothing. And believing is the ultimate. So .... KEEP CALM AND FOLLOW ON.\n",
      "https://www.facebook.com/groups/197562773908266/permalink/555173854813821/Orgullo de nuestro pueblo. Carlos Ivan good job my friend!!\n",
      "http://www.fox32chicago.com/news/local/for-her-12th-birthday-maryland-girl-collects-500-cases-of-water-for-puerto-rico-victims\n",
      "Únete! https://www.facebook.com/noticiassangerman/posts/2194312684128717\n",
      "Este es un buen reportaje de cómo usar los MREs y las distintas versiones que hay. https://www.facebook.com/noticias247pr/videos/10155724610414857/\n",
      "Alguien que arregle plantas electricas en San German? Es para mis papas. Gracias!!\n",
      "https://www.facebook.com/vamoaviajarkei/photos/a.881750835228016.1073741829.881643051905461/1416363425100085/?type=3Marcos Josean Garcia quiero esta camisa 🙏🏻, please!!!\n",
      "Con dolor en mi alma me regreso a Maryland no sin dejar un pedazo de mi aquí en mi isla. Mi corazón se queda. Pude ver el dolor, la frustración, la necesidad. Pero también pude ver el deseo, el cooperativismo, la humildad, el coraje y las ganas de los puertorriqueños de seguir luchando. Jamás olvidaré esta experiencia y ya estoy planeando mi regreso. Hasta pronto mi tierra, mi familia! Nos levantamos!!!🇵🇷\n",
      "http://www.orlandosentinel.com/elsentinel/viajes/os-es-south-west-airlines-viajes-baratos-venta-tres-dias-20171011-story.html\n",
      "https://www.facebook.com/puertoricoselevantaTM/posts/2093702670647321\n",
      "https://www.facebook.com/groups/prmariaupdates/permalink/232967840634636/\n",
      "https://www.facebook.com/elnuevodia/videos/10155357102468751/\n",
      "https://www.metro.pr/pr/noticias/2017/10/12/duracell-regalara-toneladas-baterias-puerto-rico.html\n",
      "https://www.facebook.com/noticiassangerman/posts/2195828923977093\n",
      "Amigos, si no ahora vale la pena que tengan estas comidas para emergencia. Son las que uso para nursing homes y group homes aca.\n",
      "Alguien del Residencial El Recreo,  por favor Sharon Cordero necesita ayuda no tiene acceso a comida, ni agua, quien puede ayudarla?????\n"
     ]
    }
   ],
   "source": [
    "print('\\n'.join(fb_group_data_es.loc[:,'status_message'].head(100).values))"
   ]
  },
  {
   "cell_type": "code",
   "execution_count": 68,
   "metadata": {},
   "outputs": [
    {
     "name": "stdout",
     "output_type": "stream",
     "text": [
      "Index([u'group_id', u'status_author_id', u'status_message', u'status_lang',\n",
      "       u'status_id'],\n",
      "      dtype='object')\n"
     ]
    }
   ],
   "source": [
    "print(fb_group_data_es.columns)"
   ]
  },
  {
   "cell_type": "code",
   "execution_count": 97,
   "metadata": {},
   "outputs": [
    {
     "name": "stdout",
     "output_type": "stream",
     "text": [
      "23662 lines to start\n",
      "23148 lines after URL filter\n"
     ]
    }
   ],
   "source": [
    "import data_helpers\n",
    "reload(data_helpers)\n",
    "from data_helpers import clean_raw_txt\n",
    "import codecs\n",
    "# preprocess and dump to file\n",
    "# need to keep track of indices for cross-referencing\n",
    "fb_group_data_es_txt_df = fb_group_data_es.loc[:, ['status_message', 'status_id']].copy()\n",
    "fb_group_data_es_txt = fb_group_data_es.loc[:, 'status_message'].values.tolist()\n",
    "# clean, tokenize\n",
    "# non-lowercased to help out the NER tagger\n",
    "tokenizer = TweetTokenizer()\n",
    "fb_group_data_es_txt_df.loc[:, 'status_message_clean'] = clean_raw_txt(fb_group_data_es_txt, lower=False)\n",
    "print('%d lines to start'%(len(fb_group_data_es_txt)))\n",
    "# get rid of lines that only contain URL\n",
    "fb_group_data_es_txt_df = fb_group_data_es_txt_df[fb_group_data_es_txt_df.loc[:, 'status_message_clean'].apply(lambda x: x.strip()!='<URL>')]\n",
    "print('%d lines after URL filter'%(fb_group_data_es_txt_df.shape[0]))\n",
    "fb_group_data_es_txt_df.loc[:, 'status_message_clean'] = fb_group_data_es_txt_df.loc[:, 'status_message_clean'].apply(lambda x: ' '.join(tokenizer.tokenize(x)))"
   ]
  },
  {
   "cell_type": "code",
   "execution_count": 98,
   "metadata": {},
   "outputs": [],
   "source": [
    "# write to file\n",
    "fb_group_data_es_txt = fb_group_data_es_txt_df.loc[:, 'status_message_clean']\n",
    "out_file_name = '../../data/facebook-maria/combined_group_statuses.txt'\n",
    "with codecs.open(out_file_name, 'w', encoding='utf-8') as out_file:\n",
    "    # TODO: linebreak delimiter to help re-split data after tagging?\n",
    "    out_file.write('\\nSOLSOLSOL\\t'.join(fb_group_data_es_txt))"
   ]
  },
  {
   "cell_type": "code",
   "execution_count": 46,
   "metadata": {},
   "outputs": [
    {
     "name": "stdout",
     "output_type": "stream",
     "text": [
      "Estoy preocupada por mi tia vicky vazquez que desde el dia antes del huracan no se de ella pues ella es una mujer enferma tiene que usar oxijeno y ella me dijo el dia antes del huracan que su oxijeno se avenida ia acabado y que no se sentia bien pero que se estavenida a dando terapias con la maquina del asma ella vive en higuillar en Dorado creo qye se llama arenar en la calle que vive al frente de su casa antes hera una vaqueria yo espero que ella este bien por favenida or si alguien del grupo es de esa aria y la conose digale que su sobrina la esta buscando gracias por favenida or de compartir\r\n",
      "SOLSOLSOL\tPara alguien que lo necesite ... Dale Share .. A to1 nuestros amigos , pacientes y al publico en general ; Hipnoterapia Clínica Ericksoniana Sistémica se une al esfuerzo de recuperación que to1 vivimos en Puerto Rico y reanuda sus servicios de Hipnosis desde 10 de octubre del 2017.Durante los meses de Octubre / 2017 y Noviembre / 2017 estaremos ofreciendo servicios de recuperación por la crisis del Huracán María , con una oferta especial en nuestros servicios de Hipnoterapia Individual a $ 25 / hora ( $ 40 / h Hipnoterapia para parejas o familias ) , tratando de poner nuestro granito de arena en esta gigantesca envergadura que a to1 nos ocupa . Como parte de estos servicios durante los meses antes menciona 1 , NO se están incluyendo los costos por cita inicial , honrando así la oferta en los servicios de recuperación de la crisis antes mencionada . Dicha oferta aplica a participantes activos , pasa 1 y de nuevo ingreso a los servicios de Hipnoterapia.Estaremos aceptando personas sin cita previa en las facilidades de Caguas ( \" homeoffice \" ) a razón de la problemática que existe en las comunicaciones del país donde se le atenderá lo antes posible , Los horarios son de Lunes a Sábado , de 11am a 630pm , durante los meses menciona 1 anteriormente . Para quienes tienen comunicación disponible , se pueden comunicar al 787-674-8802 o 787-470-3744 , vía texto o llamada , se le responderá según la comunicación sea posible.Esperamos que to1 estén bien , gracias por su patrocinio . - dirección : Urbanización Turabo Gardens , 5ta sección , calle 42 L5 , Caguas . ( frente a la farmacia Santa Ana y supermercado Famcoop ) .\r\n",
      "SOLSOLSOL\tEn apoyo al alcalde Carlos Lopez y al municipio de Dorado Dorado tiene voz\r\n",
      "SOLSOLSOL\tPueblo de Puerto Rico no se monten en las grandes navenida es de la cruz roja de America que llegará en estos días a la isla de Puerto Rico . No se metan en ningun shelter que les haga el fema de los Esta 1 Uni 1 de America que estos levantenen en la isla de Puerto Rico porque los matarán asi como estan matando aqui en los Esta 1 Uni 1 en suelo americano .\r\n",
      "SOLSOLSOL\tPUEBLO DE PUERTO RICO no esperan ninguna ayuda federal de los Esta 1 Uni 1 que llegará a la isla de Puerto Rico por el desastre causado por los huracánes , esa ayuda no va a llegar . NADIE recibira ayuda federal para reconstruir sus casitas.PRONTO MUY PRONTO La isla de Puerto Rico quedará desaprotejida de los Esta 1 Uni 1 . Y los Esta 1 Uni 1 de America cortará los lazos que tiene con PUERTO RICO y en las condiciones criticas en que de esta Nacion Borincana . Me dijo nuestro Trino Dios que no son 4 sismos más los que entrarán en la isla de Puerto Rico , sino aun 5 sismos mas.PUEBLO DE PUERTO RICO mis muy Ama 1 Borincanos PRONTO MUY PRONTO PUERTO RICO quedará abandonado ; pero , así les dice Él Señor su TRINO DIOS que Él nunca los abandonará , y que MUY PRONTO aparecerá Él Deseado de TODAS LAS NACIONES , y todo ojo le VERÁ , para llevarse a su amada iglesia que le espera allá en la isla de Puerto Rico , la isla del Cordero de Dios . Me dijo nuestro Dios que El no dejará sufriendo mas a su pueblo a su amada iglesia en la isla de Puerto Rico . PRONTO MUY PRONTO y ya es en cualquier momento que el rapto de la iglesia surgirá en cualquier momento .\r\n",
      "SOLSOLSOL\tGuayama , Dorado , y Piñones\r\n",
      "SOLSOLSOL\tVideos de Dorado 1 semanas despues del Huracan María\r\n",
      "SOLSOLSOL\t� � � � ... AVISO IMPORTANTEA todas las personas de Puerto Rico que quieran venir a la Florida tras el paso del huracán Maria , abrieron una oficina para brindarles ayuda mientras están acá . Las ayudas incluyen escuela para sus niños , sin necesidad de to1 los papeles de requisito , empleó a maestros con la licencia de PR , no será requisito por el momento sacar la licencia del estado , ayuda de búsqueda de empleo , ya tienen unas compañías dispuestas a emplearlos y otras ayudas mas . La Florida , su gobernador y to1 los boricuas acá están dispuestos a ayudarlos a echar pa ' lante . El número telefónico de Centro de Ayuda y Servicio es el 407-895-0801 . Pueden llamar para información . Dale Copy y Paste ( Share ) para que otros se beneficien\r\n",
      "SOLSOLSOL\tEstoy buscando mi tío , Ivan J . Porrata . Su hermano Tulio , hermana Vicky e familia no sabemos de el . Es de Utuado pero vivía en Toa Baja , con un P . O . Box en Dorado . Si alguien tiene cualquier información sobre el favenida or de informarnos vía Facebook , texto o llamada . Su retrato , nombre y mí celular esta apañado .\r\n",
      "SOLSOLSOL\tAlguien me puede decir si los paquetes están llegando a Dorado ya ? Yo sé que el correo está abriendo para recibir paquetes para q la gente los busque , pero están llegando y se están recibiendo ? Gracias anticipadas � � � �\r\n",
      "SOLSOLSOL\tHola alguien sabe para que es que FEMA va el sábado para Korea ?\r\n",
      "SOLSOLSOL\tSi alguien tiene informacion sobre Blas Concepcion . Es el visabuelo de mi amiga tiene años y no han escuchado de el . Vive en 480 ext Calle sur Dorado PR\r\n",
      "SOLSOLSOL\tDios , tú que escuchas nuestros ruegos , nuestras oraciones , nuestro dolor , nuestras ansiedades , desesperacion y vez nuestros corazones rotos con lo que está sucediendo en mi Puerto Rico ... Por favenida or mi Dios , ayuda a toda mi familia , amistades y a toda mi gente en Puerto Rico a encontrar las fuerzas , la paz y la paciencia para poder lidear con esta pesadilla diaria ... � � Señor a ti te imploro con todo mi corazón y toda mi alma que levantes a mi isla querida de Puerto Rico ! ! ! � � � � Que le des la fe y la esperanza para volver a empezar ... en el nombre del Padre , del Hijo y del Espíritu Santo , Amen ... � � � � � � � � � � � � � � � � � � � �\r\n",
      "SOLSOLSOL\tAlguien sabe dónde y cuándo se va a estar repartiendo comida , agua , etc en Dorado ? ? Mi mama no guía y es mayor de edad y necesito saber el lugar por favenida or Gracias\r\n",
      "SOLSOLSOL\tBuscando a mi familia que no se nada de ellos hacen 1 semana ellos viven entre vega alta y dorado en la 690 calle 6 por cerro gordo si alguien sabe se esa area porfavenida or mandame un mensaje oh por comment se llaman Mario Carrasquillo Cindy Del Valle Princess Desii Marie y Destiny Carrasquillo\r\n",
      "SOLSOLSOL\tComo estan ustedes mi pueblo bello de Puerto Rico . DIOS les continue bendiciendo a to1 mis ama 1 puertoriqueños , tambien a los de Mexico , Santo Domingo , Haití , Peru , Cuba , Barbuda , Y tambien por to1 aquellas lugares en donde pasaron las catastrophes y huracanes . DIOS les continue bendiciendo a to1 . Anoche atavenida es de mis sueños me dijo nuestro Dios que quiere a toda la nacion de Puerto Rico que le den a nuestro Señor JEHOVÁ Dios un día de ay0 , oración total HUMILLACIÓN , vigilia , , y que le PIDAN PERDON a nuestro Dios y de Corazon , para que asi nuestro Dios remueva aun otro desastre más que vendrá muy pronto SOBRE la isla de Puerto Rico . Anoche me decía nuestro Dios Señor y Rey de toda la Tierra , nuestro Señor Jesucristo que Puerto Rico será muy pronto sacudido por in Teremoto , que causará un FUERTE y DEVASTADOR TSUNAMI ; No tan solamente eso pronto sobre mi bella isla del Cordero vendrá otro más fuerte huracan llamando Lee , y que será peor que el huracán Maria . TAMBIEN ME DIJO NUESTRO DIOS QUE a todas aquellas personas que perdieron sus viviendasque vayan ya caminando hacia adentro de la Cordillera Central de la isla de Puerto Rico refugiansen en las cuevas que estan adentro de las montañas de la Cordillera Central de la isla de Puerto Rico ; me dijo nuestro Dios : Escribe y dile a mi pueblo que nada de lo que este adentro de las cuevas los molestará . Este mensaje es no tan solamente para mi pueblo muy amado de Puerto Rico ; tambien es para las otras islas del Caribe y tambien para aqui en los Esta 1 Uni 1 de America . Las aguas que estan adentro de las cuevas pueden beber de ellas haciendo una oración por las aguas por supuesto.NUESTRO SEÑOR JEHOVÁ tiene a la Cordillera Central de la isla de Puerto Rico y de otras islas repletas de alimentos que ustedes yendran que casar y cocinar , pueblo de nuestro Dios llevese lo nesesario para que puedan cocinar allí . Y tambien me dijo nuestro Dios que sus ropas unicas que unicas que tengan puestas lavenida enla y pongaselan de nueva hasta que llegue ayuda .\r\n",
      "SOLSOLSOL\tDesde SA TX seguimos orando por los nuestros . � � � � ❤ ️ � � � �\r\n",
      "SOLSOLSOL\t� � � � � � � � Tomen fotos de los criminales / pillos y reportenlos a la policia ! ! !\r\n",
      "SOLSOLSOL\tEricka Ar7 si alguin sabe de ella dejemen savenida er .. calle francisco garcia\r\n",
      "SOLSOLSOL\tBuena's tarde mi gente ... Todavenida ia nada de Dorado Calle Norte ? ? ?\r\n",
      "SOLSOLSOL\tDios me los bendiga mi gente ! ! ! Gracias por recibirme ! ! ! Necesito saber si alguien aqui tiene alguna informaccion de Dorado Calle Norte ? ? ? Pregunto por una buen amiga que todavenida ia no sabe nada de su mama ... Se llama Nivia Pantoja ...\r\n",
      "SOLSOLSOL\tAlguien q sepa de Jardines de Dorado , calle las Gladiolas ... porfavenida or no sabemos NADA esa área .\r\n",
      "SOLSOLSOL\tBuenas noches .. busco información del barrio higuillar en el area frente a granas lindas .. al lado del colmadito del difunto Pereda .. tengo una tía q vive ahí se llama carmín nieves .. agradeceré cualquier información de ella o de esa área en la q ella vive ... gracias\r\n",
      "SOLSOLSOL\tBuenas noches ! Estoy buscando informacion de Kelvin Esquilin , en DoraVille . Si alguien sabe algo de el , favenida or de comunicarse conmigo o con Loyda Guzman Aviles , su madre . Gracias !\r\n",
      "SOLSOLSOL\tAlguien sabe de Mario Carrasquillo el es mi papa y el trabajaba en este salon alguien conose el salon ?\r\n",
      "SOLSOLSOL\tAlguien sabe como esta Haciendo Mi querido viejo ?\r\n",
      "SOLSOLSOL\tAlguien sabe algo de laurbanización Jardin Dorado ? Nadie de mi familia se ha podido contactar con mi hermano . Cualquier detalle sera agradecido . O algún voluntario que por lo menos pase por el area y diga si hay movimiento . Tiene un bebe de 7 meses .\r\n",
      "SOLSOLSOL\tAlguien sabe de mi papa Mario Carrasquillo\r\n",
      "SOLSOLSOL\tCopy and Paste ! Hospitales en Puerto Rico : Funcionando salas de emergencia : • Hospital Pavenida ia Santurce • Hospital Metropolitano en Río Piedras • Hospital San Francisco en Río Piedras • Hospital Pavenida ia Arecibo • Hospital Pavenida ia Yauco • Hospital Metropolitano San Germán • Hospital Perea , Mayagüez • Hima San Pablo , Bayamón Mantenga en mente que la luz en alg 0s de estos hospitales es intermitente y hay casos extremos que corren con prioridad . Sea paciente y gentil con el equipo que está haciendo lo posible por dar servicios .\r\n",
      "SOLSOLSOL\tDeseo saber sobre el bienestar de mi hermano Armando Sánchez y su esposa Adela Le Ravenida én , de mi sobrino Ián Yarel Sánchez y su esposa Nancy . Residen en Bo . Higuillar en Hacienda mi Querido Viejo . Desconocemos su paradero . Si alguien sabe de ellos por favenida or déjenos saber . Estamos muy preocupa 1 . Gracias .\r\n",
      "SOLSOLSOL\tEricka Ar7 alguien sabe de mi hermana ? Vive en dorado pero no se que parte .\r\n",
      "SOLSOLSOL\tSeñora Rosa Alba Cuervo , de Doravenida ille si alguien sabe algo , por favenida or su hija damaris esta preocupada . Gracias\r\n",
      "SOLSOLSOL\tPor favenida or alguien sabe de él ? ? ? Se llama Richard Castro , vive en Higuillar . Es el abuelo de mi novio Andres Rodriguez , por favenida or si alguien sabe algo de él avenida isenos , estamos bien preocupa 1 � � � �\r\n",
      "SOLSOLSOL\tUpdate Dorado\r\n",
      "SOLSOLSOL\tTelefonos manejo de emergencias gobierno de PR .. informacion por area ! El mapa esta en los comentarios\r\n",
      "SOLSOLSOL\tAlguien que viva en Dorado y pueda llegar hasta laurbanización Martorel y preguntar por Maria Ortiz Rivera ? ?\r\n",
      "SOLSOLSOL\tTengo amistades en Quintas , Higuillar , Santa Rosa y Mameyal . ¿ Alguien sabe cómo están las cosas ( en general ) en esos sectores ? Aquellos que sepan por favenida or escriban . ¡ Vamo ' arriba , Puerto Rico !\r\n",
      "SOLSOLSOL\tPuerto Rico básicamente borrado del mapa ... � � � � � � Foto satelica ... Rezando por mi isla ... � � � � � � � � � � � �\r\n",
      "SOLSOLSOL\tTienen información sobre el sector Santa Rosa ?\r\n",
      "SOLSOLSOL\tAlguien que sepa más información de Mameyal , Dorado En especial mi Mamá Carmita en la calle principal y de la familia Navenida edo y Barroso por favenida or Se que mi mamá está bien pero no he tenido ninguna comunicación directa con ellos o nadie de la familia Por favenida or cualquier información será más que agradecida ... � � � � � �\r\n",
      "SOLSOLSOL\tESTO ESTÁ FUNCIONANDO ! ! ! Acabo de recibir una llamada de mi tia desde Levittown Ella trato varias veces pero no se oía Yo la llame para atrás y si salió ! ! Ella no sabía nada de este posting pero acababa de prender el teléfono y pudo hacer llamadas ! ! ! POR FAVOR REGUEN LA VOZ ! ! ! <URL>\r\n",
      "SOLSOLSOL\tHOY ⛔ ️ Esto fue a las 11:00 pm del viernes ... <URL>\r\n",
      "SOLSOLSOL\t#dorado\r\n",
      "SOLSOLSOL\tFrente Amigo en Dorado\r\n",
      "SOLSOLSOL\tAlguien sabe algo de Dorado Beach East ( 125 ) la familia Rivas . Tengo a mis padres ahi y no hemos sabido nada en 3 días . Gracias .\r\n",
      "SOLSOLSOL\tBuenas , alguien me puede dar info de laurbanización Que está detrás de la shell en dorado . No soy de allá , pero mi tía vive allá y esta sola . Al no haber comunicación y no saber nada de Dorado , estoy desesperada ! ! !\r\n",
      "SOLSOLSOL\tEn la plaza del Pueblo de Dorado hay señal de telefono ... y en Walgreens cerca de Quintas\r\n",
      "SOLSOLSOL\tBuenas tardes alguien sabe cómo está el fraccionamiento mi querido viejo en dorado . Mi hermano vive en el fraccionamiento y no hemos podido contactarlo Su nombre es Gabriel Duchateau Si alguien sabe algo por favenida or informesLa dirección es 163 Guayacán , hacienda mi querido viejo , dorado puerto Rico .\r\n",
      "SOLSOLSOL\tBuenos tarde quiero saber de la gente de puerto en dorado en especial de Daniel mena Álvarez y mi ex suegra si saben me deja saber\r\n",
      "SOLSOLSOL\tAlguien sabe del area de San Carlos calle 3 .\r\n",
      "SOLSOLSOL\tHola . Alguien tiene noticias de Dorado del Mar . Villas de playa I ?\r\n",
      "SOLSOLSOL\tAlguien tiene informacion de Haciendas del Dorado hacia Corozal ?\r\n",
      "SOLSOLSOL\tHola mi nombre es Johanna Garcia Martinez ... busco a mi papa que tiene 80 a ~ os ; se llama Juan Antonio Garcia Ramirez , su esposa se llama Alice . LA DIRECCION EXACTA ES : Calle 1 #50 Estancias Del Verde Bo . Malpica . Si alguien se comunica con el , por favenida or que su hija menor Johanna quiere que tan pronto pueda , le suplo lo que necesite ASAP y que vuele a los EEUU a Erie , PA . Gracias ! Incomunica1.OFREZCO SERVICIOS DE INTERPRETE POR TELEFONO a gente que no hable espa ~ ol . Desde Erie , PA tan pronto se pueda . Gracias .\r\n",
      "SOLSOLSOL\tSi alquien tiene alguna infomacion de mi hermano el es el sargento Garcia de la Policia municipal de Dorado somos gemelos y estoy mui preocupado por el y la familya\r\n",
      "SOLSOLSOL\t#losmontes\r\n",
      "SOLSOLSOL\tMi Familia vive en Urb Los Montes Ya he encontrado como 4 personas que dicen que elArea esta bien que solo muchosArboles derrumba 1 y bada de connecciom de celulares .. luz o agua Si alguien sabe mas informacion dejenme saber por favenida or ! Bendiciones\r\n",
      "SOLSOLSOL\t#LosMontes Dorado\r\n",
      "SOLSOLSOL\tLo que tengo entendido es que el puente de la central se fue y qué Maunabo está incomunicado pero a y qué verifica esa información\r\n",
      "SOLSOLSOL\tMi gente son las plazas públicas de Maunabo\r\n",
      "SOLSOLSOL\tArtículos que podemos ir preparando para donar : Comida de bebé , pañales , artículos de primeros auxilio y baterías . Si sabes de agencias de servicios voluntarios que se dirigen a PR en los próximos días por favenida or comente aquí . Tenemos que enfocar nuestra angustia en como ayudar a nuestros hermanos en la isla , el proceso que viene va a ser 0 muy largo.Gracias <3\r\n",
      "SOLSOLSOL\tAmigos , acabo de hablar con mi cuñada de Maunabo quien me llamó desde Caguas . Esta es la información que tengo : ¡ Maunabo esta bién ! Pese a los escombros y el daño a las estructuras , no hay daños mayores . Hasta al momento que hablé con ella hace 15 minutos no hay ninguna tragedia . Villa Navenida arro , San Pedro y el pueblo no están inunda 1 como se ha dicho por aquí . Ella tubo la oportunidad de manejar desde el pueblo hasta Palo Seco lo cual indica que el puente de la central no está destruido . Ella me informó que no hay ningún puente destruído . Ya abrieron la gasolinera de el pueblo , pero como es de esperarse la fila es grande . También abrieron paso por Camino Nuevo . Entiendo yo que esto significa que las personas de Maunabo ya van a tener accesos a poder salir fuera de el area de Maunabo donde no hay señal telefónica y empezar a comunicarse . Estén confia 1 , mas información viene por ahi . Creo que nuestros seres queri 1 ya empezarán a llamar desde mañana si abrieron el paso y la gasolinera . Quiero exórtarlos a que sean más juiciosos con la información que comparten . No le den share a algo sin tener la absoluta certeza .\r\n",
      "SOLSOLSOL\tPor favenida or si saben alguna info de matuyas alto déjelo saber ... Me urge saber de mi abuelita � � � �\r\n",
      "SOLSOLSOL\tQuisiera saber de mis abuelas en maunabo los nombres son maria morales y jacinta lebron\r\n",
      "SOLSOLSOL\tEn la Urbanización Monterrey , Quintas de Monte Rio y parte de Ponce de Leon en Mayaguez , tienen � � GAD � �\r\n",
      "SOLSOLSOL\tBuenas tardes . Gracias por aceptarme\r\n",
      "SOLSOLSOL\tQuiero informar que en Cabo Rojo ya llego la luz , en la Urb . Ana Maria y en algunas areas en el pueblo .\r\n",
      "SOLSOLSOL\tAqui estamos apoyando a los nuestros ! ! <URL>\r\n",
      "SOLSOLSOL\tBuena información para los que se preguntan que está pasando con el barco hospital USS Comfort <URL>\r\n",
      "SOLSOLSOL\tTremendo espectáculo . Por favenida or , si querían ayudar , aquí hay una buena oportunidad . A donar . Aunque sea un dólar . Somos muchos ! ! ! <URL>\r\n",
      "SOLSOLSOL\tNo dejes que la crisis te paralice . No permitas que la tristeza te apabulle . No dejes que el miedo te intimide . Lo peor es no hacer nada . Y creer es lo máximo . Así que ... MANTÉN LA CALMA Y SIGUE ADELANTE.Do not let the crisis paralyze you . Do not let sadness overwhelm you . Do not let fear intimidate you . The worst thing is to do nothing . And believing is the ultimate . So ... KEEP CALM AND FOLLOW ON .\r\n",
      "SOLSOLSOL\t<URL> de nuestro pueblo . Carlos Ivan good job my friend ! !\r\n",
      "SOLSOLSOL\tÚnete ! <URL>\r\n",
      "SOLSOLSOL\tEste es un buen reportaje de cómo usar los MREs y las distintas versiones que hay . <URL>\r\n",
      "SOLSOLSOL\tAlguien que arregle plantas electricas en San German ? Es para mis papas . Gracias ! !\r\n",
      "SOLSOLSOL\t<URL> iajarkei / photos / a . 8817508352 28016.1073741829 . 8816430519 05461/1416363425100085 / ? type = 3Marcos Josean Garcia quiero esta camisa � � � � , please ! ! !\r\n",
      "SOLSOLSOL\tCon dolor en mi alma me regreso a Maryland no sin dejar un pedazo de mi aquí en mi isla . Mi corazón se queda . Pude ver el dolor , la frustración , la necesidad . Pero también pude ver el deseo , el cooperativismo , la humildad , el coraje y las ganas de los puertorriqueños de seguir luchando . Jamás olvidaré esta experiencia y ya estoy planeando mi regreso . Hasta pronto mi tierra , mi familia ! Nos levantamos ! ! ! � � � �\r\n",
      "SOLSOLSOL\tAmigos , si no ahora vale la pena que tengan estas comidas para emergencia . Son las que uso para nursing homes y group homes aca .\r\n",
      "SOLSOLSOL\tAlguien del Residencial El Recreo , por favenida or Sharon Cordero necesita ayuda no tiene acceso a comida , ni agua , quien puede ayudarla ? ? ?\r\n",
      "SOLSOLSOL\tLlego la luz qurbanización santa maria detras de napo y al recreo\r\n",
      "SOLSOLSOL\t#SANGERMÁN El alcalde de San Germán ha establecido un Stop and Go para familias del pueblo . To1 los días pueden ir al drive-thru y les dan agua y comida . Están ubica 1 en el parque de agua de San Germán . Díganle a sus familiares . Compartan también estos teléfonos que ya trabajan : * Manejo de Emergencias 787-892-5625 787-892-5685 * Policía SG 787-892-3505\r\n",
      "SOLSOLSOL\tLa luz llegó al EL Real esta mañana pero se fue el agua como una hora despues que habia llegado la luz .\r\n",
      "SOLSOLSOL\tPara los que no han visto esta info , la línea lajeña busca y lleva personas al aeropuerto de San Juan a el area de SG / Lajas por $ 45 por persona . El número de la oficina en Lajas es el 787-899-1553 y está funcionando . Suerte .\r\n",
      "SOLSOLSOL\tBuenas Tardes A To1.Conosco de grupo que va a PR area oeste el 10/12 / 17 y estan buscando informacion de los barrios y pueblos en o cercano de San German que necesiten ayuda . Por favenida or dejarme saber para indicarle donde ir immediatamente . Gracias y espero to1 bien .\r\n",
      "SOLSOLSOL\tYa hay luz en Reparto Universidad , Las Lomas , parte de la Calle Luna ...\r\n",
      "SOLSOLSOL\tPoco a poco se esta notando la mejoria . Lo que paso aqui no fue facil . Hay que tener mucha paciencia . Estoy en todas . Donde puedo ayudar ayudo y hay muchas personas haciendo mucho . mas que yo . La mas minima ayuda que se pueda dar ya sea aqui o desde alla es vital para la recuperacion del pais y en especial nuestos pueblos . Sigan eviando sus cajitas con con cosas de primera necesidad . Filtros de agua hacen falta . No envien priority ni express mail pq van a perder el dinero . Todo llega a la misma vez . Hablo con en cartero to1 los dias cuando pasa a entregar las cartas . Bueno , se me acaba la bateria , tengo que cargar el tele . Bendecido dia a to1 ! Recuerden , aunque no es facil , hay que tener paciencia . PR se esta levantando .\r\n",
      "SOLSOLSOL\tHolaa ... Llego la luz a El Real Gracias a Dios ! ! !\r\n",
      "SOLSOLSOL\tSaben si JetBlue esta saliendo de Ponce ?\r\n",
      "SOLSOLSOL\tHay luz en la casto perez ahora mismo\r\n",
      "SOLSOLSOL\t#PuertoRicoSeLevanta pero no tan solo mi isla pero mi San German querido ! ! Miles de gracias a Marcos Josean Garcia por todo su trabajo y dedicacion . Orgullo del pueblo de las lomas ! ! !\r\n",
      "SOLSOLSOL\tLlego al caserio y se fue otra vez . Se espera que llegue en los proximos dias . Ya hay luz en el pueblo de mayaguez . De1 cruza 1 .\r\n",
      "SOLSOLSOL\tBuscando a mi abuelo Ulyses Acevedo y su esposa Juanita Acevedo que no estas en esta foto . El tienes 98 anos y viven en Cabo Rojo pero se fueron para San German antes de huracan para quedarse con la histrada Becky . Ella trabaja en un hospital . Por favenida or si sabes algo de ellos , comunicarse con migo su nieta , Netti Gutierrez la hija , Wanda Vionet y Tarsis Urrely Las otra nietas . Estamos muy preocupa 1 por ellos � � Ayudanos !\r\n",
      "SOLSOLSOL\tBuenas tardes grupo ! ! Proximamente estare viajando a PR al area Oeste .. si alguien no se a podido comunicar con algun familiar en confianza me pueden escribir inbox y estare pasando por sus areas respectivas para conseguirles info .. bien dia\r\n",
      "SOLSOLSOL\tEduardo R . Montalvo informa desde San German , PR lo siguiente : - la mayoría de la gente está bien . Están afuera hablando y compartiendo entre ellos y de buen ánimo - hay sectores q nunca perdieron el agua , otros si y aun no llega . - correo abierto , llevando cartas y paquetes a las casas . No garantizan delivery date . No express o priority mail-Lajas tiene agua-hay unas cuantas tiendas abiertas - ya no hay tanta fila en las gasolineras pero el banco es otro cuento . Filas son eternas - municipio limpiando las carreteras pero va a tomar tiempo - supermerca 1 abiertos - mucho movimiento de gente en La Parguera.Esto es todo lo que tengo por ahora . Tan pronto nuestro corresponsal se comunique les dejaré saber las últimas noticias .\r\n",
      "SOLSOLSOL\tPara reportar postes caí 1 , llamen al 787-792-8484\r\n",
      "SOLSOLSOL\tEl grupo Mi Casa es su casa fue creado con la intención de conectar personas en Puerto Rico que deseen salir de la Isla con personas en Esta 1 uni 1 que ofrecen albergue en sus casas ( Máximo un mes ) . Si desea más información únase al grupo <URL> También si esta en necesidad de pañales y formula comuníquense con nosotros con el size y la formula que toma su bebe . Haremos lo posible por conseguirla y enviarla por correo . Y si necesita alimentos estamos enviando cajas de comida directamente a su casa por correo contáctese con nosotros con nombre y dirección . Estamos haciendo lo posible por ayudar en lo que podemos .\r\n",
      "SOLSOLSOL\tSuper Farmacia MAYI Lun a Sab 8-5 Mientras planta no los permita . 787-892-1485 Estamos Facturando a planes medicos . Tenemos ATH disponible !\r\n",
      "SOLSOLSOL\tEduardo R . Montalvo me acaba de escribir lo siguiente ... \" El correo de san german esta abierto , Aceptan solamente PO box \"\r\n",
      "SOLSOLSOL\tBuenas noches sabemos la situacion q esta pasando el pais sin casi comunicacion y sin luz en muchas areas . Nos dimos la tarea para trabajar para to1 ustedes de hacerle todas las recargas q necesiten de cualquier plan . Muchas de ellas son RTR q el pago entra directo al telefono al momento . Aqui todas las compañias q estamos trabajando . ClaroH 2oNet10AT & TEasyGoSimple MobileGoSmartRedPocketY muchas mas ! ! ! Llama o al inbox o whatsaap 7874000082 Solo dejanos saber ! ! ! Aqui estamos para ti . Gracias por el apoyo ! ! ! Share con todo el mundo ! ! !\r\n",
      "SOLSOLSOL\tBuena información . El que venga para Puerto Rico y no tenga transportación del aeropuerto a el area suroeste , la línea lajeña te busca por $ 45 por persona . El conductor se llama Omar y su número es 787-519-4722 . Lo se pq estoy aquí ahora mismo con el .\r\n",
      "SOLSOLSOL\tBusco hotel en area oeste q coja visa !\r\n"
     ]
    }
   ],
   "source": [
    "! head -100 ../../data/facebook-maria/combined_group_statuses.txt"
   ]
  },
  {
   "cell_type": "markdown",
   "metadata": {},
   "source": [
    "## Run NER\n",
    "Use the NER tagger to extract locations."
   ]
  },
  {
   "cell_type": "code",
   "execution_count": 99,
   "metadata": {},
   "outputs": [
    {
     "name": "stdout",
     "output_type": "stream",
     "text": [
      "Invoked on Wed Nov 29 14:03:10 EST 2017 with arguments: -loadClassifier classifiers/spanish.ancora.distsim.s512.crf.ser.gz -textFile ../../../data/facebook-maria/combined_group_statuses.txt\n",
      "loadClassifier=classifiers/spanish.ancora.distsim.s512.crf.ser.gz\n",
      "textFile=../../../data/facebook-maria/combined_group_statuses.txt\n",
      "Loading classifier from classifiers/spanish.ancora.distsim.s512.crf.ser.gz ... done [1.1 sec].\n",
      "Untokenizable: � (U+FFFD, decimal: 65533)\n",
      "CRFClassifier tagged 1031371 words in 57852 documents at 16179.64 words per second.\n"
     ]
    }
   ],
   "source": [
    "!bash tag_spanish_txt.sh"
   ]
  },
  {
   "cell_type": "code",
   "execution_count": 100,
   "metadata": {},
   "outputs": [
    {
     "name": "stdout",
     "output_type": "stream",
     "text": [
      "57852\n",
      "processed 0 lines\n",
      "processed 10000 lines\n",
      "processed 20000 lines\n",
      "processed 30000 lines\n",
      "processed 40000 lines\n",
      "processed 50000 lines\n",
      "23148\n",
      "23144\n"
     ]
    }
   ],
   "source": [
    "# fix weird delimiters\n",
    "import data_helpers\n",
    "reload(data_helpers)\n",
    "from data_helpers import clean_tagged_txt\n",
    "import codecs\n",
    "ner_tagged_file = '../../data/facebook-maria/combined_group_statuses_ner.txt'\n",
    "tagged_txt = [l.strip() for l in codecs.open(ner_tagged_file, 'r', encoding='utf-8')]\n",
    "print(len(tagged_txt))\n",
    "delim = 'SOLSOLSOL'\n",
    "fixed_txt = clean_tagged_txt(tagged_txt, delim=delim)\n",
    "print(len(fb_group_data_es_txt))\n",
    "print(len(fixed_txt))"
   ]
  },
  {
   "cell_type": "markdown",
   "metadata": {},
   "source": [
    "We're missing data. Maybe some lines got glued together?"
   ]
  },
  {
   "cell_type": "code",
   "execution_count": 101,
   "metadata": {},
   "outputs": [
    {
     "name": "stdout",
     "output_type": "stream",
     "text": [
      "error line found at index 12! 150 vs. 124 tokens\n",
      "Dios , tú que escuchas nuestros ruegos , nuestras oraciones , nuestro dolor , nuestras ansiedades , desesperacion y vez nuestros corazones rotos con lo que está sucediendo en mi Puerto Rico ... Por favor mi Dios , ayuda a toda mi familia , amistades y a toda mi gente en Puerto Rico a encontrar las fuerzas , la paz y la paciencia para poder lidear con esta pesadilla diaria ... � � Señor a ti te imploro con todo mi corazón y toda mi alma que levantes a mi isla querida de Puerto Rico ! ! ! � � � � Que le des la fe y la esperanza para volver a empezar ... en el nombre del Padre , del Hijo y del Espíritu Santo , Amen ... � � � � � � � � � � � � � � � � � � � �\n",
      "Dios/ORG ,/O tú/O que/O escuchas/O nuestros/O ruegos/O ,/O nuestras/O oraciones/O ,/O nuestro/O dolor/O ,/O nuestras/O ansiedades/O ,/O desesperacion/O y/O vez/O nuestros/O corazones/O rotos/O con/O lo/O que/O está/O sucediendo/O en/O mi/O Puerto/LUG Rico/LUG .../O Por/O favor/O mi/O Dios/OTROS ,/O ayuda/O a/O toda/O mi/O familia/O ,/O amistades/O y/O a/O toda/O mi/O gente/O en/O Puerto/LUG Rico/LUG a/O encontrar/O las/O fuerzas/O ,/O la/O paz/O y/O la/O paciencia/O para/O poder/O lidear/O con/O esta/O pesadilla/O diaria/O .../O Señor/O a/O ti/O te/O imploro/O con/O todo/O mi/O corazón/O y/O toda/O mi/O alma/O que/O levantes/O a/O mi/O isla/O querida/O de/O Puerto/LUG Rico/LUG !/O !/O !/O Que/O le/O des/O la/O fe/O y/O la/O esperanza/O para/O volver/O a/O empezar/O .../O en/O el/O nombre/O del/O Padre/OTROS ,/O del/O Hijo/ORG y/O del/O Espíritu/ORG Santo/ORG ,/O Amen/OTROS .../O\n"
     ]
    }
   ],
   "source": [
    "# why are we missing data??\n",
    "# iterate line by line and find line with wrong number of tokens\n",
    "from itertools import izip\n",
    "token_diff = 20\n",
    "for z, (i,j) in enumerate(izip(fb_group_data_es_txt, fixed_txt)):\n",
    "    i_tokens = i.split(' ')\n",
    "    j_tokens = j.split(' ')\n",
    "    if(abs(len(i_tokens) - len(j_tokens)) >= token_diff):\n",
    "        print('error line found at index %d! %d vs. %d tokens'%(z, len(i_tokens), len(j_tokens)))\n",
    "        print(i)\n",
    "        print(j)\n",
    "        break"
   ]
  },
  {
   "cell_type": "markdown",
   "metadata": {},
   "source": [
    "Not sure what's going on, but maybe some short lines in the original data got skipped."
   ]
  },
  {
   "cell_type": "markdown",
   "metadata": {},
   "source": [
    "Sanity check: make sure the tagged locations make sense."
   ]
  },
  {
   "cell_type": "code",
   "execution_count": 102,
   "metadata": {},
   "outputs": [
    {
     "name": "stdout",
     "output_type": "stream",
     "text": [
      "[[u'Dorado'], [u'Dale_Share', u'Hipnoterapia_Cl\\xednica_Ericksoniana_Sist\\xe9mica', u'Puerto_Rico', u'Hipnosis', u'Octubre', u'Noviembre_/_2017', u'Hurac\\xe1n_Mar\\xeda', u'Hipnoterapia_Individual', u'Hipnoterapia', u'Caguas', u'11am', u'630pm', u'Turabo_Gardens', u'Caguas', u'Santa_Ana', u'Famcoop_-RRB-'], [u'Carlos_Lopez', u'Dorado_Dorado'], [u'Pueblo', u'Puerto_Rico', u'America', u'Puerto_Rico', u'shelter', u'America', u'Puerto_Rico'], [u'Puerto_Rico', u'Puerto_Rico', u'America', u'Nacion_Borincana', u'Trino_Dios', u'Puerto_Rico', u'Puerto_Rico', u'Cordero', u'Dios', u'Dios', u'Puerto_Rico'], [u'Guayama'], [u'Videos'], [u'Puerto_Rico', u'Florida', u'Maria', u'PR', u'Florida', u'Centro', u'Ayuda', u'Servicio', u'Dale_Copy', u'Paste_-LRB-_Share'], [u'Estoy', u'Ivan_J', u'Porrata', u'Tulio', u'Vicky', u'Utuado', u'Toa_Baja', u'P', u'Box', u'Dorado', u'Facebook'], [u'Alguien']]\n",
      "[[u'Dorado/ORG'], [u'Dale_Share/PERS', u'Hipnoterapia_Cl\\xednica_Ericksoniana_Sist\\xe9mica/ORG', u'Puerto_Rico/LUG', u'Hipnosis/LUG', u'Octubre/OTROS', u'Noviembre__2017/ORG', u'Hurac\\xe1n_Mar\\xeda/PERS', u'Hipnoterapia_Individual/LUG', u'Hipnoterapia/OTROS', u'Caguas/LUG', u'11am/ORG', u'630pm/ORG', u'Turabo_Gardens/ORG', u'Caguas/LUG', u'Santa_Ana/PERS', u'Famcoop_-RRB-/ORG'], [u'Carlos_Lopez/PERS', u'Dorado_Dorado/ORG'], [u'Pueblo/ORG', u'Puerto_Rico/LUG', u'America/OTROS', u'Puerto_Rico/LUG', u'shelter/ORG', u'America/OTROS', u'Puerto_Rico/LUG'], [u'Puerto_Rico/LUG', u'Puerto_Rico/LUG', u'America/OTROS', u'Nacion_Barrio_rincana/LUG', u'Trino_Dios/PERS', u'Puerto_Rico/LUG', u'Puerto_Rico/LUG', u'Cordero/PERS', u'Dios/OTROS', u'Dios/PERS', u'Puerto_Rico/LUG'], [u'Guayama/ORG'], [u'Videos/ORG'], [u'Puerto_Rico/LUG', u'Florida/LUG', u'Maria/PERS', u'PR/ORG', u'Florida/LUG', u'Centro/LUG', u'Ayuda/OTROS', u'Servicio/OTROS', u'Dale_Copy/PERS', u'Paste_-LRB-_Share/PERS'], [u'Estoy/ORG', u'Ivan_J/PERS', u'Porrata/PERS', u'Tulio/PERS', u'Vicky/PERS', u'Utuado/LUG', u'Toa_Baja/LUG', u'P/ORG', u'Dorado/ORG', u'Facebook/ORG'], [u'Alguien/ORG']]\n"
     ]
    }
   ],
   "source": [
    "from data_helpers import collect_entities_from_txt\n",
    "tagged_entities_complete = map(collect_entities_from_txt, fixed_txt)\n",
    "tagged_entities_type = map(lambda x: collect_entities_from_txt(x, include_type=True), fixed_txt)\n",
    "print(tagged_entities[0:10])\n",
    "print(tagged_entities_type[0:10])"
   ]
  },
  {
   "cell_type": "code",
   "execution_count": 103,
   "metadata": {},
   "outputs": [
    {
     "name": "stdout",
     "output_type": "stream",
     "text": [
      "[(u'Alguien', 2268), (u'Dios', 1600), (u'Puerto_Rico', 1385), (u'PR', 1050), (u'Guayama', 874), (u'Hola', 671), (u'Gracias', 660), (u'Coamo', 478), (u'Barranquitas', 460), (u'Ponce', 419)]\n",
      "[(u'Alguien/ORG', 2099), (u'Puerto_Rico/LUG', 1328), (u'Dios/PERS', 1050), (u'PR/ORG', 1003), (u'Guayama/LUG', 837), (u'Gracias/OTROS', 637), (u'Hola/ORG', 631), (u'Dios/OTROS', 501), (u'Barranquitas/LUG', 443), (u'Coamo/LUG', 433)]\n"
     ]
    }
   ],
   "source": [
    "from collections import Counter\n",
    "tagged_entities_flat = reduce(lambda x,y: x+y, tagged_entities)\n",
    "tagged_entities_type_flat = reduce(lambda x,y: x+y, tagged_entities_type)\n",
    "tagged_entity_counts = Counter(tagged_entities_flat)\n",
    "tagged_entity_type_counts = Counter(tagged_entities_type_flat)\n",
    "# print most common\n",
    "top_k = 10\n",
    "print(tagged_entity_counts.most_common(top_k))\n",
    "print(tagged_entity_type_counts.most_common(top_k))"
   ]
  },
  {
   "cell_type": "code",
   "execution_count": 104,
   "metadata": {},
   "outputs": [
    {
     "name": "stdout",
     "output_type": "stream",
     "text": [
      "[(u'', 28), (u'LUG', 18442), (u'PERS', 27067), (u'7', 2), (u'cz3yxqThank', 1), (u'ORG', 29553), (u'OTROS', 8352), (u'171', 1)]\n"
     ]
    }
   ],
   "source": [
    "# breakdown by entity type\n",
    "entity_type_flat = map(lambda x: x.split('/')[1], tagged_entities_type_flat)\n",
    "entity_type_counts = Counter(entity_type_flat)\n",
    "print(entity_type_counts.items())"
   ]
  },
  {
   "cell_type": "markdown",
   "metadata": {},
   "source": [
    "Most mentions are either location, person or organization. GOOD."
   ]
  },
  {
   "cell_type": "markdown",
   "metadata": {},
   "source": [
    "## Build sample data\n",
    "Let's start from scratch with a new sample of data, taken over the whole corpus. $N=500$."
   ]
  },
  {
   "cell_type": "code",
   "execution_count": 105,
   "metadata": {},
   "outputs": [],
   "source": [
    "pd.np.random.seed(123)\n",
    "N = 500\n",
    "# need to include text and post index for later cross-referencing\n",
    "fb_group_data_sample_idx = pd.np.random.choice(fb_group_data_es_txt_df.index, size=N, replace=False)\n",
    "fb_group_data_sample = fb_group_data_es_txt_df.loc[fb_group_data_sample_idx, :]\n",
    "# write to file: raw data and pre-annotation data\n",
    "sample_file_name = '../../data/facebook-maria/all_group_sample_statuses.txt'\n",
    "sample_annotate_file_name = '../../data/facebook-maria/all_group_sample_statuses_annotated.txt'\n",
    "with codecs.open(sample_file_name, 'w', encoding='utf-8') as sample_output:\n",
    "    for l in fb_group_data_sample.loc[:, 'status_message_clean'].values.tolist():\n",
    "        sample_output.write('%s\\n'%(l))\n",
    "with codecs.open(sample_annotate_file_name, 'w', encoding='utf-8') as annotate_output:\n",
    "    for i, r in fb_group_data_sample.iterrows():\n",
    "        annotate_output.write('%s\\t%s\\n'%(r.loc['status_id'], r.loc['status_message_clean']))"
   ]
  },
  {
   "cell_type": "markdown",
   "metadata": {},
   "source": [
    "...lots of annotation later..."
   ]
  },
  {
   "cell_type": "code",
   "execution_count": 138,
   "metadata": {},
   "outputs": [
    {
     "name": "stdout",
     "output_type": "stream",
     "text": [
      "486819048360070_495834210791887\tLas ayudas donde estan parando ?\n",
      "1773209126315380_1798559843780308\t@Clandestino te agararon de toalla pa limpiarle el nombre al otro ... Recuerda que tu vives del pueblo y lo que hiso el señor Narmito Representante desde la luna se notava que era para su uso personal VIP ! @Clandestino consejo no metas tus manos al fuego por algien recuerda que tu eres lo q eres gracias al pueblo despues de 3 dias da cara 2 verciones de amistad 1 video y la gente pasando habre y sed ! ! ?? ?? ?? ?? DESPUES QUE PASAN EL VIDEO REPARTE LOS SUMINISTROS ESA MISMA NOCHE CUANDO SUPUESTAMENTE LOS ESTABA GUARDANDO PAL OTRO DIA ?? ?? ?? ?? ?? ?? Narmito Ortiz CHARLATANahhhh bloqueenme este tambie . l .\n",
      "1979604895658060_1988090978142785\tMañana van a [[Corozal]]{CITY} ! Tienes que ver el vídeo ! ! #uni1porpuertorico\n",
      "1773209126315380_1774270739542552\tAlguien sabe de Juan Antonio ( Tony ) Colon ?\n",
      "1988415758095382_1988888744714750\tEsta es parte de mi familia mi hermano Emanuel Rojas ( nolito / nolo ) mi hermana Liz y mi madre Asuncion Hernandez ( sunty ) viven en el Barrio [[San Antonio]]{CITY} sector las arenas [[callejon]]{TOPO} de los [[Medina]]{TOPO} si alguien save oh a hablado con alg 0 de ellos por favor dejenmelo saver . Les estare eternamente agradecida\n",
      "132392547395104_138663026768056\tSI ESTAS EN [[VEGA ALTA]]{CITY} Y TIENES NESESIDAD DE ALIMENTOS LLAMA A MINISTERIO DE AYUDA AL NECESITADO 787-737-0271\n",
      "1909452959306518_1909774142607733\tAlguien tiene información de [[Río Abajo]]{CITY/TOPO} y [[Vista Monte]]{TOPO} . Por favor .\n",
      "132963337341347_135418900429124\tAlguien ha tenido suerte consiguiendo vuelos para la semana entrante ? De SJ a Miami , NY , etc .\n",
      "127217134598253_129891014330865\tNo se nada del mi familia del helechal mi mama es esposa del Dr cacas del [[Barranquitas]]{CITY} si alguien sabe del porfavor contact me please\n",
      "132022090761950_132607637370062\tMe gustaría saber si mi tío Toño Toro , y todos mis primos Toros están bien ellos la mayoría son de [[palmarejos]]{CITY}\n"
     ]
    }
   ],
   "source": [
    "# annotated text\n",
    "sample_annotate_file_name = '../../data/facebook-maria/all_group_sample_statuses_annotated.txt'\n",
    "sample_annotations = [l.strip() for l in codecs.open(sample_annotate_file_name, 'r', encoding='utf-8')]\n",
    "print('\\n'.join(sample_annotations[:10]))"
   ]
  },
  {
   "cell_type": "code",
   "execution_count": 139,
   "metadata": {},
   "outputs": [
    {
     "name": "stdout",
     "output_type": "stream",
     "text": [
      "[[], [], [(u'Corozal', u'CITY')], [], [(u'San Antonio', u'CITY'), (u'callejon', u'TOPO'), (u'Medina', u'TOPO')], [(u'VEGA ALTA', u'CITY')], [(u'Vista Monte', u'TOPO')], [], [(u'Barranquitas', u'CITY')], [(u'palmarejos', u'CITY')]]\n"
     ]
    }
   ],
   "source": [
    "import re\n",
    "from unidecode import unidecode\n",
    "# extract mentions\n",
    "annotate_matcher = re.compile(r'(\\[\\[[^\\]]+\\]\\])(\\{[A-Z]+\\})')\n",
    "def extract_annotations(x):\n",
    "    # TODO: include index number!\n",
    "    annotations = [(x[2:-2], y[1:-1]) for (x,y) in annotate_matcher.findall(x)]\n",
    "    return annotations\n",
    "sample_annotation_mentions = map(extract_annotations, sample_annotations)\n",
    "print(sample_annotation_mentions[:10])"
   ]
  },
  {
   "cell_type": "markdown",
   "metadata": {},
   "source": [
    "Let's get some basic counts, like toponym type and most frequent toponyms."
   ]
  },
  {
   "cell_type": "code",
   "execution_count": 140,
   "metadata": {},
   "outputs": [
    {
     "name": "stdout",
     "output_type": "stream",
     "text": [
      "[(u'Guayama', 26), (u'Vega Alta', 20), (u'Ponce', 15), (u'Coamo', 14), (u'Utuado', 11), (u'Yabucoa', 11), (u'Lajas', 11), (u'Vega Baja', 10), (u'Quebradillas', 9), (u'Barranquitas', 8)]\n",
      "[(u'CITY', 366), (u'TOPO', 180), (u'UNK', 105)]\n"
     ]
    }
   ],
   "source": [
    "from collections import Counter\n",
    "sample_annotation_mentions_flat = reduce(lambda x,y: x+y, sample_annotation_mentions)\n",
    "topo_names, topo_types = zip(*sample_annotation_mentions_flat)\n",
    "topo_name_counts = Counter(topo_names)\n",
    "topo_type_counts = Counter(topo_types)\n",
    "print(topo_name_counts.most_common(10))\n",
    "print(topo_type_counts.most_common())"
   ]
  },
  {
   "cell_type": "code",
   "execution_count": 291,
   "metadata": {},
   "outputs": [
    {
     "name": "stdout",
     "output_type": "stream",
     "text": [
      "CITY    0.562212\n",
      "TOPO    0.276498\n",
      "UNK     0.161290\n",
      "dtype: float64\n"
     ]
    }
   ],
   "source": [
    "# percentages lol\n",
    "topo_type_count_series = pd.Series(topo_type_counts)\n",
    "topo_type_count_series /= topo_type_count_series.sum()\n",
    "print(topo_type_count_series)"
   ]
  },
  {
   "cell_type": "markdown",
   "metadata": {},
   "source": [
    "Most toponyms mentioned tend to be the big cities, and there's a lot of `UNK` toponyms too! This will be a problem for the resolution engine."
   ]
  },
  {
   "cell_type": "markdown",
   "metadata": {},
   "source": [
    "How many statuses have at least one `TOPO`?"
   ]
  },
  {
   "cell_type": "code",
   "execution_count": 294,
   "metadata": {},
   "outputs": [
    {
     "name": "stdout",
     "output_type": "stream",
     "text": [
      "0.266\n"
     ]
    }
   ],
   "source": [
    "from __future__ import division\n",
    "topo_status = filter(lambda x: any(map(lambda y: y[1]=='TOPO', x)), sample_annotation_mentions)\n",
    "print(len(topo_status) / len(sample_annotation_mentions))"
   ]
  },
  {
   "cell_type": "markdown",
   "metadata": {},
   "source": [
    "## Extract all locations"
   ]
  },
  {
   "cell_type": "code",
   "execution_count": 155,
   "metadata": {},
   "outputs": [
    {
     "name": "stdout",
     "output_type": "stream",
     "text": [
      "486819048360070_495834210791887\tLas ayudas donde estan parando ?\n",
      "1773209126315380_1798559843780308\t@Clandestino te agararon de toalla pa limpiarle el nombre al otro ... Recuerda que tu vives del pueblo y lo que hiso el señor Narmito Representante desde la luna se notava que era para su uso personal VIP ! @Clandestino consejo no metas tus manos al fuego por algien recuerda que tu eres lo q eres gracias al pueblo despues de 3 dias da cara 2 verciones de amistad 1 video y la gente pasando habre y sed ! ! ?? ?? ?? ?? DESPUES QUE PASAN EL VIDEO REPARTE LOS SUMINISTROS ESA MISMA NOCHE CUANDO SUPUESTAMENTE LOS ESTABA GUARDANDO PAL OTRO DIA ?? ?? ?? ?? ?? ?? Narmito Ortiz CHARLATANahhhh bloqueenme este tambie . l .\n",
      "1979604895658060_1988090978142785\tMañana van a Corozal ! Tienes que ver el vídeo ! ! #uni1porpuertorico\n",
      "1773209126315380_1774270739542552\tAlguien sabe de Juan Antonio ( Tony ) Colon ?\n",
      "1988415758095382_1988888744714750\tEsta es parte de mi familia mi hermano Emanuel Rojas ( nolito / nolo ) mi hermana Liz y mi madre Asuncion Hernandez ( sunty ) viven en el Barrio San Antonio sector las arenas callejon de los Medina si alguien save oh a hablado con alg 0 de ellos por favor dejenmelo saver . Les estare eternamente agradecida\n",
      "132392547395104_138663026768056\tSI ESTAS EN VEGA ALTA Y TIENES NESESIDAD DE ALIMENTOS LLAMA A MINISTERIO DE AYUDA AL NECESITADO 787-737-0271\n",
      "1909452959306518_1909774142607733\tAlguien tiene información de Río Abajo y Vista Monte . Por favor .\n",
      "132963337341347_135418900429124\tAlguien ha tenido suerte consiguiendo vuelos para la semana entrante ? De SJ a Miami , NY , etc .\n",
      "127217134598253_129891014330865\tNo se nada del mi familia del helechal mi mama es esposa del Dr cacas del Barranquitas si alguien sabe del porfavor contact me please\n",
      "132022090761950_132607637370062\tMe gustaría saber si mi tío Toño Toro , y todos mis primos Toros están bien ellos la mayoría son de palmarejos\n"
     ]
    }
   ],
   "source": [
    "# need to rewrite the annotated data first because of mishaps the first time around\n",
    "# annotate_cleaner_1 = re.compile('(\\[\\[[^\\]]\\]\\])')\n",
    "annotate_cleaner_1 = re.compile('(\\[\\[)|(\\]\\])')\n",
    "annotate_cleaner_2 = re.compile('\\{[^}]+\\}')\n",
    "clean_annotations = lambda x: annotate_cleaner_1.sub('', annotate_cleaner_2.sub('', x))\n",
    "sample_annotations_clean = map(clean_annotations, sample_annotations)\n",
    "print('\\n'.join(sample_annotations_clean[:10]))\n",
    "# write to file\n",
    "sample_file_name = '../../data/facebook-maria/all_group_sample_statuses.txt'\n",
    "with codecs.open(sample_file_name, 'w', encoding='utf-8') as sample_file:\n",
    "    sample_file.write('\\n'.join(sample_annotations_clean))"
   ]
  },
  {
   "cell_type": "markdown",
   "metadata": {},
   "source": [
    "NER first."
   ]
  },
  {
   "cell_type": "code",
   "execution_count": 156,
   "metadata": {},
   "outputs": [
    {
     "name": "stdout",
     "output_type": "stream",
     "text": [
      "Invoked on Fri Dec 01 12:35:08 EST 2017 with arguments: -loadClassifier classifiers/spanish.ancora.distsim.s512.crf.ser.gz -textFile ../../../data/facebook-maria/all_group_sample_statuses.txt\n",
      "loadClassifier=classifiers/spanish.ancora.distsim.s512.crf.ser.gz\n",
      "textFile=../../../data/facebook-maria/all_group_sample_statuses.txt\n",
      "Loading classifier from classifiers/spanish.ancora.distsim.s512.crf.ser.gz ... done [1.2 sec].\n",
      "Untokenizable: ️ (U+FE0F, decimal: 65039)\n",
      "CRFClassifier tagged 20978 words in 1787 documents at 7868.72 words per second.\n"
     ]
    }
   ],
   "source": [
    "!bash tag_spanish_txt.sh ../../data/facebook-maria/all_group_sample_statuses.txt"
   ]
  },
  {
   "cell_type": "code",
   "execution_count": 228,
   "metadata": {},
   "outputs": [],
   "source": [
    "ner_file = '../../data/facebook-maria/all_group_sample_statuses_ner.txt'\n",
    "ner_annotation_lines = [l.strip() for l in codecs.open(ner_file, 'r', encoding='utf-8')]"
   ]
  },
  {
   "cell_type": "code",
   "execution_count": 229,
   "metadata": {},
   "outputs": [
    {
     "name": "stdout",
     "output_type": "stream",
     "text": [
      "processed 0 lines\n"
     ]
    }
   ],
   "source": [
    "# fix annotation text!!\n",
    "from data_helpers import clean_tagged_txt\n",
    "delim = '[0-9]{10,}_[0-9]{10,}'\n",
    "ner_annotation_lines = clean_tagged_txt(ner_annotation_lines, delim=delim)"
   ]
  },
  {
   "cell_type": "code",
   "execution_count": 233,
   "metadata": {},
   "outputs": [
    {
     "name": "stdout",
     "output_type": "stream",
     "text": [
      "[[], [u'Narmito Representante', u'VIP', u'Narmito Ortiz CHARLATANahhhh'], [u'Corozal'], [u'Juan Antonio -LRB- Tony -RRB- Colon'], [u'Emanuel Rojas -LRB- nolito / nolo -RRB-', u'Liz', u'Asuncion Hernandez', u'Barrio San Antonio', u'Medina'], [u'VEGA'], [u'R\\xedo Abajo', u'Vista Monte'], [u'SJ', u'Miami', u'NY'], [u'Barranquitas'], [u'To\\xf1o Toro', u'Toros'], [u'Dios bendigas'], [u'Raul A', u'Ortiz -LRB- Goyito', u'Funeraria Rivera', u'Margarita Vazquez', u'Marliz Torres', u'Juan R', u'V\\xe1zquez', u'Rabanal', u'Carmelo Rolon Jimenez', u'PR'], [u'Qien'], [u'FB', u'Estado'], [u'Porfin', u'Dios', u'PR'], [u'Viejo San Juan'], [u'Puerto Rico', u'Mar\\xeda', u'Puerto Rico', u'Sali', u'Puerto Rico', u'Facebook'], [u'Palo Hincado', u'Nelson'], [u'fucking', u'Porq'], [u'Buzon', u'Davila']]\n"
     ]
    }
   ],
   "source": [
    "from data_helpers import collect_entities_from_txt\n",
    "ner_annotations = map(collect_entities_from_txt, ner_annotation_lines)\n",
    "# replace underscore with space!!\n",
    "ner_annotations = map(lambda x: map(lambda y: y.replace('_', ' '), x), ner_annotations)\n",
    "print(ner_annotations[:20])"
   ]
  },
  {
   "cell_type": "markdown",
   "metadata": {},
   "source": [
    "Lexicon second."
   ]
  },
  {
   "cell_type": "code",
   "execution_count": 179,
   "metadata": {},
   "outputs": [
    {
     "name": "stdout",
     "output_type": "stream",
     "text": [
      "486819048360070_495834210791887\tLas ayudas donde estan parando ?\n",
      "1773209126315380_1798559843780308\t@Clandestino te agararon de toalla pa limpiarle el nombre al otro ... Recuerda que tu vives del pueblo y lo que hiso el señor Narmito Representante desde la luna se notava que era para su uso personal VIP ! @Clandestino consejo no metas tus manos al fuego por algien recuerda que tu eres lo q eres gracias al pueblo despues de 3 dias da cara 2 verciones de amistad 1 video y la gente pasando habre y sed ! ! ?? ?? ?? ?? DESPUES QUE PASAN EL VIDEO REPARTE LOS SUMINISTROS ESA MISMA NOCHE CUANDO SUPUESTAMENTE LOS ESTABA GUARDANDO PAL OTRO DIA ?? ?? ?? ?? ?? ?? Narmito Ortiz CHARLATANahhhh bloqueenme este tambie . l .\n",
      "1979604895658060_1988090978142785\tMañana van a Corozal ! Tienes que ver el vídeo ! ! #uni1porpuertorico\n",
      "1773209126315380_1774270739542552\tAlguien sabe de Juan Antonio ( Tony ) Colon ?\n",
      "1988415758095382_1988888744714750\tEsta es parte de mi familia mi hermano Emanuel Rojas ( nolito / nolo ) mi hermana Liz y mi madre Asuncion Hernandez ( sunty ) viven en el Barrio San Antonio sector las arenas callejon de los Medina si alguien save oh a hablado con alg 0 de ellos por favor dejenmelo saver . Les estare eternamente agradecida\n",
      "132392547395104_138663026768056\tSI ESTAS EN VEGA ALTA Y TIENES NESESIDAD DE ALIMENTOS LLAMA A MINISTERIO DE AYUDA AL NECESITADO 787-737-0271\n",
      "1909452959306518_1909774142607733\tAlguien tiene información de Río Abajo y Vista Monte . Por favor .\n",
      "132963337341347_135418900429124\tAlguien ha tenido suerte consiguiendo vuelos para la semana entrante ? De SJ a Miami , NY , etc .\n",
      "127217134598253_129891014330865\tNo se nada del mi familia del helechal mi mama es esposa del Dr cacas del Barranquitas si alguien sabe del porfavor contact me please\n",
      "132022090761950_132607637370062\tMe gustaría saber si mi tío Toño Toro , y todos mis primos Toros están bien ellos la mayoría son de palmarejos\n",
      "[]\n",
      "[]\n",
      "[u'corozal']\n",
      "[]\n",
      "[u'arenas', u'callejon', u'las arenas']\n",
      "[u'vega alta']\n",
      "[u'r\\xedo', u'r\\xedo abajo', u'vista monte']\n",
      "[]\n",
      "[u'barranquitas', u'helechal']\n",
      "[u't\\xedo']\n"
     ]
    }
   ],
   "source": [
    "import data_helpers\n",
    "reload(data_helpers)\n",
    "from data_helpers import collect_lexicon_toponyms_from_txt\n",
    "sample_file_name = '../../data/facebook-maria/all_group_sample_statuses.txt'\n",
    "sample_statuses = [l.strip() for l in codecs.open(sample_file_name, 'r', encoding='utf-8')]\n",
    "lexicon_file = '../../data/geo_files/toponym_lexicon_filtered.txt'\n",
    "lexicon = [l.strip() for l in codecs.open(lexicon_file, 'r', encoding='utf-8')]\n",
    "lexicon_annotations = collect_lexicon_toponyms_from_txt(sample_statuses, lexicon)\n",
    "print('\\n'.join(sample_statuses[:10]))\n",
    "print('\\n'.join(map(str, lexicon_annotations[:10])))"
   ]
  },
  {
   "cell_type": "markdown",
   "metadata": {},
   "source": [
    "## Compute precision/recall\n",
    "Remember! This is just for toponym extraction, not for resolution."
   ]
  },
  {
   "cell_type": "code",
   "execution_count": 315,
   "metadata": {},
   "outputs": [],
   "source": [
    "# known\n",
    "sample_annotation_mentions_known = map(lambda x: filter(lambda y: y[1]!='UNK', x), sample_annotation_mentions)\n",
    "# topos only\n",
    "sample_annotation_mentions_topo = map(lambda x: filter(lambda y: y[1]=='TOPO', x), sample_annotation_mentions)"
   ]
  },
  {
   "cell_type": "code",
   "execution_count": 316,
   "metadata": {},
   "outputs": [],
   "source": [
    "gold_mentions = map(lambda x: zip(*x)[0] if len(x)>0 else [], sample_annotation_mentions_known)\n",
    "gold_topo_mentions = map(lambda x: zip(*x)[0] if len(x)>0 else [], sample_annotation_mentions_topo)"
   ]
  },
  {
   "cell_type": "code",
   "execution_count": 319,
   "metadata": {},
   "outputs": [
    {
     "name": "stdout",
     "output_type": "stream",
     "text": [
      "[[], [], (u'Corozal',), [], (u'San Antonio', u'callejon', u'Medina'), (u'VEGA ALTA',), (u'Vista Monte',), [], (u'Barranquitas',), (u'palmarejos',)]\n",
      "[[], [], [], [], (u'callejon', u'Medina'), [], (u'Vista Monte',), [], [], []]\n"
     ]
    }
   ],
   "source": [
    "print(gold_mentions[:10])\n",
    "print(gold_topo_mentions[:10])"
   ]
  },
  {
   "cell_type": "markdown",
   "metadata": {},
   "source": [
    "## All locations"
   ]
  },
  {
   "cell_type": "markdown",
   "metadata": {},
   "source": [
    "Let's evaluate NER and the lexicon on all locations first, then sub-city locations."
   ]
  },
  {
   "cell_type": "markdown",
   "metadata": {},
   "source": [
    "### NER performance"
   ]
  },
  {
   "cell_type": "code",
   "execution_count": 306,
   "metadata": {},
   "outputs": [],
   "source": [
    "import data_helpers\n",
    "reload(data_helpers)\n",
    "from data_helpers import test_precision_recall\n",
    "ner_false, ner_missed, ner_precision, ner_recall = test_precision_recall(ner_annotations, gold_mentions)"
   ]
  },
  {
   "cell_type": "code",
   "execution_count": 307,
   "metadata": {},
   "outputs": [
    {
     "name": "stdout",
     "output_type": "stream",
     "text": [
      "NER precision=0.173, recall=0.457\n"
     ]
    }
   ],
   "source": [
    "print('NER precision=%.3f, recall=%.3f'%(ner_precision, ner_recall))"
   ]
  },
  {
   "cell_type": "markdown",
   "metadata": {},
   "source": [
    "This is pretty bad! Will it help precision if we restrict to location mentions?"
   ]
  },
  {
   "cell_type": "code",
   "execution_count": 308,
   "metadata": {},
   "outputs": [
    {
     "name": "stdout",
     "output_type": "stream",
     "text": [
      "[u'Barrio San Antonio', u'VEGA', u'R\\xedo Abajo', u'Miami', u'Barranquitas', u'Funeraria Rivera', u'Viejo San Juan', u'Puerto Rico', u'Puerto Rico', u'Puerto Rico']\n"
     ]
    }
   ],
   "source": [
    "ner_type_annotations = map(lambda x: collect_entities_from_txt(x, include_type=True), ner_annotation_lines)\n",
    "ner_type_annotations = map(lambda x: map(lambda y: y.replace('_', ' '), x), ner_type_annotations)\n",
    "ner_type_annotations = map(lambda x: map(lambda y: y.split('/'), x), ner_type_annotations)\n",
    "loc_type = 'LUG'\n",
    "ner_loc_annotations = map(lambda x: filter(lambda y: y[1]==loc_type, x), ner_type_annotations)\n",
    "# remove type\n",
    "ner_loc_annotations = map(lambda x: map(lambda y: y[0], x), ner_loc_annotations)\n",
    "ner_loc_annotations_flat = reduce(lambda x,y: x+y, ner_loc_annotations)\n",
    "print(ner_loc_annotations_flat[:10])"
   ]
  },
  {
   "cell_type": "markdown",
   "metadata": {},
   "source": [
    "These locations make sense! So are they not showing up in the gold annotations or what?"
   ]
  },
  {
   "cell_type": "code",
   "execution_count": 309,
   "metadata": {},
   "outputs": [
    {
     "name": "stdout",
     "output_type": "stream",
     "text": [
      "LOC NER precision=0.434, recall=0.273\n"
     ]
    }
   ],
   "source": [
    "ner_false, ner_missed, ner_precision, ner_recall = test_precision_recall(ner_loc_annotations, gold_mentions)\n",
    "print('LOC NER precision=%.3f, recall=%.3f'%(ner_precision, ner_recall))"
   ]
  },
  {
   "cell_type": "markdown",
   "metadata": {},
   "source": [
    "Precision improved a lot but recall fell. What are we missing?"
   ]
  },
  {
   "cell_type": "code",
   "execution_count": 310,
   "metadata": {},
   "outputs": [
    {
     "name": "stdout",
     "output_type": "stream",
     "text": [
      "[u'Corozal', u'Medina', u'San Antonio', u'callejon', u'VEGA ALTA', u'Vista Monte', u'palmarejos', u'Rabanal', u'corozal', u'guarico']\n",
      "[u'Barrio San Antonio', u'VEGA', u'R\\xedo Abajo', u'Miami', u'Funeraria Rivera', u'Puerto Rico', u'Puerto Rico', u'Puerto Rico', u'Buzon', u'Para\\xedso']\n"
     ]
    }
   ],
   "source": [
    "ner_missed_flat = reduce(lambda x,y: x+y, ner_missed)\n",
    "ner_false_flat = reduce(lambda x,y: x+y, ner_false)\n",
    "print(ner_missed_flat[:10])\n",
    "print(ner_false_flat[:10])"
   ]
  },
  {
   "cell_type": "code",
   "execution_count": 311,
   "metadata": {},
   "outputs": [
    {
     "name": "stdout",
     "output_type": "stream",
     "text": [
      "[(u'Urbanizaci\\xf3n Manuel J Rivera', u'Coamo'), (u'urbanizaci\\xf3n El Para\\xedso', u'Ponce'), (u'carr 104', u'Mayaquez'), (u'Calle Victoria', u'El Dorado'), [], (u'Yabucoa',), (u'Cerro Gordo', u'Dorado'), [], (u'Guayama',), [], (u'Yabucoa',), [], (u'Quebradillas',), (u'Santa Ana', u'Arriba'), (u'Las Parcelas', u'Carmen'), [], (u'Guayama', u'Guayama', u'Guayama'), (u'Olimpo',), (u'Palos Blanco',), (u'VEGA ALTA',)]\n",
      "[[u'Coamo', u'Urbanizaci\\xf3n Manuel J Rivera'], [u'urbanizaci\\xf3n El Para\\xedso'], [u'Mayaquez', u'carr 104'], [u'Calle Victoria', u'El Dorado'], [], [u'Yabucoa'], [u'Cerro Gordo', u'Dorado'], [], [], [], [], [], [], [u'Arriba', u'Santa Ana'], [u'Carmen', u'Las Parcelas'], [], [], [], [u'Palos Blanco'], [u'VEGA ALTA']]\n",
      "[[], [u'Para\\xedso'], [], [u'Calle Victoria K11'], [], [], [], [], [u'Florida'], [], [u'Boston Massachusetts'], [], [u'ZELLOWalkie Talkie'], [], [u'Parcelas Carmen'], [], [], [], [u'Barrio Palos Blanco Serca'], []]\n"
     ]
    }
   ],
   "source": [
    "print(gold_mentions[20:40])\n",
    "print(ner_missed[20:40])\n",
    "print(ner_false[20:40])"
   ]
  },
  {
   "cell_type": "markdown",
   "metadata": {},
   "source": [
    "False negatives are fine-grained entities:\n",
    "- `callejon`\n",
    "- `Vista Monte`\n",
    "- `carr 104`\n",
    "\n",
    "False positives are coarse-grained entities:\n",
    "- `Puerto Rico`\n",
    "- `Florida`"
   ]
  },
  {
   "cell_type": "markdown",
   "metadata": {},
   "source": [
    "### Lexicon performance"
   ]
  },
  {
   "cell_type": "code",
   "execution_count": 312,
   "metadata": {},
   "outputs": [],
   "source": [
    "# first convert all gold mentions to lowercase\n",
    "gold_mentions_lower = map(lambda x: map(lambda y: y.lower(), x), gold_mentions)\n",
    "lex_false, lex_missed, lex_precision, lex_recall = test_precision_recall(lexicon_annotations, gold_mentions_lower)"
   ]
  },
  {
   "cell_type": "code",
   "execution_count": 313,
   "metadata": {},
   "outputs": [
    {
     "name": "stdout",
     "output_type": "stream",
     "text": [
      "lexicon precision=0.499, recall=0.540\n"
     ]
    }
   ],
   "source": [
    "print('lexicon precision=%.3f, recall=%.3f'%(lex_precision, lex_recall))"
   ]
  },
  {
   "cell_type": "markdown",
   "metadata": {},
   "source": [
    "Woah!! This is so good!! Why did we ever do anything besides this??"
   ]
  },
  {
   "cell_type": "code",
   "execution_count": 314,
   "metadata": {},
   "outputs": [
    {
     "name": "stdout",
     "output_type": "stream",
     "text": [
      "[[u'urbanizaci\\xf3n manuel j rivera', u'coamo'], [u'urbanizaci\\xf3n el para\\xedso', u'ponce'], [u'carr 104', u'mayaquez'], [u'calle victoria', u'el dorado'], [], [u'yabucoa'], [u'cerro gordo', u'dorado'], [], [u'guayama'], [], [u'yabucoa'], [], [u'quebradillas'], [u'santa ana', u'arriba'], [u'las parcelas', u'carmen'], [], [u'guayama', u'guayama', u'guayama'], [u'olimpo'], [u'palos blanco'], [u'vega alta']]\n",
      "[[u'urbanizaci\\xf3n manuel j rivera'], [u'ponce', u'urbanizaci\\xf3n el para\\xedso'], [u'carr 104', u'mayaquez'], [], [], [], [], [], [], [], [], [], [], [u'arriba'], [u'carmen', u'las parcelas'], [], [u'guayama', u'guayama'], [], [u'palos blanco'], []]\n",
      "[[], [u'para\\xedso'], [u'suarez'], [u'dorado', u'la princesa'], [], [], [], [], [u'florida'], [], [u'camino nuevo'], [], [], [u'capilla', u'capilla de santa ana'], [], [], [], [], [], []]\n"
     ]
    }
   ],
   "source": [
    "print(gold_mentions_lower[20:40])\n",
    "print(lex_missed[20:40])\n",
    "print(lex_false[20:40])"
   ]
  },
  {
   "cell_type": "markdown",
   "metadata": {},
   "source": [
    "False negatives are respellings:\n",
    "\n",
    "- `carr 104`\n",
    "- `mayaguez`\n",
    "\n",
    "False positives are overlap errors and irrelevant toponyms:\n",
    "- `dorado` (extracted from `el dorado`)\n",
    "- `la princesa`"
   ]
  },
  {
   "cell_type": "markdown",
   "metadata": {},
   "source": [
    "## Toponyms only"
   ]
  },
  {
   "cell_type": "code",
   "execution_count": 320,
   "metadata": {},
   "outputs": [
    {
     "name": "stdout",
     "output_type": "stream",
     "text": [
      "TOPO NER precision=0.051, recall=0.101\n",
      "TOPO lex precision=0.143, recall=0.472\n"
     ]
    }
   ],
   "source": [
    "ner_false, ner_missed, ner_precision, ner_recall = test_precision_recall(ner_loc_annotations, gold_topo_mentions)\n",
    "print('TOPO NER precision=%.3f, recall=%.3f'%(ner_precision, ner_recall))\n",
    "gold_topo_mentions_lower = map(lambda x: map(lambda y: y.lower(), x), gold_topo_mentions)\n",
    "lex_false, lex_missed, lex_precision, lex_recall = test_precision_recall(lexicon_annotations, gold_topo_mentions_lower)\n",
    "print('TOPO lex precision=%.3f, recall=%.3f'%(lex_precision, lex_recall))"
   ]
  },
  {
   "cell_type": "markdown",
   "metadata": {},
   "source": [
    "### Combined performance\n",
    "Can we combine the NER and lexicon annotations into a super-group?\n",
    "\n",
    "This will require ~indexing~ the data, one word at a time."
   ]
  },
  {
   "cell_type": "code",
   "execution_count": 246,
   "metadata": {},
   "outputs": [],
   "source": [
    "# get rid of per-line indices\n",
    "index_matcher = re.compile('[0-9]{10,}_[0-9]{10,}')\n",
    "sample_annotate_file_name = '../../data/facebook-maria/all_group_sample_statuses_annotated.txt'\n",
    "sample_annotations = [l.strip() for l in codecs.open(sample_annotate_file_name, 'r', encoding='utf-8')]\n",
    "sample_annotations = map(lambda x: index_matcher.sub('', x).strip(), sample_annotations)"
   ]
  },
  {
   "cell_type": "code",
   "execution_count": 266,
   "metadata": {},
   "outputs": [],
   "source": [
    "a = 'blah,blah'\n",
    "a_split = a.split(',')"
   ]
  },
  {
   "cell_type": "code",
   "execution_count": 267,
   "metadata": {},
   "outputs": [
    {
     "name": "stdout",
     "output_type": "stream",
     "text": [
      "['blah', 'x', 'blah']\n"
     ]
    }
   ],
   "source": [
    "a_split.insert(1, 'x')\n",
    "print(a_split)"
   ]
  },
  {
   "cell_type": "code",
   "execution_count": 282,
   "metadata": {},
   "outputs": [],
   "source": [
    "def index_txt(txt):\n",
    "    \"\"\"\n",
    "    Add index after each token.\n",
    "    \"\"\"\n",
    "    txt_indexed = []\n",
    "    end_matcher = re.compile('[^\\]]{[A-Z]+}')\n",
    "    punct_matcher = re.compile('\\.\\.+')\n",
    "    txt_split = txt.split(' ')\n",
    "    ctr = 0\n",
    "    for t in txt_split:\n",
    "        # put index after word, not phrase\n",
    "        if(t != ''):\n",
    "            if(punct_matcher.match(t)):\n",
    "                t_split = t.split('.')\n",
    "                for t_ in t_split:\n",
    "                    txt_indexed.append('%s_%d'%(t_, ctr))\n",
    "                    ctr += 1\n",
    "            else:\n",
    "                if(t.endswith('}')):\n",
    "                    t_1, t_2 = t.split(']]')\n",
    "                    t_1 = '%s_%d'%(t_1, ctr)\n",
    "                    t = '%s]]%s'%(t_1, t_2)\n",
    "                else:\n",
    "                    t = '%s_%d'%(t, ctr)\n",
    "                txt_indexed.append(t)\n",
    "                ctr += 1\n",
    "    txt_indexed = ' '.join(txt_indexed)\n",
    "    return txt_indexed"
   ]
  },
  {
   "cell_type": "code",
   "execution_count": 257,
   "metadata": {},
   "outputs": [
    {
     "name": "stdout",
     "output_type": "stream",
     "text": [
      "(u'vaba', u'{UNK}')\n",
      "Dios_0 bendigas_1 si_2 alguien_3 saber_4 de_5 brenda_6 marie_7 adorno_8 de_9 [[vega_10 vaba_11]]{UNK} ley_12 que_13 diga_14 algo_15 no_16 sabemos_17 nada_18 de_19 ella_20 por_21 favor_22\n"
     ]
    }
   ],
   "source": [
    "test_txt = sample_annotations[10]\n",
    "print(index_txt(test_txt))"
   ]
  },
  {
   "cell_type": "code",
   "execution_count": null,
   "metadata": {},
   "outputs": [],
   "source": [
    "# preprocessing steps to make sure text is consistent between original and NER tagged\n",
    "'..' '.'\n",
    "'!!' '!'\n",
    "'`' ''\n",
    "'<URL>' 'URL'\n",
    "':' ' : '\n",
    "'#' ' # '\n",
    "'-RCB-' ''\n",
    "'-' ' - '"
   ]
  },
  {
   "cell_type": "code",
   "execution_count": 290,
   "metadata": {},
   "outputs": [
    {
     "name": "stdout",
     "output_type": "stream",
     "text": [
      "error at index 11 with len 122 and 125\n",
      "Por_0 favor_1 miren_2 bien_3 _4 _5 _6 _7 Mi_8 hermano_9 Raul_10 A_11 ._12 Torres_13 Ortiz_14 (_15 Goyito_16 que_17 trabajaba_18 en_19 la_20 [[Funeraria_21 Rivera_22]]{UNK} )_23 y_24 su_25 esposa_26 Margarita_27 Vazquez_28 _29 _30 _31 Mi_32 sobrina_33 Marliz_34 Torres_35 y_36 su_37 esposo_38 Juan_39 R_40 ._41 Vázquez_42 (_43 ambos_44 trabajan_45 en_46 la_47 farmacia_48 [[Rabanal_49]]{CITY} y_50 mi_51 tio_52 Carmelo_53 Rolon_54 Jimenez_55 _56 _57 _58 _59 Si_60 los_61 han_62 visto_63 por_64 favor_65 dejemen_66 saber_67 algo_68 !_69 !_70 !_71 ??_72 ??_73 ??_74 ??_75 ??_76 ??_77 ??_78 ??_79 ??_80 ??_81 ??_82 ??_83 ??_84 ??_85 ??_86 ??_87 Here_88 is_89 my_90 inmediate_91 family_92 in_93 PR_94 _95 _96 _97 My_98 brother_99 and_100 his_101 wife_102 ,_103 my_104 niece_105 and_106 her_107 husband_108 and_109 my_110 uncle_111 _112 _113 _114 If_115 you_116 have_117 seen_118 them_119 please_120 let_121 me_122 know_123 ??_124 ??_125 ??_126 ??_127 ??_128 ??_129 ??_130 ??_131 ??_132 ??_133\n",
      "Por/O_0 favor/O_1 miren/O_2 bien/O_3 _4 _5 _6 /O_7 Mi/O_8 hermano/O_9 Raul/ORG_10 A/ORG_11 ./O_12 Torres/O_13 Ortiz/PERS_14 -LRB-/PERS_15 Goyito/PERS_16 que/O_17 trabajaba/O_18 en/O_19 la/O_20 Funeraria/LUG_21 Rivera/LUG_22 -RRB-/O_23 y/O_24 su/O_25 esposa/O_26 Margarita/PERS_27 Vazquez/PERS_28 ./O_29 ./O_30 Mi/O_31 sobrina/O_32 Marliz/PERS_33 Torres/PERS_34 y/O_35 su/O_36 esposo/O_37 Juan/PERS_38 R/PERS_39 ./O_40 Vázquez/PERS_41 -LRB-/O_42 ambos/O_43 trabajan/O_44 en/O_45 la/O_46 farmacia/O_47 Rabanal/PERS_48 y/O_49 mi/O_50 tio/O_51 Carmelo/PERS_52 Rolon/PERS_53 Jimenez/PERS_54 _55 _56 _57 /O_58 Si/O_59 los/O_60 han/O_61 visto/O_62 por/O_63 favor/O_64 dejemen/O_65 saber/O_66 algo/O_67 !/O_68 !/O_69 !/O_70 ??/O_71 ??/O_72 ??/O_73 ??/O_74 ??/O_75 ??/O_76 ??/O_77 ??/O_78 ??/O_79 ??/O_80 ??/O_81 ??/O_82 ??/O_83 ??/O_84 ??/O_85 ??/O_86 Here/O_87 is/O_88 my/O_89 inmediate/O_90 family/O_91 in/O_92 PR/ORG_93 ./O_94 ./O_95 My/O_96 brother/O_97 and/O_98 his/O_99 wife/O_100 ,/O_101 my/O_102 niece/O_103 and/O_104 her/O_105 husband/O_106 and/O_107 my/O_108 uncle/O_109 ./O_110 ./O_111 If/O_112 you/O_113 have/O_114 seen/O_115 them/O_116 please/O_117 let/O_118 me/O_119 know/O_120 ??/O_121 ??/O_122 ??/O_123 ??/O_124 ??/O_125 ??/O_126 ??/O_127 ??/O_128 ??/O_129 ??/O_130\n",
      "error at index 13 with len 39 and 40\n",
      "Ya_0 Hay_1 gente_2 de_3 ??_4 ??_5 ??_6 ??_7 conectada_8 en_9 FB_10 vamos_11 a_12 dejarle_13 saber_14 desde_15 donde_16 Los_17 apoyamos_18 ✏_19 solo_20 el_21 Estado_22 o_23 país_24 ??_25 ??_26 _27 _28 _29 ?_30 ?_31 ?_32 ??_33 ??_34 ??_35 ??_36 ??_37 ??_38 ??_39 ??_40\n",
      "Ya/O_0 Hay/O_1 gente/O_2 de/O_3 ??/O_4 ??/O_5 ??/O_6 ??/O_7 conectada/O_8 en/O_9 FB/ORG_10 vamos/O_11 a/O_12 dejarle/O_13 saber/O_14 desde/O_15 donde/O_16 Los/O_17 apoyamos/O_18 ✏/O_19 solo/O_20 el/O_21 Estado/ORG_22 o/O_23 país/O_24 ??/O_25 ??/O_26 ./O_27 ./O_28 ?/O_29 ?/O_30 ?/O_31 ??/O_32 ??/O_33 ??/O_34 ??/O_35 ??/O_36 ??/O_37 ??/O_38 ??/O_39\n",
      "error at index 19 with len 36 and 37\n",
      "Necesito_0 saber_1 como_2 estan_3 mis_4 padres_5 que_6 viven_7 en_8 [[pueblo_9 nuevo_10]]{TOPO} en_11 la_12 [[calle_13 3_14]]{TOPO} Buzon_15 #20_16 Mi_17 mami_18 se_19 llama_20 luzmaria_21 Davila_22 y_23 mi_24 papi_25 ismael_26 colon_27 estoy_28 muy_29 desperada_30 de_31 saber_32 de_33 mis_34 viejos_35\n",
      "Necesito/O_0 saber/O_1 como/O_2 estan/O_3 mis/O_4 padres/O_5 que/O_6 viven/O_7 en/O_8 pueblo/O_9 nuevo/O_10 en/O_11 la/O_12 calle/O_13 3/O_14 Buzon/LUG_15 #/O_16 20/O_17 Mi/O_18 mami/O_19 se/O_20 llama/O_21 luzmaria/O_22 Davila/PERS_23 y/O_24 mi/O_25 papi/O_26 ismael/O_27 colon/O_28 estoy/O_29 muy/O_30 desperada/O_31 de/O_32 saber/O_33 de/O_34 mis/O_35 viejos/O_36\n",
      "error at index 20 with len 15 and 16\n",
      "Informacion_0 [[Urbanización_1 Manuel_2 J_3 Rivera_4]]{TOPO} #99_5 [[Coamo_6]]{CITY} -_7 mi_8 papi_9 Anibal_10 (_11 nivo_12 )_13 Rodriguez_14\n",
      "Informacion/OTROS_0 Urbanización/O_1 Manuel/PERS_2 J/PERS_3 Rivera/PERS_4 #/O_5 99/O_6 Coamo/OTROS_7 -/O_8 mi/O_9 papi/ORG_10 Anibal/ORG_11 -LRB-/O_12 nivo/O_13 -RRB-/O_14 Rodriguez/PERS_15\n",
      "error at index 22 with len 45 and 44\n",
      "Este_0 es_1 mi_2 hermano_3 Eliezer_4 Suarez_5 ._6 Vive_7 en_8 739_9 [[carr_10 104_11]]{TOPO} ,_12 [[Mayaquez_13]]{CITY} PR_14 ._15 No_16 sabido_17 nada_18 de_19 él_20 ._21 Por_22 favor_23 si_24 saben_25 algo_26 comuníquese_27 conmigo_28 ._29 347_30 2260067_31 ._32 Muchas_33 Gracias_34 y_35 que_36 Dios_37 todo_38 poder_39 so_40 los_41 bendiga_42 muchísimo_43 ._44\n",
      "Este/O_0 es/O_1 mi/O_2 hermano/O_3 Eliezer/PERS_4 Suarez/PERS_5 ./O_6 Vive/O_7 en/O_8 739/O_9 carr/O_10 104/O_11 ,/O_12 Mayaquez/ORG_13 PR/ORG_14 ./O_15 No/O_16 sabido/O_17 nada/O_18 de/O_19 él/O_20 ./O_21 Por/O_22 favor/O_23 si/O_24 saben/O_25 algo/O_26 comuníquese/O_27 conmigo/O_28 ./O_29 347 2260067/O_30 ./O_31 Muchas/O_32 Gracias/OTROS_33 y/O_34 que/O_35 Dios/PERS_36 todo/O_37 poder/O_38 so/O_39 los/O_40 bendiga/O_41 muchísimo/O_42 ./O_43\n",
      "error at index 33 with len 52 and 53\n",
      "Por_0 favor_1 alguna_2 información_3 de_4 [[Santa_5 Ana_6]]{TOPO} para_7 la_8 capilla_9 de_10 Santa_11 Ana_12 [[Arriba_13]]{CITY} no_14 sabemos_15 nada_16 de_17 mi_18 suegro_19 su_20 mama_21 y_22 esposa_23 el_24 se_25 llama_26 Juan_27 E_28 Morales_29 y_30 Garin_31 ._32 Y_33 si_34 saben_35 alguito_36 de_37 Aníbal_38 Colon_39 déjenme_40 saber_41 por_42 favor_43 necesitamos_44 saber_45 si_46 están_47 bien_48 _49 _50 _51 gracias_52 Bendiciones_53\n",
      "Por/O_0 favor/O_1 alguna/O_2 información/O_3 de/O_4 Santa/PERS_5 Ana/PERS_6 para/O_7 la/O_8 capilla/O_9 de/O_10 Santa/PERS_11 Ana/PERS_12 Arriba/PERS_13 no/O_14 sabemos/O_15 nada/O_16 de/O_17 mi/O_18 suegro/O_19 su/O_20 mama/O_21 y/O_22 esposa/O_23 el/O_24 se/O_25 llama/O_26 Juan/PERS_27 E/PERS_28 Morales/PERS_29 y/O_30 Garin/PERS_31 ./O_32 Y/O_33 si/O_34 saben/O_35 alguito/O_36 de/O_37 Aníbal/PERS_38 Colon/PERS_39 déjenme/O_40 saber/O_41 por/O_42 favor/O_43 necesitamos/O_44 saber/O_45 si/O_46 están/O_47 bien/O_48 ./O_49 ./O_50 gracias/O_51 Bendiciones/PERS_52\n",
      "error at index 36 with len 199 and 200\n",
      "Ya_0 estoy_1 q_2 se_3 me_4 sale_5 lo_6 de_7 boricua_8 pa_9 fuera_10 donde_11 rayos_12 se_13 encuentran_14 los_15 líderes_16 de_17 las_18 agencias_19 en_20 [[Guayama_21]]{CITY} q_22 todavía_23 hay_24 lugares_25 q_26 no_27 les_28 han_29 llevado_30 ni_31 agua_32 y_33 no_34 lo_35 digo_36 yo_37 lo_38 dice_39 la_40 gente_41 q_42 está_43 pasando_44 sed_45 y_46 hambre_47 x_48 q_49 hay_50 personas_51 q_52 todavía_53 no_54 han_55 recibido_56 nada_57 en_58 muchos_59 barrios_60 en_61 [[Guayama_62]]{CITY} se_63 alcalde_64 y_65 representantes_66 del_67 distrito_68 30_69 no_70 se_71 trata_72 de_73 política_74 es_75 compromiso_76 con_77 el_78 pueblo_79 de_80 [[Guayama_81]]{CITY} q_82 en_83 estos_84 momentos_85 necesita_86 ._87 Si_88 cubriera_89 sector_90 x_91 sector_92 es_93 más_94 fácil_95 q_96 llevando_97 a_98 alg_99 0s_100 sitios_101 y_102 otros_103 no_104 x_105 q_106 todos_107 necesitan_108 x_109 igual_110 x_111 q_112 todos_113 están_114 monta_115 1_116 en_117 el_118 mismo_119 barco_120 ,_121 niños_122 ,_123 envejecientes_124 ,_125 mujeres_126 embarazadas_127 gente_128 q_129 esta_130 cansada_131 de_132 buscar_133 ayudas_134 gastando_135 el_136 poco_137 dinero_138 q_139 les_140 queda_141 x_142 q_143 no_144 todos_145 viven_146 en_147 el_148 pueblo_149 ni_150 al_151 lado_152 de_153 los_154 centros_155 y_156 sin_157 comunicación_158 menos_159 se_160 enteran_161 ni_162 ricos_163 ,_164 pobres_165 ,_166 blancos_167 ,_168 negro_169 ,_170 ajustence_171 los_172 pantaloncitos_173 y_174 hagan_175 las_176 cosas_177 en_178 orden_179 y_180 no_181 con_182 el_183 meoyo_184 q_185 tienen.Espero_186 q_187 alguien_188 de_189 las_190 agencias_191 pertinentes_192 lean_193 esto_194 y_195 metan_196 mano_197 _198 _199 _200\n",
      "Ya/O_0 estoy/O_1 q/O_2 se/O_3 me/O_4 sale/O_5 lo/O_6 de/O_7 boricua/O_8 pa/O_9 fuera/O_10 donde/O_11 rayos/O_12 se/O_13 encuentran/O_14 los/O_15 líderes/O_16 de/O_17 las/O_18 agencias/O_19 en/O_20 Guayama/LUG_21 q/O_22 todavía/O_23 hay/O_24 lugares/O_25 q/O_26 no/O_27 les/O_28 han/O_29 llevado/O_30 ni/O_31 agua/O_32 y/O_33 no/O_34 lo/O_35 digo/O_36 yo/O_37 lo/O_38 dice/O_39 la/O_40 gente/O_41 q/O_42 está/O_43 pasando/O_44 sed/O_45 y/O_46 hambre/O_47 x/O_48 q/O_49 hay/O_50 personas/O_51 q/O_52 todavía/O_53 no/O_54 han/O_55 recibido/O_56 nada/O_57 en/O_58 muchos/O_59 barrios/O_60 en/O_61 Guayama/LUG_62 se/O_63 alcalde/O_64 y/O_65 representantes/O_66 del/O_67 distrito/O_68 30/O_69 no/O_70 se/O_71 trata/O_72 de/O_73 política/O_74 es/O_75 compromiso/O_76 con/O_77 el/O_78 pueblo/O_79 de/O_80 Guayama/LUG_81 q/O_82 en/O_83 estos/O_84 momentos/O_85 necesita/O_86 ./O_87 Si/O_88 cubriera/O_89 sector/O_90 x/O_91 sector/O_92 es/O_93 más/O_94 fácil/O_95 q/O_96 llevando/O_97 a/O_98 alg/O_99 0s/O_100 sitios/O_101 y/O_102 otros/O_103 no/O_104 x/O_105 q/O_106 todos/O_107 necesitan/O_108 x/O_109 igual/O_110 x/O_111 q/O_112 todos/O_113 están/O_114 monta/O_115 1/O_116 en/O_117 el/O_118 mismo/O_119 barco/O_120 ,/O_121 niños/O_122 ,/O_123 envejecientes/O_124 ,/O_125 mujeres/O_126 embarazadas/O_127 gente/O_128 q/O_129 esta/O_130 cansada/O_131 de/O_132 buscar/O_133 ayudas/O_134 gastando/O_135 el/O_136 poco/O_137 dinero/O_138 q/O_139 les/O_140 queda/O_141 x/O_142 q/O_143 no/O_144 todos/O_145 viven/O_146 en/O_147 el/O_148 pueblo/O_149 ni/O_150 al/O_151 lado/O_152 de/O_153 los/O_154 centros/O_155 y/O_156 sin/O_157 comunicación/O_158 menos/O_159 se/O_160 enteran/O_161 ni/O_162 ricos/O_163 ,/O_164 pobres/O_165 ,/O_166 blancos/O_167 ,/O_168 negro/O_169 ,/O_170 ajustence/O_171 los/O_172 pantaloncitos/O_173 y/O_174 hagan/O_175 las/O_176 cosas/O_177 en/O_178 orden/O_179 y/O_180 no/O_181 con/O_182 el/O_183 meoyo/O_184 q/O_185 tienen.Espero/O_186 q/O_187 alguien/O_188 de/O_189 las/O_190 agencias/O_191 pertinentes/O_192 lean/O_193 esto/O_194 y/O_195 metan/O_196 mano/O_197 ./O_198 ./O_199\n",
      "error at index 39 with len 25 and 24\n",
      "Gente_0 SI_1 SE_2 COMUNICAN_3 CON_4 ALGUIEN_5 DE_6 [[VEGA_7 ALTA_8]]{CITY} ,_9 déjenos_10 saber_11 porque_12 somos_13 muchos_14 los_15 que_16 obviamente_17 NO_18 tenemos_19 comunicación_20 ._21 Gracias_22 ❤_23 ️_24\n",
      "Gente/O_0 SI/O_1 SE/O_2 COMUNICAN/O_3 CON/O_4 ALGUIEN/O_5 DE/O_6 VEGA/OTROS_7 ALTA/O_8 ,/O_9 déjenos/O_10 saber/O_11 porque/O_12 somos/O_13 muchos/O_14 los/O_15 que/O_16 obviamente/O_17 NO/O_18 tenemos/O_19 comunicación/O_20 ./O_21 Gracias/O_22 ❤/O_23\n",
      "error at index 43 with len 19 and 20\n",
      "MI_0 barrio_1 [[puente_2 blanco_3]]{TOPO} no_4 me_5 quiero_6 imaginar_7 lo_8 que_9 falta_10 para_11 llegar_12 a_13 los_14 altos_15 de_16 arena_17 _18 _19 _20\n",
      "MI/O_0 barrio/O_1 puente/O_2 blanco/O_3 no/O_4 me/O_5 quiero/O_6 imaginar/O_7 lo/O_8 que/O_9 falta/O_10 para/O_11 llegar/O_12 a/O_13 los/O_14 altos/O_15 de/O_16 arena/O_17 ./O_18 ./O_19\n",
      "error at index 44 with len 35 and 36\n",
      "Vicite_0 los_1 Campos_2 llevando_3 ayuda_4 hay_5 personas_6 de_7 la_8 tercera_9 edad_10 que_11 no_12 pueden_13 hir_14 hacer_15 filas_16 para_17 recojer_18 comida_19 o_20 agua_21 ._22 Isidro_23 _24 _25 _26 _27 SOS_28 ._29 Barrio_30 [[Guama_31]]{CITY} _32 _33 _34 Mi_35 madre_36 vive_37 alli_38 ._39\n",
      "Vicite/O_0 los/O_1 Campos/O_2 llevando/O_3 ayuda/O_4 hay/O_5 personas/O_6 de/O_7 la/O_8 tercera/O_9 edad/O_10 que/O_11 no/O_12 pueden/O_13 hir/O_14 hacer/O_15 filas/O_16 para/O_17 recojer/O_18 comida/O_19 o/O_20 agua/O_21 ./O_22 Isidro/O_23 _24 _25 _26 /O_27 SOS/ORG_28 ./O_29 Barrio/LUG_30 Guama/LUG_31 ./O_32 ./O_33 Mi/O_34 madre/O_35 vive/O_36 alli/O_37 ./O_38\n",
      "error at index 60 with len 378 and 380\n",
      "INFORMACION_0 MUY_1 VALIOSA_2 E_3 IMPORTANTE_4 DE_5 COMPARTIR_6 !_7 !_8 #PuertoRico_9 Estos_10 son_11 los_12 alg_13 0s_14 centros_15 donde_16 van_17 a_18 estar_19 llegando_20 la_21 ayuda_22 ,_23 hay_24 muchas_25 provisiones_26 en_27 el_28 aeropuerto_29 listos_30 para_31 la_32 distrubución_33 ._34 Por_35 favor_36 rieguen_37 la_38 voz_39 ya_40 q_41 no_42 hay_43 mucha_44 comunicación_45 ._46 ??_47 ??_48 ??_49 ??_50 ??_51 ??_52 ??_53 ??_54 ??_55 ??_56 ??_57 ??_58 LISTA_59 DE_60 OASIS_61 Oasis_62 Región_63 Metro_64 :_65 [[Bayamón_66]]{CITY} –_67 [[Carretera_68 829_69]]{TOPO} ,_70 entrada_71 a_72 [[Collores_73]]{CITY} ,_74 Urbanización_75 Santa_76 OlayaBayamón_77 –_78 [[Avenida_79 e_80]]{TOPO} ._81 [[Santa_82 Juanita_83]]{TOPO} ,_84 [[Esquina_85 Hostos_86]]{UNK} ,_87 frente_88 Funeraria_89 AsencioBayamón_90 –_91 Al_92 final_93 [[Avenida_94 e_95]]{TOPO} ._96 [[Irlanda_97 Height_98]]{TOPO} ,_99 [[calle_100 Palestina_101]]{TOPO} ,_102 Santa_103 JuanitaTrujillo_104 Alto_105 –_106 Calle_107 José_108 de_109 Diego_110 ,_111 Escorial_112 Shopping_113 Center_114 ,_115 detrás_116 del_117 Home_118 DepotTrujillo_119 Alto_120 –_121 PR_122 843_123 ,_124 Km_125 3.5_126 frente_127 a_128 Urbanización_129 Villas_130 de_131 CarraízoCarolina_132 –_133 Carretera_134 845_135 ,_136 Avenida_137 e_138 ._139 Montecarlo_140 ,_141 frente_142 a_143 Portal_144 de_145 la_146 ReinaGuaynabo_147 –_148 Carretera_149 833_150 ,_151 Int_152 ._153 Centros_154 de_155 Servicios_156 Múltiples_157 GuaraguaoGuaynabo_158 –_159 Expreso_160 852_161 final_162 ,_163 en_164 el_165 estacionamiento_166 La_167 Ceiba_168 ,_169 GuaynaboSan_170 Juan_171 –_172 AvenIda_173 e_174 ._175 Víctor_176 Labiosa_177 ,_178 carretera_179 176_180 frente_181 a_182 St_183 ._184 Marys_185 SchoolSan_186 Juan_187 –_188 Estadio_189 Hiram_190 BithornSan_191 Juan_192 –_193 Marginal_194 Exp_195 ._196 PR_197 52_198 ,_199 Esquina_200 Calle_201 Popy_202 ,_203 frente_204 Urbanización_205 VilanovaSan_206 Juan_207 –_208 Carretera_209 PR_210 842_211 ,_212 Esquina_213 Camino_214 Los_215 Romero_216 ,_217 CaimitoSan_218 Juan_219 –_220 Carretera_221 176_222 ,_223 Esquina_224 Camino_225 Morcelo_226 ,_227 Frente_228 a_229 la_230 iglesiaSan_231 Juan_232 –_233 Centro_234 Comercial_235 Los_236 Flamboyanes_237 ,_238 Avenida_239 e_240 ._241 65_242 Inf_243 ._244 Al_245 lado_246 de_247 la_248 Mazda_249 de_250 SJOasis_251 Región_252 Este_253 :_254 Naguado_255 –_256 PR_257 -_258 950_259 final_260 ,_261 Manejo_262 de_263 EmergenciaLas_264 Piedras_265 –_266 April_267 Gardens_268 ,_269 Las_270 PiedrasLas_271 Piedras_272 –_273 Cancha_274 del_275 Barrio_276 Pasto_277 Seco_278 Carr_279 #31Río_280 Grande_281 –_282 Área_283 Guzmán_284 AbajoRío_285 Grande_286 –_287 Barrio_288 Palmer_289 ,_290 Esquina_291 intersección_292 con_293 el_294 Yunque_295 Carretera_296 199Barranquitas_297 –_298 Manejo_299 de_300 EmergenciaComerío_301 –_302 Zona_303 industrialCidra_304 –_305 Barrio_306 Ceiba_307 Arriba_308 ,_309 PR_310 -_311 782Gurabo_312 –_313 Barrio_314 Jagual_315 ,_316 Carretera_317 PR_318 181_319 interior_320 ,_321 Santa_322 Rita_323 y_324 MasasGurabo_325 -_326 Barrio_327 Rincón_328 frente_329 a_330 la_331 canchaGurabo_332 –_333 Barrio_334 Navarro_335 frente_336 al_337 centro_338 comercial_339 Praderas_340 Carretera_341 #_342 931Caguas_343 –_344 Borinquen_345 Atravesada_346 ,_347 frene_348 a_349 la_350 cancha_351 y_352 Capilla_353 CatólicaCaguas_354 –_355 Barrio_356 Cañaboncito_357 ,_358 frente_359 al_360 Head_361 StartFajardo_362 –_363 Carretera_364 #985_365 Barrio_366 Quebrada_367 calle_368 Igualdad_369 al_370 final_371 frene_372 a_373 la_374 Iglesia_375 La_376 Ola_377\n",
      "INFORMACION/O_0 MUY/O_1 VALIOSA/O_2 E/O_3 IMPORTANTE/O_4 DE/O_5 COMPARTIR/O_6 !/O_7 !/O_8 #PuertoRico/O_9 Estos/O_10 son/O_11 los/O_12 alg/O_13 0s/O_14 centros/O_15 donde/O_16 van/O_17 a/O_18 estar/O_19 llegando/O_20 la/O_21 ayuda/O_22 ,/O_23 hay/O_24 muchas/O_25 provisiones/O_26 en/O_27 el/O_28 aeropuerto/O_29 listos/O_30 para/O_31 la/O_32 distrubución/O_33 ./O_34 Por/O_35 favor/O_36 rieguen/O_37 la/O_38 voz/O_39 ya/O_40 q/O_41 no/O_42 hay/O_43 mucha/O_44 comunicación/O_45 ./O_46 ??/O_47 ??/O_48 ??/O_49 ??/O_50 ??/O_51 ??/O_52 ??/O_53 ??/O_54 ??/O_55 ??/O_56 ??/O_57 ??/O_58 LISTA/O_59 DE/O_60 OASIS/O_61 Oasis/LUG_62 Región/LUG_63 Metro/LUG_64 :/O_65 Bayamón/LUG_66 --/O_67 Carretera/O_68 829/O_69 ,/O_70 entrada/O_71 a/O_72 Collores/ORG_73 ,/O_74 Urbanización/ORG_75 Santa/ORG_76 OlayaBayamón/ORG_77 --/O_78 Avenida/O_79 e/O_80 ./O_81 Santa/PERS_82 Juanita/PERS_83 ,/O_84 Esquina/ORG_85 Hostos/ORG_86 ,/O_87 frente/O_88 Funeraria/O_89 AsencioBayamón/O_90 --/O_91 Al/O_92 final/O_93 Avenida/O_94 e/O_95 ./O_96 Irlanda/ORG_97 Height/ORG_98 ,/O_99 calle/O_100 Palestina/LUG_101 ,/O_102 Santa/LUG_103 JuanitaTrujillo/LUG_104 Alto/LUG_105 --/O_106 Calle/OTROS_107 José/OTROS_108 de/O_109 Diego/OTROS_110 ,/O_111 Escorial/ORG_112 Shopping/ORG_113 Center/ORG_114 ,/O_115 detrás/O_116 del/O_117 Home/ORG_118 DepotTrujillo/ORG_119 Alto/ORG_120 --/O_121 PR/ORG_122 843/ORG_123 ,/O_124 Km/O_125 3.5/O_126 frente/O_127 a/O_128 Urbanización/ORG_129 Villas/ORG_130 de/O_131 CarraízoCarolina/OTROS_132 --/O_133 Carretera/O_134 845/O_135 ,/O_136 Avenida/O_137 e/O_138 ./O_139 Montecarlo/PERS_140 ,/O_141 frente/O_142 a/O_143 Portal/PERS_144 de/O_145 la/O_146 ReinaGuaynabo/O_147 --/O_148 Carretera/O_149 833/O_150 ,/O_151 Int/ORG_152 ./O_153 Centros/O_154 de/O_155 Servicios/OTROS_156 Múltiples/O_157 GuaraguaoGuaynabo/O_158 --/O_159 Expreso/O_160 852/O_161 final/O_162 ,/O_163 en/O_164 el/O_165 estacionamiento/O_166 La/O_167 Ceiba/LUG_168 ,/O_169 GuaynaboSan/OTROS_170 Juan/OTROS_171 --/O_172 AvenIda/O_173 e/O_174 ./O_175 Víctor/PERS_176 Labiosa/PERS_177 ,/O_178 carretera/O_179 176/O_180 frente/O_181 a/O_182 St/OTROS_183 ./O_184 Marys/PERS_185 SchoolSan/PERS_186 Juan/PERS_187 --/O_188 Estadio/ORG_189 Hiram/ORG_190 BithornSan/ORG_191 Juan/ORG_192 --/ORG_193 Marginal/ORG_194 Exp/ORG_195 ./O_196 PR/ORG_197 52/ORG_198 ,/O_199 Esquina/PERS_200 Calle/PERS_201 Popy/PERS_202 ,/O_203 frente/O_204 Urbanización/O_205 VilanovaSan/O_206 Juan/PERS_207 --/O_208 Carretera/O_209 PR/ORG_210 842/ORG_211 ,/O_212 Esquina/O_213 Camino/OTROS_214 Los/O_215 Romero/PERS_216 ,/O_217 CaimitoSan/PERS_218 Juan/PERS_219 --/O_220 Carretera/O_221 176/O_222 ,/O_223 Esquina/PERS_224 Camino/PERS_225 Morcelo/PERS_226 ,/O_227 Frente/O_228 a/O_229 la/O_230 iglesiaSan/O_231 Juan/PERS_232 --/O_233 Centro/O_234 Comercial/OTROS_235 Los/O_236 Flamboyanes/LUG_237 ,/O_238 Avenida/O_239 e/O_240 ./O_241 65/O_242 Inf/O_243 ./O_244 Al/O_245 lado/O_246 de/O_247 la/O_248 Mazda/LUG_249 de/O_250 SJOasis/LUG_251 Región/LUG_252 Este/LUG_253 :/O_254 Naguado/O_255 --/O_256 PR/ORG_257 -/O_258 950/O_259 final/O_260 ,/O_261 Manejo/ORG_262 de/O_263 EmergenciaLas/ORG_264 Piedras/ORG_265 --/O_266 April/PERS_267 Gardens/PERS_268 ,/O_269 Las/O_270 PiedrasLas/O_271 Piedras/OTROS_272 --/O_273 Cancha/O_274 del/O_275 Barrio/ORG_276 Pasto/ORG_277 Seco/ORG_278 Carr/ORG_279 #/O_280 31Río/O_281 Grande/O_282 --/O_283 Área/O_284 Guzmán/O_285 AbajoRío/O_286 Grande/O_287 --/O_288 Barrio/LUG_289 Palmer/LUG_290 ,/O_291 Esquina/O_292 intersección/O_293 con/O_294 el/O_295 Yunque/ORG_296 Carretera/ORG_297 199Barranquitas/O_298 --/O_299 Manejo/O_300 de/O_301 EmergenciaComerío/O_302 --/O_303 Zona/O_304 industrialCidra/O_305 --/O_306 Barrio/ORG_307 Ceiba/ORG_308 Arriba/ORG_309 ,/O_310 PR/ORG_311 -/ORG_312 782Gurabo/ORG_313 --/ORG_314 Barrio/ORG_315 Jagual/ORG_316 ,/O_317 Carretera/PERS_318 PR/O_319 181/O_320 interior/O_321 ,/O_322 Santa/PERS_323 Rita/PERS_324 y/O_325 MasasGurabo/ORG_326 -/ORG_327 Barrio/ORG_328 Rincón/ORG_329 frente/O_330 a/O_331 la/O_332 canchaGurabo/O_333 --/O_334 Barrio/LUG_335 Navarro/LUG_336 frente/O_337 al/O_338 centro/O_339 comercial/O_340 Praderas/ORG_341 Carretera/ORG_342 #/O_343 931Caguas/O_344 --/O_345 Borinquen/PERS_346 Atravesada/PERS_347 ,/O_348 frene/O_349 a/O_350 la/O_351 cancha/O_352 y/O_353 Capilla/ORG_354 CatólicaCaguas/ORG_355 --/ORG_356 Barrio/ORG_357 Cañaboncito/ORG_358 ,/O_359 frente/O_360 al/O_361 Head/PERS_362 StartFajardo/PERS_363 --/O_364 Carretera/O_365 #/O_366 985/O_367 Barrio/LUG_368 Quebrada/LUG_369 calle/O_370 Igualdad/OTROS_371 al/O_372 final/O_373 frene/O_374 a/O_375 la/O_376 Iglesia/ORG_377 La/ORG_378 Ola/ORG_379\n",
      "error at index 73 with len 44 and 43\n",
      "Dios_0 les_1 bendiga_2 a_3 todos_4 ,_5 muy_6 buenos_7 días_8 !_9 Si_10 quieren_11 escuchar_12 información_13 de_14 puertorico_15 bajen_16 la_17 aplicación_18 \"_19 La_20 nueva_21 radio_22 poder_23 \"_24 ahí_25 estoy_26 escuchando_27 mucha_28 información_29 ._30 Espero_31 les_32 sea_33 útil_34 ._35 ??_36 ??_37 ❤_38 ️_39 ??_40 ??_41 ??_42 ??_43\n",
      "Dios/O_0 les/O_1 bendiga/O_2 a/O_3 todos/O_4 ,/O_5 muy/O_6 buenos/O_7 días/O_8 !/O_9 Si/O_10 quieren/O_11 escuchar/O_12 información/O_13 de/O_14 puertorico/O_15 bajen/O_16 la/O_17 aplicación/O_18 ''/O_19 La/O_20 nueva/O_21 radio/O_22 poder/O_23 ''/O_24 ahí/O_25 estoy/O_26 escuchando/O_27 mucha/O_28 información/O_29 ./O_30 Espero/O_31 les/O_32 sea/O_33 útil/O_34 ./O_35 ??/O_36 ??/O_37 ❤/O_38 ??/O_39 ??/O_40 ??/O_41 ??/O_42\n",
      "error at index 94 with len 6 and 5\n",
      "Información_0 importante_1 del_2 aeropuerto_3 ._4 <URL>_5\n",
      "Información/O_0 importante/O_1 del/O_2 aeropuerto/O_3 ./O_4\n",
      "error at index 105 with len 44 and 46\n",
      "My_0 daughter_1 make_2 it_3 safe_4 to_5 Dominican_6 Republic_7 ._8 Gracias_9 al_10 pueblo_11 de_12 [[quebradillas_13]]{CITY} por_14 su_15 hospitalidad_16 ._17 Gracias_18 a_19 mis_20 amigas_21 y_22 amigos_23 que_24 estuvieron_25 pendiente_26 de_27 ella_28 y_29 de_30 mi_31 y_32 gracias_33 a_34 Dios_35 por_36 cuidar_37 de_38 l_39 pueblo_40 Puertorriqueño_41 pa'lante_42 boricuas_43\n",
      "My/O_0 daughter/ORG_1 make/ORG_2 it/ORG_3 safe/ORG_4 to/ORG_5 Dominican/ORG_6 Republic/ORG_7 ./O_8 Gracias/O_9 al/O_10 pueblo/O_11 de/O_12 quebradillas/O_13 por/O_14 su/O_15 hospitalidad/O_16 ./O_17 Gracias/OTROS_18 a/O_19 mis/O_20 amigas/O_21 y/O_22 amigos/O_23 que/O_24 estuvieron/O_25 pendiente/O_26 de/O_27 ella/O_28 y/O_29 de/O_30 mi/O_31 y/O_32 gracias/O_33 a/O_34 Dios/PERS_35 por/O_36 cuidar/O_37 de/O_38 l/O_39 pueblo/O_40 Puertorriqueño/O_41 pa/O_42 `/O_43 lante/O_44 boricuas/O_45\n",
      "error at index 106 with len 197 and 196\n",
      "Queridos_0 miembros_1 de_2 esta_3 pajina_4 mi_5 familia_6 aqui_7 en_8 WI_9 va_10 a_11 tener_12 un_13 benefit_14 este_15 Sabado_16 para_17 colectar_18 dinero_19 y_20 enviarlo_21 para_22 la_23 ciudad_24 de_25 [[Guayama_26]]{CITY} ._27 Los_28 que_29 no_30 estan_31 localizados_32 en_33 PR_34 y_35 viven_36 cerca_37 de_38 Racine_39 ,_40 WI_41 por_42 favor_43 si_44 pueden_45 vernir_46 ven_47 ._48 O_49 para_50 los_51 que_52 le_53 gustarian_54 coperar_55 estamos_56 vendiendo_57 braceletes_58 que_59 dicen_60 “_61 Puerto_62 Rico_63 Strong_64 ”_65 por_66 $_67 5_68 ._69 Pueden_70 pagar_71 por_72 el_73 cash_74 app_75 o_76 pueden_77 donar_78 al_79 Johnson_80 ’_81 s_82 Bank_83 aqui_84 en_85 Racine_86 ,_87 WI_88 ._89 La_90 cuenta_91 esta_92 debajo_93 el_94 nombre_95 “_96 Puerto_97 Rico_98 Strong_99 ”_100 o_101 por_102 PayPal_103 tambien_104 ._105 Me_106 dejan_107 saber_108 su_109 nombre_110 y_111 direcion_112 y_113 los_114 podemos_115 enviar_116 ._117 Estamos_118 tratando_119 de_120 ayudar_121 los_122 mas_123 que_124 podemos_125 aunque_126 estamos_127 por_128 aca_129 ._130 Estamos_131 todos_132 dolori_133 1_134 por_135 lo_136 que_137 sucedio_138 con_139 el_140 Huracan_141 Maria_142 ._143 Nuestra_144 querida_145 isla_146 del_147 encanto_148 no_149 se_150 quedara_151 asi_152 ._153 Todo_154 lo_155 que_156 recibimos_157 en_158 donaciones_159 sera_160 llevada_161 para_162 la_163 ciudad_164 de_165 [[Guayama_166]]{CITY} ._167 Por_168 favor_169 de_170 mandar_171 un_172 mensaje_173 si_174 tienen_175 cual_176 quer_177 pregunta_178 ._179 Que_180 Díos_181 siempre_182 los_183 bendiga_184 ._185 ??_186 ??_187 ??_188 ??_189 ??_190 ??_191 ??_192 ??_193 #PuertoRicoStrong_194 #PuertoRicodepie_195 <URL>_196\n",
      "Queridos/O_0 miembros/O_1 de/O_2 esta/O_3 pajina/ORG_4 mi/ORG_5 familia/ORG_6 aqui/ORG_7 en/O_8 WI/ORG_9 va/O_10 a/O_11 tener/O_12 un/O_13 benefit/O_14 este/O_15 Sabado/O_16 para/O_17 colectar/O_18 dinero/O_19 y/O_20 enviarlo/O_21 para/O_22 la/O_23 ciudad/O_24 de/O_25 Guayama/LUG_26 ./O_27 Los/O_28 que/O_29 no/O_30 estan/O_31 localizados/O_32 en/O_33 PR/ORG_34 y/O_35 viven/O_36 cerca/O_37 de/O_38 Racine/PERS_39 ,/O_40 WI/ORG_41 por/O_42 favor/O_43 si/O_44 pueden/O_45 vernir/O_46 ven/O_47 ./O_48 O/O_49 para/O_50 los/O_51 que/O_52 le/O_53 gustarian/O_54 coperar/O_55 estamos/O_56 vendiendo/O_57 braceletes/O_58 que/O_59 dicen/O_60 ``/O_61 Puerto/LUG_62 Rico/LUG_63 Strong/LUG_64 ''/O_65 por/O_66 $/O_67 5/O_68 ./O_69 Pueden/O_70 pagar/O_71 por/O_72 el/O_73 cash/O_74 app/O_75 o/O_76 pueden/O_77 donar/O_78 al/O_79 Johnson/PERS_80 '/O_81 s/ORG_82 Bank/ORG_83 aqui/O_84 en/O_85 Racine/PERS_86 ,/O_87 WI/ORG_88 ./O_89 La/O_90 cuenta/O_91 esta/O_92 debajo/O_93 el/O_94 nombre/O_95 ``/O_96 Puerto/LUG_97 Rico/LUG_98 Strong/LUG_99 ''/O_100 o/O_101 por/O_102 PayPal/ORG_103 tambien/O_104 ./O_105 Me/O_106 dejan/O_107 saber/O_108 su/O_109 nombre/O_110 y/O_111 direcion/O_112 y/O_113 los/O_114 podemos/O_115 enviar/O_116 ./O_117 Estamos/O_118 tratando/O_119 de/O_120 ayudar/O_121 los/O_122 mas/O_123 que/O_124 podemos/O_125 aunque/O_126 estamos/O_127 por/O_128 aca/O_129 ./O_130 Estamos/O_131 todos/O_132 dolori/O_133 1/O_134 por/O_135 lo/O_136 que/O_137 sucedio/O_138 con/O_139 el/O_140 Huracan/PERS_141 Maria/PERS_142 ./O_143 Nuestra/O_144 querida/O_145 isla/O_146 del/O_147 encanto/O_148 no/O_149 se/O_150 quedara/O_151 asi/O_152 ./O_153 Todo/O_154 lo/O_155 que/O_156 recibimos/O_157 en/O_158 donaciones/O_159 sera/O_160 llevada/O_161 para/O_162 la/O_163 ciudad/O_164 de/O_165 Guayama/LUG_166 ./O_167 Por/O_168 favor/O_169 de/O_170 mandar/O_171 un/O_172 mensaje/O_173 si/O_174 tienen/O_175 cual/O_176 quer/O_177 pregunta/O_178 ./O_179 Que/O_180 Díos/PERS_181 siempre/O_182 los/O_183 bendiga/O_184 ./O_185 ??/O_186 ??/O_187 ??/O_188 ??/O_189 ??/O_190 ??/O_191 ??/O_192 ??/O_193 #PuertoRicoStrong/O_194 #PuertoRicodepie/O_195\n",
      "error at index 107 with len 13 and 12\n",
      "Así_0 estan_1 trabajando_2 arduamente_3 para_4 restaurar_5 a_6 nuestro_7 Puerto_8 Rico_9 ._10 DLB_11 <URL>_12\n",
      "Así/O_0 estan/O_1 trabajando/O_2 arduamente/O_3 para/O_4 restaurar/O_5 a/O_6 nuestro/O_7 Puerto/LUG_8 Rico/LUG_9 ./O_10 DLB/ORG_11\n",
      "error at index 109 with len 90 and 89\n",
      "Hola_0 a_1 todos_2 !_3 Con_4 respecto_5 a_6 el_7 post_8 de_9 Walmart_10 que_11 comparti_12 dias_13 atras_14 les_15 digo_16 que_17 verifiquen_18 bien_19 ya_20 que_21 mi_22 compañera_23 de_24 trabajo_25 hizo_26 una_27 compra_28 online_29 para_30 su_31 papa_32 que_33 vive_34 en_35 [[Yauco_36]]{CITY} y_37 luego_38 el_39 la_40 llamo_41 para_42 confirmar_43 que_44 había_45 podido_46 recojer_47 su_48 comprita_49 ._50 Nose_51 que_52 Walmart_53 este_54 haciendo_55 los_56 Walmart_57 to_58 Walmart_59 pero_60 SI_61 hay_62 Walmart_63 que_64 lo_65 están_66 haciendo_67 ._68 Espero_69 que_70 sus_71 familiares_72 esten_73 bien_74 y_75 seguimos_76 orando_77 porque_78 #PRSeLevanta_79 ??_80 ??_81 ??_82 ??_83 ❤_84 ️_85 ??_86 ??_87 ??_88 ??_89\n",
      "Hola/O_0 a/O_1 todos/O_2 !/O_3 Con/O_4 respecto/O_5 a/O_6 el/O_7 post/O_8 de/O_9 Walmart/ORG_10 que/O_11 comparti/O_12 dias/O_13 atras/O_14 les/O_15 digo/O_16 que/O_17 verifiquen/O_18 bien/O_19 ya/O_20 que/O_21 mi/O_22 compañera/O_23 de/O_24 trabajo/O_25 hizo/O_26 una/O_27 compra/O_28 online/O_29 para/O_30 su/O_31 papa/O_32 que/O_33 vive/O_34 en/O_35 Yauco/LUG_36 y/O_37 luego/O_38 el/O_39 la/O_40 llamo/O_41 para/O_42 confirmar/O_43 que/O_44 había/O_45 podido/O_46 recojer/O_47 su/O_48 comprita/O_49 ./O_50 Nose/O_51 que/O_52 Walmart/ORG_53 este/O_54 haciendo/O_55 los/O_56 Walmart/ORG_57 to/O_58 Walmart/ORG_59 pero/O_60 SI/O_61 hay/O_62 Walmart/ORG_63 que/O_64 lo/O_65 están/O_66 haciendo/O_67 ./O_68 Espero/O_69 que/O_70 sus/O_71 familiares/O_72 esten/O_73 bien/O_74 y/O_75 seguimos/O_76 orando/O_77 porque/O_78 #PRSeLevanta/O_79 ??/O_80 ??/O_81 ??/O_82 ??/O_83 ❤/O_84 ??/O_85 ??/O_86 ??/O_87 ??/O_88\n",
      "error at index 115 with len 27 and 28\n",
      "El_0 Reparto_1 [[Montellano_2]]{CITY]} está_3 bastante_4 bien_5 ,_6 [[calle_7 A_8]]{TOPO} por_9 la_10 iglesia_11 nada_12 mayor_13 ,_14 hable_15 con_16 mi_17 mamá_18 a_19 las_20 8:_21 15_22 AM_23 de_24 hoy_25 ._26\n",
      "El/O_0 Reparto/ORG_1 Montellano/ORG_2 está/O_3 bastante/O_4 bien/O_5 ,/O_6 calle/O_7 A/O_8 por/O_9 la/O_10 iglesia/O_11 nada/O_12 mayor/O_13 ,/O_14 hable/O_15 con/O_16 mi/O_17 mamá/O_18 a/O_19 las/O_20 8/O_21 :/O_22 15/O_23 AM/ORG_24 de/O_25 hoy/O_26 ./O_27\n",
      "error at index 116 with len 72 and 74\n",
      "Hola_0 !_1 !_2 Alguna_3 informacion_4 de_5 mulas_6 despues_7 del_8 cocotazo_9 Mi_10 Suegra_11 Vive_12 en_13 la_14 recta_15 Zobeida_16 Mercedes_17 y_18 mi_19 esposo_20 esta_21 un_22 Poco_23 preocupado_24 por_25 no_26 saber_27 de_28 Ella_29 _30 _31 _32 Y_33 su_34 papa_35 Luis_36 Coriano_37 _38 _39 _40 Y_41 si_42 saben_43 algo_44 de_45 la_46 pajilla_47 que_48 no_49 se_50 nada_51 de_52 mi_53 Hermana_54 Danelys_55 Adorno_56 Velazquez_57 y_58 mi_59 tio_60 Luis_61 Velazquez_62 Soy_63 la_64 nieta_65 de_66 Yiya_67 ._68 Gracias_69 y_70 Dios_71 me_72 los_73 Bendiga_74 ._75\n",
      "Hola/O_0 !/O_1 !/O_2 Alguna/O_3 informacion/O_4 de/O_5 mulas/O_6 despues/O_7 del/O_8 cocotazo/O_9 Mi/O_10 Suegra/ORG_11 Vive/ORG_12 en/O_13 la/O_14 recta/O_15 Zobeida/PERS_16 Mercedes/PERS_17 y/O_18 mi/O_19 esposo/O_20 esta/O_21 un/O_22 Poco/O_23 preocupado/O_24 por/O_25 no/O_26 saber/O_27 de/O_28 Ella/OTROS_29 ./O_30 ./O_31 Y/O_32 su/O_33 papa/O_34 Luis/PERS_35 Coriano/PERS_36 ./O_37 ./O_38 Y/O_39 si/O_40 saben/O_41 algo/O_42 de/O_43 la/O_44 pajilla/O_45 que/O_46 no/O_47 se/O_48 nada/O_49 de/O_50 mi/O_51 Hermana/ORG_52 Danelys/ORG_53 Adorno/ORG_54 Velazquez/ORG_55 y/O_56 mi/O_57 tio/O_58 Luis/PERS_59 Velazquez/PERS_60 Soy/PERS_61 la/O_62 nieta/O_63 de/O_64 Yiya/LUG_65 ./O_66 Gracias/OTROS_67 y/O_68 Dios/PERS_69 me/O_70 los/O_71 Bendiga/ORG_72 ./O_73\n",
      "error at index 123 with len 214 and 216\n",
      "Esto_0 es_1 legitimo_2 y_3 oficial_4 ._5 Vayan_6 al_7 grupo_8 en_9 FB_10 :_11 Huracan_12 Maria_13 [[Vega_14 Alta_15]]{CITY} y_16 veran_17 ._18 Vegaltenos_19 Presente_20 !_21 Aunque_22 sea_23 $_24 5.00_25 o_26 $_27 10.00_28 -_29 \"_30 poco_31 a_32 poco_33 se_34 llega_35 a_36 lejos_37 \"_38 ._39 \"_40 En_41 la_42 unidad_43 es_44 que_45 esta_46 la_47 fuerza_48 !_49 \"_50 Nuestras_51 familias_52 y_53 amigos_54 necesitan_55 nuestra_56 ayuda_57 ahora_58 !_59 GoFundMe_60 page_61 for_62 donations_63 that_64 will_65 go_66 directly_67 to_68 [[Vega_69 Alta_70]]{CITY} ,_71 PR.Las_72 donaciones_73 iran_74 directamente_75 a_76 [[Vega_77 Alta_78]]{CITY} ,_79 PR_80 ._81 \"_82 FAMILIA_83 ESTE_84 PROCESO_85 HA_86 SIDO_87 LARGO_88 Y_89 ESTRESANTE_90 PERO_91 JUNTOS_92 HEMOS_93 PERSEVERADO_94 Y_95 POCO_96 A_97 POCO_98 SE_99 HA_100 OBTENIDO_101 INFORMACION_102 Y_103 HASTA_104 SE_105 HAN_106 CONECTADO_107 FAMILIARES_108 ._109 AHORA_110 LOS_111 NECESITAMOS_112 A_113 USTEDES_114 DE_115 SU_116 AYUDA_117 Y_118 APOYO_119 ._120 TENEMOS_121 UN_122 BAGON_123 RECAUDANDO_124 ARTICULOS_125 DE_126 PRIMERAS_127 NECESIDADES_128 ._129 4_130 PALETAS_131 DE_132 PAQUETES_133 DE_134 AGUA_135 ._136 JESUS_137 ESTA_138 EN_139 NEGOCIACIONES_140 CON_141 GOYA_142 Y_143 SUPERMERCADOS_144 HARDI'S_145 Y_146 OTROS_147 MERCANTES_148 ._149 EL_150 BAGON_151 VA_152 PARA_153 [[Vega_154 Alta_155]]{CITY} ESPECIFICAMENTE_156 ._157 PARA_158 AYUDAR_159 A_160 NUESTRAS_161 FAMILIAS_162 ._163 PERO_164 NECESITAMOS_165 RECAUDAR_166 LOS_167 FONDOS_168 PARA_169 HACER_170 LLEGAR_171 EL_172 ABASTECIMIENT_173 _174 _175 _176 POR_177 FAVOR_178 HAGAN_179 SU_180 DONACION_181 _182 _183 _184 _185 SOMOS_186 MAS_187 DE_188 5_189 ,_190 OOO_191 ._192 EN_193 EL_194 GRUPO_195 SI_196 CADA_197 UNO_198 DONAMOS_199 $_200 1.00_201 LOGRAREMOS_202 LA_203 META_204 ._205 POR_206 FAVOR_207 AYUDENOS_208 A_209 AYUDAR_210 A_211 SUS_212 FAMILIAS_213 Y_214 LAS_215 NUESTRAS_216 \"_217 ._218\n",
      "Esto/O_0 es/O_1 legitimo/O_2 y/O_3 oficial/O_4 ./O_5 Vayan/O_6 al/O_7 grupo/O_8 en/O_9 FB/ORG_10 :/O_11 Huracan/PERS_12 Maria/PERS_13 Vega/PERS_14 Alta/PERS_15 y/O_16 veran/O_17 ./O_18 Vegaltenos/O_19 Presente/O_20 !/O_21 Aunque/O_22 sea/O_23 $/O_24 5.00/O_25 o/O_26 $/O_27 10.00/O_28 -/O_29 ''/O_30 poco/O_31 a/O_32 poco/O_33 se/O_34 llega/O_35 a/O_36 lejos/O_37 ''/O_38 ./O_39 ''/O_40 En/O_41 la/O_42 unidad/O_43 es/O_44 que/O_45 esta/O_46 la/O_47 fuerza/O_48 !/O_49 ''/O_50 Nuestras/O_51 familias/O_52 y/O_53 amigos/O_54 necesitan/O_55 nuestra/O_56 ayuda/O_57 ahora/O_58 !/O_59 GoFundMe/O_60 page/O_61 for/O_62 donations/O_63 that/O_64 will/O_65 go/O_66 directly/O_67 to/O_68 Vega/LUG_69 Alta/LUG_70 ,/O_71 PR.Las/O_72 donaciones/O_73 iran/O_74 directamente/O_75 a/O_76 Vega/LUG_77 Alta/LUG_78 ,/O_79 PR/ORG_80 ./O_81 ''/O_82 FAMILIA/O_83 ESTE/O_84 PROCESO/O_85 HA/O_86 SIDO/O_87 LARGO/O_88 Y/O_89 ESTRESANTE/O_90 PERO/O_91 JUNTOS/O_92 HEMOS/O_93 PERSEVERADO/O_94 Y/O_95 POCO/O_96 A/O_97 POCO/O_98 SE/O_99 HA/O_100 OBTENIDO/O_101 INFORMACION/O_102 Y/O_103 HASTA/O_104 SE/O_105 HAN/O_106 CONECTADO/O_107 FAMILIARES/O_108 ./O_109 AHORA/O_110 LOS/O_111 NECESITAMOS/O_112 A/O_113 USTEDES/O_114 DE/O_115 SU/O_116 AYUDA/O_117 Y/O_118 APOYO/O_119 ./O_120 TENEMOS/O_121 UN/O_122 BAGON/O_123 RECAUDANDO/O_124 ARTICULOS/O_125 DE/O_126 PRIMERAS/O_127 NECESIDADES/O_128 ./O_129 4/O_130 PALETAS/O_131 DE/O_132 PAQUETES/O_133 DE/O_134 AGUA/O_135 ./O_136 JESUS/PERS_137 ESTA/O_138 EN/O_139 NEGOCIACIONES/O_140 CON/O_141 GOYA/ORG_142 Y/O_143 SUPERMERCADOS/O_144 HARDI/O_145 'S/O_146 Y/O_147 OTROS/O_148 MERCANTES/O_149 ./O_150 EL/O_151 BAGON/O_152 VA/O_153 PARA/O_154 Vega/ORG_155 Alta/ORG_156 ESPECIFICAMENTE/ORG_157 ./O_158 PARA/O_159 AYUDAR/O_160 A/O_161 NUESTRAS/O_162 FAMILIAS/O_163 ./O_164 PERO/O_165 NECESITAMOS/O_166 RECAUDAR/O_167 LOS/O_168 FONDOS/O_169 PARA/O_170 HACER/O_171 LLEGAR/O_172 EL/O_173 ABASTECIMIENT/ORG_174 ./O_175 ./O_176 POR/O_177 FAVOR/O_178 HAGAN/O_179 SU/O_180 DONACION/O_181 _182 _183 _184 /O_185 SOMOS/O_186 MAS/O_187 DE/O_188 5/O_189 ,/O_190 OOO/O_191 ./O_192 EN/O_193 EL/O_194 GRUPO/O_195 SI/O_196 CADA/O_197 UNO/O_198 DONAMOS/O_199 $/O_200 1.00/O_201 LOGRAREMOS/O_202 LA/O_203 META/O_204 ./O_205 POR/O_206 FAVOR/O_207 AYUDENOS/O_208 A/O_209 AYUDAR/O_210 A/O_211 SUS/O_212 FAMILIAS/O_213 Y/O_214 LAS/O_215 NUESTRAS/O_216 ''/O_217 ./O_218\n",
      "error at index 144 with len 34 and 32\n",
      "Gracias_0 por_1 aceptarme_2 Mi_3 papá_4 nació_5 en_6 Dorado_7 Appelido_8 Mena_9 ❤_10 ️_11 ??_12 ??_13 Gracias_14 y_15 Puerto_16 Rico_17 ??_18 ??_19 ??_20 ??_21 Siempre_22 con_23 Dios_24 en_25 mis_26 Oraciones_27 ??_28 ??_29 ??_30 ??_31 ✊_32 ️_33\n",
      "Gracias/O_0 por/O_1 aceptarme/O_2 Mi/O_3 papá/O_4 nació/O_5 en/O_6 Dorado/ORG_7 Appelido/ORG_8 Mena/ORG_9 ❤/ORG_10 ??/O_11 ??/O_12 Gracias/OTROS_13 y/O_14 Puerto/LUG_15 Rico/LUG_16 ??/O_17 ??/O_18 ??/O_19 ??/O_20 Siempre/O_21 con/O_22 Dios/PERS_23 en/O_24 mis/O_25 Oraciones/OTROS_26 ??/O_27 ??/O_28 ??/O_29 ??/O_30 ✊/O_31\n",
      "error at index 145 with len 15 and 14\n",
      "Para_0 donaciones_1 entre_2 a_3 este_4 enlace_5 abajo.Muchas_6 gracias_7 por_8 su_9 cooperacion_10 !_11 Pagina_12 Oficial_13 <URL>_14\n",
      "Para/O_0 donaciones/O_1 entre/O_2 a/O_3 este/O_4 enlace/O_5 abajo.Muchas/O_6 gracias/O_7 por/O_8 su/O_9 cooperacion/O_10 !/O_11 Pagina/O_12 Oficial/O_13\n",
      "error at index 154 with len 35 and 36\n",
      "Por_0 favor_1 si_2 alguien_3 sabe_4 de_5 ellos_6 o_7 los_8 a_9 visto_10 porfavorcualquier_11 informacion_12 es_13 de_14 ayuda_15 ._16 ??_17 ??_18 ??_19 ??_20 ??_21 ??_22 muy_23 agunstiada_24 por_25 ellosViven_26 enBo_27 ._28 [[Corazón_29]]{CITY} [[calle_30 La_31 Milagrosa_32]]{UNK} #214_33 [[Guayama_34]]{CITY}\n",
      "Por/O_0 favor/O_1 si/O_2 alguien/O_3 sabe/O_4 de/O_5 ellos/O_6 o/O_7 los/O_8 a/O_9 visto/O_10 porfavorcualquier/O_11 informacion/O_12 es/O_13 de/O_14 ayuda/O_15 ./O_16 ??/O_17 ??/O_18 ??/O_19 ??/O_20 ??/O_21 ??/O_22 muy/O_23 agunstiada/O_24 por/O_25 ellosViven/O_26 enBo/O_27 ./O_28 Corazón/O_29 calle/O_30 La/O_31 Milagrosa/LUG_32 #/O_33 214/O_34 Guayama/LUG_35\n",
      "error at index 155 with len 51 and 50\n",
      "Gente_0 que_1 me_2 lee_3 ,_4 todos_5 estamos_6 en_7 la_8 misma_9 situación_10 ._11 Por_12 favor_13 Ayude_14 a_15 su_16 vecino_17 ,_18 más_19 aún_20 si_21 tienen_22 niños_23 ,_24 ellos_25 no_26 entienden_27 ._28 Si_29 para_30 nosotros_31 los_32 adultos_33 es_34 difícil_35 ,_36 imagine_37 para_38 ellos_39 ._40 ??_41 ??_42 ??_43 ??_44 ❤_45 ️_46 ??_47 ??_48 ??_49 ??_50\n",
      "Gente/O_0 que/O_1 me/O_2 lee/O_3 ,/O_4 todos/O_5 estamos/O_6 en/O_7 la/O_8 misma/O_9 situación/O_10 ./O_11 Por/O_12 favor/O_13 Ayude/O_14 a/O_15 su/O_16 vecino/O_17 ,/O_18 más/O_19 aún/O_20 si/O_21 tienen/O_22 niños/O_23 ,/O_24 ellos/O_25 no/O_26 entienden/O_27 ./O_28 Si/O_29 para/O_30 nosotros/O_31 los/O_32 adultos/O_33 es/O_34 difícil/O_35 ,/O_36 imagine/O_37 para/O_38 ellos/O_39 ./O_40 ??/O_41 ??/O_42 ??/O_43 ??/O_44 ❤/O_45 ??/O_46 ??/O_47 ??/O_48 ??/O_49\n",
      "error at index 156 with len 67 and 68\n",
      "Mi_0 primo_1 logro_2 comunicarse_3 con_4 mi_5 tio_6 ._7 La_8 gente_9 de_10 #MatonAbajo_11 por_12 el_13 area_14 del_15 Negocio_16 el_17 #4Aguas_18 estan_19 bien_20 ._21 Mi_22 tio_23 tardo_24 como_25 3hra_26 en_27 llegar_28 al_29 area_30 de_31 la_32 autopista_33 para_34 señal_35 ._36 La_37 llamada_38 fue_39 breve_40 por_41 la_42 señal_43 ._44 Todo_45 se_46 destroyo_47 ??_48 ??_49 ??_50 ??_51 ??_52 ??_53 ??_54 ??_55 pero_56 estan_57 bien_58 ._59 Fortaleza_60 gente_61 ._62 ??_63 ??_64 ??_65 ??_66\n",
      "Mi/O_0 primo/O_1 logro/O_2 comunicarse/O_3 con/O_4 mi/O_5 tio/O_6 ./O_7 La/O_8 gente/O_9 de/O_10 #MatonAbajo/O_11 por/O_12 el/O_13 area/O_14 del/O_15 Negocio/ORG_16 el/ORG_17 #/ORG_18 4Aguas/ORG_19 estan/O_20 bien/O_21 ./O_22 Mi/O_23 tio/O_24 tardo/O_25 como/O_26 3hra/O_27 en/O_28 llegar/O_29 al/O_30 area/O_31 de/O_32 la/O_33 autopista/O_34 para/O_35 señal/O_36 ./O_37 La/O_38 llamada/O_39 fue/O_40 breve/O_41 por/O_42 la/O_43 señal/O_44 ./O_45 Todo/O_46 se/O_47 destroyo/O_48 ??/O_49 ??/O_50 ??/O_51 ??/O_52 ??/O_53 ??/O_54 ??/O_55 ??/O_56 pero/O_57 estan/O_58 bien/O_59 ./O_60 Fortaleza/O_61 gente/O_62 ./O_63 ??/O_64 ??/O_65 ??/O_66 ??/O_67\n",
      "error at index 162 with len 12 and 11\n",
      "<URL>_0 triste_1 todo_2 lo_3 q_4 esta_5 pasando_6 ,_7 fortaleza_8 a_9 esta_10 familia_11\n",
      "triste/O_0 todo/O_1 lo/O_2 q/O_3 esta/O_4 pasando/O_5 ,/O_6 fortaleza/O_7 a/O_8 esta/O_9 familia/O_10\n",
      "error at index 163 with len 53 and 52\n",
      "Mi_0 papa_1 ,_2 que_3 desde_4 la_5 noche_6 del_7 huracan_8 no_9 hemos_10 sabido_11 de_12 el_13 ._14 Por_15 favor_16 si_17 alguien_18 tiene_19 alguna_20 informacion_21 inmediata_22 sobre_23 el_24 ._25 Alguien_26 que_27 le_28 pueda_29 decir_30 q_31 puede_32 ir_33 a_34 la_35 alcaldia_36 para_37 hacer_38 llamadas_39 o_40 que_41 puede_42 ir_43 a_44 salinas_45 tambien_46 ._47 Gracias_48 ❤_49 ??_50 ??_51 <URL>_52\n",
      "Mi/O_0 papa/O_1 ,/O_2 que/O_3 desde/O_4 la/O_5 noche/O_6 del/O_7 huracan/O_8 no/O_9 hemos/O_10 sabido/O_11 de/O_12 el/O_13 ./O_14 Por/O_15 favor/O_16 si/O_17 alguien/O_18 tiene/O_19 alguna/O_20 informacion/O_21 inmediata/O_22 sobre/O_23 el/O_24 ./O_25 Alguien/O_26 que/O_27 le/O_28 pueda/O_29 decir/O_30 q/O_31 puede/O_32 ir/O_33 a/O_34 la/O_35 alcaldia/O_36 para/O_37 hacer/O_38 llamadas/O_39 o/O_40 que/O_41 puede/O_42 ir/O_43 a/O_44 salinas/O_45 tambien/O_46 ./O_47 Gracias/O_48 ❤/O_49 ??/O_50 ??/O_51\n",
      "error at index 164 with len 417 and 420\n",
      "10/3_0 /_1 2017_2 -_3 summary_4 of_5 some_6 of_7 today's_8 updates_9 ._10 Additional_11 information_12 on_13 the_14 attached_15 link_16 ._17 4:35_18 p_19 ._20 m_21 ._22 -_23 El_24 gobierno_25 federal_26 denegó_27 el_28 pedido_29 de_30 Puerto_31 Rico_32 para_33 que_34 los_35 beneficiarios_36 del_37 PAN_38 puedan_39 comprar_40 comidas_41 ya_42 preparadas_43 en_44 cadenas_45 de_46 restaurantes_47 de_48 comida_49 rápida_50 ,_51 informó_52 The_53 New_54 York_55 Times.Los_56 casi_57 1.3_58 millones_59 de_60 personas_61 que_62 se_63 benefician_64 deeste_65 programa_66 –_67 casi_68 el_69 40_70 %_71 de_72 la_73 población_74 -_75 no_76 han_77 podido_78 usar_79 la_80 ayuda_81 federal_82 debido_83 a_84 la_85 falta_86 de_87 alimentos_88 y_89 suministros_90 en_91 los_92 supermerca_93 1.2_94 :_95 40_96 p_97 ._98 m_99 ._100 -_101 La_102 Sociedad_103 Americana_104 Contra_105 el_106 Cáncer_107 de_108 Puerto_109 Rico_110 continúa_111 ofreciendo_112 sus_113 servicios_114 ,_115 en_116 especial_117 a_118 los_119 pacientes_120 damnificados_121 ._122 Para_123 comunicarse_124 pueden_125 llamar_126 al_127 :_128 (_129 1-888)_130 227-3201_131 ,_132 (_133 1-800)_134 227-2345_135 ,_136 o_137 (787)_138 246-6475_139 ._140 3:31_141 p_142 ._143 m_144 ._145 -_146 Claro_147 levantó_148 380K_149 radio_150 bases_151 en_152 la_153 mañana_154 de_155 hoy_156 ._157 La_158 cobertura_159 en_160 el_161 área_162 metro_163 sigue_164 aumentando_165 de_166 manera_167 significativa_168 :_169 en_170 [[San_171 Juan_172]]{CITY} está_173 en_174 un_175 48_176 %_177 ,_178 [[Carolina_179]]{CITY} 28_180 %_181 y_182 [[Bayamón_183]]{CITY} 24_184 %_185 ._186 De_187 igual_188 manera_189 se_190 registra_191 progreso_192 en_193 áreas_194 isla_195 :_196 [[Camuy_197]]{CITY} 33_198 %_199 ,_200 [[Aguada_201]]{CITY} 29_202 %_203 ,_204 [[Mayagüez_205]]{CITY} 27_206 %_207 y_208 [[Añasco_209]]{CITY} 25_210 %_211 ._212 2:00_213 p_214 ._215 m_216 ._217 -_218 Supermercados_219 ECONO_220 busca_221 empleados_222 temporeros_223 con_224 experiencia_225 en_226 almacén_227 ._228 Los_229 candidatos_230 deberán_231 tener_232 licencia_233 de_234 conducir_235 vigente_236 y_237 experiencia_238 en_239 despacho_240 ._241 Para_242 solicitud_243 y_244 entrevista_245 ,_246 pasar_247 directamente_248 por_249 las_250 oficinas_251 del_252 Centro_253 de_254 Distribución_255 ,_256 localizado_257 en_258 [[Carolina_259]]{CITY} ,_260 con_261 su_262 resumé_263 ,_264 licencia_265 de_266 conducir_267 y_268 Certificado_269 negativo_270 de_271 Antecedentes_272 Penales_273 ._274 11:54_275 a_276 ._277 m_278 ._279 -_280 El_281 [[aeropuerto_282 Rafael_283 Hernández_284]]{TOPO} de_285 [[Aguadilla_286]]{CITY} está_287 en_288 pie_289 ._290 Fueron_291 muchos_292 los_293 vecinos_294 de_295 la_296 [[Antigua_297 Base_298 Ramey_299]]{UNK} en_300 [[Aguadilla_301]]{CITY} así_302 como_303 representantes_304 de_305 empresas_306 privadas_307 que_308 se_309 unieron_310 para_311 levantar_312 las_313 verjas_314 de_315 la_316 instalación_317 aérea_318 y_319 darle_320 luz_321 ,_322 con_323 generadores_324 ,_325 a_326 la_327 estructura_328 ._329 9:29_330 a_331 ._332 m_333 ._334 -_335 El_336 100_337 %_338 de_339 la_340 isla_341 fue_342 declarada_343 zona_344 de_345 desastres_346 ,_347 reiteró_348 Rosselló_349 ._350 9:02_351 a_352 ._353 m_354 ._355 -_356 Dijo_357 que_358 FEMA_359 tiene_360 78_361 camiones_362 de_363 distribución_364 de_365 agua_366 potable_367 ,_368 0_369 por_370 cada_371 municipio_372 ._373 8:_374 39_375 a_376 ._377 m_378 ._379 -_380 Habrá_381 un_382 centro_383 de_384 cocina_385 y_386 distribución_387 de_388 comidas_389 en_390 cada_391 municipio_392 ,_393 anunció_394 Rosselló_395 ._396 6:52_397 a_398 ._399 m_400 ._401 -_402 Rosario_403 señaló_404 que_405 Hacienda_406 toma_407 medidas_408 para_409 pagar_410 quincena_411 de_412 los_413 empleados_414 públicos_415 ._416\n",
      "10/3/ORG_0 //ORG_1 2017/ORG_2 -/ORG_3 summary/ORG_4 of/ORG_5 some/ORG_6 of/O_7 today/O_8 's/O_9 updates/O_10 ./O_11 Additional/O_12 information/O_13 on/O_14 the/O_15 attached/O_16 link/O_17 ./O_18 4:35/O_19 p/O_20 ./O_21 m/O_22 ./O_23 -/O_24 El/O_25 gobierno/O_26 federal/O_27 denegó/O_28 el/O_29 pedido/O_30 de/O_31 Puerto/LUG_32 Rico/LUG_33 para/O_34 que/O_35 los/O_36 beneficiarios/O_37 del/O_38 PAN/ORG_39 puedan/O_40 comprar/O_41 comidas/O_42 ya/O_43 preparadas/O_44 en/O_45 cadenas/O_46 de/O_47 restaurantes/O_48 de/O_49 comida/O_50 rápida/O_51 ,/O_52 informó/O_53 The/ORG_54 New/ORG_55 York/ORG_56 Times.Los/ORG_57 casi/O_58 1.3/O_59 millones/O_60 de/O_61 personas/O_62 que/O_63 se/O_64 benefician/O_65 deeste/O_66 programa/O_67 --/O_68 casi/O_69 el/O_70 40/O_71 %/O_72 de/O_73 la/O_74 población/O_75 -/O_76 no/O_77 han/O_78 podido/O_79 usar/O_80 la/O_81 ayuda/O_82 federal/O_83 debido/O_84 a/O_85 la/O_86 falta/O_87 de/O_88 alimentos/O_89 y/O_90 suministros/O_91 en/O_92 los/O_93 supermerca/O_94 1.2/O_95 :/O_96 40/O_97 p/O_98 ./O_99 m/O_100 ./O_101 -/O_102 La/O_103 Sociedad/ORG_104 Americana/ORG_105 Contra/ORG_106 el/ORG_107 Cáncer/ORG_108 de/O_109 Puerto/LUG_110 Rico/LUG_111 continúa/O_112 ofreciendo/O_113 sus/O_114 servicios/O_115 ,/O_116 en/O_117 especial/O_118 a/O_119 los/O_120 pacientes/O_121 damnificados/O_122 ./O_123 Para/O_124 comunicarse/O_125 pueden/O_126 llamar/O_127 al/O_128 :/O_129 -LRB-/O_130 1-888/O_131 -RRB-/O_132 227-3201/O_133 ,/O_134 -LRB-/O_135 1-800/O_136 -RRB-/O_137 227-2345/O_138 ,/O_139 o/O_140 -LRB-787-RRB- 246-6475/O_141 ./O_142 3:31/O_143 p/O_144 ./O_145 m/O_146 ./O_147 -/O_148 Claro/O_149 levantó/O_150 380K/O_151 radio/O_152 bases/O_153 en/O_154 la/O_155 mañana/O_156 de/O_157 hoy/O_158 ./O_159 La/O_160 cobertura/O_161 en/O_162 el/O_163 área/O_164 metro/O_165 sigue/O_166 aumentando/O_167 de/O_168 manera/O_169 significativa/O_170 :/O_171 en/O_172 San/LUG_173 Juan/LUG_174 está/O_175 en/O_176 un/O_177 48/O_178 %/O_179 ,/O_180 Carolina/PERS_181 28/O_182 %/O_183 y/O_184 Bayamón/ORG_185 24/O_186 %/O_187 ./O_188 De/O_189 igual/O_190 manera/O_191 se/O_192 registra/O_193 progreso/O_194 en/O_195 áreas/O_196 isla/O_197 :/O_198 Camuy/LUG_199 33/O_200 %/O_201 ,/O_202 Aguada/O_203 29/O_204 %/O_205 ,/O_206 Mayagüez/LUG_207 27/O_208 %/O_209 y/O_210 Añasco/PERS_211 25/O_212 %/O_213 ./O_214 2:00/O_215 p/O_216 ./O_217 m/O_218 ./O_219 -/O_220 Supermercados/O_221 ECONO/ORG_222 busca/O_223 empleados/O_224 temporeros/O_225 con/O_226 experiencia/O_227 en/O_228 almacén/O_229 ./O_230 Los/O_231 candidatos/O_232 deberán/O_233 tener/O_234 licencia/O_235 de/O_236 conducir/O_237 vigente/O_238 y/O_239 experiencia/O_240 en/O_241 despacho/O_242 ./O_243 Para/O_244 solicitud/O_245 y/O_246 entrevista/O_247 ,/O_248 pasar/O_249 directamente/O_250 por/O_251 las/O_252 oficinas/O_253 del/O_254 Centro/ORG_255 de/O_256 Distribución/OTROS_257 ,/O_258 localizado/O_259 en/O_260 Carolina/LUG_261 ,/O_262 con/O_263 su/O_264 resumé/O_265 ,/O_266 licencia/O_267 de/O_268 conducir/O_269 y/O_270 Certificado/O_271 negativo/O_272 de/O_273 Antecedentes/ORG_274 Penales/ORG_275 ./O_276 11:54/O_277 a/O_278 ./O_279 m/O_280 ./O_281 -/O_282 El/O_283 aeropuerto/O_284 Rafael/PERS_285 Hernández/PERS_286 de/O_287 Aguadilla/LUG_288 está/O_289 en/O_290 pie/O_291 ./O_292 Fueron/O_293 muchos/O_294 los/O_295 vecinos/O_296 de/O_297 la/O_298 Antigua/ORG_299 Base/ORG_300 Ramey/ORG_301 en/O_302 Aguadilla/LUG_303 así/O_304 como/O_305 representantes/O_306 de/O_307 empresas/O_308 privadas/O_309 que/O_310 se/O_311 unieron/O_312 para/O_313 levantar/O_314 las/O_315 verjas/O_316 de/O_317 la/O_318 instalación/O_319 aérea/O_320 y/O_321 darle/O_322 luz/O_323 ,/O_324 con/O_325 generadores/O_326 ,/O_327 a/O_328 la/O_329 estructura/O_330 ./O_331 9:29/O_332 a/O_333 ./O_334 m/O_335 ./O_336 -/O_337 El/O_338 100/O_339 %/O_340 de/O_341 la/O_342 isla/O_343 fue/O_344 declarada/O_345 zona/O_346 de/O_347 desastres/O_348 ,/O_349 reiteró/O_350 Rosselló/PERS_351 ./O_352 9:02/O_353 a/O_354 ./O_355 m/O_356 ./O_357 -/O_358 Dijo/O_359 que/O_360 FEMA/ORG_361 tiene/O_362 78/O_363 camiones/O_364 de/O_365 distribución/O_366 de/O_367 agua/O_368 potable/O_369 ,/O_370 0/O_371 por/O_372 cada/O_373 municipio/O_374 ./O_375 8/O_376 :/O_377 39/O_378 a/O_379 ./O_380 m/O_381 ./O_382 -/O_383 Habrá/O_384 un/O_385 centro/O_386 de/O_387 cocina/O_388 y/O_389 distribución/O_390 de/O_391 comidas/O_392 en/O_393 cada/O_394 municipio/O_395 ,/O_396 anunció/O_397 Rosselló/PERS_398 ./O_399 6:52/O_400 a/O_401 ./O_402 m/O_403 ./O_404 -/O_405 Rosario/O_406 señaló/O_407 que/O_408 Hacienda/ORG_409 toma/O_410 medidas/O_411 para/O_412 pagar/O_413 quincena/O_414 de/O_415 los/O_416 empleados/O_417 públicos/O_418 ./O_419\n",
      "error at index 172 with len 346 and 354\n",
      "La_0 comunicacion_1 con_2 [[Lajas_3]]{CITY} continua_4 siendo_5 minima_6 ._7 Muchas_8 personas_9 consiguen_10 señal_11 en_12 la_13 116_14 ,_15 y_16 puede_17 que_18 en_19 otros_20 lugares_21 en_22 [[Lajas_23]]{CITY} -_24 -_25 asi_26 como_27 algunos_28 \"_29 landlines_30 \"_31 ,_32 particularmente_33 si_34 todavian_35 utilizan_36 los_37 viejos_38 telefonos_39 (_40 i_41 ._42 e_43 ._44 ,_45 no_46 inalambricos_47 ._48 )_49 Por_50 la_51 informacion_52 que_53 (_54 por_55 cuenta_56 gotas_57 )_58 me_59 llega_60 de_61 mi_62 familia_63 ,_64 [[Lajas_65]]{CITY} fue_66 0_67 de_68 los_69 municipios_70 MENOS_71 afectados_72 -_73 -_74 sino_75 el_76 menos_77 afectados_78 ._79 La_80 vida-dentro_81 de_82 lo_83 possible--continua_84 con_85 su_86 ritmo_87 ._88 Entiendo_89 hay_90 lugares_91 para_92 comer_93 (_94 restaurants_95 ,_96 fast_97 foods_98 )_99 abiertos_100 ,_101 asi_102 como_103 Mr_104 ._105 Special--que_106 no_107 tendra_108 el_109 surtido_110 de_111 alimentos_112 que_113 normalmente_114 tendria_115 pero_116 donde_117 hay_118 suministros--enlatados_119 ,_120 por_121 ejemplo_122 ._123 Esto_124 no_125 quiere_126 decir_127 que_128 no_129 sea_130 necesario_131 que_132 lleguen_133 alimentos_134 y_135 agua_136 potable_137 adicional_138 tan_139 pronto_140 sea_141 possible_142 ._143 (_144 creo_145 la_146 primera_147 dama_148 reciente_149 mente_150 llevo_151 ayuda_152 a_153 [[Lajas_154]]{CITY} )_155 En_156 los_157 ultimos_158 dias_159 se_160 ha_161 visto_162 movimiento_163 de_164 FEMA_165 y_166 otros--y_167 me_168 indicant_169 que_170 en_171 la_172 ruta_173 hacia_174 [[San_175 Juan_176]]{CITY} ,_177 se_178 ven_179 camiones_180 con_181 suminitros_182 ,_183 gasolinas_184 ,_185 asi_186 como_187 la_188 Guardia_189 Nacional_190 ,_191 de_192 camino_193 hacia_194 el_195 oeste_196 ._197 Las_198 filas_199 para_200 gasolinA_201 ,_202 laaaaargas_203 ._204 NO_205 hay_206 electricidad_207 (_208 como_209 tampoco_210 a_211 llegado_212 a_213 la_214 mayoria_215 de_216 la_217 poblacion_218 atraves_219 de_220 la_221 Isla_222 )_223 ._224 Hubo_225 agua_226 potable_227 luego_228 del_229 huracan_230 ._231 Hoy_232 cortaron_233 el_234 agua.[[La_235 Cooperativa_236]]{TOPO} esta_237 abierta_238 ,_239 asi_240 que_241 si_242 es_243 miembro_244 puede_245 ir_246 a_247 sacar_248 cash_249 sin_250 tener_251 que_252 hacer_253 las_254 filas_255 de_256 la_257 ATH.Hoy_258 (_259 ?_260 )_261 saliodos_262 articulo_263 en_264 in_265 period_266 de_267 Los_268 Angeles_269 sobre_270 las_271 condiciones_272 y_273 necesidades_274 en_275 los_276 refugios_277 ,_278 hogares_279 de_280 ancianos_281 ,_282 etc_283 ._284 en_285 [[Lajas]]{CITY}.Entiendo_286 que_287 [[Lajas_288]]{CITY} ya_289 es_290 elegible_291 para_292 el_293 programa_294 de_295 asistencia_296 publica_297 de_298 FEMA_299 (_300 i_301 ._302 e_303 ._304 ayuda_305 para_306 las_307 carreteras_308 ,_309 puentes_310 ,_311 infraestructura_312 afectada_313 )_314 ,_315 pero_316 No_317 para_318 el_319 programa_320 de_321 asistencia_322 individual_323 (_324 que_325 prove_326 ayuda_327 a_328 las_329 familias_330 e_331 individuos_332 )_333 ,_334 Es_335 importante_336 que_337 [[Lajas_338]]{CITY} y_339 los_340 otros_341 municipios_342 sean_343 incluidos_344 !_345\n",
      "La/O_0 comunicacion/ORG_1 con/O_2 Lajas/ORG_3 continua/O_4 siendo/O_5 minima/O_6 ./O_7 Muchas/O_8 personas/O_9 consiguen/O_10 señal/O_11 en/O_12 la/O_13 116/O_14 ,/O_15 y/O_16 puede/O_17 que/O_18 en/O_19 otros/O_20 lugares/O_21 en/O_22 Lajas/LUG_23 -/O_24 -/O_25 asi/O_26 como/O_27 algunos/O_28 ''/O_29 landlines/O_30 ''/O_31 ,/O_32 particularmente/O_33 si/O_34 todavian/O_35 utilizan/O_36 los/O_37 viejos/O_38 telefonos/O_39 -LRB-/O_40 i/O_41 ./O_42 e/O_43 ./O_44 ,/O_45 no/O_46 inalambricos/O_47 ./O_48 -RRB-/O_49 Por/O_50 la/O_51 informacion/O_52 que/O_53 -LRB-/O_54 por/O_55 cuenta/O_56 gotas/O_57 -RRB-/O_58 me/O_59 llega/O_60 de/O_61 mi/O_62 familia/O_63 ,/O_64 Lajas/PERS_65 fue/O_66 0/O_67 de/O_68 los/O_69 municipios/O_70 MENOS/O_71 afectados/O_72 -/O_73 -/O_74 sino/O_75 el/O_76 menos/O_77 afectados/O_78 ./O_79 La/O_80 vida-dentro/O_81 de/O_82 lo/O_83 possible/O_84 --/O_85 continua/O_86 con/O_87 su/O_88 ritmo/O_89 ./O_90 Entiendo/O_91 hay/O_92 lugares/O_93 para/O_94 comer/O_95 -LRB-/O_96 restaurants/O_97 ,/O_98 fast/O_99 foods/O_100 -RRB-/O_101 abiertos/O_102 ,/O_103 asi/O_104 como/O_105 Mr/O_106 ./O_107 Special/O_108 --/O_109 que/O_110 no/O_111 tendra/O_112 el/O_113 surtido/O_114 de/O_115 alimentos/O_116 que/O_117 normalmente/O_118 tendria/O_119 pero/O_120 donde/O_121 hay/O_122 suministros/O_123 --/O_124 enlatados/O_125 ,/O_126 por/O_127 ejemplo/O_128 ./O_129 Esto/O_130 no/O_131 quiere/O_132 decir/O_133 que/O_134 no/O_135 sea/O_136 necesario/O_137 que/O_138 lleguen/O_139 alimentos/O_140 y/O_141 agua/O_142 potable/O_143 adicional/O_144 tan/O_145 pronto/O_146 sea/O_147 possible/O_148 ./O_149 -LRB-/O_150 creo/O_151 la/O_152 primera/O_153 dama/O_154 reciente/O_155 mente/O_156 llevo/O_157 ayuda/O_158 a/O_159 Lajas/LUG_160 -RRB-/O_161 En/O_162 los/O_163 ultimos/O_164 dias/O_165 se/O_166 ha/O_167 visto/O_168 movimiento/O_169 de/O_170 FEMA/ORG_171 y/O_172 otros/O_173 --/O_174 y/O_175 me/O_176 indicant/O_177 que/O_178 en/O_179 la/O_180 ruta/O_181 hacia/O_182 San/LUG_183 Juan/LUG_184 ,/O_185 se/O_186 ven/O_187 camiones/O_188 con/O_189 suminitros/O_190 ,/O_191 gasolinas/O_192 ,/O_193 asi/O_194 como/O_195 la/O_196 Guardia/ORG_197 Nacional/ORG_198 ,/O_199 de/O_200 camino/O_201 hacia/O_202 el/O_203 oeste/O_204 ./O_205 Las/O_206 filas/O_207 para/O_208 gasolinA/O_209 ,/O_210 laaaaargas/O_211 ./O_212 NO/O_213 hay/O_214 electricidad/O_215 -LRB-/O_216 como/O_217 tampoco/O_218 a/O_219 llegado/O_220 a/O_221 la/O_222 mayoria/O_223 de/O_224 la/O_225 poblacion/O_226 atraves/O_227 de/O_228 la/O_229 Isla/LUG_230 -RRB-/O_231 ./O_232 Hubo/O_233 agua/O_234 potable/O_235 luego/O_236 del/O_237 huracan/O_238 ./O_239 Hoy/O_240 cortaron/O_241 el/O_242 agua.La/O_243 Cooperativa/ORG_244 esta/O_245 abierta/O_246 ,/O_247 asi/O_248 que/O_249 si/O_250 es/O_251 miembro/O_252 puede/O_253 ir/O_254 a/O_255 sacar/O_256 cash/O_257 sin/O_258 tener/O_259 que/O_260 hacer/O_261 las/O_262 filas/O_263 de/O_264 la/O_265 ATH.Hoy/O_266 -LRB-/O_267 ?/O_268 -RRB-/O_269 saliodos/O_270 articulo/O_271 en/O_272 in/O_273 period/O_274 de/O_275 Los/O_276 Angeles/LUG_277 sobre/O_278 las/O_279 condiciones/O_280 y/O_281 necesidades/O_282 en/O_283 los/O_284 refugios/O_285 ,/O_286 hogares/O_287 de/O_288 ancianos/O_289 ,/O_290 etc/O_291 ./O_292 en/O_293 Lajas.Entiendo/O_294 que/O_295 Lajas/PERS_296 ya/O_297 es/O_298 elegible/O_299 para/O_300 el/O_301 programa/O_302 de/O_303 asistencia/O_304 publica/O_305 de/O_306 FEMA/ORG_307 -LRB-/ORG_308 i/ORG_309 ./O_310 e/O_311 ./O_312 ayuda/O_313 para/O_314 las/O_315 carreteras/O_316 ,/O_317 puentes/O_318 ,/O_319 infraestructura/O_320 afectada/O_321 -RRB-/O_322 ,/O_323 pero/O_324 No/O_325 para/O_326 el/O_327 programa/O_328 de/O_329 asistencia/O_330 individual/O_331 -LRB-/O_332 que/O_333 prove/O_334 ayuda/O_335 a/O_336 las/O_337 familias/O_338 e/O_339 individuos/O_340 -RRB-/O_341 ,/O_342 Es/O_343 importante/O_344 que/O_345 Lajas/PERS_346 y/O_347 los/O_348 otros/O_349 municipios/O_350 sean/O_351 incluidos/O_352 !/O_353\n",
      "error at index 176 with len 58 and 59\n",
      "Buenas_0 Necesito_1 saber_2 si_3 alguien_4 conoce_5 a_6 Orlando_7 Gonzalez_8 Hernandez_9 _10 _11 _12 El_13 se_14 crió_15 en_16 [[Mogote_17]]{UNK} pero_18 ahora_19 está_20 viviendo_21 en_22 [[Toita_23]]{CITY} _24 _25 _26 _27 Es_28 mi_29 primo_30 y_31 compadre_32 y_33 no_34 he_35 podido_36 tener_37 comunicación_38 ._39 El_40 está_41 bn_42 activo_43 en_44 la_45 [[Iglesia_46 Asuncion_47]]{UNK} es_48 Lector_49 ._50 Espero_51 poder_52 saber_53 de_54 él_55 y_56 su_57 papá_58 To_59 ~_60 o_61 González_62\n",
      "Buenas/O_0 Necesito/O_1 saber/O_2 si/O_3 alguien/O_4 conoce/O_5 a/O_6 Orlando/PERS_7 Gonzalez/PERS_8 Hernandez/PERS_9 ./O_10 ./O_11 El/O_12 se/O_13 crió/O_14 en/O_15 Mogote/LUG_16 pero/O_17 ahora/O_18 está/O_19 viviendo/O_20 en/O_21 Toita/LUG_22 _23 _24 _25 /O_26 Es/O_27 mi/O_28 primo/O_29 y/O_30 compadre/O_31 y/O_32 no/O_33 he/O_34 podido/O_35 tener/O_36 comunicación/O_37 ./O_38 El/O_39 está/O_40 bn/O_41 activo/O_42 en/O_43 la/O_44 Iglesia/ORG_45 Asuncion/ORG_46 es/O_47 Lector/PERS_48 ./O_49 Espero/O_50 poder/O_51 saber/O_52 de/O_53 él/O_54 y/O_55 su/O_56 papá/O_57 To/O_58 ~/O_59 o/O_60 González/PERS_61\n",
      "error at index 185 with len 16 and 17\n",
      "Alguien_0 sabe_1 algo_2 de_3 Pitahay_4 en_5 [[Arroyo_6]]{CITY} por_7 favor_8 ?_9 De_10 los_11 Caraballo_12 y_13 Berrios_14 _15 _16 _17\n",
      "Alguien/O_0 sabe/O_1 algo/O_2 de/O_3 Pitahay/PERS_4 en/O_5 Arroyo/LUG_6 por/O_7 favor/O_8 ?/O_9 De/O_10 los/O_11 Caraballo/PERS_12 y/O_13 Berrios/PERS_14 ./O_15 ./O_16\n",
      "error at index 187 with len 57 and 58\n",
      "Soy_0 Mabel_1 Acevedo_2 y_3 vivo_4 en_5 Connecticut_6 ._7 Mi_8 hijo_9 vive_10 en_11 el_12 barrio_13 [[Mulas_14]]{CITY} ,_15 pasando_16 el_17 [[Cocotazo_18]]{UNK}} y_19 pasando_20 la_21 entrada_22 de_23 la_24 [[Charca_25]]{UNK} mas_26 abajo_27 hay_28 un_29 bar_30 de_31 Elmer_32 q_33 se_34 llama_35 Bar_36 [[Brisas_37 del_38 Río_39]]{UNK} ,_40 x_41 esa_42 entrada_43 del_44 bar_45 vive.mi_46 hijo_47 Carlos_48 Ocasio_49 necesito_50 saber_51 si_52 esta_53 bien_54 ._55 Gracias_56\n",
      "Soy/PERS_0 Mabel/PERS_1 Acevedo/PERS_2 y/O_3 vivo/O_4 en/O_5 Connecticut/LUG_6 ./O_7 Mi/O_8 hijo/O_9 vive/O_10 en/O_11 el/O_12 barrio/O_13 Mulas/LUG_14 ,/O_15 pasando/O_16 el/O_17 Cocotazo/ORG_18 -RCB-/ORG_19 y/O_20 pasando/O_21 la/O_22 entrada/O_23 de/O_24 la/O_25 Charca/OTROS_26 mas/O_27 abajo/O_28 hay/O_29 un/O_30 bar/O_31 de/O_32 Elmer/PERS_33 q/O_34 se/O_35 llama/O_36 Bar/LUG_37 Brisas/LUG_38 del/O_39 Río/O_40 ,/O_41 x/O_42 esa/O_43 entrada/O_44 del/O_45 bar/O_46 vive.mi/O_47 hijo/O_48 Carlos/PERS_49 Ocasio/PERS_50 necesito/O_51 saber/O_52 si/O_53 esta/O_54 bien/O_55 ./O_56 Gracias/O_57\n",
      "error at index 216 with len 35 and 34\n",
      "Quiero_0 que_1 sepan_2 que_3 no_4 nos_5 hemos_6 olvidado_7 de_8 ustedes_9 ._10 Estamos_11 trabajando_12 duro_13 para_14 que_15 reciban_16 lo_17 que_18 necesiten_19 ._20 Con_21 todo_22 nuestros_23 esfuerzos_24 ,_25 nos_26 levantaremos_27 ._28 ??_29 ??_30 ??_31 ??_32 ♥_33 ️_34\n",
      "Quiero/O_0 que/O_1 sepan/O_2 que/O_3 no/O_4 nos/O_5 hemos/O_6 olvidado/O_7 de/O_8 ustedes/O_9 ./O_10 Estamos/O_11 trabajando/O_12 duro/O_13 para/O_14 que/O_15 reciban/O_16 lo/O_17 que/O_18 necesiten/O_19 ./O_20 Con/O_21 todo/O_22 nuestros/O_23 esfuerzos/O_24 ,/O_25 nos/O_26 levantaremos/O_27 ./O_28 ??/O_29 ??/O_30 ??/O_31 ??/O_32 ♥/O_33\n",
      "error at index 229 with len 13 and 12\n",
      "HOY_0 SÁBADO_1 *_2 *_3 Esto_4 fue_5 posteado_6 viernes_7 a_8 las_9 11:00_10 pm_11 <URL>_12\n",
      "HOY/O_0 SÁBADO/O_1 */O_2 */O_3 Esto/O_4 fue/O_5 posteado/O_6 viernes/O_7 a/O_8 las/O_9 11:00/O_10 pm/O_11\n",
      "error at index 232 with len 6 and 5\n",
      "Luz_0 en_1 el_2 [[pueblo_3]]{CITY} _4 _5 _6 _7 <URL>_8\n",
      "Luz/O_0 en/O_1 el/O_2 pueblo/O_3 _4 _5 _6 /O_7\n",
      "error at index 237 with len 26 and 25\n",
      "Hize_0 esto_1 con_2 el_3 proposito_4 de_5 que_6 pongamos_7 nuestro_8 granito_9 de_10 arena_11 para_12 nuestro_13 [[Pueblo_14]]{CITY} ._15 Compartanlo_16 por_17 favor_18 ._19 Cualquier_20 ayuda_21 es_22 bienvenida_23 ._24 <URL>_25\n",
      "Hize/PERS_0 esto/O_1 con/O_2 el/O_3 proposito/O_4 de/O_5 que/O_6 pongamos/O_7 nuestro/O_8 granito/O_9 de/O_10 arena/O_11 para/O_12 nuestro/O_13 Pueblo/OTROS_14 ./O_15 Compartanlo/O_16 por/O_17 favor/O_18 ./O_19 Cualquier/O_20 ayuda/O_21 es/O_22 bienvenida/O_23 ./O_24\n",
      "error at index 245 with len 108 and 109\n",
      "Buscando_0 información_1 sobre_2 mi_3 s_4 padres_5 José_6 “_7 Toñito_8 ”_9 Rivera_10 y_11 Margarita_12 “_13 Mayin_14 ”_15 Rivera_16 ._17 Barrio_18 [[Olimpo_19]]{CITY/TOPO} [[calle_20 Principal_21 #425_22]]{TOPO} mi_23 papá_24 tuvo_25 un_26 derrame_27 cerebral_28 no_29 hace_30 mucho_31 y_32 está_33 en_34 salud_35 delicada_36 ._37 Mi_38 mamá_39 estaba_40 sola_41 con_42 el_43 ._44 No_45 se_46 si_47 los_48 llevaron_49 hacia_50 el_51 Nido_52 Roque_53 o_54 se_55 quedaron_56 en_57 la_58 casa_59 ._60 Alguien_61 con_62 cualquier_63 información_64 favor_65 de_66 llamarme_67 718-986-4032_68 También_69 by_70 o_71 información_72 del_73 el_74 [[Corazon_75]]{CITY} a_76 mis_77 abuela_78 Ángels_79 Vázquez_80 ,_81 mis_82 tías_83 Miriam_84 Figueroa_85 Helen_86 “_87 Nana_88 ”_89 Figueroa_90 Anita_91 Leon_92 y_93 Emma_94 “_95 Memo_96 ”_97 Figueroa_98 ._99 Mi_100 abuela_101 vive_102 cerca_103 de_104 la_105 escuelitas_106 ._107\n",
      "Buscando/O_0 información/O_1 sobre/O_2 mi/O_3 s/O_4 padres/O_5 José/PERS_6 ``/O_7 Toñito/O_8 ''/O_9 Rivera/PERS_10 y/O_11 Margarita/PERS_12 ``/O_13 Mayin/PERS_14 ''/O_15 Rivera/PERS_16 ./O_17 Barrio/LUG_18 Olimpo/LUG_19 calle/O_20 Principal/O_21 #/O_22 425/O_23 mi/O_24 papá/O_25 tuvo/O_26 un/O_27 derrame/O_28 cerebral/O_29 no/O_30 hace/O_31 mucho/O_32 y/O_33 está/O_34 en/O_35 salud/O_36 delicada/O_37 ./O_38 Mi/O_39 mamá/ORG_40 estaba/O_41 sola/O_42 con/O_43 el/O_44 ./O_45 No/O_46 se/O_47 si/O_48 los/O_49 llevaron/O_50 hacia/O_51 el/O_52 Nido/O_53 Roque/LUG_54 o/O_55 se/O_56 quedaron/O_57 en/O_58 la/O_59 casa/O_60 ./O_61 Alguien/O_62 con/O_63 cualquier/O_64 información/O_65 favor/O_66 de/O_67 llamarme/O_68 718-986-4032/O_69 También/O_70 by/O_71 o/O_72 información/O_73 del/O_74 el/O_75 Corazon/ORG_76 a/O_77 mis/O_78 abuela/O_79 Ángels/PERS_80 Vázquez/PERS_81 ,/O_82 mis/O_83 tías/O_84 Miriam/PERS_85 Figueroa/PERS_86 Helen/PERS_87 ``/O_88 Nana/PERS_89 ''/O_90 Figueroa/PERS_91 Anita/PERS_92 Leon/PERS_93 y/O_94 Emma/PERS_95 ``/O_96 Memo/O_97 ''/O_98 Figueroa/PERS_99 ./O_100 Mi/O_101 abuela/O_102 vive/O_103 cerca/O_104 de/O_105 la/O_106 escuelitas/O_107 ./O_108\n",
      "error at index 258 with len 22 and 21\n",
      "<URL>_0 a_1 sus_2 familiares_3 ,_4 yo_5 encontre_6 a_7 uno_8 de_9 los_10 mios_11 y_12 me_13 siento_14 aliviada_15 anque_16 no_17 he_18 podido_19 comunicarme_20 ._21\n",
      "a/O_0 sus/O_1 familiares/O_2 ,/O_3 yo/O_4 encontre/O_5 a/O_6 uno/O_7 de/O_8 los/O_9 mios/O_10 y/O_11 me/O_12 siento/O_13 aliviada/O_14 anque/O_15 no/O_16 he/O_17 podido/O_18 comunicarme/O_19 ./O_20\n",
      "error at index 260 with len 69 and 70\n",
      "A_0 partir_1 de_2 mañana_3 martes_4 ,_5 3_6 de_7 octubre_8 ,_9 abriremos_10 el_11 Primer_12 Centro_13 de_14 Distribución_15 de_16 alimentos_17 y_18 agua_19 en_20 [[El_21 Maní_22]]{TOPO} con_23 transportación_24 en_25 el_26 antiguo_27 [[Pabellón_28 de_29 Barrio_30]]{UNK} xeo_31 ._32 Horarios_33 :_34 de_35 8:_36 00am_37 a_38 9:00_39 am_40 desay_41 0_42 y_43 de_44 4:00_45 a_46 5:00_47 pm_48 la_49 segunda_50 comida_51 ._52 Se_53 les_54 proveerá_55 transportación_56 ._57 Luego_58 abriremos_59 en_60 [[Puras_61 Brisas_62]]{UNK} ,_63 [[Leguisamo_64]]{CITY/TOPO} y_65 [[Río_66 Hondo_67]]{CITY/TOPO} ._68\n",
      "A/O_0 partir/O_1 de/O_2 mañana/O_3 martes/O_4 ,/O_5 3/O_6 de/O_7 octubre/O_8 ,/O_9 abriremos/O_10 el/O_11 Primer/ORG_12 Centro/ORG_13 de/O_14 Distribución/OTROS_15 de/O_16 alimentos/O_17 y/O_18 agua/O_19 en/O_20 El/O_21 Maní/LUG_22 con/O_23 transportación/O_24 en/O_25 el/O_26 antiguo/O_27 Pabellón/ORG_28 de/O_29 Barrio/LUG_30 xeo/LUG_31 ./O_32 Horarios/O_33 :/O_34 de/O_35 8/O_36 :/O_37 00am/O_38 a/O_39 9:00/O_40 am/OTROS_41 desay/O_42 0/O_43 y/O_44 de/O_45 4:00/O_46 a/O_47 5:00/O_48 pm/O_49 la/O_50 segunda/O_51 comida/O_52 ./O_53 Se/O_54 les/O_55 proveerá/O_56 transportación/O_57 ./O_58 Luego/O_59 abriremos/O_60 en/O_61 Puras/LUG_62 Brisas/LUG_63 ,/O_64 Leguisamo/PERS_65 y/O_66 Río/LUG_67 Hondo/LUG_68 ./O_69\n",
      "error at index 265 with len 5 and 4\n",
      "Reportaje_0 sobre_1 el_2 agua_3 <URL>_4\n",
      "Reportaje/OTROS_0 sobre/O_1 el/O_2 agua/O_3\n",
      "error at index 278 with len 129 and 130\n",
      "Mi_0 gente_1 saludos_2 _3 _4 _5 Ayer_6 mi_7 esposo_8 Magüe_9 Torres_10 (_11 El_12 Capo_13 )_14 también_15 de_16 A_17 ._18 B_19 ._20 organizamos_21 un_22 evento_23 en_24 Spring_25 Hill_26 ,_27 Fl_28 ._29 con_30 un_31 grupo_32 de_33 amigos_34 ya_35 familia_36 para_37 nosotros_38 _39 _40 _41 _42 El_43 sacrificio_44 de_45 2_46 semanas_47 valió_48 la_49 pena_50 _51 _52 _53 _54 Aquí_55 les_56 mostramos_57 un_58 poco_59 de_60 lo_61 que_62 hicimos_63 y_64 esperemos_65 también_66 que_67 sí_68 llegue_69 a_70 [[Aguas_71 Buenas_72]]{CITY} ya_73 que_74 hay_75 varios_76 camioneros_77 dispuestos_78 a_79 recoger_80 la_81 mercancía_82 para_83 todos_84 ustedes_85 ._86 Dios_87 los_88 bendiga_89 _90 _91 _92 _93 que_94 siempreeeeeeee_95 viva_96 P_97 ._98 R_99 ._100 y_101 a_102 mi_103 familia_104 en_105 [[Mulas_106]]{CITY} y_107 a_108 la_109 de_110 mi_111 esposo_112 en_113 [[Mulitas_114]]{TOPO} y_115 la_116 barriada_117 espero_118 estén_119 todos_120 bien_121 ._122 Boricuas_123 hasta_124 en_125 la_126 luna_127 _128 _129 _130 _131 #365JEEPLIFE_132 #Springhilldominoclub_133 #ElCapohomedelivery_134 ,_135 LLC_136 ._137 Graciasssssssss_138 !_139 !_140 !_141 <URL>_142\n",
      "Mi/O_0 gente/O_1 saludos/O_2 ./O_3 ./O_4 Ayer/O_5 mi/O_6 esposo/O_7 Magüe/PERS_8 Torres/PERS_9 -LRB-/O_10 El/O_11 Capo/ORG_12 -RRB-/ORG_13 también/O_14 de/O_15 A/OTROS_16 ./O_17 B/O_18 ./O_19 organizamos/O_20 un/O_21 evento/O_22 en/O_23 Spring/LUG_24 Hill/LUG_25 ,/O_26 Fl/O_27 ./O_28 con/O_29 un/O_30 grupo/O_31 de/O_32 amigos/O_33 ya/O_34 familia/O_35 para/O_36 nosotros/O_37 _38 _39 _40 /O_41 El/O_42 sacrificio/O_43 de/O_44 2/O_45 semanas/O_46 valió/O_47 la/O_48 pena/O_49 _50 _51 _52 /O_53 Aquí/O_54 les/O_55 mostramos/O_56 un/O_57 poco/O_58 de/O_59 lo/O_60 que/O_61 hicimos/O_62 y/O_63 esperemos/O_64 también/O_65 que/O_66 sí/O_67 llegue/O_68 a/O_69 Aguas/PERS_70 Buenas/PERS_71 ya/O_72 que/O_73 hay/O_74 varios/O_75 camioneros/O_76 dispuestos/O_77 a/O_78 recoger/O_79 la/O_80 mercancía/O_81 para/O_82 todos/O_83 ustedes/O_84 ./O_85 Dios/O_86 los/O_87 bendiga/O_88 _89 _90 _91 /O_92 que/O_93 siempreeeeeeee/O_94 viva/O_95 P/ORG_96 ./O_97 R/O_98 ./O_99 y/O_100 a/O_101 mi/O_102 familia/O_103 en/O_104 Mulas/LUG_105 y/O_106 a/O_107 la/O_108 de/O_109 mi/O_110 esposo/O_111 en/O_112 Mulitas/LUG_113 y/O_114 la/O_115 barriada/O_116 espero/O_117 estén/O_118 todos/O_119 bien/O_120 ./O_121 Boricuas/O_122 hasta/O_123 en/O_124 la/O_125 luna/O_126 _127 _128 _129 /O_130 #/O_131 365JEEPLIFE/O_132 #Springhilldominoclub/O_133 #ElCapohomedelivery/O_134 ,/O_135 LLC/ORG_136 ./O_137 Graciasssssssss/O_138 !/O_139 !/O_140 !/O_141\n",
      "error at index 288 with len 81 and 79\n",
      "Busco_0 a_1 mi_2 papa_3 Angel_4 David_5 Clas_6 ,_7 a_8 su_9 esposa_10 Lucy_11 y_12 a_13 mi_14 hermano_15 Estuardo_16 ,_17 su_18 esposa_19 Tania_20 Rivera_21 y_22 mi_23 sobrina_24 Natasha_25 ._26 Ellos_27 son_28 de_29 [[Vista_30 Monte_31]]{TOPO} [[calle_32 1_33]]{TOPO} ._34 Si_35 alguien_36 sabe_37 de_38 ellos_39 por_40 favor_41 comuniquese_42 conmigo_43 ._44 Desde_45 aca_46 de_47 la_48 Florida_49 Mis_50 tios_51 luis_52 ,_53 Nydia_54 e_55 Iris_56 tambien_57 estan_58 ansiosos_59 de_60 saber_61 de_62 ellos_63 ._64 Una_65 llamada_66 ,_67 una_68 foto_69 lo_70 que_71 se_72 pueda_73 sera_74 apreciado_75 ._76 407_77 242_78 3642_79 ._80\n",
      "Busco/O_0 a/O_1 mi/O_2 papa/O_3 Angel/PERS_4 David/PERS_5 Clas/PERS_6 ,/O_7 a/O_8 su/O_9 esposa/O_10 Lucy/PERS_11 y/O_12 a/O_13 mi/O_14 hermano/O_15 Estuardo/PERS_16 ,/O_17 su/O_18 esposa/O_19 Tania/PERS_20 Rivera/PERS_21 y/O_22 mi/O_23 sobrina/O_24 Natasha/PERS_25 ./O_26 Ellos/O_27 son/O_28 de/O_29 Vista/LUG_30 Monte/LUG_31 calle/O_32 1/O_33 ./O_34 Si/O_35 alguien/O_36 sabe/O_37 de/O_38 ellos/O_39 por/O_40 favor/O_41 comuniquese/O_42 conmigo/O_43 ./O_44 Desde/O_45 aca/O_46 de/O_47 la/O_48 Florida/LUG_49 Mis/O_50 tios/O_51 luis/O_52 ,/O_53 Nydia/PERS_54 e/O_55 Iris/PERS_56 tambien/O_57 estan/O_58 ansiosos/O_59 de/O_60 saber/O_61 de/O_62 ellos/O_63 ./O_64 Una/O_65 llamada/O_66 ,/O_67 una/O_68 foto/O_69 lo/O_70 que/O_71 se/O_72 pueda/O_73 sera/O_74 apreciado/O_75 ./O_76 407 242 3642/O_77 ./O_78\n",
      "error at index 292 with len 37 and 41\n",
      "Por_0 favor_1 ,_2 si_3 alquien_4 a_5 visto_6 Luis_7 Collazo_8 ,_9 que_10 hasta_11 hoy_12 ,_13 Martes_14 9-26_15 ,_16 2017_17 ._18 Nos_19 no_20 sabemos_21 nada_22 de_23 El.Di_24 Le_25 que_26 llamar_27 su_28 hermana_29 Jessica_30 Collazo_31 Lilja_32 ._33 Jessica_34 Lilja_35 (412)-498-9154_36\n",
      "Por/O_0 favor/O_1 ,/O_2 si/O_3 alquien/O_4 a/O_5 visto/O_6 Luis/PERS_7 Collazo/PERS_8 ,/O_9 que/O_10 hasta/O_11 hoy/O_12 ,/O_13 Martes/O_14 9-26/O_15 ,/O_16 2017/O_17 ./O_18 Nos/O_19 no/O_20 sabemos/O_21 nada/O_22 de/O_23 El.Di/O_24 Le/O_25 que/O_26 llamar/O_27 su/O_28 hermana/O_29 Jessica/PERS_30 Collazo/PERS_31 Lilja/PERS_32 ./O_33 Jessica/PERS_34 Lilja/PERS_35 -LRB-/O_36 412/O_37 -RRB-/O_38 -498/O_39 -9154/O_40\n",
      "error at index 302 with len 11 and 12\n",
      "Alguien_0 sabe_1 del_2 Barrio_3 [[Pulguillas_4]]{CITY} _5 _6 _7 ?_8 ?_9 ?_10 ??_11 ??_12\n",
      "Alguien/O_0 sabe/O_1 del/O_2 Barrio/LUG_3 Pulguillas/LUG_4 ./O_5 ./O_6 ?/O_7 ?/O_8 ?/O_9 ??/O_10 ??/O_11\n",
      "error at index 316 with len 16 and 15\n",
      "<URL>_0 Puerto_1 Rico_2 se_3 levantara_4 en_5 el_6 nombre_7 del_8 Señor_9 ??_10 ??_11 ??_12 ??_13 ??_14 ??_15\n",
      "Puerto/LUG_0 Rico/LUG_1 se/O_2 levantara/O_3 en/O_4 el/O_5 nombre/O_6 del/O_7 Señor/O_8 ??/O_9 ??/O_10 ??/O_11 ??/O_12 ??/O_13 ??/O_14\n",
      "error at index 322 with len 30 and 31\n",
      "Por_0 favor_1 si_2 alguien_3 sabe_4 del_5 barrio_6 [[toita_7]]{CITY} sector_8 [[Filemón_9]]{UNK} déjenme_10 saber_11 tengo_12 a_13 parte_14 de_15 mi_16 familia_17 allá_18 y_19 no_20 sé_21 nada_22 de_23 ellos_24 estoy_25 desesperada_26 _27 _28 _29 ??_30 ??_31\n",
      "Por/O_0 favor/O_1 si/O_2 alguien/O_3 sabe/O_4 del/O_5 barrio/O_6 toita/O_7 sector/O_8 Filemón/PERS_9 déjenme/O_10 saber/O_11 tengo/O_12 a/O_13 parte/O_14 de/O_15 mi/O_16 familia/O_17 allá/O_18 y/O_19 no/O_20 sé/O_21 nada/O_22 de/O_23 ellos/O_24 estoy/O_25 desesperada/O_26 ./O_27 ./O_28 ??/O_29 ??/O_30\n",
      "error at index 324 with len 111 and 107\n",
      "Bo.[[Nuevo_0]]{CITY} sector_1 [[Parcelas_2]]{TOPO} HeviaPara_3 ser_4 más_5 específica_6 al_7 lado_8 de_9 la_10 Parada_11 de_12 frente_13 al_14 puesto_15 de_16 Gasolina_17 ⛽_18 ️_19 Ok_20 se_21 entiende_22 no_23 se_24 debe_25 dejar_26 todo_27 al_28 Gobierno_29 lo_30 leo_31 cada_32 rato_33 ??_34 ??_35 Peroooo_36 si_37 REPARTEN_38 Agua_39 ??_40 ??_41 comida_42 y_43 misceláneos_44 a_45 las_46 casas_47 ??_48 ??_49 de_50 el_51 mismo_52 lado_53 ambos_54 la1_55 por_56 qué_57 no_58 en_59 la_60 de_61 mi_62 Hermana_63 ??_64 ??_65 En_66 serio_67 y_68 también_69 la_70 BASURA_71 no_72 se_73 la_74 LLEVARON_75 pero_76 las_77 demás_78 si_79 ✋_80 ??_81 ??_82 ✋_83 ??_84 ??_85 ✋_86 ??_87 ??_88 ☹_89 ️_90 ☹_91 ️_92 ☹_93 ️_94 ??_95 ??_96 ??_97 ??_98 ??_99 ??_100 ??_101 ??_102 ??_103 ??_104 ??_105 ??_106 ??_107 ??_108 Orlando_109 Ortiz_110\n",
      "Bo.Nuevo/O_0 sector/O_1 Parcelas/O_2 HeviaPara/O_3 ser/O_4 más/O_5 específica/O_6 al/O_7 lado/O_8 de/O_9 la/O_10 Parada/LUG_11 de/O_12 frente/O_13 al/O_14 puesto/O_15 de/O_16 Gasolina/OTROS_17 ⛽/O_18 Ok/O_19 se/O_20 entiende/O_21 no/O_22 se/O_23 debe/O_24 dejar/O_25 todo/O_26 al/O_27 Gobierno/ORG_28 lo/O_29 leo/O_30 cada/O_31 rato/O_32 ??/O_33 ??/O_34 Peroooo/O_35 si/O_36 REPARTEN/O_37 Agua/O_38 ??/O_39 ??/O_40 comida/O_41 y/O_42 misceláneos/O_43 a/O_44 las/O_45 casas/O_46 ??/O_47 ??/O_48 de/O_49 el/O_50 mismo/O_51 lado/O_52 ambos/O_53 la1/O_54 por/O_55 qué/O_56 no/O_57 en/O_58 la/O_59 de/O_60 mi/O_61 Hermana/ORG_62 ??/O_63 ??/O_64 En/O_65 serio/O_66 y/O_67 también/O_68 la/O_69 BASURA/O_70 no/O_71 se/O_72 la/O_73 LLEVARON/O_74 pero/O_75 las/O_76 demás/O_77 si/O_78 ✋/O_79 ??/O_80 ??/O_81 ✋/O_82 ??/O_83 ??/O_84 ✋/O_85 ??/O_86 ??/O_87 ☹/O_88 ☹/O_89 ☹/O_90 ??/O_91 ??/O_92 ??/O_93 ??/O_94 ??/O_95 ??/O_96 ??/O_97 ??/O_98 ??/O_99 ??/O_100 ??/O_101 ??/O_102 ??/O_103 ??/O_104 Orlando/PERS_105 Ortiz/PERS_106\n",
      "error at index 325 with len 97 and 95\n",
      "Buenos_0 días_1 todos_2 ._3 Estamos_4 tratando_5 de_6 comunicarnos_7 con_8 Vigernmina_9 Velez_10 ,_11 Emmanuel_12 Velez_13 y_14 Elvin_15 Velez_16 ._17 Su_18 hija_19 ,_20 Lilly_21 Montero_22 no_23 e_24 podido_25 de_26 comunicarse_27 con_28 ellos_29 desde_30 el_31 martes_32 pasado_33 9/19_34 /_35 2017_36 ._37 Par_38 [[Las_39 Estancias_40]]{UNK} Car_41 ._42 [[Roncador_43]]{CITY} ,_44 [[Utuado_45]]{CITY} ._46 Esta_47 casa_48 está_49 colocado_50 en_51 el_52 mismo_53 pueblito_54 de_55 [[Roncador_56]]{CITY]} ,_57 [[Utuado_58]]{CITY} pa_59 que_60 sepan_61 por_62 donde_63 es_64 que_65 se_66 encuentra_67 esta_68 familia_69 ._70 Por_71 favor_72 ._73 Y_74 pase_75 la_76 información_77 a_78 todos_79 ._80 Gracias_81 de_82 todo_83 corazón_84 ❤_85 ️_86 ??_87 ??_88 ??_89 ??_90 ❤_91 ️_92 ??_93 ??_94 ??_95 ??_96\n",
      "Buenos/O_0 días/O_1 todos/O_2 ./O_3 Estamos/O_4 tratando/O_5 de/O_6 comunicarnos/O_7 con/O_8 Vigernmina/PERS_9 Velez/PERS_10 ,/O_11 Emmanuel/PERS_12 Velez/PERS_13 y/O_14 Elvin/PERS_15 Velez/PERS_16 ./O_17 Su/O_18 hija/O_19 ,/O_20 Lilly/PERS_21 Montero/PERS_22 no/O_23 e/O_24 podido/O_25 de/O_26 comunicarse/O_27 con/O_28 ellos/O_29 desde/O_30 el/O_31 martes/O_32 pasado/O_33 9/19/O_34 //O_35 2017/O_36 ./O_37 Par/O_38 Las/O_39 Estancias/LUG_40 Car/LUG_41 ./O_42 Roncador/LUG_43 ,/O_44 Utuado/LUG_45 ./O_46 Esta/O_47 casa/O_48 está/O_49 colocado/O_50 en/O_51 el/O_52 mismo/O_53 pueblito/O_54 de/O_55 Roncador/LUG_56 ,/O_57 Utuado/ORG_58 pa/O_59 que/O_60 sepan/O_61 por/O_62 donde/O_63 es/O_64 que/O_65 se/O_66 encuentra/O_67 esta/O_68 familia/O_69 ./O_70 Por/O_71 favor/O_72 ./O_73 Y/O_74 pase/O_75 la/O_76 información/O_77 a/O_78 todos/O_79 ./O_80 Gracias/O_81 de/O_82 todo/O_83 corazón/O_84 ❤/O_85 ??/O_86 ??/O_87 ??/O_88 ??/O_89 ❤/O_90 ??/O_91 ??/O_92 ??/O_93 ??/O_94\n",
      "error at index 336 with len 9 and 10\n",
      "Alguna_0 informacion_1 de_2 [[los_3 Sauces_4]]{TOPO}} y_5 [[Pin_6 Quiñones_7]]{TOPO} ?_8\n",
      "Alguna/ORG_0 informacion/O_1 de/O_2 los/O_3 Sauces/ORG_4 -RCB-/ORG_5 y/O_6 Pin/PERS_7 Quiñones/PERS_8 ?/O_9\n",
      "error at index 338 with len 42 and 43\n",
      "Estoy_0 buscando_1 Informacion_2 de_3 mi_4 Madre_5 que_6 vive_7 en_8 el_9 bario_10 de_11 [[cuyon_12]]{CITY/TOPO} [[coamo_13]]{CITY} ._14 Ella_15 es_16 una_17 persona_18 enferma_19 con_20 mucha_21 conditioned_22 de_23 salud_24 _25 _26 _27 esta_28 recien_29 operada_30 de_31 una_32 costilla_33 ._34 Pot_35 favor_36 alguna_37 informacion_38 ella_39 se_40 llame_41 Sylvia_42 Martinez_43\n",
      "Estoy/O_0 buscando/O_1 Informacion/OTROS_2 de/O_3 mi/O_4 Madre/OTROS_5 que/O_6 vive/O_7 en/O_8 el/O_9 bario/LUG_10 de/O_11 cuyon/O_12 coamo/O_13 ./O_14 Ella/O_15 es/O_16 una/O_17 persona/O_18 enferma/O_19 con/O_20 mucha/O_21 conditioned/O_22 de/O_23 salud/O_24 ./O_25 ./O_26 esta/O_27 recien/O_28 operada/O_29 de/O_30 una/O_31 costilla/O_32 ./O_33 Pot/O_34 favor/O_35 alguna/O_36 informacion/O_37 ella/O_38 se/O_39 llame/O_40 Sylvia/PERS_41 Martinez/PERS_42\n",
      "error at index 352 with len 67 and 68\n",
      "Buenos_0 Dias_1 a_2 todos_3 espero_4 en_5 Dios_6 todo_7 poderoso_8 que_9 todas_10 nuestras_11 familia_12 esten_13 bien_14 _15 _16 _17 ASEN_18 5_19 DIAS_20 HOY_21 NOSE_22 D_23 MI_24 HERMANA_25 Madelynne_26 Quintero_27 Y_28 SU_29 ESPOSO_30 Renovado_31 Osvaldo_32 León_33 Perez_34 MI_35 HERMANA_36 ES_37 TECNICA_38 DE_39 UÑAS_40 Y_41 ELLA_42 VIVE_43 POR_44 EL_45 [[SUPERMECADO_46 ECONO_47]]{TOPO} SI_48 ALGIEN_49 LA_50 CONOSE_51 O_52 LA_53 VEZ_54 DEJENME_55 SABER_56 PORFAVOR_57 SOLAMENTE_58 QUEREMOS_59 SABER_60 Q_61 ELLOS_62 ESTAN_63 BIEN_64 GRASIAS_65 ESTOS_66 SON_67 ELLOS_68\n",
      "Buenos/LUG_0 Dias/LUG_1 a/O_2 todos/O_3 espero/O_4 en/O_5 Dios/OTROS_6 todo/O_7 poderoso/O_8 que/O_9 todas/O_10 nuestras/O_11 familia/O_12 esten/O_13 bien/O_14 ./O_15 ./O_16 ASEN/O_17 5/O_18 DIAS/O_19 HOY/O_20 NOSE/O_21 D/O_22 MI/O_23 HERMANA/O_24 Madelynne/PERS_25 Quintero/PERS_26 Y/O_27 SU/O_28 ESPOSO/O_29 Renovado/O_30 Osvaldo/PERS_31 León/PERS_32 Perez/PERS_33 MI/O_34 HERMANA/O_35 ES/O_36 TECNICA/O_37 DE/O_38 UÑAS/O_39 Y/O_40 ELLA/O_41 VIVE/O_42 POR/O_43 EL/O_44 SUPERMECADO/ORG_45 ECONO/ORG_46 SI/O_47 ALGIEN/O_48 LA/O_49 CONOSE/O_50 O/O_51 LA/O_52 VEZ/O_53 DEJENME/O_54 SABER/O_55 PORFAVOR/O_56 SOLAMENTE/O_57 QUEREMOS/O_58 SABER/O_59 Q/O_60 ELLOS/O_61 ESTAN/O_62 BIEN/O_63 GRASIAS/O_64 ESTOS/O_65 SON/O_66 ELLOS/O_67\n",
      "error at index 357 with len 146 and 159\n",
      "DIOS_0 MIO_1 ??_2 ??_3 ??_4 ??_5 Cada_6 dia_7 qué_8 pasa_9 _10 _11 _12 _13 cada_14 hora_15 _16 _17 _18 _19 cada_20 minuto_21 _22 _23 _24 es_25 un_26 segundo_27 más_28 que_29 nuestro_30 serés_31 quierdos_32 estan_33 sufriendo_34 _35 _36 _37 _38 Están_39 sin_40 comida_41 _42 _43 _44 sin_45 agua_46 _47 _48 _49 sin_50 luz_51 _52 _53 _54 sin_55 gasolina_56 _57 _58 _59 sin_60 ayuda_61 _62 _63 _64 sin_65 communicacion_66 _67 _68 _69 Ya_70 va_71 una_72 semaña_73 y_74 uno_75 no_76 sabe_77 que_78 hacer_79 _80 _81 _82 Todavia_83 hay_84 familia_85 de_86 que_87 no_88 se_89 sabe_90 nada_91 ??_92 ??_93 no_94 puedes_95 hablar_96 con_97 la_98 familia_99 para_100 ve_101 que_102 necesitas_103 para_104 ayudarlos_105 _106 _107 _108 PUERTO_109 RICO_110 no_111 se_112 puede_113 llevantar_114 si_115 la_116 gente_117 no_118 tiene_119 lo_120 basico_121 para_122 sobrevivir_123 _124 _125 _126 La_127 Vida_128 es_129 importante_130 _131 _132 _133 pero_134 hay_135 que_136 tener_137 salud_138 para_139 sobervivir_140 _141 _142 _143 Tengo_144 el_145 ??_146 ??_147 ??_148 ??_149 ??_150 ??_151 y_152 duele_153 tanto_154 ve_155 a_156 PUERTO_157 RICO_158 sufrir_159 _160 _161 _162 #YABUCOA_163 #_164 ??_165 ??_166 ??_167 ??_168 ??_169 ??_170 ??_171 ??_172 ??_173 ??_174 ??_175 ??_176 ??_177 ??_178 ??_179 ??_180\n",
      "DIOS/O_0 MIO/O_1 ??/O_2 ??/O_3 ??/O_4 ??/O_5 Cada/O_6 dia/O_7 qué/O_8 pasa/O_9 _10 _11 _12 /O_13 cada/O_14 hora/O_15 _16 _17 _18 /O_19 cada/O_20 minuto/O_21 ./O_22 ./O_23 es/O_24 un/O_25 segundo/O_26 más/O_27 que/O_28 nuestro/O_29 serés/O_30 quierdos/O_31 estan/O_32 sufriendo/O_33 _34 _35 _36 /O_37 Están/O_38 sin/O_39 comida/O_40 ./O_41 ./O_42 sin/O_43 agua/O_44 ./O_45 ./O_46 sin/O_47 luz/O_48 ./O_49 ./O_50 sin/O_51 gasolina/O_52 ./O_53 ./O_54 sin/O_55 ayuda/O_56 ./O_57 ./O_58 sin/O_59 communicacion/O_60 ./O_61 ./O_62 Ya/O_63 va/O_64 una/O_65 semaña/O_66 y/O_67 uno/O_68 no/O_69 sabe/O_70 que/O_71 hacer/O_72 ./O_73 ./O_74 Todavia/O_75 hay/O_76 familia/O_77 de/O_78 que/O_79 no/O_80 se/O_81 sabe/O_82 nada/O_83 ??/O_84 ??/O_85 no/O_86 puedes/O_87 hablar/O_88 con/O_89 la/O_90 familia/O_91 para/O_92 ve/O_93 que/O_94 necesitas/O_95 para/O_96 ayudarlos/O_97 ./O_98 ./O_99 PUERTO/O_100 RICO/O_101 no/O_102 se/O_103 puede/O_104 llevantar/O_105 si/O_106 la/O_107 gente/O_108 no/O_109 tiene/O_110 lo/O_111 basico/O_112 para/O_113 sobrevivir/O_114 ./O_115 ./O_116 La/O_117 Vida/O_118 es/O_119 importante/O_120 ./O_121 ./O_122 pero/O_123 hay/O_124 que/O_125 tener/O_126 salud/O_127 para/O_128 sobervivir/O_129 ./O_130 ./O_131 Tengo/O_132 el/O_133 ??/O_134 ??/O_135 ??/O_136 ??/O_137 ??/O_138 ??/O_139 y/O_140 duele/O_141 tanto/O_142 ve/O_143 a/O_144 PUERTO/O_145 RICO/O_146 sufrir/O_147 ./O_148 ./O_149 #YABUCOA/O_150 #/O_151 ??/O_152 ??/O_153 ??/O_154 ??/O_155 ??/O_156 ??/O_157 ??/O_158 ??/O_159 ??/O_160 ??/O_161 ??/O_162 ??/O_163 ??/O_164 ??/O_165 ??/O_166 ??/O_167\n",
      "error at index 359 with len 62 and 61\n",
      "Es_0 importante_1 que_2 nuestra_3 gente_4 en_5 PR_6 sepan_7 que_8 sí_9 los_10 vamos_11 a_12 ayudar_13 con_14 todas_15 nuestras_16 fuerzas_17 y_18 todo_19 lo_20 que_21 sea_22 necesario_23 ._24 La_25 necesidad_26 va_27 para_28 largo_29 ._30 ??_31 ??_32 Tenemos_33 que_34 seguir_35 en_36 lucha_37 junto_38 con_39 nuestra_40 patria_41 hasta_42 el_43 final_44 ._45 ??_46 ??_47 ??_48 ??_49 ??_50 ??_51 ??_52 ??_53 ❤_54 ️_55 Mensaje_56 de_57 mi_58 amiga_59 en_60 PR_61\n",
      "Es/O_0 importante/O_1 que/O_2 nuestra/O_3 gente/O_4 en/O_5 PR/ORG_6 sepan/O_7 que/O_8 sí/O_9 los/O_10 vamos/O_11 a/O_12 ayudar/O_13 con/O_14 todas/O_15 nuestras/O_16 fuerzas/O_17 y/O_18 todo/O_19 lo/O_20 que/O_21 sea/O_22 necesario/O_23 ./O_24 La/O_25 necesidad/O_26 va/O_27 para/O_28 largo/O_29 ./O_30 ??/O_31 ??/O_32 Tenemos/O_33 que/O_34 seguir/O_35 en/O_36 lucha/O_37 junto/O_38 con/O_39 nuestra/O_40 patria/O_41 hasta/O_42 el/O_43 final/O_44 ./O_45 ??/O_46 ??/O_47 ??/O_48 ??/O_49 ??/O_50 ??/O_51 ??/O_52 ??/O_53 ❤/O_54 Mensaje/O_55 de/O_56 mi/O_57 amiga/O_58 en/O_59 PR/ORG_60\n",
      "error at index 362 with len 47 and 48\n",
      "Vivo_0 en_1 NJ_2 _3 _4 _5 _6 necesito_7 saber_8 de_9 Mi_10 Madre_11 Teresa_12 Flores_13 ella_14 está_15 donde_16 su_17 hermana_18 _19 _20 _21 en_22 el_23 [[Real_24]]{CITY} _25 _26 _27 _28 después_29 del_30 charco_31 de_32 la_33 alegria_34 _35 _36 _37 _38 por_39 favor_40 si_41 alguien_42 tiene_43 cualquier_44 información_45 se_46 los_47 voy_48 agradecer_49 i_50 inmensamente_51 _52 _53 _54 _55 Mi_56 Tía_57 es_58 Tita_59 Flores_60\n",
      "Vivo/O_0 en/O_1 NJ/ORG_2 _3 _4 _5 /O_6 necesito/O_7 saber/O_8 de/O_9 Mi/O_10 Madre/PERS_11 Teresa/PERS_12 Flores/PERS_13 ella/O_14 está/O_15 donde/O_16 su/O_17 hermana/O_18 ./O_19 ./O_20 en/O_21 el/O_22 Real/ORG_23 _24 _25 _26 /O_27 después/O_28 del/O_29 charco/O_30 de/O_31 la/O_32 alegria/O_33 _34 _35 _36 /O_37 por/O_38 favor/O_39 si/O_40 alguien/O_41 tiene/O_42 cualquier/O_43 información/O_44 se/O_45 los/O_46 voy/O_47 agradecer/O_48 i/O_49 inmensamente/O_50 _51 _52 _53 /O_54 Mi/O_55 Tía/O_56 es/O_57 Tita/ORG_58 Flores/ORG_59\n",
      "error at index 366 with len 66 and 67\n",
      "Tengo_0 entendido_1 que_2 ya_3 había_4 paso_5 de_6 Lares_7 a_8 [[Caguana_9]]{CITY} ._10 En_11 [[Ángeles_12]]{CITY} no_13 han_14 reportado_15 a_16 nadie_17 herido_18 ni_19 nada_20 por_21 el_22 estilo_23 ._24 Si_25 he_26 leido_27 de_28 deslizamientos_29 de_30 tierra_31 ,_32 muchos_33 postes_34 caídos_35 y_36 casas_37 sin_38 techos_39 _40 _41 _42 pero_43 gracias_44 a_45 Dios_46 lo_47 que_48 ha_49 ocurrido_50 es_51 material_52 ._53 La_54 comunidad_55 está_56 trabajando_57 con_58 la_59 limpieza_60 de_61 sus_62 carretera_63 en_64 [[el_65 Corcho_66]]{TOPO} ._67\n",
      "Tengo/O_0 entendido/O_1 que/O_2 ya/O_3 había/O_4 paso/O_5 de/O_6 Lares/PERS_7 a/O_8 Caguana/LUG_9 ./O_10 En/O_11 Ángeles/O_12 no/O_13 han/O_14 reportado/O_15 a/O_16 nadie/O_17 herido/O_18 ni/O_19 nada/O_20 por/O_21 el/O_22 estilo/O_23 ./O_24 Si/O_25 he/O_26 leido/O_27 de/O_28 deslizamientos/O_29 de/O_30 tierra/O_31 ,/O_32 muchos/O_33 postes/O_34 caídos/O_35 y/O_36 casas/O_37 sin/O_38 techos/O_39 ./O_40 ./O_41 pero/O_42 gracias/O_43 a/O_44 Dios/PERS_45 lo/O_46 que/O_47 ha/O_48 ocurrido/O_49 es/O_50 material/O_51 ./O_52 La/O_53 comunidad/O_54 está/O_55 trabajando/O_56 con/O_57 la/O_58 limpieza/O_59 de/O_60 sus/O_61 carretera/O_62 en/O_63 el/O_64 Corcho/ORG_65 ./O_66\n",
      "error at index 367 with len 27 and 24\n",
      "Me_0 acabo_1 de_2 comunicar_3 con_4 mi_5 mamá_6 y_7 mi_8 Papá_9 ._10 La_11 familia_12 Morales_13 de_14 [[Quebrada_15 Mala_16]]{TOPO} están_17 todos_18 bien_19 ._20 ❤_21 ️_22 ❤_23 ️_24 ❤_25 ️_26\n",
      "Me/O_0 acabo/O_1 de/O_2 comunicar/O_3 con/O_4 mi/O_5 mamá/O_6 y/O_7 mi/O_8 Papá/ORG_9 ./O_10 La/O_11 familia/O_12 Morales/PERS_13 de/O_14 Quebrada/LUG_15 Mala/LUG_16 están/O_17 todos/O_18 bien/O_19 ./O_20 ❤/O_21 ❤/O_22 ❤/O_23\n",
      "error at index 374 with len 89 and 91\n",
      "Yo_0 vivo_1 en_2 Delaware_3 ,_4 Estados_5 Unidos_6 _7 _8 _9 si_10 alguna_11 persona_12 que_13 vive_14 en_15 [[Corozal_16]]{CITY} tiene_17 acceso_18 al_19 internet_20 nada_21 más_22 y_23 no_24 se_25 puede_26 comunicar_27 con_28 algún_29 familiar_30 en_31 Estados_32 Unidos_33 ,_34 inbox_35 el_36 número_37 del_38 familiar_39 y_40 nombre_41 y_42 con_43 mucho_44 gusto_45 yo_46 les_47 llamo_48 para_49 dejarle_50 saber_51 su_52 mensaje_53 _54 _55 _56 _57 Espero_58 que_59 este_60 mensaje_61 sea_62 claro_63 y_64 lo_65 puedan_66 entender_67 ,_68 pues_69 aunque_70 mi_71 lenguaje_72 es_73 Español_74 ,_75 no_76 lo_77 he_78 practicado_79 mucho_80 durante_81 23_82 años_83 ._84 Espero_85 no_86 confundir_87 a_88 nadie_89 _90 _91 _92 cuenten_93 conmigo_94 ._95\n",
      "Yo/O_0 vivo/O_1 en/O_2 Delaware/LUG_3 ,/O_4 Estados/LUG_5 Unidos/LUG_6 ./O_7 ./O_8 si/O_9 alguna/O_10 persona/O_11 que/O_12 vive/O_13 en/O_14 Corozal/LUG_15 tiene/O_16 acceso/O_17 al/O_18 internet/ORG_19 nada/O_20 más/O_21 y/O_22 no/O_23 se/O_24 puede/O_25 comunicar/O_26 con/O_27 algún/O_28 familiar/O_29 en/O_30 Estados/LUG_31 Unidos/LUG_32 ,/O_33 inbox/O_34 el/O_35 número/O_36 del/O_37 familiar/O_38 y/O_39 nombre/O_40 y/O_41 con/O_42 mucho/O_43 gusto/O_44 yo/O_45 les/O_46 llamo/O_47 para/O_48 dejarle/O_49 saber/O_50 su/O_51 mensaje/O_52 _53 _54 _55 /O_56 Espero/O_57 que/O_58 este/O_59 mensaje/O_60 sea/O_61 claro/O_62 y/O_63 lo/O_64 puedan/O_65 entender/O_66 ,/O_67 pues/O_68 aunque/O_69 mi/O_70 lenguaje/O_71 es/O_72 Español/OTROS_73 ,/O_74 no/O_75 lo/O_76 he/O_77 practicado/O_78 mucho/O_79 durante/O_80 23/O_81 años/O_82 ./O_83 Espero/O_84 no/O_85 confundir/O_86 a/O_87 nadie/O_88 ./O_89 ./O_90 cuenten/O_91 conmigo/O_92 ./O_93\n",
      "error at index 379 with len 21 and 20\n",
      "Por_0 favor_1 compartan_2 este_3 vídeo_4 ._5 Nuestra_6 isla_7 necesita_8 mucha_9 ayuda_10 y_11 ellos_12 están_13 llevando_14 artículos_15 de_16 primera_17 necesidad_18 ._19 <URL>_20\n",
      "Por/O_0 favor/O_1 compartan/O_2 este/O_3 vídeo/O_4 ./O_5 Nuestra/O_6 isla/O_7 necesita/O_8 mucha/O_9 ayuda/O_10 y/O_11 ellos/O_12 están/O_13 llevando/O_14 artículos/O_15 de/O_16 primera/O_17 necesidad/O_18 ./O_19\n",
      "error at index 387 with len 34 and 33\n",
      "Estimados_0 :_1 Me_2 pareció_3 un_4 Link_5 útil_6 para_7 que_8 tengan_9 nuestros_10 familiares_11 y_12 amigos_13 en_14 la_15 isla_16 ,_17 a_18 medida_19 que_20 los_21 podamos_22 contactar_23 y_24 ellos_25 tengan_26 comunicación_27 y_28 acceso_29 a_30 Internet_31 :_32 <URL>_33\n",
      "Estimados/O_0 :/O_1 Me/O_2 pareció/O_3 un/O_4 Link/OTROS_5 útil/O_6 para/O_7 que/O_8 tengan/O_9 nuestros/O_10 familiares/O_11 y/O_12 amigos/O_13 en/O_14 la/O_15 isla/O_16 ,/O_17 a/O_18 medida/O_19 que/O_20 los/O_21 podamos/O_22 contactar/O_23 y/O_24 ellos/O_25 tengan/O_26 comunicación/O_27 y/O_28 acceso/O_29 a/O_30 Internet/ORG_31 :/O_32\n",
      "error at index 393 with len 55 and 56\n",
      "Buscando_0 información_1 de_2 mi_3 madre_4 Sylvia_5 M_6 ._7 Morales_8 Luna_9 (_10 [[San_11 Cristóbal_12 Apartments_13]]{UNK} )_14 ,_15 padre_16 William_17 Repollet_18 Diaz_19 (_20 [[Tres_21 Caminos_22]]{TOPO} )_23 abuela_24 Ana_25 Días_26 Loyo_27 (_28 [[Tres_29 Camino_30]]{TOPO} )_31 ,_32 hermana_33 Diomy's_34 Nails_35 hijos_36 y_37 esposo_38 (_39 viven_40 [[Barrancas_41]]{CITY} x_42 [[la_43 gallera_44]]{TOPO} )_45 me_46 dejan_47 saber_48 ??_49 ??_50 ??_51 ??_52 ??_53 ??_54\n",
      "Buscando/O_0 información/O_1 de/O_2 mi/O_3 madre/O_4 Sylvia/PERS_5 M/PERS_6 ./O_7 Morales/ORG_8 Luna/ORG_9 -LRB-/ORG_10 San/ORG_11 Cristóbal/ORG_12 Apartments/ORG_13 -RRB-/ORG_14 ,/O_15 padre/O_16 William/PERS_17 Repollet/PERS_18 Diaz/PERS_19 -LRB-/O_20 Tres/O_21 Caminos/O_22 -RRB-/O_23 abuela/O_24 Ana/PERS_25 Días/PERS_26 Loyo/O_27 -LRB-/O_28 Tres/O_29 Camino/OTROS_30 -RRB-/O_31 ,/O_32 hermana/O_33 Diomy/ORG_34 's/ORG_35 Nails/ORG_36 hijos/ORG_37 y/O_38 esposo/O_39 -LRB-/O_40 viven/O_41 Barrancas/PERS_42 x/O_43 la/O_44 gallera/O_45 -RRB-/O_46 me/O_47 dejan/O_48 saber/O_49 ??/O_50 ??/O_51 ??/O_52 ??/O_53 ??/O_54 ??/O_55\n",
      "error at index 394 with len 45 and 46\n",
      "Necesito_0 saber_1 si_2 alguien_3 sabe_4 o_5 a_6 visto_7 a_8 esta_9 pareja_10 _11 _12 _13 _14 ellos_15 son_16 Nelson_17 y_18 Gladys_19 _20 _21 _22 _23 familiares_24 mios_25 y_26 no_27 se_28 como_29 estan_30 _31 _32 _33 _34 viven_35 en_36 [[Candelaria_37]]{CITY} frente_38 al_39 final_40 de_41 la_42 50_43 _44 _45 _46 _47 cualquier_48 informacion_49 se_50 los_51 voy_52 a_53 agradecer_54 ._55 _56 _57 _58\n",
      "Necesito/O_0 saber/O_1 si/O_2 alguien/O_3 sabe/O_4 o/O_5 a/O_6 visto/O_7 a/O_8 esta/O_9 pareja/O_10 _11 _12 _13 /O_14 ellos/O_15 son/O_16 Nelson/PERS_17 y/O_18 Gladys/PERS_19 _20 _21 _22 /O_23 familiares/O_24 mios/O_25 y/O_26 no/O_27 se/O_28 como/O_29 estan/O_30 _31 _32 _33 /O_34 viven/O_35 en/O_36 Candelaria/LUG_37 frente/O_38 al/O_39 final/O_40 de/O_41 la/O_42 50/O_43 _44 _45 _46 /O_47 cualquier/O_48 informacion/O_49 se/O_50 los/O_51 voy/O_52 a/O_53 agradecer/O_54 ./O_55 ./O_56 ./O_57\n",
      "error at index 402 with len 55 and 54\n",
      "Miembros_0 de_1 la_2 Guardia_3 Nacional_4 tienen_5 teléfonos_6 satelitales_7 y_8 pueden_9 permitir_10 que_11 las_12 personas_13 se_14 comuniquen_15 con_16 sus_17 familiares_18 por_19 ende_20 estén_21 pendientes_22 a_23 sus_24 teléfonos_25 y_26 contesten_27 cualquier_28 número_29 extraño_30 ,_31 probablemente_32 sea_33 algún_34 familiar_35 de_36 usted_37 ._38 Gracias_39 !_40 Estamos_41 para_42 ayudar_43 !_44 ??_45 ??_46 ??_47 ??_48 ♥_49 ️_50 ??_51 ??_52 ??_53 ??_54\n",
      "Miembros/O_0 de/O_1 la/O_2 Guardia/ORG_3 Nacional/ORG_4 tienen/O_5 teléfonos/O_6 satelitales/O_7 y/O_8 pueden/O_9 permitir/O_10 que/O_11 las/O_12 personas/O_13 se/O_14 comuniquen/O_15 con/O_16 sus/O_17 familiares/O_18 por/O_19 ende/O_20 estén/O_21 pendientes/O_22 a/O_23 sus/O_24 teléfonos/O_25 y/O_26 contesten/O_27 cualquier/O_28 número/O_29 extraño/O_30 ,/O_31 probablemente/O_32 sea/O_33 algún/O_34 familiar/O_35 de/O_36 usted/O_37 ./O_38 Gracias/O_39 !/O_40 Estamos/O_41 para/O_42 ayudar/O_43 !/O_44 ??/O_45 ??/O_46 ??/O_47 ??/O_48 ♥/O_49 ??/O_50 ??/O_51 ??/O_52 ??/O_53\n",
      "error at index 410 with len 66 and 65\n",
      "⚠_0 ️_1 Para_2 todas_3 las_4 personas_5 que_6 mandaran_7 donaciones_8 para_9 lo_10 de_11 Puerto_12 Rico_13 o_14 el_15 terremoto_16 es_17 importante_18 que_19 rayen_20 con_21 marcador_22 permanente_23 lo_24 que_25 vayan_26 a_27 enviar_28 y_29 pongan_30 que_31 es_32 donativo_33 ,_34 SÚPER_35 IMPORTANTE_36 QUE_37 CUBRAN_38 EL_39 CÓDIGO_40 DE_41 BARRAS_42 COMPLETAMENTE_43 ,_44 esto_45 es_46 para_47 que_48 no_49 vayan_50 a_51 robar_52 los_53 productos_54 y_55 /_56 o_57 vuelvan_58 a_59 comercializarlos_60 #FuerzaPuerto_61 Rico_62 y_63 México_64 ._65\n",
      "⚠/O_0 Para/O_1 todas/O_2 las/O_3 personas/O_4 que/O_5 mandaran/O_6 donaciones/O_7 para/O_8 lo/O_9 de/O_10 Puerto/LUG_11 Rico/LUG_12 o/O_13 el/O_14 terremoto/O_15 es/O_16 importante/O_17 que/O_18 rayen/O_19 con/O_20 marcador/O_21 permanente/O_22 lo/O_23 que/O_24 vayan/O_25 a/O_26 enviar/O_27 y/O_28 pongan/O_29 que/O_30 es/O_31 donativo/O_32 ,/O_33 SÚPER/O_34 IMPORTANTE/O_35 QUE/O_36 CUBRAN/O_37 EL/O_38 CÓDIGO/O_39 DE/O_40 BARRAS/O_41 COMPLETAMENTE/O_42 ,/O_43 esto/O_44 es/O_45 para/O_46 que/O_47 no/O_48 vayan/O_49 a/O_50 robar/O_51 los/O_52 productos/O_53 y/O_54 //O_55 o/O_56 vuelvan/O_57 a/O_58 comercializarlos/O_59 #FuerzaPuerto/O_60 Rico/O_61 y/O_62 México/LUG_63 ./O_64\n",
      "error at index 413 with len 50 and 49\n",
      "Amigos_0 de_1 [[Guayama_2]]{CITY} ,_3 firmen_4 esta_5 petición_6 ,_7 dejando_8 un_9 comentario_10 ,_11 digan_12 el_13 nombre_14 de_15 su_16 familiar_17 y_18 en_19 que_20 área_21 de_22 [[Guayama_23]]{CITY} se_24 encuentra_25 y_26 su_27 situación_28 _29 _30 _31 _32 No_33 olvides_34 compartir_35 cuantas_36 veces_37 sea_38 posible_39 _40 _41 _42 _43 *_44 PRESIONA_45 LA_46 FOTO_47 PARA_48 QUE_49 PUEDAS_50 FIRMAR_51 ESTA_52 PETICIÓN_53 *_54 <URL>_55\n",
      "Amigos/O_0 de/O_1 Guayama/LUG_2 ,/O_3 firmen/O_4 esta/O_5 petición/O_6 ,/O_7 dejando/O_8 un/O_9 comentario/O_10 ,/O_11 digan/O_12 el/O_13 nombre/O_14 de/O_15 su/O_16 familiar/O_17 y/O_18 en/O_19 que/O_20 área/O_21 de/O_22 Guayama/LUG_23 se/O_24 encuentra/O_25 y/O_26 su/O_27 situación/O_28 _29 _30 _31 /O_32 No/O_33 olvides/O_34 compartir/O_35 cuantas/O_36 veces/O_37 sea/O_38 posible/O_39 _40 _41 _42 /O_43 */O_44 PRESIONA/O_45 LA/O_46 FOTO/O_47 PARA/O_48 QUE/O_49 PUEDAS/O_50 FIRMAR/O_51 ESTA/O_52 PETICIÓN/O_53 */O_54\n",
      "error at index 414 with len 48 and 47\n",
      "Si_0 como_1 yo_2 estás_3 loco_4 por_5 enviar_6 artículos_7 de_8 primera_9 necesidad_10 a_11 tus_12 seres_13 queridos_14 por_15 medio_16 de_17 USPS_18 ,_19 puedes_20 ver_21 cual_22 es_23 el_24 status_25 de_26 servicio_27 del_28 servicio_29 postal_30 de_31 USA_32 por_33 medio_34 de_35 :_36 <URL>_37 Todavía_38 ,_39 lamentablemente_40 ,_41 no_42 hay_43 servicio_44 para_45 [[Yabucoa_46]]{CITY} ._47\n",
      "Si/O_0 como/O_1 yo/O_2 estás/O_3 loco/O_4 por/O_5 enviar/O_6 artículos/O_7 de/O_8 primera/O_9 necesidad/O_10 a/O_11 tus/O_12 seres/O_13 queridos/O_14 por/O_15 medio/O_16 de/O_17 USPS/ORG_18 ,/O_19 puedes/O_20 ver/O_21 cual/O_22 es/O_23 el/O_24 status/O_25 de/O_26 servicio/O_27 del/O_28 servicio/O_29 postal/O_30 de/O_31 USA/ORG_32 por/O_33 medio/O_34 de/O_35 :/O_36 Todavía/O_37 ,/O_38 lamentablemente/O_39 ,/O_40 no/O_41 hay/O_42 servicio/O_43 para/O_44 Yabucoa/LUG_45 ./O_46\n",
      "error at index 430 with len 41 and 42\n",
      "Dios_0 Siga_1 Bendiciendo_2 ,_3 Nuestra_4 Amada_5 Isla_6 ._7 Puerto_8 Rico_9 y_10 Mí_11 Amado_12 Pueblo_13 [[Vega_14 Alta_15]]{CITY} _16 _17 _18 _19 Están_20 En_21 Mí_22 Corazón_23 _24 _25 _26 _27 \"_28 PR_29 _30 _31 _32 Se_33 Levanta_34 ,_35 Con_36 La_37 Ayuda_38 dé_39 Dios_40 _41 _42 _43 _44 Amén_45 \"_46 _47 _48 _49 _50 !_51 !_52 !_53 _54 _55 _56 _57\n",
      "Dios/PERS_0 Siga/PERS_1 Bendiciendo/PERS_2 ,/O_3 Nuestra/ORG_4 Amada/ORG_5 Isla/ORG_6 ./O_7 Puerto/LUG_8 Rico/LUG_9 y/O_10 Mí/O_11 Amado/ORG_12 Pueblo/ORG_13 Vega/ORG_14 Alta/ORG_15 _16 _17 _18 /O_19 Están/O_20 En/O_21 Mí/O_22 Corazón/ORG_23 _24 _25 _26 /O_27 ''/O_28 PR/ORG_29 ./O_30 ./O_31 Se/O_32 Levanta/O_33 ,/O_34 Con/O_35 La/O_36 Ayuda/ORG_37 dé/ORG_38 Dios/ORG_39 _40 _41 _42 /O_43 Amén/O_44 ''/O_45 _46 _47 _48 /O_49 !/O_50 !/O_51 !/O_52 _53 _54 _55 /O_56\n",
      "error at index 447 with len 41 and 38\n",
      "Quiero_0 Agradecer_1 a_2 esta_3 organización_4 que_5 está_6 visitando_7 familias_8 y_9 llevando_10 alimentos_11 ,_12 por_13 favor_14 compartir_15 para_16 que_17 la_18 gente_19 haga_20 donaciones_21 y_22 puedan_23 seguir_24 haciendo_25 está_26 linda_27 labor_28 ❤_29 ️_30 ❤_31 ️_32 ❤_33 ️_34 ??_35 ??_36 ??_37 ??_38 ??_39 ??_40\n",
      "Quiero/ORG_0 Agradecer/ORG_1 a/O_2 esta/O_3 organización/O_4 que/O_5 está/O_6 visitando/O_7 familias/O_8 y/O_9 llevando/O_10 alimentos/O_11 ,/O_12 por/O_13 favor/O_14 compartir/O_15 para/O_16 que/O_17 la/O_18 gente/O_19 haga/O_20 donaciones/O_21 y/O_22 puedan/O_23 seguir/O_24 haciendo/O_25 está/O_26 linda/O_27 labor/O_28 ❤/O_29 ❤/O_30 ❤/O_31 ??/O_32 ??/O_33 ??/O_34 ??/O_35 ??/O_36 ??/O_37\n",
      "error at index 451 with len 51 and 50\n",
      "Mi_0 prima_1 esta_2 recaudando_3 donaciones_4 para_5 ayudar_6 a_7 todos_8 los_9 que_10 se_11 puedan_12 en_13 PR_14 _15 _16 _17 _18 recibos_19 e_20 información_21 sobre_22 los_23 fon_24 1_25 será_26 posteada_27 para_28 que_29 todos_30 sepan_31 en_32 que_33 se_34 usó_35 el_36 dinero_37 ._38 Favor_39 donar_40 y_41 compartir_42 !_43 Gracias_44 por_45 su_46 ayuda_47 y_48 generosidad_49 ._50 Jari_51 Sevilla_52 <URL>_53\n",
      "Mi/O_0 prima/O_1 esta/O_2 recaudando/O_3 donaciones/O_4 para/O_5 ayudar/O_6 a/O_7 todos/O_8 los/O_9 que/O_10 se/O_11 puedan/O_12 en/O_13 PR/ORG_14 _15 _16 _17 /O_18 recibos/O_19 e/O_20 información/O_21 sobre/O_22 los/O_23 fon/O_24 1/O_25 será/O_26 posteada/O_27 para/O_28 que/O_29 todos/O_30 sepan/O_31 en/O_32 que/O_33 se/O_34 usó/O_35 el/O_36 dinero/O_37 ./O_38 Favor/O_39 donar/O_40 y/O_41 compartir/O_42 !/O_43 Gracias/O_44 por/O_45 su/O_46 ayuda/O_47 y/O_48 generosidad/O_49 ./O_50 Jari/PERS_51 Sevilla/PERS_52\n",
      "error at index 460 with len 34 and 35\n",
      "Esta_0 es_1 mi_2 prima_3 ,_4 Enid_5 Santiago_6 Martinez_7 y_8 la_9 mamá_10 ,_11 Carmen_12 (_13 Camo_14 )_15 Martínez_16 ,_17 de_18 Arenas_19 [[Arriba_20]]{CITY} ,_21 [[Utuado]]{CITY}.Espero_22 que_23 estén_24 bien_25 y_26 esperando_27 para_28 hablar_29 con_30 ellas_31 _32 _33 _34 _35 <3_36\n",
      "Esta/O_0 es/O_1 mi/O_2 prima/O_3 ,/O_4 Enid/PERS_5 Santiago/PERS_6 Martinez/PERS_7 y/O_8 la/O_9 mamá/O_10 ,/O_11 Carmen/PERS_12 -LRB-/PERS_13 Camo/PERS_14 -RRB-/PERS_15 Martínez/PERS_16 ,/O_17 de/O_18 Arenas/OTROS_19 Arriba/OTROS_20 ,/O_21 Utuado.Espero/O_22 que/O_23 estén/O_24 bien/O_25 y/O_26 esperando/O_27 para/O_28 hablar/O_29 con/O_30 ellas/O_31 _32 _33 _34 /O_35 </O_36 3/O_37\n",
      "error at index 467 with len 4 and 3\n",
      "#PRSelevanta_0 #PRunido_1 #Comerío_2 <URL>_3\n",
      "#PRSelevanta/O_0 #PRunido/O_1 #Comerío/O_2\n",
      "error at index 471 with len 89 and 91\n",
      "INFORMACION_0 MUY_1 IMPORTANTE.En_2 estos_3 momentos_4 ,_5 existe_6 globos_7 que_8 la_9 FCC_10 permitió_11 volar_12 sobre_13 Puerto_14 Rico_15 para_16 dar_17 señal_18 de_19 telefono.Este_20 proyecto_21 se_22 llama_23 Project_24 Loon.Si_25 usted_26 quiere_27 saber_28 EXACTAMENTE_29 donde_30 está_31 este_32 globo_33 ,_34 valla_35 a_36 la_37 APP_38 STORE_39 ,_40 PLAY_41 STORE_42 o_43 como_44 usted_45 lo_46 llame_47 y_48 baje_49 la_50 aplicacion_51 llamada_52 FLIGHT_53 RADAR_54 24.Desde_55 ahi_56 usted_57 puede_58 ver_59 no_60 solamente_61 los_62 vuelos_63 que_64 entran_65 y_66 salen_67 de_68 Puerto_69 Rico_70 si_71 no_72 tambien_73 este_74 globo_75 y_76 puedan_77 comunicarse_78 con_79 sus_80 familiares.REGUEN_81 LA_82 VOZ_83 Y_84 COMPARTAN_85 !_86 !_87 !_88\n",
      "INFORMACION/O_0 MUY/O_1 IMPORTANTE.En/O_2 estos/O_3 momentos/O_4 ,/O_5 existe/O_6 globos/O_7 que/O_8 la/O_9 FCC/ORG_10 permitió/O_11 volar/O_12 sobre/O_13 Puerto/LUG_14 Rico/LUG_15 para/O_16 dar/O_17 señal/O_18 de/O_19 telefono.Este/O_20 proyecto/O_21 se/O_22 llama/O_23 Project/OTROS_24 Loon.Si/O_25 usted/O_26 quiere/O_27 saber/O_28 EXACTAMENTE/O_29 donde/O_30 está/O_31 este/O_32 globo/O_33 ,/O_34 valla/O_35 a/O_36 la/O_37 APP/ORG_38 STORE/ORG_39 ,/O_40 PLAY/O_41 STORE/O_42 o/O_43 como/O_44 usted/O_45 lo/O_46 llame/O_47 y/O_48 baje/O_49 la/O_50 aplicacion/O_51 llamada/O_52 FLIGHT/O_53 RADAR/O_54 24/O_55 ./O_56 Desde/O_57 ahi/O_58 usted/O_59 puede/O_60 ver/O_61 no/O_62 solamente/O_63 los/O_64 vuelos/O_65 que/O_66 entran/O_67 y/O_68 salen/O_69 de/O_70 Puerto/LUG_71 Rico/LUG_72 si/O_73 no/O_74 tambien/O_75 este/O_76 globo/O_77 y/O_78 puedan/O_79 comunicarse/O_80 con/O_81 sus/O_82 familiares.REGUEN/O_83 LA/O_84 VOZ/O_85 Y/O_86 COMPARTAN/O_87 !/O_88 !/O_89 !/O_90\n",
      "error at index 473 with len 26 and 28\n",
      "Alguna_0 información_1 de_2 las_3 condiciones_4 en_5 el_6 Alto_7 de_8 Cuba_9 ?_10 Quisiera_11 saber_12 de_13 mi_14 abuelo_15 Mimi_16 y_17 mis_18 hermanas_19 Tanisha_20 Davila_21 y_22 It'z_23 La_24 Flakiiss_25\n",
      "Alguna/O_0 información/O_1 de/O_2 las/O_3 condiciones/O_4 en/O_5 el/O_6 Alto/LUG_7 de/O_8 Cuba/LUG_9 ?/O_10 Quisiera/O_11 saber/O_12 de/O_13 mi/O_14 abuelo/O_15 Mimi/PERS_16 y/O_17 mis/O_18 hermanas/O_19 Tanisha/PERS_20 Davila/PERS_21 y/O_22 It/ORG_23 '/O_24 z/O_25 La/O_26 Flakiiss/ORG_27\n",
      "error at index 476 with len 23 and 21\n",
      "Alguién_0 sabe_1 del_2 Barrio_3 [[Helechal_4]]{CITY} ?_5 Por_6 favor_7 cualquier_8 información_9 les_10 será_11 sumamente_12 agradecida_13 ??_14 ??_15 ‍_16 ♀_17 ️_18 ??_19 ??_20 ??_21 ??_22\n",
      "Alguién/O_0 sabe/O_1 del/O_2 Barrio/LUG_3 Helechal/LUG_4 ?/O_5 Por/O_6 favor/O_7 cualquier/O_8 información/O_9 les/O_10 será/O_11 sumamente/O_12 agradecida/O_13 ??/O_14 ??/O_15 ♀/O_16 ??/O_17 ??/O_18 ??/O_19 ??/O_20\n",
      "error at index 478 with len 43 and 44\n",
      "Ayer_0 recibí_1 este_2 mensaje_3 de_4 alguien_5 bn_6 preocupado_7 X_8 sus_9 familiares_10 ,_11 si_12 alguien_13 sabe_14 algo_15 déjenos_16 saber_17 _18 _19 _20 gracias_21 Barrio_22 [[playita]]{CITY}.[[calle_23 la_24 piedra]]{TOPO}.Paco_25 Andino_26 el_27 carpintero.todo_28 el_29 mundo_30 lo_31 conoce_32 y_33 Maggie_34 mi_35 madre.gracias.aqca_36 en_37 E_38 U_39 vivimos_40 con_41 una_42 incertidumbre_43 tremenda_44\n",
      "Ayer/O_0 recibí/O_1 este/O_2 mensaje/O_3 de/O_4 alguien/O_5 bn/O_6 preocupado/O_7 X/O_8 sus/O_9 familiares/O_10 ,/O_11 si/O_12 alguien/O_13 sabe/O_14 algo/O_15 déjenos/O_16 saber/O_17 ./O_18 ./O_19 gracias/O_20 Barrio/LUG_21 playita.calle/O_22 la/O_23 piedra.Paco/O_24 Andino/O_25 el/O_26 carpintero.todo/O_27 el/O_28 mundo/O_29 lo/O_30 conoce/O_31 y/O_32 Maggie/PERS_33 mi/O_34 madre.gracias.aqca/ORG_35 en/ORG_36 E/ORG_37 U/ORG_38 vivimos/O_39 con/O_40 una/O_41 incertidumbre/O_42 tremenda/O_43\n",
      "error at index 487 with len 19 and 20\n",
      "Times_0 square_1 en_2 apoyo_3 a_4 la_5 isla_6 del_7 encanto_8 _9 _10 _11 ??_12 ??_13 #patria_14 #isladelencanto_15 #prselevanta_16 ??_17 ??_18 ??_19 ??_20\n",
      "Times/O_0 square/O_1 en/O_2 apoyo/O_3 a/O_4 la/O_5 isla/O_6 del/O_7 encanto/O_8 ./O_9 ./O_10 ??/O_11 ??/O_12 #patria/O_13 #isladelencanto/O_14 #prselevanta/O_15 ??/O_16 ??/O_17 ??/O_18 ??/O_19\n",
      "error at index 491 with len 19 and 20\n",
      "¿_0 Quiénes_1 no_2 han_3 logrado_4 contactar_5 a_6 sus_7 familiares_8 en_9 [[Coamo_10]]{CITY} ?_11 Sean_12 específicos_13 :_14 nombres_15 y_16 direcciones_17 _18 _19 _20\n",
      "¿/O_0 Quiénes/O_1 no/O_2 han/O_3 logrado/O_4 contactar/O_5 a/O_6 sus/O_7 familiares/O_8 en/O_9 Coamo/LUG_10 ?/O_11 Sean/O_12 específicos/O_13 :/O_14 nombres/O_15 y/O_16 direcciones/O_17 ./O_18 ./O_19\n",
      "error at index 493 with len 42 and 43\n",
      "Si_0 alguien_1 sabe_2 de_3 la_4 familia_5 Laporte_6 Gonzales_7 es_8 mi_9 papá_10 y_11 hermanas_12 aún_13 no_14 se_15 nada_16 de_17 ellos_18 están_19 ubicados_20 en_21 la_22 urbanización_23 [[Bello_24 Horizonte_25]]{TOPO} _26 _27 _28 A_29 el_30 le_31 apodan_32 Censi_33 el_34 q_35 tenía_36 el_37 negocio_38 en_39 la_40 urbanización_41 [[Bello_42 Horizonte_43]]{TOPO}\n",
      "Si/O_0 alguien/O_1 sabe/O_2 de/O_3 la/O_4 familia/O_5 Laporte/PERS_6 Gonzales/PERS_7 es/O_8 mi/O_9 papá/O_10 y/O_11 hermanas/O_12 aún/O_13 no/O_14 se/O_15 nada/O_16 de/O_17 ellos/O_18 están/O_19 ubicados/O_20 en/O_21 la/O_22 urbanización/O_23 Bello/LUG_24 Horizonte/LUG_25 ./O_26 ./O_27 A/O_28 el/O_29 le/O_30 apodan/O_31 Censi/PERS_32 el/O_33 q/O_34 tenía/O_35 el/O_36 negocio/O_37 en/O_38 la/O_39 urbanización/O_40 Bello/LUG_41 Horizonte/LUG_42\n"
     ]
    }
   ],
   "source": [
    "for i, (l1, l2) in enumerate(izip(sample_annotations, ner_annotation_lines)):\n",
    "    l1_tokens = l1.strip().split(' ')\n",
    "    l2_tokens = l2.strip().split(' ')\n",
    "    l1_len = len(l1_tokens)\n",
    "    l2_len = len(l2_tokens)\n",
    "    if(l1_len != l2_len):\n",
    "        print('error at index %d with len %d and %d'%(i, l1_len, l2_len))\n",
    "        print(index_txt(l1))\n",
    "#         print('<%s>'%(l1_tokens[-1].encode('utf-8')))\n",
    "        print(index_txt(l2))"
   ]
  },
  {
   "cell_type": "code",
   "execution_count": 258,
   "metadata": {},
   "outputs": [
    {
     "name": "stdout",
     "output_type": "stream",
     "text": [
      "Dios/OTROS_0 bendigas/OTROS_1 si/O_2 alguien/O_3 saber/O_4 de/O_5 brenda/O_6 marie/O_7 adorno/O_8 de/O_9 vega/O_10 vaba/O_11 ley/O_12 que/O_13 diga/O_14 algo/O_15 no/O_16 sabemos/O_17 nada/O_18 de/O_19 ella/O_20 por/O_21 favor/O_22\n"
     ]
    }
   ],
   "source": [
    "test_ner_txt = ner_annotation_lines[10]\n",
    "print(index_txt(test_ner_txt))"
   ]
  },
  {
   "cell_type": "markdown",
   "metadata": {},
   "source": [
    "Maybe this is the wrong way to go about it!\n",
    "\n",
    "TODO: Let's \"zip\" together the lexicon and NER annotation lists and, in the case of shared mentions, we'll split them based on approximate collocation."
   ]
  },
  {
   "cell_type": "markdown",
   "metadata": {},
   "source": [
    "### Neural NER\n",
    "Let's test the output of [this](https://github.com/glample/tagger) neural NER tagger that has been trained on news text (I think?)."
   ]
  },
  {
   "cell_type": "code",
   "execution_count": null,
   "metadata": {},
   "outputs": [],
   "source": [
    "# already tagged\n",
    "neural_ner_annotated_status_file = '../../data/facebook-maria/'"
   ]
  }
 ],
 "metadata": {
  "kernelspec": {
   "display_name": "Python 2",
   "language": "python",
   "name": "python2"
  },
  "language_info": {
   "codemirror_mode": {
    "name": "ipython",
    "version": 2
   },
   "file_extension": ".py",
   "mimetype": "text/x-python",
   "name": "python",
   "nbconvert_exporter": "python",
   "pygments_lexer": "ipython2",
   "version": "2.7.10"
  }
 },
 "nbformat": 4,
 "nbformat_minor": 2
}
