{
 "cells": [
  {
   "cell_type": "markdown",
   "metadata": {},
   "source": [
    "# Compare pilot annotations\n",
    "In which we compare the annotations (over sample posts) provided in the pilot study to the gold standard annotations."
   ]
  },
  {
   "cell_type": "code",
   "execution_count": 7,
   "metadata": {},
   "outputs": [],
   "source": [
    "import pandas as pd\n",
    "import re"
   ]
  },
  {
   "cell_type": "markdown",
   "metadata": {},
   "source": [
    "## Load data"
   ]
  },
  {
   "cell_type": "code",
   "execution_count": 38,
   "metadata": {},
   "outputs": [
    {
     "name": "stdout",
     "output_type": "stream",
     "text": [
      "[['ingenio', 5184195284, 18.0834124, -65.8729305], ['yabucoa', 1944827110, 18.0504228, -65.8793678], ['humacao', 1945948351, 18.1501953, -65.826731], ['candeloro arriba', 4468392, 18.10191, -65.83683]]\n"
     ]
    }
   ],
   "source": [
    "label_matcher = re.compile('(\\[\\[[^\\]]+\\]\\])(\\{[A-Z]+\\})(\\{[^\\}]+\\})')\n",
    "def extract_labels(x):\n",
    "    x_groups = label_matcher.findall(x)\n",
    "    # we want the name and the ID, lat, lon if available\n",
    "    x_data = map(lambda y: [y[0].replace('[[','').replace(']]',''), \n",
    "                            y[2].replace('{','').replace('}','').split(',')], x_groups)\n",
    "    x_data_formatted = []\n",
    "    for x_d in x_data:\n",
    "        x_name = x_d[0]\n",
    "        if(len(x_d[1]) < 3):\n",
    "            x_id = x_d[1][0]\n",
    "            if(x_id != 'UN' and x_id != 'VAGUE'):\n",
    "                x_id = int(x_id)\n",
    "            x_lat = 0\n",
    "            x_lon = 0\n",
    "        elif(len(x_d[1]) >= 3):\n",
    "            x_id = int(x_d[1][0])\n",
    "            x_lat = float(x_d[1][1])\n",
    "            x_lon = float(x_d[1][2])\n",
    "        x_data_formatted.append([x_name, x_id, x_lat, x_lon])\n",
    "    return x_data_formatted\n",
    "sample_annotated_posts = list(open('../../data/facebook-maria/all_group_sample_statuses_annotated_topo.txt'))\n",
    "test_labels = extract_labels(sample_annotated_posts[0])\n",
    "print(test_labels)\n",
    "# print('\\n'.join(sample_annotated_posts))"
   ]
  },
  {
   "cell_type": "code",
   "execution_count": 40,
   "metadata": {},
   "outputs": [
    {
     "name": "stdout",
     "output_type": "stream",
     "text": [
      "[['ingenio', 5184195284, 18.0834124, -65.8729305], ['yabucoa', 1944827110, 18.0504228, -65.8793678], ['humacao', 1945948351, 18.1501953, -65.826731], ['candeloro arriba', 4468392, 18.10191, -65.83683]]\n",
      "[['Quintas De Guasimas', 'UN', 0, 0], ['Bda Marin', 5184347328, 0, 0]]\n",
      "[['carr 104', 22196127, 18.2238, -67.1563], ['Mayaquez', 4467818, 0, 0]]\n",
      "[['San Crist\\xc3\\xb3bal Apartments', 'UN', 0, 0], ['Tres Caminos', 5184329391, 18.1935967, -66.2910767], ['Tres Camino', 5184329391, 18.1935967, -66.2910767], ['Barrancas', 4468210, 0, 0], ['la gallera', 5184329405, 18.1468483, -66.3015871]]\n",
      "[['San Juan', 4468264, 0, 0], ['Carolina', 4468017, 0, 0], ['Bayam\\xc3\\xb3n', 4468234, 0, 0], ['Camuy', 4467841, 0, 0], ['Aguada', 4468470, 0, 0], ['Mayag\\xc3\\xbcez', 4467818, 0, 0], ['A\\xc3\\xb1asco', 4468537, 0, 0], ['Carolina', 4468017, 0, 0], ['aeropuerto Rafael Hern\\xc3\\xa1ndez', 4567576, 18.4955, -67.13493], ['Aguadilla', 4468292, 0, 0], ['Antigua Base Ramey', 506154128, 0, 0], ['Aguadilla', 4468292, 0, 0]]\n",
      "[['NARANJITO', 4468451, 0, 0], ['La Sabana', 5184324841, 18.2790262, -66.2788681]]\n",
      "[['Calle Jade', 22142874, 18.13236, -66.14438], ['Urbanizaci\\xc3\\xb3n La Plata', 'UN', 0, 0], ['Cayey', 4468564, 0, 0]]\n",
      "[['Barrio Nuevo', 5184443226, 18.2774911, -66.1891996], ['escuela Don Manolo', 4564408, 18.29273, -66.221], ['Naranjito', 4468341, 0, 0]]\n",
      "[['Palmas Bajas', 540517197, 18.01135, -66.11683], ['Guayama', 4467974, 0, 0]]\n",
      "[['urbanizaci\\xc3\\xb3n villamar', 'UN', 0, 0], ['culebra', 540517203, 18.03219, -66.10683], ['Guayama', 4467974, 0, 0]]\n",
      "[['Las Parcelas', 'UN', 0, 0]]\n",
      "[['Carr 4485', 22207185, 0, 0], ['Quebradillas', 4468311, 0, 0], ['Puerto Hermina', 4304654246, 18.4834029, -66.9015441]]\n",
      "[['Calle 6', 22255034, 18.4848029, -66.4052136333], ['7', 22255043, 18.4842225, -66.405066], ['pueblo Nuevo', 'VAGUE', 0, 0], ['vega baja', 1944413557, 18.4445314, -66.387587], ['carretera vieja', 'VAGUE', 0, 0], ['vega Alta', 4467884, 0, 0], ['vega baja', 1944413557, 0, 0]]\n",
      "[['Yauco', 4467727, 0, 0], ['la escuela Blondet', 'UN', 0, 0], ['Pozuelo', 4566901, 17.93941, -66.19072]]\n",
      "[['Cayuco', 5185023442, 18.2912502, -66.7389761], ['Utuado', 4468189, 0, 0], ['Salto Arriva', 4468181, 0, 0]]\n",
      "[['calle 4', 22248310, 18.41156225, -66.31783625], ['Santa Rita', 4568235, 18.41078, -66.31961]]\n",
      "[['San Juan', 4468264, 0, 0], ['coamo', 4467644, 0, 0], ['las calabaza', 371917346, 18.0858799774, -66.3239827887], ['valle escondido', 'UN', 0, 0]]\n",
      "[['Valle Alto', 4568505, 18.01247, -66.01989], ['Marin', 4467945, 0, 0]]\n",
      "[['Pulguillas', 4467636, 0, 0], ['Coamo', 4467644, 0, 0], ['Carretera 723', 22149569, 0, 0]]\n",
      "[['punatilla', 5184366268, 18.4433643, -66.1140619], ['llano', 'UN', 0, 0]]\n"
     ]
    }
   ],
   "source": [
    "sample_label_list = map(extract_labels, sample_annotated_posts)\n",
    "for sample_labels in sample_label_list:\n",
    "    print(sample_labels)"
   ]
  },
  {
   "cell_type": "markdown",
   "metadata": {},
   "source": [
    "## Load data from sheet\n",
    "Now we can compare these annotations to the annotations collected from the first annotator."
   ]
  },
  {
   "cell_type": "markdown",
   "metadata": {},
   "source": [
    "Failed attempts at accessing Google Sheets from the notebook:"
   ]
  },
  {
   "cell_type": "code",
   "execution_count": 55,
   "metadata": {},
   "outputs": [
    {
     "name": "stderr",
     "output_type": "stream",
     "text": [
      "usage: ipykernel_launcher.py [--auth_host_name AUTH_HOST_NAME]\n",
      "                             [--noauth_local_webserver]\n",
      "                             [--auth_host_port [AUTH_HOST_PORT [AUTH_HOST_PORT ...]]]\n",
      "                             [--logging_level {DEBUG,INFO,WARNING,ERROR,CRITICAL}]\n",
      "ipykernel_launcher.py: error: unrecognized arguments: -f /nethome/istewart6/.local/share/jupyter/runtime/kernel-0e9a2a38-1a87-4938-bbcf-6b38f45d8509.json\n"
     ]
    },
    {
     "ename": "SystemExit",
     "evalue": "2",
     "output_type": "error",
     "traceback": [
      "An exception has occurred, use %tb to see the full traceback.\n",
      "\u001b[0;31mSystemExit\u001b[0m\u001b[0;31m:\u001b[0m 2\n"
     ]
    }
   ],
   "source": [
    "# code from \n",
    "from apiclient import discovery\n",
    "from httplib2 import Http\n",
    "from oauth2client import file, client, tools\n",
    "SCOPES = 'https://www.googleapis.com/auth/drive.metadata.readonly'\n",
    "client_secret_file = '../../data/GoogleSheets/client_secret.json'\n",
    "store = file.Storage('../../data/GoogleSheets/storage.json')\n",
    "creds = store.get()\n",
    "if(not creds or creds.invalid):\n",
    "    flow = client.flow_from_clientsecrets(client_secret_file, SCOPES)\n",
    "    creds = tools.run_flow(flow, store)\n",
    "# from googleapiclient import discovery\n",
    "# import pprint\n",
    "# import json\n",
    "# spreadsheet_id = '1897f7cqzDOraJ9n8eTv2Za1XmqfKVyF7ScIeAez430k'\n",
    "# sheet_id = 101650706\n",
    "# sheet_range = 'B2:V2'\n",
    "# credentials = [json.loads(l.strip()) for l in open('../../data/GoogleSheets/client_secret.json')][0]\n",
    "# service = discovery.build('sheets', 'v4', credentials=None)\n",
    "# request = service.spreadsheets().values().get(spreadsheetId=spreadsheet_id, range=sheet_range)\n",
    "# response = request.execute()\n",
    "# pprint(response)"
   ]
  },
  {
   "cell_type": "code",
   "execution_count": 68,
   "metadata": {},
   "outputs": [
    {
     "ename": "NameError",
     "evalue": "global name 'flags' is not defined",
     "output_type": "error",
     "traceback": [
      "\u001b[0;31m---------------------------------------------------------------------------\u001b[0m",
      "\u001b[0;31mNameError\u001b[0m                                 Traceback (most recent call last)",
      "\u001b[0;32m<ipython-input-68-5791144bd860>\u001b[0m in \u001b[0;36m<module>\u001b[0;34m()\u001b[0m\n\u001b[1;32m     37\u001b[0m \u001b[0mhttps\u001b[0m\u001b[0;34m:\u001b[0m\u001b[0;34m//\u001b[0m\u001b[0mdocs\u001b[0m\u001b[0;34m.\u001b[0m\u001b[0mgoogle\u001b[0m\u001b[0;34m.\u001b[0m\u001b[0mcom\u001b[0m\u001b[0;34m/\u001b[0m\u001b[0mspreadsheets\u001b[0m\u001b[0;34m/\u001b[0m\u001b[0md\u001b[0m\u001b[0;34m/\u001b[0m\u001b[0;36m1\u001b[0m\u001b[0mBxiMVs0XRA5nFMdKvBdBZjgmUUqptlbs74OgvE2upms\u001b[0m\u001b[0;34m/\u001b[0m\u001b[0medit\u001b[0m\u001b[0;34m\u001b[0m\u001b[0m\n\u001b[1;32m     38\u001b[0m \"\"\"\n\u001b[0;32m---> 39\u001b[0;31m \u001b[0mcredentials\u001b[0m \u001b[0;34m=\u001b[0m \u001b[0mget_credentials\u001b[0m\u001b[0;34m(\u001b[0m\u001b[0;34m)\u001b[0m\u001b[0;34m\u001b[0m\u001b[0m\n\u001b[0m\u001b[1;32m     40\u001b[0m \u001b[0mhttp\u001b[0m \u001b[0;34m=\u001b[0m \u001b[0mcredentials\u001b[0m\u001b[0;34m.\u001b[0m\u001b[0mauthorize\u001b[0m\u001b[0;34m(\u001b[0m\u001b[0mhttplib2\u001b[0m\u001b[0;34m.\u001b[0m\u001b[0mHttp\u001b[0m\u001b[0;34m(\u001b[0m\u001b[0;34m)\u001b[0m\u001b[0;34m)\u001b[0m\u001b[0;34m\u001b[0m\u001b[0m\n\u001b[1;32m     41\u001b[0m discoveryUrl = ('https://sheets.googleapis.com/$discovery/rest?'\n",
      "\u001b[0;32m<ipython-input-68-5791144bd860>\u001b[0m in \u001b[0;36mget_credentials\u001b[0;34m()\u001b[0m\n\u001b[1;32m     23\u001b[0m     \u001b[0mflow\u001b[0m \u001b[0;34m=\u001b[0m \u001b[0mclient\u001b[0m\u001b[0;34m.\u001b[0m\u001b[0mflow_from_clientsecrets\u001b[0m\u001b[0;34m(\u001b[0m\u001b[0mcredential_path\u001b[0m\u001b[0;34m,\u001b[0m \u001b[0mSCOPES\u001b[0m\u001b[0;34m)\u001b[0m\u001b[0;34m\u001b[0m\u001b[0m\n\u001b[1;32m     24\u001b[0m     \u001b[0mflow\u001b[0m\u001b[0;34m.\u001b[0m\u001b[0muser_agent\u001b[0m \u001b[0;34m=\u001b[0m \u001b[0mAPPLICATION_NAME\u001b[0m\u001b[0;34m\u001b[0m\u001b[0m\n\u001b[0;32m---> 25\u001b[0;31m     \u001b[0;32mif\u001b[0m \u001b[0mflags\u001b[0m\u001b[0;34m:\u001b[0m\u001b[0;34m\u001b[0m\u001b[0m\n\u001b[0m\u001b[1;32m     26\u001b[0m         \u001b[0mcredentials\u001b[0m \u001b[0;34m=\u001b[0m \u001b[0mtools\u001b[0m\u001b[0;34m.\u001b[0m\u001b[0mrun_flow\u001b[0m\u001b[0;34m(\u001b[0m\u001b[0mflow\u001b[0m\u001b[0;34m,\u001b[0m \u001b[0mstore\u001b[0m\u001b[0;34m,\u001b[0m \u001b[0mflags\u001b[0m\u001b[0;34m)\u001b[0m\u001b[0;34m\u001b[0m\u001b[0m\n\u001b[1;32m     27\u001b[0m     \u001b[0;32melse\u001b[0m\u001b[0;34m:\u001b[0m \u001b[0;31m# Needed only for compatibility with Python 2.6\u001b[0m\u001b[0;34m\u001b[0m\u001b[0m\n",
      "\u001b[0;31mNameError\u001b[0m: global name 'flags' is not defined"
     ]
    }
   ],
   "source": [
    "from apiclient import discovery\n",
    "from httplib2 import Http\n",
    "from oauth2client import file, client, tools\n",
    "from oauth2client.file import Storage\n",
    "SCOPES = 'https://www.googleapis.com/auth/spreadsheets.readonly'\n",
    "CLIENT_SECRET_FILE = 'client_secret.json'\n",
    "APPLICATION_NAME = 'Google Sheets API Python Quickstart'\n",
    "\n",
    "def get_credentials():\n",
    "    \"\"\"Gets valid user credentials from storage.\n",
    "\n",
    "    If nothing has been stored, or if the stored credentials are invalid,\n",
    "    the OAuth2 flow is completed to obtain the new credentials.\n",
    "\n",
    "    Returns:\n",
    "        Credentials, the obtained credential.\n",
    "    \"\"\"\n",
    "    credential_path = '../../data/GoogleSheets/client_secret.json'\n",
    "\n",
    "#     store = Storage(credential_path)\n",
    "#     credentials = store.get()\n",
    "#     if not credentials or credentials.invalid:\n",
    "    flow = client.flow_from_clientsecrets(CLIENT_SECRET_FILE, SCOPES)\n",
    "    flow.user_agent = APPLICATION_NAME\n",
    "    if flags:\n",
    "        credentials = tools.run_flow(flow, store, flags)\n",
    "    else: # Needed only for compatibility with Python 2.6\n",
    "        credentials = tools.run(flow, store)\n",
    "    print('Storing credentials to ' + credential_path)\n",
    "    return credentials\n",
    "\n",
    "\n",
    "\"\"\"Shows basic usage of the Sheets API.\n",
    "\n",
    "Creates a Sheets API service object and prints the names and majors of\n",
    "students in a sample spreadsheet:\n",
    "https://docs.google.com/spreadsheets/d/1BxiMVs0XRA5nFMdKvBdBZjgmUUqptlbs74OgvE2upms/edit\n",
    "\"\"\"\n",
    "credentials = get_credentials()\n",
    "http = credentials.authorize(httplib2.Http())\n",
    "discoveryUrl = ('https://sheets.googleapis.com/$discovery/rest?'\n",
    "                'version=v4')\n",
    "service = discovery.build('sheets', 'v4', http=http,\n",
    "                          discoveryServiceUrl=discoveryUrl)\n",
    "\n",
    "spreadsheetId = '1BxiMVs0XRA5nFMdKvBdBZjgmUUqptlbs74OgvE2upms'\n",
    "rangeName = 'Class Data!A2:E'\n",
    "result = service.spreadsheets().values().get(\n",
    "    spreadsheetId=spreadsheetId, range=rangeName).execute()\n",
    "values = result.get('values', [])\n",
    "\n",
    "if not values:\n",
    "    print('No data found.')\n",
    "else:\n",
    "    print('Name, Major:')\n",
    "    for row in values:\n",
    "        # Print columns A and E, which correspond to indices 0 and 4.\n",
    "        print('%s, %s' % (row[0], row[4]))"
   ]
  },
  {
   "cell_type": "code",
   "execution_count": 65,
   "metadata": {},
   "outputs": [
    {
     "ename": "AttributeError",
     "evalue": "'str' object has no attribute 'sign'",
     "output_type": "error",
     "traceback": [
      "\u001b[0;31m---------------------------------------------------------------------------\u001b[0m",
      "\u001b[0;31mAttributeError\u001b[0m                            Traceback (most recent call last)",
      "\u001b[0;32m<ipython-input-65-95ac25d5ebb2>\u001b[0m in \u001b[0;36m<module>\u001b[0;34m()\u001b[0m\n\u001b[1;32m      8\u001b[0m \u001b[0mcredentials\u001b[0m \u001b[0;34m=\u001b[0m \u001b[0mServiceAccountCredentials\u001b[0m\u001b[0;34m(\u001b[0m\u001b[0mjson_key\u001b[0m\u001b[0;34m[\u001b[0m\u001b[0;34m'client_email'\u001b[0m\u001b[0;34m]\u001b[0m\u001b[0;34m,\u001b[0m \u001b[0mjson_key\u001b[0m\u001b[0;34m[\u001b[0m\u001b[0;34m'private_key'\u001b[0m\u001b[0;34m]\u001b[0m\u001b[0;34m.\u001b[0m\u001b[0mencode\u001b[0m\u001b[0;34m(\u001b[0m\u001b[0;34m)\u001b[0m\u001b[0;34m,\u001b[0m \u001b[0mscope\u001b[0m\u001b[0;34m)\u001b[0m \u001b[0;31m# get email and key from creds\u001b[0m\u001b[0;34m\u001b[0m\u001b[0m\n\u001b[1;32m      9\u001b[0m \u001b[0;34m\u001b[0m\u001b[0m\n\u001b[0;32m---> 10\u001b[0;31m \u001b[0mfile\u001b[0m \u001b[0;34m=\u001b[0m \u001b[0mgspread\u001b[0m\u001b[0;34m.\u001b[0m\u001b[0mauthorize\u001b[0m\u001b[0;34m(\u001b[0m\u001b[0mcredentials\u001b[0m\u001b[0;34m)\u001b[0m \u001b[0;31m# authenticate with Google\u001b[0m\u001b[0;34m\u001b[0m\u001b[0m\n\u001b[0m\u001b[1;32m     11\u001b[0m \u001b[0msheet\u001b[0m \u001b[0;34m=\u001b[0m \u001b[0mfile\u001b[0m\u001b[0;34m.\u001b[0m\u001b[0mopen\u001b[0m\u001b[0;34m(\u001b[0m\u001b[0;34m\"MUO_Python_Sheet\"\u001b[0m\u001b[0;34m)\u001b[0m\u001b[0;34m.\u001b[0m\u001b[0msheet1\u001b[0m \u001b[0;31m# open sheet\u001b[0m\u001b[0;34m\u001b[0m\u001b[0m\n",
      "\u001b[0;32m/hg190/istewart6/crisis_language/lib/python2.7/site-packages/gspread/client.pyc\u001b[0m in \u001b[0;36mauthorize\u001b[0;34m(credentials)\u001b[0m\n\u001b[1;32m    400\u001b[0m     \"\"\"\n\u001b[1;32m    401\u001b[0m     \u001b[0mclient\u001b[0m \u001b[0;34m=\u001b[0m \u001b[0mClient\u001b[0m\u001b[0;34m(\u001b[0m\u001b[0mauth\u001b[0m\u001b[0;34m=\u001b[0m\u001b[0mcredentials\u001b[0m\u001b[0;34m)\u001b[0m\u001b[0;34m\u001b[0m\u001b[0m\n\u001b[0;32m--> 402\u001b[0;31m     \u001b[0mclient\u001b[0m\u001b[0;34m.\u001b[0m\u001b[0mlogin\u001b[0m\u001b[0;34m(\u001b[0m\u001b[0;34m)\u001b[0m\u001b[0;34m\u001b[0m\u001b[0m\n\u001b[0m\u001b[1;32m    403\u001b[0m     \u001b[0;32mreturn\u001b[0m \u001b[0mclient\u001b[0m\u001b[0;34m\u001b[0m\u001b[0m\n",
      "\u001b[0;32m/hg190/istewart6/crisis_language/lib/python2.7/site-packages/gspread/client.pyc\u001b[0m in \u001b[0;36mlogin\u001b[0;34m(self)\u001b[0m\n\u001b[1;32m     59\u001b[0m \u001b[0;34m\u001b[0m\u001b[0m\n\u001b[1;32m     60\u001b[0m             \u001b[0mhttp\u001b[0m \u001b[0;34m=\u001b[0m \u001b[0mhttplib2\u001b[0m\u001b[0;34m.\u001b[0m\u001b[0mHttp\u001b[0m\u001b[0;34m(\u001b[0m\u001b[0;34m)\u001b[0m\u001b[0;34m\u001b[0m\u001b[0m\n\u001b[0;32m---> 61\u001b[0;31m             \u001b[0mself\u001b[0m\u001b[0;34m.\u001b[0m\u001b[0mauth\u001b[0m\u001b[0;34m.\u001b[0m\u001b[0mrefresh\u001b[0m\u001b[0;34m(\u001b[0m\u001b[0mhttp\u001b[0m\u001b[0;34m)\u001b[0m\u001b[0;34m\u001b[0m\u001b[0m\n\u001b[0m\u001b[1;32m     62\u001b[0m \u001b[0;34m\u001b[0m\u001b[0m\n\u001b[1;32m     63\u001b[0m         \u001b[0mself\u001b[0m\u001b[0;34m.\u001b[0m\u001b[0msession\u001b[0m\u001b[0;34m.\u001b[0m\u001b[0madd_header\u001b[0m\u001b[0;34m(\u001b[0m\u001b[0;34m'Authorization'\u001b[0m\u001b[0;34m,\u001b[0m \u001b[0;34m\"Bearer \"\u001b[0m \u001b[0;34m+\u001b[0m \u001b[0mself\u001b[0m\u001b[0;34m.\u001b[0m\u001b[0mauth\u001b[0m\u001b[0;34m.\u001b[0m\u001b[0maccess_token\u001b[0m\u001b[0;34m)\u001b[0m\u001b[0;34m\u001b[0m\u001b[0m\n",
      "\u001b[0;32m/hg190/istewart6/crisis_language/lib/python2.7/site-packages/oauth2client/client.pyc\u001b[0m in \u001b[0;36mrefresh\u001b[0;34m(self, http)\u001b[0m\n\u001b[1;32m    543\u001b[0m                   \u001b[0mrequest\u001b[0m\u001b[0;34m.\u001b[0m\u001b[0;34m\u001b[0m\u001b[0m\n\u001b[1;32m    544\u001b[0m         \"\"\"\n\u001b[0;32m--> 545\u001b[0;31m         \u001b[0mself\u001b[0m\u001b[0;34m.\u001b[0m\u001b[0m_refresh\u001b[0m\u001b[0;34m(\u001b[0m\u001b[0mhttp\u001b[0m\u001b[0;34m)\u001b[0m\u001b[0;34m\u001b[0m\u001b[0m\n\u001b[0m\u001b[1;32m    546\u001b[0m \u001b[0;34m\u001b[0m\u001b[0m\n\u001b[1;32m    547\u001b[0m     \u001b[0;32mdef\u001b[0m \u001b[0mrevoke\u001b[0m\u001b[0;34m(\u001b[0m\u001b[0mself\u001b[0m\u001b[0;34m,\u001b[0m \u001b[0mhttp\u001b[0m\u001b[0;34m)\u001b[0m\u001b[0;34m:\u001b[0m\u001b[0;34m\u001b[0m\u001b[0m\n",
      "\u001b[0;32m/hg190/istewart6/crisis_language/lib/python2.7/site-packages/oauth2client/client.pyc\u001b[0m in \u001b[0;36m_refresh\u001b[0;34m(self, http)\u001b[0m\n\u001b[1;32m    747\u001b[0m         \"\"\"\n\u001b[1;32m    748\u001b[0m         \u001b[0;32mif\u001b[0m \u001b[0;32mnot\u001b[0m \u001b[0mself\u001b[0m\u001b[0;34m.\u001b[0m\u001b[0mstore\u001b[0m\u001b[0;34m:\u001b[0m\u001b[0;34m\u001b[0m\u001b[0m\n\u001b[0;32m--> 749\u001b[0;31m             \u001b[0mself\u001b[0m\u001b[0;34m.\u001b[0m\u001b[0m_do_refresh_request\u001b[0m\u001b[0;34m(\u001b[0m\u001b[0mhttp\u001b[0m\u001b[0;34m)\u001b[0m\u001b[0;34m\u001b[0m\u001b[0m\n\u001b[0m\u001b[1;32m    750\u001b[0m         \u001b[0;32melse\u001b[0m\u001b[0;34m:\u001b[0m\u001b[0;34m\u001b[0m\u001b[0m\n\u001b[1;32m    751\u001b[0m             \u001b[0mself\u001b[0m\u001b[0;34m.\u001b[0m\u001b[0mstore\u001b[0m\u001b[0;34m.\u001b[0m\u001b[0macquire_lock\u001b[0m\u001b[0;34m(\u001b[0m\u001b[0;34m)\u001b[0m\u001b[0;34m\u001b[0m\u001b[0m\n",
      "\u001b[0;32m/hg190/istewart6/crisis_language/lib/python2.7/site-packages/oauth2client/client.pyc\u001b[0m in \u001b[0;36m_do_refresh_request\u001b[0;34m(self, http)\u001b[0m\n\u001b[1;32m    772\u001b[0m             \u001b[0mHttpAccessTokenRefreshError\u001b[0m\u001b[0;34m:\u001b[0m \u001b[0mWhen\u001b[0m \u001b[0mthe\u001b[0m \u001b[0mrefresh\u001b[0m \u001b[0mfails\u001b[0m\u001b[0;34m.\u001b[0m\u001b[0;34m\u001b[0m\u001b[0m\n\u001b[1;32m    773\u001b[0m         \"\"\"\n\u001b[0;32m--> 774\u001b[0;31m         \u001b[0mbody\u001b[0m \u001b[0;34m=\u001b[0m \u001b[0mself\u001b[0m\u001b[0;34m.\u001b[0m\u001b[0m_generate_refresh_request_body\u001b[0m\u001b[0;34m(\u001b[0m\u001b[0;34m)\u001b[0m\u001b[0;34m\u001b[0m\u001b[0m\n\u001b[0m\u001b[1;32m    775\u001b[0m         \u001b[0mheaders\u001b[0m \u001b[0;34m=\u001b[0m \u001b[0mself\u001b[0m\u001b[0;34m.\u001b[0m\u001b[0m_generate_refresh_request_headers\u001b[0m\u001b[0;34m(\u001b[0m\u001b[0;34m)\u001b[0m\u001b[0;34m\u001b[0m\u001b[0m\n\u001b[1;32m    776\u001b[0m \u001b[0;34m\u001b[0m\u001b[0m\n",
      "\u001b[0;32m/hg190/istewart6/crisis_language/lib/python2.7/site-packages/oauth2client/client.pyc\u001b[0m in \u001b[0;36m_generate_refresh_request_body\u001b[0;34m(self)\u001b[0m\n\u001b[1;32m   1482\u001b[0m \u001b[0;34m\u001b[0m\u001b[0m\n\u001b[1;32m   1483\u001b[0m     \u001b[0;32mdef\u001b[0m \u001b[0m_generate_refresh_request_body\u001b[0m\u001b[0;34m(\u001b[0m\u001b[0mself\u001b[0m\u001b[0;34m)\u001b[0m\u001b[0;34m:\u001b[0m\u001b[0;34m\u001b[0m\u001b[0m\n\u001b[0;32m-> 1484\u001b[0;31m         \u001b[0massertion\u001b[0m \u001b[0;34m=\u001b[0m \u001b[0mself\u001b[0m\u001b[0;34m.\u001b[0m\u001b[0m_generate_assertion\u001b[0m\u001b[0;34m(\u001b[0m\u001b[0;34m)\u001b[0m\u001b[0;34m\u001b[0m\u001b[0m\n\u001b[0m\u001b[1;32m   1485\u001b[0m \u001b[0;34m\u001b[0m\u001b[0m\n\u001b[1;32m   1486\u001b[0m         body = urllib.parse.urlencode({\n",
      "\u001b[0;32m/hg190/istewart6/crisis_language/lib/python2.7/site-packages/oauth2client/service_account.pyc\u001b[0m in \u001b[0;36m_generate_assertion\u001b[0;34m(self)\u001b[0m\n\u001b[1;32m    383\u001b[0m         \u001b[0mpayload\u001b[0m\u001b[0;34m.\u001b[0m\u001b[0mupdate\u001b[0m\u001b[0;34m(\u001b[0m\u001b[0mself\u001b[0m\u001b[0;34m.\u001b[0m\u001b[0m_kwargs\u001b[0m\u001b[0;34m)\u001b[0m\u001b[0;34m\u001b[0m\u001b[0m\n\u001b[1;32m    384\u001b[0m         return crypt.make_signed_jwt(self._signer, payload,\n\u001b[0;32m--> 385\u001b[0;31m                                      key_id=self._private_key_id)\n\u001b[0m\u001b[1;32m    386\u001b[0m \u001b[0;34m\u001b[0m\u001b[0m\n\u001b[1;32m    387\u001b[0m     \u001b[0;32mdef\u001b[0m \u001b[0msign_blob\u001b[0m\u001b[0;34m(\u001b[0m\u001b[0mself\u001b[0m\u001b[0;34m,\u001b[0m \u001b[0mblob\u001b[0m\u001b[0;34m)\u001b[0m\u001b[0;34m:\u001b[0m\u001b[0;34m\u001b[0m\u001b[0m\n",
      "\u001b[0;32m/hg190/istewart6/crisis_language/lib/python2.7/site-packages/oauth2client/crypt.pyc\u001b[0m in \u001b[0;36mmake_signed_jwt\u001b[0;34m(signer, payload, key_id)\u001b[0m\n\u001b[1;32m     95\u001b[0m     \u001b[0msigning_input\u001b[0m \u001b[0;34m=\u001b[0m \u001b[0;34mb'.'\u001b[0m\u001b[0;34m.\u001b[0m\u001b[0mjoin\u001b[0m\u001b[0;34m(\u001b[0m\u001b[0msegments\u001b[0m\u001b[0;34m)\u001b[0m\u001b[0;34m\u001b[0m\u001b[0m\n\u001b[1;32m     96\u001b[0m \u001b[0;34m\u001b[0m\u001b[0m\n\u001b[0;32m---> 97\u001b[0;31m     \u001b[0msignature\u001b[0m \u001b[0;34m=\u001b[0m \u001b[0msigner\u001b[0m\u001b[0;34m.\u001b[0m\u001b[0msign\u001b[0m\u001b[0;34m(\u001b[0m\u001b[0msigning_input\u001b[0m\u001b[0;34m)\u001b[0m\u001b[0;34m\u001b[0m\u001b[0m\n\u001b[0m\u001b[1;32m     98\u001b[0m     \u001b[0msegments\u001b[0m\u001b[0;34m.\u001b[0m\u001b[0mappend\u001b[0m\u001b[0;34m(\u001b[0m\u001b[0m_helpers\u001b[0m\u001b[0;34m.\u001b[0m\u001b[0m_urlsafe_b64encode\u001b[0m\u001b[0;34m(\u001b[0m\u001b[0msignature\u001b[0m\u001b[0;34m)\u001b[0m\u001b[0;34m)\u001b[0m\u001b[0;34m\u001b[0m\u001b[0m\n\u001b[1;32m     99\u001b[0m \u001b[0;34m\u001b[0m\u001b[0m\n",
      "\u001b[0;31mAttributeError\u001b[0m: 'str' object has no attribute 'sign'"
     ]
    }
   ],
   "source": [
    "import json\n",
    "import gspread\n",
    "from oauth2client.service_account import ServiceAccountCredentials\n",
    "\n",
    "json_key = json.load(open('../../data/GoogleSheets/service_client_creds.json')) # json credentials you downloaded earlier\n",
    "scope = ['https://spreadsheets.google.com/feeds']\n",
    "\n",
    "credentials = ServiceAccountCredentials(json_key['client_email'], json_key['private_key'].encode(), scope) # get email and key from creds\n",
    "\n",
    "file = gspread.authorize(credentials) # authenticate with Google\n",
    "sheet = file.open(\"MUO_Python_Sheet\").sheet1 # open sheet"
   ]
  },
  {
   "cell_type": "markdown",
   "metadata": {},
   "source": [
    "We gave up and used [this](https://developers.google.com/sheets/api/quickstart/python) boilerplate [here](get_data_from_google_sheets.py)."
   ]
  },
  {
   "cell_type": "code",
   "execution_count": 166,
   "metadata": {},
   "outputs": [
    {
     "name": "stdout",
     "output_type": "stream",
     "text": [
      "barrio ingenio en yabucoa (5184195284); humacao(4468396); candeloro arriba(=UN)\n",
      "\n",
      "Quintas De Guasimas (=UN); Bda Marin(Node: Barriada Marín (5184347328)\n",
      "\n",
      "739 carr 104 , Mayaquez PR (22196127);  Mayaquez PR (1944587067)\n",
      "\n",
      "San Cristóbal Apartments (=UN); Tres Caminos (5184329391); Tres Camino (22194786); Barrancas (4468210); la gallera (VAGUE)\n",
      "\n",
      "San Juan(4468264); Carolina (4468017);  Bayamón (4468234); Camuy(4467841); Aguada (4468470); Mayagüez (4467818); Añasco (4468537); Carolina (1902275067); aeropuerto Rafael Hernández de Aguadilla (N 18° 29' 43''\tW 67° 8' 5'); Antigua Base Ramey en Aguadilla (506154128)\n",
      "\n",
      "NARANJITO el sector La Sabana(5184324841)\n",
      "\n",
      "Hogar Ramonita (=UN); Calle Jade en Urbanización La Plata , Cayey(22142874)\n",
      "\n",
      "Barrio Nuevo (N 18° 17' 23''\tW 66° 13' 19'); escuela Don Manolo de Naranjito (N 18° 17' 33''\tW 66° 13' 15''); NY(61320)\n",
      "\n",
      "Palmas Bajas, Guayama (540517197)\n",
      "\n",
      "urbanización villamar en la vuelta de la culebra (=UN); Guayama (4467974)\n",
      "\n",
      "Las Parcelas Carmen (=UN)\n",
      "\n",
      "Carr 4485(22207185); Quebradillas PR (4468311); Puerto Hermina(4304654246)\n",
      "\n",
      "Calle 6(22255034); 7(22255043); pueblo Nuevo vega baja(4468097); la carretera vieja de vega alta a vega baja(=VAGUE) \n",
      "\n",
      "Yauco(4467727); escuela Blondet(=VAGUE); Pozuela (432821103); entrando por el nautico LA Casa quedaba frente a una pequeña iglesia adventista(=VAGUE)\n",
      "\n",
      "Cayuco en Utuado(5185023442); Salto Arriva (4468181)\n",
      "\n",
      "Vega Alta (4467884); calle 4 de Santa Rita (22248310)\n",
      "\n",
      "San Juan(4468264); coamo(4467644) ;el sector las calabaza(371917346); valle escondido(=UN)\n",
      "\n",
      "Valle Alto(N 18° 0' 44''\tW 66° 1' 11''); Marin(4467945)\n",
      "\n",
      "Pulguillas Coamo (4467636); Carretera 723 (22143925); Km 7.1 (=UN); \n",
      " La punatilla(5184366268); el llano(=VAGUE)\n"
     ]
    }
   ],
   "source": [
    "import codecs\n",
    "annotator_1_data = list(codecs.open('../../data/facebook-maria/all_group_sample_statuses_annotated_topo_annotator_1.txt', 'r', encoding='utf-8'))\n",
    "# fix last data point\n",
    "annotator_1_data[-2] = annotator_1_data[-1].split('//')[0]\n",
    "annotator_1_data[-1] = annotator_1_data[-1].split('//')[1]\n",
    "print('\\n'.join(annotator_1_data))"
   ]
  },
  {
   "cell_type": "code",
   "execution_count": 172,
   "metadata": {},
   "outputs": [],
   "source": [
    "id_matcher = re.compile('\\(([^\\)]+)\\)')\n",
    "id_num_matcher = re.compile('\\(([0-9]+)\\)')\n",
    "lat_lon_matcher = re.compile(u'([0-9]+)° ([0-9]+)\\' ([0-9]+)')\n",
    "time_to_deg = lambda x: float(x[0]) + float(x[1]) / 60 + float(x[2]) / 3600\n",
    "def extract_annotator_data(x):\n",
    "    x_full_names = map(lambda y: y.strip(), x.split(';'))\n",
    "    x_full_names = filter(lambda y: y.strip() != '', x_full_names)\n",
    "    # extract data\n",
    "    x_data = []\n",
    "    for x_full in x_full_names:\n",
    "        x_name = x_full.split('(')[0].strip()\n",
    "        x_id = 0\n",
    "        x_lat = 0\n",
    "        x_lon = 0\n",
    "        if(len(lat_lon_matcher.findall(x_full)) > 0):\n",
    "            # convert to decimal\n",
    "            x_lat_group, x_lon_group = lat_lon_matcher.findall(x_full)\n",
    "            x_lat = time_to_deg(x_lat_group)\n",
    "            x_lon = -time_to_deg(x_lon_group) # always convert to negative because we know it's West\n",
    "        elif(len(id_num_matcher.findall(x_full)) > 0):\n",
    "            x_id = int(id_num_matcher.findall(x_full)[0])\n",
    "        else: # UN, VAGUE\n",
    "            x_id = id_matcher.findall(x_full)[0]\n",
    "            x_id = x_id.replace('=', '')\n",
    "        x_data.append([x_name, x_id, x_lat, x_lon])\n",
    "    return x_data\n",
    "annotator_1_extracted = map(extract_annotator_data, annotator_1_data)"
   ]
  },
  {
   "cell_type": "code",
   "execution_count": 173,
   "metadata": {},
   "outputs": [
    {
     "data": {
      "text/plain": [
       "[[[u'barrio ingenio en yabucoa', 5184195284, 0, 0],\n",
       "  [u'humacao', 4468396, 0, 0],\n",
       "  [u'candeloro arriba', u'UN', 0, 0]],\n",
       " [[u'Quintas De Guasimas', u'UN', 0, 0], [u'Bda Marin', 5184347328, 0, 0]],\n",
       " [[u'739 carr 104 , Mayaquez PR', 22196127, 0, 0],\n",
       "  [u'Mayaquez PR', 1944587067, 0, 0]],\n",
       " [[u'San Crist\\xf3bal Apartments', u'UN', 0, 0],\n",
       "  [u'Tres Caminos', 5184329391, 0, 0],\n",
       "  [u'Tres Camino', 22194786, 0, 0],\n",
       "  [u'Barrancas', 4468210, 0, 0],\n",
       "  [u'la gallera', u'VAGUE', 0, 0]],\n",
       " [[u'San Juan', 4468264, 0, 0],\n",
       "  [u'Carolina', 4468017, 0, 0],\n",
       "  [u'Bayam\\xf3n', 4468234, 0, 0],\n",
       "  [u'Camuy', 4467841, 0, 0],\n",
       "  [u'Aguada', 4468470, 0, 0],\n",
       "  [u'Mayag\\xfcez', 4467818, 0, 0],\n",
       "  [u'A\\xf1asco', 4468537, 0, 0],\n",
       "  [u'Carolina', 1902275067, 0, 0],\n",
       "  [u'aeropuerto Rafael Hern\\xe1ndez de Aguadilla',\n",
       "   0,\n",
       "   18.49527777777778,\n",
       "   -67.13472222222222],\n",
       "  [u'Antigua Base Ramey en Aguadilla', 506154128, 0, 0]],\n",
       " [[u'NARANJITO el sector La Sabana', 5184324841, 0, 0]],\n",
       " [[u'Hogar Ramonita', u'UN', 0, 0],\n",
       "  [u'Calle Jade en Urbanizaci\\xf3n La Plata , Cayey', 22142874, 0, 0]],\n",
       " [[u'Barrio Nuevo', 0, 18.289722222222224, -66.22194444444445],\n",
       "  [u'escuela Don Manolo de Naranjito', 0, 18.2925, -66.22083333333333],\n",
       "  [u'NY', 61320, 0, 0]],\n",
       " [[u'Palmas Bajas, Guayama', 540517197, 0, 0]],\n",
       " [[u'urbanizaci\\xf3n villamar en la vuelta de la culebra', u'UN', 0, 0],\n",
       "  [u'Guayama', 4467974, 0, 0]],\n",
       " [[u'Las Parcelas Carmen', u'UN', 0, 0]],\n",
       " [[u'Carr 4485', 22207185, 0, 0],\n",
       "  [u'Quebradillas PR', 4468311, 0, 0],\n",
       "  [u'Puerto Hermina', 4304654246, 0, 0]],\n",
       " [[u'Calle 6', 22255034, 0, 0],\n",
       "  [u'7', 22255043, 0, 0],\n",
       "  [u'pueblo Nuevo vega baja', 4468097, 0, 0],\n",
       "  [u'la carretera vieja de vega alta a vega baja', u'VAGUE', 0, 0]],\n",
       " [[u'Yauco', 4467727, 0, 0],\n",
       "  [u'escuela Blondet', u'VAGUE', 0, 0],\n",
       "  [u'Pozuela', 432821103, 0, 0],\n",
       "  [u'entrando por el nautico LA Casa quedaba frente a una peque\\xf1a iglesia adventista',\n",
       "   u'VAGUE',\n",
       "   0,\n",
       "   0]],\n",
       " [[u'Cayuco en Utuado', 5185023442, 0, 0], [u'Salto Arriva', 4468181, 0, 0]],\n",
       " [[u'Vega Alta', 4467884, 0, 0], [u'calle 4 de Santa Rita', 22248310, 0, 0]],\n",
       " [[u'San Juan', 4468264, 0, 0],\n",
       "  [u'coamo', 4467644, 0, 0],\n",
       "  [u'el sector las calabaza', 371917346, 0, 0],\n",
       "  [u'valle escondido', u'UN', 0, 0]],\n",
       " [[u'Valle Alto', 0, 18.01222222222222, -66.01972222222223],\n",
       "  [u'Marin', 4467945, 0, 0]],\n",
       " [[u'Pulguillas Coamo', 4467636, 0, 0],\n",
       "  [u'Carretera 723', 22143925, 0, 0],\n",
       "  [u'Km 7.1', u'UN', 0, 0]],\n",
       " [[u'La punatilla', 5184366268, 0, 0], [u'el llano', u'VAGUE', 0, 0]]]"
      ]
     },
     "execution_count": 173,
     "metadata": {},
     "output_type": "execute_result"
    }
   ],
   "source": [
    "annotator_1_extracted"
   ]
  },
  {
   "cell_type": "markdown",
   "metadata": {},
   "source": [
    "## Compare!!"
   ]
  },
  {
   "cell_type": "code",
   "execution_count": 176,
   "metadata": {},
   "outputs": [],
   "source": [
    "from __future__ import division\n",
    "from geopy.distance import great_circle\n",
    "from itertools import izip\n",
    "# get total agreement in terms of (1) spans, (2) IDs, (3) lat/lon where able\n",
    "def get_agreement_stats(x_1, x_2):\n",
    "    \"\"\"\n",
    "    Compare one post against another\n",
    "    and compute agreement.\n",
    "    \n",
    "    Parameters:\n",
    "    -----------\n",
    "    x_1 : str\n",
    "    x_2 : str\n",
    "    \n",
    "    Returns:\n",
    "    --------\n",
    "    span_diff : int\n",
    "    span_overlap : float\n",
    "    id_overlap : float\n",
    "    coord_dist : float\n",
    "    \"\"\"\n",
    "    x_1_names, x_1_ids, x_1_lats, x_1_lons = zip(*x_1)\n",
    "    x_2_names, x_2_ids, x_2_lats, x_2_lons = zip(*x_2)\n",
    "    # compute span, id overlap as basic proportions\n",
    "    span_diff = abs(len(x_1_names) - len(x_2_names))\n",
    "    span_overlap = len(set(x_1_names) & set(x_2_names)) / max(len(x_1_names), len(x_2_names))\n",
    "    if(span_overlap == 0):\n",
    "        print('0 span overlap between names %s and %s'%(x_1_names, x_2_names))\n",
    "    id_overlap = len(set(x_1_ids) & set(x_2_ids)) / max(len(x_1_ids), len(x_2_ids))\n",
    "    if(id_overlap == 0):\n",
    "        print('0 ID overlap between names %s and %s'%(x_1_names, x_2_names))\n",
    "    # coordinate overlap is harder! make sure that we're only comparing legit coordinates\n",
    "    coord_pairs = []\n",
    "    coord_dist = 0.\n",
    "    for i, x_1_name in enumerate(x_1_names):\n",
    "        x_1_name = unicode(x_1_name.decode('utf-8'))\n",
    "        for j, x_2_name in enumerate(x_2_names):\n",
    "            x_2_name = unicode(x_2_name)\n",
    "            if(x_1_name == x_2_name or x_1_name in x_2_name or x_2_name in x_1_name):\n",
    "                if(x_1_lats[i] != 0 and x_1_lons[i] != 0 and \n",
    "                   x_2_lats[j] != 0 and x_2_lons[j] != 0):\n",
    "                    coord_dist_i_j = great_circle([x_1_lats[i], x_1_lons[i]], \n",
    "                                              [x_2_lats[i], x_2_lons[j]]).miles\n",
    "                    coord_dist += coord_dist_i_j\n",
    "    return span_diff, span_overlap, id_overlap, coord_dist"
   ]
  },
  {
   "cell_type": "code",
   "execution_count": 177,
   "metadata": {},
   "outputs": [
    {
     "name": "stdout",
     "output_type": "stream",
     "text": [
      "post 0 had span diff 1, span overlap 5.000E-01, id overlap 2.500E-01, coord dist 0.000E+00\n",
      "post 1 had span diff 0, span overlap 1.000E+00, id overlap 1.000E+00, coord dist 0.000E+00\n",
      "0 span overlap between names ('carr 104', 'Mayaquez') and (u'739 carr 104 , Mayaquez PR', u'Mayaquez PR')\n",
      "post 2 had span diff 0, span overlap 0.000E+00, id overlap 5.000E-01, coord dist 0.000E+00\n",
      "post 3 had span diff 0, span overlap 8.000E-01, id overlap 6.000E-01, coord dist 0.000E+00\n",
      "post 4 had span diff 2, span overlap 3.333E-01, id overlap 6.667E-01, coord dist 2.053E-02\n",
      "0 span overlap between names ('NARANJITO', 'La Sabana') and (u'NARANJITO el sector La Sabana',)\n",
      "post 5 had span diff 1, span overlap 0.000E+00, id overlap 5.000E-01, coord dist 0.000E+00\n",
      "0 span overlap between names ('Calle Jade', 'Urbanizaci\\xc3\\xb3n La Plata', 'Cayey') and (u'Hogar Ramonita', u'Calle Jade en Urbanizaci\\xf3n La Plata , Cayey')\n",
      "post 6 had span diff 1, span overlap 0.000E+00, id overlap 6.667E-01, coord dist 0.000E+00\n",
      "0 ID overlap between names ('Barrio Nuevo', 'escuela Don Manolo', 'Naranjito') and (u'Barrio Nuevo', u'escuela Don Manolo de Naranjito', u'NY')\n",
      "post 7 had span diff 0, span overlap 3.333E-01, id overlap 0.000E+00, coord dist 2.328E+00\n",
      "0 span overlap between names ('Palmas Bajas', 'Guayama') and (u'Palmas Bajas, Guayama',)\n",
      "post 8 had span diff 1, span overlap 0.000E+00, id overlap 5.000E-01, coord dist 0.000E+00\n",
      "post 9 had span diff 1, span overlap 3.333E-01, id overlap 6.667E-01, coord dist 0.000E+00\n",
      "0 span overlap between names ('Las Parcelas',) and (u'Las Parcelas Carmen',)\n",
      "post 10 had span diff 0, span overlap 0.000E+00, id overlap 1.000E+00, coord dist 0.000E+00\n",
      "post 11 had span diff 0, span overlap 6.667E-01, id overlap 1.000E+00, coord dist 0.000E+00\n",
      "post 12 had span diff 3, span overlap 2.857E-01, id overlap 4.286E-01, coord dist 0.000E+00\n",
      "post 13 had span diff 1, span overlap 2.500E-01, id overlap 2.500E-01, coord dist 0.000E+00\n",
      "post 14 had span diff 1, span overlap 3.333E-01, id overlap 6.667E-01, coord dist 0.000E+00\n",
      "0 span overlap between names ('calle 4', 'Santa Rita') and (u'Vega Alta', u'calle 4 de Santa Rita')\n",
      "post 15 had span diff 0, span overlap 0.000E+00, id overlap 5.000E-01, coord dist 0.000E+00\n",
      "post 16 had span diff 0, span overlap 7.500E-01, id overlap 1.000E+00, coord dist 0.000E+00\n",
      "post 17 had span diff 0, span overlap 1.000E+00, id overlap 5.000E-01, coord dist 2.037E-02\n",
      "post 18 had span diff 0, span overlap 3.333E-01, id overlap 3.333E-01, coord dist 0.000E+00\n",
      "0 span overlap between names ('punatilla', 'llano') and (u'La punatilla', u'el llano')\n",
      "post 19 had span diff 0, span overlap 0.000E+00, id overlap 5.000E-01, coord dist 0.000E+00\n"
     ]
    }
   ],
   "source": [
    "sample_label_list\n",
    "for i, (sample_labels, annotator_1_labels) in enumerate(izip(sample_label_list, annotator_1_extracted)):\n",
    "#     print(sample_labels)\n",
    "#     print(annotator_1_labels)\n",
    "    span_diff_1, span_overlap_1, id_overlap_1, coord_dist_1 = get_agreement_stats(sample_labels, annotator_1_labels)\n",
    "    print('post %d had span diff %d, span overlap %.3E, id overlap %.3E, coord dist %.3E'%\n",
    "          (i, span_diff_1, span_overlap_1, id_overlap_1, coord_dist_1))"
   ]
  },
  {
   "cell_type": "markdown",
   "metadata": {},
   "source": [
    "Slight disagreements in toponym combination:\n",
    "\n",
    "- `Palmas Bajas` + `Guayama` =/= `Palmas Bajas, Guayama`\n",
    "\n",
    "Non-trivial ID mistakes due to discrepancies in county versus town:\n",
    "\n",
    "- `Barrio Nuevo` (county) vs. `Barrio Nuevo` (town)\n",
    "\n",
    "Hopefully these will get ironed out as the annotators improve and get more standardized."
   ]
  },
  {
   "cell_type": "markdown",
   "metadata": {},
   "source": [
    "## Annotator 2 comparison\n",
    "Once we hire Annotator 2...do the same thing."
   ]
  },
  {
   "cell_type": "code",
   "execution_count": null,
   "metadata": {},
   "outputs": [],
   "source": []
  }
 ],
 "metadata": {
  "kernelspec": {
   "display_name": "Python 2",
   "language": "python",
   "name": "python2"
  },
  "language_info": {
   "codemirror_mode": {
    "name": "ipython",
    "version": 2
   },
   "file_extension": ".py",
   "mimetype": "text/x-python",
   "name": "python",
   "nbconvert_exporter": "python",
   "pygments_lexer": "ipython2",
   "version": "2.7.10"
  }
 },
 "nbformat": 4,
 "nbformat_minor": 2
}
