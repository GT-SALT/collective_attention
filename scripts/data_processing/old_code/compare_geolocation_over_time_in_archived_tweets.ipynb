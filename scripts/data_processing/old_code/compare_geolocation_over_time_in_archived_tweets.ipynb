{
 "cells": [
  {
   "cell_type": "markdown",
   "metadata": {},
   "source": [
    "# Compare geolocation over time in archived tweets\n",
    "Sanity check: are the archived tweets less likely to be geolocated over time? It seems that way based on spot checks but we need to be sure before we draw any conclusions."
   ]
  },
  {
   "cell_type": "code",
   "execution_count": 1,
   "metadata": {
    "collapsed": true
   },
   "outputs": [],
   "source": [
    "import gzip\n",
    "import pandas as pd\n",
    "import matplotlib\n",
    "%matplotlib inline\n",
    "import matplotlib.pyplot as plt\n",
    "import os\n",
    "import json\n",
    "from datetime import datetime\n",
    "from multiprocessing import Pool\n",
    "import re"
   ]
  },
  {
   "cell_type": "code",
   "execution_count": 2,
   "metadata": {
    "collapsed": true
   },
   "outputs": [],
   "source": [
    "old_archive = '/hg190/corpora/twitter-crawl/daily-tweet-archives/'\n",
    "old_tweet_files = [os.path.join(old_archive, f) for f in os.listdir(old_archive) if '.gz' in f]\n",
    "new_archive = '/hg190/corpora/twitter-crawl/new-archive/'\n",
    "new_tweet_files = [os.path.join(new_archive, f) for f in os.listdir(new_archive) if '.gz' in f]\n",
    "combined_tweet_files = old_tweet_files + new_tweet_files"
   ]
  },
  {
   "cell_type": "code",
   "execution_count": 4,
   "metadata": {
    "collapsed": false
   },
   "outputs": [
    {
     "name": "stdout",
     "output_type": "stream",
     "text": [
      "1364 total files to process\n"
     ]
    }
   ],
   "source": [
    "print('%d total files to process'%(len(combined_tweet_files)))"
   ]
  },
  {
   "cell_type": "markdown",
   "metadata": {},
   "source": [
    "That's a lot! How about we take one file per month?"
   ]
  },
  {
   "cell_type": "code",
   "execution_count": 15,
   "metadata": {
    "collapsed": false
   },
   "outputs": [
    {
     "name": "stdout",
     "output_type": "stream",
     "text": [
      "44\n"
     ]
    }
   ],
   "source": [
    "date_matcher = re.compile('[A-Z][a-z]{2}-[0-3][0-9]-1[0-9]')\n",
    "tweet_file_month_year = [date_matcher.findall(f)[0] for f in combined_tweet_files]\n",
    "tweet_file_month_year = ['%s-%s'%(f.split('-')[0], f.split('-')[2]) for f in tweet_file_month_year]\n",
    "month_files_grouped = {}\n",
    "for month_year in tweet_file_month_year:\n",
    "    relevant_files = []\n",
    "    for f in combined_tweet_files:\n",
    "        f_date = date_matcher.findall(f)[0]\n",
    "        f_month_year = '%s-%s'%(f_date.split('-')[0], f_date.split('-')[2])\n",
    "        if(f_month_year == month_year):\n",
    "            relevant_files.append(f)\n",
    "    month_files_grouped[month_year] = relevant_files\n",
    "# randomly sample\n",
    "month_day_files_grouped = {m : pd.np.random.choice(fs, 1)[0] for m, fs in month_files_grouped.iteritems()}\n",
    "print(len(month_day_files_grouped))"
   ]
  },
  {
   "cell_type": "code",
   "execution_count": 17,
   "metadata": {
    "collapsed": true
   },
   "outputs": [],
   "source": [
    "sampled_files = sorted(month_day_files_grouped.values())"
   ]
  },
  {
   "cell_type": "code",
   "execution_count": 18,
   "metadata": {
    "collapsed": true
   },
   "outputs": [],
   "source": [
    "def get_file_stats(f):\n",
    "    date_fmt = '%b-%d-%y'\n",
    "    date_matcher = re.compile('[A-Z][a-z]{2}-[0-3][0-9]-1[0-9]')\n",
    "    print('processing file %s'%(f))\n",
    "    ctr = 0\n",
    "    geo_count = 0\n",
    "    place_count = 0\n",
    "    with gzip.open(f, 'r') as tweet_iter:\n",
    "        for l in tweet_iter:\n",
    "            try:\n",
    "                t = json.loads(l.strip())\n",
    "                t_geo = t['geo']\n",
    "                t_place = t['place']\n",
    "                if(t_geo is not None):\n",
    "                    geo_count += 1\n",
    "                if(t_place is not None):\n",
    "                    place_count += 1\n",
    "                ctr += 1\n",
    "                if(ctr % 1000000 == 0):\n",
    "                    print('processed %d tweets'%(ctr))\n",
    "            except Exception, e:\n",
    "                pass\n",
    "    # extract date\n",
    "    f_date_str = date_matcher.findall(f)[0]\n",
    "    f_stats = [f_date_str, ctr, geo_count, place_count]\n",
    "    return f_stats"
   ]
  },
  {
   "cell_type": "code",
   "execution_count": null,
   "metadata": {
    "collapsed": false
   },
   "outputs": [],
   "source": [
    "PROCESSES = 20\n",
    "pool = Pool(PROCESSES)\n",
    "# test_files = combined_tweet_files[:1]\n",
    "tweet_file_stats = pool.map(get_file_stats, sampled_files)"
   ]
  },
  {
   "cell_type": "code",
   "execution_count": 23,
   "metadata": {
    "collapsed": false
   },
   "outputs": [
    {
     "name": "stdout",
     "output_type": "stream",
     "text": [
      "        date  total_count  geotagged_count  place_count\n",
      "0  Feb-15-14      4488669            98371        95587\n",
      "1  Mar-15-14      4287339            87507        85425\n",
      "2  Apr-18-14      4354150            83552        94966\n",
      "3  May-24-14      4269819            85705        95044\n",
      "4  Jun-23-14      4525717           108771       117552\n"
     ]
    }
   ],
   "source": [
    "date_fmt = '%b-%d-%y'\n",
    "tweet_file_stats = sorted(tweet_file_stats, key=lambda x:datetime.strptime(x[0], date_fmt))\n",
    "stats_df = pd.DataFrame(tweet_file_stats, columns=['date', 'total_count', 'geotagged_count', 'place_count'])\n",
    "print(stats_df.head())"
   ]
  },
  {
   "cell_type": "markdown",
   "metadata": {},
   "source": [
    "## Plot location percentage over time\n",
    "Do we see smaller percentages of tweets with geolocation and place tags over time?"
   ]
  },
  {
   "cell_type": "code",
   "execution_count": 24,
   "metadata": {
    "collapsed": true
   },
   "outputs": [],
   "source": [
    "stats_df = stats_df.assign(date=stats_df.loc[:, 'date'].apply(lambda x: datetime.strptime(x, date_fmt)))"
   ]
  },
  {
   "cell_type": "code",
   "execution_count": 25,
   "metadata": {
    "collapsed": true
   },
   "outputs": [],
   "source": [
    "stats_df = stats_df.assign(geotagged_pct=stats_df.loc[:, 'geotagged_count']/stats_df.loc[:, 'total_count'])\n",
    "stats_df = stats_df.assign(place_pct=stats_df.loc[:, 'place_count']/stats_df.loc[:, 'total_count'])"
   ]
  },
  {
   "cell_type": "code",
   "execution_count": 29,
   "metadata": {
    "collapsed": false
   },
   "outputs": [
    {
     "data": {
      "image/png": "[encoded data removed]",
      "text/plain": [
       "<matplotlib.figure.Figure at 0x7f1f04b3b190>"
      ]
     },
     "metadata": {},
     "output_type": "display_data"
    }
   ],
   "source": [
    "plt.plot(stats_df.loc[:, 'date'], stats_df.loc[:, 'geotagged_pct'], 'b', label='geotag')\n",
    "plt.plot(stats_df.loc[:, 'date'], stats_df.loc[:, 'place_pct'], 'r', label='place')\n",
    "plt.legend(loc='upper right')\n",
    "plt.ylabel('Percentage of posts with tag')\n",
    "plt.show()"
   ]
  },
  {
   "cell_type": "markdown",
   "metadata": {},
   "source": [
    "Weird! There was a pretty big drop in geotagging around 2015-04 and a slight dip in place-tagging around 2016-08."
   ]
  },
  {
   "cell_type": "code",
   "execution_count": null,
   "metadata": {
    "collapsed": true
   },
   "outputs": [],
   "source": []
  }
 ],
 "metadata": {
  "kernelspec": {
   "display_name": "Python 2",
   "language": "python",
   "name": "python2"
  },
  "language_info": {
   "codemirror_mode": {
    "name": "ipython",
    "version": 2
   },
   "file_extension": ".py",
   "mimetype": "text/x-python",
   "name": "python",
   "nbconvert_exporter": "python",
   "pygments_lexer": "ipython2",
   "version": "2.7.10"
  }
 },
 "nbformat": 4,
 "nbformat_minor": 0
}
