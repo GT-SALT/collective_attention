{
 "cells": [
  {
   "cell_type": "markdown",
   "metadata": {},
   "source": [
    "# Test LGL data\n",
    "In which we format the LGL toponym data for processing."
   ]
  },
  {
   "cell_type": "code",
   "execution_count": 55,
   "metadata": {},
   "outputs": [],
   "source": [
    "from xml.dom import minidom\n",
    "import pandas as pd"
   ]
  },
  {
   "cell_type": "markdown",
   "metadata": {},
   "source": [
    "## Load data"
   ]
  },
  {
   "cell_type": "code",
   "execution_count": 3,
   "metadata": {},
   "outputs": [],
   "source": [
    "lgl_file = '../../data/LGL/lgl.xml'\n",
    "doc = minidom.parse(lgl_file)"
   ]
  },
  {
   "cell_type": "code",
   "execution_count": 66,
   "metadata": {},
   "outputs": [
    {
     "name": "stdout",
     "output_type": "stream",
     "text": [
      "4462 unique topos\n"
     ]
    }
   ],
   "source": [
    "# need (1) article title (2) text (3) toponyms\n",
    "doc = minidom.parse(lgl_file)\n",
    "get_node_val = lambda x: x[0].childNodes[0].nodeValue\n",
    "topo_idx = ['start', 'end', 'tag', 'name', 'lat', 'lon']\n",
    "art_data_combined = []\n",
    "for art in doc.getElementsByTagName('article'):\n",
    "    art_id = int(art.getAttribute('docid'))\n",
    "    art_title = get_node_val(art.getElementsByTagName('title'))\n",
    "    art_text = get_node_val(art.getElementsByTagName('text'))\n",
    "    art_topos = art.getElementsByTagName('toponym')\n",
    "    art_data = []\n",
    "    for t in art_topos:\n",
    "        t_start = int(get_node_val(t.getElementsByTagName('start')))\n",
    "        t_end = int(get_node_val(t.getElementsByTagName('end')))\n",
    "        t_tag = t.getElementsByTagName('gaztag')\n",
    "        if(len(t_tag) > 0):\n",
    "            t_id = int(t_tag[0].getAttribute('geonameid'))\n",
    "        try:\n",
    "            t_name = get_node_val(t.getElementsByTagName('name'))\n",
    "            t_lat = get_node_val(t.getElementsByTagName('lat'))\n",
    "            t_lon = get_node_val(t.getElementsByTagName('lon'))\n",
    "            t_data = pd.Series([t_start, t_end, t_tag, t_name, t_lat, t_lon], index=topo_idx)\n",
    "            art_data.append(t_data)\n",
    "        except Exception as e:\n",
    "#             print('skipping toponym %s in %d'%(art_id))\n",
    "            pass\n",
    "    if(len(art_data) > 0):\n",
    "        art_data = pd.concat(art_data, axis=1).transpose()\n",
    "        # add article etc.\n",
    "        art_data.loc[:, 'doc_id'] = art_id\n",
    "        art_data.loc[:, 'title'] = art_title\n",
    "        art_data.loc[:, 'text'] = art_text\n",
    "        art_data_combined.append(art_data)\n",
    "art_data_combined = pd.concat(art_data_combined, axis=0)\n",
    "print('%d unique topos'%(art_data_combined.shape[0]))"
   ]
  },
  {
   "cell_type": "markdown",
   "metadata": {},
   "source": [
    "## GeoCorpora data\n",
    "Let's figure out how to process GeoCorpora while we're at it."
   ]
  },
  {
   "cell_type": "code",
   "execution_count": 91,
   "metadata": {
    "scrolled": true
   },
   "outputs": [
    {
     "data": {
      "text/html": [
       "<div>\n",
       "<style scoped>\n",
       "    .dataframe tbody tr th:only-of-type {\n",
       "        vertical-align: middle;\n",
       "    }\n",
       "\n",
       "    .dataframe tbody tr th {\n",
       "        vertical-align: top;\n",
       "    }\n",
       "\n",
       "    .dataframe thead th {\n",
       "        text-align: right;\n",
       "    }\n",
       "</style>\n",
       "<table border=\"1\" class=\"dataframe\">\n",
       "  <thead>\n",
       "    <tr style=\"text-align: right;\">\n",
       "      <th></th>\n",
       "      <th>text</th>\n",
       "      <th>id</th>\n",
       "      <th>favorite_count</th>\n",
       "      <th>place.name</th>\n",
       "      <th>coordinates</th>\n",
       "      <th>geo</th>\n",
       "      <th>lang</th>\n",
       "      <th>created_at</th>\n",
       "      <th>retweet_count</th>\n",
       "      <th>user.screen_name</th>\n",
       "      <th>user.id</th>\n",
       "      <th>user.description</th>\n",
       "      <th>user.location</th>\n",
       "    </tr>\n",
       "  </thead>\n",
       "  <tbody>\n",
       "    <tr>\n",
       "      <th>0</th>\n",
       "      <td>Quake hits off California - A magnitude 5.7 ea...</td>\n",
       "      <td>560558919261892609</td>\n",
       "      <td>0</td>\n",
       "      <td></td>\n",
       "      <td></td>\n",
       "      <td></td>\n",
       "      <td>en</td>\n",
       "      <td>Wed Jan 28 22:03:55 +0000 2015</td>\n",
       "      <td>0</td>\n",
       "      <td>RandallEToby</td>\n",
       "      <td>908652114</td>\n",
       "      <td>Professional Speaker / Entrepreneur / Trainer ...</td>\n",
       "      <td>NYC / NJ / Philly</td>\n",
       "    </tr>\n",
       "    <tr>\n",
       "      <th>1</th>\n",
       "      <td>RT @Farida_N: A dozen of #African organisation...</td>\n",
       "      <td>489092188048211968</td>\n",
       "      <td>0</td>\n",
       "      <td></td>\n",
       "      <td></td>\n",
       "      <td></td>\n",
       "      <td>en</td>\n",
       "      <td>Tue Jul 15 17:00:39 +0000 2014</td>\n",
       "      <td>1</td>\n",
       "      <td>TakeOvaRecords</td>\n",
       "      <td>2166951330</td>\n",
       "      <td>TakeOvaRecords is looking for new talent Dj/pr...</td>\n",
       "      <td>Spain Madrid</td>\n",
       "    </tr>\n",
       "    <tr>\n",
       "      <th>2</th>\n",
       "      <td>RT @londil: Cover-up: Ukraine rebels destroyin...</td>\n",
       "      <td>490437952519286786</td>\n",
       "      <td>0</td>\n",
       "      <td></td>\n",
       "      <td></td>\n",
       "      <td></td>\n",
       "      <td>en</td>\n",
       "      <td>Sat Jul 19 10:08:14 +0000 2014</td>\n",
       "      <td>14</td>\n",
       "      <td>tom_hanssen</td>\n",
       "      <td>782895128</td>\n",
       "      <td></td>\n",
       "      <td>Heerlen</td>\n",
       "    </tr>\n",
       "    <tr>\n",
       "      <th>3</th>\n",
       "      <td>RT @moscow_ghost: It's happening #Syria Al Qae...</td>\n",
       "      <td>547136055812837377</td>\n",
       "      <td>0</td>\n",
       "      <td></td>\n",
       "      <td></td>\n",
       "      <td></td>\n",
       "      <td>en</td>\n",
       "      <td>Mon Dec 22 21:06:15 +0000 2014</td>\n",
       "      <td>14</td>\n",
       "      <td>metesohtaoglu</td>\n",
       "      <td>46442765</td>\n",
       "      <td>Journalist,researcher,(Global Jihadi Movements...</td>\n",
       "      <td>Istanbul - Turkiye</td>\n",
       "    </tr>\n",
       "    <tr>\n",
       "      <th>4</th>\n",
       "      <td>Will they protest the killing of police? - Lan...</td>\n",
       "      <td>547859448035672064</td>\n",
       "      <td>0</td>\n",
       "      <td></td>\n",
       "      <td></td>\n",
       "      <td></td>\n",
       "      <td>en</td>\n",
       "      <td>Wed Dec 24 21:00:45 +0000 2014</td>\n",
       "      <td>1</td>\n",
       "      <td>TheKillingnews</td>\n",
       "      <td>535315178</td>\n",
       "      <td>It is all about The Killing</td>\n",
       "      <td>None</td>\n",
       "    </tr>\n",
       "  </tbody>\n",
       "</table>\n",
       "</div>"
      ],
      "text/plain": [
       "                                                text                  id  \\\n",
       "0  Quake hits off California - A magnitude 5.7 ea...  560558919261892609   \n",
       "1  RT @Farida_N: A dozen of #African organisation...  489092188048211968   \n",
       "2  RT @londil: Cover-up: Ukraine rebels destroyin...  490437952519286786   \n",
       "3  RT @moscow_ghost: It's happening #Syria Al Qae...  547136055812837377   \n",
       "4  Will they protest the killing of police? - Lan...  547859448035672064   \n",
       "\n",
       "  favorite_count place.name coordinates geo lang  \\\n",
       "0              0                              en   \n",
       "1              0                              en   \n",
       "2              0                              en   \n",
       "3              0                              en   \n",
       "4              0                              en   \n",
       "\n",
       "                       created_at retweet_count user.screen_name     user.id  \\\n",
       "0  Wed Jan 28 22:03:55 +0000 2015             0     RandallEToby   908652114   \n",
       "1  Tue Jul 15 17:00:39 +0000 2014             1   TakeOvaRecords  2166951330   \n",
       "2  Sat Jul 19 10:08:14 +0000 2014            14      tom_hanssen   782895128   \n",
       "3  Mon Dec 22 21:06:15 +0000 2014            14    metesohtaoglu    46442765   \n",
       "4  Wed Dec 24 21:00:45 +0000 2014             1   TheKillingnews   535315178   \n",
       "\n",
       "                                    user.description       user.location  \n",
       "0  Professional Speaker / Entrepreneur / Trainer ...   NYC / NJ / Philly  \n",
       "1  TakeOvaRecords is looking for new talent Dj/pr...        Spain Madrid  \n",
       "2                                                                Heerlen  \n",
       "3  Journalist,researcher,(Global Jihadi Movements...  Istanbul - Turkiye  \n",
       "4                        It is all about The Killing                None  "
      ]
     },
     "metadata": {},
     "output_type": "display_data"
    }
   ],
   "source": [
    "import pandas as pd\n",
    "geocorpora_file = '../../data/mined_tweets/GeoCorpora/geocorpora_1506879947339.tsv'\n",
    "geocorpora_meta = '../../data/mined_tweets/GeoCorpora/geocorpora_rehydrated.tsv'\n",
    "# geocorpora_raw = pd.read_csv(geocorpora_file, sep='\\t', index_col=0, encoding='utf-8')\n",
    "# geocorpora_raw.rename(columns={'geoNameId':'geonames_ID', 'text':'entity_string', 'char_position':'char_start', 'tweet_id_str':'docid', ''}, inplace=True)\n",
    "# # compute char end\n",
    "# geocorpora_raw.loc[:, 'char_end'] = geocorpora_raw.loc[:, 'char_start'] + geocorpora_raw.loc[:, 'text'].apply(len)\n",
    "# # move topo data to places\n",
    "# topo_keys = ['entity_string', 'latitude', 'longitude', 'char_start', 'char_end']\n",
    "# geocorpora_raw.loc[:, 'places'] = geocorpora_raw.apply(lambda x: [{x.loc[k] for k in topo_keys}], axis=1)\n",
    "# meta\n",
    "geocorpora_meta = [l.strip().split('\\t') for l in open(geocorpora_meta, 'r')]\n",
    "geocorpora_meta = pd.DataFrame(geocorpora_meta[1:], columns=geocorpora_meta[0])\n",
    "display(geocorpora_meta.head())"
   ]
  },
  {
   "cell_type": "code",
   "execution_count": 106,
   "metadata": {},
   "outputs": [
    {
     "name": "stdout",
     "output_type": "stream",
     "text": [
      "1751\n",
      "{'contributors': None, 'truncated': False, 'text': 'Quake hits off California - A magnitude 5.7 earthquake struck off the coast of Northern California on Wednesday, a... http://t.co/RkcDyH1RCh', 'is_quote_status': False, 'in_reply_to_status_id': None, 'id': 560558919261892609, 'favorite_count': 0, 'source': '<a href=\"http://www.hootsuite.com\" rel=\"nofollow\">Hootsuite</a>', 'retweeted': False, 'coordinates': None, 'entities': {'symbols': [], 'user_mentions': [], 'hashtags': [], 'urls': [{'url': 'http://t.co/RkcDyH1RCh', 'indices': [118, 140], 'expanded_url': 'http://ow.ly/2TZxBz', 'display_url': 'ow.ly/2TZxBz'}]}, 'in_reply_to_screen_name': None, 'in_reply_to_user_id': None, 'retweet_count': 0, 'id_str': '560558919261892609', 'favorited': False, 'user': {'follow_request_sent': False, 'has_extended_profile': False, 'profile_use_background_image': True, 'default_profile_image': False, 'id': 908652114, 'profile_background_image_url_https': 'https://abs.twimg.com/images/themes/theme1/bg.png', 'verified': False, 'translator_type': 'none', 'profile_text_color': '333333', 'profile_image_url_https': 'https://pbs.twimg.com/profile_images/459120580910804992/SUtDtGY5_normal.jpeg', 'profile_sidebar_fill_color': 'DDEEF6', 'entities': {'url': {'urls': [{'url': 'http://t.co/8Skq0zQqvo', 'indices': [0, 22], 'expanded_url': 'http://mm-mg.org/', 'display_url': 'mm-mg.org'}]}, 'description': {'urls': []}}, 'followers_count': 914, 'profile_sidebar_border_color': 'C0DEED', 'id_str': '908652114', 'profile_background_color': 'C0DEED', 'listed_count': 71, 'is_translation_enabled': False, 'utc_offset': -18000, 'statuses_count': 29587, 'description': 'Professional Speaker / Entrepreneur / Trainer & Founder: Magnificent Men Mentoring Group. God is my source of strength.', 'friends_count': 513, 'location': 'NYC / NJ / Philly', 'profile_link_color': '1DA1F2', 'profile_image_url': 'http://pbs.twimg.com/profile_images/459120580910804992/SUtDtGY5_normal.jpeg', 'following': False, 'geo_enabled': True, 'profile_banner_url': 'https://pbs.twimg.com/profile_banners/908652114/1428015089', 'profile_background_image_url': 'http://abs.twimg.com/images/themes/theme1/bg.png', 'screen_name': 'RandallEToby', 'lang': 'en', 'profile_background_tile': False, 'favourites_count': 29, 'name': 'Randall E. Toby', 'notifications': False, 'url': 'http://t.co/8Skq0zQqvo', 'created_at': 'Sat Oct 27 18:22:22 +0000 2012', 'contributors_enabled': False, 'time_zone': 'Eastern Time (US & Canada)', 'protected': False, 'default_profile': True, 'is_translator': False}, 'geo': None, 'in_reply_to_user_id_str': None, 'possibly_sensitive': False, 'lang': 'en', 'created_at': 'Wed Jan 28 22:03:55 +0000 2015', 'in_reply_to_status_id_str': None, 'place': None}\n"
     ]
    }
   ],
   "source": [
    "import json\n",
    "meta_json_file = '../../data/mined_tweets/GeoCorpora/geocorpora_rehydrated.json'\n",
    "meta_data = [json.loads(l.strip()) for l in open(meta_json_file, 'r')]\n",
    "print(len(meta_data))\n",
    "print(meta_data[0])"
   ]
  },
  {
   "cell_type": "code",
   "execution_count": 112,
   "metadata": {},
   "outputs": [
    {
     "name": "stdout",
     "output_type": "stream",
     "text": [
      "                                                text                  id  \\\n",
      "0  Quake hits off California - A magnitude 5.7 ea...  560558919261892609   \n",
      "1  RT @Farida_N: A dozen of #African organisation...  489092188048211968   \n",
      "2  RT @londil: Cover-up: Ukraine rebels destroyin...  490437952519286786   \n",
      "3  RT @moscow_ghost: It's happening\\n#Syria Al Qa...  547136055812837377   \n",
      "4  Will they protest the killing of police? - Lan...  547859448035672064   \n",
      "\n",
      "   favorite_count place.name coordinates   geo lang  \\\n",
      "0               0       None        None  None   en   \n",
      "1               0       None        None  None   en   \n",
      "2               0       None        None  None   en   \n",
      "3               0       None        None  None   en   \n",
      "4               0       None        None  None   en   \n",
      "\n",
      "                       created_at  retweet_count user.screen_name     user.id  \\\n",
      "0  Wed Jan 28 22:03:55 +0000 2015              0     RandallEToby   908652114   \n",
      "1  Tue Jul 15 17:00:39 +0000 2014              1   TakeOvaRecords  2166951330   \n",
      "2  Sat Jul 19 10:08:14 +0000 2014             14      tom_hanssen   782895128   \n",
      "3  Mon Dec 22 21:06:15 +0000 2014             14    metesohtaoglu    46442765   \n",
      "4  Wed Dec 24 21:00:45 +0000 2014              1   TheKillingnews   535315178   \n",
      "\n",
      "                                    user.description       user.location  \n",
      "0  Professional Speaker / Entrepreneur / Trainer ...   NYC / NJ / Philly  \n",
      "1  TakeOvaRecords is looking for new talent Dj/pr...        Spain Madrid  \n",
      "2                                               None             Heerlen  \n",
      "3  Journalist,researcher,(Global Jihadi Movements...  Istanbul - Turkiye  \n",
      "4                        It is all about The Killing                None  \n"
     ]
    }
   ],
   "source": [
    "meta_cols = ['text', 'id', 'favorite_count', 'place.name', 'coordinates', 'geo', 'lang', 'created_at', 'retweet_count', 'user.screen_name', 'user.id', 'user.description', 'user.location']\n",
    "def extract_meta(data, key):\n",
    "    val = None\n",
    "    if('.' in key):\n",
    "        key_1, key_2 = key.split('.')\n",
    "        if(data.get(key_1) is not None and data[key_1].get(key_2)):\n",
    "            val = data[key_1][key_2]\n",
    "    else:\n",
    "        val = data[key]\n",
    "    return val\n",
    "meta_data_1 = [[extract_meta(x, y) for y in meta_cols] for x in meta_data]\n",
    "meta_data_1 = pd.DataFrame(meta_data_1, columns=meta_cols)\n",
    "print(meta_data_1.head())"
   ]
  },
  {
   "cell_type": "code",
   "execution_count": null,
   "metadata": {},
   "outputs": [],
   "source": []
  }
 ],
 "metadata": {
  "kernelspec": {
   "display_name": "Python 3",
   "language": "python",
   "name": "python3"
  },
  "language_info": {
   "codemirror_mode": {
    "name": "ipython",
    "version": 3
   },
   "file_extension": ".py",
   "mimetype": "text/x-python",
   "name": "python",
   "nbconvert_exporter": "python",
   "pygments_lexer": "ipython3",
   "version": "3.6.5"
  }
 },
 "nbformat": 4,
 "nbformat_minor": 2
}
