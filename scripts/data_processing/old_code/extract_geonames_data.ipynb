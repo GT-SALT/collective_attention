{
 "cells": [
  {
   "cell_type": "markdown",
   "metadata": {},
   "source": [
    "# Extract Geonames data\n",
    "In which we extract the data from the Geonames dump and convert it to the same .tsv format as the OSM entity data."
   ]
  },
  {
   "cell_type": "code",
   "execution_count": 1,
   "metadata": {},
   "outputs": [],
   "source": [
    "import pandas as pd"
   ]
  },
  {
   "cell_type": "markdown",
   "metadata": {},
   "source": [
    "## Load data"
   ]
  },
  {
   "cell_type": "code",
   "execution_count": 25,
   "metadata": {},
   "outputs": [
    {
     "name": "stdout",
     "output_type": "stream",
     "text": [
      "   geoname_id             name       ascii_name  alternate_names       lat  \\\n",
      "0     4049880         Teresita         Teresita              NaN  18.40967   \n",
      "1     4049900      Rio Cristal      Rio Cristal              NaN  18.35328   \n",
      "2     4049922  Quebrada Rincón  Quebrada Rincon  Quebrada Rincon  18.28551   \n",
      "3     4050022        Lago Gely        Lago Gely              NaN  18.04719   \n",
      "4     4050076         Glenview         Glenview              NaN  18.04608   \n",
      "\n",
      "        lon feature_class feature_code country_code  cc2  admin1_code  \\\n",
      "0 -66.17933             P          PPL           PR  NaN         21.0   \n",
      "1 -66.00322             P          PPL           PR  NaN        139.0   \n",
      "2 -65.69461             T          VAL           PR  NaN         37.0   \n",
      "3 -66.57184             H           LK           PR  NaN        113.0   \n",
      "4 -66.59378             P          PPL           PR  NaN        113.0   \n",
      "\n",
      "   admin2_code  admin3_code  admin4_code  population  elevation  dem  \\\n",
      "0    7268466.0          NaN          NaN           0       46.0   45   \n",
      "1    7268156.0          NaN          NaN           0       33.0   40   \n",
      "2          NaN          NaN          NaN           0       59.0   61   \n",
      "3          NaN          NaN          NaN           0       62.0   65   \n",
      "4    7268587.0          NaN          NaN           0       60.0   67   \n",
      "\n",
      "              timezone    mod_date  \n",
      "0  America/Puerto_Rico  2015-08-03  \n",
      "1  America/Puerto_Rico  2015-08-03  \n",
      "2  America/Puerto_Rico  2007-02-16  \n",
      "3  America/Puerto_Rico  2007-02-16  \n",
      "4  America/Puerto_Rico  2015-08-03  \n"
     ]
    }
   ],
   "source": [
    "geonames_data = pd.read_csv('../../data/geo_files/PR_geonames_gazetteer/PR.txt', sep='\\t', index_col=False, header=None)\n",
    "geonames_col_names = ['geoname_id', 'name', 'ascii_name', 'alternate_names', 'lon', 'lat', 'feature_class',\n",
    "                      'feature_code', 'country_code', 'cc2', \n",
    "                      'admin1_code', 'admin2_code', 'admin3_code', 'admin4_code',\n",
    "                      'population', 'elevation', 'dem', 'timezone', 'mod_date']\n",
    "geonames_data.columns = geonames_col_names\n",
    "print(geonames_data.head())"
   ]
  },
  {
   "cell_type": "code",
   "execution_count": 3,
   "metadata": {},
   "outputs": [
    {
     "name": "stdout",
     "output_type": "stream",
     "text": [
      "P    2504\n",
      "S    2280\n",
      "T    1441\n",
      "A    1136\n",
      "H     562\n",
      "L     259\n",
      "R      37\n",
      "V      16\n",
      "U       1\n",
      "Name: feature_class, dtype: int64\n"
     ]
    }
   ],
   "source": [
    "feature_class_mapper = {'A' : 'country/state/region', \n",
    "                        'H' : 'stream/lake', \n",
    "                        'L' : 'parks/area', \n",
    "                        'P' : 'city/village',\n",
    "                        'R' : 'road/railroad',\n",
    "                        'S' : 'spot/building/farm', \n",
    "                        'T' : 'mountain/hill/rock', \n",
    "                        'U' : 'undersea', \n",
    "                        'V' : 'forest/heath'}\n",
    "geonames_feature_class_counts = geonames_data.loc[:, 'feature_class'].value_counts().sort_values(inplace=False, ascending=False)\n",
    "print(geonames_feature_class_counts)"
   ]
  },
  {
   "cell_type": "markdown",
   "metadata": {},
   "source": [
    "Mostly city-level toponyms, which is good for us because that's what OSM was missing!"
   ]
  },
  {
   "cell_type": "code",
   "execution_count": 26,
   "metadata": {},
   "outputs": [],
   "source": [
    "# downloaded from http://download.geonames.org/export/dump/featureCodes_en.txt \n",
    "feature_code_df = pd.read_csv('../../data/geo_files/PR_geonames_gazetteer/featureCodes_en.txt', sep='\\t', index_col=False, header=None)\n",
    "feature_code_df = feature_code_df[feature_code_df.iloc[:, 0].apply(lambda x: '.' in str(x))]\n",
    "# print(feature_code_df.head())\n",
    "feature_code_df.iloc[:, 0] = feature_code_df.iloc[:, 0].apply(lambda x: str(x).split('.')[1])\n",
    "feature_code_df.iloc[:, 1] = feature_code_df.iloc[:, 1].apply(lambda x: x.replace(' ', '_'))\n",
    "feature_code_mapper = dict(zip(feature_code_df.iloc[:, 0].values, feature_code_df.iloc[:, 1].values))"
   ]
  },
  {
   "cell_type": "code",
   "execution_count": 27,
   "metadata": {},
   "outputs": [
    {
     "name": "stdout",
     "output_type": "stream",
     "text": [
      "   geoname_id             name       ascii_name  alternate_names       lat  \\\n",
      "0     4049880         Teresita         Teresita              NaN  18.40967   \n",
      "1     4049900      Rio Cristal      Rio Cristal              NaN  18.35328   \n",
      "2     4049922  Quebrada Rincón  Quebrada Rincon  Quebrada Rincon  18.28551   \n",
      "3     4050022        Lago Gely        Lago Gely              NaN  18.04719   \n",
      "4     4050076         Glenview         Glenview              NaN  18.04608   \n",
      "\n",
      "        lon feature_class feature_code country_code  cc2        ...         \\\n",
      "0 -66.17933             P          PPL           PR  NaN        ...          \n",
      "1 -66.00322             P          PPL           PR  NaN        ...          \n",
      "2 -65.69461             T          VAL           PR  NaN        ...          \n",
      "3 -66.57184             H           LK           PR  NaN        ...          \n",
      "4 -66.59378             P          PPL           PR  NaN        ...          \n",
      "\n",
      "   admin2_code  admin3_code  admin4_code  population  elevation  dem  \\\n",
      "0    7268466.0          NaN          NaN           0       46.0   45   \n",
      "1    7268156.0          NaN          NaN           0       33.0   40   \n",
      "2          NaN          NaN          NaN           0       59.0   61   \n",
      "3          NaN          NaN          NaN           0       62.0   65   \n",
      "4    7268587.0          NaN          NaN           0       60.0   67   \n",
      "\n",
      "              timezone    mod_date  feature_class_full feature_code_full  \n",
      "0  America/Puerto_Rico  2015-08-03        city/village   populated_place  \n",
      "1  America/Puerto_Rico  2015-08-03        city/village   populated_place  \n",
      "2  America/Puerto_Rico  2007-02-16  mountain/hill/rock            valley  \n",
      "3  America/Puerto_Rico  2007-02-16         stream/lake              lake  \n",
      "4  America/Puerto_Rico  2015-08-03        city/village   populated_place  \n",
      "\n",
      "[5 rows x 21 columns]\n"
     ]
    }
   ],
   "source": [
    "# replace feature codes\n",
    "geonames_data.loc[:, 'feature_class_full'] = geonames_data.loc[:, 'feature_class'].apply(lambda x: feature_class_mapper.get(x))\n",
    "geonames_data.loc[:, 'feature_code_full'] = geonames_data.loc[:, 'feature_code'].apply(lambda x: feature_code_mapper.get(x))\n",
    "print(geonames_data.head())"
   ]
  },
  {
   "cell_type": "markdown",
   "metadata": {},
   "source": [
    "## Extract municipalities\n",
    "\n",
    "Extract municipalities, duh."
   ]
  },
  {
   "cell_type": "code",
   "execution_count": 30,
   "metadata": {},
   "outputs": [],
   "source": [
    "import fiona\n",
    "from data_helpers import containment_test\n",
    "from shapely.geometry import shape\n",
    "PR_state_FP = \"72\"\n",
    "county_shapes = fiona.open('../../data/geo_files/county_shape_files/cb_2016_us_county_500k.shp')\n",
    "county_shape_list = list(county_shapes)\n",
    "PR_county_shape_list = filter(lambda x: x['properties']['STATEFP'] == PR_state_FP, county_shape_list)\n",
    "municipality_geoms = [(c['properties']['NAME'], c['geometry']) for c in PR_county_shape_list]\n",
    "municipality_shapes = [(n, shape(g)) for n,g in municipality_geoms]"
   ]
  },
  {
   "cell_type": "code",
   "execution_count": 36,
   "metadata": {},
   "outputs": [
    {
     "name": "stdout",
     "output_type": "stream",
     "text": [
      "<type 'numpy.float64'>\n"
     ]
    }
   ],
   "source": [
    "print(type(geonames_data.loc[:, 'lat'].values[0]))"
   ]
  },
  {
   "cell_type": "code",
   "execution_count": 38,
   "metadata": {},
   "outputs": [
    {
     "data": {
      "text/html": [
       "<div>\n",
       "<style scoped>\n",
       "    .dataframe tbody tr th:only-of-type {\n",
       "        vertical-align: middle;\n",
       "    }\n",
       "\n",
       "    .dataframe tbody tr th {\n",
       "        vertical-align: top;\n",
       "    }\n",
       "\n",
       "    .dataframe thead th {\n",
       "        text-align: right;\n",
       "    }\n",
       "</style>\n",
       "<table border=\"1\" class=\"dataframe\">\n",
       "  <thead>\n",
       "    <tr style=\"text-align: right;\">\n",
       "      <th></th>\n",
       "      <th>lat</th>\n",
       "      <th>lon</th>\n",
       "    </tr>\n",
       "  </thead>\n",
       "  <tbody>\n",
       "    <tr>\n",
       "      <th>0</th>\n",
       "      <td>18.40967</td>\n",
       "      <td>-66.17933</td>\n",
       "    </tr>\n",
       "    <tr>\n",
       "      <th>1</th>\n",
       "      <td>18.35328</td>\n",
       "      <td>-66.00322</td>\n",
       "    </tr>\n",
       "    <tr>\n",
       "      <th>2</th>\n",
       "      <td>18.28551</td>\n",
       "      <td>-65.69461</td>\n",
       "    </tr>\n",
       "    <tr>\n",
       "      <th>3</th>\n",
       "      <td>18.04719</td>\n",
       "      <td>-66.57184</td>\n",
       "    </tr>\n",
       "    <tr>\n",
       "      <th>4</th>\n",
       "      <td>18.04608</td>\n",
       "      <td>-66.59378</td>\n",
       "    </tr>\n",
       "  </tbody>\n",
       "</table>\n",
       "</div>"
      ],
      "text/plain": [
       "        lat       lon\n",
       "0  18.40967 -66.17933\n",
       "1  18.35328 -66.00322\n",
       "2  18.28551 -65.69461\n",
       "3  18.04719 -66.57184\n",
       "4  18.04608 -66.59378"
      ]
     },
     "execution_count": 38,
     "metadata": {},
     "output_type": "execute_result"
    }
   ],
   "source": [
    "geonames_data.loc[:, ['lat', 'lon']].apply(lambda x: x.values.tolist()).head()"
   ]
  },
  {
   "cell_type": "code",
   "execution_count": 39,
   "metadata": {},
   "outputs": [],
   "source": [
    "municipality_list = geonames_data.loc[:, ['lon', 'lat']].apply(lambda p: containment_test(p.values.tolist(), municipality_shapes), axis=1)\n",
    "geonames_data.loc[:, 'municipality'] = municipality_list"
   ]
  },
  {
   "cell_type": "code",
   "execution_count": 40,
   "metadata": {},
   "outputs": [
    {
     "name": "stdout",
     "output_type": "stream",
     "text": [
      "[u'Bayam\\xf3n' u'Trujillo Alto' u'Ceiba' u'Ponce' u'Cabo Rojo' u'Lo\\xedza'\n",
      " u'Arecibo' u'Jayuya' u'Mayag\\xfcez' u'Guayanilla' u'San Juan'\n",
      " u'Can\\xf3vanas' u'Guaynabo' u'Moca' u'Las Mar\\xedas' u'Adjuntas'\n",
      " u'Aguadilla' u'Santa Isabel' u'Culebra' u'Dorado' u'Humacao' u'Salinas'\n",
      " u'Aguada' None u'Aguas Buenas' u'Aibonito' u'Fajardo' u'Juana D\\xedaz'\n",
      " u'Luquillo' u'Caguas' u'Camuy' u'Guayama' u'Naguabo' u'Yauco' u'Toa Baja'\n",
      " u'Manat\\xed' u'Maricao' u'Utuado' u'Ciales' u'Corozal' u'Florida' u'Lajas'\n",
      " u'Pe\\xf1uelas' u'Sabana Grande' u'San Lorenzo' u'Quebradillas'\n",
      " u'A\\xf1asco' u'Las Piedras' u'Patillas' u'R\\xedo Grande' u'Gu\\xe1nica'\n",
      " u'Vieques' u'Cata\\xf1o' u'Arroyo' u'Cayey' u'Carolina' u'San Germ\\xe1n'\n",
      " u'Coamo' u'Isabela' u'Morovis' u'Barceloneta' u'Barranquitas' u'Hatillo'\n",
      " u'San Sebasti\\xe1n' u'Cidra' u'Juncos' u'Vega Alta' u'Rinc\\xf3n'\n",
      " u'Orocovis' u'Lares' u'Vega Baja' u'Toa Alta' u'Gurabo' u'Comer\\xedo'\n",
      " u'Yabucoa' u'Naranjito' u'Villalba' u'Hormigueros' u'Maunabo']\n"
     ]
    }
   ],
   "source": [
    "print(geonames_data.loc[:, 'municipality'].unique())"
   ]
  },
  {
   "cell_type": "markdown",
   "metadata": {},
   "source": [
    "## Write to file"
   ]
  },
  {
   "cell_type": "code",
   "execution_count": 43,
   "metadata": {},
   "outputs": [
    {
     "name": "stdout",
     "output_type": "stream",
     "text": [
      "Index([u'geoname_id', u'name', u'ascii_name', u'alternate_names', u'lat',\n",
      "       u'lon', u'feature_class', u'feature_code', u'country_code', u'cc2',\n",
      "       u'admin1_code', u'admin2_code', u'admin3_code', u'admin4_code',\n",
      "       u'population', u'elevation', u'dem', u'timezone', u'mod_date',\n",
      "       u'feature_class_full', u'feature_code_full', u'municipality'],\n",
      "      dtype='object')\n"
     ]
    }
   ],
   "source": [
    "print(geonames_data.columns)"
   ]
  },
  {
   "cell_type": "code",
   "execution_count": 48,
   "metadata": {},
   "outputs": [],
   "source": [
    "output_col_names = ['name', 'geometry_type', 'feature_class', 'geoname_id', 'lat', 'lon', 'shp_type', 'municipality', 'osm_id', 'feature_code']\n",
    "geonames_data_df = geonames_data.copy()\n",
    "# rename columns\n",
    "geonames_data_df.drop(['feature_class', 'feature_code'], inplace=True, axis=1)\n",
    "geonames_data_df.rename(columns={'feature_class_full' : 'feature_class', \n",
    "                                 'feature_code_full' : 'feature_code'}, inplace=True)\n",
    "null_col_names = ['geometry_type', 'shp_type', 'osm_id']\n",
    "for c in null_col_names:\n",
    "    geonames_data_df.loc[:, c] = ''\n",
    "# write to file\n",
    "geonames_data_df = geonames_data_df.loc[:, sorted(output_col_names)]\n",
    "out_file_name = '../../data/geo_files/PR_geonames_gazetteer/geonames_data.tsv'\n",
    "geonames_data_df.to_csv(out_file_name, sep='\\t', index=False, encoding='utf-8')"
   ]
  },
  {
   "cell_type": "code",
   "execution_count": null,
   "metadata": {},
   "outputs": [],
   "source": []
  }
 ],
 "metadata": {
  "kernelspec": {
   "display_name": "Python 2",
   "language": "python",
   "name": "python2"
  },
  "language_info": {
   "codemirror_mode": {
    "name": "ipython",
    "version": 2
   },
   "file_extension": ".py",
   "mimetype": "text/x-python",
   "name": "python",
   "nbconvert_exporter": "python",
   "pygments_lexer": "ipython2",
   "version": "2.7.10"
  }
 },
 "nbformat": 4,
 "nbformat_minor": 2
}
