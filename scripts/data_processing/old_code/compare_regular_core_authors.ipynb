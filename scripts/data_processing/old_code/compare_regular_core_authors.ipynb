{
 "cells": [
  {
   "cell_type": "markdown",
   "metadata": {},
   "source": [
    "# Compare regular and core authors\n",
    "We see that the active authors do not moderate their use of REs in response to an increase in collective attention. \n",
    "\n",
    "Is it the case that non-active or \"regular\" authors are more affected by the change in collective attention? This would follow under a view of \"peripheral\" vs. \"core\" community members."
   ]
  },
  {
   "cell_type": "code",
   "execution_count": 47,
   "metadata": {},
   "outputs": [],
   "source": [
    "import numpy as np\n",
    "import pandas as pd\n",
    "import matplotlib\n",
    "%matplotlib inline\n",
    "import matplotlib.pyplot as plt\n",
    "import dateutil\n",
    "from data_helpers import fix_timezone, round_to_day"
   ]
  },
  {
   "cell_type": "markdown",
   "metadata": {},
   "source": [
    "## Load data"
   ]
  },
  {
   "cell_type": "code",
   "execution_count": 7,
   "metadata": {},
   "outputs": [],
   "source": [
    "full_data_file = '../../data/mined_tweets/combined_tweet_tag_data.gz'\n",
    "context_data_file = '../../data/mined_tweets/combined_tweet_tag_data_NE_flat_parsed_anchor.gz'\n",
    "full_data = pd.read_csv(full_data_file, sep='\\t', index_col=False, compression='gzip', converters={'date' : dateutil.parser.parse})\n",
    "# load anchor data\n",
    "context_data = pd.read_csv(context_data_file, sep='\\t', index_col=False, compression='gzip', converters={'date' : dateutil.parser.parse})\n",
    "# fix bad usernames\n",
    "context_data = context_data.assign(**{'username' : context_data.loc[:, 'username'].apply(lambda x: x.split(':')[-1])})\n",
    "# fix date timezone problem\n",
    "date_var = 'date'\n",
    "full_data = full_data.assign(**{date_var : full_data.loc[:, date_var].apply(lambda x: fix_timezone(x))})\n",
    "context_data = context_data.assign(**{date_var : context_data.loc[:, date_var].apply(lambda x: fix_timezone(x))})\n",
    "## add rounded time var\n",
    "round_date_var = '%s_day'%(date_var)\n",
    "full_data = full_data.assign(**{round_date_var : full_data.loc[:, date_var].apply(lambda x: round_to_day(x))})\n",
    "context_data = context_data.assign(**{round_date_var : context_data.loc[:, date_var].apply(lambda x: round_to_day(x))})\n",
    "# compute peak times per-NE\n",
    "NE_var = 'NE_fixed'\n",
    "round_date_var = 'date_day'\n",
    "data_name_var = 'data_name_fixed'\n",
    "NE_counts = context_data.groupby([NE_var, data_name_var, round_date_var]).apply(lambda x: x.shape[0]).reset_index().rename(columns={0 : 'NE_count'})\n",
    "id_var = 'id'\n",
    "doc_counts = full_data.groupby([data_name_var, round_date_var]).apply(lambda x: x.loc[:, id_var].nunique()).reset_index().rename(columns={0 : 'doc_count'})\n",
    "NE_doc_counts = pd.merge(NE_counts, doc_counts, on=[data_name_var, round_date_var])\n",
    "NE_doc_counts = NE_doc_counts.assign(**{'NE_freq' : NE_doc_counts.loc[:, 'NE_count'] / NE_doc_counts.loc[:, 'doc_count']})"
   ]
  },
  {
   "cell_type": "code",
   "execution_count": 11,
   "metadata": {},
   "outputs": [],
   "source": [
    "from data_helpers import assign_peak_date\n",
    "NE_min_count = 5\n",
    "## limit to data with consistent NEs\n",
    "# restrict to NEs that occur on at least k dates\n",
    "NE_unique_date_counts = NE_doc_counts.groupby([data_name_var, NE_var]).apply(lambda x: x.loc[:, round_date_var].nunique())\n",
    "NE_consistent = NE_unique_date_counts[NE_unique_date_counts >= NE_min_count].reset_index().loc[:, [data_name_var, NE_var]]\n",
    "NE_doc_counts_consistent = pd.merge(NE_doc_counts, NE_consistent, on=[data_name_var, NE_var], how='inner')\n",
    "# compute peaks\n",
    "count_var = 'NE_count'\n",
    "NE_count_peaks = NE_doc_counts_consistent.groupby([data_name_var, NE_var]).apply(lambda x: assign_peak_date(x, count_var, date_var=round_date_var)).reset_index().rename(columns={0 : 'peak_date'})\n",
    "context_data_consistent = pd.merge(context_data, NE_count_peaks, on=[NE_var, data_name_var], how='inner')"
   ]
  },
  {
   "cell_type": "code",
   "execution_count": 14,
   "metadata": {},
   "outputs": [],
   "source": [
    "from data_helpers import assign_relative_peak_time_vars\n",
    "peak_date_buffer = 1\n",
    "context_data_consistent = assign_relative_peak_time_vars(context_data_consistent, peak_date_buffer)"
   ]
  },
  {
   "cell_type": "code",
   "execution_count": 17,
   "metadata": {},
   "outputs": [
    {
     "name": "stderr",
     "output_type": "stream",
     "text": [
      "/hg190/istewart6/crisis_language/scripts/data_processing/data_helpers.py:3199: SettingWithCopyWarning: \n",
      "A value is trying to be set on a copy of a slice from a DataFrame\n",
      "\n",
      "See the caveats in the documentation: http://pandas.pydata.org/pandas-docs/stable/user_guide/indexing.html#returning-a-view-versus-a-copy\n",
      "  data.sort_values(date_var, ascending=True, inplace=True)\n",
      "/hg190/istewart6/crisis_language/scripts/data_processing/data_helpers.py:3206: FutureWarning: \n",
      "Passing list-likes to .loc or [] with any missing label will raise\n",
      "KeyError in the future, you can use .reindex() as an alternative.\n",
      "\n",
      "See the documentation here:\n",
      "https://pandas.pydata.org/pandas-docs/stable/user_guide/indexing.html#deprecate-loc-reindex-listlike\n",
      "  date_counts = date_counts.loc[date_range].fillna(0, inplace=False)\n"
     ]
    }
   ],
   "source": [
    "import data_helpers\n",
    "from importlib import reload\n",
    "reload(data_helpers)\n",
    "from data_helpers import compute_shift_counts\n",
    "prior_freq_shift = 1\n",
    "freq_null = 0.\n",
    "context_data_prior_freq = []\n",
    "count_var = 'NE_count_prior'\n",
    "for (name_i, NE_i), data_i in context_data_consistent.groupby([data_name_var, NE_var]):\n",
    "    data_i = compute_shift_counts(data_i, date_var=round_date_var, prior_shift=prior_freq_shift, count_var=count_var, null_val=freq_null)\n",
    "    context_data_prior_freq.append(data_i)\n",
    "context_data_prior_freq = pd.concat(context_data_prior_freq, axis=0)\n",
    "context_data_consistent = context_data_prior_freq.copy()"
   ]
  },
  {
   "cell_type": "markdown",
   "metadata": {},
   "source": [
    "Now let's compute author count distribution."
   ]
  },
  {
   "cell_type": "code",
   "execution_count": 43,
   "metadata": {
    "scrolled": true
   },
   "outputs": [
    {
     "data": {
      "image/png": "[encoded data removed]",
      "text/plain": [
       "<Figure size 432x288 with 1 Axes>"
      ]
     },
     "metadata": {
      "needs_background": "light"
     },
     "output_type": "display_data"
    },
    {
     "data": {
      "image/png": "[encoded data removed]",
      "text/plain": [
       "<Figure size 432x288 with 1 Axes>"
      ]
     },
     "metadata": {
      "needs_background": "light"
     },
     "output_type": "display_data"
    },
    {
     "data": {
      "image/png": "[encoded data removed]",
      "text/plain": [
       "<Figure size 432x288 with 1 Axes>"
      ]
     },
     "metadata": {
      "needs_background": "light"
     },
     "output_type": "display_data"
    },
    {
     "data": {
      "image/png": "[encoded data removed]",
      "text/plain": [
       "<Figure size 432x288 with 1 Axes>"
      ]
     },
     "metadata": {
      "needs_background": "light"
     },
     "output_type": "display_data"
    },
    {
     "data": {
      "image/png": "[encoded data removed]",
      "text/plain": [
       "<Figure size 432x288 with 1 Axes>"
      ]
     },
     "metadata": {
      "needs_background": "light"
     },
     "output_type": "display_data"
    }
   ],
   "source": [
    "id_var = 'id'\n",
    "author_var = 'username'\n",
    "for name_i, data_i in context_data_consistent.groupby(data_name_var):\n",
    "    author_counts_i = data_i.drop_duplicates([author_var, id_var], inplace=False).loc[:, author_var].value_counts()\n",
    "    # log-transform\n",
    "    author_counts_i = np.log(author_counts_i)\n",
    "    # negative reciprocal transform??\n",
    "#     author_counts_i = -(1./author_counts_i)\n",
    "    # remove long trail of one-time posters\n",
    "#     author_counts_i = author_counts_i[author_counts_i > 0.]\n",
    "    plt.hist(author_counts_i)\n",
    "    plt.show()"
   ]
  },
  {
   "cell_type": "markdown",
   "metadata": {},
   "source": [
    "Maybe a better way to do this is by post volume distribution: rank authors by post volume, then select authors who are responsible for ~80\\% of posts. So the same thing as before but weight the distribution."
   ]
  },
  {
   "cell_type": "markdown",
   "metadata": {},
   "source": [
    "Let's compare the anchor distribution for regular versus power authors."
   ]
  },
  {
   "cell_type": "code",
   "execution_count": 45,
   "metadata": {},
   "outputs": [
    {
     "name": "stdout",
     "output_type": "stream",
     "text": [
      "data=florence\n",
      "regular-author context pct 0.317 +/- 0.007\n",
      "non-regular-author context pct 0.256 +/- 0.005\n",
      "data=harvey\n",
      "regular-author context pct 0.077 +/- 0.001\n",
      "non-regular-author context pct 0.138 +/- 0.001\n",
      "data=irma\n",
      "regular-author context pct 0.094 +/- 0.002\n",
      "non-regular-author context pct 0.106 +/- 0.001\n",
      "data=maria\n",
      "regular-author context pct 0.106 +/- 0.005\n",
      "non-regular-author context pct 0.091 +/- 0.004\n",
      "data=michael\n",
      "regular-author context pct 0.230 +/- 0.007\n",
      "non-regular-author context pct 0.195 +/- 0.004\n"
     ]
    }
   ],
   "source": [
    "context_var = 'anchor'\n",
    "regular_cutoff_pct = 95\n",
    "for name_i, data_i in context_data_consistent.groupby(data_name_var):\n",
    "    print('data=%s'%(name_i))\n",
    "    author_counts_i = data_i.drop_duplicates([author_var, id_var], inplace=False).loc[:, author_var].value_counts()\n",
    "    # log-transform\n",
    "    author_counts_i = np.log(author_counts_i)\n",
    "    regular_cutoff_i = np.percentile(author_counts_i, regular_cutoff_pct)\n",
    "    data_i = data_i.assign(**{\n",
    "        'regular_author' : data_i.loc[:, author_var].apply(lambda x: author_counts_i.loc[x] <= regular_cutoff_i)\n",
    "    })\n",
    "    # compute context percents for regular/non-regular\n",
    "    reg_context_pcts_i = data_i[data_i.loc[:, 'regular_author']==1].groupby(author_var).apply(lambda x: x.groupby(NE_var).apply(lambda y: y.loc[:, context_var].mean()).mean())\n",
    "    non_reg_context_pcts_i = data_i[data_i.loc[:, 'regular_author']==0].groupby(author_var).apply(lambda x: x.groupby(NE_var).apply(lambda y: y.loc[:, context_var].mean()).mean())\n",
    "    print('regular-author context pct %.3f +/- %.3f'%(reg_context_pcts_i.mean(), reg_context_pcts_i.std() / reg_context_pcts_i.shape[0]**.5))\n",
    "    print('non-regular-author context pct %.3f +/- %.3f'%(non_reg_context_pcts_i.mean(), non_reg_context_pcts_i.std() / reg_context_pcts_i.shape[0]**.5))"
   ]
  },
  {
   "cell_type": "markdown",
   "metadata": {},
   "source": [
    "No consistent patterns here at the aggregate level: sometimes the active authors lead the pack in terms of lower context (`florence`, `maria`, `michael`), sometimes not (`harvey`, `irma`)."
   ]
  },
  {
   "cell_type": "markdown",
   "metadata": {},
   "source": [
    "Let's test pre/post peak differences in both author groups."
   ]
  },
  {
   "cell_type": "code",
   "execution_count": 46,
   "metadata": {
    "scrolled": true
   },
   "outputs": [
    {
     "name": "stdout",
     "output_type": "stream",
     "text": [
      "data=florence\n",
      "time period = pre_peak\n",
      "regular-author context pct 0.314 +/- 0.014\n",
      "non-regular-author context pct 0.259 +/- 0.011\n",
      "time period = post_peak\n",
      "regular-author context pct 0.302 +/- 0.010\n",
      "non-regular-author context pct 0.247 +/- 0.008\n",
      "data=harvey\n",
      "time period = pre_peak\n",
      "regular-author context pct 0.091 +/- 0.003\n",
      "non-regular-author context pct 0.129 +/- 0.003\n",
      "time period = post_peak\n",
      "regular-author context pct 0.064 +/- 0.001\n",
      "non-regular-author context pct 0.105 +/- 0.001\n",
      "data=irma\n",
      "time period = pre_peak\n",
      "regular-author context pct 0.073 +/- 0.002\n",
      "non-regular-author context pct 0.076 +/- 0.002\n",
      "time period = post_peak\n",
      "regular-author context pct 0.099 +/- 0.003\n",
      "non-regular-author context pct 0.093 +/- 0.003\n",
      "data=maria\n",
      "time period = pre_peak\n",
      "regular-author context pct 0.130 +/- 0.008\n",
      "non-regular-author context pct 0.088 +/- 0.006\n",
      "time period = post_peak\n",
      "regular-author context pct 0.103 +/- 0.008\n",
      "non-regular-author context pct 0.091 +/- 0.007\n",
      "data=michael\n",
      "time period = pre_peak\n",
      "regular-author context pct 0.277 +/- 0.013\n",
      "non-regular-author context pct 0.223 +/- 0.010\n",
      "time period = post_peak\n",
      "regular-author context pct 0.201 +/- 0.009\n",
      "non-regular-author context pct 0.178 +/- 0.006\n"
     ]
    }
   ],
   "source": [
    "time_period_vars = ['pre_peak', 'post_peak']\n",
    "context_var = 'anchor'\n",
    "regular_cutoff_pct = 95\n",
    "for name_i, data_i in context_data_consistent.groupby(data_name_var):\n",
    "    print('data=%s'%(name_i))\n",
    "    author_counts_i = data_i.drop_duplicates([author_var, id_var], inplace=False).loc[:, author_var].value_counts()\n",
    "    # log-transform\n",
    "    author_counts_i = np.log(author_counts_i)\n",
    "    regular_cutoff_i = np.percentile(author_counts_i, regular_cutoff_pct)\n",
    "    data_i = data_i.assign(**{\n",
    "        'regular_author' : data_i.loc[:, author_var].apply(lambda x: author_counts_i.loc[x] <= regular_cutoff_i)\n",
    "    })\n",
    "    # compute context percents for regular/non-regular\n",
    "    for time_period_var in time_period_vars:\n",
    "        print('time period = %s'%(time_period_var))\n",
    "        time_data_i = data_i[data_i.loc[:, time_period_var]==1]\n",
    "        reg_context_pcts_i = time_data_i[time_data_i.loc[:, 'regular_author']==1].groupby(author_var).apply(lambda x: x.groupby(NE_var).apply(lambda y: y.loc[:, context_var].mean()).mean())\n",
    "        non_reg_context_pcts_i = time_data_i[time_data_i.loc[:, 'regular_author']==0].groupby(author_var).apply(lambda x: x.groupby(NE_var).apply(lambda y: y.loc[:, context_var].mean()).mean())\n",
    "        print('regular-author context pct %.3f +/- %.3f'%(reg_context_pcts_i.mean(), reg_context_pcts_i.std() / reg_context_pcts_i.shape[0]**.5))\n",
    "        print('active author context pct %.3f +/- %.3f'%(non_reg_context_pcts_i.mean(), non_reg_context_pcts_i.std() / reg_context_pcts_i.shape[0]**.5))"
   ]
  },
  {
   "cell_type": "markdown",
   "metadata": {},
   "source": [
    "In general, both regular and active authors show a consistent decrease in context use, except for `irma` authors."
   ]
  },
  {
   "cell_type": "markdown",
   "metadata": {},
   "source": [
    "## Load clean data\n",
    "Let's clean the regular-author data in the same way that we cleaned the power author data."
   ]
  },
  {
   "cell_type": "code",
   "execution_count": 11,
   "metadata": {},
   "outputs": [],
   "source": [
    "import numpy as np\n",
    "import pandas as pd\n",
    "import matplotlib\n",
    "%matplotlib inline\n",
    "import matplotlib.pyplot as plt\n",
    "import dateutil\n",
    "from data_helpers import fix_timezone, round_to_day, assign_peak_date, assign_relative_peak_time_vars"
   ]
  },
  {
   "cell_type": "code",
   "execution_count": 2,
   "metadata": {},
   "outputs": [],
   "source": [
    "full_data_file = '../../data/mined_tweets/combined_tweet_tag_data.gz'\n",
    "context_data_file = '../../data/mined_tweets/combined_tweet_tag_data_NE_flat_parsed_anchor.gz'\n",
    "full_data = pd.read_csv(full_data_file, sep='\\t', index_col=False, compression='gzip', converters={'date' : dateutil.parser.parse})\n",
    "# load anchor data\n",
    "context_data = pd.read_csv(context_data_file, sep='\\t', index_col=False, compression='gzip', converters={'date' : dateutil.parser.parse})\n",
    "# fix bad usernames\n",
    "context_data = context_data.assign(**{'username' : context_data.loc[:, 'username'].apply(lambda x: x.split(':')[-1])})\n",
    "# fix date timezone problem\n",
    "date_var = 'date'\n",
    "full_data = full_data.assign(**{date_var : full_data.loc[:, date_var].apply(lambda x: fix_timezone(x))})\n",
    "context_data = context_data.assign(**{date_var : context_data.loc[:, date_var].apply(lambda x: fix_timezone(x))})\n",
    "## add rounded time var\n",
    "round_date_var = '%s_day'%(date_var)\n",
    "full_data = full_data.assign(**{round_date_var : full_data.loc[:, date_var].apply(lambda x: round_to_day(x))})\n",
    "context_data = context_data.assign(**{round_date_var : context_data.loc[:, date_var].apply(lambda x: round_to_day(x))})\n",
    "# compute NE counts\n",
    "NE_var = 'NE_fixed'\n",
    "round_date_var = 'date_day'\n",
    "data_name_var = 'data_name_fixed'\n",
    "NE_counts = context_data.groupby([NE_var, data_name_var, round_date_var]).apply(lambda x: x.shape[0]).reset_index().rename(columns={0 : 'NE_count'})\n",
    "id_var = 'id'\n",
    "doc_counts = full_data.groupby([data_name_var, round_date_var]).apply(lambda x: x.loc[:, id_var].nunique()).reset_index().rename(columns={0 : 'doc_count'})\n",
    "NE_doc_counts = pd.merge(NE_counts, doc_counts, on=[data_name_var, round_date_var])\n",
    "NE_doc_counts = NE_doc_counts.assign(**{'NE_freq' : NE_doc_counts.loc[:, 'NE_count'] / NE_doc_counts.loc[:, 'doc_count']})"
   ]
  },
  {
   "cell_type": "code",
   "execution_count": 3,
   "metadata": {},
   "outputs": [
    {
     "name": "stdout",
     "output_type": "stream",
     "text": [
      "114914/163366 consistent data\n"
     ]
    }
   ],
   "source": [
    "## compute author counts per dataset\n",
    "## limit to authors <= 95th percentile\n",
    "regular_author_data_clean = []\n",
    "data_name_var = 'data_name_fixed'\n",
    "author_var = 'username'\n",
    "author_cutoff_pct = 95\n",
    "for name_i, data_i in context_data.groupby(data_name_var):\n",
    "    author_counts_i = np.log(data_i.loc[:, author_var].value_counts())\n",
    "    author_cutoff_i = np.percentile(author_counts_i, author_cutoff_pct)\n",
    "    data_i = data_i[data_i.loc[:, author_var].apply(lambda x: author_counts_i.loc[x] <= author_cutoff_i)]\n",
    "    regular_author_data_clean.append(data_i)\n",
    "regular_author_data_clean = pd.concat(regular_author_data_clean, axis=0)\n",
    "print('%d/%d consistent data'%(regular_author_data_clean.shape[0], context_data.shape[0]))\n",
    "regular_author_data = regular_author_data_clean.copy()"
   ]
  },
  {
   "cell_type": "code",
   "execution_count": 6,
   "metadata": {},
   "outputs": [
    {
     "name": "stdout",
     "output_type": "stream",
     "text": [
      "107437/114914 consistent data\n"
     ]
    }
   ],
   "source": [
    "# restrict to consistent NEs\n",
    "NE_min_count = 5\n",
    "NE_unique_date_counts = NE_doc_counts.groupby([data_name_var, NE_var]).apply(lambda x: x.loc[:, round_date_var].nunique())\n",
    "NE_consistent = NE_unique_date_counts[NE_unique_date_counts >= NE_min_count].reset_index().loc[:, [data_name_var, NE_var]]\n",
    "NE_doc_counts_consistent = pd.merge(NE_doc_counts, NE_consistent, on=[data_name_var, NE_var], how='inner')\n",
    "count_var = 'NE_count'\n",
    "NE_count_peaks = NE_doc_counts_consistent.groupby([data_name_var, NE_var]).apply(lambda x: assign_peak_date(x, count_var, date_var=round_date_var)).reset_index().rename(columns={0 : 'peak_date'})\n",
    "context_data_consistent = pd.merge(context_data, NE_count_peaks, on=[NE_var, data_name_var], how='inner')\n",
    "# merge with regular author data\n",
    "regular_author_data_consistent = pd.merge(regular_author_data, NE_count_peaks, on=[NE_var, data_name_var], how='inner')\n",
    "print('%d/%d consistent data'%(regular_author_data_consistent.shape[0], regular_author_data.shape[0]))"
   ]
  },
  {
   "cell_type": "code",
   "execution_count": 9,
   "metadata": {},
   "outputs": [
    {
     "name": "stdout",
     "output_type": "stream",
     "text": [
      "1078/1082 NEs shared\n"
     ]
    }
   ],
   "source": [
    "## what is NE overlap in data?? why can't we merge??\n",
    "shared_NEs = set(regular_author_data_consistent.loc[:, NE_var].unique()) & set(context_data_consistent.loc[:, NE_var].unique())\n",
    "print('%d/%d NEs shared'%(len(shared_NEs), context_data_consistent.loc[:, NE_var].nunique()))"
   ]
  },
  {
   "cell_type": "code",
   "execution_count": 26,
   "metadata": {},
   "outputs": [
    {
     "name": "stdout",
     "output_type": "stream",
     "text": [
      "about to merge peak data: N=145913\n"
     ]
    }
   ],
   "source": [
    "peak_date_buffer = 1\n",
    "## assign peak times\n",
    "context_data_consistent_peaks = assign_relative_peak_time_vars(context_data_consistent, peak_date_buffer)\n",
    "# deduplicate\n",
    "context_data_consistent_peaks.drop_duplicates([id_var, NE_var], inplace=True)\n",
    "time_period_vars = ['pre_peak', 'during_peak', 'post_peak']\n",
    "id_var = 'id'\n",
    "print('about to merge peak data: N=%d'%(context_data_consistent_peaks.shape[0]))\n",
    "regular_author_data_consistent_peaks = pd.merge(regular_author_data_consistent, context_data_consistent_peaks.loc[:, [id_var, NE_var, data_name_var]+time_period_vars], on=[id_var, NE_var, data_name_var], how='inner')"
   ]
  },
  {
   "cell_type": "code",
   "execution_count": null,
   "metadata": {},
   "outputs": [],
   "source": []
  },
  {
   "cell_type": "code",
   "execution_count": 25,
   "metadata": {
    "scrolled": true
   },
   "outputs": [
    {
     "data": {
      "text/html": [
       "<div>\n",
       "<style scoped>\n",
       "    .dataframe tbody tr th:only-of-type {\n",
       "        vertical-align: middle;\n",
       "    }\n",
       "\n",
       "    .dataframe tbody tr th {\n",
       "        vertical-align: top;\n",
       "    }\n",
       "\n",
       "    .dataframe thead th {\n",
       "        text-align: right;\n",
       "    }\n",
       "</style>\n",
       "<table border=\"1\" class=\"dataframe\">\n",
       "  <thead>\n",
       "    <tr style=\"text-align: right;\">\n",
       "      <th></th>\n",
       "      <th>NE_fixed</th>\n",
       "      <th>data_name_fixed</th>\n",
       "      <th>pre_peak</th>\n",
       "      <th>during_peak</th>\n",
       "      <th>post_peak</th>\n",
       "    </tr>\n",
       "  </thead>\n",
       "  <tbody>\n",
       "    <tr>\n",
       "      <td>0</td>\n",
       "      <td>raleigh</td>\n",
       "      <td>florence</td>\n",
       "      <td>1</td>\n",
       "      <td>0</td>\n",
       "      <td>0</td>\n",
       "    </tr>\n",
       "    <tr>\n",
       "      <td>1</td>\n",
       "      <td>raleigh</td>\n",
       "      <td>florence</td>\n",
       "      <td>1</td>\n",
       "      <td>0</td>\n",
       "      <td>0</td>\n",
       "    </tr>\n",
       "    <tr>\n",
       "      <td>2</td>\n",
       "      <td>raleigh</td>\n",
       "      <td>florence</td>\n",
       "      <td>1</td>\n",
       "      <td>0</td>\n",
       "      <td>0</td>\n",
       "    </tr>\n",
       "    <tr>\n",
       "      <td>3</td>\n",
       "      <td>raleigh</td>\n",
       "      <td>florence</td>\n",
       "      <td>1</td>\n",
       "      <td>0</td>\n",
       "      <td>0</td>\n",
       "    </tr>\n",
       "    <tr>\n",
       "      <td>4</td>\n",
       "      <td>raleigh</td>\n",
       "      <td>florence</td>\n",
       "      <td>1</td>\n",
       "      <td>0</td>\n",
       "      <td>0</td>\n",
       "    </tr>\n",
       "  </tbody>\n",
       "</table>\n",
       "</div>"
      ],
      "text/plain": [
       "  NE_fixed data_name_fixed  pre_peak  during_peak  post_peak\n",
       "0  raleigh        florence         1            0          0\n",
       "1  raleigh        florence         1            0          0\n",
       "2  raleigh        florence         1            0          0\n",
       "3  raleigh        florence         1            0          0\n",
       "4  raleigh        florence         1            0          0"
      ]
     },
     "metadata": {},
     "output_type": "display_data"
    }
   ],
   "source": [
    "display(context_data_consistent_peaks.loc[:, [NE_var, data_name_var]+time_period_vars].head())"
   ]
  },
  {
   "cell_type": "code",
   "execution_count": 65,
   "metadata": {},
   "outputs": [
    {
     "name": "stdout",
     "output_type": "stream",
     "text": [
      "['NE', 'NE_LOC', 'NE_fixed', 'NE_fixed_clean', 'NE_type', 'anchor', 'anchor_phrase', 'data_name_fixed', 'date', 'date_day', 'has_descriptor', 'id', 'lang', 'max_alternate_name_count', 'max_alternate_name_count_anchor', 'max_alternate_name_count_diff', 'max_alternate_names', 'max_population', 'max_population_anchor', 'max_population_diff', 'parse', 'peak_date', 'txt', 'username', 'valid_loc']\n",
      "['NE', 'NE_LOC', 'NE_fixed', 'NE_fixed_clean', 'NE_type', 'anchor', 'anchor_phrase', 'data_name_fixed', 'data_start', 'date', 'date_day', 'during_peak', 'has_descriptor', 'id', 'lang', 'max_alternate_name_count', 'max_alternate_name_count_anchor', 'max_alternate_name_count_diff', 'max_alternate_names', 'max_population', 'max_population_anchor', 'max_population_diff', 'parse', 'peak_date', 'post_peak', 'pre_peak', 'since_peak', 'since_start', 'txt', 'username', 'valid_loc']\n"
     ]
    }
   ],
   "source": [
    "print(sorted(regular_author_data_consistent.columns))\n",
    "print(sorted(context_data_consistent_peaks.columns))"
   ]
  },
  {
   "cell_type": "code",
   "execution_count": null,
   "metadata": {},
   "outputs": [],
   "source": []
  }
 ],
 "metadata": {
  "kernelspec": {
   "display_name": "Python 3",
   "language": "python",
   "name": "python3"
  },
  "language_info": {
   "codemirror_mode": {
    "name": "ipython",
    "version": 3
   },
   "file_extension": ".py",
   "mimetype": "text/x-python",
   "name": "python",
   "nbconvert_exporter": "python",
   "pygments_lexer": "ipython3",
   "version": "3.6.7"
  }
 },
 "nbformat": 4,
 "nbformat_minor": 2
}
