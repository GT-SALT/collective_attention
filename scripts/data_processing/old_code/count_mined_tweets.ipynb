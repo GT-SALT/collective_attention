{
 "cells": [
  {
   "cell_type": "markdown",
   "metadata": {},
   "source": [
    "# Count mined tweets\n",
    "Can we get an estimate of how many tweets we're dealing with? \n",
    "\n",
    "We've mined data from the following hurricanes:\n",
    "\n",
    "- Hurricane Harvey\n",
    "- Hurricane Irma\n",
    "- Hurricane Maria\n",
    "- Hurricane Nate"
   ]
  },
  {
   "cell_type": "code",
   "execution_count": 25,
   "metadata": {
    "collapsed": true
   },
   "outputs": [],
   "source": [
    "import os\n",
    "import gzip\n",
    "import re"
   ]
  },
  {
   "cell_type": "code",
   "execution_count": 27,
   "metadata": {
    "collapsed": false
   },
   "outputs": [
    {
     "name": "stdout",
     "output_type": "stream",
     "text": [
      "testing hurricane harvey\n",
      "archive_#irma,#hurricaneirma,#harvey,#hurricaneharvey_aug-19-17_aug-19-17.gz\n",
      "archive_#irma,#hurricaneirma,#harvey,#hurricaneharvey_aug-27-17_aug-27-17.gz\n",
      "archive_#irma,#hurricaneirma,#harvey,#hurricaneharvey_aug-31-17_aug-31-17.gz\n",
      "example_ambiguous_tweets_hurricaneharvey.tsv\n",
      "hurricane_harvey.csv\n",
      "hurricaneharvey_ids.txt.gz\n",
      "#irma,#hurricaneirma,#houstonstrong,#harvey,#hurricaneharvey_houston2017-08-17_2017-09-14.gz\n",
      "harvey_users\n",
      "#irma,#hurricaneirma,#harvey,#hurricaneharvey_2017-08-17_2017-08-27.gz\n",
      "archive_#irma,#hurricaneirma,#harvey,#hurricaneharvey_aug-17-17_aug-17-17.gz\n",
      "archive_#irma,#hurricaneirma,#harvey,#hurricaneharvey_aug-20-17_aug-20-17.gz\n",
      "archive_#irma,#hurricaneirma,#harvey,#hurricaneharvey_aug-18-17_aug-18-17.gz\n",
      "archive_#irma,#hurricaneirma,#harvey,#hurricaneharvey_aug-24-17_aug-24-17.gz\n",
      "archive_#irma,#hurricaneirma,#harvey,#hurricaneharvey_aug-28-17_aug-28-17.gz\n",
      "archive_#irma,#hurricaneirma,#harvey,#hurricaneharvey_aug-22-17_aug-22-17.gz\n",
      "archive_#irma,#hurricaneirma,#harvey,#hurricaneharvey_sep-01-17_sep-01-17.gz\n",
      "archive_#irma,#hurricaneirma,#harvey,#hurricaneharvey_sep-12-17_sep-12-17.gz\n",
      "archive_#irma,#hurricaneirma,#harvey,#hurricaneharvey_sep-13-17_sep-13-17.gz\n",
      "archive_#irma,#hurricaneirma,#harvey,#hurricaneharvey_sep-10-17_sep-10-17.gz\n",
      "archive_#irma,#hurricaneirma,#harvey,#hurricaneharvey_sep-08-17_sep-08-17.gz\n",
      "archive_#irma,#hurricaneirma,#harvey,#hurricaneharvey_sep-14-17_sep-14-17.gz\n",
      "archive_#irma,#hurricaneirma,#harvey,#hurricaneharvey_sep-09-17_sep-09-17.gz\n",
      "archive_#irma,#hurricaneirma,#harvey,#hurricaneharvey_aug-29-17_aug-29-17.gz\n",
      "archive_#irma,#hurricaneirma,#harvey,#hurricaneharvey_aug-25-17_aug-25-17.gz\n",
      "archive_#irma,#hurricaneirma,#harvey,#hurricaneharvey_sep-05-17_sep-05-17.gz\n",
      "archive_#irma,#hurricaneirma,#harvey,#hurricaneharvey_aug-26-17_aug-26-17.gz\n",
      "archive_#irma,#hurricaneirma,#harvey,#hurricaneharvey_sep-07-17_sep-07-17.gz\n",
      "archive_#irma,#hurricaneirma,#harvey,#hurricaneharvey_sep-02-17_sep-02-17.gz\n",
      "archive_#irma,#hurricaneirma,#harvey,#hurricaneharvey_sep-06-17_sep-06-17.gz\n",
      "archive_#irma,#hurricaneirma,#harvey,#hurricaneharvey_aug-30-17_aug-30-17.gz\n",
      "archive_#irma,#hurricaneirma,#harvey,#hurricaneharvey_sep-11-17_sep-11-17.gz\n",
      "archive_#irma,#hurricaneirma,#harvey,#hurricaneharvey_sep-03-17_sep-03-17.gz\n",
      "archive_#irma,#hurricaneirma,#harvey,#hurricaneharvey_aug-23-17_aug-23-17.gz\n",
      "archive_#irma,#hurricaneirma,#harvey,#hurricaneharvey_aug-21-17_aug-21-17.gz\n",
      "archive_#irma,#hurricaneirma,#harvey,#hurricaneharvey_sep-04-17_sep-04-17.gz\n",
      "#irma,#hurricaneirma,#harvey,#hurricaneharvey_2017-08-27_2017-09-10.gz\n",
      "#irma,#hurricaneirma,#harvey,#hurricaneharvey_2017-08-21_2017-08-22.gz\n",
      "#irma,#hurricaneirma,#harvey,#hurricaneharvey_2017-08-24_2017-08-25.gz\n",
      "#irma,#hurricaneirma,#harvey,#hurricaneharvey_2017-08-23_2017-08-24.gz\n",
      "#irma,#hurricaneirma,#harvey,#hurricaneharvey_2017-08-22_2017-08-23.gz\n",
      "#irma,#hurricaneirma,#harvey,#hurricaneharvey_2017-08-26_2017-08-27.gz\n",
      "#irma,#hurricaneirma,#harvey,#hurricaneharvey_2017-08-20_2017-08-21.gz\n",
      "#irma,#hurricaneirma,#harvey,#hurricaneharvey_2017-08-30_2017-08-31.gz\n",
      "#irma,#hurricaneirma,#harvey,#hurricaneharvey_2017-09-02_2017-09-03.gz\n",
      "#irma,#hurricaneirma,#harvey,#hurricaneharvey_2017-08-25_2017-08-26.gz\n",
      "#irma,#hurricaneirma,#harvey,#hurricaneharvey_2017-08-28_2017-08-29.gz\n",
      "#irma,#hurricaneirma,#harvey,#hurricaneharvey_2017-08-29_2017-08-30.gz\n",
      "#irma,#hurricaneirma,#harvey,#hurricaneharvey_2017-08-27_2017-08-28.gz\n",
      "#irma,#hurricaneirma,#harvey,#hurricaneharvey_2017-09-01_2017-09-02.gz\n",
      "#irma,#hurricaneirma,#harvey,#hurricaneharvey_2017-09-03_2017-09-04.gz\n",
      "#irma,#hurricaneirma,#harvey,#hurricaneharvey_2017-08-31_2017-09-01.gz\n",
      "#irma,#hurricaneirma,#harvey,#hurricaneharvey_2017-09-04_2017-09-05.gz\n",
      "#irma,#hurricaneirma,#harvey,#hurricaneharvey_2017-09-07_2017-09-08.gz\n",
      "#irma,#hurricaneirma,#harvey,#hurricaneharvey_2017-09-08_2017-09-09.gz\n",
      "#irma,#hurricaneirma,#harvey,#hurricaneharvey_2017-09-05_2017-09-06.gz\n",
      "#irma,#hurricaneirma,#harvey,#hurricaneharvey_2017-09-06_2017-09-07.gz\n",
      "#irma,#hurricaneirma,#harvey,#hurricaneharvey_2017-09-09_2017-09-10.gz\n",
      "#irma,#harvey,#hurricaneirma,#hurricaneharvey_combined_data.tsv\n",
      "#irma,#harvey,#hurricaneirma,#hurricaneharvey_combined_data_txt.tsv\n",
      "#irma,#harvey,#hurricaneirma,#hurricaneharvey_combined_data_txt_ner.tsv\n",
      "hurricaneharvey_ids_rehydrated.json.gz\n",
      "#irma,#harvey,#hurricaneirma,#hurricaneharvey_combined_data_txt_ner_classified.tsv\n",
      "hurricaneharvey_ids_rehydrated_clean.txt.gz\n",
      "hurricaneharvey_ids_rehydrated_clean.txt\n",
      "hurricaneharvey_ids_rehydrated_clean_ner_classified.txt\n",
      "hurricaneharvey_ids_rehydrated_clean_ner_classified.txt.gz\n",
      "hurricaneharvey_ids_rehydrated_clean_ner.txt.gz\n",
      "testing hurricane irma\n",
      "archive_#irma,#hurricaneirma,#harvey,#hurricaneharvey_aug-19-17_aug-19-17.gz\n",
      "archive_#irma,#hurricaneirma,#harvey,#hurricaneharvey_aug-27-17_aug-27-17.gz\n",
      "archive_#irma,#hurricaneirma,#harvey,#hurricaneharvey_aug-31-17_aug-31-17.gz\n",
      "#irma,#hurricaneirma,#houstonstrong,#harvey,#hurricaneharvey_houston2017-08-17_2017-09-14.gz\n",
      "irma_users\n",
      "#irma,#hurricaneirma,#harvey,#hurricaneharvey_2017-08-17_2017-08-27.gz\n",
      "archive_#irma,#hurricaneirma,#harvey,#hurricaneharvey_aug-17-17_aug-17-17.gz\n",
      "archive_#irma,#hurricaneirma,#harvey,#hurricaneharvey_aug-20-17_aug-20-17.gz\n",
      "archive_#irma,#hurricaneirma,#harvey,#hurricaneharvey_aug-18-17_aug-18-17.gz\n",
      "archive_#irma,#hurricaneirma,#harvey,#hurricaneharvey_aug-24-17_aug-24-17.gz\n",
      "archive_#irma,#hurricaneirma,#harvey,#hurricaneharvey_aug-28-17_aug-28-17.gz\n",
      "archive_#irma,#hurricaneirma,#harvey,#hurricaneharvey_aug-22-17_aug-22-17.gz\n",
      "archive_#irma,#hurricaneirma,#harvey,#hurricaneharvey_sep-01-17_sep-01-17.gz\n",
      "archive_#irma,#hurricaneirma,#harvey,#hurricaneharvey_sep-12-17_sep-12-17.gz\n",
      "archive_#irma,#hurricaneirma,#harvey,#hurricaneharvey_sep-13-17_sep-13-17.gz\n",
      "archive_#irma,#hurricaneirma,#harvey,#hurricaneharvey_sep-10-17_sep-10-17.gz\n",
      "archive_#irma,#hurricaneirma,#harvey,#hurricaneharvey_sep-08-17_sep-08-17.gz\n",
      "archive_#irma,#hurricaneirma,#harvey,#hurricaneharvey_sep-14-17_sep-14-17.gz\n",
      "archive_#irma,#hurricaneirma,#harvey,#hurricaneharvey_sep-09-17_sep-09-17.gz\n",
      "archive_#irma,#hurricaneirma,#harvey,#hurricaneharvey_aug-29-17_aug-29-17.gz\n",
      "archive_#irma,#hurricaneirma,#harvey,#hurricaneharvey_aug-25-17_aug-25-17.gz\n",
      "archive_#irma,#hurricaneirma,#harvey,#hurricaneharvey_sep-05-17_sep-05-17.gz\n",
      "archive_#irma,#hurricaneirma,#harvey,#hurricaneharvey_aug-26-17_aug-26-17.gz\n",
      "archive_#irma,#hurricaneirma,#harvey,#hurricaneharvey_sep-07-17_sep-07-17.gz\n",
      "archive_#irma,#hurricaneirma,#harvey,#hurricaneharvey_sep-02-17_sep-02-17.gz\n",
      "archive_#irma,#hurricaneirma,#harvey,#hurricaneharvey_sep-06-17_sep-06-17.gz\n",
      "archive_#irma,#hurricaneirma,#harvey,#hurricaneharvey_aug-30-17_aug-30-17.gz\n",
      "archive_#irma,#hurricaneirma,#harvey,#hurricaneharvey_sep-11-17_sep-11-17.gz\n",
      "archive_#irma,#hurricaneirma,#harvey,#hurricaneharvey_sep-03-17_sep-03-17.gz\n",
      "archive_#irma,#hurricaneirma,#harvey,#hurricaneharvey_aug-23-17_aug-23-17.gz\n",
      "archive_#irma,#hurricaneirma,#harvey,#hurricaneharvey_aug-21-17_aug-21-17.gz\n",
      "archive_#irma,#hurricaneirma,#harvey,#hurricaneharvey_sep-04-17_sep-04-17.gz\n",
      "#irma,#hurricaneirma,#harvey,#hurricaneharvey_2017-08-27_2017-09-10.gz\n",
      "#irma,#hurricaneirma,#harvey,#hurricaneharvey_2017-08-21_2017-08-22.gz\n",
      "#irma,#hurricaneirma,#harvey,#hurricaneharvey_2017-08-24_2017-08-25.gz\n",
      "#irma,#hurricaneirma,#harvey,#hurricaneharvey_2017-08-23_2017-08-24.gz\n",
      "#irma,#hurricaneirma,#harvey,#hurricaneharvey_2017-08-22_2017-08-23.gz\n",
      "#irma,#hurricaneirma,#harvey,#hurricaneharvey_2017-08-26_2017-08-27.gz\n",
      "#irma,#hurricaneirma,#harvey,#hurricaneharvey_2017-08-20_2017-08-21.gz\n",
      "#irma,#hurricaneirma,#harvey,#hurricaneharvey_2017-08-30_2017-08-31.gz\n",
      "#irma,#hurricaneirma,#harvey,#hurricaneharvey_2017-09-02_2017-09-03.gz\n",
      "#irma,#hurricaneirma,#harvey,#hurricaneharvey_2017-08-25_2017-08-26.gz\n",
      "#irma,#hurricaneirma,#harvey,#hurricaneharvey_2017-08-28_2017-08-29.gz\n",
      "#irma,#hurricaneirma,#harvey,#hurricaneharvey_2017-08-29_2017-08-30.gz\n",
      "#irma,#hurricaneirma,#harvey,#hurricaneharvey_2017-08-27_2017-08-28.gz\n",
      "#irma,#hurricaneirma,#harvey,#hurricaneharvey_2017-09-01_2017-09-02.gz\n",
      "#irma,#hurricaneirma,#harvey,#hurricaneharvey_2017-09-03_2017-09-04.gz\n",
      "#irma,#hurricaneirma,#harvey,#hurricaneharvey_2017-08-31_2017-09-01.gz\n",
      "#irma,#hurricaneirma,#harvey,#hurricaneharvey_2017-09-04_2017-09-05.gz\n",
      "#irma,#hurricaneirma,#harvey,#hurricaneharvey_2017-09-07_2017-09-08.gz\n",
      "#irma,#hurricaneirma,#harvey,#hurricaneharvey_2017-09-08_2017-09-09.gz\n",
      "#irma,#hurricaneirma,#harvey,#hurricaneharvey_2017-09-05_2017-09-06.gz\n",
      "#irma,#hurricaneirma,#harvey,#hurricaneharvey_2017-09-06_2017-09-07.gz\n",
      "#irma,#hurricaneirma,#harvey,#hurricaneharvey_2017-09-09_2017-09-10.gz\n",
      "#irma,#harvey,#hurricaneirma,#hurricaneharvey_combined_data.tsv\n",
      "#irma,#harvey,#hurricaneirma,#hurricaneharvey_combined_data_txt.tsv\n",
      "#irma,#harvey,#hurricaneirma,#hurricaneharvey_combined_data_txt_ner.tsv\n",
      "#irma,#harvey,#hurricaneirma,#hurricaneharvey_combined_data_txt_ner_classified.tsv\n",
      "testing hurricane maria\n",
      "#maria,#hurricanemaria,#puertorico_2017-09-29_2017-09-30.gz\n",
      "#maria,#hurricanemaria,#puertorico_2017-08-30_2017-08-31.gz\n",
      "#maria,#hurricanemaria,#puertorico_2017-09-01_2017-09-02.gz\n",
      "#maria,#hurricanemaria,#puertorico_2017-09-02_2017-09-03.gz\n",
      "#maria,#hurricanemaria,#puertorico_2017-09-03_2017-09-04.gz\n",
      "#maria,#hurricanemaria,#puertorico_2017-08-31_2017-09-01.gz\n",
      "#maria,#hurricanemaria,#puertorico_2017-09-14_2017-09-15.gz\n",
      "#maria,#hurricanemaria,#puertorico_2017-09-15_2017-09-16.gz\n",
      "#maria,#hurricanemaria,#puertorico_2017-09-17_2017-09-18.gz\n",
      "#maria,#hurricanemaria,#puertorico_2017-09-18_2017-09-19.gz\n",
      "#maria,#hurricanemaria,#puertorico_2017-09-23_2017-09-24.gz\n",
      "#maria,#hurricanemaria,#puertorico_2017-09-22_2017-09-23.gz\n",
      "#maria,#hurricanemaria,#puertorico_2017-09-16_2017-09-17.gz\n",
      "#maria,#hurricanemaria,#puertorico_2017-09-13_2017-09-14.gz\n",
      "#maria,#hurricanemaria,#puertorico_2017-09-21_2017-09-22.gz\n",
      "#maria,#hurricanemaria,#puertorico_2017-09-19_2017-09-20.gz\n",
      "#maria,#hurricanemaria,#puertorico_2017-09-20_2017-09-21.gz\n",
      "#maria,#hurricanemaria,#puertorico_2017-09-24_2017-09-25.gz\n",
      "#maria,#hurricanemaria,#puertorico_2017-09-25_2017-09-26.gz\n",
      "crisis_maria_tweets_sep-29-17-00-00.gz\n",
      "crisis_maria_tweets_sep-30-17-00-00.gz\n",
      "crisis_maria_tweets_oct-01-17-00-00.gz\n",
      "crisis_maria_tweets_oct-02-17-00-00.gz\n",
      "crisis_maria_tweets_oct-13-17-00-00.gz\n",
      "crisis_maria_tweets_oct-17-17-00-00.gz\n",
      "crisis_maria_tweets_oct-03-17-00-00.gz\n",
      "crisis_maria_tweets_oct-04-17-00-00.gz\n",
      "crisis_maria_tweets_oct-12-17-00-00.gz\n",
      "crisis_maria_tweets.gz\n",
      "#maria,#hurricanemaria,#puertorico_2017-09-27_2017-09-28.gz\n",
      "#maria,#hurricanemaria,#puertorico_2017-10-01_2017-10-02.gz\n",
      "#maria,#hurricanemaria,#puertorico_2017-10-03_2017-10-04.gz\n",
      "#maria,#hurricanemaria,#puertorico_2017-09-30_2017-10-01.gz\n",
      "#maria,#hurricanemaria,#puertorico_2017-10-02_2017-10-03.gz\n",
      "#maria,#hurricanemaria,#puertorico_2017-10-04_2017-10-05.gz\n",
      "#maria,#hurricanemaria,#puertorico_2017-09-28_2017-09-29.gz\n",
      "#maria,#hurricanemaria,#puertorico_2017-09-26_2017-09-27.gz\n",
      "testing hurricane nate\n",
      "#nate,#hurricanenate,#nateupdates,#natehurricane_2017-10-07_2017-10-08.gz\n",
      "#nate,#hurricanenate,#nateupdates,#natehurricane_2017-10-11_2017-10-12.gz\n",
      "#nate,#hurricanenate,#nateupdates,#natehurricane_2017-10-04_2017-10-05.gz\n",
      "#nate,#hurricanenate,#nateupdates,#natehurricane_2017-10-10_2017-10-11.gz\n",
      "#nate,#hurricanenate,#nateupdates,#natehurricane_2017-10-09_2017-10-10.gz\n",
      "#nate,#hurricanenate,#nateupdates,#natehurricane_2017-10-06_2017-10-07.gz\n",
      "#nate,#hurricanenate,#nateupdates,#natehurricane_2017-10-05_2017-10-06.gz\n",
      "#nate,#hurricanenate,#nateupdates,#natehurricane_2017-10-08_2017-10-09.gz\n"
     ]
    }
   ],
   "source": [
    "data_dir = '../../data/mined_tweets/'\n",
    "tweet_files = map(str.lower, os.listdir(data_dir))\n",
    "hurricane_names = ['harvey', 'irma', 'maria', 'nate']\n",
    "for n in hurricane_names:\n",
    "    print(\"testing hurricane %s\"%(n))\n",
    "    matching_files = filter(lambda x: n in x, tweet_files)\n",
    "    print('\\n'.join(matching_files))"
   ]
  },
  {
   "cell_type": "code",
   "execution_count": 55,
   "metadata": {
    "collapsed": true
   },
   "outputs": [],
   "source": [
    "def count_lines(file_list):\n",
    "    ctr = 0\n",
    "    for f in file_list:\n",
    "        for l in gzip.open(f, 'r'):\n",
    "            ctr += 1\n",
    "    return ctr\n",
    "def count_matching_lines(file_list, line_matcher):\n",
    "    ctr = 0\n",
    "    for f in file_list:\n",
    "        for l in gzip.open(f, 'r'):\n",
    "            if(len(line_matcher.findall(l)) > 0):\n",
    "                ctr += 1\n",
    "    return ctr"
   ]
  },
  {
   "cell_type": "markdown",
   "metadata": {},
   "source": [
    "## Harvey"
   ]
  },
  {
   "cell_type": "code",
   "execution_count": 39,
   "metadata": {
    "collapsed": false
   },
   "outputs": [
    {
     "name": "stdout",
     "output_type": "stream",
     "text": [
      "../../data/mined_tweets/archive_#Irma,#HurricaneIrma,#Harvey,#HurricaneHarvey_Aug-19-17_Aug-19-17.gz\n",
      "../../data/mined_tweets/archive_#Irma,#HurricaneIrma,#Harvey,#HurricaneHarvey_Aug-27-17_Aug-27-17.gz\n",
      "../../data/mined_tweets/archive_#Irma,#HurricaneIrma,#Harvey,#HurricaneHarvey_Aug-31-17_Aug-31-17.gz\n",
      "../../data/mined_tweets/#Irma,#HurricaneIrma,#HoustonStrong,#Harvey,#HurricaneHarvey_Houston2017-08-17_2017-09-14.gz\n",
      "../../data/mined_tweets/#Irma,#HurricaneIrma,#Harvey,#HurricaneHarvey_2017-08-17_2017-08-27.gz\n",
      "../../data/mined_tweets/archive_#Irma,#HurricaneIrma,#Harvey,#HurricaneHarvey_Aug-17-17_Aug-17-17.gz\n",
      "../../data/mined_tweets/archive_#Irma,#HurricaneIrma,#Harvey,#HurricaneHarvey_Aug-20-17_Aug-20-17.gz\n",
      "../../data/mined_tweets/archive_#Irma,#HurricaneIrma,#Harvey,#HurricaneHarvey_Aug-18-17_Aug-18-17.gz\n",
      "../../data/mined_tweets/archive_#Irma,#HurricaneIrma,#Harvey,#HurricaneHarvey_Aug-24-17_Aug-24-17.gz\n",
      "../../data/mined_tweets/archive_#Irma,#HurricaneIrma,#Harvey,#HurricaneHarvey_Aug-28-17_Aug-28-17.gz\n",
      "../../data/mined_tweets/archive_#Irma,#HurricaneIrma,#Harvey,#HurricaneHarvey_Aug-22-17_Aug-22-17.gz\n",
      "../../data/mined_tweets/archive_#Irma,#HurricaneIrma,#Harvey,#HurricaneHarvey_Sep-01-17_Sep-01-17.gz\n",
      "../../data/mined_tweets/archive_#Irma,#HurricaneIrma,#Harvey,#HurricaneHarvey_Sep-12-17_Sep-12-17.gz\n",
      "../../data/mined_tweets/archive_#Irma,#HurricaneIrma,#Harvey,#HurricaneHarvey_Sep-13-17_Sep-13-17.gz\n",
      "../../data/mined_tweets/archive_#Irma,#HurricaneIrma,#Harvey,#HurricaneHarvey_Sep-10-17_Sep-10-17.gz\n",
      "../../data/mined_tweets/archive_#Irma,#HurricaneIrma,#Harvey,#HurricaneHarvey_Sep-08-17_Sep-08-17.gz\n",
      "../../data/mined_tweets/archive_#Irma,#HurricaneIrma,#Harvey,#HurricaneHarvey_Sep-14-17_Sep-14-17.gz\n",
      "../../data/mined_tweets/archive_#Irma,#HurricaneIrma,#Harvey,#HurricaneHarvey_Sep-09-17_Sep-09-17.gz\n",
      "../../data/mined_tweets/archive_#Irma,#HurricaneIrma,#Harvey,#HurricaneHarvey_Aug-29-17_Aug-29-17.gz\n",
      "../../data/mined_tweets/archive_#Irma,#HurricaneIrma,#Harvey,#HurricaneHarvey_Aug-25-17_Aug-25-17.gz\n",
      "../../data/mined_tweets/archive_#Irma,#HurricaneIrma,#Harvey,#HurricaneHarvey_Sep-05-17_Sep-05-17.gz\n",
      "../../data/mined_tweets/archive_#Irma,#HurricaneIrma,#Harvey,#HurricaneHarvey_Aug-26-17_Aug-26-17.gz\n",
      "../../data/mined_tweets/archive_#Irma,#HurricaneIrma,#Harvey,#HurricaneHarvey_Sep-07-17_Sep-07-17.gz\n",
      "../../data/mined_tweets/archive_#Irma,#HurricaneIrma,#Harvey,#HurricaneHarvey_Sep-02-17_Sep-02-17.gz\n",
      "../../data/mined_tweets/archive_#Irma,#HurricaneIrma,#Harvey,#HurricaneHarvey_Sep-06-17_Sep-06-17.gz\n",
      "../../data/mined_tweets/archive_#Irma,#HurricaneIrma,#Harvey,#HurricaneHarvey_Aug-30-17_Aug-30-17.gz\n",
      "../../data/mined_tweets/archive_#Irma,#HurricaneIrma,#Harvey,#HurricaneHarvey_Sep-11-17_Sep-11-17.gz\n",
      "../../data/mined_tweets/archive_#Irma,#HurricaneIrma,#Harvey,#HurricaneHarvey_Sep-03-17_Sep-03-17.gz\n",
      "../../data/mined_tweets/archive_#Irma,#HurricaneIrma,#Harvey,#HurricaneHarvey_Aug-23-17_Aug-23-17.gz\n",
      "../../data/mined_tweets/archive_#Irma,#HurricaneIrma,#Harvey,#HurricaneHarvey_Aug-21-17_Aug-21-17.gz\n",
      "../../data/mined_tweets/archive_#Irma,#HurricaneIrma,#Harvey,#HurricaneHarvey_Sep-04-17_Sep-04-17.gz\n",
      "../../data/mined_tweets/#Irma,#HurricaneIrma,#Harvey,#HurricaneHarvey_2017-08-27_2017-09-10.gz\n",
      "../../data/mined_tweets/#Irma,#HurricaneIrma,#Harvey,#HurricaneHarvey_2017-08-21_2017-08-22.gz\n",
      "../../data/mined_tweets/#Irma,#HurricaneIrma,#Harvey,#HurricaneHarvey_2017-08-24_2017-08-25.gz\n",
      "../../data/mined_tweets/#Irma,#HurricaneIrma,#Harvey,#HurricaneHarvey_2017-08-23_2017-08-24.gz\n",
      "../../data/mined_tweets/#Irma,#HurricaneIrma,#Harvey,#HurricaneHarvey_2017-08-22_2017-08-23.gz\n",
      "../../data/mined_tweets/#Irma,#HurricaneIrma,#Harvey,#HurricaneHarvey_2017-08-26_2017-08-27.gz\n",
      "../../data/mined_tweets/#Irma,#HurricaneIrma,#Harvey,#HurricaneHarvey_2017-08-20_2017-08-21.gz\n",
      "../../data/mined_tweets/#Irma,#HurricaneIrma,#Harvey,#HurricaneHarvey_2017-08-30_2017-08-31.gz\n",
      "../../data/mined_tweets/#Irma,#HurricaneIrma,#Harvey,#HurricaneHarvey_2017-09-02_2017-09-03.gz\n",
      "../../data/mined_tweets/#Irma,#HurricaneIrma,#Harvey,#HurricaneHarvey_2017-08-25_2017-08-26.gz\n",
      "../../data/mined_tweets/#Irma,#HurricaneIrma,#Harvey,#HurricaneHarvey_2017-08-28_2017-08-29.gz\n",
      "../../data/mined_tweets/#Irma,#HurricaneIrma,#Harvey,#HurricaneHarvey_2017-08-29_2017-08-30.gz\n",
      "../../data/mined_tweets/#Irma,#HurricaneIrma,#Harvey,#HurricaneHarvey_2017-08-27_2017-08-28.gz\n",
      "../../data/mined_tweets/#Irma,#HurricaneIrma,#Harvey,#HurricaneHarvey_2017-09-01_2017-09-02.gz\n",
      "../../data/mined_tweets/#Irma,#HurricaneIrma,#Harvey,#HurricaneHarvey_2017-09-03_2017-09-04.gz\n",
      "../../data/mined_tweets/#Irma,#HurricaneIrma,#Harvey,#HurricaneHarvey_2017-08-31_2017-09-01.gz\n",
      "../../data/mined_tweets/#Irma,#HurricaneIrma,#Harvey,#HurricaneHarvey_2017-09-04_2017-09-05.gz\n",
      "../../data/mined_tweets/#Irma,#HurricaneIrma,#Harvey,#HurricaneHarvey_2017-09-07_2017-09-08.gz\n",
      "../../data/mined_tweets/#Irma,#HurricaneIrma,#Harvey,#HurricaneHarvey_2017-09-08_2017-09-09.gz\n",
      "../../data/mined_tweets/#Irma,#HurricaneIrma,#Harvey,#HurricaneHarvey_2017-09-05_2017-09-06.gz\n",
      "../../data/mined_tweets/#Irma,#HurricaneIrma,#Harvey,#HurricaneHarvey_2017-09-06_2017-09-07.gz\n",
      "../../data/mined_tweets/#Irma,#HurricaneIrma,#Harvey,#HurricaneHarvey_2017-09-09_2017-09-10.gz\n"
     ]
    }
   ],
   "source": [
    "tweet_files = os.listdir(data_dir)\n",
    "corpus_matcher = re.compile('.*\\#[Hh]arvey.*.gz')\n",
    "historical_files = map(lambda y: os.path.join(data_dir, y), filter(lambda x: corpus_matcher.match(x), tweet_files))\n",
    "print('\\n'.join(historical_files))"
   ]
  },
  {
   "cell_type": "code",
   "execution_count": 40,
   "metadata": {
    "collapsed": false
   },
   "outputs": [],
   "source": [
    "rehydrated_tweet_file = os.path.join(data_dir, 'HurricaneHarvey_ids_rehydrated_clean.txt.gz')"
   ]
  },
  {
   "cell_type": "code",
   "execution_count": 47,
   "metadata": {
    "collapsed": false
   },
   "outputs": [],
   "source": [
    "all_files = historical_files + [rehydrated_tweet_file]\n",
    "line_matcher = re.compile('[Hh]arvey')\n",
    "harvey_ctr = count_matching_lines(all_files, line_matcher)"
   ]
  },
  {
   "cell_type": "code",
   "execution_count": 48,
   "metadata": {
    "collapsed": false
   },
   "outputs": [
    {
     "name": "stdout",
     "output_type": "stream",
     "text": [
      "1862036 total harvey lines\n"
     ]
    }
   ],
   "source": [
    "print('%d total harvey lines'%(harvey_ctr))"
   ]
  },
  {
   "cell_type": "markdown",
   "metadata": {},
   "source": [
    "## Irma"
   ]
  },
  {
   "cell_type": "code",
   "execution_count": 52,
   "metadata": {
    "collapsed": false
   },
   "outputs": [
    {
     "name": "stdout",
     "output_type": "stream",
     "text": [
      "../../data/mined_tweets/archive_#Irma,#HurricaneIrma,#Harvey,#HurricaneHarvey_Aug-19-17_Aug-19-17.gz\n",
      "../../data/mined_tweets/archive_#Irma,#HurricaneIrma,#Harvey,#HurricaneHarvey_Aug-27-17_Aug-27-17.gz\n",
      "../../data/mined_tweets/archive_#Irma,#HurricaneIrma,#Harvey,#HurricaneHarvey_Aug-31-17_Aug-31-17.gz\n",
      "../../data/mined_tweets/#Irma,#HurricaneIrma,#HoustonStrong,#Harvey,#HurricaneHarvey_Houston2017-08-17_2017-09-14.gz\n",
      "../../data/mined_tweets/#Irma,#HurricaneIrma,#Harvey,#HurricaneHarvey_2017-08-17_2017-08-27.gz\n",
      "../../data/mined_tweets/archive_#Irma,#HurricaneIrma,#Harvey,#HurricaneHarvey_Aug-17-17_Aug-17-17.gz\n",
      "../../data/mined_tweets/archive_#Irma,#HurricaneIrma,#Harvey,#HurricaneHarvey_Aug-20-17_Aug-20-17.gz\n",
      "../../data/mined_tweets/archive_#Irma,#HurricaneIrma,#Harvey,#HurricaneHarvey_Aug-18-17_Aug-18-17.gz\n",
      "../../data/mined_tweets/archive_#Irma,#HurricaneIrma,#Harvey,#HurricaneHarvey_Aug-24-17_Aug-24-17.gz\n",
      "../../data/mined_tweets/archive_#Irma,#HurricaneIrma,#Harvey,#HurricaneHarvey_Aug-28-17_Aug-28-17.gz\n",
      "../../data/mined_tweets/archive_#Irma,#HurricaneIrma,#Harvey,#HurricaneHarvey_Aug-22-17_Aug-22-17.gz\n",
      "../../data/mined_tweets/archive_#Irma,#HurricaneIrma,#Harvey,#HurricaneHarvey_Sep-01-17_Sep-01-17.gz\n",
      "../../data/mined_tweets/archive_#Irma,#HurricaneIrma,#Harvey,#HurricaneHarvey_Sep-12-17_Sep-12-17.gz\n",
      "../../data/mined_tweets/archive_#Irma,#HurricaneIrma,#Harvey,#HurricaneHarvey_Sep-13-17_Sep-13-17.gz\n",
      "../../data/mined_tweets/archive_#Irma,#HurricaneIrma,#Harvey,#HurricaneHarvey_Sep-10-17_Sep-10-17.gz\n",
      "../../data/mined_tweets/archive_#Irma,#HurricaneIrma,#Harvey,#HurricaneHarvey_Sep-08-17_Sep-08-17.gz\n",
      "../../data/mined_tweets/archive_#Irma,#HurricaneIrma,#Harvey,#HurricaneHarvey_Sep-14-17_Sep-14-17.gz\n",
      "../../data/mined_tweets/archive_#Irma,#HurricaneIrma,#Harvey,#HurricaneHarvey_Sep-09-17_Sep-09-17.gz\n",
      "../../data/mined_tweets/archive_#Irma,#HurricaneIrma,#Harvey,#HurricaneHarvey_Aug-29-17_Aug-29-17.gz\n",
      "../../data/mined_tweets/archive_#Irma,#HurricaneIrma,#Harvey,#HurricaneHarvey_Aug-25-17_Aug-25-17.gz\n",
      "../../data/mined_tweets/archive_#Irma,#HurricaneIrma,#Harvey,#HurricaneHarvey_Sep-05-17_Sep-05-17.gz\n",
      "../../data/mined_tweets/archive_#Irma,#HurricaneIrma,#Harvey,#HurricaneHarvey_Aug-26-17_Aug-26-17.gz\n",
      "../../data/mined_tweets/archive_#Irma,#HurricaneIrma,#Harvey,#HurricaneHarvey_Sep-07-17_Sep-07-17.gz\n",
      "../../data/mined_tweets/archive_#Irma,#HurricaneIrma,#Harvey,#HurricaneHarvey_Sep-02-17_Sep-02-17.gz\n",
      "../../data/mined_tweets/archive_#Irma,#HurricaneIrma,#Harvey,#HurricaneHarvey_Sep-06-17_Sep-06-17.gz\n",
      "../../data/mined_tweets/archive_#Irma,#HurricaneIrma,#Harvey,#HurricaneHarvey_Aug-30-17_Aug-30-17.gz\n",
      "../../data/mined_tweets/archive_#Irma,#HurricaneIrma,#Harvey,#HurricaneHarvey_Sep-11-17_Sep-11-17.gz\n",
      "../../data/mined_tweets/archive_#Irma,#HurricaneIrma,#Harvey,#HurricaneHarvey_Sep-03-17_Sep-03-17.gz\n",
      "../../data/mined_tweets/archive_#Irma,#HurricaneIrma,#Harvey,#HurricaneHarvey_Aug-23-17_Aug-23-17.gz\n",
      "../../data/mined_tweets/archive_#Irma,#HurricaneIrma,#Harvey,#HurricaneHarvey_Aug-21-17_Aug-21-17.gz\n",
      "../../data/mined_tweets/archive_#Irma,#HurricaneIrma,#Harvey,#HurricaneHarvey_Sep-04-17_Sep-04-17.gz\n",
      "../../data/mined_tweets/#Irma,#HurricaneIrma,#Harvey,#HurricaneHarvey_2017-08-27_2017-09-10.gz\n",
      "../../data/mined_tweets/#Irma,#HurricaneIrma,#Harvey,#HurricaneHarvey_2017-08-21_2017-08-22.gz\n",
      "../../data/mined_tweets/#Irma,#HurricaneIrma,#Harvey,#HurricaneHarvey_2017-08-24_2017-08-25.gz\n",
      "../../data/mined_tweets/#Irma,#HurricaneIrma,#Harvey,#HurricaneHarvey_2017-08-23_2017-08-24.gz\n",
      "../../data/mined_tweets/#Irma,#HurricaneIrma,#Harvey,#HurricaneHarvey_2017-08-22_2017-08-23.gz\n",
      "../../data/mined_tweets/#Irma,#HurricaneIrma,#Harvey,#HurricaneHarvey_2017-08-26_2017-08-27.gz\n",
      "../../data/mined_tweets/#Irma,#HurricaneIrma,#Harvey,#HurricaneHarvey_2017-08-20_2017-08-21.gz\n",
      "../../data/mined_tweets/#Irma,#HurricaneIrma,#Harvey,#HurricaneHarvey_2017-08-30_2017-08-31.gz\n",
      "../../data/mined_tweets/#Irma,#HurricaneIrma,#Harvey,#HurricaneHarvey_2017-09-02_2017-09-03.gz\n",
      "../../data/mined_tweets/#Irma,#HurricaneIrma,#Harvey,#HurricaneHarvey_2017-08-25_2017-08-26.gz\n",
      "../../data/mined_tweets/#Irma,#HurricaneIrma,#Harvey,#HurricaneHarvey_2017-08-28_2017-08-29.gz\n",
      "../../data/mined_tweets/#Irma,#HurricaneIrma,#Harvey,#HurricaneHarvey_2017-08-29_2017-08-30.gz\n",
      "../../data/mined_tweets/#Irma,#HurricaneIrma,#Harvey,#HurricaneHarvey_2017-08-27_2017-08-28.gz\n",
      "../../data/mined_tweets/#Irma,#HurricaneIrma,#Harvey,#HurricaneHarvey_2017-09-01_2017-09-02.gz\n",
      "../../data/mined_tweets/#Irma,#HurricaneIrma,#Harvey,#HurricaneHarvey_2017-09-03_2017-09-04.gz\n",
      "../../data/mined_tweets/#Irma,#HurricaneIrma,#Harvey,#HurricaneHarvey_2017-08-31_2017-09-01.gz\n",
      "../../data/mined_tweets/#Irma,#HurricaneIrma,#Harvey,#HurricaneHarvey_2017-09-04_2017-09-05.gz\n",
      "../../data/mined_tweets/#Irma,#HurricaneIrma,#Harvey,#HurricaneHarvey_2017-09-07_2017-09-08.gz\n",
      "../../data/mined_tweets/#Irma,#HurricaneIrma,#Harvey,#HurricaneHarvey_2017-09-08_2017-09-09.gz\n",
      "../../data/mined_tweets/#Irma,#HurricaneIrma,#Harvey,#HurricaneHarvey_2017-09-05_2017-09-06.gz\n",
      "../../data/mined_tweets/#Irma,#HurricaneIrma,#Harvey,#HurricaneHarvey_2017-09-06_2017-09-07.gz\n",
      "../../data/mined_tweets/#Irma,#HurricaneIrma,#Harvey,#HurricaneHarvey_2017-09-09_2017-09-10.gz\n"
     ]
    }
   ],
   "source": [
    "corpus_matcher = re.compile('.*[Ii]rma.*.gz')\n",
    "historical_files = map(lambda y: os.path.join(data_dir, y), filter(lambda x: corpus_matcher.match(x), tweet_files))\n",
    "print('\\n'.join(historical_files))"
   ]
  },
  {
   "cell_type": "code",
   "execution_count": 49,
   "metadata": {
    "collapsed": false
   },
   "outputs": [
    {
     "name": "stdout",
     "output_type": "stream",
     "text": [
      "764993 Irma tweets\n"
     ]
    }
   ],
   "source": [
    "line_matcher = re.compile('[Ii]rma')\n",
    "irma_ctr = count_matching_lines(historical_files, line_matcher)\n",
    "print('%d Irma tweets'%(irma_ctr))"
   ]
  },
  {
   "cell_type": "markdown",
   "metadata": {},
   "source": [
    "## Maria"
   ]
  },
  {
   "cell_type": "code",
   "execution_count": 51,
   "metadata": {
    "collapsed": false
   },
   "outputs": [
    {
     "name": "stdout",
     "output_type": "stream",
     "text": [
      "../../data/mined_tweets/#Maria,#HurricaneMaria,#PuertoRico_2017-09-29_2017-09-30.gz\n",
      "../../data/mined_tweets/#Maria,#HurricaneMaria,#PuertoRico_2017-08-30_2017-08-31.gz\n",
      "../../data/mined_tweets/#Maria,#HurricaneMaria,#PuertoRico_2017-09-01_2017-09-02.gz\n",
      "../../data/mined_tweets/#Maria,#HurricaneMaria,#PuertoRico_2017-09-02_2017-09-03.gz\n",
      "../../data/mined_tweets/#Maria,#HurricaneMaria,#PuertoRico_2017-09-03_2017-09-04.gz\n",
      "../../data/mined_tweets/#Maria,#HurricaneMaria,#PuertoRico_2017-08-31_2017-09-01.gz\n",
      "../../data/mined_tweets/#Maria,#HurricaneMaria,#PuertoRico_2017-09-14_2017-09-15.gz\n",
      "../../data/mined_tweets/#Maria,#HurricaneMaria,#PuertoRico_2017-09-15_2017-09-16.gz\n",
      "../../data/mined_tweets/#Maria,#HurricaneMaria,#PuertoRico_2017-09-17_2017-09-18.gz\n",
      "../../data/mined_tweets/#Maria,#HurricaneMaria,#PuertoRico_2017-09-18_2017-09-19.gz\n",
      "../../data/mined_tweets/#Maria,#HurricaneMaria,#PuertoRico_2017-09-23_2017-09-24.gz\n",
      "../../data/mined_tweets/#Maria,#HurricaneMaria,#PuertoRico_2017-09-22_2017-09-23.gz\n",
      "../../data/mined_tweets/#Maria,#HurricaneMaria,#PuertoRico_2017-09-16_2017-09-17.gz\n",
      "../../data/mined_tweets/#Maria,#HurricaneMaria,#PuertoRico_2017-09-13_2017-09-14.gz\n",
      "../../data/mined_tweets/#Maria,#HurricaneMaria,#PuertoRico_2017-09-21_2017-09-22.gz\n",
      "../../data/mined_tweets/#Maria,#HurricaneMaria,#PuertoRico_2017-09-19_2017-09-20.gz\n",
      "../../data/mined_tweets/#Maria,#HurricaneMaria,#PuertoRico_2017-09-20_2017-09-21.gz\n",
      "../../data/mined_tweets/#Maria,#HurricaneMaria,#PuertoRico_2017-09-24_2017-09-25.gz\n",
      "../../data/mined_tweets/#Maria,#HurricaneMaria,#PuertoRico_2017-09-25_2017-09-26.gz\n",
      "../../data/mined_tweets/crisis_maria_tweets_Sep-29-17-00-00.gz\n",
      "../../data/mined_tweets/crisis_maria_tweets_Sep-30-17-00-00.gz\n",
      "../../data/mined_tweets/crisis_maria_tweets_Oct-01-17-00-00.gz\n",
      "../../data/mined_tweets/crisis_maria_tweets_Oct-02-17-00-00.gz\n",
      "../../data/mined_tweets/crisis_maria_tweets_Oct-13-17-00-00.gz\n",
      "../../data/mined_tweets/crisis_maria_tweets_Oct-17-17-00-00.gz\n",
      "../../data/mined_tweets/crisis_maria_tweets_Oct-03-17-00-00.gz\n",
      "../../data/mined_tweets/crisis_maria_tweets_Oct-04-17-00-00.gz\n",
      "../../data/mined_tweets/crisis_maria_tweets_Oct-12-17-00-00.gz\n",
      "../../data/mined_tweets/crisis_maria_tweets.gz\n",
      "../../data/mined_tweets/#Maria,#HurricaneMaria,#PuertoRico_2017-09-27_2017-09-28.gz\n",
      "../../data/mined_tweets/#Maria,#HurricaneMaria,#PuertoRico_2017-10-01_2017-10-02.gz\n",
      "../../data/mined_tweets/#Maria,#HurricaneMaria,#PuertoRico_2017-10-03_2017-10-04.gz\n",
      "../../data/mined_tweets/#Maria,#HurricaneMaria,#PuertoRico_2017-09-30_2017-10-01.gz\n",
      "../../data/mined_tweets/#Maria,#HurricaneMaria,#PuertoRico_2017-10-02_2017-10-03.gz\n",
      "../../data/mined_tweets/#Maria,#HurricaneMaria,#PuertoRico_2017-10-04_2017-10-05.gz\n",
      "../../data/mined_tweets/#Maria,#HurricaneMaria,#PuertoRico_2017-09-28_2017-09-29.gz\n",
      "../../data/mined_tweets/#Maria,#HurricaneMaria,#PuertoRico_2017-09-26_2017-09-27.gz\n"
     ]
    }
   ],
   "source": [
    "corpus_matcher = re.compile('.*[Mm]aria.*.gz')\n",
    "historical_files = map(lambda y: os.path.join(data_dir, y), filter(lambda x: corpus_matcher.match(x), tweet_files))\n",
    "print('\\n'.join(historical_files))"
   ]
  },
  {
   "cell_type": "code",
   "execution_count": 57,
   "metadata": {
    "collapsed": false
   },
   "outputs": [
    {
     "name": "stdout",
     "output_type": "stream",
     "text": [
      "1855821 Maria tweets\n"
     ]
    }
   ],
   "source": [
    "line_matcher = re.compile('[Mm]aria')\n",
    "# for some reason matcher isn't working\n",
    "# maria_ctr = count_matching_lines(historical_files, line_matcher)\n",
    "maria_ctr = count_lines(historical_files)\n",
    "print('%d Maria tweets'%(maria_ctr))"
   ]
  },
  {
   "cell_type": "markdown",
   "metadata": {},
   "source": [
    "## Nate"
   ]
  },
  {
   "cell_type": "code",
   "execution_count": 58,
   "metadata": {
    "collapsed": false
   },
   "outputs": [
    {
     "name": "stdout",
     "output_type": "stream",
     "text": [
      "../../data/mined_tweets/#Nate,#HurricaneNate,#nateupdates,#NateHurricane_2017-10-07_2017-10-08.gz\n",
      "../../data/mined_tweets/#Nate,#HurricaneNate,#nateupdates,#NateHurricane_2017-10-11_2017-10-12.gz\n",
      "../../data/mined_tweets/#Nate,#HurricaneNate,#nateupdates,#NateHurricane_2017-10-04_2017-10-05.gz\n",
      "../../data/mined_tweets/#Nate,#HurricaneNate,#nateupdates,#NateHurricane_2017-10-10_2017-10-11.gz\n",
      "../../data/mined_tweets/#Nate,#HurricaneNate,#nateupdates,#NateHurricane_2017-10-09_2017-10-10.gz\n",
      "../../data/mined_tweets/#Nate,#HurricaneNate,#nateupdates,#NateHurricane_2017-10-06_2017-10-07.gz\n",
      "../../data/mined_tweets/#Nate,#HurricaneNate,#nateupdates,#NateHurricane_2017-10-05_2017-10-06.gz\n",
      "../../data/mined_tweets/#Nate,#HurricaneNate,#nateupdates,#NateHurricane_2017-10-08_2017-10-09.gz\n"
     ]
    }
   ],
   "source": [
    "corpus_matcher = re.compile('.*[Nn]ate.*.gz')\n",
    "historical_files = map(lambda y: os.path.join(data_dir, y), filter(lambda x: corpus_matcher.match(x), tweet_files))\n",
    "print('\\n'.join(historical_files))"
   ]
  },
  {
   "cell_type": "code",
   "execution_count": 59,
   "metadata": {
    "collapsed": false
   },
   "outputs": [
    {
     "name": "stdout",
     "output_type": "stream",
     "text": [
      "49911 Nate tweets\n"
     ]
    }
   ],
   "source": [
    "line_matcher = re.compile('[Nn]ate')\n",
    "nate_ctr = count_matching_lines(historical_files, line_matcher)\n",
    "print('%d Nate tweets'%(nate_ctr))"
   ]
  },
  {
   "cell_type": "markdown",
   "metadata": {},
   "source": [
    "## Summary"
   ]
  },
  {
   "cell_type": "markdown",
   "metadata": {},
   "source": [
    "Name  | Count\n",
    "------------- | -------------\n",
    "Harvey  | 1862036\n",
    "Irma  | 764993\n",
    "Maria  | 1855821\n",
    "Nate  | 49911"
   ]
  },
  {
   "cell_type": "markdown",
   "metadata": {},
   "source": [
    "We might be able to get cleaner data if we get prior data on top-1000 local users tweeting during each hurricane...TBD."
   ]
  },
  {
   "cell_type": "code",
   "execution_count": null,
   "metadata": {
    "collapsed": true
   },
   "outputs": [],
   "source": []
  }
 ],
 "metadata": {
  "kernelspec": {
   "display_name": "Python 2",
   "language": "python",
   "name": "python2"
  },
  "language_info": {
   "codemirror_mode": {
    "name": "ipython",
    "version": 2
   },
   "file_extension": ".py",
   "mimetype": "text/x-python",
   "name": "python",
   "nbconvert_exporter": "python",
   "pygments_lexer": "ipython2",
   "version": "2.7.10"
  }
 },
 "nbformat": 4,
 "nbformat_minor": 0
}
