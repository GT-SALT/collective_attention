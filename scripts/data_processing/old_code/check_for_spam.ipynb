{
 "cells": [
  {
   "cell_type": "markdown",
   "metadata": {},
   "source": [
    "# Check for spam\n",
    "Let's see if there is any near-matching among headlines in the tweets - we don't want to study how people share news headlines, we want to see how people process information about ongoing events."
   ]
  },
  {
   "cell_type": "code",
   "execution_count": 1,
   "metadata": {},
   "outputs": [
    {
     "name": "stderr",
     "output_type": "stream",
     "text": [
      "/hg190/istewart6/miniconda3/envs/crisis_language/lib/python3.6/importlib/_bootstrap.py:219: RuntimeWarning: numpy.dtype size changed, may indicate binary incompatibility. Expected 96, got 88\n",
      "  return f(*args, **kwds)\n",
      "/hg190/istewart6/miniconda3/envs/crisis_language/lib/python3.6/importlib/_bootstrap.py:219: RuntimeWarning: numpy.dtype size changed, may indicate binary incompatibility. Expected 96, got 88\n",
      "  return f(*args, **kwds)\n"
     ]
    }
   ],
   "source": [
    "import pandas as pd\n",
    "import numpy as np"
   ]
  },
  {
   "cell_type": "markdown",
   "metadata": {},
   "source": [
    "## Load data"
   ]
  },
  {
   "cell_type": "code",
   "execution_count": 2,
   "metadata": {},
   "outputs": [
    {
     "data": {
      "text/html": [
       "<div>\n",
       "<style scoped>\n",
       "    .dataframe tbody tr th:only-of-type {\n",
       "        vertical-align: middle;\n",
       "    }\n",
       "\n",
       "    .dataframe tbody tr th {\n",
       "        vertical-align: top;\n",
       "    }\n",
       "\n",
       "    .dataframe thead th {\n",
       "        text-align: right;\n",
       "    }\n",
       "</style>\n",
       "<table border=\"1\" class=\"dataframe\">\n",
       "  <thead>\n",
       "    <tr style=\"text-align: right;\">\n",
       "      <th></th>\n",
       "      <th>id</th>\n",
       "      <th>txt</th>\n",
       "      <th>data_name_fixed</th>\n",
       "      <th>NE</th>\n",
       "      <th>valid_loc</th>\n",
       "      <th>has_descriptor</th>\n",
       "      <th>NE_fixed</th>\n",
       "    </tr>\n",
       "  </thead>\n",
       "  <tbody>\n",
       "    <tr>\n",
       "      <th>0</th>\n",
       "      <td>914031644784431110</td>\n",
       "      <td>RT @Scavino45: POTUS' @realDonaldTrump on Hurr...</td>\n",
       "      <td>maria</td>\n",
       "      <td>('Hurricane', 'LOCATION')</td>\n",
       "      <td>False</td>\n",
       "      <td>False</td>\n",
       "      <td>hurricane</td>\n",
       "    </tr>\n",
       "    <tr>\n",
       "      <th>1</th>\n",
       "      <td>914033435756290048</td>\n",
       "      <td>RT @ReallyAmerican1: @robreiner Why is Trump j...</td>\n",
       "      <td>maria</td>\n",
       "      <td>('island', 'LOCATION')</td>\n",
       "      <td>False</td>\n",
       "      <td>False</td>\n",
       "      <td>island</td>\n",
       "    </tr>\n",
       "    <tr>\n",
       "      <th>2</th>\n",
       "      <td>914034547251191809</td>\n",
       "      <td>RT @UKDefenceIrma: An update from yesterday on...</td>\n",
       "      <td>maria</td>\n",
       "      <td>('Dominica', 'LOCATION')</td>\n",
       "      <td>False</td>\n",
       "      <td>False</td>\n",
       "      <td>dominica</td>\n",
       "    </tr>\n",
       "    <tr>\n",
       "      <th>3</th>\n",
       "      <td>914037164505288705</td>\n",
       "      <td>AEE: \"5 pequeñas autoridades para energizar a ...</td>\n",
       "      <td>maria</td>\n",
       "      <td>('Isla', 'LOCATION')</td>\n",
       "      <td>False</td>\n",
       "      <td>False</td>\n",
       "      <td>isla</td>\n",
       "    </tr>\n",
       "    <tr>\n",
       "      <th>4</th>\n",
       "      <td>914051722938601472</td>\n",
       "      <td>RT @christoq: A ‘Toddler-Level’ Response: Trum...</td>\n",
       "      <td>maria</td>\n",
       "      <td>('Big_Water', 'LOCATION')</td>\n",
       "      <td>False</td>\n",
       "      <td>False</td>\n",
       "      <td>big_water</td>\n",
       "    </tr>\n",
       "  </tbody>\n",
       "</table>\n",
       "</div>"
      ],
      "text/plain": [
       "                   id                                                txt  \\\n",
       "0  914031644784431110  RT @Scavino45: POTUS' @realDonaldTrump on Hurr...   \n",
       "1  914033435756290048  RT @ReallyAmerican1: @robreiner Why is Trump j...   \n",
       "2  914034547251191809  RT @UKDefenceIrma: An update from yesterday on...   \n",
       "3  914037164505288705  AEE: \"5 pequeñas autoridades para energizar a ...   \n",
       "4  914051722938601472  RT @christoq: A ‘Toddler-Level’ Response: Trum...   \n",
       "\n",
       "  data_name_fixed                         NE  valid_loc  has_descriptor  \\\n",
       "0           maria  ('Hurricane', 'LOCATION')      False           False   \n",
       "1           maria     ('island', 'LOCATION')      False           False   \n",
       "2           maria   ('Dominica', 'LOCATION')      False           False   \n",
       "3           maria       ('Isla', 'LOCATION')      False           False   \n",
       "4           maria  ('Big_Water', 'LOCATION')      False           False   \n",
       "\n",
       "    NE_fixed  \n",
       "0  hurricane  \n",
       "1     island  \n",
       "2   dominica  \n",
       "3       isla  \n",
       "4  big_water  "
      ]
     },
     "metadata": {},
     "output_type": "display_data"
    },
    {
     "name": "stdout",
     "output_type": "stream",
     "text": [
      "414995 unique tweets\n"
     ]
    }
   ],
   "source": [
    "combined_tag_data = pd.read_csv('../../data/mined_tweets/combined_tweet_NE_flat_data.gz', sep='\\t', index_col=False, compression='gzip')\n",
    "display(combined_tag_data.head())\n",
    "print('%d unique tweets'%(combined_tag_data.loc[:, 'id'].nunique()))"
   ]
  },
  {
   "cell_type": "markdown",
   "metadata": {},
   "source": [
    "## Look for near-duplicates\n",
    "Let's sort the text and look for near matches."
   ]
  },
  {
   "cell_type": "code",
   "execution_count": 15,
   "metadata": {},
   "outputs": [
    {
     "name": "stdout",
     "output_type": "stream",
     "text": [
      "414995/511743 dedup tweets\n"
     ]
    },
    {
     "name": "stderr",
     "output_type": "stream",
     "text": [
      "/hg190/istewart6/miniconda3/envs/crisis_language/lib/python3.6/site-packages/ipykernel_launcher.py:3: SettingWithCopyWarning: \n",
      "A value is trying to be set on a copy of a slice from a DataFrame\n",
      "\n",
      "See the caveats in the documentation: http://pandas.pydata.org/pandas-docs/stable/indexing.html#indexing-view-versus-copy\n",
      "  This is separate from the ipykernel package so we can avoid doing imports until\n"
     ]
    },
    {
     "data": {
      "text/plain": [
       "array(['#Bengals #AndyDalton has family waiting to be rescued in Texas #harvey #nfl <URL>\\n',\n",
       "       '#Bengals QB @andydalton14 has family waiting to be rescued in Texas #Harvey <URL>\\n',\n",
       "       '#Bensonhurst Volunteer Ambulance, a COAD Member, is collecting donations at @StFinbarBklyn of specific needed cleaning supplies and tools for transport to the Carolinas for #Florence relief. For more info: <URL>\\n',\n",
       "       '#Beprepared , Texas! #weatheralert #hurricane #HurricaneHarvey #evacuatenow <URL>\\n',\n",
       "       '#Berkeley County says these fire depts now have sandbags. Moncks Corner City Moncks Corner rural & Whitesville #chsnews #irma plz RT this\\n',\n",
       "       '#Berkeley people are worried about this bullshit meanwhile people in Texas are being killed by flooding #HurricaneHarvery #Harvey\\n',\n",
       "       '#BerkeleyCounty EMS will only be responding to life threatening calls to areas South of Moncks Corner due to wind speeds. #Irma\\n',\n",
       "       '#BerkeleyCounty to move to OPCON 2 at noon today, as Hurricane #Irma poses threats to South Carolina. <URL>\\n',\n",
       "       '#Berkley should watch what is going on in #Houston - #neighbor helping neighbor regardless of race. #HurricaneHarvey #Texas\\n',\n",
       "       \"#BerlinAirlift for #PuertoRico ! #Boricua ! 9 Numbers That Put Puerto Rico's Daunting Recovery Into Perspective <URL>\\n\",\n",
       "       '#BerlinAirlift for #PuertoRico ! #Boricua Puerto Rico is on the brink of a humanitarian crisis. Where is the media? <URL>\\n',\n",
       "       '#Bermuda Regiment & Police to travel to Caribbean to help Overseas Territories devastated by #HurricaneIrma <URL>\\n',\n",
       "       '#Bermudians in Florida on aftermath of #HurricaneIrma <URL>\\n',\n",
       "       \"#BernieSanders is an uninformed biased liar. Trump's federal aid in Houston went to thousands blacks & Latinos. NO way racist. #PuertoRico\\n\",\n",
       "       '#Besomebody team and other Cincinnati groups head to Houston to help. #harvey . <URL>\\n',\n",
       "       '#BestBuy apologizes after viral photos appear to show cases of water priced at $42 in Houston amid #HurricaneHarvey . <URL>\\n',\n",
       "       '#BestBuy in Houston is #looting by selling cases of water to #Harvey victims for $42. Boycott the evil corporate ghouls.\\n',\n",
       "       '#BestBuy in Myrtle Beach still has batteries, flashlights and battery packs in-stock. Limited supplies. #Irma @WMBFnews @MyrtleBeachNews\\n',\n",
       "       '#BestBuy on Over-Priced Water: EEs priced case of water using single-bottle price for each bottle in a case. #harvey <URL>\\n',\n",
       "       '#BestBuy sorry for Texas store selling $43 bottled water during #HurricaneHarvey <URL>\\n',\n",
       "       '#BestBuyBoycott Sign me up. #Shameful Corporate culture squeezing out any profit. Selling case of water in Texas for $42 #HarveyFlood\\n',\n",
       "       \"#Bestie2 lives in Boca. She's leaving tomorrow a.m. Stay safe, everyone. #hurricaneirma\\n\",\n",
       "       \"#Beyhive let's come 2gether & show love 2 every1 affect by #HurricaneHarvey especially those in Houston... #PrayersforTexas #HoustonFlood <URL>\\n\",\n",
       "       '#Beyonce #Houston fans are wondering if you are standing with them? #TexasBama #Harvey <URL>\\n',\n",
       "       '#Beyonce #TinaLawson #MichelleWilliams meet with #HurricaneHarvey victims in #Houston <URL>\\n',\n",
       "       '#Beyonce #TinaLawson and #BlueIvy in #Houston with #BeyGood for #HurricaneHarvey relief efforts.… <URL>\\n',\n",
       "       '#Beyonce Joins Rapper Trae Tha Truth In Giving Back To #Houston Texas #HurricaneHarvey <URL>\\n',\n",
       "       '#Beyonce Meets With #HurricaneHarvey Victims in Houston. <URL>\\n',\n",
       "       '#Beyonce Passes Out Hot Plates W/ #TraeThaTruth At #Houston ’s #HurricaneHarvey Relief <URL>\\n',\n",
       "       '#Beyonce Travels to Houston to Support #HurricaneHarvey Victims and Share a Message of Love and Solidarity #BeStrong <URL>\\n',\n",
       "       '#Beyonce and #BlueIvy served food to those affected by #HurricaneHarvey in Houston… <URL>\\n',\n",
       "       '#Beyonce donated so much money to her hometown, #Houston , they had to keep the amount hidden. #Harvey #Hurrica … <URL>\\n',\n",
       "       '#Beyonce in Houston helping with recovery. #Houston #Harvey <URL>\\n',\n",
       "       '#Beyonce launches #BeyGOODHouston to assist in #Harvey relief efforts <URL>\\n',\n",
       "       '#Beyonce pledges to help victims of #HurricaneHarvey in #Houston amidst rumors she’s donated $7 million <URL>\\n',\n",
       "       '#Beyonce rises to the occasion and does all she can for her hometown of Houston in the wake of #HurricaneHarvey <URL>\\n',\n",
       "       '#Beyonce x #Traethetruth supporting #HurricaneHarvey victims in #Houston <URL>\\n',\n",
       "       '#Beyoncé #TinaKnowles and #MichelleWilliams feeding #HurricaneHarvey victims in #Houston … <URL>\\n',\n",
       "       '#Beyoncé , Barbra and Oprah to Lead #Harvey Telethon: <URL>\\n',\n",
       "       '#Beyoncé Launches #BeyGOOD Houston to Help Victims of #HurricaneHarvey <URL>\\n',\n",
       "       '#Beyoncé and #BlueIvy in #Houston giving back to the #HurricaneHarvey victims. #welearndifferent <URL>\\n',\n",
       "       '#Beyoncé canta #MiGente con #JBalvin por #México y #PuertoRico (Video) <URL>\\n',\n",
       "       '#Beyoncé canta #MiGente con #JBalvin por #México y #PuertoRico (Video)... <URL>\\n',\n",
       "       '#Beyoncé giving a word to #HurricaneHarvey survivors. @Beyonce #TinaLawson are doing awesome work in Houston! <URL>\\n',\n",
       "       '#Beyoncé is supporting Bread of Life and Greater Houston Community Foundation to help #Houston following #Harvey . <URL>\\n',\n",
       "       '#Beyoncé speaking to #HurricaneHarvey survivors at her church in HoUSton today. #BeyGOOD <URL>\\n',\n",
       "       '#Beyoncé to #Harvey survivors: \"This today is a celebration of survival. Y\\'all are my family. Houston is my home.\" <URL>\\n',\n",
       "       '#Biafra @VP : . @POTUS &amp; I are grateful for the efforts of all the volunteers helping on the ground in Texas. #Harvey\\n',\n",
       "       '#Biblical levels of floods in #Houston and #Trump is recommending good books to read #Harvey\\n',\n",
       "       '#Bienvenido Puerto Rico Our country should be opened and a welcome sign shoud greet our brothers and sisters in #PuertoRico <URL>\\n',\n",
       "       '#BigGreenEgg thanks for holding down the dock during #irma @Tampa, Florida <URL>\\n',\n",
       "       '#BigNews in county: Montgomery, Maryland preparing for #Irma . @mymcmedia <URL>\\n',\n",
       "       '#BigNews in public safety: Montgomery rescue crews to help with #Harvey -ravaged Houston. #MoCoNews @MittiMegan <URL>\\n',\n",
       "       \"#BigOil is also guilty of #gouging - prices even went up in Oregon. #HurricaneHarvey Potus don't care. #Texas hasn't asked. #corruption <URL>\\n\",\n",
       "       \"#BigOrange arrived safely in Wilmington, NC, last night. Due to massive flooding, the 2-hour trip took 6 hours. Rooms weren't available, so they slept in their trucks last night. Despite the challenges, they're now on the ground, working to get power restored. #Florence <URL>\\n\",\n",
       "       '#BigOrange crews restoring power in Wilmington, NC, and, as always, making friends with the residents. #Florence <URL>\\n',\n",
       "       '#BigOrange is headed home from North Carolina.The 79-member team of line crews and resource personnel were released Sunday morning and are expected to arrive in their respective districts by Monday evening or early Tuesday morning. #Florence <URL>\\n',\n",
       "       '#BigOrange up & at it in Rockport. @OHPtraffic joined crews for morning meeting. OHP assisting officials in TX. #Harvey #OklahomaStandard <URL>\\n',\n",
       "       '#BigOrange working on the weekend in Wilmington, NC. #Florence <URL>\\n',\n",
       "       '#BigPharma shortage coming soon! As of 2014, #PuertoRico produces sixteen of the top twenty selling drugs in the mainland United States. <URL>\\n',\n",
       "       '#BigPine #CudjoeKey #FloridaKeys #Irma Monroe County Search and Rescue Finds No Casualties in Big Pine, Cudjoe Keys <URL>\\n',\n",
       "       \"#BigPineKey #FloridaKeys #Irma #KeysStrong I'm in Houston used to live BPK & worked KW; have loved ones there. Doing what I can from afar.\\n\",\n",
       "       '#BigPineKey is the largest Island in the Florida Keys-home to many residents & the endangered Key Deer. The #Irma eye went over us.\\n',\n",
       "       '#BigUps to Dallas Mayor @Mike_Rawlings @dallasmayorsofc & @DallasISDMedia for immediate #leadership on #Houston #Harvey relief.\\n',\n",
       "       '#BikersForTrump filling a truck for #Harvey survivors near Virginia Beach <URL>\\n',\n",
       "       \"#BillNelson , Senate Armed Services Committee member: Tyndall won't close over #HurricaneMichael damage - Florida Politics <URL>\\n\",\n",
       "       '#Billings nurse traveling to Houston: <URL>\\n',\n",
       "       '#Bills DE Jerry Hughes donates to Houston flood relief after #HurricaneHarvey <URL>\\n',\n",
       "       '#Binghamton & #BroomeCounty NY State is collecting #donations 4 #PuertoRico Our center is @85 West End Ave Binghamton #donate #PorPR <URL>\\n',\n",
       "       '#Birds caught up in the eye of Major Hurricane #Harvey Maybe we will see some reports of Tubenoses in Texas soon @ABA <URL>\\n',\n",
       "       '#Birmingham accepting donations for relief efforts in Puerto Rico, Mexico <URL>\\n',\n",
       "       \"#BirminghamMuseumCollectionsCentre - Warehouse - Bust of Cosimo II de' Medici, Grand Duke of Tuscany. Wasn't expecting to see this bust after my summer holiday to #Florence and #Tuscany !… <URL>\\n\",\n",
       "       '#BiscayneBay from #Miami Shores, mandatory evacuation zone. #Florida Note : #Irma is not in FL yet. #Tatiana <URL>\\n',\n",
       "       \"#BitchFace #TrumpHater #NameNotEvenWorthKnowing SHUT UP!! We're not in Asia #HurricaneHarvey is worst in history. #ItsNotGlobalWarmingEither\\n\",\n",
       "       '#BlackExcellence RP from @power1051 - Basketball GOAT #MichaelJordan has donated $2M dollars to help aid folks in North Carolina affected by #HurricaneFlorence - The NBA legend attended… <URL>\\n',\n",
       "       '#BlackLivesMatter #BLM - thread details shady racist practices in Florida #HurricaneIrmaAftermath #HurricaneIrma <URL>\\n',\n",
       "       '#BlackLivesMatter Spring into Action During #Hurricane #Irma in Effort to Rescue Shoes From Foot Locker <URL>\\n',\n",
       "       '#BlackLivesMatter never helped black lives before, why would they start now? ~ Kimberly Morin @Conservativeind #Houston #HurricaneHarvey\\n',\n",
       "       '#BlackLivesMatter they say no they loot Fort Lauderdale #Florida #HurricaneIrma shoot them for looting simple as where are whites looting ? <URL>\\n',\n",
       "       \"#BlackLivesMatter volunteers rescue Air Jordan's from Foot Locker during #HurricaneIrma <URL>\\n\",\n",
       "       \"#Blackfish Lolita on her own while #HurricaneIrma Makes it's way to Florida Saddest site of all <URL>\\n\",\n",
       "       '#BlessedBe people of Texas and everyone effected by Harvey! Stay state take care of your neighbors! Blessings and love! #Harvey #TexasFlood\\n',\n",
       "       \"#Blessings All,in Lower Keys,especially 1 of my favorite places on Earth; Key West! My Is w/Hemingway's beautiful cats! -Duval St! #Irma :\\n\",\n",
       "       '#Blood Banks in Florida need platelets and O Negative Blood because of #HurricaneIrma . <URL>\\n',\n",
       "       '#BlowinInTheWind #hurricaneharvey Wowzer! @Lake Madeline, Galveston, Texas <URL>\\n',\n",
       "       '#BloxyNews | Support the people over in Texas going through #HurricaneHarvey by buying these items on the #Roblox site: (links in replies) <URL>\\n',\n",
       "       '#BlueFamily I will be very busy #Dr apps & #Prepping 4 #Irma A few of US in our Fam are facing a #DirectHit #Cat5 4 ALL here in FL <URL>\\n',\n",
       "       '#BlueLivesMatter - this brave officer in TX rests from exhaustion. #Harvey <URL>\\n',\n",
       "       '#BlueRoof applicants typically begin the process at in-person Right of Entry centers. This year, a new online application option is available for 12 Florida counties affected by #Michael , in addition to physical ROE centers. Learn how it works in the following video. <URL>\\n',\n",
       "       '#BlueRoof applicants typically begin the process at in-person Right of Entry centers. This year, a new online application option is available for 12 Florida counties affected by #Michael , in addition to physical ROE centers. Learn how it works in the following video. pic.twi…\\n',\n",
       "       '#BlueRoof available for 12 Florida counties affected by #Michael : Looking for a Right of Entry center to begin the process? Visit this website, where you can also learn about the online application option: <URL>\\n',\n",
       "       '#BlueShed lives despite #HurricaneHarvey . #Harvey needs bigger foes than this scrappy hero near Rockport #carwarsh . <URL>\\n',\n",
       "       '#BlueShed still stands in #Rockport Texas as confirmed in this video. #HurricaneHarvey <URL>\\n',\n",
       "       '#BlueWave #UnitedBlue @porpentina2017 Florida special elections matter-and Hurricane #Irma hurt. Vote #Dem for help. <URL>\\n',\n",
       "       '#Boat #traffic around #Florida right now, no #boats around Florida. #Hurricane #Irma <URL>\\n',\n",
       "       '#Boaters in #Texas are stepping up to rescue people trapped by #Harvey floodwaters. <URL>\\n',\n",
       "       '#Boats #Boaters #Volunteers are still needed in #PortArthur Texas. Please help if you can. #Harvey #HarveyFlood #rt <URL>\\n',\n",
       "       '#BobBreck #Harvey Update  Harvey on the Move...Heading back to Gulf...  <URL>\\n',\n",
       "       '#Boboli #Gardens , #Florence . Photo - Hilde Kari <URL>\\n',\n",
       "       '#BodyLanguage Analysis No. 4047: #JoelOsteen , #Houston , & #HurricaneHarvey - #Nonverbal & #EmotionalIntelligence • <URL>\\n'],\n",
       "      dtype=object)"
      ]
     },
     "metadata": {},
     "output_type": "display_data"
    }
   ],
   "source": [
    "combined_tag_data_dedup = combined_tag_data.drop_duplicates('id', inplace=False)\n",
    "print('%d/%d dedup tweets'%(combined_tag_data_dedup.shape[0], combined_tag_data.shape[0]))\n",
    "combined_tag_data_dedup.sort_values('txt', inplace=True)\n",
    "display(combined_tag_data_dedup.loc[:, 'txt'].iloc[5700:5800].values)"
   ]
  },
  {
   "cell_type": "code",
   "execution_count": null,
   "metadata": {},
   "outputs": [],
   "source": []
  }
 ],
 "metadata": {
  "kernelspec": {
   "display_name": "Python 3",
   "language": "python",
   "name": "python3"
  },
  "language_info": {
   "codemirror_mode": {
    "name": "ipython",
    "version": 3
   },
   "file_extension": ".py",
   "mimetype": "text/x-python",
   "name": "python",
   "nbconvert_exporter": "python",
   "pygments_lexer": "ipython3",
   "version": "3.6.5"
  }
 },
 "nbformat": 4,
 "nbformat_minor": 2
}
