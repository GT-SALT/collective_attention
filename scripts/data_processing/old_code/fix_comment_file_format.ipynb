{
 "cells": [
  {
   "cell_type": "markdown",
   "metadata": {},
   "source": [
    "# Fix comment file format\n",
    "In which we replace the comma delimiters in comment files with tabs for easier reading from file."
   ]
  },
  {
   "cell_type": "code",
   "execution_count": 1,
   "metadata": {},
   "outputs": [],
   "source": [
    "import pandas as pd"
   ]
  },
  {
   "cell_type": "code",
   "execution_count": 2,
   "metadata": {},
   "outputs": [
    {
     "name": "stdout",
     "output_type": "stream",
     "text": [
      "(825, 14)\n"
     ]
    }
   ],
   "source": [
    "test_file = '../../data/facebook-maria/1773209126315380_2017-09-20_2017-10-20_facebook_comments.tsv'\n",
    "test_df = pd.read_csv(test_file, sep=',', index_col=False)\n",
    "print(test_df.shape)"
   ]
  },
  {
   "cell_type": "code",
   "execution_count": 37,
   "metadata": {},
   "outputs": [],
   "source": [
    "import codecs\n",
    "import re\n",
    "def fix_comma_file(file_name):\n",
    "    output_file_name = file_name.replace('.tsv', '_fixed.tsv')\n",
    "    quote_matcher = re.compile('(?<=\"\"\")\\S+(?=\"\"\")')\n",
    "    with codecs.open(output_file_name, 'w', encoding='utf-8') as output_file:\n",
    "        with codecs.open(file_name, 'r', encoding='utf-8') as file_iter:\n",
    "            all_data = []\n",
    "            for i, l in enumerate(file_iter):\n",
    "                l_split = l.strip().split(',')\n",
    "                # header\n",
    "                if(i == 0):\n",
    "                    all_vals = l_split\n",
    "                else:\n",
    "                    initial_vals = l_split[:3]\n",
    "                    # deal with triple-quotes??\n",
    "                    quote_spans = l.strip().split('\"\"\"')\n",
    "                    if(len(quote_spans) > 1):\n",
    "                        print(quote_spans)\n",
    "                        break\n",
    "                    comment_message = ','.join(l_split[3:-10]).replace('\\t', ' ').replace('\\n', ' ')\n",
    "                    final_vals = l_split[-10:]\n",
    "                    all_vals = initial_vals + [comment_message] + final_vals\n",
    "                all_vals_str = '\\t'.join(all_vals)\n",
    "#                 output_file.write('%s\\n'%(all_vals_str))"
   ]
  },
  {
   "cell_type": "code",
   "execution_count": 39,
   "metadata": {},
   "outputs": [
    {
     "data": {
      "text/plain": [
       "'test   dlfads f  blha'"
      ]
     },
     "execution_count": 39,
     "metadata": {},
     "output_type": "execute_result"
    }
   ],
   "source": [
    "space_fixer = re.compile('[\\t\\n\\r]')\n",
    "space_fixer.sub(' ', \"\"\"test   dlfads f\n",
    "\n",
    "blha\"\"\")"
   ]
  },
  {
   "cell_type": "code",
   "execution_count": 38,
   "metadata": {},
   "outputs": [
    {
     "name": "stdout",
     "output_type": "stream",
     "text": [
      "[u'308866286257750,296720367472342_308835509594161,,', u'I would like to clear a few things in relation to my Island of Puerto Rico!! There is a huge misconception that Puerto Rico is being maintained by the USA!']\n",
      "[u'\"\"Dile a ellos que NO hay pas\\xf3 para Canovanillas.....el puente de Puente Moreno, y el de Campo Rico no se saben a donde fueron a parar.  Ya est\\xe1n trabajando en eso!  Tan pronto sepa algo, te dejo saber.', u',Yalira Castaneda,2017-09-24 11:08:23,0,0,0,0,0,0,0,0']\n",
      "[u'492179134490728,486819048360070_491980277843947,492122351163073,\"Por eso dije: \"\"M\\xe1s p\\xe1nico del que ya tiene la gente', u',Nicole Michelle,2017-10-04 09:37:17,0,0,0,0,0,0,0,0']\n",
      "[u'121455828528038,118787682128186_121442665196021,,\"From Pepe: \"\"Bendicion a ti y a todos. Me allegro que todos estan bien. Yo y mi familia estamos bien. Damele recuerdos a tu mama y al resto de la familia.', u',Mari Rivera,2017-10-05 15:00:48,1,0,1,0,0,0,0,0']\n",
      "[u'1727617127548195,1724474021195839_1727584650884776,,\"Accordingly in Mayaguez they will provide some supplies at \"\"El Edificio Municipal.', u',Robert Ortiz,2017-10-01 21:31:50,0,0,0,0,0,0,0,0']\n",
      "[u'1823035577988177,1815374475420954_1823031684655233,1823033831321685,\"Yes, even the delivered one said \"\" in transit.', u',Angelica Benavidez de Gonzalez,2017-10-10 18:24:18,1,1,0,0,0,0,0,0']\n",
      "[u'EYRC TRANSPORT INC 787-361-6889', u',Eilyn D Lopez,2017-09-27 19:20:47,1,1,0,0,0,0,0,0']\n",
      "[u'1912666188985195,1909452959306518_1912476095670871,1912588062326341,\"Donde ella dice es cerca del Rest. \"\"Los Dos Mangoes', u',Waleska Nieves,2017-09-29 02:29:26,0,0,0,0,0,0,0,0']\n",
      "[u'121059305232203,117224992282301_121058985232235,,', u'Stop and Go\"\" stations have free food, water, pet food, Wi-Fi, children activities, etc. These are all the stations that the first lady gave.. she mentioned that there will be more stations in the near future.\",Melissa Villatoro,2017-10-18 10:19:47,0,0,0,0,0,0,0,0']\n",
      "[u'118000698891022,117445378946554_117933995564359,,', u'Elizabeth Cuevas', u',Gladys Gonzalez,2017-09-23 18:39:17,0,0,0,0,0,0,0,0']\n",
      "[u'135640660422567,127217134598253_135633043756662,,', u'', u'', u' Que los metan presos y que les voten la llave en lo mas profundo del mar a donde nunca puedan salir....,\\U0001f621\\U0001f621\\U0001f621\\U0001f621\\U0001f621\\U0001f621 ##', u'', u'', u'', u'', u'', u'\",Nelson Valentin,2017-10-17 09:58:39,3,3,0,0,0,0,0,0']\n",
      "[u'905256216288076,891721064308258_905254549621576,,\"As\\xed somos, grasias a Dios. La isla del CORDERO', u'', u'))\",GLoria Diaz,2017-10-16 05:26:35,0,0,0,0,0,0,0,0']\n",
      "[u'246853249173067,239379013253824_246837319174660,246837729174619,\"El numero 787-825-7008 \"\"suerte', u',Myrna Esteva,2017-10-10 15:09:29,1,1,0,0,0,0,0,0']\n",
      "[u'Adjuntas, Aguada, Aguadilla, A\\xf1asco, Cabo Rojo, Camuy, Gu\\xe1nica, Guayanilla, Hatillo, Hormigueros, Isabela, Lajas, Lares, Las Mar\\xedas, Maricao, Mayag\\xfcez, Moca, Pe\\xf1uelas, Quebradillas, Rinc\\xf3n, Sabana Grande, San Germ\\xe1n, San Sebasti\\xe1n, y Yauco para asistencia de Individuo', u',Jenny Irizarry,2017-10-03 16:10:24,0,0,0,0,0,0,0,0']\n",
      "[u'851057095054002,844368579056187_850094708483574,850154118477633,\"Maria Rosado no creo q llame! Es un mensaje de wassup! No tiene servicio usa wassup por wifi cuando esta \"\" la defensa civil', u',Karol Anglero,2017-10-05 18:34:20,0,0,0,0,0,0,0,0']\n",
      "[u'1726319584340607,1723084327997466_1726185917687307,1726215974350968,\"No estoy segura mi Tia dice que de el sector \"\"mula', u',Eli Cruz,2017-09-30 13:03:06,0,0,0,0,0,0,0,0']\n",
      "[u'514851905559835,505778186467207_514832645561761,,', u'Surrounded\"\" \\U0001f609\",Americo Abadia,2017-10-13 18:37:30,4,4,0,0,0,0,0,0']\n",
      "[u'1456089477843421,1453581968094172_1455936614525374,,', u'Zello\"\".  Alex n Alex N Toni Lopez, look For the group for Cayey here and in Zello.\",Fadia Khader,2017-09-25 21:53:34,1,1,0,0,0,0,0,0']\n",
      "[u'137995966831229,132022090761950_137864270177732,,\"Se deben cerrar muy bien las cajas, usen suficiente \"\"tape.', u',Migdalia Collado,2017-10-18 13:57:02,0,0,0,0,0,0,0,0']\n",
      "[u'1978673619022231,1972572999632293_1978611375695122,1978671275689132,', u'No lo creo\"\".\",Lucy Vega,2017-10-05 21:26:47,0,0,0,0,0,0,0,0']\n",
      "[u'137173320257340,130913387550000_137160960258576,,\"Envi\\xe9 el d\\xeda 10 todav\\xeda dice \"\"enroute', u',William Delgado,2017-10-14 17:41:31,1,1,0,0,0,0,0,0']\n",
      "[u'He le\\xeddo la historia detr\\xe1s de estas acusaciones, pero puesto que como no estaba presente me voy con las premisas \"\"Inocente hasta que se demuestre lo contrario.', u',Esther Vel\\xe1zquez,2017-10-10 20:51:28,0,0,0,0,0,0,0,0']\n",
      "[u'318575778614899,311739902631820_318560315283112,,\"I told my family that and their reposed was \"\" I know, but I have no electricity \"\" so I said, do like the old days do fire pit. She said, \"\"that is cool  but they do no have matches.', u',Robert Ortiz,2017-10-11 21:13:07,0,0,0,0,0,0,0,0']\n",
      "[u'140629809904711,132392547395104_140360383264987,,', u'As\\xed somos los boricuas\"\". En el mundo todos somos una sola familia.\",Pepito Kuky Crespo,2017-10-18 21:05:52,1,0,1,0,0,0,0,0']\n",
      "[u'734994860021096,721270821393500_734730556714193,,\"PONCE \\u2764', u',Soir Evii,2017-10-18 13:27:39,0,0,0,0,0,0,0,0']\n",
      "[u'143587359587318,142680509678003_143553699590684,143584572920930,\"Jardines del Caribe it\\'s ok , I heard it v\\xeda zello app ! Download the app and check channels \"\" Ponce Puerto Rico hurac\\xe1n maria ', u',Mira-ida Casr Gpsn,2017-09-24 10:20:55,2,2,0,0,0,0,0,0']\n",
      "[u'325427077920895,320205998443003_325284761268460,,\"Im a tell ya like the songs says ...\"\" Pasaran Mas de Mil A\\xf1os Muchos Mas', u',Hiram Rodriguez,2017-10-04 01:42:42,0,0,0,0,0,0,0,0']\n"
     ]
    }
   ],
   "source": [
    "import os\n",
    "import re\n",
    "data_dir = '../../data/facebook-maria/'\n",
    "file_matcher = re.compile('.*_facebook_comments.tsv')\n",
    "all_files = [os.path.join(data_dir, f) for f in os.listdir(data_dir) if file_matcher.match(f)]\n",
    "for f in all_files:\n",
    "    fix_comma_file(f)"
   ]
  },
  {
   "cell_type": "markdown",
   "metadata": {},
   "source": [
    "**Conclusion**\n",
    "\n",
    "We need to re-mine the comments because SOME of them have extra return spaces that we cannot automatically parse."
   ]
  }
 ],
 "metadata": {
  "kernelspec": {
   "display_name": "Python 2",
   "language": "python",
   "name": "python2"
  },
  "language_info": {
   "codemirror_mode": {
    "name": "ipython",
    "version": 2
   },
   "file_extension": ".py",
   "mimetype": "text/x-python",
   "name": "python",
   "nbconvert_exporter": "python",
   "pygments_lexer": "ipython2",
   "version": "2.7.10"
  }
 },
 "nbformat": 4,
 "nbformat_minor": 2
}
