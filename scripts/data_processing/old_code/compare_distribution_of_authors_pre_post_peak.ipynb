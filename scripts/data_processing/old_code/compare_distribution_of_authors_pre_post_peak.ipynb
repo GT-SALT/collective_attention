{
 "cells": [
  {
   "cell_type": "markdown",
   "metadata": {},
   "source": [
    "# Compare distribution of authors pre/post peak\n",
    "Having determined a slight decrease in context use post-peak (`../../models/run_regression.py` results), we now ask whether this decrease is due to a change in the distribution of authors post-peak to favor more context-light authors."
   ]
  },
  {
   "cell_type": "code",
   "execution_count": 1,
   "metadata": {},
   "outputs": [],
   "source": [
    "import numpy as np\n",
    "import pandas as pd\n",
    "import matplotlib\n",
    "%matplotlib inline\n",
    "import matplotlib.pyplot as plt\n",
    "import seaborn as sns"
   ]
  },
  {
   "cell_type": "markdown",
   "metadata": {},
   "source": [
    "## Load data"
   ]
  },
  {
   "cell_type": "code",
   "execution_count": 126,
   "metadata": {},
   "outputs": [],
   "source": [
    "import dateutil\n",
    "from datetime import datetime, timedelta\n",
    "def round_to_day(x):\n",
    "    x_day = datetime(day=x.day, month=x.month, year=x.year)\n",
    "    return x_day\n",
    "def fix_timezone(x, date_fmt='%Y-%m-%d %H:%M:%S', timezone_str='+0000'):\n",
    "    # add timezone offset for \"naive\" dates\n",
    "    if(x.utcoffset() is None):\n",
    "        x = datetime.strptime('%s%s'%(x.strftime(date_fmt), timezone_str), '%s%%z'%(date_fmt))\n",
    "    return x\n",
    "def assign_peak_date(data, count_var='NE_count', date_var='date_day'):\n",
    "    max_count = data.loc[:, count_var].max()\n",
    "    peak_date = data[data.loc[:, count_var] == max_count].loc[:, date_var].iloc[0]\n",
    "    return peak_date\n",
    "def load_consistent_data():\n",
    "    # load full data\n",
    "    full_data = pd.read_csv('../../data/mined_tweets/combined_tweet_tag_data.gz', sep='\\t', index_col=False, compression='gzip', converters={'date' : dateutil.parser.parse})\n",
    "    # load anchor data\n",
    "    anchor_data = pd.read_csv('../../data/mined_tweets/combined_tweet_tag_data_NE_flat_parsed_anchor.gz', sep='\\t', index_col=False, compression='gzip', converters={'date' : dateutil.parser.parse})\n",
    "    # fix bad usernames\n",
    "    anchor_data = anchor_data.assign(**{'username' : anchor_data.loc[:, 'username'].apply(lambda x: x.split(':')[-1])})\n",
    "\n",
    "    date_var = 'date'\n",
    "    full_data = full_data.assign(**{date_var : full_data.loc[:, date_var].apply(lambda x: fix_timezone(x))})\n",
    "    anchor_data = anchor_data.assign(**{date_var : anchor_data.loc[:, date_var].apply(lambda x: fix_timezone(x))})\n",
    "    ## add time var\n",
    "\n",
    "    round_date_var = '%s_day'%(date_var)\n",
    "    full_data = full_data.assign(**{round_date_var : full_data.loc[:, date_var].apply(lambda x: round_to_day(x))})\n",
    "    anchor_data = anchor_data.assign(**{round_date_var : anchor_data.loc[:, date_var].apply(lambda x: round_to_day(x))})\n",
    "        ## add NE peak dates\n",
    "    NE_var = 'NE_fixed'\n",
    "    round_date_var = 'date_day'\n",
    "    data_name_var = 'data_name_fixed'\n",
    "    NE_counts = anchor_data.groupby([NE_var, data_name_var, round_date_var]).apply(lambda x: x.shape[0]).reset_index().rename(columns={0 : 'NE_count'})\n",
    "    id_var = 'id'\n",
    "    doc_counts = full_data.groupby([data_name_var, round_date_var]).apply(lambda x: x.loc[:, id_var].nunique()).reset_index().rename(columns={0 : 'doc_count'})\n",
    "    NE_doc_counts = pd.merge(NE_counts, doc_counts, on=[data_name_var, round_date_var])\n",
    "    NE_doc_counts = NE_doc_counts.assign(**{'NE_freq' : NE_doc_counts.loc[:, 'NE_count'] / NE_doc_counts.loc[:, 'doc_count']})\n",
    "    k_consistent = 5\n",
    "    NE_unique_date_counts = NE_doc_counts.groupby([data_name_var, NE_var]).apply(lambda x: x.loc[:, round_date_var].nunique())\n",
    "    NE_consistent = NE_unique_date_counts[NE_unique_date_counts >= k_consistent].reset_index().loc[:, [data_name_var, NE_var]]\n",
    "    NE_doc_counts_consistent = pd.merge(NE_doc_counts, NE_consistent, on=[data_name_var, NE_var], how='inner')\n",
    "\n",
    "    count_var = 'NE_count'\n",
    "    NE_count_peaks = NE_doc_counts_consistent.groupby([data_name_var, NE_var]).apply(lambda x: assign_peak_date(x, count_var, date_var=round_date_var)).reset_index().rename(columns={0 : 'peak_date'})\n",
    "    anchor_data_consistent = pd.merge(anchor_data, NE_count_peaks, on=[NE_var, data_name_var], how='inner')\n",
    "    peak_date_buffer = timedelta(days=1)\n",
    "    peak_date_var = 'peak_date'\n",
    "    round_date_var = 'date_day'\n",
    "    anchor_data_consistent = anchor_data_consistent.assign(**{\n",
    "        'pre_peak' : (anchor_data_consistent.loc[:, round_date_var] <= anchor_data_consistent.loc[:, peak_date_var] - peak_date_buffer).astype(int),\n",
    "        'post_peak' : (anchor_data_consistent.loc[:, round_date_var] >= anchor_data_consistent.loc[:, peak_date_var] + peak_date_buffer).astype(int),\n",
    "        'during_peak' : ((anchor_data_consistent.loc[:, round_date_var] > anchor_data_consistent.loc[:, peak_date_var] - peak_date_buffer) & (anchor_data_consistent.loc[:, round_date_var] < anchor_data_consistent.loc[:, peak_date_var] + peak_date_buffer)).astype(int)\n",
    "    })\n",
    "    return anchor_data_consistent"
   ]
  },
  {
   "cell_type": "code",
   "execution_count": null,
   "metadata": {},
   "outputs": [],
   "source": [
    "anchor_data_consistent = load_consistent_data()"
   ]
  },
  {
   "cell_type": "markdown",
   "metadata": {},
   "source": [
    "Let's load the cleaned regression data to make things comparable."
   ]
  },
  {
   "cell_type": "code",
   "execution_count": null,
   "metadata": {},
   "outputs": [],
   "source": [
    "## update: could not replicate finding from regression (post-peak decrease) with clean regression data...no good\n",
    "# anchor_data_consistent = pd.read_csv('../../data/mined_tweets/combined_tweet_tag_data_NE_flat_parsed_anchor_NE_peak_times_consistent_authors.gz', sep='\\t', compression='gzip', index_col=False)"
   ]
  },
  {
   "cell_type": "code",
   "execution_count": null,
   "metadata": {},
   "outputs": [],
   "source": [
    "## need username+data_name for valid comparison\n",
    "author_var = 'username'\n",
    "author_data_var = '%s_%s'%(author_var, data_name_var)\n",
    "anchor_data_consistent = anchor_data_consistent.assign(**{\n",
    "     author_data_var : anchor_data_consistent.loc[:, author_var] + '_' + anchor_data_consistent.loc[:, data_name_var]\n",
    "})"
   ]
  },
  {
   "cell_type": "code",
   "execution_count": null,
   "metadata": {},
   "outputs": [],
   "source": [
    "## only include NEs that occur in all three time periods!!\n",
    "## otherwise we're comparing apples/oranges\n",
    "time_vars = ['pre_peak', 'during_peak', 'post_peak']\n",
    "NE_data_var = '%s_%s'%(NE_var, data_name_var)\n",
    "anchor_data_consistent = anchor_data_consistent.assign(**{\n",
    "    NE_data_var : anchor_data_consistent.loc[:, NE_var] + '_' + anchor_data_consistent.loc[:, data_name_var]\n",
    "})\n",
    "NE_time_period_counts = anchor_data_consistent.groupby(NE_data_var).apply(lambda x: x.loc[:, time_vars].max(axis=0).sum())\n",
    "NE_time_period_valid = NE_time_period_counts[NE_time_period_counts == len(time_vars)].index.tolist()\n",
    "print('%d/%d valid NEs'%(len(NE_time_period_valid), len(NE_time_period_counts)))"
   ]
  },
  {
   "cell_type": "code",
   "execution_count": 44,
   "metadata": {},
   "outputs": [],
   "source": [
    "anchor_data_consistent_NEs = anchor_data_consistent[anchor_data_consistent.loc[:, NE_data_var].isin(NE_time_period_valid)]"
   ]
  },
  {
   "cell_type": "code",
   "execution_count": 43,
   "metadata": {},
   "outputs": [
    {
     "name": "stdout",
     "output_type": "stream",
     "text": [
      "152243\n",
      "150062\n"
     ]
    }
   ],
   "source": [
    "print(anchor_data_consistent.shape[0])\n",
    "print(anchor_data_consistent_NEs.shape[0])"
   ]
  },
  {
   "cell_type": "markdown",
   "metadata": {},
   "source": [
    "### Compare pre/post author distribution"
   ]
  },
  {
   "cell_type": "code",
   "execution_count": null,
   "metadata": {},
   "outputs": [],
   "source": [
    "anchor_data_pre_peak = anchor_data_consistent_NEs[anchor_data_consistent_NEs.loc[:, 'pre_peak']==1]\n",
    "anchor_data_during_peak = anchor_data_consistent_NEs[anchor_data_consistent_NEs.loc[:, 'during_peak']==1]\n",
    "anchor_data_post_peak = anchor_data_consistent_NEs[anchor_data_consistent_NEs.loc[:, 'post_peak']==1]\n",
    "pre_peak_authors = anchor_data_pre_peak.loc[:, author_data_var].unique()\n",
    "during_peak_authors = anchor_data_during_peak.loc[:, author_data_var].unique()\n",
    "post_peak_authors = anchor_data_post_peak.loc[:, author_data_var].unique()"
   ]
  },
  {
   "cell_type": "code",
   "execution_count": null,
   "metadata": {},
   "outputs": [],
   "source": [
    "time_period_author_joint = set(pre_peak_authors) | set(during_peak_authors) | set(post_peak_authors)\n",
    "pre_during_joint = set(pre_peak_authors) | set(during_peak_authors)\n",
    "pre_post_joint = set(pre_peak_authors) | set(post_peak_authors)\n",
    "during_post_joint = set(during_peak_authors) | set(post_peak_authors)\n",
    "time_period_author_overlap = set(pre_peak_authors) & set(during_peak_authors) & set(post_peak_authors)\n",
    "print('%.3f%% of pre-peak authors in pre-peak period'%(len(time_period_author_overlap) / len(pre_peak_authors) * 100))\n",
    "print('%.3f%% of during-peak authors in during-peak period'%(len(time_period_author_overlap) / len(during_peak_authors) * 100))\n",
    "print('%.3f%% of post-peak authors in post-peak period'%(len(time_period_author_overlap) / len(post_peak_authors) * 100))"
   ]
  },
  {
   "cell_type": "markdown",
   "metadata": {},
   "source": [
    "Let's compute the post volume and rate of context use for the following author groups:\n",
    "\n",
    "- pre-peak (all)\n",
    "- pre-peak (shared)\n",
    "- pre-peak (no post-peak)\n",
    "- post-peak (all)\n",
    "- post-peak (shared)\n",
    "- post-peak (no pre-peak)"
   ]
  },
  {
   "cell_type": "code",
   "execution_count": null,
   "metadata": {},
   "outputs": [],
   "source": [
    "pre_peak_only_authors = set(pre_peak_authors) - during_post_joint\n",
    "during_peak_only_authors = set(during_peak_authors) - pre_post_joint\n",
    "post_peak_only_authors = set(post_peak_authors) - pre_during_joint"
   ]
  },
  {
   "cell_type": "code",
   "execution_count": null,
   "metadata": {},
   "outputs": [],
   "source": [
    "print('%.2f%% of joint authors in pre-peak only'%(len(pre_peak_only_authors) / len(time_period_author_joint) * 100))\n",
    "print('%.2f%% of joint authors in during-peak only'%(len(during_peak_only_authors) / len(time_period_author_joint) * 100))\n",
    "print('%.2f%% of joint authors in post-peak only'%(len(post_peak_only_authors) / len(time_period_author_joint) * 100))"
   ]
  },
  {
   "cell_type": "code",
   "execution_count": null,
   "metadata": {},
   "outputs": [],
   "source": [
    "anchor_data_pre_peak_shared = anchor_data_pre_peak[anchor_data_pre_peak.loc[:, author_data_var].isin(time_period_author_overlap)]\n",
    "anchor_data_during_peak_shared = anchor_data_during_peak[anchor_data_during_peak.loc[:, author_data_var].isin(time_period_author_overlap)]\n",
    "anchor_data_post_peak_shared = anchor_data_post_peak[anchor_data_post_peak.loc[:, author_data_var].isin(time_period_author_overlap)]\n",
    "anchor_data_pre_peak_pre_only = anchor_data_pre_peak[anchor_data_pre_peak.loc[:, author_data_var].isin(pre_peak_only_authors)]\n",
    "anchor_data_during_peak_during_only = anchor_data_during_peak[anchor_data_during_peak.loc[:, author_data_var].isin(during_peak_only_authors)]\n",
    "anchor_data_post_peak_post_only = anchor_data_post_peak[anchor_data_post_peak.loc[:, author_data_var].isin(post_peak_only_authors)]"
   ]
  },
  {
   "cell_type": "code",
   "execution_count": null,
   "metadata": {},
   "outputs": [],
   "source": [
    "## TODO: compare during and post with pre-peak mean\n",
    "## compute mean/err\n",
    "context_var = 'anchor'\n",
    "author_data_sets = [\n",
    "    anchor_data_pre_peak, anchor_data_pre_peak_pre_only, anchor_data_pre_peak_shared,\n",
    "    anchor_data_during_peak, anchor_data_during_peak_during_only, anchor_data_during_peak_shared, \n",
    "    anchor_data_post_peak, anchor_data_post_peak_post_only, anchor_data_post_peak_shared, \n",
    "]\n",
    "# per-author, per-NE mean\n",
    "context_means = [x.groupby(author_data_var).apply(lambda x: x.groupby(NE_var).apply(lambda y: y.loc[:, context_var].mean()).mean()).mean() for x in author_data_sets]\n",
    "context_errs = [x.groupby(author_data_var).apply(lambda x: x.groupby(NE_var).apply(lambda y: y.loc[:, context_var].mean()).mean()).std() / (x.loc[:, NE_var].nunique()**.5) for x in author_data_sets]\n",
    "# per-NE mean\n",
    "# context_means = [x.groupby(NE_var).apply(lambda x: x.loc[:, context_var].mean()).mean() for x in author_data_sets]\n",
    "# context_errs = [x.groupby(NE_var).apply(lambda x: x.loc[:, context_var].mean()).std() / (x.loc[:, NE_var].nunique()**.5) for x in author_data_sets]\n",
    "context_mean_overall = anchor_data_consistent_NEs.groupby(author_data_var).apply(lambda x: x.groupby(NE_var).apply(lambda y: y.loc[:, context_var].mean()).mean()).mean()"
   ]
  },
  {
   "cell_type": "code",
   "execution_count": 42,
   "metadata": {},
   "outputs": [
    {
     "data": {
      "image/png": "[encoded data removed]",
      "text/plain": [
       "<Figure size 1296x216 with 2 Axes>"
      ]
     },
     "metadata": {},
     "output_type": "display_data"
    }
   ],
   "source": [
    "author_data_counts = [x.shape[0] for x in author_data_sets]\n",
    "author_data_set_names = ['pre_peak', 'pre_peak_only', 'pre_peak_shared',\n",
    "                         'during_peak', 'during_peak_only', 'during_peak_shared',\n",
    "                         'post_peak', 'post_peak_only', 'post_peak_shared']\n",
    "## plot\n",
    "X = np.arange(len(context_means))\n",
    "f, ax1 = plt.subplots(figsize=(18,3))\n",
    "ax2 = ax1.twinx()\n",
    "ax1.scatter(X, context_means, color='b')\n",
    "ax1.errorbar(X, context_means, yerr=context_errs, color='b', linestyle='none')\n",
    "ax1.set_xticks(X)\n",
    "ax1.set_xticklabels(author_data_set_names)\n",
    "X_range_pct = 0.07\n",
    "X_plot_range = [X.min() - X_range_pct*(X.max()-X.min()), X.max() + X_range_pct*(X.max()-X.min())]\n",
    "ax1.plot(X_plot_range, [context_mean_overall, context_mean_overall], color='k', linestyle='--')\n",
    "ax2.bar(X, author_data_counts, color='r', alpha=0.5)\n",
    "ax1.set_ylabel('P(context)')\n",
    "ax2.set_ylabel('Count', rotation=270, labelpad=12)\n",
    "plt.xlim(X_plot_range)\n",
    "plt.show()"
   ]
  },
  {
   "cell_type": "markdown",
   "metadata": {},
   "source": [
    "- The consistently posting authors (`shared`) have a lower rate of context use, so an increase in context use corresponds with relatively fewer posts from consistent authors.\n",
    "- Slight decrease in `post_peak` from `during_peak` could be due to relatively fewer posts from `shared` authors. Influx of \"non-locals\"?"
   ]
  },
  {
   "cell_type": "markdown",
   "metadata": {},
   "source": [
    "## Compare locations in all author sets"
   ]
  },
  {
   "cell_type": "markdown",
   "metadata": {},
   "source": [
    "How do we match these results with the results from the regression?\n",
    "\n",
    "- More location mentions => less context use, which would imply that the `post_peak_shared` authors should have the lowest context use."
   ]
  },
  {
   "cell_type": "markdown",
   "metadata": {},
   "source": [
    "We can reconcile the difference if `post_peak_only` authors tend to mention locations more frequently (ex. concentrate on a few important ones) than the `post_peak_shared` authors."
   ]
  },
  {
   "cell_type": "code",
   "execution_count": 80,
   "metadata": {},
   "outputs": [
    {
     "name": "stdout",
     "output_type": "stream",
     "text": [
      "data=post_peak, posts=63533, authors=41929\n",
      "1.206 +/- 0.004 NEs per author\n",
      "1.515 +/- 0.010 posts per author\n",
      "1.199 +/- 0.003 posts/NE\n",
      "data=post_peak_only, posts=42656, authors=33712\n",
      "1.091 +/- 0.002 NEs per author\n",
      "1.265 +/- 0.005 posts per author\n",
      "1.152 +/- 0.003 posts/NE\n",
      "data=post_peak_shared, posts=9849, authors=2452\n",
      "2.339 +/- 0.047 NEs per author\n",
      "4.017 +/- 0.128 posts per author\n",
      "1.561 +/- 0.023 posts/NE\n"
     ]
    }
   ],
   "source": [
    "author_var = 'username_data_name_fixed'\n",
    "NE_var = 'NE_fixed'\n",
    "post_peak_data_all = [anchor_data_post_peak, anchor_data_post_peak_post_only, anchor_data_post_peak_shared]\n",
    "post_peak_data_names = ['post_peak', 'post_peak_only', 'post_peak_shared']\n",
    "for post_peak_data, post_peak_data_name in zip(post_peak_data_all, post_peak_data_names):\n",
    "    NE_count_per_author = post_peak_data.groupby(author_var).apply(lambda x: x.loc[:, NE_var].nunique())\n",
    "    post_count_per_author = post_peak_data.groupby(author_var).apply(lambda x: x.shape[0])\n",
    "    # NE density\n",
    "    posts_per_NE_per_author = post_peak_data.groupby(author_var).apply(lambda x: x.shape[0] / x.loc[:, NE_var].nunique())\n",
    "    # log-transform\n",
    "    print('data=%s, posts=%d, authors=%d'%(post_peak_data_name, post_peak_data.shape[0], post_peak_data.loc[:, author_var].nunique()))\n",
    "    print('%.3f +/- %.3f NEs per author'%(np.mean(NE_count_per_author), NE_count_per_author.std() / NE_count_per_author.shape[0]**.5))\n",
    "    print('%.3f +/- %.3f posts per author'%(np.mean(post_count_per_author), post_count_per_author.std() / post_count_per_author.shape[0]**.5))\n",
    "    print('%.3f +/- %.3f posts/NE'%(np.mean(posts_per_NE_per_author), posts_per_NE_per_author.std() / posts_per_NE_per_author.shape[0]**.5))"
   ]
  },
  {
   "cell_type": "code",
   "execution_count": 72,
   "metadata": {},
   "outputs": [
    {
     "name": "stdout",
     "output_type": "stream",
     "text": [
      "data=post_peak, posts=11874, authors=1334\n",
      "3.779 +/- 0.081 NEs per author\n",
      "8.901 +/- 0.205 posts per author\n",
      "3.092 +/- 0.061 posts/NE\n",
      "data=post_peak_only, posts=2427, authors=362\n",
      "2.365 +/- 0.078 NEs per author\n",
      "6.704 +/- 0.139 posts per author\n",
      "3.976 +/- 0.141 posts/NE\n",
      "data=post_peak_shared, posts=6339, authors=572\n",
      "4.955 +/- 0.148 NEs per author\n",
      "11.082 +/- 0.425 posts per author\n",
      "2.587 +/- 0.077 posts/NE\n"
     ]
    }
   ],
   "source": [
    "# restrict to consistent authors\n",
    "min_author_post_count = 5\n",
    "for post_peak_data, post_peak_data_name in zip(post_peak_data_all, post_peak_data_names):\n",
    "    # restrict to consistent authors in each time period??\n",
    "    author_counts_i = post_peak_data.loc[:, author_var].value_counts()\n",
    "    consistent_authors_i = author_counts_i[author_counts_i >= min_author_post_count].index.tolist()\n",
    "    post_peak_data_consistent = post_peak_data[post_peak_data.loc[:, author_var].isin(consistent_authors_i)]\n",
    "    NE_count_per_author = post_peak_data_consistent.groupby(author_var).apply(lambda x: x.loc[:, NE_var].nunique())\n",
    "    post_count_per_author = post_peak_data_consistent.groupby(author_var).apply(lambda x: x.shape[0])\n",
    "    # NE density\n",
    "    posts_per_NE_per_author = post_peak_data_consistent.groupby(author_var).apply(lambda x: x.shape[0] / x.loc[:, NE_var].nunique())\n",
    "    # log-transform\n",
    "    print('data=%s, posts=%d, authors=%d'%(post_peak_data_name, post_peak_data_consistent.shape[0], post_peak_data_consistent.loc[:, author_var].nunique()))\n",
    "    print('%.3f +/- %.3f NEs per author'%(np.mean(NE_count_per_author), NE_count_per_author.std() / NE_count_per_author.shape[0]**.5))\n",
    "    print('%.3f +/- %.3f posts per author'%(np.mean(post_count_per_author), post_count_per_author.std() / post_count_per_author.shape[0]**.5))\n",
    "    print('%.3f +/- %.3f posts/NE'%(np.mean(posts_per_NE_per_author), posts_per_NE_per_author.std() / posts_per_NE_per_author.shape[0]**.5))"
   ]
  },
  {
   "cell_type": "markdown",
   "metadata": {},
   "source": [
    "Conclusion: we expected `post_peak_only` authors to have more posts per NE (which means more chance of context use decrease) but in fact the `post_peak_shared` authors have slightly more posts per NE.\n",
    "\n",
    "However! When we restrict to consistent authors ($k>=5$ posts each) we see more concentration of posts per NE -> the overall decrease is driven by the consistent authors."
   ]
  },
  {
   "cell_type": "markdown",
   "metadata": {},
   "source": [
    "What do the overall distributions of posts/NE look like?"
   ]
  },
  {
   "cell_type": "code",
   "execution_count": 73,
   "metadata": {},
   "outputs": [
    {
     "name": "stdout",
     "output_type": "stream",
     "text": [
      "data=post_peak, posts=63533, authors=41929\n",
      "data=post_peak_only, posts=42656, authors=33712\n",
      "data=post_peak_shared, posts=9849, authors=2452\n"
     ]
    }
   ],
   "source": [
    "posts_per_NE_per_author_list = []\n",
    "for post_peak_data, post_peak_data_name in zip(post_peak_data_all, post_peak_data_names):\n",
    "    # NE density\n",
    "    posts_per_NE_per_author = post_peak_data.groupby(author_var).apply(lambda x: x.shape[0] / x.loc[:, NE_var].nunique())\n",
    "    # log-transform\n",
    "    print('data=%s, posts=%d, authors=%d'%(post_peak_data_name, post_peak_data.shape[0], post_peak_data.loc[:, author_var].nunique()))\n",
    "    posts_per_NE_per_author_list.append(posts_per_NE_per_author)"
   ]
  },
  {
   "cell_type": "code",
   "execution_count": null,
   "metadata": {},
   "outputs": [],
   "source": [
    "# plot the distributions"
   ]
  },
  {
   "cell_type": "code",
   "execution_count": 79,
   "metadata": {},
   "outputs": [
    {
     "name": "stdout",
     "output_type": "stream",
     "text": [
      "post_peak vs. post_peak_only\n",
      "distribution difference test: test stat = 729994578.000, p = 1.000E+00\n",
      "post_peak vs. post_peak_shared\n",
      "distribution difference test: test stat = 38126449.000, p = 3.737E-260\n",
      "post_peak_only vs. post_peak_shared\n",
      "distribution difference test: test stat = 29284833.500, p = 0.000E+00\n"
     ]
    }
   ],
   "source": [
    "from scipy.stats import wilcoxon, kruskal, mannwhitneyu\n",
    "for i in range(len(posts_per_NE_per_author_list)):\n",
    "    for j in range(i+1, len(posts_per_NE_per_author_list)):\n",
    "        print('%s vs. %s'%(post_peak_data_names[i], post_peak_data_names[j]))\n",
    "#         test_stat, p_val = kruskal(posts_per_NE_per_author_list[i], posts_per_NE_per_author_list[j])\n",
    "        test_stat, p_val = mannwhitneyu(posts_per_NE_per_author_list[i], posts_per_NE_per_author_list[j], alternative='less')\n",
    "        print('distribution difference test: test stat = %.3f, p = %.3E'%(test_stat, p_val))"
   ]
  },
  {
   "cell_type": "markdown",
   "metadata": {},
   "source": [
    "TODO: plot overlapping distributions of posts/NE for all author categories"
   ]
  },
  {
   "cell_type": "markdown",
   "metadata": {},
   "source": [
    "### Test differences in control variable distributions between post-peak-only and post-peak-shared\n",
    "Based on the regression, the following control variables are correlated with lower context use:\n",
    "\n",
    "- post length\n",
    "- URL\n",
    "\n",
    "Let's test each of these."
   ]
  },
  {
   "cell_type": "code",
   "execution_count": 64,
   "metadata": {},
   "outputs": [],
   "source": [
    "import re\n",
    "from data_helpers import compute_post_length\n",
    "# process data\n",
    "url_matcher = re.compile('<URL>')\n",
    "txt_var = 'txt'\n",
    "anchor_data_consistent_NEs = anchor_data_consistent_NEs.assign(**{'has_URL' : anchor_data_consistent_NEs.loc[:, txt_var].apply(lambda x: int(url_matcher.search(x) is not None))})\n",
    "\n",
    "## add character length of post without context\n",
    "post_len_bins = 11\n",
    "anchor_data_consistent_NEs = compute_post_length(anchor_data_consistent_NEs, bins=post_len_bins)"
   ]
  },
  {
   "cell_type": "code",
   "execution_count": 68,
   "metadata": {},
   "outputs": [],
   "source": [
    "## re-segment datasets\n",
    "anchor_data_pre_peak = anchor_data_consistent_NEs[anchor_data_consistent_NEs.loc[:, 'pre_peak']==1]\n",
    "anchor_data_during_peak = anchor_data_consistent_NEs[anchor_data_consistent_NEs.loc[:, 'during_peak']==1]\n",
    "anchor_data_post_peak = anchor_data_consistent_NEs[anchor_data_consistent_NEs.loc[:, 'post_peak']==1]\n",
    "pre_peak_authors = anchor_data_pre_peak.loc[:, author_data_var].unique()\n",
    "during_peak_authors = anchor_data_during_peak.loc[:, author_data_var].unique()\n",
    "post_peak_authors = anchor_data_post_peak.loc[:, author_data_var].unique()\n",
    "anchor_data_pre_peak_shared = anchor_data_pre_peak[anchor_data_pre_peak.loc[:, author_data_var].isin(time_period_author_overlap)]\n",
    "anchor_data_during_peak_shared = anchor_data_during_peak[anchor_data_during_peak.loc[:, author_data_var].isin(time_period_author_overlap)]\n",
    "anchor_data_post_peak_shared = anchor_data_post_peak[anchor_data_post_peak.loc[:, author_data_var].isin(time_period_author_overlap)]\n",
    "anchor_data_pre_peak_pre_only = anchor_data_pre_peak[anchor_data_pre_peak.loc[:, author_data_var].isin(pre_peak_only_authors)]\n",
    "anchor_data_during_peak_during_only = anchor_data_during_peak[anchor_data_during_peak.loc[:, author_data_var].isin(during_peak_only_authors)]\n",
    "anchor_data_post_peak_post_only = anchor_data_post_peak[anchor_data_post_peak.loc[:, author_data_var].isin(post_peak_only_authors)]"
   ]
  },
  {
   "cell_type": "code",
   "execution_count": 69,
   "metadata": {},
   "outputs": [
    {
     "name": "stdout",
     "output_type": "stream",
     "text": [
      "data=post_peak, posts=63533, authors=41929\n",
      "var=has_URL, mean=0.647 +/- 0.002\n",
      "data=post_peak_only, posts=42656, authors=33712\n",
      "var=has_URL, mean=0.635 +/- 0.003\n",
      "data=post_peak_shared, posts=9849, authors=2452\n",
      "var=has_URL, mean=0.740 +/- 0.008\n",
      "data=post_peak, posts=63533, authors=41929\n",
      "var=txt_len_norm, mean=0.578 +/- 0.001\n",
      "data=post_peak_only, posts=42656, authors=33712\n",
      "var=txt_len_norm, mean=0.577 +/- 0.001\n",
      "data=post_peak_shared, posts=9849, authors=2452\n",
      "var=txt_len_norm, mean=0.577 +/- 0.003\n"
     ]
    }
   ],
   "source": [
    "author_var = 'username_data_name_fixed'\n",
    "NE_var = 'NE_fixed'\n",
    "post_peak_data_all = [anchor_data_post_peak, anchor_data_post_peak_post_only, anchor_data_post_peak_shared]\n",
    "post_peak_data_names = ['post_peak', 'post_peak_only', 'post_peak_shared']\n",
    "control_vars = ['has_URL', 'txt_len_norm']\n",
    "for control_var in control_vars:\n",
    "    for data_i, data_name_i in zip(post_peak_data_all, post_peak_data_names):\n",
    "        var_per_author = data_i.groupby(author_var).apply(lambda x: x.loc[:, control_var].mean())\n",
    "        print('data=%s, posts=%d, authors=%d'%(data_name_i, data_i.shape[0], data_i.loc[:, author_var].nunique()))\n",
    "        print('var=%s, mean=%.3f +/- %.3f'%(control_var, np.mean(var_per_author), var_per_author.std() / var_per_author.shape[0]**.5))"
   ]
  },
  {
   "cell_type": "markdown",
   "metadata": {},
   "source": [
    "The `has_URL` results are backward: the `post_peak_only` authors should have higher rate of URLs to correlate with lower context use."
   ]
  },
  {
   "cell_type": "markdown",
   "metadata": {},
   "source": [
    "### Author set comparison"
   ]
  },
  {
   "cell_type": "markdown",
   "metadata": {},
   "source": [
    "Who are the authors in the `post_peak_only` group, and how are they different from the authors in `pre_peak_only` and `during_peak_only`?"
   ]
  },
  {
   "cell_type": "code",
   "execution_count": 38,
   "metadata": {
    "scrolled": true
   },
   "outputs": [
    {
     "name": "stdout",
     "output_type": "stream",
     "text": [
      "processing data harvey\n",
      "top-10 pre-peak authors:\n",
      "joshuatcarley      11\n",
      "CuteBlessedBarb     6\n",
      "tbhlifesuckslol     6\n",
      "TylerWeather9       6\n",
      "PGGargleblaster     5\n",
      "MRMacDaddy2U        5\n",
      "ghosth0e            5\n",
      "TeachCorbett        5\n",
      "squonk_CDN          5\n",
      "BrentSullivan       5\n",
      "Name: username, dtype: int64\n",
      "top-10 during-peak authors:\n",
      "FarrahFazal       10\n",
      "Grtitude           9\n",
      "DDeBane            9\n",
      "severestudios      9\n",
      "BlackBeardRyan     8\n",
      "TommySledge        8\n",
      "daymonjones        8\n",
      "imy26sky           8\n",
      "jnelsonWJCL        7\n",
      "ElyteFaeva         7\n",
      "Name: username, dtype: int64\n",
      "top-10 post-peak authors:\n",
      "toddgillman        25\n",
      "JB3819             20\n",
      "EcoInternetDrGB    20\n",
      "attadog9           17\n",
      "sculptorwriter     17\n",
      "shannonrwatts      16\n",
      "HoustoniaMag       14\n",
      "lovinghouston      14\n",
      "WoFat              14\n",
      "VMVideos_com       14\n",
      "Name: username, dtype: int64\n",
      "processing data irma\n",
      "top-10 pre-peak authors:\n",
      "CodyMicahC        48\n",
      "LeshaTweets       25\n",
      "ch1election       15\n",
      "jadaschiessl      14\n",
      "meooh22           14\n",
      "MiamiBeachNews    13\n",
      "krishansonRCF     13\n",
      "RickFla           12\n",
      "hasanahmad80      12\n",
      "Track_Irma        12\n",
      "Name: username, dtype: int64\n",
      "top-10 during-peak authors:\n",
      "Morpheyous        21\n",
      "MSovak            20\n",
      "deadmazquerade    20\n",
      "Young6            17\n",
      "ButterflyHoney    13\n",
      "JointCyclone      12\n",
      "PIXweather        12\n",
      "kinni00           10\n",
      "imax111            9\n",
      "JacobLanierWx      9\n",
      "Name: username, dtype: int64\n",
      "top-10 post-peak authors:\n",
      "conniej1958        12\n",
      "Gate_15_Analyst     8\n",
      "SteveWilson2018     8\n",
      "doctorpemm          8\n",
      "reese_ashley        8\n",
      "Josebianco10        8\n",
      "setsailandfish7     8\n",
      "Hardline_Stance     8\n",
      "SalArmyFlorida      7\n",
      "foxandfriends       7\n",
      "Name: username, dtype: int64\n",
      "processing data maria\n",
      "top-10 pre-peak authors:\n",
      "QuakesToday       13\n",
      "PRseprepara        9\n",
      "JossieSpeakup      6\n",
      "DescubreTuIsla     6\n",
      "TracyDeLopez       5\n",
      "mestradatorres     5\n",
      "cutie2daniel       4\n",
      "altNOAA            4\n",
      "Starion_Turbo      4\n",
      "StormVids          4\n",
      "Name: username, dtype: int64\n",
      "top-10 during-peak authors:\n",
      "anndkar            18\n",
      "LiberalNcali        9\n",
      "PaulChatlain        7\n",
      "reaDonaldTrump      7\n",
      "Shadz66Shadz6t6     6\n",
      "KalebMcCague        5\n",
      "An_Infidel          4\n",
      "SGramsciAlfieri     4\n",
      "AnneMarieFlynn2     4\n",
      "JohnnyDynamo911     4\n",
      "Name: username, dtype: int64\n",
      "top-10 post-peak authors:\n",
      "E_Sqrd_Affair     10\n",
      "UnivisionPR        7\n",
      "FriendlyJMC        6\n",
      "fema               5\n",
      "CherishParis3      4\n",
      "RiveraGrrl         4\n",
      "Truthseeker126     4\n",
      "karlamonroig       4\n",
      "JorgeGelpi         4\n",
      "FEMAPortavoz       4\n",
      "Name: username, dtype: int64\n",
      "processing data florence\n",
      "top-10 pre-peak authors:\n",
      "mikeseidel         6\n",
      "McKJeremy          6\n",
      "NashWX             5\n",
      "Hinessightblog     5\n",
      "philtvnews         5\n",
      "TristanLockamy     5\n",
      "Alhenkel           5\n",
      "CountryFastball    4\n",
      "UNCA_Cameron       4\n",
      "kathycalm          4\n",
      "Name: username, dtype: int64\n",
      "top-10 during-peak authors:\n",
      "TruthClips         8\n",
      "pastelamaris       6\n",
      "CloudCasey         6\n",
      "LAPhilip           5\n",
      "GraceBeahm         5\n",
      "HaleyWSYX6         5\n",
      "positivelylu       5\n",
      "ZachMaskavich      5\n",
      "allmanalexandra    4\n",
      "hope_e_gray        4\n",
      "Name: username, dtype: int64\n",
      "top-10 post-peak authors:\n",
      "wheelofhopefdn     12\n",
      "StarNewsOnline     10\n",
      "operationbless      9\n",
      "DelgadoOdette7      9\n",
      "NCPorts             9\n",
      "burgetta_nando      7\n",
      "RamirezReports      7\n",
      "peta                7\n",
      "InRodWeTrustMTL     6\n",
      "NC_Culture          6\n",
      "Name: username, dtype: int64\n",
      "processing data michael\n",
      "top-10 pre-peak authors:\n",
      "NancyDignon        5\n",
      "30abuzz            4\n",
      "DISCVillageInc     4\n",
      "TopChefRon         4\n",
      "kidney4justin      4\n",
      "DonSmit76680351    4\n",
      "MackieMet          4\n",
      "TheSillyTruth43    4\n",
      "Reikia13           4\n",
      "TashaMagdalena     4\n",
      "Name: username, dtype: int64\n",
      "top-10 during-peak authors:\n",
      "NECHAMA            11\n",
      "FoxNewsResearch    10\n",
      "AmyHayward1979      9\n",
      "sammitchh101        5\n",
      "KelsieMetzgarTV     5\n",
      "rayhotchill         5\n",
      "mechelleh           4\n",
      "WatsonFL            4\n",
      "AnalistaInter       4\n",
      "alexdshoemaker      4\n",
      "Name: username, dtype: int64\n",
      "top-10 post-peak authors:\n",
      "ULTconnect         13\n",
      "petsupermarkets    13\n",
      "JRMcKinnon         10\n",
      "SpiritSeeker6      10\n",
      "JoshuaHoyos         9\n",
      "marcorubio          8\n",
      "TSixkiller2         8\n",
      "SheriffCitrus       8\n",
      "TheAtteroDevice     8\n",
      "AMR_Social          8\n",
      "Name: username, dtype: int64\n"
     ]
    }
   ],
   "source": [
    "author_var = 'username'\n",
    "data_name_var = 'data_name_fixed'\n",
    "data_names = anchor_data_consistent_NEs.loc[:, data_name_var].unique()\n",
    "author_data_var = '%s_%s'%(author_var, data_name_var)\n",
    "top_k = 10\n",
    "for name_i in data_names:\n",
    "    print('processing data %s'%(name_i))\n",
    "    pre_peak_i = anchor_data_pre_peak_pre_only[anchor_data_pre_peak_pre_only.loc[:, data_name_var]==name_i]\n",
    "    during_peak_i = anchor_data_during_peak_during_only[anchor_data_during_peak_during_only.loc[:, data_name_var]==name_i]\n",
    "    post_peak_i = anchor_data_post_peak_post_only[anchor_data_post_peak_post_only.loc[:, data_name_var]==name_i]\n",
    "    author_counts_pre_peak_i = pre_peak_i.loc[:, author_var].value_counts()\n",
    "    author_counts_during_peak_i = during_peak_i.loc[:, author_var].value_counts()\n",
    "    author_counts_post_peak_i = post_peak_i.loc[:, author_var].value_counts()\n",
    "    print('top-%d pre-peak authors:\\n%s'%(top_k, author_counts_pre_peak_i.head(top_k)))\n",
    "    print('top-%d during-peak authors:\\n%s'%(top_k, author_counts_during_peak_i.head(top_k)))\n",
    "    print('top-%d post-peak authors:\\n%s'%(top_k, author_counts_post_peak_i.head(top_k)))"
   ]
  },
  {
   "cell_type": "markdown",
   "metadata": {},
   "source": [
    "Across the datasets we don't see a consistent difference between the top-k authors in the `post_peak` and `pre_peak`/`during_peak` sets.\n",
    "- `florence`\n",
    "    - `post_peak` has more local media accounts (`StarNewsOnline`, `NCPorts`, `NC_Culture`)\n",
    "- `harvey`\n",
    "    - `post_peak` has more local media accounts (`HoustoniaMag`, `lovinghouston`)\n",
    "- `irma`\n",
    "    - `pre_peak` and `during_peak` have more weather accounts (`Track_Irma`, `Jointcyclone`, `PIXweather`)\n",
    "- `maria`\n",
    "    - `post_peak` has more local media accounts (`UnivisionPR`, `FEMAPortavoz`); `pre_peak` has more weather accounts (`altNOAA`, `StormVids`, `PRseprepara`)\n",
    "- `michael`\n",
    "    - `post_peak` has more media accounts (`FoxNewsResearch`, `KelsieMetzgarTV`)"
   ]
  },
  {
   "cell_type": "markdown",
   "metadata": {},
   "source": [
    "### Use author metadata to find population change\n",
    "We've collected author metadata [here](mine_user_data_from_twitter_archive.py), so let's see if we can find consistent changes in the population pre/post peak."
   ]
  },
  {
   "cell_type": "code",
   "execution_count": 2,
   "metadata": {},
   "outputs": [],
   "source": [
    "import numpy as np\n",
    "import pandas as pd\n",
    "import dateutil\n",
    "import matplotlib\n",
    "%matplotlib inline\n",
    "import matplotlib.pyplot as plt"
   ]
  },
  {
   "cell_type": "code",
   "execution_count": 39,
   "metadata": {
    "scrolled": true
   },
   "outputs": [
    {
     "name": "stdout",
     "output_type": "stream",
     "text": [
      "310514\n"
     ]
    },
    {
     "data": {
      "text/html": [
       "<div>\n",
       "<style scoped>\n",
       "    .dataframe tbody tr th:only-of-type {\n",
       "        vertical-align: middle;\n",
       "    }\n",
       "\n",
       "    .dataframe tbody tr th {\n",
       "        vertical-align: top;\n",
       "    }\n",
       "\n",
       "    .dataframe thead th {\n",
       "        text-align: right;\n",
       "    }\n",
       "</style>\n",
       "<table border=\"1\" class=\"dataframe\">\n",
       "  <thead>\n",
       "    <tr style=\"text-align: right;\">\n",
       "      <th></th>\n",
       "      <th>location</th>\n",
       "      <th>description</th>\n",
       "      <th>followers_count</th>\n",
       "      <th>friends_count</th>\n",
       "      <th>statuses_count</th>\n",
       "      <th>created_at</th>\n",
       "      <th>date</th>\n",
       "      <th>data_name_fixed</th>\n",
       "      <th>username</th>\n",
       "    </tr>\n",
       "  </thead>\n",
       "  <tbody>\n",
       "    <tr>\n",
       "      <th>0</th>\n",
       "      <td>barcelona</td>\n",
       "      <td>Xavier Mitjavila Moix de París, Francia y Barc...</td>\n",
       "      <td>163</td>\n",
       "      <td>43</td>\n",
       "      <td>18485</td>\n",
       "      <td>Tue Jul 31 19:38:02 +0000 2018</td>\n",
       "      <td>2018-09-03</td>\n",
       "      <td>florence</td>\n",
       "      <td>xaviermitjavila</td>\n",
       "    </tr>\n",
       "    <tr>\n",
       "      <th>1</th>\n",
       "      <td>New York, USA</td>\n",
       "      <td>Google Expert #DigitalMarketing #SEO #SEM #Soc...</td>\n",
       "      <td>602</td>\n",
       "      <td>399</td>\n",
       "      <td>131224</td>\n",
       "      <td>Thu Jun 18 14:30:14 +0000 2009</td>\n",
       "      <td>2018-09-03</td>\n",
       "      <td>florence</td>\n",
       "      <td>muhemmedasfand</td>\n",
       "    </tr>\n",
       "    <tr>\n",
       "      <th>2</th>\n",
       "      <td>Dublin City, Ireland</td>\n",
       "      <td>Forecaster for http://Metcast.net, senior mode...</td>\n",
       "      <td>992</td>\n",
       "      <td>1140</td>\n",
       "      <td>20599</td>\n",
       "      <td>Wed Aug 01 14:52:44 +0000 2012</td>\n",
       "      <td>2018-09-03</td>\n",
       "      <td>florence</td>\n",
       "      <td>bruensryan</td>\n",
       "    </tr>\n",
       "    <tr>\n",
       "      <th>3</th>\n",
       "      <td>I Block Trolls USA</td>\n",
       "      <td>This is a PC FREE Zone! There is a possibility...</td>\n",
       "      <td>2637</td>\n",
       "      <td>2975</td>\n",
       "      <td>58774</td>\n",
       "      <td>Mon Jan 19 18:38:04 +0000 2009</td>\n",
       "      <td>2018-09-03</td>\n",
       "      <td>florence</td>\n",
       "      <td>fancygap1</td>\n",
       "    </tr>\n",
       "    <tr>\n",
       "      <th>4</th>\n",
       "      <td>Fort Lauderdale, Florida</td>\n",
       "      <td>Former AM radio talk show host @AM740WSBR @AM1...</td>\n",
       "      <td>12458</td>\n",
       "      <td>10385</td>\n",
       "      <td>274683</td>\n",
       "      <td>Wed Apr 08 16:24:57 +0000 2009</td>\n",
       "      <td>2018-09-03</td>\n",
       "      <td>florence</td>\n",
       "      <td>4billlewis</td>\n",
       "    </tr>\n",
       "  </tbody>\n",
       "</table>\n",
       "</div>"
      ],
      "text/plain": [
       "                   location  \\\n",
       "0                 barcelona   \n",
       "1             New York, USA   \n",
       "2      Dublin City, Ireland   \n",
       "3        I Block Trolls USA   \n",
       "4  Fort Lauderdale, Florida   \n",
       "\n",
       "                                         description  followers_count  \\\n",
       "0  Xavier Mitjavila Moix de París, Francia y Barc...              163   \n",
       "1  Google Expert #DigitalMarketing #SEO #SEM #Soc...              602   \n",
       "2  Forecaster for http://Metcast.net, senior mode...              992   \n",
       "3  This is a PC FREE Zone! There is a possibility...             2637   \n",
       "4  Former AM radio talk show host @AM740WSBR @AM1...            12458   \n",
       "\n",
       "   friends_count  statuses_count                      created_at       date  \\\n",
       "0             43           18485  Tue Jul 31 19:38:02 +0000 2018 2018-09-03   \n",
       "1            399          131224  Thu Jun 18 14:30:14 +0000 2009 2018-09-03   \n",
       "2           1140           20599  Wed Aug 01 14:52:44 +0000 2012 2018-09-03   \n",
       "3           2975           58774  Mon Jan 19 18:38:04 +0000 2009 2018-09-03   \n",
       "4          10385          274683  Wed Apr 08 16:24:57 +0000 2009 2018-09-03   \n",
       "\n",
       "  data_name_fixed         username  \n",
       "0        florence  xaviermitjavila  \n",
       "1        florence   muhemmedasfand  \n",
       "2        florence       bruensryan  \n",
       "3        florence        fancygap1  \n",
       "4        florence       4billlewis  "
      ]
     },
     "metadata": {},
     "output_type": "display_data"
    },
    {
     "name": "stdout",
     "output_type": "stream",
     "text": [
      "57071\n"
     ]
    }
   ],
   "source": [
    "user_data = pd.read_csv('../../data/mined_tweets/tweet_user_data/user_data.gz', sep='\\t', index_col=False, compression='gzip', converters={'date' : dateutil.parser.parse})\n",
    "user_data.fillna('', inplace=True)\n",
    "print(user_data.shape[0])\n",
    "display(user_data.head())\n",
    "author_var = 'username'\n",
    "data_name_var = 'data_name_fixed'\n",
    "date_var = 'date'\n",
    "user_meta_vars = ['location', 'description', 'followers_count', 'friends_count', 'created_at']\n",
    "user_data.sort_values([author_var, date_var], inplace=True, ascending=True)\n",
    "user_dedup = user_data.drop_duplicates([author_var, data_name_var]).loc[:, user_meta_vars + [author_var, data_name_var]]\n",
    "print(user_dedup.shape[0])"
   ]
  },
  {
   "cell_type": "code",
   "execution_count": 77,
   "metadata": {
    "scrolled": true
   },
   "outputs": [
    {
     "data": {
      "text/plain": [
       "                       52453\n",
       "united states           7110\n",
       "houston, tx             5392\n",
       "usa                     3844\n",
       "washington, dc          3241\n",
       "florida, usa            3005\n",
       "texas, usa              2698\n",
       "miami, fl               2292\n",
       "new york, ny            2268\n",
       "atlanta, ga             2252\n",
       "austin, tx              2050\n",
       "texas                   1995\n",
       "los angeles, ca         1683\n",
       "orlando, fl             1671\n",
       "california, usa         1549\n",
       "florida                 1341\n",
       "dallas, tx              1323\n",
       "tampa, fl               1075\n",
       "houston, texas           981\n",
       "charlotte, nc            965\n",
       "los angeles              948\n",
       "worldwide                945\n",
       "puerto rico              936\n",
       "new york, usa            934\n",
       "boston, ma               931\n",
       "new york                 916\n",
       "san antonio, tx          855\n",
       "chicago, il              851\n",
       "new york city            836\n",
       "houston                  820\n",
       "earth                    803\n",
       "canada                   795\n",
       "austin, texas            784\n",
       "nyc                      783\n",
       "washington, d.c.         776\n",
       "miami                    731\n",
       "california               715\n",
       "north carolina, usa      714\n",
       "seattle, wa              693\n",
       "everywhere               684\n",
       "global                   658\n",
       "las vegas, nv            640\n",
       "chicago                  617\n",
       "raleigh, nc              614\n",
       "london                   610\n",
       "jacksonville, fl         601\n",
       "south florida            600\n",
       "new jersey, usa          594\n",
       "brooklyn, ny             588\n",
       "india                    576\n",
       "Name: location, dtype: int64"
      ]
     },
     "metadata": {},
     "output_type": "display_data"
    }
   ],
   "source": [
    "user_data_locs = user_data.loc[:, 'location'].apply(lambda x: x.lower()).value_counts()\n",
    "display(user_data_locs.head(50))"
   ]
  },
  {
   "cell_type": "markdown",
   "metadata": {},
   "source": [
    "Locations mostly make sense! Affected regions are most popular (FL and TX)."
   ]
  },
  {
   "cell_type": "markdown",
   "metadata": {},
   "source": [
    "Let's check data coverage."
   ]
  },
  {
   "cell_type": "code",
   "execution_count": 46,
   "metadata": {},
   "outputs": [
    {
     "name": "stdout",
     "output_type": "stream",
     "text": [
      "149565\n"
     ]
    }
   ],
   "source": [
    "anchor_data = pd.read_csv('../../data/mined_tweets/combined_tweet_tag_data_NE_flat_parsed_anchor_NE_peak_times_consistent_authors.gz', sep='\\t', index_col=False, compression='gzip', converters={'date_day' : dateutil.parser.parse})\n",
    "author_var = 'username'\n",
    "date_var = 'date'\n",
    "round_date_var = 'date_day'\n",
    "anchor_data = anchor_data.assign(**{\n",
    "    author_var : anchor_data.loc[:, author_var].apply(lambda x: x.lower())\n",
    "})\n",
    "anchor_data = anchor_data.drop(date_var, axis=1, inplace=False).rename(columns={round_date_var : date_var}, inplace=False)\n",
    "print(anchor_data.shape[0])"
   ]
  },
  {
   "cell_type": "code",
   "execution_count": 47,
   "metadata": {},
   "outputs": [
    {
     "name": "stdout",
     "output_type": "stream",
     "text": [
      "3325 shared authors\n"
     ]
    }
   ],
   "source": [
    "shared_authors = set(anchor_data.loc[:, author_var].unique()) & set(user_data.loc[:, author_var].unique())\n",
    "print('%d shared authors'%(len(shared_authors)))"
   ]
  },
  {
   "cell_type": "markdown",
   "metadata": {},
   "source": [
    "Let's look at the shared author stats."
   ]
  },
  {
   "cell_type": "code",
   "execution_count": 48,
   "metadata": {},
   "outputs": [
    {
     "data": {
      "text/plain": [
       "harvey      2145\n",
       "irma        2104\n",
       "michael      445\n",
       "florence     399\n",
       "maria        369\n",
       "Name: data_name_fixed, dtype: int64"
      ]
     },
     "metadata": {},
     "output_type": "display_data"
    }
   ],
   "source": [
    "user_data_shared = user_dedup[user_dedup.loc[:, author_var].isin(shared_authors)]\n",
    "display(user_data_shared.loc[:, data_name_var].value_counts())"
   ]
  },
  {
   "cell_type": "markdown",
   "metadata": {},
   "source": [
    "### Identify locals"
   ]
  },
  {
   "cell_type": "markdown",
   "metadata": {},
   "source": [
    "First pass: identify locals based on state name."
   ]
  },
  {
   "cell_type": "markdown",
   "metadata": {},
   "source": [
    "Let's use a hack to find locals: if location has affected state, count author as local."
   ]
  },
  {
   "cell_type": "code",
   "execution_count": 79,
   "metadata": {},
   "outputs": [
    {
     "name": "stdout",
     "output_type": "stream",
     "text": [
      "(?<=[, ])fl$|^fl,\\s+|(?<=[, ])nc$|^nc,\\s+|(?<=[, ])sc$|^sc,\\s+|(?<=[, ])va$|^va,\\s+|(?<=[, ])ga$|^ga,\\s+|(?<=[, ])florida$|^florida,\\s+|(?<=[, ])north carolina$|^north carolina,\\s+|(?<=[, ])south carolina$|^south carolina,\\s+|(?<=[, ])virginia$|^virginia,\\s+|(?<=[, ])georgia$|^georgia,\\s+\n"
     ]
    }
   ],
   "source": [
    "import re\n",
    "from data_helpers import DATA_NAME_STATES_LOOKUP\n",
    "DATA_NAME_STATES_MATCHER = {\n",
    "    k : re.compile('|'.join(['(?<=[, ])%s$|^%s,\\s+'%((loc.lower(),)*2) for loc in v]))\n",
    "    for k,v in DATA_NAME_STATES_LOOKUP.items()\n",
    "}\n",
    "print(DATA_NAME_STATES_MATCHER['florence'].pattern)"
   ]
  },
  {
   "cell_type": "code",
   "execution_count": 207,
   "metadata": {},
   "outputs": [],
   "source": [
    "loc_var = 'location'\n",
    "state_local_var = 'is_state_local'\n",
    "user_dedup = user_dedup.assign(**{\n",
    "    state_local_var : user_dedup.apply(lambda x: DATA_NAME_STATES_MATCHER[x.loc[data_name_var]].search(x.loc[loc_var].lower()) is not None, axis=1)\n",
    "})"
   ]
  },
  {
   "cell_type": "markdown",
   "metadata": {},
   "source": [
    "Second pass: for all non-state locations, find all locals according to the same criteria that we used to identify valid locations:\n",
    "\n",
    "- $L$ matches a location within geo bounds\n",
    "- $L$ is unambiguous within geo bounds"
   ]
  },
  {
   "cell_type": "code",
   "execution_count": 202,
   "metadata": {},
   "outputs": [],
   "source": [
    "def is_local(location, data_name, gazetteers):\n",
    "    gazetteer = gazetteers[data_name]\n",
    "#     location_local = (location in gazetteer) and (gazetteer[location].shape[0] <= 1)\n",
    "    location_local = location in gazetteer\n",
    "    return location_local"
   ]
  },
  {
   "cell_type": "code",
   "execution_count": 171,
   "metadata": {},
   "outputs": [],
   "source": [
    "## load gazetteer\n",
    "import pickle\n",
    "geonames_dict = pickle.load(open('/hg190/corpora/GeoNames/allCountriesSimplified_lookup_US.pickle', 'rb'))"
   ]
  },
  {
   "cell_type": "code",
   "execution_count": null,
   "metadata": {},
   "outputs": [],
   "source": [
    "## separate by data region\n",
    "from collect_validate_NEs_in_tweets import DATA_LOC_BOXES\n",
    "## TODO: vectorize containment\n",
    "def contains(coord, box):\n",
    "    return coord[0] >= box[0][0] and coord[0] <= box[0][1] and coord[1] >= box[1][0] and coord[1] <= box[1][1]\n",
    "lat_var = 'latitude'\n",
    "lon_var = 'longitude'\n",
    "gazetteers = {\n",
    "    data_name : {k : v[v.loc[:, [lat_var, lon_var]].apply(lambda x: contains(x, data_loc_box), axis=1)] for k,v in geonames_dict.items()}\n",
    "    for data_name, data_loc_box in DATA_LOC_BOXES.items()\n",
    "}\n",
    "# get rid of empty entries\n",
    "gazetteers = {\n",
    "    data_name : {k : v for k,v in gazetteer.items() if v.shape[0] > 0}\n",
    "    for data_name, gazetteer in gazetteers.items()\n",
    "}"
   ]
  },
  {
   "cell_type": "code",
   "execution_count": 191,
   "metadata": {},
   "outputs": [],
   "source": [
    "## deduplicate copy locations\n",
    "def dedup_locations(data, importance_var='population', coord_cols=['latitude', 'longitude'], round_place=1):\n",
    "    data = data.assign(**{\n",
    "        '%s_norm'%(coord_col) : (data.loc[:, coord_col] / round_place).astype(int)\n",
    "        for coord_col in coord_cols\n",
    "    })\n",
    "    data.sort_values(importance_var, inplace=True, ascending=False)\n",
    "    norm_coord_cols = ['%s_norm'%(coord_col) for coord_col in coord_cols]\n",
    "    data.drop_duplicates(norm_coord_cols, inplace=True, keep='first')\n",
    "    return data"
   ]
  },
  {
   "cell_type": "code",
   "execution_count": 193,
   "metadata": {},
   "outputs": [],
   "source": [
    "gazetteers_dedup = {\n",
    "    data_name : {k : dedup_locations(v) for k,v in gazetteer.items()}\n",
    "    for data_name, gazetteer in gazetteers.items()\n",
    "}"
   ]
  },
  {
   "cell_type": "markdown",
   "metadata": {},
   "source": [
    "Now that we have the deduplicated locations, let's assign local/non-local status to all authors with no state location."
   ]
  },
  {
   "cell_type": "code",
   "execution_count": 204,
   "metadata": {},
   "outputs": [],
   "source": [
    "assert is_local('san juan', 'maria', gazetteers_dedup)\n",
    "assert is_local('houston', 'harvey', gazetteers_dedup)\n",
    "assert not is_local('san juan', 'irma', gazetteers_dedup)"
   ]
  },
  {
   "cell_type": "code",
   "execution_count": 216,
   "metadata": {},
   "outputs": [],
   "source": [
    "from unidecode import unidecode\n",
    "data_name_var = 'data_name_fixed'\n",
    "loc_var = 'location'\n",
    "city_local_var = 'is_city_local'\n",
    "user_dedup = user_dedup.assign(**{\n",
    "    city_local_var : user_dedup.apply(lambda x: is_local(unidecode(x.loc[loc_var].lower()), x.loc[data_name_var], gazetteers_dedup), axis=1)\n",
    "})"
   ]
  },
  {
   "cell_type": "code",
   "execution_count": 217,
   "metadata": {},
   "outputs": [],
   "source": [
    "# combine state/city\n",
    "local_var = 'is_local'\n",
    "user_dedup = user_dedup.assign(**{\n",
    "    local_var : user_dedup.loc[:, [state_local_var, city_local_var]].max(axis=1)\n",
    "})"
   ]
  },
  {
   "cell_type": "code",
   "execution_count": 218,
   "metadata": {},
   "outputs": [
    {
     "data": {
      "text/plain": [
       "data_name_fixed\n",
       "florence     848\n",
       "harvey      5502\n",
       "irma        4157\n",
       "maria        161\n",
       "michael      436\n",
       "dtype: int64"
      ]
     },
     "metadata": {},
     "output_type": "display_data"
    },
    {
     "data": {
      "text/plain": [
       "data_name_fixed\n",
       "florence     101\n",
       "harvey      6201\n",
       "irma        1053\n",
       "maria        135\n",
       "michael       99\n",
       "dtype: int64"
      ]
     },
     "metadata": {},
     "output_type": "display_data"
    },
    {
     "data": {
      "text/plain": [
       "data_name_fixed\n",
       "florence      949\n",
       "harvey      11703\n",
       "irma         5210\n",
       "maria         294\n",
       "michael       534\n",
       "dtype: int64"
      ]
     },
     "metadata": {},
     "output_type": "display_data"
    }
   ],
   "source": [
    "# how many locals per dataset\n",
    "display(user_dedup.groupby(data_name_var).apply(lambda x: x.loc[:, state_local_var].sum()))\n",
    "display(user_dedup.groupby(data_name_var).apply(lambda x: x.loc[:, city_local_var].sum()))\n",
    "display(user_dedup.groupby(data_name_var).apply(lambda x: x.loc[:, local_var].sum()))"
   ]
  },
  {
   "cell_type": "markdown",
   "metadata": {},
   "source": [
    "We should also bin users by their follower/following count as a rough estimate of popularity."
   ]
  },
  {
   "cell_type": "code",
   "execution_count": 219,
   "metadata": {},
   "outputs": [],
   "source": [
    "N_bins = 10\n",
    "follower_var = 'followers_count'\n",
    "log_follower_var = 'log_%s'%(follower_var)\n",
    "# following_var = 'friends_count'\n",
    "user_dedup = user_dedup.assign(**{\n",
    "     log_follower_var : np.log(user_dedup.loc[:, follower_var]+1)\n",
    "})\n",
    "follower_bins = np.linspace(user_dedup.loc[:, log_follower_var].min(), user_dedup.loc[:, log_follower_var].max(), num=N_bins)\n",
    "follower_bin_var = '%s_bin'%(log_follower_var)\n",
    "user_dedup = user_dedup.assign(**{\n",
    "    follower_bin_var : np.digitize(user_dedup.loc[:, log_follower_var], follower_bins)\n",
    "})"
   ]
  },
  {
   "cell_type": "markdown",
   "metadata": {},
   "source": [
    "Let's add these to the context data and look for differentiation in the author groups."
   ]
  },
  {
   "cell_type": "code",
   "execution_count": 220,
   "metadata": {},
   "outputs": [
    {
     "name": "stdout",
     "output_type": "stream",
     "text": [
      "28079/149565 data\n",
      "7440/9263/11376 pre/during/post\n"
     ]
    }
   ],
   "source": [
    "author_var = 'username'\n",
    "data_name_var = 'data_name_fixed'\n",
    "round_date_var = 'date_day'\n",
    "date_var = 'date'\n",
    "anchor_data_user_data = pd.merge(anchor_data, user_dedup, on=[author_var, data_name_var], how='inner')\n",
    "print('%d/%d data'%(anchor_data_user_data.shape[0], anchor_data.shape[0]))\n",
    "print('%d/%d/%d pre/during/post'%\n",
    "      (anchor_data_user_data.loc[:, 'pre_peak'].sum(), anchor_data_user_data.loc[:, 'during_peak'].sum(), anchor_data_user_data.loc[:, 'post_peak'].sum()))"
   ]
  },
  {
   "cell_type": "markdown",
   "metadata": {},
   "source": [
    "What is the distribution of the following attributes for the different time periods:\n",
    "\n",
    "- `is_local`\n",
    "- `follower_bin`"
   ]
  },
  {
   "cell_type": "markdown",
   "metadata": {},
   "source": [
    "Add variable for dataset-specific NEs."
   ]
  },
  {
   "cell_type": "code",
   "execution_count": 221,
   "metadata": {},
   "outputs": [],
   "source": [
    "NE_var = 'NE_fixed'\n",
    "NE_data_var = 'NE_data_name'\n",
    "anchor_data_user_data = anchor_data_user_data.assign(**{\n",
    "    NE_data_var : anchor_data_user_data.loc[:, NE_var] + '_' + anchor_data_user_data.loc[:, data_name_var]\n",
    "})"
   ]
  },
  {
   "cell_type": "code",
   "execution_count": 222,
   "metadata": {},
   "outputs": [],
   "source": [
    "anchor_user_dedup = anchor_data_user_data.drop_duplicates([author_var, data_name_var], inplace=False)"
   ]
  },
  {
   "cell_type": "code",
   "execution_count": 223,
   "metadata": {},
   "outputs": [],
   "source": [
    "peak_data_dedup_list = [\n",
    "    anchor_user_dedup[anchor_user_dedup.loc[:, 'pre_peak']==1],\n",
    "    anchor_user_dedup[anchor_user_dedup.loc[:, 'during_peak']==1],\n",
    "    anchor_user_dedup[anchor_user_dedup.loc[:, 'post_peak']==1],\n",
    "]\n",
    "peak_data_list = [\n",
    "    anchor_data_user_data[anchor_data_user_data.loc[:, 'pre_peak']==1],\n",
    "    anchor_data_user_data[anchor_data_user_data.loc[:, 'during_peak']==1],\n",
    "    anchor_data_user_data[anchor_data_user_data.loc[:, 'post_peak']==1],\n",
    "]\n",
    "local_pct_means = [x.loc[:, local_var].mean() for x in peak_data_dedup_list]\n",
    "follower_means = [x.loc[:, log_follower_var].mean() for x in peak_data_dedup_list]\n",
    "local_pct_errs = [x.loc[:, local_var].std() / x.shape[0]**.5 for x in peak_data_dedup_list]\n",
    "follower_errs = [x.loc[:, log_follower_var].std() / x.shape[0]**.5 for x in peak_data_dedup_list]"
   ]
  },
  {
   "cell_type": "code",
   "execution_count": 224,
   "metadata": {},
   "outputs": [
    {
     "data": {
      "image/png": "[encoded data removed]",
      "text/plain": [
       "<Figure size 432x288 with 1 Axes>"
      ]
     },
     "metadata": {},
     "output_type": "display_data"
    }
   ],
   "source": [
    "X = np.arange(len(peak_data_list))\n",
    "X_str = ['pre-peak', 'during-peak', 'post-peak']\n",
    "# local\n",
    "plt.scatter(X, local_pct_means, color='b')\n",
    "plt.errorbar(X, local_pct_means, yerr=local_pct_errs, color='b', linestyle='none')\n",
    "plt.xticks(X, X_str)\n",
    "plt.ylabel('P(local)')\n",
    "plt.show()"
   ]
  },
  {
   "cell_type": "code",
   "execution_count": 225,
   "metadata": {},
   "outputs": [
    {
     "data": {
      "image/png": "[encoded data removed]",
      "text/plain": [
       "<Figure size 432x288 with 1 Axes>"
      ]
     },
     "metadata": {},
     "output_type": "display_data"
    }
   ],
   "source": [
    "# follower\n",
    "plt.scatter(X, follower_means, color='b')\n",
    "plt.errorbar(X, follower_means, yerr=follower_errs, color='b', linestyle='none')\n",
    "plt.xticks(X, X_str)\n",
    "plt.ylabel('Mean(Log(followers))')\n",
    "plt.show()"
   ]
  },
  {
   "cell_type": "markdown",
   "metadata": {},
   "source": [
    "OK! We see more locals pre-peak and post-peak, and we see more popular accounts over time."
   ]
  },
  {
   "cell_type": "markdown",
   "metadata": {},
   "source": [
    "Do these groups have different levels of context use?"
   ]
  },
  {
   "cell_type": "markdown",
   "metadata": {},
   "source": [
    "We need base rate of context use first."
   ]
  },
  {
   "cell_type": "code",
   "execution_count": 226,
   "metadata": {},
   "outputs": [],
   "source": [
    "def compute_context_means(data, author_var='username', NE_data_var='NE_data_name', context_var='anchor'):\n",
    "    context_means = data.groupby(author_var).apply(lambda x: x.groupby(NE_data_var).apply(lambda y: y.loc[:, context_var].mean()).mean())\n",
    "    return context_means"
   ]
  },
  {
   "cell_type": "code",
   "execution_count": 227,
   "metadata": {},
   "outputs": [],
   "source": [
    "context_means = [x.groupby(author_var).apply(lambda x: x.groupby(NE_data_var).apply(lambda y: y.loc[:, context_var].mean()).mean()).mean() for x in peak_data_list]\n",
    "context_errs = [x.groupby(author_var).apply(lambda x: x.groupby(NE_data_var).apply(lambda y: y.loc[:, context_var].mean()).mean()).std() / x.drop_duplicates([author_var, NE_data_var]).shape[0]**.5 for x in peak_data_list]"
   ]
  },
  {
   "cell_type": "code",
   "execution_count": 228,
   "metadata": {},
   "outputs": [
    {
     "data": {
      "image/png": "[encoded data removed]",
      "text/plain": [
       "<Figure size 432x288 with 1 Axes>"
      ]
     },
     "metadata": {},
     "output_type": "display_data"
    }
   ],
   "source": [
    "plt.scatter(X, context_means, color='b')\n",
    "plt.errorbar(X, context_means, yerr=context_errs, color='b', linestyle='none')\n",
    "plt.xticks(X, X_str)\n",
    "plt.ylabel('P(context)')\n",
    "plt.show()"
   ]
  },
  {
   "cell_type": "markdown",
   "metadata": {},
   "source": [
    "### Compare context use in locals vs. non-locals"
   ]
  },
  {
   "cell_type": "code",
   "execution_count": 229,
   "metadata": {},
   "outputs": [],
   "source": [
    "local_context_means = [compute_context_means(x[x.loc[:, local_var]==1]).mean() for x in peak_data_list]\n",
    "non_local_context_means = [compute_context_means(x[x.loc[:, local_var]==0]).mean() for x in peak_data_list]\n",
    "local_context_errs = [compute_context_means(x[x.loc[:, local_var]==1]).std() / x[x.loc[:, local_var]==1].drop_duplicates([NE_data_var, author_var]).shape[0]**.5 for x in peak_data_list]\n",
    "non_local_context_errs = [compute_context_means(x[x.loc[:, local_var]==0]).std() / x[x.loc[:, local_var]==0].drop_duplicates([NE_data_var, author_var]).shape[0]**.5 for x in peak_data_list]\n",
    "# local_context_means = [x[x.loc[:, local_var]==1].groupby(NE_data_var).apply(lambda x: x.loc[:, context_var].mean()).mean() for x in peak_data_list]\n",
    "# non_local_context_means = [x[x.loc[:, local_var]==0].groupby(NE_data_var).apply(lambda x: x.loc[:, context_var].mean()).mean() for x in peak_data_list]\n",
    "# local_context_errs = [x[x.loc[:, local_var]==1].groupby(NE_data_var).apply(lambda x: x.loc[:, context_var].mean()).std() / x[x.loc[:, local_var]==1].loc[:, NE_data_var].nunique()**.5 for x in peak_data_list]\n",
    "# non_local_context_errs = [x[x.loc[:, local_var]==0].groupby(NE_data_var).apply(lambda x: x.loc[:, context_var].mean()).std() / x[x.loc[:, local_var]==0].loc[:, NE_data_var].nunique()**.5 for x in peak_data_list]"
   ]
  },
  {
   "cell_type": "code",
   "execution_count": 230,
   "metadata": {},
   "outputs": [],
   "source": [
    "# proportions of posts written by local/non-local authors\n",
    "peak_data_list_dedup = [x.drop_duplicates([author_var, data_name_var]) for x in peak_data_list]\n",
    "local_pcts = [x.loc[:, local_var].sum() / x.shape[0] for x in peak_data_list]\n",
    "non_local_pcts = [1 - (x.loc[:, local_var].sum() / x.shape[0]) for x in peak_data_list]"
   ]
  },
  {
   "cell_type": "code",
   "execution_count": 234,
   "metadata": {},
   "outputs": [
    {
     "data": {
      "image/png": "[encoded data removed]",
      "text/plain": [
       "<Figure size 432x288 with 1 Axes>"
      ]
     },
     "metadata": {},
     "output_type": "display_data"
    }
   ],
   "source": [
    "# local context use\n",
    "X_offset = 0.25\n",
    "f, ax1 = plt.subplots(figsize=(6, 4))\n",
    "ax1.tick_params(axis='both', which='major', labelsize=14)\n",
    "ax1.scatter(X-X_offset, local_context_means, color='b', label='local')\n",
    "ax1.errorbar(X-X_offset, local_context_means, yerr=local_context_errs, color='b', linestyle='none')\n",
    "ax1.scatter(X+X_offset, non_local_context_means, color='r', label='non-local')\n",
    "ax1.errorbar(X+X_offset, non_local_context_means, yerr=non_local_context_errs, color='r', linestyle='none')\n",
    "ax1.legend(loc='upper left', fontsize=14)\n",
    "ax1.set_ylabel('P(context)', fontsize=18)\n",
    "ax1.set_xticks(X)\n",
    "ax1.set_xticklabels(X_str)\n",
    "## proportions\n",
    "# ax2 = ax1.twinx()\n",
    "# ax2.bar(X-X_offset, local_pcts, width=0.1, color='b', alpha=0.3)\n",
    "# ax2.bar(X+X_offset, non_local_pcts, width=0.1, color='r', alpha=0.3)\n",
    "# ax2.set_ylabel('Proportion of posts', rotation=270, labelpad=18)\n",
    "plt.show()"
   ]
  },
  {
   "cell_type": "markdown",
   "metadata": {},
   "source": [
    "Non-locals use more context (duh), and the difference is bigger post-peak."
   ]
  },
  {
   "cell_type": "markdown",
   "metadata": {},
   "source": [
    "Let's do significance testing to make sure the differences are legit."
   ]
  },
  {
   "cell_type": "code",
   "execution_count": 95,
   "metadata": {},
   "outputs": [
    {
     "name": "stdout",
     "output_type": "stream",
     "text": [
      "mean diff -0.052 is significant with test_stat=-5.105 (p=3.561E-07)\n",
      "mean diff -0.086 is significant with test_stat=-8.341 (p=1.166E-16)\n",
      "mean diff -0.062 is significant with test_stat=-6.503 (p=9.384E-11)\n"
     ]
    }
   ],
   "source": [
    "from scipy.stats import ttest_ind\n",
    "for i in range(len(peak_data_list)):\n",
    "    data_i = peak_data_list[i]\n",
    "    local_context_means_i = compute_context_means(data_i[data_i.loc[:, local_var]==1])\n",
    "    non_local_context_means_i = compute_context_means(data_i[data_i.loc[:, local_var]==0])\n",
    "    mean_diff_i = local_context_means_i.mean() - non_local_context_means_i.mean()\n",
    "    test_stat, p_val = ttest_ind(local_context_means_i, non_local_context_means_i)\n",
    "    print('mean diff %.3f is significant with test_stat=%.3f (p=%.3E)'%(mean_diff_i, test_stat, p_val))"
   ]
  },
  {
   "cell_type": "markdown",
   "metadata": {},
   "source": [
    "### Compare context use in high vs. low followers"
   ]
  },
  {
   "cell_type": "code",
   "execution_count": 62,
   "metadata": {},
   "outputs": [],
   "source": [
    "follower_median = anchor_user_dedup.loc[:, log_follower_var].median()\n",
    "high_follower_context_means = [compute_context_means(x[x.loc[:, log_follower_var] >= follower_median]).mean() for x in peak_data_list]\n",
    "low_follower_context_means = [compute_context_means(x[x.loc[:, log_follower_var] < follower_median]).mean() for x in peak_data_list]\n",
    "high_follower_context_errs = [compute_context_means(x[x.loc[:, log_follower_var] >= follower_median]).std() / x[x.loc[:, log_follower_var] >= follower_median].drop_duplicates([author_var, NE_data_var]).shape[0]**.5 for x in peak_data_list]\n",
    "low_follower_context_errs = [compute_context_means(x[x.loc[:, log_follower_var] < follower_median]).std() / x[x.loc[:, log_follower_var] < follower_median].drop_duplicates([author_var, NE_data_var]).shape[0]**.5 for x in peak_data_list]"
   ]
  },
  {
   "cell_type": "code",
   "execution_count": 63,
   "metadata": {},
   "outputs": [],
   "source": [
    "# proportions of posts written by high/low-follower authors\n",
    "high_follower_pcts = [x[x.loc[:, log_follower_var] >= follower_median].shape[0] / x.shape[0] for x in peak_data_list]\n",
    "low_follower_pcts = [x[x.loc[:, log_follower_var] < follower_median].shape[0] / x.shape[0] for x in peak_data_list]"
   ]
  },
  {
   "cell_type": "code",
   "execution_count": 65,
   "metadata": {},
   "outputs": [
    {
     "data": {
      "image/png": "[encoded data removed]",
      "text/plain": [
       "<Figure size 432x288 with 1 Axes>"
      ]
     },
     "metadata": {},
     "output_type": "display_data"
    }
   ],
   "source": [
    "# followers\n",
    "X_offset = 0.25\n",
    "f, ax1 = plt.subplots(figsize=(6, 4))\n",
    "ax1.scatter(X-X_offset, high_follower_context_means, color='b', label='high-follower')\n",
    "ax1.errorbar(X-X_offset, high_follower_context_means, yerr=high_follower_context_errs, color='b', linestyle='none')\n",
    "ax1.scatter(X+X_offset, low_follower_context_means, color='r', label='low-follower')\n",
    "ax1.errorbar(X+X_offset, low_follower_context_means, yerr=low_follower_context_errs, color='r', linestyle='none')\n",
    "ax1.legend(loc='lower right')\n",
    "ax1.set_ylabel('P(context)')\n",
    "ax1.set_xticks(X)\n",
    "ax1.set_xticklabels(X_str)\n",
    "## proportions\n",
    "# ax2 = ax1.twinx()\n",
    "# ax2.bar(X-X_offset, high_follower_pcts, width=0.1, color='b', alpha=0.3)\n",
    "# ax2.bar(X+X_offset, low_follower_pcts, width=0.1, color='r', alpha=0.3)\n",
    "# ax2.set_ylabel('Proportion of posts', rotation=270, labelpad=18)\n",
    "plt.show()"
   ]
  },
  {
   "cell_type": "markdown",
   "metadata": {},
   "source": [
    "High followers use more context than low followers in `during_peak` and `post_peak`, because more likely to need to provide context to audience."
   ]
  },
  {
   "cell_type": "markdown",
   "metadata": {},
   "source": [
    "So why is it the case that post-peak shows an overall decrease in context use if the author base is changing?? We have to assume that more locals in post-peak => lower need for context overall."
   ]
  },
  {
   "cell_type": "markdown",
   "metadata": {},
   "source": [
    "### Overlap between time-period-only authors and local authors\n",
    "Let's see if the authors who are specific to a time period are more often locals."
   ]
  },
  {
   "cell_type": "code",
   "execution_count": 109,
   "metadata": {},
   "outputs": [
    {
     "name": "stdout",
     "output_type": "stream",
     "text": [
      "8.960% of pre-peak authors in pre-peak period\n",
      "9.054% of during-peak authors in during-peak period\n",
      "5.834% of post-peak authors in post-peak period\n"
     ]
    }
   ],
   "source": [
    "anchor_data_pre_peak = anchor_data_consistent_NEs[anchor_data_consistent_NEs.loc[:, 'pre_peak']==1]\n",
    "anchor_data_during_peak = anchor_data_consistent_NEs[anchor_data_consistent_NEs.loc[:, 'during_peak']==1]\n",
    "anchor_data_post_peak = anchor_data_consistent_NEs[anchor_data_consistent_NEs.loc[:, 'post_peak']==1]\n",
    "pre_peak_authors = anchor_data_pre_peak.loc[:, author_data_var].unique()\n",
    "during_peak_authors = anchor_data_during_peak.loc[:, author_data_var].unique()\n",
    "post_peak_authors = anchor_data_post_peak.loc[:, author_data_var].unique()\n",
    "time_period_author_joint = set(pre_peak_authors) | set(during_peak_authors) | set(post_peak_authors)\n",
    "pre_during_joint = set(pre_peak_authors) | set(during_peak_authors)\n",
    "pre_post_joint = set(pre_peak_authors) | set(post_peak_authors)\n",
    "during_post_joint = set(during_peak_authors) | set(post_peak_authors)\n",
    "time_period_author_overlap = set(pre_peak_authors) & set(during_peak_authors) & set(post_peak_authors)\n",
    "print('%.3f%% of pre-peak authors in pre-peak period'%(len(time_period_author_overlap) / len(pre_peak_authors) * 100))\n",
    "print('%.3f%% of during-peak authors in during-peak period'%(len(time_period_author_overlap) / len(during_peak_authors) * 100))\n",
    "print('%.3f%% of post-peak authors in post-peak period'%(len(time_period_author_overlap) / len(post_peak_authors) * 100))\n",
    "pre_peak_only_authors = set(pre_peak_authors) - during_post_joint\n",
    "during_peak_only_authors = set(during_peak_authors) - pre_post_joint\n",
    "post_peak_only_authors = set(post_peak_authors) - pre_during_joint\n",
    "anchor_data_pre_peak_shared = anchor_data_pre_peak[anchor_data_pre_peak.loc[:, author_data_var].isin(time_period_author_overlap)]\n",
    "anchor_data_during_peak_shared = anchor_data_during_peak[anchor_data_during_peak.loc[:, author_data_var].isin(time_period_author_overlap)]\n",
    "anchor_data_post_peak_shared = anchor_data_post_peak[anchor_data_post_peak.loc[:, author_data_var].isin(time_period_author_overlap)]\n",
    "anchor_data_pre_peak_pre_only = anchor_data_pre_peak[anchor_data_pre_peak.loc[:, author_data_var].isin(pre_peak_only_authors)]\n",
    "anchor_data_during_peak_during_only = anchor_data_during_peak[anchor_data_during_peak.loc[:, author_data_var].isin(during_peak_only_authors)]\n",
    "anchor_data_post_peak_post_only = anchor_data_post_peak[anchor_data_post_peak.loc[:, author_data_var].isin(post_peak_only_authors)]\n",
    "## TODO: compare during and post with pre-peak mean\n",
    "## compute mean/err\n",
    "context_var = 'anchor'\n",
    "author_data_sets = [\n",
    "    anchor_data_pre_peak, anchor_data_pre_peak_pre_only, anchor_data_pre_peak_shared,\n",
    "    anchor_data_during_peak, anchor_data_during_peak_during_only, anchor_data_during_peak_shared, \n",
    "    anchor_data_post_peak, anchor_data_post_peak_post_only, anchor_data_post_peak_shared, \n",
    "]\n",
    "author_data_set_names = ['pre_peak', 'pre_peak_only', 'pre_peak_shared',\n",
    "                         'during_peak', 'during_peak_only', 'during_peak_shared',\n",
    "                         'post_peak', 'post_peak_only', 'post_peak_shared']\n",
    "# per-author, per-NE mean\n",
    "context_means = [x.groupby(author_data_var).apply(lambda x: x.groupby(NE_var).apply(lambda y: y.loc[:, context_var].mean()).mean()).mean() for x in author_data_sets]\n",
    "context_errs = [x.groupby(author_data_var).apply(lambda x: x.groupby(NE_var).apply(lambda y: y.loc[:, context_var].mean()).mean()).std() / (x.loc[:, NE_var].nunique()**.5) for x in author_data_sets]\n",
    "# per-NE mean\n",
    "# context_means = [x.groupby(NE_var).apply(lambda x: x.loc[:, context_var].mean()).mean() for x in author_data_sets]\n",
    "# context_errs = [x.groupby(NE_var).apply(lambda x: x.loc[:, context_var].mean()).std() / (x.loc[:, NE_var].nunique()**.5) for x in author_data_sets]\n",
    "context_mean_overall = anchor_data_consistent_NEs.groupby(author_data_var).apply(lambda x: x.groupby(NE_var).apply(lambda y: y.loc[:, context_var].mean()).mean()).mean()"
   ]
  },
  {
   "cell_type": "code",
   "execution_count": 103,
   "metadata": {},
   "outputs": [],
   "source": [
    "author_var = 'username'\n",
    "data_name_var = 'data_name_fixed'\n",
    "local_var = 'is_local'\n",
    "author_data_sets = [pd.merge(x, user_dedup.loc[:, [author_var, data_name_var, local_var]], on=[author_var, data_name_var], how='inner') for x in author_data_sets]\n",
    "author_data_sets_local = [x[x.loc[:, local_var]==1] for x in author_data_sets]\n",
    "author_data_sets_non_local = [x[x.loc[:, local_var]==0] for x in author_data_sets]"
   ]
  },
  {
   "cell_type": "code",
   "execution_count": 107,
   "metadata": {},
   "outputs": [],
   "source": [
    "local_context_means = [x.groupby(author_data_var).apply(lambda x: x.groupby(NE_var).apply(lambda y: y.loc[:, context_var].mean()).mean()).mean() for x in author_data_sets_local]\n",
    "non_local_context_means = [x.groupby(author_data_var).apply(lambda x: x.groupby(NE_var).apply(lambda y: y.loc[:, context_var].mean()).mean()).mean() for x in author_data_sets_non_local]\n",
    "local_context_errs = [x.groupby(author_data_var).apply(lambda x: x.groupby(NE_var).apply(lambda y: y.loc[:, context_var].mean()).mean()).std() / (x.loc[:, NE_var].nunique()**.5) for x in author_data_sets_local]\n",
    "non_local_context_errs = [x.groupby(author_data_var).apply(lambda x: x.groupby(NE_var).apply(lambda y: y.loc[:, context_var].mean()).mean()).std() / (x.loc[:, NE_var].nunique()**.5) for x in author_data_sets_non_local]"
   ]
  },
  {
   "cell_type": "code",
   "execution_count": 111,
   "metadata": {},
   "outputs": [
    {
     "data": {
      "text/html": [
       "<div>\n",
       "<style scoped>\n",
       "    .dataframe tbody tr th:only-of-type {\n",
       "        vertical-align: middle;\n",
       "    }\n",
       "\n",
       "    .dataframe tbody tr th {\n",
       "        vertical-align: top;\n",
       "    }\n",
       "\n",
       "    .dataframe thead th {\n",
       "        text-align: right;\n",
       "    }\n",
       "</style>\n",
       "<table border=\"1\" class=\"dataframe\">\n",
       "  <thead>\n",
       "    <tr style=\"text-align: right;\">\n",
       "      <th></th>\n",
       "      <th>pre_peak</th>\n",
       "      <th>pre_peak_only</th>\n",
       "      <th>pre_peak_shared</th>\n",
       "      <th>during_peak</th>\n",
       "      <th>during_peak_only</th>\n",
       "      <th>during_peak_shared</th>\n",
       "      <th>post_peak</th>\n",
       "      <th>post_peak_only</th>\n",
       "      <th>post_peak_shared</th>\n",
       "    </tr>\n",
       "  </thead>\n",
       "  <tbody>\n",
       "    <tr>\n",
       "      <th>local</th>\n",
       "      <td>0.105271</td>\n",
       "      <td>0.104446</td>\n",
       "      <td>0.101242</td>\n",
       "      <td>0.109490</td>\n",
       "      <td>0.113095</td>\n",
       "      <td>0.096068</td>\n",
       "      <td>0.088336</td>\n",
       "      <td>0.092066</td>\n",
       "      <td>0.079274</td>\n",
       "    </tr>\n",
       "    <tr>\n",
       "      <th>non-local</th>\n",
       "      <td>0.112823</td>\n",
       "      <td>0.109760</td>\n",
       "      <td>0.134807</td>\n",
       "      <td>0.130226</td>\n",
       "      <td>0.130566</td>\n",
       "      <td>0.154753</td>\n",
       "      <td>0.093763</td>\n",
       "      <td>0.088499</td>\n",
       "      <td>0.147098</td>\n",
       "    </tr>\n",
       "  </tbody>\n",
       "</table>\n",
       "</div>"
      ],
      "text/plain": [
       "           pre_peak  pre_peak_only  pre_peak_shared  during_peak  \\\n",
       "local      0.105271       0.104446         0.101242     0.109490   \n",
       "non-local  0.112823       0.109760         0.134807     0.130226   \n",
       "\n",
       "           during_peak_only  during_peak_shared  post_peak  post_peak_only  \\\n",
       "local              0.113095            0.096068   0.088336        0.092066   \n",
       "non-local          0.130566            0.154753   0.093763        0.088499   \n",
       "\n",
       "           post_peak_shared  \n",
       "local              0.079274  \n",
       "non-local          0.147098  "
      ]
     },
     "metadata": {},
     "output_type": "display_data"
    }
   ],
   "source": [
    "all_context_means = pd.DataFrame([local_context_means, non_local_context_means], columns=author_data_set_names, index=['local', 'non-local'])\n",
    "display(all_context_means)"
   ]
  },
  {
   "cell_type": "markdown",
   "metadata": {},
   "source": [
    "Not great! We see here that the post-peak-only local authors have a higher rate of context use as compared to the non-locals. This suggests that we need a representative sample."
   ]
  },
  {
   "cell_type": "markdown",
   "metadata": {},
   "source": [
    "### Test population change with metadata: organization vs. individual\n",
    "We've determined that many of the authors are official organizations (ex. disaster relief, government, nonprofits) and that these authors can be identified based on metadata ([here](scripts/data_processing/classify_authors_by_metadata.ipynb)). \n",
    "\n",
    "Let's classify all the authors available with metadata and test organization/non-organization as a potential population change effect."
   ]
  },
  {
   "cell_type": "code",
   "execution_count": 112,
   "metadata": {},
   "outputs": [],
   "source": [
    "import pandas as pd"
   ]
  },
  {
   "cell_type": "code",
   "execution_count": 87,
   "metadata": {
    "scrolled": true
   },
   "outputs": [
    {
     "name": "stdout",
     "output_type": "stream",
     "text": [
      "71872\n"
     ]
    },
    {
     "data": {
      "text/html": [
       "<div>\n",
       "<style scoped>\n",
       "    .dataframe tbody tr th:only-of-type {\n",
       "        vertical-align: middle;\n",
       "    }\n",
       "\n",
       "    .dataframe tbody tr th {\n",
       "        vertical-align: top;\n",
       "    }\n",
       "\n",
       "    .dataframe thead th {\n",
       "        text-align: right;\n",
       "    }\n",
       "</style>\n",
       "<table border=\"1\" class=\"dataframe\">\n",
       "  <thead>\n",
       "    <tr style=\"text-align: right;\">\n",
       "      <th></th>\n",
       "      <th>name</th>\n",
       "      <th>id</th>\n",
       "      <th>location</th>\n",
       "      <th>description</th>\n",
       "      <th>followers_count</th>\n",
       "      <th>friends_count</th>\n",
       "      <th>statuses_count</th>\n",
       "      <th>created_at</th>\n",
       "      <th>verified</th>\n",
       "      <th>listed_count</th>\n",
       "      <th>username</th>\n",
       "      <th>date</th>\n",
       "    </tr>\n",
       "  </thead>\n",
       "  <tbody>\n",
       "    <tr>\n",
       "      <th>0</th>\n",
       "      <td>wralweather</td>\n",
       "      <td>15923563</td>\n",
       "      <td>Raleigh, NC</td>\n",
       "      <td>NC's most trusted source for weather. WRAL's 6...</td>\n",
       "      <td>175728</td>\n",
       "      <td>950</td>\n",
       "      <td>27307</td>\n",
       "      <td>2008-08-20 21:29:21</td>\n",
       "      <td>True</td>\n",
       "      <td>665</td>\n",
       "      <td>wralweather</td>\n",
       "      <td>2019-08-26</td>\n",
       "    </tr>\n",
       "    <tr>\n",
       "      <th>1</th>\n",
       "      <td>Neil Ackerman</td>\n",
       "      <td>328209091</td>\n",
       "      <td>East Meadow, NY (516-425-5365)</td>\n",
       "      <td>#Attorney (Rated 5.0 #AV in Martindale-Hubbell...</td>\n",
       "      <td>11517</td>\n",
       "      <td>8385</td>\n",
       "      <td>104227</td>\n",
       "      <td>2011-07-02 23:16:23</td>\n",
       "      <td>False</td>\n",
       "      <td>877</td>\n",
       "      <td>acklaw</td>\n",
       "      <td>2019-08-26</td>\n",
       "    </tr>\n",
       "    <tr>\n",
       "      <th>2</th>\n",
       "      <td>FoodPages.ca</td>\n",
       "      <td>139342722</td>\n",
       "      <td>Canada</td>\n",
       "      <td>The Guide to Canada's Restaurants and Food Stores</td>\n",
       "      <td>3822</td>\n",
       "      <td>488</td>\n",
       "      <td>209481</td>\n",
       "      <td>2010-05-02 09:08:32</td>\n",
       "      <td>False</td>\n",
       "      <td>409</td>\n",
       "      <td>foodpages</td>\n",
       "      <td>2019-08-26</td>\n",
       "    </tr>\n",
       "    <tr>\n",
       "      <th>3</th>\n",
       "      <td>Jason Boyer</td>\n",
       "      <td>27777571</td>\n",
       "      <td>Asheville, NC</td>\n",
       "      <td>Chief Meteorologist for WLOS/WMYA TV in Ashevi...</td>\n",
       "      <td>4631</td>\n",
       "      <td>699</td>\n",
       "      <td>27923</td>\n",
       "      <td>2009-03-31 01:09:14</td>\n",
       "      <td>True</td>\n",
       "      <td>147</td>\n",
       "      <td>JasonBoyerWLOS</td>\n",
       "      <td>2019-08-26</td>\n",
       "    </tr>\n",
       "    <tr>\n",
       "      <th>4</th>\n",
       "      <td>BIN TAXI</td>\n",
       "      <td>865283142592147456</td>\n",
       "      <td>Terminal Marítima Playa del Carmen</td>\n",
       "      <td>Servicio de #Taxi Privado, #Excursiones, #Tour...</td>\n",
       "      <td>45</td>\n",
       "      <td>295</td>\n",
       "      <td>360</td>\n",
       "      <td>2017-05-18 19:09:12</td>\n",
       "      <td>False</td>\n",
       "      <td>0</td>\n",
       "      <td>BinTaxi</td>\n",
       "      <td>2019-08-26</td>\n",
       "    </tr>\n",
       "  </tbody>\n",
       "</table>\n",
       "</div>"
      ],
      "text/plain": [
       "            name                  id                            location  \\\n",
       "0    wralweather            15923563                         Raleigh, NC   \n",
       "1  Neil Ackerman           328209091      East Meadow, NY (516-425-5365)   \n",
       "2   FoodPages.ca           139342722                              Canada   \n",
       "3    Jason Boyer            27777571                       Asheville, NC   \n",
       "4       BIN TAXI  865283142592147456  Terminal Marítima Playa del Carmen   \n",
       "\n",
       "                                         description  followers_count  \\\n",
       "0  NC's most trusted source for weather. WRAL's 6...           175728   \n",
       "1  #Attorney (Rated 5.0 #AV in Martindale-Hubbell...            11517   \n",
       "2  The Guide to Canada's Restaurants and Food Stores             3822   \n",
       "3  Chief Meteorologist for WLOS/WMYA TV in Ashevi...             4631   \n",
       "4  Servicio de #Taxi Privado, #Excursiones, #Tour...               45   \n",
       "\n",
       "   friends_count  statuses_count          created_at  verified  listed_count  \\\n",
       "0            950           27307 2008-08-20 21:29:21      True           665   \n",
       "1           8385          104227 2011-07-02 23:16:23     False           877   \n",
       "2            488          209481 2010-05-02 09:08:32     False           409   \n",
       "3            699           27923 2009-03-31 01:09:14      True           147   \n",
       "4            295             360 2017-05-18 19:09:12     False             0   \n",
       "\n",
       "         username       date  \n",
       "0     wralweather 2019-08-26  \n",
       "1          acklaw 2019-08-26  \n",
       "2       foodpages 2019-08-26  \n",
       "3  JasonBoyerWLOS 2019-08-26  \n",
       "4         BinTaxi 2019-08-26  "
      ]
     },
     "metadata": {},
     "output_type": "display_data"
    },
    {
     "name": "stdout",
     "output_type": "stream",
     "text": [
      "71855\n"
     ]
    }
   ],
   "source": [
    "# user data from archives\n",
    "# user_data = pd.read_csv('../../data/mined_tweets/tweet_user_data/user_data_archive.gz', sep='\\t', index_col=False, compression='gzip', converters={'date' : dateutil.parser.parse})\n",
    "# user data from Twitter (recently mined => less accurate but higher coverage)\n",
    "user_data = pd.read_csv('../../data/mined_tweets/tweet_user_data/user_data_twitter_mine.gz', sep='\\t', index_col=False, converters={'created_at' : dateutil.parser.parse, 'date' : dateutil.parser.parse})\n",
    "user_data.fillna('', inplace=True)\n",
    "print(user_data.shape[0])\n",
    "display(user_data.head())\n",
    "author_var = 'username'\n",
    "date_var = 'date'\n",
    "user_meta_vars = ['location', 'description', 'friends_count', 'followers_count', 'created_at', 'statuses_count', 'name', 'verified']\n",
    "user_data.sort_values([author_var, date_var], inplace=True, ascending=True)\n",
    "user_dedup = user_data.drop_duplicates(author_var).loc[:, user_meta_vars + [author_var]]\n",
    "print(user_dedup.shape[0])"
   ]
  },
  {
   "cell_type": "markdown",
   "metadata": {},
   "source": [
    "Let's clean the data for classifying."
   ]
  },
  {
   "cell_type": "code",
   "execution_count": 98,
   "metadata": {},
   "outputs": [],
   "source": [
    "from datetime import datetime\n",
    "org_detect_cols = ['location', 'description', 'username', 'friends_count', 'followers_count', 'created_at', 'statuses_count', 'verified', 'name']\n",
    "org_detect_null_cols = ['listed_count']\n",
    "author_var = 'username'\n",
    "org_detect_data = user_dedup.drop_duplicates(author_var, inplace=False).loc[:, org_detect_cols].rename(columns={author_var : 'screen_name'})\n",
    "# give 0 for missing data\n",
    "org_detect_data = org_detect_data.assign(**{k : 0. for k in org_detect_null_cols})\n",
    "# remove users with invalid creation date??\n",
    "max_create_date = datetime.strptime('10-31-2018', '%m-%d-%Y')\n",
    "org_detect_data = org_detect_data[org_detect_data.loc[:, 'created_at'] <= max_create_date]\n",
    "# fix date format\n",
    "org_detect_data = org_detect_data.assign(**{'created_at' : org_detect_data.loc[:, 'created_at'].apply(lambda x: datetime.strftime(x, '%a %b %d %H:%M:%S +0000 %Y'))})\n",
    "# org_detect_data = org_detect_data.assign(**{'name' : org_detect_data.loc[:, 'screen_name'].apply(lambda x: x.replace('_', ' '))})\n",
    "org_detect_data_json = org_detect_data.apply(lambda x: x.to_json(), axis=1).values\n",
    "org_detect_input_file = 'demographer/data/user_data_json.txt'\n",
    "with open(org_detect_input_file, 'w') as org_detect_input:\n",
    "    org_detect_input.write('\\n'.join(org_detect_data_json))"
   ]
  },
  {
   "cell_type": "markdown",
   "metadata": {},
   "source": [
    "Classify organizations:\n",
    "\n",
    "```\n",
    "cd demographer/\n",
    "python -m demographer.cli.process_tweets --classifier organization --model simple --input data/user_data_json.txt --output data/user_data_json_labelled.txt\n",
    "```"
   ]
  },
  {
   "cell_type": "code",
   "execution_count": 99,
   "metadata": {},
   "outputs": [
    {
     "data": {
      "text/html": [
       "<div>\n",
       "<style scoped>\n",
       "    .dataframe tbody tr th:only-of-type {\n",
       "        vertical-align: middle;\n",
       "    }\n",
       "\n",
       "    .dataframe tbody tr th {\n",
       "        vertical-align: top;\n",
       "    }\n",
       "\n",
       "    .dataframe thead th {\n",
       "        text-align: right;\n",
       "    }\n",
       "</style>\n",
       "<table border=\"1\" class=\"dataframe\">\n",
       "  <thead>\n",
       "    <tr style=\"text-align: right;\">\n",
       "      <th></th>\n",
       "      <th>username</th>\n",
       "      <th>label</th>\n",
       "      <th>label_score</th>\n",
       "      <th>organization</th>\n",
       "    </tr>\n",
       "  </thead>\n",
       "  <tbody>\n",
       "    <tr>\n",
       "      <th>0</th>\n",
       "      <td>007PUK</td>\n",
       "      <td>ind</td>\n",
       "      <td>-3.611704</td>\n",
       "      <td>0</td>\n",
       "    </tr>\n",
       "    <tr>\n",
       "      <th>1</th>\n",
       "      <td>00Titulares</td>\n",
       "      <td>ind</td>\n",
       "      <td>-1.202403</td>\n",
       "      <td>0</td>\n",
       "    </tr>\n",
       "    <tr>\n",
       "      <th>2</th>\n",
       "      <td>00bonedaddy00</td>\n",
       "      <td>ind</td>\n",
       "      <td>-4.096382</td>\n",
       "      <td>0</td>\n",
       "    </tr>\n",
       "    <tr>\n",
       "      <th>3</th>\n",
       "      <td>0111KEK0111</td>\n",
       "      <td>ind</td>\n",
       "      <td>-1.301156</td>\n",
       "      <td>0</td>\n",
       "    </tr>\n",
       "    <tr>\n",
       "      <th>4</th>\n",
       "      <td>0130angiembanks</td>\n",
       "      <td>ind</td>\n",
       "      <td>-2.995391</td>\n",
       "      <td>0</td>\n",
       "    </tr>\n",
       "  </tbody>\n",
       "</table>\n",
       "</div>"
      ],
      "text/plain": [
       "          username label  label_score  organization\n",
       "0           007PUK   ind    -3.611704             0\n",
       "1      00Titulares   ind    -1.202403             0\n",
       "2    00bonedaddy00   ind    -4.096382             0\n",
       "3      0111KEK0111   ind    -1.301156             0\n",
       "4  0130angiembanks   ind    -2.995391             0"
      ]
     },
     "metadata": {},
     "output_type": "display_data"
    },
    {
     "name": "stdout",
     "output_type": "stream",
     "text": [
      "ind    64084\n",
      "org     7396\n",
      "Name: label, dtype: int64\n"
     ]
    }
   ],
   "source": [
    "import json\n",
    "org_detect_output_file = 'demographer/data/user_data_json_labelled.txt'\n",
    "org_detect_output = [json.loads(x) for x in open(org_detect_output_file, 'r')]\n",
    "# convert to dataframe\n",
    "label_cols = ['screen_name']\n",
    "org_data_label = pd.DataFrame([[x[c] for c in label_cols] + [x['demographics']['indorg']['value'], x['demographics']['indorg']['scores'][x['demographics']['indorg']['value']]] for x in org_detect_output])\n",
    "org_data_label.columns = label_cols + ['label', 'label_score']\n",
    "org_data_label = org_data_label.assign(**{'organization' : (org_data_label.loc[:, 'label']=='org').astype(int)})\n",
    "org_data_label = org_data_label.rename(columns={'screen_name': 'username'})\n",
    "display(org_data_label.head())\n",
    "print(org_data_label.loc[:, 'label'].value_counts())"
   ]
  },
  {
   "cell_type": "code",
   "execution_count": 142,
   "metadata": {
    "scrolled": true
   },
   "outputs": [
    {
     "name": "stderr",
     "output_type": "stream",
     "text": [
      "/hg190/istewart6/miniconda3/envs/crisis_language/lib/python3.6/site-packages/ipykernel_launcher.py:3: SettingWithCopyWarning: \n",
      "A value is trying to be set on a copy of a slice from a DataFrame\n",
      "\n",
      "See the caveats in the documentation: http://pandas.pydata.org/pandas-docs/stable/indexing.html#indexing-view-versus-copy\n",
      "  This is separate from the ipykernel package so we can avoid doing imports until\n"
     ]
    },
    {
     "data": {
      "text/html": [
       "<div>\n",
       "<style scoped>\n",
       "    .dataframe tbody tr th:only-of-type {\n",
       "        vertical-align: middle;\n",
       "    }\n",
       "\n",
       "    .dataframe tbody tr th {\n",
       "        vertical-align: top;\n",
       "    }\n",
       "\n",
       "    .dataframe thead th {\n",
       "        text-align: right;\n",
       "    }\n",
       "</style>\n",
       "<table border=\"1\" class=\"dataframe\">\n",
       "  <thead>\n",
       "    <tr style=\"text-align: right;\">\n",
       "      <th></th>\n",
       "      <th>username</th>\n",
       "      <th>label</th>\n",
       "      <th>label_score</th>\n",
       "      <th>organization</th>\n",
       "    </tr>\n",
       "  </thead>\n",
       "  <tbody>\n",
       "    <tr>\n",
       "      <th>8959</th>\n",
       "      <td>DChanceWFXG</td>\n",
       "      <td>ind</td>\n",
       "      <td>-0.000241</td>\n",
       "      <td>0</td>\n",
       "    </tr>\n",
       "    <tr>\n",
       "      <th>33785</th>\n",
       "      <td>Sharefestinc</td>\n",
       "      <td>ind</td>\n",
       "      <td>-0.000555</td>\n",
       "      <td>0</td>\n",
       "    </tr>\n",
       "    <tr>\n",
       "      <th>45797</th>\n",
       "      <td>cappershideaway</td>\n",
       "      <td>ind</td>\n",
       "      <td>-0.000588</td>\n",
       "      <td>0</td>\n",
       "    </tr>\n",
       "    <tr>\n",
       "      <th>39940</th>\n",
       "      <td>WTGSFOX28</td>\n",
       "      <td>ind</td>\n",
       "      <td>-0.000943</td>\n",
       "      <td>0</td>\n",
       "    </tr>\n",
       "    <tr>\n",
       "      <th>47195</th>\n",
       "      <td>colatoday</td>\n",
       "      <td>ind</td>\n",
       "      <td>-0.000981</td>\n",
       "      <td>0</td>\n",
       "    </tr>\n",
       "    <tr>\n",
       "      <th>17662</th>\n",
       "      <td>Jaxhealth</td>\n",
       "      <td>ind</td>\n",
       "      <td>-0.001072</td>\n",
       "      <td>0</td>\n",
       "    </tr>\n",
       "    <tr>\n",
       "      <th>44827</th>\n",
       "      <td>blingwebsite</td>\n",
       "      <td>ind</td>\n",
       "      <td>-0.001141</td>\n",
       "      <td>0</td>\n",
       "    </tr>\n",
       "    <tr>\n",
       "      <th>1677</th>\n",
       "      <td>AgricoleHTX</td>\n",
       "      <td>ind</td>\n",
       "      <td>-0.001264</td>\n",
       "      <td>0</td>\n",
       "    </tr>\n",
       "    <tr>\n",
       "      <th>68390</th>\n",
       "      <td>thegatecog</td>\n",
       "      <td>ind</td>\n",
       "      <td>-0.001602</td>\n",
       "      <td>0</td>\n",
       "    </tr>\n",
       "    <tr>\n",
       "      <th>6226</th>\n",
       "      <td>CSPFtCollinsPOE</td>\n",
       "      <td>ind</td>\n",
       "      <td>-0.001630</td>\n",
       "      <td>0</td>\n",
       "    </tr>\n",
       "    <tr>\n",
       "      <th>15599</th>\n",
       "      <td>HollywoodLife</td>\n",
       "      <td>ind</td>\n",
       "      <td>-0.001634</td>\n",
       "      <td>0</td>\n",
       "    </tr>\n",
       "    <tr>\n",
       "      <th>57763</th>\n",
       "      <td>lee3it</td>\n",
       "      <td>ind</td>\n",
       "      <td>-0.001654</td>\n",
       "      <td>0</td>\n",
       "    </tr>\n",
       "    <tr>\n",
       "      <th>28382</th>\n",
       "      <td>OphirBruck</td>\n",
       "      <td>ind</td>\n",
       "      <td>-0.001711</td>\n",
       "      <td>0</td>\n",
       "    </tr>\n",
       "    <tr>\n",
       "      <th>40516</th>\n",
       "      <td>WilmingtonFD</td>\n",
       "      <td>ind</td>\n",
       "      <td>-0.001850</td>\n",
       "      <td>0</td>\n",
       "    </tr>\n",
       "    <tr>\n",
       "      <th>68421</th>\n",
       "      <td>theinfamousLFC</td>\n",
       "      <td>ind</td>\n",
       "      <td>-0.001967</td>\n",
       "      <td>0</td>\n",
       "    </tr>\n",
       "    <tr>\n",
       "      <th>5647</th>\n",
       "      <td>BucknerSrLiving</td>\n",
       "      <td>ind</td>\n",
       "      <td>-0.002101</td>\n",
       "      <td>0</td>\n",
       "    </tr>\n",
       "    <tr>\n",
       "      <th>23074</th>\n",
       "      <td>MCritical</td>\n",
       "      <td>ind</td>\n",
       "      <td>-0.003253</td>\n",
       "      <td>0</td>\n",
       "    </tr>\n",
       "    <tr>\n",
       "      <th>28248</th>\n",
       "      <td>Oldfriendsfarm</td>\n",
       "      <td>ind</td>\n",
       "      <td>-0.003337</td>\n",
       "      <td>0</td>\n",
       "    </tr>\n",
       "    <tr>\n",
       "      <th>35237</th>\n",
       "      <td>StormchaserNYC</td>\n",
       "      <td>ind</td>\n",
       "      <td>-0.003420</td>\n",
       "      <td>0</td>\n",
       "    </tr>\n",
       "    <tr>\n",
       "      <th>28737</th>\n",
       "      <td>PROSHRED_FTLD</td>\n",
       "      <td>ind</td>\n",
       "      <td>-0.003509</td>\n",
       "      <td>0</td>\n",
       "    </tr>\n",
       "  </tbody>\n",
       "</table>\n",
       "</div>"
      ],
      "text/plain": [
       "              username label  label_score  organization\n",
       "8959       DChanceWFXG   ind    -0.000241             0\n",
       "33785     Sharefestinc   ind    -0.000555             0\n",
       "45797  cappershideaway   ind    -0.000588             0\n",
       "39940        WTGSFOX28   ind    -0.000943             0\n",
       "47195        colatoday   ind    -0.000981             0\n",
       "17662        Jaxhealth   ind    -0.001072             0\n",
       "44827     blingwebsite   ind    -0.001141             0\n",
       "1677       AgricoleHTX   ind    -0.001264             0\n",
       "68390       thegatecog   ind    -0.001602             0\n",
       "6226   CSPFtCollinsPOE   ind    -0.001630             0\n",
       "15599    HollywoodLife   ind    -0.001634             0\n",
       "57763           lee3it   ind    -0.001654             0\n",
       "28382       OphirBruck   ind    -0.001711             0\n",
       "40516     WilmingtonFD   ind    -0.001850             0\n",
       "68421   theinfamousLFC   ind    -0.001967             0\n",
       "5647   BucknerSrLiving   ind    -0.002101             0\n",
       "23074        MCritical   ind    -0.003253             0\n",
       "28248   Oldfriendsfarm   ind    -0.003337             0\n",
       "35237   StormchaserNYC   ind    -0.003420             0\n",
       "28737    PROSHRED_FTLD   ind    -0.003509             0"
      ]
     },
     "metadata": {},
     "output_type": "display_data"
    },
    {
     "data": {
      "text/html": [
       "<div>\n",
       "<style scoped>\n",
       "    .dataframe tbody tr th:only-of-type {\n",
       "        vertical-align: middle;\n",
       "    }\n",
       "\n",
       "    .dataframe tbody tr th {\n",
       "        vertical-align: top;\n",
       "    }\n",
       "\n",
       "    .dataframe thead th {\n",
       "        text-align: right;\n",
       "    }\n",
       "</style>\n",
       "<table border=\"1\" class=\"dataframe\">\n",
       "  <thead>\n",
       "    <tr style=\"text-align: right;\">\n",
       "      <th></th>\n",
       "      <th>username</th>\n",
       "      <th>label</th>\n",
       "      <th>label_score</th>\n",
       "      <th>organization</th>\n",
       "    </tr>\n",
       "  </thead>\n",
       "  <tbody>\n",
       "    <tr>\n",
       "      <th>46619</th>\n",
       "      <td>chris_manlee</td>\n",
       "      <td>ind</td>\n",
       "      <td>-6.755193</td>\n",
       "      <td>0</td>\n",
       "    </tr>\n",
       "    <tr>\n",
       "      <th>29486</th>\n",
       "      <td>PilotJohn_J</td>\n",
       "      <td>ind</td>\n",
       "      <td>-6.763528</td>\n",
       "      <td>0</td>\n",
       "    </tr>\n",
       "    <tr>\n",
       "      <th>18770</th>\n",
       "      <td>JonBej22</td>\n",
       "      <td>ind</td>\n",
       "      <td>-6.779745</td>\n",
       "      <td>0</td>\n",
       "    </tr>\n",
       "    <tr>\n",
       "      <th>43140</th>\n",
       "      <td>andyjd747</td>\n",
       "      <td>ind</td>\n",
       "      <td>-6.783038</td>\n",
       "      <td>0</td>\n",
       "    </tr>\n",
       "    <tr>\n",
       "      <th>17302</th>\n",
       "      <td>JakeT490</td>\n",
       "      <td>ind</td>\n",
       "      <td>-6.824276</td>\n",
       "      <td>0</td>\n",
       "    </tr>\n",
       "    <tr>\n",
       "      <th>55150</th>\n",
       "      <td>joeyb_321</td>\n",
       "      <td>ind</td>\n",
       "      <td>-6.859899</td>\n",
       "      <td>0</td>\n",
       "    </tr>\n",
       "    <tr>\n",
       "      <th>25267</th>\n",
       "      <td>MikePerez86</td>\n",
       "      <td>ind</td>\n",
       "      <td>-6.863759</td>\n",
       "      <td>0</td>\n",
       "    </tr>\n",
       "    <tr>\n",
       "      <th>12023</th>\n",
       "      <td>EricRodriguez24</td>\n",
       "      <td>ind</td>\n",
       "      <td>-6.871357</td>\n",
       "      <td>0</td>\n",
       "    </tr>\n",
       "    <tr>\n",
       "      <th>60674</th>\n",
       "      <td>moochelle2005</td>\n",
       "      <td>ind</td>\n",
       "      <td>-6.880119</td>\n",
       "      <td>0</td>\n",
       "    </tr>\n",
       "    <tr>\n",
       "      <th>60027</th>\n",
       "      <td>michelle_sablan</td>\n",
       "      <td>ind</td>\n",
       "      <td>-6.922337</td>\n",
       "      <td>0</td>\n",
       "    </tr>\n",
       "    <tr>\n",
       "      <th>24973</th>\n",
       "      <td>MichaelChen68</td>\n",
       "      <td>ind</td>\n",
       "      <td>-6.945337</td>\n",
       "      <td>0</td>\n",
       "    </tr>\n",
       "    <tr>\n",
       "      <th>17916</th>\n",
       "      <td>JenHayden30</td>\n",
       "      <td>ind</td>\n",
       "      <td>-7.024477</td>\n",
       "      <td>0</td>\n",
       "    </tr>\n",
       "    <tr>\n",
       "      <th>2537</th>\n",
       "      <td>Anastacia026</td>\n",
       "      <td>ind</td>\n",
       "      <td>-7.087493</td>\n",
       "      <td>0</td>\n",
       "    </tr>\n",
       "    <tr>\n",
       "      <th>64585</th>\n",
       "      <td>rnjohnson18</td>\n",
       "      <td>ind</td>\n",
       "      <td>-7.103837</td>\n",
       "      <td>0</td>\n",
       "    </tr>\n",
       "    <tr>\n",
       "      <th>20295</th>\n",
       "      <td>KellyKozakowski</td>\n",
       "      <td>ind</td>\n",
       "      <td>-7.141498</td>\n",
       "      <td>0</td>\n",
       "    </tr>\n",
       "    <tr>\n",
       "      <th>55335</th>\n",
       "      <td>jonathan_n_wong</td>\n",
       "      <td>ind</td>\n",
       "      <td>-7.144758</td>\n",
       "      <td>0</td>\n",
       "    </tr>\n",
       "    <tr>\n",
       "      <th>59074</th>\n",
       "      <td>marimar197</td>\n",
       "      <td>ind</td>\n",
       "      <td>-7.161552</td>\n",
       "      <td>0</td>\n",
       "    </tr>\n",
       "    <tr>\n",
       "      <th>13251</th>\n",
       "      <td>Frankie_J10</td>\n",
       "      <td>ind</td>\n",
       "      <td>-7.232276</td>\n",
       "      <td>0</td>\n",
       "    </tr>\n",
       "    <tr>\n",
       "      <th>42349</th>\n",
       "      <td>ajw2012</td>\n",
       "      <td>ind</td>\n",
       "      <td>-7.681511</td>\n",
       "      <td>0</td>\n",
       "    </tr>\n",
       "    <tr>\n",
       "      <th>49710</th>\n",
       "      <td>elchris210</td>\n",
       "      <td>ind</td>\n",
       "      <td>-7.883353</td>\n",
       "      <td>0</td>\n",
       "    </tr>\n",
       "  </tbody>\n",
       "</table>\n",
       "</div>"
      ],
      "text/plain": [
       "              username label  label_score  organization\n",
       "46619     chris_manlee   ind    -6.755193             0\n",
       "29486      PilotJohn_J   ind    -6.763528             0\n",
       "18770         JonBej22   ind    -6.779745             0\n",
       "43140        andyjd747   ind    -6.783038             0\n",
       "17302         JakeT490   ind    -6.824276             0\n",
       "55150        joeyb_321   ind    -6.859899             0\n",
       "25267      MikePerez86   ind    -6.863759             0\n",
       "12023  EricRodriguez24   ind    -6.871357             0\n",
       "60674    moochelle2005   ind    -6.880119             0\n",
       "60027  michelle_sablan   ind    -6.922337             0\n",
       "24973    MichaelChen68   ind    -6.945337             0\n",
       "17916      JenHayden30   ind    -7.024477             0\n",
       "2537      Anastacia026   ind    -7.087493             0\n",
       "64585      rnjohnson18   ind    -7.103837             0\n",
       "20295  KellyKozakowski   ind    -7.141498             0\n",
       "55335  jonathan_n_wong   ind    -7.144758             0\n",
       "59074       marimar197   ind    -7.161552             0\n",
       "13251      Frankie_J10   ind    -7.232276             0\n",
       "42349          ajw2012   ind    -7.681511             0\n",
       "49710       elchris210   ind    -7.883353             0"
      ]
     },
     "metadata": {},
     "output_type": "display_data"
    },
    {
     "name": "stderr",
     "output_type": "stream",
     "text": [
      "/hg190/istewart6/miniconda3/envs/crisis_language/lib/python3.6/site-packages/ipykernel_launcher.py:3: SettingWithCopyWarning: \n",
      "A value is trying to be set on a copy of a slice from a DataFrame\n",
      "\n",
      "See the caveats in the documentation: http://pandas.pydata.org/pandas-docs/stable/indexing.html#indexing-view-versus-copy\n",
      "  This is separate from the ipykernel package so we can avoid doing imports until\n"
     ]
    },
    {
     "data": {
      "text/html": [
       "<div>\n",
       "<style scoped>\n",
       "    .dataframe tbody tr th:only-of-type {\n",
       "        vertical-align: middle;\n",
       "    }\n",
       "\n",
       "    .dataframe tbody tr th {\n",
       "        vertical-align: top;\n",
       "    }\n",
       "\n",
       "    .dataframe thead th {\n",
       "        text-align: right;\n",
       "    }\n",
       "</style>\n",
       "<table border=\"1\" class=\"dataframe\">\n",
       "  <thead>\n",
       "    <tr style=\"text-align: right;\">\n",
       "      <th></th>\n",
       "      <th>username</th>\n",
       "      <th>label</th>\n",
       "      <th>label_score</th>\n",
       "      <th>organization</th>\n",
       "    </tr>\n",
       "  </thead>\n",
       "  <tbody>\n",
       "    <tr>\n",
       "      <th>15972</th>\n",
       "      <td>IMC_UK</td>\n",
       "      <td>org</td>\n",
       "      <td>4.902048</td>\n",
       "      <td>1</td>\n",
       "    </tr>\n",
       "    <tr>\n",
       "      <th>38681</th>\n",
       "      <td>UCSUSA</td>\n",
       "      <td>org</td>\n",
       "      <td>4.619732</td>\n",
       "      <td>1</td>\n",
       "    </tr>\n",
       "    <tr>\n",
       "      <th>39004</th>\n",
       "      <td>UnivisionNews</td>\n",
       "      <td>org</td>\n",
       "      <td>4.404380</td>\n",
       "      <td>1</td>\n",
       "    </tr>\n",
       "    <tr>\n",
       "      <th>634</th>\n",
       "      <td>700club</td>\n",
       "      <td>org</td>\n",
       "      <td>4.058519</td>\n",
       "      <td>1</td>\n",
       "    </tr>\n",
       "    <tr>\n",
       "      <th>7980</th>\n",
       "      <td>CloroxCo</td>\n",
       "      <td>org</td>\n",
       "      <td>4.022747</td>\n",
       "      <td>1</td>\n",
       "    </tr>\n",
       "    <tr>\n",
       "      <th>47530</th>\n",
       "      <td>creative_route</td>\n",
       "      <td>org</td>\n",
       "      <td>4.000500</td>\n",
       "      <td>1</td>\n",
       "    </tr>\n",
       "    <tr>\n",
       "      <th>36397</th>\n",
       "      <td>TeamRubiconUK</td>\n",
       "      <td>org</td>\n",
       "      <td>3.961728</td>\n",
       "      <td>1</td>\n",
       "    </tr>\n",
       "    <tr>\n",
       "      <th>27919</th>\n",
       "      <td>NovantHealth</td>\n",
       "      <td>org</td>\n",
       "      <td>3.835405</td>\n",
       "      <td>1</td>\n",
       "    </tr>\n",
       "    <tr>\n",
       "      <th>15973</th>\n",
       "      <td>IMC_Worldwide</td>\n",
       "      <td>org</td>\n",
       "      <td>3.809098</td>\n",
       "      <td>1</td>\n",
       "    </tr>\n",
       "    <tr>\n",
       "      <th>40383</th>\n",
       "      <td>WhatsTrending</td>\n",
       "      <td>org</td>\n",
       "      <td>3.745297</td>\n",
       "      <td>1</td>\n",
       "    </tr>\n",
       "    <tr>\n",
       "      <th>12567</th>\n",
       "      <td>FTLCityNews</td>\n",
       "      <td>org</td>\n",
       "      <td>3.736032</td>\n",
       "      <td>1</td>\n",
       "    </tr>\n",
       "    <tr>\n",
       "      <th>38741</th>\n",
       "      <td>UMiamiMedNews</td>\n",
       "      <td>org</td>\n",
       "      <td>3.691302</td>\n",
       "      <td>1</td>\n",
       "    </tr>\n",
       "    <tr>\n",
       "      <th>35899</th>\n",
       "      <td>TPHFW</td>\n",
       "      <td>org</td>\n",
       "      <td>3.671988</td>\n",
       "      <td>1</td>\n",
       "    </tr>\n",
       "    <tr>\n",
       "      <th>34647</th>\n",
       "      <td>SpecNewsSA</td>\n",
       "      <td>org</td>\n",
       "      <td>3.668039</td>\n",
       "      <td>1</td>\n",
       "    </tr>\n",
       "    <tr>\n",
       "      <th>891</th>\n",
       "      <td>ACElecConnect</td>\n",
       "      <td>org</td>\n",
       "      <td>3.654272</td>\n",
       "      <td>1</td>\n",
       "    </tr>\n",
       "    <tr>\n",
       "      <th>67964</th>\n",
       "      <td>techreview</td>\n",
       "      <td>org</td>\n",
       "      <td>3.612554</td>\n",
       "      <td>1</td>\n",
       "    </tr>\n",
       "    <tr>\n",
       "      <th>40431</th>\n",
       "      <td>WholeFoods</td>\n",
       "      <td>org</td>\n",
       "      <td>3.599252</td>\n",
       "      <td>1</td>\n",
       "    </tr>\n",
       "    <tr>\n",
       "      <th>3908</th>\n",
       "      <td>BU_Tweets</td>\n",
       "      <td>org</td>\n",
       "      <td>3.596104</td>\n",
       "      <td>1</td>\n",
       "    </tr>\n",
       "    <tr>\n",
       "      <th>853</th>\n",
       "      <td>ABCNewsLive</td>\n",
       "      <td>org</td>\n",
       "      <td>3.586049</td>\n",
       "      <td>1</td>\n",
       "    </tr>\n",
       "    <tr>\n",
       "      <th>5889</th>\n",
       "      <td>CBSNewsRadio</td>\n",
       "      <td>org</td>\n",
       "      <td>3.568316</td>\n",
       "      <td>1</td>\n",
       "    </tr>\n",
       "  </tbody>\n",
       "</table>\n",
       "</div>"
      ],
      "text/plain": [
       "             username label  label_score  organization\n",
       "15972          IMC_UK   org     4.902048             1\n",
       "38681          UCSUSA   org     4.619732             1\n",
       "39004   UnivisionNews   org     4.404380             1\n",
       "634           700club   org     4.058519             1\n",
       "7980         CloroxCo   org     4.022747             1\n",
       "47530  creative_route   org     4.000500             1\n",
       "36397   TeamRubiconUK   org     3.961728             1\n",
       "27919    NovantHealth   org     3.835405             1\n",
       "15973   IMC_Worldwide   org     3.809098             1\n",
       "40383   WhatsTrending   org     3.745297             1\n",
       "12567     FTLCityNews   org     3.736032             1\n",
       "38741   UMiamiMedNews   org     3.691302             1\n",
       "35899           TPHFW   org     3.671988             1\n",
       "34647      SpecNewsSA   org     3.668039             1\n",
       "891     ACElecConnect   org     3.654272             1\n",
       "67964      techreview   org     3.612554             1\n",
       "40431      WholeFoods   org     3.599252             1\n",
       "3908        BU_Tweets   org     3.596104             1\n",
       "853       ABCNewsLive   org     3.586049             1\n",
       "5889     CBSNewsRadio   org     3.568316             1"
      ]
     },
     "metadata": {},
     "output_type": "display_data"
    },
    {
     "data": {
      "text/html": [
       "<div>\n",
       "<style scoped>\n",
       "    .dataframe tbody tr th:only-of-type {\n",
       "        vertical-align: middle;\n",
       "    }\n",
       "\n",
       "    .dataframe tbody tr th {\n",
       "        vertical-align: top;\n",
       "    }\n",
       "\n",
       "    .dataframe thead th {\n",
       "        text-align: right;\n",
       "    }\n",
       "</style>\n",
       "<table border=\"1\" class=\"dataframe\">\n",
       "  <thead>\n",
       "    <tr style=\"text-align: right;\">\n",
       "      <th></th>\n",
       "      <th>username</th>\n",
       "      <th>label</th>\n",
       "      <th>label_score</th>\n",
       "      <th>organization</th>\n",
       "    </tr>\n",
       "  </thead>\n",
       "  <tbody>\n",
       "    <tr>\n",
       "      <th>34705</th>\n",
       "      <td>SpoliateThis</td>\n",
       "      <td>org</td>\n",
       "      <td>0.003973</td>\n",
       "      <td>1</td>\n",
       "    </tr>\n",
       "    <tr>\n",
       "      <th>9132</th>\n",
       "      <td>DMKANDOIT</td>\n",
       "      <td>org</td>\n",
       "      <td>0.003496</td>\n",
       "      <td>1</td>\n",
       "    </tr>\n",
       "    <tr>\n",
       "      <th>26648</th>\n",
       "      <td>NDN_PrepZone</td>\n",
       "      <td>org</td>\n",
       "      <td>0.003391</td>\n",
       "      <td>1</td>\n",
       "    </tr>\n",
       "    <tr>\n",
       "      <th>37217</th>\n",
       "      <td>ThePerezHilton</td>\n",
       "      <td>org</td>\n",
       "      <td>0.003254</td>\n",
       "      <td>1</td>\n",
       "    </tr>\n",
       "    <tr>\n",
       "      <th>1973</th>\n",
       "      <td>Alexander_Group</td>\n",
       "      <td>org</td>\n",
       "      <td>0.002949</td>\n",
       "      <td>1</td>\n",
       "    </tr>\n",
       "    <tr>\n",
       "      <th>16273</th>\n",
       "      <td>InPDUM</td>\n",
       "      <td>org</td>\n",
       "      <td>0.002827</td>\n",
       "      <td>1</td>\n",
       "    </tr>\n",
       "    <tr>\n",
       "      <th>34444</th>\n",
       "      <td>SocialScoopLLC</td>\n",
       "      <td>org</td>\n",
       "      <td>0.002820</td>\n",
       "      <td>1</td>\n",
       "    </tr>\n",
       "    <tr>\n",
       "      <th>21848</th>\n",
       "      <td>LeeEOC</td>\n",
       "      <td>org</td>\n",
       "      <td>0.002757</td>\n",
       "      <td>1</td>\n",
       "    </tr>\n",
       "    <tr>\n",
       "      <th>40011</th>\n",
       "      <td>WYDaily</td>\n",
       "      <td>org</td>\n",
       "      <td>0.002659</td>\n",
       "      <td>1</td>\n",
       "    </tr>\n",
       "    <tr>\n",
       "      <th>58446</th>\n",
       "      <td>lovebscott</td>\n",
       "      <td>org</td>\n",
       "      <td>0.002623</td>\n",
       "      <td>1</td>\n",
       "    </tr>\n",
       "    <tr>\n",
       "      <th>28430</th>\n",
       "      <td>OrlandoVIPs</td>\n",
       "      <td>org</td>\n",
       "      <td>0.002541</td>\n",
       "      <td>1</td>\n",
       "    </tr>\n",
       "    <tr>\n",
       "      <th>37349</th>\n",
       "      <td>TheSourceBand</td>\n",
       "      <td>org</td>\n",
       "      <td>0.002165</td>\n",
       "      <td>1</td>\n",
       "    </tr>\n",
       "    <tr>\n",
       "      <th>25166</th>\n",
       "      <td>MigrationPolicy</td>\n",
       "      <td>org</td>\n",
       "      <td>0.001920</td>\n",
       "      <td>1</td>\n",
       "    </tr>\n",
       "    <tr>\n",
       "      <th>34795</th>\n",
       "      <td>StLucieClerk</td>\n",
       "      <td>org</td>\n",
       "      <td>0.001846</td>\n",
       "      <td>1</td>\n",
       "    </tr>\n",
       "    <tr>\n",
       "      <th>12547</th>\n",
       "      <td>FSBofPurdy</td>\n",
       "      <td>org</td>\n",
       "      <td>0.001521</td>\n",
       "      <td>1</td>\n",
       "    </tr>\n",
       "    <tr>\n",
       "      <th>20768</th>\n",
       "      <td>KitCwx</td>\n",
       "      <td>org</td>\n",
       "      <td>0.001040</td>\n",
       "      <td>1</td>\n",
       "    </tr>\n",
       "    <tr>\n",
       "      <th>6249</th>\n",
       "      <td>CTEHLLC</td>\n",
       "      <td>org</td>\n",
       "      <td>0.001022</td>\n",
       "      <td>1</td>\n",
       "    </tr>\n",
       "    <tr>\n",
       "      <th>22396</th>\n",
       "      <td>LiteOnline</td>\n",
       "      <td>org</td>\n",
       "      <td>0.000715</td>\n",
       "      <td>1</td>\n",
       "    </tr>\n",
       "    <tr>\n",
       "      <th>6305</th>\n",
       "      <td>CYNcafe</td>\n",
       "      <td>org</td>\n",
       "      <td>0.000474</td>\n",
       "      <td>1</td>\n",
       "    </tr>\n",
       "    <tr>\n",
       "      <th>21389</th>\n",
       "      <td>LaXFirefighters</td>\n",
       "      <td>org</td>\n",
       "      <td>0.000276</td>\n",
       "      <td>1</td>\n",
       "    </tr>\n",
       "  </tbody>\n",
       "</table>\n",
       "</div>"
      ],
      "text/plain": [
       "              username label  label_score  organization\n",
       "34705     SpoliateThis   org     0.003973             1\n",
       "9132         DMKANDOIT   org     0.003496             1\n",
       "26648     NDN_PrepZone   org     0.003391             1\n",
       "37217   ThePerezHilton   org     0.003254             1\n",
       "1973   Alexander_Group   org     0.002949             1\n",
       "16273           InPDUM   org     0.002827             1\n",
       "34444   SocialScoopLLC   org     0.002820             1\n",
       "21848           LeeEOC   org     0.002757             1\n",
       "40011          WYDaily   org     0.002659             1\n",
       "58446       lovebscott   org     0.002623             1\n",
       "28430      OrlandoVIPs   org     0.002541             1\n",
       "37349    TheSourceBand   org     0.002165             1\n",
       "25166  MigrationPolicy   org     0.001920             1\n",
       "34795     StLucieClerk   org     0.001846             1\n",
       "12547       FSBofPurdy   org     0.001521             1\n",
       "20768           KitCwx   org     0.001040             1\n",
       "6249           CTEHLLC   org     0.001022             1\n",
       "22396       LiteOnline   org     0.000715             1\n",
       "6305           CYNcafe   org     0.000474             1\n",
       "21389  LaXFirefighters   org     0.000276             1"
      ]
     },
     "metadata": {},
     "output_type": "display_data"
    }
   ],
   "source": [
    "org_data_label.sort_values(['label', 'label_score'], inplace=True, ascending=False)\n",
    "for org_i, data_i in org_data_label.groupby('label'):\n",
    "    data_i.sort_values('label_score', inplace=True, ascending=False)\n",
    "    display(data_i.head(20))\n",
    "    display(data_i.tail(20))"
   ]
  },
  {
   "cell_type": "markdown",
   "metadata": {},
   "source": [
    "Looking at the low-scoring labels, it appears that the `ind` labels may include some organizations by accident. We may have to restrict the data to high-scoring labels, ex. above 25% threshold."
   ]
  },
  {
   "cell_type": "code",
   "execution_count": null,
   "metadata": {},
   "outputs": [],
   "source": []
  },
  {
   "cell_type": "markdown",
   "metadata": {},
   "source": [
    "TODO: adjust confidence threshold for labels...will further reduce data but might make results less bad?"
   ]
  },
  {
   "cell_type": "code",
   "execution_count": 100,
   "metadata": {},
   "outputs": [],
   "source": [
    "author_var = 'username'\n",
    "org_authors = set(org_data_label[org_data_label.loc[:, 'organization']==1].loc[:, author_var].unique())"
   ]
  },
  {
   "cell_type": "markdown",
   "metadata": {},
   "source": [
    "Now let's compare rates of context use among organizations and non-organizations."
   ]
  },
  {
   "cell_type": "code",
   "execution_count": 128,
   "metadata": {},
   "outputs": [
    {
     "data": {
      "text/html": [
       "<div>\n",
       "<style scoped>\n",
       "    .dataframe tbody tr th:only-of-type {\n",
       "        vertical-align: middle;\n",
       "    }\n",
       "\n",
       "    .dataframe tbody tr th {\n",
       "        vertical-align: top;\n",
       "    }\n",
       "\n",
       "    .dataframe thead th {\n",
       "        text-align: right;\n",
       "    }\n",
       "</style>\n",
       "<table border=\"1\" class=\"dataframe\">\n",
       "  <thead>\n",
       "    <tr style=\"text-align: right;\">\n",
       "      <th></th>\n",
       "      <th>id</th>\n",
       "      <th>txt</th>\n",
       "      <th>data_name_fixed</th>\n",
       "      <th>username</th>\n",
       "      <th>date</th>\n",
       "      <th>lang</th>\n",
       "      <th>NE</th>\n",
       "      <th>NE_type</th>\n",
       "      <th>NE_LOC</th>\n",
       "      <th>valid_loc</th>\n",
       "      <th>...</th>\n",
       "      <th>parse</th>\n",
       "      <th>max_alternate_names</th>\n",
       "      <th>anchor</th>\n",
       "      <th>anchor_phrase</th>\n",
       "      <th>date_day</th>\n",
       "      <th>peak_date</th>\n",
       "      <th>pre_peak</th>\n",
       "      <th>post_peak</th>\n",
       "      <th>during_peak</th>\n",
       "      <th>NE_data_name</th>\n",
       "    </tr>\n",
       "  </thead>\n",
       "  <tbody>\n",
       "    <tr>\n",
       "      <th>0</th>\n",
       "      <td>899098735367647232</td>\n",
       "      <td>Tropical Depression #Harvey is 1543 miles SSE ...</td>\n",
       "      <td>harvey</td>\n",
       "      <td>wralweather</td>\n",
       "      <td>2017-08-19 22:40:00+00:00</td>\n",
       "      <td>en</td>\n",
       "      <td>Raleigh</td>\n",
       "      <td>LOCATION</td>\n",
       "      <td>True</td>\n",
       "      <td>True</td>\n",
       "      <td>...</td>\n",
       "      <td>[[['Tropical', 'ADJ', 2, 'compound', 0], ['Dep...</td>\n",
       "      <td>43.0</td>\n",
       "      <td>0.0</td>\n",
       "      <td>NaN</td>\n",
       "      <td>2017-08-19</td>\n",
       "      <td>2017-08-28</td>\n",
       "      <td>1</td>\n",
       "      <td>0</td>\n",
       "      <td>0</td>\n",
       "      <td>raleigh_harvey</td>\n",
       "    </tr>\n",
       "    <tr>\n",
       "      <th>1</th>\n",
       "      <td>900372140146470915</td>\n",
       "      <td>Tropical Depression #Harvey is 1293 miles SW o...</td>\n",
       "      <td>harvey</td>\n",
       "      <td>wralweather</td>\n",
       "      <td>2017-08-23 11:00:00+00:00</td>\n",
       "      <td>en</td>\n",
       "      <td>Raleigh</td>\n",
       "      <td>LOCATION</td>\n",
       "      <td>True</td>\n",
       "      <td>True</td>\n",
       "      <td>...</td>\n",
       "      <td>[[['Tropical', 'ADJ', 2, 'compound', 0], ['Dep...</td>\n",
       "      <td>43.0</td>\n",
       "      <td>0.0</td>\n",
       "      <td>NaN</td>\n",
       "      <td>2017-08-23</td>\n",
       "      <td>2017-08-28</td>\n",
       "      <td>1</td>\n",
       "      <td>0</td>\n",
       "      <td>0</td>\n",
       "      <td>raleigh_harvey</td>\n",
       "    </tr>\n",
       "    <tr>\n",
       "      <th>2</th>\n",
       "      <td>900457693663592450</td>\n",
       "      <td>Tropical Depression #Harvey is 1291 miles SW o...</td>\n",
       "      <td>harvey</td>\n",
       "      <td>wralweather</td>\n",
       "      <td>2017-08-23 16:40:00+00:00</td>\n",
       "      <td>en</td>\n",
       "      <td>Raleigh</td>\n",
       "      <td>LOCATION</td>\n",
       "      <td>True</td>\n",
       "      <td>True</td>\n",
       "      <td>...</td>\n",
       "      <td>[[['Tropical', 'ADJ', 2, 'compound', 0], ['Dep...</td>\n",
       "      <td>43.0</td>\n",
       "      <td>0.0</td>\n",
       "      <td>NaN</td>\n",
       "      <td>2017-08-23</td>\n",
       "      <td>2017-08-28</td>\n",
       "      <td>1</td>\n",
       "      <td>0</td>\n",
       "      <td>0</td>\n",
       "      <td>raleigh_harvey</td>\n",
       "    </tr>\n",
       "    <tr>\n",
       "      <th>3</th>\n",
       "      <td>900550809213075456</td>\n",
       "      <td>Tropical Depression #Harvey is 1275 miles SW o...</td>\n",
       "      <td>harvey</td>\n",
       "      <td>wralweather</td>\n",
       "      <td>2017-08-23 22:50:00+00:00</td>\n",
       "      <td>en</td>\n",
       "      <td>Raleigh</td>\n",
       "      <td>LOCATION</td>\n",
       "      <td>True</td>\n",
       "      <td>True</td>\n",
       "      <td>...</td>\n",
       "      <td>[[['Tropical', 'ADJ', 2, 'compound', 0], ['Dep...</td>\n",
       "      <td>43.0</td>\n",
       "      <td>0.0</td>\n",
       "      <td>NaN</td>\n",
       "      <td>2017-08-23</td>\n",
       "      <td>2017-08-28</td>\n",
       "      <td>1</td>\n",
       "      <td>0</td>\n",
       "      <td>0</td>\n",
       "      <td>raleigh_harvey</td>\n",
       "    </tr>\n",
       "    <tr>\n",
       "      <th>4</th>\n",
       "      <td>900643927446958080</td>\n",
       "      <td>Tropical Storm #Harvey is 1214 miles SW of Ral...</td>\n",
       "      <td>harvey</td>\n",
       "      <td>wralweather</td>\n",
       "      <td>2017-08-24 05:00:00+00:00</td>\n",
       "      <td>en</td>\n",
       "      <td>Raleigh</td>\n",
       "      <td>LOCATION</td>\n",
       "      <td>True</td>\n",
       "      <td>True</td>\n",
       "      <td>...</td>\n",
       "      <td>[[['Tropical', 'ADJ', 1, 'compound', 0], ['Sto...</td>\n",
       "      <td>43.0</td>\n",
       "      <td>0.0</td>\n",
       "      <td>NaN</td>\n",
       "      <td>2017-08-24</td>\n",
       "      <td>2017-08-28</td>\n",
       "      <td>1</td>\n",
       "      <td>0</td>\n",
       "      <td>0</td>\n",
       "      <td>raleigh_harvey</td>\n",
       "    </tr>\n",
       "  </tbody>\n",
       "</table>\n",
       "<p>5 rows × 29 columns</p>\n",
       "</div>"
      ],
      "text/plain": [
       "                   id                                                txt  \\\n",
       "0  899098735367647232  Tropical Depression #Harvey is 1543 miles SSE ...   \n",
       "1  900372140146470915  Tropical Depression #Harvey is 1293 miles SW o...   \n",
       "2  900457693663592450  Tropical Depression #Harvey is 1291 miles SW o...   \n",
       "3  900550809213075456  Tropical Depression #Harvey is 1275 miles SW o...   \n",
       "4  900643927446958080  Tropical Storm #Harvey is 1214 miles SW of Ral...   \n",
       "\n",
       "  data_name_fixed     username                       date lang       NE  \\\n",
       "0          harvey  wralweather  2017-08-19 22:40:00+00:00   en  Raleigh   \n",
       "1          harvey  wralweather  2017-08-23 11:00:00+00:00   en  Raleigh   \n",
       "2          harvey  wralweather  2017-08-23 16:40:00+00:00   en  Raleigh   \n",
       "3          harvey  wralweather  2017-08-23 22:50:00+00:00   en  Raleigh   \n",
       "4          harvey  wralweather  2017-08-24 05:00:00+00:00   en  Raleigh   \n",
       "\n",
       "    NE_type  NE_LOC  valid_loc  ...  \\\n",
       "0  LOCATION    True       True  ...   \n",
       "1  LOCATION    True       True  ...   \n",
       "2  LOCATION    True       True  ...   \n",
       "3  LOCATION    True       True  ...   \n",
       "4  LOCATION    True       True  ...   \n",
       "\n",
       "                                               parse  max_alternate_names  \\\n",
       "0  [[['Tropical', 'ADJ', 2, 'compound', 0], ['Dep...                 43.0   \n",
       "1  [[['Tropical', 'ADJ', 2, 'compound', 0], ['Dep...                 43.0   \n",
       "2  [[['Tropical', 'ADJ', 2, 'compound', 0], ['Dep...                 43.0   \n",
       "3  [[['Tropical', 'ADJ', 2, 'compound', 0], ['Dep...                 43.0   \n",
       "4  [[['Tropical', 'ADJ', 1, 'compound', 0], ['Sto...                 43.0   \n",
       "\n",
       "  anchor  anchor_phrase   date_day  peak_date  pre_peak  post_peak  \\\n",
       "0    0.0            NaN 2017-08-19 2017-08-28         1          0   \n",
       "1    0.0            NaN 2017-08-23 2017-08-28         1          0   \n",
       "2    0.0            NaN 2017-08-23 2017-08-28         1          0   \n",
       "3    0.0            NaN 2017-08-23 2017-08-28         1          0   \n",
       "4    0.0            NaN 2017-08-24 2017-08-28         1          0   \n",
       "\n",
       "   during_peak    NE_data_name  \n",
       "0            0  raleigh_harvey  \n",
       "1            0  raleigh_harvey  \n",
       "2            0  raleigh_harvey  \n",
       "3            0  raleigh_harvey  \n",
       "4            0  raleigh_harvey  \n",
       "\n",
       "[5 rows x 29 columns]"
      ]
     },
     "metadata": {},
     "output_type": "display_data"
    }
   ],
   "source": [
    "import dateutil\n",
    "## load from file?\n",
    "# clean_context_data = pd.read_csv('../../data/mined_tweets/combined_tweet_tag_data_NE_flat_parsed_anchor_NE_peak_times_consistent_authors.gz', sep='\\t', index_col=False, compression='gzip', converters={'date' : dateutil.parser.parse})\n",
    "## regenerate context data for completeness\n",
    "clean_context_data = load_consistent_data()\n",
    "# add NE data var\n",
    "NE_var = 'NE_fixed'\n",
    "data_name_var = 'data_name_fixed'\n",
    "NE_data_var = 'NE_data_name'\n",
    "clean_context_data = clean_context_data.assign(**{\n",
    "    NE_data_var : clean_context_data.loc[:, NE_var] + '_' + clean_context_data.loc[:, data_name_var],\n",
    "})\n",
    "display(clean_context_data.head())"
   ]
  },
  {
   "cell_type": "code",
   "execution_count": 129,
   "metadata": {},
   "outputs": [],
   "source": [
    "## restrict to authors available with metadata\n",
    "author_var = 'username'\n",
    "meta_authors = set(user_dedup.loc[:, author_var].unique())\n",
    "user_clean_context_data = clean_context_data[clean_context_data.loc[:, author_var].isin(meta_authors)]"
   ]
  },
  {
   "cell_type": "code",
   "execution_count": 130,
   "metadata": {},
   "outputs": [],
   "source": [
    "NE_var = 'NE_fixed'\n",
    "data_name_var = 'data_name_fixed'\n",
    "user_clean_context_data = user_clean_context_data.assign(**{\n",
    "    'is_organization' : (user_clean_context_data.loc[:, author_var].apply(lambda x: x.lower()).isin(org_authors)).astype(int)\n",
    "})"
   ]
  },
  {
   "cell_type": "code",
   "execution_count": 131,
   "metadata": {},
   "outputs": [],
   "source": [
    "def compute_context_means(data, author_var='username', NE_data_var='NE_data_name', context_var='anchor'):\n",
    "    context_means = data.groupby(author_var).apply(lambda x: x.groupby(NE_data_var).apply(lambda y: y.loc[:, context_var].mean()).mean())\n",
    "    return context_means"
   ]
  },
  {
   "cell_type": "markdown",
   "metadata": {},
   "source": [
    "Sanity check: make sure that the subset of data with author metadata doesn't deviate too much from the overall trend in context use."
   ]
  },
  {
   "cell_type": "code",
   "execution_count": 132,
   "metadata": {},
   "outputs": [],
   "source": [
    "NE_data_var = 'NE_data_name'\n",
    "peak_time_vars = ['pre_peak', 'during_peak', 'post_peak']\n",
    "peak_time_context_means = []\n",
    "for peak_time_var_i in peak_time_vars:\n",
    "    user_clean_context_means_i = compute_context_means(user_clean_context_data[user_clean_context_data.loc[:, peak_time_var_i]==1], author_var=author_var, NE_data_var=NE_data_var, context_var='anchor')\n",
    "    peak_time_context_means.append([user_clean_context_means_i.mean(), user_clean_context_means_i.std() / len(user_clean_context_means_i)**.5])"
   ]
  },
  {
   "cell_type": "code",
   "execution_count": 133,
   "metadata": {},
   "outputs": [],
   "source": [
    "peak_time_context_mean, peak_time_context_err = zip(*peak_time_context_means)"
   ]
  },
  {
   "cell_type": "code",
   "execution_count": 134,
   "metadata": {},
   "outputs": [
    {
     "name": "stdout",
     "output_type": "stream",
     "text": [
      "pre_peak: 0.101 +/- 0.002\n",
      "during_peak: 0.120 +/- 0.002\n",
      "post_peak: 0.093 +/- 0.001\n"
     ]
    }
   ],
   "source": [
    "for peak_time_var_i, mean_i, err_i in zip(peak_time_vars, peak_time_context_mean, peak_time_context_err):\n",
    "    print('%s: %.3f +/- %.3f'%(peak_time_var_i, mean_i, err_i))"
   ]
  },
  {
   "cell_type": "markdown",
   "metadata": {},
   "source": [
    "The `post_peak` dip isn't as pronounced as before, but we'll continue anyhow."
   ]
  },
  {
   "cell_type": "code",
   "execution_count": 135,
   "metadata": {},
   "outputs": [],
   "source": [
    "org_var = 'is_organization'\n",
    "org_clean_context_data = user_clean_context_data[user_clean_context_data.loc[:, org_var]==1]\n",
    "non_org_clean_context_data = user_clean_context_data[user_clean_context_data.loc[:, org_var]==0]"
   ]
  },
  {
   "cell_type": "code",
   "execution_count": 136,
   "metadata": {},
   "outputs": [],
   "source": [
    "org_context_means = compute_context_means(org_clean_context_data, author_var=author_var, NE_data_var=NE_data_var, context_var='anchor')\n",
    "non_org_context_means = compute_context_means(non_org_clean_context_data, author_var=author_var, NE_data_var=NE_data_var, context_var='anchor')"
   ]
  },
  {
   "cell_type": "code",
   "execution_count": 137,
   "metadata": {},
   "outputs": [
    {
     "name": "stdout",
     "output_type": "stream",
     "text": [
      "org context use: 0.099 +/- 0.006\n",
      "non-org context use: 0.102 +/- 0.001\n"
     ]
    }
   ],
   "source": [
    "print('org context use: %.3f +/- %.3f'%(org_context_means.mean(), org_context_means.std() / len(org_context_means)**.5))\n",
    "print('non-org context use: %.3f +/- %.3f'%(non_org_context_means.mean(), non_org_context_means.std() / len(non_org_context_means)**.5))"
   ]
  },
  {
   "cell_type": "markdown",
   "metadata": {},
   "source": [
    "OK! No consistent difference here, but this could be due to data imbalance (more pre-peak than post-peak)."
   ]
  },
  {
   "cell_type": "code",
   "execution_count": 138,
   "metadata": {},
   "outputs": [
    {
     "name": "stdout",
     "output_type": "stream",
     "text": [
      "time=pre_peak\n",
      "org context use: 0.084 +/- 0.012\n",
      "non-org context use: 0.102 +/- 0.002\n",
      "test stat = 5366313.500 (p=3.761477E-01)\n",
      "time=during_peak\n",
      "org context use: 0.154 +/- 0.014\n",
      "non-org context use: 0.119 +/- 0.002\n",
      "test stat = 5505613.500 (p=8.509948E-05)\n",
      "time=post_peak\n",
      "org context use: 0.090 +/- 0.007\n",
      "non-org context use: 0.093 +/- 0.001\n",
      "test stat = 21486948.500 (p=1.368506E-01)\n"
     ]
    }
   ],
   "source": [
    "from scipy.stats import ttest_ind, mannwhitneyu\n",
    "org_context_means = []\n",
    "non_org_context_means = []\n",
    "for peak_time_var_i in peak_time_vars:\n",
    "    org_clean_context_data_i = org_clean_context_data[org_clean_context_data.loc[:, peak_time_var_i]==1]\n",
    "    non_org_clean_context_data_i = non_org_clean_context_data[non_org_clean_context_data.loc[:, peak_time_var_i]==1]\n",
    "    org_context_means_i = compute_context_means(org_clean_context_data_i, author_var=author_var, NE_data_var=NE_data_var, context_var='anchor')\n",
    "    non_org_context_means_i = compute_context_means(non_org_clean_context_data_i, author_var=author_var, NE_data_var=NE_data_var, context_var='anchor')\n",
    "    # test significance\n",
    "#     test_stat, p_val = ttest_ind(org_context_means_i, non_org_context_means_i)\n",
    "    test_stat, p_val = mannwhitneyu(org_context_means_i, non_org_context_means_i)\n",
    "    print('time=%s'%(peak_time_var_i))\n",
    "    print('org context use: %.3f +/- %.3f'%(org_context_means_i.mean(), org_context_means_i.std() / len(org_context_means_i)**.5))\n",
    "    print('non-org context use: %.3f +/- %.3f'%(non_org_context_means_i.mean(), non_org_context_means_i.std() / len(non_org_context_means_i)**.5))\n",
    "    print('test stat = %.3f (p=%3E)'%(test_stat, p_val))\n",
    "    org_context_means.append(org_context_means_i)\n",
    "    non_org_context_means.append(non_org_context_means_i)"
   ]
  },
  {
   "cell_type": "code",
   "execution_count": 139,
   "metadata": {},
   "outputs": [
    {
     "data": {
      "image/png": "[encoded data removed]",
      "text/plain": [
       "<Figure size 432x288 with 1 Axes>"
      ]
     },
     "metadata": {},
     "output_type": "display_data"
    }
   ],
   "source": [
    "## plot\n",
    "X = np.arange(len(peak_time_vars))\n",
    "X_offset = 0.25\n",
    "org_context_means_mean = [m.mean() for m in org_context_means]\n",
    "non_org_context_means_mean = [m.mean() for m in non_org_context_means]\n",
    "org_context_means_err = [m.std() / len(m)**.5 for m in org_context_means]\n",
    "non_org_context_means_err = [m.std() / len(m)**.5 for m in non_org_context_means]\n",
    "fig = plt.figure(figsize=(6,4))\n",
    "ax = fig.add_subplot(111)\n",
    "ax.tick_params(axis='both', which='major', labelsize=14)\n",
    "ax.scatter(X - X_offset, org_context_means_mean, color='b', label='organization')\n",
    "ax.scatter(X + X_offset, non_org_context_means_mean, color='r', label='non-organization')\n",
    "ax.errorbar(X - X_offset, org_context_means_mean, yerr=org_context_means_err, color='b', linestyle='none')\n",
    "ax.errorbar(X + X_offset, non_org_context_means_mean, yerr=non_org_context_means_err, color='r', linestyle='none')\n",
    "plt.legend(loc='upper right', fontsize=14)\n",
    "ax.set_xticks(X)\n",
    "ax.set_xticklabels(peak_time_vars)\n",
    "ax.set_ylabel('P(context)', fontsize=18)\n",
    "plt.show()"
   ]
  },
  {
   "cell_type": "markdown",
   "metadata": {},
   "source": [
    "OK! No consistent differences, except for `during_peak` with ORG using more context as expected."
   ]
  },
  {
   "cell_type": "markdown",
   "metadata": {},
   "source": [
    "Let's restrict the analysis to authors who have at least one example of context."
   ]
  },
  {
   "cell_type": "code",
   "execution_count": 140,
   "metadata": {},
   "outputs": [
    {
     "name": "stdout",
     "output_type": "stream",
     "text": [
      "time=pre_peak\n",
      "org context use: 0.673 +/- 0.045\n",
      "non-org context use: 0.805 +/- 0.006\n",
      "test stat = 66788.500 (p=2.822645E-04)\n",
      "time=during_peak\n",
      "org context use: 0.698 +/- 0.031\n",
      "non-org context use: 0.771 +/- 0.005\n",
      "test stat = 175386.500 (p=5.090745E-03)\n",
      "time=post_peak\n",
      "org context use: 0.701 +/- 0.026\n",
      "non-org context use: 0.797 +/- 0.005\n",
      "test stat = 274249.000 (p=2.763172E-05)\n"
     ]
    }
   ],
   "source": [
    "from scipy.stats import ttest_ind, mannwhitneyu\n",
    "org_context_means = []\n",
    "non_org_context_means = []\n",
    "for peak_time_var_i in peak_time_vars:\n",
    "    org_clean_context_data_i = org_clean_context_data[org_clean_context_data.loc[:, peak_time_var_i]==1]\n",
    "    non_org_clean_context_data_i = non_org_clean_context_data[non_org_clean_context_data.loc[:, peak_time_var_i]==1]\n",
    "    org_context_means_i = compute_context_means(org_clean_context_data_i, author_var=author_var, NE_data_var=NE_data_var, context_var='anchor')\n",
    "    non_org_context_means_i = compute_context_means(non_org_clean_context_data_i, author_var=author_var, NE_data_var=NE_data_var, context_var='anchor')\n",
    "    org_context_means_i = org_context_means_i[org_context_means_i > 0.]\n",
    "    non_org_context_means_i = non_org_context_means_i[non_org_context_means_i > 0.]\n",
    "    # test significance\n",
    "#     test_stat, p_val = ttest_ind(org_context_means_i, non_org_context_means_i)\n",
    "    test_stat, p_val = mannwhitneyu(org_context_means_i, non_org_context_means_i)\n",
    "    print('time=%s'%(peak_time_var_i))\n",
    "    print('org context use: %.3f +/- %.3f'%(org_context_means_i.mean(), org_context_means_i.std() / len(org_context_means_i)**.5))\n",
    "    print('non-org context use: %.3f +/- %.3f'%(non_org_context_means_i.mean(), non_org_context_means_i.std() / len(non_org_context_means_i)**.5))\n",
    "    print('test stat = %.3f (p=%3E)'%(test_stat, p_val))\n",
    "    org_context_means.append(org_context_means_i)\n",
    "    non_org_context_means.append(non_org_context_means_i)"
   ]
  },
  {
   "cell_type": "code",
   "execution_count": 141,
   "metadata": {},
   "outputs": [
    {
     "data": {
      "image/png": "[encoded data removed]",
      "text/plain": [
       "<Figure size 432x288 with 1 Axes>"
      ]
     },
     "metadata": {},
     "output_type": "display_data"
    }
   ],
   "source": [
    "## plot\n",
    "X = np.arange(len(peak_time_vars))\n",
    "X_offset = 0.25\n",
    "org_context_means_mean = [m.mean() for m in org_context_means]\n",
    "non_org_context_means_mean = [m.mean() for m in non_org_context_means]\n",
    "org_context_means_err = [m.std() / len(m)**.5 for m in org_context_means]\n",
    "non_org_context_means_err = [m.std() / len(m)**.5 for m in non_org_context_means]\n",
    "fig = plt.figure(figsize=(6,4))\n",
    "ax = fig.add_subplot(111)\n",
    "ax.tick_params(axis='both', which='major', labelsize=14)\n",
    "ax.scatter(X - X_offset, org_context_means_mean, color='b', label='organization')\n",
    "ax.scatter(X + X_offset, non_org_context_means_mean, color='r', label='non-organization')\n",
    "ax.errorbar(X - X_offset, org_context_means_mean, yerr=org_context_means_err, color='b', linestyle='none')\n",
    "ax.errorbar(X + X_offset, non_org_context_means_mean, yerr=non_org_context_means_err, color='r', linestyle='none')\n",
    "plt.legend(loc='upper right', fontsize=14)\n",
    "ax.set_xticks(X)\n",
    "ax.set_xticklabels(peak_time_vars)\n",
    "ax.set_ylabel('P(context)', fontsize=18)\n",
    "plt.show()"
   ]
  },
  {
   "cell_type": "markdown",
   "metadata": {},
   "source": [
    "Now we see the opposite effect of what is expected! Organizations use consistently less context than individuals."
   ]
  },
  {
   "cell_type": "markdown",
   "metadata": {},
   "source": [
    "Let's compare the (`post_peak_only`, `post_peak_shared`) $\\times$ (`organization`, `non-organization`) combinations to determine if the overall context decrease in `post_peak` is due partly to the higher proportion of non-organizations."
   ]
  },
  {
   "cell_type": "code",
   "execution_count": null,
   "metadata": {},
   "outputs": [],
   "source": []
  }
 ],
 "metadata": {
  "kernelspec": {
   "display_name": "Python 3",
   "language": "python",
   "name": "python3"
  },
  "language_info": {
   "codemirror_mode": {
    "name": "ipython",
    "version": 3
   },
   "file_extension": ".py",
   "mimetype": "text/x-python",
   "name": "python",
   "nbconvert_exporter": "python",
   "pygments_lexer": "ipython3",
   "version": "3.6.5"
  }
 },
 "nbformat": 4,
 "nbformat_minor": 2
}
