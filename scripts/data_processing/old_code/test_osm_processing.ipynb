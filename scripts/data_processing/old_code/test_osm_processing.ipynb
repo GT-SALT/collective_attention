{
 "cells": [
  {
   "cell_type": "markdown",
   "metadata": {},
   "source": [
    "# Test OSM processing\n",
    "In which we attempt to process an OSM PBF file, because it probably contains a wider range of geographic entities than the .shp files (e.g., which are missing county boundaries)."
   ]
  },
  {
   "cell_type": "code",
   "execution_count": 17,
   "metadata": {},
   "outputs": [],
   "source": [
    "# from osgeo import gdal, ogr\n",
    "import gdal, ogr"
   ]
  },
  {
   "cell_type": "code",
   "execution_count": 19,
   "metadata": {},
   "outputs": [
    {
     "name": "stdout",
     "output_type": "stream",
     "text": [
      "1110100\n"
     ]
    }
   ],
   "source": [
    "print(gdal.VersionInfo())"
   ]
  },
  {
   "cell_type": "markdown",
   "metadata": {},
   "source": [
    "## Load data"
   ]
  },
  {
   "cell_type": "code",
   "execution_count": 28,
   "metadata": {},
   "outputs": [
    {
     "ename": "AttributeError",
     "evalue": "'NoneType' object has no attribute 'GetLayerCount'",
     "output_type": "error",
     "traceback": [
      "\u001b[0;31m---------------------------------------------------------------------------\u001b[0m",
      "\u001b[0;31mAttributeError\u001b[0m                            Traceback (most recent call last)",
      "\u001b[0;32m<ipython-input-28-2f2b8f507ea6>\u001b[0m in \u001b[0;36m<module>\u001b[0;34m()\u001b[0m\n\u001b[1;32m      4\u001b[0m \u001b[0mosm\u001b[0m \u001b[0;34m=\u001b[0m \u001b[0mogr\u001b[0m\u001b[0;34m.\u001b[0m\u001b[0mOpen\u001b[0m\u001b[0;34m(\u001b[0m\u001b[0mpbf_file\u001b[0m\u001b[0;34m)\u001b[0m\u001b[0;34m\u001b[0m\u001b[0m\n\u001b[1;32m      5\u001b[0m \u001b[0;34m\u001b[0m\u001b[0m\n\u001b[0;32m----> 6\u001b[0;31m \u001b[0mlayer_count\u001b[0m \u001b[0;34m=\u001b[0m \u001b[0mosm\u001b[0m\u001b[0;34m.\u001b[0m\u001b[0mGetLayerCount\u001b[0m\u001b[0;34m(\u001b[0m\u001b[0;34m)\u001b[0m\u001b[0;34m\u001b[0m\u001b[0m\n\u001b[0m\u001b[1;32m      7\u001b[0m \u001b[0;32mprint\u001b[0m\u001b[0;34m(\u001b[0m\u001b[0mlayer_count\u001b[0m\u001b[0;34m)\u001b[0m\u001b[0;34m\u001b[0m\u001b[0m\n",
      "\u001b[0;31mAttributeError\u001b[0m: 'NoneType' object has no attribute 'GetLayerCount'"
     ]
    }
   ],
   "source": [
    "# pbf_file = '../../data/geo_files/PR_OSM/eritrea-latest.osm.pbf'\n",
    "pbf_file = '../../data/geo_files/PR_OSM/puerto-rico-latest.osm.pbf'\n",
    "gdal.SetConfigOption('OGR_INTERLEAVED_READING', 'YES')\n",
    "osm = ogr.Open(pbf_file)\n",
    "\n",
    "layer_count = osm.GetLayerCount()\n",
    "print(layer_count)"
   ]
  },
  {
   "cell_type": "markdown",
   "metadata": {},
   "source": [
    "TODO: why does the open option keep throwing None??"
   ]
  },
  {
   "cell_type": "markdown",
   "metadata": {},
   "source": [
    "Scrap it, let's just use [this parser](http://pbf.raggedred.net/) I found."
   ]
  },
  {
   "cell_type": "code",
   "execution_count": 21,
   "metadata": {},
   "outputs": [],
   "source": [
    "from parsepbf import parsepbf"
   ]
  },
  {
   "cell_type": "code",
   "execution_count": 29,
   "metadata": {},
   "outputs": [],
   "source": [
    "pbf_file = '../../data/geo_files/PR_OSM/puerto-rico-latest.osm.pbf'\n",
    "out_file_name = '../../data/geo_files/PR_OSM/xml_files/puerto_rico_parsed.xml'\n",
    "with open(pbf_file, 'r') as f_input, open(out_file_name, 'w') as f_output:\n",
    "    pbf_parser = parsepbf.PBFParser(f_input, f_output)\n",
    "    if(not pbf_parser.init('pbfparser.py 1.3')):\n",
    "        print('header trouble')\n",
    "    pbf_parser.outputxmlhead()\n",
    "    pbf_parser.parse()\n",
    "    pbf_parser.outputxmltrail()"
   ]
  },
  {
   "cell_type": "markdown",
   "metadata": {},
   "source": [
    "Does the XML contain the \"Olimpo\" neighborhood that we were missing from the original data??"
   ]
  },
  {
   "cell_type": "code",
   "execution_count": null,
   "metadata": {},
   "outputs": [],
   "source": [
    "!grep Olimpo../../data/geo_files/PR_OSM/xml_files/puerto_rico_parsed.xml"
   ]
  },
  {
   "cell_type": "markdown",
   "metadata": {},
   "source": [
    "Nope. I guess we have to resort to the [Geonames data](http://www.geonames.org/countries/PR/puerto-rico.html) for all the missing entities."
   ]
  },
  {
   "cell_type": "code",
   "execution_count": null,
   "metadata": {},
   "outputs": [],
   "source": []
  }
 ],
 "metadata": {
  "kernelspec": {
   "display_name": "Python 2",
   "language": "python",
   "name": "python2"
  },
  "language_info": {
   "codemirror_mode": {
    "name": "ipython",
    "version": 2
   },
   "file_extension": ".py",
   "mimetype": "text/x-python",
   "name": "python",
   "nbconvert_exporter": "python",
   "pygments_lexer": "ipython2",
   "version": "2.7.10"
  }
 },
 "nbformat": 4,
 "nbformat_minor": 2
}
