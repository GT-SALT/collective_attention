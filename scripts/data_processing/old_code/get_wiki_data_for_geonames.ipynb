{
 "cells": [
  {
   "cell_type": "markdown",
   "metadata": {},
   "source": [
    "# Get Wiki data for Geonames\n",
    "For every Geonames ID:\n",
    "\n",
    "- determine if it has a Wiki page\n",
    "- determine if that Wiki page has a counter for incoming links\n",
    "- mine that counter\n",
    "- new feature"
   ]
  },
  {
   "cell_type": "code",
   "execution_count": 1,
   "metadata": {},
   "outputs": [],
   "source": [
    "import pandas as pd"
   ]
  },
  {
   "cell_type": "markdown",
   "metadata": {},
   "source": [
    "## Load data"
   ]
  },
  {
   "cell_type": "code",
   "execution_count": 2,
   "metadata": {},
   "outputs": [],
   "source": [
    "geonames_data = pd.read_csv('/hg190/corpora/GeoNames/allCountriesSimplified.tsv', sep='\\t', index_col=False, encoding='utf-8')"
   ]
  },
  {
   "cell_type": "code",
   "execution_count": 3,
   "metadata": {},
   "outputs": [
    {
     "data": {
      "text/html": [
       "<div>\n",
       "<style scoped>\n",
       "    .dataframe tbody tr th:only-of-type {\n",
       "        vertical-align: middle;\n",
       "    }\n",
       "\n",
       "    .dataframe tbody tr th {\n",
       "        vertical-align: top;\n",
       "    }\n",
       "\n",
       "    .dataframe thead th {\n",
       "        text-align: right;\n",
       "    }\n",
       "</style>\n",
       "<table border=\"1\" class=\"dataframe\">\n",
       "  <thead>\n",
       "    <tr style=\"text-align: right;\">\n",
       "      <th></th>\n",
       "      <th>geonames_ID</th>\n",
       "      <th>name</th>\n",
       "      <th>alternate_names</th>\n",
       "      <th>latitude</th>\n",
       "      <th>longitude</th>\n",
       "      <th>feature_class</th>\n",
       "      <th>feature_code</th>\n",
       "      <th>population</th>\n",
       "      <th>alternate_name_count</th>\n",
       "    </tr>\n",
       "  </thead>\n",
       "  <tbody>\n",
       "    <tr>\n",
       "      <th>0</th>\n",
       "      <td>2986043</td>\n",
       "      <td>Pic de Font Blanca</td>\n",
       "      <td>Pic de Font Blanca,Pic du Port</td>\n",
       "      <td>42.64991</td>\n",
       "      <td>1.53335</td>\n",
       "      <td>T</td>\n",
       "      <td>PK</td>\n",
       "      <td>0</td>\n",
       "      <td>2</td>\n",
       "    </tr>\n",
       "    <tr>\n",
       "      <th>1</th>\n",
       "      <td>2994701</td>\n",
       "      <td>Roc Mélé</td>\n",
       "      <td>Roc Mele,Roc Meler,Roc Mélé</td>\n",
       "      <td>42.58765</td>\n",
       "      <td>1.74028</td>\n",
       "      <td>T</td>\n",
       "      <td>MT</td>\n",
       "      <td>0</td>\n",
       "      <td>3</td>\n",
       "    </tr>\n",
       "    <tr>\n",
       "      <th>2</th>\n",
       "      <td>3007683</td>\n",
       "      <td>Pic des Langounelles</td>\n",
       "      <td>Pic des Langounelles</td>\n",
       "      <td>42.61203</td>\n",
       "      <td>1.47364</td>\n",
       "      <td>T</td>\n",
       "      <td>PK</td>\n",
       "      <td>0</td>\n",
       "      <td>1</td>\n",
       "    </tr>\n",
       "    <tr>\n",
       "      <th>3</th>\n",
       "      <td>3017832</td>\n",
       "      <td>Pic de les Abelletes</td>\n",
       "      <td>Pic de la Font-Negre,Pic de la Font-Nègre,Pic ...</td>\n",
       "      <td>42.52535</td>\n",
       "      <td>1.73343</td>\n",
       "      <td>T</td>\n",
       "      <td>PK</td>\n",
       "      <td>0</td>\n",
       "      <td>3</td>\n",
       "    </tr>\n",
       "    <tr>\n",
       "      <th>4</th>\n",
       "      <td>3017833</td>\n",
       "      <td>Estany de les Abelletes</td>\n",
       "      <td>Estany de les Abelletes,Etang de Font-Negre,Ét...</td>\n",
       "      <td>42.52915</td>\n",
       "      <td>1.73362</td>\n",
       "      <td>H</td>\n",
       "      <td>LK</td>\n",
       "      <td>0</td>\n",
       "      <td>3</td>\n",
       "    </tr>\n",
       "  </tbody>\n",
       "</table>\n",
       "</div>"
      ],
      "text/plain": [
       "   geonames_ID                     name  \\\n",
       "0      2986043       Pic de Font Blanca   \n",
       "1      2994701                 Roc Mélé   \n",
       "2      3007683     Pic des Langounelles   \n",
       "3      3017832     Pic de les Abelletes   \n",
       "4      3017833  Estany de les Abelletes   \n",
       "\n",
       "                                     alternate_names  latitude  longitude  \\\n",
       "0                     Pic de Font Blanca,Pic du Port  42.64991    1.53335   \n",
       "1                        Roc Mele,Roc Meler,Roc Mélé  42.58765    1.74028   \n",
       "2                               Pic des Langounelles  42.61203    1.47364   \n",
       "3  Pic de la Font-Negre,Pic de la Font-Nègre,Pic ...  42.52535    1.73343   \n",
       "4  Estany de les Abelletes,Etang de Font-Negre,Ét...  42.52915    1.73362   \n",
       "\n",
       "  feature_class feature_code  population  alternate_name_count  \n",
       "0             T           PK           0                     2  \n",
       "1             T           MT           0                     3  \n",
       "2             T           PK           0                     1  \n",
       "3             T           PK           0                     3  \n",
       "4             H           LK           0                     3  "
      ]
     },
     "execution_count": 3,
     "metadata": {},
     "output_type": "execute_result"
    }
   ],
   "source": [
    "geonames_data.head()"
   ]
  },
  {
   "cell_type": "markdown",
   "metadata": {},
   "source": [
    "The basic procedure is to query for each Geonames ID and get the Wiki link from the response.\n",
    "\n",
    "GeoNames ID --> Wiki ID --> Wiki stats"
   ]
  },
  {
   "cell_type": "markdown",
   "metadata": {},
   "source": [
    "JUST KIDDING I found out that some (all?) of the Wiki links are available in the [alternate names file](http://download.geonames.org/export/dump/alternateNames.zip) for some reason, which we downloaded [here](/hg190/corpora/GeoNames/alternateNames.txt)."
   ]
  },
  {
   "cell_type": "code",
   "execution_count": 7,
   "metadata": {},
   "outputs": [
    {
     "data": {
      "text/html": [
       "<div>\n",
       "<style scoped>\n",
       "    .dataframe tbody tr th:only-of-type {\n",
       "        vertical-align: middle;\n",
       "    }\n",
       "\n",
       "    .dataframe tbody tr th {\n",
       "        vertical-align: top;\n",
       "    }\n",
       "\n",
       "    .dataframe thead th {\n",
       "        text-align: right;\n",
       "    }\n",
       "</style>\n",
       "<table border=\"1\" class=\"dataframe\">\n",
       "  <thead>\n",
       "    <tr style=\"text-align: right;\">\n",
       "      <th></th>\n",
       "      <th>alternateNameId</th>\n",
       "      <th>geonameid</th>\n",
       "      <th>isolanguage</th>\n",
       "      <th>alternate name</th>\n",
       "      <th>isPreferredName</th>\n",
       "      <th>isShortName</th>\n",
       "      <th>isColloquial</th>\n",
       "      <th>isHistoric</th>\n",
       "    </tr>\n",
       "  </thead>\n",
       "  <tbody>\n",
       "    <tr>\n",
       "      <th>0</th>\n",
       "      <td>1282063</td>\n",
       "      <td>2986043</td>\n",
       "      <td></td>\n",
       "      <td>Pic du Port</td>\n",
       "      <td></td>\n",
       "      <td></td>\n",
       "      <td></td>\n",
       "      <td></td>\n",
       "    </tr>\n",
       "    <tr>\n",
       "      <th>1</th>\n",
       "      <td>4274490</td>\n",
       "      <td>2986043</td>\n",
       "      <td></td>\n",
       "      <td>Pic de Font Blanca</td>\n",
       "      <td></td>\n",
       "      <td></td>\n",
       "      <td></td>\n",
       "      <td></td>\n",
       "    </tr>\n",
       "    <tr>\n",
       "      <th>2</th>\n",
       "      <td>1284819</td>\n",
       "      <td>2994701</td>\n",
       "      <td></td>\n",
       "      <td>Roc Mélé</td>\n",
       "      <td></td>\n",
       "      <td></td>\n",
       "      <td></td>\n",
       "      <td></td>\n",
       "    </tr>\n",
       "    <tr>\n",
       "      <th>3</th>\n",
       "      <td>1284820</td>\n",
       "      <td>2994701</td>\n",
       "      <td></td>\n",
       "      <td>Roc Meler</td>\n",
       "      <td></td>\n",
       "      <td></td>\n",
       "      <td></td>\n",
       "      <td></td>\n",
       "    </tr>\n",
       "    <tr>\n",
       "      <th>4</th>\n",
       "      <td>4285256</td>\n",
       "      <td>3007683</td>\n",
       "      <td></td>\n",
       "      <td>Pic des Langounelles</td>\n",
       "      <td></td>\n",
       "      <td></td>\n",
       "      <td></td>\n",
       "      <td></td>\n",
       "    </tr>\n",
       "  </tbody>\n",
       "</table>\n",
       "</div>"
      ],
      "text/plain": [
       "   alternateNameId  geonameid isolanguage        alternate name  \\\n",
       "0          1282063    2986043                       Pic du Port   \n",
       "1          4274490    2986043                Pic de Font Blanca   \n",
       "2          1284819    2994701                          Roc Mélé   \n",
       "3          1284820    2994701                         Roc Meler   \n",
       "4          4285256    3007683              Pic des Langounelles   \n",
       "\n",
       "  isPreferredName isShortName isColloquial isHistoric  \n",
       "0                                                      \n",
       "1                                                      \n",
       "2                                                      \n",
       "3                                                      \n",
       "4                                                      "
      ]
     },
     "execution_count": 7,
     "metadata": {},
     "output_type": "execute_result"
    }
   ],
   "source": [
    "alternate_names = pd.read_csv('/hg190/corpora/GeoNames/alternateNames.txt', sep='\\t', header=None, index_col=False, encoding='utf-8')\n",
    "alternate_names.fillna('', inplace=True)\n",
    "alternate_names.columns = ['alternateNameId', 'geonameid', 'isolanguage', \n",
    "                           'alternate name', 'isPreferredName', 'isShortName', \n",
    "                           'isColloquial', 'isHistoric']\n",
    "alternate_names.head()"
   ]
  },
  {
   "cell_type": "code",
   "execution_count": 18,
   "metadata": {},
   "outputs": [
    {
     "name": "stdout",
     "output_type": "stream",
     "text": [
      "12901541 total alt names\n",
      "5887606 total unique toponyms\n"
     ]
    }
   ],
   "source": [
    "print('%d total alt names'%(alternate_names.shape[0]))\n",
    "print('%d total unique toponyms'%(alternate_names.loc[:, 'geonameid'].nunique()))"
   ]
  },
  {
   "cell_type": "code",
   "execution_count": 8,
   "metadata": {},
   "outputs": [
    {
     "name": "stdout",
     "output_type": "stream",
     "text": [
      "6760586/12901541 names with isolanguage\n"
     ]
    },
    {
     "data": {
      "text/html": [
       "<div>\n",
       "<style scoped>\n",
       "    .dataframe tbody tr th:only-of-type {\n",
       "        vertical-align: middle;\n",
       "    }\n",
       "\n",
       "    .dataframe tbody tr th {\n",
       "        vertical-align: top;\n",
       "    }\n",
       "\n",
       "    .dataframe thead th {\n",
       "        text-align: right;\n",
       "    }\n",
       "</style>\n",
       "<table border=\"1\" class=\"dataframe\">\n",
       "  <thead>\n",
       "    <tr style=\"text-align: right;\">\n",
       "      <th></th>\n",
       "      <th>alternateNameId</th>\n",
       "      <th>geonameid</th>\n",
       "      <th>isolanguage</th>\n",
       "      <th>alternate name</th>\n",
       "      <th>isPreferredName</th>\n",
       "      <th>isShortName</th>\n",
       "      <th>isColloquial</th>\n",
       "      <th>isHistoric</th>\n",
       "    </tr>\n",
       "  </thead>\n",
       "  <tbody>\n",
       "    <tr>\n",
       "      <th>17</th>\n",
       "      <td>2968580</td>\n",
       "      <td>3038816</td>\n",
       "      <td>link</td>\n",
       "      <td>http://en.wikipedia.org/wiki/Xixerella</td>\n",
       "      <td></td>\n",
       "      <td></td>\n",
       "      <td></td>\n",
       "      <td></td>\n",
       "    </tr>\n",
       "    <tr>\n",
       "      <th>23</th>\n",
       "      <td>6905524</td>\n",
       "      <td>3038832</td>\n",
       "      <td>link</td>\n",
       "      <td>http://en.wikipedia.org/wiki/Vila%2C_Andorra</td>\n",
       "      <td></td>\n",
       "      <td></td>\n",
       "      <td></td>\n",
       "      <td></td>\n",
       "    </tr>\n",
       "    <tr>\n",
       "      <th>42</th>\n",
       "      <td>2181137</td>\n",
       "      <td>3038886</td>\n",
       "      <td>ca</td>\n",
       "      <td>Pic de Tristaina</td>\n",
       "      <td>1</td>\n",
       "      <td></td>\n",
       "      <td></td>\n",
       "      <td></td>\n",
       "    </tr>\n",
       "    <tr>\n",
       "      <th>46</th>\n",
       "      <td>11292426</td>\n",
       "      <td>3038926</td>\n",
       "      <td>link</td>\n",
       "      <td>http://en.wikipedia.org/wiki/Monturull</td>\n",
       "      <td></td>\n",
       "      <td></td>\n",
       "      <td></td>\n",
       "      <td></td>\n",
       "    </tr>\n",
       "    <tr>\n",
       "      <th>49</th>\n",
       "      <td>6900415</td>\n",
       "      <td>3038987</td>\n",
       "      <td>link</td>\n",
       "      <td>http://en.wikipedia.org/wiki/Sorn%C3%A0s</td>\n",
       "      <td></td>\n",
       "      <td></td>\n",
       "      <td></td>\n",
       "      <td></td>\n",
       "    </tr>\n",
       "  </tbody>\n",
       "</table>\n",
       "</div>"
      ],
      "text/plain": [
       "    alternateNameId  geonameid isolanguage  \\\n",
       "17          2968580    3038816        link   \n",
       "23          6905524    3038832        link   \n",
       "42          2181137    3038886          ca   \n",
       "46         11292426    3038926        link   \n",
       "49          6900415    3038987        link   \n",
       "\n",
       "                                  alternate name isPreferredName isShortName  \\\n",
       "17        http://en.wikipedia.org/wiki/Xixerella                               \n",
       "23  http://en.wikipedia.org/wiki/Vila%2C_Andorra                               \n",
       "42                              Pic de Tristaina               1               \n",
       "46        http://en.wikipedia.org/wiki/Monturull                               \n",
       "49      http://en.wikipedia.org/wiki/Sorn%C3%A0s                               \n",
       "\n",
       "   isColloquial isHistoric  \n",
       "17                          \n",
       "23                          \n",
       "42                          \n",
       "46                          \n",
       "49                          "
      ]
     },
     "execution_count": 8,
     "metadata": {},
     "output_type": "execute_result"
    }
   ],
   "source": [
    "alternate_names_with_isolanguage = alternate_names[alternate_names.loc[:, 'isolanguage'] != '']\n",
    "print('%d/%d names with isolanguage'%(alternate_names_with_isolanguage.shape[0],\n",
    "                                      alternate_names.shape[0]))\n",
    "alternate_names_with_isolanguage.head()"
   ]
  },
  {
   "cell_type": "code",
   "execution_count": 37,
   "metadata": {},
   "outputs": [
    {
     "name": "stdout",
     "output_type": "stream",
     "text": [
      "match\n",
      "558960/12901541 names with wiki link\n",
      "548367/12901541 unique names with wiki link\n"
     ]
    }
   ],
   "source": [
    "import re\n",
    "wiki_matcher = re.compile('http://.*wikipedia.org.*/wiki/.*')\n",
    "if(wiki_matcher.match('http://en.wikipedia.org/wiki/Xixerella')):\n",
    "    print('match')\n",
    "alternate_names_with_wiki = alternate_names_with_isolanguage.loc[:, 'alternate name'].apply(lambda x: wiki_matcher.match(x) is not None)\n",
    "alternate_names_with_wiki = alternate_names_with_isolanguage[alternate_names_with_wiki]\n",
    "alternate_names_with_wiki_unique = alternate_names_with_wiki.drop_duplicates('geonameid', inplace=False)\n",
    "print('%d/%d names with wiki link'%(alternate_names_with_wiki.shape[0],\n",
    "                                    alternate_names.shape[0]))\n",
    "print('%d/%d unique names with wiki link'%(alternate_names_with_wiki_unique.shape[0],\n",
    "                                           alternate_names.shape[0]))"
   ]
  },
  {
   "cell_type": "code",
   "execution_count": 38,
   "metadata": {},
   "outputs": [
    {
     "data": {
      "text/html": [
       "<div>\n",
       "<style scoped>\n",
       "    .dataframe tbody tr th:only-of-type {\n",
       "        vertical-align: middle;\n",
       "    }\n",
       "\n",
       "    .dataframe tbody tr th {\n",
       "        vertical-align: top;\n",
       "    }\n",
       "\n",
       "    .dataframe thead th {\n",
       "        text-align: right;\n",
       "    }\n",
       "</style>\n",
       "<table border=\"1\" class=\"dataframe\">\n",
       "  <thead>\n",
       "    <tr style=\"text-align: right;\">\n",
       "      <th></th>\n",
       "      <th>alternateNameId</th>\n",
       "      <th>geonameid</th>\n",
       "      <th>isolanguage</th>\n",
       "      <th>alternate name</th>\n",
       "      <th>isPreferredName</th>\n",
       "      <th>isShortName</th>\n",
       "      <th>isColloquial</th>\n",
       "      <th>isHistoric</th>\n",
       "    </tr>\n",
       "  </thead>\n",
       "  <tbody>\n",
       "    <tr>\n",
       "      <th>17</th>\n",
       "      <td>2968580</td>\n",
       "      <td>3038816</td>\n",
       "      <td>link</td>\n",
       "      <td>http://en.wikipedia.org/wiki/Xixerella</td>\n",
       "      <td></td>\n",
       "      <td></td>\n",
       "      <td></td>\n",
       "      <td></td>\n",
       "    </tr>\n",
       "    <tr>\n",
       "      <th>23</th>\n",
       "      <td>6905524</td>\n",
       "      <td>3038832</td>\n",
       "      <td>link</td>\n",
       "      <td>http://en.wikipedia.org/wiki/Vila%2C_Andorra</td>\n",
       "      <td></td>\n",
       "      <td></td>\n",
       "      <td></td>\n",
       "      <td></td>\n",
       "    </tr>\n",
       "    <tr>\n",
       "      <th>46</th>\n",
       "      <td>11292426</td>\n",
       "      <td>3038926</td>\n",
       "      <td>link</td>\n",
       "      <td>http://en.wikipedia.org/wiki/Monturull</td>\n",
       "      <td></td>\n",
       "      <td></td>\n",
       "      <td></td>\n",
       "      <td></td>\n",
       "    </tr>\n",
       "    <tr>\n",
       "      <th>49</th>\n",
       "      <td>6900415</td>\n",
       "      <td>3038987</td>\n",
       "      <td>link</td>\n",
       "      <td>http://en.wikipedia.org/wiki/Sorn%C3%A0s</td>\n",
       "      <td></td>\n",
       "      <td></td>\n",
       "      <td></td>\n",
       "      <td></td>\n",
       "    </tr>\n",
       "    <tr>\n",
       "      <th>58</th>\n",
       "      <td>2968581</td>\n",
       "      <td>3038999</td>\n",
       "      <td>link</td>\n",
       "      <td>http://en.wikipedia.org/wiki/Soldeu</td>\n",
       "      <td></td>\n",
       "      <td></td>\n",
       "      <td></td>\n",
       "      <td></td>\n",
       "    </tr>\n",
       "  </tbody>\n",
       "</table>\n",
       "</div>"
      ],
      "text/plain": [
       "    alternateNameId  geonameid isolanguage  \\\n",
       "17          2968580    3038816        link   \n",
       "23          6905524    3038832        link   \n",
       "46         11292426    3038926        link   \n",
       "49          6900415    3038987        link   \n",
       "58          2968581    3038999        link   \n",
       "\n",
       "                                  alternate name isPreferredName isShortName  \\\n",
       "17        http://en.wikipedia.org/wiki/Xixerella                               \n",
       "23  http://en.wikipedia.org/wiki/Vila%2C_Andorra                               \n",
       "46        http://en.wikipedia.org/wiki/Monturull                               \n",
       "49      http://en.wikipedia.org/wiki/Sorn%C3%A0s                               \n",
       "58           http://en.wikipedia.org/wiki/Soldeu                               \n",
       "\n",
       "   isColloquial isHistoric  \n",
       "17                          \n",
       "23                          \n",
       "46                          \n",
       "49                          \n",
       "58                          "
      ]
     },
     "execution_count": 38,
     "metadata": {},
     "output_type": "execute_result"
    }
   ],
   "source": [
    "alternate_names_with_wiki.head()"
   ]
  },
  {
   "cell_type": "markdown",
   "metadata": {},
   "source": [
    "OK! About 5% of all toponyms have a Wiki link which makes sense since the bulk of toponyms are highly local."
   ]
  },
  {
   "cell_type": "markdown",
   "metadata": {},
   "source": [
    "Where are the duplicate rows coming from? (note the difference in \"names with wiki link\" versus \"unique names\")"
   ]
  },
  {
   "cell_type": "code",
   "execution_count": 39,
   "metadata": {},
   "outputs": [
    {
     "data": {
      "text/plain": [
       "311046     14\n",
       "1850147     8\n",
       "1668341     8\n",
       "4140963     8\n",
       "6252001     6\n",
       "Name: geonameid, dtype: int64"
      ]
     },
     "execution_count": 39,
     "metadata": {},
     "output_type": "execute_result"
    }
   ],
   "source": [
    "geoname_counts = alternate_names_with_wiki.loc[:, 'geonameid'].value_counts().sort_values(inplace=False, ascending=False)\n",
    "geoname_counts.head()"
   ]
  },
  {
   "cell_type": "code",
   "execution_count": 40,
   "metadata": {},
   "outputs": [
    {
     "name": "stdout",
     "output_type": "stream",
     "text": [
      "          alternateNameId  geonameid isolanguage  \\\n",
      "11090128          2922851     311046        link   \n",
      "11090129          3047645     311046        link   \n",
      "11090131          7948538     311046        link   \n",
      "11090132          7948539     311046        link   \n",
      "11090133          7948540     311046        link   \n",
      "11090134          7948541     311046        link   \n",
      "11090135          7948542     311046        link   \n",
      "11090136          7948543     311046        link   \n",
      "11090137          7948544     311046        link   \n",
      "11090138          7948545     311046        link   \n",
      "11090139          7948546     311046        link   \n",
      "11090140          7948547     311046        link   \n",
      "11090141          7948548     311046        link   \n",
      "11090142          7948549     311046        link   \n",
      "\n",
      "                                             alternate name isPreferredName  \\\n",
      "11090128                http://en.wikipedia.org/wiki/Smyrna                   \n",
      "11090129  http://ru.wikipedia.org/wiki/%D0%98%D0%B7%D0%B...                   \n",
      "11090131                 http://en.wikipedia.org/wiki/Izmir                   \n",
      "11090132                 http://fr.wikipedia.org/wiki/Izmir                   \n",
      "11090133                 http://de.wikipedia.org/wiki/Izmir                   \n",
      "11090134                 http://no.wikipedia.org/wiki/Izmir                   \n",
      "11090135                 http://se.wikipedia.org/wiki/Izmir                   \n",
      "11090136                 http://da.wikipedia.org/wiki/Izmir                   \n",
      "11090137                 http://es.wikipedia.org/wiki/Izmir                   \n",
      "11090138            http://tr.wikipedia.org/wiki/%C4%B0zmir                   \n",
      "11090139                 http://cs.wikipedia.org/wiki/Izmir                   \n",
      "11090140                 http://pl.wikipedia.org/wiki/Izmir                   \n",
      "11090141                 http://id.wikipedia.org/wiki/Izmir                   \n",
      "11090142                 http://fi.wikipedia.org/wiki/Izmir                   \n",
      "\n",
      "         isShortName isColloquial isHistoric  \n",
      "11090128                                   1  \n",
      "11090129                                      \n",
      "11090131                                      \n",
      "11090132                                      \n",
      "11090133                                      \n",
      "11090134                                      \n",
      "11090135                                      \n",
      "11090136                                      \n",
      "11090137                                      \n",
      "11090138                                      \n",
      "11090139                                      \n",
      "11090140                                      \n",
      "11090141                                      \n",
      "11090142                                      \n"
     ]
    }
   ],
   "source": [
    "test_id = 311046\n",
    "print(alternate_names_with_wiki[alternate_names_with_wiki.loc[:, 'geonameid'] == test_id])"
   ]
  },
  {
   "cell_type": "markdown",
   "metadata": {},
   "source": [
    "OK! The duplicate rows just point to different languages."
   ]
  },
  {
   "cell_type": "markdown",
   "metadata": {},
   "source": [
    "Let's collect the Wiki page titles to feed to a backlink calculator ([here](https://dispenser.info.tm/~dispenser/cgi-bin/backlinkscount.py?title=Title))."
   ]
  },
  {
   "cell_type": "code",
   "execution_count": 41,
   "metadata": {},
   "outputs": [],
   "source": [
    "for a, a_row in alternate_names_with_wiki.iterrows():\n",
    "    a_url = a_row.loc['alternate name']\n",
    "    if(not wiki_title_matcher.match(a_url)):\n",
    "        print('bad URL %s'%(a_row))\n",
    "        break"
   ]
  },
  {
   "cell_type": "code",
   "execution_count": 42,
   "metadata": {},
   "outputs": [
    {
     "name": "stdout",
     "output_type": "stream",
     "text": [
      "Smyrna\n",
      "en\n"
     ]
    }
   ],
   "source": [
    "wiki_title_matcher = re.compile('.*(?<=wiki/)(.*)')\n",
    "wiki_lang_matcher = re.compile('http://([a-z]+)\\..*')\n",
    "test_title = 'http://en.wikipedia.org/wiki/Smyrna'\n",
    "test_match = wiki_title_matcher.match(test_title)\n",
    "if(test_match):\n",
    "    print(test_match.group(1))\n",
    "    print(wiki_lang_matcher.match(test_title).group(1))\n",
    "wiki_titles = alternate_names_with_wiki.loc[:, 'alternate name'].apply(lambda x: wiki_title_matcher.match(x).group(1))\n",
    "wiki_title_lang = alternate_names_with_wiki.loc[:, 'alternate name'].apply(lambda x: wiki_lang_matcher.match(x).group(1))"
   ]
  },
  {
   "cell_type": "markdown",
   "metadata": {},
   "source": [
    "Now! For each title, query the backlink calculator."
   ]
  },
  {
   "cell_type": "code",
   "execution_count": 51,
   "metadata": {},
   "outputs": [],
   "source": [
    "import requests\n",
    "backlink_url = 'https://dispenser.info.tm/~dispenser/cgi-bin/backlinkscount.py?title=%s'\n",
    "wiki_titles_unique = wiki_titles.unique()\n",
    "test_title = 'Smyrna'\n",
    "test_url = backlink_url%(test_title)"
   ]
  },
  {
   "cell_type": "code",
   "execution_count": 53,
   "metadata": {},
   "outputs": [
    {
     "name": "stdout",
     "output_type": "stream",
     "text": [
      "1926\n",
      "\n",
      "1926\n",
      "\n",
      "1926\n",
      "\n",
      "1926\n",
      "\n",
      "1 loop, best of 3: 558 ms per loop\n"
     ]
    }
   ],
   "source": [
    "%%timeit\n",
    "test_response = requests.get(test_url)\n",
    "print(test_response.text)"
   ]
  },
  {
   "cell_type": "markdown",
   "metadata": {},
   "source": [
    "Looks like \"Smyrna\" got 1926 backlinks. Is that right?"
   ]
  },
  {
   "cell_type": "markdown",
   "metadata": {},
   "source": [
    "Yup! We see [here](https://en.wikipedia.org/w/index.php?title=Special:WhatLinksHere/Smyrna&limit=500) that \"Smyrna\" has 1926 backlinks, so it appears that the measure is accurate."
   ]
  },
  {
   "cell_type": "markdown",
   "metadata": {},
   "source": [
    "Let's migrate this code to a separate Python file to mine properly."
   ]
  },
  {
   "cell_type": "code",
   "execution_count": null,
   "metadata": {},
   "outputs": [],
   "source": []
  }
 ],
 "metadata": {
  "kernelspec": {
   "display_name": "Python 2",
   "language": "python",
   "name": "python2"
  },
  "language_info": {
   "codemirror_mode": {
    "name": "ipython",
    "version": 2
   },
   "file_extension": ".py",
   "mimetype": "text/x-python",
   "name": "python",
   "nbconvert_exporter": "python",
   "pygments_lexer": "ipython2",
   "version": "2.7.10"
  }
 },
 "nbformat": 4,
 "nbformat_minor": 2
}
