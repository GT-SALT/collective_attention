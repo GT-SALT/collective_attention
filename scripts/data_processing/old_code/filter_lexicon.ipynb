{
 "cells": [
  {
   "cell_type": "markdown",
   "metadata": {},
   "source": [
    "# Filter lexicon\n",
    "In which we attempt to remove all noisy mentions from the lexicon:\n",
    "\n",
    "- `salon`\n",
    "- `rio`\n",
    "- `shelter`\n",
    "\n",
    "With rule-based and statistical methods."
   ]
  },
  {
   "cell_type": "code",
   "execution_count": 27,
   "metadata": {},
   "outputs": [],
   "source": [
    "import pandas as pd\n",
    "import data_helpers\n",
    "reload(data_helpers)\n",
    "from data_helpers import load_lexicon\n",
    "import matplotlib\n",
    "%matplotlib inline\n",
    "import matplotlib.pyplot as plt"
   ]
  },
  {
   "cell_type": "markdown",
   "metadata": {},
   "source": [
    "## Load data, lexicon"
   ]
  },
  {
   "cell_type": "code",
   "execution_count": 28,
   "metadata": {},
   "outputs": [],
   "source": [
    "all_group_data = pd.read_csv('../../data/facebook-maria/combined_group_data.tsv', sep='\\t', index_col=False, encoding='utf-8')\n",
    "lexicon = load_lexicon()"
   ]
  },
  {
   "cell_type": "code",
   "execution_count": 29,
   "metadata": {},
   "outputs": [
    {
     "name": "stdout",
     "output_type": "stream",
     "text": [
      "31604 unique toponyms in lexicon\n"
     ]
    }
   ],
   "source": [
    "print('%d unique toponyms in lexicon'%(len(lexicon)))"
   ]
  },
  {
   "cell_type": "code",
   "execution_count": 30,
   "metadata": {},
   "outputs": [
    {
     "data": {
      "image/png": "[encoded data removed]",
      "text/plain": [
       "<matplotlib.figure.Figure at 0x7f1dd5a95350>"
      ]
     },
     "metadata": {},
     "output_type": "display_data"
    }
   ],
   "source": [
    "# distribution by token length\n",
    "lexicon_token_lengths = pd.Series(map(lambda x: len(x.split(' ')), lexicon))\n",
    "bins = lexicon_token_lengths.nunique()\n",
    "plt.hist(lexicon_token_lengths, bins=bins)\n",
    "plt.xlabel('Token length of toponym')\n",
    "plt.title(\"Distribution of toponym string lengths \\n(all possible toponyms)\")\n",
    "plt.show()"
   ]
  },
  {
   "cell_type": "markdown",
   "metadata": {},
   "source": [
    "Most toponyms have two or three words."
   ]
  },
  {
   "cell_type": "markdown",
   "metadata": {},
   "source": [
    "What if we restrict to toponyms observed in the data?"
   ]
  },
  {
   "cell_type": "code",
   "execution_count": 31,
   "metadata": {},
   "outputs": [
    {
     "name": "stdout",
     "output_type": "stream",
     "text": [
      "46301 total toponyms in data\n",
      "2068 unique toponyms in data\n"
     ]
    }
   ],
   "source": [
    "# first extract from data\n",
    "import data_helpers\n",
    "reload(data_helpers)\n",
    "from data_helpers import collect_lexicon_toponyms_from_txt\n",
    "txt = all_group_data.loc[:, 'status_message'].values.tolist()\n",
    "toponym_list = collect_lexicon_toponyms_from_txt(txt, lexicon)\n",
    "toponym_list_flat = reduce(lambda x,y: x+y, toponym_list)\n",
    "toponym_set = set(toponym_list_flat)\n",
    "print('%d total toponyms in data'%(len(toponym_list_flat)))\n",
    "print('%d unique toponyms in data'%(len(toponym_set)))"
   ]
  },
  {
   "cell_type": "code",
   "execution_count": 32,
   "metadata": {},
   "outputs": [
    {
     "name": "stdout",
     "output_type": "stream",
     "text": [
      "5\n"
     ]
    }
   ],
   "source": [
    "print(toponym_lengths.nunique())"
   ]
  },
  {
   "cell_type": "code",
   "execution_count": 33,
   "metadata": {},
   "outputs": [
    {
     "data": {
      "image/png": "[encoded data removed]",
      "text/plain": [
       "<matplotlib.figure.Figure at 0x7f1dd5a9e410>"
      ]
     },
     "metadata": {},
     "output_type": "display_data"
    }
   ],
   "source": [
    "toponym_lengths = pd.Series(map(lambda x: len(x.split(' ')), toponym_set))\n",
    "bins = toponym_lengths.nunique()\n",
    "plt.hist(toponym_lengths, bins=bins)\n",
    "plt.xlabel('Token length of toponym')\n",
    "plt.title(\"Distribution of toponym string lengths \\n(toponyms in data)\")\n",
    "plt.show()"
   ]
  },
  {
   "cell_type": "markdown",
   "metadata": {},
   "source": [
    "OK! Larger proportion of single-token toponyms in data. \n",
    "\n",
    "Let's see the most frequent toponyms in each category."
   ]
  },
  {
   "cell_type": "code",
   "execution_count": 34,
   "metadata": {},
   "outputs": [
    {
     "name": "stdout",
     "output_type": "stream",
     "text": [
      "testing length 1\n"
     ]
    },
    {
     "name": "stderr",
     "output_type": "stream",
     "text": [
      "/hg190/istewart6/crisis_language/lib/python2.7/site-packages/ipykernel_launcher.py:10: SettingWithCopyWarning: \n",
      "A value is trying to be set on a copy of a slice from a DataFrame\n",
      "\n",
      "See the caveats in the documentation: http://pandas.pydata.org/pandas-docs/stable/indexing.html#indexing-view-versus-copy\n",
      "  # Remove the CWD from sys.path while we load stuff.\n"
     ]
    },
    {
     "name": "stdout",
     "output_type": "stream",
     "text": [
      "pueblo          1412\n",
      "guayama         1289\n",
      "coamo            924\n",
      "barranquitas     684\n",
      "quebradillas     623\n",
      "ponce            607\n",
      "carmen           554\n",
      "correo           527\n",
      "yabucoa          505\n",
      "corozal          494\n",
      "torres           478\n",
      "patillas         461\n",
      "camino           414\n",
      "nuevo            405\n",
      "cayey            400\n",
      "santiago         384\n",
      "arroyo           366\n",
      "cidra            358\n",
      "florida          348\n",
      "jardines         336\n",
      "Name: f, dtype: int64\n",
      "islote         1\n",
      "visitantes     1\n",
      "vapor          1\n",
      "teatro         1\n",
      "tjua           1\n",
      "lluveras       1\n",
      "topeka         1\n",
      "toral          1\n",
      "buso           1\n",
      "torrimar       1\n",
      "forest         1\n",
      "tostado        1\n",
      "lechuga        1\n",
      "amaury         1\n",
      "bufalo         1\n",
      "trinitarias    1\n",
      "berio          1\n",
      "unsure         1\n",
      "riachuelo      1\n",
      "espana         1\n",
      "Name: f, dtype: int64\n",
      "testing length 2\n",
      "puerto rico        2038\n",
      "vega alta           712\n",
      "vega baja           472\n",
      "san juan            435\n",
      "san antonio         187\n",
      "las casas           172\n",
      "santa ana           164\n",
      "los llanos          144\n",
      "sabana hoyos        142\n",
      "la plaza            127\n",
      "el centro           121\n",
      "camino nuevo        119\n",
      "aguas buenas        112\n",
      "parcelas nuevas     111\n",
      "avenida e           110\n",
      "la playa            104\n",
      "las flores          100\n",
      "la fe                93\n",
      "san jose             88\n",
      "la torre             87\n",
      "Name: f, dtype: int64\n",
      "calle amelia           1\n",
      "calle saturno          1\n",
      "panaderia salamanca    1\n",
      "calle sentina          1\n",
      "calle 48               1\n",
      "calle amarilis         1\n",
      "calle amapola          1\n",
      "calle playa            1\n",
      "calle solaz            1\n",
      "calle pluton           1\n",
      "piedra gorda           1\n",
      "calle posada           1\n",
      "mirasol barrio         1\n",
      "calle providencia      1\n",
      "calle 25               1\n",
      "calle 26               1\n",
      "calle 27               1\n",
      "calle r                1\n",
      "calle ramirez          1\n",
      "calle cibeles          1\n",
      "Name: f, dtype: int64\n",
      "testing length 3\n",
      "parque de pelota           76\n",
      "valles de guayama          58\n",
      "cancha bajo techo          56\n",
      "manejo de emergencias      55\n",
      "brisas del mar             53\n",
      "jardines del caribe        38\n",
      "loma del viento            36\n",
      "ojo de agua                33\n",
      "manejo de emergencia       27\n",
      "villa del carmen           25\n",
      "puerto de jobos            20\n",
      "calle del parque           16\n",
      "hospital san lucas         15\n",
      "residencial las palmas     14\n",
      "calle las flores           14\n",
      "sector la loma             14\n",
      "luis pales matos           13\n",
      "playa de ponce             13\n",
      "restaurante el jibarito    11\n",
      "jardines de arroyo         11\n",
      "Name: f, dtype: int64\n",
      "calle 10 e               1\n",
      "calle 6 e                1\n",
      "calle los romanes        1\n",
      "calle marlin azul        1\n",
      "plaza del oeste          1\n",
      "reparto san jose         1\n",
      "condominio la ceiba      1\n",
      "punta las marias         1\n",
      "calle los roques         1\n",
      "puma gas station         1\n",
      "calle varsovia 2         1\n",
      "parcelas la milagrosa    1\n",
      "calle bella vista        1\n",
      "calle los almendros      1\n",
      "calle t viera            1\n",
      "calle luis vilella       1\n",
      "puente de casey          1\n",
      "calle 4 se               1\n",
      "calle pedro olivencia    1\n",
      "sector la ceiba          1\n",
      "Name: f, dtype: int64\n",
      "testing length 4\n",
      "centro de bellas artes               48\n",
      "cuartel de la policia                12\n",
      "playa de cerro gordo                  9\n",
      "parque de las flores                  7\n",
      "jardines de san blas                  4\n",
      "universidad de puerto rico            3\n",
      "calle 4 de julio                      2\n",
      "calle luis pales matos                2\n",
      "calle rafael santiago cruz            2\n",
      "calle 12 de octubre                   2\n",
      "lomas de country club                 2\n",
      "colegio de la merced                  2\n",
      "avenida franklin delano roosevelt     2\n",
      "dulce nombre de jesus                 1\n",
      "centro de usos multiples              1\n",
      "iglesia de dios pentecostal           1\n",
      "old san juan station                  1\n",
      "expreso jose de diego                 1\n",
      "escuela de bellas artes               1\n",
      "calle 25 de enero                     1\n",
      "Name: f, dtype: int64\n",
      "aguas buenas post office        1\n",
      "calle arca de noe               1\n",
      "calle antonio s pedreira        1\n",
      "capilla de santa ana            1\n",
      "escuela maria libertad gomez    1\n",
      "municipio de san juan           1\n",
      "municipio de vega baja          1\n",
      "calle espiga de amor            1\n",
      "estancias de cerro gordo        1\n",
      "playa de santa isabel           1\n",
      "calle vista del mar             1\n",
      "puente de los leones            1\n",
      "paseo de la princesa            1\n",
      "escuela apolo san antonio       1\n",
      "camino de la cascada            1\n",
      "residencial villa del caribe    1\n",
      "lomas de trujillo alto          1\n",
      "residencial manuel j rivera     1\n",
      "la iglesia de dios              1\n",
      "calle pedro albizu campos       1\n",
      "Name: f, dtype: int64\n",
      "testing length 5\n",
      "iglesia san antonio de padua       2\n",
      "banco popular de puerto rico       2\n",
      "sector villas de monte verde       1\n",
      "office of management and budget    1\n",
      "Name: f, dtype: int64\n",
      "iglesia san antonio de padua       2\n",
      "banco popular de puerto rico       2\n",
      "sector villas de monte verde       1\n",
      "office of management and budget    1\n",
      "Name: f, dtype: int64\n"
     ]
    }
   ],
   "source": [
    "from collections import Counter\n",
    "toponym_frequency = pd.Series(Counter(toponym_list_flat))\n",
    "toponym_data = pd.DataFrame()\n",
    "toponym_data.loc[:, 'f'] = toponym_frequency\n",
    "toponym_data.loc[:, 'len'] = map(lambda x: len(x.split(' ')), toponym_data.index.tolist())\n",
    "toponym_data.sort_values('len', inplace=True, ascending=True)\n",
    "top_k = 20\n",
    "for l, l_group in toponym_data.groupby('len'):\n",
    "    print('testing length %d'%(l))\n",
    "    l_group.sort_values('f', inplace=True, ascending=False)\n",
    "    print(l_group.loc[:, 'f'].head(top_k))\n",
    "    print(l_group.loc[:, 'f'].tail(top_k))"
   ]
  },
  {
   "cell_type": "markdown",
   "metadata": {},
   "source": [
    "OK! \n",
    "\n",
    "- Most common length-1 toponyms are common words (`nuevo`, `camino`) or municipality names, or maybe names (`serafina`).\n",
    "- Some common length-2 toponyms could be common words (`la plaza`, `el centro`) and the long tail comprises street names (`calle 48`)."
   ]
  },
  {
   "cell_type": "markdown",
   "metadata": {},
   "source": [
    "## Frequency-based filtering\n",
    "What if we remove all toponyms that have high frequency in some external corpus? This would hopefully eliminate errors like `shelter` and `salon` plus names like `laura`, without eliminating less-common but still important toponyms like `calle 1`.\n",
    "\n",
    "Start with sample day from archive (20 Sep 2017 because of proximity to hurricane), maybe use \"official\" corpus like [this](https://www.corpusdelespanol.org/x.asp?c=3)."
   ]
  },
  {
   "cell_type": "code",
   "execution_count": 41,
   "metadata": {},
   "outputs": [
    {
     "name": "stdout",
     "output_type": "stream",
     "text": [
      " check out this  video \n"
     ]
    }
   ],
   "source": [
    "import re\n",
    "HANDLE_MATCHER = re.compile('@\\w+')\n",
    "HASHTAG_MATCHER = re.compile('#\\w+')\n",
    "URL_MATCHER = re.compile('https?://\\S+|pic.twitter.com/\\S+')\n",
    "MATCHERS = [HANDLE_MATCHER, HASHTAG_MATCHER, URL_MATCHER]\n",
    "test = '@anderson check out this #dope video https://www.blah.com/012354-39032.html'\n",
    "for m in MATCHERS:\n",
    "    test = m.sub('', test)\n",
    "print(test)"
   ]
  },
  {
   "cell_type": "code",
   "execution_count": null,
   "metadata": {},
   "outputs": [],
   "source": [
    "from nltk.tokenize.casual import TweetTokenizer\n",
    "import gzip\n",
    "import json\n",
    "from collections import Counter\n",
    "import re\n",
    "from sklearn.feature_extraction.text import CountVectorizer\n",
    "archive_file = '/hg190/corpora/twitter-crawl/new-archive/tweets-Sep-20-17-03-57.gz'\n",
    "tokenizer = TweetTokenizer()\n",
    "tf = Counter()\n",
    "# remove handles, hashtags, URLs\n",
    "HANDLE_MATCHER = re.compile('@\\w+')\n",
    "HASHTAG_MATCHER = re.compile('#\\w+')\n",
    "URL_MATCHER = re.compile('https?://\\S+|pic.twitter.com/\\S+')\n",
    "NUM_MATCHER = re.compile('[\\d\\.]+')\n",
    "MATCHERS = [(HANDLE_MATCHER, ''), (HASHTAG_MATCHER, ''), \n",
    "            (URL_MATCHER, '<URL>'), (NUM_MATCHER, '<NUM>')]\n",
    "ngram_range = (1,3)\n",
    "def tweet_generator(f):\n",
    "    for l in gzip.open(f, 'r'):\n",
    "        try:\n",
    "            l_json = json.loads(l.strip())\n",
    "            l_txt = l_json.get('text')\n",
    "            l_lang = l_json.get('lang')\n",
    "            if(l_txt is not None and l_lang == 'es'):\n",
    "                l_txt = l_txt.lower()\n",
    "                for m, sub in MATCHERS:\n",
    "                    l_txt = m.sub(sub, l_txt)\n",
    "                yield l_txt\n",
    "            else:\n",
    "                yield ''\n",
    "        except Exception, e:\n",
    "            yield ''\n",
    "cv = CountVectorizer(lowercase=True, ngram_range=ngram_range, tokenizer=tokenizer.tokenize)\n",
    "dtm = cv.fit_transform(tweet_generator(archive_file))\n",
    "# for i, l in enumerate(gzip.open(archive_file, 'r')):\n",
    "#     try:\n",
    "#         l_json = json.loads(l.strip())\n",
    "#         l_txt = l_json.get('text')\n",
    "#         l_lang = l_json.get('lang')\n",
    "#         if(l_txt is not None and l_lang == 'es'):\n",
    "#             l_txt = l_txt.lower()\n",
    "#             for m in MATCHERS:\n",
    "#                 l_txt = m.sub('', l_txt)\n",
    "#             # unigrams\n",
    "#             l_tokens = tokenizer.tokenize(l_txt)\n",
    "#             # 2,3,4 grams\n",
    "#             tf.update(l_tokens)\n",
    "#     except Exception, e:\n",
    "#         pass\n",
    "#     if(i % 1000000 == 0):\n",
    "#         print('processed %d tweets'%(i))"
   ]
  },
  {
   "cell_type": "code",
   "execution_count": 59,
   "metadata": {},
   "outputs": [
    {
     "name": "stdout",
     "output_type": "stream",
     "text": [
      "(4671293, 3286910)\n"
     ]
    }
   ],
   "source": [
    "print(dtm.shape)"
   ]
  },
  {
   "cell_type": "code",
   "execution_count": 61,
   "metadata": {},
   "outputs": [
    {
     "name": "stdout",
     "output_type": "stream",
     "text": [
      "[66435 21253  7254 ...,     2     1     1]\n",
      "!              66435\n",
      "! !            21253\n",
      "! ! !           7254\n",
      "! ! \"             86\n",
      "! ! #              6\n",
      "! ! #éxitos        1\n",
      "! ! %              1\n",
      "! ! &              1\n",
      "! ! '              5\n",
      "! ! (             81\n",
      "! ! (:             1\n",
      "! ! )             25\n",
      "! ! ):             1\n",
      "! ! *             11\n",
      "! ! +             17\n",
      "! ! ,             48\n",
      "! ! -             21\n",
      "! ! ->             3\n",
      "! ! :             18\n",
      "! ! :')            1\n",
      "dtype: int64\n",
      "<num>                       323076\n",
      ":                           316167\n",
      "rt                          286400\n",
      "rt :                        270151\n",
      "de                          237732\n",
      ",                           176708\n",
      "<url>                       173930\n",
      "en                          145547\n",
      "la                          136256\n",
      "que                         135115\n",
      "a                           127974\n",
      "y                           117998\n",
      "…                           113527\n",
      "el                          110658\n",
      "�                            89472\n",
      "no                           81089\n",
      "!                            66435\n",
      "por                          59573\n",
      "se                           59210\n",
      "los                          56128\n",
      "para                         47829\n",
      "es                           46737\n",
      "�                            46481\n",
      "con                          45780\n",
      "un                           44735\n",
      "me                           42566\n",
      "del                          37460\n",
      "lo                           35153\n",
      "las                          34269\n",
      "<num> <url>                  34237\n",
      "                             ...  \n",
      "más específicos o                1\n",
      "más específicos mande            1\n",
      "más específicos ,                1\n",
      "más específico posible           1\n",
      "más específico para              1\n",
      "más espectaculares del           1\n",
      "más espectaculares <url>         1\n",
      "más espectacular que             1\n",
      "más espectacular                 1\n",
      "más esperado que                 1\n",
      "más esperados                    1\n",
      "más esperados <num>              1\n",
      "más esta esperando               1\n",
      "más estaciones de                1\n",
      "más estaciones                   1\n",
      "más estables que                 1\n",
      "más esta temporada               1\n",
      "más esta pierna                  1\n",
      "más esta palabra                 1\n",
      "más esta mierda                  1\n",
      "más esta chulada                 1\n",
      "más esperances                   1\n",
      "más espeso te                    1\n",
      "más espeso                       1\n",
      "más esperpéntica <url>           1\n",
      "más esperpéntica                 1\n",
      "más espero poder                 1\n",
      "más espero                       1\n",
      "más esperances puestes           1\n",
      "la adopción homoparental         1\n",
      "Length: 3286910, dtype: int64\n"
     ]
    }
   ],
   "source": [
    "# get term counts\n",
    "ivoc = {v : k for k,v in cv.vocabulary_.iteritems()}\n",
    "dtm_sum = pd.np.array(dtm.sum(axis=0))[0]\n",
    "print(dtm_sum)\n",
    "dtm_sum = pd.Series(dict([(ivoc[i], x) for i, x in enumerate(dtm_sum)]))\n",
    "print(dtm_sum.head(20))\n",
    "print(dtm_sum.sort_values(inplace=False, ascending=False))"
   ]
  },
  {
   "cell_type": "code",
   "execution_count": 63,
   "metadata": {},
   "outputs": [
    {
     "name": "stdout",
     "output_type": "stream",
     "text": [
      "!              3.362632e-03\n",
      "! !            1.075728e-03\n",
      "! ! !          3.671639e-04\n",
      "! ! \"          4.352922e-06\n",
      "! ! #          3.036922e-07\n",
      "! ! #éxitos    5.061537e-08\n",
      "! ! %          5.061537e-08\n",
      "! ! &          5.061537e-08\n",
      "! ! '          2.530768e-07\n",
      "! ! (          4.099845e-06\n",
      "dtype: float64\n"
     ]
    }
   ],
   "source": [
    "from __future__ import division\n",
    "# normalize for frequency\n",
    "dtm_sum /= dtm_sum.sum()\n",
    "print(dtm_sum.head(10))"
   ]
  },
  {
   "cell_type": "code",
   "execution_count": 69,
   "metadata": {},
   "outputs": [
    {
     "name": "stdout",
     "output_type": "stream",
     "text": [
      "753 overlaps\n",
      "edificio       0.000282\n",
      "nuevo          0.000175\n",
      "escuela        0.000173\n",
      "fuerte         0.000167\n",
      "venezuela      0.000166\n",
      "pueblo         0.000153\n",
      "roma           0.000117\n",
      "amigo          0.000090\n",
      "claro          0.000055\n",
      "puerto rico    0.000051\n",
      "el centro      0.000049\n",
      "seguridad      0.000045\n",
      "madrid         0.000039\n",
      "monterrey      0.000038\n",
      "estadio        0.000037\n",
      "pena           0.000036\n",
      "esperanza      0.000034\n",
      "camino         0.000029\n",
      "total          0.000029\n",
      "maldonado      0.000029\n",
      "dtype: float64\n",
      "calle gibraltar      5.061537e-08\n",
      "ramos antonini       5.061537e-08\n",
      "santa teresita       5.061537e-08\n",
      "calle girasoles      5.061537e-08\n",
      "la alborada          5.061537e-08\n",
      "el roble             5.061537e-08\n",
      "perchas              5.061537e-08\n",
      "el pueblito          5.061537e-08\n",
      "la lomita            5.061537e-08\n",
      "sol y mar            5.061537e-08\n",
      "morovis              5.061537e-08\n",
      "barranquitas         5.061537e-08\n",
      "hogar de ancianos    5.061537e-08\n",
      "belmonte             5.061537e-08\n",
      "terranova            5.061537e-08\n",
      "toral                5.061537e-08\n",
      "covadonga            5.061537e-08\n",
      "calle sol            5.061537e-08\n",
      "parguera             5.061537e-08\n",
      "las calabazas        5.061537e-08\n",
      "dtype: float64\n"
     ]
    }
   ],
   "source": [
    "# figure out overlap in sample and lexicon\n",
    "overlap_mentions = set(dtm_sum.index) & set(toponym_list_flat)\n",
    "print('%d overlaps'%(len(overlap_mentions)))\n",
    "dtm_overlap = dtm_sum.loc[overlap_mentions].sort_values(inplace=False, ascending=False)\n",
    "print(dtm_overlap.head(20))\n",
    "print(dtm_overlap.tail(20))"
   ]
  },
  {
   "cell_type": "code",
   "execution_count": 75,
   "metadata": {},
   "outputs": [
    {
     "name": "stdout",
     "output_type": "stream",
     "text": [
      "372 overlap words over cutoff 5.062E-07\n",
      "aaa,abandonado,acevedo,acosta,aduana,aguacate,aguadilla,aguirre,alianza,alicia,altagracia,amado,amador,amigo,amy,anabel,angel,angelitos,arecibo,arroyo,asilo,atenas,ballena,barcelona,barranca,beatriz,bellas artes,benitez,bodega,brooklyn,buenos aires,cacao,caguas,cajero,calle a,calle y,cam,camino,camino a,camino real,campamento,cana,cancha,cantera,carcel,caribe,carmen,carolina,carro,casa blanca,casino,castillo,catalina,catedral,centro comercial,centro de salud,ciudad universitaria,claro,coco,combate,cometa,concordia,constancia,consumo,correo,costco,cristina,cristobal,cuba,cueva,cuevas,de diego,del carmen,del sol,delgado,delicias,dentista,deportivo,destino,doctor,dorado,duque,edificio,edificio a,el alto,el banco,el bosque,el cachete,el carmen,el centro,el cerro,el chino,el corte,el lago,el mono,el negro,el ojo,el parque,el punto,el recreo,el saco,el sombrero,el taller,el valle,el verde,elizabeth,encantada,entrada,escaleras,escuela,esperanza,espinosa,estacionamiento,estadio,estudiantes,express,factor,fajardo,farmacia,fernandez,flamenco,florida,fortuna,fraternidad,freire,fuerte,funeraria,garaje,garcia,genesis,gimnasio,girasol,gomez,goya,guayama,guitarra,gutierrez,gym,home depot,honduras,house,huerto,humacao,indios,ingenio,irlanda,israel,jardines,joan,josefina,juliana,junio,kennedy,korea,la arena,la barra,la boca,la cadena,la capital,la casa blanca,la cima,la coca,la esperanza,la esquina,la fama,la fe,la fortaleza,la fuente,la glorieta,la guitarra,la joya,la junta,la luna,la madre,la marina,la mesa,la mina,la nasa,la parada,la paz,la perla,la piedra,la piscina,la plata,la playa,la plaza,la plena,la princesa,la principal,la quinta,la rambla,la respuesta,la roca,la romana,la rosa,la silla,la soledad,la terraza,la torre,la vista,laboratorio,las casas,las flores,las mesas,las palmas,las piedras,las torres,las vegas,laura,lechuga,llanos,lomas,los angeles,los chinos,los maestros,los morales,los muchachos,los muertos,los perros,los pinos,los restos,luna,madrid,magdalena,maldonado,mango,mantenimiento,mares,margarita,maria antonia,mariana,marina,marquez,marta,master,matias,mayo,mcdonald's,medina,melendez,mendoza,mercado,mia,miel,milagros,mirador,miraflores,miranda,monterrey,mora,morales,muro,museo,nadal,negrito,nuevo,obrero,oficina,olimpo,oliver,oriental,oriente,padilla,palma,palmas,paloma,palomas,paris,pasos,paulina,pena,pica,pico,piedra,piola,piscina,pista,platos,playa,pollera,ponce,preciosa,princesa,principal,providencia,pueblo,puerto rico,puma,quebrada,quintana,quinto,ramos,rebeca,recio,reparto,res,residencia,residencias,restaurante,rio,robles,roma,roosevelt,rosario,salazar,salinas,salon,salva,san antonio,san carlos,san cristobal,san diego,san felipe,san fernando,san francisco,san isidro,san jose,san juan,san lorenzo,san luis,san miguel,san pedro,san rafael,san salvador,san vicente,santa ana,santa cruz,santa elena,santa marta,santa rosa,santana,santander,santiago,santo domingo,school,segui,seguridad,serrano,set,sevilla,silvia,singapur,sobrino,sofia,sol,sosa,starbucks,suarez,supermercado,teatro,tiburones,toledo,torres,total,toyota,track,union,valencia,varela,vayas,vega baja,vegas,venezuela,vereda,victoria,vidal,vietnam,visitantes,vista hermosa,vives,walmart,yabucoa\n"
     ]
    }
   ],
   "source": [
    "# 95 percentile cutoff?\n",
    "cutoff_percentile = 95\n",
    "cutoff = pd.np.percentile(dtm_sum, cutoff_percentile)\n",
    "dtm_overlap_cutoff = dtm_overlap[dtm_overlap >= cutoff]\n",
    "print('%d overlap words over cutoff %.3E'%(len(dtm_overlap_cutoff), cutoff))\n",
    "# print(dtm_overlap_cutoff.head(50))\n",
    "print(','.join(sorted(dtm_overlap_cutoff.index.tolist())))"
   ]
  },
  {
   "cell_type": "markdown",
   "metadata": {},
   "source": [
    "Hmm...this is good because of all the common words it elmiinates:\n",
    "\n",
    "- `abandonado`\n",
    "- `amigo`\n",
    "- `la plaza`\n",
    "- `total`\n",
    "\n",
    "But it's bad because of how many toponyms it eliminates:\n",
    "\n",
    "- `caribe`\n",
    "- `olimpo` (neighborhood)\n",
    "- `padilla` (city)\n",
    "- `paris` (city)"
   ]
  },
  {
   "cell_type": "markdown",
   "metadata": {},
   "source": [
    "Stronger cutoff?"
   ]
  },
  {
   "cell_type": "code",
   "execution_count": 76,
   "metadata": {},
   "outputs": [
    {
     "name": "stdout",
     "output_type": "stream",
     "text": [
      "162 overlap words over cutoff 2.632E-06\n",
      "aaa,alianza,amado,amigo,angel,asilo,barcelona,buenos aires,calle y,camino,camino a,cancha,caribe,carmen,carolina,carro,castillo,centro comercial,claro,coco,combate,consumo,correo,cristina,cuba,deportivo,destino,doctor,edificio,el banco,el cachete,el centro,el ojo,el parque,el punto,elizabeth,entrada,escuela,esperanza,espinosa,estadio,estudiantes,fajardo,fortuna,fuerte,garcia,gimnasio,gomez,gutierrez,gym,honduras,israel,la barra,la boca,la cadena,la capital,la esperanza,la esquina,la fe,la fuente,la junta,la luna,la madre,la mesa,la mina,la parada,la paz,la plata,la playa,la plaza,la respuesta,la torre,la vista,las casas,las mesas,las palmas,las vegas,laura,lomas,los morales,los muertos,los perros,los pinos,luna,madrid,magdalena,maldonado,mantenimiento,margarita,mariana,marina,marta,mayo,medina,melendez,mendoza,mercado,mia,miel,milagros,miranda,monterrey,mora,morales,muro,museo,nuevo,obrero,oficina,oriental,oriente,padilla,palmas,pasos,pena,pico,piedra,piola,piscina,pista,playa,ponce,preciosa,princesa,principal,pueblo,puerto rico,puma,ramos,restaurante,rio,roma,rosario,salinas,salva,san antonio,san diego,san francisco,san juan,san lorenzo,san luis,san miguel,san pedro,santa cruz,santander,santiago,segui,seguridad,set,sevilla,sobrino,sol,teatro,torres,total,valencia,vayas,vegas,venezuela,victoria,vidal,vives\n"
     ]
    }
   ],
   "source": [
    "# 95 percentile cutoff?\n",
    "cutoff_percentile = 99\n",
    "cutoff = pd.np.percentile(dtm_sum, cutoff_percentile)\n",
    "dtm_overlap_cutoff = dtm_overlap[dtm_overlap >= cutoff]\n",
    "print('%d overlap words over cutoff %.3E'%(len(dtm_overlap_cutoff), cutoff))\n",
    "print(','.join(sorted(dtm_overlap_cutoff.index.tolist())))"
   ]
  },
  {
   "cell_type": "markdown",
   "metadata": {},
   "source": [
    "This looks a little less bad:\n",
    "\n",
    "- `amigo`\n",
    "- `camino`\n",
    "- `doctor`\n",
    "- `el centro`\n",
    "- `gym`\n",
    "- `la playa`\n",
    "- `museo`\n",
    "- `nuevo`\n",
    "- `puerto rico`\n",
    "- `rio`\n",
    "- `san juan`\n",
    "\n",
    "If we make exceptions for municipalities (`caribe`, `padilla`, `ponce`) then this should work."
   ]
  },
  {
   "cell_type": "code",
   "execution_count": 52,
   "metadata": {},
   "outputs": [
    {
     "name": "stdout",
     "output_type": "stream",
     "text": [
      ":       0.046018\n",
      "rt      0.042193\n",
      "de      0.035021\n",
      ".       0.027075\n",
      ",       0.025666\n",
      "en      0.021438\n",
      "la      0.020069\n",
      "que     0.019906\n",
      "a       0.018819\n",
      "y       0.017381\n",
      "…       0.016727\n",
      "el      0.016289\n",
      "�       0.013183\n",
      "no      0.011931\n",
      "!       0.009789\n",
      "por     0.008774\n",
      "se      0.008716\n",
      "los     0.008267\n",
      "para    0.007046\n",
      "es      0.006874\n",
      "dtype: float64\n"
     ]
    }
   ],
   "source": [
    "tf_series = pd.Series(tf).sort_values(inplace=False, ascending=False)\n",
    "tf_norm = tf_series / tf_series.sum()\n",
    "print(tf_norm.head(20))"
   ]
  },
  {
   "cell_type": "code",
   "execution_count": null,
   "metadata": {},
   "outputs": [],
   "source": []
  }
 ],
 "metadata": {
  "kernelspec": {
   "display_name": "Python 2",
   "language": "python",
   "name": "python2"
  },
  "language_info": {
   "codemirror_mode": {
    "name": "ipython",
    "version": 2
   },
   "file_extension": ".py",
   "mimetype": "text/x-python",
   "name": "python",
   "nbconvert_exporter": "python",
   "pygments_lexer": "ipython2",
   "version": "2.7.10"
  }
 },
 "nbformat": 4,
 "nbformat_minor": 2
}
