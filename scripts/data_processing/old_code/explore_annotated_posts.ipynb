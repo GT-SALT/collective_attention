{
 "cells": [
  {
   "cell_type": "markdown",
   "metadata": {},
   "source": [
    "# Explore annotated posts\n",
    "Out of the posts that Ian annotated as containing toponyms:\n",
    "\n",
    "- how many contain at least one toponym?\n",
    "- what is the distribution over unique toponyms?\n",
    "\n",
    "We want to know what the distribution will probably look like over the entire corpus."
   ]
  },
  {
   "cell_type": "code",
   "execution_count": 13,
   "metadata": {},
   "outputs": [],
   "source": [
    "import codecs\n",
    "from data_helpers import extract_annotations, extract_topo_annotations\n",
    "import matplotlib\n",
    "%matplotlib inline\n",
    "import matplotlib.pyplot as plt\n",
    "import numpy as np"
   ]
  },
  {
   "cell_type": "markdown",
   "metadata": {},
   "source": [
    "## Load data"
   ]
  },
  {
   "cell_type": "code",
   "execution_count": 10,
   "metadata": {},
   "outputs": [
    {
     "name": "stdout",
     "output_type": "stream",
     "text": [
      "[u'Las ayudas donde estan parando ?', u'@Clandestino te agararon de toalla pa limpiarle el nombre al otro ... Recuerda que tu vives del pueblo y lo que hiso el se\\xf1or Narmito Representante desde la luna se notava que era para su uso personal VIP ! @Clandestino consejo no metas tus manos al fuego por algien recuerda que tu eres lo q eres gracias al pueblo despues de 3 dias da cara 2 verciones de amistad 1 video y la gente pasando habre y sed ! ! ?? ?? ?? ?? DESPUES QUE PASAN EL VIDEO REPARTE LOS SUMINISTROS ESA MISMA NOCHE CUANDO SUPUESTAMENTE LOS ESTABA GUARDANDO PAL OTRO DIA ?? ?? ?? ?? ?? ?? Narmito Ortiz CHARLATANahhhh bloqueenme este tambie . l .', u'Ma\\xf1ana van a [[Corozal]]{CITY} ! Tienes que ver el v\\xeddeo ! ! #uni1porpuertorico', u'Alguien sabe de Juan Antonio ( Tony ) Colon ?', u'Esta es parte de mi familia mi hermano Emanuel Rojas ( nolito / nolo ) mi hermana Liz y mi madre Asuncion Hernandez ( sunty ) viven en el Barrio [[San Antonio]]{CITY} sector las arenas [[callejon]]{TOPO} de los [[Medina]]{TOPO} si alguien save oh a hablado con alg 0 de ellos por favor dejenmelo saver . Les estare eternamente agradecida', u'SI ESTAS EN [[VEGA ALTA]]{CITY} Y TIENES NESESIDAD DE ALIMENTOS LLAMA A MINISTERIO DE AYUDA AL NECESITADO 787-737-0271', u'Alguien tiene informaci\\xf3n de [[R\\xedo Abajo]]{CITY/TOPO} y [[Vista Monte]]{TOPO} . Por favor .', u'Alguien ha tenido suerte consiguiendo vuelos para la semana entrante ? De SJ a Miami , NY , etc .', u'No se nada del mi familia del helechal mi mama es esposa del Dr cacas del [[Barranquitas]]{CITY} si alguien sabe del porfavor contact me please', u'Me gustar\\xeda saber si mi t\\xedo To\\xf1o Toro , y todos mis primos Toros est\\xe1n bien ellos la mayor\\xeda son de [[palmarejos]]{CITY}']\n",
      "[[], [], [(u'Corozal', u'CITY')], [], [(u'San Antonio', u'CITY'), (u'callejon', u'TOPO'), (u'Medina', u'TOPO')], [(u'VEGA ALTA', u'CITY')], [(u'Vista Monte', u'TOPO')], [], [(u'Barranquitas', u'CITY')], [(u'palmarejos', u'CITY')]]\n"
     ]
    }
   ],
   "source": [
    "annotation_file = '../../data/facebook-maria/all_group_sample_statuses_annotated.txt'\n",
    "annotation_lines = [l.strip().split('\\t')[1] for l in codecs.open(annotation_file, 'r', encoding='utf-8')]\n",
    "annotations = extract_topo_annotations(annotation_lines)\n",
    "print(annotation_lines[:10])\n",
    "print(annotations[:10])"
   ]
  },
  {
   "cell_type": "markdown",
   "metadata": {},
   "source": [
    "## Number of toponyms per post"
   ]
  },
  {
   "cell_type": "code",
   "execution_count": 48,
   "metadata": {},
   "outputs": [
    {
     "data": {
      "image/png": "[encoded data removed]",
      "text/plain": [
       "<matplotlib.figure.Figure at 0x7f43ec880350>"
      ]
     },
     "metadata": {},
     "output_type": "display_data"
    }
   ],
   "source": [
    "topo_counts = np.array(map(len, annotations))\n",
    "bins = len(np.unique(topo_counts))+2\n",
    "counts, bin_splits = np.histogram(topo_counts, bins=bins)\n",
    "plt.hist(topo_counts, bins=bins)\n",
    "plt.xlabel('Toponyms per post')\n",
    "plt.ylabel('Posts')\n",
    "plt.show()"
   ]
  },
  {
   "cell_type": "code",
   "execution_count": 47,
   "metadata": {},
   "outputs": [
    {
     "data": {
      "image/png": "[encoded data removed]",
      "text/plain": [
       "<matplotlib.figure.Figure at 0x7f43ec7f2550>"
      ]
     },
     "metadata": {},
     "output_type": "display_data"
    }
   ],
   "source": [
    "from __future__ import division\n",
    "# percents\n",
    "topo_pct_list = counts / counts.sum()\n",
    "plt.bar(bin_splits[:-1]+.5, topo_pct_list, width=1)\n",
    "plt.xlabel('Toponyms per post')\n",
    "plt.ylabel('% posts')\n",
    "plt.show()"
   ]
  },
  {
   "cell_type": "code",
   "execution_count": 28,
   "metadata": {},
   "outputs": [
    {
     "name": "stdout",
     "output_type": "stream",
     "text": [
      "0.0     184\n",
      "1.0     144\n",
      "2.0      90\n",
      "3.0      46\n",
      "4.0      22\n",
      "5.0       6\n",
      "6.0       2\n",
      "7.0       1\n",
      "8.0       0\n",
      "9.0       3\n",
      "10.0      0\n",
      "11.0      2\n",
      "dtype: int64\n"
     ]
    }
   ],
   "source": [
    "import pandas as pd\n",
    "topo_count_series = pd.Series(dict(zip(bin_splits, counts)))\n",
    "print(topo_count_series)"
   ]
  },
  {
   "cell_type": "markdown",
   "metadata": {},
   "source": [
    "What does this look like if we take out the UNK toponyms?"
   ]
  },
  {
   "cell_type": "code",
   "execution_count": 69,
   "metadata": {},
   "outputs": [
    {
     "data": {
      "image/png": "[encoded data removed]",
      "text/plain": [
       "<matplotlib.figure.Figure at 0x7f445a083a90>"
      ]
     },
     "metadata": {},
     "output_type": "display_data"
    },
    {
     "name": "stdout",
     "output_type": "stream",
     "text": [
      "0.0     202\n",
      "1.0     161\n",
      "2.0      83\n",
      "3.0      30\n",
      "4.0      14\n",
      "5.0       4\n",
      "6.0       2\n",
      "7.0       0\n",
      "8.0       2\n",
      "9.0       1\n",
      "10.0      1\n",
      "dtype: int64\n"
     ]
    }
   ],
   "source": [
    "non_unk_annotations = map(lambda x: filter(lambda y: y[1]!='UNK', x), annotations)\n",
    "non_unk_topo_counts = map(len, non_unk_annotations)\n",
    "bins = len(np.unique(non_unk_topo_counts))+1\n",
    "non_unk_counts, bin_splits = np.histogram(non_unk_topo_counts, bins=bins)\n",
    "plt.hist(non_unk_topo_counts, bins=bins)\n",
    "plt.xlabel('Toponyms per post')\n",
    "plt.ylabel('Posts')\n",
    "plt.show()\n",
    "non_unk_topo_count_series = pd.Series(dict(zip(bin_splits, non_unk_counts)))\n",
    "print(non_unk_topo_count_series)"
   ]
  },
  {
   "cell_type": "code",
   "execution_count": 59,
   "metadata": {},
   "outputs": [
    {
     "data": {
      "image/png": "[encoded data removed]",
      "text/plain": [
       "<matplotlib.figure.Figure at 0x7f43d82fc910>"
      ]
     },
     "metadata": {},
     "output_type": "display_data"
    }
   ],
   "source": [
    "non_unk_topo_pct_list = non_unk_counts / non_unk_counts.sum()\n",
    "plt.bar(bin_splits[:-1]+.5, non_unk_topo_pct_list, width=1)\n",
    "plt.xlabel('Toponyms per post')\n",
    "plt.ylabel('% posts')\n",
    "plt.show()"
   ]
  },
  {
   "cell_type": "markdown",
   "metadata": {},
   "source": [
    "Still holding strong at 60% of posts with at least one valid toponym!"
   ]
  },
  {
   "cell_type": "markdown",
   "metadata": {},
   "source": [
    "## Unique toponym counts"
   ]
  },
  {
   "cell_type": "code",
   "execution_count": 70,
   "metadata": {},
   "outputs": [],
   "source": [
    "from collections import Counter\n",
    "mention_counter = Counter()\n",
    "type_counter = Counter()\n",
    "for annotation_list in non_unk_annotations:\n",
    "    if(len(annotation_list) > 0):\n",
    "        topo_mentions, topo_types = zip(*annotation_list)\n",
    "        mention_counter.update(topo_mentions)\n",
    "        type_counter.update(topo_types)"
   ]
  },
  {
   "cell_type": "code",
   "execution_count": 71,
   "metadata": {},
   "outputs": [
    {
     "name": "stdout",
     "output_type": "stream",
     "text": [
      "[(u'Guayama', 26), (u'Vega Alta', 20), (u'Ponce', 15), (u'Coamo', 14), (u'Yabucoa', 11), (u'Lajas', 11), (u'Utuado', 11), (u'Vega Baja', 10), (u'Quebradillas', 9), (u'Barranquitas', 8)]\n",
      "[(u'CITY', 365), (u'TOPO', 176)]\n"
     ]
    }
   ],
   "source": [
    "print(mention_counter.most_common(10))\n",
    "print(type_counter.most_common(10))"
   ]
  },
  {
   "cell_type": "code",
   "execution_count": 72,
   "metadata": {},
   "outputs": [
    {
     "name": "stdout",
     "output_type": "stream",
     "text": [
      "Guayama                           26\n",
      "Vega Alta                         20\n",
      "Ponce                             15\n",
      "Coamo                             14\n",
      "Yabucoa                           11\n",
      "Lajas                             11\n",
      "Utuado                            11\n",
      "Vega Baja                         10\n",
      "Quebradillas                       9\n",
      "Barranquitas                       8\n",
      "Corozal                            7\n",
      "San Juan                           7\n",
      "Cidra                              7\n",
      "Cayey                              7\n",
      "coamo                              6\n",
      "Pueblo                             5\n",
      "San Antonio                        4\n",
      "Patillas                           4\n",
      "Marin                              4\n",
      "Isabela                            4\n",
      "Naranjito                          4\n",
      "quebradillas                       4\n",
      "Carolina                           3\n",
      "Arroyo                             3\n",
      "vega baja                          3\n",
      "Mulas                              3\n",
      "Helechal                           3\n",
      "Aguadilla                          3\n",
      "Hayales                            2\n",
      "calle 3                            2\n",
      "                                  ..\n",
      "caguas                             1\n",
      "calabaza                           1\n",
      "calle 1                            1\n",
      "calle 2                            1\n",
      "barrancas                          1\n",
      "calle 21                           1\n",
      "calle 4                            1\n",
      "calle 5                            1\n",
      "calle 7                            1\n",
      "calle 9                            1\n",
      "calle A                            1\n",
      "barranquitas                       1\n",
      "azabache                           1\n",
      "Tuque                              1\n",
      "Valles De Guayama                  1\n",
      "Urbanización . Treasure Valley     1\n",
      "Urbanización Jaime C Rodriguez     1\n",
      "Urbanización La Pradera            1\n",
      "Urbanización Manuel J Rivera       1\n",
      "VA                                 1\n",
      "VB                                 1\n",
      "Viejo San Juan                     1\n",
      "aguas buenas                       1\n",
      "Villa Parguera                     1\n",
      "Villa Real                         1\n",
      "Villa del Rosario                  1\n",
      "Villalba                           1\n",
      "Vista del Sol                      1\n",
      "aeropuerto Rafael Hernández        1\n",
      "4 calle                            1\n",
      "Length: 319, dtype: int64\n"
     ]
    }
   ],
   "source": [
    "mention_count_series = pd.Series(mention_counter).sort_values(inplace=False, ascending=False)\n",
    "print(mention_count_series)"
   ]
  },
  {
   "cell_type": "code",
   "execution_count": 74,
   "metadata": {},
   "outputs": [
    {
     "name": "stdout",
     "output_type": "stream",
     "text": [
      "257 count-1 toponyms\n"
     ]
    }
   ],
   "source": [
    "# estimating the long tail\n",
    "print('%d count-1 toponyms'%(len(mention_count_series[mention_count_series==1])))"
   ]
  },
  {
   "cell_type": "markdown",
   "metadata": {},
   "source": [
    "That's a long tail! Out of the 319 unique toponyms, 257 appear only once (81%)."
   ]
  },
  {
   "cell_type": "code",
   "execution_count": 78,
   "metadata": {},
   "outputs": [],
   "source": [
    "from unidecode import unidecode\n",
    "# double-check for lowercase, accent-stripping\n",
    "norm_annotations = map(lambda x: map(lambda y: (unidecode(y[0]).lower(), y[1]), x), non_unk_annotations)\n",
    "norm_mention_counter = Counter()\n",
    "for annotation_list in norm_annotations:\n",
    "    if(len(annotation_list) > 0):\n",
    "        topo_mentions, _ = zip(*annotation_list)\n",
    "        norm_mention_counter.update(topo_mentions)"
   ]
  },
  {
   "cell_type": "code",
   "execution_count": 79,
   "metadata": {},
   "outputs": [
    {
     "name": "stdout",
     "output_type": "stream",
     "text": [
      "[('guayama', 28), ('vega alta', 23), ('coamo', 20), ('ponce', 15), ('yabucoa', 13), ('quebradillas', 13), ('vega baja', 13), ('utuado', 12), ('lajas', 12), ('barranquitas', 9)]\n"
     ]
    }
   ],
   "source": [
    "print(norm_mention_counter.most_common(10))"
   ]
  },
  {
   "cell_type": "code",
   "execution_count": 80,
   "metadata": {},
   "outputs": [
    {
     "name": "stdout",
     "output_type": "stream",
     "text": [
      "guayama                    28\n",
      "vega alta                  23\n",
      "coamo                      20\n",
      "ponce                      15\n",
      "vega baja                  13\n",
      "yabucoa                    13\n",
      "quebradillas               13\n",
      "utuado                     12\n",
      "lajas                      12\n",
      "barranquitas                9\n",
      "corozal                     8\n",
      "cidra                       8\n",
      "cayey                       7\n",
      "san juan                    7\n",
      "pueblo                      6\n",
      "isabela                     5\n",
      "naranjito                   5\n",
      "marin                       4\n",
      "san antonio                 4\n",
      "corazon                     4\n",
      "bayamon                     4\n",
      "patillas                    4\n",
      "arroyo                      3\n",
      "helechal                    3\n",
      "aguadilla                   3\n",
      "mulas                       3\n",
      "borinquen                   3\n",
      "calle cementerio            3\n",
      "carolina                    3\n",
      "pulguillas                  2\n",
      "                           ..\n",
      "llano                       1\n",
      "llanos                      1\n",
      "monte santo                 1\n",
      "pasto                       1\n",
      "pastillo                    1\n",
      "paso palmas                 1\n",
      "palos blanco                1\n",
      "palenque                    1\n",
      "orocoviz                    1\n",
      "orocovis                    1\n",
      "ojo de agua                 1\n",
      "naranjales                  1\n",
      "mulitas                     1\n",
      "morovi                      1\n",
      "montellanos                 1\n",
      "monte carlo                 1\n",
      "los cocos                   1\n",
      "miramar                     1\n",
      "melania                     1\n",
      "medina                      1\n",
      "mayaquez                    1\n",
      "mavilla                     1\n",
      "maricao                     1\n",
      "mansiones del atlantico     1\n",
      "los sauces                  1\n",
      "los potes                   1\n",
      "los pinos                   1\n",
      "los naranjos                1\n",
      "los llanos                  1\n",
      "4 calle                     1\n",
      "Length: 288, dtype: int64\n"
     ]
    }
   ],
   "source": [
    "norm_mention_count_series = pd.Series(norm_mention_counter).sort_values(inplace=False, ascending=False)\n",
    "print(norm_mention_count_series)"
   ]
  },
  {
   "cell_type": "code",
   "execution_count": 81,
   "metadata": {},
   "outputs": [
    {
     "name": "stdout",
     "output_type": "stream",
     "text": [
      "222 count-1 toponyms\n"
     ]
    }
   ],
   "source": [
    "print('%d count-1 toponyms'%(len(norm_mention_count_series[norm_mention_count_series==1])))"
   ]
  },
  {
   "cell_type": "markdown",
   "metadata": {},
   "source": [
    "Again, a high proportion (77%) of one-occurrence toponyms."
   ]
  },
  {
   "cell_type": "markdown",
   "metadata": {},
   "source": [
    "Plot for posterity."
   ]
  },
  {
   "cell_type": "code",
   "execution_count": 84,
   "metadata": {},
   "outputs": [
    {
     "name": "stdout",
     "output_type": "stream",
     "text": [
      "1     222\n",
      "2      37\n",
      "3       7\n",
      "4       5\n",
      "13      3\n",
      "12      2\n",
      "8       2\n",
      "7       2\n",
      "5       2\n",
      "28      1\n",
      "23      1\n",
      "20      1\n",
      "15      1\n",
      "9       1\n",
      "6       1\n",
      "dtype: int64\n"
     ]
    }
   ],
   "source": [
    "print(norm_mention_count_series.value_counts())"
   ]
  },
  {
   "cell_type": "code",
   "execution_count": 94,
   "metadata": {},
   "outputs": [
    {
     "data": {
      "image/png": "[encoded data removed]",
      "text/plain": [
       "<matplotlib.figure.Figure at 0x7f43d825c210>"
      ]
     },
     "metadata": {},
     "output_type": "display_data"
    }
   ],
   "source": [
    "norm_mention_count_frequencies = norm_mention_count_series.value_counts()\n",
    "plt.bar(norm_mention_count_frequencies.index.values + .5, norm_mention_count_frequencies, width=1)\n",
    "plt.xlabel('Toponym count')\n",
    "plt.show()"
   ]
  },
  {
   "cell_type": "markdown",
   "metadata": {},
   "source": [
    "Let's fit a Zipf distribution so that we can extrapolate about how the distribution will look for $N=20,000$ posts."
   ]
  },
  {
   "cell_type": "code",
   "execution_count": 106,
   "metadata": {},
   "outputs": [
    {
     "data": {
      "image/png": "[encoded data removed]",
      "text/plain": [
       "<matplotlib.figure.Figure at 0x7f43d8303110>"
      ]
     },
     "metadata": {},
     "output_type": "display_data"
    }
   ],
   "source": [
    "# log-log rank vs. frequency plot\n",
    "norm_mention_count_series_rank = np.arange(1,len(norm_mention_count_series)+1)\n",
    "plt.loglog(norm_mention_count_series_rank, norm_mention_count_series)\n",
    "plt.xlabel('Rank')\n",
    "plt.ylabel('Frequency')\n",
    "plt.show()"
   ]
  },
  {
   "cell_type": "markdown",
   "metadata": {},
   "source": [
    "Looks like good old Zipf."
   ]
  },
  {
   "cell_type": "code",
   "execution_count": 132,
   "metadata": {},
   "outputs": [
    {
     "name": "stdout",
     "output_type": "stream",
     "text": [
      "5.04396638423\n",
      "0.0209457004035\n"
     ]
    }
   ],
   "source": [
    "from __future__ import division\n",
    "from scipy.optimize import curve_fit\n",
    "from scipy.special import zetac\n",
    "\n",
    "def zipf(x, a):\n",
    "    return (x**-a)/zetac(a)\n",
    "counts_estimate = curve_fit(zipf, norm_mention_count_series_rank, norm_mention_count_series, p0=[0.0])\n",
    "params, cov = counts_estimate\n",
    "a = params[0]\n",
    "cov = cov[0][0]\n",
    "print(a)\n",
    "print(cov)"
   ]
  },
  {
   "cell_type": "code",
   "execution_count": 155,
   "metadata": {},
   "outputs": [],
   "source": [
    "counts_fit = map(lambda x: zipf(x, a), norm_mention_count_series_rank)"
   ]
  },
  {
   "cell_type": "code",
   "execution_count": 156,
   "metadata": {},
   "outputs": [
    {
     "data": {
      "image/png": "[encoded data removed]",
      "text/plain": [
       "<matplotlib.figure.Figure at 0x7f445a016a50>"
      ]
     },
     "metadata": {},
     "output_type": "display_data"
    }
   ],
   "source": [
    "plt.loglog(norm_mention_count_series_rank, norm_mention_count_series, color='b')\n",
    "plt.loglog(norm_mention_count_series_rank, counts_fit, color='r')\n",
    "plt.xlabel('Rank')\n",
    "plt.ylabel('Frequency')\n",
    "plt.show()"
   ]
  },
  {
   "cell_type": "markdown",
   "metadata": {},
   "source": [
    "That didn't work too great! \n",
    "\n",
    "Should we just fit a linear curve between rank and frequency? That would certainly fit better."
   ]
  },
  {
   "cell_type": "code",
   "execution_count": null,
   "metadata": {},
   "outputs": [],
   "source": []
  }
 ],
 "metadata": {
  "kernelspec": {
   "display_name": "Python 2",
   "language": "python",
   "name": "python2"
  },
  "language_info": {
   "codemirror_mode": {
    "name": "ipython",
    "version": 2
   },
   "file_extension": ".py",
   "mimetype": "text/x-python",
   "name": "python",
   "nbconvert_exporter": "python",
   "pygments_lexer": "ipython2",
   "version": "2.7.10"
  }
 },
 "nbformat": 4,
 "nbformat_minor": 2
}
