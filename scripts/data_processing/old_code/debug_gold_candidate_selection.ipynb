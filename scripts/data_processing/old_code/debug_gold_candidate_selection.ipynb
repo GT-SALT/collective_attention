{
 "cells": [
  {
   "cell_type": "markdown",
   "metadata": {},
   "source": [
    "# Debug gold candidate selection\n",
    "In which we determine why candidate selection is misfiring for the gold toponyms."
   ]
  },
  {
   "cell_type": "code",
   "execution_count": 1,
   "metadata": {},
   "outputs": [],
   "source": [
    "import data_helpers\n",
    "from data_helpers import extract_topo_annotations, load_combined_geo_data, load_filtered_lexicon, organize_topo_annotations, get_edit_dist, load_municipality_data\n",
    "import codecs"
   ]
  },
  {
   "cell_type": "markdown",
   "metadata": {},
   "source": [
    "## Load data"
   ]
  },
  {
   "cell_type": "code",
   "execution_count": 2,
   "metadata": {},
   "outputs": [],
   "source": [
    "topo_annotate_file = '../../data/facebook-maria/all_group_sample_statuses_annotated_topo.txt'\n",
    "topo_annotation_lines = [l.strip() for l in codecs.open(topo_annotate_file, 'r', encoding='utf-8')]\n",
    "topo_annotations = extract_topo_annotations(topo_annotation_lines, include_coords=True)"
   ]
  },
  {
   "cell_type": "code",
   "execution_count": 54,
   "metadata": {},
   "outputs": [],
   "source": [
    "geo_data = load_combined_geo_data()\n",
    "geo_data = geo_data[geo_data.loc[:, 'name'].apply(lambda x: type(x) is str and x != '')]\n",
    "geo_data = geo_data[geo_data.loc[:, 'lat'].apply(lambda x: type(x) is float and not pd.np.isnan(x))]\n",
    "# get filtered lexicon lol\n",
    "geo_lexicon = load_filtered_lexicon()\n",
    "topo_data_df = organize_topo_annotations(topo_annotations)"
   ]
  },
  {
   "cell_type": "markdown",
   "metadata": {},
   "source": [
    "## Get oracle results"
   ]
  },
  {
   "cell_type": "code",
   "execution_count": 12,
   "metadata": {},
   "outputs": [],
   "source": [
    "topo_list = topo_data_df.loc[:, 'topo']\n",
    "gold_labels = topo_data_df.loc[:, 'id'].values.tolist()\n",
    "gold_locs = topo_data_df.loc[:, ['lat','lon']].values.tolist()"
   ]
  },
  {
   "cell_type": "code",
   "execution_count": 5,
   "metadata": {},
   "outputs": [
    {
     "name": "stdout",
     "output_type": "stream",
     "text": [
      "[5184195284, 22196127, 5184329391, 5184329391, 5184329405, 4567576, 5184324841, 22142874, 4564408, 540517197, 540517203, 4304654246, 22255034, 22255043, 4566901, 5185023442, 22248310, 4568235, 371917346, 4568505, 5184366268]\n"
     ]
    }
   ],
   "source": [
    "print(gold_labels)"
   ]
  },
  {
   "cell_type": "markdown",
   "metadata": {},
   "source": [
    "First test: any OOV id numbers??"
   ]
  },
  {
   "cell_type": "code",
   "execution_count": 6,
   "metadata": {},
   "outputs": [],
   "source": [
    "all_ids = geo_data.loc[:, 'id'].values.tolist()\n",
    "for l in gold_labels:\n",
    "    if(l not in all_ids):\n",
    "        print('error with id %d'%(l))"
   ]
  },
  {
   "cell_type": "markdown",
   "metadata": {},
   "source": [
    "OK - we find that the nothing is out of vocabulary. So why is that error happening in our hard-coded tests?"
   ]
  },
  {
   "cell_type": "markdown",
   "metadata": {},
   "source": [
    "Debugging - we've determined that the culprit is the municipality data."
   ]
  },
  {
   "cell_type": "code",
   "execution_count": 7,
   "metadata": {},
   "outputs": [
    {
     "name": "stdout",
     "output_type": "stream",
     "text": [
      "        id   municipality\n",
      "0  4049880        Bayamón\n",
      "1  4049900  Trujillo Alto\n",
      "2  4049922          Ceiba\n",
      "3  4050022          Ponce\n",
      "4  4050076          Ponce\n"
     ]
    }
   ],
   "source": [
    "municipality_id_lookup = load_municipality_data()\n",
    "print(municipality_id_lookup.head())"
   ]
  },
  {
   "cell_type": "code",
   "execution_count": 10,
   "metadata": {},
   "outputs": [],
   "source": [
    "for l in gold_labels:\n",
    "    if(l not in municipality_id_lookup.loc[:, 'id'].values.tolist()):\n",
    "        print('error with id %d'%(l))"
   ]
  },
  {
   "cell_type": "markdown",
   "metadata": {},
   "source": [
    "That's been fixed. But why are the gold candidates getting ranked so low in terms of edit distance??"
   ]
  },
  {
   "cell_type": "markdown",
   "metadata": {},
   "source": [
    "## Edit distance"
   ]
  },
  {
   "cell_type": "markdown",
   "metadata": {},
   "source": [
    "Compute edit distance between name and all other possible toponyms, and compare the relative position of the gold label."
   ]
  },
  {
   "cell_type": "code",
   "execution_count": 39,
   "metadata": {},
   "outputs": [
    {
     "name": "stdout",
     "output_type": "stream",
     "text": [
      "topo name ingenio: gold topo Ingenio 5184195284 ranked 1\n",
      "topo name carretera 104: gold topo Carretera 104 22196127 ranked 0\n",
      "topo name Tres Caminos: gold topo Tres Caminos 5184329391 ranked 0\n",
      "topo name Tres Camino: gold topo Tres Caminos 5184329391 ranked 1\n",
      "topo name la gallera: gold topo La Gallera 5184329405 ranked 0\n",
      "topo name aeropuerto Rafael Hernández: gold topo Rafael Hernandez Airport 4567576 ranked 1797\n",
      "topo name La Sabana: gold topo La Sabana 5184324841 ranked 0\n",
      "topo name Calle Jade: gold topo Calle Jade 22142874 ranked 3\n",
      "topo name escuela Don Manolo: gold topo Escuela Don Manolo 4564408 ranked 0\n",
      "topo name Palmas Bajas: gold topo Quebrada Palmas Bajas 540517197 ranked 18173\n",
      "topo name culebra: gold topo Quebrada Culebra 540517203 ranked 30330\n",
      "topo name Puerto Hermina: gold topo Ruinas de Puerto Herminia 4304654246 ranked 7962\n",
      "topo name Calle 6: gold topo Calle 6 22255034 ranked 498\n",
      "topo name 7: gold topo Calle 7 22255043 ranked 1631\n",
      "topo name Pozuelo: gold topo Punta Pozuelo 4566901 ranked 12848\n",
      "topo name Cayuco: gold topo Cayuco 5185023442 ranked 2\n",
      "topo name calle 4: gold topo Calle 4 22248310 ranked 650\n",
      "topo name Santa Rita: gold topo Santa Rita 4568235 ranked 0\n",
      "topo name las calabaza: gold topo Las Calabazas 371917346 ranked 0\n",
      "topo name Valle Alto: gold topo Valle Alto 4568505 ranked 2\n",
      "topo name punatilla: gold topo La Puntilla 5184366268 ranked 63\n"
     ]
    }
   ],
   "source": [
    "import pandas as pd\n",
    "geo_lexicon = geo_data.loc[:, 'name']\n",
    "for i, r in topo_data_df.iterrows():\n",
    "    topo_name = r.loc['topo']\n",
    "    topo_id = r.loc['id']\n",
    "    edit_dists = get_edit_dist(topo_name, geo_lexicon, word_level=False)\n",
    "    edit_dist_df = pd.DataFrame([geo_data.loc[:, 'id'].values, edit_dists.index.tolist(), edit_dists.values]).transpose()\n",
    "    edit_dist_df.columns = ['id', 'name', 'edit_dist']\n",
    "    edit_dist_df.sort_values('edit_dist', inplace=True, ascending=True)\n",
    "    gold_rank = pd.np.where(edit_dist_df.loc[:, 'id'] == topo_id)[0][0]\n",
    "    gold_name = edit_dist_df[edit_dist_df.loc[:, 'id'] == topo_id].loc[:, 'name'].values[0]\n",
    "    print('topo name %s: gold topo %s %d ranked %d'%(topo_name, gold_name, topo_id, gold_rank))"
   ]
  },
  {
   "cell_type": "code",
   "execution_count": 40,
   "metadata": {},
   "outputs": [
    {
     "name": "stdout",
     "output_type": "stream",
     "text": [
      "topo name ingenio: gold topo ingenio 5184195284 ranked 0\n",
      "topo name carretera 104: gold topo carretera 104 22196127 ranked 0\n",
      "topo name tres caminos: gold topo tres caminos 5184329391 ranked 0\n",
      "topo name tres camino: gold topo tres caminos 5184329391 ranked 1\n",
      "topo name la gallera: gold topo la gallera 5184329405 ranked 0\n",
      "topo name aeropuerto rafael hernández: gold topo rafael hernandez airport 4567576 ranked 6377\n",
      "topo name la sabana: gold topo la sabana 5184324841 ranked 0\n",
      "topo name calle jade: gold topo calle jade 22142874 ranked 15\n",
      "topo name escuela don manolo: gold topo escuela don manolo 4564408 ranked 0\n",
      "topo name palmas bajas: gold topo quebrada palmas bajas 540517197 ranked 19974\n",
      "topo name culebra: gold topo quebrada culebra 540517203 ranked 30954\n",
      "topo name puerto hermina: gold topo ruinas de puerto herminia 4304654246 ranked 7087\n",
      "topo name calle 6: gold topo calle 6 22255034 ranked 608\n",
      "topo name 7: gold topo calle 7 22255043 ranked 1403\n",
      "topo name pozuelo: gold topo punta pozuelo 4566901 ranked 13138\n",
      "topo name cayuco: gold topo cayuco 5185023442 ranked 1\n",
      "topo name calle 4: gold topo calle 4 22248310 ranked 109\n",
      "topo name santa rita: gold topo santa rita 4568235 ranked 3\n",
      "topo name las calabaza: gold topo las calabazas 371917346 ranked 0\n",
      "topo name valle alto: gold topo valle alto 4568505 ranked 1\n",
      "topo name punatilla: gold topo la puntilla 5184366268 ranked 15\n"
     ]
    }
   ],
   "source": [
    "geo_lexicon = geo_data.loc[:, 'name_lower_no_diacritic']\n",
    "for i, r in topo_data_df.iterrows():\n",
    "    topo_name = r.loc['topo'].lower()\n",
    "    topo_id = r.loc['id']\n",
    "    edit_dists = get_edit_dist(topo_name, geo_lexicon, word_level=False)\n",
    "    edit_dist_df = pd.DataFrame([geo_data.loc[:, 'id'].values, edit_dists.index.tolist(), edit_dists.values]).transpose()\n",
    "    edit_dist_df.columns = ['id', 'name', 'edit_dist']\n",
    "    edit_dist_df.sort_values('edit_dist', inplace=True, ascending=True)\n",
    "    gold_rank = pd.np.where(edit_dist_df.loc[:, 'id'] == topo_id)[0][0]\n",
    "    gold_name = edit_dist_df[edit_dist_df.loc[:, 'id'] == topo_id].loc[:, 'name'].values[0]\n",
    "    print('topo name %s: gold topo %s %d ranked %d'%(topo_name, gold_name, topo_id, gold_rank))"
   ]
  },
  {
   "cell_type": "markdown",
   "metadata": {},
   "source": [
    "We've determined that the lower+accent-stripped does slightly better in some cases (`calle 4`, `punatilla`) and worse in others (`calle 6`, `aeropuerto rafael hernández`).\n",
    "\n",
    "What about normalizing edit distance for length?"
   ]
  },
  {
   "cell_type": "code",
   "execution_count": 35,
   "metadata": {},
   "outputs": [],
   "source": [
    "def norm_edit_dist(x, lexicon, word_level=False):\n",
    "    edit_dists = get_edit_dist(x, lexicon, word_level=word_level)\n",
    "    if(word_level):\n",
    "        edit_dists /= pd.np.array(map(lambda y: min(len(x.split(' ')), len(y.split(' '))), lexicon))\n",
    "    else:\n",
    "        edit_dists /= pd.np.array(map(lambda y: min(len(x), len(y)), lexicon))\n",
    "    return edit_dists"
   ]
  },
  {
   "cell_type": "code",
   "execution_count": 38,
   "metadata": {},
   "outputs": [
    {
     "name": "stdout",
     "output_type": "stream",
     "text": [
      "topo name ingenio: gold topo ingenio 5184195284 ranked 1\n",
      "topo name carretera 104: gold topo carretera 104 22196127 ranked 0\n",
      "topo name tres caminos: gold topo tres caminos 5184329391 ranked 1\n",
      "topo name tres camino: gold topo tres caminos 5184329391 ranked 1\n",
      "topo name la gallera: gold topo la gallera 5184329405 ranked 0\n",
      "topo name aeropuerto rafael hernández: gold topo rafael hernandez airport 4567576 ranked 2719\n",
      "topo name la sabana: gold topo la sabana 5184324841 ranked 0\n",
      "topo name calle jade: gold topo calle jade 22142874 ranked 13\n",
      "topo name escuela don manolo: gold topo escuela don manolo 4564408 ranked 0\n",
      "topo name palmas bajas: gold topo quebrada palmas bajas 540517197 ranked 5237\n",
      "topo name culebra: gold topo quebrada culebra 540517203 ranked 32777\n",
      "topo name puerto hermina: gold topo ruinas de puerto herminia 4304654246 ranked 3027\n",
      "topo name calle 6: gold topo calle 6 22255034 ranked 452\n",
      "topo name 7: gold topo calle 7 22255043 ranked 1403\n",
      "topo name pozuelo: gold topo punta pozuelo 4566901 ranked 7978\n",
      "topo name cayuco: gold topo cayuco 5185023442 ranked 1\n",
      "topo name calle 4: gold topo calle 4 22248310 ranked 599\n",
      "topo name santa rita: gold topo santa rita 4568235 ranked 4\n",
      "topo name las calabaza: gold topo las calabazas 371917346 ranked 0\n",
      "topo name valle alto: gold topo valle alto 4568505 ranked 1\n",
      "topo name punatilla: gold topo la puntilla 5184366268 ranked 8\n"
     ]
    }
   ],
   "source": [
    "geo_lexicon = geo_data.loc[:, 'name_lower_no_diacritic']\n",
    "for i, r in topo_data_df.iterrows():\n",
    "    topo_name = r.loc['topo'].lower()\n",
    "    topo_id = r.loc['id']\n",
    "    edit_dists = norm_edit_dist(topo_name, geo_lexicon, word_level=False)\n",
    "    edit_dist_df = pd.DataFrame([geo_data.loc[:, 'id'].values, edit_dists.index.tolist(), edit_dists.values]).transpose()\n",
    "    edit_dist_df.columns = ['id', 'name', 'edit_dist']\n",
    "    edit_dist_df.sort_values('edit_dist', inplace=True, ascending=True)\n",
    "    gold_rank = pd.np.where(edit_dist_df.loc[:, 'id'] == topo_id)[0][0]\n",
    "    gold_name = edit_dist_df[edit_dist_df.loc[:, 'id'] == topo_id].loc[:, 'name'].values[0]\n",
    "    print('topo name %s: gold topo %s %d ranked %d'%(topo_name, gold_name, topo_id, gold_rank))"
   ]
  },
  {
   "cell_type": "markdown",
   "metadata": {},
   "source": [
    "Woah! WIth a few exeptions (`calle 4`) using normalized edit distance helps a lot."
   ]
  },
  {
   "cell_type": "code",
   "execution_count": 42,
   "metadata": {},
   "outputs": [
    {
     "name": "stdout",
     "output_type": "stream",
     "text": [
      "topo name ingenio: gold topo ingenio 5184195284 ranked 1\n",
      "topo name carretera 104: gold topo carretera 104 22196127 ranked 0\n",
      "topo name tres caminos: gold topo tres caminos 5184329391 ranked 1\n",
      "topo name tres camino: gold topo tres caminos 5184329391 ranked 5\n",
      "topo name la gallera: gold topo la gallera 5184329405 ranked 0\n",
      "topo name aeropuerto rafael hernández: gold topo rafael hernandez airport 4567576 ranked 15739\n",
      "topo name la sabana: gold topo la sabana 5184324841 ranked 0\n",
      "topo name calle jade: gold topo calle jade 22142874 ranked 17\n",
      "topo name escuela don manolo: gold topo escuela don manolo 4564408 ranked 0\n",
      "topo name palmas bajas: gold topo quebrada palmas bajas 540517197 ranked 1\n",
      "topo name culebra: gold topo quebrada culebra 540517203 ranked 2528\n",
      "topo name puerto hermina: gold topo ruinas de puerto herminia 4304654246 ranked 54303\n",
      "topo name calle 6: gold topo calle 6 22255034 ranked 346\n",
      "topo name 7: gold topo calle 7 22255043 ranked 4125\n",
      "topo name pozuelo: gold topo punta pozuelo 4566901 ranked 4719\n",
      "topo name cayuco: gold topo cayuco 5185023442 ranked 2\n",
      "topo name calle 4: gold topo calle 4 22248310 ranked 731\n",
      "topo name santa rita: gold topo santa rita 4568235 ranked 2\n",
      "topo name las calabaza: gold topo las calabazas 371917346 ranked 56\n",
      "topo name valle alto: gold topo valle alto 4568505 ranked 0\n",
      "topo name punatilla: gold topo la puntilla 5184366268 ranked 25057\n"
     ]
    }
   ],
   "source": [
    "geo_lexicon = geo_data.loc[:, 'name_lower_no_diacritic']\n",
    "for i, r in topo_data_df.iterrows():\n",
    "    topo_name = r.loc['topo'].lower()\n",
    "    topo_id = r.loc['id']\n",
    "    edit_dists = norm_edit_dist(topo_name, geo_lexicon, word_level=True)\n",
    "    edit_dist_df = pd.DataFrame([geo_data.loc[:, 'id'].values, edit_dists.index.tolist(), edit_dists.values]).transpose()\n",
    "    edit_dist_df.columns = ['id', 'name', 'edit_dist']\n",
    "    edit_dist_df.sort_values('edit_dist', inplace=True, ascending=True)\n",
    "    gold_rank = pd.np.where(edit_dist_df.loc[:, 'id'] == topo_id)[0][0]\n",
    "    gold_name = edit_dist_df[edit_dist_df.loc[:, 'id'] == topo_id].loc[:, 'name'].values[0]\n",
    "    print('topo name %s: gold topo %s %d ranked %d'%(topo_name, gold_name, topo_id, gold_rank))"
   ]
  },
  {
   "cell_type": "code",
   "execution_count": 41,
   "metadata": {},
   "outputs": [
    {
     "name": "stdout",
     "output_type": "stream",
     "text": [
      "topo name ingenio: gold topo Ingenio 5184195284 ranked 1\n",
      "topo name carretera 104: gold topo Carretera 104 22196127 ranked 0\n",
      "topo name tres caminos: gold topo Tres Caminos 5184329391 ranked 0\n",
      "topo name tres camino: gold topo Tres Caminos 5184329391 ranked 1\n",
      "topo name la gallera: gold topo La Gallera 5184329405 ranked 0\n",
      "topo name aeropuerto rafael hernández: gold topo Rafael Hernandez Airport 4567576 ranked 5525\n",
      "topo name la sabana: gold topo La Sabana 5184324841 ranked 0\n",
      "topo name calle jade: gold topo Calle Jade 22142874 ranked 10\n",
      "topo name escuela don manolo: gold topo Escuela Don Manolo 4564408 ranked 0\n",
      "topo name palmas bajas: gold topo Quebrada Palmas Bajas 540517197 ranked 14304\n",
      "topo name culebra: gold topo Quebrada Culebra 540517203 ranked 31074\n",
      "topo name puerto hermina: gold topo Ruinas de Puerto Herminia 4304654246 ranked 15275\n",
      "topo name calle 6: gold topo Calle 6 22255034 ranked 523\n",
      "topo name 7: gold topo Calle 7 22255043 ranked 1631\n",
      "topo name pozuelo: gold topo Punta Pozuelo 4566901 ranked 16153\n",
      "topo name cayuco: gold topo Cayuco 5185023442 ranked 2\n",
      "topo name calle 4: gold topo Calle 4 22248310 ranked 517\n",
      "topo name santa rita: gold topo Santa Rita 4568235 ranked 4\n",
      "topo name las calabaza: gold topo Las Calabazas 371917346 ranked 0\n",
      "topo name valle alto: gold topo Valle Alto 4568505 ranked 3\n",
      "topo name punatilla: gold topo La Puntilla 5184366268 ranked 28\n"
     ]
    }
   ],
   "source": [
    "geo_lexicon = geo_data.loc[:, 'name']\n",
    "for i, r in topo_data_df.iterrows():\n",
    "    topo_name = r.loc['topo'].lower()\n",
    "    topo_id = r.loc['id']\n",
    "    edit_dists = norm_edit_dist(topo_name, geo_lexicon, word_level=False)\n",
    "    edit_dist_df = pd.DataFrame([geo_data.loc[:, 'id'].values, edit_dists.index.tolist(), edit_dists.values]).transpose()\n",
    "    edit_dist_df.columns = ['id', 'name', 'edit_dist']\n",
    "    edit_dist_df.sort_values('edit_dist', inplace=True, ascending=True)\n",
    "    gold_rank = pd.np.where(edit_dist_df.loc[:, 'id'] == topo_id)[0][0]\n",
    "    gold_name = edit_dist_df[edit_dist_df.loc[:, 'id'] == topo_id].loc[:, 'name'].values[0]\n",
    "    print('topo name %s: gold topo %s %d ranked %d'%(topo_name, gold_name, topo_id, gold_rank))"
   ]
  },
  {
   "cell_type": "markdown",
   "metadata": {},
   "source": [
    "Let's use the following settings:\n",
    "\n",
    "- lower+stripped name\n",
    "- character-level edit distance"
   ]
  },
  {
   "cell_type": "code",
   "execution_count": 55,
   "metadata": {},
   "outputs": [
    {
     "name": "stdout",
     "output_type": "stream",
     "text": [
      "        name          id        lat        lon      dist\n",
      "7    ingenio     4565551  18.442170 -66.226000         0\n",
      "8    ingenio  5184195284  18.083412 -65.872931         0\n",
      "159  pinerio  4638639190  18.069854 -67.172194  0.428571\n",
      "56   ansonia   351408612  18.451985 -66.062295  0.571429\n",
      "54    pinero   302349873  18.410700 -66.055386  0.666667\n",
      "gold topo has rank 1\n"
     ]
    }
   ],
   "source": [
    "import data_helpers\n",
    "reload(data_helpers)\n",
    "from data_helpers import geo_lookup\n",
    "test_mention = 'ingenio'\n",
    "test_id = 5184195284\n",
    "top_k = 100\n",
    "geo_lexicon = geo_data.loc[:, 'name_lower_no_diacritic']\n",
    "test_candidates = geo_lookup(test_mention, geo_data, geo_lexicon, word_char=False, k=top_k)\n",
    "print(test_candidates.head())\n",
    "test_rank = pd.np.where(test_candidates.loc[:, 'id'] == test_id)[0][0]\n",
    "print('gold topo has rank %d'%(test_rank))"
   ]
  },
  {
   "cell_type": "markdown",
   "metadata": {},
   "source": [
    "OK great. That is now working less poorly than before.\n",
    "\n",
    "Let's use this setup in the `geo_lookup` function."
   ]
  },
  {
   "cell_type": "markdown",
   "metadata": {},
   "source": [
    "## Sieve function\n",
    "Instead of building a one-stop shop for string similarity, let's build a sieve to catch possible variants:\n",
    "\n",
    "1. Get exact matches.\n",
    "2. Try common substitutions (\"bo\" => \"barrio\", \"aeropuerto\" => \"airport\").\n",
    "3. Compute edit distance, get all candidates with distance k.\n",
    "\n",
    "The results could be messy! We might get 100+ instances of `Calle 4` even if we want to cap at $k=100$. But it makes the most sense for this application."
   ]
  },
  {
   "cell_type": "code",
   "execution_count": 134,
   "metadata": {},
   "outputs": [],
   "source": [
    "from data_helpers import get_norm_edit_dist\n",
    "import re\n",
    "SUB_PAIRS = [('aeropuerto', 'airport'), \n",
    "             ('bo.', 'barrio'),\n",
    "             ('c/', 'calle'), \n",
    "             ('carr', 'carretera')]\n",
    "# get uppercase versions - only if we're not using lowercased names\n",
    "# upper_first = lambda x: x[0].upper() + x[1:]\n",
    "# SUB_PAIRS += map(lambda x: (upper_first(x[0]), upper_first(x[1])), SUB_PAIRS)\n",
    "def get_all_subs(x, sub_pairs):\n",
    "    x_subs = set()\n",
    "    for s1, s2 in sub_pairs:\n",
    "        x_sub = ' '.join(map(lambda y: y.replace(s1, s2), x.split(' ')))\n",
    "        if(x_sub != x):\n",
    "            x_subs.add(x_sub)\n",
    "    return list(x_subs)\n",
    "def sieve(topo_mention, geo_data, name_col='name', edit_dist_cutoff=1., verbose=False):\n",
    "    \"\"\"\n",
    "    Run sieve for toponym candidate generation.\n",
    "    \n",
    "    Parameters:\n",
    "    -----------\n",
    "    topo_mention : str\n",
    "    geo_data : pandas.DataFrame\n",
    "    name_col : str\n",
    "    edit_dist_cutoff : float\n",
    "    Maximum allowed (normalized) edit distance for extra candidates.\n",
    "    verbose : bool\n",
    "    \n",
    "    Returns:\n",
    "    --------\n",
    "    candidates : list\n",
    "    \"\"\"\n",
    "    candidates = []\n",
    "    # exact matches\n",
    "    matches = geo_data[geo_data.loc[:, name_col] == topo_mention].loc[:, 'id'].values.tolist()\n",
    "    candidates += matches\n",
    "    # common substitutes\n",
    "    topo_mention_subs = get_all_subs(topo_mention, SUB_PAIRS)\n",
    "    topo_mention_sub_ids = geo_data[geo_data.loc[:, name_col].isin(topo_mention_subs)].loc[:, 'id'].values.tolist()\n",
    "    candidates += topo_mention_sub_ids\n",
    "    if(len(candidates) == 0):\n",
    "        valid_edit_dist_candidates = geo_data[~ geo_data.loc[:, 'id'].isin(candidates)].loc[:, name_col].unique()\n",
    "        edit_dists = get_norm_edit_dist(topo_mention, valid_edit_dist_candidates).sort_values(inplace=False, ascending=True)\n",
    "        edit_dist_df = pd.DataFrame([edit_dists.index, edit_dists.values], index=['name', 'dist']).transpose()\n",
    "        edit_dist_df = pd.merge(edit_dist_df, geo_data.loc[:, [name_col, 'id']], left_on='name', right_on=name_col)\n",
    "        if(verbose):\n",
    "            print('preliminary edit dist:\\n%s'%(edit_dist_df.head(20)))\n",
    "        edit_dist_cutoff = edit_dist_df[edit_dist_df.loc[:, 'dist'] <= edit_dist_cutoff]\n",
    "        edit_dist_cutoff.sort_values(['dist', 'name'], inplace=True, ascending=True)\n",
    "        edit_candidates = edit_dist_cutoff.loc[:, 'id'].values.tolist()\n",
    "        candidates += edit_candidates\n",
    "    return candidates"
   ]
  },
  {
   "cell_type": "code",
   "execution_count": 103,
   "metadata": {
    "scrolled": true
   },
   "outputs": [
    {
     "name": "stdout",
     "output_type": "stream",
     "text": [
      "7179\n",
      "gold topo at rank 13\n",
      "edit dist 0.444\n"
     ]
    },
    {
     "name": "stderr",
     "output_type": "stream",
     "text": [
      "/hg190/istewart6/crisis_language/lib/python2.7/site-packages/ipykernel_launcher.py:46: SettingWithCopyWarning: \n",
      "A value is trying to be set on a copy of a slice from a DataFrame\n",
      "\n",
      "See the caveats in the documentation: http://pandas.pydata.org/pandas-docs/stable/indexing.html#indexing-view-versus-copy\n"
     ]
    }
   ],
   "source": [
    "gold_name = 'la puntilla'\n",
    "topo_mention = 'punatilla'\n",
    "topo_id = 5184366268\n",
    "sieve_candidates = pd.np.array(sieve(topo_mention, geo_data, name_col='name_lower_no_diacritic', edit_dist_cutoff=1.))\n",
    "print(len(sieve_candidates))\n",
    "topo_rank = pd.np.where(sieve_candidates == topo_id)[0][0]\n",
    "print('gold topo at rank %s'%(topo_rank))\n",
    "print('edit dist %.3f'%(get_norm_edit_dist(gold_name, [topo_mention])[0]))"
   ]
  },
  {
   "cell_type": "markdown",
   "metadata": {},
   "source": [
    "OK! The sieve works decently well. Let's evaluate the cutoff $\\alpha$ based on a score to maximize mean reciprocal rank and minimize irrelevant information (candidate set size) among candidates $C_{t}$ for each toponym $t$.\n",
    "\n",
    "$$score(\\alpha, C) = \\sum_{t \\in T} MRR(t, C_{t}) * \\frac{1}{|C_{t}|}$$"
   ]
  },
  {
   "cell_type": "code",
   "execution_count": 108,
   "metadata": {},
   "outputs": [],
   "source": [
    "from __future__ import division\n",
    "def mean_reciprocal_rank(topo_id, topo_candidates):\n",
    "    # assign MRR=0 to OOV topo ID\n",
    "    if(topo_id not in topo_candidates):\n",
    "        MRR = 0.\n",
    "    else:\n",
    "        topo_rank = pd.np.where(pd.np.array(topo_candidates) == topo_id)[0][0]+1\n",
    "        MRR = 1 / topo_rank\n",
    "    return MRR"
   ]
  },
  {
   "cell_type": "code",
   "execution_count": 138,
   "metadata": {},
   "outputs": [
    {
     "name": "stderr",
     "output_type": "stream",
     "text": [
      "/hg190/istewart6/crisis_language/lib/python2.7/site-packages/ipykernel_launcher.py:50: SettingWithCopyWarning: \n",
      "A value is trying to be set on a copy of a slice from a DataFrame\n",
      "\n",
      "See the caveats in the documentation: http://pandas.pydata.org/pandas-docs/stable/indexing.html#indexing-view-versus-copy\n"
     ]
    },
    {
     "name": "stdout",
     "output_type": "stream",
     "text": [
      "edit dist cutoff 0.100 got mean MRR=0.622, mean candidate set size = 98.438, zeros = 8\n",
      "edit dist cutoff 0.200 got mean MRR=0.622, mean candidate set size = 98.438, zeros = 8\n",
      "edit dist cutoff 0.300 got mean MRR=0.622, mean candidate set size = 93.000, zeros = 8\n",
      "edit dist cutoff 0.400 got mean MRR=0.622, mean candidate set size = 84.105, zeros = 8\n",
      "edit dist cutoff 0.500 got mean MRR=0.583, mean candidate set size = 85.048, zeros = 7\n",
      "edit dist cutoff 0.600 got mean MRR=0.583, mean candidate set size = 113.429, zeros = 7\n",
      "edit dist cutoff 0.700 got mean MRR=0.583, mean candidate set size = 241.333, zeros = 7\n",
      "edit dist cutoff 0.800 got mean MRR=0.510, mean candidate set size = 814.714, zeros = 5\n",
      "edit dist cutoff 0.900 got mean MRR=0.480, mean candidate set size = 2591.619, zeros = 4\n",
      "edit dist cutoff 1.000 got mean MRR=0.480, mean candidate set size = 6021.571, zeros = 4\n",
      "edit dist cutoff 1.100 got mean MRR=0.480, mean candidate set size = 6954.238, zeros = 4\n",
      "edit dist cutoff 1.200 got mean MRR=0.480, mean candidate set size = 9359.571, zeros = 4\n",
      "edit dist cutoff 1.300 got mean MRR=0.480, mean candidate set size = 11471.000, zeros = 4\n",
      "edit dist cutoff 1.400 got mean MRR=0.480, mean candidate set size = 12523.810, zeros = 4\n",
      "edit dist cutoff 1.500 got mean MRR=0.480, mean candidate set size = 13824.429, zeros = 4\n",
      "edit dist cutoff 1.600 got mean MRR=0.480, mean candidate set size = 14685.667, zeros = 4\n",
      "edit dist cutoff 1.700 got mean MRR=0.480, mean candidate set size = 15514.905, zeros = 4\n",
      "edit dist cutoff 1.800 got mean MRR=0.480, mean candidate set size = 16351.143, zeros = 4\n",
      "edit dist cutoff 1.900 got mean MRR=0.480, mean candidate set size = 17409.381, zeros = 4\n",
      "edit dist cutoff 2.000 got mean MRR=0.480, mean candidate set size = 18228.619, zeros = 4\n"
     ]
    }
   ],
   "source": [
    "from unidecode import unidecode\n",
    "cutoff_vals = pd.np.arange(0.1, 2.1, 0.1)\n",
    "MRR_sums = {}\n",
    "candidate_size_sums = {}\n",
    "for edit_dist_cutoff in cutoff_vals:\n",
    "    MRR_sum = 0.\n",
    "    candidate_size_sum = 0.\n",
    "    MRR_vals = []\n",
    "    candidate_sizes = []\n",
    "    zero_sum = 0.\n",
    "    for i, r in topo_data_df.iterrows():\n",
    "        topo_mention = r.loc['topo']\n",
    "        topo_mention_clean = unidecode(topo_mention.lower())\n",
    "        topo_id = r.loc['id']\n",
    "        sieve_candidates = pd.np.array(sieve(topo_mention_clean, geo_data, name_col='name_lower_no_diacritic', edit_dist_cutoff=edit_dist_cutoff))\n",
    "        MRR = mean_reciprocal_rank(topo_id, sieve_candidates)\n",
    "        if(MRR == 0.):\n",
    "            zero_sum += 1\n",
    "        else:\n",
    "            MRR_vals.append(MRR)\n",
    "        candidate_size = len(sieve_candidates)\n",
    "        MRR_sum += MRR\n",
    "        if(candidate_size > 0):\n",
    "            candidate_size_sum += candidate_size ** -1\n",
    "            candidate_sizes.append(candidate_size)\n",
    "    MRR_sums[edit_dist_cutoff] = MRR_sum\n",
    "    candidate_size_sums[edit_dist_cutoff] = candidate_size_sum\n",
    "    MRR_mean = pd.np.mean(MRR_vals)\n",
    "    candidate_size_mean = pd.np.mean(candidate_sizes)\n",
    "    print('edit dist cutoff %.3f got mean MRR=%.3f, mean candidate set size = %.3f, zeros = %d'%\n",
    "          (edit_dist_cutoff, MRR_mean, candidate_size_mean, zero_sum))"
   ]
  },
  {
   "cell_type": "markdown",
   "metadata": {},
   "source": [
    "Where are all these zeros coming from?"
   ]
  },
  {
   "cell_type": "code",
   "execution_count": 136,
   "metadata": {},
   "outputs": [
    {
     "name": "stdout",
     "output_type": "stream",
     "text": [
      "topo mention Tres Camino not represented in 1 candidates\n",
      "preliminary edit dist:\n",
      "                                 name      dist  \\\n",
      "0            escuela rafael hernandez  0.291667   \n",
      "1            escuela rafael hernandez  0.291667   \n",
      "2            escuela rafael hernandez  0.291667   \n",
      "3            escuela rafael hernandez  0.291667   \n",
      "4            escuela rafael hernandez  0.291667   \n",
      "5            escuela rafael hernandez  0.291667   \n",
      "6   escuela superior rafael hernandez  0.407407   \n",
      "7              calle rafael hernandez  0.409091   \n",
      "8              calle rafael hernandez  0.409091   \n",
      "9              calle rafael hernandez  0.409091   \n",
      "10             calle rafael hernandez  0.409091   \n",
      "11             calle rafael hernandez  0.409091   \n",
      "12             calle rafael hernandez  0.409091   \n",
      "13             calle rafael hernandez  0.409091   \n",
      "14             calle rafael hernandez  0.409091   \n",
      "15             calle rafael hernandez  0.409091   \n",
      "16             calle rafael hernandez  0.409091   \n",
      "17             calle rafael hernandez  0.409091   \n",
      "18             calle rafael hernandez  0.409091   \n",
      "19             calle rafael hernandez  0.409091   \n",
      "\n",
      "              name_lower_no_diacritic          id  \n",
      "0            escuela rafael hernandez     4564664  \n",
      "1            escuela rafael hernandez   357267933  \n",
      "2            escuela rafael hernandez  4306469433  \n",
      "3            escuela rafael hernandez  4306469434  \n",
      "4            escuela rafael hernandez  4306469435  \n",
      "5            escuela rafael hernandez  4326870080  \n",
      "6   escuela superior rafael hernandez   406832873  \n",
      "7              calle rafael hernandez    22120572  \n",
      "8              calle rafael hernandez    22155287  \n",
      "9              calle rafael hernandez    22164242  \n",
      "10             calle rafael hernandez    22195212  \n",
      "11             calle rafael hernandez    22205311  \n",
      "12             calle rafael hernandez    22213159  \n",
      "13             calle rafael hernandez    22235787  \n",
      "14             calle rafael hernandez    22238351  \n",
      "15             calle rafael hernandez    22238355  \n",
      "16             calle rafael hernandez    22255753  \n",
      "17             calle rafael hernandez    22707865  \n",
      "18             calle rafael hernandez   420873163  \n",
      "19             calle rafael hernandez   528467136  \n",
      "topo mention aeropuerto Rafael Hernández not represented in 6 candidates\n"
     ]
    },
    {
     "name": "stderr",
     "output_type": "stream",
     "text": [
      "/hg190/istewart6/crisis_language/lib/python2.7/site-packages/ipykernel_launcher.py:50: SettingWithCopyWarning: \n",
      "A value is trying to be set on a copy of a slice from a DataFrame\n",
      "\n",
      "See the caveats in the documentation: http://pandas.pydata.org/pandas-docs/stable/indexing.html#indexing-view-versus-copy\n"
     ]
    },
    {
     "name": "stdout",
     "output_type": "stream",
     "text": [
      "preliminary edit dist:\n",
      "              name      dist name_lower_no_diacritic          id\n",
      "0    palmas barrio  0.333333           palmas barrio     7268722\n",
      "1    palmas barrio  0.333333           palmas barrio     7268723\n",
      "2    palmas barrio  0.333333           palmas barrio     7268724\n",
      "3    palmas barrio  0.333333           palmas barrio     7268725\n",
      "4    palmas reales  0.333333           palmas reales  3799505935\n",
      "5      palma sabal  0.363636             palma sabal   528231851\n",
      "6      palma sabal  0.363636             palma sabal   528231852\n",
      "7    palmar barrio  0.416667           palmar barrio     7268716\n",
      "8   palomas barrio  0.416667          palomas barrio     7268729\n",
      "9     palmas drive  0.416667            palmas drive    22172738\n",
      "10    palmas drive  0.416667            palmas drive   373721836\n",
      "11     calle lajas  0.454545             calle lajas    22129578\n",
      "12     calle lajas  0.454545             calle lajas    22136506\n",
      "13     calle lajas  0.454545             calle lajas   333892438\n",
      "14   manchas banks       0.5           manchas banks     7309541\n",
      "15    aguas buenas       0.5            aguas buenas     4562513\n",
      "16    aguas buenas       0.5            aguas buenas     4562516\n",
      "17    aguas buenas       0.5            aguas buenas  1945982905\n",
      "18    aguas claras       0.5            aguas claras     4562517\n",
      "19    aguas largas       0.5            aguas largas     4562518\n",
      "topo mention Palmas Bajas not represented in 0 candidates\n",
      "topo mention culebra not represented in 3 candidates\n",
      "preliminary edit dist:\n",
      "                name      dist name_lower_no_diacritic         id\n",
      "0       puerto ferro  0.416667            puerto ferro    4566941\n",
      "1       puerto ferro  0.416667            puerto ferro  368381546\n",
      "2     puerto yabucoa  0.428571          puerto yabucoa    4568913\n",
      "3     puerto yabucoa  0.428571          puerto yabucoa  368381527\n",
      "4    puerto parguera  0.428571         puerto parguera  481296474\n",
      "5   quebrada fermina  0.428571        quebrada fermina    4567162\n",
      "6     puertos barrio  0.428571          puertos barrio    7268831\n",
      "7     puerto quijano  0.428571          puerto quijano    4566953\n",
      "8     puerto quijano  0.428571          puerto quijano  368381529\n",
      "9     puerto arecibo  0.428571          puerto arecibo    4566936\n",
      "10    puerto arecibo  0.428571          puerto arecibo  368381526\n",
      "11       puerto rico  0.454545             puerto rico    4566966\n",
      "12       puerto rico  0.454545             puerto rico    4566967\n",
      "13       puerto rico  0.454545             puerto rico    7117066\n",
      "14     puerto arroyo  0.461538           puerto arroyo    4566937\n",
      "15     puerto arroyo  0.461538           puerto arroyo  368381560\n",
      "16     punta sardina  0.461538           punta sardina    4568257\n",
      "17     puente hamaca  0.461538           puente hamaca  401016301\n",
      "18     puente hamaca  0.461538           puente hamaca  431218603\n",
      "19     puente hamaca  0.461538           puente hamaca  431218804\n",
      "topo mention Puerto Hermina not represented in 0 candidates\n",
      "topo mention 7 not represented in 2 candidates\n",
      "preliminary edit dist:\n",
      "        name      dist name_lower_no_diacritic          id\n",
      "0     pueblo       0.5                  pueblo    86311624\n",
      "1     pueblo       0.5                  pueblo   366724400\n",
      "2     pueblo       0.5                  pueblo   743042605\n",
      "3     pueblo       0.5                  pueblo  2018674774\n",
      "4     pueblo       0.5                  pueblo  2991669927\n",
      "5     pueblo       0.5                  pueblo  3584849176\n",
      "6     pueblo       0.5                  pueblo  3894339660\n",
      "7     pueblo       0.5                  pueblo  4604908292\n",
      "8    ensueno  0.571429                 ensueno   527989353\n",
      "9   tosquero  0.571429                tosquero     4568433\n",
      "10   pompeya  0.571429                 pompeya  5184284619\n",
      "11  boqueron  0.571429                boqueron     4562903\n",
      "12  boqueron  0.571429                boqueron     4562904\n",
      "13  boqueron  0.571429                boqueron     4562905\n",
      "14  boqueron  0.571429                boqueron     4562906\n",
      "15  boqueron  0.571429                boqueron  4244815798\n",
      "16  pulguero  0.571429                pulguero  4560405189\n",
      "17   pollera  0.571429                 pollera  4158618698\n",
      "18   pasillo  0.571429                 pasillo    22222269\n",
      "19   poncito  0.571429                 poncito  5169097304\n",
      "topo mention Pozuelo not represented in 0 candidates\n",
      "preliminary edit dist:\n",
      "              name       dist name_lower_no_diacritic          id\n",
      "0    las calabazas  0.0833333           las calabazas   371917346\n",
      "1      las croabas   0.363636             las croabas     4565931\n",
      "2      la catarata   0.363636             la catarata   325216899\n",
      "3      la catarata   0.363636             la catarata   331570004\n",
      "4      las cabezas   0.363636             las cabezas  3180619376\n",
      "5       las claras        0.4              las claras     4565927\n",
      "6   las calandrias   0.416667          las calandrias  5184338273\n",
      "7     la casabella   0.416667            la casabella   290450904\n",
      "8     las cantaras   0.416667            las cantaras     4565922\n",
      "9     las llanadas   0.416667            las llanadas     4565951\n",
      "10     las casitas   0.454545             las casitas    22085736\n",
      "11     las casitas   0.454545             las casitas    22087726\n",
      "12    la mala vida        0.5            la mala vida  2738647626\n",
      "13    la mala vida        0.5            la mala vida  4858649041\n",
      "14   paseo calamar        0.5           paseo calamar    22238602\n",
      "15    las carreras        0.5            las carreras     4565924\n",
      "16   las carolinas        0.5           las carolinas     4565923\n",
      "17   las carolinas        0.5           las carolinas  5167550237\n",
      "18   las carolinas        0.5           las carolinas  5184320722\n",
      "19      la llanada        0.5              la llanada    22107275\n",
      "preliminary edit dist:\n",
      "            name      dist name_lower_no_diacritic          id\n",
      "0      donatella  0.333333               donatella  3180088298\n",
      "1       mantilla     0.375                mantilla     4566156\n",
      "2       mantilla     0.375                mantilla  5169097301\n",
      "3       patillas     0.375                patillas     4566652\n",
      "4       patillas     0.375                patillas  1944811289\n",
      "5        padilla  0.428571                 padilla     4566467\n",
      "6   punta trulla  0.444444            punta trulla     4568456\n",
      "7      aguadilla  0.444444               aguadilla     4562506\n",
      "8      aguadilla  0.444444               aguadilla     4562512\n",
      "9      aguadilla  0.444444               aguadilla  1944452153\n",
      "10    manzanilla  0.444444              manzanilla  5184239582\n",
      "11   la puntilla  0.444444             la puntilla     4566994\n",
      "12   la puntilla  0.444444             la puntilla  5184366268\n",
      "13     monacillo  0.444444               monacillo     4566280\n",
      "14     altavilla  0.444444               altavilla     4562559\n",
      "15    guayanilla  0.444444              guayanilla     4565111\n",
      "16    guayanilla  0.444444              guayanilla  1944677447\n",
      "17      pastillo       0.5                pastillo     4566645\n",
      "18      pastillo       0.5                pastillo     4566646\n",
      "19      pastillo       0.5                pastillo  5169097305\n",
      "topo mention punatilla not represented in 0 candidates\n"
     ]
    }
   ],
   "source": [
    "edit_dist_cutoff = 0.3\n",
    "for i, r in topo_data_df.iterrows():\n",
    "    topo_mention = r.loc['topo']\n",
    "    topo_mention_clean = unidecode(topo_mention.lower())\n",
    "    topo_id = r.loc['id']\n",
    "    sieve_candidates = pd.np.array(sieve(topo_mention_clean, geo_data, name_col='name_lower_no_diacritic', edit_dist_cutoff=edit_dist_cutoff, verbose=True))\n",
    "    MRR = mean_reciprocal_rank(topo_id, sieve_candidates)\n",
    "    if(MRR == 0.):\n",
    "        print('topo mention %s not represented in %d candidates'%(topo_mention, len(sieve_candidates)))"
   ]
  },
  {
   "cell_type": "markdown",
   "metadata": {},
   "source": [
    "Seems like we max out the MRR and candidate set size at edit distance 0.3, so let's use that as our cutoff."
   ]
  },
  {
   "cell_type": "markdown",
   "metadata": {},
   "source": [
    "Here's a better way to do the edit distance stuff: set an initial cutoff ($k=0.3$) and then keep expanding that until we have a decent number of candidates ($c=50$)."
   ]
  },
  {
   "cell_type": "code",
   "execution_count": null,
   "metadata": {},
   "outputs": [],
   "source": [
    "def sieve_expand()"
   ]
  },
  {
   "cell_type": "code",
   "execution_count": null,
   "metadata": {},
   "outputs": [],
   "source": [
    "# same test but with precision/recall\n",
    "for edit_dist_cutoff in cutoff_vals:\n",
    "    for i, r in topo_data_df.iterrows():\n",
    "        topo_mention = r.loc['topo']\n",
    "        topo_id = r.loc['id']\n",
    "        sieve_candidates = pd.np.array(sieve(topo_mention, geo_data, name_col='name_lower_no_diacritic', edit_dist_cutoff=edit_dist_cutoff))\n",
    "        MRR = mean_reciprocal_rank(topo_id, sieve_candidates)\n",
    "        if(MRR == 0.):\n",
    "            zero_sum += 1\n",
    "        candidate_size = len(sieve_candidates)\n",
    "        MRR_sum += MRR\n",
    "        if(candidate_size > 0):\n",
    "            candidate_size_sum += candidate_size ** -1\n",
    "    MRR_sums[edit_dist_cutoff] = MRR_sum\n",
    "    candidate_size_sums[edit_dist_cutoff] = candidate_size_sum\n",
    "    print('edit dist cutoff %.3f got MRR=%.3f, candidate size = %.3f, zeros = %d'%\n",
    "          (edit_dist_cutoff, MRR_sum, candidate_size_sum, zero_sum))"
   ]
  },
  {
   "cell_type": "markdown",
   "metadata": {},
   "source": [
    "TODO: break candidate ranking ties based on geographic distance to group centroid."
   ]
  },
  {
   "cell_type": "code",
   "execution_count": null,
   "metadata": {},
   "outputs": [],
   "source": []
  }
 ],
 "metadata": {
  "kernelspec": {
   "display_name": "Python 2",
   "language": "python",
   "name": "python2"
  },
  "language_info": {
   "codemirror_mode": {
    "name": "ipython",
    "version": 2
   },
   "file_extension": ".py",
   "mimetype": "text/x-python",
   "name": "python",
   "nbconvert_exporter": "python",
   "pygments_lexer": "ipython2",
   "version": "2.7.10"
  }
 },
 "nbformat": 4,
 "nbformat_minor": 2
}
