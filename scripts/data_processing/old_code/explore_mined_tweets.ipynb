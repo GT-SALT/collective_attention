{
 "cells": [
  {
   "cell_type": "markdown",
   "metadata": {},
   "source": [
    "# Explore mined tweets\n",
    "In which we explore the tweets that we've mined to look for ambiguous entities."
   ]
  },
  {
   "cell_type": "code",
   "execution_count": 10,
   "metadata": {
    "collapsed": true
   },
   "outputs": [],
   "source": [
    "import gzip\n",
    "import matplotlib\n",
    "%matplotlib inline\n",
    "import matplotlib.pyplot as plt\n",
    "import json\n",
    "from ast import literal_eval\n",
    "import pandas as pd"
   ]
  },
  {
   "cell_type": "markdown",
   "metadata": {},
   "source": [
    "## Load data"
   ]
  },
  {
   "cell_type": "markdown",
   "metadata": {},
   "source": [
    "We'll start with the historical data mined with hurricane-related hashtags between 8/17/17 and 9/12/17 using [this](https://github.com/Jefferson-Henrique/GetOldTweets-python) handy library."
   ]
  },
  {
   "cell_type": "code",
   "execution_count": 20,
   "metadata": {
    "collapsed": false
   },
   "outputs": [
    {
     "name": "stdout",
     "output_type": "stream",
     "text": [
      "207529 total tweets\n",
      "         username              date retweets favorites  \\\n",
      "1        diane380  2017-09-11 19:59        0         0   \n",
      "2   mccranie_paul  2017-09-11 19:59        0         6   \n",
      "3  HartfordNHNews  2017-09-11 19:59        0         0   \n",
      "4      jpreiser93  2017-09-11 19:59        2         7   \n",
      "5     PoliticalQB  2017-09-11 19:59        0         0   \n",
      "\n",
      "                                                text geo mentions  \\\n",
      "1  \"Je sais pas mais je trouve qu il est stressé,...                \n",
      "2                \"I am wildly bored. #HurricaneIrma\"                \n",
      "3  \"A 360-degree tour of the damage caused by #Hu...                \n",
      "4  \"I will never take electricity for granted eve...                \n",
      "5  \"Hurricane expert Klotzbach: #Irma at landfall...                \n",
      "\n",
      "                                      hashtags                    id  \\\n",
      "1                                        #Irma  \"907393316832071680\"   \n",
      "2                               #HurricaneIrma  \"907393316463026177\"   \n",
      "3                        #HurricaneIrma #Miami  \"907393313921265664\"   \n",
      "4  #HurricaneIrma #AfterIrma #FPL #DelrayBeach  \"907393311211757568\"   \n",
      "5                                        #Irma  \"907393306761547776\"   \n",
      "\n",
      "                                           permalink  \n",
      "1  https://twitter.com/diane380/status/9073933168...  \n",
      "2  https://twitter.com/mccranie_paul/status/90739...  \n",
      "3  https://twitter.com/HartfordNHNews/status/9073...  \n",
      "4  https://twitter.com/jpreiser93/status/90739331...  \n",
      "5  https://twitter.com/PoliticalQB/status/9073933...  \n"
     ]
    }
   ],
   "source": [
    "# start with historical tweet data\n",
    "tweet_file = '../../data/mined_tweets/hurricane_data_2017-08-17_2017-09-12.gz'\n",
    "tweet_data = []\n",
    "for i, l in enumerate(gzip.open(tweet_file, 'r')):\n",
    "    j = l.strip().split('\\t')\n",
    "    tweet_data.append(j)\n",
    "print('%d total tweets'%(len(tweet_data)))\n",
    "tweet_data_df = pd.concat([pd.Series(d) for d in tweet_data], axis=1).transpose()\n",
    "tweet_cols = tweet_data_df.iloc[0, :].tolist()\n",
    "tweet_cols.remove('permalink')\n",
    "tweet_cols.remove(pd.np.nan)\n",
    "tweet_cols += ['id', 'permalink']\n",
    "tweet_data_df.columns = tweet_cols\n",
    "tweet_data_df.drop(0, inplace=True, axis=0)\n",
    "print(tweet_data_df.head())"
   ]
  },
  {
   "cell_type": "markdown",
   "metadata": {},
   "source": [
    "## Look for ambiguity\n",
    "Blunt filter: all tweets with a URL are probably news stories and will not contain ambiguity."
   ]
  },
  {
   "cell_type": "code",
   "execution_count": 43,
   "metadata": {
    "collapsed": false
   },
   "outputs": [],
   "source": [
    "import re\n",
    "url_matcher = re.compile('http\\S+')\n",
    "# url_matcher = re.compile('(?i)\\b((?:https?:(?:/{1,3}|[a-z0-9%])|[a-z0-9.\\-]+[.](?:com|net|org|edu|gov|mil|aero|asia|biz|cat|coop|info|int|jobs|mobi|museum|name|post|pro|tel|travel|xxx|ac|ad|ae|af|ag|ai|al|am|an|ao|aq|ar|as|at|au|aw|ax|az|ba|bb|bd|be|bf|bg|bh|bi|bj|bm|bn|bo|br|bs|bt|bv|bw|by|bz|ca|cc|cd|cf|cg|ch|ci|ck|cl|cm|cn|co|cr|cs|cu|cv|cx|cy|cz|dd|de|dj|dk|dm|do|dz|ec|ee|eg|eh|er|es|et|eu|fi|fj|fk|fm|fo|fr|ga|gb|gd|ge|gf|gg|gh|gi|gl|gm|gn|gp|gq|gr|gs|gt|gu|gw|gy|hk|hm|hn|hr|ht|hu|id|ie|il|im|in|io|iq|ir|is|it|je|jm|jo|jp|ke|kg|kh|ki|km|kn|kp|kr|kw|ky|kz|la|lb|lc|li|lk|lr|ls|lt|lu|lv|ly|ma|mc|md|me|mg|mh|mk|ml|mm|mn|mo|mp|mq|mr|ms|mt|mu|mv|mw|mx|my|mz|na|nc|ne|nf|ng|ni|nl|no|np|nr|nu|nz|om|pa|pe|pf|pg|ph|pk|pl|pm|pn|pr|ps|pt|pw|py|qa|re|ro|rs|ru|rw|sa|sb|sc|sd|se|sg|sh|si|sj|Ja|sk|sl|sm|sn|so|sr|ss|st|su|sv|sx|sy|sz|tc|td|tf|tg|th|tj|tk|tl|tm|tn|to|tp|tr|tt|tv|tw|tz|ua|ug|uk|us|uy|uz|va|vc|ve|vg|vi|vn|vu|wf|ws|ye|yt|yu|za|zm|zw)/)(?:[^\\s()<>{}\\[\\]]+|\\([^\\s()]*?\\([^\\s()]+\\)[^\\s()]*?\\)|\\([^\\s]+?\\))+(?:\\([^\\s()]*?\\([^\\s()]+\\)[^\\s()]*?\\)|\\([^\\s]+?\\)|[^\\s`!()\\[\\]{};:'\".,<>?«»“”‘’])|(?:(?<!@)[a-z0-9]+(?:[.\\-][a-z0-9]+)*[.](?:com|net|org|edu|gov|mil|aero|asia|biz|cat|coop|info|int|jobs|mobi|museum|name|post|pro|tel|travel|xxx|ac|ad|ae|af|ag|ai|al|am|an|ao|aq|ar|as|at|au|aw|ax|az|ba|bb|bd|be|bf|bg|bh|bi|bj|bm|bn|bo|br|bs|bt|bv|bw|by|bz|ca|cc|cd|cf|cg|ch|ci|ck|cl|cm|cn|co|cr|cs|cu|cv|cx|cy|cz|dd|de|dj|dk|dm|do|dz|ec|ee|eg|eh|er|es|et|eu|fi|fj|fk|fm|fo|fr|ga|gb|gd|ge|gf|gg|gh|gi|gl|gm|gn|gp|gq|gr|gs|gt|gu|gw|gy|hk|hm|hn|hr|ht|hu|id|ie|il|im|in|io|iq|ir|is|it|je|jm|jo|jp|ke|kg|kh|ki|km|kn|kp|kr|kw|ky|kz|la|lb|lc|li|lk|lr|ls|lt|lu|lv|ly|ma|mc|md|me|mg|mh|mk|ml|mm|mn|mo|mp|mq|mr|ms|mt|mu|mv|mw|mx|my|mz|na|nc|ne|nf|ng|ni|nl|no|np|nr|nu|nz|om|pa|pe|pf|pg|ph|pk|pl|pm|pn|pr|ps|pt|pw|py|qa|re|ro|rs|ru|rw|sa|sb|sc|sd|se|sg|sh|si|sj|Ja|sk|sl|sm|sn|so|sr|ss|st|su|sv|sx|sy|sz|tc|td|tf|tg|th|tj|tk|tl|tm|tn|to|tp|tr|tt|tv|tw|tz|ua|ug|uk|us|uy|uz|va|vc|ve|vg|vi|vn|vu|wf|ws|ye|yt|yu|za|zm|zw)\\b/?(?!@))')\n",
    "tweet_data_df['urls'] = tweet_data_df['text'].apply(lambda x: ' '.join(url_matcher.findall(x)))"
   ]
  },
  {
   "cell_type": "code",
   "execution_count": 44,
   "metadata": {
    "collapsed": false
   },
   "outputs": [
    {
     "name": "stdout",
     "output_type": "stream",
     "text": [
      "                                                                                                                                                                                           109976\n",
      "https://                                                                                                                                                                                    37225\n",
      "http://                                                                                                                                                                                     31140\n",
      "https://www.                                                                                                                                                                                18320\n",
      "http://www.                                                                                                                                                                                  8129\n",
      "http:// http://                                                                                                                                                                               773\n",
      "http:// https://                                                                                                                                                                              535\n",
      "https:// http://                                                                                                                                                                              291\n",
      "https:// https://                                                                                                                                                                             163\n",
      "http:// https://www.                                                                                                                                                                          118\n",
      "http://www. http://                                                                                                                                                                           110\n",
      "http://www. https://                                                                                                                                                                          105\n",
      "https://www. https://                                                                                                                                                                          82\n",
      "https://www. http://                                                                                                                                                                           74\n",
      "http:// http://www.                                                                                                                                                                            33\n",
      "http://www. http://www.                                                                                                                                                                        26\n",
      "https://www. https://www.                                                                                                                                                                      20\n",
      "https:// https://www.                                                                                                                                                                          19\n",
      "http:// http:// https://                                                                                                                                                                       16\n",
      "http:// http:// http://                                                                                                                                                                        14\n",
      "http://www. https://www.                                                                                                                                                                       10\n",
      "https://www. http://www.                                                                                                                                                                       10\n",
      "https:// https://weather.com/storms/hurricane/news/2017-09-11-hurricane-tropical-storm-irma-florida-georgia-carolinas-southeast                                                                10\n",
      "http://Www.                                                                                                                                                                                     9\n",
      "https:// http://www.                                                                                                                                                                            6\n",
      "http… https://www.                                                                                                                                                                              6\n",
      "http:… https://www.                                                                                                                                                                             6\n",
      "https:// https:// https://                                                                                                                                                                      5\n",
      "http:// https://w                                                                                                                                                                               5\n",
      "http://www.prensa… https://                                                                                                                                                                     4\n",
      "                                                                                                                                                                                            ...  \n",
      "http:// http%3A%2F%2Fglobalnews.ca%2Fnews%2F3731886%2Fhurricane%2Dirma%2Dcuba%2Ddamage%2F                                                                                                       1\n",
      "https:// https://www.theglobeandmail.com&                                                                                                                                                       1\n",
      "http:// http:// http:// http://                                                                                                                                                                 1\n",
      "https:// https://t.co/PXuawFKvXT?amp=1                                                                                                                                                          1\n",
      "https://t.co/m4\"                                                                                                                                                                                1\n",
      "https:// https://twitter.com/Brexit/status/907128650633539585/photo/1                                                                                                                           1\n",
      "https:// https://www.theglobeandmail.com&service=mobile                                                                                                                                         1\n",
      "http://www. http:// https://                                                                                                                                                                    1\n",
      "http:// https…\"                                                                                                                                                                                 1\n",
      "http://www. https:// http://                                                                                                                                                                    1\n",
      "https:// https%3A%2F%2Fwww.leetchi.com%2Fc%2Fsolidarite-centre-equestre-saint-sarth-irma&related=                                                                                               1\n",
      "https:// http%3A%2F%2Fwww.fsunews.com%2Fstory%2Fnews%2F2017%2F09%2F10%2Fnapleton-infiniti-ordered-remove-vehicles-fsu-garages%2F652321001                                                       1\n",
      "https:// httpst-co8pp1hhtvwa/                                                                                                                                                                   1\n",
      "https:\"                                                                                                                                                                                         1\n",
      "https://t.co/BsXsvtZYpR                                                                                                                                                                         1\n",
      "https://app.climadiario.com?id=ChIJ4dG5s4K3wogRY7SWr4kTX6c#!Tampa__Florida__EE__UU_                                                                                                             1\n",
      "http:// http://a                                                                                                                                                                                1\n",
      "https://t.co/39KC…\"                                                                                                                                                                             1\n",
      "https:// https:// https://www. https://www.                                                                                                                                                     1\n",
      "http:// https:// httpst-coyacmzbbmds/?utm_source=ReviveOldPost&utm_medium=social&utm_campaign=ReviveOldPost                                                                                     1\n",
      "https://goo.gl/WmMNGE\"                                                                                                                                                                          1\n",
      "https:// http%3A%2F%2Ft.co%2FIULheFAc5J&_rdr                                                                                                                                                    1\n",
      "http:// https:// https://www.                                                                                                                                                                   1\n",
      "http://pic…\"                                                                                                                                                                                    1\n",
      "http:// https%3A%2F%2Fwww.tagesschau.de%2Fausland%2Firma%2Dschalte%2D103.html                                                                                                                   1\n",
      "http://Osceol…\"                                                                                                                                                                                 1\n",
      "http://shel…\"                                                                                                                                                                                   1\n",
      "https://t.co/ckTAALd…\"                                                                                                                                                                          1\n",
      "http://www. http://www.infowars.com/video-looters-hit-foot-locker-and-more-during-hurricane-irma/                                                                                               1\n",
      "https:// https://support.google.com/onetoday/answer/7177969?campaignid%3D5559067152089088&campaignid=5559067152089088&thanks=1&h=AJWtUEBv3W9gj5RUCB4lJ6vt-kzf&tab=1&hl=en-US&authUser=0         1\n",
      "Name: urls, Length: 259, dtype: int64\n"
     ]
    }
   ],
   "source": [
    "print(tweet_data_df['urls'].value_counts().sort_values(inplace=False, ascending=False))"
   ]
  },
  {
   "cell_type": "code",
   "execution_count": 46,
   "metadata": {
    "collapsed": false
   },
   "outputs": [
    {
     "name": "stdout",
     "output_type": "stream",
     "text": [
      "109976 tweets without URL\n",
      "1         \"Je sais pas mais je trouve qu il est stressé,...\n",
      "2                       \"I am wildly bored. #HurricaneIrma\"\n",
      "4         \"I will never take electricity for granted eve...\n",
      "6         \"Wow @CNN coverage of #HurricaneIrma on Sunday...\n",
      "9         \"Viewer Eugene Spann thanks @CBS12 for continu...\n",
      "10        \"I pray for the safety of all people in Florid...\n",
      "15        \"@insideFPL is restoring power to homes along ...\n",
      "16         \"Thank you very much. It's a great team!! #Irma\"\n",
      "17                                   \"SAFE. #hurricaneirma\"\n",
      "19        \"Súmate y ayuda a nuestros hermanos afectados ...\n",
      "20        \"Grateful to have had power all day. #irma #ch...\n",
      "22        \"Really missing the portable AC I bought on @a...\n",
      "25        \"Some damage pics from #HurricaneIrma pic.twit...\n",
      "26        \"@pizzahut Horrendous how you treat employees ...\n",
      "27        \"Despite everything we have come out the other...\n",
      "28        \"Just directed an autism specialist to a famil...\n",
      "32        \"The sun is setting on the first day after #Ir...\n",
      "33        \"Prayers to all who are going through #Hurrica...\n",
      "35        \"Setting up emergency fund for a #Deaf person ...\n",
      "36        \"Thoughts to those impacted by #irma and those...\n",
      "37        \"Officially, we're at [null] rain for the day....\n",
      "38        \"Is anybody on the ground in #KeyWest ? Really...\n",
      "39        \"One of the huge evergreen trees fell in our b...\n",
      "40        \"Utility trucks and first responders head sout...\n",
      "41        \"#hurricaneIRMA was a beast but I have to give...\n",
      "42        \"#Irma ushers in pattern change for CONUS w/de...\n",
      "46        \"Powerful Hurricane #Irma roared into Florida ...\n",
      "47        \"@CraigC Well, how's the weather? #Irma and Go...\n",
      "50        \"I challenge @KevinHart4real to raise some coi...\n",
      "51        \"I was wondering, did #HurricaneIrma destroy t...\n",
      "                                ...                        \n",
      "207494    \"People actually tied their pets to trees!! Fu...\n",
      "207495    \"Starting to see the northern fringe clouds fr...\n",
      "207496    \"#Irma doing some landscaping for us pic.twitt...\n",
      "207497    \"@WESH #hurricaneirma is in Orlando! We found ...\n",
      "207498    \"Why is he staying out in the rain...... Doesn...\n",
      "207500    \"#Hurricane 3 #Irma update 10 Sept. 2017 Wind:...\n",
      "207501             \"#irma #stop pic.twitter.com/wCgQj8kK7G\"\n",
      "207502    \"#Irma surge in Naples area could be up to 15 ...\n",
      "207503    \"Prayers and thoughts with all those in Florid...\n",
      "207504    \"#islamorada #hurricaneirma #weather #floridak...\n",
      "207505    \"I'm no meteorologist but red on a radar can't...\n",
      "207507    \"Éffarée dvt les accusations et la polémique s...\n",
      "207509    \"palm trees in Palm Beach Gardens unfazed by #...\n",
      "207510    \"Estamos decretando un toque de queda en toda ...\n",
      "207511    \"Esta foto corresponde a la tormenta Noel de 2...\n",
      "207512    \"@ChicagoBears -can u give a shout out to #Aly...\n",
      "207513    \"Really @cnnbrk the public isn't going to lear...\n",
      "207514    \"IBMJobsGlobal: RT IBM: IBM is pledging $4M in...\n",
      "207515    \"#Irma is due to pass directly over the house ...\n",
      "207516    \"#Irma #HurricaneIrmaTracking @BBCNews Please ...\n",
      "207517    \"Rain getting harder. Winds picking up. I just...\n",
      "207518    \"Weather experts know #Irma had perfect condit...\n",
      "207520    \"#Brickell should be trending. The photos/vide...\n",
      "207521    \"Hurricane Irma: Tornado Warning has been issu...\n",
      "207523    \"3 meses y medio viviendo en Key West y llegue...\n",
      "207524                   \"#Irma pic.twitter.com/oGvjO4fnoC\"\n",
      "207525    \"#hurricaneirma #orlando pic.twitter.com/hcXBQ...\n",
      "207526    \"Hoe zat het ook al weer met de zondvloed #Har...\n",
      "207527    \"@nbc6 #hurricaneirma pic.twitter.com/aVTJa7gM7e\"\n",
      "207528    \"Prayers for everyone affected by dutty Irma #...\n",
      "Name: text, Length: 109976, dtype: object\n"
     ]
    }
   ],
   "source": [
    "tweet_data_df_no_urls = tweet_data_df[tweet_data_df['urls'] == '']\n",
    "print('%d tweets without URL'%(len(tweet_data_df_no_urls)))\n",
    "print(tweet_data_df_no_urls['text'])"
   ]
  },
  {
   "cell_type": "markdown",
   "metadata": {},
   "source": [
    "So that cut the data in about half and it seems like more of these are eyewitness accounts. \n",
    "\n",
    "Let's do some manual inspection."
   ]
  },
  {
   "cell_type": "code",
   "execution_count": 50,
   "metadata": {
    "collapsed": false
   },
   "outputs": [
    {
     "name": "stdout",
     "output_type": "stream",
     "text": [
      "\"President Bach starts with a reference to the damage caused by #Irma . IOC to contribute in repairing sport infrastructure. pic.twitter.com/hwbZ47sOe0\"\n",
      "\"texas holdem gettin heated #HurricaneIrma #PowerOuttage\"\n",
      "\"2) #hurricaneimra #SaintMarteen #SaintMartin #irmaaftermath #Irma pic.twitter.com/8OK9P5ky45\"\n",
      "\"Open restaurant #CafeVico #Sunrise #FtLauderdale #Irma pic.twitter.com/vREFUHSVnz\"\n",
      "\"As they go through what's left of #Irma in #Asheville , they are still having a diaper drive for #Harvey victims. @WFMY pic.twitter.com/ezX0y1upEi\"\n",
      "\"6 million people without power. The sunshine state is the darkest state at the moment. #irma\"\n",
      "\"Double rainbow appeared over Central Florida, after a long day of post #HurricaneIrma cleanup. pic.twitter.com/HT5t6jQqmn\"\n",
      "\"Power has been out for over 12 hours... #tropicalstorms #hurricaneirma\"\n",
      "\"Nothing like seeing this beauty appear nearly 24 hours later after #hurricaneirma ...and on #September11 . pic.twitter.com/vZU1MSynz7\"\n",
      "\"#irma is a bitch #rip\"\n",
      "\"#HurricaneIrma ripped the new ads off this billboard, revealing the \"new\" Stitch's Great Escape underneath. : Christopher Martin. pic.twitter.com/MC1L9Dz0oZ\"\n",
      "\"Today is my best friend's birthday and thanks to #Irma - she's getting a new car! So thoughtful pic.twitter.com/mIcgQczX8V\"\n",
      "\"RT AroundTheRings \"$1 million for relief for #Irma recovery from #IOC says #PresidentThomasBach \"\"\n",
      "\"Even as the USA is impacted by #HurricaneIrma & other recent events, let's not forget the impact of #9/11. Our world changed forever!\"\n",
      "\"@SquareCash Living in Florida and with no Cash and outages. Please give ATM access soon! #HurricaneIrma #Florida\"\n",
      "\"RAW VIDEO: Jacksonville FL *Search & Rescue* Underway For People Who Can't Leave Their Homes #HurricaneIrma pic.twitter.com/IaaeLYghkG\"\n",
      "\"Thanks to @DukeEnergy workers trying to restore power! We are still waiting, but seeing entitled hate all over Twitter. #hurricaneirma\"\n",
      "\"$1 million for relief for #Irma recovery from #IOC says #PresidentThomasBach\"\n",
      "\"$1 million for relief for #Irma recovery from #IOC says #PresidentThomasBach\"\n",
      "\"Recovery centers will be designated for Broward residents who are not able to return home due to #Irma damage.\"\n",
      "\"@TMobile and @comcast get your shit together! #hurricaneirma #blackout\"\n",
      "\"_ضرب اعصار #هارفي تكساس _اعصار #ارما فلوريدا _اعصار #خوسيه يتوقع أنه سيتجه ل نيويورك ، وهذي صورة متوقعة له يوم الاثنين #Harvey #Irma #Jose pic.twitter.com/bZ1HxUac43\"\n",
      "\"Los habaneros sacan al Malecón sus pertenecias para que les de el Sol #Irma pic.twitter.com/vJfnY79P2E\"\n",
      "\"Reporting live #charleston #sc #live69 #Irma2017 #irma #hoodnews #ildhquag pic.twitter.com/r7fFXuFac0\"\n",
      "\"Flooding in West Ashley from Irma #chs #sc #irma pic.twitter.com/lQPNKQ4Cpk\"\n",
      "\"Can any tell me what's going on in #BeaufortSC right now? #Irma @wis10 #scwx #sctweets pic.twitter.com/bozBnq5QPP\"\n",
      "\"Martha's Vineyard is running low on alcohol #HurricaneIrma pic.twitter.com/VufzcTZZsj\"\n",
      "\"Incredibly sad. Thoughts and prayers for everyone in the Caribbean affected by #Irma .\"\n",
      "\"Sunset in Orlando after #Irma @spann pic.twitter.com/Gfy4gkmdA4\"\n",
      "\"Still no power, so going old school and reading by candlelight. I feel very Gone with the Wind era right now. #Irma pic.twitter.com/rkV8hbBPSn\"\n",
      "\"I'm seeing some people wanting to open up tonight already! #KeyWestStrong #Irma They ready to party! lol\"\n",
      "\"I fear many won't get what they need. The situation is even worst in the #Caribbean and #USVI after #HurricaneIrma .\"\n",
      "\"I hit a new low today. Chef Boyardee cold in a can in the dark. #HurricaneIrma If being without power is the worst of it, I'm a lucky one.\"\n",
      "\"Good night #Miami It's time for #curfew Stay safe everyone. #Irma pic.twitter.com/4urMfz7z7Q\"\n",
      "\"Many areas will be experiencing flooding for days behind #Irma . Not driving into floodwaters isn't the only thing you need to keep in mind. pic.twitter.com/ycxzjgtxVT\"\n",
      "\"7.2 million people without power in Florida. And I'm one of them. Gee, thanks, #Irma . *Reaches for flashlight and glass of gin.\"\n",
      "\"At least I got to wait through hurricane #Irma with these 2 precious puppers. pic.twitter.com/aLmArwy5BZ\"\n",
      "\"Me: \"Wanna watch a movie?\" 14 yr old sister: \"How? Cable & wifi are down.\" Me:..........\"We have DVDs?\" This generation, y'all. Smh. #Irma\"\n",
      "\"Some pretty crazy gusts up here in Avery County NC #Newland #hurricaneirma #wbtv #weatherchannel pic.twitter.com/l9OGYoM1VP\"\n",
      "\"The last time i went this long without power, Starz was airing the season finale 4 the show #HurricaneIrma\"\n",
      "\"Omg!! That Bitch #Irma must have been drunk driving! Drive us all crazy!\"\n",
      "\"I find it so amusing that there are hashtags for #Irma that misspell hurricane. #HuracanIrma #HurrcaneIrma #HurricaineIrma #huricaneirma2017\"\n",
      "\"When you can't watch #MondayNightRaw because #HurricaneIrma took out your power and internet pic.twitter.com/l3wUHHpGSf\"\n",
      "\"Now that #Irma has passed we are left to pick up the pieces. A lesson learned at a larger scale one September morning in 2001. #NeverForget pic.twitter.com/Alj0CIBJF6\"\n",
      "\"Devem ter ido buscar o video à notícia do @observadorpt sobre notícias falsas relacionadas com o #Irma\"\n",
      "\"#HurricaneIrma continues to batter the southeastern United States w/ flooding #rain & destructive #wind . #KCOY #GAwx #ALwx #TNwx #SCwx #NCwx pic.twitter.com/H9lxxZ5TC5\"\n",
      "\"#HurricaneIrma continues to batter the southeastern United States w/ flooding #rain & destructive #wind . #KCOY #GAwx #ALwx #TNwx #SCwx #NCwx pic.twitter.com/a01zG8WqNL\"\n",
      "\"#HurricaneIrma continues to batter the southeastern United States w/ flooding #rain & destructive #wind . #KCOY #GAwx #ALwx #TNwx #SCwx #NCwx pic.twitter.com/3ITqqafoNO\"\n",
      "\"Just drove all the way to Taco Bell & couldn't even get in line bc there was a wreck & 77 cars in line #merica #irma\"\n",
      "\"And I have no power or cable... #irma\"\n",
      "\"This picture of the Charleston market breaks my heart #Irma pic.twitter.com/a5YiaoWg4S\"\n",
      "\"Look at the line for Popeye's! Jacksonville is hungry! #HurricaneIrma #PowerOutage @ActionNewsJax pic.twitter.com/956cWl6sbZ\"\n",
      "\"The clouds from #HurricaneIrma look straight out of an old horror movie. @FOX46News pic.twitter.com/2faDj4n9Ai\"\n",
      "\"#Irma\"\n",
      "\"It's so weird to really have no idea what's going on anywhere. Trying to catch up when I have service. #hurricaneirma #Florida\"\n",
      "\"Our house has officially been without power for 24 hours.. like what year is it? #hurricaneirma\"\n",
      "\"It's sad to see what #HurricaneIrma has done to this #AmericanFlag here in GA. pic.twitter.com/kGoicxX8Ir\"\n",
      "\"No stupid #hurricaneirma is going go stop the screen girls. pic.twitter.com/1QgMCU7XwF\"\n",
      "\"Fun note: by USF in Tampa, i used my @verizon phone as a hotspot for a @TMobile customer. They had no power and no data #HurricaneIrma\"\n",
      "\"When your flashlight has more battery than your phone #HurricaneIrma\"\n",
      "\"#MONEY #IRMA FoxBusiness DLoesch: \"When there is the presence of a business owner who's able to protect their property... that decreases t…\"\n",
      "\"Is anyone having outage of internet & cable from spectrum from the last hr? #Irma ? Or some dumb reason?\"\n",
      "\"Lo que @RealDonalTrump quieren ocultar, además de los muertos por #IRMA . Miami y Fort Lauderdele fueron lo mas afectados por los saqueos pic.twitter.com/DKW8PKJJXD\"\n",
      "\"@erinkrakow 's family is safe!! #hurricaneirma\"\n",
      "\"I hope it will come back on soon. #HurricaneIrma\"\n",
      "\"@DonMcGillToyota Really? You take pride in telling victims of #Harvey you wont negotiate because \"If you dont buy it someone else will\"\"\n",
      "\"Rainbow appears over #Orlando neighborhood in the aftermath of #HurricaneIrma #CBNGoodNews pic.twitter.com/OWh43s25y4\"\n",
      "\"The #Colts were the only thing to blow more than #HurricaneIrma yesterday. #NeverForget\"\n",
      "\"#Miami after #Irma :-) // #photography #cityscape pic.twitter.com/VRofr81JQL\"\n",
      "\"This is the moment I correctly answered trivia question about worst US hurricane in US history. Will @tailopez deliver? #TaiLopez #Irma pic.twitter.com/ARoToquHf5\"\n",
      "\"@Budweiser getting me thru these days of #HurricaneIrma pic.twitter.com/Y6PGqQR093\"\n",
      "\"Only fallen trees and debris keeping me from running today. I'll take the day of neighborhood cleanup as my WO #feelingGrateful #Irma\"\n",
      "\". @TexasGameWarden getting ready to enter Naples Florida to help @MyFWC wth SAR and Law Enforcement efforts after #HurricaneIrma . pic.twitter.com/XDz7ZoskyY\"\n",
      "\"PLEASE SPREAD THE WORD: Mercy Hospital in Miami is officially OPEN and accepting patients at this time. #Miami #HurricaneIrma #MercyHospital – bei Mercy Hospital\"\n",
      "\"Third highest tide in CHS history and the eye of the tropical storm is currently 340 miles away #Irma\"\n",
      "\"Jacksonville getting flood-fucked right now. Going to take out the paddle board and Chorizo to see if there's anyone in need of help #irma\"\n",
      "\"Glad to see that you are doing well after #Irma . Is this a new role for you or are you still just doing sports?\"\n",
      "\"@SertvPanama desde el Parque Omar con la @PrimeraDamaPma Trae tu donación para los damnificados del Huracán #Irma @sertvnoticias @NacionalFm pic.twitter.com/GEsMDGNVF6\"\n",
      "\"Survived #irma though still no power. Sunset the day after. pic.twitter.com/fRP63vKf66\"\n",
      "\"My momma play too much #HurricaneIrma PT 3 pic.twitter.com/nOgqhh99ol\"\n",
      "\"Hoping reports in comments of #USVI Gov'd FB page are exaggerated..if not, @FEMA_Brock & @FEMA @DHSgov need to get things organized! #Irma\"\n",
      "\"@willylevy29 DIGNOS D ADMIRACIÓN! DESPUÉS D 1DEVASTADOR HURACÁN #Irma AL MAL TIEMPO...BUENA CARA! #LasLevyadictasDeWL Repost #GenteDeZona pic.twitter.com/CeLL4KFohC\"\n",
      "\"Enjoyed working w/ @RememberMeOTTB to raise $$ for #hurricaneharvey horses. Thank you to everyone who donated. You helped horses in need.\"\n",
      "\"Praying your hurricane snacks went to your booty too, not just mine #TropicalStormIrma #HurricaneIrma #irma #hurricanesnacks #BlackTwitter\"\n",
      "\"Hope Everyone is Safe. #HurricaneIrma pic.twitter.com/D3mG0tox0a\"\n",
      "\"#Jacksonville @snockycheese @billoreilly Linda waiting for FEMA relief. She refused to assist in any of the clean up effort #LazyDog #Irma pic.twitter.com/qaOHvwp1Op\"\n",
      "\"Just as I was leaving #AMI tonight after a full day of #Irma damage coverage, I had to pull over and snap this. AMI, I'm glad you made it pic.twitter.com/Jo4q40ZJ8r\"\n",
      "\"Hurricane Irma Miami 9.10.17 City of Miami from my 8th floor window #Hurricane #Irma #Miami #Safe #Winds #PrayersForFlorida pic.twitter.com/nh6CD6YoLo\"\n",
      "\"@virginmobileusa @boostmobile is there a cell tower issue in weston/sunrise fl? #hurricaneirma\"\n",
      "\"When they think you're trying to holla but you're really just being nice... #IsThatJaySmith #Irma #Atlanta pic.twitter.com/OwPykJqHDS\"\n",
      "\"missing the finale of bachelor in paradise thanks #hurricaneirma\"\n",
      "\"\"Si acá 5 días antes hago una cobertura de cómo prepararnos no darían bola\" (Y todavía se quejaban de los medios ) no aprendemos mas #Irma\"\n",
      "\"This is why it's important to drive carefully, even after the storm passes. @FortPiercePD discovered this while out. @CBS12 #HurricaneIrma pic.twitter.com/T1tPbLORuY\"\n",
      "\"Media, now that #Irma is dying down pic.twitter.com/bfTLBA8jme\"\n",
      "\"Our Waiter @the Hotel: \"See you again next hurricane season!!!!!\" #HurricaneIrma Me: pic.twitter.com/AhnSARMwrg\"\n",
      "\"Strapped a go pro facing back yard, will try to film impact of #Irma #funny #hilarious #lol #pics #fun #meme pic.twitter.com/w6gP9ymLOS\"\n",
      "\"Apparently #Irma did something right lol; my husband is shocked that I've been tweeting #YeahIDontTweetMuch #IrmaBroughtItOutOfMe\"\n",
      "\"We're starving & we luckily found #WaffleHouse open. #loyalty #HurricaneIrma pic.twitter.com/mFuIp419LY\"\n",
      "\"My video on #irma should be up tonight.\"\n",
      "\"#MONEY #IRMA CNNPolitics Sen. Dianne Feinstein vows there will be a public Donald Trump Jr. hearing \"come hell or high water\" …\"\n"
     ]
    }
   ],
   "source": [
    "sample_size = 100\n",
    "ctr = 4\n",
    "print('\\n'.join(tweet_data_df_no_urls['text'].values[ctr*sample_size:(ctr+1)*sample_size]))"
   ]
  },
  {
   "cell_type": "markdown",
   "metadata": {},
   "source": [
    "Possible candidates for vague entity resolution:\n",
    "\n",
    "- \"So, when I said I wanted to get rid of the Jacaranda tree, I didn't mean in the neighbor's yard. #hurricaneirma pic.twitter.com/uwGDT7Vwqj\"\n",
    "- \"Damage minimal in our neighborhood. Extra day off due to roads and power outages for other employees. #Imsleepingin #Irma @kennethdockery\"\n",
    "- \"Prayers for many families in my sweet town which seems to be under water at the moment. #hurricaneirma\"\n",
    "- \"This is the place to be on the Blvd! Cars backed up for miles.. LOL - SW #swrocks #hurricaneirma @tacobell pic.twitter.com/DapRGK8RuA\"\n",
    "- \"#Atlanta getting hit by #HurricaneIrma power out at home, but my @WaffleHouse in Grant Park is open #awesome @wsbtv #MJJAllDay @mjjfootball pic.twitter.com/tguUyw3CuR\"\n",
    "- \"Video from Fleming Island in Clay County after #Irma . Flooding of Creighton Road by Doctors Inlet. Canoeing down Creighton Landing Road. pic.twitter.com/8S4BT6c7iG\"\n",
    "- \"If @insideFPL thinks we'll be grateful for their effort they're wrong! We shouldn't have had outages in south FL! #irma was TS here!!\"\n",
    "- \"Its 20 freaking 17!!! It should not be taking #FPL this long to turn our power back on! #Miami #HurricaneIrma #Disgusted #PissedOff\"\n",
    "- \"We are still without power here. Over 12k without @scegnews power and 5k without @AikenElectric power in Aiken. #Irma\"\n",
    "- \"Open restaurant #CafeVico #Sunrise #FtLauderdale #Irma pic.twitter.com/vREFUHSVnz\"\n",
    "- \"Just drove all the way to Taco Bell & couldn't even get in line bc there was a wreck & 77 cars in line #merica #irma\"\n",
    "- \"We're starving & we luckily found #WaffleHouse open. #loyalty #HurricaneIrma pic.twitter.com/mFuIp419LY\"\n",
    "- "
   ]
  },
  {
   "cell_type": "markdown",
   "metadata": {},
   "source": [
    "Categories of lexical and phrasal ambiguity:\n",
    "\n",
    "- abbreviations: `Blvd`, `FPL`\n",
    "- combinations: `@WaffleHouse in Grant Park`\n",
    "- names: `Creighton Road`, `Aiken`\n",
    "- scope: `south FL`\n",
    "- local: `my sweet town`, `our neighborhood`"
   ]
  },
  {
   "cell_type": "markdown",
   "metadata": {
    "collapsed": true
   },
   "source": [
    "## Find locals\n",
    "Can we find the individuals who actually went through Harvey/Irma, as opposed to outsiders who would have no reference for the vague locations?"
   ]
  },
  {
   "cell_type": "code",
   "execution_count": 55,
   "metadata": {
    "collapsed": false
   },
   "outputs": [
    {
     "name": "stdout",
     "output_type": "stream",
     "text": [
      "False\n"
     ]
    }
   ],
   "source": [
    "print(pd.np.any(tweet_data_df_no_urls['geo'] != ''))"
   ]
  },
  {
   "cell_type": "markdown",
   "metadata": {},
   "source": [
    "There are no geotagged tweets in the historical Twitter data! We need to re-mine the historical data for tweets actually written in the areas under consideration: \n",
    "\n",
    "- Houston\n",
    "- Miami"
   ]
  },
  {
   "cell_type": "markdown",
   "metadata": {},
   "source": [
    "## Look for geotagged tweets in archive\n",
    "Do we have any geotagged tweets in the archive?"
   ]
  },
  {
   "cell_type": "code",
   "execution_count": 83,
   "metadata": {
    "collapsed": false
   },
   "outputs": [
    {
     "name": "stdout",
     "output_type": "stream",
     "text": [
      "processed 200000 tweets\n",
      "processed 300000 tweets\n",
      "processed 400000 tweets\n",
      "processed 500000 tweets\n",
      "processed 700000 tweets\n",
      "processed 800000 tweets\n",
      "processed 900000 tweets\n",
      "processed 1000000 tweets\n",
      "processed 1100000 tweets\n",
      "processed 1300000 tweets\n",
      "processed 1400000 tweets\n",
      "processed 1500000 tweets\n",
      "processed 1700000 tweets\n",
      "processed 1800000 tweets\n",
      "processed 1900000 tweets\n",
      "processed 2000000 tweets\n",
      "processed 2100000 tweets\n",
      "processed 2200000 tweets\n",
      "processed 2300000 tweets\n",
      "processed 2400000 tweets\n",
      "processed 2600000 tweets\n",
      "processed 2800000 tweets\n",
      "processed 2900000 tweets\n",
      "processed 3000000 tweets\n",
      "processed 3100000 tweets\n",
      "processed 3200000 tweets\n",
      "processed 3400000 tweets\n",
      "processed 3500000 tweets\n",
      "processed 3600000 tweets\n",
      "processed 3700000 tweets\n",
      "processed 3800000 tweets\n",
      "processed 3900000 tweets\n",
      "processed 4100000 tweets\n",
      "processed 4400000 tweets\n",
      "processed 4500000 tweets\n",
      "processed 4600000 tweets\n",
      "processed 4700000 tweets\n",
      "processed 4800000 tweets\n",
      "processed 5100000 tweets\n"
     ]
    }
   ],
   "source": [
    "import gzip\n",
    "import json\n",
    "from collections import Counter\n",
    "test_file = '/hg190/corpora/twitter-crawl/new-archive/tweets-Aug-17-17-04-04.gz'\n",
    "# place_name = 'Houston'\n",
    "all_cities = Counter()\n",
    "geotag_count = 0\n",
    "with gzip.open(test_file, 'r') as archive:\n",
    "    for i, l in enumerate(archive):\n",
    "        try:\n",
    "            j = json.loads(l)\n",
    "            j_place = j['place']\n",
    "            if(j_place is not None):\n",
    "                j_place_city = j_place['city']\n",
    "                all_cities[j_place_city] += 1\n",
    "            if(j['geo'] is not None):\n",
    "                geotag_count += 1\n",
    "            if(i % 100000 == 0):\n",
    "                print('processed %d tweets'%(i))\n",
    "        except Exception, e:\n",
    "            pass"
   ]
  },
  {
   "cell_type": "code",
   "execution_count": 80,
   "metadata": {
    "collapsed": false
   },
   "outputs": [
    {
     "name": "stdout",
     "output_type": "stream",
     "text": [
      "74/5238085 geotagged tweets\n"
     ]
    }
   ],
   "source": [
    "print(\"%d/%d geotagged tweets\"%(geotag_count, i))"
   ]
  },
  {
   "cell_type": "code",
   "execution_count": 81,
   "metadata": {
    "collapsed": false
   },
   "outputs": [
    {
     "name": "stdout",
     "output_type": "stream",
     "text": [
      "Series([], dtype: float64)\n"
     ]
    }
   ],
   "source": [
    "all_cities = pd.Series(all_cities).sort_values(inplace=False, ascending=False)\n",
    "print(all_cities[:50])"
   ]
  },
  {
   "cell_type": "markdown",
   "metadata": {},
   "source": [
    "Weird! There are almost no geotagged tweets and literally no places. Maybe user information is more reliable?"
   ]
  },
  {
   "cell_type": "markdown",
   "metadata": {
    "collapsed": true
   },
   "source": [
    "## Plot time series"
   ]
  },
  {
   "cell_type": "markdown",
   "metadata": {},
   "source": [
    "## Plot locations\n",
    "Where do these tweets fall on a map?"
   ]
  },
  {
   "cell_type": "markdown",
   "metadata": {},
   "source": [
    "plotting code [here](https://stackoverflow.com/questions/40491340/plotting-a-map-with-geopy-and-matplotlib-in-jupyter-notebook#40494221)"
   ]
  },
  {
   "cell_type": "markdown",
   "metadata": {},
   "source": [
    "## Find ambiguous tweets\n",
    "Let's look for ambiguous tweets that relate to each crisis (Harvey and Irma) that were generated near the height of each crisis."
   ]
  },
  {
   "cell_type": "code",
   "execution_count": null,
   "metadata": {
    "collapsed": true
   },
   "outputs": [],
   "source": []
  }
 ],
 "metadata": {
  "kernelspec": {
   "display_name": "Python 2",
   "language": "python",
   "name": "python2"
  },
  "language_info": {
   "codemirror_mode": {
    "name": "ipython",
    "version": 2
   },
   "file_extension": ".py",
   "mimetype": "text/x-python",
   "name": "python",
   "nbconvert_exporter": "python",
   "pygments_lexer": "ipython2",
   "version": "2.7.10"
  }
 },
 "nbformat": 4,
 "nbformat_minor": 0
}
