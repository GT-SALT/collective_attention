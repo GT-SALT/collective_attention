{
 "cells": [
  {
   "cell_type": "markdown",
   "metadata": {},
   "source": [
    "# Get estimate of named entities\n",
    "In which we estimate how frequent it is to see an ambiguous named entity in our collected data."
   ]
  },
  {
   "cell_type": "code",
   "execution_count": 14,
   "metadata": {
    "collapsed": true
   },
   "outputs": [],
   "source": [
    "import pandas as pd\n",
    "import matplotlib\n",
    "%matplotlib inline\n",
    "import matplotlib.pyplot as plt\n",
    "import re"
   ]
  },
  {
   "cell_type": "code",
   "execution_count": 15,
   "metadata": {
    "collapsed": false
   },
   "outputs": [
    {
     "name": "stdout",
     "output_type": "stream",
     "text": [
      "   index       username                                               text  \\\n",
      "0    1.0    westpalmbch  NOW: I-95 in West Palm Beach. Hurricane warnin...   \n",
      "1    2.0  OfficialJoelF  Meanwhile in Hialeah #Irma (Cred: @Armani_Blan...   \n",
      "2    3.0   AfricanaCarr  Yemaja and Osun, guide the people of #Cuba #Fl...   \n",
      "3    4.0  WeatherNation  NEW: This video was shot just minutes ago of a...   \n",
      "4    5.0            ABC  LATEST: Hurricane #Irma now 105 miles SE of Ke...   \n",
      "\n",
      "   geo            id retweet_count  favorite_count place_name  \\\n",
      "0  NaN  9.064888e+17            42            54.0        NaN   \n",
      "1  NaN  9.066287e+17          1662          1975.0        NaN   \n",
      "2  NaN  9.066582e+17            12            34.0        NaN   \n",
      "3  NaN  9.066637e+17           242           227.0        NaN   \n",
      "4  NaN  9.066576e+17           368           341.0        NaN   \n",
      "\n",
      "            created_at  \n",
      "0  2017-09-09 08:05:00  \n",
      "1  2017-09-09 17:21:00  \n",
      "2  2017-09-09 19:18:00  \n",
      "3  2017-09-09 19:40:00  \n",
      "4  2017-09-09 19:16:00  \n"
     ]
    },
    {
     "name": "stderr",
     "output_type": "stream",
     "text": [
      "/usr/local/lib/python2.7/site-packages/IPython/core/interactiveshell.py:2902: DtypeWarning: Columns (0,4,6,8) have mixed types. Specify dtype option on import or set low_memory=False.\n",
      "  interactivity=interactivity, compiler=compiler, result=result)\n"
     ]
    }
   ],
   "source": [
    "# load harvey/irma data\n",
    "combined_tweet_f_name = '../../data/mined_tweets/#Irma,#Harvey,#HurricaneIrma,#HurricaneHarvey_combined_data.tsv'\n",
    "tweet_data = pd.read_csv(combined_tweet_f_name, sep='\\t', index_col=0)\n",
    "# fix start/end quotes\n",
    "quote_matcher = re.compile('^\"+|\"+$')\n",
    "tweet_data = tweet_data.assign(text=tweet_data.loc[:, 'text'].apply(lambda x: quote_matcher.sub('', str(x)).replace('\\n', '')))\n",
    "print(tweet_data.head())"
   ]
  },
  {
   "cell_type": "markdown",
   "metadata": {},
   "source": [
    "## Try named entity recognizer\n",
    "[This one](https://github.com/aritter/twitter_nlp) first because it's easy to use out of the box."
   ]
  },
  {
   "cell_type": "markdown",
   "metadata": {},
   "source": [
    "Command line argument:\n",
    "\n",
    "`python python/ner/extractEntities.py test.1k.txt -o output.txt`"
   ]
  },
  {
   "cell_type": "markdown",
   "metadata": {},
   "source": [
    "We need to write tweet text to a dummy file temporarily."
   ]
  },
  {
   "cell_type": "markdown",
   "metadata": {
    "collapsed": false
   },
   "source": [
    "Clean up the text to raise chances of catching entities."
   ]
  },
  {
   "cell_type": "code",
   "execution_count": 19,
   "metadata": {
    "collapsed": false
   },
   "outputs": [
    {
     "name": "stdout",
     "output_type": "stream",
     "text": [
      "['NOW: I-95 in West Palm Beach. Hurricane warning and curfew are in effect. #HurricaneIrma ', 'Meanwhile in Hialeah #Irma (Cred: @Armani_Blanco ) ', 'Yemaja and Osun, guide the people of #Cuba #Florida and the entire region as #HurricaneIrma continues to move.', 'NEW: This video was shot just minutes ago of a possible #tornado in Fort Lauderdale, Florida\\xe2\\x80\\x8b. #Irma ', 'LATEST: Hurricane #Irma now 105 miles SE of Key West; Tropical storm conditions now occurring in Florida Keys. http:// abcn.ws/2vWqpYv ']\n"
     ]
    }
   ],
   "source": [
    "# remove hyperlinks and duplicates\n",
    "tweet_txt = tweet_data.loc[:, 'text']\n",
    "url_matcher = re.compile('http://\\w+|pic.twitter.com/\\w+')\n",
    "print(tweet_txt.apply(lambda x: url_matcher.sub('', x)).values.tolist()[:5])"
   ]
  },
  {
   "cell_type": "code",
   "execution_count": 118,
   "metadata": {
    "collapsed": false
   },
   "outputs": [],
   "source": [
    "tmp_file = combined_tweet_f_name.replace('.tsv', '_txt.tsv')\n",
    "tweet_txt.to_csv(tmp_file, index=False)"
   ]
  },
  {
   "cell_type": "markdown",
   "metadata": {},
   "source": [
    "Update! We can't get this command to run from Python so we had to make a custom extraction script [here](../../lib/twitter_nlp/extract_entities.sh) to run from that directory. MESS."
   ]
  },
  {
   "cell_type": "markdown",
   "metadata": {},
   "source": [
    "## Load labelled text"
   ]
  },
  {
   "cell_type": "code",
   "execution_count": 2,
   "metadata": {
    "collapsed": false
   },
   "outputs": [
    {
     "name": "stdout",
     "output_type": "stream",
     "text": [
      "['NOW/O :/O I-95/O in/O West/B-ENTITY Palm/I-ENTITY Beach/I-ENTITY ./O Hurricane/O warning/O and/O curfew/O are/O in/O effect/O ./O #HurricaneIrma/O pic.twitter.com/DOt09uiXqJ/O', 'Meanwhile/O in/O Hialeah/B-ENTITY #Irma/O (/O Cred/O :/O @Armani_Blanco/O )/O pic.twitter.com/IgCL7WzIes/O', '\"/O Yemaja/O and/O Osun/B-ENTITY ,/O guide/O the/O people/O of/O #Cuba/O #Florida/O and/O the/O entire/O region/O as/O #HurricaneIrma/O continues/O to/O move/O .\"/O', '\"/O NEW/O :/O This/O video/O was/O shot/O just/O minutes/O ago/O of/O a/O possible/O #tornado/O in/O Fort/B-ENTITY Lauderdale/I-ENTITY ,/O Florida\\xe2\\x80\\x8b/B-ENTITY ./O #Irma/O pic.twitter.com/rcBP8tV36M/O \"/O', 'LATEST/O :/O Hurricane/O #Irma/O now/O 105/O miles/O SE/O of/O Key/B-ENTITY West/I-ENTITY ;/O Tropical/O storm/O conditions/O now/O occurring/O in/O Florida/B-ENTITY Keys/I-ENTITY ./O http:///O abcn/O ./O ws/2vWqpYv/O pic.twitter.com/WejKQhA7IB/O', \"Got/O this/O from/O a/O reader/O ./O Why/O didn't/O I/O think/O of/O that/O ?/O #HurricaneIrma/O @MiamiHerald/O pic.twitter.com/y2saKxeeJP/O\", \"That/O 's/O Florida/B-ENTITY for/O you/O ......../O #IrmaHurricane2017/O #Irma/O #KeyWest/O pic.twitter.com/WvbDRakzaF/O\", '\"/O Tornadoes/B-ENTITY reported/O nearby/O ,/O by/O Tamiami/B-ENTITY Airport/I-ENTITY and/O Zoo/B-ENTITY Miami/I-ENTITY ./O I/O can/O hear/O the/O wind/O pick/O up/O ,/O and/O power/O is/O flickering/O ./O #Irma/O \"/O', '\"/O UPDATE/O :/O More/O than/O 800/O Americans/O evacuated/O from/O St/B-ENTITY ./I-ENTITY Maarten/I-ENTITY following/I-ENTITY Hurricane/I-ENTITY #Irma/O ,/O defense/O official/O tells/O @ABC/O ./O http:///O abcn/O ./O ws/2vWxBnq/O pic.twitter.com/FHN7rhsCbB/O \"/O', 'UNBELIEVABLE/O Please/O confirm/O ../O is/O this/O #KeyWest/O #Florida/O ?/O #irma/O #IrmaHurricane2017/O #HurricaneIrma/O #SundayFunday/O #Vaughan/O #ElderAbuse/O #Greco/O pic.twitter.com/IGDyn0tb9h/O', '#HurricaneIrma/O Please/O RT/O #StaySafe/O Florida/B-ENTITY #SaturdayThoughts/O pic.twitter.com/sMa2wolubk/O', '\"/O If/O you\\xe2\\x80\\x99re/O directed/O to/O evacuate/O due/O to/O #Irma/O and/O need/O a/O safe/O place/O to/O go/O ,/O you/O can/O find/O a/O list/O of/O shelters/O in/O our/O app/O :/O https://www/O ./O fema/O ./O gov/mobile-app/O pic.twitter.com/Br6CQhARRA/O \"/O', 'Bridges/O west/O onto/O barrier/O islands/O closed/O ./O @sarasotapd/O blocking/O entry/O Ringling/B-ENTITY Cwy/I-ENTITY #Irma/O @SRQCountyGov/O @@scgovEOC/O pic.twitter.com/HvshdTzGhB/O', '#HurricaneIrma/O generating/O tornado/O over/O #FortLauderdale/O Beach/O pic.twitter.com/rA11mcHkWX/O', '\"/O Cadena/O de/O Oraci\\xc3\\xb3n/O y/O Adoraci\\xc3\\xb3n/O a/O Dios/O en/O playas/O de/O #Miami/O para/O que/O detenga/O al/O #Huracan/O #Irma/O antes/O de/O llegar/O a/O Tierra/O .\"\"/O Aqu\\xc3\\xad/O nos/O Quedaremos/O \"\"/O pic.twitter.com/ql47mwg5bi/O \"/O', 'Nurses/O needed/O .../O #Irma/O https:///O twitter.com/flgovscott/sta/O tus/906317401360388097/O \\xe2\\x80\\xa6/O', '\"/O Houston/B-ENTITY citizens/O have/O thrown/O out/O 8/O million+/O cubic/O yards/O of/O drywall/O ,/O furniture/O ,/O appliances/O and/O clothing/O after/O #Harvey/O http:///O abcn/O ./O ws/2jek4lc/O pic.twitter.com/JCgm8Ukbv9/O \"/O', 'VA/O employees/O at/O @VABayPines/O assisted/O today/O with/O the/O transfer/O of/O nearly/O 100/O patients/O in/O advance/O of/O #HurricaneIrma/O ./O http:///O bit/O ./O ly/2vWsVhs/O pic.twitter.com/7DSrTkCPp8/O', 'This/O dude/O really/O evacuating/O Florida/B-ENTITY on/O rollerblades/O #HurricaneIrma/O pic.twitter.com/6ITR1anDeK/O', '\"/O 1-minute/O satellite/O images/O #Irma/O ,/O click/O into/O the/O image/O for/O one/O more/O zoom/O step/O ,/O (-)/O to/O zoom/O out/O ,/O into/O edges/O for/O pan/O https:///O weather/O ./O us/satellite/803-/O w-241-n/top-alert-superhd-1min/O ./O html#play/O \\xe2\\x80\\xa6/O \"/O']\n"
     ]
    }
   ],
   "source": [
    "tweet_txt_entities = [l.strip() for l in open('../../data/mined_tweets/#Irma,#Harvey,#HurricaneIrma,#HurricaneHarvey_combined_data_txt_ner.tsv')]\n",
    "print(tweet_txt_entities[:20])"
   ]
  },
  {
   "cell_type": "markdown",
   "metadata": {},
   "source": [
    "Let's see what entities were most frequent."
   ]
  },
  {
   "cell_type": "code",
   "execution_count": 145,
   "metadata": {
    "collapsed": false
   },
   "outputs": [
    {
     "name": "stdout",
     "output_type": "stream",
     "text": [
      "100\n"
     ]
    }
   ],
   "source": [
    "import pandas as pd\n",
    "import re\n",
    "from collections import Counter\n",
    "txt_split = lambda x: map(lambda y: y.split('/'), x.split(' '))\n",
    "entity_matcher = re.compile('[BI]-ENTITY')\n",
    "entity_filter = lambda x: entity_matcher.match(x)\n",
    "# we want to find entities based on consecutive tags!\n",
    "# simple assumption: no adjacent entities\n",
    "def find_entities(x):\n",
    "    entity_list = []\n",
    "    current_entity = []\n",
    "    # remove triplets (usually URLs)\n",
    "    token_tags = filter(lambda x: len(x)==2, txt_split(x))\n",
    "    for token, tag in token_tags:\n",
    "        if(entity_filter(tag)):\n",
    "            current_entity.append(token)\n",
    "        elif(len(current_entity) > 0):\n",
    "            current_entity_str = ' '.join(current_entity)\n",
    "            entity_list.append(current_entity_str)\n",
    "            current_entity = []\n",
    "    return entity_list\n",
    "entities_per_tweet = map(find_entities, tweet_txt_entities)\n",
    "print(len(entity_list))\n",
    "entity_list = reduce(lambda x,y: x+y, entities_per_tweet)\n",
    "# # strip tags\n",
    "entity_counts = pd.Series(Counter(entity_list)).sort_values(inplace=False, ascending=False)"
   ]
  },
  {
   "cell_type": "code",
   "execution_count": 146,
   "metadata": {
    "collapsed": false
   },
   "outputs": [
    {
     "name": "stdout",
     "output_type": "stream",
     "text": [
      "Florida           17907\n",
      "Texas              7131\n",
      "Cuba               5768\n",
      "Miami              5762\n",
      "Irma               5376\n",
      "Houston            5319\n",
      "Hurricane          3395\n",
      "FL                 2666\n",
      "Trump              2365\n",
      "Hurricane Irma     2240\n",
      "#Harvey            1708\n",
      "Key West           1680\n",
      "Tampa              1519\n",
      "TX                 1360\n",
      "Kappa Sig          1224\n",
      "#Irma              1199\n",
      "Puerto Rico        1114\n",
      "Twitter            1108\n",
      "America            1063\n",
      "Harvey             1024\n",
      "dtype: int64\n",
      "Koch brothers begged Trump       1\n",
      "Kleiner Reminder                 1\n",
      "Kleine Antillen                  1\n",
      "Kirwan Terrance                  1\n",
      "Kite Surfers                     1\n",
      "Kirwan Terrance Ballpark         1\n",
      "Kiss Ass Jed                     1\n",
      "Kissam                           1\n",
      "Tampa-Orlando                    1\n",
      "Kissimmee Muscle                 1\n",
      "Kite                             1\n",
      "Kitts                            1\n",
      "Klein ISD Multipurpose Center    1\n",
      "Kitty Haven                      1\n",
      "Kitty Hawk                       1\n",
      "Tampa-                           1\n",
      "Klan                             1\n",
      "Klarity Kosmetics                1\n",
      "Klein                            1\n",
      "##Virgin Islands                 1\n",
      "dtype: int64\n",
      "26363 unique entities\n"
     ]
    }
   ],
   "source": [
    "print(entity_counts.head(20))\n",
    "print(entity_counts.tail(20))\n",
    "print('%d unique entities'%(len(entity_counts)))"
   ]
  },
  {
   "cell_type": "markdown",
   "metadata": {
    "collapsed": true
   },
   "source": [
    "OK! These entities make sense because they're mostly locations where Harvey and Irma hit."
   ]
  },
  {
   "cell_type": "code",
   "execution_count": 160,
   "metadata": {
    "collapsed": false
   },
   "outputs": [
    {
     "data": {
      "image/png": "[encoded data removed]",
      "text/plain": [
       "<matplotlib.figure.Figure at 0x7f7f20b7d450>"
      ]
     },
     "metadata": {},
     "output_type": "display_data"
    }
   ],
   "source": [
    "# bar chart of top 20\n",
    "top_k = 20\n",
    "x_pos = pd.np.arange(top_k)\n",
    "tick_width = 0.75\n",
    "plt.figure(figsize=(top_k * tick_width, 5))\n",
    "plt.bar(x_pos, entity_counts.head(top_k))\n",
    "plt.xticks(x_pos, entity_counts.head(top_k).index, rotation=315)\n",
    "plt.ylabel('Frequency')\n",
    "plt.show()"
   ]
  },
  {
   "cell_type": "markdown",
   "metadata": {},
   "source": [
    "## Entity summary"
   ]
  },
  {
   "cell_type": "markdown",
   "metadata": {},
   "source": [
    "How many tweets contain at least one entity?"
   ]
  },
  {
   "cell_type": "code",
   "execution_count": 162,
   "metadata": {
    "collapsed": false
   },
   "outputs": [
    {
     "data": {
      "image/png": "[encoded data removed]",
      "text/plain": [
       "<matplotlib.figure.Figure at 0x7f7f20a246d0>"
      ]
     },
     "metadata": {},
     "output_type": "display_data"
    }
   ],
   "source": [
    "tweet_entity_counts = pd.Series(map(len, entities_per_tweet)).value_counts()\n",
    "tweet_entity_counts /= tweet_entity_counts.sum()\n",
    "plt.bar(tweet_entity_counts.index, tweet_entity_counts)\n",
    "plt.xlabel('Number of entities per tweet')\n",
    "plt.ylabel('Tweet frequency')\n",
    "plt.xticks(tweet_entity_counts.index, tweet_entity_counts.index)\n",
    "# plt.yscale('log')\n",
    "plt.show()"
   ]
  },
  {
   "cell_type": "markdown",
   "metadata": {},
   "source": [
    "Most tweets have no entities, and those that have entities only have a few."
   ]
  },
  {
   "cell_type": "markdown",
   "metadata": {},
   "source": [
    "**SKIP** because bash commands from Python don't execute properly."
   ]
  },
  {
   "cell_type": "code",
   "execution_count": 112,
   "metadata": {
    "collapsed": false
   },
   "outputs": [],
   "source": [
    "# python code executes but NOTHING HAPPENS for anything more complicated than ls ;_; ;_;\n",
    "import subprocess\n",
    "from subprocess import Popen, PIPE\n",
    "import osa\n",
    "tmp_file_cmd = tmp_file\n",
    "ner_script_file = '../../lib/twitter_nlp/python/ner/extractEntities.py'\n",
    "command = 'python %s %s -o %s.NER'%(ner_script_file, tmp_file, tmp_file)\n",
    "# command = 'ls -halt %s'%(tmp_file_cmd)\n",
    "process = Popen(command.split(), stdout=PIPE)\n",
    "output, error = process.communicate()\n",
    "print(output)"
   ]
  },
  {
   "cell_type": "markdown",
   "metadata": {},
   "source": [
    "## Query DBPedia\n",
    "Now that we have entities, we need to know how ambiguous they are.\n",
    "\n",
    "We want to query DBPedia to determine ambiguity based on the number of articles that match the entity based on string-initial occurrence."
   ]
  },
  {
   "cell_type": "code",
   "execution_count": 20,
   "metadata": {
    "collapsed": false
   },
   "outputs": [
    {
     "name": "stdout",
     "output_type": "stream",
     "text": [
      "Florida/Texas/Cuba/Miami/Irma/Houston/Hurricane/FL/Trump/Hurricane Irma/#Harvey/Key West/Tampa/TX/Kappa Sig/#Irma/Puerto Rico/Twitter/America/Harvey/Florida Keys/Naples/God/South Florida/HOUSTON/Atlantic/Orlando/Mexico/#Houston/Miami Beach/HARVEY/Georgia/Ohio/Hurricane Harvey/Tampa Bay/Corpus Christi/CNN/Meteorologist Vs #Irma In Key West/Hurricanes/Rockport/Barbuda/Tropical Storm/President Trump/Bahamas/Fort Lauderdale/CROSS/Keys/Texans/Rush Limbaugh/Facebook/Hurricane #Harvey/Louisiana/IRMA/Rick Scott/GA/Katrina/twitter/Camp David/Key Largo/FLORIDA/Saint Martin/Caribbean/US Virgin Islands/white caps/Jefferson Chambers county/Atlanta/NOAA/Red Cross/National Day of Prayer/Andrew/SC/St Martin/Foot Locker/President Donald J/National Guard/Jose/Brian Roberson/Haiti/Leeward Islands/Jordan/Marco Island/Jacksonville/U.S. Virgin Islands/Sinton TX/#Miami/florida/U.S./Fort Myers/Tim Duncan/British Virgin Islands/Austin/St . Martin/Sarasota/Gulf/Donald Trump/Alabama/Broward County/Charleston/FEMA/Buffalo Bayou\n"
     ]
    }
   ],
   "source": [
    "sample_size = 100\n",
    "entities_to_query = entity_counts.index.tolist()[:sample_size]\n",
    "print('/'.join(entities_to_query))"
   ]
  },
  {
   "cell_type": "markdown",
   "metadata": {},
   "source": [
    "OK! These entities are a mix of:\n",
    "\n",
    "- countries: `America`\n",
    "- states: `Florida`\n",
    "- counties: `Broward County`\n",
    "- cities: `Houston`\n",
    "- agencies: `FEMA`\n",
    "- companies: `twitter`"
   ]
  },
  {
   "cell_type": "code",
   "execution_count": 70,
   "metadata": {
    "collapsed": false
   },
   "outputs": [
    {
     "name": "stdout",
     "output_type": "stream",
     "text": [
      "got 973 results\n",
      "got 531 English-only results\n"
     ]
    }
   ],
   "source": [
    "from SPARQLWrapper import SPARQLWrapper, JSON\n",
    "def get_query(query, sparql=None):\n",
    "    if(sparql is None):\n",
    "        sparql = SPARQLWrapper(\"http://dbpedia.org/sparql\")\n",
    "        sparql.setReturnFormat(JSON)\n",
    "    sparql.setQuery(query)\n",
    "    result = sparql.query().convert()\n",
    "    return(result)\n",
    "# basic query for city existence\n",
    "city_name = 'Manhattan'\n",
    "# first query: all results\n",
    "query1 = \"\"\"SELECT distinct ?name {\n",
    "          ?uri rdfs:label ?name .\n",
    "          ?name bif:contains \"%s\" .\n",
    "          FILTER(STRSTARTS(?name, \"%s\"))\n",
    "        }\"\"\"%(city_name, city_name)\n",
    "result1 = get_query(query1)\n",
    "result1_names = [r['name']['value'] for r in result1['results']['bindings']]\n",
    "print('got %d results'%(len(result1_names)))\n",
    "# second query: only English results\n",
    "query2 = \"\"\"SELECT distinct ?name {\n",
    "          ?uri rdfs:label ?name .\n",
    "          ?name bif:contains \"%s\" .\n",
    "          FILTER(STRSTARTS(?name, \"%s\"))\n",
    "          FILTER(lang(?name)=\"en\")\n",
    "        }\"\"\"%(city_name, city_name)\n",
    "result2 = get_query(query2)\n",
    "result2_names = sorted(set([r['name']['value'] for r in result2['results']['bindings']]))\n",
    "print('got %d English-only results'%(len(result2_names)))"
   ]
  },
  {
   "cell_type": "code",
   "execution_count": 53,
   "metadata": {
    "collapsed": false
   },
   "outputs": [
    {
     "name": "stdout",
     "output_type": "stream",
     "text": [
      "Manhattan\n",
      "Manhattan Project\n",
      "Manhattan College alumni\n",
      "Manhattan Project people\n",
      "Manhattan borough presidents\n",
      "Manhattan College\n",
      "Manhattan School of Music\n",
      "Manhattan School of Music alumni\n",
      "Manhattan School of Music faculty\n",
      "Manhattan Community Boards\n",
      "Manhattan Jaspers football coaches\n",
      "Manhattan, Kansas metropolitan area\n",
      "Manhattan College faculty\n",
      "Manhattan Romance\n",
      "Manhattan Jaspers football\n",
      "Manhattan Jaspers football players\n",
      "Manhattan in fiction\n",
      "Manhattan College people\n",
      "Manhattan Jaspers basketball\n",
      "Manhattan Jaspers basketball coaches\n",
      "Manhattan Jaspers basketball players\n",
      "Manhattan Jaspers baseball\n",
      "Manhattan Jaspers baseball players\n",
      "Manhattan Records albums\n",
      "Manhattan Elks players\n",
      "Manhattan Jaspers basketball seasons\n",
      "Manhattan Maroons players\n",
      "Manhattan Jaspers and Lady Jaspers\n",
      "Manhattan Beach, California\n",
      "Manhattan Jaspers and Lady Jaspers athletes\n",
      "Manhattan Jaspers and Lady Jaspers coaches\n",
      "Manhattan Jaspers baseball coaches\n",
      "Manhattan Jaspers coaches\n",
      "Manhattan Jaspers and Lady Jaspers navigational boxes\n",
      "Manhattan Jaspers basketball navigational boxes\n",
      "Manhattan building and structure stubs\n",
      "Manhattan church stubs\n",
      "Manhattan railway station stubs\n",
      "Manhattan Jaspers and Lady Jaspers seasons by team\n",
      "Manhattan Records singles\n",
      "Manhattan Registered Historic Place stubs\n",
      "Manhattan Waterfront Greenway\n",
      "Manhattan Jaspers and Lady Jaspers track and field athletes\n",
      "Manhattan Records artists\n",
      "Manhattan, Kansas\n",
      "Manhattan (borough)\n",
      "Manhattan (cocktail)\n",
      "Manhattan (disambiguation)\n",
      "Manhattan (film)\n",
      "Manhattan Engineer District\n",
      "Manhattan project\n",
      "Manhattan Beach, Minnesota\n",
      "Manhattan, Illinois\n",
      "Manhattan, Montana\n",
      "Manhattan, New York\n",
      "Manhattan Christian College\n",
      "Manhattan Island\n",
      "Manhattan Transfer\n",
      "Manhattan distance\n",
      "Manhattan Bridge\n",
      "Manhattan Transfer (band)\n",
      "Manhattan and Bronx Surface Transit Operating Authority\n",
      "Manhattan distance transform\n",
      "Manhattan Mall\n",
      "Manhattan Melodrama\n",
      "Manhattan Beach\n",
      "Manhattan Beach, CA\n",
      "Manhattan Beach, MN\n",
      "Manhattan, IL\n",
      "Manhattan, KS\n",
      "Manhattan, MT\n",
      "Manhattan Life Insurance Building\n",
      "Manhattan\n",
      "Manhattan (Cocktail)\n",
      "Manhattan (Film)\n",
      "Manhattan-Metrik\n",
      "Manhattan-Projekt\n",
      "Manhattan Beach, Brooklyn\n",
      "Manhattan metric\n",
      "Manhattan Beach\n",
      "Manhattan Murder Mystery\n",
      "Manhattan wiring\n",
      "Manhattan (Begriffsklärung)\n",
      "Manhattan Transfer\n",
      "Manhattan Bridge Line\n",
      "Manhattan Bridge north tracks\n",
      "Manhattan Bridge south tracks\n",
      "Manhattan Regional Airport\n",
      "Manhattan Transfer (PRR station)\n",
      "Manhattan trade\n",
      "Manhattan Bridge\n",
      "Manhattan Love Story\n",
      "Manhattan Murder Mystery\n",
      "Manhattan Transfer (PATH station)\n",
      "Manhattan Valley\n",
      "Manhattan streets, 23-42\n",
      "Manhattan (Schiff)\n",
      "Manhattan (Spiel)\n",
      "Manhattan Life Building\n",
      "Manhattan Transfer (Roman)\n",
      "Manhattan District Project\n",
      "Manhattan Psychiatric Center\n",
      "Manhattan, Colorado\n",
      "Manhattan Transfer (Bahnhof)\n",
      "Manhattan Chess Club\n",
      "Manhattan Engineering District\n",
      "Manhattan geometry\n",
      "Manhattan, CO\n",
      "Manhattan School of Music\n",
      "Manhattan Community Board 1\n",
      "Manhattan Community Board 10\n",
      "Manhattan Community Board 11\n",
      "Manhattan Community Board 12\n",
      "Manhattan Community Board 2\n",
      "Manhattan Community Board 3\n",
      "Manhattan Community Board 4\n",
      "Manhattan Community Board 5\n",
      "Manhattan Community Board 6\n",
      "Manhattan Community Board 7\n",
      "Manhattan Community Board 8\n",
      "Manhattan Community Board 9\n",
      "Manhattan West\n",
      "Manhattan Nocturne\n",
      "Manhattan Project (movie)\n",
      "Manhattan (Kansas)\n",
      "Manhattan-Erklärung\n",
      "Manhattan (1979 movie)\n",
      "Manhattan (Kansas)\n",
      "Manhattan (New York)\n",
      "Manhattan Beach Unified School District\n",
      "Manhattan Guardian\n",
      "Manhattan Plaza\n",
      "Manhattan Brothers\n",
      "Manhattan Melodrama\n",
      "Manhattan Valley\n",
      "Manhattan Building\n",
      "Manhattan Supreme Court\n",
      "Manhattan (Kansas) High School\n",
      "Manhattan Clique\n",
      "Manhattan High School\n",
      "Manhattan Merry-Go-Round\n",
      "Manhattan Clan\n",
      "Manhattan clam chowder\n",
      "Manhattan & Bronx Surface Transit Operating Authority\n",
      "Manhattan Handicap\n",
      "Manhattan (Fernsehserie)\n",
      "Manhattan High School (Kansas)\n",
      "Manhattan (NY)\n",
      "Manhattan Libertarian Party\n",
      "Manhattan clan\n",
      "Manhattanville, Manhattan\n",
      "Manhattan\n",
      "Manhattan (película)\n",
      "Manhattan Beach, Brooklyn, New York\n",
      "Manhattan Eye, Ear and Throat Hospital\n",
      "Manhattan (cóctel)\n",
      "Manhattan Life Insurance Building\n",
      "Manhattan Construction Company\n",
      "Manhattan Municipal Building\n",
      "Manhattan Records\n",
      "Manhattan Theatre Source\n",
      "Manhattan (Kansas)\n",
      "Manhattan island\n",
      "Manhattan, NY\n",
      "Manhattan Skyline\n",
      "Manhattan Transfer (novela)\n",
      "Manhattan cocktail\n",
      "Manhattan College\n",
      "Manhattan Transfer\n",
      "Manhattan (desambiguación)\n",
      "Manhattan Beach (California)\n",
      "Manhattan Center\n",
      "Manhattan Heights, Manhattan Beach, California\n",
      "Manhattan melodrama\n",
      "Manhattan Chamber Orchestra\n",
      "Manhattan New York Temple\n",
      "Manhattan Skyline\n",
      "Manhattan solstice\n",
      "Manhattan, New York (state)\n",
      "Manhattan Beach (Brooklyn)\n",
      "Manhattan Valley\n",
      "Manhattan Waterfront Greenway\n",
      "Manhattanville (Manhattan)\n",
      "Manhattan Center for Science and Mathematics\n",
      "Manhattan Cruise Terminal\n",
      "Manhattan Serenade\n",
      "Manhattan Square\n",
      "Manhattan Theatre Club\n",
      "Manhattan center for Science & Mathematics\n",
      "Manhattan (Nevada)\n",
      "Manhattan Bridge (New York Subway)\n",
      "Manhattan Center Studios\n",
      "Manhattan Transfer (novel)\n",
      "Manhattan (Illinois)\n",
      "Manhattan (Montana)\n",
      "Manhattan Beach (Minnesota)\n",
      "Manhattan Jaspers\n",
      "Manhattan Municipal Building\n",
      "Manhattan Borough President\n",
      "Manhattan Building (Chicago, Illinois)\n",
      "Manhattan Clique\n",
      "Manhattan Boogie-Woogie\n",
      "Manhattan Wildlife Refuge\n",
      "Manhattan neighborhoods\n",
      "Manhattan, Nevada\n",
      "Manhattan Project (song)\n",
      "Manhattan (beverage)\n",
      "Manhattan (drink)\n",
      "Manhattan Project (disambiguation)\n",
      "Manhattan Hill\n",
      "Manhattan Commune\n",
      "Manhattan Hungarian Network\n",
      "Manhattan schist\n",
      "Manhattan\n",
      "Manhattan-Kaboul\n",
      "Manhattan Brothers\n",
      "Manhattan Neighborhood Network\n",
      "Manhattan (song)\n",
      "Manhattan distance formula\n",
      "Manhattan Beach (Californie)\n",
      "Manhattan Chinatown\n",
      "Manhattan (film, 1979)\n",
      "Manhattan (homonymie)\n",
      "Manhattan Project (film)\n",
      "Manhattan (jeu)\n",
      "Manhattan Beach, NY\n",
      "Manhattan Beach, New York\n",
      "Manhattan Center for Science & Mathematics\n",
      "Manhattan Community College\n",
      "Manhattan (Kansas)\n",
      "Manhattan Beach\n",
      "Manhattan Beach (New York)\n",
      "Manhattan\n",
      "Manhattan (cocktail)\n",
      "Manhattan (disambigua)\n",
      "Manhattan (cocktail)\n",
      "Manhattan Life Insurance Building\n",
      "Manhattan Municipal Building\n",
      "Manhattan School of Music\n",
      "Manhattan Valley\n",
      "Manhattan Association of Cabarets & Clubs\n",
      "Manhattan (pétrolier)\n",
      "Manhattan Jazz Quintet\n",
      "Manhattan (Kansas)\n",
      "Manhattan (film)\n",
      "Manhattan College\n",
      "Manhattan Baby\n",
      "Manhattan Beach (California)\n",
      "Manhattan (1843 ship)\n",
      "Manhattan Beach (march)\n",
      "Manhattan loft\n",
      "Manhattan-Kaboul\n",
      "Manhattan Parade\n",
      "Manhattan Transfer\n",
      "Manhattan Transfer (homonymie)\n",
      "Manhattan Beach Branch\n",
      "Manhattan Beach Branch (LIRR)\n",
      "Manhattan Beach Railroad Crossing (LIRR station)\n",
      "Manhattan Crossing (LIRR station)\n",
      "Manhattan School of Music Precollege Division\n",
      "Manhattan streets, 15-59\n",
      "Manhattan Brothers\n",
      "Manhattan (Montana)\n",
      "Manhattan From the Sky\n",
      "Manhattan Mall\n",
      "Manhattan Beach Boulevard\n",
      "Manhattan Beach Division\n",
      "Manhattan Beach Line\n",
      "Manhattan Company Building\n",
      "Manhattan Country School\n",
      "Manhattan Township, Will County, Illinois\n",
      "Manhattan Beach Crossing (BMT Lexington Avenue Line)\n",
      "Manhattan Transfer\n",
      "Manhattan Building\n",
      "Manhattan Opera Company\n",
      "Manhattan Research Inc.\n",
      "Manhattan hungarian network\n",
      "Manhattan, KS μSA\n",
      "Manhattan Center\n",
      "Manhattan Guardian\n",
      "Manhattan Bridge subway tracks\n",
      "Manhattan Elevated Railway\n",
      "Manhattan Junction (BMT Fulton Street Line)\n",
      "Manhattan Parade\n",
      "Manhattan Railway Company\n",
      "Manhattan Skyline (song)\n",
      "Manhattan Street (IRT Broadway–Seventh Avenue Line)\n",
      "Manhattan Samouraï\n",
      "Manhattan Solo\n",
      "Manhattan Beach\n",
      "Manhattan School of Music\n",
      "Manhattan Tower\n",
      "Manhattan Manhunt\n",
      "Manhattan Mini Storage\n",
      "Manhattan Tuesday\n",
      "Manhattan (Art Farmer)\n",
      "Manhattan Community Board 1\n",
      "Manhattan Railway\n",
      "Manhattan (Montana)\n",
      "Manhattan (serie televisiva)\n",
      "Manhattan Project\n",
      "Manhattan Transfer (romanzo)\n",
      "Manhattan (paquebot)\n",
      "Manhattan (série télévisée)\n",
      "Manhattan Manhunt (CSI: NY)\n",
      "Manhattan Night\n",
      "Manhattan Project (Dizzy Reece)\n",
      "Manhattan Beach March\n",
      "Manhattan Chamber of Commerce\n",
      "Manhattan Avenue\n",
      "Manhattan Love Story\n",
      "Manhattan Merry-Go-Round\n",
      "Manhattan Center (New York)\n",
      "Manhattan Institute for Policy Research\n",
      "Manhattan Theatre Club\n",
      "Manhattan Heights\n",
      "Manhattan Cocktail\n",
      "Manhattan Express\n",
      "Manhattan Manhunt (CSI episode)\n",
      "Manhattan Brewing Company\n",
      "Manhattan steam network\n",
      "Manhattan Brewing Company of Chicago\n",
      "Manhattan Brewing Company of New York\n",
      "Manhattan's East Side\n",
      "Manhattan's West Side\n",
      "Manhattan\n",
      "Manhattan (New York)\n",
      "Manhattan Supply Company\n",
      "Manhattan Bridge\n",
      "Manhattan Melodrama\n",
      "Manhattan Spotlight\n",
      "Manhattan (cocktail)\n",
      "Manhattan Community Board 1\n",
      "Manhattan (board game)\n",
      "Manhattan Middle School of Arts and Academics\n",
      "Manhattan Tower\n",
      "Manhattan Tower (Gordon Jenkins album)\n",
      "Manhattan Tower (Patti Page album)\n",
      "Manhattan (Illinois)\n",
      "Manhattan (Kansas)\n",
      "Manhattan (Montana)\n",
      "Manhattan Beach\n",
      "Manhattan Beach (Californië)\n",
      "Manhattan Beach (Minnesota)\n",
      "Manhattan Pano Trio\n",
      "Manhattan Piano Trio\n",
      "Manhattan Solstice\n",
      "Manhattan, New York City\n",
      "Manhattan Class Company\n",
      "Manhattan District\n",
      "Manhattan station\n",
      "Manhattan (film)\n",
      "Manhattan Municipal Building\n",
      "Manhattan-metriek\n",
      "Manhattan\n",
      "Manhattan Engineering District\n",
      "Manhattan Murder Mystery\n",
      "Manhattan Area Technical College\n",
      "Manhattan Opera House\n",
      "Manhattan Life Insurance Building\n",
      "Manhattan (ujednoznacznienie)\n",
      "Manhattan Beach\n",
      "Manhattan bridge\n",
      "Manhattan Transfer (roman)\n",
      "Manhattan Civic Center\n",
      "Manhattan Theater Club\n",
      "Manhattan Chess Club\n",
      "Manhattan chess club\n",
      "Manhattan Life Insurance Building\n",
      "Manhattan Transfer\n",
      "Manhattan Baby\n",
      "Manhattan Mayhem\n",
      "Manhattan (schip, 1962)\n",
      "Manhattan (film)\n",
      "Manhattan School of Music\n",
      "Manhattan Parade\n",
      "Manhattan Airport\n",
      "Manhattan Building (Muskogee, Oklahoma)\n",
      "Manhattan school of music\n",
      "Manhattan Avenue\n",
      "Manhattan Bridge\n",
      "Manhattan Tower\n",
      "Manhattan\n",
      "Manhattan Connection\n",
      "Manhattan, KS mSA\n",
      "Manhattan (Kansas)\n",
      "Manhattan (serial telewizyjny)\n",
      "Manhattan Beach (Kalifornia)\n",
      "Manhattan (Illinois)\n",
      "Manhattan (Montana)\n",
      "Manhattan (filme)\n",
      "Manhattan Beach (Califórnia)\n",
      "Manhattan Beach (Minnesota)\n",
      "Manhattan ks\n",
      "Manhattan (Kansas)\n",
      "Manhattan Street (IRT Broadway-Seventh Avenue Line)\n",
      "Manhattan Building (Saint Paul, Minnesota)\n",
      "Manhattan Micropolitan Area\n",
      "Manhattan Micropolitan Statistical Area\n",
      "Manhattan micropolitan statistical area\n",
      "Manhattan μSA\n",
      "Manhattan, KS Micropolitan Area\n",
      "Manhattan, KS Micropolitan Statistical Area\n",
      "Manhattan, KS micropolitan area\n",
      "Manhattan, KS micropolitan statistical area\n",
      "Manhattan, Kansas Micropolitan Area\n",
      "Manhattan, Kansas Micropolitan Statistical Area\n",
      "Manhattan, Kansas micropolitan area\n",
      "Manhattan, Kansas μSA\n",
      "Manhattan, Kansas, metropolitan area\n",
      "Manhattan Melodrama\n",
      "Manhattan Murder Mystery\n",
      "Manhattan Records\n",
      "Manhattan/Hunter College High School for Sciences\n",
      "Manhattan Beach (Nova Iorque)\n",
      "Manhattan (coquetel)\n",
      "Manhattan (desambiguação)\n",
      "Manhattan Beach\n",
      "Manhattan Valley\n",
      "Manhattan Skyline (песня)\n",
      "Manhattan Avenue (Manhattan)\n",
      "Manhattan (Nevada)\n",
      "Manhattan Life Insurance Building\n",
      "Manhattan Water Company\n",
      "Manhattan length\n",
      "Manhattan Merry-Go-Round\n",
      "Manhattan Hill\n",
      "Manhattan Chess Club\n",
      "Manhattan Research Inc\n",
      "Manhattan West\n",
      "Manhattan, KS µSA\n",
      "Manhattan Tower (Gordon Jenkins 1956 album)\n",
      "Manhattan Well Murder\n",
      "Manhattan Well Mystery\n",
      "Manhattan Marriage Bureau\n",
      "Manhattan Theatre\n",
      "Manhattan Transfer (disambiguation)\n",
      "Manhattan Beach Pier\n",
      "Manhattan Beach State Recreation Site\n",
      "Manhattan Research Inc. (Raymond Scott album)\n",
      "Manhattan Day School\n",
      "Manhattan Tower (Tel Aviv)\n",
      "Manhattan Merry Go Round\n",
      "Manhattan Merry-Go-Round\n",
      "Manhattan micropolitan area\n",
      "Manhattan Declaration\n",
      "Manhattan declaration\n",
      "Manhattan D.A.\n",
      "Manhattan DA\n",
      "Manhattan District Attorney\n",
      "Manhattan Tower (film)\n",
      "Manhattan mobility model\n",
      "Manhattan, NV\n",
      "Manhattan (Kings of Leon song)\n",
      "Manhattan Moods\n",
      "Manhattan Valley viaduct\n",
      "Manhattan Terrace\n",
      "Manhattan beach california\n",
      "Manhattan streets, 1-14\n",
      "Manhattan madam\n",
      "Manhattan From The Sky\n",
      "Manhattan Is My Beat\n",
      "Manhattan Museum of Art\n",
      "Manhattan from the Sky\n",
      "Manhattan Media\n",
      "Manhattan Temple\n",
      "Manhattan High Line\n",
      "Manhattan bus route\n",
      "Manhattan bus routes\n",
      "Manhattan (New York, N.Y.)\n",
      "Manhattan Airport Foundation\n",
      "Manhattan Manhunt (CSI: NY episode)\n",
      "Manhattan plot\n",
      "Manhattan (1843)\n",
      "Manhattan (ship)\n",
      "Manhattan Beach Middle School\n",
      "Manhattan Special\n",
      "Manhattan special\n",
      "Manhattan Plot\n",
      "Manhattan State Hospital\n",
      "Manhattan Beach (Colorado)\n",
      "Manhattan Beach (Denver)\n",
      "Manhattan Beach (Edgewater, Colorado)\n",
      "Manhattan Clam Chowder\n",
      "Manhattan Criminal Court\n",
      "Manhattan's Upper West Side\n",
      "Manhattan Research\n",
      "Manhattan Declaration: A Call of Christian Conscience\n",
      "Manhattan Limited\n",
      "Manhattan Review\n",
      "Manhattan, KS MSA\n",
      "Manhattan henge\n",
      "Manhattan Cocktail (film)\n",
      "Manhattan, AZ\n",
      "Manhattan Cocktail (1928 film)\n",
      "Manhattan Institute\n",
      "Manhattan Soap Company\n",
      "Manhattan research\n",
      "Manhattan's Upper East Side\n",
      "Manhattan (YTB-779)\n",
      "Manhattan (game)\n",
      "Manhattan Building\n",
      "Manhattan Building (St. Paul, Minnesota)\n",
      "Manhattan Trade School for Girls\n",
      "Manhattan address algorithm\n",
      "Manhattan (1979 film)\n",
      "Manhattan/hunter science high school\n",
      "Manhattan 52nd Street Jazz center\n",
      "Manhattan Blue\n",
      "Manhattan norm\n",
      "Manhattan Beach (disambiguation)\n",
      "Manhattan Building (disambiguation)\n",
      "Manhattan Declaration (disambiguation)\n",
      "Manhattan State Hospital (disambiguation)\n",
      "Manhattan Tower (disambiguation)\n",
      "Manhattan convex hull\n",
      "Manhattan Bagel\n",
      "Manhattan Beach, Oregon\n",
      "Manhattan Company\n",
      "Manhattan Design\n",
      "Manhattan Project (album)\n",
      "Manhattan Veterans Hospital\n",
      "Manhattan's East Village\n",
      "Manhattan General\n",
      "Manhattan General Hospital\n",
      "Manhattan Manhunt (disambiguation)\n",
      "Manhattan Fever\n",
      "Manhattan State Hospital Chapel of St. Joseph (New York City)\n",
      "Manhattan Night of Murder\n",
      "Manhattan Board of Coroners\n",
      "Manhattan Valley, Manhattan\n",
      "Manhattan Jaspers men's basketball\n",
      "Manhattan Whitehall Terminal\n",
      "Manhattan Avenue–West 120th–123rd Streets Historic District\n",
      "Manhattan units\n",
      "Manhattan Fencing Center\n",
      "Manhattan Hungarian network\n",
      "Manhattan Movie Magazine\n",
      "Manhattan Village Academy\n",
      "Manhattan Beach (Florida)\n",
      "Manhattan Beach, Florida\n",
      "Manhattan Detention Complex\n",
      "Manhattan Loft Corporation\n",
      "Manhattan Parade (film)\n",
      "Manhattan Merry-Go-Round (film)\n",
      "Manhattan Music Box\n",
      "Manhattan, Kansas (song)\n",
      "Manhattan Beach Open\n",
      "Manhattan Club (hotel)\n",
      "Manhattan Construction Group\n",
      "Manhattan Theater Source\n",
      "Manhattan Investment Fund fraud\n",
      "Manhattan A.C.\n",
      "Manhattan Athletic Club\n",
      "Manhattan Field\n",
      "Manhattan Investment Fund\n",
      "Manhattan Beer Distributors\n",
      "Manhattan Cable Television\n",
      "Manhattan Laundry\n",
      "Manhattan Love Suicides\n",
      "Manhattan Chase\n",
      "Manhattan Sai Baba Center\n",
      "Manhattan Sai Center\n",
      "Manhattan Building (Chicago)\n",
      "Manhattan Skyline (disambiguation)\n",
      "Manhattan Carnegie Library Building\n",
      "Manhattan (album)\n",
      "Manhattan Jaspers men's soccer\n",
      "Manhattan Talmudical Academy\n",
      "Manhattan's Chinatown\n",
      "Manhattan Love Song\n",
      "Manhattan Knicks\n",
      "Manhattan Const. Co.\n",
      "Manhattan Construction Co.\n",
      "Manhattan Lady Jaspers\n",
      "Manhattan Rumble (49th Street Massacre)\n",
      "Manhattan Schist\n",
      "Manhattan Eye, Ear & Throat Hospital\n",
      "Manhattan (Once Upon a Time)\n",
      "Manhattan County\n",
      "Manhattan Ensemble Theatre\n",
      "Manhattan metropolitan area\n",
      "Manhattan Ensemble Theater\n",
      "Manhattan algorithm\n",
      "Manhattan Beach pier\n",
      "Manhattan Railway\n",
      "Manhattan Rebellion\n",
      "Manhattan, KS Metropolitan Statistical Area\n",
      "Manhattan-Junction City, KS Combined Statistical Area\n",
      "Manhattan Jaspers men's lacrosse\n",
      "Manhattan Lady Jaspers softball\n",
      "Manhattan Research, Inc.\n",
      "Manhattan Avenue-West 120th-123rd Streets Historic District\n",
      "Manhattan Jaspers track and field\n",
      "Manhattan Film Festival\n",
      "Manhattan Life Insurance Company\n",
      "Manhattan School\n",
      "Manhattan, New York City, New York\n",
      "Manhattan Beach, Calif.\n",
      "Manhattan and Queens Traction Company\n",
      "Manhattan Jaspers Baseball\n",
      "Manhattan, Kan.\n",
      "Manhattan Country School (Ogden Codman House)\n",
      "Manhattan International High School\n",
      "Manhattan Jaspers\n",
      "Manhattan Mine\n",
      "Manhattan Association of Cabarets and Clubs\n",
      "Manhattan Conservatory of Music\n",
      "Manhattan people\n",
      "Manhattan Jaspers Basketball\n",
      "Manhattan (1924 film)\n",
      "Manhattan (Metra)\n",
      "Manhattan Beach, FL\n",
      "Manhattan Bridge Loop\n",
      "Manhattan Declaration on Climate Change\n",
      "Manhattan (Skaters album)\n",
      "Manhattan Connection\n",
      "Manhattan mall\n",
      "Manhattan, Florida\n",
      "Manhattan Love Story\n",
      "Manhattan (TV series)\n",
      "Manhattan Road\n",
      "Manhattan, United States\n",
      "Manhattan Detention Facility\n",
      "Manhattan Valley Viaduct\n",
      "Manhattan, Indiana\n",
      "Manhattan Institute for Policy Research\n",
      "Manhattan Vigil\n",
      "Manhattan Transfer (H&M station)\n",
      "Manhattan House\n",
      "Manhattan Club\n",
      "Manhattan Club (social club)\n",
      "Manhattan Council\n",
      "Manhattan Jaspers men's cross country\n",
      "Manhattan AZ\n",
      "Manhattan Bail Project\n",
      "Manhattan Hotel\n",
      "Manhattan Panorama\n",
      "Manhattan Afternoon\n",
      "Manhattan Square Park\n",
      "Manhattan, New York, US\n",
      "Manhattan Air Force Station\n",
      "Manhattan Beach Air Force Station\n",
      "Manhattan International Airport\n",
      "Manhattan Co. Building\n",
      "Manhattan Tango\n",
      "Manhattan Loft Gardens\n",
      "Manhattan Motorcars\n",
      "Manhattan (soundtrack)\n",
      "Manhattan Latin\n",
      "Manhattan Madness\n",
      "Manhattan Heartbeat\n",
      "Manhattan Mercury\n",
      "Manhattan Civil Court\n",
      "Manhattan Koreatown\n",
      "Manhattan Project NHP\n",
      "Manhattan Project National Historical Park\n",
      "Manhattan civil court\n",
      "Manhattan Coup\n",
      "Manhattan Avenue (Brooklyn)\n",
      "Manhattan Moon\n",
      "Manhattan Cafe\n",
      "Manhattan's Sixth Avenue\n",
      "Manhattan (Metra station)\n",
      "Manhattan Bridge Three Cent Line\n",
      "Manhattan Bridge Three-Cent Line\n",
      "Manhattan station (Illinois)\n",
      "Manhattan station (Metra)\n",
      "Manhattan Angel\n",
      "Manhattan Beach Jewish Center\n",
      "Manhattan street grid\n",
      "Manhattan Night\n",
      "Manhattan report\n",
      "Manhattan Public Library\n",
      "Manhattan Jewish Experience\n",
      "Manhattan Vocational and Technical High School\n",
      "Manhattan bombing\n",
      "Manhattan\n",
      "Manhattan Township\n",
      "Manhattan Cocktail\n",
      "Manhattan Skyline\n",
      "Manhattan Skyline\n",
      "Manhattan Skyline\n",
      "Manhattan Skyline\n",
      "Manhattan\n",
      "Manhattan\n",
      "Manhattan\n",
      "Manhattan, Ilinwa\n",
      "Manhattan, Illinois\n",
      "Manhattan, Illinois\n",
      "Manhattan Baby\n",
      "Manhattan Baby\n",
      "Manhattan Baby\n",
      "Manhattan Guardian\n",
      "Manhattan Guardian\n",
      "Manhattan Transfer\n",
      "Manhattan Transfer\n",
      "Manhattan Community Board 2\n",
      "Manhattan Community Board 9\n",
      "Manhattan Community District 2\n",
      "Manhattan Community District 9\n",
      "Manhattan\n",
      "Manhattan (Once Upon a Time)\n",
      "Manhattan Beach\n",
      "Manhattan Beach\n",
      "Manhattan Beach\n",
      "Manhattan Beach\n",
      "Manhattan Beach\n",
      "Manhattan Beach\n",
      "Manhattan Beach\n",
      "Manhattan Beach\n",
      "Manhattan Beach\n",
      "Manhattan Beach\n",
      "Manhattan Beach\n",
      "Manhattan Beach\n",
      "Manhattan Beach\n",
      "Manhattan Beach\n",
      "Manhattan Design\n",
      "Manhattan Design\n",
      "Manhattan Tower\n",
      "Manhattan Tower\n",
      "Manhattan Tower\n",
      "Manhattan Community Board 10\n",
      "Manhattan Community District 10\n",
      "Manhattan Community Board 3\n",
      "Manhattan Community District 3\n",
      "Manhattan Building\n",
      "Manhattan West\n",
      "Manhattan West\n",
      "Manhattan Community Board 5\n",
      "Manhattan Community District 5\n",
      "Manhattan (grupa muzyczna)\n",
      "Manhattan, Quận Riley, Kansas\n",
      "Manhattan (ostrov)\n",
      "Manhattan (øy)\n",
      "Manhattan/Fort George\n",
      "Manhattan (Bratislava)\n",
      "Manhattan (Bratislava)\n",
      "Manhattan Mayhem IV\n",
      "Manhattan Tango\n",
      "Manhattan Dawn\n",
      "Manhattan Transfer (Band)/Diskografie\n",
      "Manhattan\n",
      "Manhattan\n",
      "Manhattan\n",
      "Manhattan\n",
      "Manhattan\n",
      "Manhattan\n",
      "Manhattan\n",
      "Manhattan\n",
      "Manhattan\n",
      "Manhattan\n",
      "Manhattan\n",
      "Manhattan\n",
      "Manhattan\n",
      "Manhattan\n",
      "Manhattan\n",
      "Manhattan\n",
      "Manhattan\n",
      "Manhattan\n",
      "Manhattan\n",
      "Manhattan\n",
      "Manhattan\n",
      "Manhattan\n",
      "Manhattan\n",
      "Manhattan\n",
      "Manhattan\n",
      "Manhattan\n",
      "Manhattan\n",
      "Manhattan\n",
      "Manhattan\n",
      "Manhattan\n",
      "Manhattan\n",
      "Manhattan\n",
      "Manhattan\n",
      "Manhattan\n",
      "Manhattan\n",
      "Manhattan\n",
      "Manhattan\n",
      "Manhattan\n",
      "Manhattan\n",
      "Manhattan\n",
      "Manhattan\n",
      "Manhattan\n",
      "Manhattan\n",
      "Manhattan\n",
      "Manhattan\n",
      "Manhattan\n",
      "Manhattan\n",
      "Manhattan Municipal Building\n",
      "Manhattan Municipal Building\n",
      "Manhattan'da Sihir\n",
      "Manhattan Beach\n",
      "Manhattan Beach\n",
      "Manhattan Beach\n",
      "Manhattan Beach\n",
      "Manhattan Beach (Kalifornija)\n",
      "Manhattan Beach (Kalifornija)\n",
      "Manhattan Beach, California\n",
      "Manhattan Beach, California\n",
      "Manhattan Beach, Kalifornia\n",
      "Manhattan Beach, Kalifòni\n",
      "Manhattan Beach, Kaliporniya\n",
      "Manhattan Life Insurance Company v. Broughton\n",
      "Manhattan Medicine Company v. Wood\n",
      "Manhattan Life Insurance Company of New York v. Cohen\n",
      "Manhattan Community Board 1\n",
      "Manhattan Community District 1\n",
      "Manhattan Center\n",
      "Manhattan Center\n",
      "Manhattan Center\n",
      "Manhattan\n",
      "Manhattan\n",
      "Manhattan\n",
      "Manhattan Shelbyville\n",
      "Manhattan Shelbyville\n",
      "Manhattan Shelbyville\n",
      "Manhattan Symphonie\n",
      "Manhattan Valley\n",
      "Manhattan Valley\n",
      "Manhattan Neighborhood Network\n",
      "Manhattan Project\n",
      "Manhattan Project\n",
      "Manhattan Soap Company\n",
      "Manhattan/Washington Heights\n",
      "Manhattan City scape\n",
      "Manhattan Latin\n",
      "Manhattan Love Story\n",
      "Manhattan Melodrama\n",
      "Manhattan Melodrama\n",
      "Manhattan Melodrama\n",
      "Manhattan Melodrama\n",
      "Manhattan Melodrama\n",
      "Manhattan Love Story\n",
      "Manhattan Love Story\n",
      "Manhattan General Equipment Company v. Commissioner of Internal Revenue\n",
      "Manhattan Bridge\n",
      "Manhattan Bridge\n",
      "Manhattan Bridge\n",
      "Manhattan Bridge\n",
      "Manhattan Bridge\n",
      "Manhattan Bridge\n",
      "Manhattan Bridge\n",
      "Manhattan Bridge\n",
      "Manhattan Köprüsü\n",
      "Manhattan Proiektua\n",
      "Manhattan Project\n",
      "Manhattan Project\n",
      "Manhattan Project\n",
      "Manhattan Projesi\n",
      "Manhattan híd\n",
      "Manhattan project\n",
      "Manhattan terv\n",
      "Manhattan-projekti\n",
      "Manhattan-verkefnið\n",
      "Manhattan Brothers\n",
      "Manhattan Brothers\n",
      "Manhattan Brothers\n",
      "Manhattan Afternoon\n",
      "Manhattan Panorama\n",
      "Manhattan Community Board 6\n",
      "Manhattan Community District 6\n",
      "Manhattan Transfer\n",
      "Manhattan Transfer\n",
      "Manhattan Transfer\n",
      "Manhattan Beach Studios\n",
      "Manhattan Kaputt\n",
      "Manhattan from the Sky\n",
      "Manhattan-Kaboul\n",
      "Manhattan Community Board 12\n",
      "Manhattan Community District 12\n",
      "Manhattan\n",
      "Manhattan\n",
      "Manhattan\n",
      "Manhattan, Kansas\n",
      "Manhattan, Kansas\n",
      "Manhattan városnegyedeinek listája\n",
      "Manhattan Im-ga̍k Ha̍k-īⁿ\n",
      "Manhattan School of Music\n",
      "Manhattan School of Music\n",
      "Manhattan School of Music\n",
      "Manhattan Clan#Coldstone\n",
      "Manhattan Moods\n",
      "Manhattan Moods\n",
      "Manhattan Records\n",
      "Manhattan Records\n",
      "Manhattan Records\n",
      "Manhattan Records\n",
      "Manhattan Records\n",
      "Manhattan Research Inc.\n",
      "Manhattan Serenade\n",
      "Manhattan Township\n",
      "Manhattan, Kansas\n",
      "Manhattan, Quận Will, Illinois\n",
      "Manhattan/Times Square\n",
      "Manhattan/Times Square\n",
      "Manhattan Community Board 8\n",
      "Manhattan Community District 8\n",
      "Manhattan Island\n",
      "Manhattan Merry-Go-Round\n",
      "Manhattan Merry-Go-Round\n",
      "Manhattan Merry-Go-Round\n",
      "Manhattan Routing\n",
      "Manhattan Community Board 11\n",
      "Manhattan Community Board 4\n",
      "Manhattan Community District 11\n",
      "Manhattan Community District 4\n",
      "Manhattan Jazz Quintet\n",
      "Manhattan/Manhattanville\n",
      "Manhattan/Roosevelt Island\n",
      "Manhattan Mushroom Company LLC\n",
      "Manhattan Steak House\n",
      "Manhattan Piano Trio\n",
      "Manhattan Tuesday\n",
      "Manhattan Romance\n",
      "Manhattan Romance\n",
      "Manhattan Card\n",
      "Manhattan Bank v. Walker Walker\n",
      "Manhattan Mayhem V\n",
      "Manhattan\n",
      "Manhattan (disheñvelout)\n",
      "Manhattan-metriek\n",
      "Manhattan Beach\n",
      "Manhattan Beach\n",
      "Manhattan Beach\n",
      "Manhattan Beach, Minnesota\n",
      "Manhattan I\n",
      "Manhattan Vijfje\n",
      "Manhattan kicsiben\n",
      "Manhattan Life Insurance Building\n",
      "Manhattan Life Insurance Building\n",
      "Manhattan Life Insurance Building\n",
      "Manhattan Point\n",
      "Manhattan Island from the Jersey Meadows\n",
      "Manhattan Chess Club\n",
      "Manhattan Love Song\n",
      "Manhattan Tower\n",
      "Manhattan Project\n",
      "Manhattan College\n",
      "Manhattan College\n",
      "Manhattan College\n",
      "Manhattan College\n",
      "Manhattan College\n",
      "Manhattan College\n",
      "Manhattan Community Board 7\n",
      "Manhattan Community District 7\n",
      "Manhattan Short Film Festival\n",
      "Manhattan Boogie-Woogie\n",
      "Manhattan Boogie-Woogie\n",
      "Manhattan Fever\n",
      "Manhattan Fever\n",
      "Manhattan Transfer\n",
      "Manhattan (Verlag)\n",
      "Manhattan Murder Mystery\n",
      "Manhattan Murder Mystery\n",
      "Manhattan Murder Mystery\n",
      "Manhattan Murder Mystery\n",
      "Manhattan Murder Mystery\n",
      "Manhattan Murder Mystery\n",
      "Manhattan mord mysteriet\n",
      "Manhattan Associates\n",
      "Manhattan Associates\n",
      "Manhattan Associates\n",
      "Manhattan Makuhari Hotel\n",
      "Manhattan/Hamilton Heights\n",
      "Manhattan (bokserie)\n",
      "Manhattan special\n",
      "Manhattan Vigil\n",
      "Manhattan Vigil\n",
      "Manhattan_Island\n",
      "Manhattan_Project\n",
      "Manhattan Properties v. Irving Trust Company\n",
      "Manhattan_clam_chowder\n"
     ]
    }
   ],
   "source": [
    "print('\\n'.join(result1_names))"
   ]
  },
  {
   "cell_type": "code",
   "execution_count": 50,
   "metadata": {
    "collapsed": false
   },
   "outputs": [
    {
     "name": "stdout",
     "output_type": "stream",
     "text": [
      "non English results: Manhattan (Art Farmer)\n",
      "Manhattan (Begriffsklärung)\n",
      "Manhattan (Bratislava)\n",
      "Manhattan (Cocktail)\n",
      "Manhattan (Fernsehserie)\n",
      "Manhattan (Film)\n",
      "Manhattan (Illinois)\n",
      "Manhattan (Montana)\n",
      "Manhattan (Nevada)\n",
      "Manhattan (Schiff)\n",
      "Manhattan (Spiel)\n",
      "Manhattan (Verlag)\n",
      "Manhattan (bokserie)\n",
      "Manhattan (coquetel)\n",
      "Manhattan (cóctel)\n",
      "Manhattan (desambiguación)\n",
      "Manhattan (desambiguação)\n",
      "Manhattan (disambigua)\n",
      "Manhattan (disheñvelout)\n",
      "Manhattan (film, 1979)\n",
      "Manhattan (filme)\n",
      "Manhattan (grupa muzyczna)\n",
      "Manhattan (homonymie)\n",
      "Manhattan (jeu)\n",
      "Manhattan (ostrov)\n",
      "Manhattan (paquebot)\n",
      "Manhattan (película)\n",
      "Manhattan (pétrolier)\n",
      "Manhattan (schip, 1962)\n",
      "Manhattan (serial telewizyjny)\n",
      "Manhattan (serie televisiva)\n",
      "Manhattan (série télévisée)\n",
      "Manhattan (ujednoznacznienie)\n",
      "Manhattan (øy)\n",
      "Manhattan Beach (Brooklyn)\n",
      "Manhattan Beach (California)\n",
      "Manhattan Beach (Californie)\n",
      "Manhattan Beach (Californië)\n",
      "Manhattan Beach (Califórnia)\n",
      "Manhattan Beach (Kalifornia)\n",
      "Manhattan Beach (Kalifornija)\n",
      "Manhattan Beach (Minnesota)\n",
      "Manhattan Beach (New York)\n",
      "Manhattan Beach (Nova Iorque)\n",
      "Manhattan Beach Studios\n",
      "Manhattan Beach, Kalifornia\n",
      "Manhattan Beach, Kalifòni\n",
      "Manhattan Beach, Kaliporniya\n",
      "Manhattan Card\n",
      "Manhattan Center (New York)\n",
      "Manhattan City scape\n",
      "Manhattan Community District 1\n",
      "Manhattan Community District 10\n",
      "Manhattan Community District 11\n",
      "Manhattan Community District 12\n",
      "Manhattan Community District 2\n",
      "Manhattan Community District 3\n",
      "Manhattan Community District 4\n",
      "Manhattan Community District 5\n",
      "Manhattan Community District 6\n",
      "Manhattan Community District 7\n",
      "Manhattan Community District 8\n",
      "Manhattan Community District 9\n",
      "Manhattan From the Sky\n",
      "Manhattan Im-ga̍k Ha̍k-īⁿ\n",
      "Manhattan Kaputt\n",
      "Manhattan Köprüsü\n",
      "Manhattan Life Building\n",
      "Manhattan Makuhari Hotel\n",
      "Manhattan Mayhem IV\n",
      "Manhattan Mayhem V\n",
      "Manhattan Point\n",
      "Manhattan Proiektua\n",
      "Manhattan Project (Dizzy Reece)\n",
      "Manhattan Projesi\n",
      "Manhattan Research Inc\n",
      "Manhattan Routing\n",
      "Manhattan Samouraï\n",
      "Manhattan Skyline (песня)\n",
      "Manhattan Solo\n",
      "Manhattan Steak House\n",
      "Manhattan Symphonie\n",
      "Manhattan Transfer (Bahnhof)\n",
      "Manhattan Transfer (Band)/Diskografie\n",
      "Manhattan Transfer (Roman)\n",
      "Manhattan Transfer (homonymie)\n",
      "Manhattan Transfer (novela)\n",
      "Manhattan Transfer (roman)\n",
      "Manhattan Transfer (romanzo)\n",
      "Manhattan Vijfje\n",
      "Manhattan híd\n",
      "Manhattan kicsiben\n",
      "Manhattan mord mysteriet\n",
      "Manhattan terv\n",
      "Manhattan városnegyedeinek listája\n",
      "Manhattan'da Sihir\n",
      "Manhattan, Ilinwa\n",
      "Manhattan, Quận Riley, Kansas\n",
      "Manhattan, Quận Will, Illinois\n",
      "Manhattan-Erklärung\n",
      "Manhattan-Metrik\n",
      "Manhattan-Projekt\n",
      "Manhattan-metriek\n",
      "Manhattan-projekti\n",
      "Manhattan-verkefnið\n",
      "Manhattan/Fort George\n",
      "Manhattan/Hamilton Heights\n",
      "Manhattan/Manhattanville\n",
      "Manhattan/Roosevelt Island\n",
      "Manhattan/Times Square\n",
      "Manhattan/Washington Heights\n",
      "Manhattan_Island\n",
      "Manhattan_Project\n",
      "Manhattan_clam_chowder\n",
      "Manhattanville (Manhattan)\n"
     ]
    }
   ],
   "source": [
    "# get non-English results\n",
    "non_en_results = sorted(set(result1_names) - set(result2_names))\n",
    "print('non English results: %s'%('\\n'.join(non\n",
    "                                           _en_results)))"
   ]
  },
  {
   "cell_type": "code",
   "execution_count": 51,
   "metadata": {
    "collapsed": false
   },
   "outputs": [
    {
     "name": "stdout",
     "output_type": "stream",
     "text": [
      "English results: Manhattan\n",
      "Manhattan & Bronx Surface Transit Operating Authority\n",
      "Manhattan (1843 ship)\n",
      "Manhattan (1843)\n",
      "Manhattan (1924 film)\n",
      "Manhattan (1979 film)\n",
      "Manhattan (1979 movie)\n",
      "Manhattan (Kansas)\n",
      "Manhattan (Kansas) High School\n",
      "Manhattan (Kings of Leon song)\n",
      "Manhattan (Metra station)\n",
      "Manhattan (Metra)\n",
      "Manhattan (NY)\n",
      "Manhattan (New York)\n",
      "Manhattan (New York, N.Y.)\n",
      "Manhattan (Once Upon a Time)\n",
      "Manhattan (Skaters album)\n",
      "Manhattan (TV series)\n",
      "Manhattan (YTB-779)\n",
      "Manhattan (album)\n",
      "Manhattan (beverage)\n",
      "Manhattan (board game)\n",
      "Manhattan (borough)\n",
      "Manhattan (cocktail)\n",
      "Manhattan (disambiguation)\n",
      "Manhattan (drink)\n",
      "Manhattan (film)\n",
      "Manhattan (game)\n",
      "Manhattan (ship)\n",
      "Manhattan (song)\n",
      "Manhattan (soundtrack)\n",
      "Manhattan 52nd Street Jazz center\n",
      "Manhattan A.C.\n",
      "Manhattan AZ\n",
      "Manhattan Afternoon\n",
      "Manhattan Air Force Station\n",
      "Manhattan Airport\n",
      "Manhattan Airport Foundation\n",
      "Manhattan Angel\n",
      "Manhattan Area Technical College\n",
      "Manhattan Associates\n",
      "Manhattan Association of Cabarets & Clubs\n",
      "Manhattan Association of Cabarets and Clubs\n",
      "Manhattan Athletic Club\n",
      "Manhattan Avenue\n",
      "Manhattan Avenue (Brooklyn)\n",
      "Manhattan Avenue (Manhattan)\n",
      "Manhattan Avenue-West 120th-123rd Streets Historic District\n",
      "Manhattan Avenue–West 120th–123rd Streets Historic District\n",
      "Manhattan Baby\n",
      "Manhattan Bagel\n",
      "Manhattan Bail Project\n",
      "Manhattan Bank v. Walker Walker\n",
      "Manhattan Beach\n",
      "Manhattan Beach (Colorado)\n",
      "Manhattan Beach (Denver)\n",
      "Manhattan Beach (Edgewater, Colorado)\n",
      "Manhattan Beach (Florida)\n",
      "Manhattan Beach (disambiguation)\n",
      "Manhattan Beach (march)\n",
      "Manhattan Beach Air Force Station\n",
      "Manhattan Beach Boulevard\n",
      "Manhattan Beach Branch\n",
      "Manhattan Beach Branch (LIRR)\n",
      "Manhattan Beach Crossing (BMT Lexington Avenue Line)\n",
      "Manhattan Beach Division\n",
      "Manhattan Beach Jewish Center\n",
      "Manhattan Beach Line\n",
      "Manhattan Beach March\n",
      "Manhattan Beach Middle School\n",
      "Manhattan Beach Open\n",
      "Manhattan Beach Pier\n",
      "Manhattan Beach Railroad Crossing (LIRR station)\n",
      "Manhattan Beach State Recreation Site\n",
      "Manhattan Beach Unified School District\n",
      "Manhattan Beach pier\n",
      "Manhattan Beach, Brooklyn\n",
      "Manhattan Beach, Brooklyn, New York\n",
      "Manhattan Beach, CA\n",
      "Manhattan Beach, Calif.\n",
      "Manhattan Beach, California\n",
      "Manhattan Beach, FL\n",
      "Manhattan Beach, Florida\n",
      "Manhattan Beach, MN\n",
      "Manhattan Beach, Minnesota\n",
      "Manhattan Beach, NY\n",
      "Manhattan Beach, New York\n",
      "Manhattan Beach, Oregon\n",
      "Manhattan Beer Distributors\n",
      "Manhattan Blue\n",
      "Manhattan Board of Coroners\n",
      "Manhattan Boogie-Woogie\n",
      "Manhattan Borough President\n",
      "Manhattan Brewing Company\n",
      "Manhattan Brewing Company of Chicago\n",
      "Manhattan Brewing Company of New York\n",
      "Manhattan Bridge\n",
      "Manhattan Bridge (New York Subway)\n",
      "Manhattan Bridge Line\n",
      "Manhattan Bridge Loop\n",
      "Manhattan Bridge Three Cent Line\n",
      "Manhattan Bridge Three-Cent Line\n",
      "Manhattan Bridge north tracks\n",
      "Manhattan Bridge south tracks\n",
      "Manhattan Bridge subway tracks\n",
      "Manhattan Brothers\n",
      "Manhattan Building\n",
      "Manhattan Building (Chicago)\n",
      "Manhattan Building (Chicago, Illinois)\n",
      "Manhattan Building (Muskogee, Oklahoma)\n",
      "Manhattan Building (Saint Paul, Minnesota)\n",
      "Manhattan Building (St. Paul, Minnesota)\n",
      "Manhattan Building (disambiguation)\n",
      "Manhattan Cable Television\n",
      "Manhattan Cafe\n",
      "Manhattan Carnegie Library Building\n",
      "Manhattan Center\n",
      "Manhattan Center Studios\n",
      "Manhattan Center for Science & Mathematics\n",
      "Manhattan Center for Science and Mathematics\n",
      "Manhattan Chamber Orchestra\n",
      "Manhattan Chamber of Commerce\n",
      "Manhattan Chase\n",
      "Manhattan Chess Club\n",
      "Manhattan Chinatown\n",
      "Manhattan Christian College\n",
      "Manhattan Civic Center\n",
      "Manhattan Civil Court\n",
      "Manhattan Clam Chowder\n",
      "Manhattan Clan\n",
      "Manhattan Clan#Coldstone\n",
      "Manhattan Class Company\n",
      "Manhattan Clique\n",
      "Manhattan Club\n",
      "Manhattan Club (hotel)\n",
      "Manhattan Club (social club)\n",
      "Manhattan Co. Building\n",
      "Manhattan Cocktail\n",
      "Manhattan Cocktail (1928 film)\n",
      "Manhattan Cocktail (film)\n",
      "Manhattan College\n",
      "Manhattan College alumni\n",
      "Manhattan College faculty\n",
      "Manhattan College people\n",
      "Manhattan Commune\n",
      "Manhattan Community Board 1\n",
      "Manhattan Community Board 10\n",
      "Manhattan Community Board 11\n",
      "Manhattan Community Board 12\n",
      "Manhattan Community Board 2\n",
      "Manhattan Community Board 3\n",
      "Manhattan Community Board 4\n",
      "Manhattan Community Board 5\n",
      "Manhattan Community Board 6\n",
      "Manhattan Community Board 7\n",
      "Manhattan Community Board 8\n",
      "Manhattan Community Board 9\n",
      "Manhattan Community Boards\n",
      "Manhattan Community College\n",
      "Manhattan Company\n",
      "Manhattan Company Building\n",
      "Manhattan Connection\n",
      "Manhattan Conservatory of Music\n",
      "Manhattan Const. Co.\n",
      "Manhattan Construction Co.\n",
      "Manhattan Construction Company\n",
      "Manhattan Construction Group\n",
      "Manhattan Council\n",
      "Manhattan Country School\n",
      "Manhattan Country School (Ogden Codman House)\n",
      "Manhattan County\n",
      "Manhattan Coup\n",
      "Manhattan Criminal Court\n",
      "Manhattan Crossing (LIRR station)\n",
      "Manhattan Cruise Terminal\n",
      "Manhattan D.A.\n",
      "Manhattan DA\n",
      "Manhattan Dawn\n",
      "Manhattan Day School\n",
      "Manhattan Declaration\n",
      "Manhattan Declaration (disambiguation)\n",
      "Manhattan Declaration on Climate Change\n",
      "Manhattan Declaration: A Call of Christian Conscience\n",
      "Manhattan Design\n",
      "Manhattan Detention Complex\n",
      "Manhattan Detention Facility\n",
      "Manhattan District\n",
      "Manhattan District Attorney\n",
      "Manhattan District Project\n",
      "Manhattan Elevated Railway\n",
      "Manhattan Elks players\n",
      "Manhattan Engineer District\n",
      "Manhattan Engineering District\n",
      "Manhattan Ensemble Theater\n",
      "Manhattan Ensemble Theatre\n",
      "Manhattan Express\n",
      "Manhattan Eye, Ear & Throat Hospital\n",
      "Manhattan Eye, Ear and Throat Hospital\n",
      "Manhattan Fencing Center\n",
      "Manhattan Fever\n",
      "Manhattan Field\n",
      "Manhattan Film Festival\n",
      "Manhattan From The Sky\n",
      "Manhattan General\n",
      "Manhattan General Equipment Company v. Commissioner of Internal Revenue\n",
      "Manhattan General Hospital\n",
      "Manhattan Guardian\n",
      "Manhattan Handicap\n",
      "Manhattan Heartbeat\n",
      "Manhattan Heights\n",
      "Manhattan Heights, Manhattan Beach, California\n",
      "Manhattan High Line\n",
      "Manhattan High School\n",
      "Manhattan High School (Kansas)\n",
      "Manhattan Hill\n",
      "Manhattan Hotel\n",
      "Manhattan House\n",
      "Manhattan Hungarian Network\n",
      "Manhattan Hungarian network\n",
      "Manhattan I\n",
      "Manhattan Institute\n",
      "Manhattan Institute for Policy Research\n",
      "Manhattan International Airport\n",
      "Manhattan International High School\n",
      "Manhattan Investment Fund\n",
      "Manhattan Investment Fund fraud\n",
      "Manhattan Is My Beat\n",
      "Manhattan Island\n",
      "Manhattan Island from the Jersey Meadows\n",
      "Manhattan Jaspers\n",
      "Manhattan Jaspers Baseball\n",
      "Manhattan Jaspers Basketball\n",
      "Manhattan Jaspers and Lady Jaspers\n",
      "Manhattan Jaspers and Lady Jaspers athletes\n",
      "Manhattan Jaspers and Lady Jaspers coaches\n",
      "Manhattan Jaspers and Lady Jaspers navigational boxes\n",
      "Manhattan Jaspers and Lady Jaspers seasons by team\n",
      "Manhattan Jaspers and Lady Jaspers track and field athletes\n",
      "Manhattan Jaspers baseball\n",
      "Manhattan Jaspers baseball coaches\n",
      "Manhattan Jaspers baseball players\n",
      "Manhattan Jaspers basketball\n",
      "Manhattan Jaspers basketball coaches\n",
      "Manhattan Jaspers basketball navigational boxes\n",
      "Manhattan Jaspers basketball players\n",
      "Manhattan Jaspers basketball seasons\n",
      "Manhattan Jaspers coaches\n",
      "Manhattan Jaspers football\n",
      "Manhattan Jaspers football coaches\n",
      "Manhattan Jaspers football players\n",
      "Manhattan Jaspers men's basketball\n",
      "Manhattan Jaspers men's cross country\n",
      "Manhattan Jaspers men's lacrosse\n",
      "Manhattan Jaspers men's soccer\n",
      "Manhattan Jaspers track and field\n",
      "Manhattan Jazz Quintet\n",
      "Manhattan Jewish Experience\n",
      "Manhattan Junction (BMT Fulton Street Line)\n",
      "Manhattan Knicks\n",
      "Manhattan Koreatown\n",
      "Manhattan Lady Jaspers\n",
      "Manhattan Lady Jaspers softball\n",
      "Manhattan Latin\n",
      "Manhattan Laundry\n",
      "Manhattan Libertarian Party\n",
      "Manhattan Life Insurance Building\n",
      "Manhattan Life Insurance Company\n",
      "Manhattan Life Insurance Company of New York v. Cohen\n",
      "Manhattan Life Insurance Company v. Broughton\n",
      "Manhattan Limited\n",
      "Manhattan Loft Corporation\n",
      "Manhattan Loft Gardens\n",
      "Manhattan Love Song\n",
      "Manhattan Love Story\n",
      "Manhattan Love Suicides\n",
      "Manhattan Madness\n",
      "Manhattan Mall\n",
      "Manhattan Manhunt\n",
      "Manhattan Manhunt (CSI episode)\n",
      "Manhattan Manhunt (CSI: NY episode)\n",
      "Manhattan Manhunt (CSI: NY)\n",
      "Manhattan Manhunt (disambiguation)\n",
      "Manhattan Maroons players\n",
      "Manhattan Marriage Bureau\n",
      "Manhattan Mayhem\n",
      "Manhattan Media\n",
      "Manhattan Medicine Company v. Wood\n",
      "Manhattan Melodrama\n",
      "Manhattan Mercury\n",
      "Manhattan Merry Go Round\n",
      "Manhattan Merry-Go-Round\n",
      "Manhattan Merry-Go-Round (film)\n",
      "Manhattan Micropolitan Area\n",
      "Manhattan Micropolitan Statistical Area\n",
      "Manhattan Middle School of Arts and Academics\n",
      "Manhattan Mine\n",
      "Manhattan Mini Storage\n",
      "Manhattan Moods\n",
      "Manhattan Moon\n",
      "Manhattan Motorcars\n",
      "Manhattan Movie Magazine\n",
      "Manhattan Municipal Building\n",
      "Manhattan Murder Mystery\n",
      "Manhattan Museum of Art\n",
      "Manhattan Mushroom Company LLC\n",
      "Manhattan Music Box\n",
      "Manhattan Neighborhood Network\n",
      "Manhattan New York Temple\n",
      "Manhattan Night\n",
      "Manhattan Night of Murder\n",
      "Manhattan Nocturne\n",
      "Manhattan Opera Company\n",
      "Manhattan Opera House\n",
      "Manhattan Pano Trio\n",
      "Manhattan Panorama\n",
      "Manhattan Parade\n",
      "Manhattan Parade (film)\n",
      "Manhattan Piano Trio\n",
      "Manhattan Plaza\n",
      "Manhattan Plot\n",
      "Manhattan Project\n",
      "Manhattan Project (album)\n",
      "Manhattan Project (disambiguation)\n",
      "Manhattan Project (film)\n",
      "Manhattan Project (movie)\n",
      "Manhattan Project (song)\n",
      "Manhattan Project NHP\n",
      "Manhattan Project National Historical Park\n",
      "Manhattan Project people\n",
      "Manhattan Properties v. Irving Trust Company\n",
      "Manhattan Psychiatric Center\n",
      "Manhattan Public Library\n",
      "Manhattan Railway\n",
      "Manhattan Railway Company\n",
      "Manhattan Rebellion\n",
      "Manhattan Records\n",
      "Manhattan Records albums\n",
      "Manhattan Records artists\n",
      "Manhattan Records singles\n",
      "Manhattan Regional Airport\n",
      "Manhattan Registered Historic Place stubs\n",
      "Manhattan Research\n",
      "Manhattan Research Inc.\n",
      "Manhattan Research Inc. (Raymond Scott album)\n",
      "Manhattan Research, Inc.\n",
      "Manhattan Review\n",
      "Manhattan Road\n",
      "Manhattan Romance\n",
      "Manhattan Rumble (49th Street Massacre)\n",
      "Manhattan Sai Baba Center\n",
      "Manhattan Sai Center\n",
      "Manhattan Schist\n",
      "Manhattan School\n",
      "Manhattan School of Music\n",
      "Manhattan School of Music Precollege Division\n",
      "Manhattan School of Music alumni\n",
      "Manhattan School of Music faculty\n",
      "Manhattan Serenade\n",
      "Manhattan Shelbyville\n",
      "Manhattan Short Film Festival\n",
      "Manhattan Skyline\n",
      "Manhattan Skyline (disambiguation)\n",
      "Manhattan Skyline (song)\n",
      "Manhattan Soap Company\n",
      "Manhattan Solstice\n",
      "Manhattan Special\n",
      "Manhattan Spotlight\n",
      "Manhattan Square\n",
      "Manhattan Square Park\n",
      "Manhattan State Hospital\n",
      "Manhattan State Hospital (disambiguation)\n",
      "Manhattan State Hospital Chapel of St. Joseph (New York City)\n",
      "Manhattan Street (IRT Broadway-Seventh Avenue Line)\n",
      "Manhattan Street (IRT Broadway–Seventh Avenue Line)\n",
      "Manhattan Supply Company\n",
      "Manhattan Supreme Court\n",
      "Manhattan Talmudical Academy\n",
      "Manhattan Tango\n",
      "Manhattan Temple\n",
      "Manhattan Terrace\n",
      "Manhattan Theater Club\n",
      "Manhattan Theater Source\n",
      "Manhattan Theatre\n",
      "Manhattan Theatre Club\n",
      "Manhattan Theatre Source\n",
      "Manhattan Tower\n",
      "Manhattan Tower (Gordon Jenkins 1956 album)\n",
      "Manhattan Tower (Gordon Jenkins album)\n",
      "Manhattan Tower (Patti Page album)\n",
      "Manhattan Tower (Tel Aviv)\n",
      "Manhattan Tower (disambiguation)\n",
      "Manhattan Tower (film)\n",
      "Manhattan Township\n",
      "Manhattan Township, Will County, Illinois\n",
      "Manhattan Trade School for Girls\n",
      "Manhattan Transfer\n",
      "Manhattan Transfer (H&M station)\n",
      "Manhattan Transfer (PATH station)\n",
      "Manhattan Transfer (PRR station)\n",
      "Manhattan Transfer (band)\n",
      "Manhattan Transfer (disambiguation)\n",
      "Manhattan Transfer (novel)\n",
      "Manhattan Tuesday\n",
      "Manhattan Valley\n",
      "Manhattan Valley Viaduct\n",
      "Manhattan Valley viaduct\n",
      "Manhattan Valley, Manhattan\n",
      "Manhattan Veterans Hospital\n",
      "Manhattan Vigil\n",
      "Manhattan Village Academy\n",
      "Manhattan Vocational and Technical High School\n",
      "Manhattan Water Company\n",
      "Manhattan Waterfront Greenway\n",
      "Manhattan Well Murder\n",
      "Manhattan Well Mystery\n",
      "Manhattan West\n",
      "Manhattan Whitehall Terminal\n",
      "Manhattan Wildlife Refuge\n",
      "Manhattan address algorithm\n",
      "Manhattan algorithm\n",
      "Manhattan and Bronx Surface Transit Operating Authority\n",
      "Manhattan and Queens Traction Company\n",
      "Manhattan beach california\n",
      "Manhattan bombing\n",
      "Manhattan borough presidents\n",
      "Manhattan bridge\n",
      "Manhattan building and structure stubs\n",
      "Manhattan bus route\n",
      "Manhattan bus routes\n",
      "Manhattan center for Science & Mathematics\n",
      "Manhattan chess club\n",
      "Manhattan church stubs\n",
      "Manhattan civil court\n",
      "Manhattan clam chowder\n",
      "Manhattan clan\n",
      "Manhattan cocktail\n",
      "Manhattan convex hull\n",
      "Manhattan declaration\n",
      "Manhattan distance\n",
      "Manhattan distance formula\n",
      "Manhattan distance transform\n",
      "Manhattan from the Sky\n",
      "Manhattan geometry\n",
      "Manhattan henge\n",
      "Manhattan hungarian network\n",
      "Manhattan in fiction\n",
      "Manhattan island\n",
      "Manhattan ks\n",
      "Manhattan length\n",
      "Manhattan loft\n",
      "Manhattan madam\n",
      "Manhattan mall\n",
      "Manhattan melodrama\n",
      "Manhattan metric\n",
      "Manhattan metropolitan area\n",
      "Manhattan micropolitan area\n",
      "Manhattan micropolitan statistical area\n",
      "Manhattan mobility model\n",
      "Manhattan neighborhoods\n",
      "Manhattan norm\n",
      "Manhattan people\n",
      "Manhattan plot\n",
      "Manhattan project\n",
      "Manhattan railway station stubs\n",
      "Manhattan report\n",
      "Manhattan research\n",
      "Manhattan schist\n",
      "Manhattan school of music\n",
      "Manhattan solstice\n",
      "Manhattan special\n",
      "Manhattan station\n",
      "Manhattan station (Illinois)\n",
      "Manhattan station (Metra)\n",
      "Manhattan steam network\n",
      "Manhattan street grid\n",
      "Manhattan streets, 1-14\n",
      "Manhattan streets, 15-59\n",
      "Manhattan streets, 23-42\n",
      "Manhattan trade\n",
      "Manhattan units\n",
      "Manhattan wiring\n",
      "Manhattan μSA\n",
      "Manhattan's Chinatown\n",
      "Manhattan's East Side\n",
      "Manhattan's East Village\n",
      "Manhattan's Sixth Avenue\n",
      "Manhattan's Upper East Side\n",
      "Manhattan's Upper West Side\n",
      "Manhattan's West Side\n",
      "Manhattan, AZ\n",
      "Manhattan, CO\n",
      "Manhattan, Colorado\n",
      "Manhattan, Florida\n",
      "Manhattan, IL\n",
      "Manhattan, Illinois\n",
      "Manhattan, Indiana\n",
      "Manhattan, KS\n",
      "Manhattan, KS MSA\n",
      "Manhattan, KS Metropolitan Statistical Area\n",
      "Manhattan, KS Micropolitan Area\n",
      "Manhattan, KS Micropolitan Statistical Area\n",
      "Manhattan, KS mSA\n",
      "Manhattan, KS micropolitan area\n",
      "Manhattan, KS micropolitan statistical area\n",
      "Manhattan, KS µSA\n",
      "Manhattan, KS μSA\n",
      "Manhattan, Kan.\n",
      "Manhattan, Kansas\n",
      "Manhattan, Kansas (song)\n",
      "Manhattan, Kansas Micropolitan Area\n",
      "Manhattan, Kansas Micropolitan Statistical Area\n",
      "Manhattan, Kansas metropolitan area\n",
      "Manhattan, Kansas micropolitan area\n",
      "Manhattan, Kansas μSA\n",
      "Manhattan, Kansas, metropolitan area\n",
      "Manhattan, MT\n",
      "Manhattan, Montana\n",
      "Manhattan, NV\n",
      "Manhattan, NY\n",
      "Manhattan, Nevada\n",
      "Manhattan, New York\n",
      "Manhattan, New York (state)\n",
      "Manhattan, New York City\n",
      "Manhattan, New York City, New York\n",
      "Manhattan, New York, US\n",
      "Manhattan, United States\n",
      "Manhattan-Junction City, KS Combined Statistical Area\n",
      "Manhattan-Kaboul\n",
      "Manhattan/Hunter College High School for Sciences\n",
      "Manhattan/hunter science high school\n",
      "Manhattanville, Manhattan\n"
     ]
    }
   ],
   "source": [
    "print('English results: %s'%('\\n'.join(result2_names)))"
   ]
  },
  {
   "cell_type": "markdown",
   "metadata": {},
   "source": [
    "First big problem: lots of duplicates.\n",
    "\n",
    "- `Manhattan Beach Pier` and `Manhattan Beach pier`\n",
    "- `Manhattan Building (Chicago)` and `Manhattan Building (Chicago, Illinois)`\n",
    "- `Manhattan Theater Club` and `Manhattan Theatre Club`\n",
    "- `Manhattan, KS MSA` and `Manhattan, KS Metropolitan Statistical Area`\n",
    "\n",
    "Also irrelevant metadata.\n",
    "\n",
    "- `Manhattan Transfer (disambiguation)`"
   ]
  },
  {
   "cell_type": "markdown",
   "metadata": {},
   "source": [
    "## Deduplicating results\n",
    "Can we write a better query that gets rid of the duplicates?"
   ]
  },
  {
   "cell_type": "code",
   "execution_count": 100,
   "metadata": {
    "collapsed": false
   },
   "outputs": [
    {
     "name": "stdout",
     "output_type": "stream",
     "text": [
      "{u'name': {u'xml:lang': u'en', u'type': u'literal', u'value': u'Manhattan & Bronx Surface Transit Operating Authority'}, u'directs': {u'type': u'uri', u'value': u'http://dbpedia.org/resource/MTA_Regional_Bus_Operations'}}\n",
      "{u'name': {u'xml:lang': u'en', u'type': u'literal', u'value': u'Manhattan (1843)'}, u'directs': {u'type': u'uri', u'value': u'http://dbpedia.org/resource/Manhattan_(1843_ship)'}}\n",
      "{u'name': {u'xml:lang': u'en', u'type': u'literal', u'value': u'Manhattan (1979 film)'}, u'directs': {u'type': u'uri', u'value': u'http://dbpedia.org/resource/Manhattan_(film)'}}\n",
      "{u'name': {u'xml:lang': u'en', u'type': u'literal', u'value': u'Manhattan (1979 movie)'}, u'directs': {u'type': u'uri', u'value': u'http://dbpedia.org/resource/Manhattan_(film)'}}\n",
      "{u'name': {u'xml:lang': u'en', u'type': u'literal', u'value': u'Manhattan (Kansas)'}, u'directs': {u'type': u'uri', u'value': u'http://dbpedia.org/resource/Manhattan,_Kansas'}}\n",
      "{u'name': {u'xml:lang': u'en', u'type': u'literal', u'value': u'Manhattan (Kansas) High School'}, u'directs': {u'type': u'uri', u'value': u'http://dbpedia.org/resource/Manhattan_High_School'}}\n",
      "{u'name': {u'xml:lang': u'en', u'type': u'literal', u'value': u'Manhattan (Kings of Leon song)'}, u'directs': {u'type': u'uri', u'value': u'http://dbpedia.org/resource/Only_by_the_Night'}}\n",
      "{u'name': {u'xml:lang': u'en', u'type': u'literal', u'value': u'Manhattan (Metra station)'}, u'directs': {u'type': u'uri', u'value': u'http://dbpedia.org/resource/Manhattan_station'}}\n",
      "{u'name': {u'xml:lang': u'en', u'type': u'literal', u'value': u'Manhattan (Metra)'}, u'directs': {u'type': u'uri', u'value': u'http://dbpedia.org/resource/Manhattan_station'}}\n",
      "{u'name': {u'xml:lang': u'en', u'type': u'literal', u'value': u'Manhattan (NY)'}, u'directs': {u'type': u'uri', u'value': u'http://dbpedia.org/resource/Manhattan'}}\n",
      "{u'name': {u'xml:lang': u'en', u'type': u'literal', u'value': u'Manhattan (New York)'}, u'directs': {u'type': u'uri', u'value': u'http://dbpedia.org/resource/Manhattan'}}\n",
      "{u'name': {u'xml:lang': u'en', u'type': u'literal', u'value': u'Manhattan (New York, N.Y.)'}, u'directs': {u'type': u'uri', u'value': u'http://dbpedia.org/resource/Manhattan'}}\n",
      "{u'name': {u'xml:lang': u'en', u'type': u'literal', u'value': u'Manhattan (beverage)'}, u'directs': {u'type': u'uri', u'value': u'http://dbpedia.org/resource/Manhattan_(cocktail)'}}\n",
      "{u'name': {u'xml:lang': u'en', u'type': u'literal', u'value': u'Manhattan (borough)'}, u'directs': {u'type': u'uri', u'value': u'http://dbpedia.org/resource/Manhattan'}}\n",
      "{u'name': {u'xml:lang': u'en', u'type': u'literal', u'value': u'Manhattan (drink)'}, u'directs': {u'type': u'uri', u'value': u'http://dbpedia.org/resource/Manhattan_(cocktail)'}}\n",
      "{u'name': {u'xml:lang': u'en', u'type': u'literal', u'value': u'Manhattan (game)'}, u'directs': {u'type': u'uri', u'value': u'http://dbpedia.org/resource/Manhattan_(board_game)'}}\n",
      "{u'name': {u'xml:lang': u'en', u'type': u'literal', u'value': u'Manhattan 52nd Street Jazz center'}, u'directs': {u'type': u'uri', u'value': u'http://dbpedia.org/resource/52nd_Street_(Manhattan)'}}\n",
      "{u'name': {u'xml:lang': u'en', u'type': u'literal', u'value': u'Manhattan A.C.'}, u'directs': {u'type': u'uri', u'value': u'http://dbpedia.org/resource/Manhattan_Athletic_Club'}}\n",
      "{u'name': {u'xml:lang': u'en', u'type': u'literal', u'value': u'Manhattan AZ'}, u'directs': {u'type': u'uri', u'value': u'http://dbpedia.org/resource/Manhattan,_AZ'}}\n",
      "{u'name': {u'xml:lang': u'en', u'type': u'literal', u'value': u'Manhattan Air Force Station'}, u'directs': {u'type': u'uri', u'value': u'http://dbpedia.org/resource/Manhattan_Beach_Air_Force_Station'}}\n",
      "{u'name': {u'xml:lang': u'en', u'type': u'literal', u'value': u'Manhattan Airport'}, u'directs': {u'type': u'uri', u'value': u'http://dbpedia.org/resource/Manhattan_Regional_Airport'}}\n",
      "{u'name': {u'xml:lang': u'en', u'type': u'literal', u'value': u'Manhattan Association of Cabarets & Clubs'}, u'directs': {u'type': u'uri', u'value': u'http://dbpedia.org/resource/MAC_Awards'}}\n",
      "{u'name': {u'xml:lang': u'en', u'type': u'literal', u'value': u'Manhattan Association of Cabarets and Clubs'}, u'directs': {u'type': u'uri', u'value': u'http://dbpedia.org/resource/MAC_Awards'}}\n",
      "{u'name': {u'xml:lang': u'en', u'type': u'literal', u'value': u'Manhattan Avenue (Brooklyn)'}, u'directs': {u'type': u'uri', u'value': u'http://dbpedia.org/resource/Manhattan_Avenue'}}\n",
      "{u'name': {u'xml:lang': u'en', u'type': u'literal', u'value': u'Manhattan Avenue (Manhattan)'}, u'directs': {u'type': u'uri', u'value': u'http://dbpedia.org/resource/Manhattan_Avenue'}}\n",
      "{u'name': {u'xml:lang': u'en', u'type': u'literal', u'value': u'Manhattan Avenue-West 120th-123rd Streets Historic District'}, u'directs': {u'type': u'uri', u'value': u'http://dbpedia.org/resource/Manhattan_Avenue\\u2013West_120th\\u2013123rd_Streets_Historic_District'}}\n",
      "{u'name': {u'xml:lang': u'en', u'type': u'literal', u'value': u'Manhattan Bagel'}, u'directs': {u'type': u'uri', u'value': u'http://dbpedia.org/resource/Einstein_Bros._Bagels'}}\n",
      "{u'name': {u'xml:lang': u'en', u'type': u'literal', u'value': u'Manhattan Bail Project'}, u'directs': {u'type': u'uri', u'value': u'http://dbpedia.org/resource/Pretrial_services_programs'}}\n",
      "{u'name': {u'xml:lang': u'en', u'type': u'literal', u'value': u'Manhattan Beach (Colorado)'}, u'directs': {u'type': u'uri', u'value': u'http://dbpedia.org/resource/Manhattan_Beach_(Denver)'}}\n",
      "{u'name': {u'xml:lang': u'en', u'type': u'literal', u'value': u'Manhattan Beach (Edgewater, Colorado)'}, u'directs': {u'type': u'uri', u'value': u'http://dbpedia.org/resource/Manhattan_Beach_(Denver)'}}\n",
      "{u'name': {u'xml:lang': u'en', u'type': u'literal', u'value': u'Manhattan Beach (Florida)'}, u'directs': {u'type': u'uri', u'value': u'http://dbpedia.org/resource/Hanna_Park'}}\n",
      "{u'name': {u'xml:lang': u'en', u'type': u'literal', u'value': u'Manhattan Beach (disambiguation)'}, u'directs': {u'type': u'uri', u'value': u'http://dbpedia.org/resource/Manhattan_Beach'}}\n",
      "{u'name': {u'xml:lang': u'en', u'type': u'literal', u'value': u'Manhattan Beach Branch (LIRR)'}, u'directs': {u'type': u'uri', u'value': u'http://dbpedia.org/resource/Manhattan_Beach_Branch'}}\n",
      "{u'name': {u'xml:lang': u'en', u'type': u'literal', u'value': u'Manhattan Beach Crossing (BMT Lexington Avenue Line)'}, u'directs': {u'type': u'uri', u'value': u'http://dbpedia.org/resource/Broadway_Junction_(New_York_City_Subway)'}}\n",
      "{u'name': {u'xml:lang': u'en', u'type': u'literal', u'value': u'Manhattan Beach Division'}, u'directs': {u'type': u'uri', u'value': u'http://dbpedia.org/resource/Manhattan_Beach_Branch'}}\n",
      "{u'name': {u'xml:lang': u'en', u'type': u'literal', u'value': u'Manhattan Beach March'}, u'directs': {u'type': u'uri', u'value': u'http://dbpedia.org/resource/Manhattan_Beach_(march)'}}\n",
      "{u'name': {u'xml:lang': u'en', u'type': u'literal', u'value': u'Manhattan Beach Middle School'}, u'directs': {u'type': u'uri', u'value': u'http://dbpedia.org/resource/Manhattan_Beach_Unified_School_District'}}\n",
      "{u'name': {u'xml:lang': u'en', u'type': u'literal', u'value': u'Manhattan Beach Railroad Crossing (LIRR station)'}, u'directs': {u'type': u'uri', u'value': u'http://dbpedia.org/resource/East_New_York_(LIRR_station)'}}\n",
      "{u'name': {u'xml:lang': u'en', u'type': u'literal', u'value': u'Manhattan Beach pier'}, u'directs': {u'type': u'uri', u'value': u'http://dbpedia.org/resource/Manhattan_Beach_Pier'}}\n",
      "{u'name': {u'xml:lang': u'en', u'type': u'literal', u'value': u'Manhattan Beach, Brooklyn, New York'}, u'directs': {u'type': u'uri', u'value': u'http://dbpedia.org/resource/Manhattan_Beach,_Brooklyn'}}\n",
      "{u'name': {u'xml:lang': u'en', u'type': u'literal', u'value': u'Manhattan Beach, CA'}, u'directs': {u'type': u'uri', u'value': u'http://dbpedia.org/resource/Manhattan_Beach,_California'}}\n",
      "{u'name': {u'xml:lang': u'en', u'type': u'literal', u'value': u'Manhattan Beach, Calif.'}, u'directs': {u'type': u'uri', u'value': u'http://dbpedia.org/resource/Manhattan_Beach,_California'}}\n",
      "{u'name': {u'xml:lang': u'en', u'type': u'literal', u'value': u'Manhattan Beach, FL'}, u'directs': {u'type': u'uri', u'value': u'http://dbpedia.org/resource/Hanna_Park'}}\n",
      "{u'name': {u'xml:lang': u'en', u'type': u'literal', u'value': u'Manhattan Beach, Florida'}, u'directs': {u'type': u'uri', u'value': u'http://dbpedia.org/resource/Hanna_Park'}}\n",
      "{u'name': {u'xml:lang': u'en', u'type': u'literal', u'value': u'Manhattan Beach, MN'}, u'directs': {u'type': u'uri', u'value': u'http://dbpedia.org/resource/Manhattan_Beach,_Minnesota'}}\n",
      "{u'name': {u'xml:lang': u'en', u'type': u'literal', u'value': u'Manhattan Beach, NY'}, u'directs': {u'type': u'uri', u'value': u'http://dbpedia.org/resource/Manhattan_Beach,_Brooklyn'}}\n",
      "{u'name': {u'xml:lang': u'en', u'type': u'literal', u'value': u'Manhattan Beach, New York'}, u'directs': {u'type': u'uri', u'value': u'http://dbpedia.org/resource/Manhattan_Beach,_Brooklyn'}}\n",
      "{u'name': {u'xml:lang': u'en', u'type': u'literal', u'value': u'Manhattan Blue'}, u'directs': {u'type': u'uri', u'value': u'http://dbpedia.org/resource/Give_It_All_Away_(Theo_Tams_album)'}}\n",
      "{u'name': {u'xml:lang': u'en', u'type': u'literal', u'value': u'Manhattan Borough President'}, u'directs': {u'type': u'uri', u'value': u'http://dbpedia.org/resource/Borough_president'}}\n",
      "{u'name': {u'xml:lang': u'en', u'type': u'literal', u'value': u'Manhattan Bridge (New York Subway)'}, u'directs': {u'type': u'uri', u'value': u'http://dbpedia.org/resource/Manhattan_Bridge'}}\n",
      "{u'name': {u'xml:lang': u'en', u'type': u'literal', u'value': u'Manhattan Bridge Line'}, u'directs': {u'type': u'uri', u'value': u'http://dbpedia.org/resource/Manhattan_Bridge'}}\n",
      "{u'name': {u'xml:lang': u'en', u'type': u'literal', u'value': u'Manhattan Bridge Three-Cent Line'}, u'directs': {u'type': u'uri', u'value': u'http://dbpedia.org/resource/Manhattan_Bridge_Three_Cent_Line'}}\n",
      "{u'name': {u'xml:lang': u'en', u'type': u'literal', u'value': u'Manhattan Bridge north tracks'}, u'directs': {u'type': u'uri', u'value': u'http://dbpedia.org/resource/Manhattan_Bridge'}}\n",
      "{u'name': {u'xml:lang': u'en', u'type': u'literal', u'value': u'Manhattan Bridge south tracks'}, u'directs': {u'type': u'uri', u'value': u'http://dbpedia.org/resource/Manhattan_Bridge'}}\n",
      "{u'name': {u'xml:lang': u'en', u'type': u'literal', u'value': u'Manhattan Bridge subway tracks'}, u'directs': {u'type': u'uri', u'value': u'http://dbpedia.org/resource/Manhattan_Bridge'}}\n",
      "{u'name': {u'xml:lang': u'en', u'type': u'literal', u'value': u'Manhattan Building (Chicago)'}, u'directs': {u'type': u'uri', u'value': u'http://dbpedia.org/resource/Manhattan_Building_(Chicago,_Illinois)'}}\n",
      "{u'name': {u'xml:lang': u'en', u'type': u'literal', u'value': u'Manhattan Building (St. Paul, Minnesota)'}, u'directs': {u'type': u'uri', u'value': u'http://dbpedia.org/resource/Manhattan_Building_(Saint_Paul,_Minnesota)'}}\n",
      "{u'name': {u'xml:lang': u'en', u'type': u'literal', u'value': u'Manhattan Building (disambiguation)'}, u'directs': {u'type': u'uri', u'value': u'http://dbpedia.org/resource/Manhattan_Building'}}\n",
      "{u'name': {u'xml:lang': u'en', u'type': u'literal', u'value': u'Manhattan Cable Television'}, u'directs': {u'type': u'uri', u'value': u'http://dbpedia.org/resource/HBO'}}\n",
      "{u'name': {u'xml:lang': u'en', u'type': u'literal', u'value': u'Manhattan Center Studios'}, u'directs': {u'type': u'uri', u'value': u'http://dbpedia.org/resource/Manhattan_Center'}}\n",
      "{u'name': {u'xml:lang': u'en', u'type': u'literal', u'value': u'Manhattan Center for Science & Mathematics'}, u'directs': {u'type': u'uri', u'value': u'http://dbpedia.org/resource/Manhattan_Center_for_Science_and_Mathematics'}}\n",
      "{u'name': {u'xml:lang': u'en', u'type': u'literal', u'value': u'Manhattan Chinatown'}, u'directs': {u'type': u'uri', u'value': u'http://dbpedia.org/resource/Chinatown,_Manhattan'}}\n",
      "{u'name': {u'xml:lang': u'en', u'type': u'literal', u'value': u'Manhattan Civic Center'}, u'directs': {u'type': u'uri', u'value': u'http://dbpedia.org/resource/Civic_Center,_Manhattan'}}\n",
      "{u'name': {u'xml:lang': u'en', u'type': u'literal', u'value': u'Manhattan Civil Court'}, u'directs': {u'type': u'uri', u'value': u'http://dbpedia.org/resource/New_York_City_Civil_Court'}}\n",
      "{u'name': {u'xml:lang': u'en', u'type': u'literal', u'value': u'Manhattan Clam Chowder'}, u'directs': {u'type': u'uri', u'value': u'http://dbpedia.org/resource/Clam_chowder'}}\n",
      "{u'name': {u'xml:lang': u'en', u'type': u'literal', u'value': u'Manhattan Class Company'}, u'directs': {u'type': u'uri', u'value': u'http://dbpedia.org/resource/MCC_Theater'}}\n",
      "{u'name': {u'xml:lang': u'en', u'type': u'literal', u'value': u'Manhattan Club (hotel)'}, u'directs': {u'type': u'uri', u'value': u'http://dbpedia.org/resource/Park_Central_Hotel'}}\n",
      "{u'name': {u'xml:lang': u'en', u'type': u'literal', u'value': u'Manhattan Co. Building'}, u'directs': {u'type': u'uri', u'value': u'http://dbpedia.org/resource/The_Trump_Building'}}\n",
      "{u'name': {u'xml:lang': u'en', u'type': u'literal', u'value': u'Manhattan Cocktail (1928 film)'}, u'directs': {u'type': u'uri', u'value': u'http://dbpedia.org/resource/Manhattan_Cocktail_(film)'}}\n",
      "{u'name': {u'xml:lang': u'en', u'type': u'literal', u'value': u'Manhattan Commune'}, u'directs': {u'type': u'uri', u'value': u'http://dbpedia.org/resource/The_Difference_Engine'}}\n",
      "{u'name': {u'xml:lang': u'en', u'type': u'literal', u'value': u'Manhattan Community College'}, u'directs': {u'type': u'uri', u'value': u'http://dbpedia.org/resource/Borough_of_Manhattan_Community_College'}}\n",
      "{u'name': {u'xml:lang': u'en', u'type': u'literal', u'value': u'Manhattan Company'}, u'directs': {u'type': u'uri', u'value': u'http://dbpedia.org/resource/The_Manhattan_Company'}}\n",
      "{u'name': {u'xml:lang': u'en', u'type': u'literal', u'value': u'Manhattan Company Building'}, u'directs': {u'type': u'uri', u'value': u'http://dbpedia.org/resource/The_Trump_Building'}}\n",
      "{u'name': {u'xml:lang': u'en', u'type': u'literal', u'value': u'Manhattan Conservatory of Music'}, u'directs': {u'type': u'uri', u'value': u'http://dbpedia.org/resource/Manhattan_School_of_Music'}}\n",
      "{u'name': {u'xml:lang': u'en', u'type': u'literal', u'value': u'Manhattan Const. Co.'}, u'directs': {u'type': u'uri', u'value': u'http://dbpedia.org/resource/Manhattan_Construction_Company'}}\n",
      "{u'name': {u'xml:lang': u'en', u'type': u'literal', u'value': u'Manhattan Construction Co.'}, u'directs': {u'type': u'uri', u'value': u'http://dbpedia.org/resource/Manhattan_Construction_Company'}}\n",
      "{u'name': {u'xml:lang': u'en', u'type': u'literal', u'value': u'Manhattan Construction Group'}, u'directs': {u'type': u'uri', u'value': u'http://dbpedia.org/resource/Manhattan_Construction_Company'}}\n",
      "{u'name': {u'xml:lang': u'en', u'type': u'literal', u'value': u'Manhattan Council'}, u'directs': {u'type': u'uri', u'value': u'http://dbpedia.org/resource/Greater_New_York_Councils'}}\n",
      "{u'name': {u'xml:lang': u'en', u'type': u'literal', u'value': u'Manhattan Country School (Ogden Codman House)'}, u'directs': {u'type': u'uri', u'value': u'http://dbpedia.org/resource/Ogden_Codman_House'}}\n",
      "{u'name': {u'xml:lang': u'en', u'type': u'literal', u'value': u'Manhattan County'}, u'directs': {u'type': u'uri', u'value': u'http://dbpedia.org/resource/Manhattan'}}\n",
      "{u'name': {u'xml:lang': u'en', u'type': u'literal', u'value': u'Manhattan Coup'}, u'directs': {u'type': u'uri', u'value': u'http://dbpedia.org/resource/Manhattan_Rebellion'}}\n",
      "{u'name': {u'xml:lang': u'en', u'type': u'literal', u'value': u'Manhattan Criminal Court'}, u'directs': {u'type': u'uri', u'value': u'http://dbpedia.org/resource/New_York_City_Criminal_Court'}}\n",
      "{u'name': {u'xml:lang': u'en', u'type': u'literal', u'value': u'Manhattan Crossing (LIRR station)'}, u'directs': {u'type': u'uri', u'value': u'http://dbpedia.org/resource/East_New_York_(LIRR_station)'}}\n",
      "{u'name': {u'xml:lang': u'en', u'type': u'literal', u'value': u'Manhattan Cruise Terminal'}, u'directs': {u'type': u'uri', u'value': u'http://dbpedia.org/resource/New_York_Passenger_Ship_Terminal'}}\n",
      "{u'name': {u'xml:lang': u'en', u'type': u'literal', u'value': u'Manhattan D.A.'}, u'directs': {u'type': u'uri', u'value': u'http://dbpedia.org/resource/New_York_County_District_Attorney'}}\n",
      "{u'name': {u'xml:lang': u'en', u'type': u'literal', u'value': u'Manhattan DA'}, u'directs': {u'type': u'uri', u'value': u'http://dbpedia.org/resource/New_York_County_District_Attorney'}}\n",
      "{u'name': {u'xml:lang': u'en', u'type': u'literal', u'value': u'Manhattan Declaration (disambiguation)'}, u'directs': {u'type': u'uri', u'value': u'http://dbpedia.org/resource/Manhattan_Declaration'}}\n",
      "{u'name': {u'xml:lang': u'en', u'type': u'literal', u'value': u'Manhattan Declaration on Climate Change'}, u'directs': {u'type': u'uri', u'value': u'http://dbpedia.org/resource/International_Conference_on_Climate_Change'}}\n",
      "{u'name': {u'xml:lang': u'en', u'type': u'literal', u'value': u'Manhattan Detention Complex'}, u'directs': {u'type': u'uri', u'value': u'http://dbpedia.org/resource/The_Tombs'}}\n",
      "{u'name': {u'xml:lang': u'en', u'type': u'literal', u'value': u'Manhattan Detention Facility'}, u'directs': {u'type': u'uri', u'value': u'http://dbpedia.org/resource/The_Tombs'}}\n",
      "{u'name': {u'xml:lang': u'en', u'type': u'literal', u'value': u'Manhattan District'}, u'directs': {u'type': u'uri', u'value': u'http://dbpedia.org/resource/Manhattan_Project'}}\n",
      "{u'name': {u'xml:lang': u'en', u'type': u'literal', u'value': u'Manhattan District Attorney'}, u'directs': {u'type': u'uri', u'value': u'http://dbpedia.org/resource/New_York_County_District_Attorney'}}\n",
      "{u'name': {u'xml:lang': u'en', u'type': u'literal', u'value': u'Manhattan District Project'}, u'directs': {u'type': u'uri', u'value': u'http://dbpedia.org/resource/Manhattan_Project'}}\n",
      "{u'name': {u'xml:lang': u'en', u'type': u'literal', u'value': u'Manhattan Elevated Railway'}, u'directs': {u'type': u'uri', u'value': u'http://dbpedia.org/resource/Manhattan_Railway_Company'}}\n",
      "{u'name': {u'xml:lang': u'en', u'type': u'literal', u'value': u'Manhattan Engineer District'}, u'directs': {u'type': u'uri', u'value': u'http://dbpedia.org/resource/Manhattan_Project'}}\n",
      "{u'name': {u'xml:lang': u'en', u'type': u'literal', u'value': u'Manhattan Engineering District'}, u'directs': {u'type': u'uri', u'value': u'http://dbpedia.org/resource/Manhattan_Project'}}\n",
      "{u'name': {u'xml:lang': u'en', u'type': u'literal', u'value': u'Manhattan Ensemble Theater'}, u'directs': {u'type': u'uri', u'value': u'http://dbpedia.org/resource/Manhattan_Ensemble_Theatre'}}\n",
      "{u'name': {u'xml:lang': u'en', u'type': u'literal', u'value': u'Manhattan Express'}, u'directs': {u'type': u'uri', u'value': u'http://dbpedia.org/resource/The_Roller_Coaster'}}\n",
      "{u'name': {u'xml:lang': u'en', u'type': u'literal', u'value': u'Manhattan Eye, Ear & Throat Hospital'}, u'directs': {u'type': u'uri', u'value': u'http://dbpedia.org/resource/Manhattan_Eye,_Ear_and_Throat_Hospital'}}\n",
      "{u'name': {u'xml:lang': u'en', u'type': u'literal', u'value': u'Manhattan Field'}, u'directs': {u'type': u'uri', u'value': u'http://dbpedia.org/resource/Polo_Grounds'}}\n",
      "{u'name': {u'xml:lang': u'en', u'type': u'literal', u'value': u'Manhattan From The Sky'}, u'directs': {u'type': u'uri', u'value': u'http://dbpedia.org/resource/Manhattan_from_the_Sky'}}\n",
      "{u'name': {u'xml:lang': u'en', u'type': u'literal', u'value': u'Manhattan General'}, u'directs': {u'type': u'uri', u'value': u'http://dbpedia.org/resource/Mount_Sinai_Beth_Israel'}}\n",
      "{u'name': {u'xml:lang': u'en', u'type': u'literal', u'value': u'Manhattan General Hospital'}, u'directs': {u'type': u'uri', u'value': u'http://dbpedia.org/resource/Mount_Sinai_Beth_Israel'}}\n",
      "{u'name': {u'xml:lang': u'en', u'type': u'literal', u'value': u'Manhattan Heights, Manhattan Beach, California'}, u'directs': {u'type': u'uri', u'value': u'http://dbpedia.org/resource/Manhattan_Beach,_California'}}\n",
      "{u'name': {u'xml:lang': u'en', u'type': u'literal', u'value': u'Manhattan High Line'}, u'directs': {u'type': u'uri', u'value': u'http://dbpedia.org/resource/High_Line_(New_York_City)'}}\n",
      "{u'name': {u'xml:lang': u'en', u'type': u'literal', u'value': u'Manhattan High School (Kansas)'}, u'directs': {u'type': u'uri', u'value': u'http://dbpedia.org/resource/Manhattan_High_School'}}\n",
      "{u'name': {u'xml:lang': u'en', u'type': u'literal', u'value': u'Manhattan Hotel'}, u'directs': {u'type': u'uri', u'value': u'http://dbpedia.org/resource/Hotel_Manhattan'}}\n",
      "{u'name': {u'xml:lang': u'en', u'type': u'literal', u'value': u'Manhattan Hungarian network'}, u'directs': {u'type': u'uri', u'value': u'http://dbpedia.org/resource/Manhattan_Hungarian_Network'}}\n",
      "{u'name': {u'xml:lang': u'en', u'type': u'literal', u'value': u'Manhattan Institute'}, u'directs': {u'type': u'uri', u'value': u'http://dbpedia.org/resource/Manhattan_Institute_for_Policy_Research'}}\n",
      "{u'name': {u'xml:lang': u'en', u'type': u'literal', u'value': u'Manhattan International Airport'}, u'directs': {u'type': u'uri', u'value': u'http://dbpedia.org/resource/Manhattan_Airport_Foundation'}}\n",
      "{u'name': {u'xml:lang': u'en', u'type': u'literal', u'value': u'Manhattan International High School'}, u'directs': {u'type': u'uri', u'value': u'http://dbpedia.org/resource/Julia_Richman_Education_Complex'}}\n",
      "{u'name': {u'xml:lang': u'en', u'type': u'literal', u'value': u'Manhattan Investment Fund'}, u'directs': {u'type': u'uri', u'value': u'http://dbpedia.org/resource/Manhattan_Investment_Fund_fraud'}}\n",
      "{u'name': {u'xml:lang': u'en', u'type': u'literal', u'value': u'Manhattan Island'}, u'directs': {u'type': u'uri', u'value': u'http://dbpedia.org/resource/Manhattan'}}\n",
      "{u'name': {u'xml:lang': u'en', u'type': u'literal', u'value': u'Manhattan Jaspers'}, u'directs': {u'type': u'uri', u'value': u'http://dbpedia.org/resource/Manhattan_Jaspers_and_Lady_Jaspers'}}\n",
      "{u'name': {u'xml:lang': u'en', u'type': u'literal', u'value': u'Manhattan Jaspers Baseball'}, u'directs': {u'type': u'uri', u'value': u'http://dbpedia.org/resource/Manhattan_Jaspers_baseball'}}\n",
      "{u'name': {u'xml:lang': u'en', u'type': u'literal', u'value': u'Manhattan Jaspers Basketball'}, u'directs': {u'type': u'uri', u'value': u'http://dbpedia.org/resource/Manhattan_Jaspers_basketball'}}\n",
      "{u'name': {u'xml:lang': u'en', u'type': u'literal', u'value': u'Manhattan Jaspers football'}, u'directs': {u'type': u'uri', u'value': u'http://dbpedia.org/resource/Manhattan_College'}}\n",
      "{u'name': {u'xml:lang': u'en', u'type': u'literal', u'value': u\"Manhattan Jaspers men's basketball\"}, u'directs': {u'type': u'uri', u'value': u'http://dbpedia.org/resource/Manhattan_Jaspers_basketball'}}\n",
      "{u'name': {u'xml:lang': u'en', u'type': u'literal', u'value': u\"Manhattan Jaspers men's cross country\"}, u'directs': {u'type': u'uri', u'value': u'http://dbpedia.org/resource/Manhattan_Jaspers_and_Lady_Jaspers'}}\n",
      "{u'name': {u'xml:lang': u'en', u'type': u'literal', u'value': u\"Manhattan Jaspers men's lacrosse\"}, u'directs': {u'type': u'uri', u'value': u'http://dbpedia.org/resource/Manhattan_Jaspers_and_Lady_Jaspers'}}\n",
      "{u'name': {u'xml:lang': u'en', u'type': u'literal', u'value': u\"Manhattan Jaspers men's soccer\"}, u'directs': {u'type': u'uri', u'value': u'http://dbpedia.org/resource/Manhattan_Jaspers_and_Lady_Jaspers'}}\n",
      "{u'name': {u'xml:lang': u'en', u'type': u'literal', u'value': u'Manhattan Jaspers track and field'}, u'directs': {u'type': u'uri', u'value': u'http://dbpedia.org/resource/Manhattan_Jaspers_and_Lady_Jaspers'}}\n",
      "{u'name': {u'xml:lang': u'en', u'type': u'literal', u'value': u'Manhattan Junction (BMT Fulton Street Line)'}, u'directs': {u'type': u'uri', u'value': u'http://dbpedia.org/resource/Broadway_Junction_(New_York_City_Subway)'}}\n",
      "{u'name': {u'xml:lang': u'en', u'type': u'literal', u'value': u'Manhattan Knicks'}, u'directs': {u'type': u'uri', u'value': u'http://dbpedia.org/resource/New_York_Knicks'}}\n",
      "{u'name': {u'xml:lang': u'en', u'type': u'literal', u'value': u'Manhattan Koreatown'}, u'directs': {u'type': u'uri', u'value': u'http://dbpedia.org/resource/Koreatown,_Manhattan'}}\n",
      "{u'name': {u'xml:lang': u'en', u'type': u'literal', u'value': u'Manhattan Lady Jaspers'}, u'directs': {u'type': u'uri', u'value': u'http://dbpedia.org/resource/Manhattan_Jaspers_and_Lady_Jaspers'}}\n",
      "{u'name': {u'xml:lang': u'en', u'type': u'literal', u'value': u'Manhattan Lady Jaspers softball'}, u'directs': {u'type': u'uri', u'value': u'http://dbpedia.org/resource/Manhattan_Jaspers_and_Lady_Jaspers'}}\n",
      "{u'name': {u'xml:lang': u'en', u'type': u'literal', u'value': u'Manhattan Libertarian Party'}, u'directs': {u'type': u'uri', u'value': u'http://dbpedia.org/resource/Libertarian_Party_of_New_York'}}\n",
      "{u'name': {u'xml:lang': u'en', u'type': u'literal', u'value': u'Manhattan Love Suicides'}, u'directs': {u'type': u'uri', u'value': u'http://dbpedia.org/resource/The_Manhattan_Love_Suicides'}}\n",
      "{u'name': {u'xml:lang': u'en', u'type': u'literal', u'value': u'Manhattan Madness'}, u'directs': {u'type': u'uri', u'value': u'http://dbpedia.org/resource/Adventure_in_Manhattan'}}\n",
      "{u'name': {u'xml:lang': u'en', u'type': u'literal', u'value': u'Manhattan Manhunt (CSI episode)'}, u'directs': {u'type': u'uri', u'value': u'http://dbpedia.org/resource/CSI:_NY'}}\n",
      "{u'name': {u'xml:lang': u'en', u'type': u'literal', u'value': u'Manhattan Manhunt (CSI: NY episode)'}, u'directs': {u'type': u'uri', u'value': u'http://dbpedia.org/resource/CSI:_NY'}}\n",
      "{u'name': {u'xml:lang': u'en', u'type': u'literal', u'value': u'Manhattan Manhunt (CSI: NY)'}, u'directs': {u'type': u'uri', u'value': u'http://dbpedia.org/resource/CSI:_NY_(season_2)'}}\n",
      "{u'name': {u'xml:lang': u'en', u'type': u'literal', u'value': u'Manhattan Manhunt (disambiguation)'}, u'directs': {u'type': u'uri', u'value': u'http://dbpedia.org/resource/Manhattan_Manhunt'}}\n",
      "{u'name': {u'xml:lang': u'en', u'type': u'literal', u'value': u'Manhattan Mayhem'}, u'directs': {u'type': u'uri', u'value': u'http://dbpedia.org/resource/New_York_Dolls'}}\n",
      "{u'name': {u'xml:lang': u'en', u'type': u'literal', u'value': u'Manhattan Mercury'}, u'directs': {u'type': u'uri', u'value': u'http://dbpedia.org/resource/The_Manhattan_Mercury'}}\n",
      "{u'name': {u'xml:lang': u'en', u'type': u'literal', u'value': u'Manhattan Merry Go Round'}, u'directs': {u'type': u'uri', u'value': u'http://dbpedia.org/resource/Manhattan_Merry-Go-Round'}}\n",
      "{u'name': {u'xml:lang': u'en', u'type': u'literal', u'value': u'Manhattan Micropolitan Area'}, u'directs': {u'type': u'uri', u'value': u'http://dbpedia.org/resource/Manhattan,_Kansas,_metropolitan_area'}}\n",
      "{u'name': {u'xml:lang': u'en', u'type': u'literal', u'value': u'Manhattan Micropolitan Statistical Area'}, u'directs': {u'type': u'uri', u'value': u'http://dbpedia.org/resource/Manhattan,_Kansas,_metropolitan_area'}}\n",
      "{u'name': {u'xml:lang': u'en', u'type': u'literal', u'value': u'Manhattan Middle School of Arts and Academics'}, u'directs': {u'type': u'uri', u'value': u'http://dbpedia.org/resource/Boulder_Valley_School_District'}}\n",
      "{u'name': {u'xml:lang': u'en', u'type': u'literal', u'value': u'Manhattan Mine'}, u'directs': {u'type': u'uri', u'value': u'http://dbpedia.org/resource/Sulphur_Bank_Mine'}}\n",
      "{u'name': {u'xml:lang': u'en', u'type': u'literal', u'value': u'Manhattan Moon'}, u'directs': {u'type': u'uri', u'value': u'http://dbpedia.org/resource/Sing_Me_a_Love_Song'}}\n",
      "{u'name': {u'xml:lang': u'en', u'type': u'literal', u'value': u'Manhattan Museum of Art'}, u'directs': {u'type': u'uri', u'value': u'http://dbpedia.org/resource/Museum_of_Modern_Art'}}\n",
      "{u'name': {u'xml:lang': u'en', u'type': u'literal', u'value': u'Manhattan Music Box'}, u'directs': {u'type': u'uri', u'value': u'http://dbpedia.org/resource/Manhattan_Merry-Go-Round_(film)'}}\n",
      "{u'name': {u'xml:lang': u'en', u'type': u'literal', u'value': u'Manhattan Opera House'}, u'directs': {u'type': u'uri', u'value': u'http://dbpedia.org/resource/Manhattan_Center'}}\n",
      "{u'name': {u'xml:lang': u'en', u'type': u'literal', u'value': u'Manhattan Pano Trio'}, u'directs': {u'type': u'uri', u'value': u'http://dbpedia.org/resource/Manhattan_Piano_Trio'}}\n",
      "{u'name': {u'xml:lang': u'en', u'type': u'literal', u'value': u'Manhattan Parade (film)'}, u'directs': {u'type': u'uri', u'value': u'http://dbpedia.org/resource/Manhattan_Parade'}}\n",
      "{u'name': {u'xml:lang': u'en', u'type': u'literal', u'value': u'Manhattan Plot'}, u'directs': {u'type': u'uri', u'value': u'http://dbpedia.org/resource/Manhattan_plot'}}\n",
      "{u'name': {u'xml:lang': u'en', u'type': u'literal', u'value': u'Manhattan Project (film)'}, u'directs': {u'type': u'uri', u'value': u'http://dbpedia.org/resource/The_Manhattan_Project_(film)'}}\n",
      "{u'name': {u'xml:lang': u'en', u'type': u'literal', u'value': u'Manhattan Project (movie)'}, u'directs': {u'type': u'uri', u'value': u'http://dbpedia.org/resource/The_Manhattan_Project_(film)'}}\n",
      "{u'name': {u'xml:lang': u'en', u'type': u'literal', u'value': u'Manhattan Project NHP'}, u'directs': {u'type': u'uri', u'value': u'http://dbpedia.org/resource/Manhattan_Project_National_Historical_Park'}}\n",
      "{u'name': {u'xml:lang': u'en', u'type': u'literal', u'value': u'Manhattan Public Library'}, u'directs': {u'type': u'uri', u'value': u'http://dbpedia.org/resource/New_York_Public_Library'}}\n",
      "{u'name': {u'xml:lang': u'en', u'type': u'literal', u'value': u'Manhattan Railway'}, u'directs': {u'type': u'uri', u'value': u'http://dbpedia.org/resource/Manhattan_Railway_Company'}}\n",
      "{u'name': {u'xml:lang': u'en', u'type': u'literal', u'value': u'Manhattan Research Inc. (Raymond Scott album)'}, u'directs': {u'type': u'uri', u'value': u'http://dbpedia.org/resource/Manhattan_Research_Inc.'}}\n",
      "{u'name': {u'xml:lang': u'en', u'type': u'literal', u'value': u'Manhattan Research, Inc.'}, u'directs': {u'type': u'uri', u'value': u'http://dbpedia.org/resource/Manhattan_Research_Inc.'}}\n",
      "{u'name': {u'xml:lang': u'en', u'type': u'literal', u'value': u'Manhattan Road'}, u'directs': {u'type': u'uri', u'value': u'http://dbpedia.org/resource/Nevada_State_Route_377'}}\n",
      "{u'name': {u'xml:lang': u'en', u'type': u'literal', u'value': u'Manhattan Rumble (49th Street Massacre)'}, u'directs': {u'type': u'uri', u'value': u'http://dbpedia.org/resource/The_Electric_Light_Orchestra_(album)'}}\n",
      "{u'name': {u'xml:lang': u'en', u'type': u'literal', u'value': u'Manhattan Sai Baba Center'}, u'directs': {u'type': u'uri', u'value': u'http://dbpedia.org/resource/Sri_Sathya_Sai_Baba_Center_of_Manhattan'}}\n",
      "{u'name': {u'xml:lang': u'en', u'type': u'literal', u'value': u'Manhattan Sai Center'}, u'directs': {u'type': u'uri', u'value': u'http://dbpedia.org/resource/Sri_Sathya_Sai_Baba_Center_of_Manhattan'}}\n",
      "{u'name': {u'xml:lang': u'en', u'type': u'literal', u'value': u'Manhattan Schist'}, u'directs': {u'type': u'uri', u'value': u'http://dbpedia.org/resource/Manhattan'}}\n",
      "{u'name': {u'xml:lang': u'en', u'type': u'literal', u'value': u'Manhattan School of Music Precollege Division'}, u'directs': {u'type': u'uri', u'value': u'http://dbpedia.org/resource/Manhattan_School_of_Music'}}\n",
      "{u'name': {u'xml:lang': u'en', u'type': u'literal', u'value': u'Manhattan Solstice'}, u'directs': {u'type': u'uri', u'value': u'http://dbpedia.org/resource/Manhattanhenge'}}\n",
      "{u'name': {u'xml:lang': u'en', u'type': u'literal', u'value': u'Manhattan Square'}, u'directs': {u'type': u'uri', u'value': u'http://dbpedia.org/resource/American_Museum_of_Natural_History'}}\n",
      "{u'name': {u'xml:lang': u'en', u'type': u'literal', u'value': u'Manhattan State Hospital (disambiguation)'}, u'directs': {u'type': u'uri', u'value': u'http://dbpedia.org/resource/Manhattan_State_Hospital'}}\n",
      "{u'name': {u'xml:lang': u'en', u'type': u'literal', u'value': u'Manhattan State Hospital Chapel of St. Joseph (New York City)'}, u'directs': {u'type': u'uri', u'value': u\"http://dbpedia.org/resource/St._Joseph's_Chapel_of_the_Manhattan_State_Hospital\"}}\n",
      "{u'name': {u'xml:lang': u'en', u'type': u'literal', u'value': u'Manhattan Street (IRT Broadway-Seventh Avenue Line)'}, u'directs': {u'type': u'uri', u'value': u'http://dbpedia.org/resource/125th_Street_(IRT_Broadway\\u2013Seventh_Avenue_Line)'}}\n",
      "{u'name': {u'xml:lang': u'en', u'type': u'literal', u'value': u'Manhattan Street (IRT Broadway\\u2013Seventh Avenue Line)'}, u'directs': {u'type': u'uri', u'value': u'http://dbpedia.org/resource/125th_Street_(IRT_Broadway\\u2013Seventh_Avenue_Line)'}}\n",
      "{u'name': {u'xml:lang': u'en', u'type': u'literal', u'value': u'Manhattan Supply Company'}, u'directs': {u'type': u'uri', u'value': u'http://dbpedia.org/resource/MSC_Industrial_Direct'}}\n",
      "{u'name': {u'xml:lang': u'en', u'type': u'literal', u'value': u'Manhattan Supreme Court'}, u'directs': {u'type': u'uri', u'value': u'http://dbpedia.org/resource/New_York_Supreme_Court'}}\n",
      "{u'name': {u'xml:lang': u'en', u'type': u'literal', u'value': u'Manhattan Talmudical Academy'}, u'directs': {u'type': u'uri', u'value': u'http://dbpedia.org/resource/Marsha_Stern_Talmudical_Academy'}}\n",
      "{u'name': {u'xml:lang': u'en', u'type': u'literal', u'value': u'Manhattan Temple'}, u'directs': {u'type': u'uri', u'value': u'http://dbpedia.org/resource/Manhattan_New_York_Temple'}}\n",
      "{u'name': {u'xml:lang': u'en', u'type': u'literal', u'value': u'Manhattan Terrace'}, u'directs': {u'type': u'uri', u'value': u'http://dbpedia.org/resource/Avenue_J_(BMT_Brighton_Line)'}}\n",
      "{u'name': {u'xml:lang': u'en', u'type': u'literal', u'value': u'Manhattan Theater Club'}, u'directs': {u'type': u'uri', u'value': u'http://dbpedia.org/resource/Manhattan_Theatre_Club'}}\n",
      "{u'name': {u'xml:lang': u'en', u'type': u'literal', u'value': u'Manhattan Theater Source'}, u'directs': {u'type': u'uri', u'value': u'http://dbpedia.org/resource/Manhattan_Theatre_Source'}}\n",
      "{u'name': {u'xml:lang': u'en', u'type': u'literal', u'value': u'Manhattan Tower (Gordon Jenkins 1956 album)'}, u'directs': {u'type': u'uri', u'value': u'http://dbpedia.org/resource/Manhattan_Tower_(Gordon_Jenkins_album)'}}\n",
      "{u'name': {u'xml:lang': u'en', u'type': u'literal', u'value': u'Manhattan Tower (Tel Aviv)'}, u'directs': {u'type': u'uri', u'value': u'http://dbpedia.org/resource/Park_Tzameret'}}\n",
      "{u'name': {u'xml:lang': u'en', u'type': u'literal', u'value': u'Manhattan Tower (disambiguation)'}, u'directs': {u'type': u'uri', u'value': u'http://dbpedia.org/resource/Manhattan_Tower'}}\n",
      "{u'name': {u'xml:lang': u'en', u'type': u'literal', u'value': u'Manhattan Transfer (H&M station)'}, u'directs': {u'type': u'uri', u'value': u'http://dbpedia.org/resource/Manhattan_Transfer_(PRR_station)'}}\n",
      "{u'name': {u'xml:lang': u'en', u'type': u'literal', u'value': u'Manhattan Transfer (PATH station)'}, u'directs': {u'type': u'uri', u'value': u'http://dbpedia.org/resource/Manhattan_Transfer_(PRR_station)'}}\n",
      "{u'name': {u'xml:lang': u'en', u'type': u'literal', u'value': u'Manhattan Transfer (band)'}, u'directs': {u'type': u'uri', u'value': u'http://dbpedia.org/resource/The_Manhattan_Transfer'}}\n",
      "{u'name': {u'xml:lang': u'en', u'type': u'literal', u'value': u'Manhattan Transfer (disambiguation)'}, u'directs': {u'type': u'uri', u'value': u'http://dbpedia.org/resource/Manhattan_Transfer'}}\n",
      "{u'name': {u'xml:lang': u'en', u'type': u'literal', u'value': u'Manhattan Valley Viaduct'}, u'directs': {u'type': u'uri', u'value': u'http://dbpedia.org/resource/125th_Street_(IRT_Broadway\\u2013Seventh_Avenue_Line)'}}\n",
      "{u'name': {u'xml:lang': u'en', u'type': u'literal', u'value': u'Manhattan Valley, Manhattan'}, u'directs': {u'type': u'uri', u'value': u'http://dbpedia.org/resource/Manhattan_Valley'}}\n",
      "{u'name': {u'xml:lang': u'en', u'type': u'literal', u'value': u'Manhattan Veterans Hospital'}, u'directs': {u'type': u'uri', u'value': u'http://dbpedia.org/resource/List_of_Veterans_Affairs_medical_facilities'}}\n",
      "{u'name': {u'xml:lang': u'en', u'type': u'literal', u'value': u'Manhattan Water Company'}, u'directs': {u'type': u'uri', u'value': u'http://dbpedia.org/resource/The_Manhattan_Company'}}\n",
      "{u'name': {u'xml:lang': u'en', u'type': u'literal', u'value': u'Manhattan Well Murder'}, u'directs': {u'type': u'uri', u'value': u'http://dbpedia.org/resource/Levi_Weeks'}}\n",
      "{u'name': {u'xml:lang': u'en', u'type': u'literal', u'value': u'Manhattan Well Mystery'}, u'directs': {u'type': u'uri', u'value': u'http://dbpedia.org/resource/Levi_Weeks'}}\n",
      "{u'name': {u'xml:lang': u'en', u'type': u'literal', u'value': u'Manhattan Whitehall Terminal'}, u'directs': {u'type': u'uri', u'value': u'http://dbpedia.org/resource/Staten_Island_Ferry_Whitehall_Terminal'}}\n",
      "{u'name': {u'xml:lang': u'en', u'type': u'literal', u'value': u'Manhattan Wildlife Refuge'}, u'directs': {u'type': u'uri', u'value': u'http://dbpedia.org/resource/Bill_Watrous'}}\n",
      "{u'name': {u'xml:lang': u'en', u'type': u'literal', u'value': u'Manhattan algorithm'}, u'directs': {u'type': u'uri', u'value': u'http://dbpedia.org/resource/Manhattan_address_algorithm'}}\n",
      "{u'name': {u'xml:lang': u'en', u'type': u'literal', u'value': u'Manhattan and Bronx Surface Transit Operating Authority'}, u'directs': {u'type': u'uri', u'value': u'http://dbpedia.org/resource/MTA_Regional_Bus_Operations'}}\n",
      "{u'name': {u'xml:lang': u'en', u'type': u'literal', u'value': u'Manhattan beach california'}, u'directs': {u'type': u'uri', u'value': u'http://dbpedia.org/resource/Manhattan_Beach,_California'}}\n",
      "{u'name': {u'xml:lang': u'en', u'type': u'literal', u'value': u'Manhattan bombing'}, u'directs': {u'type': u'uri', u'value': u'http://dbpedia.org/resource/2016_New_York_and_New_Jersey_bombings'}}\n",
      "{u'name': {u'xml:lang': u'en', u'type': u'literal', u'value': u'Manhattan bridge'}, u'directs': {u'type': u'uri', u'value': u'http://dbpedia.org/resource/Manhattan_Bridge'}}\n",
      "{u'name': {u'xml:lang': u'en', u'type': u'literal', u'value': u'Manhattan bus route'}, u'directs': {u'type': u'uri', u'value': u'http://dbpedia.org/resource/List_of_bus_routes_in_Manhattan'}}\n",
      "{u'name': {u'xml:lang': u'en', u'type': u'literal', u'value': u'Manhattan bus routes'}, u'directs': {u'type': u'uri', u'value': u'http://dbpedia.org/resource/List_of_bus_routes_in_Manhattan'}}\n",
      "{u'name': {u'xml:lang': u'en', u'type': u'literal', u'value': u'Manhattan center for Science & Mathematics'}, u'directs': {u'type': u'uri', u'value': u'http://dbpedia.org/resource/Manhattan_Center_for_Science_and_Mathematics'}}\n",
      "{u'name': {u'xml:lang': u'en', u'type': u'literal', u'value': u'Manhattan chess club'}, u'directs': {u'type': u'uri', u'value': u'http://dbpedia.org/resource/Manhattan_Chess_Club'}}\n",
      "{u'name': {u'xml:lang': u'en', u'type': u'literal', u'value': u'Manhattan civil court'}, u'directs': {u'type': u'uri', u'value': u'http://dbpedia.org/resource/New_York_City_Civil_Court'}}\n",
      "{u'name': {u'xml:lang': u'en', u'type': u'literal', u'value': u'Manhattan clam chowder'}, u'directs': {u'type': u'uri', u'value': u'http://dbpedia.org/resource/Clam_chowder'}}\n",
      "{u'name': {u'xml:lang': u'en', u'type': u'literal', u'value': u'Manhattan clan'}, u'directs': {u'type': u'uri', u'value': u'http://dbpedia.org/resource/List_of_Gargoyles_characters'}}\n",
      "{u'name': {u'xml:lang': u'en', u'type': u'literal', u'value': u'Manhattan cocktail'}, u'directs': {u'type': u'uri', u'value': u'http://dbpedia.org/resource/Manhattan_(cocktail)'}}\n",
      "{u'name': {u'xml:lang': u'en', u'type': u'literal', u'value': u'Manhattan convex hull'}, u'directs': {u'type': u'uri', u'value': u'http://dbpedia.org/resource/Orthogonal_convex_hull'}}\n",
      "{u'name': {u'xml:lang': u'en', u'type': u'literal', u'value': u'Manhattan declaration'}, u'directs': {u'type': u'uri', u'value': u'http://dbpedia.org/resource/Manhattan_Declaration'}}\n",
      "{u'name': {u'xml:lang': u'en', u'type': u'literal', u'value': u'Manhattan distance'}, u'directs': {u'type': u'uri', u'value': u'http://dbpedia.org/resource/Taxicab_geometry'}}\n",
      "{u'name': {u'xml:lang': u'en', u'type': u'literal', u'value': u'Manhattan distance formula'}, u'directs': {u'type': u'uri', u'value': u'http://dbpedia.org/resource/Taxicab_geometry'}}\n",
      "{u'name': {u'xml:lang': u'en', u'type': u'literal', u'value': u'Manhattan distance transform'}, u'directs': {u'type': u'uri', u'value': u'http://dbpedia.org/resource/Distance_transform'}}\n",
      "{u'name': {u'xml:lang': u'en', u'type': u'literal', u'value': u'Manhattan geometry'}, u'directs': {u'type': u'uri', u'value': u'http://dbpedia.org/resource/Manhattan_wiring'}}\n",
      "{u'name': {u'xml:lang': u'en', u'type': u'literal', u'value': u'Manhattan henge'}, u'directs': {u'type': u'uri', u'value': u'http://dbpedia.org/resource/Manhattanhenge'}}\n",
      "{u'name': {u'xml:lang': u'en', u'type': u'literal', u'value': u'Manhattan hungarian network'}, u'directs': {u'type': u'uri', u'value': u'http://dbpedia.org/resource/Manhattan_Hungarian_Network'}}\n",
      "{u'name': {u'xml:lang': u'en', u'type': u'literal', u'value': u'Manhattan island'}, u'directs': {u'type': u'uri', u'value': u'http://dbpedia.org/resource/Manhattan'}}\n",
      "{u'name': {u'xml:lang': u'en', u'type': u'literal', u'value': u'Manhattan ks'}, u'directs': {u'type': u'uri', u'value': u'http://dbpedia.org/resource/Manhattan,_Kansas'}}\n",
      "{u'name': {u'xml:lang': u'en', u'type': u'literal', u'value': u'Manhattan length'}, u'directs': {u'type': u'uri', u'value': u'http://dbpedia.org/resource/Taxicab_geometry'}}\n",
      "{u'name': {u'xml:lang': u'en', u'type': u'literal', u'value': u'Manhattan loft'}, u'directs': {u'type': u'uri', u'value': u'http://dbpedia.org/resource/Loft'}}\n",
      "{u'name': {u'xml:lang': u'en', u'type': u'literal', u'value': u'Manhattan madam'}, u'directs': {u'type': u'uri', u'value': u'http://dbpedia.org/resource/Kristin_M._Davis'}}\n",
      "{u'name': {u'xml:lang': u'en', u'type': u'literal', u'value': u'Manhattan mall'}, u'directs': {u'type': u'uri', u'value': u'http://dbpedia.org/resource/Manhattan_Mall'}}\n",
      "{u'name': {u'xml:lang': u'en', u'type': u'literal', u'value': u'Manhattan melodrama'}, u'directs': {u'type': u'uri', u'value': u'http://dbpedia.org/resource/Manhattan_Melodrama'}}\n",
      "{u'name': {u'xml:lang': u'en', u'type': u'literal', u'value': u'Manhattan metric'}, u'directs': {u'type': u'uri', u'value': u'http://dbpedia.org/resource/Taxicab_geometry'}}\n",
      "{u'name': {u'xml:lang': u'en', u'type': u'literal', u'value': u'Manhattan metropolitan area'}, u'directs': {u'type': u'uri', u'value': u'http://dbpedia.org/resource/Manhattan,_Kansas,_metropolitan_area'}}\n",
      "{u'name': {u'xml:lang': u'en', u'type': u'literal', u'value': u'Manhattan micropolitan area'}, u'directs': {u'type': u'uri', u'value': u'http://dbpedia.org/resource/Manhattan,_Kansas,_metropolitan_area'}}\n",
      "{u'name': {u'xml:lang': u'en', u'type': u'literal', u'value': u'Manhattan micropolitan statistical area'}, u'directs': {u'type': u'uri', u'value': u'http://dbpedia.org/resource/Manhattan,_Kansas,_metropolitan_area'}}\n",
      "{u'name': {u'xml:lang': u'en', u'type': u'literal', u'value': u'Manhattan neighborhoods'}, u'directs': {u'type': u'uri', u'value': u'http://dbpedia.org/resource/List_of_Manhattan_neighborhoods'}}\n",
      "{u'name': {u'xml:lang': u'en', u'type': u'literal', u'value': u'Manhattan norm'}, u'directs': {u'type': u'uri', u'value': u'http://dbpedia.org/resource/Taxicab_geometry'}}\n",
      "{u'name': {u'xml:lang': u'en', u'type': u'literal', u'value': u'Manhattan people'}, u'directs': {u'type': u'uri', u'value': u'http://dbpedia.org/resource/Munsee'}}\n",
      "{u'name': {u'xml:lang': u'en', u'type': u'literal', u'value': u'Manhattan project'}, u'directs': {u'type': u'uri', u'value': u'http://dbpedia.org/resource/Manhattan_Project'}}\n",
      "{u'name': {u'xml:lang': u'en', u'type': u'literal', u'value': u'Manhattan report'}, u'directs': {u'type': u'uri', u'value': u'http://dbpedia.org/resource/Bowdoin_Project'}}\n",
      "{u'name': {u'xml:lang': u'en', u'type': u'literal', u'value': u'Manhattan research'}, u'directs': {u'type': u'uri', u'value': u'http://dbpedia.org/resource/Manhattan_Research'}}\n",
      "{u'name': {u'xml:lang': u'en', u'type': u'literal', u'value': u'Manhattan schist'}, u'directs': {u'type': u'uri', u'value': u'http://dbpedia.org/resource/Manhattan'}}\n",
      "{u'name': {u'xml:lang': u'en', u'type': u'literal', u'value': u'Manhattan school of music'}, u'directs': {u'type': u'uri', u'value': u'http://dbpedia.org/resource/Manhattan_School_of_Music'}}\n",
      "{u'name': {u'xml:lang': u'en', u'type': u'literal', u'value': u'Manhattan solstice'}, u'directs': {u'type': u'uri', u'value': u'http://dbpedia.org/resource/Manhattanhenge'}}\n",
      "{u'name': {u'xml:lang': u'en', u'type': u'literal', u'value': u'Manhattan special'}, u'directs': {u'type': u'uri', u'value': u'http://dbpedia.org/resource/Manhattan_Special'}}\n",
      "{u'name': {u'xml:lang': u'en', u'type': u'literal', u'value': u'Manhattan station (Illinois)'}, u'directs': {u'type': u'uri', u'value': u'http://dbpedia.org/resource/Manhattan_station'}}\n",
      "{u'name': {u'xml:lang': u'en', u'type': u'literal', u'value': u'Manhattan station (Metra)'}, u'directs': {u'type': u'uri', u'value': u'http://dbpedia.org/resource/Manhattan_station'}}\n",
      "{u'name': {u'xml:lang': u'en', u'type': u'literal', u'value': u'Manhattan steam network'}, u'directs': {u'type': u'uri', u'value': u'http://dbpedia.org/resource/New_York_City_steam_system'}}\n",
      "{u'name': {u'xml:lang': u'en', u'type': u'literal', u'value': u'Manhattan street grid'}, u'directs': {u'type': u'uri', u'value': u\"http://dbpedia.org/resource/Commissioners'_Plan_of_1811\"}}\n",
      "{u'name': {u'xml:lang': u'en', u'type': u'literal', u'value': u'Manhattan streets, 1-14'}, u'directs': {u'type': u'uri', u'value': u'http://dbpedia.org/resource/List_of_numbered_streets_in_Manhattan'}}\n",
      "{u'name': {u'xml:lang': u'en', u'type': u'literal', u'value': u'Manhattan streets, 15-59'}, u'directs': {u'type': u'uri', u'value': u'http://dbpedia.org/resource/List_of_numbered_streets_in_Manhattan'}}\n",
      "{u'name': {u'xml:lang': u'en', u'type': u'literal', u'value': u'Manhattan streets, 23-42'}, u'directs': {u'type': u'uri', u'value': u'http://dbpedia.org/resource/List_of_numbered_streets_in_Manhattan'}}\n",
      "{u'name': {u'xml:lang': u'en', u'type': u'literal', u'value': u'Manhattan trade'}, u'directs': {u'type': u'uri', u'value': u'http://dbpedia.org/resource/Manhattan'}}\n",
      "{u'name': {u'xml:lang': u'en', u'type': u'literal', u'value': u'Manhattan units'}, u'directs': {u'type': u'uri', u'value': u'http://dbpedia.org/resource/Taxicab_geometry'}}\n",
      "{u'name': {u'xml:lang': u'en', u'type': u'literal', u'value': u'Manhattan \\u03bcSA'}, u'directs': {u'type': u'uri', u'value': u'http://dbpedia.org/resource/Manhattan,_Kansas,_metropolitan_area'}}\n",
      "{u'name': {u'xml:lang': u'en', u'type': u'literal', u'value': u\"Manhattan's Chinatown\"}, u'directs': {u'type': u'uri', u'value': u'http://dbpedia.org/resource/Chinatown,_Manhattan'}}\n",
      "{u'name': {u'xml:lang': u'en', u'type': u'literal', u'value': u\"Manhattan's East Side\"}, u'directs': {u'type': u'uri', u'value': u'http://dbpedia.org/resource/East_Side_(Manhattan)'}}\n",
      "{u'name': {u'xml:lang': u'en', u'type': u'literal', u'value': u\"Manhattan's East Village\"}, u'directs': {u'type': u'uri', u'value': u'http://dbpedia.org/resource/East_Village,_Manhattan'}}\n",
      "{u'name': {u'xml:lang': u'en', u'type': u'literal', u'value': u\"Manhattan's Sixth Avenue\"}, u'directs': {u'type': u'uri', u'value': u'http://dbpedia.org/resource/Sixth_Avenue_(Manhattan)'}}\n",
      "{u'name': {u'xml:lang': u'en', u'type': u'literal', u'value': u\"Manhattan's Upper East Side\"}, u'directs': {u'type': u'uri', u'value': u'http://dbpedia.org/resource/Upper_East_Side'}}\n",
      "{u'name': {u'xml:lang': u'en', u'type': u'literal', u'value': u\"Manhattan's Upper West Side\"}, u'directs': {u'type': u'uri', u'value': u'http://dbpedia.org/resource/Upper_West_Side'}}\n",
      "{u'name': {u'xml:lang': u'en', u'type': u'literal', u'value': u\"Manhattan's West Side\"}, u'directs': {u'type': u'uri', u'value': u'http://dbpedia.org/resource/West_Side_(Manhattan)'}}\n",
      "{u'name': {u'xml:lang': u'en', u'type': u'literal', u'value': u'Manhattan, CO'}, u'directs': {u'type': u'uri', u'value': u'http://dbpedia.org/resource/Manhattan,_Colorado'}}\n",
      "{u'name': {u'xml:lang': u'en', u'type': u'literal', u'value': u'Manhattan, IL'}, u'directs': {u'type': u'uri', u'value': u'http://dbpedia.org/resource/Manhattan,_Illinois'}}\n",
      "{u'name': {u'xml:lang': u'en', u'type': u'literal', u'value': u'Manhattan, KS'}, u'directs': {u'type': u'uri', u'value': u'http://dbpedia.org/resource/Manhattan,_Kansas'}}\n",
      "{u'name': {u'xml:lang': u'en', u'type': u'literal', u'value': u'Manhattan, KS MSA'}, u'directs': {u'type': u'uri', u'value': u'http://dbpedia.org/resource/Manhattan,_Kansas,_metropolitan_area'}}\n",
      "{u'name': {u'xml:lang': u'en', u'type': u'literal', u'value': u'Manhattan, KS Metropolitan Statistical Area'}, u'directs': {u'type': u'uri', u'value': u'http://dbpedia.org/resource/Manhattan,_Kansas,_metropolitan_area'}}\n",
      "{u'name': {u'xml:lang': u'en', u'type': u'literal', u'value': u'Manhattan, KS Micropolitan Area'}, u'directs': {u'type': u'uri', u'value': u'http://dbpedia.org/resource/Manhattan,_Kansas,_metropolitan_area'}}\n",
      "{u'name': {u'xml:lang': u'en', u'type': u'literal', u'value': u'Manhattan, KS Micropolitan Statistical Area'}, u'directs': {u'type': u'uri', u'value': u'http://dbpedia.org/resource/Manhattan,_Kansas,_metropolitan_area'}}\n",
      "{u'name': {u'xml:lang': u'en', u'type': u'literal', u'value': u'Manhattan, KS mSA'}, u'directs': {u'type': u'uri', u'value': u'http://dbpedia.org/resource/Manhattan,_Kansas'}}\n",
      "{u'name': {u'xml:lang': u'en', u'type': u'literal', u'value': u'Manhattan, KS micropolitan area'}, u'directs': {u'type': u'uri', u'value': u'http://dbpedia.org/resource/Manhattan,_Kansas,_metropolitan_area'}}\n",
      "{u'name': {u'xml:lang': u'en', u'type': u'literal', u'value': u'Manhattan, KS micropolitan statistical area'}, u'directs': {u'type': u'uri', u'value': u'http://dbpedia.org/resource/Manhattan,_Kansas,_metropolitan_area'}}\n",
      "{u'name': {u'xml:lang': u'en', u'type': u'literal', u'value': u'Manhattan, KS \\xb5SA'}, u'directs': {u'type': u'uri', u'value': u'http://dbpedia.org/resource/Manhattan,_Kansas,_metropolitan_area'}}\n",
      "{u'name': {u'xml:lang': u'en', u'type': u'literal', u'value': u'Manhattan, KS \\u03bcSA'}, u'directs': {u'type': u'uri', u'value': u'http://dbpedia.org/resource/Manhattan,_Kansas,_metropolitan_area'}}\n",
      "{u'name': {u'xml:lang': u'en', u'type': u'literal', u'value': u'Manhattan, Kan.'}, u'directs': {u'type': u'uri', u'value': u'http://dbpedia.org/resource/Manhattan,_Kansas'}}\n",
      "{u'name': {u'xml:lang': u'en', u'type': u'literal', u'value': u'Manhattan, Kansas Micropolitan Area'}, u'directs': {u'type': u'uri', u'value': u'http://dbpedia.org/resource/Manhattan,_Kansas,_metropolitan_area'}}\n",
      "{u'name': {u'xml:lang': u'en', u'type': u'literal', u'value': u'Manhattan, Kansas Micropolitan Statistical Area'}, u'directs': {u'type': u'uri', u'value': u'http://dbpedia.org/resource/Manhattan,_Kansas,_metropolitan_area'}}\n",
      "{u'name': {u'xml:lang': u'en', u'type': u'literal', u'value': u'Manhattan, Kansas metropolitan area'}, u'directs': {u'type': u'uri', u'value': u'http://dbpedia.org/resource/Manhattan,_Kansas,_metropolitan_area'}}\n",
      "{u'name': {u'xml:lang': u'en', u'type': u'literal', u'value': u'Manhattan, Kansas micropolitan area'}, u'directs': {u'type': u'uri', u'value': u'http://dbpedia.org/resource/Manhattan,_Kansas,_metropolitan_area'}}\n",
      "{u'name': {u'xml:lang': u'en', u'type': u'literal', u'value': u'Manhattan, Kansas \\u03bcSA'}, u'directs': {u'type': u'uri', u'value': u'http://dbpedia.org/resource/Manhattan,_Kansas,_metropolitan_area'}}\n",
      "{u'name': {u'xml:lang': u'en', u'type': u'literal', u'value': u'Manhattan, MT'}, u'directs': {u'type': u'uri', u'value': u'http://dbpedia.org/resource/Manhattan,_Montana'}}\n",
      "{u'name': {u'xml:lang': u'en', u'type': u'literal', u'value': u'Manhattan, NV'}, u'directs': {u'type': u'uri', u'value': u'http://dbpedia.org/resource/Manhattan,_Nevada'}}\n",
      "{u'name': {u'xml:lang': u'en', u'type': u'literal', u'value': u'Manhattan, NY'}, u'directs': {u'type': u'uri', u'value': u'http://dbpedia.org/resource/Manhattan'}}\n",
      "{u'name': {u'xml:lang': u'en', u'type': u'literal', u'value': u'Manhattan, New York'}, u'directs': {u'type': u'uri', u'value': u'http://dbpedia.org/resource/Manhattan'}}\n",
      "{u'name': {u'xml:lang': u'en', u'type': u'literal', u'value': u'Manhattan, New York (state)'}, u'directs': {u'type': u'uri', u'value': u'http://dbpedia.org/resource/Manhattan'}}\n",
      "{u'name': {u'xml:lang': u'en', u'type': u'literal', u'value': u'Manhattan, New York City'}, u'directs': {u'type': u'uri', u'value': u'http://dbpedia.org/resource/Manhattan'}}\n",
      "{u'name': {u'xml:lang': u'en', u'type': u'literal', u'value': u'Manhattan, New York City, New York'}, u'directs': {u'type': u'uri', u'value': u'http://dbpedia.org/resource/Manhattan'}}\n",
      "{u'name': {u'xml:lang': u'en', u'type': u'literal', u'value': u'Manhattan, New York, US'}, u'directs': {u'type': u'uri', u'value': u'http://dbpedia.org/resource/Manhattan'}}\n",
      "{u'name': {u'xml:lang': u'en', u'type': u'literal', u'value': u'Manhattan, United States'}, u'directs': {u'type': u'uri', u'value': u'http://dbpedia.org/resource/Manhattan'}}\n",
      "{u'name': {u'xml:lang': u'en', u'type': u'literal', u'value': u'Manhattan-Junction City, KS Combined Statistical Area'}, u'directs': {u'type': u'uri', u'value': u'http://dbpedia.org/resource/Manhattan,_Kansas,_metropolitan_area'}}\n",
      "{u'name': {u'xml:lang': u'en', u'type': u'literal', u'value': u'Manhattan/hunter science high school'}, u'directs': {u'type': u'uri', u'value': u'http://dbpedia.org/resource/Martin_Luther_King_Jr._Educational_Campus'}}\n"
     ]
    }
   ],
   "source": [
    "city_name = 'Manhattan'\n",
    "query1 = \"\"\"\n",
    "        SELECT distinct ?name ?directs {\n",
    "          ?uri rdfs:label ?name .\n",
    "          ?uri dbo:wikiPageRedirects ?directs .\n",
    "          ?name bif:contains \"%s\" .\n",
    "          FILTER(STRSTARTS(?name, \"%s\"))\n",
    "        }\"\"\"%(city_name, city_name)\n",
    "results1 = get_query(query1)\n",
    "# deduplicate based on similar redirects\n",
    "for r in sorted(results1['results']['bindings'], key=lambda x: x['name']['value']):\n",
    "    print(r)"
   ]
  },
  {
   "cell_type": "markdown",
   "metadata": {},
   "source": [
    "These results contain all entities that are redirects. What if we just filtered to ignore these entities?\n",
    "\n",
    "TODO: build query that filters entities that contain \"redirect\" field."
   ]
  },
  {
   "cell_type": "code",
   "execution_count": 105,
   "metadata": {
    "collapsed": false
   },
   "outputs": [
    {
     "name": "stdout",
     "output_type": "stream",
     "text": [
      "{u'head': {u'link': [], u'vars': [u'name']}, u'results': {u'distinct': False, u'bindings': [], u'ordered': True}}\n"
     ]
    }
   ],
   "source": [
    "city_name = 'Manhattan'\n",
    "query2 = \"\"\"\n",
    "        SELECT distinct ?name {\n",
    "          ?uri rdfs:label ?name .\n",
    "          ?uri dbo:wikiPagesRedirects ?directs\n",
    "          ?name bif:contains \"%s\" .\n",
    "          FILTER(STRSTARTS(?name, \"%s\"))\n",
    "        }\"\"\"%(city_name, city_name)\n",
    "results2 = get_query(query2)\n",
    "# deduplicate based on similar redirects\n",
    "results2 = sorted(results2['results']['bindings'], key=lambda x: x['name']['value'])\n",
    "for r in results2:\n",
    "    print(r)"
   ]
  },
  {
   "cell_type": "markdown",
   "metadata": {},
   "source": [
    "Hacky solution:\n",
    "\n",
    "1. query for all entities that match the string: name, URI => list1\n",
    "2. query again for all entities' redirects: name, redirect => list2\n",
    "3. remove list2 entities from list1 => list3\n",
    "4. return list3"
   ]
  },
  {
   "cell_type": "code",
   "execution_count": 167,
   "metadata": {
    "collapsed": false
   },
   "outputs": [
    {
     "name": "stdout",
     "output_type": "stream",
     "text": [
      "entity Manhattan got results \n",
      "Manhattan\n",
      "Manhattan (1843 ship)\n",
      "Manhattan (1924 film)\n",
      "Manhattan (Once Upon a Time)\n",
      "Manhattan (Skaters album)\n",
      "Manhattan (TV series)\n",
      "Manhattan (YTB-779)\n",
      "Manhattan (album)\n",
      "Manhattan (board game)\n",
      "Manhattan (cocktail)\n",
      "Manhattan (disambiguation)\n",
      "Manhattan (film)\n",
      "Manhattan (ship)\n",
      "Manhattan (song)\n",
      "Manhattan (soundtrack)\n",
      "Manhattan Afternoon\n",
      "Manhattan Airport Foundation\n",
      "Manhattan Angel\n",
      "Manhattan Area Technical College\n",
      "Manhattan Associates\n",
      "Manhattan Athletic Club\n",
      "Manhattan Avenue\n",
      "Manhattan Avenue–West 120th–123rd Streets Historic District\n",
      "Manhattan Baby\n",
      "Manhattan Bank v. Walker Walker\n",
      "Manhattan Beach\n",
      "Manhattan Beach (Denver)\n",
      "Manhattan Beach (march)\n",
      "Manhattan Beach Air Force Station\n",
      "Manhattan Beach Boulevard\n",
      "Manhattan Beach Branch\n",
      "Manhattan Beach Jewish Center\n",
      "Manhattan Beach Line\n",
      "Manhattan Beach Open\n",
      "Manhattan Beach Pier\n",
      "Manhattan Beach State Recreation Site\n",
      "Manhattan Beach Unified School District\n",
      "Manhattan Beach, Brooklyn\n",
      "Manhattan Beach, California\n",
      "Manhattan Beach, Minnesota\n",
      "Manhattan Beach, Oregon\n",
      "Manhattan Beer Distributors\n",
      "Manhattan Board of Coroners\n",
      "Manhattan Boogie-Woogie\n",
      "Manhattan Brewing Company\n",
      "Manhattan Brewing Company of Chicago\n",
      "Manhattan Brewing Company of New York\n",
      "Manhattan Bridge\n",
      "Manhattan Bridge Loop\n",
      "Manhattan Bridge Three Cent Line\n",
      "Manhattan Brothers\n",
      "Manhattan Building\n",
      "Manhattan Building (Chicago, Illinois)\n",
      "Manhattan Building (Muskogee, Oklahoma)\n",
      "Manhattan Building (Saint Paul, Minnesota)\n",
      "Manhattan Cafe\n",
      "Manhattan Carnegie Library Building\n",
      "Manhattan Center\n",
      "Manhattan Center for Science and Mathematics\n",
      "Manhattan Chamber Orchestra\n",
      "Manhattan Chamber of Commerce\n",
      "Manhattan Chase\n",
      "Manhattan Chess Club\n",
      "Manhattan Christian College\n",
      "Manhattan Clan\n",
      "Manhattan Clan#Coldstone\n",
      "Manhattan Clique\n",
      "Manhattan Club\n",
      "Manhattan Club (social club)\n",
      "Manhattan Cocktail\n",
      "Manhattan Cocktail (film)\n",
      "Manhattan College\n",
      "Manhattan College alumni\n",
      "Manhattan College faculty\n",
      "Manhattan College people\n",
      "Manhattan Community Board 1\n",
      "Manhattan Community Board 10\n",
      "Manhattan Community Board 11\n",
      "Manhattan Community Board 12\n",
      "Manhattan Community Board 2\n",
      "Manhattan Community Board 3\n",
      "Manhattan Community Board 4\n",
      "Manhattan Community Board 5\n",
      "Manhattan Community Board 6\n",
      "Manhattan Community Board 7\n",
      "Manhattan Community Board 8\n",
      "Manhattan Community Board 9\n",
      "Manhattan Community Boards\n",
      "Manhattan Connection\n",
      "Manhattan Construction Company\n",
      "Manhattan Country School\n",
      "Manhattan Dawn\n",
      "Manhattan Day School\n",
      "Manhattan Declaration\n",
      "Manhattan Declaration: A Call of Christian Conscience\n",
      "Manhattan Design\n",
      "Manhattan Elks players\n",
      "Manhattan Ensemble Theatre\n",
      "Manhattan Eye, Ear and Throat Hospital\n",
      "Manhattan Fencing Center\n",
      "Manhattan Fever\n",
      "Manhattan Film Festival\n",
      "Manhattan General Equipment Company v. Commissioner of Internal Revenue\n",
      "Manhattan Guardian\n",
      "Manhattan Handicap\n",
      "Manhattan Heartbeat\n",
      "Manhattan Heights\n",
      "Manhattan High School\n",
      "Manhattan Hill\n",
      "Manhattan House\n",
      "Manhattan Hungarian Network\n",
      "Manhattan I\n",
      "Manhattan Institute for Policy Research\n",
      "Manhattan Investment Fund fraud\n",
      "Manhattan Is My Beat\n",
      "Manhattan Island from the Jersey Meadows\n",
      "Manhattan Jaspers and Lady Jaspers\n",
      "Manhattan Jaspers and Lady Jaspers athletes\n",
      "Manhattan Jaspers and Lady Jaspers coaches\n",
      "Manhattan Jaspers and Lady Jaspers navigational boxes\n",
      "Manhattan Jaspers and Lady Jaspers seasons by team\n",
      "Manhattan Jaspers and Lady Jaspers track and field athletes\n",
      "Manhattan Jaspers baseball\n",
      "Manhattan Jaspers baseball coaches\n",
      "Manhattan Jaspers baseball players\n",
      "Manhattan Jaspers basketball\n",
      "Manhattan Jaspers basketball coaches\n",
      "Manhattan Jaspers basketball navigational boxes\n",
      "Manhattan Jaspers basketball players\n",
      "Manhattan Jaspers basketball seasons\n",
      "Manhattan Jaspers coaches\n",
      "Manhattan Jaspers football coaches\n",
      "Manhattan Jaspers football players\n",
      "Manhattan Jazz Quintet\n",
      "Manhattan Jewish Experience\n",
      "Manhattan Latin\n",
      "Manhattan Laundry\n",
      "Manhattan Life Insurance Building\n",
      "Manhattan Life Insurance Company\n",
      "Manhattan Life Insurance Company of New York v. Cohen\n",
      "Manhattan Life Insurance Company v. Broughton\n",
      "Manhattan Limited\n",
      "Manhattan Loft Corporation\n",
      "Manhattan Loft Gardens\n",
      "Manhattan Love Song\n",
      "Manhattan Love Story\n",
      "Manhattan Mall\n",
      "Manhattan Manhunt\n",
      "Manhattan Maroons players\n",
      "Manhattan Marriage Bureau\n",
      "Manhattan Media\n",
      "Manhattan Medicine Company v. Wood\n",
      "Manhattan Melodrama\n",
      "Manhattan Merry-Go-Round\n",
      "Manhattan Merry-Go-Round (film)\n",
      "Manhattan Mini Storage\n",
      "Manhattan Moods\n",
      "Manhattan Motorcars\n",
      "Manhattan Movie Magazine\n",
      "Manhattan Municipal Building\n",
      "Manhattan Murder Mystery\n",
      "Manhattan Mushroom Company LLC\n",
      "Manhattan Neighborhood Network\n",
      "Manhattan New York Temple\n",
      "Manhattan Night\n",
      "Manhattan Night of Murder\n",
      "Manhattan Nocturne\n",
      "Manhattan Opera Company\n",
      "Manhattan Panorama\n",
      "Manhattan Parade\n",
      "Manhattan Piano Trio\n",
      "Manhattan Plaza\n",
      "Manhattan Project\n",
      "Manhattan Project (album)\n",
      "Manhattan Project (disambiguation)\n",
      "Manhattan Project (song)\n",
      "Manhattan Project National Historical Park\n",
      "Manhattan Project people\n",
      "Manhattan Properties v. Irving Trust Company\n",
      "Manhattan Psychiatric Center\n",
      "Manhattan Railway Company\n",
      "Manhattan Rebellion\n",
      "Manhattan Records\n",
      "Manhattan Records albums\n",
      "Manhattan Records artists\n",
      "Manhattan Records singles\n",
      "Manhattan Regional Airport\n",
      "Manhattan Registered Historic Place stubs\n",
      "Manhattan Research\n",
      "Manhattan Research Inc.\n",
      "Manhattan Review\n",
      "Manhattan Romance\n",
      "Manhattan School\n",
      "Manhattan School of Music\n",
      "Manhattan School of Music alumni\n",
      "Manhattan School of Music faculty\n",
      "Manhattan Serenade\n",
      "Manhattan Shelbyville\n",
      "Manhattan Short Film Festival\n",
      "Manhattan Skyline\n",
      "Manhattan Skyline (disambiguation)\n",
      "Manhattan Skyline (song)\n",
      "Manhattan Soap Company\n",
      "Manhattan Special\n",
      "Manhattan Spotlight\n",
      "Manhattan Square Park\n",
      "Manhattan State Hospital\n",
      "Manhattan Tango\n",
      "Manhattan Theatre\n",
      "Manhattan Theatre Club\n",
      "Manhattan Theatre Source\n",
      "Manhattan Tower\n",
      "Manhattan Tower (Gordon Jenkins album)\n",
      "Manhattan Tower (Patti Page album)\n",
      "Manhattan Tower (film)\n",
      "Manhattan Township\n",
      "Manhattan Township, Will County, Illinois\n",
      "Manhattan Trade School for Girls\n",
      "Manhattan Transfer\n",
      "Manhattan Transfer (PRR station)\n",
      "Manhattan Transfer (novel)\n",
      "Manhattan Tuesday\n",
      "Manhattan Valley\n",
      "Manhattan Valley viaduct\n",
      "Manhattan Vigil\n",
      "Manhattan Village Academy\n",
      "Manhattan Vocational and Technical High School\n",
      "Manhattan Waterfront Greenway\n",
      "Manhattan West\n",
      "Manhattan address algorithm\n",
      "Manhattan and Queens Traction Company\n",
      "Manhattan borough presidents\n",
      "Manhattan building and structure stubs\n",
      "Manhattan church stubs\n",
      "Manhattan from the Sky\n",
      "Manhattan in fiction\n",
      "Manhattan mobility model\n",
      "Manhattan plot\n",
      "Manhattan railway station stubs\n",
      "Manhattan station\n",
      "Manhattan wiring\n",
      "Manhattan, AZ\n",
      "Manhattan, Colorado\n",
      "Manhattan, Florida\n",
      "Manhattan, Illinois\n",
      "Manhattan, Indiana\n",
      "Manhattan, Kansas\n",
      "Manhattan, Kansas (song)\n",
      "Manhattan, Kansas, metropolitan area\n",
      "Manhattan, Montana\n",
      "Manhattan, Nevada\n",
      "Manhattan-Kaboul\n",
      "Manhattan/Hunter College High School for Sciences\n",
      "Manhattanville, Manhattan\n"
     ]
    }
   ],
   "source": [
    "entity_name_list = ['Manhattan']\n",
    "for entity_name in entity_name_list:\n",
    "    # get all matching entities\n",
    "    query_1 = \"\"\"SELECT distinct ?name {\n",
    "                  ?uri rdfs:label ?name .\n",
    "                  ?name bif:contains \"%s\" .\n",
    "                  FILTER(STRSTARTS(?name, \"%s\")) .\n",
    "                  FILTER(lang(?name)=\"en\")\n",
    "            }\"\"\"%(entity_name, entity_name)\n",
    "    results_1 = get_query(query_1)\n",
    "    results_1 = [r['name']['value'] for r in results_1['results']['bindings']]\n",
    "#     print('results 1 %d:\\n%s'%(len(results_1), '\\n'.join(sorted(results_1))))\n",
    "    # get duplicates\n",
    "    query_2 = \"\"\"SELECT distinct ?name ?directs {\n",
    "                ?uri rdfs:label ?name .\n",
    "                ?uri dbo:wikiPageRedirects ?directs .\n",
    "                ?name bif:contains \"%s\" .\n",
    "                FILTER(STRSTARTS(?name, \"%s\")) .\n",
    "                FILTER(lang(?name)=\"en\")\n",
    "                }\"\"\"%(entity_name, entity_name)\n",
    "    results_2 = get_query(query_2)\n",
    "    results_2 = [r['name']['value'] for r in results_2['results']['bindings']]\n",
    "#     print('results 2 %d:\\n%s'%(len(results_2), '\\n'.join(sorted(results_2))))\n",
    "    # remove duplicates from list\n",
    "    results_3 = sorted(set(results_1) - set(results_2))\n",
    "    print('entity %s got results \\n%s'%(entity_name, '\\n'.join(results_3)))"
   ]
  },
  {
   "cell_type": "markdown",
   "metadata": {},
   "source": [
    "That's it! Let's make it into a ~method~."
   ]
  },
  {
   "cell_type": "code",
   "execution_count": 137,
   "metadata": {
    "collapsed": true
   },
   "outputs": [],
   "source": [
    "def get_matching_entities(entity_name, sparql):\n",
    "    \"\"\"\n",
    "    Extract from DBPedia all entities that could\n",
    "    match the given entity name (based on initial string match).\n",
    "    \n",
    "    Parameters:\n",
    "    -----------\n",
    "    entity_name : str\n",
    "    sparql : SPARQLWrapper.Wrapper.SPARQLWrapper\n",
    "    \n",
    "    Returns:\n",
    "    --------\n",
    "    results : [str]\n",
    "    Possible name matches.\n",
    "    \"\"\"\n",
    "    # take care of spacing or periods in entity name\n",
    "    entity_contain_str = entity_name\n",
    "    entity_start_str = entity_name\n",
    "    if(' ' in entity_name):\n",
    "        entity_contain_str = entity_contain_str.replace(' ', '_')\n",
    "    if('.' in entity_name):\n",
    "        entity_contain_str = entity_contain_str.replace('.', '')\n",
    "        entity_start_str = entity_start_str.replace('.', '')\n",
    "    query_1 = \"\"\"SELECT distinct ?name {\n",
    "                  ?uri rdfs:label ?name .\n",
    "                  ?name bif:contains \"%s\" .\n",
    "                  FILTER(STRSTARTS(?name, \"%s\")) .\n",
    "                  FILTER(lang(?name)=\"en\")\n",
    "            }\"\"\"%(entity_contain_str, entity_start_str)\n",
    "    results_1 = get_query(query_1)\n",
    "    results_1 = [r['name']['value'] for r in results_1['results']['bindings']]\n",
    "    query_2 = \"\"\"SELECT distinct ?name ?directs {\n",
    "                ?uri rdfs:label ?name .\n",
    "                ?uri dbo:wikiPageRedirects ?directs .\n",
    "                ?name bif:contains \"%s\" .\n",
    "                FILTER(STRSTARTS(?name, \"%s\")) .\n",
    "                FILTER(lang(?name)=\"en\")\n",
    "                }\"\"\"%(entity_contain_str, entity_start_str)\n",
    "    results_2 = get_query(query_2)\n",
    "    results_2 = [r['name']['value'] for r in results_2['results']['bindings']]\n",
    "    results = sorted(set(results_1) - set(results_2))\n",
    "    return results"
   ]
  },
  {
   "cell_type": "code",
   "execution_count": 165,
   "metadata": {
    "collapsed": false
   },
   "outputs": [],
   "source": [
    "# clean up entity strings\n",
    "# DON'T LOWERCASE that ruins the lookup process ;_;\n",
    "entity_list = map(lambda x: x.replace('#', ''), entities_to_query)\n",
    "entity_results = {entity_name : get_matching_entities(entity_name, sparql) for entity_name in entity_list}"
   ]
  },
  {
   "cell_type": "markdown",
   "metadata": {},
   "source": [
    "### Compare raw entity counts"
   ]
  },
  {
   "cell_type": "markdown",
   "metadata": {},
   "source": [
    "Let's see which entities had the highest counts."
   ]
  },
  {
   "cell_type": "code",
   "execution_count": 166,
   "metadata": {
    "collapsed": false
   },
   "outputs": [
    {
     "name": "stdout",
     "output_type": "stream",
     "text": [
      "Andrew                               4955\n",
      "GA                                   2646\n",
      "FL                                   2544\n",
      "Texas                                2210\n",
      "Florida                              1689\n",
      "Georgia                              1631\n",
      "Ohio                                 1591\n",
      "Jose                                 1366\n",
      "Louisiana                            1263\n",
      "Jordan                               1178\n",
      "U.S.                                 1000\n",
      "Alabama                               904\n",
      "Austin                                860\n",
      "Atlantic                              856\n",
      "Hurricane                             845\n",
      "Harvey                                709\n",
      "Orlando                               626\n",
      "God                                   623\n",
      "America                               616\n",
      "Houston                               603\n",
      "Miami                                 555\n",
      "Tropical Storm                        532\n",
      "Gulf                                  525\n",
      "Puerto Rico                           466\n",
      "Atlanta                               455\n",
      "Mexico                                443\n",
      "SC                                    413\n",
      "Caribbean                             387\n",
      "Cuba                                  273\n",
      "Jacksonville                          266\n",
      "                                     ... \n",
      "Barbuda                                 9\n",
      "Florida Keys                            9\n",
      "Broward County                          8\n",
      "twitter                                 7\n",
      "Rush Limbaugh                           6\n",
      "Camp David                              5\n",
      "Marco Island                            4\n",
      "Foot Locker                             3\n",
      "National Day of Prayer                  2\n",
      "Tim Duncan                              2\n",
      "Buffalo Bayou                           2\n",
      "US Virgin Islands                       1\n",
      "IRMA                                    1\n",
      "Brian Roberson                          1\n",
      "FLORIDA                                 1\n",
      "Hurricane Harvey                        1\n",
      "Rick Scott                              1\n",
      "U.S. Virgin Islands                     1\n",
      "CROSS                                   0\n",
      "HOUSTON                                 0\n",
      "HARVEY                                  0\n",
      "President Donald J                      0\n",
      "Hurricane Irma                          0\n",
      "President Trump                         0\n",
      "Meteorologist Vs Irma In Key West       0\n",
      "Sinton TX                               0\n",
      "Jefferson Chambers county               0\n",
      "St . Martin                             0\n",
      "Kappa Sig                               0\n",
      "white caps                              0\n",
      "Length: 95, dtype: int64\n"
     ]
    }
   ],
   "source": [
    "entity_result_counts = pd.Series({e : len(r) for e,r in entity_results.iteritems()}).sort_values(inplace=False, ascending=False)\n",
    "print(entity_result_counts)"
   ]
  },
  {
   "cell_type": "markdown",
   "metadata": {},
   "source": [
    "Some of these entities have a lot of ambiguity! But it might not be accurate: e.g., \"Manhattan Opera House\" is an unlikely entity from the string \"Manhattan.\" \n",
    "\n",
    "Can we cut down by enforcing a max word rule (n+1)? E.g., \"Manhattan\" would match \"Manhattan, KS\" but not \"Manhattan Opera House\"."
   ]
  },
  {
   "cell_type": "code",
   "execution_count": 173,
   "metadata": {
    "collapsed": true
   },
   "outputs": [],
   "source": [
    "extra_tokens_allowed = 1\n",
    "max_rule = lambda entity_tokens, candidate_tokens: len(candidate_tokens) <= len(entity_tokens) + extra_tokens_allowed\n",
    "entity_results_capped = {e : filter(lambda x: max_rule(e.split(' '), x.split(' ')), r) \n",
    "                         for e, r in entity_results.iteritems()}"
   ]
  },
  {
   "cell_type": "markdown",
   "metadata": {},
   "source": [
    "What kinds of entities are we left with?"
   ]
  },
  {
   "cell_type": "code",
   "execution_count": 225,
   "metadata": {
    "collapsed": false
   },
   "outputs": [
    {
     "name": "stdout",
     "output_type": "stream",
     "text": [
      "**Tim Duncan**: Tim Duncan\n",
      "**FLORIDA**: \n",
      "**Marco Island**: Marco Island Airport,Marco Island Airways,Marco Island, Florida\n",
      "**NOAA**: NOAA-15,NOAA-16,NOAA-17,NOAA-18,NOAA-19,NOAA-4,NOAA-7,NOAA-B\n",
      "**Louisiana**: Louisiana,Louisiana (disambiguation),Louisiana (film),Louisiana (shipwreck),Louisiana 1927,Louisiana Almanac,Louisiana Anti-Jacksonians,Louisiana Bendolph,Louisiana Blues,Louisiana Boardwalk,Louisiana Channel,Louisiana Club,Louisiana College,Louisiana Cottonmouths,Louisiana Democratic-Republicans,Louisiana Democrats,Louisiana Derby,Louisiana Diary,Louisiana Dixiecrats,Louisiana Downs,Louisiana Five,Louisiana French,Louisiana French/Greetings,Louisiana Fuel,Louisiana Gators,Louisiana Greenbacks,Louisiana Greens,Louisiana Handicap,Louisiana Hayride,Louisiana Independents,Louisiana Jacksonians,Louisiana Legion,Louisiana Libertarians,Louisiana Lightning,Louisiana Limestone,Louisiana Literature,Louisiana Lottery,Louisiana Man,Louisiana Maneuvers,Louisiana Mourning,Louisiana Museum,Louisiana Music,Louisiana Populists,Louisiana Purchase,Louisiana Red,Louisiana Republicans,Louisiana Slim,Louisiana Soul,Louisiana Speaks,Louisiana Story,Louisiana Swashbucklers,Louisiana Territory,Louisiana Tigers,Louisiana Tower,Louisiana Unionists,Louisiana United,Louisiana Voodoo,Louisiana Whigs,Louisiana blues,Louisiana culture,Louisiana elections,Louisiana floods,Louisiana folklore,Louisiana grass,Louisiana iris,Louisiana lawyers,Louisiana maps,Louisiana media,Louisiana meridian,Louisiana pearlshell,Louisiana pinesnake,Louisiana politicians,Louisiana portal,Louisiana portals,Louisiana road,Louisiana secession,Louisiana sheriffs,Louisiana society,Louisiana statutes,Louisiana stubs,Louisiana templates,Louisiana waterthrush,Louisiana wine,Louisiana, Kansas,Louisiana, Missouri,Louisiana-Pacific,Louisiana-related lists,Louisiana-related ships,Louisiana/Pearl,Louisiana–Mississippi border,Louisiana–Monroe Warhawks,Louisiana–Pearl station,Louisiana–Texas border\n",
      "**Texas**: Texas,Texas (album),Texas (band),Texas (disambiguation),Texas (film),Texas (mercenary),Texas (musical),Texas (novel),Texas (steamboat),Texas Aces,Texas AirHogs,Texas Almanac,Texas Association,Texas Bar,Texas Battle,Texas Beach,Texas Blazers,Texas Bowl,Texas Brigade,Texas Bullets,Texas Campaign,Texas Canyon,Texas Carnival,Texas Charge,Texas Cherokees,Texas Chief,Texas Clipper,Texas College,Texas Comics,Texas Conference,Texas Connection,Texas Cookin',Texas Copperheads,Texas County,Texas Cowboys,Texas Creek,Texas Cyclone,Texas Dandy,Texas Democrats,Texas Derby,Texas Dixiecrats,Texas Dynamo,Texas Eagle,Texas Eleven,Texas EquuSearch,Texas Exes,Texas Fever,Texas Fight,Texas Fists,Texas Five,Texas Flood,Texas Fuel,Texas Funeral,Texas Genco,Texas German,Texas Gladden,Texas Greenbacks,Texas Greens,Texas Guinan,Texas Hall,Texas Hardtails,Texas Heeler,Texas Highways,Texas Hill,Texas Hillel,Texas Hollywood,Texas Homecare,Texas Hotel,Texas Hurricanes,Texas Independents,Texas Instruments,Texas Interconnection,Texas Jack,Texas Justice,Texas Kickoff,Texas Lady,Texas Lawmen,Texas League,Texas Legation,Texas Legends,Texas Legislature,Texas Libertarians,Texas Lightning,Texas Longford,Texas Longhorn,Texas Longhorns,Texas Lottery,Texas Masquerade,Texas Monthly,Texas Moon,Texas Motorplex,Texas Mount,Texas Music,Texas Navy,Texas Network,Texas Norther,Texas Olsson,Texas Oncology,Texas Outlaws,Texas Panhandle,Texas Patti,Texas Pete,Texas Plates,Texas Populists,Texas Power,Texas Presley,Texas Primary,Texas Pro,Texas Raiders,Texas Rangers,Texas Red,Texas Regulars,Texas Relays,Texas Renegades,Texas Republicans,Texas Revolution,Texas Rising,Texas Road,Texas Roadhouse,Texas Rollergirls,Texas Ruby,Texas Senate,Texas Senators,Texas Seven,Texas Shootout,Texas Shuffle,Texas Silesian,Texas Sky,Texas Special,Texas Stadium,Texas Star,Texas Stars,Texas Station,Texas Statutes,Texas Stealth,Texas Syndicate,Texas T,Texas Tattoo,Texas Terminators,Texas Terri,Texas Terror,Texas Terrors,Texas Theatre,Texas Tom,Texas Tommy,Texas Tornado,Texas Tornados,Texas Tough,Texas Towers,Texas Township,Texas Trail,Texas Travesty,Texas Triangle,Texas Trilogy,Texas Twister,Texas Tycoons,Texas U-turn,Texas Unionists,Texas University,Texas Valley,Texas Vampires,Texas Wild,Texas Wildcats,Texas Wildcatters,Texas Women,Texas Zephyr,Texas annexation,Texas blues,Texas caucuses,Texas caviar,Texas cichlid,Texas constable,Texas culture,Texas discography,Texas divisionism,Texas dollar,Texas elections,Texas fireball,Texas flooding,Texas folklore,Texas hedge,Texas heelsplitter,Texas infrastructure,Texas lawyers,Texas literature,Texas maps,Texas media,Texas mickey,Texas mountains,Texas mouse,Texas pioneers,Texas pipefish,Texas politicians,Texas portals,Texas ratio,Texas rig,Texas sage,Texas sheriffs,Texas shiner,Texas society,Texas stubs,Texas tea,Texas templates,Texas toad,Texas toast,Texas tortoise,Texas transfer,Texas tuxedo,Texas wine,Texas wolf,Texas, Adios,Texas, Alabama,Texas, Georgia,Texas, Kentucky,Texas, Mississippi,Texas, Ohio,Texas, Queensland,Texas, Wisconsin,Texas-Southern League,Texas-Temple Sportsman,Texas-related lists,Texas-style fiddlers,Texas–Arlington Mavericks,Texas–Indian wars,Texas–Oklahoma League,Texas–Oklahoma–Louisiana League\n",
      "**Tampa Bay**: Tampa Bay,Tampa Bay Area,Tampa Bay Bandits,Tampa Bay Buccaneers,Tampa Bay Center,Tampa Bay Derby,Tampa Bay Downs,Tampa Bay Elite,Tampa Bay Hawks,Tampa Bay Hellenic,Tampa Bay Inferno,Tampa Bay Krewe,Tampa Bay Lightning,Tampa Bay Mutiny,Tampa Bay Rays,Tampa Bay Rowdies,Tampa Bay Sharks,Tampa Bay Starfish,Tampa Bay Storm,Tampa Bay Terror,Tampa Bay Thrillers,Tampa Bay ThunderDawgs,Tampa Bay Times,Tampa Bay Tritons,Tampa Bay Water,Tampa Bay Watershed\n",
      "**Irma**: Irma,Irma (name),Irma (opera),Irma (singer),Irma (supermarket),Irma Achten,Irma Adelman,Irma Adlawan,Irma Agiashvili,Irma Airisto,Irma Airport,Irma Alszeghy,Irma Alvarez,Irma Anderson,Irma Arestizábal,Irma Arguello,Irma Aubry,Irma Balogh,Irma Baltuttis,Irma Bandiera,Irma Bermann,Irma Björck,Irma Blanco,Irma Blank,Irma Bocz,Irma Boom,Irma Brandeis,Irma Brunner,Irma Brósz,Irma Bune,Irma Carmona,Irma Chaniago,Irma Chiazzese,Irma Chilton,Irma Christenson,Irma Ciaramella,Irma Clark-Coleman,Irma Cordero,Irma Cornier,Irma Crabbe,Irma Crosnier,Irma Czaykowska,Irma Córdoba,Irma Dimas,Irma Dorantes,Irma Dérèmeaux,Irma Erixson,Irma Flaquer,Irma Flis,Irma Franke,Irma Franzen-Heinrichsdorff,Irma Geisslová,Irma Goecke,Irma Goldberg,Irma González,Irma Gramatica,Irma Grese,Irma Gubanec,Irma Günther,Irma Harder,Irma Hartje-Leudesdorff,Irma Hartog,Irma Heeren,Irma Heijting-Schuhmacher,Irma Helin,Irma Hirschi,Irma Hirsjärvi,Irma Holder,Irma Hopper,Irma Hotel,Irma Huerta,Irma Huszár,Irma Jackson,Irma Jaffe,Irma Jakab,Irma Johansson,Irma Joubert,Irma Junnilainen,Irma Järvinen,Irma Kamp,Irma Karmol,Irma Karvikko,Irma Kastari,Irma Katz,Irma Keilhack,Irma Keller,Irma Kerppola-Sirola,Irma Khetsuriani,Irma Kliauzaitė,Irma Kolassi,Irma Koskimies,Irma Krauß,Irma Kukkasjärvi,Irma Kurti,Irma Kurtz,Irma Könye,Irma Lair,Irma Lanzas,Irma Laukkanen,Irma LeVasseur,Irma Leoni,Irma Libohova,Irma Lindheim,Irma Lozada,Irma Lozano,Irma Lukkarinen,Irma Luyting,Irma Marchiani,Irma Martinkauppi,Irma Maury,Irma McClaurin,Irma Melaja,Irma Miele,Irma Münch,Irma Newmark,Irma Nioradze,Irma Nissinen,Irma Nordvang,Irma Optimisti,Irma Orbán,Irma Ožbalt,Irma Palmieri,Irma Pane,Irma Patkós,Irma Petzold-Heinz,Irma Polak,Irma Polari,Irma Poutajärvi,Irma Prego,Irma Pöckler,Irma Rangel,Irma Rantavaara,Irma Rapuzzi,Irma Ratiani,Irma Raush,Irma Ravinale,Irma Records,Irma Reichová,Irma Reismann,Irma Resendez,Irma Rewell,Irma Rihtniemi-Koski,Irma Rosenberg,Irma Rosnell,Irma Roy,Irma Sander-Schauber,Irma Schmidegg,Irma Schrameková,Irma Schwager,Irma Seelig,Irma Seikkula,Irma Serrano,Irma Silzer,Irma Soriano,Irma Stern,Irma Stoß,Irma Sulkunen,Irma Svanadze,Irma Sánchez,Irma Tapio,Irma Telkki,Irma Tervani,Irma Testa,Irma Thesleff,Irma Thomas,Irma Thälmann,Irma Toivanen,Irma Torres,Irma Torvi,Irma Troll-Borostyáni,Irma Tähtiranta,Irma Török,Irma Tübler,Irma Urrila,Irma Urteaga,Irma Uschkamp,Irma Vahvaselkä,Irma Valová,Irma Vep,Irma Vila,Irma Virtanen,Irma Voth,Irma Wehgartner,Irma Weiland,Irma Wolpe,Irma Wulff,Irma Wyman,Irma Zwartkruis,Irma board,Irma d'Alessandro,Irma Åstrand,Irma Švēde,Irma's injection,Irma, Alberta,Irma, Lombardy,Irma, Wisconsin\n",
      "**Atlantic**: Atlantic (cinema),Atlantic (company),Atlantic (disambiguation),Atlantic (film),Atlantic (horse),Atlantic (locomotive),Atlantic (period),Atlantic (song),Atlantic (supermarkets),Atlantic (train),Atlantic (yacht),Atlantic 252,Atlantic 47,Atlantic 50,Atlantic Accord,Atlantic Aircraft,Atlantic Airlines,Atlantic Airways,Atlantic Antic,Atlantic Array,Atlantic Avenue,Atlantic Bank,Atlantic Beach,Atlantic Bird,Atlantic Books,Atlantic Boulevard,Atlantic Bowl,Atlantic Branch,Atlantic Bridge,Atlantic Broadband,Atlantic Building,Atlantic Campaign,Atlantic Canada,Atlantic Championship,Atlantic Charter,Atlantic Club,Atlantic Coast,Atlantic College,Atlantic Command,Atlantic Community,Atlantic Convoy,Atlantic Corridor,Atlantic Council,Atlantic Creole,Atlantic Crossing,Atlantic Cup,Atlantic Division,Atlantic Drift,Atlantic Europe,Atlantic Excellence,Atlantic Express,Atlantic FM,Atlantic Ferry,Atlantic Fleet,Atlantic Flight,Atlantic Flyway,Atlantic Forest,Atlantic Garden,Atlantic Geology,Atlantic Grill,Atlantic Grupa,Atlantic Guards,Atlantic Hall,Atlantic Highway,Atlantic Hockey,Atlantic Hotel,Atlantic House,Atlantic Initiative,Atlantic Institute,Atlantic Institution,Atlantic Jaxx,Atlantic Jet,Atlantic Jewel,Atlantic LNG,Atlantic League,Atlantic Line,Atlantic Marine,Atlantic Media,Atlantic Mill,Atlantic Mine,Atlantic Naturalist,Atlantic Neptune,Atlantic Northeast,Atlantic Oak,Atlantic Ocean,Atlantic Open,Atlantic Osprey,Atlantic Patrol,Atlantic Peak,Atlantic Petroleum,Atlantic Philanthropies,Atlantic Plain,Atlantic Productions,Atlantic Promotions,Atlantic Quarter,Atlantic Realm,Atlantic Records,Atlantic Reporter,Atlantic Revolutions,Atlantic Rhapsody,Atlantic Salvor,Atlantic Schooners,Atlantic Sea-Park,Atlantic Shield,Atlantic Spruce,Atlantic Star,Atlantic Starr,Atlantic Station,Atlantic Steel,Atlantic Storm,Atlantic Street,Atlantic Strike,Atlantic Studies,Atlantic Studios,Atlantic Summer,Atlantic Sun,Atlantic Superior,Atlantic Superstore,Atlantic Tele-Network,Atlantic Television,Atlantic Terminal,Atlantic Township,Atlantic Union,Atlantic University,Atlantic Upland,Atlantic Village,Atlantic Wall,Atlantic Wharf,Atlantic World,Atlantic auks,Atlantic bonito,Atlantic bumper,Atlantic canary,Atlantic cod,Atlantic croaker,Atlantic emperor,Atlantic expeditions,Atlantic flyingfish,Atlantic footballfish,Atlantic goldenrod,Atlantic halibut,Atlantic hazelwood,Atlantic herring,Atlantic history,Atlantic huis,Atlantic hurricane,Atlantic languages,Atlantic lizard,Atlantic lizardfish,Atlantic mackerel,Atlantic menhaden,Atlantic mudskipper,Atlantic petrel,Atlantic pigtoe,Atlantic pockets,Atlantic pomfret,Atlantic potato,Atlantic puffin,Atlantic roundhouse,Atlantic sailfish,Atlantic salmon,Atlantic saury,Atlantic silverside,Atlantic spadefish,Atlantic squid,Atlantic stargazer,Atlantic stingray,Atlantic sturgeon,Atlantic tarpon,Atlantic threadfin,Atlantic titi,Atlantic torpedo,Atlantic tripletail,Atlantic trumpetfish,Atlantic whitefish,Atlantic wolffish,Atlantic wreckfish,Atlantic, Iowa,Atlantic, Pennsylvania,Atlantic, Seattle,Atlantic, Virginia,Atlantic-ACM,Atlantic-Haus,Atlantic-Indian Basin,Atlantic-Pacific Capital,Atlantic.,Atlantic/Azores,Atlantic/Canary,Atlantic/Madeira,Atlantic–Congo languages\n",
      "**Atlanta**: Atlanta,Atlanta (album),Atlanta (band),Atlanta (disambiguation),Atlanta (gastropod),Atlanta (magazine),Atlanta (singer),Atlanta 500,Atlanta Agreement,Atlanta Artists,Atlanta Assembly,Atlanta Assurance,Atlanta Ballet,Atlanta Beat,Atlanta Blackhawks,Atlanta Blaze,Atlanta Bliss,Atlanta Blue,Atlanta Boom,Atlanta Braves,Atlanta Campaign,Atlanta Capitals,Atlanta Centre,Atlanta Chiefs,Atlanta Classic,Atlanta Crackers,Atlanta Datagraphic,Atlanta Division,Atlanta Dragway,Atlanta Dream,Atlanta Exes,Atlanta Express,Atlanta Falcons,Atlanta Flames,Atlanta Gladiators,Atlanta Glory,Atlanta Hawks,Atlanta Heartbreakers,Atlanta Highway,Atlanta Hotel,Atlanta Hustle,Atlanta Justice,Atlanta Knights,Atlanta Kookaburras,Atlanta Life,Atlanta Magic,Atlanta Marathon,Atlanta Nagendra,Atlanta Nights,Atlanta Open,Atlanta Opera,Atlanta Park,Atlanta Phoenix,Atlanta Plaza,Atlanta Pride,Atlanta Quicksilver,Atlanta Renegades,Atlanta Review,Atlanta Rewound,Atlanta Rhinos,Atlanta Ripper,Atlanta Rollergirls,Atlanta Sharks,Atlanta Silverbacks,Atlanta Steam,Atlanta Streetcar,Atlanta Thoroughbreds,Atlanta Thrashers,Atlanta Township,Atlanta Vision,Atlanta Vultures,Atlanta WCT,Atlanta Wildcats,Atlanta Xplosion,Atlanta blues,Atlanta brunnea,Atlanta californiensis,Atlanta compromise,Atlanta echinogyra,Atlanta fragilis,Atlanta frontieri,Atlanta gaudichaudi,Atlanta helicinoidea,Atlanta inclinata,Atlanta inflata,Atlanta lesueurii,Atlanta meteori,Atlanta oligogyra,Atlanta peronii,Atlanta plana,Atlanta portal,Atlanta pulchella,Atlanta quoyii,Atlanta rosea,Atlanta selvagensis,Atlanta stubs,Atlanta tokiokai,Atlanta turriculata,Atlanta, Arkansas,Atlanta, California,Atlanta, Delaware,Atlanta, Idaho,Atlanta, Illinois,Atlanta, Indiana,Atlanta, Kansas,Atlanta, Kentucky,Atlanta, Louisiana,Atlanta, Michigan,Atlanta, Mississippi,Atlanta, Missouri,Atlanta, Nebraska,Atlanta, Ohio,Atlanta, Texas,Atlanta, Wisconsin,Atlanta-class cruiser,Atlanta-class cruisers,Atlanta-related lists,Atlanta/East,Atlanta/Grant Park,Atlanta/Southeast,Atlanta/Time,Atlanta/Virginia-Highland,Atlanta/West\n",
      "**Kappa Sig**: \n",
      "**Tampa**: Tampa (disambiguation),Tampa (novel),Tampa 2,Tampa Bay,Tampa Cardinals,Tampa College,Tampa Heights,Tampa Hill,Tampa Marauders,Tampa Mayhem,Tampa Open,Tampa Overlook,Tampa Palms,Tampa Red,Tampa Review,Tampa Riverwalk,Tampa Robins,Tampa Rockets,Tampa Smokers,Tampa Spartans,Tampa Stadium,Tampa Tarpons,Tampa Theatre,Tampa Yankees,Tampa affair,Tampa dimediatella,Tampa station,Tampa, Colorado,Tampa, Florida,Tampa, Kansas,Tampa-class cutters\n",
      "**President Trump**: \n",
      "**Miami**: Miami,Miami '05,Miami (book),Miami (disambiguation),Miami (neighborhood),Miami (soil),Miami 7,Miami Airlines,Miami Americans,Miami Arena,Miami Avenue,Miami Blues,Miami Boys,Miami Bridge,Miami Caliente,Miami Canal,Miami Center,Miami Circle,Miami Confederacy,Miami Connection,Miami Conservatory,Miami Council,Miami County,Miami Creek,Miami Dolphins,Miami Eagles,Miami Exposé,Miami FC,Miami Field,Miami Floridians,Miami Freedom,Miami Fury,Miami Fusion,Miami Guns,Miami Heat,Miami Herald,Miami Horror,Miami Hurricanes,Miami Ice,Miami Inferno,Miami Ink,Miami Ironside,Miami Kickers,Miami Lake,Miami Law,Miami Majesty,Miami Manatees,Miami Maniac,Miami Mansions,Miami Marathon,Miami Marlins,Miami Matadors,Miami Medical,Miami Metro,Miami Midnites,Miami Miners,Miami Monkey,Miami Monthly,Miami Morays,Miami Oolite,Miami Open,Miami Platja,Miami Project,Miami Psychic,Miami RedHawks,Miami Revolution,Miami Rhapsody,Miami River,Miami Riverwalk,Miami Seahawks,Miami Seaquarium,Miami Social,Miami Sol,Miami Stadium,Miami Station,Miami Sting,Miami SunPost,Miami Supercops,Miami Surf,Miami Tango,Miami Today,Miami Tornado,Miami Toros,Miami Tower,Miami Township,Miami Tropics,Miami Twice,Miami Undercover,Miami University,Miami Valley,Miami Vice,Miami Vise,Miami Worldcenter,Miami accent,Miami area,Miami bass,Miami blue,Miami ePrix,Miami model,Miami people,Miami stubs,Miami, Arizona,Miami, California,Miami, Indiana,Miami, Manitoba,Miami, Missouri,Miami, Ohio,Miami, Oklahoma,Miami, Queensland,Miami, Texas,Miami-Dade Transit,Miami-Illinois language,Miami-related lists,Miami/Brickell,Miami/Design District,Miami/Midtown,Miami/Overtown\n",
      "**Broward County**: Broward County Library,Broward County Transit,Broward County, Florida\n",
      "**GA**: GA,GA Bunko,GA Cup,GA Drilling,GA Peach,GA criteria,GA date,GA module,GA url,GA-7,GA-8,GA-Class,GA-Class articles,GA²LEN\n",
      "**Trump**: Trump,Trump (comics),Trump (disambiguation),Trump (magazine),Trump (surname),Trump Card,Trump Dam,Trump Davidson,Trump Ice,Trump Institute,Trump Islands,Trump Mediaeval,Trump Mine,Trump Mortgage,Trump Parc,Trump Plaza,Trump Productions,Trump Shuttle,Trump SoHo,Trump Steaks,Trump Suit,Trump Tower,Trump University,Trump Village,Trump Vodka,Trump Winery,Trump card,Trump coup,Trump fragrances,Trump promotion,Trump squeeze,Trump virus,Trump's razor,Trump-Lilly Farmstead\n",
      "**Rick Scott**: Rick Scott\n",
      "**Katrina**: Katrina,Katrina (film),Katrina (novel),Katrina Adams,Katrina Ahlin,Katrina Andry,Katrina Asay,Katrina Bayonas,Katrina Begin,Katrina Berger,Katrina Best,Katrina Bowden,Katrina Boyd,Katrina Brown,Katrina Bryan,Katrina Cameron,Katrina Carlson,Katrina Chen,Katrina Colleton,Katrina Conder,Katrina Cottage,Katrina Darrell,Katrina DeLoach,Katrina Devine,Katrina Dunn,Katrina Edwards,Katrina Elam,Katrina Finlay,Katrina Gibbs,Katrina Gorry,Katrina Grant,Katrina Hacker,Katrina Halili,Katrina Hanse-Himarwa,Katrina Harjuhahto-Madetoja,Katrina Hart,Katrina Hibbert,Katrina Hodge,Katrina Hodgkinson,Katrina Honeyman,Katrina Hussain,Katrina Jacks,Katrina Jackson,Katrina Jade,Katrina Johansson,Katrina Johnson,Katrina Kaif,Katrina Kalda,Katrina Karkazis,Katrina Keenan,Katrina Kendall,Katrina Kenison,Katrina Kittle,Katrina Kraven,Katrina Krimsky,Katrina Krumpane,Katrina Law,Katrina Legarda,Katrina Lehis,Katrina Leskanich,Katrina Leung,Katrina Ligett,Katrina Lumikallio,Katrina Lundstedt,Katrina Mathers,Katrina Miller,Katrina Milosevic,Katrina Molloy,Katrina Monton,Katrina Mumaw,Katrina Onstad,Katrina Orpwood,Katrina Parker,Katrina Parrock,Katrina Patchett,Katrina Pawlaczyk,Katrina Pierson,Katrina Porteous,Katrina Porter,Katrina Powell,Katrina Price,Katrina Retallick,Katrina Rix,Katrina Sedgwick,Katrina Seymour,Katrina Shankland,Katrina Shanks,Katrina Shealy,Katrina Swett,Katrina Szish,Katrina Trask,Katrina Turner,Katrina Vasilieva,Katrina Voss,Katrina Warren,Katrina Webb,Katrina Woolverton,Katrina Wreede,Katrina Young,Katrina Zepps,Katrina cough,Katrina refrigerator\n",
      "**Rockport**: Rockport,Rockport (company),Rockport Cemetery,Rockport Formation,Rockport Harbor,Rockport Music,Rockport Railroad,Rockport Reservoir,Rockport School,Rockport Wharf,Rockport virus,Rockport, Arkansas,Rockport, California,Rockport, Illinois,Rockport, Indiana,Rockport, Kentucky,Rockport, Maine,Rockport, Massachusetts,Rockport, Mississippi,Rockport, Ohio,Rockport, Texas,Rockport, Utah,Rockport, Washington\n",
      "**South Florida**: South Florida,South Florida (disambiguation),South Florida Blade,South Florida Bulls,South Florida Classic,South Florida Council,South Florida Fair,South Florida Gold,South Florida Museum,South Florida PBS,South Florida Railroad,South Florida Surf,South Florida rocklands,South Florida–UCF rivalry\n",
      "**Caribbean**: Caribbean,Caribbean (disambiguation),Caribbean (novel),Caribbean Airlines,Caribbean Australians,Caribbean Basin,Caribbean Bay,Caribbean Beat,Caribbean Blue,Caribbean Brazilians,Caribbean British,Caribbean Christians,Caribbean Cinemas,Caribbean Clipper,Caribbean Club,Caribbean Commission,Caribbean Community,Caribbean Connection,Caribbean Cops,Caribbean Corkscrew,Caribbean Cup,Caribbean Current,Caribbean English,Caribbean French,Caribbean Gardens,Caribbean Geography,Caribbean Gold,Caribbean Guitar,Caribbean Helicopters,Caribbean Herpetology,Caribbean Hindustani,Caribbean Honduras,Caribbean Initiative,Caribbean Jews,Caribbean Lake,Caribbean Legion,Caribbean Lowlands,Caribbean Moon,Caribbean Motel,Caribbean Netherlands,Caribbean Nicaragua,Caribbean Plate,Caribbean Princess,Caribbean Quarterly,Caribbean Queen,Caribbean Regiment,Caribbean Rhythms,Caribbean Rising,Caribbean Romance,Caribbean Roots,Caribbean School,Caribbean Sea,Caribbean Selects,Caribbean Series,Caribbean Shores,Caribbean Spanish,Caribbean Studies,Caribbean Sunset,Caribbean Twenty20,Caribbean University,Caribbean Utilities,Caribbean Voices,Caribbean West,Caribbean Wikipedians,Caribbean Winner,Caribbean amber,Caribbean art,Caribbean articles,Caribbean artists,Caribbean awards,Caribbean basins,Caribbean bioregion,Caribbean clothing,Caribbean coot,Caribbean cuisine,Caribbean diaspora,Caribbean dove,Caribbean drinks,Caribbean elaenia,Caribbean emigrants,Caribbean expatriates,Caribbean folklore,Caribbean guilder,Caribbean lanternshark,Caribbean literature,Caribbean martin,Caribbean models,Caribbean musicians,Caribbean mythology,Caribbean orchestras,Caribbean pan-Africanists,Caribbean people,Caribbean philosophers,Caribbean physicians,Caribbean pine,Caribbean pipefish,Caribbean poetry,Caribbean portal,Caribbean portals,Caribbean roughshark,Caribbean society,Caribbean sportspeople,Caribbean stubs,Caribbean studies,Caribbean templates,Caribbean writers,Caribbean-American cuisine,Caribbean-American culture,Caribbean-American history,Caribbean-American organizations,Caribbean-Americans,Caribbean-British culture,Caribbean-Canadian culture,Caribbean-related lists,Caribbean–China relations\n",
      "**Gulf**: Gulf,Gulf (novella),Gulf Air,Gulf Airport,Gulf Arabic,Gulf Aviation,Gulf Branch,Gulf Building,Gulf Canada,Gulf Cartel,Gulf Coaster,Gulf Country,Gulf Craft,Gulf Creek,Gulf Cryo,Gulf Cup,Gulf FM,Gulf Film,Gulf Group,Gulf Hagas,Gulf Hamstery,Gulf Harbour,Gulf Helicopters,Gulf Hills,Gulf Islands,Gulf Labor,Gulf Medal,Gulf News,Gulf Oil,Gulf Petrochem,Gulf Playhouse,Gulf Province,Gulf Railway,Gulf Rangers,Gulf Road,Gulf Run,Gulf Stream,Gulf Sugarloaf,Gulf Tiger,Gulf Times,Gulf Tower,Gulf Township,Gulf Traveller,Gulf Trough,Gulf University,Gulf War,Gulf Wild,Gulf Wind,Gulf Winds,Gulf butterfish,Gulf carrier,Gulf catshark,Gulf chimaera,Gulf darter,Gulf flounder,Gulf fritillary,Gulf grouper,Gulf hagfish,Gulf house,Gulf killifish,Gulf languages,Gulf low,Gulf menhaden,Gulf moccasinshell,Gulf pipefish,Gulf rupee,Gulf sanddab,Gulf saratoga,Gulf smooth-hound,Gulf states,Gulf sturgeon,Gulf toadfish,Gulf torpedo,Gulf wobbegong,Gulf, California,Gulf-Canal Lines,Gulf/2000 Project\n",
      "**twitter**: twitter,twitter account,twitter handle,twitter name,twitter site,twitter_NN_1,twitter_VB_1\n",
      "**Saint Martin**: Saint Martin,Saint Martin (2),Saint Martin (disambiguation),Saint Martin Island,Saint Martin University,Saint Martin articles,Saint Martin church,Saint Martin crater,Saint Martin culture,Saint Martin people,Saint Martin society,Saint Martin sportspeople,Saint Martin templates,Saint Martin's Church,Saint Martin's League,Saint Martin's Peak,Saint Martin's Saints,Saint Martin's University,Saint Martin's church,Saint Martin, Guernsey,Saint Martin, Jersey\n",
      "**Florida Keys**: Florida Keys,Florida Keys Keynoter\n",
      "**Key West**: Key West,Key West (disambiguation),Key West Agreement,Key West Aquarium,Key West Beach,Key West Cemetery,Key West Citizen,Key West Club,Key West Cubs,Key West Library,Key West Rapids,Key West Township,Key West lighthouse,Key West quail-dove,Key West, Florida,Key West, Iowa,Key West, Minnesota,Key West, Virginia\n",
      "**HOUSTON**: \n",
      "**Cuba**: Cuba,Cuba (disambiguation),Cuba (film),Cuba Austin,Cuba Cabana,Cuba Cemetery,Cuba Cola,Cuba Crossing,Cuba Cuba,Cuba Dam,Cuba Five,Cuba Formation,Cuba Gooding,Cuba Governorate,Cuba Libre,Cuba Nostalgia,Cuba Plantation,Cuba Street,Cuba Township,Cuba cheese,Cuba española,Cuba portal,Cuba stubs,Cuba templates,Cuba topics,Cuba, Alabama,Cuba, California,Cuba, Georgia,Cuba, Illinois,Cuba, Indiana,Cuba, Kansas,Cuba, Kentucky,Cuba, Minnesota,Cuba, Missouri,Cuba, Palermo,Cuba, Portugal,Cuba-related lists,Cuba–Angola airbridge,Cuba–France relations,Cuba–Greece relations,Cuba–Grenada relations,Cuba–Haiti border,Cuba–Haiti relations,Cuba–Honduras border,Cuba–India relations,Cuba–Indonesia relations,Cuba–Iran relations,Cuba–Iraq relations,Cuba–Ireland relations,Cuba–Jamaica border,Cuba–Jamaica relations,Cuba–Kiribati relations,Cuba–Malaysia relations,Cuba–Mexico border,Cuba–Mexico relations,Cuba–Namibia relations,Cuba–Nicaragua relations,Cuba–Norway relations,Cuba–Oceania relations,Cuba–Pakistan relations,Cuba–Peru relations,Cuba–Philippines relations,Cuba–Poland relations,Cuba–Russia relations,Cuba–Serbia relations,Cuba–Spain relations,Cuba–Switzerland relations,Cuba–Tuvalu relations,Cuba–Ukraine relations,Cuba–Uruguay relations,Cuba–Vanuatu relations,Cuba–Venezuela relations,Cuba–Vietnam relations\n",
      "**HARVEY**: \n",
      "**Hurricane Irma**: \n",
      "**white caps**: \n",
      "**Facebook**: Facebook,Facebook Add,Facebook Beacon,Facebook Credits,Facebook F8,Facebook Group,Facebook Home,Facebook ID,Facebook Messenger,Facebook Name,Facebook Paper,Facebook Platform,Facebook Revolution,Facebook Slingshot,Facebook URL,Facebook Zero,Facebook diplomacy,Facebook employees,Facebook games,Facebook link,Facebook litigation,Facebook murder,Facebook people,Facebook profile,Facebook software,Facebook statistics\n",
      "**America**: America (Paris),America (XM),America (advertisement),America (aircraft),America (airship),America (band),America (disambiguation),America (poem),America (yacht),America 2-Night,America 2040,America 24/7,America 3000,America Abbayi,America Abroad,America Again,America Alone,America America,America Ammayi,America Award,America Bay,America Burning,America Calling,America Dances,America Ferrera,America First,America Hurrah,America II,America Indigena,America Ladina,America Line,America Martin,America Meredith,America Newton,America Now,America Oggi,America Olivo,America One,America Plaza,America ReFramed,America Rising,America Safe!,America Sanchez,America Screams,America Sings,America Song,America Square,America Tang,America Today,America Tonight,America Tour,America Town,America Township,America Undercover,America Underwater,America Unearthed,America Unguarded,America Votes,America Wood,America Young,America Zarigani,America aberlenci,America amabilis,America amethystina,America berkovi,America bicolor,America biplagiata,America columbiana,America cuneata,America discography,America festiva,America flavipennis,America flavoviridis,America hermieri,America hilaris,America hovorei,America laetifica,America larrei,America lingafelteri,America marcelae,America mariahelenae,America morrisi,America peruviana,America pulcherrima,America quadrimaculata,America solangeae,America solisi,America spinipennis,America thomasi,America thouvenoti,America trilogy,America tumidicollis,America wappesi,America's Accomplishments,America's Army,America's Backyard,America's Best,America's Caribbean,America's Castles,America's Center,America's Challenge,America's Charities,America's Choice,America's Choir,America's Cup,America's Dream,America's Funnyman,America's Heartland,America's Newsroom,America's Party,America's Pregame,America's Promise,America's Son,America's Song,America's Stonehenge,America's Store,America's Suitehearts,America's Supernanny,America's Sweethearts,America's Talk,America's Talking,America's Team,America's sweetheart,America, Illinois,America, Indiana,America, Limburg,America, Oklahoma,America-Klasse,America-Lite,America-class steamship,America-yama Park,America/Adak,America/Anchorage,America/Araguaina,America/Argentina/Buenos Aires,America/Argentina/Catamarca,America/Argentina/Cordoba,America/Argentina/Jujuy,America/Argentina/La Rioja,America/Argentina/Mendoza,America/Argentina/Rio Gallegos,America/Argentina/Salta,America/Argentina/San Juan,America/Argentina/San Luis,America/Argentina/Tucuman,America/Argentina/Ushuaia,America/Bahia,America/Bahia Banderas,America/Belem,America/Boa Vista,America/Boise,America/Campo Grande,America/Cancun,America/Chicago,America/Chihuahua,America/Creston,America/Cuiaba,America/Curacao,America/Detroit,America/Eirunepe,America/Fortaleza,America/Glace Bay,America/Goose Bay,America/Halifax,America/Havana,America/Indiana/Indianapolis,America/Indiana/Knox,America/Indiana/Marengo,America/Indiana/Petersburg,America/Indiana/Tell City,America/Indiana/Vevay,America/Indiana/Vincennes,America/Indiana/Winamac,America/Juneau,America/Kentucky/Louisville,America/Kentucky/Monticello,America/Los Angeles,America/Los_Angeles,America/Maceio,America/Manaus,America/Matamoros,America/Menominee,America/Merida,America/Metlakatla,America/Mexico City,America/Moncton,America/Monterrey,America/Montevideo,America/Montreal,America/Noronha,America/North Dakota/Beulah,America/North Dakota/Center,America/Ojinaga,America/Porto Velho,America/Rainy River,America/Recife,America/Regina,America/Rio Branco,America/Santa Isabel,America/Santarem,America/Santiago,America/Sao Paulo,America/Sitka,America/St Johns,America/St Thomas,America/Tijuana,America/Toronto,America/Vancouver,America³\n",
      "**President Donald J**: \n",
      "**Miami Beach**: Miami Beach Bowl,Miami Beach Flamingos,Miami Beach Open,Miami Beach Towers,Miami Beach, Barbados,Miami Beach, Florida,Miami Beach/Mid Beach\n",
      "**U.S.**: US (disambiguation),US (play),US 22,US 25,US 5,US 708,US Airways,US Albi,US Alençon,US Announcers,US Assure,US Automobile,US Aviation,US Avranches,US B-side,US Baie-Mahault,US Bellows,US Bilombe,US Biskra,US Bitam,US Bougouni,US Boulogne,US Bénédictine,US Cable,US Carcassonne,US Cattin,US Changé,US Chaouia,US Cognac,US Colomiers,US Concarneau,US Coutras,US Cover,US Créteil-Lusitanos,US Dax,US Diamantinoise,US Editor,US FRAN,US Festival,US Feurs,US Fonctionnaires,US Foods,US Forbach,US Frères,US GN,US Games,US Gold,US Gorée,US Granville,US Head,US Helicopter,US Highland,US Hostert,US ISPA,US Ivry,US Joué-lès-Tours,US Kokori,US Koroki,US Koumassi,US LaJeune,US Lacrosse,US Lajeune,US Laon,US Lesquin,US Macouria,US Masséda,US Melle,US Microbics,US Mobile,US Monastir,US Mondorf-les-Bains,US Montagnarde,US Montauban,US Métro,US NCAP,US Nationals,US Network,US New,US Organization,US Orléans,US Ouagadougou,US Ouakam,US Oyem,US Pont-de-Roide,US Possession,US Quevilly-Rouen,US Quidditch,US Quillan,US RaceTronics,US Radar,US Radio,US Rail,US Railcar,US Raon-l'Étape,US Release,US Remchi,US Robert,US Roye-Noyon,US Rumelange,US SIF,US Sailing,US Saint-Georges,US Saint-Malo,US Saint-Omer,US Saint-Pierre-des-Corps,US Sainte-Marienne,US Sandweiler,US Sarre-Union,US Sbeitla,US Seal,US Sinnamary,US Sénart-Moissy,US Tataouine,US Tshinkunku,US Tébessa,US Témara,US Uncut,US Vision,US West,US Wikipedians,US Wings,US Yatenga,US budget,US businesspeople,US gallon,US residency,US sales,US sen,US taxation,US-1 Trucks,US-101,US-1A,US-2 Tracker,US-2A Tracker,US-2B Tracker,US-2C Tracker,US-2F Tracker,US-2S Tracker,US-A,US-Armee,US-Asia Institute,US-Bangla Airlines,US-Hauptquartier Berlin-Dahlem,US-K,US-KMO,US-KS,US-KS (disambiguation),US-To-Europe Tour,US-centric,US/EU Correspondent,US/UK Title\n",
      "**Florida**: Florida,Florida (Petipa/Pugni),Florida (disambiguation),Florida AFL–CIO,Florida Abolitionist,Florida Acoustic,Florida Airlines,Florida Airport,Florida Airways,Florida Aquarium,Florida Avenue,Florida Bark,Florida Bay,Florida Bobcats,Florida Boys,Florida Brewery,Florida Cabinet,Florida Canal,Florida Carry,Florida Catholic,Florida Cevoli,Florida Classic,Florida College,Florida Comptroller,Florida Comptrollers,Florida Cup,Florida Current,Florida Department,Florida Derby,Florida District,Florida Everblades,Florida Express,Florida Firecats,Florida Flame,Florida Flamingos,Florida Flight,Florida Forever,Florida Formation,Florida Four,Florida Friebus,Florida Fusion,Florida Gators,Florida Glen,Florida Greens,Florida Gymnasium,Florida Heartland,Florida Hills,Florida Hospital,Florida House,Florida Independents,Florida Jades,Florida Keys,Florida Lakewatch,Florida Launch,Florida Legislature,Florida Libertarians,Florida Libraries,Florida Limited,Florida Lottery,Florida Man,Florida Mountains,Florida Oaks,Florida Oeste,Florida Open,Florida Panhandle,Florida Panthers,Florida Parishes,Florida Pearl,Florida Platform,Florida Probe,Florida Prohibitionists,Florida Projects,Florida Province,Florida Railroad,Florida Reef,Florida River,Florida Roadkill,Florida Scene,Florida Scientist,Florida Scorpions,Florida Scott-Maxwell,Florida Seals,Florida Seascape,Florida Senate,Florida Special,Florida Stars,Florida Statutes,Florida Stingrays,Florida Street,Florida Strikers,Florida Suite,Florida Suncoast,Florida Sunrise,Florida Sunset,Florida Tarpons,Florida TaxWatch,Florida Territory,Florida Theatre,Florida Thunder,Florida ThunderCats,Florida Tile,Florida Today,Florida Township,Florida Trail,Florida Trees,Florida Trend,Florida Unionists,Florida Village,Florida Water,Florida Western,Florida Whigs,Florida arrowroot,Florida breaks,Florida climate,Florida cracker,Florida cuisine,Florida culture,Florida elections,Florida folklore,Florida gar,Florida group,Florida infrastructure,Florida keratopathy,Florida kingsnake,Florida lance,Florida lawyers,Florida lighthouses,Florida mangroves,Florida maps,Florida media,Florida modern,Florida mouse,Florida panther,Florida pioneers,Florida politicians,Florida pompano,Florida portals,Florida postmasters,Florida primaries,Florida scrub,Florida settlers,Florida sheriffs,Florida society,Florida station,Florida statutes,Florida stubs,Florida swamps,Florida templates,Florida torpedo,Florida wine,Florida's Shipwrecks,Florida's Turnpike,Florida, Chile,Florida, Colorado,Florida, Copán,Florida, Cuba,Florida, Gauteng,Florida, Indiana,Florida, Massachusetts,Florida, Missouri,Florida, Ohio,Florida, Uruguay,Florida-Rolf,Florida-class battleship,Florida-class battleships,Florida-related lists,Florida–Georgia border\n",
      "**Donald Trump**: Donald Trump,Donald Trump (disambiguation),Donald Trump (song),Donald Trump Jr.,Donald Trump controversies,Donald Trump portal,Donald Trump pseudonyms\n",
      "**British Virgin Islands**: British Virgin Islands,British Virgin Islands Christians,British Virgin Islands Methodists,British Virgin Islands Protestants,British Virgin Islands Quakers,British Virgin Islands articles,British Virgin Islands athletes,British Virgin Islands awards,British Virgin Islands businesspeople,British Virgin Islands cricketers,British Virgin Islands criminals,British Virgin Islands culture,British Virgin Islands diaspora,British Virgin Islands emigrants,British Virgin Islands expatriates,British Virgin Islands footballers,British Virgin Islands judges,British Virgin Islands lawyers,British Virgin Islands media,British Virgin Islands men,British Virgin Islands murderers,British Virgin Islands music,British Virgin Islands musicians,British Virgin Islands people,British Virgin Islands physicians,British Virgin Islands politicians,British Virgin Islands runners,British Virgin Islands sailors,British Virgin Islands singers,British Virgin Islands society,British Virgin Islands songs,British Virgin Islands sportsmen,British Virgin Islands sportspeople,British Virgin Islands sportswomen,British Virgin Islands sprinters,British Virgin Islands stubs,British Virgin Islands swimmers,British Virgin Islands templates,British Virgin Islands wicket-keepers,British Virgin Islands-related lists\n",
      "**Ohio**: Ohio,Ohio (disambiguation),Ohio 250,Ohio Anti-Jacksonians,Ohio Assembly,Ohio Aviators,Ohio Bell,Ohio Bicentennial,Ohio Bobcats,Ohio Caverns,Ohio City,Ohio Classic,Ohio Clock,Ohio Company,Ohio Country,Ohio County,Ohio Creek,Ohio Cup,Ohio Democratic-Republicans,Ohio Democrats,Ohio Derby,Ohio District,Ohio Express,Ohio Farmer–Laborites,Ohio Federalists,Ohio Field,Ohio Gang,Ohio Glory,Ohio Greenbacks,Ohio Greens,Ohio History,Ohio Hub,Ohio Impromptu,Ohio Independents,Ohio Jacksonians,Ohio Key,Ohio Lands,Ohio League,Ohio Libertarians,Ohio Libertyites,Ohio LinuxFest,Ohio Lottery,Ohio Machine,Ohio Magic,Ohio Open,Ohio Oppositionists,Ohio Pass,Ohio Peak,Ohio Penitentiary,Ohio Players,Ohio Prohibitionists,Ohio Range,Ohio Republicans,Ohio River,Ohio Scientific,Ohio Senate,Ohio Shale,Ohio Stadium,Ohio Statehouse,Ohio Street,Ohio Theatre,Ohio Town,Ohio Township,Ohio Turnpike,Ohio Union,Ohio Unionists,Ohio University,Ohio Village,Ohio Vortex,Ohio Whigs,Ohio Xoggz,Ohio culture,Ohio elections,Ohio folklore,Ohio idea,Ohio lamprey,Ohio lawyers,Ohio maps,Ohio media,Ohio pioneers,Ohio politicians,Ohio portals,Ohio ranking,Ohio sheriffs,Ohio society,Ohio stubs,Ohio templates,Ohio wine,Ohio, Illinois,Ohio, Missouri,Ohio, Texas,Ohio-Meadville District,Ohio-class submarine,Ohio-klass,Ohio-related lists,Ohio–Indiana League,Ohio–Pennsylvania League\n",
      "**Sinton TX**: \n",
      "**florida**: florida,florida_NN_1,florida_arrowroot,florida_arrowroot_NN_1,florida_bean,florida_bean_NN_1,florida_gallinule,florida_gallinule_NN_1,florida_key,florida_key_NN_1,florida_pompano,florida_pompano_NN_1,florida_selaginella,florida_selaginella_NN_1,florida_smoothhound,florida_smoothhound_NN_1,florida_strangler_fig,florida_strangler_fig_NN_1,florida_strap_fern,florida_strap_fern_NN_1,florida_water_rat,florida_water_rat_NN_1,florida_yew,florida_yew_NN_1\n",
      "**Keys**: Keys (surname),Keys Glacier,Keys Hill,Keys Park,Keys Point,Keys, Oklahoma\n",
      "**Rush Limbaugh**: Rush Limbaugh,Rush Limbaugh Sr.,Rush Limbaugh's \"Apology\"\n",
      "**National Day of Prayer**: National Day of Prayer\n",
      "**Red Cross**: Red Cross (EP),Red Cross (album),Red Cross (disambiguation),Red Cross Canteen,Red Cross Hospital,Red Cross Youth,Red Cross ambassadors,Red Cross parcel,Red Cross personnel,Red Cross service,Red Cross stove,Red Cross, Kentucky\n",
      "**National Guard**: National Guard,National Guard (Bahrain),National Guard (Egypt),National Guard (France),National Guard (Iraq),National Guard (Mauritania),National Guard (Nicaragua),National Guard Armory,National Guard Bureau\n",
      "**U.S. Virgin Islands**: \n",
      "**Harvey**: Harvey,Harvey (MC),Harvey (announcer),Harvey (crater),Harvey (film),Harvey (name),Harvey (play),Harvey Achziger,Harvey Adams,Harvey Adamson,Harvey Airfield,Harvey Alexander,Harvey Allen,Harvey Anderson,Harvey Andrews,Harvey Armstrong,Harvey Aronson,Harvey Atkin,Harvey Award,Harvey Bailey,Harvey Bainbridge,Harvey Ball,Harvey Balls,Harvey Barnett,Harvey Bautista,Harvey Beaks,Harvey Belovski,Harvey Benge,Harvey Bennett,Harvey Bernhard,Harvey Berrow,Harvey Bialy,Harvey Bicker,Harvey Birdman,Harvey Bischop,Harvey Blauvelt,Harvey Bossenberry,Harvey Bostrom,Harvey Boulter,Harvey Braban,Harvey Branch,Harvey Breit,Harvey Broadbent,Harvey Brooks,Harvey Broome,Harvey Brown,Harvey Brownstone,Harvey Bullock,Harvey Butchart,Harvey Butterfield,Harvey Campbell,Harvey Cantor,Harvey Carey,Harvey Carignan,Harvey Catchings,Harvey Cenaiko,Harvey Charters,Harvey Chrouser,Harvey Cirque,Harvey Clapp,Harvey Clark,Harvey Clayton,Harvey Cohen,Harvey Cohn,Harvey Comics,Harvey Corson,Harvey Cox,Harvey Creek,Harvey Cushing,Harvey Cushman,Harvey Dahl,Harvey Dam,Harvey Danger,Harvey Daniels,Harvey Davis,Harvey Dinnerstein,Harvey Dorfman,Harvey Dubner,Harvey Duke,Harvey Dunn,Harvey Einbinder,Harvey Eisenberg,Harvey Ellis,Harvey Emery,Harvey Esajas,Harvey F.C.,Harvey Feldman,Harvey Fellows,Harvey Fergusson,Harvey Fields,Harvey Fierstein,Harvey Fillingane,Harvey Films,Harvey Fitch,Harvey Fite,Harvey Flaumenhaft,Harvey Fletcher,Harvey Fraser,Harvey Freeman,Harvey Friedman,Harvey Frost,Harvey Fuqua,Harvey Gamage,Harvey Gantt,Harvey García,Harvey Gates,Harvey Gaylord,Harvey Geller,Harvey Gentry,Harvey Gibson,Harvey Girls,Harvey Glance,Harvey Glatman,Harvey Glatt,Harvey Goble,Harvey Gold,Harvey Goldberg,Harvey Goldman,Harvey Goldschmid,Harvey Goldsmith,Harvey Goldstein,Harvey Golub,Harvey Goodman,Harvey Goodwin,Harvey Grace,Harvey Grant,Harvey Green,Harvey Grossinger,Harvey Grubb,Harvey Guillen,Harvey Gumbs,Harvey Haddix,Harvey Hall,Harvey Hancock,Harvey Hardy,Harvey Harman,Harvey Hart,Harvey Heights,Harvey Helm,Harvey Hendrick,Harvey Hess,Harvey Heth,Harvey Hicks,Harvey Hilderbran,Harvey Hines,Harvey Hits,Harvey Hodder,Harvey Holmes,Harvey Hook,Harvey Hosein,Harvey Howard,Harvey Hubbell,Harvey Hyde,Harvey Island,Harvey Islands,Harvey Itano,Harvey J,Harvey Jablonsky,Harvey Jackins,Harvey Jacobson,Harvey James,Harvey Jason,Harvey Jewell,Harvey Johnson,Harvey Jones,Harvey Kaltsas,Harvey Karman,Harvey Karp,Harvey Karten,Harvey Kaye,Harvey Kearsley,Harvey Keitel,Harvey Kelly,Harvey Kenton,Harvey Kesselman,Harvey Kidder,Harvey Kirck,Harvey Klehr,Harvey Knob,Harvey Knuckles,Harvey Konigsberg,Harvey Korman,Harvey Kreyl,Harvey Kuenn,Harvey Kurtzman,Harvey Lainson,Harvey Larsen,Harvey Lee,Harvey Leibenstein,Harvey Lembeck,Harvey Leonard,Harvey Levin,Harvey Lichtenstein,Harvey Lim,Harvey Limón,Harvey Lisberg,Harvey Littleton,Harvey Lloyd,Harvey Locke,Harvey Lodish,Harvey Logan,Harvey Long,Harvey Lord,Harvey Lowe,Harvey MacDonald,Harvey Macaulay,Harvey Mackay,Harvey Malaiholo,Harvey Mandel,Harvey Manger-Weil,Harvey Manning,Harvey Mansfield,Harvey Mansion,Harvey Marlatt,Harvey Martin,Harvey Mason,Harvey Matusow,Harvey Mazinke,Harvey McClellan,Harvey McGrath,Harvey McGregor,Harvey McLane,Harvey Merrigan,Harvey Miles,Harvey Milk,Harvey Miller,Harvey Millier,Harvey Molotch,Harvey Monte,Harvey Morgan,Harvey Munford,Harvey Murphy,Harvey Nash,Harvey Newcomb,Harvey Newton-Haydon,Harvey Nichols,Harvey Nitrauer,Harvey Norman,Harvey Nunataks,Harvey O'Brien,Harvey O'Connor,Harvey Oberfeld,Harvey Overesch,Harvey Ovshinsky,Harvey Oxenhorn,Harvey Parish,Harvey Park,Harvey Parker,Harvey Parnell,Harvey Patterson,Harvey Patton,Harvey Peak,Harvey Pekar,Harvey Penick,Harvey Perlman,Harvey Perrin,Harvey Phillips,Harvey Picker,Harvey Pirie,Harvey Pitcher,Harvey Pitt,Harvey Pittel,Harvey Pollack,Harvey Possinger,Harvey Postlethwaite,Harvey Pratt,Harvey Price,Harvey Prize,Harvey Probber,Harvey Proctor,Harvey Pulford,Harvey Pulliam,Harvey Putnam,Harvey Quaytman,Harvey Quinnt,Harvey Reid,Harvey Rice,Harvey Richards,Harvey Ridge,Harvey River,Harvey Robinson,Harvey Rockburn,Harvey Rocks,Harvey Rosen,Harvey Rosenfield,Harvey Rosenthal,Harvey Russell,Harvey Sachs,Harvey Sacks,Harvey Salem,Harvey Sand,Harvey Santana,Harvey Sax,Harvey Scales,Harvey Schiller,Harvey Schmidt,Harvey Schroeder,Harvey Schwartz,Harvey Scott,Harvey Secter,Harvey Shank,Harvey Shapiro,Harvey Shield,Harvey Shoals,Harvey Shore,Harvey Sicherman,Harvey Simpson,Harvey Sims,Harvey Sindima,Harvey Skinner,Harvey Slocum,Harvey Small,Harvey Smith,Harvey Snodgrass,Harvey Society,Harvey Sollberger,Harvey Sproule,Harvey Stahl,Harvey Stapleford,Harvey Stephens,Harvey Stevens,Harvey Stower,Harvey Summit,Harvey Sutton,Harvey Swados,Harvey Sweetman,Harvey Teasdale,Harvey Teno,Harvey Thomas,Harvey Thriller,Harvey Tolibao,Harvey Township,Harvey Trump,Harvey Turner,Harvey Tyson,Harvey Uhlenhopp,Harvey Unga,Harvey Veniot,Harvey Vernon,Harvey Virdi,Harvey Wainapel,Harvey Wallbanger,Harvey Ward,Harvey Wasserman,Harvey Watkins,Harvey Weingarten,Harvey Weinstein,Harvey Weisenberg,Harvey Weiss,Harvey Wheeler,Harvey White,Harvey Whitehill,Harvey Whitehouse,Harvey Whittaker,Harvey Whittemore,Harvey Wijngaarde,Harvey Williams,Harvey Wippleman,Harvey Withers,Harvey Wood,Harvey Wylie,Harvey Young,Harvey armor,Harvey baronets,Harvey brothers,Harvey mannequin,Harvey's,Harvey's Dream,Harvey's duiker,Harvey, Arkansas,Harvey, Illinois,Harvey, Iowa,Harvey, Louisiana,Harvey, Michigan,Harvey, Ontario,Harvey, Virginia\n",
      "**CROSS**: \n",
      "**Bahamas**: Bahamas (magazine),Bahamas (musician),Bahamas Bowl,Bahamas International,Bahamas Stakes,Bahamas portal,Bahamas sawshark,Bahamas stubs,Bahamas templates,Bahamas-Canada relations,Bahamas-France relations,Bahamas-related lists,Bahamas–Belgium relations,Bahamas–Canada relations,Bahamas–China relations,Bahamas–Cuba border,Bahamas–Cuba relations,Bahamas–France relations,Bahamas–Haiti border\n",
      "**FL**: FL,FL (complexity),FL 19,99,FL 7,FL Fart,FL Goodwin,FL Lyrae,FL Studio,FL Technics,FL driver,FL lap,FL lines,FL location,FL mainOrsprint,FL team,FL time,FL-7,FL-Class articles,FL-Group,FL-boat\n",
      "**US Virgin Islands**: \n",
      "**Fort Lauderdale**: Fort Lauderdale Agreement,Fort Lauderdale Braves,Fort Lauderdale Stadium,Fort Lauderdale Stakes,Fort Lauderdale Strikers,Fort Lauderdale Sun,Fort Lauderdale Tarpons,Fort Lauderdale Yankees,Fort Lauderdale station,Fort Lauderdale, Florida\n",
      "**Sarasota**: Sarasota (disambiguation),Sarasota Ballet,Sarasota Bank,Sarasota Bay,Sarasota Classic,Sarasota Gulls,Sarasota Herald-Tribune,Sarasota Journal,Sarasota MRA,Sarasota Observer,Sarasota Open,Sarasota Opera,Sarasota Orchestra,Sarasota Reds,Sarasota Station,Sarasota Thunder,Sarasota furculella,Sarasota plumigerella,Sarasota ptyonopoda,Sarasota, Florida\n",
      "**Key Largo**: Key Largo,Key Largo (bar),Key Largo (disambiguation),Key Largo (film),Key Largo (play),Key Largo (song),Key Largo School,Key Largo woodrat,Key Largo, Florida\n",
      "**Leeward Islands**: Leeward Islands,Leeward Islands (Caribbean),Leeward Islands (disambiguation),Leeward Islands Tournament,Leeward Islands cricketers\n",
      "**Puerto Rico**: Puerto Rico,Puerto Rico (Misiones),Puerto Rico (Pando),Puerto Rico (disambiguation),Puerto Rico Airport,Puerto Rico Bayamón,Puerto Rico Cabinet,Puerto Rico Capitals,Puerto Rico Classic,Puerto Rico FC,Puerto Rico Ilustrado,Puerto Rico International,Puerto Rico Islanders,Puerto Rico Lottery,Puerto Rico Ombudsman,Puerto Rico Open,Puerto Rico Police,Puerto Rico Pro,Puerto Rico SWAT,Puerto Rico Science,Puerto Rico Tip-Off,Puerto Rico Trench,Puerto Rico United,Puerto Rico caucuses,Puerto Rico media,Puerto Rico portal,Puerto Rico stubs,Puerto Rico templates,Puerto Rico, Caquetá,Puerto Rico, Meta,Puerto Rico-related lists\n",
      "**Haiti**: Haiti,Haiti (disambiguation),Haiti Bride,Haiti Kid,Haiti Partnership,Haiti Reads,Haiti portal,Haiti stubs,Haiti templates,Haiti-related lists,Haiti–Israel relations,Haiti–Jamaica border,Haiti–Jamaica relations,Haiti–Mexico relations,Haiti–Nigeria relations,Haiti–Venezuela relations\n",
      "**Georgia**: Georgia,Georgia (coffee),Georgia (country),Georgia (name),Georgia (typeface),Georgia 300,Georgia 4-H,Georgia Anderson,Georgia Apostolou,Georgia Aquarium,Georgia Archives,Georgia Avenue,Georgia Backus,Georgia Baker,Georgia Barnett,Georgia Beaton,Georgia Beikoff,Georgia Benkart,Georgia Bishop-Cash,Georgia Björnsson,Georgia Blain,Georgia Bohl,Georgia Bonesteel,Georgia Bonora,Georgia Brooks,Georgia Brown,Georgia Bruce,Georgia Bullock,Georgia Byng,Georgia Caine,Georgia Caldera,Georgia Carr,Georgia Carroll,Georgia Cassimatis,Georgia Cayvan,Georgia Championship,Georgia Chapman,Georgia Chara,Georgia Chenevix-Trench,Georgia Clay,Georgia Cloepfil,Georgia Coates,Georgia Coleman,Georgia Constitution,Georgia Cottage,Georgia Cozzini,Georgia Craig,Georgia Cup,Georgia Cyclone,Georgia Dabritz,Georgia Dagaki,Georgia Davies,Georgia Day,Georgia Depression,Georgia Destouni,Georgia Doll,Georgia Dome,Georgia Dorotheou,Georgia Downing,Georgia Ellenwood,Georgia Ellinaki,Georgia Ellis,Georgia Elwiss,Georgia Engel,Georgia Equality,Georgia Evans,Georgia Experiment,Georgia Fabish,Georgia Fair,Georgia Fire,Georgia Firebirds,Georgia Flood,Georgia Force,Georgia Franzius,Georgia Frazier,Georgia Frontiere,Georgia Frost,Georgia Fudge,Georgia Generals,Georgia Germein,Georgia Gibbs,Georgia Gilmore,Georgia Girl,Georgia Glastris,Georgia Godwin,Georgia Gould,Georgia Governorate,Georgia Groen,Georgia Groome,Georgia Guidestones,Georgia Guy,Georgia Gwizzlies,Georgia Hale,Georgia Hardinge,Georgia Hardstark,Georgia Harkness,Georgia Hase,Georgia Hayes,Georgia Henshaw,Georgia Holt,Georgia Horsley,Georgia House,Georgia Hubley,Georgia Hussars,Georgia Inglis,Georgia Jones,Georgia Kamari,Georgia King,Georgia Knights,Georgia Kokloni,Georgia Kolokotronis,Georgia Konstantinidou,Georgia Kullmann,Georgia Lancaster,Georgia Landscape,Georgia Langhans,Georgia Lara,Georgia Lee,Georgia Lepore,Georgia Lind,Georgia Line,Georgia Lock,Georgia Lottery,Georgia Luzi,Georgia Mackenzie,Georgia Makhlouf,Georgia Mancio,Georgia Manoli,Georgia Marathon,Georgia Marinho,Georgia Marsh,Georgia Mason,Georgia Middleman,Georgia Militia,Georgia Miller,Georgia Moffett,Georgia Mountain,Georgia Murray,Georgia Nanscawen,Georgia Napolitano,Georgia Navigator,Georgia Nicholson,Georgia O'Keeffe,Georgia Open,Georgia Papageorge,Georgia Paraskaki,Georgia Pass,Georgia Peach,Georgia Peaches,Georgia Pellegrini,Georgia Pines,Georgia Platform,Georgia Power,Georgia Pugh,Georgia Rain,Georgia Rampage,Georgia Razors,Georgia Revolution,Georgia Rickard,Georgia Rule,Georgia Ruth,Georgia Salpa,Georgia Salzburgers,Georgia Scalliet,Georgia Schmidt,Georgia Schweitzer,Georgia Scorcher,Georgia Shakespeare,Georgia Sharpshooters,Georgia Shiels,Georgia Simmerling,Georgia Skovgaard,Georgia Slowe,Georgia SoftWorks,Georgia Southe,Georgia Spiropoulos,Georgia Stanway,Georgia Stevens,Georgia Stitt,Georgia Street,Georgia Subdivision,Georgia Swarm,Georgia Tann,Georgia Tarsouli,Georgia Taylor,Georgia Taylor-Brown,Georgia Theatre,Georgia Thompson,Georgia Today,Georgia Tornow,Georgia Township,Georgia Turner,Georgia Tzanakaki,Georgia Tzanaki,Georgia Vasileiadou,Georgia Viaduct,Georgia Viero,Georgia Ward,Georgia Warnke,Georgia Warriors,Georgia Wheeler,Georgia White,Georgia Williams,Georgia Wonder,Georgia Woodward,Georgia Yeoman-Dale,Georgia actors,Georgia cracker,Georgia geniculata,Georgia pigtoe,Georgia pound,Georgia repanda,Georgia templates,Georgia topics,Georgia, Cornwall,Georgia, Georgia,Georgia, Indiana,Georgia, Nebraska,Georgia, Vermont,Georgia-Cumberland Academy,Georgia-Imeretia Governorate,Georgia-Pacific,Georgia-Pacific Tower,Georgia-Taylor Woods,Georgia–Alabama League,Georgia–Florida League,Georgia–Germany relations,Georgia–Greece relations,Georgia–India relations,Georgia–Iran relations,Georgia–Iraq relations,Georgia–Israel relations,Georgia–Italy relations,Georgia–Japan relations,Georgia–Mexico relations,Georgia–NATO relations,Georgia–Persia relations,Georgia–Poland relations,Georgia–Russia border,Georgia–Russia relations,Georgia–Taiwan relations,Georgia–Turkey border‎,Georgia–Turkey relations,Georgia–Ukraine relations,Georgia–Vanuatu relations\n",
      "**IRMA**: IRMA\n",
      "**St Martin**: St Martin Airport,St Martin Gardens,St Martin Orgar,St Martin Outwich,St Martin Pomary,St Martin Vintry,St Martin's Ampleforth,St Martin's Chapel,St Martin's College,St Martin's House,St Martin's Plain,St Martin's School,St Martin's Square,St Martin's Theatre,St Martin's Vicarage,St Martin's Without,St Martin's, Shropshire,St Martin, Ludgate,St Martin-by-Looe,St Martin-in-Meneage,St Martin-in-the-Fields,St Martin-in-the-Fields (disambiguation),St Martin-in-the-Fields (painting),St Martin-on-the-Hill, Scarborough\n",
      "**Orlando**: Orlando (band),Orlando (disambiguation),Orlando (film),Orlando (horse),Orlando (opera),Orlando (surname),Orlando Airport,Orlando Aldama,Orlando Allen,Orlando Amêndola,Orlando Anarchy,Orlando Anderson,Orlando Antigua,Orlando Antonini,Orlando Aquino,Orlando Araujo,Orlando Aravena,Orlando Arcia,Orlando Azinhais,Orlando Baccino,Orlando Baker,Orlando Balaș,Orlando Ballesteros,Orlando Bareiro,Orlando Barone,Orlando Bates,Orlando Batista,Orlando Bauzon,Orlando Becker,Orlando Berrío,Orlando Bertini,Orlando Bertoli,Orlando Biagi,Orlando Bianchini,Orlando Bloom,Orlando Bobo,Orlando Bocchi,Orlando Bolçone,Orlando Bonarli,Orlando Bonsignori,Orlando Bordón,Orlando Borrego,Orlando Bosch,Orlando Boss,Orlando Bottenbley,Orlando Branca,Orlando Brandes,Orlando Brasil,Orlando Bridgeman,Orlando Britos,Orlando Brown,Orlando Bueso,Orlando Burrell,Orlando Bush,Orlando Busino,Orlando Cabrera,Orlando Calixte,Orlando Campos,Orlando Canizales,Orlando Cappellini,Orlando Carrió,Orlando Castillo,Orlando Casín,Orlando Catinchi,Orlando Cavalcanti,Orlando Cepeda,Orlando Chavarria,Orlando Chaves,Orlando Cicilia,Orlando Cinque,Orlando City,Orlando Cochia,Orlando Codá,Orlando Cole,Orlando College,Orlando Conga,Orlando Consort,Orlando Contreras,Orlando Cornejo,Orlando Corradi,Orlando Correia,Orlando Cossani,Orlando Cruz,Orlando Cuellar,Orlando Céspedes,Orlando Daniels,Orlando Dantas,Orlando Desconsi,Orlando DiGirolamo,Orlando Dias,Orlando Dipiazza,Orlando Drummond,Orlando Duarte,Orlando Duque,Orlando Early,Orlando Engelaar,Orlando Escárate,Orlando Espinosa,Orlando Eye,Orlando Facó,Orlando Falcons,Orlando Fanasca,Orlando Fantasy,Orlando Fantazzini,Orlando Fantoni,Orlando Fedeli,Orlando Fenwick,Orlando Fernández,Orlando Ferrante,Orlando Ferreira,Orlando Festival,Orlando Figes,Orlando Figueroa,Orlando Flacco,Orlando Forioso,Orlando Franklin,Orlando Fuentes,Orlando Fundichely,Orlando Furioso,Orlando Gando,Orlando Garcia,Orlando Garrido,Orlando Garro,Orlando Gee,Orlando Geisel,Orlando Gibbons,Orlando Gomes,Orlando González,Orlando Gough,Orlando Goñi,Orlando Graham,Orlando Greene,Orlando Greenwood,Orlando Grootfaam,Orlando Grossegesse,Orlando Grosso,Orlando Gutiérrez,Orlando Gómez,Orlando Götschin,Orlando Health,Orlando Held,Orlando Hernández,Orlando Hoshuko,Orlando Huacón,Orlando Hubbs,Orlando Hudson,Orlando Huff,Orlando Innamorato,Orlando Irizarry,Orlando Isales,Orlando Jackals,Orlando Jewitt,Orlando Jiménez,Orlando Jogador,Orlando Johnson,Orlando Jones,Orlando Jopling,Orlando Jordan,Orlando Juice,Orlando Kellogg,Orlando Kings,Orlando Lagos,Orlando Lattmann,Orlando Leopardi,Orlando Letelier,Orlando Lightfoot,Orlando Lions,Orlando Llenza,Orlando Lorenzelli,Orlando Lorenzini,Orlando Lourenco,Orlando Luz,Orlando Lübbert,Orlando M.,Orlando Magic,Orlando Magini,Orlando Maini,Orlando Maldonado,Orlando Malone,Orlando Maniglia,Orlando Marconi,Orlando Marin,Orlando Marrero,Orlando Martins,Orlando Martínez,Orlando Maturana,Orlando Mavericks,Orlando Mayhem,Orlando McDaniel,Orlando McFarlane,Orlando McKay,Orlando Meléndez,Orlando Mena,Orlando Mendes,Orlando Mercado,Orlando Merced,Orlando Merino,Orlando Merlini,Orlando Mezzabotta,Orlando Miguel,Orlando Millas,Orlando Miller,Orlando Mine,Orlando Miracle,Orlando Miranda,Orlando Mitchum,Orlando Mohorović,Orlando Momente,Orlando Mondaca,Orlando Monello,Orlando Monteiro,Orlando Morais,Orlando Morando,Orlando Moreira,Orlando Morgan,Orlando Muniz,Orlando Muñoz,Orlando Méndez-Valdez,Orlando Nadres,Orlando Nannini,Orlando Nappe,Orlando Navarro,Orlando Neves,Orlando Niebles,Orlando Nighthawks,Orlando Norie,Orlando Olcese,Orlando Opera,Orlando Orfei,Orlando Orlandi,Orlando Orlandini,Orlando Ortega,Orlando Ortiz,Orlando Osorio,Orlando Otey,Orlando Owoh,Orlando Pace,Orlando Palacios,Orlando Palmeiro,Orlando Pantera,Orlando Panthers,Orlando Pantoja,Orlando Parahym,Orlando Parga,Orlando Paris,Orlando Park,Orlando Patterson,Orlando Pelayo,Orlando Peralta,Orlando Pereira,Orlando Perez,Orlando Pessuti,Orlando Peters,Orlando Petinatti,Orlando Petrini,Orlando Peçanha,Orlando Peña,Orlando Phantoms,Orlando Phillips,Orlando Piani,Orlando Pierri,Orlando Pineda,Orlando Pirates,Orlando Pizzolato,Orlando Plummer,Orlando Poblete,Orlando Poleo,Orlando Polmonari,Orlando Portento,Orlando Prado,Orlando Predators,Orlando Pride,Orlando Pucci,Orlando Putenatti,Orlando Quartet,Orlando Quevedo,Orlando Quintana,Orlando Rage,Orlando Rampolli,Orlando Ramírez,Orlando Rangel-Ch.,Orlando Rao,Orlando Raola,Orlando Rays,Orlando Reeves,Orlando Renegades,Orlando Restrepo,Orlando Ribeiro,Orlando Ricci,Orlando Rincón,Orlando Rivas,Orlando Rivera,Orlando Rodrigues,Orlando Rodríguez,Orlando Rojas,Orlando Romano,Orlando Romero,Orlando Román,Orlando Rondini,Orlando Rosa,Orlando Rossardi,Orlando Rossi,Orlando Rouland,Orlando Rozzoni,Orlando Ruff,Orlando Ruíz,Orlando Sain,Orlando Salido,Orlando Sandoval,Orlando Santamaría,Orlando Scandrick,Orlando Sconza,Orlando Segatore,Orlando Senna,Orlando Sentinel,Orlando Serrell,Orlando Sharks,Orlando Silva,Orlando Silveira,Orlando Silvestri,Orlando Sirola,Orlando Smart,Orlando Smeekes,Orlando Smith,Orlando Sotro,Orlando Spencer-Smith,Orlando Stadium,Orlando Starz,Orlando Stewart,Orlando Strange,Orlando Strinati,Orlando Sundogs,Orlando Sá,Orlando Sánchez,Orlando Terranova,Orlando Teruz,Orlando Thomas,Orlando Thunder,Orlando Tisato,Orlando Titans,Orlando To,Orlando Tognotti,Orlando Tourn,Orlando Trustfull,Orlando Urbano,Orlando Urdaneta,Orlando Valenzuela,Orlando Valle,Orlando Vargas,Orlando Vasquez,Orlando Vega,Orlando Vela,Orlando Ventura,Orlando Veronese,Orlando Vilar,Orlando Voorn,Orlando Ward,Orlando Weekly,Orlando Wellington,Orlando Wells,Orlando Whistlecraft,Orlando Wiet,Orlando Wines,Orlando Wirth,Orlando Woolridge,Orlando Worm,Orlando Yntema,Orlando Zapata,Orlando chistoso,Orlando d'Aragona,Orlando maglev,Orlando paladino,Orlando station,Orlando Álvarez,Orlando, Florida,Orlando, Kentucky,Orlando, Oklahoma,Orlando, Soweto,Orlando-class cruiser,Orlando-class cruisers\n",
      "**Hurricane Harvey**: Hurricane Harvey\n",
      "**Charleston**: Charleston,Charleston (dance),Charleston (film),Charleston (song),Charleston Academy,Charleston Airport,Charleston Arsenal,Charleston Bar,Charleston Battery,Charleston Bearcats,Charleston Bump,Charleston Charlies,Charleston Chew,Charleston Classic,Charleston Farmhouse,Charleston Five,Charleston Gazette-Mail,Charleston Gunners,Charleston Harbor,Charleston Hotel,Charleston Hughes,Charleston Indians,Charleston Lake,Charleston Light,Charleston Manor,Charleston Mercury,Charleston Museum,Charleston Open,Charleston Pirates,Charleston Rebels,Charleston Renaissance,Charleston RiverDogs,Charleston Saints,Charleston Sandstone,Charleston Senators,Charleston Slough,Charleston Splash,Charleston Springs,Charleston Stroll,Charleston Syllabus,Charleston Township,Charleston riot,Charleston station,Charleston, Angus,Charleston, Arizona,Charleston, Arkansas,Charleston, California,Charleston, Dundee,Charleston, Illinois,Charleston, Iowa,Charleston, Kansas,Charleston, Kentucky,Charleston, Maine,Charleston, Michigan,Charleston, Mississippi,Charleston, Missouri,Charleston, Nevada,Charleston, Oklahoma,Charleston, Oregon,Charleston, Paisley,Charleston, Tennessee,Charleston, Utah,Charleston, Vermont\n",
      "**Barbuda**: Barbuda,Barbuda Council,Barbuda warbler\n",
      "**Foot Locker**: Foot Locker\n",
      "**Austin**: Austin (building),Austin (disambiguation),Austin (name),Austin (song),Austin 10,Austin 12,Austin 12/4,Austin 12/6,Austin 14,Austin 15/20,Austin 16,Austin 18,Austin 18/24,Austin 25/30,Austin 3-Litre,Austin 400,Austin 7,Austin 8,Austin A30,Austin A35,Austin A40,Austin A70,Austin A90,Austin Abbott,Austin Abrams,Austin Aces,Austin Adamec,Austin Adams,Austin Adventures,Austin Ainge,Austin Airport,Austin Airways,Austin Allegro,Austin Allen,Austin Allison,Austin Ambassador,Austin Amelio,Austin American-Statesman,Austin Amissah,Austin Amutu,Austin Andrews,Austin Ant,Austin Apache,Austin App,Austin Appel,Austin Appleby,Austin Aquarium,Austin Ardill,Austin Area,Austin Aries,Austin Asche,Austin Austin,Austin Australia,Austin Avenue,Austin Avuru,Austin Aztex,Austin Badon,Austin Banda,Austin Barnes,Austin Basis,Austin Bayou,Austin Belknap,Austin Bergner,Austin Berkley,Austin Berry,Austin Beutner,Austin Bibens-Dirkx,Austin Bide,Austin Bis,Austin Bissell,Austin Blair,Austin Block,Austin Blythe,Austin Brady,Austin Braves,Austin Brice,Austin Briggs,Austin Brown,Austin Brucklacher,Austin Bruins,Austin Buchanan,Austin Buckley,Austin Building,Austin Bukenya,Austin Butler,Austin Butts,Austin Cambridge,Austin Cameron,Austin Capitals,Austin Carlile,Austin Carr,Austin Carroll,Austin Cemetery,Austin Chalk,Austin Champ,Austin Channel,Austin Chapman,Austin Chick,Austin Choi-Fitzpatrick,Austin Cindric,Austin Clapp,Austin Clarke,Austin Claypool,Austin Coates,Austin Coats,Austin Codrington,Austin Coleman,Austin College,Austin Collie,Austin Collier,Austin Cook,Austin Corbin,Austin Cowles,Austin Craig,Austin Creek,Austin Croshere,Austin Crows,Austin Currie,Austin Cuvillier,Austin Czarnik,Austin Dabney,Austin Dacey,Austin Dam,Austin Davies,Austin Davis,Austin Daye,Austin Deasy,Austin Denham,Austin Denney,Austin Diamond,Austin Dillon,Austin Dobson,Austin Dowling,Austin Downes,Austin Downs,Austin Dufault,Austin Duncan-Jones,Austin Dunne,Austin Egen,Austin Ejide,Austin Energy,Austin Ernst,Austin Express,Austin FX3,Austin FX4,Austin Falk,Austin Farley,Austin Farrer,Austin Feinstein,Austin Fernando,Austin Flannery,Austin Flynn,Austin Frakt,Austin Franklin,Austin Freeman,Austin Freeway,Austin Friars,Austin Gallagher,Austin Garland,Austin Gary,Austin Gatt,Austin Gibbs,Austin Gill,Austin Gilligan,Austin Gipsy,Austin Gittos,Austin Glacier,Austin Gleeson,Austin Gomber,Austin Gralton,Austin Grandjean,Austin Gresham,Austin Greyhound,Austin Grossman,Austin Group,Austin Guerrero,Austin Gunsel,Austin Hack,Austin Hall,Austin Hargrave,Austin Harrier,Austin Harrison,Austin Haughwout,Austin Hayes,Austin Head,Austin Healey,Austin Hedges,Austin Henderson,Austin Highsmith,Austin Hill,Austin Hills,Austin Hodson,Austin Hogan,Austin Hollins,Austin Holyoake,Austin Hooper,Austin Hope,Austin Hopkinson,Austin Horan,Austin House,Austin Howard,Austin Hudson,Austin Idol,Austin Ikenna,Austin Infinity,Austin Island,Austin Jackson,Austin Jean,Austin Jelfs,Austin John,Austin Johnson,Austin Jones,Austin K2/Y,Austin K5,Austin K8,Austin Kafentzis,Austin Kanallakan,Austin Kearns,Austin Kellogg,Austin Kelly,Austin Kestrel,Austin Kimberley,Austin Kimble,Austin Kincaid,Austin King,Austin Kleon,Austin Klezmorim,Austin Knickerbocker,Austin Knight,Austin Knudsen,Austin Koledoye,Austin Kowal,Austin Krajicek,Austin Laing,Austin Lake,Austin Leigh,Austin Leslie,Austin Levi,Austin Lewis,Austin Liato,Austin Lightning,Austin Ligon,Austin Loadstar,Austin Loughnan,Austin Lucas,Austin Lyon,Austin Lysy,Austin MacDonald,Austin MacGinnis,Austin MacPhee,Austin Madaisky,Austin Maestro,Austin Mahone,Austin Makacha,Austin Marathon,Austin Mardon,Austin Martz,Austin Mast,Austin Matelson,Austin Matthews,Austin Mavericks,Austin Maxi,Austin McCann,Austin McCrabb,Austin McGary,Austin McGill,Austin McHale,Austin McHenry,Austin McIntosh,Austin McKenzie,Austin Meadows,Austin Mecklem,Austin Melford,Austin Metro,Austin Miles,Austin Miller,Austin Mitchell,Austin Montego,Austin Murphy,Austin Nacey,Austin Neame,Austin Nichols,Austin Nola,Austin North,Austin O'Brien,Austin O'Connor,Austin O'Malley,Austin O'Neill,Austin Opara,Austin Open,Austin Opera,Austin Organs,Austin Osprey,Austin Osueke,Austin Outlaws,Austin Pardue,Austin Park,Austin Parsons,Austin Pasztor,Austin Peak,Austin Pearce,Austin Peay,Austin Peck,Austin Pelton,Austin Pendleton,Austin Peralta,Austin Petersen,Austin Pettis,Austin Phelps,Austin Pitre,Austin Planetarium,Austin Post,Austin Powers,Austin Princess,Austin Prokop,Austin Pryor,Austin Punch,Austin Quinn,Austin Ramirez,Austin Rawlinson,Austin ReBlend,Austin Reed,Austin Reiter,Austin Rhodes,Austin Rice,Austin Richards,Austin Richardson,Austin Rivers,Austin Road,Austin Robbins,Austin Roberts,Austin Robertson,Austin Robinson,Austin Rocks,Austin Roe,Austin Rogers,Austin Romine,Austin Rudd,Austin Ruse,Austin Sarat,Austin Savage,Austin Scaggs,Austin Scarlett,Austin Scott,Austin Seferian-Jenkins,Austin Senators,Austin Seven,Austin Shakespeare,Austin Sheerline,Austin Shepherd,Austin Sheridan,Austin Shofner,Austin Smith,Austin Sol,Austin Speight,Austin Sperry,Austin Spitler,Austin Spurs,Austin Stack,Austin Stark,Austin Station,Austin Steed,Austin Stevens,Austin Steward,Austin Stoker,Austin Stories,Austin Stowell,Austin Straubel,Austin Strong,Austin Studios,Austin Sun,Austin Sunday,Austin Surhoff,Austin Swift,Austin TV,Austin Tam-George,Austin Tate,Austin Taylor,Austin Theriault,Austin Thomas,Austin Thunder,Austin Tice,Austin Tindle,Austin Town,Austin Township,Austin Trevor,Austin Trout,Austin Turfcats,Austin Twenty,Austin Valley,Austin Ventures,Austin Village,Austin Vince,Austin Volk,Austin Voth,Austin Walela,Austin Walker,Austin Walsh,Austin Warren,Austin Washington,Austin Watson,Austin Webb,Austin Wentworth,Austin Westminster,Austin Wheatley,Austin Whippet,Austin White,Austin Willey,Austin Williams,Austin Willis,Austin Wilson,Austin Winterbottom,Austin Wintory,Austin Wonaeamirri,Austin Woodbury,Austin Woodland,Austin Wranglers,Austin Wright,Austin Wycisk,Austin Wylie,Austin Yearwood,Austin Young,Austin Zoo,Austin aircraft,Austin baronets,Austin shooting,Austin transformer,Austin vehicles,Austin, Arkansas,Austin, Chicago,Austin, Colorado,Austin, Indiana,Austin, Kentucky,Austin, Manitoba,Austin, Michigan,Austin, Minnesota,Austin, Mississippi,Austin, Missouri,Austin, Nevada,Austin, Oregon,Austin, Pennsylvania,Austin, Quebec,Austin, Texas,Austin-Ball A.F.B.1,Austin-Emile Burke,Austin-Healey,Austin-Healey 100,Austin-Healey 100-6,Austin-Healey 3000,Austin-Healey Sprite,Austin-Healey vehicles,Austin-Smith:Lord,Austin/East,Austin/North Loop,Austin/Northwest,Austin/South\n",
      "**St . Martin**: \n",
      "**Twitter**: Twitter,Twitter (disambiguation),Twitter Add,Twitter Amplify,Twitter Power,Twitter Revolution,Twitter Zero,Twitter accounts,Twitter acquisitions,Twitter bomb,Twitter controversies,Twitter diplomacy,Twitter feed,Twitter people,Twitter subtitling,Twitter usage,Twitter username\n",
      "**Mexico**: Mexico,Mexico (EP),Mexico (barque),Mexico (disambiguation),Mexico (film),Mexico (game),Mexico (genus),Mexico (instrumental),Mexico (novel),Mexico 68,Mexico Airplay,Mexico Azul,Mexico Championship,Mexico City,Mexico Creek,Mexico Dam,Mexico Forestal,Mexico Holidays,Mexico Leututu,Mexico Link,Mexico Rocks,Mexico Set,Mexico Square,Mexico Toros,Mexico Trilogy,Mexico Unconquered,Mexico Winner,Mexico litoralis,Mexico morrisoni,Mexico portal,Mexico stubs,Mexico templates,Mexico, Indiana,Mexico, Kentucky,Mexico, Maine,Mexico, Maryland,Mexico, Missouri,Mexico, Ohio,Mexico, Pampanga,Mexico, Pennsylvania,Mexico, Texas,Mexico-hist-stub,Mexico-related lists,Mexico–Guatemala conflict,Mexico–Morocco relations,Mexico–Netherlands relations,Mexico–Nicaragua relations,Mexico–Nigeria relations,Mexico–Norway relations,Mexico–Pakistan relations,Mexico–Palestine relations,Mexico–Panama relations,Mexico–Paraguay relations,Mexico–Peru relations,Mexico–Philippines relations,Mexico–Poland relations,Mexico–Portugal relations,Mexico–Qatar relations,Mexico–Romania relations,Mexico–Russia relations,Mexico–Serbia relations,Mexico–Singapore relations,Mexico–Slovenia relations,Mexico–Spain relations,Mexico–Suriname relations,Mexico–Sweden relations,Mexico–Switzerland relations,Mexico–Thailand relations,Mexico–Turkey relations,Mexico–Ukraine relations,Mexico–Uruguay relations,Mexico–Venezuela relations,Mexico–Vietnam relations\n",
      "**SC**: SC,SC (complexity),SC 11,SC 129,SC 38,SC 39,SC 42,SC 430,SC 7,SC Abbeville,SC Albi,SC Altenkessel,SC Amersfoort,SC Apolda,SC Atlético,SC Bacău,SC Baden-Baden,SC Bastia,SC Berlin-Grünau,SC Bern,SC Bietigheim-Bissingen,SC Binningen,SC Bonifika,SC Bregenz,SC Brühl,SC Buitenveldert,SC Buochs,SC Cambuur,SC Cham,SC Chemnitz,SC Cilu,SC Cottbus,SC Dornach,SC Douai,SC Dynamo,SC Düdingen,SC Egedal,SC Eisenstadt,SC Ell,SC Eltersdorf,SC Energija,SC Farim,SC Feyenoord,SC Fives,SC Freiburg,SC Fürstenfeldbruck,SC Gagnoa,SC Geislingen,SC Genemuiden,SC Goldau,SC Group,SC Hauenstein,SC Hazebrouck,SC Heerenveen,SC Hellas,SC Herford,SC Herisau,SC Idar-Oberstein,SC Joure,SC Jülich,SC Kakhovka,SC Kobrin,SC Korosten,SC Kouroucien,SC Kremikovtsi,SC Kreuzberg,SC Kriens,SC Kryvbas,SC Langenthal,SC Lyon,SC Magdeburg,SC Malesherbes,SC Marnaval,SC Mauerbach,SC Mazamet,SC Mirandela,SC Moknine,SC Morabeza,SC Naumburg,SC Neuenheim,SC Neukirchen,SC Odesa,SC Operator,SC Partizan-Teleoptik,SC Pfullendorf,SC Pombal,SC Radotín,SC Riessersee,SC Ritzing,SC Riverball,SC Rojolu,SC Rondorf,SC Sagamihara,SC Sand,SC Schiltigheim,SC Schwanenstadt,SC Selongey,SC Sokil,SC Steinfort,SC Telstar,SC Tinqueux,SC Toronto,SC Utexafrica,SC Veendam,SC Verdun,SC Verl,SC Vianense,SC Villa,SC Waldgirmes,SC Weismain-Obermain,SC Weiz,SC Xaverov,SC Zofingen,SC Zwettl,SC convoys,SC Šumice,SC-01,SC-02,SC-100,SC-102,SC-120,SC-17599,SC-19,SC-2,SC-20,SC-283,SC-3,SC-301,SC-302,SC-303,SC-370,SC-390,SC-4,SC-40,SC-400,SC-401,SC-402,SC-403,SC-404,SC-405,SC-406,SC-407,SC-408,SC-409,SC-410,SC-411,SC-412,SC-413,SC-414,SC-415,SC-416,SC-417,SC-418,SC-419,SC-420,SC-421,SC-422,SC-423,SC-425,SC-426,SC-427,SC-428,SC-429,SC-431,SC-433,SC-434,SC-438,SC-439,SC-443,SC-444,SC-445,SC-446,SC-447,SC-448,SC-449,SC-450,SC-451,SC-452,SC-453,SC-454,SC-455,SC-456,SC-458,SC-459,SC-460,SC-461,SC-462,SC-463,SC-466,SC-467,SC-470,SC-474,SC-480,SC-482,SC-486,SC-491,SC-495,SC-5,SC-5233,SC-6,SC-76 Thunderbolt,SC-8,SC-9,SC-FDE,SC::office\n",
      "**Jose**: Jose,Jose (actor),Jose Advincula,Jose Agerre,Jose Aguiar,Jose Ahonen,Jose Altavas,Jose Alustiza,Jose Alvarez,Jose Alvarez-Brill,Jose Andia,Jose Apestegi,Jose Argumedo,Jose Arrandiaga,Jose Azel,Jose Balagtas,Jose Barraquer,Jose Barrios,Jose Baselga,Jose Basterretxea,Jose Baxter,Jose Beaskoetxea,Jose Begiristain,Jose Berghmans,Jose Bolanos,Jose Bonilla,Jose Botello,Jose Brea,Jose Caballero,Jose Cajigas,Jose Calida,Jose Calingasan,Jose Calugas,Jose Camejo,Jose Canseco,Jose Cardinal,Jose Castaño,Jose Ceballos,Jose Celas,Jose Cerdeña,Jose Clarin,Jose Collins,Jose Compean,Jose Constancia,Jose Coye,Jose Cruz,Jose Cuervo,Jose Davis,Jose DeCamps,Jose Delgadillo,Jose Deniz,Jose Diaz,Jose Diaz-Balart,Jose Diokno,Jose Duato,Jose Duch,Jose Dura,Jose Duval,Jose Egino,Jose Ejercito,Jose Elizondo,Jose Elorrieta,Jose Epalanga,Jose Erbiti,Jose Esteves,Jose Estrada,Jose Etxenagusia,Jose Feria,Jose Ferraz,Jose Ferreira,Jose Franch-Ballester,Jose Frappa,Jose Ganboa,Jose Garces,Jose Garzia,Jose Generoso,Jose Girl,Jose Goikoa,Jose Gonzales-Gonzales,Jose Grazenea,Jose Guerrero,Jose Gumbs,Jose Iriarte,Jose Irizarry,Jose Isasi,Jose Itzigsohn,Jose Jacob,Jose Javier,Jose Juliano,Jose Kattookkaran,Jose Kattukkaran,Jose Kurushinkal,Jose Kusugak,Jose Lambert,Jose Langone,Jose Lava,Jose Ledesma,Jose Legarreta,Jose Levy,Jose Lezcano,Jose Llana,Jose Lucar,Jose Manalo,Jose Maritorena,Jose Markiegi,Jose Martinez-Zorilla,Jose Mas,Jose Mascarel,Jose Mata,Jose Medeles,Jose Medina,Jose Melo,Jose Mendoza,Jose Menendez,Jose Mensuro,Jose Mercau,Jose Modjito,Jose Moreno,Jose Mugrabi,Jose Mukala,Jose Nandhikkara,Jose Nazareno,Jose Nippala,Jose Nolledo,Jose Olaizola,Jose Pacheco,Jose Panachippuram,Jose Parada,Jose Parica,Jose Pellissery,Jose Peralta,Jose Pimentel,Jose Podestá,Jose Poernomo,Jose Portilla,Jose Prakash,Jose Quintero,Jose Rada,Jose Ramírez,Jose Reveyn,Jose Risueño,Jose Rivera,Jose Rodela,Jose Rodriguez,Jose Roman,Jose Romero,Jose Rosete,Jose Roy,Jose Sagarna,Jose Sanchez,Jose Sans,Jose Silva,Jose Slaughter,Jose Solis,Jose Solorio,Jose Statham,Jose Stevens,Jose Tamez,Jose Tavera,Jose Theatre,Jose Thenee,Jose Thettayil,Jose Thomas,Jose Tieri,Jose Tillan,Jose Tosado,Jose Tuominen,Jose Valdes,Jose Valdez,Jose Vera,Jose Verdi,Jose Viitala,Jose Vriens,Jose Waldberg,Jose White,Jose Yglesias,Jose Yu,Jose Zafra,Jose Zapirain,Jose Zepeda,Jose Zinkunegi,Jose Zubimendi,Jose Zufiaurre,Jose legorburu,Jose valbin,Jose-Alfonso López,Jose-Maria Cundin\n",
      "**Tropical Storm**: Tropical Storm,Tropical Storm (album),Tropical Storm 60W,Tropical Storm Abby,Tropical Storm Aere,Tropical Storm Agatha,Tropical Storm Agaton,Tropical Storm Agnes,Tropical Storm Alex,Tropical Storm Alice,Tropical Storm Allison,Tropical Storm Alma,Tropical Storm Alvin,Tropical Storm Amber,Tropical Storm Amelia,Tropical Storm Ana,Tropical Storm Andrea,Tropical Storm Angela,Tropical Storm Anita,Tropical Storm Ann,Tropical Storm Anna,Tropical Storm Annette,Tropical Storm Arthur,Tropical Storm Atang,Tropical Storm Babe,Tropical Storm Banyan,Tropical Storm Barbara,Tropical Storm Barry,Tropical Storm Bavi,Tropical Storm Bebinca,Tropical Storm Becky,Tropical Storm Beryl,Tropical Storm Bess,Tropical Storm Betty,Tropical Storm Bilis,Tropical Storm Bill,Tropical Storm Bonnie,Tropical Storm Brenda,Tropical Storm Brian,Tropical Storm Bridget,Tropical Storm Cam,Tropical Storm Candy,Tropical Storm Carina,Tropical Storm Carla,Tropical Storm Carlotta,Tropical Storm Carmen,Tropical Storm Carol,Tropical Storm Cecil,Tropical Storm Celeste,Tropical Storm Chantal,Tropical Storm Chanthu,Tropical Storm Chedza,Tropical Storm Chloe,Tropical Storm Chris,Tropical Storm Claudette,Tropical Storm Clotilda,Tropical Storm Colin,Tropical Storm Cora,Tropical Storm Cosme,Tropical Storm Crising,Tropical Storm Cyprien,Tropical Storm Daisy,Tropical Storm Debbie,Tropical Storm Debby,Tropical Storm Debra,Tropical Storm Delfina,Tropical Storm Delta,Tropical Storm Dodong,Tropical Storm Dolly,Tropical Storm Dolores,Tropical Storm Domeng,Tropical Storm Domoina,Tropical Storm Dongo,Tropical Storm Dora,Tropical Storm Dot,Tropical Storm Dottie,Tropical Storm Edith,Tropical Storm Edna,Tropical Storm Eileen,Tropical Storm Eleanor,Tropical Storm Ella,Tropical Storm Ellen,Tropical Storm Emily,Tropical Storm Emma,Tropical Storm Erick,Tropical Storm Erika,Tropical Storm Esther,Tropical Storm Etau,Tropical Storm Ethel,Tropical Storm Fabian,Tropical Storm Fay,Tropical Storm Felice,Tropical Storm Fern,Tropical Storm Fifi,Tropical Storm Fiona,Tropical Storm Flossie,Tropical Storm Floyd,Tropical Storm Forrest,Tropical Storm Fran,Tropical Storm Frank,Tropical Storm Franklin,Tropical Storm Fred,Tropical Storm Gabrielle,Tropical Storm Gamma,Tropical Storm Gaston,Tropical Storm Gay,Tropical Storm George,Tropical Storm Gil,Tropical Storm Gilda,Tropical Storm Gladys,Tropical Storm Glenda,Tropical Storm Gloria,Tropical Storm Goni,Tropical Storm Gordon,Tropical Storm Grace,Tropical Storm Greg,Tropical Storm Greta,Tropical Storm Gwen,Tropical Storm Haima,Tropical Storm Haishen,Tropical Storm Hallie,Tropical Storm Hanna,Tropical Storm Hazel,Tropical Storm Helen,Tropical Storm Helena,Tropical Storm Helene,Tropical Storm Hermine,Tropical Storm Higos,Tropical Storm Hilda,Tropical Storm Holly,Tropical Storm Hubert,Tropical Storm Ian,Tropical Storm Ida,Tropical Storm Ike,Tropical Storm Ilsa,Tropical Storm Inez,Tropical Storm Ingrid,Tropical Storm Ione,Tropical Storm Irene,Tropical Storm Irina,Tropical Storm Iris,Tropical Storm Irma,Tropical Storm Isa,Tropical Storm Isaac,Tropical Storm Isang,Tropical Storm Ivan,Tropical Storm Ivy,Tropical Storm Jacob,Tropical Storm Jeanne,Tropical Storm Jebi,Tropical Storm Joan,Tropical Storm John,Tropical Storm Juan,Tropical Storm Juaning,Tropical Storm Julia,Tropical Storm Juliet,Tropical Storm Kammuri,Tropical Storm Kara,Tropical Storm Karding,Tropical Storm Karen,Tropical Storm Karina,Tropical Storm Kate,Tropical Storm Kathleen,Tropical Storm Katrina,Tropical Storm Keith,Tropical Storm Kelly,Tropical Storm Ken,Tropical Storm Khanun,Tropical Storm Kiko,Tropical Storm Kim,Tropical Storm Kit,Tropical Storm Kitty,Tropical Storm Knut,Tropical Storm Koni,Tropical Storm Kulap,Tropical Storm Kyle,Tropical Storm Larry,Tropical Storm Laura,Tropical Storm Lee,Tropical Storm Leslie,Tropical Storm Linda,Tropical Storm Linfa,Tropical Storm Lisa,Tropical Storm Lisette,Tropical Storm Lola,Tropical Storm Louise,Tropical Storm Lucille,Tropical Storm Luis,Tropical Storm Madeline,Tropical Storm Maggie,Tropical Storm Malou,Tropical Storm Mangkhut,Tropical Storm Manuel,Tropical Storm Maria,Tropical Storm Marie,Tropical Storm Mario,Tropical Storm Marty,Tropical Storm Matthew,Tropical Storm Maysak,Tropical Storm Mekkhala,Tropical Storm Melissa,Tropical Storm Merbok,Tropical Storm Monica,Tropical Storm Morakot,Tropical Storm Mujigae,Tropical Storm Nadine,Tropical Storm Nancy,Tropical Storm Nanette,Tropical Storm Nangka,Tropical Storm Nell,Tropical Storm Nicholas,Tropical Storm Nina,Tropical Storm Nock-ten,Tropical Storm Nora,Tropical Storm Norman,Tropical Storm Noru,Tropical Storm Odette,Tropical Storm Olaf,Tropical Storm Olga,Tropical Storm Olive,Tropical Storm Olivia,Tropical Storm Omais,Tropical Storm Omar,Tropical Storm Omeka,Tropical Storm Ondoy,Tropical Storm Opal,Tropical Storm Ophelia,Tropical Storm Orla,Tropical Storm Pablo,Tropical Storm Patsy,Tropical Storm Paul,Tropical Storm Paula,Tropical Storm Percy,Tropical Storm Peter,Tropical Storm Philippe,Tropical Storm Rachel,Tropical Storm Ramon,Tropical Storm Ramona,Tropical Storm Rick,Tropical Storm Rita,Tropical Storm Rosalie,Tropical Storm Rose,Tropical Storm Ruby,Tropical Storm Rumbia,Tropical Storm Sandra,Tropical Storm Sanvu,Tropical Storm Sarika,Tropical Storm Sean,Tropical Storm Selma,Tropical Storm Simon,Tropical Storm Simone,Tropical Storm Sonamu,Tropical Storm Sonia,Tropical Storm Talas,Tropical Storm Tapah,Tropical Storm Thelma,Tropical Storm Tomas,Tropical Storm Trami,Tropical Storm Trudy,Tropical Storm Ursula,Tropical Storm Vamei,Tropical Storm Vance,Tropical Storm Vera,Tropical Storm Virgil,Tropical Storm Vongfong,Tropical Storm Waldo,Tropical Storm Washi,Tropical Storm Wilma,Tropical Storm Winifred,Tropical Storm Winnie,Tropical Storm Xavier,Tropical Storm Yolanda,Tropical Storm Zeke,Tropical Storm Zelda,Tropical Storm Zeta,Tropical Storm Zita\n",
      "**Camp David**: Camp David,Camp David Accords\n",
      "**God**: God,God (MUD),God (disambiguation),God (play),God (sculpture),God (song),God (word),God Alone,God Bay,God Bless,God Bullies,God Can,God Cries,God Damn,God Dethroned,God Drug,God Fate,God Fixation,God Fodder,God Forbid,God Hand,God Hour,God Knows,God L,God Leaves,God Macabre,God Mazinger,God Medicine,God Mode,God Module,God Nisanov,God Nose,God Seed,God Shammgod,God Sound,God Speaking,God Speaks,God Squad,God Will'n,God complex,God emperor,God forbid,God game,God gene,God helmet,God mode,God morgon,God object,God willing,God's Acre,God's Army,God's Baby,God's Balls,God's Bridge,God's Child,God's Children,God's Choice,God's Clay,God's Comedy,God's Cop,God's Country,God's Crucible,God's Day,God's Debris,God's Ears,God's Equation,God's Father,God's Favorite,God's Fool,God's Fury,God's Gift,God's Grace,God's Gun,God's Helicopter,God's Hill,God's House,God's Idea,God's Men,God's Mischief,God's Mistake,God's Money,God's Neighbors,God's Outlaw,God's Philosophers,God's Playground,God's Pocket,God's Politics,God's Pottery,God's Project,God's Property,God's Puzzle,God's Quiz,God's Reasons,God's Seat,God's Sentence,God's Spy,God's Squad,God's Stepson,God's Stories,God's Stuff,God's Thunder,God's Trombones,God's Warriors,God's Wife,God's Will,God's algorithm,God's eye,God's thumb,God's-Acre,God, Inc.,God, No!,God-Building,God-Grilla,God-fearer,God-killer (disambiguation),God-man (Christianity),God-slayer (disambiguation)\n",
      "**Hurricane**: Hurricane #1,Hurricane (band),Hurricane (cocktail),Hurricane (comics),Hurricane (disambiguation),Hurricane (nickname),Hurricane (pinball),Hurricane (pipe),Hurricane (ride),Hurricane 5.9,Hurricane Able,Hurricane Adele,Hurricane Adolph,Hurricane Adrian,Hurricane Agatha,Hurricane Agnes,Hurricane Alberto,Hurricane Aletta,Hurricane Alicia,Hurricane Allen,Hurricane Alley,Hurricane Andres,Hurricane Andrew,Hurricane Anita,Hurricane Arlene,Hurricane Arthur,Hurricane Audrey,Hurricane Ava,Hurricane Babe,Hurricane Baker,Hurricane Bar,Hurricane Barbarossa,Hurricane Bawbag,Hurricane Beatriz,Hurricane Belle,Hurricane Bernice,Hurricane Bertha,Hurricane Beta,Hurricane Beth,Hurricane Betsy,Hurricane Beulah,Hurricane Bianca,Hurricane Blanca,Hurricane Blas,Hurricane Bob,Hurricane Bonny,Hurricane Boris,Hurricane Brenda,Hurricane Bret,Hurricane Bud,Hurricane Calvin,Hurricane Camille,Hurricane Canal,Hurricane Carla,Hurricane Carlos,Hurricane Carmen,Hurricane Carol,Hurricane Caroline,Hurricane Carrie,Hurricane Catarina,Hurricane Celia,Hurricane Cesar–Douglas,Hurricane Charley,Hurricane Cindy,Hurricane Claudia,Hurricane Cleo,Hurricane Cliff,Hurricane Cliffs,Hurricane Connie,Hurricane Cora,Hurricane Creek,Hurricane Cristina,Hurricane Cristobal,Hurricane Dalila,Hurricane Dan,Hurricane Daniel,Hurricane Danielle,Hurricane Danny,Hurricane Darby,Hurricane David,Hurricane Dean,Hurricane Denise,Hurricane Dennis,Hurricane Diana,Hurricane Diane,Hurricane Dog,Hurricane Donna,Hurricane Dora,Hurricane Doreen,Hurricane Dorothy,Hurricane Douglas,Hurricane Earl,Hurricane Easy,Hurricane Edna,Hurricane Edouard,Hurricane Ekeka,Hurricane Electric,Hurricane Elena,Hurricane Elida,Hurricane Eloise,Hurricane Emilia,Hurricane Emmy,Hurricane Enrique,Hurricane Epsilon,Hurricane Erin,Hurricane Ernesto,Hurricane Estelle,Hurricane Esther,Hurricane Eugene,Hurricane Eyes,Hurricane Fabian,Hurricane Fabio,Hurricane Faith,Hurricane Fausto,Hurricane Fefa,Hurricane Felicia,Hurricane Felix,Hurricane Fernanda,Hurricane Festival,Hurricane Fico,Hurricane Fifi–Orlene,Hurricane Films,Hurricane Flora,Hurricane Florence,Hurricane Floyd,Hurricane Fluttershy,Hurricane Fly,Hurricane Fran,Hurricane Francelia,Hurricane Francene,Hurricane Frances,Hurricane Francesca,Hurricane Frederic,Hurricane Frieda,Hurricane G,Hurricane Genevieve,Hurricane Georges,Hurricane Georgette,Hurricane Gert,Hurricane Gilbert,Hurricane Gilma,Hurricane Ginger,Hurricane Ginny,Hurricane Gloria,Hurricane Gold,Hurricane Gonzalo,Hurricane Gracie,Hurricane Greta–Olivia,Hurricane Gretchen,Hurricane Guillermo,Hurricane Gustav,Hurricane Hall,Hurricane Harvey,Hurricane Hattie,Hurricane Hazel,Hurricane Heather,Hurricane Hector,Hurricane Heights,Hurricane Helga,Hurricane Henri,Hurricane Henriette,Hurricane Hermine,Hurricane Hernan,Hurricane Hiki,Hurricane Hilary,Hurricane Hilda,Hurricane Hollow,Hurricane Hortense,Hurricane How,Hurricane Howard,Hurricane Hugo,Hurricane Humberto,Hurricane Hunters,Hurricane Hutch,Hurricane Hyacinth,Hurricane I,Hurricane II,Hurricane IV,Hurricane Ignacio,Hurricane Igor,Hurricane Ike,Hurricane Ileana,Hurricane Inez,Hurricane Ingrid,Hurricane Iniki,Hurricane Ioke,Hurricane Ione,Hurricane Irah,Hurricane Irene,Hurricane Irene–Olivia,Hurricane Iris,Hurricane Irwin,Hurricane Isabel,Hurricane Isbell,Hurricane Iselle,Hurricane Isidore,Hurricane Isis,Hurricane Island,Hurricane Ismael,Hurricane Iva,Hurricane Ivan,Hurricane Ivo,Hurricane Iwa,Hurricane Jane,Hurricane Janet,Hurricane Javier,Hurricane Jeanne,Hurricane Jennifer,Hurricane Jerry,Hurricane Jewel,Hurricane Jimena,Hurricane Joanne,Hurricane Joan–Miriam,Hurricane Joaquin,Hurricane Jose,Hurricane Josephine,Hurricane Jova,Hurricane Joyce,Hurricane Juan,Hurricane Juliette,Hurricane Julio,Hurricane Karl,Hurricane Katherine,Hurricane Katia,Hurricane Katrina,Hurricane Kay,Hurricane Keith,Hurricane Kendra,Hurricane Kenna,Hurricane Kenneth,Hurricane Kevin,Hurricane Kids,Hurricane King,Hurricane Kirsten,Hurricane Klaus,Hurricane Kristy,Hurricane Lake,Hurricane Lane,Hurricane Lenny,Hurricane Leslie,Hurricane Lester,Hurricane Lidia,Hurricane Lili,Hurricane Lillian,Hurricane Lily,Hurricane Liza,Hurricane Lorena,Hurricane Lorenzo,Hurricane Lorraine,Hurricane Love,Hurricane Lowell,Hurricane Luis,Hurricane Manuel,Hurricane Marco,Hurricane Marilyn,Hurricane Marsh,Hurricane Martha,Hurricane Matthew,Hurricane Max,Hurricane Mesa,Hurricane Michael,Hurricane Michelle,Hurricane Miriam,Hurricane Mitch,Hurricane Mountain,Hurricane Nadine,Hurricane Nana,Hurricane Naomi,Hurricane Narda,Hurricane Nate,Hurricane Neddy,Hurricane Neki,Hurricane Newton,Hurricane Nicole,Hurricane Nina,Hurricane Noel,Hurricane Norbert,Hurricane Norma,Hurricane Octave,Hurricane Odessa,Hurricane Odile,Hurricane Opal,Hurricane Orlene,Hurricane Otis,Hurricane Otto,Hurricane Paine,Hurricane Paloma,Hurricane Pass,Hurricane Patricia,Hurricane Patsy,Hurricane Pauline,Hurricane Plantation,Hurricane Polo,Hurricane Polymar,Hurricane Priscilla,Hurricane Punch,Hurricane Rafael,Hurricane Ramon,Hurricane Raymond,Hurricane Rebecca,Hurricane Richard,Hurricane Ridge,Hurricane Rina,Hurricane Rita,Hurricane River,Hurricane Rosa,Hurricane Roslyn,Hurricane Rosy,Hurricane Roxanne,Hurricane Run,Hurricane Ryu,Hurricane Sandy,Hurricane Saturday,Hurricane Sergio,Hurricane Shary,Hurricane Smith,Hurricane Stan,Hurricane Streets,Hurricane Tara,Hurricane Tavern,Hurricane Tico,Hurricane Tina,Hurricane Tomas,Hurricane Township,Hurricane Turn,Hurricane Uleki,Hurricane Venus,Hurricane Vince,Hurricane Wilma,Hurricane belt,Hurricane clip,Hurricane deck,Hurricane engineering,Hurricane evacuation,Hurricane glass,Hurricane jar,Hurricane party,Hurricane preparedness,Hurricane season,Hurricane shutter,Hurricane variant,Hurricane! (Nova),Hurricane, Bahamas,Hurricane, Kentucky,Hurricane, Missouri,Hurricane, Utah,Hurricane, Wisconsin,Hurricane-LaVerkin Bridge,Hurricane-proof building\n",
      "**Fort Myers**: Fort Myers Miracle,Fort Myers Royals,Fort Myers, Florida\n",
      "**Naples**: Naples,Naples '44,Naples (disambiguation),Naples Afternoon,Naples Bible,Naples Cathedral,Naples Convention,Naples Creek,Naples Dioscurides,Naples Group,Naples Metro,Naples Plague,Naples Players,Naples Reef,Naples Rock,Naples Sabot,Naples Sings,Naples Zoo,Naples templates,Naples yellow,Naples, Florida,Naples, Idaho,Naples, Illinois,Naples, Maine,Naples, Texas,Naples, Utah,Naples, Wisconsin,Naples-related lists,Naples–Aversa railway,Naples–Portici railway,Naples–Salerno railway\n",
      "**TX**: TX,TX Camelopardalis,TX Network,TX Piscium,TX X,TX XBOX,TX-0,TX-1,TX-1000 series,TX-2,TX-2000 series,TX-Sector\n",
      "**Andrew**: Andrew,Andrew (Peshko),Andrew (disambiguation),Andrew (name),Andrew (surname),Andrew Abbott,Andrew Abel,Andrew Abercromby,Andrew Achari,Andrew Adamatzky,Andrew Adams,Andrew Adamson,Andrew Adgate,Andrew Adkins,Andrew Agar,Andrew Ager,Andrew Agnew,Andrew Agozzino,Andrew Ahn,Andrew Airlie,Andrew Airport,Andrew Aitken,Andrew Akesson,Andrew Albers,Andrew Alberts,Andrew Albicy,Andrew Aldcorn,Andrew Alexander,Andrew Alford,Andrew Allam,Andrew Allan,Andrew Allen,Andrew Alper,Andrew Amador,Andrew Ameral,Andrew Amers-Morrison,Andrew Ammon,Andrew Amonde,Andrew Amos,Andrew Anderson,Andrew Andersons,Andrew Andrews,Andrew Ang,Andrew Angstman,Andrew Anthony,Andrew Appel,Andrew Appleby,Andrew Apter,Andrew Arato,Andrew Arbuckle,Andrew Arcedeckne,Andrew Archer,Andrew Argue,Andrew Armstrong,Andrew Arnaoutopoulos,Andrew Arnott,Andrew Arthur,Andrew Ashe,Andrew Ashong,Andrew Ashton,Andrew Ashworth,Andrew Astbury,Andrew Aston,Andrew Atagotaaluk,Andrew Atalla,Andrew Atherton,Andrew Atkins,Andrew Aubrey,Andrew Augustin,Andrew Auld,Andrew Austin,Andrew Avellino,Andrew Aydin,Andrew Babalola,Andrew Babington,Andrew Bacevich,Andrew Bachhuber,Andrew Bachman,Andrew Baddeley,Andrew Baggaley,Andrew Baggarly,Andrew Bagnall,Andrew Baildon,Andrew Bailey,Andrew Bain,Andrew Baines,Andrew Baird,Andrew Bairstow,Andrew Bajadali,Andrew Balbirnie,Andrew Balding,Andrew Baldwin,Andrew Balfour,Andrew Balkwill,Andrew Ball,Andrew Ballard,Andrew Ballen,Andrew Ballot,Andrew Balls,Andrew Balmford,Andrew Balogh,Andrew Bambridge,Andrew Banks,Andrew Bannatyne,Andrew Barclay,Andrew Barisic,Andrew Barker,Andrew Barkis,Andrew Barlass,Andrew Barlow,Andrew Barnabas,Andrew Barnard,Andrew Baron,Andrew Barr,Andrew Barron,Andrew Barrow,Andrew Barroway,Andrew Barrowman,Andrew Bartlett,Andrew Barto,Andrew Barton,Andrew Bascome,Andrew Basham,Andrew Bassat,Andrew Basso,Andrew Battel,Andrew Batterley,Andrew Battershill,Andrew Baxter,Andrew Bayes,Andrew Bayly,Andrew Baynton,Andrew Beal,Andrew Beattie,Andrew Beauchamp-Proctor,Andrew Beaumont,Andrew Beck,Andrew Beckwith,Andrew Bedner,Andrew Bee,Andrew Beech,Andrew Beer,Andrew Beers,Andrew Beerwinkel,Andrew Beirne,Andrew Belcher,Andrew Bell,Andrew Bellatti,Andrew Belle,Andrew Belton,Andrew Benator,Andrew Benintendi,Andrew Beniuk,Andrew Benjamin,Andrew Benne,Andrew Bennett,Andrew Bennie,Andrew Bennison,Andrew Benson,Andrew Bent,Andrew Bentler,Andrew Bentley,Andrew Berardini,Andrew Berenzweig,Andrew Berg,Andrew Bergeson,Andrew Berglund,Andrew Bergman,Andrew Berman,Andrew Bernard,Andrew Bernardi,Andrew Bernstein,Andrew Berry,Andrew Bertie,Andrew Bethea,Andrew Bethel,Andrew Betts,Andrew Bettwy,Andrew Bevin,Andrew Bevis,Andrew Bews,Andrew Beyer,Andrew Bibby,Andrew Bickford,Andrew Bicknell,Andrew Biemiller,Andrew Biggs,Andrew Bilesky,Andrew Billen,Andrew Billings,Andrew Billow,Andrew Bing,Andrew Bingham,Andrew Binnie,Andrew Biraj,Andrew Bird,Andrew Birkin,Andrew Birley,Andrew Bishop,Andrew Bisset,Andrew Biswell,Andrew Black,Andrew Blackbird,Andrew Blackman,Andrew Blackshaw,Andrew Blades,Andrew Blain,Andrew Blair,Andrew Blake,Andrew Blakers,Andrew Blauvelt,Andrew Blowers,Andrew Bloxam,Andrew Blum,Andrew Blunt,Andrew Boardman,Andrew Bobbin,Andrew Bobola,Andrew Boden,Andrew Bodnar,Andrew Bodnarchuk,Andrew Boff,Andrew Boggis,Andrew Bogle,Andrew Bogut,Andrew Boland,Andrew Bolon,Andrew Bolt,Andrew Bolton,Andrew Bomford,Andrew Bonaparte-Wyse,Andrew Bonar,Andrew Bond,Andrew Bones,Andrew Bonnet,Andrew Booker,Andrew Boone,Andrew Boorde,Andrew Booth,Andrew Boraine,Andrew Borger,Andrew Boris,Andrew Borowiec,Andrew Boston,Andrew Bovell,Andrew Bowden,Andrew Bowen,Andrew Bowie,Andrew Bowler,Andrew Bowne,Andrew Bowser,Andrew Boyce,Andrew Boyd,Andrew Boyens,Andrew Boylan,Andrew Boyle,Andrew Bracey,Andrew Brackman,Andrew Bradfield,Andrew Bradford,Andrew Bradley,Andrew Brandler,Andrew Branham,Andrew Brassington,Andrew Braybrook,Andrew Bredin,Andrew Bree,Andrew Breen,Andrew Breeze,Andrew Breitbart,Andrew Brel,Andrew Bremer,Andrew Brennan,Andrew Brenner,Andrew Brereton,Andrew Brewer,Andrew Brewin,Andrew Brice,Andrew Brideson,Andrew Bridge,Andrew Bridgen,Andrew Briedis,Andrew Briggs,Andrew Brimmer,Andrew Bringle,Andrew Brinn,Andrew Briscoe,Andrew Britton,Andrew Broad,Andrew Broaddus,Andrew Broatch,Andrew Brockhurst,Andrew Brocklehurst,Andrew Broder,Andrew Brody,Andrew Brokos,Andrew Bromberg,Andrew Bromfield,Andrew Bromhall,Andrew Bromwich,Andrew Brons,Andrew Brook,Andrew Brooke,Andrew Brookes,Andrew Brough,Andrew Broughton,Andrew Brown,Andrew Browne,Andrew Brownsword,Andrew Bruce,Andrew Brunelle,Andrew Brunette,Andrew Bryan,Andrew Bryniarski,Andrew Bryson,Andrew Bucci,Andrew Buchan,Andrew Buchanan,Andrew Buckle,Andrew Budds,Andrew Bujalski,Andrew Bukerel,Andrew Bulger,Andrew Bulteel,Andrew Bulumakau,Andrew Bumbalough,Andrew Burch,Andrew Burgess,Andrew Burke,Andrew Burn,Andrew Burnaby,Andrew Burrell,Andrew Burrow,Andrew Burrows,Andrew Burt,Andrew Burton,Andrew Bussey,Andrew Butchart,Andrew Butcher,Andrew Butler,Andrew Butterfield,Andrew Butterworth,Andrew Buxton,Andrew Byfield,Andrew Bynum,Andrew Byrne,Andrew Byrnes,Andrew Báthory,Andrew Caddick,Andrew Cadelago,Andrew Cadima,Andrew Cahn,Andrew Cairncross,Andrew Calandrelli,Andrew Caldecott,Andrew Caldwell,Andrew Calhoun,Andrew Calimach,Andrew Callahan,Andrew Callaly,Andrew Callanan,Andrew Callard,Andrew Calof,Andrew Camenisch,Andrew Cameron,Andrew Campbell,Andrew Cane,Andrew Canning,Andrew Cannon,Andrew Canova,Andrew Cant,Andrew Canton,Andrew Cantrill,Andrew Cantwell,Andrew Capicik,Andrew Caplin,Andrew Cappuccino,Andrew Capra,Andrew Card,Andrew Carignan,Andrew Carleton,Andrew Carlton,Andrew Carmellini,Andrew Carn,Andrew Carnegie,Andrew Carnell,Andrew Carney,Andrew Carnie,Andrew Carnwath,Andrew Carpenter,Andrew Carrazzo,Andrew Carrick,Andrew Carroll,Andrew Carruthers,Andrew Carter,Andrew Cartmel,Andrew Carwood,Andrew Cash,Andrew Cashner,Andrew Caspersen,Andrew Cassels,Andrew Cassese,Andrew Cassidy,Andrew Casson,Andrew Caster,Andrew Castle,Andrew Catlin,Andrew Caton,Andrew Cave-Brown,Andrew Cavedon,Andrew Cayley,Andrew Cayton,Andrew Chadwick,Andrew Chafin,Andrew Chaikin,Andrew Chaiser,Andrew Chalmers,Andrew Chambers,Andrew Chambliss,Andrew Champion,Andrew Chan,Andrew Chandler,Andrew Charalambous,Andrew Charter,Andrew Chatto,Andrew Chatwood,Andrew Checketts,Andrew Cheng,Andrew Chenge,Andrew Cherng,Andrew Cherry,Andrew Chertsey,Andrew Cheshire,Andrew Chesterman,Andrew Chetcuti,Andrew Cheung,Andrew Childs,Andrew Ching,Andrew Chinn,Andrew Choi,Andrew Chord,Andrew Chou,Andrew Chow,Andrew Chraplyvy,Andrew Christensen,Andrew Christian,Andrew Christie,Andrew Christie-Johnston,Andrew Chubb,Andrew Churchill,Andrew Ciarfardini,Andrew Cibej,Andrew Cividino,Andrew Clark,Andrew Clarke,Andrew Clarkin,Andrew Clausen,Andrew Clayton,Andrew Clemence,Andrew Clemens,Andrew Clements,Andrew Clench,Andrew Climo,Andrew Clinch,Andrew Clough,Andrew Coburn,Andrew Cochrane,Andrew Cochrane-Johnstone,Andrew Cockburn,Andrew Coelho,Andrew Coffey,Andrew Cogan,Andrew Cogliano,Andrew Cohen,Andrew Cohn,Andrew Colin,Andrew Collberg,Andrew College,Andrew Collett,Andrew Colley,Andrew Collier,Andrew Collins,Andrew Coltart,Andrew Colton,Andrew Colville,Andrew Colvin,Andrew Combe,Andrew Combs,Andrew Comiskey,Andrew Commins,Andrew Common,Andrew Comrie-Picard,Andrew Conboy,Andrew Conley,Andrew Connolly,Andrew Conrad,Andrew Conru,Andrew Considine,Andrew Constance,Andrew Constantine,Andrew Conway,Andrew Cook,Andrew Cooke,Andrew Coombs,Andrew Cooney,Andrew Cooper,Andrew Cope,Andrew Copelan,Andrew Copeland,Andrew Copp,Andrew Copson,Andrew Corbet,Andrew Corbett,Andrew Corden,Andrew Cordle,Andrew Corlett,Andrew Cornford,Andrew Cornick,Andrew Cornwell,Andrew Corporation,Andrew Corran,Andrew Corsini,Andrew Cosby,Andrew Cotter,Andrew Coulouris,Andrew Cousins,Andrew Coventry,Andrew Cowan,Andrew Cowie,Andrew Cowper,Andrew Cox,Andrew Coyle,Andrew Coyne,Andrew Craig,Andrew Craighan,Andrew Craigie,Andrew Craissati,Andrew Crane,Andrew Cranston,Andrew Crater,Andrew Crawford,Andrew Crayford,Andrew Creighton,Andrew Crichton,Andrew Cripps,Andrew Criss,Andrew Critchlow,Andrew Crocker,Andrew Crockett,Andrew Croft,Andrew Crofts,Andrew Cronje,Andrew Crook,Andrew Crosbie,Andrew Crosby,Andrew Crosse,Andrew Crossland,Andrew Crowell,Andrew Crozier,Andrew Cruickshank,Andrew Cruikshank,Andrew Crumey,Andrew Crummey,Andrew Cuerden,Andrew Culver,Andrew Culverwell,Andrew Cumming,Andrew Cunanan,Andrew Cuneo,Andrew Cunningham,Andrew Cuomo,Andrew Curlewis,Andrew Curnow,Andrew Currey,Andrew Currie,Andrew Curry,Andrew Curtis,Andrew Cuthill,Andrew Cymek,Andrew Cyrille,Andrew D'Angelo,Andrew D.Warren,Andrew Dabb,Andrew Dabeka,Andrew Daddo,Andrew Daish,Andrew Dalby,Andrew Dale,Andrew Dalgleish,Andrew Dallmeyer,Andrew Dalton,Andrew Dalzel,Andrew Dalzell,Andrew Dan-Jumbo,Andrew Daniels,Andrew Darbyshire,Andrew Dasburg,Andrew Datko,Andrew Davenport,Andrew David,Andrew Davidson,Andrew Davie,Andrew Davies,Andrew Davis,Andrew Davison,Andrew Dawber,Andrew Dawes,Andrew Dawson,Andrew DeClercq,Andrew DeCristofaro,Andrew DeGraffenreidt,Andrew DePaola,Andrew DeVries,Andrew Deer,Andrew Delaplaine,Andrew Delbanco,Andrew Demeter,Andrew Demetriou,Andrew Dempster,Andrew Denison,Andrew Dent,Andrew Denton,Andrew Deoki,Andrew Derbyshire,Andrew Derrom,Andrew Desjardins,Andrew Dessler,Andrew Deutsch,Andrew Devane,Andrew Deveaux,Andrew Dewhurst,Andrew Diamond,Andrew Dias,Andrew Dick,Andrew Dickson,Andrew Diebold,Andrew Diey,Andrew Dillin,Andrew Dillman,Andrew Dillon,Andrew Dilnot,Andrew Dimattina,Andrew Dismore,Andrew Disney,Andrew Divoff,Andrew Dixon,Andrew Dobson,Andrew Dodds,Andrew Dodt,Andrew Dokett,Andrew Dold,Andrew Dolkart,Andrew Dominik,Andrew Donald,Andrew Donaldson,Andrew Donlevy,Andrew Donnal,Andrew Donnelly,Andrew Donskov,Andrew Dorn,Andrew Dornenburg,Andrew Dost,Andrew Dosunmu,Andrew Doughty,Andrew Douglas,Andrew Downes,Andrew Downton,Andrew Doyle,Andrew Drevo,Andrew Drew,Andrew Driver,Andrew Drummond,Andrew Drury,Andrew Drzemczewski,Andrew Ducarel,Andrew Ducrow,Andrew Dudley,Andrew Duff,Andrew Duffield,Andrew Dufur,Andrew Duggan,Andrew Dumm,Andrew Duncan,Andrew Dunemann,Andrew Dunkley,Andrew Dunn,Andrew Dunne,Andrew Duran,Andrew Durant,Andrew Durante,Andrew Durie,Andrew Durutalo,Andrew Dutkewych,Andrew Dutney,Andrew Dwyer,Andrew Dykes,Andrew Dykstra,Andrew Dũng-Lạc,Andrew D’Angelo,Andrew D’Souza,Andrew E.,Andrew East,Andrew Easton,Andrew Eaton,Andrew Ebbett,Andrew Eccles,Andrew Economos,Andrew Edge,Andrew Edgson,Andrew Edis,Andrew Edlin,Andrew Edmondson,Andrew Edwards,Andrew Egan,Andrew Ehinger,Andrew Eiden,Andrew Eiva,Andrew Eldritch,Andrew Eliot,Andrew Ellice,Andrew Ellicott,Andrew Elliot,Andrew Ellis,Andrew Ellison,Andrew Elsbury,Andrew Embley,Andrew Emelio,Andrew Engelage,Andrew Erickson,Andrew Ernemann,Andrew Erskine,Andrew Ervin,Andrew Erwin,Andrew Esealuka,Andrew Eshleman,Andrew Esiebo,Andrew Esinhart,Andrew Ettingshausen,Andrew Eusebe,Andrew Evans,Andrew Everett,Andrew Everingham,Andrew Ewing,Andrew Exum,Andrew Eyapan,Andrew Ezergailis,Andrew F,Andrew Fabian,Andrew Fagan,Andrew Fairbairn,Andrew Fairfield,Andrew Fairfoul,Andrew Fairlie,Andrew Fairweather,Andrew Falk,Andrew Falkous,Andrew Farago,Andrew Farkas,Andrew Farke,Andrew Farley,Andrew Farmer,Andrew Farquhar,Andrew Farrance,Andrew Farrar,Andrew Farriss,Andrew Fastow,Andrew Faulds,Andrew Faulkner,Andrew Fee,Andrew Feenberg,Andrew Feinstein,Andrew Fekete,Andrew Feld,Andrew Feldman,Andrew Fenn,Andrew Fenrich,Andrew Ference,Andrew Ferenci,Andrew Ferguson,Andrew Fermin,Andrew Fernyhough,Andrew Ferrara,Andrew Festing,Andrew Fezza,Andrew Fields,Andrew Fifita,Andrew Figgures,Andrew Filipowski,Andrew Finch,Andrew Findlater,Andrew Findon,Andrew Finlay,Andrew Fire,Andrew Firestone,Andrew Fiscella,Andrew Fisher,Andrew Fitton,Andrew Fitzgerald,Andrew Fitzgibbon,Andrew Flavel,Andrew Fleming,Andrew Fletcher,Andrew Flintoff,Andrew Florent,Andrew Fluegelman,Andrew Fogarty,Andrew Fois,Andrew Foley,Andrew Fontein,Andrew Forbes,Andrew Ford,Andrew Forde,Andrew Forge,Andrew Form,Andrew Forman,Andrew Forrest,Andrew Forsman,Andrew Forson,Andrew Forsyth,Andrew Foster,Andrew Foster-Williams,Andrew Fothergill,Andrew Fotiadis,Andrew Foulis,Andrew Fountaine,Andrew Fournet,Andrew Fournier,Andrew Fowler,Andrew Fox,Andrew Foxie,Andrew Fraknoi,Andrew Frame,Andrew Francis,Andrew Franck,Andrew Frangella,Andrew Franks,Andrew Fraser,Andrew Frazer,Andrew Freedman,Andrew Freeman,Andrew Freemantle,Andrew Freeth,Andrew French,Andrew Freshwater,Andrew Frew,Andrew Fried,Andrew Friedman,Andrew Frierson,Andrew Frisardi,Andrew Fromm,Andrew Frost,Andrew Froude,Andrew Fukuda,Andrew Fuller,Andrew Fulton,Andrew Fung,Andrew Furco,Andrew Furlong,Andrew Furman,Andrew Furuseth,Andrew Fyfe,Andrew Földi,Andrew Gabel,Andrew Gachkar,Andrew Gaff,Andrew Gait,Andrew Gajda,Andrew Gale,Andrew Galet,Andrew Gallant,Andrew Gamble,Andrew Ganigan,Andrew Gant,Andrew Garbarino,Andrew Garcia,Andrew Gardner,Andrew Garfield,Andrew Garran,Andrew Garrard,Andrew Garrett,Andrew Garry,Andrew Garton,Andrew Gatenby,Andrew Gault,Andrew Gay,Andrew Gaze,Andrew Geddes,Andrew Geddis,Andrew Gee,Andrew Geils,Andrew Geller,Andrew Gelman,Andrew Gemant,Andrew Gemmell,Andrew George,Andrew Gerard,Andrew Gerber,Andrew Gerle,Andrew Gertler,Andrew Getty,Andrew Gibb,Andrew Gibbs,Andrew Gibson,Andrew Giddings,Andrew Gifford,Andrew Gih,Andrew Gilbart,Andrew Gilbert-Scott,Andrew Gilchrist,Andrew Gilding,Andrew Giles,Andrew Gill,Andrew Gilligan,Andrew Gillison,Andrew Gillum,Andrew Gilmour,Andrew Gilzean,Andrew Gimson,Andrew Ginsburg,Andrew Ginther,Andrew Gissinger,Andrew Given,Andrew Glacier,Andrew Gladiuk,Andrew Glaister,Andrew Glass,Andrew Glassell,Andrew Glassman,Andrew Glassner,Andrew Glaze,Andrew Glazewski,Andrew Glover,Andrew Glyn,Andrew Goatly,Andrew Goddard,Andrew Godefroy,Andrew Godsell,Andrew Goffman,Andrew Gold,Andrew Goldberg,Andrew Goldie,Andrew Golding,Andrew Goldstein,Andrew Golota,Andrew Gonzales,Andrew Gonzalez,Andrew Good,Andrew Goodman,Andrew Goodpaster,Andrew Goodwin,Andrew Gordon,Andrew Gordon-Saker,Andrew Gormley,Andrew Gotianun,Andrew Gottlieb,Andrew Goudelock,Andrew Goudie,Andrew Gould,Andrew Gourlay,Andrew Govender,Andrew Gow,Andrew Gower,Andrew Gowers,Andrew Graham,Andrew Graham-Dixon,Andrew Graham-Yooll,Andrew Grainger,Andrew Grant,Andrew Granville,Andrew Grassie,Andrew Gray,Andrew Greasley,Andrew Greeley,Andrew Green,Andrew Greenberg,Andrew Greene,Andrew Greenwell,Andrew Greenwood,Andrew Greer,Andrew Gregg,Andrew Gregor,Andrew Gregory,Andrew Greig,Andrew Greta,Andrew Grieve,Andrew Griffiths,Andrew Grima,Andrew Grimes,Andrew Grimwade,Andrew Grindeland,Andrew Groff,Andrew Gromov,Andrew Gronholdt,Andrew Gross,Andrew Grove,Andrew Groves,Andrew Gruel,Andrew Guenther,Andrew Guest,Andrew Guinand,Andrew Gulickson,Andrew Gunn,Andrew Gurr,Andrew Guthrie,Andrew Gutti,Andrew Gwynne,Andrew Haben,Andrew Hacker,Andrew Haddow,Andrew Hafitz,Andrew Hageman,Andrew Haigh,Andrew Haines,Andrew Halcro,Andrew Haldane,Andrew Haldenby,Andrew Hales,Andrew Hall,Andrew Halliday,Andrew Hallidie,Andrew Halyburton,Andrew Hamilton,Andrew Hammel,Andrew Hammond,Andrew Hampsten,Andrew Handyside,Andrew Hannah,Andrew Hansen,Andrew Hansson,Andrew Hao,Andrew Hardie,Andrew Hardwick,Andrew Hargadon,Andrew Hargreaves,Andrew Hargrett,Andrew Harman,Andrew Harms,Andrew Harper,Andrew Harriman,Andrew Harris,Andrew Harrison,Andrew Hart,Andrew Hartline,Andrew Harvey,Andrew Harwood,Andrew Haslam,Andrew Hastie,Andrew Hatch,Andrew Hatcher,Andrew Haug,Andrew Hauptman,Andrew Haveron,Andrew Havill,Andrew Hawkins,Andrew Hay,Andrew Hayden-Smith,Andrew Haydon,Andrew Hayles,Andrew Heafitz,Andrew Heaney,Andrew Heard,Andrew Heath,Andrew Hedge,Andrew Hedgman,Andrew Heeps,Andrew Heermans,Andrew Heffernan,Andrew Heiberger,Andrew Hein,Andrew Heintzman,Andrew Heiskell,Andrew Hele,Andrew Helion,Andrew Hemingway,Andrew Henderson,Andrew Hendy,Andrew Henley,Andrew Henning,Andrew Henry,Andrew Henton,Andrew Herbert,Andrew Herbertson,Andrew Herd,Andrew Heringer,Andrew Herman,Andrew Hermann,Andrew Hernandez,Andrew Herrmann,Andrew Herxheimer,Andrew Hevesi,Andrew Hewitt,Andrew Hewkin,Andrew Heyward,Andrew Hibbert,Andrew Hick,Andrew Hickenlooper,Andrew Hicks,Andrew Higgins,Andrew Higginson,Andrew Hilaire,Andrew Hilditch,Andrew Hildreth,Andrew Hill,Andrew Hilton,Andrew Himes,Andrew Hindes,Andrew Hinds,Andrew Hines,Andrew Hintz,Andrew Hjulsager,Andrew Hodd,Andrew Hodge,Andrew Hodges,Andrew Hodgson,Andrew Hoffman,Andrew Hogan,Andrew Hogarth,Andrew Hogg,Andrew Holding,Andrew Holes,Andrew Hollander,Andrew Holleran,Andrew Hollingsworth,Andrew Holm,Andrew Holmberg,Andrew Holmes,Andrew Holness,Andrew Holt,Andrew Holtz,Andrew Homzy,Andrew Honeycutt,Andrew Honeyman,Andrew Hood,Andrew Hook,Andrew Hoole,Andrew Hooper,Andrew Hopper,Andrew Hore,Andrew Horn,Andrew Horne,Andrew Horowitz,Andrew Horrell,Andrew Horton,Andrew Hoskins,Andrew Hosmer,Andrew Hotham,Andrew Houison,Andrew House,Andrew Housser,Andrew Houston,Andrew Howard,Andrew Howe,Andrew Howie,Andrew Howlett,Andrew Hoxie,Andrew Hoy,Andrew Hoyem,Andrew Hsia,Andrew Huang,Andrew Hubatsek,Andrew Hudgins,Andrew Hudson,Andrew Huebner,Andrew Hughes,Andrew Hugill,Andrew Hull,Andrew Humpherson,Andrew Humphrey,Andrew Humphreys,Andrew Hunter,Andrew Hurd,Andrew Hurley,Andrew Hurrell,Andrew Hurry,Andrew Hussey,Andrew Hussie,Andrew Hutchinson,Andrew Hutchison,Andrew Huxley,Andrew Hynes,Andrew I,Andrew II,Andrew Ianiero,Andrew Ibrahim,Andrew Ilie,Andrew Imbrie,Andrew Ingersoll,Andrew Ingraham,Andrew Innes,Andrew Intamba,Andrew Ireland,Andrew Irvine,Andrew Irwin,Andrew Isidoro,Andrew Island,Andrew Ives,Andrew Jachno,Andrew Jack,Andrew Jackson,Andrew Jacobs,Andrew Jacobson,Andrew Jaffe,Andrew Jaffray,Andrew Jakubowicz,Andrew Jameson,Andrew Jamieson,Andrew Jamison,Andrew Janiak,Andrew Jarecki,Andrew Jarman,Andrew Jarrett,Andrew Jarvis,Andrew Jaspan,Andrew Jaszi,Andrew Jayamanne,Andrew Jean-Baptiste,Andrew Jefferies,Andrew Jefford,Andrew Jenike,Andrew Jenkins,Andrew Jenks,Andrew Jennings,Andrew Jenson,Andrew Jeptha,Andrew Jervise,Andrew Jessup,Andrew Jimenez,Andrew Jobling,Andrew John,Andrew Johns,Andrew Johnson,Andrew Johnston,Andrew Jolivette,Andrew Jones,Andrew Jordaan,Andrew Jordan,Andrew Joron,Andrew Joslyn,Andrew Joudrey,Andrew Judde,Andrew Jukes,Andrew Julius,Andrew Justice,Andrew Juxon-Smith,Andrew K,Andrew Kaczynski,Andrew Kaggwa,Andrew Kahn,Andrew Kahr,Andrew Kakabadse,Andrew Kalotay,Andrew Kam,Andrew Kamanga,Andrew Kamarck,Andrew Kandrevas,Andrew Kane,Andrew Kania,Andrew Kanu,Andrew Kaplan,Andrew Karney,Andrew Karsch,Andrew Kasarskis,Andrew Kasch,Andrew Kaslow,Andrew Katos,Andrew Kaufman,Andrew Kavadas,Andrew Kavovit,Andrew Kay,Andrew Kayiira,Andrew Kazamia,Andrew Kean,Andrew Keary,Andrew Keating,Andrew Keegan,Andrew Keeling,Andrew Keen,Andrew Keenan-Bolger,Andrew Kehoe,Andrew Keir,Andrew Kellaway,Andrew Keller,Andrew Kelly,Andrew Kennedy,Andrew Kenny,Andrew Keogh,Andrew Keoghan,Andrew Ker,Andrew Kerr,Andrew Ketterer,Andrew Kettle,Andrew Kiddie,Andrew Kiefer,Andrew Killgore,Andrew Killian,Andrew Kimball,Andrew King,Andrew Kingsmill,Andrew Kinnear,Andrew Kinsman,Andrew Kippis,Andrew Kirk,Andrew Kirkaldy,Andrew Kirkpatrick,Andrew Kirmse,Andrew Kirtzman,Andrew Kishino,Andrew Kishore,Andrew Kiss,Andrew Klaber,Andrew Klavan,Andrew Kleinfeld,Andrew Kliman,Andrew Kline,Andrew Knapper,Andrew Knight,Andrew Knott,Andrew Knowlton,Andrew Knox,Andrew Kobal,Andrew Kober,Andrew Koczka,Andrew Koenig,Andrew Kohut,Andrew Koob,Andrew Kooman,Andrew Kooner,Andrew Kopkind,Andrew Koppelman,Andrew Korda,Andrew Kortina,Andrew Kosove,Andrew Kovacs,Andrew Kozak,Andrew Kozek,Andrew Krakouer,Andrew Kramer,Andrew Kratzmann,Andrew Kreisberg,Andrew Krelove,Andrew Krepinevich,Andrew Kriss,Andrew Krivak,Andrew Krystal,Andrew Kuan,Andrew Kuchins,Andrew Kuder,Andrew Kuka,Andrew Kumagai,Andrew Kumarage,Andrew Kuper,Andrew Kuster,Andrew Kwiatkowski,Andrew Kötting,Andrew Labatt,Andrew Lacey,Andrew Lack,Andrew Lackey,Andrew Lackfi,Andrew Ladd,Andrew Ladis,Andrew Lahde,Andrew Laing,Andrew Lake,Andrew Lakey,Andrew Lam,Andrew Lamb,Andrew Lambert,Andrew Lambo,Andrew Laming,Andrew Lammie,Andrew Lamprill,Andrew Lancaster,Andrew Lancel,Andrew Landenberger,Andrew Landeryou,Andrew Landry,Andrew Lane,Andrew Lang,Andrew Langa,Andrew Langford,Andrew Langtree,Andrew Lanni,Andrew Lansley,Andrew Lanyon,Andrew Lanza,Andrew Lapthorne,Andrew Large,Andrew Larkin,Andrew Lasker,Andrew Laszlo,Andrew Laties,Andrew Latimer,Andrew Lau,Andrew Lauder,Andrew Lauer,Andrew Laughlin,Andrew Lauterstein,Andrew Lavin,Andrew Law,Andrew Lawrence,Andrew Lawrence-King,Andrew Lawson,Andrew Lawton,Andrew Lazar,Andrew Leach,Andrew Leake,Andrew Leamy,Andrew Lear,Andrew Leathem,Andrew Lee,Andrew Leeds,Andrew Lees,Andrew Left,Andrew Legg,Andrew Leggatt,Andrew Leigh,Andrew Leipus,Andrew Leker,Andrew Leman,Andrew Lemoncello,Andrew Lens,Andrew Leon,Andrew Leonard,Andrew Leoncelli,Andrew Leota,Andrew Lepani,Andrew Lesh,Andrew Leslie,Andrew Lesnie,Andrew Lesuuda,Andrew Letzring,Andrew Leung,Andrew Levane,Andrew Levitas,Andrew Levy,Andrew Lewer,Andrew Lewis,Andrew Leynse,Andrew Li,Andrew Liao,Andrew Libano,Andrew Lichtenberger,Andrew Lih,Andrew Likierman,Andrew Liles,Andrew Lin,Andrew Lincoln,Andrew Lindberg,Andrew Lindsay,Andrew Ling,Andrew Linklater,Andrew Linton,Andrew Lintott,Andrew Linzey,Andrew Lippa,Andrew Little,Andrew Litton,Andrew Livingston,Andrew Livingstone,Andrew Lo,Andrew Lock,Andrew Lockington,Andrew Lockley,Andrew Lockyer,Andrew Loder,Andrew Lofthouse,Andrew Logan,Andrew Lohrey,Andrew Lomu,Andrew Long,Andrew Longmore,Andrew Loomis,Andrew Lord,Andrew Lorraine,Andrew Lortie,Andrew Lost,Andrew Loughrey,Andrew Loupe,Andrew Louper,Andrew Louw,Andrew Love,Andrew Lovett,Andrew Lowery,Andrew Lubahn,Andrew Luck,Andrew Lukas,Andrew Lumisden,Andrew Lumsden,Andrew Lungay,Andrew Lusk,Andrew Luster,Andrew Luttrell,Andrew Lycett,Andrew Lyell,Andrew Lynch,Andrew Lyne,Andrew Lynford,Andrew Lyon,Andrew Lyons,Andrew Lytle,Andrew MacBean,Andrew MacBeath,Andrew MacCallum,Andrew MacCormac,Andrew MacDonald,Andrew MacGregor,Andrew MacKay,Andrew MacKenzie,Andrew MacKinlay,Andrew MacLachlan,Andrew MacLaren,Andrew MacLeish,Andrew MacLeod,Andrew MacNaughtan,Andrew MacWilliam,Andrew Macara,Andrew Macfarlane,Andrew Macgeorge,Andrew Mack,Andrew Mackay,Andrew Mackelworth,Andrew Mackenzie-Low,Andrew Mackie,Andrew Mackintosh,Andrew Maclaren,Andrew Macnish,Andrew Macphail,Andrew Macpherson,Andrew Madella,Andrew Madley,Andrew Magee,Andrew Maginnity,Andrew Magnus,Andrew Maguire,Andrew Maher,Andrew Mair,Andrew Maitland-Makgill-Crichton,Andrew Majda,Andrew Major,Andrew Makkinga,Andrew Malcolm,Andrew Malcom,Andrew Mald,Andrew Mallard,Andrew Mamedoff,Andrew Manatos,Andrew Mangan,Andrew Mangham,Andrew Mangiapane,Andrew Mango,Andrew Manis,Andrew Manley,Andrew Manning,Andrew Mansale,Andrew Mansfield,Andrew Mansioun,Andrew Manze,Andrew Manzie,Andrew Maragos,Andrew Marak,Andrew Marc,Andrew Marchand,Andrew Marck,Andrew Marcus,Andrew Marin,Andrew Marks,Andrew Marlton,Andrew Marr,Andrew Marriner,Andrew Marschalk,Andrew Marsh,Andrew Marshal,Andrew Marshall,Andrew Marston,Andrew Martens,Andrew Marth,Andrew Martin,Andrew Martindale,Andrew Martinez,Andrew Marton,Andrew Marveggio,Andrew Marvell,Andrew Masai,Andrew Mason,Andrew Massey,Andrew Mast,Andrew Masterson,Andrew Matheson,Andrew Mathews,Andrew Mathieson,Andrew Matjila,Andrew Mattei,Andrew Matthews,Andrew Matthews-Owen,Andrew Mattison,Andrew Maunsell,Andrew Maury,Andrew Mavis,Andrew Mawson,Andrew Maxwell,Andrew Maynard,Andrew Mayne,Andrew Mazzei,Andrew Maʻilei,Andrew McAfee,Andrew McAnsh,Andrew McArthur,Andrew McAtee,Andrew McAulay,Andrew McAuley,Andrew McBain,Andrew McBride,Andrew McBurney,Andrew McCabe,Andrew McCallum,Andrew McCance,Andrew McCarthy,Andrew McClary,Andrew McCleary,Andrew McClelland,Andrew McClurg,Andrew McCollum,Andrew McCord,Andrew McCormack,Andrew McCormick,Andrew McCowie,Andrew McCrae,Andrew McCreadie,Andrew McCrorie-Shand,Andrew McCulloch,Andrew McCullough,Andrew McCutchen,Andrew McCutcheon,Andrew McDermot,Andrew McDermott,Andrew McDonald,Andrew McDonough,Andrew McDouall,Andrew McDougall,Andrew McElwee,Andrew McFadden,Andrew McFadyean,Andrew McFadyen,Andrew McFarland,Andrew McFarlane,Andrew McGahan,Andrew McGarry,Andrew McGavin,Andrew McGee,Andrew McGibbon,Andrew McGovern,Andrew McGowan,Andrew McGraw,Andrew McGregor,Andrew McGuire,Andrew McInnes,Andrew McIntosh,Andrew McIntyre,Andrew McKaige,Andrew McKay,Andrew McKee,Andrew McKellar,Andrew McKelvey,Andrew McKenna,Andrew McKenzie,Andrew McKim,Andrew McKinley,Andrew McKinnon,Andrew McKirahan,Andrew McKissock,Andrew McLachlan,Andrew McLardy,Andrew McLaren,Andrew McLean,Andrew McLellan,Andrew McLennan,Andrew McLeod,Andrew McMahon,Andrew McManus,Andrew McMaster,Andrew McMillan,Andrew McMillen,Andrew McNab,Andrew McNair,Andrew McNally,Andrew McNamara,Andrew McNaughton,Andrew McNee,Andrew McNeil,Andrew McNeillie,Andrew McNeilly,Andrew McPherson,Andrew McPhillips,Andrew McQualter,Andrew Mcqualter,Andrew Mead,Andrew Means,Andrew Mearns,Andrew Mehrtens,Andrew Meikle,Andrew Meiklejohn,Andrew Meldrum,Andrew Mellick,Andrew Mellon,Andrew Melrose,Andrew Melville,Andrew Mensaros,Andrew Mercer,Andrew Meredith,Andrew Merrington,Andrew Messenger,Andrew Metcalfe,Andrew Mewing,Andrew Michael,Andrew Micheal,Andrew Mickel,Andrew Micklefield,Andrew Migliore,Andrew Mikhail,Andrew Mildenhall,Andrew Millar,Andrew Miller,Andrew Millison,Andrew Mills,Andrew Millward,Andrew Milne,Andrew Milner,Andrew Miltenberg,Andrew Miscampbell,Andrew Mishkin,Andrew Mitchell,Andrew Mittendorf,Andrew Mlangeni,Andrew Mobberley,Andrew Modlin,Andrew Mogrelia,Andrew Moir,Andrew Mollo,Andrew Moloney,Andrew Mondshein,Andrew Monteiro,Andrew Monteith,Andrew Montford,Andrew Montgomery,Andrew Montour,Andrew Moore,Andrew Moran,Andrew Moravcsik,Andrew Moray,Andrew Moreton,Andrew Morgan,Andrew Morris,Andrew Morrison,Andrew Morrisson,Andrew Morritt,Andrew Morse,Andrew Morton,Andrew Moscrip,Andrew Mosley,Andrew Moss,Andrew Mosse,Andrew Moten,Andrew Motion,Andrew Moylan,Andrew Moynihan,Andrew Mozina,Andrew Mrotek,Andrew Mueller,Andrew Muhlach,Andrew Muir,Andrew Muldoon,Andrew Mulholland,Andrew Mullen,Andrew Mulligan,Andrew Mumford,Andrew Munro,Andrew Murdison,Andrew Murdoch,Andrew Murdock,Andrew Murphy,Andrew Murr,Andrew Murray,Andrew Murrison,Andrew Murtha,Andrew Murunga,Andrew Musgrave,Andrew Muñoz,Andrew Mwangura,Andrew Mwenda,Andrew Mwesigwa,Andrew Myler,Andrew Mylius,Andrew Mylne,Andrew Mynarski,Andrew Myrick,Andrew Nabbout,Andrew Naesmith,Andrew Nagorski,Andrew Nairn,Andrew Nairne,Andrew Napier,Andrew Napolitano,Andrew Natsios,Andrew Naylor,Andrew Nebbett,Andrew Needham,Andrew Neel,Andrew Neiderman,Andrew Neil,Andrew Neild,Andrew Nel,Andrew Nelson,Andrew Nesbitt,Andrew Ness,Andrew Nethsingha,Andrew Neu,Andrew Newell,Andrew Newman,Andrew Newport,Andrew Ng,Andrew Niccol,Andrew Nichol,Andrew Nicholas,Andrew Nicholl,Andrew Nicholson,Andrew Nicolaides,Andrew Nicoll,Andrew Nikiforuk,Andrew Nikolic,Andrew Nikou,Andrew Nisker,Andrew Nixon,Andrew Noakes,Andrew Noble,Andrew Noel,Andrew Noren,Andrew Nori,Andrew Norman,Andrew Norris,Andrew Norriss,Andrew Northcote,Andrew Norton,Andrew Norwell,Andrew Novell,Andrew Nowacki,Andrew Nunn,Andrew Nusca,Andrew O'Connor,Andrew O'Donnell,Andrew O'Flynn,Andrew O'Hagan,Andrew O'Keefe,Andrew O'Neill,Andrew O'Shaughnessy,Andrew O'Sullivan,Andrew Obst,Andrew Odlyzko,Andrew Odom,Andrew Offord,Andrew Ogg,Andrew Ogilvy,Andrew Oikonomou,Andrew Oldcorn,Andrew Olexander,Andrew Oliver,Andrew Olivieri,Andrew Olle,Andrew Olshansky,Andrew Onderdonk,Andrew Ondrejcak,Andrew Onraet,Andrew Oram,Andrew Ord,Andrew Orgill,Andrew Orlowski,Andrew Ornoch,Andrew Orpik,Andrew Orsatti,Andrew Orvedahl,Andrew Osagie,Andrew Osborn,Andrew Osei-Bonsu,Andrew Osenga,Andrew Osmond,Andrew Osta,Andrew Ostler,Andrew Ostrowski,Andrew Oswald,Andrew Oung,Andrew Overtoom,Andrew Owens,Andrew Owusu,Andrew Oye,Andrew Oyombe,Andrew Packer,Andrew Page,Andrew Pagett,Andrew Painter,Andrew Pakes,Andrew Pakula,Andrew Palmer,Andrew Panazzolo,Andrew Paquette,Andrew Paradise,Andrew Paris,Andrew Park,Andrew Parker,Andrew Parkin-Coates,Andrew Parkinson,Andrew Parks,Andrew Parnell,Andrew Parrish,Andrew Parrott,Andrew Parsons,Andrew Pascal,Andrew Paschall,Andrew Paskoff,Andrew Pasterfield,Andrew Pataki,Andrew Paterson,Andrew Patner,Andrew Patterson,Andrew Pattison,Andrew Pattulo,Andrew Paul,Andrew Paulson,Andrew Pavlovsky,Andrew Pawley,Andrew Payne,Andrew Payze,Andrew Peach,Andrew Peacock,Andrew Pearce,Andrew Pears,Andrew Pearson,Andrew Peck,Andrew Peebles,Andrew Peerson,Andrew Pelling,Andrew Pendlebury,Andrew Penketh,Andrew Penman,Andrew Penn,Andrew Penner,Andrew Pennington,Andrew Penny,Andrew Pennycuicke,Andrew Pepoy,Andrew Percy,Andrew Pergiovanni,Andrew Perkins,Andrew Perlman,Andrew Perloff,Andrew Perne,Andrew Perry,Andrew Pessin,Andrew Peters,Andrew Petersen,Andrew Peterson,Andrew Petkov,Andrew Petrie,Andrew Pettegree,Andrew Petter,Andrew Pettigrew,Andrew Pfeiffer,Andrew Pfennig,Andrew Phang,Andrew Phillips,Andrew Phillipson,Andrew Philpott,Andrew Philps,Andrew Phung,Andrew Picken,Andrew Pickens,Andrew Pickering,Andrew Piddington,Andrew Pierce,Andrew Pifko,Andrew Pike,Andrew Pilkington,Andrew Pilley,Andrew Pinder,Andrew Pink,Andrew Pinnock,Andrew Pinsent,Andrew Pitcairn-Knowles,Andrew Pitman,Andrew Pitt,Andrew Pixley,Andrew Place,Andrew Plain,Andrew Planche,Andrew Planta,Andrew Pleavin,Andrew Plimer,Andrew Plotkin,Andrew Plummer,Andrew Plympton,Andrew Pocock,Andrew Podger,Andrew Podnieks,Andrew Pohl,Andrew Poje,Andrew Polasek,Andrew Polaszek,Andrew Pollard,Andrew Pollett,Andrew Pollock,Andrew Poole,Andrew Pope,Andrew Popplewell,Andrew Poppy,Andrew Porter,Andrew Potter,Andrew Powell,Andrew Poynter,Andrew Pozzi,Andrew Pratt,Andrew Prendeville,Andrew Prentice,Andrew Preston,Andrew Price,Andrew Price-Smith,Andrew Pridham,Andrew Prince,Andrew Princz,Andrew Prine,Andrew Pringle,Andrew Pritchard,Andrew Probert,Andrew Procter,Andrew Project,Andrew Prokos,Andrew Proud,Andrew Proudfit,Andrew Provand,Andrew Provence,Andrew Prowse,Andrew Pruett,Andrew Pugh,Andrew Pugsley,Andrew Pulford,Andrew Pulley,Andrew Pulton,Andrew Puopolo,Andrew Purcell,Andrew Purser,Andrew Purves,Andrew Purvis,Andrew Putnam,Andrew Putnis,Andrew Putt,Andrew Puttick,Andrew Puzder,Andrew Pyle,Andrew Pyper,Andrew Páez,Andrew Qappik,Andrew Quarless,Andrew Querbes,Andrew Quick,Andrew Quigley,Andrew Quinn,Andrew Quintero,Andrew Rabutla,Andrew Radchenko,Andrew Radford,Andrew Raftery,Andrew Raia,Andrew Raines,Andrew Ram,Andrew Ramsay,Andrew Ramsey,Andrew Randazzo,Andrew Ranger,Andrew Ranicki,Andrew Rannells,Andrew Rasemene,Andrew Raspin,Andrew Ratcliffe,Andrew Rattenbury,Andrew Ravanello,Andrew Raven,Andrew Rawlins,Andrew Rawnsley,Andrew Ray,Andrew Raycroft,Andrew Rayel,Andrew Raynes,Andrew Ready,Andrew Rebori,Andrew Redmayne,Andrew Reed,Andrew Reef,Andrew Reeves,Andrew Refshauge,Andrew Regan,Andrew Reich,Andrew Rein,Andrew Reinholds,Andrew Renton,Andrew Restrepo,Andrew Revkin,Andrew Reynolds,Andrew Rhodes,Andrew Ribeiro,Andrew Riccard,Andrew Rice,Andrew Richardson,Andrew Richmond,Andrew Richner,Andrew Richter,Andrew Rickman,Andrew Ridgeley,Andrew Ridgway,Andrew Riley,Andrew Rilstone,Andrew Rindfleisch,Andrew Ripp,Andrew Rippin,Andrew Risby,Andrew Rissik,Andrew Ritchie,Andrew River,Andrew Rivkin,Andrew Roachford,Andrew Robathan,Andrew Robb,Andrew Roberts,Andrew Robertshaw,Andrew Robertson,Andrew Robertt,Andrew Robinson,Andrew Robiskie,Andrew Robl,Andrew Roborecki,Andrew Robson,Andrew Rochford,Andrew Rock,Andrew Rodgers,Andrew Rodriguez,Andrew Rogers,Andrew Rohan,Andrew Romanelli,Andrew Romanoff,Andrew Romine,Andrew Rona,Andrew Ronalds,Andrew Roraback,Andrew Roseberry,Andrew Rosenfeld,Andrew Rosenthal,Andrew Rosindell,Andrew Ross,Andrew Rossi,Andrew Rossos,Andrew Roth,Andrew Rothenberg,Andrew Rothstein,Andrew Rowe,Andrew Rowell,Andrew Roy,Andrew Rubin,Andrew Rudd,Andrew Rugasira,Andrew Ruhemann,Andrew Ruiz,Andrew Rushbury,Andrew Russel,Andrew Russell,Andrew Russo,Andrew Rutherford,Andrew Rutherfurd,Andrew Rutherfurd-Clark,Andrew Rutledge,Andrew Ryan,Andrew Saballus,Andrew Sabin,Andrew Sabiston,Andrew Sach,Andrew Sachs,Andrew Sacks,Andrew Sackville,Andrew Saks,Andrew Salgado,Andrew Salkey,Andrew Sall,Andrew Salter,Andrew Sambrook,Andrew Sampson,Andrew Samson,Andrew Samuels,Andrew Samwick,Andrew SanFilippo,Andrew Sandlin,Andrew Sandoval,Andrew Sanger,Andrew Sant,Andrew Sarauer,Andrew Sardella,Andrew Sarris,Andrew Sasson,Andrew Saul,Andrew Saunders,Andrew Saville,Andrew Sawyer,Andrew Saxton,Andrew Sayer,Andrew Sayers,Andrew Scarborough,Andrew Schabner,Andrew Schacht,Andrew Schalch,Andrew Schally,Andrew Schanno,Andrew Schapiro,Andrew Schauble,Andrew Scheer,Andrew Scheinman,Andrew Schelling,Andrew Schenck,Andrew Scheps,Andrew Schillinger,Andrew Schimmer,Andrew Schlafly,Andrew Schloss,Andrew Schmidt,Andrew Schneider,Andrew Schnell,Andrew Schofield,Andrew Schotter,Andrew Schultz,Andrew Schulz,Andrew Schulze,Andrew Schwab,Andrew Schwass,Andrew Schär,Andrew Scipione,Andrew Scoble,Andrew Scot,Andrew Scott,Andrew Scull,Andrew Seabrook,Andrew Sears,Andrew Sega,Andrew Selby,Andrew Seliskar,Andrew Selkirk,Andrew Selous,Andrew Semple,Andrew Sendejo,Andrew Sentance,Andrew Seow,Andrew Serbinski,Andrew Serwer,Andrew Sesinyi,Andrew Sessler,Andrew Setefano,Andrew Sewnauth,Andrew Sexton,Andrew Shaffer,Andrew Shandro,Andrew Shanle,Andrew Shapiro,Andrew Shapter,Andrew Sharp,Andrew Shaw,Andrew Shearbon,Andrew Sheldon,Andrew Shelton,Andrew Sheng,Andrew Sherborne,Andrew Sheridan,Andrew Sheriff,Andrew Sherman,Andrew Sherratt,Andrew Sherwood,Andrew Shilling,Andrew Shim,Andrew Shinnie,Andrew Shipp,Andrew Shirreffs,Andrew Shives,Andrew Shoben,Andrew Shonfield,Andrew Shore,Andrew Shue,Andrew Shull,Andrew Shulman,Andrew Shumack,Andrew Shuman,Andrew Sibley,Andrew Siciliano,Andrew Sidamon-Eristoff,Andrew Siegert,Andrew Siemion,Andrew Sieprath,Andrew Sihler,Andrew Silver,Andrew Simmons,Andrew Simms,Andrew Simon,Andrew Simoncelli,Andrew Simone,Andrew Simpson,Andrew Sims,Andrew Simson,Andrew Sinclair,Andrew Sincock,Andrew Singleton,Andrew Sinkala,Andrew Sisco,Andrew Skeen,Andrew Skeet,Andrew Skene,Andrew Skilleter,Andrew Skurka,Andrew Skurman,Andrew Skwish,Andrew Slack,Andrew Slattery,Andrew Sledd,Andrew Sloan,Andrew Sluyter,Andrew Smale,Andrew Small,Andrew Smart,Andrew Smeaton,Andrew Smith,Andrew Snape,Andrew Snell,Andrew Snoid,Andrew Snowdon,Andrew So,Andrew Sockalexis,Andrew Solomon,Andrew Solt,Andrew Soltis,Andrew Somerville,Andrew Sorenson,Andrew Sousa,Andrew Soutar,Andrew South,Andrew Southcott,Andrew Sowle,Andrew Spagrud,Andrew Spano,Andrew Sparkes,Andrew Speed,Andrew Speedy,Andrew Spence,Andrew Spencer,Andrew Spens,Andrew Speroff,Andrew Spielman,Andrew Spottiswoode,Andrew Sprowle,Andrew Squire,Andrew Stacey,Andrew Stadler,Andrew Stafford,Andrew Stahl,Andrew Stales,Andrew Stalker,Andrew Stanley,Andrew Stanton,Andrew Staples,Andrew Stark,Andrew Startin,Andrew Starykowicz,Andrew Steane,Andrew Steele,Andrew Stehlin,Andrew Stein,Andrew Steiner,Andrew Steinmann,Andrew Stenhouse,Andrew Stephen,Andrew Stephenson,Andrew Sterett,Andrew Stern,Andrew Sterpin,Andrew Stetson,Andrew Stevens,Andrew Stevenson,Andrew Stevovich,Andrew Steward,Andrew Stewart,Andrew Stewart-Jones,Andrew Stimpson,Andrew Stock,Andrew Stockdale,Andrew Stoddart,Andrew Stone,Andrew Stoner,Andrew Stotz,Andrew Strahan,Andrew Stratford,Andrew Strath,Andrew Strauss,Andrew Streitwieser,Andrew Strempler,Andrew Stricko,Andrew Strijk,Andrew Stroehlein,Andrew Strominger,Andrew Strong,Andrew Stroth,Andrew Stroud,Andrew Stroukoff,Andrew Stroup,Andrew Stuart,Andrew Stunell,Andrew Suarez,Andrew Sublette,Andrew Sudduth,Andrew Sugerman,Andrew Suknaski,Andrew Sullivan,Andrew Sumner,Andrew Suniula,Andrew Sunyar,Andrew Supanz,Andrew Surman,Andrew Surmani,Andrew Susac,Andrew Susman,Andrew Susskind,Andrew Suter,Andrew Sutherland,Andrew Svoboda,Andrew Swallow,Andrew Swan,Andrew Swann,Andrew Swant,Andrew Sweat,Andrew Sweetland,Andrew Swift,Andrew Sykes,Andrew Symeou,Andrew Symington,Andrew Symonds,Andrew Symson,Andrew Szanton,Andrew Szasz,Andrew Szczerba,Andrew Sznajder,Andrew Tabiti,Andrew Tait,Andrew Talansky,Andrew Talcott,Andrew Tampion,Andrew Tan,Andrew Tanca,Andrew Tang,Andrew Tangata-Toa,Andrew Tarbell,Andrew Tarbet,Andrew Targowski,Andrew Tarpey,Andrew Tatarsky,Andrew Tate,Andrew Taylor,Andrew Teague,Andrew Telegdi,Andrew Tembo,Andrew Tennant,Andrew Tesorière,Andrew Thatcher,Andrew Theophanous,Andrew Thomas,Andrew Thompson,Andrew Thomson,Andrew Thorby,Andrew Thorndike,Andrew Thorne,Andrew Thornley,Andrew Thornton,Andrew Thorpe,Andrew Thurman,Andrew Tibbs,Andrew Tiedemann,Andrew Tiernan,Andrew Tierney,Andrew Tift,Andrew Tighe,Andrew Tiller,Andrew Tilles,Andrew Timlin,Andrew Timothy,Andrew Timson,Andrew Tink,Andrew Tinker,Andrew Tinkler,Andrew Tipping,Andrew Tisch,Andrew Tite,Andrew To,Andrew Tobias,Andrew Toles,Andrew Tolman,Andrew Toluja,Andrew Tomas,Andrew Tombes,Andrew Tompkins,Andrew Toney,Andrew Tooke,Andrew Toole,Andrew Toovey,Andrew Topping,Andrew Torgashev,Andrew Tosh,Andrew Toti,Andrew Toward,Andrew Townsley,Andrew Tracey,Andrew Tracy,Andrew Train,Andrew Tranquilli,Andrew Traub,Andrew Traucki,Andrew Tremlett,Andrew Tretton,Andrew Tridgell,Andrew Triggs,Andrew Trim,Andrew Trimble,Andrew Trischitta,Andrew Troelsen,Andrew Trollope,Andrew Trompeteler,Andrew Trott,Andrew Trull,Andrew Trumbo,Andrew Truxal,Andrew Tsao,Andrew Tsu,Andrew Tuason,Andrew Tucker,Andrew Tulloch,Andrew Turay,Andrew Turberfield,Andrew Turnbull,Andrew Turner,Andrew Turton,Andrew Turzilli,Andrew Tutte,Andrew Tweedie,Andrew Tye,Andrew Tylecote,Andrew Tyler,Andrew Tynes,Andrew Tyrie,Andrew Ukovic,Andrew Umeed,Andrew Umfray,Andrew Underwood,Andrew Unsworth,Andrew Upson,Andrew Upton,Andrew Ure,Andrew Usher,Andrew Utting,Andrew Uwe,Andrew Vachss,Andrew Valdez,Andrew Vallance-Owen,Andrew Valmon,Andrew VanWyngarden,Andrew Vanzie,Andrew Varley,Andrew Varona,Andrew Vasquez,Andrew Vaughn,Andrew Veal,Andrew Velasquez,Andrew Velazquez,Andrew Veniamin,Andrew Verdecchio,Andrew Verity,Andrew Vern-Barnett,Andrew Verner,Andrew Vicari,Andrew Vickers,Andrew Videto,Andrew Vincent,Andrew Vinius,Andrew Viterbi,Andrew Vivian,Andrew Vlahos,Andrew Vlahov,Andrew Voidovius,Andrew Volstead,Andrew Voss,Andrew Vowles,Andrew Voysey,Andrew Vázsonyi,Andrew W.K.,Andrew Waddell,Andrew Wade,Andrew Waggoner,Andrew Wagner,Andrew Wailes,Andrew Wakefield,Andrew Walcott,Andrew Walker,Andrew Wall,Andrew Wallace,Andrew Wallace-Hadrill,Andrew Waller,Andrew Walls,Andrew Walsh,Andrew Walter,Andrew Walters,Andrew Walton,Andrew Wamsley,Andrew Wan,Andrew Wang,Andrew Ward,Andrew Warde,Andrew Wareham,Andrew Warren,Andrew Warrington,Andrew Warwick,Andrew Waterhouse,Andrew Waterman,Andrew Waters,Andrew Waterworth,Andrew Wathey,Andrew Watkinson,Andrew Watsky,Andrew Watson,Andrew Watt,Andrew Watts,Andrew Way,Andrew Weatherall,Andrew Weaver,Andrew Weber,Andrew Weekes,Andrew Weibrecht,Andrew Weil,Andrew Weinberg,Andrew Weiner,Andrew Weinreich,Andrew Weir,Andrew Weisblum,Andrew Weiss,Andrew Welch,Andrew Weldon,Andrew Welker,Andrew Wells,Andrew Welsh,Andrew Wenger,Andrew Wenthe,Andrew Werner,Andrew West,Andrew Westmoreland,Andrew Westoll,Andrew Weston,Andrew Westphal,Andrew Whaley,Andrew Whalley,Andrew Whamond,Andrew Wheating,Andrew Wheeler,Andrew Whing,Andrew Whipp,Andrew White,Andrew Whitecross,Andrew Whitehead,Andrew Whitehurst,Andrew Whitelaw,Andrew Whiteman,Andrew Whitfield,Andrew Whitford,Andrew Whittington,Andrew Whitworth,Andrew Whyment,Andrew Wiedeman,Andrew Wiederhorn,Andrew Wiggin,Andrew Wiggins,Andrew Wight,Andrew Wightman,Andrew Wilde,Andrew Wilder,Andrew Wildman,Andrew Wildsmith,Andrew Wiles,Andrew Wilf,Andrew Wilkie,Andrew Wilkinson,Andrew Wilkow,Andrew Willatsen,Andrew Willet,Andrew Williams,Andrew Williamson,Andrew Willis,Andrew Williston,Andrew Willows,Andrew Wills,Andrew Wilson,Andrew Winch,Andrew Windsor,Andrew Wines,Andrew Winstone,Andrew Winter,Andrew Winton,Andrew Wirth,Andrew Wise,Andrew Wisniewski,Andrew Witer,Andrew Witkin,Andrew Witts,Andrew Witty,Andrew Wodrow,Andrew Wojtanik,Andrew Wolff,Andrew Wolk,Andrew Wolstenholme,Andrew Wolverton,Andrew Wommack,Andrew Wong,Andrew Wood,Andrew Woodall,Andrew Woodhouse,Andrew Woodruff,Andrew Woolfolk,Andrew Wooten,Andrew Wright,Andrew Wyatt,Andrew Wyeth,Andrew Wyke,Andrew Wylie,Andrew Wyllie,Andrew Wynter,Andrew Wynyard,Andrew Wyper,Andrew Wyse,Andrew Yakubu,Andrew Yang,Andrew Yao,Andrew Yarranton,Andrew Yates,Andrew Ydens,Andrew Yogan,Andrew Yohe,Andrew York,Andrew Yorke,Andrew Youn,Andrew Young,Andrew Younger,Andrew Younghusband,Andrew Youngman,Andrew Yuen,Andrew Yule,Andrew Zawacki,Andrew Zayac,Andrew Zega,Andrew Zeller,Andrew Zerzan,Andrew Zesers,Andrew Ziemer,Andrew Zimbalist,Andrew Zimmerman,Andrew Zimmern,Andrew Zinni,Andrew Ziolkowski,Andrew Zisserman,Andrew Zolinsky,Andrew Zondo,Andrew Zorard,Andrew Zuckerman,Andrew Zurawsky,Andrew Zwicker,Andrew oilfield,Andrew!!!,Andrew's Brain,Andrew's Dole,Andrew's Wood,Andrew, Alberta,Andrew, Illinois,Andrew, Iowa,Andrew, Louisiana,Andrew-John Bethke,Andrew-John Smith,Andrew-Lee Potts,Andrew–Safford House\n",
      "**Jefferson Chambers county**: \n",
      "**FEMA**: FEMA (disambiguation),FEMA trailer\n",
      "**Jordan**: Jordan,Jordan (company),Jordan (disambiguation),Jordan (name),Jordan 191,Jordan 192,Jordan 193,Jordan 194,Jordan 195,Jordan 196,Jordan 197,Jordan 198,Jordan 199,Jordan Abdull,Jordan Aboki,Jordan Aboudou,Jordan Adams,Jordan Adéoti,Jordan Agro,Jordan Airport,Jordan Alan,Jordan Allan,Jordan Allen,Jordan Allen-Dutton,Jordan Amavi,Jordan Anderson,Jordan Andrews,Jordan Anew,Jordan Angeli,Jordan Archer,Jordan Arts,Jordan Atkins,Jordan Augier,Jordan Aviation,Jordan Ayew,Jordan Babineaux,Jordan Bachynski,Jordan Baker,Jordan Baker-Caldwell,Jordan Baldwinson,Jordan Ball,Jordan Banjo,Jordan Banks,Jordan Bannister,Jordan Barker,Jordan Barrett,Jordan Bayne,Jordan Beck,Jordan Becker,Jordan Belchos,Jordan Belfi,Jordan Belfort,Jordan Belson,Jordan Bendfeld,Jordan Bennett,Jordan Bentley,Jordan Bernstine,Jordan Berry,Jordan Bianchin,Jordan Binnington,Jordan Black,Jordan Blake,Jordan Blilie,Jordan Blue,Jordan Bonel,Jordan Botaka,Jordan Bove,Jordan Bowery,Jordan Boy,Jordan Bozov,Jordan Brady,Jordan Branch,Jordan Brandman,Jordan Bratton,Jordan Brauninger,Jordan Brickner,Jordan Bridge,Jordan Bridges,Jordan Brower,Jordan Brown,Jordan Burgess,Jordan Burke,Jordan Burn,Jordan Burroughs,Jordan Burrow,Jordan Burt,Jordan Cael,Jordan Cairnie,Jordan Calloway,Jordan Camarero,Jordan Cameron,Jordan Camilleri,Jordan Cane,Jordan Canning,Jordan Cantwell,Jordan Canzeri,Jordan Carlos,Jordan Caron,Jordan Carstens,Jordan Carver,Jordan Challis,Jordan Chan,Jordan Chapell,Jordan Chariton,Jordan Charney,Jordan Chase,Jordan Chiedozie,Jordan Chiles,Jordan Chipangama,Jordan Chort,Jordan Christopher,Jordan Cila,Jordan Clark,Jordan Clarke,Jordan Clarkson,Jordan Coal,Jordan Coelho,Jordan Coghlan,Jordan College,Jordan Collier,Jordan Company,Jordan Connerton,Jordan Cook,Jordan Copp,Jordan Corey,Jordan Cornfield,Jordan Corvée,Jordan Coulter,Jordan Cousins,Jordan Cove,Jordan Cox,Jordan Crane,Jordan Cranston,Jordan Craters,Jordan Crawford,Jordan Cray,Jordan Creek,Jordan Cronenweth,Jordan Crossing,Jordan Crowther,Jordan Culbreath,Jordan Cushing,Jordan Dalrymple,Jordan Dane,Jordan Dangerfield,Jordan Danks,Jordan David,Jordan Davies,Jordan Davis,Jordan Daykin,Jordan DeSilva,Jordan DeWalt-Ondijo,Jordan Declaration,Jordan Desmet,Jordan Devey,Jordan Dezaria,Jordan Dodson,Jordan Doering,Jordan Doner,Jordan Downs,Jordan Drew,Jordan Dupray,Jordan Dykstra,Jordan EJ10,Jordan EJ11,Jordan EJ12,Jordan EJ13,Jordan EJ14,Jordan EJ15,Jordan Eagers,Jordan Eberle,Jordan Edenius,Jordan Eftimov,Jordan Ellenberg,Jordan Elsey,Jordan Evans,Jordan Faganel,Jordan Falcon,Jordan Fantosme,Jordan Farmar,Jordan Faucher,Jordan Fauqué,Jordan Feliz,Jordan Ferri,Jordan Field,Jordan Fielding,Jordan Fisher,Jordan Fitzpatrick,Jordan Fleiss,Jordan Fliegel,Jordan Flores,Jordan Foley,Jordan Foliot,Jordan Follows,Jordan Foote,Jordan Formation,Jordan Fowler,Jordan Fox,Jordan Frampton,Jordan Francis,Jordan Frieda,Jordan Fry,Jordan Gafa,Jordan Galland,Jordan Galtier,Jordan Ganchovski,Jordan Garcia-Calvete,Jordan Garnier,Jordan Garrett,Jordan Gauci,Jordan Gavaris,Jordan Gavin,Jordan Gay,Jordan Gelber,Jordan Georgievski,Jordan Gibbons,Jordan Goddard,Jordan Goldman,Jordan Goldnadel,Jordan Graham,Jordan Grant,Jordan Grantz,Jordan Gray,Jordan Graye,Jordan Green,Jordan Greenway,Jordan Gross,Jordan Gruber,Jordan Gysberts,Jordan Hadfield,Jordan Haerter,Jordan Hall,Jordan Halliday,Jordan Halsman,Jordan Hamilton,Jordan Hand,Jordan Harris,Jordan Harrison,Jordan Hartney,Jordan Harvey,Jordan Hasay,Jordan Hasquet,Jordan Hastings,Jordan Hayes,Jordan Haynes,Jordan Henderson,Jordan Hendry,Jordan Henriquez,Jordan Henry,Jordan Hibbert,Jordan Hicks,Jordan Hill,Jordan Hillock,Jordan Hinson,Jordan Hitch,Jordan Hoffman,Jordan Hollywood,Jordan Holt,Jordan Hooper,Jordan Hospital,Jordan Houghton,Jordan Houlden,Jordan House,Jordan Houtby,Jordan Howard,Jordan Howden,Jordan Howe,Jordan Hu,Jordan Hubbard,Jordan Hughes,Jordan Hugill,Jordan Hulls,Jordan Ikoko,Jordan Isner,Jordan Jackson,Jordan Jackson-Hope,Jordan James,Jordan Jansen,Jordan Jarrett-Bryan,Jordan Jefferson,Jordan Jenkins,Jordan Johnson,Jordan Johnstone,Jordan Jones,Jordan Jovanović,Jordan Ju,Jordan Kahu,Jordan Kamalu,Jordan Katembula,Jordan Keegan,Jordan Kelly,Jordan Kensington,Jordan Kent,Jordan Kerby,Jordan Kerner,Jordan Kerr,Jordan Kessler,Jordan Kilganon,Jordan King,Jordan Kirkpatrick,Jordan Klepper,Jordan Knackstedt,Jordan Knight,Jordan Kovacs,Jordan Kremyr,Jordan Krestanovich,Jordan Kyle,Jordan Kyros,Jordan Ladd,Jordan Lake,Jordan Landing,Jordan Lane,Jordan Larson,Jordan Larsson,Jordan Laws,Jordan Lawson,Jordan Leborgne,Jordan Lee,Jordan Lefort,Jordan Leggett,Jordan Lennerton,Jordan Leopold,Jordan Leslie,Jordan Levasseur,Jordan Levine,Jordan Levy,Jordan Lewis,Jordan Lilley,Jordan Lisle,Jordan Lister,Jordan Lloyd,Jordan Lolley,Jordan Lotiès,Jordan Lotomba,Jordan Loukas,Jordan Lowe,Jordan Lucas,Jordan Luce,Jordan Luck,Jordan Lukaku,Jordan Lund,Jordan Lussey,Jordan Lyden,Jordan Lyles,Jordan Lynch,Jordan Mabin,Jordan Macey,Jordan Mageo,Jordan Mai,Jordan Malinovski,Jordan Malinowski,Jordan Malloch,Jordan Malone,Jordan Manihera,Jordan Marié,Jordan Maron,Jordan Marsh,Jordan Marshall,Jordan Martinez,Jordan Martinook,Jordan Massengo,Jordan Masterson,Jordan Matechuk,Jordan Mattern,Jordan Matthews,Jordan Maze,Jordan McCloskey,Jordan McColl,Jordan McCoy,Jordan McCrary,Jordan McDeere,Jordan McGhee,Jordan McGregor,Jordan McGrotty,Jordan McIntosh,Jordan McKechnie,Jordan McLean,Jordan McMahon,Jordan McMillan,Jordan McRae,Jordan Mechner,Jordan Mein,Jordan Mendelson,Jordan Merle,Jordan Metcalfe,Jordan Michaels,Jordan Michallet,Jordan Mickey,Jordan Miller,Jordan Millot,Jordan Mills,Jordan Mintah,Jordan Mintz,Jordan Moeller,Jordan Mohilowski,Jordan Montgomery,Jordan Moore,Jordan Moore-Taylor,Jordan Morgan,Jordan Morris,Jordan Morrison,Jordan Morton,Jordan Mounds,Jordan Murch,Jordan Murdoch,Jordan Murphy,Jordan Murrell,Jordan Mustoe,Jordan Nacto,Jordan Nagai,Jordan Nguyen,Jordan Nichols,Jordan Nicholson,Jordan Niebrugge,Jordan Nikolić,Jordan Nikolov,Jordan Nobbs,Jordan Nolan,Jordan Norberto,Jordan North,Jordan Norwood,Jordan Nunatak,Jordan O'Connor,Jordan O'Doherty,Jordan Obita,Jordan Oesterle,Jordan Officer,Jordan Olivar,Jordan Opoku,Jordan Orr,Jordan Owens,Jordan Pacheco,Jordan Page,Jordan Painter,Jordan Palmer,Jordan Palmer-Samuels,Jordan Parise,Jordan Park,Jordan Parkes,Jordan Parra,Jordan Parraz,Jordan Parsons,Jordan Patrick,Jordan Patterson,Jordan Payne,Jordan Payton,Jordan Pearce,Jordan Peddle,Jordan Peele,Jordan Penitusi,Jordan Pereira,Jordan Perez,Jordan Peterson,Jordan Phillips,Jordan Pickford,Jordan Pierre-Charles,Jordan Pinder,Jordan Pleskow,Jordan Plevnes,Jordan Pond,Jordan Pothain,Jordan Poyer,Jordan Prentice,Jordan Preston,Jordan Pruitt,Jordan Pugh,Jordan Pundik,Jordan Radev,Jordan Rae,Jordan Rager,Jordan Railey,Jordan Rakovič,Jordan Rally,Jordan Rambaud,Jordan Ramos,Jordan Range,Jordan Rankin,Jordan Rapana,Jordan Rapp,Jordan Raskopoulos,Jordan Raycroft,Jordan Reaves,Jordan Reed,Jordan Remacle,Jordan Rempel,Jordan Renson,Jordan Reyne,Jordan Rhodes,Jordan Riak,Jordan Rich,Jordan Richard,Jordan Richards,Jordan Rideout,Jordan Ridgeway,Jordan Rieux,Jordan Ritter,Jordan River,Jordan Roberts,Jordan Robertson,Jordan Robinson,Jordan Rodgers,Jordan Rodrigues,Jordan Romero,Jordan Rose,Jordan Rosenberg,Jordan Ross,Jordan Rossiter,Jordan Roth,Jordan Roughead,Jordan Routledge,Jordan Rudess,Jordan Rugby,Jordan Rules,Jordan Russell,Jordan Russolillo,Jordan Ryan,Jordan Samuels,Jordan Samuels-Thomas,Jordan Sanderson,Jordan Sandstone,Jordan Santiago,Jordan Santos,Jordan Sarrou,Jordan Schafer,Jordan Schaul,Jordan Schlansky,Jordan Schmaltz,Jordan Schmidt,Jordan School,Jordan Schroder,Jordan Schroeder,Jordan Schur,Jordan Schweitzer,Jordan Scott,Jordan Seabright,Jordan Seabrook,Jordan Seager,Jordan Sekulow,Jordan Selwyn,Jordan Senn,Jordan Shapiro,Jordan Sheed,Jordan Sheffield,Jordan Shimmell,Jordan Shipley,Jordan Shlain,Jordan Sibert,Jordan Sigalet,Jordan Sigismeau,Jordan Silk,Jordan Silva,Jordan Simmons,Jordan Simon,Jordan Simpson,Jordan Sinnott,Jordan Sisco,Jordan Slew,Jordan Smelker,Jordan Smiler,Jordan Smith,Jordan Smotherman,Jordan Sonnenblick,Jordan Spence,Jordan Spieth,Jordan Spiz'ike,Jordan Staal,Jordan Stagmiller,Jordan Station,Jordan Steel,Jordan Stempleman,Jordan Stewart,Jordan Stone,Jordan Stratford,Jordan Sturdy,Jordan Subban,Jordan Suckley,Jordan Sugrim,Jordan Swing,Jordan Szoke,Jordan Szwarz,Jordan Tabach-Bank,Jordan Tabor,Jordan Tai,Jordan Tait,Jordan Tannahill,Jordan Tansey,Jordan Tata,Jordan Taufua,Jordan Taylor,Jordan Telecom,Jordan Theodore,Jordan Thompson,Jordan Tillson,Jordan Todman,Jordan Todorov,Jordan Todosey,Jordan Township,Jordan Tresson,Jordan Tripp,Jordan Trovillion,Jordan Turnbull,Jordan Turner,Jordan Turner-Hall,Jordan Vaden,Jordan Vale,Jordan Valeriote,Jordan Valley,Jordan Vandenberg,Jordan Vandermade,Jordan Velikov,Jordan Verdone,Jordan Veretout,Jordan Vogt-Roberts,Jordan Walden,Jordan Walker-Pearlman,Jordan Wall,Jordan Walne,Jordan Waring,Jordan Watson,Jordan Weal,Jordan Webb,Jordan Weidner,Jordan Weisman,Jordan Westerkamp,Jordan White,Jordan Wilimovsky,Jordan Williams,Jordan Willis,Jordan Wolfson,Jordan Wood,Jordan Woolley,Jordan Wynn,Jordan Wynter,Jordan Young,Jordan Younger,Jordan Zahar,Jordan Zamora,Jordan Zevon,Jordan Zimmerman,Jordan Zimmermann,Jordan Zumwalt,Jordan Zunic,Jordan algebra,Jordan decomposition,Jordan frame,Jordan map,Jordan matrix,Jordan measure,Jordan network,Jordan stubs,Jordan templates,Jordan's Castle,Jordan's Chapel,Jordan's Furniture,Jordan's IMAX,Jordan's Meats,Jordan's chimaera,Jordan's inequality,Jordan's lemma,Jordan's principle,Jordan's rule,Jordan, Guimaras,Jordan, Indiana,Jordan, Iowa,Jordan, Kentucky,Jordan, Minneapolis,Jordan, Minnesota,Jordan, Missouri,Jordan, Montana,Jordan, Ontario,Jordan, Oregon,Jordan, Virginia,Jordan, Wisconsin,Jordan-Beggs House,Jordan-Claire Green,Jordan-Williams House,Jordan-related lists,Jordan–Chevalley decomposition,Jordan–Hare Stadium,Jordan–Kenya relations,Jordan–Kuwait relations,Jordan–Malaysia relations,Jordan–Pakistan relations,Jordan–Palestine relations,Jordan–Russia relations,Jordan–Schur theorem,Jordan–Syria border,Jordan–Syria relations,Jordan–Tunisia relations,Jordan–Turkey relations,Jordan–Wigner transformation\n",
      "**Hurricanes**: Hurricanes (X-League)\n",
      "**Jacksonville**: Jacksonville (Fringe),Jacksonville (Pennsylvania),Jacksonville (disambiguation),Jacksonville Axemen,Jacksonville Bancorp,Jacksonville Barracudas,Jacksonville Beaches,Jacksonville Bluewaves,Jacksonville Braves,Jacksonville Breeze,Jacksonville Bullets,Jacksonville Bullies,Jacksonville Bulls,Jacksonville Coliseum,Jacksonville College,Jacksonville Consolidation,Jacksonville Cyclones,Jacksonville Division,Jacksonville Dolphins,Jacksonville Generals,Jacksonville Giants,Jacksonville Ice,Jacksonville Indians,Jacksonville JAM,Jacksonville Jaguars,Jacksonville Jax,Jacksonville Journal,Jacksonville Landing,Jacksonville Magazine,Jacksonville Pride,Jacksonville Riverwalk,Jacksonville Roar,Jacksonville Rockets,Jacksonville RollerGirls,Jacksonville SLAM,Jacksonville Sharks,Jacksonville Skyway,Jacksonville Speedway,Jacksonville Stingrays,Jacksonville Suns,Jacksonville Symphony,Jacksonville Tarpons,Jacksonville Tomcats,Jacksonville Township,Jacksonville University,Jacksonville portal,Jacksonville station,Jacksonville weather,Jacksonville, Alabama,Jacksonville, Arkansas,Jacksonville, Florida,Jacksonville, Georgia,Jacksonville, Illinois,Jacksonville, Indiana,Jacksonville, Iowa,Jacksonville, Missouri,Jacksonville, Ohio,Jacksonville, Oregon,Jacksonville, Pennsylvania,Jacksonville, Texas,Jacksonville, Vermont,Jacksonville, Wisconsin\n",
      "**Brian Roberson**: Brian Roberson\n",
      "**CNN**: CNN,CNN (disambiguation),CNN Airport,CNN Arabic,CNN Blog,CNN Center,CNN Chile,CNN Daybreak,CNN Films,CNN Heroes,CNN Indonesia,CNN International,CNN Konek,CNN Live,CNN Millennium,CNN NewsStand,CNN Newsource,CNN Newsroom,CNN Philippines,CNN Pipeline,CNN Presents,CNN Today,CNN Tonight,CNN Türk,CNN controversies,CNN effect,CNN executives,CNN opera,CNN people,CNN shows,CNN+,CNN-News18\n",
      "**Alabama**: Alabama,Alabama (band),Alabama (disambiguation),Alabama (moth),Alabama (schooner),Alabama 3,Alabama Anti-Jacksonians,Alabama Avenue,Alabama Ballet,Alabama Baptist,Alabama Chanin,Alabama Chicken,Alabama Claims,Alabama Concerto,Alabama Day,Alabama Democratic-Republicans,Alabama Democrats,Alabama Dixiecrats,Alabama Fever,Alabama Gang,Alabama Greenbacks,Alabama Hammers,Alabama Hawks,Alabama Heritage,Alabama Hill,Alabama Hills,Alabama Independents,Alabama Jacksonians,Alabama Joe,Alabama Jubilee,Alabama Legislature,Alabama Libertarians,Alabama Live,Alabama Moon,Alabama Outlawz,Alabama Pitts,Alabama Populists,Alabama Power,Alabama Railroad,Alabama Renegades,Alabama Republicans,Alabama River,Alabama Senate,Alabama Shakes,Alabama Slammer,Alabama Slammers,Alabama Song,Alabama Spirit,Alabama Stakes,Alabama Steeldogs,Alabama Territory,Alabama Theatre,Alabama Thunderpussy,Alabama Unionists,Alabama Vipers,Alabama Vulcans,Alabama Whigs,Alabama argillacea,Alabama cavefish,Alabama clubshell,Alabama culture,Alabama darter,Alabama discography,Alabama elections,Alabama folklore,Alabama heelsplitter,Alabama language,Alabama law,Alabama lawyers,Alabama maps,Alabama media,Alabama moccasinshell,Alabama orb,Alabama panhandle,Alabama people,Alabama pigtoe,Alabama politicians,Alabama primaries,Alabama rot,Alabama shad,Alabama sheriffs,Alabama shiner,Alabama shooting,Alabama society,Alabama spike,Alabama statutes,Alabama stubs,Alabama sturgeon,Alabama templates,Alabama vertigo,Alabama waterdog,Alabama wine,Alabama-Halle,Alabama-related lists,Alabama-stub,Alabama–Florida League,Alabama–Florida border,Alabama–Huntsville Chargers,Alabama–Mississippi border,Alabama–Tennessee League,Alabama–Tennessee border\n",
      "**Houston**: Houston,Houston (actress),Houston (album),Houston (disambiguation),Houston (singer),Houston (song),Houston (surname),Houston Academy,Houston Aces,Houston Aerodrome,Houston Aeros,Houston Agreement,Houston Airport,Houston Alexander,Houston Alianza,Houston Angels,Houston Antwine,Houston Apollos,Houston Astros,Houston B-cycle,Houston Ballet,Houston Barks,Houston Bates,Houston Beauty,Houston Black,Houston Bowl,Houston Boychoir,Houston Branch,Houston Bright,Houston Buffaloes,Houston Calls,Houston Cellular,Houston Center,Houston Chronicle,Houston Club,Houston Comets,Houston Conley,Houston Conwill,Houston Cougars,Houston County,Houston Dash,Houston Davis,Houston Defender,Houston Dynamo,Houston Dynamos,Houston Energy,Houston Express,Houston Fancher,Houston Fields,Houston Force,Houston French,Houston Gamblers,Houston Glacier,Houston Hall,Houston Harte,Houston Heights,Houston Hoover,Houston Hotshots,Houston House,Houston Hurricane,Houston Hurricanes,Houston Huskies,Houston Jail,Houston Jiménez,Houston Knights,Houston Laukko,Houston Leones,Houston Lightning,Houston Lonestars,Houston Mack,Houston Marathon,Houston Marshals,Houston Mavericks,Houston McKelvey,Houston McTear,Houston Medical,Houston Nutt,Houston Oldham,Houston Person,Houston Post,Houston Power,Houston Press,Houston Refining,Houston Ridge,Houston Riot,Houston Rockets,Houston Run,Houston Scott,Houston Skippers,Houston Solution,Houston Stackhouse,Houston Stallions,Houston Stars,Houston Stealth,Houston Stewart,Houston Street,Houston Summit,Houston Symphony,Houston Takers,Houston Texans,Houston Thunderbears,Houston Tomorrow,Houston Toros,Houston Tower,Houston Township,Houston TranStar,Houston Triptych,Houston Voice,Houston Volunteers,Houston Wranglers,Houston Wrestling,Houston Zoo,Houston baronets,Houston noise,Houston station,Houston stubs,Houston toad,Houston's Restaurant,Houston, Alabama,Houston, Alaska,Houston, Arkansas,Houston, Delaware,Houston, Georgia,Houston, Indiana,Houston, Minnesota,Houston, Mississippi,Houston, Missouri,Houston, Nebraska,Houston, Ohio,Houston, Pennsylvania,Houston, Renfrewshire,Houston, Tennessee,Houston/East Houston,Houston/Greater Heights,Houston/North Houston,Houston/South Main,Houston/West Houston,Houston–Rice rivalry\n",
      "**Texans**: Texans–Titans rivalry\n",
      "**Meteorologist Vs Irma In Key West**: \n",
      "**Corpus Christi**: Corpus Christi,Corpus Christi (band),Corpus Christi (feast),Corpus Christi (film),Corpus Christi (play),Corpus Christi Bandits,Corpus Christi Basilica,Corpus Christi Bay,Corpus Christi Caller-Times,Corpus Christi Carol,Corpus Christi Cathedral,Corpus Christi Church,Corpus Christi College,Corpus Christi Fury,Corpus Christi Hooks,Corpus Christi IceRays,Corpus Christi Monastery,Corpus Christi Priory,Corpus Christi Records,Corpus Christi School,Corpus Christi Sharks,Corpus Christi Tournament,Corpus Christi massacre,Corpus Christi, Texas\n",
      "**Buffalo Bayou**: Buffalo Bayou\n"
     ]
    }
   ],
   "source": [
    "print('\\n'.join(['**%s**: %s'%(e, ','.join(r)) for e, r in entity_results_capped.iteritems()]))"
   ]
  },
  {
   "cell_type": "code",
   "execution_count": 174,
   "metadata": {
    "collapsed": false
   },
   "outputs": [
    {
     "name": "stdout",
     "output_type": "stream",
     "text": [
      "Andrew                               2789\n",
      "Jordan                                691\n",
      "Austin                                456\n",
      "Orlando                               380\n",
      "Harvey                                376\n",
      "Hurricane                             349\n",
      "Tropical Storm                        276\n",
      "Georgia                               245\n",
      "Texas                                 226\n",
      "America                               209\n",
      "SC                                    205\n",
      "Irma                                  196\n",
      "Atlantic                              190\n",
      "Jose                                  187\n",
      "Florida                               167\n",
      "U.S.                                  151\n",
      "Houston                               138\n",
      "Atlanta                               123\n",
      "God                                   117\n",
      "Miami                                 117\n",
      "Caribbean                             115\n",
      "Katrina                               102\n",
      "Alabama                               101\n",
      "Ohio                                   97\n",
      "Louisiana                              93\n",
      "Gulf                                   77\n",
      "Mexico                                 73\n",
      "Cuba                                   73\n",
      "Charleston                             63\n",
      "Jacksonville                           62\n",
      "                                     ... \n",
      "Rush Limbaugh                           3\n",
      "Broward County                          3\n",
      "Camp David                              2\n",
      "Florida Keys                            2\n",
      "FEMA                                    2\n",
      "Hurricane Harvey                        1\n",
      "Texans                                  1\n",
      "Buffalo Bayou                           1\n",
      "National Day of Prayer                  1\n",
      "Rick Scott                              1\n",
      "Brian Roberson                          1\n",
      "Foot Locker                             1\n",
      "Hurricanes                              1\n",
      "IRMA                                    1\n",
      "Tim Duncan                              1\n",
      "President Donald J                      0\n",
      "US Virgin Islands                       0\n",
      "U.S. Virgin Islands                     0\n",
      "President Trump                         0\n",
      "Jefferson Chambers county               0\n",
      "FLORIDA                                 0\n",
      "CROSS                                   0\n",
      "Meteorologist Vs Irma In Key West       0\n",
      "Sinton TX                               0\n",
      "Kappa Sig                               0\n",
      "HARVEY                                  0\n",
      "HOUSTON                                 0\n",
      "St . Martin                             0\n",
      "Hurricane Irma                          0\n",
      "white caps                              0\n",
      "Length: 95, dtype: int64\n"
     ]
    }
   ],
   "source": [
    "entity_counts_capped = pd.Series({e : len(r) for e,r in entity_results_capped.iteritems()}).sort_values(inplace=False, ascending=False)\n",
    "print(entity_counts_capped)"
   ]
  },
  {
   "cell_type": "markdown",
   "metadata": {},
   "source": [
    "## Compare original and filtered entity counts"
   ]
  },
  {
   "cell_type": "markdown",
   "metadata": {},
   "source": [
    "That filtered a lot! Let's compare the top-k entity counts side-by-side."
   ]
  },
  {
   "cell_type": "code",
   "execution_count": 222,
   "metadata": {
    "collapsed": true
   },
   "outputs": [],
   "source": [
    "from __future__ import division\n",
    "from itertools import izip, cycle\n",
    "def plot_paired_bar_plot(series_list, series_names, x_label, y_label):\n",
    "    k = len(series_1)\n",
    "    M = len(series_names)\n",
    "    colors = ['b', 'r']\n",
    "    bar_height = 0.25\n",
    "    bar_spacing = 0.25\n",
    "    width = 5\n",
    "    y_offset = 0.5\n",
    "    y_pos = pd.np.arange(k)\n",
    "    plt.figure(figsize=(width, (bar_height + bar_spacing) * k))\n",
    "    for i, (s, s_name, s_color) in enumerate(izip(series_list, series_names, colors)):\n",
    "        s_offset = y_offset * (i-(1/M))\n",
    "        plt.barh(y_pos - s_offset, s, height=bar_height, color=s_color, label=s_name)\n",
    "    plt.yticks(y_pos, series_1.index)\n",
    "    plt.xlabel(x_label, fontsize=label_size)\n",
    "    plt.ylabel(y_label, fontsize=label_size)\n",
    "    plt.legend(loc='center right', fontsize=label_size)"
   ]
  },
  {
   "cell_type": "code",
   "execution_count": 226,
   "metadata": {
    "collapsed": false
   },
   "outputs": [
    {
     "data": {
      "image/png": "[encoded data removed]",
      "text/plain": [
       "<matplotlib.figure.Figure at 0x7f7f2e466750>"
      ]
     },
     "metadata": {},
     "output_type": "display_data"
    },
    {
     "data": {
      "image/png": "[encoded data removed]",
      "text/plain": [
       "<matplotlib.figure.Figure at 0x7f7f2035ad10>"
      ]
     },
     "metadata": {},
     "output_type": "display_data"
    },
    {
     "data": {
      "image/png": "[encoded data removed]",
      "text/plain": [
       "<matplotlib.figure.Figure at 0x7f7f206c2a10>"
      ]
     },
     "metadata": {},
     "output_type": "display_data"
    },
    {
     "data": {
      "image/png": "[encoded data removed]",
      "text/plain": [
       "<matplotlib.figure.Figure at 0x7f7f203280d0>"
      ]
     },
     "metadata": {},
     "output_type": "display_data"
    },
    {
     "data": {
      "image/png": "[encoded data removed]",
      "text/plain": [
       "<matplotlib.figure.Figure at 0x7f7f20f0e950>"
      ]
     },
     "metadata": {},
     "output_type": "display_data"
    }
   ],
   "source": [
    "# plot entity counts for top-100 entities in descending order\n",
    "top_k = 20\n",
    "top_k_total = 100\n",
    "series_names = ['unfiltered', 'filtered']\n",
    "x_label = 'Matching DBPedia entries'\n",
    "y_label = 'Entity'\n",
    "for i in range(int(top_k_total / top_k)):\n",
    "    top_k_i = (i+1)*top_k\n",
    "    top_k_entities = entity_result_counts.index[top_k*i:top_k_i].tolist()\n",
    "    series_1 = entity_result_counts.loc[top_k_entities][::-1]\n",
    "    series_2 = entity_counts_capped.loc[top_k_entities][::-1]\n",
    "    series_list = [series_1, series_2]\n",
    "    plot_paired_bar_plot(series_list, series_names, x_label, y_label)\n",
    "    plt.show()"
   ]
  },
  {
   "cell_type": "markdown",
   "metadata": {},
   "source": [
    "OK! The filtering cuts down most of the entities' ambiguity by half.\n",
    "\n",
    "TODO: is there a more nuanced filtering technique that gets rid of everything but the most relevant pages?"
   ]
  },
  {
   "cell_type": "markdown",
   "metadata": {},
   "source": [
    "## Filtering by entity type?"
   ]
  },
  {
   "cell_type": "markdown",
   "metadata": {},
   "source": [
    "TODO:\n",
    "\n",
    "Second big problem:\n",
    "\n",
    "The entity lists (even the filtered ones) include a lot of irrelevant entities! I was originally just looking for cities but this returned a lot of other geographic entities.\n",
    "\n",
    "- companys: `Manhattan Supply Company`\n",
    "- neighborhoods: `Manhattan Chinatown`\n",
    "- schools: `Manhattan Country School`\n",
    "- counties: `Manhattan County`\n",
    "- TV shows: `Manhattan Manhunt`"
   ]
  },
  {
   "cell_type": "markdown",
   "metadata": {
    "collapsed": true
   },
   "source": [
    "## Determine which entities are actually ambiguous"
   ]
  },
  {
   "cell_type": "markdown",
   "metadata": {},
   "source": [
    "Let's look for some basic examples of tweets that include at least one ambiguous entity.\n",
    "\n",
    "For each ambiguous entity, we find tweets that contain the entity by itself, i.e. not as a substring of a larger entity. \n",
    "\n",
    "- For the ambiguous entity **Andrew** we would count \"This hurricane is as big as **Andrew**\" but not \"This hurricane is as big as **Hurricane Andrew**\" because **Hurricane Andrew** may be a separate entity from **Andrew**."
   ]
  },
  {
   "cell_type": "code",
   "execution_count": 282,
   "metadata": {
    "collapsed": false
   },
   "outputs": [
    {
     "name": "stdout",
     "output_type": "stream",
     "text": [
      "Andrew            2789\n",
      "Jordan             691\n",
      "Austin             456\n",
      "Orlando            380\n",
      "Harvey             376\n",
      "Hurricane          349\n",
      "Tropical Storm     276\n",
      "Georgia            245\n",
      "Texas              226\n",
      "America            209\n",
      "SC                 205\n",
      "Irma               196\n",
      "Atlantic           190\n",
      "Jose               187\n",
      "Florida            167\n",
      "U.S.               151\n",
      "Houston            138\n",
      "Atlanta            123\n",
      "God                117\n",
      "Miami              117\n",
      "dtype: int64\n",
      "sampling tweets for entity Andrew (ambiguity count 2789)\n",
      "got 126 matching tweets\n"
     ]
    },
    {
     "data": {
      "text/markdown": [
       "\n",
       "- **Andrew/B-ENTITY** dropped/O a/O high/O of/O 13.8/O inches/O ;/O #HurricaneIrma/O predictions/O show/O over/O 20/O inches/O possible/O ./O http:///O trib/O ./O al/ilgiU4v/O\n",
       "- RT/O @markmobility/O :/O Cat/O 5/O **Andrew/B-ENTITY** devastated/O Florida/B-ENTITY in/O 1992/O ./O @EricHolthaus/O says/O #Irma/O is/O &gt;/O 5x/O more/O powerful/O (/O photo/O compares/O them/O )/O https://t.…/O\n",
       "- Comparación/O **Andrew/B-ENTITY** 1992/O vs/O Irma/B-ENTITY 2017/I-ENTITY #irma/O @nbc6/O pic.twitter.com/NuRHrvbtOd/O\n",
       "- **Andrew/B-ENTITY** was/O a/O monster/O ;/O #Irma/O could/O blow/O it/O out/O of/O the/O water/O http:///O bit/O ./O ly/2vLINio/O\n",
       "- Sobrevivientes/O del/O huracán/O **Andrew/B-ENTITY** en/O 1992/O se/O preparan/O para/O la/O llegada/O de/O #Irma/O #Noticias23/O @UniNoticias/O http:///O ow/O ./O ly/cKkH30f1FEJ/O\n",
       "- \"/O As/O Irma/B-ENTITY approaches/O nuclear/O plants/O in/O Florida/B-ENTITY ,/O lessons/O from/O **Andrew/B-ENTITY** resonate/O http:///O dlvr/O ./O it/PlssQ7/O #BizIT/O #Science/O #Energy/O #IRMA/O \"/O\n",
       "- |/O Sobrevivientes/O del/O huracán/O **Andrew/B-ENTITY** se/O preparan/O para/O la/O llegada/O de/O #Irma/O a/O Florida/B-ENTITY http:///O uni/O ./O vi/7NXG30f1Pbl/O pic.twitter.com/frFW5Akui5/O\n",
       "- For/O an/O entire/O generation/O in/O S/O ./O FL/O #Hurricane/O **Andrew/B-ENTITY** was/O the/O MonsterStorm/O that/O reshaped/O a/O region/O #Irma/O is/O likely/O to/O blow/O that/O out/O of/O the/O water/O pic.twitter.com/c1FJkhUtTJ/O\n",
       "- RT/O @eloycam2012/O :/O Potencial/O destructivo/O 3/O veces/O mayor/O al/O de/O #Harvey/O 5/O veces/O el/O de/O **Andrew/B-ENTITY** 1992/O ;/O se/O enfila/O a/O Florida/B-ENTITY #Irma/O con/O energía/O d…/O\n",
       "- RT/O @THE_CURE_4_U/O :/O #HurricaneIrma/O It/O is/O announced/O :/O #Harvey/O was/O a/O category/O 4/O and/O #Katrina/B-ENTITY and/O **Andrew/B-ENTITY** were/O a/O category/O 5/O ./O Irma/B-ENTITY now/O is/O st…/O"
      ],
      "text/plain": [
       "<IPython.core.display.Markdown object>"
      ]
     },
     "metadata": {},
     "output_type": "display_data"
    },
    {
     "name": "stdout",
     "output_type": "stream",
     "text": [
      "None\n",
      "sampling tweets for entity Jordan (ambiguity count 691)\n",
      "got 1 matching tweets\n"
     ]
    },
    {
     "data": {
      "text/markdown": [
       "\n",
       "- @jordanwinery/O please/O send/O a/O fellow/O **Jordan/B-ENTITY** some/O cab/O to/O get/O through/O this/O storm/O #HurricaneHarvey/O #wineplease/O 🍷🌀/O"
      ],
      "text/plain": [
       "<IPython.core.display.Markdown object>"
      ]
     },
     "metadata": {},
     "output_type": "display_data"
    },
    {
     "name": "stdout",
     "output_type": "stream",
     "text": [
      "None\n",
      "sampling tweets for entity Austin (ambiguity count 456)\n",
      "got 57 matching tweets\n"
     ]
    },
    {
     "data": {
      "text/markdown": [
       "\n",
       "- Austinite/O trapped/O in/O St/B-ENTITY ./O Thomas/B-ENTITY post/I-ENTITY Hurricane/I-ENTITY #Irma/O https:///O youtu/O ./O be/i5aT1oW-ohw/O via/O kxan/O **Austin/B-ENTITY**\n",
       "- RT/O @abc13houston/O :/O ./O @POTUS/O and/O @FLOTUS/O will/O tour/O Corpus/B-ENTITY Christi/I-ENTITY and/O **Austin/B-ENTITY** in/O wake/O of/O #Harvey/O :/O https://t.co/DZ8Feywkpu/O\n",
       "- RT/O @statesman/O :/O WEATHER/O UPDATE/O :/O Next/O band/O of/O heavy/O rainfall/O in/O **Austin/B-ENTITY** expected/O around/O 10/O a.m./O https://t.co/6NsxsyRtYs/O #atxweather/O #Harvey/O\n",
       "- RT/O @statesman/O :/O WEATHER/O UPDATE/O :/O **Austin/B-ENTITY** could/O see/O 15/O inches/O of/O rain/O through/O Wednesday/O https://t.co/TL1IqYKvCl/O #HurricaneHarvey…/O\n",
       "- RT/O @statesman/O :/O **Austin/B-ENTITY** Pets/O Alive/O seeks/O foster/O families/O after/O #HurricaneHarvey/O evacuee/O pets/O arrive/O https://t.co/aVehWt8L2F/O https://t.co/hcyk…/O\n",
       "- RT/O @AustinHSEM/O :/O Public/O hurricane/O shelter/O information/O in/O **Austin/B-ENTITY** is/O available/O by/O calling/O 3-1-1/O or/O 512-974-2000/O ./O #Harvey/O\n",
       "- RT/O @overatx/O :/O **Austin/B-ENTITY** makes/O the/O most/O of/O #HarveyStorm/O this/O afternoon/O in/O #ZilkerPark/O 's/O newly/O formed/O #ZilkerLake/O #atxweather/O https://t.co/we5MbI…/O\n",
       "- \"/O RT/O @statesman/O :/O Rains/O from/O #Harvey/O enter/O **Austin/B-ENTITY** schools/O ,/O displacing/O students/O https://t.co/o2KGJiueSf/O https://t.co/NMtBPB2nny/O \"/O\n",
       "- \"/O RT/O @EaterAustin/O :/O **Austin/B-ENTITY** restaurants/O are/O raising/O money/O and/O collecting/O donations/O for/O #HurricaneHarvey/O relief/O ,/O updated/O https://t.co/l83BLnkP9y/O \"/O\n",
       "- \"/O RT/O @statesman/O :/O **Austin/B-ENTITY** readies/O for/O thousands/O more/O #Harvey/O evacuees/O ,/O some/O stuck/O on/O roadshttps/O ://O /t/O ./O co/Peax57MPHh/O https://t.co/SRwNPaFSpf/O \"/O"
      ],
      "text/plain": [
       "<IPython.core.display.Markdown object>"
      ]
     },
     "metadata": {},
     "output_type": "display_data"
    },
    {
     "name": "stdout",
     "output_type": "stream",
     "text": [
      "None\n",
      "sampling tweets for entity Orlando (ambiguity count 380)\n",
      "got 326 matching tweets\n"
     ]
    },
    {
     "data": {
      "text/markdown": [
       "\n",
       "- \"/O Everyone/O stay/O safe/O during/O #Irma/O ./O We/O hope/O to/O see/O you/O this/O coming/O Friday/O ,/O #**Orlando/B-ENTITY** at/O The/B-ENTITY Social/I-ENTITY 09/15/I-ENTITY ./O pic.twitter.com/dOut2kA1PO/O \"/O\n",
       "- Some/O I/O know/O left/O their/O homes/O in/O Broward/B-ENTITY for/O Tampa/B-ENTITY and/O **Orlando/B-ENTITY** to/O get/O away/O from/O #HurricaneIrma/O Well/O !!!!/O\n",
       "- #Irma/O Posto/O do/O 7/O Eleven/O em/O **Orlando/B-ENTITY** distribui/O água/O de/O graça/O para/O moradores/O ./O O/O governador/O Rick/B-ENTITY Scott/I-ENTITY orientou/O aos/O .../O http:///O fb/O ./O me/2J9OxD7kr/O\n",
       "- Esta/O chica/O mala/O podria/O llegar/O a/O Tampa/B-ENTITY y/O cruzar/O por/O **Orlando/B-ENTITY** en/O su/O salida/O por/O Jacksonville/B-ENTITY ?/O #Irma/O @adamonzon/O @JohnMoralesNBC6/O\n",
       "- RT/O @exoticgamora/O :/O #hurricaneimra#IrmaHurricane2017/O Irma/B-ENTITY has/O made/O an/O appearance/O in/O **Orlando/B-ENTITY** and/O she/O is/O pretty/O terrifying/O ./O This/O is/O just/O th…/O\n",
       "- \"/O RT/O @nine_oh/O :/O 2,000/O alligators/O in/O **Orlando/B-ENTITY** will/O weather/O #HurricaneIrma/O ./O https://t.co/yoY78fvGER/O \"/O\n",
       "- \"/O La/O policía/O de/O **Orlando/B-ENTITY** advierte/O sobre/O el/O \"\"/O asombroso/O \"\"/O tamaño/O de/O #Irma/O ./O http:///O uni/O ./O vi/45WG100MSI4/O https:///O twitter.com/OrlandoPolice//O status/906314898770202630/O …/O \"/O\n",
       "- The/O Islamic/O Center/O of/O **Orlando/B-ENTITY** will/O open/O to/O anyone/O seeking/O shelter/O during/O Hurricane/B-ENTITY #Irma/O Please/O see/O the/O info/O ./O posted/O :/O pic.twitter.com/3Ub6c5Gk75/O\n",
       "- Evacuating/O to/O **Orlando/B-ENTITY** seemed/O like/O a/O good/O idea/O Thursday/O ./O We/O shall/O see/O ./O Will/O be/O riding/O out/O Irma/B-ENTITY at/O Disney/B-ENTITY 's/O art/O of/O animation/O resort/O ./O #Irma/O\n",
       "- \"/O Outlet/O de/O **Orlando/B-ENTITY** tem/O lojas/O fechadas/O antes/O da/O chegada/O do/O furacão/O Irma/B-ENTITY ,/O mostra/O apresentadora/O de/O TV/O do/O ES/O https:///O glo/O ./O bo/2gTKvvv/O #Irma/O #G1/O pic.twitter.com/f6chPFTFtU/O \"/O"
      ],
      "text/plain": [
       "<IPython.core.display.Markdown object>"
      ]
     },
     "metadata": {},
     "output_type": "display_data"
    },
    {
     "name": "stdout",
     "output_type": "stream",
     "text": [
      "None\n",
      "sampling tweets for entity Harvey (ambiguity count 376)\n",
      "got 1007 matching tweets\n"
     ]
    },
    {
     "data": {
      "text/markdown": [
       "\n",
       "- \"/O RT/O @EcoInternet3/O :/O “We/O should/O be/O naming/O #hurricanes/O after/O Exxon/B-ENTITY and/O Chevron/B-ENTITY ,/O not/O **Harvey/B-ENTITY** and/O #Irma/O ./O ”/O :/O The/O New/O Republic/O https://t.co/SfeUEE7Si…/O \"/O\n",
       "- RT/O @12NewsNow/O :/O **Harvey/B-ENTITY** victims/O can/O apply/O for/O short-term/O food/O assistance/O starting/O Wednesday/O #12NewsNowHarvey/O #Harvey/O #409Strong…/O\n",
       "- **Harvey/B-ENTITY** is/O almost/O here/O ./O Please/O be/O safe/O and/O stay/O home/O ./O We'll/O be/O posting/O STEM/O activities/O and/O videos/O throughout/O the/O weekend/O ./O #Harvey2017/O\n",
       "- \"/O RT/O @PaulFox13/O :/O **Harvey/B-ENTITY** like/O rain/O across/O central/O #Florida/O right/O now/O ./O The/O difference/O is/O ,/O Harvey/B-ENTITY 's/O rain/O lasted/O for/O days/O ,/O #Irma/O 's/O rain…/O \"/O\n",
       "- #localssupportlocals/O don't/O forget/O about/O the/O **Harvey/B-ENTITY** support/O that/O is/O going/O on/O all/O around/O !/O Support/O fellow/O Texans/O !/O #hurricaneharvey/O #support/O\n",
       "- \"/O My/O tribute/O to/O all/O the/O **Harvey/B-ENTITY** victims/O and/O survivors/O ,/O myself/O included/O ./O #Texasstrong/O #Houstonstrong/O #Harvey…/O https://t.co/qx20Xj92CY/O \"/O\n",
       "- Hurricane/O **Harvey/B-ENTITY** Brings/O Out/O The/O Best/O In/O Humanity/O -/O Grind/O 147/O https://t.co/XR0y1YWKB5/O #HarveyRelief/O #HarveyRecovery/O https://t.co/2RGTozPizq/O\n",
       "- \"/O #Trump/O signs/O $15/O billion/O #HurricaneHarvey/O **Harvey/B-ENTITY** relief/O ,/O debt/O ceiling/O package/O via/O the/O @FoxNews/O app/O http://www/O ./O foxnews.com/politics/2017//O 09/08/trump-signs-15-billion-harvey-relief-debt-ceiling-package/O ./O html/O …/O \"/O\n",
       "- “Trump/O signs/O $15/O billion/O **Harvey/B-ENTITY** aid/O bill/O into/O law”/O https:///O twitter.com/i/moments/9062/O 74086468198400/O …/O #Harvey2017/O #Harvey/O #Aid/O #Trump/O #news/O\n",
       "- Please/O Support/O @Lumpy3166/O Help/O my/O Family/O after/O **Harvey/B-ENTITY** Won/O #HurricaneHarvey/O #Flood/O Donate/O Here/O -/O http:///O bit/O ./O ly/2wD4L8M/O pic.twitter.com/sKIYgxgUXb/O"
      ],
      "text/plain": [
       "<IPython.core.display.Markdown object>"
      ]
     },
     "metadata": {},
     "output_type": "display_data"
    },
    {
     "name": "stdout",
     "output_type": "stream",
     "text": [
      "None\n",
      "sampling tweets for entity Hurricane (ambiguity count 349)\n",
      "got 125 matching tweets\n"
     ]
    },
    {
     "data": {
      "text/markdown": [
       "\n",
       "- #Irma/O is/O the/O **Hurricane/B-ENTITY** that/O just/O doesn't/O want/O to/O die/O or/O even/O weaken/O -/O it/O has/O been/O amazing/O to/O watch/O from/O a/O meteorological/O standpoint/O ./O\n",
       "- **Hurricane/B-ENTITY** prep/O myths/O #HurricaneIrma/O http://www/O ./O tampabay.com/news/publicsaf/O ety/hurricane-irma-5-myths-about-hurricane-prep-to-forget/2336675/O …/O\n",
       "- \"/O **Hurricane/B-ENTITY** prep/O done/O ,/O hunkering/O down/O &/O playing/O with/O my/O nieces/O while/O waiting/O for/O Richmond/B-ENTITY race/O to/O start/O ./O Stay/O safe/O FL/O !/O #HurricaneIrma/O #NASCAR/O \"/O\n",
       "- **Hurricane/B-ENTITY** Is/O About/O To/O Be/O The/O Strongest/O To/O Slam/O Into/O The/O US/O In/O More/O Than/O A/O Decade/O -/O BuzzFeed/O News/O #HurricaneHarvey/O https://t.co/lCcWLrEqQd/O\n",
       "- \"/O **Hurricane/B-ENTITY** is/O coming/O \"\"../O Goes/O to/O the/O beach/O to/O try/O to/O take/O a/O cool/O pic*/O #hurricaneirma/O …/O https://www/O ./O instagram.com/p/BY1NhYdAosQ//O \"/O\n",
       "- TALLAHASSEE/B-ENTITY UPDATE/O :/O I/O have/O been/O actively/O preparing/O for/O **Hurricane/B-ENTITY** conditions/O ./O I/O will/O start/O more/O frequent/O updates/O this/O evening/O ./O #Irma/O\n",
       "- 50%/O off/O admission/O for/O **Hurricane/B-ENTITY** evacuees/O at/O the/O #ashevillemuseumofscience/O #AMOS/O #hurricaneirma/O @…/O https://www/O ./O instagram.com/p/BY032Ltl9Qx//O\n",
       "- LATEST/O :/O #Irma/O currently/O Cat/O ./O 3/O **Hurricane/B-ENTITY** with/O winds/O of/O 125/O mph/O ;/O expected/O to/O restrengthen/O as/O it/O heads/O towards/O Florida/B-ENTITY |/O @ABC/O\n",
       "- The/O east/O side/O of/O the/O eye/O wall/O (/O right/O side/O when/O looking/O at/O **Hurricane/B-ENTITY** on/O the/O charts/O )/O is/O the/O wet/O side/O ./O It/O 's/O the/O rougher/O part/O #irma/O Good/O luck/O ./O\n",
       "- #irma/O **Hurricane/B-ENTITY** winds/O https://www/O ./O pscp/O ./O tv/w/bIMbgjFvUEtM/O cFJYdk5LZG58MWpNS2dQT1BueWVHTMnx_WPkqRO3_Krlv0jMGgz9iN4C2mNZFBbI0lKQ6uBf/O …/O"
      ],
      "text/plain": [
       "<IPython.core.display.Markdown object>"
      ]
     },
     "metadata": {},
     "output_type": "display_data"
    },
    {
     "name": "stdout",
     "output_type": "stream",
     "text": [
      "None\n",
      "sampling tweets for entity Tropical Storm (ambiguity count 276)\n",
      "got 32 matching tweets\n"
     ]
    },
    {
     "data": {
      "text/markdown": [
       "\n",
       "- \"/O ATTN/O :/O Possible/O 4th/O Storm/O forming/O ./O If/O it/O does/O form/O into/O **Tropical/B-ENTITY Storm/I-ENTITY** it/O 's/O name/O will/O be/O \"\"/O Lee/B-ENTITY \"\"./O #Irma/O #Katia/O #Jose/O #HurricaneIrma/O #Hurricane/O ./O pic.twitter.com/5jSNcGehFz/O \"/O\n",
       "- RT/O @sasha_a_fox/O :/O This/O shows/O when/O you/O can/O expect/O **Tropical/B-ENTITY Storm/I-ENTITY** level/O winds/O to/O reach/O you/O from/O #TropicalStormIrma#HurricaneIrma…/O\n",
       "- The/O most/O likely/O arrival/O time/O of/O **Tropical/B-ENTITY Storm/I-ENTITY** force/O winds/O will/O be/O sometime/O during/O the/O day/O Monday/O ./O That/O is/O winds/O >/O 39mph/O ./O #Irma/O pic.twitter.com/qbzH6TWedR/O\n",
       "- RT/O @weathernetwork/O :/O **Tropical/B-ENTITY Storm/I-ENTITY** conditions/O are/O now/O being/O felt/O in/O the/O Florida/B-ENTITY Keys/I-ENTITY ./O #Irma/O has/O begun/O its/O northward/O turn/O toward/O Florida…/O\n",
       "- \"/O RT/O @Azizjneelam/O :/O #HurricaneIrma/O ,/O high/O probability/O of/O **Tropical/B-ENTITY Storm/I-ENTITY** Conditions/O throughout/O the/O entire/O Florida/B-ENTITY Peninsula/I-ENTITY ./O (Sep/O 9/O till/O S…/O \"/O\n",
       "- If/O #HurricaneIrma/O wasn't/O scary/O enough/O **Tropical/B-ENTITY Storm/I-ENTITY** Jose/O looks/O like/O it/O 's/O going/O to/O follow/O the/O same/O path/O https://t.co/7JBnIE2jlO/O\n",
       "- RT/O @SDaviesNBC5/O :/O Our/O next/O **Tropical/B-ENTITY Storm/I-ENTITY** has/O formed/O ./O Tropical/B-ENTITY Storm/I-ENTITY Irma/I-ENTITY could/O be/O a/O Hurricane/O by/O Saturday/O ./O #Irma/O @nbcdfw/O https://t.co/GJI7U…/O\n",
       "- #HurricaneIrma/O Max/O Wind/O Gusts/O :/O 125mph/O Strength/O :/O Cat/O 3/O MSLP/O :/O 933mb/O Uodate/O for/O **Tropical/B-ENTITY Storm/I-ENTITY** conditions/O occurring/O the/O Florida/B-ENTITY Keys/I-ENTITY .../O pic.twitter.com/jOAtNDoVRP/O\n",
       "- #Hurricane/O Watches/O and/O **Tropical/B-ENTITY Storm/I-ENTITY** Watches/O have/O been/O expanded/O North/O into/O parts/O of/O #Georgia/O ./O #GAwx/O #FLwx/O #Irma/O pic.twitter.com/PFeAbefMeO/O\n",
       "- \"/O As/O we/O continue/O to/O watch/O #HurricaneIrma/O ,/O a/O reminder/O :/O Our/O hospitals/O lockdown/O when/O **Tropical/B-ENTITY Storm/I-ENTITY** winds/O are/O in/O area/O ./O http:///O martinhealth.org/irma/O \"/O"
      ],
      "text/plain": [
       "<IPython.core.display.Markdown object>"
      ]
     },
     "metadata": {},
     "output_type": "display_data"
    },
    {
     "name": "stdout",
     "output_type": "stream",
     "text": [
      "None\n",
      "sampling tweets for entity Georgia (ambiguity count 245)\n",
      "got 321 matching tweets\n"
     ]
    },
    {
     "data": {
      "text/markdown": [
       "\n",
       "- #irma/O #florida/O Just/O imagine/O if/O #**Georgia/B-ENTITY** and/O #Alabama/O built/O a/O wall/O\n",
       "- Many/O **Georgia/B-ENTITY** schools/O have/O closed/O ahead/O of/O #HurricaneIrma/O --/O here/O is/O a/O list/O :/O http:///O 2wsb/O ./O tv/2gP8YPd/O #StormWatchOn2/O pic.twitter.com/juL7GOspHh/O\n",
       "- \"/O #Irma/O Pinoy/Pinay/FilAm/Filipinx/O sa/O Florida/**Georgia/B-ENTITY** at/O mga/O may/O kakilala/O ,/O subaybayan/O :/O emergency/O mgt/O accts/O sa/O @Twitter/O https:///O twitter.com/TwitterGov/lis/O ts/emergency-management/O …/O \"/O\n",
       "- Evacuated/O Florida/B-ENTITY ./O In/O **Georgia/B-ENTITY** now/O ./O Attempting/O to/O go/O to/O Indiana/B-ENTITY where/O family/O has/O a/O cabin/O ./O Scared/O of/O what/O #HurricaneIrma/O will/O bring/O ./O\n",
       "- #Irma/O #USA/O ./O A/O friend/O of/O mine/O left/O Miami/B-ENTITY about/O 7/O pm/O on/O Thursday/O and/O reached/O her/O destination/O in/O **Georgia/B-ENTITY** after/O 10/O am/O .../O http:///O fb/O ./O me/8yyG4Xo62/O\n",
       "- Cuba/B-ENTITY and/O **Georgia/B-ENTITY** too/O #irma/O pic.twitter.com/mtoi84T0NI/O\n",
       "- 5pm/O #Irma/O update/O :/O Coastal/O **Georgia/B-ENTITY** and/O lower/O half/O of/O Coastal/B-ENTITY SC/I-ENTITY under/O a/O Tropical/O Storm/O Warning/O ./O http:///O ihe/O ./O art/Hyel2KO/O\n",
       "- \"/O Augusta/B-ENTITY University/I-ENTITY ,/O including/O the/O Dental/O College/O of/O **Georgia/B-ENTITY** and/O East/B-ENTITY Georgia/I-ENTITY State/I-ENTITY College/I-ENTITY Augusta/I-ENTITY ,/O will/O close/O Monday/O ,/O Sept/O ./O 11/O ./O #IrmaCSRA/O \"/O\n",
       "- RT/O RyanMaue/O :/O Winds/O in/O Atlanta/B-ENTITY and/O much/O of/O **Georgia/B-ENTITY** from/O Hurricane/B-ENTITY #Irma/O will/O be/O extreme/O for/O inland/O locations/O not/O used/O to/O such/O gusts/O pic.twitter.com/GVWyH1w3Fc/O\n",
       "- More/O than/O 130/O KY/O electric/O co-op/O linemen/O are/O in/O **Georgia/B-ENTITY** helping/O with/O #Irma/O recovery/O (/O via/O @KentuckyLiving/O )/O #WeAreKY/O 💡…/O https://t.co/9kPkmwYM3Q/O"
      ],
      "text/plain": [
       "<IPython.core.display.Markdown object>"
      ]
     },
     "metadata": {},
     "output_type": "display_data"
    },
    {
     "name": "stdout",
     "output_type": "stream",
     "text": [
      "None\n",
      "sampling tweets for entity Texas (ambiguity count 226)\n",
      "got 1798 matching tweets\n"
     ]
    },
    {
     "data": {
      "text/markdown": [
       "\n",
       "- RT/O @wes00181358/O :/O **Texas/B-ENTITY** Love/O !/O https://t.co/KgODhVbqJB#TexasStrong/O #Texas/O #TexasFlood/O #TexasForever/O #HurricaneHarvey/O #Flood…/O\n",
       "- RT/O @iowa_trump/O :/O Good/O morning/O 🇺🇸❤️Praying/O for/O **Texas/B-ENTITY** and/O Louisiana/B-ENTITY #HarveyFlood/O #ThursdayThoughts/O #DayOfGiving#Houston/O https://t.co/TMm…/O\n",
       "- FRIDAY/O NIGHT/O LIGHTS/O :/O West/O **Texas/B-ENTITY** rivals/O Abilene/B-ENTITY &/O Midland/B-ENTITY Lee/I-ENTITY come/O together/O to/O play/O Amazing/B-ENTITY Grace/I-ENTITY to/O honor/O #Houston/B-ENTITY #Harvey/O (/O via/O @BCHsports/O )/O pic.twitter.com/3H7rdZ9j2P/O\n",
       "- RT/O @RoseAnnDeMoro/O :/O VA/O Nurse/O &amp;/O NNU/O leader/O in/O pic/O is/O in/O **Texas/B-ENTITY** volunteering/O through/O NNU/O helping/O #HurricaneHarvey/O ./O ❤️❤️/O https://t.co/11HuSBVKCw/O\n",
       "- RT/O @AntonioArellano/O :/O **Texas/B-ENTITY** officials/O :/O Hurricane/O shelters/O won’t/O ask/O immigration/O status/O https://t.co/GXWDsTqdzX/O #HurricaneHarvey/O https://t.co…/O\n",
       "- RT/O @TRConsulHouston/O :/O 🇹🇷/O Turks/O in/O **Texas/B-ENTITY** care/O 👏/O Turkish-Americans/O continue/O helping/O those/O who/O were/O affected/O by/O #Harvey/O 🙏/O https://t.co/rGiLYV2v…/O\n",
       "- \"/O #Harvey/O affected/O **Texas/B-ENTITY** areas/O :/O how/O did/O voting/O for/O climate/O change/O denying/O fools/O ,/O Rick/B-ENTITY Perry/I-ENTITY &amp;/O Greg/B-ENTITY Abbott/I-ENTITY ,/O work/O out/O ?/O https://t.co/tyIs7THfVF/O \"/O\n",
       "- RT/O @James_E_White/O :/O TX/B-ENTITY OAG/O warns/O **Texas/B-ENTITY** about/O #Harvey/O relief/O scams/O https://t.co/yhBGuGHAoJ/O\n",
       "- \"/O RT/O @PatrickSvitek/O :/O The/O White/B-ENTITY House/I-ENTITY says/O Trump/B-ENTITY will/O travel/O to/O **Texas/B-ENTITY** on/O Tuesday/O ,/O per/O pool/O ./O #Harvey/O https://t.co/OogJcCoKjT/O \"/O\n",
       "- PHOTOS/O :/O Let/O 's/O not/O forget/O #Harvey/O !!/O Our/O latest/O pics/O from/O **Texas/B-ENTITY** recovery/O ./O More/O in/O this/O album/O :/O https://www/O ./O facebook.com/CatholicNewsSe/O rvice/posts/10154687903275723/O …/O (/O CNS/Bob/O Roller/O )/O pic.twitter.com/HzhjuEbj5G/O"
      ],
      "text/plain": [
       "<IPython.core.display.Markdown object>"
      ]
     },
     "metadata": {},
     "output_type": "display_data"
    },
    {
     "name": "stdout",
     "output_type": "stream",
     "text": [
      "None\n",
      "sampling tweets for entity America (ambiguity count 209)\n",
      "got 212 matching tweets\n"
     ]
    },
    {
     "data": {
      "text/markdown": [
       "\n",
       "- \"/O Getting/O ready/O to/O take/O on/O #Irma/O head-on/O ./O If/O anything/O should/O happen/O to/O me/O ,/O all/O I/O ask/O is/O for/O **America/B-ENTITY** to/O support/O @realDonaldTrump/O to/O MAGA/B-ENTITY .\"/O\n",
       "- RT/O @USATOpinion/O :/O LOOK/O :/O #HurricaneHarvey/O shows/O **America/B-ENTITY** at/O its/O best/O ./O https://t.co/P48p0hK6eO/O https://t.co/L1TkKAkSnQ/O\n",
       "- RT/O @JesusIsComing_2/O :/O #HurricaneHarvey/O **America/B-ENTITY** please/O listen/O to/O Him/O https://t.co/KPjlTkYzPk/O\n",
       "- \"/O RT/O @TrumpSuperPAC/O :/O TRUMP/B-ENTITY has/O already/O made/O **America/B-ENTITY** great/O again/O ,/O but/O will/O the/O lying/O traitors/O in/O mainstream/O media/O report/O it/O ?/O #HarveyHeroes/O htt…/O \"/O\n",
       "- **America/B-ENTITY** is/O pictured/O in/O #HoustonStrong/O ./O Caring/O for/O others/O despite/O ANY/O differences/O ./O #HurricaneHarveyRelief/O\n",
       "- https://www/O ./O youtube.com/watch?v=YRxCy3/O r2CmQ&sns=tw/O …/O via/O @youtube/O ./O Senator/B-ENTITY Paul/I-ENTITY speech/O on/O urging/O colleagues/O to/O vote/O for/O **America/B-ENTITY** First/O #Harvey/O #Irma/O\n",
       "- North/B-ENTITY Korea/I-ENTITY :/O We/O will/O kill/O you/O **America/B-ENTITY** with/O missles/O !/O Be/O afraid/O Irma/B-ENTITY :/O Hold/O my/O beer/O ./O Watch/O this/O shit/O ./O #HurricaneIrma/O\n",
       "- RT/O @Vet_Report/O :/O This/O is/O what/O **America/B-ENTITY** looks/O like/O ./O If/O anyone/O deserves/O honor/O and/O respect/O it/O 's/O this/O man/O ./O RIP/O sir/O ./O #IGotYour6/O #Harvey…/O\n",
       "- RT/O @HaikuVikingGal/O :/O #HurricaneHarvey/O is/O uniting/O citizens/O ./O A/O weather/O event/O is/O making/O **America/B-ENTITY** great/O again/O ./O Trump/B-ENTITY must/O be/O seething/O ./O\n",
       "- Chasing/O a/O tropical/O storm/O back/O to/O **America/B-ENTITY** on/O a/O cruise/O ship/O sounds/O fun/O right/O ?/O #Harvey/O"
      ],
      "text/plain": [
       "<IPython.core.display.Markdown object>"
      ]
     },
     "metadata": {},
     "output_type": "display_data"
    },
    {
     "name": "stdout",
     "output_type": "stream",
     "text": [
      "None\n",
      "sampling tweets for entity SC (ambiguity count 205)\n",
      "got 120 matching tweets\n"
     ]
    },
    {
     "data": {
      "text/markdown": [
       "\n",
       "- \"/O #HurricaneIrma/O **SC/B-ENTITY** update/O :/O All/O NBSC/Synovus/O branches/O in/O Charleston/B-ENTITY will/O be/O closed/O thru/O Mon/O .,/O 9/11/O ./O https://www/O ./O synovus.com/hurricane-irma/O ?/O utm_source=twitter/O …/O \"/O\n",
       "- Guess/O I/O didn’t/O give/O an/O update/O recently/O .../O we/O are/O spending/O the/O night/O in/O **SC/B-ENTITY** thanks/O to/O a/O friend/O ./O Feeling/O grateful/O ./O #irma/O\n",
       "- **SC/B-ENTITY** leaders/O were/O noticeably/O relieved/O at/O a/O press/O conference/O Saturday/O http://www/O ./O thestate.com/news/politics-/O government/article172278227/O ./O html/O …/O #thestate/O #sctweets/O #irma/O\n",
       "- Another/O friend/O from/O TN/B-ENTITY was/O gonna/O take/O a/O trip/O to/O **SC/B-ENTITY** but/O she/O canceled/O because/O of/O #Irma/O ./O But/O now/O it/O seems/O like/O she/O should've/O taken/O the/O trip/O .../O\n",
       "- Things/O are/O slightly/O looking/O better/O for/O **SC/B-ENTITY** throughout/O today/O with/O #irma/O track/O shifting/O West/O ./O Still/O impacts/O need/O to/O be/O ironed/O out/O ./O #scwx/O\n",
       "- \"/O Our/O thoughts/O and/O prayers/O go/O out/O to/O our/O friends/O and/O family/O in/O Florida/B-ENTITY ./O Myrtle/B-ENTITY Beach/I-ENTITY ,/O **SC/B-ENTITY** is/O a/O safe/O haven/O ./O #hurricaneirma/O #allarewelcome/O pic.twitter.com/UqJinroUM3/O \"/O\n",
       "- **SC/B-ENTITY** Alerts/O #scwx/O #Irma/O Charleston/B-ENTITY County/I-ENTITY :/O Trop/O Storm/O Watch/O Beaufort/B-ENTITY Colleton/I-ENTITY Jasper/I-ENTITY :/O Hurricane/O Watch/O https:///O twitter.com/track_irma/sta/O tus/906568171792080897/O …/O\n",
       "- \"/O States/O of/O emergency/O in/O Florida/B-ENTITY ,/O Georgia/B-ENTITY ,/O **SC/B-ENTITY** as/O Hurricane/B-ENTITY Irma/I-ENTITY lashes/O Puerto/B-ENTITY Rico/I-ENTITY #HurricaneIrma/O #Florida…/O https://t.co/xaAVOALPgz/O \"/O\n",
       "- RT/O @LindsayRileyWx/O :/O Models/O keeping/O #Irma/O just/O of/O east/O coast/O of/O FL/B-ENTITY ./O FL/B-ENTITY will/O still/O see/O hurricane/O force/O winds/O Sunday/O ./O GA/O &amp;/O **SC/B-ENTITY** on/O alert/O !/O https/O :/O …/O\n",
       "- One/O of/O our/O trees/O in/O the/O backyard/O is/O bent/O as/O hell/O ./O The/O fact/O that/O we/O are/O inland/O in/O **SC/B-ENTITY** shows/O how/O much/O damage/O can/O happen/O #HurricaneIrma/O"
      ],
      "text/plain": [
       "<IPython.core.display.Markdown object>"
      ]
     },
     "metadata": {},
     "output_type": "display_data"
    },
    {
     "name": "stdout",
     "output_type": "stream",
     "text": [
      "None\n",
      "sampling tweets for entity Irma (ambiguity count 196)\n",
      "got 2795 matching tweets\n"
     ]
    },
    {
     "data": {
      "text/markdown": [
       "\n",
       "- Hurricanes/B-ENTITY Harvey/I-ENTITY and/O **Irma/B-ENTITY** demand/O a/O Dutch/O approach/O http://www/O ./O amsterdam-water-science/O ./O nl/shared-content/O /news/news/2017/09/hurricanes-harvey-and-irma-ask-for-a-dutch-approach/O ./O html/O …/O #irma/O #harvey/O @VU_Science/O @Nieuwsuur/O\n",
       "- \"/O RT/O @Prime_Politics/O :/O NEW/O :/O Hurricane/O **Irma/B-ENTITY** Now/O a/O Category/O 3/O Storm/O ,/O According/O to/O National/B-ENTITY Hurricane/I-ENTITY Center/I-ENTITY #HurricaneIrma/O #Irma/O https://t.co/…/O \"/O\n",
       "- Hold/O up/O !/O **Irma/B-ENTITY** spelled/O backwards/O is/O Amri/O ./O It/O 's/O all/O coming/O together/O ./O #Mindblown/O #HurricaneIrma/O #ClimateChangeIsReal/O #StayWOKE/O @AmriiirmA/O\n",
       "- #HurricaneIrma/O #FortLauderdale/O beginning/O to/O feel/O tropical/O storm/O winds/O &/O **Irma/B-ENTITY** still/O by/O Cuba/B-ENTITY ./O https:///O youtu/O ./O be/evNA-XrxTjU/O\n",
       "- #HurricaneIrma/O on/O track/O to/O beat/O Hurricane/B-ENTITY Allen/I-ENTITY for/O strongest/O hurricane/O in/O the/O Atlantic/B-ENTITY ./O **Irma/B-ENTITY** is/O at/O 185/O mph/O ./O Allen/B-ENTITY was/O at/O 190/O mph/O #mcj2039/5/O\n",
       "- \"/O Impressive/O !/O \"\"/O This/O Delta/B-ENTITY flight/O raced/O **Irma/B-ENTITY** and/O won/O \"\"/O https://t.co/eIGgmpUoBh/O #Aviation/O #Irma/O #goosebumps/O \"/O\n",
       "- \"/O Before/O **Irma/B-ENTITY** hits/O ,/O we're/O hitting/O up/O Epcot/O !/O #hurricaneirma/O #irma/O #epcot/O #epcotfoodandwine/O …/O https://www/O ./O instagram.com/p/BY1KLOqhZmq//O \"/O\n",
       "- Video/O :/O El/O huracán/O **Irma/B-ENTITY** recupera/O la/O categoría/O 5/O tras/O llegar/O a/O Cuba/B-ENTITY http:///O bit/O ./O ly/2xW2YvP/O #Irma/O\n",
       "- Here/O 's/O to/O hoping/O Jose/B-ENTITY won't/O suddenly/O change/O his/O mind/O and/O decided/O to/O run/O after/O **Irma/B-ENTITY** again/O .../O #HurricaneJose/O #HurricaneIrma/O\n",
       "- RT/O @ChrisSuchanKCTV/O :/O 2/O major/O hurricanes/O ./O **Irma/B-ENTITY** 160mph/O winds/O &amp;/O Jose/B-ENTITY 120mph/O winds/O ./O #IrmaHurricane2017/O #Irma/O #Jose/O #flwx/O https://t.co/OVRTWfqI5u/O"
      ],
      "text/plain": [
       "<IPython.core.display.Markdown object>"
      ]
     },
     "metadata": {},
     "output_type": "display_data"
    },
    {
     "name": "stdout",
     "output_type": "stream",
     "text": [
      "None\n",
      "sampling tweets for entity Atlantic (ambiguity count 190)\n",
      "got 119 matching tweets\n"
     ]
    },
    {
     "data": {
      "text/markdown": [
       "\n",
       "- RT/O @FOX46News/O :/O BREAKING/O :/O #TropicalStormjose/O has/O formed/O in/O the/O **Atlantic/B-ENTITY** behind/O now/O Category/O 5/O #HurricaneIrma/O ./O DETAILS/O :/O …/O\n",
       "- RT/O @ClimateSignals/O :/O Multiple/O ways/O #climatechange/O amplifies/O damage/O done/O by/O #Irma/O -/O a/O full/O science/O run-down/O for/O **Atlantic/B-ENTITY** hurricanes/O here/O :/O …/O\n",
       "- \"/O Some/O of/O the/O warmest/O temperatures/O in/O the/O **Atlantic/B-ENTITY** sit/O between/O Cuba/B-ENTITY and/O Florida/B-ENTITY ,/O hovering/O ~85°/O #HurricaneIrma/O likely/O to/O strengthen/O pic.twitter.com/8eT71PtPmX/O \"/O\n",
       "- RT/O @philklotzbach/O :/O 2/O **Atlantic/B-ENTITY** hurricanes/O currently/O have/O winds/O of/O 150/O mph/O (#Irma/O and/O #Jose/O )/O -/O 1st/O time/O on/O record/O **Atlantic/B-ENTITY** has/O had/O 2/O 150…/O\n",
       "- RT/O NASA/O :/O RT/O NASA_SPoRT/O :/O The/O horizontal/O extent/O of/O this/O storm/O is/O staggering/O ./O Latest/O from/O NHC_**Atlantic/B-ENTITY** has/O #Irma/O mov…/O https:///O twitter.com/i/web/status/9/O 06307679882276864/O …/O\n",
       "- RT/O @POLITICO_Steve/O :/O More/O bad/O news/O :/O We/O now/O have/O Tropical/B-ENTITY Storm/I-ENTITY #Jose/O in/O the/O **Atlantic/B-ENTITY** behind/O #Irma/O ./O Expected/O to/O become/O a/O hurricane/O in/O 36-…/O\n",
       "- RT/O @rahmstorf/O :/O Three/O **Atlantic/B-ENTITY** hurricanes/O at/O once/O now/O !/O #Irma/O #Jose/O #Katia/O https://t.co/77OgOqxglF/O\n",
       "- \"/O RT/O @ReedTimmerAccu/O :/O Major/O storm/O surge/O over/O pier/O on/O **Atlantic/B-ENTITY** side/O of/O Key/B-ENTITY West/I-ENTITY ,/O FL/B-ENTITY ahead/O of/O Hurricane/O #Irma/O @breakingweather/O https://t.co/Doq…/O \"/O\n",
       "- \"/O RT/O @ReedTimmerAccu/O Major/O storm/O surge/O over/O pier/O ,/O **Atlantic/B-ENTITY** side/O of/O Key/B-ENTITY West/I-ENTITY ,/O ahead/O of/O Hurricane/B-ENTITY #Irma/O @breakingweather/O pic.twitter.com/FfvKn1O5GI/O \"/O\n",
       "- RT/O NASA_SPoRT/O :/O The/O horizontal/O extent/O of/O this/O storm/O is/O staggering/O ./O Latest/O from/O NHC_**Atlantic/B-ENTITY** has/O #Irma/O moving/O W12/O MP…/O https:///O twitter.com/i/web/status/9/O 06307679882276864/O …/O"
      ],
      "text/plain": [
       "<IPython.core.display.Markdown object>"
      ]
     },
     "metadata": {},
     "output_type": "display_data"
    },
    {
     "name": "stdout",
     "output_type": "stream",
     "text": [
      "None\n",
      "sampling tweets for entity Jose (ambiguity count 187)\n",
      "got 121 matching tweets\n"
     ]
    },
    {
     "data": {
      "text/markdown": [
       "\n",
       "- **Jose/B-ENTITY** bianco/O mostrando/O la/O previa/O de/O #Irma/O me/O esta/O haciendo/O el/O sábado/O\n",
       "- \"/O In/O case/O you/O missed/O it/O :/O #HurricaneIrma/O and/O her/O siblings/O ,/O **Jose/B-ENTITY** and/O Katia/O ./O #GetOut/O pic.twitter.com/AL2r2xxJC8/O \"/O\n",
       "- \"/O Prayers/O go/O out/O to/O everyone/O effected/O by/O hurricane/O Harvey/B-ENTITY ,/O Irma/B-ENTITY ,/O **Jose/B-ENTITY** and/O Katia/B-ENTITY #HurricaneIrma/O #Staysafe/O \"/O\n",
       "- I/O hope/O Irma/B-ENTITY and/O **Jose/B-ENTITY** are/O enough/O to/O make/O climate/O change/O FACT/O and/O not/O political/O #trump/O #russia/O #china/O #Irma/O #Florida/O\n",
       "- \"/O RT/O @MJVentrice/O :/O For/O the/O first/O time/O in/O their/O existance/O ,/O Major/B-ENTITY Hurricane/I-ENTITY #Jose/O is/O stronger/O than/O Major/B-ENTITY Hurricane/I-ENTITY #Irma/O ./O **Jose/B-ENTITY** at/O 145mph…/O \"/O\n",
       "- \"/O Increase/B-ENTITY category/O 4/O +/O 5/O #hurricanes/O due/O to/O #climatechange/O After/O #Harvey/O and/O strongest/O #Irma/O ,/O #**Jose/B-ENTITY** is/O next/O ./O https://www/O ./O theguardian.com/world/2017/sep/O /09/hurricane-jose-storm-almost-category-five-as-it-follows-irmas-destructive-path/O …/O \"/O\n",
       "- Let/O 's/O name/O the/O next/O hurricane/O **Jose/B-ENTITY** so/O Trump/B-ENTITY will/O actually/O do/O something/O about/O it/O and/O not/O cut/O funds/O from/O #FEMA/O #HurricaneIrma/O #fucktrump/O\n",
       "- \"/O Meanwhile/O as/O #Hurricane/O #Irma/O and/O #Jose/O begin/O to/O make/O landfall/O on/O American/B-ENTITY soil/O ,/O @realDonaldTrump/O &/O supporters/O just/O want/O **Jose/B-ENTITY** deported/O .\"/O\n",
       "- RT/O @AaronDiamantWSB/O :/O With/O all/O eyes/O on/O #Irma/O .../O this/O update/O on/O #**Jose/B-ENTITY** just/O minutes/O ago/O from/O @NHC_Atlantic/O 👇/O https://t.co/aybcwYk1Xs/O\n",
       "- \"/O La/O #Floride/O attend/O l'ouragan/O #Irma/O ,/O **Jose/B-ENTITY** menace/O les/O Antilles/O http:///O owl/O ./O li/Ejtz30f1GkV/O \"/O"
      ],
      "text/plain": [
       "<IPython.core.display.Markdown object>"
      ]
     },
     "metadata": {},
     "output_type": "display_data"
    },
    {
     "name": "stdout",
     "output_type": "stream",
     "text": [
      "None\n",
      "sampling tweets for entity Florida (ambiguity count 167)\n",
      "got 6597 matching tweets\n"
     ]
    },
    {
     "data": {
      "text/markdown": [
       "\n",
       "- @Schafernaker/O hey/O just/O saw/O my/O fave/O weatherman/O in/O **Florida/B-ENTITY** on/O #bbcnews/O Frightening/O times/O ./O Stay/O safe/O T/O #HurricaneIrma/O\n",
       "- \"/O Not/O a/O meteorologist/O but/O given/O the/O trend/O ,/O can/O see/O the/O core/O of/O #Irma/O totally/O missing/O the/O **Florida/B-ENTITY** peninsula/O .\"/O\n",
       "- \"/O RT/O @POWER104FM/O :/O **Florida/B-ENTITY** residents/O attempt/O to/O flee/O #HurricaneIrma/O ,/O the/O state/O is/O experiencing/O massive/O traffic/O jams/O “All/O Floridians/O be…/O \"/O\n",
       "- **Florida/B-ENTITY** erwartet/O #Irma/O ./O Mittendrin/O die/O Schweizerin/O Maria/B-ENTITY von/O Atzigen/O ./O https://www/O ./O tagesanzeiger/O ./O ch/news/standard//O Ich-weiss-dass-der-Wind-mein-Auto-wegtragen-koennte/story/29813268/O ?/O utm_source=twitter&utm_campaign=Ed_Social_Post&utm_medium=Ed_Post_TA/O …/O\n",
       "- \"/O The/O people/O who/O are/O staying/O in/O **Florida/B-ENTITY** are/O breaking/O my/O heart/O ./O No/O ,/O this/O NOT/O just/O another/O storm/O ./O #HurricaneIrma/O \"/O\n",
       "- Governador/O da/O **Florida/B-ENTITY** dizendo/O que/O quando/O a/O tempestade/O chegar/O ninguém/O estará/O a/O salvo/O e/O que/O não/O haverá/O forças/O da/O lei/O para/O ajudar/O .../O #irma/O\n",
       "- \"/O RT/O @ABC/O :/O Currently/O ,/O there/O are/O more/O than/O 200,000/O people/O in/O **Florida/B-ENTITY** without/O power/O due/O to/O Hurricane/O #Irma/O ./O https://t.co/0MAQ45jzlG/O \"/O\n",
       "- MUCH/O less/O air/O traffic/O over/O the/O state/O of/O **Florida/B-ENTITY** as/O the/O first/O outer/O band/O of/O #HurricaneIrma/O approaches/O #Miami/O &/O FL/B-ENTITY Keys/I-ENTITY with/O 40-45/O gusts/O ./O pic.twitter.com/N3OgVNCsSb/O\n",
       "- \"/O RT/O @ABC/O :/O Eerie/O scene/O in/O Key/B-ENTITY Largo/I-ENTITY ,/O **Florida/B-ENTITY** as/O ocean/O recedes/O amid/O Hurricane/O #Irma/O ,/O leaving/O boat/O sitting/O on/O dry/O land…/O \"/O\n",
       "- RT/O @hurrtrackerapp/O :/O The/O updated/O cone/O now/O takes/O Hurricane/O #Irma/O through/O **Florida/B-ENTITY** and/O into/O parts/O of/O Georgia/B-ENTITY and/O South/B-ENTITY Carolina/I-ENTITY ./O https://t.co/o…/O"
      ],
      "text/plain": [
       "<IPython.core.display.Markdown object>"
      ]
     },
     "metadata": {},
     "output_type": "display_data"
    },
    {
     "name": "stdout",
     "output_type": "stream",
     "text": [
      "None\n",
      "sampling tweets for entity U.S. (ambiguity count 151)\n",
      "got 133 matching tweets\n"
     ]
    },
    {
     "data": {
      "text/markdown": [
       "\n",
       "- NHC/O has/O begun/O issuing/O hourly/O updates/O on/O Hurricane/B-ENTITY #Irma/O ./O These/O will/O continue/O until/O the/O eye/O is/O no/O longer/O visible/O on/O **U.S./B-ENTITY** Doppler/O Radar/O ./O –/O bei/O Joint/B-ENTITY Base/I-ENTITY Pearl/I-ENTITY Harbor-Hickam/I-ENTITY\n",
       "- RT/O @NASAGoddardPix/O :/O #HurricaneHarvey/O could/O be/O the/O strongest/O to/O hit/O the/O **U.S./B-ENTITY** in/O more/O than/O a/O decade/O when/O it/O reaches/O the/O Texas/B-ENTITY coast/O Frida…/O\n",
       "- RT/O @StateDept/O :/O Local/O numbers/O for/O emergency/O services/O and/O info/O for/O **U.S./B-ENTITY** citizens/O in/O areas/O affected/O by/O #HurricaneIrma/O overseas/O :/O …/O\n",
       "- 5.6/O mil/O Americans/O have/O been/O told/O to/O flee/O #Irma/O ./O This/O is/O by/O far/O the/O largest/O mass/O movement/O of/O people/O in/O **U.S./B-ENTITY** history/O ./O #climatechangerefugees/O\n",
       "- \"/O RT/O @DeptofDefense/O :/O First/O responders/O ,/O #military/O ,/O and/O federal/O agencies/O from/O across/O the/O **U.S./B-ENTITY** assist/O #Harvey/O victims/O ./O See/O the/O impact/O here/O :/O …/O \"/O\n",
       "- RT/O @weatherchannel/O :/O Why/O the/O Hurricane/O #Irma/O Forecast/O for/O the/O **U.S./B-ENTITY** Is/O Still/O Uncertain/O and/O Difficult/O :/O https://t.co/YP6ZlfMfSX/O https://t.co/bW…/O\n",
       "- \"/O RT/O @VSPVisionCare/O :/O **U.S./B-ENTITY** Disaster/O Outreach/O :/O If/O you/O lost/O or/O broke/O your/O glasses/O due/O to/O #HurricaneHarvey/O or/O #HurricaneIrma/O ,/O we/O can/O help/O ./O …/O \"/O\n",
       "- RT/O @philklotzbach/O :/O #Irma/O has/O made/O landfall/O in/O FL/B-ENTITY Keys/I-ENTITY as/O a/O Cat/O ./O 4/O -/O 1st/O year/O on/O record/O that/O **U.S./B-ENTITY** has/O had/O 2/O Cat/O ./O 4+/O #hurricane/O landfall…/O\n",
       "- Retweeted/O ABC/B-ENTITY News/I-ENTITY (/O @ABC/O )/O :/O We’re/O tracking/O Hurricane/O #Irma/O as/O it/O makes/O its/O way/O toward/O the/O **U.S./B-ENTITY** Live/O radar/O :.../O http:///O fb/O ./O me/zzN6Sa6x/O\n",
       "- RT/O @StateDept/O :/O Local/O numbers/O for/O emergency/O services/O and/O information/O for/O **U.S./B-ENTITY** citizens/O abroad/O in/O areas/O affected/O by/O #HurricaneIrma/O :/O …/O"
      ],
      "text/plain": [
       "<IPython.core.display.Markdown object>"
      ]
     },
     "metadata": {},
     "output_type": "display_data"
    },
    {
     "name": "stdout",
     "output_type": "stream",
     "text": [
      "None\n",
      "sampling tweets for entity Houston (ambiguity count 138)\n",
      "got 1447 matching tweets\n"
     ]
    },
    {
     "data": {
      "text/markdown": [
       "\n",
       "- RT/O @MikeHudema/O :/O 19/O TRILLION/O GALLONS/O of/O water/O fell/O on/O **Houston/B-ENTITY** during/O #HurricaneHarvey/O ./O That/O 's/O not/O normal/O ./O https://t.co/f33lVUuatw…/O\n",
       "- RT/O @AaronWBIR/O :/O Standing/O by/O at/O Dallas/B-ENTITY Love/I-ENTITY Field/I-ENTITY for/O the/O first/O flights/O from/O Hobby/B-ENTITY airport/O in/O **Houston/B-ENTITY** to/O Dallas/B-ENTITY since/O #Harvey/O ./O …/O\n",
       "- RT/O @ChronFalkenberg/O :/O Why/O didn't/O **Houston/B-ENTITY** evacuate/O for/O #Harvey/O ?/O Let/O me/O break/O it/O down/O :/O EPIC/O TRAFFIC/O +/O EPIC/O FLOODING/O =/O EPIC/O DEATH…/O\n",
       "- \"/O RT/O @life0ff/O :/O SOS/B-ENTITY !/O MANY/O people/O &amp;/O BABIES/O in/O need/O of/O rescue/O ASAP/O !/O @/O Riviera/B-ENTITY Pine/I-ENTITY Apt/I-ENTITY .,/O 555/O NORMANDY/B-ENTITY STREET/I-ENTITY ,/O **Houston/B-ENTITY** 77015/O #HarveySOS/O @HarveyRe…/O \"/O\n",
       "- RT/O @carolynsave/O :/O The/O needs/O of/O kids/O in/O crisis/O are/O big/O ..../O we/O are/O still/O working/O with/O children/O in/O #**Houston/B-ENTITY** and/O now/O preparing/O for/O #Irma/O https://…/O\n",
       "- #crybully/O @CNNValencia/O making/O the/O #Harvey/O story/O about/O him/O ./O We/O are/O under/O water/O in/O #**Houston/B-ENTITY** and/O precious/O gets…/O https://t.co/FLy0CvkgxE/O\n",
       "- \"/O RT/O @tmwinsett/O :/O @JoyAnnReid/O #Harvey/O If/O anyone/O needs/O water/O rescue/O in/O #**Houston/B-ENTITY** area/O ,/O shld/O contact/O @USCG/O ./O Answered/O me/O quickly/O when/O tryi…/O \"/O\n",
       "- First/O they/O were/O in/O #**Houston/B-ENTITY** now/O #Florida/O ./O #LAFD/O going/O above/O and/O beyond/O the/O call/O of/O duty/O ./O #Irma/O #HurricaneIrma/O #IrmaRelief/O #IrmaRescue/O https:///O twitter.com/ABC/status/906/O 633788679086081/O …/O\n",
       "- 1340/O Thanks/O @AmericanAir/O for/O a/O smooth/O ride/O on/O flight/O #TR1/O to/O #**Houston/B-ENTITY** for/O @TeamRubicon/O volunteers/O #Harvey/O pic.twitter.com/X1sdvcz1r8/O\n",
       "- National/O Trust/O and/O preservationists/O stand/O ready/O to/O help/O **Houston/B-ENTITY** bounce/O back/O from/O #HurricaneHarvey/O https://t.co/7sKRQqUnWn/O via/O @savingplaces/O"
      ],
      "text/plain": [
       "<IPython.core.display.Markdown object>"
      ]
     },
     "metadata": {},
     "output_type": "display_data"
    },
    {
     "name": "stdout",
     "output_type": "stream",
     "text": [
      "None\n",
      "sampling tweets for entity Atlanta (ambiguity count 123)\n",
      "got 131 matching tweets\n"
     ]
    },
    {
     "data": {
      "text/markdown": [
       "\n",
       "- RIGHT/O NOW/O @cbs46/O :/O @OssmannCBS46/O '/O s/O forecast/O and/O what/O metro/O **Atlanta/B-ENTITY** could/O see/O from/O #Irma/B-ENTITY ./O #cbs46Irma/O\n",
       "- So/O does/O the/O current/O trajectory/O mean/O it/O will/O be/O raining/O pythons/O in/O **Atlanta/B-ENTITY** on/O Monday/O ?/O #Irma/O\n",
       "- #Irma/O is/O expected/O to/O impact/O **Atlanta/B-ENTITY** on/O Monday/O morning/O w//O wind/O gusts/O up/O to/O 40-50/O mph/O &/O heavy/O rain/O ./O Here/O 's/O how/O to/O prepare/O :/O @ATLPreparedness/O pic.twitter.com/qgvjYXatmS/O\n",
       "- RT/O @RyanMaue/O :/O &gt;/O 20-million/O would/O see/O hurricane/O force/O wind/O gusts/O (/O &gt;/O 74/O mph/O )/O from/O Hurricane/B-ENTITY #Irma/O from/O Keys/Miami/B-ENTITY to/O **Atlanta/B-ENTITY** on/O the…/O\n",
       "- Made/O it/O to/O **Atlanta/B-ENTITY** from/O Jacksonville/B-ENTITY ./O Now/O it/O 's/O time/O to/O wait/O #Irma/O out/O and/O get/O back/O ASAP/O to/O access/O the/O damage/O ./O\n",
       "- My/O family/O is/O off/O to/O **Atlanta/B-ENTITY** this/O morning/O ./O I'm/O staying/O behind/O along/O with/O the/O @ActionNewsJax/O crew/O to/O provide/O you/O nonstop/O #irma/O coverage/O pic.twitter.com/CHVhX0cvpr/O\n",
       "- I/O was/O able/O to/O grab/O my/O friend/O and/O get/O out/O of/O FL/B-ENTITY ./O We/O made/O it/O to/O **Atlanta/B-ENTITY** and/O I/O want/O to/O go/O back/O to/O FL/B-ENTITY ./O JK/O !/O NYC/B-ENTITY here/O we/O come/O ./O #HurricaneIrma/O\n",
       "- Several/O **Atlanta/B-ENTITY** businesses/O &/O sports/O teams/O are/O offering/O discounts/O to/O #Irma/O evacuees/O ./O Click/O here/O :/O http:///O bit/O ./O ly/2wRB8QW/O @AtlantaMagazine/O\n",
       "- Amazing/O customer/O service/O @Delta/O -/O in/O just/O 15/O mins/O they/O changed/O my/O flight/O that/O was/O scheduled/O to/O depart/O through/O **Atlanta/B-ENTITY** early/O next/O week/O #Irma/O\n",
       "- These/O folks/O in/O **Atlanta/B-ENTITY** are/O going/O bonkers/O behind/O #Irma/O"
      ],
      "text/plain": [
       "<IPython.core.display.Markdown object>"
      ]
     },
     "metadata": {},
     "output_type": "display_data"
    },
    {
     "name": "stdout",
     "output_type": "stream",
     "text": [
      "None\n",
      "sampling tweets for entity God (ambiguity count 117)\n",
      "got 484 matching tweets\n"
     ]
    },
    {
     "data": {
      "text/markdown": [
       "\n",
       "- #IrmaHurricane2017/O ohh/O **God/B-ENTITY** give/O strength/O to/O pepole/O and/O be/O with/O them/O ../O #irma/O\n",
       "- RT/O @TheRealSouljen/O :/O Praying/O that/O **God/B-ENTITY** calms/O the/O storm🙏/O #HurricaneHarvey/O #PrayforTexas/O #PrayForHouston/O #PrayForLouisiana/O #PrayForGulfCoast/O\n",
       "- \"/O I/O hope/O #Irma/O disposes/O of/O this/O idiot/O ./O gues/O she/O is/O going/O to/O blame/O **God/B-ENTITY** for/O the/O fires/O in/O California/B-ENTITY \"\"/O hope/O she/O burns/O in/O hell/O \"\"/O #JenniferLawerence/O https:///O twitter.com/prageru/status/O /906237330247131136/O …/O \"/O\n",
       "- \"/O Job/O 36/O 21/O ./O Be/O on/O guard/O !/O Turn/O back/O from/O evil/O ,/O for/O **God/B-ENTITY** sent/O this/O suffering/O to/O keep/O you/O from/O a/O life/O of/O evil/O ./O #PrepareTheWay/O #HurricaneHarvey/O pic.twitter.com/rw3IP1qXBI/O \"/O\n",
       "- \"/O https:///O youtu/O ./O be/p4rRCjrAyCs/O **God/B-ENTITY** put/O a/O hedge/O of/O protection/O over/O each/O &/O every/O person/O ,/O animals/O ,/O workplaces/O &/O homes/O in/O the/O path/O of/O #HurricaneIrma/O I/O \"/O\n",
       "- #HurricaneIrma/O Hallelujah/O humans/O are/O weak/O before/O the/O power/O of/O **God/B-ENTITY** storms/O and/O earthquakes/O and/O hurricanes/O all/O of/O the/O soldiers/O of/O God/O\n",
       "- The/O **God/B-ENTITY** i/O know/O is/O so/O much/O bigger/O than/O #Irma/O .../O #Girlbye/O !/O\n",
       "- \"/O **God/B-ENTITY** has/O authority/O over/O #HurricaneIrma/O ,/O as/O well/O as/O all/O the/O storms/O we/O face/O in/O this/O broken/O world/O ./O Thank/O you/O @MaxLucado/O http://www/O ./O foxnews.com/opinion/2017/0/O 9/08/max-lucado-hurricane-irma-is-coming-where-is-god/O ./O html/O …/O \"/O\n",
       "- \"/O RT/O @KingAbdullahll/O :/O @IvankaTrump/O Sincerely/O love/O you/O Ante/O ,/O and/O pray/O to/O **God/B-ENTITY** to/O protect/O people/O from/O typhoon/O ./O #HurricaneIrma#King/O ✨/O \"/O\n",
       "- RT/O @josmanhda/O :/O Be/O safe/O #Florida/O !/O **God/B-ENTITY** is/O with/O U#HurricaneIrma/O https://t.co/CvYDMAHmd5/O"
      ],
      "text/plain": [
       "<IPython.core.display.Markdown object>"
      ]
     },
     "metadata": {},
     "output_type": "display_data"
    },
    {
     "name": "stdout",
     "output_type": "stream",
     "text": [
      "None\n",
      "sampling tweets for entity Miami (ambiguity count 117)\n",
      "got 1786 matching tweets\n"
     ]
    },
    {
     "data": {
      "text/markdown": [
       "\n",
       "- RT/O @WFLAJosh/O :/O Roof/O of/O a/O home/O in/O #**Miami/B-ENTITY** coast/O being/O ripped/O off/O by/O powerful/O #HurricaneIrma/O winds/O ./O Terrifying/O stuff/O ./O These/O winds/O are…/O\n",
       "- Hurricane/O #Irma/O :/O Flamingos/B-ENTITY at/O **Miami/B-ENTITY** zoo/O moved/O to/O safety/O http://www/O ./O bbc.co.uk/news/world-us-/O canada-41212623/O …/O @BBCNews/O\n",
       "- \"/O **Miami/B-ENTITY** y/O Broward/B-ENTITY Atención/I-ENTITY :/O a/O pesar/O de/O q/O #Irma/O se/O ha/O movido/O un/O poco/O hacia/O el/O oeste/O de/O la/O FL/O ,/O aviso/O de/O huracán/O continúa/O para/O toda/O FL/O ./O Atentos/O pic.twitter.com/Y8Vzxt5HGI/O \"/O\n",
       "- \"/O Now/O 10%/O chance/O wind/O losses/O from/O #Irma/O >$70B/O ./O \"\"/O Focus/O shifted/O from/O **Miami/B-ENTITY** to/O Tampa/B-ENTITY \"\"/O -/O @TSabbatelli_RMS/O via/O http:///O bit/O ./O ly/2vMHSya/O #RMSonIRMA/O pic.twitter.com/6Bvn3HlM07/O \"/O\n",
       "- SPECIAL/O LIVE/O coverage/O of/O #HurricaneIrma/O from/O our/O sister/O station/O in/O **Miami/B-ENTITY** available/O locally/O on/O KKSF/B-ENTITY 910/O now/O ./O http:///O ihe/O ./O art/BnBe0n5/O\n",
       "- \"/O #Irma/O still/O 225/O miles/O south/O of/O **Miami/B-ENTITY** and/O already/O 25,000/O people/O without/O power/O in/O Miami-Dade/B-ENTITY county/I-ENTITY ./O Winds/O gusting/O 50+/O mph/O .\"/O\n",
       "- RT/O @GMA/O :/O WATCH/O :/O **Miami/B-ENTITY** battered/O by/O Hurricane/O #Irma/O ;/O monster/O storm/O leaves/O parts/O of/O the/O city/O underwater/O :/O https://t.co/V37dSvjnW3/O https://t.co/…/O\n",
       "- \"/O RT/O MiamiWeatherNow/O \"\"/O It/O 's/O 83F/O in/O #**Miami/B-ENTITY** with/O rain/O in/O the/O area/O &amp;/O winds/O at/O E/O 21.92/O mph/O #Irma/O https://t.co/YdDi1Zm6Lr/O https://t.co/0ekFQLUA5o/O \"/O\n",
       "- #Irma/O empezando/O a/O cubrir/O **Miami/B-ENTITY** con/O sus/O aspas/O ./O #IrmaHurricane2017/O\n",
       "- \"/O #irma_infoQuébec/O #Irma/O :/O ville/O fantôme/O battue/O par/O les/O vents/O ,/O **Miami/B-ENTITY** attend/O l'ouragan./O pic.twitter.com/N4jCK17c6S/O \"/O"
      ],
      "text/plain": [
       "<IPython.core.display.Markdown object>"
      ]
     },
     "metadata": {},
     "output_type": "display_data"
    },
    {
     "name": "stdout",
     "output_type": "stream",
     "text": [
      "None\n"
     ]
    }
   ],
   "source": [
    "from IPython.display import display, Markdown\n",
    "import re\n",
    "pd.np.random.seed(123)\n",
    "top_k = 20\n",
    "ambiguous_entity_sample = entity_counts_capped.sort_values(inplace=False, ascending=False).index.tolist()[:top_k]\n",
    "print(entity_counts_capped.loc[ambiguous_entity_sample])\n",
    "tweet_entity_txt_file = '../../data/mined_tweets/#Irma,#Harvey,#HurricaneIrma,#HurricaneHarvey_combined_data_txt_ner.tsv'\n",
    "tweet_entity_txt = [l.strip().replace('\\n', '') for l in open(tweet_entity_txt_file, 'r')]\n",
    "tweet_entity_txt = list(set(tweet_entity_txt))\n",
    "sample_size = 10\n",
    "make_bold = lambda x: '**%s**'%(x)\n",
    "for sample_entity in ambiguous_entity_sample:\n",
    "    print('sampling tweets for entity %s (ambiguity count %d)'%(sample_entity, entity_counts_capped.loc[sample_entity]))\n",
    "    sample_entity_tokens = sample_entity.split(' ')\n",
    "    entity_str = []\n",
    "    for i, t in enumerate(sample_entity_tokens):\n",
    "        if(i == 0):\n",
    "            prefix = 'B'\n",
    "        else:\n",
    "            prefix = 'I'\n",
    "        entity_str.append('%s/%s-ENTITY'%(t, prefix))\n",
    "    entity_str = ' '.join(entity_str)\n",
    "    # add buffer: we accept an entity only if \n",
    "    # it's not a sub-set of another entity, i.e. \n",
    "    # (1) at the end of a tweet or (2) followed by a non-entity\n",
    "    # or new entity\n",
    "    entity_str = '%s(?= \\w+/[OB])|%s$'%(entity_str, entity_str)\n",
    "    entity_matcher = re.compile(entity_str)\n",
    "    matching_tweets = filter(lambda x: len(entity_matcher.findall(x)) > 0, tweet_entity_txt)\n",
    "    print('got %d matching tweets'%(len(matching_tweets)))\n",
    "    if(len(matching_tweets) > sample_size):\n",
    "        matching_tweets = pd.np.random.choice(matching_tweets, size=sample_size, replace=False)\n",
    "#     print('\\n'.join(matching_tweets))\n",
    "    # highlight matching entities in bold\n",
    "    # and return-line separated\n",
    "    print(display(Markdown(''.join(map(lambda x: '\\n- %s'%(x), \n",
    "                                 [entity_matcher.sub(make_bold(entity_matcher.findall(t)[0]), t) \n",
    "                                  for t in matching_tweets])))))"
   ]
  },
  {
   "cell_type": "markdown",
   "metadata": {},
   "source": [
    "At first glance, most of these tweets seem to refer to the most obvious entity.\n",
    "\n",
    "Can we just count how many of these tweets contain an ambiguous entity? Is that allowed??"
   ]
  },
  {
   "cell_type": "markdown",
   "metadata": {
    "collapsed": true
   },
   "source": [
    "\\* indicates that searching DBPedia for the original entity string redirects to the specified entity name (e.g., searching for \"Orlando\" redirects to \"Orlando, FL\").\n",
    "\n",
    "**Andrew**:\n",
    "\n",
    "- Hurricane ~: 10\n",
    "\n",
    "**Austin**:\n",
    "\n",
    "- ~, TX\\*: 10\n",
    "\n",
    "**Orlando**:\n",
    "\n",
    "- ~, FL\\*: 10\n",
    "\n",
    "**Harvey**:\n",
    "\n",
    "- Hurricane ~: 10\n",
    "\n",
    "**Hurricane**:\n",
    "\n",
    "- specific ~: 5\n",
    "- generic ~: 5\n",
    "\n",
    "**Tropical Storm**:\n",
    "\n",
    "- part of name: 1 \n",
    "- generic ~: 9\n",
    "\n",
    "**Georgia**:\n",
    "\n",
    "- state of ~\\*: 9\n",
    "- Dental College of ~: 1\n",
    "\n",
    "**Texas**:\n",
    "\n",
    "- state of ~\\*: 9\n",
    "- West ~ University: 1 \n",
    "\n",
    "**America**:\n",
    "\n",
    "- country of ~\\*: 10\n",
    "\n",
    "**SC**:\n",
    "\n",
    "- South Carolina: 10\n",
    "\n",
    "**Irma**:\n",
    "\n",
    "- Hurricane ~: 9\n",
    "- name: 1 \n",
    "\n",
    "**Atlantic**:\n",
    "\n",
    "- ~ Ocean\\*: 10\n",
    "\n",
    "**Jose**:\n",
    "\n",
    "- Hurricane ~: 10\n",
    "\n",
    "**Florida**:\n",
    "\n",
    "- state of ~\\*: 10\n",
    "\n",
    "**U.S.**:\n",
    "\n",
    "- country of ~\\*: 10\n",
    "\n",
    "**Houston**:\n",
    "\n",
    "- city of ~\\*: 10\n",
    "\n",
    "**Atlanta**:\n",
    "\n",
    "- city of ~\\*: 10\n",
    "\n",
    "**God**:\n",
    "\n",
    "- ~\\*: 10\n",
    "\n",
    "**Miami**:\n",
    "\n",
    "- city of ~\\*: 10"
   ]
  },
  {
   "cell_type": "markdown",
   "metadata": {},
   "source": [
    "On the whole it looks like most of the entity references in the tweets refer to the most common entity: the string \"Miami\" always refers to the city which is the page that a user is redirected to when querying DBPedia."
   ]
  },
  {
   "cell_type": "markdown",
   "metadata": {},
   "source": [
    "What if we use less common entities as the sample strings? This might trigger more ambiguity."
   ]
  },
  {
   "cell_type": "code",
   "execution_count": 273,
   "metadata": {
    "collapsed": false
   },
   "outputs": [
    {
     "name": "stdout",
     "output_type": "stream",
     "text": [
      "Haiti            16\n",
      "GA               14\n",
      "South Florida    14\n",
      "Red Cross        12\n",
      "TX               12\n",
      "dtype: int64\n",
      "FL          20\n",
      "Sarasota    20\n",
      "Bahamas     19\n",
      "Key West    18\n",
      "Twitter     17\n",
      "dtype: int64\n"
     ]
    }
   ],
   "source": [
    "entity_count_median = entity_counts_capped.sort_values(inplace=False, ascending=False).median()\n",
    "print(entity_counts_capped[entity_counts_capped < entity_count_median][:5])\n",
    "print(entity_counts_capped[entity_counts_capped >= entity_count_median][-5:])"
   ]
  },
  {
   "cell_type": "code",
   "execution_count": 281,
   "metadata": {
    "collapsed": false
   },
   "outputs": [
    {
     "name": "stdout",
     "output_type": "stream",
     "text": [
      "Caribbean                 115\n",
      "Katrina                   102\n",
      "Alabama                   101\n",
      "Ohio                       97\n",
      "Louisiana                  93\n",
      "Gulf                       77\n",
      "Mexico                     73\n",
      "Cuba                       73\n",
      "Charleston                 63\n",
      "Jacksonville               62\n",
      "British Virgin Islands     40\n",
      "Trump                      34\n",
      "CNN                        32\n",
      "Puerto Rico                31\n",
      "Tampa                      31\n",
      "Naples                     31\n",
      "Tampa Bay                  26\n",
      "Facebook                   26\n",
      "Corpus Christi             24\n",
      "St Martin                  24\n",
      "florida                    24\n",
      "Rockport                   23\n",
      "Saint Martin               21\n",
      "FL                         20\n",
      "Sarasota                   20\n",
      "dtype: int64\n",
      "sampling tweets for entity Caribbean (ambiguity count 115)\n",
      "got 167 matching tweets\n"
     ]
    },
    {
     "data": {
      "text/markdown": [
       "\n",
       "- \"/O RT/O @CNN/O :/O **Caribbean/B-ENTITY** islands/O are/O accustomed/O to/O storm/O season/O ,/O but/O #HurricaneIrma/O has/O plenty/O of/O residents/O worried/O https://t.co/ZgwYTwS2fH/O #Irma/O \"/O\n",
       "- RT/O @casthompson/O :/O .../O Verizon/B-ENTITY customers/O connect/O with/O friends/O and/O family/O in/O the/O **Caribbean/B-ENTITY** for/O free/O #Irma/O #IamVZ/O https://t.co/RiRaSKCJGT/O https…/O\n",
       "- @RoyalCaribbean/O &/O @CruiseNorwegian/O THANK/O YOU/O for/O sending/O ships/O to/O the/O **Caribbean/B-ENTITY** for/O relief/O and/O evacuation/O !!!/O #HurricaneIrma/O #USVI/O #VIStrong/O\n",
       "- Cuba/B-ENTITY helping/O the/O **Caribbean/B-ENTITY** islands/O more/O than/O other/O countries/O ./O #HurricaneIrma/O https:///O twitter.com/josejumarti/st/O atus/906245187785121797/O …/O\n",
       "- WSBTV/O reports/O RT/O ABC/B-ENTITY :/O LATEST/O :/O At/O least/O 3/O people/O have/O died/O due/O to/O Hurricane/O #Irma/O in/O the/O **Caribbean/B-ENTITY** and/O several/O more…/O https://t.co/aolzgFsaaR/O\n",
       "- RT/O @StratSentinel/O :/O The/O @RoyalAirForce/O is/O conducting/O #HurricaneIrma/O relief/O in/O the/O **Caribbean/B-ENTITY** with/O the/O use/O of/O their/O A400Ms/O https://t.co/PJ1HGK…/O\n",
       "- Retweeted/O L.A./B-ENTITY Times/I-ENTITY World/I-ENTITY (/O @latimesworld/O )/O :/O Massive/O relief/O needed/O in/O **Caribbean/B-ENTITY** after/O #Irma/O ;/O #Jose/O en/O .../O http:///O fb/O ./O me/2kDhyt9ew/O\n",
       "- BREAKING/O :/O Hurricane/O #Irma/O makes/O landfall/O in/O **Caribbean/B-ENTITY** islands/O\n",
       "- #Irma/O Cuba/B-ENTITY sends/O hundreds/O of/O doctors/O to/O **Caribbean/B-ENTITY** islands/O devastated/O by/O hurricane/O http://www/O ./O independent.co.uk/news/world/ame/O ricas/irma-hurrican-cuba-doctors-carribbean-islands-sends-hundreds-castro-a7938171/O ./O html/O ?/O cmpid=facebook-post/O …/O\n",
       "- \"/O Our/O thoughts/O &/O love/O go/O out/O 2/O the/O people/O of/O #Cuba/O tonight/O &/O those/O in/O the/O **Caribbean/B-ENTITY** that/O are/O at/O #HurricaneIrma/O '/O s/O mercy/O ./O Keep/O safe/O ,/O stay/O strong/O pic.twitter.com/ZFE4Icp0BB/O \"/O"
      ],
      "text/plain": [
       "<IPython.core.display.Markdown object>"
      ]
     },
     "metadata": {},
     "output_type": "display_data"
    },
    {
     "name": "stdout",
     "output_type": "stream",
     "text": [
      "sampling tweets for entity Katrina (ambiguity count 102)\n",
      "got 103 matching tweets\n"
     ]
    },
    {
     "data": {
      "text/markdown": [
       "\n",
       "- Listened/O to/O @weatherchannel/O #Irma/O coverage/O on/O Sirius/B-ENTITY ./O Last/O time/O I/O listened/O to/O storm/O coverage/O like/O this/O :/O **Katrina/B-ENTITY** on/O a/O drive/O home/O from/O UMich/B-ENTITY\n",
       "- RT/O @brianmrosenthal/O :/O Houston/B-ENTITY hospitals/O have/O learned/O from/O **Katrina/B-ENTITY** but/O are/O still/O struggling/O with/O #Harvey/O ./O Read/O this/O from/O expert/O @SheriFink/O :/O h…/O\n",
       "- \"/O #Irma/O trending/O west/O .../O hope/O Western/B-ENTITY FL/I-ENTITY panhandle/O ,/O AL/B-ENTITY ,/O MS/B-ENTITY have/O battened/O down/O their/O own/O hatches/O ./O **Katrina/B-ENTITY** surprised/O everyone/O ./O pic.twitter.com/ButeKrUewj/O \"/O\n",
       "- Peut/O être/O que/O le/O duo/O #Irma/O -/O #Jose/O sera/O le/O **Katrina/B-ENTITY** de/O Macron/O .../O #SaintMartin/O #SaintBarthelemy/O\n",
       "- RT/O @denvermattress/O :/O Houston/B-ENTITY update/O from/O our/O partner/O :/O @WorldVisionUSA/O **Katrina/B-ENTITY** responders/O from/O Puget/B-ENTITY Sound/I-ENTITY headed/O to/O #Harvey/O ./O https://t.co/tk…/O\n",
       "- \"/O This/O makes/O me/O happy/O ./O **Katrina/B-ENTITY** taught/O us/O all/O how/O not/O to/O do/O things/O ./O Now/O ,/O lets/O pray/O that/O we/O can/O save/O as/O many/O as/O possible/O from/O #Irma/O ./O https:///O twitter.com/texasmonthly/s/O tatus/906218077813125121/O …/O \"/O\n",
       "- RT/O @THE_CURE_4_U/O :/O #HurricaneIrma/O It/O is/O announced/O :/O #Harvey/O was/O a/O category/O 4/O and/O #**Katrina/B-ENTITY** and/O Andrew/B-ENTITY were/O a/O category/O 5/O ./O Irma/B-ENTITY now/O is/O st…/O\n",
       "- \"/O RT/O @Gemenne/O :/O Lors/O de/O **Katrina/B-ENTITY** il/O y/O a/O 12/O ans/O ,/O beaucoup/O de/O migrants/O sans-papiers/O n'avaient/O pas/O osé/O évacuer/O à/O cause/O de/O cela/O ./O #Harvey/O https://t.…/O \"/O\n",
       "- A/O disaster/O food/O aid/O program/O deployed/O after/O **Katrina/B-ENTITY** and/O Sandy/B-ENTITY has/O yet/O to/O be/O approved/O in/O Texas/B-ENTITY ./O https://www/O ./O texasobserver.org/still-no-deal-/O between-state-and-feds-on-disaster-food-aid-for-harvey-victims//O …/O #harvey/O pic.twitter.com/EgA3hK5fMK/O\n",
       "- Life/O After/O the/O Storm/O :/O Children/O Who/O Survived/O Hurricane/O **Katrina/B-ENTITY** Offer/O Lessons/O https:///O nyti/O ./O ms/2eTvWYk/O #HurricaneIrma/O"
      ],
      "text/plain": [
       "<IPython.core.display.Markdown object>"
      ]
     },
     "metadata": {},
     "output_type": "display_data"
    },
    {
     "name": "stdout",
     "output_type": "stream",
     "text": [
      "sampling tweets for entity Alabama (ambiguity count 101)\n",
      "got 82 matching tweets\n"
     ]
    },
    {
     "data": {
      "text/markdown": [
       "\n",
       "- IN/O CASE/O YOU/O ARE/O WORRIED/O ABOUT/O (/O FARM/O )/O ANIMALS/O WITH/O #IRMA/O ON/O HER/O WAY/O :/O Livestock/O shelters/O open/O in/O **Alabama/B-ENTITY** ahead/O of/O Irma/B-ENTITY http:///O s.al.com/EMfM1tJ/O pic.twitter.com/WcPq0mWmC4/O\n",
       "- #floridafierce/O Stay/O together/O with/O your/O family/O and/O stay/O safe/O !!/O **Alabama/B-ENTITY** prayers/O are/O with/O you/O !!/O #HurricaneIrma/O\n",
       "- \"/O #Irma/O is/O expected/O to/O bring/O dangerous/O wind/O impacts/O to/O much/O of/O Florida/B-ENTITY ,/O along/O with/O portions/O of/O Georgia/B-ENTITY ,/O **Alabama/B-ENTITY** and/O …/O https:///O twitter.com/i/web/status/9/O 06631092488298501/O …/O \"/O\n",
       "- Church/O of/O Christ/O in/O **Alabama/B-ENTITY** plans/O to/O help/O about/O two/O dozen/O #Irma/O evacuees/O http:///O wrbl.com/2017/09/08/aub/O urn-families-open-homes-to-irma-evacuees//O …/O @CofCnews/O\n",
       "- \"/O #Irma/O I/O never/O saw/O a/O Hurricane/O before/O ,/O I/O left/O the/O golf/O shore/O of/O **Alabama/B-ENTITY** 1/O week/O before/O Katrina/B-ENTITY !/O But/O I/O did/O see/O what/O was/O left/O after/O Andrew/B-ENTITY !\"/O\n",
       "- We'll/O be/O ready/O to/O help/O pick/O up/O the/O pieces/O where/O ever/O #Irma/O goes/O !/O **Alabama/B-ENTITY** helps/O their/O neighbors/O !/O #ALSEN/O #alpolitics/O\n",
       "- \"/O And/O we/O go/O live/O to/O Dothan/B-ENTITY ,/O **Alabama/B-ENTITY** where/O they/O are/O expecting/O 30-50/O mph/O winds/O and/O 2-3/O \"\"/O of/O rain/O ...\"\"/O #Irma/O #IrmaHurricane2017/O pic.twitter.com/XrtEbomEww/O \"/O\n",
       "- Making/O the/O drive/O to/O **Alabama/B-ENTITY** to/O escape/O #HurricaneIrma/O was/O made/O better/O by/O the/O songs/O of/O @thelumineers/O and/O @headandtheheart/O ./O #PrayForFlorida/O\n",
       "- **Alabama/B-ENTITY** Game/O Got/O Cancelled/O Today/O .../O What/O Is/O Life/O ??/O #HurricaneIrma/O\n",
       "- \"/O Colorado/B-ENTITY 's/O Bravest/O Heading/O to/O **Alabama/B-ENTITY** to/O Prepare/O for/O Hurricane/B-ENTITY Irma#CSFD/I-ENTITY ,/O #COTF1/O #HurricaineHarvey/O #HurricaneIrma/O https://t.co/YwaE2Y3YmP/O \"/O"
      ],
      "text/plain": [
       "<IPython.core.display.Markdown object>"
      ]
     },
     "metadata": {},
     "output_type": "display_data"
    },
    {
     "name": "stdout",
     "output_type": "stream",
     "text": [
      "sampling tweets for entity Ohio (ambiguity count 97)\n",
      "got 22 matching tweets\n"
     ]
    },
    {
     "data": {
      "text/markdown": [
       "\n",
       "- Our/O home/O in/O **Ohio/B-ENTITY** is/O open/O to/O anyone/O needing/O to/O evacuate/O from/O Florida/B-ENTITY or/O other/O southern/O state/O #Irma/O #prayingforflorida/O #ohiowelcomesyou/O\n",
       "- \"/O And/O I/O show/O up/O to/O see/O my/O uncle/O and/O his/O fiancé/O ,/O safe/O and/O sound/O and/O hunkered/O down/O in/O **Ohio/B-ENTITY** until/O #Irma/O goes/O away/O \"/O\n",
       "- RT/O @JohnKasich/O :/O **Ohio/B-ENTITY** Task/O Force/O 1/O is/O in/O Texas/B-ENTITY assisting/O in/O rescue/O &amp;/O relief/O efforts/O for/O #HurricaneHarvey/O ./O You/O can/O help/O too/O :/O …/O\n",
       "- Also/O the/O fact/O that/O #Irma/O was/O literally/O the/O size/O of/O **Ohio/B-ENTITY** at/O one/O point/O makes/O me/O question/O the/O meaning/O of/O life/O and/O everything/O which/O exists/O\n",
       "- **Ohio/B-ENTITY** sending/O down/O 3K/O Natl/B-ENTITY Guard/I-ENTITY says/O reporter/O at/O @FLGovScott/O presser/O #Irma/O @wmfeorlando/O\n",
       "- @ohheyitsAfaye/O I/O might/O head/O to/O **Ohio/B-ENTITY** after/O #Irma/B-ENTITY is/O over/O ./O Would/O you/O let/O me/O stay/O with/O you/O ?/O\n",
       "- Lourdes/B-ENTITY and/O **Ohio/B-ENTITY** students/O are/O helping/O Texas/B-ENTITY students/O recover/O items/O they/O may/O have/O lost/O in/O #HurricaneHarvey/O with/O .../O http:///O fb/O ./O me/3OGLvGQE0/O\n",
       "- Think/O **Ohio/B-ENTITY** is/O spared/O from/O Hurricane/B-ENTITY Harvey/I-ENTITY ?/O Think/O again/O ./O https://t.co/x5Sjr0gsRx/O #Ohio/O #Harvey2017/O https://t.co/xKdrWsXHBe/O\n",
       "- #Irma/O -/O A/O category/O 5/O storm/O the/O size/O of/O **Ohio/B-ENTITY** could/O very/O well/O top/O 50/O billion/O dollars/O in/O damage/O ./O Andrew/B-ENTITY was/O 1/2/O the/O size/O &/O killed/O 65/O people/O ./O\n",
       "- \"/O The/O plane/O we/O are/O taking/O to/O Columbus/B-ENTITY ,/O **Ohio/B-ENTITY** right/O now/O brought/O in/O only/O 13/O people/O to/O Orlando/B-ENTITY today/O ./O @TheDCLBlog/O #Irma/O #HurricanIrma/O \"/O"
      ],
      "text/plain": [
       "<IPython.core.display.Markdown object>"
      ]
     },
     "metadata": {},
     "output_type": "display_data"
    },
    {
     "name": "stdout",
     "output_type": "stream",
     "text": [
      "sampling tweets for entity Louisiana (ambiguity count 93)\n",
      "got 114 matching tweets\n"
     ]
    },
    {
     "data": {
      "text/markdown": [
       "\n",
       "- Reuters/O :/O RT/O ReutersUS/O :/O MORE/O :/O #Harvey/O is/O moving/O up/O the/O Texas/B-ENTITY coast/O toward/O **Louisiana/B-ENTITY** over/O the/O next/O five/O days/O -/O Natio…/O https://t.co/yIyvM4w2Es/O\n",
       "- RT/O @SylviaCarignan/O :/O There/O are/O a/O couple/O dozen/O Superfund/O sites/O in/O #HurricaneHarvey/O 's/O path/O ./O Here/O 's/O a/O map/O of/O Texas/B-ENTITY and/O **Louisiana/B-ENTITY** sites/O :/O https/O ://O …/O\n",
       "- RT/O @TheNCUA/O :/O We/O are/O providing/O help/O to/O #creditunions/O &amp;/O their/O members/O in/O parts/O of/O Texas/B-ENTITY &amp;/O **Louisiana/B-ENTITY** struck/O by/O #HurricaneHarvey/O https://t.co/6…/O\n",
       "- RT/O @weatherchannel/O :/O #Harvey/B-ENTITY movement/O will/O be/O very/O slow/O bringing/O flooding/O rains/O for/O Texas/B-ENTITY and/O **Louisiana/B-ENTITY** into/O next/O week/O ./O Stick/O with…/O\n",
       "- \"/O RT/O @FoxNews/O :/O **Louisiana/B-ENTITY** braces/O for/O #Harvey/O ,/O threat/O of/O Katrina-like/O flooding/O https://t.co/mnm4euWVNv/O via/O @LukasMikelionis/O \"/O\n",
       "- \"/O RT/O @KevinWAFB/O :/O ./O @LouisianaGov/O says/O more/O than/O 1,000/O people/O sheltered/O in/O **Louisiana/B-ENTITY** last/O night/O ./O Nearly/O 900/O of/O them/O were/O Texas/B-ENTITY #Harvey/O @WAFB/O \"/O\n",
       "- \"/O RT/O @TulsiPress/O :/O Texas/B-ENTITY &amp;/O **Louisiana/B-ENTITY** residents/O ,/O please/O stay/O safe/O &amp;/O follow/O guidance/O from/O @fema/O &amp;/O local/O authorities/O as/O #HurricaneHarvey/O response…/O \"/O\n",
       "- #HurricaneHarvey/O will/O slam/O into/O Texas/B-ENTITY &amp;/O **Louisiana/B-ENTITY** tomorrow/O ./O First/O major/O hurricane/O to/O make/O landfall/O in/O the/O USA/O since…/O https://t.co/UbTZBvZQf4/O\n",
       "- RT/O @USATODAY/O :/O Tropical/B-ENTITY Depression/I-ENTITY #Harvey/I-ENTITY is/O forecast/O to/O roar/O into/O the/O Texas/B-ENTITY or/O **Louisiana/B-ENTITY** coast/O as/O a/O hurricane/O later/O this/O week/O ./O https://t.c…/O\n",
       "- Flash/O flooding/O could/O be/O a/O problem/O for/O millions/O today/O as/O #Harvey/O moves/O through/O northern/O **Louisiana/B-ENTITY** and/O Arkansas…/O https://t.co/d4e46FSNB2/O"
      ],
      "text/plain": [
       "<IPython.core.display.Markdown object>"
      ]
     },
     "metadata": {},
     "output_type": "display_data"
    },
    {
     "name": "stdout",
     "output_type": "stream",
     "text": [
      "sampling tweets for entity Gulf (ambiguity count 77)\n",
      "got 61 matching tweets\n"
     ]
    },
    {
     "data": {
      "text/markdown": [
       "\n",
       "- RT/O @AltRockyNPS/O :/O #Harvey/O formed/O in/O the/O Gulf/B-ENTITY of/I-ENTITY Mexico/I-ENTITY ./O Water/O surface/O temperatures/O in/O the/O **Gulf/B-ENTITY** exceeded/O 73°F/O for/O the/O entire/O winter/O season/O ./O\n",
       "- RT/O @ReedTimmerAccu/O :/O KEY/B-ENTITY WEST/I-ENTITY Duval/I-ENTITY St/O and/O **Gulf/B-ENTITY** of/O Mexico/B-ENTITY with/O Hurricane/B-ENTITY #Irma/O about/O 90/O miles/O away/O @breakingweather/O https://t.co/O2rrWN7jbv/O\n",
       "- \"/O RT/O @abc13houston/O :/O 20,000/O cruise/O ship/O passengers/O stranded/O in/O **Gulf/B-ENTITY** due/O to/O #HurricaneHarvey/O https://t.co/YEILQ9abGA/O https://t.co/7H4Qu216PV/O \"/O\n",
       "- and/O some/O #Irma/O surge/O is/O predicted/O up/O and/O down/O the/O state/O 's/O Atlantic/O and/O **Gulf/B-ENTITY** coasts/O ./O https://www/O ./O cbsnews.com/news/hurricane/O -irma-track-path-forecast-florida-landfall-live-updates//O …/O\n",
       "- @CNN/O people/O live/O on/O west/O coast/O too/O ./O More/O reporting/O from/O the/O **Gulf/B-ENTITY** coast/O please/O ./O We're/O going/O to/O get/O it/O now/O and/O most/O didn't/O evacuate/O ./O #Irma/O\n",
       "- \"/O Sorry/O West/B-ENTITY Coast/I-ENTITY ,/O hope/O this/O goes/O to/O the/O **Gulf/B-ENTITY** stay/O safe/O #HurricaneIrma/O #southflorida/O pic.twitter.com/mtseXIpUgI/O \"/O\n",
       "- \"/O Some/O people/O wonder/O if/O \"\"/O God/O \"\"/O could/O be/O cruel/O enough/O to/O intensify/O #HurricaneIrma/O and/O make/O it/O veer/O into/O the/O **Gulf/B-ENTITY** toward/O New/B-ENTITY Orleans/I-ENTITY ./O God/O forbid/O ?\"/O\n",
       "- Interesting/O scenario/O if/O elongated/O ridge/O w-/O e/O axis/O sets/O up/O north/O of/O #irma/O across/O **Gulf/B-ENTITY** cc/O :/O @NWSNHC/O\n",
       "- \"/O If/O @fema/O would/O have/O just/O enlisted/O @1jordanbell/O to/O block/O #HurricaneHarvey/O ./O Stay/O safe/O Victoria/B-ENTITY ,/O Rockport/B-ENTITY ,/O and/O all/O **Gulf/B-ENTITY** cities/O ./O @warriors/O \"/O\n",
       "- Cuba/B-ENTITY lashed/O with/O #Irma/O ./O #Florida/O '/O s/O **Gulf/B-ENTITY** coast/O now/O expected/O to/O bear/O brunt/O of/O storm/O on/O Sunday/O ./O #Hurricane/O pic.twitter.com/wIRoajzxme/O"
      ],
      "text/plain": [
       "<IPython.core.display.Markdown object>"
      ]
     },
     "metadata": {},
     "output_type": "display_data"
    },
    {
     "name": "stdout",
     "output_type": "stream",
     "text": [
      "sampling tweets for entity Mexico (ambiguity count 73)\n",
      "got 173 matching tweets\n"
     ]
    },
    {
     "data": {
      "text/markdown": [
       "\n",
       "- Thinking/O of/O the/O people/O of/O **Mexico/B-ENTITY** after/O the/O earthquake/O ./O Thinking/O of/O people/O of/O Houston/B-ENTITY &/O Texas/B-ENTITY after/O Harvey/B-ENTITY ./O #MexicoEarthquake/O #Harvey/O\n",
       "- RT/O @Reuters/O :/O -/O **Mexico/B-ENTITY** reels/O from/O earthquake-/O #Irma/B-ENTITY devastates/I-ENTITY Caribbean/I-ENTITY -/O Equifax/O reveals/O data/O breachFriday/O Morning/O Briefing/O :/O …/O\n",
       "- \"/O Not/O only/O are/O there/O three/O hurricanes/O out/O in/O the/O Atlantic/B-ENTITY ,/O but/O there/O 's/O one/O off/O the/O coast/O of/O **Mexico/B-ENTITY** and/O California/B-ENTITY ./O Stay/O safe/O everyone/O !!/O #Irma/O \"/O\n",
       "- \"/O RT/O @NBCNightlyNews/O :/O Texas/B-ENTITY Gov/I-ENTITY ./I-ENTITY Abbott/I-ENTITY :/O **Mexico/B-ENTITY** has/O offered/O to/O provide/O resources/O to/O assist/O with/O #Harvey/B-ENTITY disaster/O ,/O if/O needed/O .\"/O\n",
       "- \"/O Hope/O as/O many/O ppl/O in/O the/O Caribbean/B-ENTITY ,/O **Mexico/B-ENTITY** and/O USA/B-ENTITY emerge/O unscathed/O as/O possible/O ./O #Irma/O looks/O devastating/O ../O https:///O twitter.com/WilliamsJon/st/O atus/906368107437891585/O …/O \"/O\n",
       "- BREAKING/O :/O #HurricaneIrma/O upgraded/O to/O a/O category/O 5/O storm/O and/O #HurricaneKatia/O makes/O landfall/O in/O **Mexico/B-ENTITY** as/O a/O category/O 1/O with/O winds/O of/O 75mph/O ./O\n",
       "- \"/O Our/O thoughts/O are/O with/O Cuba/B-ENTITY right/O now/O who/O are/O getting/O hammered/O by/O #Irma/O ,/O they/O are/O with/O **Mexico/B-ENTITY** due/O to/O the/O quake/O and/O Katia/B-ENTITY ./O Our/O thoughts/O \"/O\n",
       "- Thoughts/O and/O prayers/O to/O our/O friends/O and/O family/O in/O **Mexico/B-ENTITY** after/O the/O earthquake/O and/O all/O in/O the/O path/O of/O #Irma/O #PrayForMexico/O\n",
       "- \"/O Praying/O for/O #HurricaneHarvey/O #HurricaineIrma/O and/O #HurricaneJose/O victims/O ,/O also/O the/O earthquake/O in/O **Mexico/B-ENTITY** and/O flooding/O in/O Asia/B-ENTITY victims/O .\"/O\n",
       "- My/O thoughts/O to/O those/O people/O who/O were/O in/O the/O 8.1/O #earthquake/O in/O **Mexico/B-ENTITY** and/O all/O in/O the/O path/O of/O #HurricaneIrma/O en/O USa/O ./O Keep/O the/O prayers/O for/O you/O"
      ],
      "text/plain": [
       "<IPython.core.display.Markdown object>"
      ]
     },
     "metadata": {},
     "output_type": "display_data"
    },
    {
     "name": "stdout",
     "output_type": "stream",
     "text": [
      "sampling tweets for entity Cuba (ambiguity count 73)\n",
      "got 2587 matching tweets\n"
     ]
    },
    {
     "data": {
      "text/markdown": [
       "\n",
       "- Hurricane/B-ENTITY Irma/I-ENTITY :/O **Cuba/B-ENTITY** hit/O with/O strong/O winds/O and/O heavy/O rain/O #HurricaneIrma/O #hurricaneirma2017/O #cuba/O http://www/O ./O bbc.co.uk/news/world-lat/O in-america-41210865/O …/O\n",
       "- Please/O say/O a/O prayer/O for/O everyone/O in/O **Cuba/B-ENTITY** and/O Florida/B-ENTITY being/O affected/O by/O #HurricaneIrma/O my/O heart/O is/O heavy/O tonight/O ./O\n",
       "- #GOES16/O captured/O this/O geocolor/O animation/O of/O #Irma/O near/O the/O north/O coast/O of/O **Cuba/B-ENTITY** this/O morning/O ./O https:///O twitter.com/i/videos/tweet/O /906494640827793408/O ?/O &autoplay=1/O …/O pic.twitter.com/2LhIU30fpn/O\n",
       "- Retweeted/B-ENTITY teleSUR/I-ENTITY English/I-ENTITY (/O @telesurenglish/O )/O :/O **Cuba/B-ENTITY** demonstrates/O extensive/O preparation/O for/O #HurricaneIrma/O as/O the/O .../O http:///O fb/O ./O me/1iUikKmSX/O\n",
       "- Last/O few/O satellite/O frames/O along/O w//O radar/O data/O show/O stall/O ./O #Irma/O appears/O ready/O for/O maximum/O impact/O on/O **Cuba/B-ENTITY** coastline/O then/O FL/B-ENTITY ./O :(/O #flwx/O pic.twitter.com/BZK4ogblzT/O\n",
       "- #Irma/O making/O landfall/O on/O the/O camaguey/O archipelago/O of/O **Cuba/B-ENTITY** as/O a/O category/O 5/O hurricane/O https:///O stormpulse.com/major-hurrican/O e-irma//O …/O pic.twitter.com/CsydVsYghP/O\n",
       "- #Irma/O sigue/O en/O cat/O 4/O pero/O merece/O serlo/O ?/O Se/O esta/O desvaneciendo/O en/O **Cuba/B-ENTITY** y/O ya/O no/O pronostican/O que/O aumente/O a/O cat/O 5/O ./O El/O desvio/O a/O **Cuba/B-ENTITY** lo/O debilito/O\n",
       "- \"/O I've/O always/O had/O great/O respect/O for/O the/O people/O of/O **Cuba/B-ENTITY** and/O thank/O #BarackObama/O for/O reopening/O relations/O ./O If/O not/O a/O stay/O home/O Father/O ,/O #Irma/O bound/O !\"/O\n",
       "- #Irma/O now/O a/O Category/O 4/O hurricane/O as/O it/O batters/O **Cuba/B-ENTITY** and/O makes/O a/O turn/O for/O the/O Florida/B-ENTITY Keys/I-ENTITY http:///O ihe/O ./O art/fdgx4II/O\n",
       "- Nassau/B-ENTITY has/O dodged/O #Irma/O (/O New/B-ENTITY Prov/I-ENTITY is/O the/O small/O blob/O in/O centre/O to/O east/O of/O Andros)/B-ENTITY ./O Thoughts/O are/O with/O people/O in/O **Cuba/B-ENTITY** and/O Key/B-ENTITY West/I-ENTITY :/O pic.twitter.com/QhrjYLTYyL/O"
      ],
      "text/plain": [
       "<IPython.core.display.Markdown object>"
      ]
     },
     "metadata": {},
     "output_type": "display_data"
    },
    {
     "name": "stdout",
     "output_type": "stream",
     "text": [
      "sampling tweets for entity Charleston (ambiguity count 63)\n",
      "got 50 matching tweets\n"
     ]
    },
    {
     "data": {
      "text/markdown": [
       "\n",
       "- Latest/O :/O Hurricane/O watch/O Ga/O border/O to/O Colleton/B-ENTITY Cty/I-ENTITY ./O Tropical/O storm/O watch/O in/O Charleston/B-ENTITY Cty/I-ENTITY ./O Storm/O surge/O watch/O **Charleston/B-ENTITY** to/O Ga/B-ENTITY border/I-ENTITY ./O #Irma/O pic.twitter.com/E7AemPGUtA/O\n",
       "- \"/O Ok/O ,/O #Irma/O ,/O now/O you've/O got/O me/O mad/O !/O My/O favorite/O **Charleston/B-ENTITY** rum/O bar/O boarded/O and/O bagged/O !/O pic.twitter.com/K3Y5aaEmQ7/O \"/O\n",
       "- **Charleston/B-ENTITY** carriage/O horses/O being/O moved/O because/O of/O #Irma/O #chsnews/O https:///O twitter.com/wbtvgoodnews/s/O tatus/906225199397392386/O …/O\n",
       "- Welp/O ./O **Charleston/B-ENTITY** is/O being/O evacuated/O ahead/O of/O #HurricaneIrma/O ./O Still/O waiting/O for/O #USNavy/O decision/O on/O what/O Nuke/O .../O https://t.co/pdXcTZ3DHn/O\n",
       "- \"/O Dear/O #Irma/O You/O have/O done/O enough/O already/O !/O So/O please/O leave/O Savannah/B-ENTITY and/O **Charleston/B-ENTITY** alone/O !/O Thank/O you/O ,/O Lover/O of/O all/O things/O Southern/O \"/O\n",
       "- Explained/O :/O What/O **Charleston/B-ENTITY** can/O expect/O from/O wind/O and/O flooding/O through/O Monday/O http:///O bit/O ./O ly/2xWhMKD/O via/O @chswx/O #chsnews/O #Irma/O pic.twitter.com/ycU0tKf7Xw/O\n",
       "- RT/O @GraceyWeather/O :/O Flooding/O in/O downtown/O **Charleston/B-ENTITY** an/O hour/O after/O high/O tide/O ..../O #Irma/O is/O still/O nearly/O 700/O miles/O away/O ./O #chswx/O https://t.co/WA…/O\n",
       "- What/O to/O expect/O in/O #**Charleston/B-ENTITY** over/O the/O next/O few/O days/O #Irma/O http://www/O ./O postandcourier.com/news/what-the-/O charleston-area-can-expect-from-wind-and-flooding/article_f74eabec-956b-11e7-b3e9-aba30dad8c9b/O ./O html/O …/O\n",
       "- \"/O RT/O @scegnews/O :/O 8/O p.m./O :/O About/O 17,000/O power/O outages/O ,/O mostly/O in/O the/O Beaufort/B-ENTITY and/O **Charleston/B-ENTITY** areas/O ,/O down/O from/O a/O peak/O of/O 154,000/O on/O Monday/O ./O #Irma/O \"/O\n",
       "- \"/O The/O greatest/O impact/O here/O in/O **Charleston/B-ENTITY** will/O be/O WATER/O ./O Heavy/O rain/O ,/O storm/O surge/O will/O lead/O to/O coastal/O and/O inland/B-ENTITY flooding/O ./O #chswx/O #irma/O pic.twitter.com/LhVyZYXJEr/O \"/O"
      ],
      "text/plain": [
       "<IPython.core.display.Markdown object>"
      ]
     },
     "metadata": {},
     "output_type": "display_data"
    },
    {
     "name": "stdout",
     "output_type": "stream",
     "text": [
      "sampling tweets for entity Jacksonville (ambiguity count 62)\n",
      "got 72 matching tweets\n"
     ]
    },
    {
     "data": {
      "text/markdown": [
       "\n",
       "- Pray/O for/O my/O cousins/O out/O in/O **Jacksonville/B-ENTITY** this/O weekend/O ./O They/O work/O as/O a/O nurse/O and/O firefighter/O and/O will/O be/O saving/O lives/O over/O the/O next/O week/O #Irma/O\n",
       "- RT/O @NHC_Atlantic/O :/O Flash/B-ENTITY Flood/I-ENTITY Emergency/I-ENTITY for/O downtown/O **Jacksonville/B-ENTITY** issued/O by/O **Jacksonville/B-ENTITY** WFO/O due/O to/O Hurricane/O #Irma/O https://t.co/akgVPC9bxO/O\n",
       "- RT/O @joshdcaplan/O :/O Floodwaters/O pour/O into/O **Jacksonville/B-ENTITY** as/O the/O tide/O continues/O to/O rise/O due/O to/O #HurricaneIrma/O ./O https://t.co/Sk09cxm3lW/O\n",
       "- RT/O @DeptofDefense/O :/O #Soldiers/O with/O the/O #FLGuard/O are/O going/O door/O to/O door/O in/O the/O **Jacksonville/B-ENTITY** area/O following/O #hurricaneirma/O ./O #Irma/O https://t.co…/O\n",
       "- RT/O @ABC/O :/O **Jacksonville/B-ENTITY** firefighters/O rescue/O a/O baby/O from/O a/O flooded/O home/O in/O the/O wake/O of/O Hurricane/O #Irma/O ./O https://t.co/6aljnKuls2/O https://t.co/c…/O\n",
       "- RT/O @conarck/O :/O Checking/O in/O on/O his/O neighbors/O ./O **Jacksonville/B-ENTITY** post/O #Irma/O https://t.co/jf99SgPCIN/O\n",
       "- Now/O @CNN/O is/O reporting/O that/O #HurricaneIrma/O may/O lead/O to/O more/O inches/O of/O rainfall/O (/O 10-11/O inches/O )/O in/O **Jacksonville/B-ENTITY** than/O rest/O of/O the/O state/O ?/O\n",
       "- We're/O off/O to/O **Jacksonville/B-ENTITY** and/O will/O continue/O to/O head/O north/O if/O #Irma/O surprises/O us/O again/O and/O shifts…/O https://www/O ./O instagram.com/p/BY0v7s3gSzm//O\n",
       "- RT/O @Breaking911/O :/O **Jacksonville/B-ENTITY** firefighters/O rescue/O a/O baby/O from/O a/O flooded/O home/O in/O the/O wake/O of/O Hurricane/O #Irma/O ./O https://t.co/o44IAFLV4G/O\n",
       "- \"/O With/O #Irma/O about/O to/O slam/O Florida/B-ENTITY ,/O @AmericanAir/O says/O operations/O will/O stop/O Saturday/O in/O Tampa/B-ENTITY ,/O **Jacksonville/B-ENTITY** in/O addition/O to/O Orlando/B-ENTITY \"/O"
      ],
      "text/plain": [
       "<IPython.core.display.Markdown object>"
      ]
     },
     "metadata": {},
     "output_type": "display_data"
    },
    {
     "name": "stdout",
     "output_type": "stream",
     "text": [
      "sampling tweets for entity British Virgin Islands (ambiguity count 40)\n",
      "got 51 matching tweets\n"
     ]
    },
    {
     "data": {
      "text/markdown": [
       "\n",
       "- UK/B-ENTITY police/O deployed/O to/O **British/B-ENTITY Virgin/I-ENTITY Islands/I-ENTITY** to/O help/O in/O Hurricane/B-ENTITY #Irma/O response/O ./O #BVI/O https://www/O ./O rt.com/uk/402649-uk-p/O olice-hurricane-irma//O …/O pic.twitter.com/nmUNbU3tR4/O\n",
       "- RT/O @AlBoeNEWS/O :/O #BREAKING/O :/O 100-120/O prisoners/O escaped/O from/O prison/O on/O the/O **British/B-ENTITY Virgin/I-ENTITY Islands/I-ENTITY** after/O being/O partially/O destroyed/O by/O #Irma/O\n",
       "- The/O **British/B-ENTITY Virgin/I-ENTITY Islands/I-ENTITY** are/O hopeful/O the/O taxpayer/O will/O foot/O the/O bill/O ./O #Irma/O #irony/O\n",
       "- RT/O @WellRoundedNews/O :/O RT/O BIUK/O :/O See/O the/O devastation/O caused/O by/O #HurricaneIrma/O in/O the/O **British/B-ENTITY Virgin/I-ENTITY Islands/I-ENTITY** as/O it/O makes/O its/O way/O towards/O #F…/O ht…/O\n",
       "- UK/B-ENTITY police/O deployed/O to/O **British/B-ENTITY Virgin/I-ENTITY Islands/I-ENTITY** to/O help/O in/O Hurricane/B-ENTITY #Irma/I-ENTITY Hurricane/I-ENTITY response/O -/O #MFANews/O https://www/O ./O rt.com/uk/402649-uk-p/O olice-hurricane-irma//O …/O\n",
       "- #HurricaneIrma/O **British/B-ENTITY Virgin/I-ENTITY Islands/I-ENTITY** and/O other/O islands/O need/O help/O ./O pic.twitter.com/DuotpsuTWp/O\n",
       "- RT/O @aliceudalesmith/O :/O This/O aerial/O footage/O shows/O what/O the/O **British/B-ENTITY Virgin/I-ENTITY Islands/I-ENTITY** looked/O like/O after/O #HurricaneIrma/O hit/O https://t.co/2EP8IirkpM/O\n",
       "- \"/O RT/O @tweertweet/O :/O Jeez/O .../O the/O reality/O of/O #HurricaneIrma/O is/O unreal/O This/O video/O shows/O the/O devastation/O on/O Tortola/B-ENTITY ,/O **British/B-ENTITY Virgin/I-ENTITY Islands/I-ENTITY** https/O ://O …/O \"/O\n",
       "- David/B-ENTITY Lammy/I-ENTITY on/O hearing/O the/O news/O 120/O inmates/O escaped/O jail/O in/O the/O **British/B-ENTITY Virgin/I-ENTITY Islands/I-ENTITY** after/O #Irma/O pic.twitter.com/Wx3acMIdDl/O\n",
       "- This/O aerial/O video/O shows/O the/O destruction/O Hurricane/O #Irma/O brought/O to/O the/O **British/B-ENTITY Virgin/I-ENTITY Islands/I-ENTITY**"
      ],
      "text/plain": [
       "<IPython.core.display.Markdown object>"
      ]
     },
     "metadata": {},
     "output_type": "display_data"
    },
    {
     "name": "stdout",
     "output_type": "stream",
     "text": [
      "sampling tweets for entity Trump (ambiguity count 34)\n",
      "got 712 matching tweets\n"
     ]
    },
    {
     "data": {
      "text/markdown": [
       "\n",
       "- RT/O @AllanMargolin/O :/O #TheResistance/O Knows/O **Trump/B-ENTITY** Is/O A/O Coward/O For/O Using/O #HurricaneHarvey/O for/O Cover/O On/O #Arpaio/O Pardon/O &amp;/O #Transgender/O Ban/O -…/O\n",
       "- White/B-ENTITY House/I-ENTITY releases/O embarrassing/O photo/O of/O **Trump/B-ENTITY** at/O Camp/B-ENTITY David/I-ENTITY with/O Pence/B-ENTITY actually/O managing/O #HurricaneHarvey/O https://t.co/2E7HBThrZh/O\n",
       "- \"/O If/O u/O retweet/O this/O ,/O you'll/O have/O helped/O more/O people/O in/O Houston/B-ENTITY than/O **Trump/B-ENTITY** has/O ./O Text/O HARVEY/B-ENTITY to/O 90999/O to/O make/O a/O $10/O donation/O redcross/O #Harvey/O \"/O\n",
       "- \"/O RT/O @theintercept/O :/O As/O #HurricaneHarvey/O approached/O ,/O **Trump/B-ENTITY** appointed/O deputy/O chief/O of/O staff/O who/O failed/O to/O prepare/O for/O Katrina/B-ENTITY ./O https://t.co/Roo…/O \"/O\n",
       "- RT/O @funder/O :/O The/O **Trump/B-ENTITY** administration/O will/O check/O people’s/O papers/O as/O they/O evacuate/O from/O #HurricaneHarvey/O 😡#ImpeachTrump/O #Resist/O https://t.c…/O\n",
       "- You/O forgot/O the/O caption/O :/O **Trump/B-ENTITY** receives/O update/O on/O the/O impact/O of/O Hurricane/O #Irma/O to/O Mar-a-Lago/O &/O the/O disruption/O of/O his/O golf/O game/O ./O #sad/O https:///O twitter.com/kalpenn/status/O /906507537549336576/O …/O\n",
       "- \"/O **Trump/B-ENTITY** is/O dropping/O $1/O million/O personally/O towards/O Harvey/B-ENTITY victims/O ./O Barack/B-ENTITY Obama/I-ENTITY ,/O where/O is/O your/O contribution/O ???/O #breaking/O #news/O #Harvey/O \"/O\n",
       "- RT/O @TwitchyTeam/O :/O UNHINGED/O :/O **Trump/B-ENTITY** is/O being/O blamed/O because/O there’s/O no/O food/O on/O the/O shelves/O in/O Houston/B-ENTITY #Harvey2017/O https://t.co/thyOa6bsuQ/O\n",
       "- #Update/O :/O Pres/B-ENTITY ./O **Trump/B-ENTITY** declared/O a/O state/O of/O emergency/O for/O #Georgia/O due/O to/O the/O projected/O path/O of/O #Hurricane/O #Irma/O\n",
       "- \"/O RT/O @MattAsherS/O :/O 1/While/O we're/O fighting/O for/O #Dreamers/O ,/O doing/O #HarveyRelief/O efforts/O &amp;/O concerned/O w/#NorthKorea/O ,/O **Trump/B-ENTITY** hopes/O we/O forget…/O \"/O"
      ],
      "text/plain": [
       "<IPython.core.display.Markdown object>"
      ]
     },
     "metadata": {},
     "output_type": "display_data"
    },
    {
     "name": "stdout",
     "output_type": "stream",
     "text": [
      "sampling tweets for entity CNN (ambiguity count 32)\n",
      "got 183 matching tweets\n"
     ]
    },
    {
     "data": {
      "text/markdown": [
       "\n",
       "- \"/O And/O now/O ,/O **CNN/B-ENTITY** is/O the/O only/O thing/O my/O parents/O watch/O #HurricaneIrma/O \"/O\n",
       "- \"/O Man/O deciding/O to/O stay/O in/O FL/B-ENTITY Keys/I-ENTITY says/O on/O **CNN/B-ENTITY** he/O doesn't/O need/O to/O evacuate/O and/O feels/O prepared/O to/O ride/O out/O #Irma/O because/O .../O \"\"/O we're/O well/O armed/O .\"/O\n",
       "- RT/O @Muschelschloss/O :/O #Harvey/O #Houston/O RT/O @AnaCabrera/O :/O A/O powerful/O moment/O on/O @**CNN/B-ENTITY** just/O now/O --/O a/O flood/O rescue/O with/O @edlavaCNN/O https://t.co/1ci…/O\n",
       "- **CNN/B-ENTITY** reports/O RT/O CNNweather/O :/O We/O are/O tracking/O #Irma2017/O ./O Use/O our/O highly/O interactive/O forecast/O tracker/O to/O see/O where/O #Ir…/O https://t.co/blZjZajOqw/O\n",
       "- BobBuckhorn/O :/O I/O will/O be/O live/O on/O **CNN/B-ENTITY** today/O at/O 10am/O ./O Tune/O in/O for/O an/O update/O on/O #HurricaneIrma/O ./O Tune/O in/O !/O pic.twitter.com/P0Ietbr21C/O\n",
       "- \"/O I'm/O sure/O with/O #**CNN/B-ENTITY** reporting/O on/O #Irma/O ,/O 45/O our/O #FakePresident/O will/O pull/O a/O skunk/O move/O like/O a/O snake/O in/O the/O grass/O ./O #DumpTrump/O \"/O\n",
       "- \"/O Watching/O **CNN/B-ENTITY** coverage/O of/O #hurricane/O #Irma/O ,/O current/O track/O reminds/O me/O of/O Charley/B-ENTITY in/O 2004/O ,/O which/O was/O expected/O to/O hit/O Tampa/B-ENTITY Bay/I-ENTITY directly/O .\"/O\n",
       "- Affected/O by/O #IRMA/O ??/O --/O **CNN/B-ENTITY** wants/O to/O hear/O from/O you/O !!/O Tell/O them/O your/O story/O ./O Give/O your/O suffering/O neighborhood/O or/O great/O neighbor/O a/O voice/O !/O @CNN/O https:///O twitter.com/CNN/status/906/O 580475602448384/O …/O\n",
       "- **CNN/B-ENTITY** storm/O tracker/O #MAPS/O #HURRICANE/O #IRMA/O http://www/O ./O cnn.com/interactive/st/O orm-tracker//O ?/O sr=sharebar_twitter/O …/O\n",
       "- The/O winds/O from/O #Irma/B-ENTITY started/O already/O on/O Miami/B-ENTITY Beach/I-ENTITY as/O Anderson/B-ENTITY Cooper/I-ENTITY reports/O from/O there/O for/O **CNN/B-ENTITY**"
      ],
      "text/plain": [
       "<IPython.core.display.Markdown object>"
      ]
     },
     "metadata": {},
     "output_type": "display_data"
    },
    {
     "name": "stdout",
     "output_type": "stream",
     "text": [
      "sampling tweets for entity Puerto Rico (ambiguity count 31)\n",
      "got 268 matching tweets\n"
     ]
    },
    {
     "data": {
      "text/markdown": [
       "\n",
       "- UPDATE/O :/O FCC/B-ENTITY 's/O latest/O #Irma/O report/O is/O here/O ./O 29%/O of/O wireless/O cell/O sites/O in/O **Puerto/B-ENTITY Rico/I-ENTITY** are/O out/O ;/O 60%/O in/O Virgin/B-ENTITY Islands/I-ENTITY https:///O apps/O ./O fcc/O ./O gov/edocs_public/a/O ttachmatch/DOC-346632A1/O ./O pdf/O …/O\n",
       "- RT/O @ZachKFOX_CBS/O :/O #Breaking/O :/O **Puerto/B-ENTITY Rico/I-ENTITY** activates/O their/O State/O Agency/O for/O Emergency/O and/O Disaster/O Management/O ahead/O of/O #Irma/O ./O Reports/O s…/O\n",
       "- RT/O @EstrellaOnline/O :/O #Irma/O no/O cede/O y/O llegará/O a/O **Puerto/B-ENTITY Rico/I-ENTITY** como/O el/O mayor/O huracán/O del/O Atlántico/O https://t.co/BwugKqkFMihttps://t.co/rlUXVfX…/O\n",
       "- RT/O @DearAuntCrabby/O :/O Question/O :/O What/O is/O @realDonaldTrump/O going/O to/O do/O when/O **Puerto/B-ENTITY Rico/I-ENTITY** gets/O the/O shit/O kicked/O out/O of/O it/O tonight/O by/O #Irma/O ?/O Evac/O p…/O\n",
       "- \"/O Cuba/B-ENTITY y/O **Puerto/B-ENTITY Rico/I-ENTITY** son/O de/O un/O pájaro/O las/O dos/O alas/O .../O pero/O como/O Miami/B-ENTITY Sound/I-ENTITY Machine/I-ENTITY ,/O pues/O who/O cares/O ?/O #Caribbeanpovertyfacts/O #Irma/O \"/O\n",
       "- \"/O #Irma/O still/O major/O Cat/O 5/O storm/O ./O **Puerto/B-ENTITY Rico/I-ENTITY** up/O next/O ./O Models/O have/O shifted/O east/O ,/O I/O can/O get/O behind/O the/O idea/O of/O a/O track…/O https://t.co/UsCWpuqVms/O \"/O\n",
       "- Retweeted/O FEMA/O (/O @fema/O )/O :/O NY/O Task/O Force/O 1/O joined/O @VATF1/O in/O **Puerto/B-ENTITY Rico/I-ENTITY** to/O assist/O in/O #Irma/O rescue/O efforts/O ./O Thank/O .../O http:///O fb/O ./O me/3IKR4iU9V/O\n",
       "- RT/O @ElNacionalRD/O :/O **Puerto/B-ENTITY Rico/I-ENTITY** siente/O la/O fuerza/O del/O huracán/O #Irma/O ;/O RD/O lo/O espera/O esta/O madrugada/O https://t.co/spBVcoXls5/O #LaVozdeTodos/O https…/O\n",
       "- Connecticut/B-ENTITY sends/O National/O Guard/B-ENTITY Airmen/I-ENTITY to/O **Puerto/B-ENTITY Rico/I-ENTITY** to/O assist/O with/O #HurricaneIrma/O relief/O efforts/O http:///O nbcct/O ./O co/yhnv1a1/O pic.twitter.com/IY0mLEnaKF/O\n",
       "- #Caribbean/O #USA/O citizens/O #Irma/O #Information/O #news/O @USAenEspanol/O @USNavy/O @southcomwatch/O @USAID/O ./O **Puerto/B-ENTITY Rico/I-ENTITY** en/O acción/O ./O #Cuba/O @UN/O #OEA/O ./O https:///O twitter.com/ricardorossell/O o/status/906615273620459521/O …/O"
      ],
      "text/plain": [
       "<IPython.core.display.Markdown object>"
      ]
     },
     "metadata": {},
     "output_type": "display_data"
    },
    {
     "name": "stdout",
     "output_type": "stream",
     "text": [
      "sampling tweets for entity Tampa (ambiguity count 31)\n",
      "got 614 matching tweets\n"
     ]
    },
    {
     "data": {
      "text/markdown": [
       "\n",
       "- RT/O @harpus88/O :/O I'm/O 40/O miles/O north/O of/O **Tampa/B-ENTITY** on/O the/O nature/O coast/O and/O this/O #IrmaFl/O scares/O the/O hell/O out/O of/O me/O ./O Never/O seen/O anything/O lik…/O\n",
       "- \"/O Shout-out/O to/O @Delta/O in/O **Tampa/B-ENTITY** Airport/O for/O being/O so/O efficient/O ,/O kind/O ,/O and/O offering/O free/O bag/O check/O amidst/O all/O the/O craziness/O of/O #HurricaneIrma/O \"/O\n",
       "- Hurricane/B-ENTITY Irma/I-ENTITY Heading/O towards/O **Tampa/B-ENTITY** with/O Risk/B-ENTITY of/I-ENTITY Life-Threatening/I-ENTITY Surgeshttps/I-ENTITY ://O /t/O ./O co/Z2515gQQW8#Florida/O #IrmaHurricane2017/O\n",
       "- \"/O My/O mom/O and/O sister/O live/O about/O an/O hour/O south/O of/O **Tampa/B-ENTITY** and/O they/O arent/O gonna/O evacuate/O ,/O so/O nervous/O for/O them/O ./O #HurricaneIrma/O \"/O\n",
       "- \"/O Hurricane/B-ENTITY Irma/I-ENTITY now/O taking/O aim/O at/O **Tampa/B-ENTITY** area/O ,/O Florida’s/B-ENTITY Gulf/I-ENTITY Coast/I-ENTITY #irma/O #home/O http:///O newsinn.org/d/a/337012/O pic.twitter.com/HJdtdvVSsy/O \"/O\n",
       "- NWS/O forecast/O wind/O gust/O speeds/O for/O Southwest/B-ENTITY Florida/I-ENTITY and/O **Tampa/B-ENTITY** area/O ./O #Irma/O pic.twitter.com/pe0COdp0Tq/O\n",
       "- \"/O The/O westward/O shift/O with/O #Irma/O is/O good/O news/O for/O #Miami/O ,/O but/O horrendous/O for/O SW/O FL/O ./O The/O Keys/O to/O **Tampa/B-ENTITY** will/O get/O thrashed/O pic.twitter.com/d0Oufgp9pe/O \"/O\n",
       "- **Tampa/B-ENTITY** is/O my/O home/O and/O we/O will/O be/O here/O to/O help/O when/O the/O storm/O is/O gone/O .../O #HurricaneIrma/O …/O https://www/O ./O instagram.com/p/BY1u1SQHu3Z//O\n",
       "- \"/O RT/O @nycjim/O :/O Last/O time/O **Tampa/B-ENTITY** was/O hit/O by/O a/O major/O hurricane/O ,/O its/O population/O was/O 10,000/O ./O Sunday/O ,/O #Irma/O will/O hit/O a/O city/O of/O 3/O million…/O \"/O\n",
       "- Bracing/O for/O #irma/O in/O **Tampa/B-ENTITY** and/O listening/O to/O @stassi/O '/O s/O pod/O cast/O to/O keep/O my/O nerves/O calm/O ./O #xanax/O #ranch/O #nolastrongtoo/O https:///O itunes.apple.com/us/podcast/str/O aight-up-with-stassi/id977824904/O ?/O mt=2&i=1000392001751/O …/O"
      ],
      "text/plain": [
       "<IPython.core.display.Markdown object>"
      ]
     },
     "metadata": {},
     "output_type": "display_data"
    },
    {
     "name": "stdout",
     "output_type": "stream",
     "text": [
      "sampling tweets for entity Naples (ambiguity count 31)\n",
      "got 182 matching tweets\n"
     ]
    },
    {
     "data": {
      "text/markdown": [
       "\n",
       "- RT/O @miguelm63959639/O :/O Vídeo/O de/O la/O Ciudad/O de/O **Naples/B-ENTITY** en/O la/B-ENTITY Florida/I-ENTITY #Irma/O https://t.co/Ssqdwt9sBT/O\n",
       "- El/O huracán/O #Irma/O el/O aeropuerto/O Municipal/O de/O **Naples/B-ENTITY** en/O Florida/B-ENTITY https://t.co/ccGouW8qhF/O jaygraymatters/O IM/O #LoMásLeído/O YX/O #Defiendete/O\n",
       "- **Naples/B-ENTITY** and/O other/O cities/O in/O Southwest/B-ENTITY Florida/I-ENTITY issue/O evacuations/O http:///O hrld/O ./O us/2xlDScF/O RT/O @MiamiHerald/O #HurricaneIrma/O pic.twitter.com/ZLPqhXcByb/O\n",
       "- RT/O @WFLAJeff/O :/O Our/O view/O in/O **Naples/B-ENTITY** right/O now/O ./O #IrmaHurricane/O @WFLA/O https://t.co/i9VTkcojKs/O\n",
       "- \"/O RT/O @S_T_O_P_TERROR/O :/O Stunning/O drone/O footage/O captures/O severe/O damage/O ,/O flooding/O in/O **Naples/B-ENTITY** after/O Hurricane/B-ENTITY #Irma/O blows/O through/O the/O area/O ./O https/O :/O …/O \"/O\n",
       "- RT/O @EnkiVzla/O :/O El/O huracán/O #Irma/O el/O aeropuerto/O Municipal/O de/O **Naples/B-ENTITY** en/O Florida/B-ENTITY https://t.co/ykwQiHWIWN/O @jaygraymatters/O IM/O #LoMásLeído/O\n",
       "- RT/O @DavidKarnes3/O :/O 5pm/O ./O #HurricaneIrma/O a/O cat/O 2/O in/O **Naples/B-ENTITY** skirting/O right/O up/O the/O coast/O ./O @WRCBweather/O app/O ./O @WRCB/O https://t.co/jPiB65aJEi/O\n",
       "- Odds/O of/O hurricane/O force/O winds/O in/O Tampa/B-ENTITY increased/O from/O 28%/O last/O night/O to/O 57%/O tonight/O ./O 37%/O last/O night/O for/O **Naples/B-ENTITY** now/O 76%/O ./O #Irma/O https:///O twitter.com/WeatherKait/st/O atus/906366444111351808/O …/O\n",
       "- @ChrisCuomo/O where/O in/O **Naples/B-ENTITY** are/O you/O seeing/O flooding/O ?/O #Irma/O\n",
       "- Praying/O that/O everyone/O heeded/O the/O evac/O warnings/O in/O the/O Keys/B-ENTITY ./O Praying/O for/O my/O Aunt/O still/O in/O **Naples/B-ENTITY** and/O everyone/O in/O Florida/B-ENTITY ./O #irma/O"
      ],
      "text/plain": [
       "<IPython.core.display.Markdown object>"
      ]
     },
     "metadata": {},
     "output_type": "display_data"
    },
    {
     "name": "stdout",
     "output_type": "stream",
     "text": [
      "sampling tweets for entity Tampa Bay (ambiguity count 26)\n",
      "got 180 matching tweets\n"
     ]
    },
    {
     "data": {
      "text/markdown": [
       "\n",
       "- 11PM-/O STORM/O SURGE/O WARNING/O now/O includes/O locations/O from/O **Tampa/B-ENTITY Bay/I-ENTITY** around/O the/O FL/B-ENTITY Peninsula/I-ENTITY to/O the/O Space/B-ENTITY Coast/I-ENTITY ./O DEADLY/O Surge/O expected/O !/O #Irma/O\n",
       "- Delayed/O landfall/O S/O of/O **Tampa/B-ENTITY Bay/I-ENTITY** would/O subject/O entire/O FL/O peninsula/O to/O potential/O hurricane/O force/O winds/O ./O Gusts/O considerably/O more/O (/O ECMWF/B-ENTITY )/O #Irma/O pic.twitter.com/EvEyjPM95V/O\n",
       "- Eerie/O that/O **Tampa/B-ENTITY Bay/I-ENTITY** is/O emptying/O right/O now/O as/O winds/O and/O tidal/O surge/O is/O still/O to/O the/O south/O ./O We/O rarely/O see/O those/O oyster/O beds/O ./O #Irma/O pic.twitter.com/bH2aMztcy4/O\n",
       "- Those/O storm/O surges/O from/O the/O Keys/O to/O **Tampa/B-ENTITY Bay/I-ENTITY** are/O no/O joke/O ./O If/O you're/O riding/O out/O the/O storm/O on/O the/O coast/O lord/O help/O you/O ./O #EVACUATE/O #Irma/O pic.twitter.com/fgU2v4MeYs/O\n",
       "- 195/O mile/O per/O hour/O gusts/O .../O amazing/O .../O #Irma/O please/O calm/O down/O a/O bit/O prior/O to/O hitting/O **Tampa/B-ENTITY Bay/I-ENTITY** please/O .../O thanks/O\n",
       "- Omg/O ./O Water/O sucked/O out/O of/O **Tampa/B-ENTITY Bay/I-ENTITY** by/O hurricane/O ./O That/O 's/O insane/O ./O They/O gonna/O be/O slammed/O ./O #Irma/O #IrmaHurricane2017/O #hurricaneirma2017/O\n",
       "- RT/O @weatherchannel/O :/O Conditions/O are/O quickly/O going/O downhill/O in/O the/O **Tampa/B-ENTITY Bay/I-ENTITY** area/O from/O Hurricane/B-ENTITY #Irma/O :/O https://t.co/cM1udYPkBC/O https://t.co/…/O\n",
       "- prophetic/O -/O Sea-level/O rise/O could/O destroy/O **Tampa/B-ENTITY Bay/I-ENTITY** if/O a/O major/O hurricane/O hits/O https://www/O ./O washingtonpost.com/graphics/2017//O health/environment/tampa-bay-climate-change//O ?/O utm_term=/O ./O ff5fc1e552f9/O …/O #irma/O\n",
       "- #HurricaneIrma/O '/O s/O shift/O toward/O **Tampa/B-ENTITY Bay/I-ENTITY** area/O has/O people/O who/O decided/O to/O stay/O scrambling/O for/O sandbags/O ./O We/O found/O people/O digging/O at/O Gandy/B-ENTITY Beach/I-ENTITY ./O pic.twitter.com/N9UuZZP776/O\n",
       "- At/O my/O house/O in/O the/O **Tampa/B-ENTITY Bay/I-ENTITY** area/O waiting/O for/O Irma/B-ENTITY ./O It/O 's/O like/O waiting/O for/O the/O call/O from/O your/O doctor/O after/O a/O biopsy/O ./O #Irma/O"
      ],
      "text/plain": [
       "<IPython.core.display.Markdown object>"
      ]
     },
     "metadata": {},
     "output_type": "display_data"
    },
    {
     "name": "stdout",
     "output_type": "stream",
     "text": [
      "sampling tweets for entity Facebook (ambiguity count 26)\n",
      "got 227 matching tweets\n"
     ]
    },
    {
     "data": {
      "text/markdown": [
       "\n",
       "- There/O are/O people/O saying/O the/O rosary/O on/O **Facebook/B-ENTITY** live/O and/O others/O out/O surfing/O some/O crazy/O #Irma/O waves/O on/O Periscope/B-ENTITY ./O https://www/O ./O pscp/O ./O tv/w/bIKyWTF3QkVB/O ZE5XckdOalB8MUJkeFlXT1ZSclFHWKnKntriIVWd1AHH26vxaDy6rk7SYlN3KDcXNPjGIY6p/O …/O\n",
       "- **Facebook/B-ENTITY** activates/O Safety/O Check/O for/O Hurricane/B-ENTITY Irma/I-ENTITY https:///O buff/O ./O ly/2jckNmJ/O #Facebook/O #safetycheck/O #HurricaneIrma/O pic.twitter.com/14qX51OBy0/O\n",
       "- ./O @chswx/O has/O joined/O us/O for/O a/O **Facebook/B-ENTITY** live/O video/O to/O give/O updates/O about/O #Irma/O '/O s/O impact/O on/O Charleston/B-ENTITY ./O WATCH/O :/O http:///O bit/O ./O ly/2vLkcuj/O #chsnews/O pic.twitter.com/1pfzqe35cI/O\n",
       "- Time/O to/O evacuate/O social/O media/O ./O Most/O of/O my/O **Facebook/B-ENTITY** friends/O are/O already/O drunk/O hurricane/O posting/O ./O #HurricaneIrma/O\n",
       "- \"/O RT/O @jbcadier/O :/O Message/O de/O Trump/B-ENTITY par/O **Facebook/B-ENTITY** aux/O Américains/B-ENTITY avant/O l'arrivée/O de/O l'ouragan/O #Irma/O ./O \"\"/O On/O va/O tenir/O bon/O et/O on/O en/O sortira…/O \"/O\n",
       "- These/O #Irma/O #**Facebook/B-ENTITY** events/O are/O getting/O out/O of/O control/O ./O There/O was/O also/O position/O your/O fan/O to…/O https://www/O ./O instagram.com/p/BY0zLNZjbCc//O\n",
       "- LIVE/O NOW/O :/O GioBenitez/O brings/O another/O update/O at/O GMA/B-ENTITY on/O **Facebook/B-ENTITY** from/O Miami/B-ENTITY ahead/O of/O Hurricane/B-ENTITY #Irma/O :/O …/O https:///O twitter.com/i/web/status/9/O 06625765395107841/O …/O\n",
       "- **Facebook/B-ENTITY** Live/O coming/O up/O on/O my/O page/O ./O Talking/O latest/O #Irma/O projections/O and/O what/O they/O mean/O for/O Middle/O GA/B-ENTITY ./O @WGXAnews/O http://www/O ./O facebook.com/Matt-Mackie-15/O 16074355084015/O …/O\n",
       "- \"/O RT/O @FREEBIRDS_WB/O :/O Yo/O ,/O H-Town/O !/O Check/O out/O our/O **Facebook/B-ENTITY** page/O for/O all/O the/O Houston/B-ENTITY locations/O that/O are/O currently/O open/O !/O #HurricaneHarvey/O 🌯/O https/O ://O …/O \"/O\n",
       "- RT/O @GMA/O :/O WATCH/O @GMA/O LIVE/O on/O our/O **Facebook/B-ENTITY** page/O !/O We’re/O banding/O together/O to/O raise/O money/O for/O #Harvey/O relief/O efforts/O !/O #DayOfGiving…/O"
      ],
      "text/plain": [
       "<IPython.core.display.Markdown object>"
      ]
     },
     "metadata": {},
     "output_type": "display_data"
    },
    {
     "name": "stdout",
     "output_type": "stream",
     "text": [
      "sampling tweets for entity Corpus Christi (ambiguity count 24)\n",
      "got 94 matching tweets\n"
     ]
    },
    {
     "data": {
      "text/markdown": [
       "\n",
       "- Allstate/B-ENTITY is/O on/O the/O ground/O in/O **Corpus/B-ENTITY Christi/I-ENTITY** helping/O customers/O impacted/O by/O #Harvey/O ./O Visit/O Mobile/O Claims/O Centers/O @HomeDepot/O on/O S/B-ENTITY Padre/I-ENTITY Isld/O Rd/O\n",
       "- RT/O @APCentralRegion/O :/O Winds/O from/O #HurricaneHarvey/O rattle/O the/O shoreline/O of/O **Corpus/B-ENTITY Christi/I-ENTITY** as/O AP/O photographer/O Eric/B-ENTITY Gay/I-ENTITY awaits/O landfall/O ./O …/O\n",
       "- RT/O @ABC/O :/O Security/O footage/O caught/O the/O moment/O winds/O from/O Hurricane/B-ENTITY #Harvey/O blew/O out/O the/O windows/O of/O a/O **Corpus/B-ENTITY Christi/I-ENTITY** salon/O :/O …/O\n",
       "- \"/O RT/O @reportermatt/O :/O We're/O up/O to/O 42,000/O people/O in/O **Corpus/B-ENTITY Christi/I-ENTITY** without/O power/O before/O the/O beef/O of/O #HurricaneHarvey/O still/O hours/O away/O ./O https://t…/O \"/O\n",
       "- RT/O @USACEGALVESTON/O :/O Col/O ./O Zetterstrom/O briefs/O **Corpus/B-ENTITY Christi/I-ENTITY** officials/O about/O District/B-ENTITY 's/O #HurricaneHarvey/O response/O ./O Navigation/O to/O the/O por…/O\n",
       "- \"/O RT/O @NWSCorpus/O :/O 400/O PM/O Wind/O Gusts/O :/O **Corpus/B-ENTITY Christi/I-ENTITY** NAS/O 71/O mph/O ,/O #PortAransas/O 64/O mph/O ,/O Rockport/B-ENTITY 60/O mph/O ,/O #CorpusChristi/O 52/O mph/O #Harvey/O #txwx/O \"/O\n",
       "- RT/O @StevePetyerak/O :/O Gas/O station/O being/O boarded/O up/O in/O **Corpus/B-ENTITY Christi/I-ENTITY** ahead/O of/O #HurricaneHarvey/O @weatherchannel/O @AMHQ/O @JimCantore…/O\n",
       "- RT/O @courtneyknorris/O :/O **Corpus/B-ENTITY Christi/I-ENTITY** county/O :/O Evacuation/O assistance/O ending/O an/O hour/O early/O given/O worsening/O conditions/O ./O #HurricaneHarvey/O https/O ://O …/O\n",
       "- RT/O @Pink_Attitude89/O :/O If/O anyone/O sees/O my/O cat/O Shadow/O in/O the/O **Corpus/B-ENTITY Christi/I-ENTITY** area/O of/O Saratoga/Cimarron/O please/O notify/O me/O asap/O ./O #Harvey2017…/O\n",
       "- RT/O @CallerTravis/O :/O The/B-ENTITY City/I-ENTITY of/O **Corpus/B-ENTITY Christi/I-ENTITY** is/O officially/O under/O a/O WATER/O BOIL/O ./O Do/O NOT/O drink/O the/O water/O #HarveyStorm/O @callerdotcom/O https://t.…/O"
      ],
      "text/plain": [
       "<IPython.core.display.Markdown object>"
      ]
     },
     "metadata": {},
     "output_type": "display_data"
    },
    {
     "name": "stdout",
     "output_type": "stream",
     "text": [
      "sampling tweets for entity St Martin (ambiguity count 24)\n",
      "got 66 matching tweets\n"
     ]
    },
    {
     "data": {
      "text/markdown": [
       "\n",
       "- \"/O RT/O @stephanielyon69/O :/O #Irma/O Les/B-ENTITY USA/I-ENTITY ont/O pris/O la/O désision/O d'évacuer/O la/O Floride/O qd/O Irma/B-ENTITY était/O sur/O St/B-ENTITY Barth/I-ENTITY ,/O **St/B-ENTITY Martin/I-ENTITY** donc/O bien/O avant/O ./O Le/O coup…/O \"/O\n",
       "- RT/O @vaughanabuse/O :/O #HurricaneIrma/O Buildings/O in/O **St/B-ENTITY Martin/I-ENTITY** topple/O after/O Hurricane/B-ENTITY Irma/I-ENTITY ./O Unbelievable/O !/O #hurricaneirma2017/O #Jose/O #StMartin…/O\n",
       "- RT/O @SecCivileFrance/O :/O 600/O personnels/O de/O la/O @SecCivileFrance/O déjà/O à/O **St/B-ENTITY Martin/I-ENTITY** en/O #soutien/O à/O la/O population/O #Irma/O ./O #ForMiSC/O #sapeurspompiers…/O\n",
       "- Les/O images/O de/O désolation/O et/O de/O pillage/O à/O **St/B-ENTITY Martin/I-ENTITY** rappellent/O à/O tous/O que/O le/O chaos/O en/O France/B-ENTITY n'est/O pas/O mieux/O géré/O qu'ailleurs/O ../O #Irma/O\n",
       "- **St/B-ENTITY Martin/I-ENTITY** before/O and/O after/O hurricane/O Irma/B-ENTITY https:///O youtu/O ./O be/hxwIsynxMGU/O Sint/B-ENTITY Maarten/I-ENTITY voor/O en/O na/O #Irma/O #Hurricane/O #orkaan/O #Jose/O Caraïben/B-ENTITY Caribbean/I-ENTITY\n",
       "- \"/O RT/O @ALT_uscis/O :/O Unconfirmed/O by/O the/O news/O ,/O but/O some/O are/O tweeting/O the/O 4/O most/O solid/O building/O in/O **St/B-ENTITY Martin/I-ENTITY** are/O down/O .!/O #IrmaHurricane/O \"/O\n",
       "- Eh/O #Macron/O et/O tes/O sinistres/O Pkoi/O la/O Floride/O depuis/O 2/O jours/O évacué/O sa/O pop/O alors/O que/O la/O pop/O de/O **St/B-ENTITY Martin/I-ENTITY** a/O eu/O ordre/O de/O confinement/O ./O #irma/O pic.twitter.com/eORDFU0WoE/O\n",
       "- \"/O RT/O @patrickgaley/O :/O #BREAKING/O :/O French/O interior/O minister/O says/O \"\"/O 4/O most/O solid/O \"\"/O govt/O buildings/O on/O **St/B-ENTITY Martin/I-ENTITY** already/O destroyed/O by/O #Irma/O ./O Comms/O wit…/O \"/O\n",
       "- \"/O #Irma/O damage/O to/O St/B-ENTITY Barts/I-ENTITY ,/O **St/B-ENTITY Martin/I-ENTITY** estimated/O at/O 1.2/O bn/O euros/O https:///O goo/O ./O gl/64juQx/O pic.twitter.com/dyTKvtOC6M/O \"/O\n",
       "- RT/O @UKWeatherLive/O :/O **St/B-ENTITY Martin/I-ENTITY** has/O been/O hit/O very/O hard/O by/O #HurricaneIrma/O #Irma/O Streets/O have/O are/O completely/O flooded/O ./O Thoughts/O with/O everyone/O htt…/O"
      ],
      "text/plain": [
       "<IPython.core.display.Markdown object>"
      ]
     },
     "metadata": {},
     "output_type": "display_data"
    },
    {
     "name": "stdout",
     "output_type": "stream",
     "text": [
      "sampling tweets for entity florida (ambiguity count 24)\n",
      "got 106 matching tweets\n"
     ]
    },
    {
     "data": {
      "text/markdown": [
       "\n",
       "- @backstreetboys/O if/O y'all/O in/O **florida/B-ENTITY** please/O evacuate/O ASAP/O ./O I/O can't/O lose/O y'all./O Stay/O safe/O #Backstreet3000/O #Iwantitthatway/O #hurricaneIrma/O\n",
       "- Everyone/O in/O **florida/B-ENTITY** be/O safe/O !/O Especially/O my/O boy/O @_NukeTv/O ./O You're/O all/O in/O our/O thoughts/O #HurricaneIrma/O\n",
       "- just/O saw/O tons/O of/O emergency/O officials/O driving/O into/O **florida/B-ENTITY** with/O life/O rafts/O and/O jet/O skis/O ../O #HurricaneIrma/O\n",
       "- Stuck/O in/O **florida/B-ENTITY** due/O to/O #HurricaneIrma/O and/O dis/O house/O already/O been/O flippedy/O flopped/O smh/O u/O still/O think/O global/O a/O warming/O hoax/O @realDonaldTrump/O pic.twitter.com/YkUo6I49C9/O\n",
       "- My/O Mate/O in/O **florida/B-ENTITY** said/O men/O Cross/B-ENTITY Bridges/I-ENTITY when/O needed/O ./O Hasnt/O boarded/O up/O house/O Hasnt/O even/O put/O his/O grill/O away/O ...../O discuss/O ????/O @PBFL81/O #irma/O\n",
       "- Listen/O #Irma/O my/O baby/O shower/O has/O already/O been/O moved/O once/O to/O next/O Sunday/O ./O So/O if/O you/O could/O kindly/O not/O make/O a/O mess/O of/O **florida/B-ENTITY** so/O ppl/O can/O come/O .../O\n",
       "- I/O wanted/O to/O evacuate/O but/O im/O not/O trying/O to/O be/O on/O the/O interstate/O stuck/O in/O **florida/B-ENTITY** while/O #irma/O slide/O thru/O\n",
       "- I/O have/O family/O that/O lives/O in/O southern/O **florida/B-ENTITY** and/O i/O asked/O him/O if/O he/O was/O worried/O about/O #HurricaneIrma/O ./O This/O was/O his/O answer/O lol/O pic.twitter.com/9tbYgO5ddR/O\n",
       "- I/O have/O family/O in/O **florida/B-ENTITY** everyone/O please/O pray/O that/O irma/O curves/O .../O thank/O you/O #IrmaHurricane/O\n",
       "- the/O more/O people/O that/O download/O the/O app/O the/O quicker/O your/O messages/O will/O send/O !!/O everyone/O in/O **florida/B-ENTITY** should/O download/O it/O #hurricaneirma/O"
      ],
      "text/plain": [
       "<IPython.core.display.Markdown object>"
      ]
     },
     "metadata": {},
     "output_type": "display_data"
    },
    {
     "name": "stdout",
     "output_type": "stream",
     "text": [
      "sampling tweets for entity Rockport (ambiguity count 23)\n",
      "got 49 matching tweets\n"
     ]
    },
    {
     "data": {
      "text/markdown": [
       "\n",
       "- RT/O @KidCasteel/O :/O **Rockport/B-ENTITY** needs/O volunteers/O too#HarveyRelief/O https://t.co/Vnq3JpYL5s/O\n",
       "- Took/O my/O first/O trip/O to/O **Rockport/B-ENTITY** since/O #Harvey/O to/O pick/O up/O some/O of/O my/O friends/O '/O stuff/O and/O it/O 's/O like/O a/O whole/O other/O world/O ./O\n",
       "- \"/O RT/O @CNN/O :/O \"\"/O It/O 's/O my/O last/O one/O to/O ride/O out/O ,/O I'll/O tell/O you/O that/O ,\"\"/O **Rockport/B-ENTITY** resident/O tells/O CNN/O of/O staying/O during/O #HurricaneHarvey/O https://t.co/TT…/O \"/O\n",
       "- \"/O CNN/B-ENTITY :/O A/O flag/O ,/O recovered/O in/O the/O eye/O of/O #Harvey/O in/O Texas/B-ENTITY ,/O was/O raised/O outside/O the/O **Rockport/B-ENTITY** Public/O Safety/O Center/O on/O Tue…/O https://t.co/SmSmzwOSBv/O \"/O\n",
       "- RT/O @Caller_Len/O :/O Stripes/O in/O **Rockport/B-ENTITY** is/O selling/O gas/O #Harvey/O #Harvey2017/O https://t.co/5wCJLWOIXo/O\n",
       "- **Rockport/B-ENTITY** mayor/O pro/O tem/O :/O Those/O who/O don't/O evacuate/O should/O mark/B-ENTITY Social/I-ENTITY Security/I-ENTITY number/O on/O their/O arm/O #Harvey…/O https://t.co/j9ZEfDO7e0/O\n",
       "- \"/O RT/O @tomthuang/O :/O Ex-Cowboy/O Dat/B-ENTITY Nguyen/I-ENTITY :/O \"\"/O All/O the/O places/O where/O I/O grew/O up/O \"\"/O in/O **Rockport/B-ENTITY** are/O demolished/O https://t.co/mM7XF9sMNA/O #HurricaneHarvey/O \"/O\n",
       "- RT/O @joshdcaplan/O :/O KHOU/O 11/O :/O First/B-ENTITY Baptist/I-ENTITY Church/I-ENTITY in/O **Rockport/B-ENTITY** is/O torn/O apart/O after/O #HurricaneHarvey/O passed/O through/O https://t.co/AdQDW1ygDV/O\n",
       "- RT/O @reportermatt/O :/O I/O wanted/O to/O get/O that/O out/O so/O families/O don't/O worry/O ./O There/O 's/O no/O cell/O signal/O in/O **Rockport/B-ENTITY** or/O Fulton/B-ENTITY after/O #HurricaneHarvey/O des…/O\n",
       "- \"/O RT/O @CNNweather/O :/O Eyewall/O of/O powerful/O category/O 4/O #Harvey/O is/O beginning/O to/O move/O onshore/O near/O **Rockport/B-ENTITY** and/O Port/B-ENTITY Aransas/I-ENTITY ,/O Texas…/O \"/O"
      ],
      "text/plain": [
       "<IPython.core.display.Markdown object>"
      ]
     },
     "metadata": {},
     "output_type": "display_data"
    },
    {
     "name": "stdout",
     "output_type": "stream",
     "text": [
      "sampling tweets for entity Saint Martin (ambiguity count 21)\n",
      "got 43 matching tweets\n"
     ]
    },
    {
     "data": {
      "text/markdown": [
       "\n",
       "- Après/O **Saint/B-ENTITY Martin/I-ENTITY** envoyez/O des/O secours/O dans/O le/O terr/O ./O de/O #belfort/O l'ouragan/O #incompétence/O y/O fait/O des/O ravages/O #SXM/O #Irma/O @EmmanuelMacron/O\n",
       "- RT/O @USATODAY/O :/O Strong/O wind/O and/O heavy/O rain/O is/O causing/O severe/O damage/O and/O flooding/O in/O **Saint/B-ENTITY Martin/I-ENTITY** in/O the/O aftermath/O of/O #HurricaneIrma…/O\n",
       "- \"/O Okay/O ,/O mais/O **Saint/B-ENTITY Martin/I-ENTITY** et/O Saint/O Barth/O alors/O ?/O #Irma/O ./O ./O ./O ./O #BloodLustxFrConventions/O pic.twitter.com/Hzrqj2mJxA/O \"/O\n",
       "- RT/O @TelemundoNews/O :/O Video/O muestra/O el/O estado/O de/O **Saint/B-ENTITY Martin/I-ENTITY** tras/O el/O paso/O del/O huracán/O #Irma/O ./O https://t.co/IeHxbBzGbX/O\n",
       "- \"/O #Hurrikan/O #Irma/O hat/O im/O franz/O ./O Überseegebiet/O **Saint/B-ENTITY Martin/I-ENTITY** mind/O ./O 1/O ,/O 2/O Mrd/O ./O Euro/O Schaden/O verursacht/O ./O Das/O gab/O der/O staatl/O ./O Versicherer/O bekannt/O .\"/O\n",
       "- Devastation/O across/O **Saint/B-ENTITY Martin/I-ENTITY** left/O by/O Hurricane/B-ENTITY Irma/I-ENTITY I/O Photo/O MartinBureau1/O #AFP/O #Irma/O #SaintMartin/O pic.twitter.com/6yAjYmGtGr/O pic.twitter.com/ZwqbFFlM2w/O\n",
       "- RT/O @Federation/O :/O Images/O coming/O back/O from/O **Saint/B-ENTITY Martin/I-ENTITY** of/O #Irma2017/O 's/O destruction/O ./O @CroixRouge/O assessing/O and/O providing/O relief/O ./O https://t.co/K…/O\n",
       "- à/O **Saint/B-ENTITY Martin/I-ENTITY** des/O sauvages/O ont/O pillé/O une/O armurerie/O !/O ils/O pillent/O des/O maisons/O et/O des/O magasins/O ils/O tirent/O !/O ./O #irma/O #josé/O @BFMTV/O\n",
       "- RT/O @EUStormMap/O :/O Le/O port/O de/O **Saint/B-ENTITY Martin/I-ENTITY** as/O seen/O now/O !!!!/O #Irma/O #HurricaneIrma/O https://t.co/ok2TdVHRJe/O\n",
       "- **Saint/B-ENTITY Martin/I-ENTITY** prepares/O for/O second/O hurricane/O in/O days/O ./O #TheVLogs/O #Vlogs/O #IrmaHurricane2017/O #josehurricane2017/O #Irma/O https:///O thevlogs.com/v/vR1E1Pj78B75/O dLgT/Saint-Martin-prepares-for-second-hurricane-in-days/O …/O pic.twitter.com/LVRqrvzmKD/O"
      ],
      "text/plain": [
       "<IPython.core.display.Markdown object>"
      ]
     },
     "metadata": {},
     "output_type": "display_data"
    },
    {
     "name": "stdout",
     "output_type": "stream",
     "text": [
      "sampling tweets for entity FL (ambiguity count 20)\n",
      "got 1105 matching tweets\n"
     ]
    },
    {
     "data": {
      "text/markdown": [
       "\n",
       "- \"/O When/O I/O lived/O in/O **FL/B-ENTITY** I/O could/O not/O afford/O to/O evacuate/O ./O Loss/O of/O pay/O ,/O lack/O of/O job/O security/O ./O Thoughts/O are/O with/O those/O in/O path/O of/O #HurricaneIrma/O \"/O\n",
       "- \"/O **FL/B-ENTITY** is/O in/O God/B-ENTITY 's/O hand/O ./O so/O are/O we/O ,/O humbled/O and/O terrified/O before/O #Irma/O landfall/O ./O Amen/O https:///O twitter.com/prayingmedic/s/O tatus/906635798790815744/O …/O \"/O\n",
       "- \"/O I/O just/O got/O a/O text/O from/O @ATT/O to/O be/O safe/O ./O They/O won't/O be/O charging/O their/O **FL/B-ENTITY** customers/O any/O overages/O for/O data/O ,/O text/O ,/O &/O talking/O ./O TY/O !/O #HurricaneIrma/O \"/O\n",
       "- GA/O and/O **FL/B-ENTITY** friends/O :/O are/O you/O staying/O or/O going/O ?/O What/O is/O the/O grocery/gas/O situation/O in/O your/O area/O ?/O #Irma/O\n",
       "- \"/O RT/O @FLGovScott/O :/O ./O @EPA/O has/O approved/O an/O emergency/O fuel/O waiver/O ,/O allowing/O more/O fuel/O to/O enter/O **FL/B-ENTITY** quickly/O for/O #HurricaneIrma/O prep/O :/O https://t.co/L…/O \"/O\n",
       "- I/O think/O #HurricaneIrma/O is/O beginning/O it/O 's/O turn/O to/O Florida/B-ENTITY now/O ./O Beginning/O to/O re-intensify/O now/O back/O over/O the/O **FL/B-ENTITY** straits/O 90/O degree/O water/O ./O D/O :/O pic.twitter.com/dDCampBDLf/O\n",
       "- \"/O #Earthcam/O #Webcam/O in/O Naples/B-ENTITY ,/O **FL/B-ENTITY** to/O watch/O #IRMA/O come/O in/O on/O west/O side/O :/O https://www/O ./O earthcam.com/usa/florida/na/O ples//O ?/O cam=naplespier/O …/O \"/O\n",
       "- S/O/O to/O @ATT/O for/O doing/O this/O for/O their/O **FL/B-ENTITY** customers/O during/O #Irma/O pic.twitter.com/UeM8hFpAbE/O\n",
       "- RT/O @FLGovScott/O :/O Reached/O out/O to/O @GovAbbott/O to/O let/O him/O know/O **FL/B-ENTITY** stands/O ready/O to/O offer/O resources/O they/O may/O need/O for/O #HurricaneHarvey/O ./O We're/O pray…/O\n",
       "- First/O squalls/O in/O association/O with/O #Irma/B-ENTITY is/O beginning/O to/O move/O closer/O to/O **FL/B-ENTITY** coast/O pic.twitter.com/QxkzOJCPGR/O"
      ],
      "text/plain": [
       "<IPython.core.display.Markdown object>"
      ]
     },
     "metadata": {},
     "output_type": "display_data"
    },
    {
     "name": "stdout",
     "output_type": "stream",
     "text": [
      "sampling tweets for entity Sarasota (ambiguity count 20)\n",
      "got 54 matching tweets\n"
     ]
    },
    {
     "data": {
      "text/markdown": [
       "\n",
       "- \"/O Thinking/O of/O family/O in/O **Sarasota/B-ENTITY** as/O they/O ride/O out/O #Irma/O ./O Hope/O my/O cuz/O ,/O 1st/O responder/O w/Sarasota/O County/B-ENTITY Fire/I-ENTITY Dept/I-ENTITY ,/O stays/O safe/O ,/O too/O .\"/O\n",
       "- BREAKING/O :/O #HurricaneIrma/O new/O track/O had/O it/O making/O landfall/O closer/O to/O **Sarasota/B-ENTITY** area/O ./O Follow/O @grant_gilmore/O for/O the/O latest/O updates/O !/O\n",
       "- The/O 5AM/O update/O has/O me/O up/O and/O awake/O and/O seriously/O terrified/O ./O It/O 's/O supposed/O to/O make/O landfall/O in/O **Sarasota/B-ENTITY** now/O ./O #Irma/O\n",
       "- WATCH/O LIVE/O :/O @FLGovScott/O holds/O press/O conference/O in/O **Sarasota/B-ENTITY** with/O latest/O #Irma/O updates/O http:///O on.nbc6.com/aaZZE87/O pic.twitter.com/PhQt9L7jsP/O\n",
       "- \"/O RT/O @MandysLandBlog/O :/O Stores/O in/O Tampa/B-ENTITY ,/O Orlando/B-ENTITY ,/O and/O **Sarasota/B-ENTITY** area/O are/O already/O out/O of/O water/O !/O This/O is/O crazy/O !/O Everyone/O in/O FL/B-ENTITY #BePrepared/O #IrmaHu…/O \"/O\n",
       "- #voiceover/O irony/O :/O I've/O partnered/O w//O @SamaritansPurse/O for/O over/O a/O decade/O voicing/O disaster/O relief/O radio/TV/O PSAs/O ./O I/O live/O in/O **Sarasota/B-ENTITY** area/O ./O #IRMA/O\n",
       "- Thinking/O of/O &/O praying/O for/O all/O our/O @AndesaServices/O **Sarasota/B-ENTITY** families/O plus/O all/O those/O in/O the/O path/O of/O #HurricaneIrma/O ./O Be/O safe/O &/O keep/O us/O updated/O pic.twitter.com/MGfBXyM1Qz/O\n",
       "- \"/O We/O are/O heading/O to/O Punta/B-ENTITY Gorda/I-ENTITY ,/O **Sarasota/B-ENTITY** and/O the/O Pompano/B-ENTITY Beach/I-ENTITY #Irma/O \"/O\n",
       "- \"/O Outer/O bands/O of/O #Irma/O starting/O to/O affect/O parts/O of/O Florida/B-ENTITY ./O I'm/O in/O **Sarasota/B-ENTITY** for/O the/O night/O ,/O will/O see/O what/O tomorrow/O brings/O ./O May/O not/O go/O far/O pic.twitter.com/7YTAYinP13/O –/O bei/O Hilton/B-ENTITY Garden/I-ENTITY Inn/I-ENTITY Sarasota/I-ENTITY -/O Bradenton/B-ENTITY Airport/I-ENTITY \"/O\n",
       "- Sign/O language/O interpreter/O in/O **Sarasota/B-ENTITY** was/O the/O best/O !/O #HurricaneIrma/O #Iramageddon/O"
      ],
      "text/plain": [
       "<IPython.core.display.Markdown object>"
      ]
     },
     "metadata": {},
     "output_type": "display_data"
    }
   ],
   "source": [
    "pd.np.random.seed(123)\n",
    "top_k = 20\n",
    "# let's get all entities around the middle\n",
    "# N = int(len(entity_counts_capped) / 2)\n",
    "# n = int(top_k/2)\n",
    "entity_counts_capped.sort_values(inplace=True, ascending=False)\n",
    "i = 1\n",
    "# ambiguous_entity_sample = entity_counts_capped.index.tolist()[N-n:N+n]\n",
    "# top 20 through 45 (to make up for Jordan error)\n",
    "ambiguous_entity_sample = entity_counts_capped.index.tolist()[top_k * i:top_k * (i+1)+5]\n",
    "print(entity_counts_capped.loc[ambiguous_entity_sample])\n",
    "tweet_entity_txt_file = '../../data/mined_tweets/#Irma,#Harvey,#HurricaneIrma,#HurricaneHarvey_combined_data_txt_ner.tsv'\n",
    "tweet_entity_txt = [l.strip().replace('\\n', '') for l in open(tweet_entity_txt_file, 'r')]\n",
    "tweet_entity_txt = list(set(tweet_entity_txt))\n",
    "sample_size = 10\n",
    "make_bold = lambda x: '**%s**'%(x)\n",
    "for sample_entity in ambiguous_entity_sample:\n",
    "    print('sampling tweets for entity %s (ambiguity count %d)'%(sample_entity, entity_counts_capped.loc[sample_entity]))\n",
    "    sample_entity_tokens = sample_entity.split(' ')\n",
    "    entity_str = []\n",
    "    for i, t in enumerate(sample_entity_tokens):\n",
    "        if(i == 0):\n",
    "            prefix = 'B'\n",
    "        else:\n",
    "            prefix = 'I'\n",
    "        entity_str.append('%s/%s-ENTITY'%(t, prefix))\n",
    "    entity_str = ' '.join(entity_str)\n",
    "    # add buffer: we accept an entity only if \n",
    "    # it's not a sub-set of another entity, i.e. \n",
    "    # (1) at the end of a tweet or (2) followed by a non-entity\n",
    "    # or new entity\n",
    "    entity_str = '%s(?= \\w+/[OB])|%s$'%(entity_str, entity_str)\n",
    "    entity_matcher = re.compile(entity_str)\n",
    "    matching_tweets = filter(lambda x: len(entity_matcher.findall(x)) > 0, tweet_entity_txt)\n",
    "    print('got %d matching tweets'%(len(matching_tweets)))\n",
    "    if(len(matching_tweets) > sample_size):\n",
    "        matching_tweets = pd.np.random.choice(matching_tweets, size=sample_size, replace=False)\n",
    "#     print('\\n'.join(matching_tweets))\n",
    "    # highlight matching entities in bold\n",
    "    # and return-line separated\n",
    "    display(Markdown(''.join(map(lambda x: '\\n- %s'%(x), \n",
    "                                 [entity_matcher.sub(make_bold(entity_matcher.findall(t)[0]), t) \n",
    "                                  for t in matching_tweets]))))"
   ]
  },
  {
   "cell_type": "markdown",
   "metadata": {},
   "source": [
    "**Caribbean**:\n",
    "\n",
    "- ~ islands\\*: 10\n",
    "\n",
    "**Katrina**:\n",
    "\n",
    "- Hurricane ~: 10\n",
    "\n",
    "**Alabama**:\n",
    "\n",
    "- state of ~\\*: 9\n",
    "- university of ~: 1\n",
    "\n",
    "**Ohio**:\n",
    "\n",
    "- state of ~\\*: 9\n",
    "- university of ~: 1 \n",
    "\n",
    "**Louisiana**:\n",
    "\n",
    "- state of ~\\*: 10\n",
    "\n",
    "**Gulf**:\n",
    "\n",
    "- ~ of Mexico: 10\n",
    "\n",
    "**Mexico**:\n",
    "\n",
    "- country of ~\\*: 10 \n",
    "\n",
    "**Cuba**:\n",
    "\n",
    "- country of ~\\*: 10\n",
    "\n",
    "**Charleston**:\n",
    "\n",
    "- city of ~ (South Carolina): 10\n",
    "\n",
    "**Jacksonville**:\n",
    "\n",
    "- city of ~ (Florida)\\*: 10\n",
    "\n",
    "**British Virgin Islands**:\n",
    "\n",
    "- country of ~\\*: 10\n",
    "\n",
    "**Trump**:\n",
    "\n",
    "- Donald ~: 9\n",
    "- ~ administration: 1\n",
    "\n",
    "**CNN**:\n",
    "\n",
    "- ~ (news organization)\\*: 10\n",
    "\n",
    "**Puerto Rico**:\n",
    "\n",
    "- country of ~\\*: 10\n",
    "\n",
    "**Tampa**:\n",
    "\n",
    "- city of ~ (Florida)\\*: 9\n",
    "- ~ Airport: 1 \n",
    "\n",
    "**Naples**:\n",
    "\n",
    "- city of ~ (Florida): 10\n",
    "\n",
    "**Tampa Bay**:\n",
    "\n",
    "- harbor of ~\\*: 10 \n",
    "\n",
    "**Facebook**:\n",
    "\n",
    "- ~ company\\*: 7\n",
    "- ~ Live: 3\n",
    "\n",
    "**Corpus Christi**:\n",
    "\n",
    "- city of ~ (Texas): 10\n",
    "\n",
    "**St Martin**:\n",
    "\n",
    "- island of ~: 10\n",
    "\n",
    "**Rockport**: \n",
    "\n",
    "- city of ~ (Texas): 10"
   ]
  },
  {
   "cell_type": "markdown",
   "metadata": {},
   "source": [
    "Overall, most of the mid-tier entities can be linked to the most obvious choices, such as `Jacksonville` which always links to the obvious choice of `Jacksonville, FL` (the default DBPedia page).\n",
    "\n",
    "Some scope ambiguity that's hard to nail down: some of the `Tampa` tweets reference the region instead of the city itself. Not sure if those should count as separate entities or just different scope of the same entity!"
   ]
  },
  {
   "cell_type": "markdown",
   "metadata": {
    "collapsed": true
   },
   "source": [
    "## Bonus test: on the extra Harvey data\n",
    "Let's do a similar test with the extra Harvey data collected from DocNow ([here](https://digital.library.unt.edu/ark:/67531/metadc993940/))."
   ]
  },
  {
   "cell_type": "code",
   "execution_count": 291,
   "metadata": {
    "collapsed": false
   },
   "outputs": [
    {
     "name": "stdout",
     "output_type": "stream",
     "text": [
      "886524 extra tweets collected\n"
     ]
    }
   ],
   "source": [
    "import gzip\n",
    "extra_tweets_file = '../../data/mined_tweets/HurricaneHarvey_ids_rehydrated_clean.txt.gz'\n",
    "extra_tweets_clean = [l.strip() for l in gzip.open(extra_tweets_file, 'r')]\n",
    "print('%d extra tweets collected'%(len(extra_tweets_clean)))"
   ]
  },
  {
   "cell_type": "code",
   "execution_count": 293,
   "metadata": {
    "collapsed": false
   },
   "outputs": [
    {
     "name": "stdout",
     "output_type": "stream",
     "text": [
      "Somebody/O tell/O POTUS/B-ENTITY historic/O #HoustonFloods/O larger/O than/O him/O &amp;/O FEMA/O 🙏🏽/O\n",
      "@ChrisGroove1/O @Bea_Bells/O We'll/O keep/O our/O paws/O crossed/O that/O that/O 's/O what/O #Harvey/O does/O !/O #nipclub/O\n",
      "Why/O does/O @realDonaldTrump/O make/O #HurricaneHarvey/O sound/O like/O the/O most/O successful/O hurricane/O in/O the/O history/O of/O hurricanes/O ???/O\n",
      "\"/O The/O EPA/O and/O TCEQ/O said/O Saturday/O that/O 161/O drinking/O water/O systems/O have/O boil-water/O notices/O ,/O and/O another/O 52/O are/O shut/O do…/O\n",
      "#EarlyMorningEveningNews/O w/O :/O @DaRealMonieLove/O :/O Southeast/B-ENTITY Texas/I-ENTITY Slammed/I-ENTITY By/O #HurricaneHarvey/O ;/O Over/O 5K/O Evacuees/O Head/O To…/O\n",
      "The/B-ENTITY Brookwoods/I-ENTITY Group/I-ENTITY team/O is/O not/O in/O the/O office/O ./O DM/O if/O you/O need/O to/O reach/O me/O ./O Or/O any/O of/O us/O ,/O for/O that/O matter/O ./O #Houston/O #Harvey/O @brookwoodsgroup/O\n",
      "Its/O all/O about/O #hurricaneharvey/O #katrina/O #texasfloods/O on/O this/O ep/O on/O #souncloud/O #blackmedia/O #podsincolor/O #podernfamily/O\n",
      "“We/O are/O just/O returning/O to/O our/O houses/O and/O trying/O to/O figure/O out/O what/O to/O do/O next/O .\"/O #HurricaneHarvey/O #Harvey2017/O\n",
      "crimethinc/O :/O Our/O hearts/O go/O out/O to/O those/O in/O the/O path/O of/O #Harvey/O and/O all/O impacted/O by/O climate/O change/O ./O We/O count/O on/O gras…/O\n",
      "Here/O 's/O How/O You/O Can/O Help/O With/O Hurricane/B-ENTITY Harvey/I-ENTITY Relief/I-ENTITY @Thrillist/O #harvey/O #hurricaneharvey/O #texas/O #weather/O #fema/O #tx/O\n"
     ]
    }
   ],
   "source": [
    "# extract entities\n",
    "extra_tweets_entities_file = '../../data/mined_tweets/HurricaneHarvey_ids_rehydrated_clean_ner.txt.gz'\n",
    "extra_tweets_entities = [l.strip() for l in gzip.open(extra_tweets_entities_file, 'r')]\n",
    "print('\\n'.join(extra_tweets_entities[:10]))"
   ]
  },
  {
   "cell_type": "code",
   "execution_count": null,
   "metadata": {
    "collapsed": true
   },
   "outputs": [],
   "source": []
  }
 ],
 "metadata": {
  "kernelspec": {
   "display_name": "Python 2",
   "language": "python",
   "name": "python2"
  },
  "language_info": {
   "codemirror_mode": {
    "name": "ipython",
    "version": 2
   },
   "file_extension": ".py",
   "mimetype": "text/x-python",
   "name": "python",
   "nbconvert_exporter": "python",
   "pygments_lexer": "ipython2",
   "version": "2.7.10"
  }
 },
 "nbformat": 4,
 "nbformat_minor": 0
}
