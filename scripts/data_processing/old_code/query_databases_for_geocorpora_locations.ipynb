{
 "cells": [
  {
   "cell_type": "markdown",
   "metadata": {},
   "source": [
    "# Query Wikidata for GeoCorpora locations\n",
    "In which we attempt to find [Wikidata](https://www.wikidata.org/) and [DBPedia](dbpedia.org/ontology/Place) entries for the GeoCorpora candidates."
   ]
  },
  {
   "cell_type": "code",
   "execution_count": 114,
   "metadata": {},
   "outputs": [],
   "source": [
    "import pandas as pd\n",
    "from SPARQLWrapper import SPARQLWrapper, JSON\n",
    "from time import sleep\n",
    "from ast import literal_eval\n",
    "import json\n",
    "import matplotlib\n",
    "%matplotlib inline\n",
    "import matplotlib.pyplot as plt"
   ]
  },
  {
   "cell_type": "markdown",
   "metadata": {},
   "source": [
    "## Load data"
   ]
  },
  {
   "cell_type": "code",
   "execution_count": 77,
   "metadata": {},
   "outputs": [],
   "source": [
    "REPLACE_PAIRS = [\n",
    "    (\" u'\", '\"'),\n",
    "    (\"{u\", \"{\"),\n",
    "    (\"[u\", \"[\"),\n",
    "    (\"':\", '\":'),\n",
    "    (\"',\", '\",'),\n",
    "    (\"{'\", '{\"'),\n",
    "    (\"'}\", '\"}'),\n",
    "    (\"['\", '[\"'),\n",
    "    (\"']\", '\"]'),\n",
    "    (\"\\\\\", '')\n",
    "]\n",
    "def clean_dict_str(x):\n",
    "    for old, new in REPLACE_PAIRS :\n",
    "        x = x.replace(old, new)\n",
    "    return(x)\n",
    "def decode_dict(x):\n",
    "    # cleanup first\n",
    "    x_clean = clean_dict_str(str(x))\n",
    "    try:\n",
    "        x_dict = json.loads(x_clean)\n",
    "    except Exception, e:\n",
    "        x_dict = {}\n",
    "    return(x_dict)\n",
    "geocorpora_query_results = pd.read_csv('../../data/mined_tweets/GeoCorpora/geocorpora_opencage_query_results.tsv', sep='\\t', index_col=False)\n",
    "# also extract dicts\n",
    "dict_vars = ['annotations', 'bounds', 'components']\n",
    "for v in dict_vars:\n",
    "    geocorpora_query_results.loc[:, v] = geocorpora_query_results.loc[:, v].apply(decode_dict)"
   ]
  },
  {
   "cell_type": "code",
   "execution_count": 78,
   "metadata": {},
   "outputs": [
    {
     "data": {
      "text/html": [
       "<div>\n",
       "<style scoped>\n",
       "    .dataframe tbody tr th:only-of-type {\n",
       "        vertical-align: middle;\n",
       "    }\n",
       "\n",
       "    .dataframe tbody tr th {\n",
       "        vertical-align: top;\n",
       "    }\n",
       "\n",
       "    .dataframe thead th {\n",
       "        text-align: right;\n",
       "    }\n",
       "</style>\n",
       "<table border=\"1\" class=\"dataframe\">\n",
       "  <thead>\n",
       "    <tr style=\"text-align: right;\">\n",
       "      <th></th>\n",
       "      <th>annotations</th>\n",
       "      <th>bounds</th>\n",
       "      <th>components</th>\n",
       "      <th>confidence</th>\n",
       "      <th>formatted</th>\n",
       "      <th>geometry</th>\n",
       "      <th>query</th>\n",
       "    </tr>\n",
       "  </thead>\n",
       "  <tbody>\n",
       "    <tr>\n",
       "      <th>0</th>\n",
       "      <td>{u'MGRS': u'32NKL6270635529', u'sun': {u'rise'...</td>\n",
       "      <td>{u'northeast': {u'lat': 5.7300358, u'lng': 7.5...</td>\n",
       "      <td>{u'country': u'Nigeria', u'ISO_3166-1_alpha-2'...</td>\n",
       "      <td>1</td>\n",
       "      <td>Rivers, Nigeria</td>\n",
       "      <td>{u'lat': 4.8416028, u'lng': 6.8604088}</td>\n",
       "      <td>rivers</td>\n",
       "    </tr>\n",
       "    <tr>\n",
       "      <th>1</th>\n",
       "      <td>{u'MGRS': u'14UMA1160342817', u'sun': {u'rise'...</td>\n",
       "      <td>{u'northeast': {u'lat': 50.0415453, u'lng': -1...</td>\n",
       "      <td>{u'city': u'Rivers', u'ISO_3166-1_alpha-2': u'...</td>\n",
       "      <td>7</td>\n",
       "      <td>Rivers, MB R0K 1X0, Canada</td>\n",
       "      <td>{u'lat': 50.0310937, u'lng': -100.2342492}</td>\n",
       "      <td>rivers</td>\n",
       "    </tr>\n",
       "    <tr>\n",
       "      <th>2</th>\n",
       "      <td>{u'MGRS': u'29UNU3128635886', u'ITM': {u'easti...</td>\n",
       "      <td>{u'northeast': {u'lat': 52.6821393, u'lng': -8...</td>\n",
       "      <td>{u'city': u'Metropolitan District of Limerick'...</td>\n",
       "      <td>8</td>\n",
       "      <td>Rivers, Metropolitan District of Limerick, Cou...</td>\n",
       "      <td>{u'lat': 52.6720155, u'lng': -8.5373025}</td>\n",
       "      <td>rivers</td>\n",
       "    </tr>\n",
       "    <tr>\n",
       "      <th>3</th>\n",
       "      <td>{u'MGRS': u'29UNU3374436846', u'ITM': {u'easti...</td>\n",
       "      <td>{u'northeast': {u'lat': 52.690501, u'lng': -8....</td>\n",
       "      <td>{u'city': u'Metropolitan District of Limerick'...</td>\n",
       "      <td>8</td>\n",
       "      <td>Ballyvarra, Metropolitan District of Limerick,...</td>\n",
       "      <td>{u'lat': 52.680501, u'lng': -8.5008587}</td>\n",
       "      <td>rivers</td>\n",
       "    </tr>\n",
       "    <tr>\n",
       "      <th>4</th>\n",
       "      <td>{u'MGRS': u'30UVA1348184239', u'currency': {u'...</td>\n",
       "      <td>{u'northeast': {u'lat': 50.4039014, u'lng': -4...</td>\n",
       "      <td>{u'road': u'The Rivers', u'ISO_3166-1_alpha-2'...</td>\n",
       "      <td>9</td>\n",
       "      <td>The Rivers, Wearde Quay PL12 4PD, United Kingdom</td>\n",
       "      <td>{u'lat': 50.4038213, u'lng': -4.2174708}</td>\n",
       "      <td>rivers</td>\n",
       "    </tr>\n",
       "  </tbody>\n",
       "</table>\n",
       "</div>"
      ],
      "text/plain": [
       "                                         annotations  \\\n",
       "0  {u'MGRS': u'32NKL6270635529', u'sun': {u'rise'...   \n",
       "1  {u'MGRS': u'14UMA1160342817', u'sun': {u'rise'...   \n",
       "2  {u'MGRS': u'29UNU3128635886', u'ITM': {u'easti...   \n",
       "3  {u'MGRS': u'29UNU3374436846', u'ITM': {u'easti...   \n",
       "4  {u'MGRS': u'30UVA1348184239', u'currency': {u'...   \n",
       "\n",
       "                                              bounds  \\\n",
       "0  {u'northeast': {u'lat': 5.7300358, u'lng': 7.5...   \n",
       "1  {u'northeast': {u'lat': 50.0415453, u'lng': -1...   \n",
       "2  {u'northeast': {u'lat': 52.6821393, u'lng': -8...   \n",
       "3  {u'northeast': {u'lat': 52.690501, u'lng': -8....   \n",
       "4  {u'northeast': {u'lat': 50.4039014, u'lng': -4...   \n",
       "\n",
       "                                          components  confidence  \\\n",
       "0  {u'country': u'Nigeria', u'ISO_3166-1_alpha-2'...           1   \n",
       "1  {u'city': u'Rivers', u'ISO_3166-1_alpha-2': u'...           7   \n",
       "2  {u'city': u'Metropolitan District of Limerick'...           8   \n",
       "3  {u'city': u'Metropolitan District of Limerick'...           8   \n",
       "4  {u'road': u'The Rivers', u'ISO_3166-1_alpha-2'...           9   \n",
       "\n",
       "                                           formatted  \\\n",
       "0                                    Rivers, Nigeria   \n",
       "1                         Rivers, MB R0K 1X0, Canada   \n",
       "2  Rivers, Metropolitan District of Limerick, Cou...   \n",
       "3  Ballyvarra, Metropolitan District of Limerick,...   \n",
       "4   The Rivers, Wearde Quay PL12 4PD, United Kingdom   \n",
       "\n",
       "                                     geometry   query  \n",
       "0      {u'lat': 4.8416028, u'lng': 6.8604088}  rivers  \n",
       "1  {u'lat': 50.0310937, u'lng': -100.2342492}  rivers  \n",
       "2    {u'lat': 52.6720155, u'lng': -8.5373025}  rivers  \n",
       "3     {u'lat': 52.680501, u'lng': -8.5008587}  rivers  \n",
       "4    {u'lat': 50.4038213, u'lng': -4.2174708}  rivers  "
      ]
     },
     "execution_count": 78,
     "metadata": {},
     "output_type": "execute_result"
    }
   ],
   "source": [
    "geocorpora_query_results.head()"
   ]
  },
  {
   "cell_type": "code",
   "execution_count": 22,
   "metadata": {},
   "outputs": [
    {
     "name": "stdout",
     "output_type": "stream",
     "text": [
      "{u'country': u'Nigeria', u'ISO_3166-1_alpha-2': u'NG', u'_type': u'state', u'country_code': u'ng', u'state': u'Rivers'}\n",
      "{u'MGRS': u'32NKL6270635529', u'callingcode': 234, u'sun': {u'rise': {u'civil': 1515302460, u'astronomical': 1515299340, u'apparent': 1515303780, u'nautical': 1515300900}, u'set': {u'civil': 1515347820, u'astronomical': 1515350940, u'apparent': 1515346500, u'nautical': 1515349380}}, u'Maidenhead': u'JJ34ku31fx', u'currency': {u'html_entity': u'&#x20A6;', u'name': u'Nigerian Naira', u'alternate_symbols': [], u'subunit_to_unit': 100, u'symbol_first': 1, u'thousands_separator': u',', u'decimal_mark': u'.', u'iso_numeric': 566, u'smallest_denomination': 50, u'iso_code': u'NGN', u'subunit': u'Kobo', u'symbol': u'₦'}, u'flag': u'🇳🇬', u'DMS': {u'lat': u'4° 50' 29.77008'' N', u'lng': u'6° 51' 37.47168'' E'}, u'geohash': u's0ugs17s7h5tdjtgsbd0', u'what3words': {u'words': u'outstrips.usual.incubation'}, u'Mercator': {u'y': 536003.525, u'x': 763697.214}, u'timezone': {u'offset_sec': 3600, u'offset_string': 100, u'now_in_dst': 0, u'name': u'Africa/Lagos', u'short_name': u'WAT'}, u'wikidata': u'Q503923', u'qibla': 59.53, u'OSM': {u'url': u'https://www.openstreetmap.org/?mlat=4.84160&mlon=6.86041#map=17/4.84160/6.86041', u'edit_url': u'https://www.openstreetmap.org/edit?relation=3720743#map=17/4.84160/6.86041'}}\n"
     ]
    }
   ],
   "source": [
    "print(geocorpora_query_results.loc[:, 'components'][0])\n",
    "print(geocorpora_query_results.loc[:, 'annotations'][0])"
   ]
  },
  {
   "cell_type": "markdown",
   "metadata": {},
   "source": [
    "Let's use the annotations if possible because they give us an exact reference in Wikidata. We'll back off to DBPedia if Wikidata doesn't have the right info."
   ]
  },
  {
   "cell_type": "code",
   "execution_count": 87,
   "metadata": {},
   "outputs": [
    {
     "name": "stdout",
     "output_type": "stream",
     "text": [
      "3918\n",
      "21135\n"
     ]
    }
   ],
   "source": [
    "# count available references\n",
    "links_to_wikidata = geocorpora_query_results.loc[:, 'annotations'].apply(lambda x: x.get('wikidata'))\n",
    "links_to_wikidata = links_to_wikidata.apply(lambda x: x is not None)\n",
    "print(len(links_to_wikidata[links_to_wikidata]))\n",
    "print(len(links_to_wikidata))"
   ]
  },
  {
   "cell_type": "markdown",
   "metadata": {},
   "source": [
    "Oh wow, so less than 25% of all queries returned can link to Wikidata. Hm. I guess we can use those for the first pass and then get the rest from DBPedia later."
   ]
  },
  {
   "cell_type": "code",
   "execution_count": 111,
   "metadata": {},
   "outputs": [],
   "source": [
    "import requests\n",
    "import json\n",
    "DEFAULT_QUERY = \"\"\"\n",
    "    PREFIX rdfs: <http://www.w3.org/2000/01/rdf-schema#> \n",
    "    PREFIX wd: <http://www.wikidata.org/entity/> \n",
    "    SELECT ?o\n",
    "    WHERE {\n",
    "    #  wd:Q503923 rdfs:label ?label .\n",
    "      <http://www.wikidata.org/entity/Q503923> ?p ?o\n",
    "    } \n",
    "    \"\"\"\n",
    "WIKI_URL = \"https://query.wikidata.org/sparql?query=%s&format=JSON\"\n",
    "def query_wikidata(wikidata_ID):\n",
    "    \"\"\"\n",
    "    Query Wikidata for population if available.\n",
    "    \"\"\"\n",
    "    WIKI_QUERY = \"\"\"SELECT ?pop\n",
    "    WHERE {\n",
    "        wd:%s wdt:P1082 ?pop\n",
    "    }\"\"\"%(wikidata_ID)\n",
    "    WIKI_QUERY_FULL = WIKI_URL%(WIKI_QUERY)\n",
    "    headers = {\"Accept\" : \"application/json\"}\n",
    "    req = requests.get(WIKI_QUERY_FULL, headers=headers)\n",
    "    req_json = req.json()\n",
    "    return(req_json)\n",
    "def get_pop(wikidata_ID):\n",
    "    query_result = query_wikidata(wikidata_ID)['results']['bindings']\n",
    "    if(len(query_result) > 0):\n",
    "        pop = int(query_result[0]['pop']['value'])\n",
    "    else:\n",
    "        pop = -1\n",
    "    return(pop)"
   ]
  },
  {
   "cell_type": "code",
   "execution_count": 104,
   "metadata": {},
   "outputs": [
    {
     "name": "stdout",
     "output_type": "stream",
     "text": [
      "{u'head': {u'vars': [u'pop']}, u'results': {u'bindings': [{u'pop': {u'datatype': u'http://www.w3.org/2001/XMLSchema#decimal', u'type': u'literal', u'value': u'5198716'}}]}}\n",
      "5198716\n"
     ]
    }
   ],
   "source": [
    "test_ID = 'Q503923'\n",
    "test_req = query_wikidata(test_ID)\n",
    "print(test_req)\n",
    "test_pop = get_pop(test_ID)\n",
    "print(test_pop)"
   ]
  },
  {
   "cell_type": "code",
   "execution_count": 105,
   "metadata": {},
   "outputs": [
    {
     "name": "stdout",
     "output_type": "stream",
     "text": [
      "3563 unique wiki IDs\n"
     ]
    }
   ],
   "source": [
    "# get all population stats\n",
    "geocorpora_query_results_with_wiki = geocorpora_query_results[links_to_wikidata]\n",
    "unique_wiki_IDs = geocorpora_query_results_with_wiki.loc[:, 'annotations'].apply(lambda x: x['wikidata']).unique()\n",
    "print('%d unique wiki IDs'%(len(unique_wiki_IDs)))"
   ]
  },
  {
   "cell_type": "code",
   "execution_count": 112,
   "metadata": {},
   "outputs": [
    {
     "name": "stdout",
     "output_type": "stream",
     "text": [
      "processed 0 unique IDs\n",
      "processed 100 unique IDs\n",
      "processed 200 unique IDs\n",
      "processed 300 unique IDs\n",
      "processed 400 unique IDs\n",
      "processed 500 unique IDs\n",
      "processed 600 unique IDs\n",
      "processed 700 unique IDs\n",
      "processed 800 unique IDs\n",
      "processed 900 unique IDs\n",
      "processed 1000 unique IDs\n",
      "processed 1100 unique IDs\n",
      "processed 1200 unique IDs\n",
      "processed 1300 unique IDs\n",
      "processed 1400 unique IDs\n",
      "processed 1500 unique IDs\n",
      "processed 1600 unique IDs\n",
      "processed 1700 unique IDs\n",
      "processed 1800 unique IDs\n",
      "processed 1900 unique IDs\n",
      "processed 2000 unique IDs\n",
      "processed 2100 unique IDs\n",
      "processed 2200 unique IDs\n",
      "processed 2300 unique IDs\n",
      "processed 2400 unique IDs\n",
      "processed 2500 unique IDs\n",
      "processed 2600 unique IDs\n",
      "processed 2700 unique IDs\n",
      "processed 2800 unique IDs\n",
      "processed 2900 unique IDs\n",
      "processed 3000 unique IDs\n",
      "processed 3100 unique IDs\n",
      "processed 3200 unique IDs\n",
      "processed 3300 unique IDs\n",
      "processed 3400 unique IDs\n",
      "processed 3500 unique IDs\n"
     ]
    }
   ],
   "source": [
    "wiki_pops = {}\n",
    "for i, wiki_ID in enumerate(unique_wiki_IDs):\n",
    "    wiki_pop = get_pop(wiki_ID)\n",
    "    wiki_pops[wiki_ID] = wiki_pop\n",
    "    if(i % 100 == 0):\n",
    "        print('processed %d unique IDs'%(i))"
   ]
  },
  {
   "cell_type": "code",
   "execution_count": 133,
   "metadata": {},
   "outputs": [
    {
     "name": "stdout",
     "output_type": "stream",
     "text": [
      "2150/3563 valid pops\n"
     ]
    },
    {
     "data": {
      "image/png": "[encoded data removed]",
      "text/plain": [
       "<matplotlib.figure.Figure at 0x7fe012c6a690>"
      ]
     },
     "metadata": {},
     "output_type": "display_data"
    }
   ],
   "source": [
    "# display population distribution\n",
    "wiki_pop_ser = pd.Series(wiki_pops)\n",
    "# get rid of inaccessible stuff\n",
    "wiki_pop_valid = wiki_pop_ser[wiki_pop_ser > 0]\n",
    "print('%d/%d valid pops'%(len(wiki_pop_valid), len(wiki_pop_ser)))\n",
    "plt.hist(wiki_pop_valid, bins=100)\n",
    "plt.show()"
   ]
  },
  {
   "cell_type": "markdown",
   "metadata": {},
   "source": [
    "Log-transform might show distribution better."
   ]
  },
  {
   "cell_type": "code",
   "execution_count": 134,
   "metadata": {},
   "outputs": [
    {
     "data": {
      "image/png": "[encoded data removed]",
      "text/plain": [
       "<matplotlib.figure.Figure at 0x7fe0d5352a90>"
      ]
     },
     "metadata": {},
     "output_type": "display_data"
    }
   ],
   "source": [
    "plt.hist(pd.np.log10(wiki_pop_valid), bins=100)\n",
    "plt.show()"
   ]
  },
  {
   "cell_type": "markdown",
   "metadata": {},
   "source": [
    "There we go! Log-population follows a normal distribution."
   ]
  },
  {
   "cell_type": "code",
   "execution_count": 135,
   "metadata": {},
   "outputs": [
    {
     "name": "stdout",
     "output_type": "stream",
     "text": [
      "Q6522749      3\n",
      "Q3475688      5\n",
      "Q16464952    10\n",
      "Q4892743     11\n",
      "Q4512420     17\n",
      "Q2193813     23\n",
      "Q576936      23\n",
      "Q67363       29\n",
      "Q2316274     31\n",
      "Q20664252    32\n",
      "Q126318      34\n",
      "Q164133      36\n",
      "Q1959011     39\n",
      "Q28121       40\n",
      "Q1934037     41\n",
      "Q934783      43\n",
      "Q1510107     48\n",
      "Q2788855     49\n",
      "Q1376083     49\n",
      "Q7137175     51\n",
      "dtype: int64\n",
      "Q928       100981437\n",
      "Q4478      101391000\n",
      "Q1165      103804637\n",
      "Q40556     115000000\n",
      "Q17        127110047\n",
      "Q96        130526945\n",
      "Q159       146804372\n",
      "Q902       156594962\n",
      "Q843       182142594\n",
      "Q1033      182202000\n",
      "Q1498      199581477\n",
      "Q155       200361925\n",
      "Q252       249865631\n",
      "Q30        323952889\n",
      "Q49        565265000\n",
      "Q46        741447158\n",
      "Q15       1100000000\n",
      "Q668      1339180127\n",
      "Q148      1409517397\n",
      "Q48       4164252000\n",
      "dtype: int64\n"
     ]
    }
   ],
   "source": [
    "wiki_pop_valid.sort_values(inplace=True, ascending=True)\n",
    "print(wiki_pop_valid.head(20))\n",
    "print(wiki_pop_valid.tail(20))"
   ]
  },
  {
   "cell_type": "code",
   "execution_count": 136,
   "metadata": {},
   "outputs": [],
   "source": [
    "# join to data so we can tell wtf is going on\n",
    "geocorpora_query_results_with_wiki.loc[:, 'wikidata_ID'] = geocorpora_query_results_with_wiki.loc[:, 'annotations'].apply(lambda x: x['wikidata'])"
   ]
  },
  {
   "cell_type": "code",
   "execution_count": 138,
   "metadata": {},
   "outputs": [
    {
     "name": "stdout",
     "output_type": "stream",
     "text": [
      "           wikidata_pop wikidata_ID\n",
      "Q6522749              3    Q6522749\n",
      "Q3475688              5    Q3475688\n",
      "Q16464952            10   Q16464952\n",
      "Q4892743             11    Q4892743\n",
      "Q4512420             17    Q4512420\n",
      "                                         annotations  \\\n",
      "0  {u'MGRS': u'32NKL6270635529', u'sun': {u'rise'...   \n",
      "1  {u'MGRS': u'32NKL6270635529', u'sun': {u'rise'...   \n",
      "2  {u'MGRS': u'32PLR9026461351', u'sun': {u'rise'...   \n",
      "3  {u'MGRS': u'16SEB1587780000', u'sun': {u'rise'...   \n",
      "4  {u'MGRS': u'17TQH1233974829', u'sun': {u'rise'...   \n",
      "\n",
      "                                              bounds  \\\n",
      "0  {u'northeast': {u'lat': 5.7300358, u'lng': 7.5...   \n",
      "1  {u'northeast': {u'lat': 5.7300358, u'lng': 7.5...   \n",
      "2  {u'northeast': {u'lat': 13.885645, u'lng': 14....   \n",
      "3  {u'northeast': {u'lat': 35.0081121, u'lng': -8...   \n",
      "4  {u'northeast': {u'lat': 43.116448, u'lng': -78...   \n",
      "\n",
      "                                          components  confidence  \\\n",
      "0  {u'country': u'Nigeria', u'ISO_3166-1_alpha-2'...           1   \n",
      "1  {u'country': u'Nigeria', u'ISO_3166-1_alpha-2'...           1   \n",
      "2  {u'country': u'Nigeria', u'ISO_3166-1_alpha-2'...           1   \n",
      "3  {u'ISO_3166-1_alpha-2': u'US', u'country': u'U...           1   \n",
      "4  {u'ISO_3166-1_alpha-2': u'US', u'country': u'U...           7   \n",
      "\n",
      "                                           formatted  \\\n",
      "0                                    Rivers, Nigeria   \n",
      "1                                    Rivers, Nigeria   \n",
      "2                                            Nigeria   \n",
      "3                  Alabama, United States of America   \n",
      "4  Alabama, Genesee County, New York, United Stat...   \n",
      "\n",
      "                                    geometry         query wikidata_ID  \\\n",
      "0     {u'lat': 4.8416028, u'lng': 6.8604088}        rivers     Q503923   \n",
      "1     {u'lat': 4.8416028, u'lng': 6.8604088}  rivers state     Q503923   \n",
      "2     {u'lat': 9.6000359, u'lng': 7.9999721}       nigeria       Q1033   \n",
      "3  {u'lat': 33.2588817, u'lng': -86.8295337}       alabama        Q173   \n",
      "4    {u'lat': 43.096448, u'lng': -78.390856}       alabama    Q3709658   \n",
      "\n",
      "   wikidata_pop  \n",
      "0       5198716  \n",
      "1       5198716  \n",
      "2     182202000  \n",
      "3       4779736  \n",
      "4          1869  \n"
     ]
    }
   ],
   "source": [
    "wiki_pop_valid_df = pd.DataFrame(wiki_pop_valid)\n",
    "wiki_pop_valid_df.columns = ['wikidata_pop']\n",
    "wiki_pop_valid_df.loc[:, 'wikidata_ID'] = wiki_pop_valid_df.index.tolist()\n",
    "print(wiki_pop_valid_df.head())\n",
    "geocorpora_query_results_with_pop = pd.merge(geocorpora_query_results_with_wiki, wiki_pop_valid_df, on='wikidata_ID')\n",
    "print(geocorpora_query_results_with_pop.head())"
   ]
  },
  {
   "cell_type": "markdown",
   "metadata": {},
   "source": [
    "OK great! Now we can write to file."
   ]
  },
  {
   "cell_type": "code",
   "execution_count": 141,
   "metadata": {},
   "outputs": [],
   "source": [
    "pop_out_file = '../../data/geo_files/population_data/wikidata_population.tsv'\n",
    "wiki_pop_valid_df.to_csv(pop_out_file, sep='\\t', index=False)"
   ]
  },
  {
   "cell_type": "markdown",
   "metadata": {},
   "source": [
    "## Get number of alternative names\n",
    "Another common feature for toponym resolution is the number of alternative names that a location has.\n",
    "\n",
    "TODO: We can proxy this feature from DBPedia which has a \"SameAs\" feature with alternative names and non-English language pages."
   ]
  },
  {
   "cell_type": "code",
   "execution_count": null,
   "metadata": {},
   "outputs": [],
   "source": [
    "from SPARQLWrapper import SPARQLWrapper\n"
   ]
  },
  {
   "cell_type": "markdown",
   "metadata": {},
   "source": [
    "We can also get this info from Wikidata based on number of non-English pages."
   ]
  },
  {
   "cell_type": "code",
   "execution_count": 142,
   "metadata": {},
   "outputs": [],
   "source": [
    "def query_wikidata_other_pages(wikidata_ID):\n",
    "    \"\"\"\n",
    "    Query Wikidata for population if available.\n",
    "    \"\"\"\n",
    "    WIKI_QUERY = \"\"\"SELECT (count(?lang) as ?numLang) WHERE { \n",
    "        wd:%s rdfs:label ?label . \n",
    "        filter(!langmatches(lang(?label), 'en')) bind(lang(?label) as ?lang) \n",
    "        }\n",
    "    \"\"\"%(wikidata_ID)\n",
    "    WIKI_QUERY_FULL = WIKI_URL%(WIKI_QUERY)\n",
    "    headers = {\"Accept\" : \"application/json\"}\n",
    "    req = requests.get(WIKI_QUERY_FULL, headers=headers)\n",
    "    req_json = req.json()\n",
    "    lang_count = int(req_json['results']['bindings'][0]['numLang']['value'])\n",
    "    return(lang_count)"
   ]
  },
  {
   "cell_type": "code",
   "execution_count": 143,
   "metadata": {},
   "outputs": [
    {
     "name": "stdout",
     "output_type": "stream",
     "text": [
      "{u'head': {u'vars': [u'numLang']}, u'results': {u'bindings': [{u'numLang': {u'datatype': u'http://www.w3.org/2001/XMLSchema#integer', u'type': u'literal', u'value': u'52'}}]}}\n"
     ]
    }
   ],
   "source": [
    "test_id = 'Q503923'\n",
    "test_json = query_wikidata_other_pages(test_id)\n",
    "print(test_json)"
   ]
  }
 ],
 "metadata": {
  "kernelspec": {
   "display_name": "Python 2",
   "language": "python",
   "name": "python2"
  },
  "language_info": {
   "codemirror_mode": {
    "name": "ipython",
    "version": 2
   },
   "file_extension": ".py",
   "mimetype": "text/x-python",
   "name": "python",
   "nbconvert_exporter": "python",
   "pygments_lexer": "ipython2",
   "version": "2.7.10"
  }
 },
 "nbformat": 4,
 "nbformat_minor": 2
}
