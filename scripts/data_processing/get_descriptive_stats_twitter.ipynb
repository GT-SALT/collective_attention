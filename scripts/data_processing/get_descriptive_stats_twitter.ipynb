{
 "cells": [
  {
   "cell_type": "markdown",
   "metadata": {},
   "source": [
    "# Get descriptive stats for Twitter data"
   ]
  },
  {
   "cell_type": "markdown",
   "metadata": {},
   "source": [
    "Get descriptive stats for all Twitter data."
   ]
  },
  {
   "cell_type": "code",
   "execution_count": 1,
   "metadata": {},
   "outputs": [],
   "source": [
    "import pandas as pd\n",
    "import numpy as np"
   ]
  },
  {
   "cell_type": "markdown",
   "metadata": {},
   "source": [
    "## Load data\n",
    "After processing data [here](collect_validate_NEs_in_tweets.py), we can load it."
   ]
  },
  {
   "cell_type": "code",
   "execution_count": 2,
   "metadata": {},
   "outputs": [],
   "source": [
    "combined_data = pd.read_csv('../../data/mined_tweets/combined_tweet_tag_data_NE_flat_valid.gz', sep='\\t', index_col=False, compression='gzip')"
   ]
  },
  {
   "cell_type": "markdown",
   "metadata": {},
   "source": [
    "## Total tweets, NEs per data source"
   ]
  },
  {
   "cell_type": "code",
   "execution_count": 7,
   "metadata": {
    "scrolled": true
   },
   "outputs": [
    {
     "data": {
      "text/plain": [
       "LOCATION                     505773\n",
       "PERSON                       323781\n",
       "other                        117692\n",
       "company                       54120\n",
       "band                          48118\n",
       "movie                         45056\n",
       "O                             38079\n",
       "facility                      31647\n",
       "ORGANIZATION                  23229\n",
       "product                       20781\n",
       "tvshow                        19054\n",
       "NUMBER                        18694\n",
       "CAUSE_OF_DEATH                16082\n",
       "sportsteam                    12198\n",
       "COUNTRY                        7122\n",
       "CITY                           5970\n",
       "NONE                           5614\n",
       "MISC                           5584\n",
       "DATE                           4163\n",
       "TITLE                          3402\n",
       "STATE_OR_PROVINCE              3252\n",
       "PERCENT                         595\n",
       "MONEY                           573\n",
       "NATIONALITY                     556\n",
       "IDEOLOGY                        196\n",
       "CRIMINAL_CHARGE                  98\n",
       "RELIGION                         73\n",
       "ENTITY                           64\n",
       "ORDINAL                          63\n",
       "DURATION                         34\n",
       "ENTITY:1.1630607266203141         2\n",
       "ENTITY:0.0                        1\n",
       "Name: NE_type, dtype: int64"
      ]
     },
     "execution_count": 7,
     "metadata": {},
     "output_type": "execute_result"
    }
   ],
   "source": [
    "combined_data.loc[:, 'NE_type'].value_counts()"
   ]
  },
  {
   "cell_type": "code",
   "execution_count": 8,
   "metadata": {
    "scrolled": true
   },
   "outputs": [
    {
     "data": {
      "text/plain": [
       "data_name_fixed\n",
       "florence     66595\n",
       "harvey      679400\n",
       "irma        809423\n",
       "maria       313088\n",
       "michael      52506\n",
       "dtype: int64"
      ]
     },
     "metadata": {},
     "output_type": "display_data"
    },
    {
     "data": {
      "text/plain": [
       "data_name_fixed\n",
       "florence     28670\n",
       "harvey      181636\n",
       "irma        229315\n",
       "maria        57237\n",
       "michael      22007\n",
       "dtype: int64"
      ]
     },
     "metadata": {},
     "output_type": "display_data"
    },
    {
     "data": {
      "text/plain": [
       "data_name_fixed\n",
       "florence     9971\n",
       "harvey      71500\n",
       "irma        67298\n",
       "maria        7185\n",
       "michael      8509\n",
       "dtype: int64"
      ]
     },
     "metadata": {},
     "output_type": "display_data"
    }
   ],
   "source": [
    "group_var = 'data_name_fixed'\n",
    "LOC_TYPES = set(['LOCATION', 'COUNTRY', 'CITY'])\n",
    "tweet_counts = combined_data.groupby(group_var).apply(lambda x: x.loc[:, 'id'].nunique())\n",
    "NE_counts = combined_data.groupby(group_var).apply(lambda x: x[(x.loc[:, 'NE_fixed']!='') & (x.loc[:, 'NE_type'].isin(LOC_TYPES))].loc[:, 'NE_fixed'].shape[0])\n",
    "valid_NE_counts = combined_data.groupby(group_var).apply(lambda x: x[x.loc[:, 'valid_loc']==1].loc[:, 'NE_fixed'].shape[0])\n",
    "display(tweet_counts)\n",
    "display(NE_counts)\n",
    "display(valid_NE_counts)"
   ]
  },
  {
   "cell_type": "markdown",
   "metadata": {},
   "source": [
    "## Get top NEs per data source"
   ]
  },
  {
   "cell_type": "code",
   "execution_count": 18,
   "metadata": {
    "scrolled": true
   },
   "outputs": [
    {
     "data": {
      "text/plain": [
       "data_name_fixed\n",
       "florence    [north_carolina, nc, #florence, wilmington, south_carolina, sc, florence, carolina, new_bern, ca...\n",
       "harvey             [texas, houston, tx, #houston, corpus_christi, louisiana, rockport, austin, mexico, america]\n",
       "irma                         [florida, miami, fl, cuba, puerto_rico, tampa, naples, georgia, orlando, key_west]\n",
       "maria                [puerto_rico, san_juan, florida, america, dominica, mexico, virgin_islands, texas, fl, tx]\n",
       "michael     [florida, panama_city, mexico_beach, fl, georgia, panhandle, tallahassee, panama_city_beach, bay...\n",
       "dtype: object"
      ]
     },
     "metadata": {},
     "output_type": "display_data"
    },
    {
     "data": {
      "text/plain": [
       "data_name_fixed\n",
       "florence    [wilmington, florence, carolina, new_bern, myrtle_beach, raleigh, fayetteville, charlotte, lumbe...\n",
       "harvey      [houston, corpus_christi, rockport, austin, dallas, san_antonio, galveston, port_aransas, new_or...\n",
       "irma        [miami, tampa, naples, orlando, marco_island, atlanta, jacksonville, miami_beach, houston, charl...\n",
       "maria             [san_juan, vieques, ponce, carolina, caguas, utuado, guaynabo, yabucoa, aguadilla, las_vegas]\n",
       "michael     [panama_city, mexico_beach, panhandle, tallahassee, panama_city_beach, bay_county, lynn_haven, g...\n",
       "dtype: object"
      ]
     },
     "metadata": {},
     "output_type": "display_data"
    }
   ],
   "source": [
    "pd.set_option('display.max_colwidth',100)\n",
    "top_k = 10\n",
    "combined_data_dedup = combined_data.drop_duplicates('id', inplace=False)\n",
    "top_NEs = combined_data.groupby(group_var).apply(lambda x: x[x.loc[:, 'NE_type'].isin(LOC_TYPES)].loc[:, 'NE_fixed'].value_counts()[:top_k].index.tolist())\n",
    "top_valid_NEs = combined_data.groupby(group_var).apply(lambda x: x[x.loc[:, 'valid_loc']==1].loc[:, 'NE_fixed'].value_counts()[:top_k].index.tolist())\n",
    "display(top_NEs)\n",
    "display(top_valid_NEs)"
   ]
  },
  {
   "cell_type": "markdown",
   "metadata": {},
   "source": [
    "## Get stats for power user data\n",
    "Let's do the same thing but for the power users."
   ]
  },
  {
   "cell_type": "code",
   "execution_count": 1,
   "metadata": {},
   "outputs": [],
   "source": [
    "import pandas as pd"
   ]
  },
  {
   "cell_type": "code",
   "execution_count": 2,
   "metadata": {},
   "outputs": [
    {
     "data": {
      "text/html": [
       "<div>\n",
       "<style scoped>\n",
       "    .dataframe tbody tr th:only-of-type {\n",
       "        vertical-align: middle;\n",
       "    }\n",
       "\n",
       "    .dataframe tbody tr th {\n",
       "        vertical-align: top;\n",
       "    }\n",
       "\n",
       "    .dataframe thead th {\n",
       "        text-align: right;\n",
       "    }\n",
       "</style>\n",
       "<table border=\"1\" class=\"dataframe\">\n",
       "  <thead>\n",
       "    <tr style=\"text-align: right;\">\n",
       "      <th></th>\n",
       "      <th>id</th>\n",
       "      <th>txt</th>\n",
       "      <th>data_name_fixed</th>\n",
       "      <th>username</th>\n",
       "      <th>date</th>\n",
       "      <th>lang</th>\n",
       "      <th>NE</th>\n",
       "      <th>NE_type</th>\n",
       "      <th>NE_LOC</th>\n",
       "      <th>valid_loc</th>\n",
       "      <th>NE_fixed</th>\n",
       "      <th>is_event_related</th>\n",
       "    </tr>\n",
       "  </thead>\n",
       "  <tbody>\n",
       "    <tr>\n",
       "      <td>21</td>\n",
       "      <td>1042132780015120384</td>\n",
       "      <td>Latest on the @santeecooper coal ash pits in C...</td>\n",
       "      <td>florence</td>\n",
       "      <td>AndyShain</td>\n",
       "      <td>2018-09-18 15:26:31</td>\n",
       "      <td>en</td>\n",
       "      <td>Conway</td>\n",
       "      <td>LOCATION</td>\n",
       "      <td>True</td>\n",
       "      <td>True</td>\n",
       "      <td>conway</td>\n",
       "      <td>True</td>\n",
       "    </tr>\n",
       "    <tr>\n",
       "      <td>23</td>\n",
       "      <td>1042132780015120384</td>\n",
       "      <td>Latest on the @santeecooper coal ash pits in C...</td>\n",
       "      <td>irma</td>\n",
       "      <td>AndyShain</td>\n",
       "      <td>2018-09-18 15:26:31</td>\n",
       "      <td>en</td>\n",
       "      <td>Conway</td>\n",
       "      <td>LOCATION</td>\n",
       "      <td>True</td>\n",
       "      <td>True</td>\n",
       "      <td>conway</td>\n",
       "      <td>True</td>\n",
       "    </tr>\n",
       "    <tr>\n",
       "      <td>25</td>\n",
       "      <td>1042132780015120384</td>\n",
       "      <td>Latest on the @santeecooper coal ash pits in C...</td>\n",
       "      <td>michael</td>\n",
       "      <td>AndyShain</td>\n",
       "      <td>2018-09-18 15:26:31</td>\n",
       "      <td>en</td>\n",
       "      <td>Conway</td>\n",
       "      <td>LOCATION</td>\n",
       "      <td>True</td>\n",
       "      <td>True</td>\n",
       "      <td>conway</td>\n",
       "      <td>True</td>\n",
       "    </tr>\n",
       "    <tr>\n",
       "      <td>35</td>\n",
       "      <td>1042126288805421063</td>\n",
       "      <td>SC #Florence briefing: Waccamaw River expected...</td>\n",
       "      <td>florence</td>\n",
       "      <td>AndyShain</td>\n",
       "      <td>2018-09-18 15:00:43</td>\n",
       "      <td>en</td>\n",
       "      <td>crest</td>\n",
       "      <td>LOCATION</td>\n",
       "      <td>True</td>\n",
       "      <td>True</td>\n",
       "      <td>crest</td>\n",
       "      <td>True</td>\n",
       "    </tr>\n",
       "    <tr>\n",
       "      <td>36</td>\n",
       "      <td>1042126288805421063</td>\n",
       "      <td>SC #Florence briefing: Waccamaw River expected...</td>\n",
       "      <td>florence</td>\n",
       "      <td>AndyShain</td>\n",
       "      <td>2018-09-18 15:00:43</td>\n",
       "      <td>en</td>\n",
       "      <td>Conway</td>\n",
       "      <td>LOCATION</td>\n",
       "      <td>True</td>\n",
       "      <td>True</td>\n",
       "      <td>conway</td>\n",
       "      <td>True</td>\n",
       "    </tr>\n",
       "  </tbody>\n",
       "</table>\n",
       "</div>"
      ],
      "text/plain": [
       "                     id                                                txt  \\\n",
       "21  1042132780015120384  Latest on the @santeecooper coal ash pits in C...   \n",
       "23  1042132780015120384  Latest on the @santeecooper coal ash pits in C...   \n",
       "25  1042132780015120384  Latest on the @santeecooper coal ash pits in C...   \n",
       "35  1042126288805421063  SC #Florence briefing: Waccamaw River expected...   \n",
       "36  1042126288805421063  SC #Florence briefing: Waccamaw River expected...   \n",
       "\n",
       "   data_name_fixed   username                 date lang      NE   NE_type  \\\n",
       "21        florence  AndyShain  2018-09-18 15:26:31   en  Conway  LOCATION   \n",
       "23            irma  AndyShain  2018-09-18 15:26:31   en  Conway  LOCATION   \n",
       "25         michael  AndyShain  2018-09-18 15:26:31   en  Conway  LOCATION   \n",
       "35        florence  AndyShain  2018-09-18 15:00:43   en   crest  LOCATION   \n",
       "36        florence  AndyShain  2018-09-18 15:00:43   en  Conway  LOCATION   \n",
       "\n",
       "    NE_LOC  valid_loc NE_fixed  is_event_related  \n",
       "21    True       True   conway              True  \n",
       "23    True       True   conway              True  \n",
       "25    True       True   conway              True  \n",
       "35    True       True    crest              True  \n",
       "36    True       True   conway              True  "
      ]
     },
     "metadata": {},
     "output_type": "display_data"
    }
   ],
   "source": [
    "import re\n",
    "power_user_data_full = pd.read_csv('../../data/mined_tweets/combined_data_power_user_NE_flat_valid.gz', sep='\\t', index_col=False, compression='gzip')\n",
    "# limit full data to event-related tweets\n",
    "data_name_var = 'data_name_fixed'\n",
    "data_name_matchers = {\n",
    "    name : re.compile(name) for name in power_user_data_full.loc[:, data_name_var].unique()\n",
    "}\n",
    "id_var = 'id'\n",
    "txt_var = 'txt'\n",
    "event_related_var = 'is_event_related'\n",
    "event_related = power_user_data_full.groupby(id_var).apply(lambda x: data_name_matchers[x.loc[:, data_name_var].iloc[0]].search(x.loc[:, 'txt'].iloc[0].lower()) is not None).reset_index().rename(columns={0 : event_related_var})\n",
    "power_user_data_full = pd.merge(power_user_data_full, event_related, on=id_var)\n",
    "# restrict to full data to LOCATION NEs\n",
    "LOC_TYPES = set(['LOCATION', 'COUNTRY', 'CITY'])\n",
    "power_user_data = power_user_data_full[(power_user_data_full.loc[:, 'NE_type'].isin(LOC_TYPES)) & (power_user_data_full.loc[:, 'valid_loc']==1)]\n",
    "display(power_user_data.head())"
   ]
  },
  {
   "cell_type": "code",
   "execution_count": 4,
   "metadata": {},
   "outputs": [],
   "source": [
    "# limit to event-related\n",
    "event_related_power_user_data_full = power_user_data_full[power_user_data_full.loc[:, event_related_var]==1]"
   ]
  },
  {
   "cell_type": "code",
   "execution_count": 6,
   "metadata": {},
   "outputs": [
    {
     "data": {
      "text/plain": [
       "data_name_fixed\n",
       "florence    17624\n",
       "harvey      31563\n",
       "irma        45913\n",
       "maria       11332\n",
       "michael      8828\n",
       "dtype: int64"
      ]
     },
     "metadata": {},
     "output_type": "display_data"
    }
   ],
   "source": [
    "# tweets\n",
    "data_name_var = 'data_name_fixed'\n",
    "id_var = 'id'\n",
    "display(event_related_power_user_data_full.groupby(data_name_var).apply(lambda x: x.loc[:, id_var].nunique()))"
   ]
  },
  {
   "cell_type": "code",
   "execution_count": 9,
   "metadata": {},
   "outputs": [
    {
     "data": {
      "text/plain": [
       "data_name_fixed\n",
       "florence    185\n",
       "harvey      164\n",
       "irma        178\n",
       "maria       115\n",
       "michael     136\n",
       "dtype: int64"
      ]
     },
     "metadata": {},
     "output_type": "display_data"
    }
   ],
   "source": [
    "# authors\n",
    "## NOTE! fewer than 200 authors because we subsetted by percentile: [95,100]\n",
    "author_var = 'username'\n",
    "display(event_related_power_user_data_full.groupby(data_name_var).apply(lambda x: x.loc[:, author_var].nunique()))"
   ]
  },
  {
   "cell_type": "code",
   "execution_count": 7,
   "metadata": {},
   "outputs": [
    {
     "data": {
      "text/plain": [
       "irma        77114\n",
       "harvey      50050\n",
       "florence    29066\n",
       "maria       18204\n",
       "michael     14655\n",
       "Name: data_name_fixed, dtype: int64"
      ]
     },
     "metadata": {},
     "output_type": "display_data"
    }
   ],
   "source": [
    "# LOC NEs\n",
    "data_name_var = 'data_name_fixed'\n",
    "display(event_related_power_user_data_full.loc[:, data_name_var].value_counts())"
   ]
  },
  {
   "cell_type": "code",
   "execution_count": 20,
   "metadata": {
    "scrolled": true
   },
   "outputs": [
    {
     "data": {
      "text/plain": [
       "data_name_fixed                \n",
       "florence         florence           828\n",
       "                 wilmington         771\n",
       "                 houston            638\n",
       "                 fayetteville       481\n",
       "                 charleston         477\n",
       "                 myrtle_beach       377\n",
       "                 alert              313\n",
       "                 lumberton          271\n",
       "                 new_bern           262\n",
       "                 charlotte          251\n",
       "harvey           houston           6166\n",
       "                 barcelona         1055\n",
       "                 miami              799\n",
       "                 corpus_christi     701\n",
       "                 rockport           624\n",
       "                 atlanta            617\n",
       "                 austin             546\n",
       "                 harvey             489\n",
       "                 dallas             432\n",
       "                 naples             416\n",
       "irma             houston           5263\n",
       "                 miami             2717\n",
       "                 white_house       1033\n",
       "                 naples             992\n",
       "                 atlanta            800\n",
       "                 tampa              776\n",
       "                 charleston         612\n",
       "                 marco_island       423\n",
       "                 jacksonville       422\n",
       "                 delhi              401\n",
       "maria            barcelona          244\n",
       "                 san_juan           240\n",
       "                 los_angeles        105\n",
       "                 san_francisco       94\n",
       "                 carolina            46\n",
       "                 san_jose            38\n",
       "                 union               33\n",
       "                 mayaguez            31\n",
       "                 vieques             24\n",
       "                 san_antonio         24\n",
       "michael          houston            598\n",
       "                 florence           223\n",
       "                 atlantic           163\n",
       "                 atlanta            161\n",
       "                 miami              160\n",
       "                 panama_city        138\n",
       "                 jacksonville       101\n",
       "                 center             100\n",
       "                 wilmington         100\n",
       "                 yale                98\n",
       "Name: NE_fixed, dtype: int64"
      ]
     },
     "metadata": {},
     "output_type": "display_data"
    }
   ],
   "source": [
    "# example NEs\n",
    "NE_var = 'NE_fixed'\n",
    "top_k = 10\n",
    "display(power_user_data.groupby(data_name_var).apply(lambda x: x.loc[:, NE_var].value_counts()[:top_k]))"
   ]
  }
 ],
 "metadata": {
  "kernelspec": {
   "display_name": "Python 3",
   "language": "python",
   "name": "python3"
  },
  "language_info": {
   "codemirror_mode": {
    "name": "ipython",
    "version": 3
   },
   "file_extension": ".py",
   "mimetype": "text/x-python",
   "name": "python",
   "nbconvert_exporter": "python",
   "pygments_lexer": "ipython3",
   "version": "3.6.7"
  }
 },
 "nbformat": 4,
 "nbformat_minor": 2
}
